{
 "cells": [
  {
   "cell_type": "code",
   "execution_count": 1,
   "id": "87f457f4",
   "metadata": {},
   "outputs": [],
   "source": [
    "import sqlite3"
   ]
  },
  {
   "cell_type": "code",
   "execution_count": 5,
   "id": "52a95702",
   "metadata": {},
   "outputs": [
    {
     "name": "stdout",
     "output_type": "stream",
     "text": [
      "[]\n"
     ]
    }
   ],
   "source": [
    "conn = sqlite3.connect('employee.db')\n",
    "c = conn.cursor()\n",
    "\n",
    "# c.execute(\"\"\"CREATE TABLE employees(\n",
    "# first text, last text, pay integer\n",
    "# )\"\"\")\n",
    "\n",
    "# c.execute(\"INSERT INTO employees VALUES('Corey','Schafer',50000)\")\n",
    "\n",
    "c.execute(\"SELECT * FROM employees WHERE last ='Schafer'\")\n",
    "print(c.fetchall())\n",
    "\n",
    "conn.commit()\n",
    "conn.close()"
   ]
  },
  {
   "cell_type": "code",
   "execution_count": 6,
   "id": "745123a7",
   "metadata": {},
   "outputs": [
    {
     "data": {
      "text/html": [
       "<div><strong>Dask DataFrame Structure:</strong></div>\n",
       "<div>\n",
       "<style scoped>\n",
       "    .dataframe tbody tr th:only-of-type {\n",
       "        vertical-align: middle;\n",
       "    }\n",
       "\n",
       "    .dataframe tbody tr th {\n",
       "        vertical-align: top;\n",
       "    }\n",
       "\n",
       "    .dataframe thead th {\n",
       "        text-align: right;\n",
       "    }\n",
       "</style>\n",
       "<table border=\"1\" class=\"dataframe\">\n",
       "  <thead>\n",
       "    <tr style=\"text-align: right;\">\n",
       "      <th></th>\n",
       "      <th>i</th>\n",
       "      <th>s</th>\n",
       "    </tr>\n",
       "    <tr>\n",
       "      <th>npartitions=2</th>\n",
       "      <th></th>\n",
       "      <th></th>\n",
       "    </tr>\n",
       "  </thead>\n",
       "  <tbody>\n",
       "    <tr>\n",
       "      <th>0</th>\n",
       "      <td>int64</td>\n",
       "      <td>object</td>\n",
       "    </tr>\n",
       "    <tr>\n",
       "      <th>2</th>\n",
       "      <td>...</td>\n",
       "      <td>...</td>\n",
       "    </tr>\n",
       "    <tr>\n",
       "      <th>3</th>\n",
       "      <td>...</td>\n",
       "      <td>...</td>\n",
       "    </tr>\n",
       "  </tbody>\n",
       "</table>\n",
       "</div>\n",
       "<div>Dask Name: from_pandas, 2 tasks</div>"
      ],
      "text/plain": [
       "Dask DataFrame Structure:\n",
       "                   i       s\n",
       "npartitions=2               \n",
       "0              int64  object\n",
       "2                ...     ...\n",
       "3                ...     ...\n",
       "Dask Name: from_pandas, 2 tasks"
      ]
     },
     "execution_count": 6,
     "metadata": {},
     "output_type": "execute_result"
    }
   ],
   "source": [
    "import pandas as pd\n",
    "import dask.dataframe as dd\n",
    "df = pd.DataFrame([ {'i':i, 's':str(i)*2 } for i in range(4) ])\n",
    "ddf = dd.from_pandas(df, npartitions=2)\n",
    "ddf  \n"
   ]
  },
  {
   "cell_type": "code",
   "execution_count": 8,
   "id": "8edfd71a",
   "metadata": {},
   "outputs": [
    {
     "data": {
      "text/plain": [
       "[(0, 0, '00'), (1, 1, '11'), (2, 2, '22'), (3, 3, '33')]"
      ]
     },
     "execution_count": 8,
     "metadata": {},
     "output_type": "execute_result"
    }
   ],
   "source": [
    "from dask.utils import tmpfile\n",
    "from sqlalchemy import create_engine\n",
    "with tmpfile() as f:\n",
    "    db = 'sqlite:///%s' %f\n",
    "    ddf.to_sql('test', db)\n",
    "    engine = create_engine(db, echo=False)\n",
    "    result = engine.execute(\"SELECT * FROM test\").fetchall()\n",
    "result"
   ]
  }
 ],
 "metadata": {
  "kernelspec": {
   "display_name": "Python 3 (ipykernel)",
   "language": "python",
   "name": "python3"
  },
  "language_info": {
   "codemirror_mode": {
    "name": "ipython",
    "version": 3
   },
   "file_extension": ".py",
   "mimetype": "text/x-python",
   "name": "python",
   "nbconvert_exporter": "python",
   "pygments_lexer": "ipython3",
   "version": "3.9.7"
  }
 },
 "nbformat": 4,
 "nbformat_minor": 5
}

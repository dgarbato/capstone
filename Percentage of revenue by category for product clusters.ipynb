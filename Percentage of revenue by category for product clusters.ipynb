{
 "cells": [
  {
   "cell_type": "code",
   "execution_count": 1,
   "id": "9d4b147e",
   "metadata": {},
   "outputs": [],
   "source": [
    "import pandas as pd \n",
    "import numpy as np"
   ]
  },
  {
   "cell_type": "code",
   "execution_count": 2,
   "id": "32180dfc",
   "metadata": {},
   "outputs": [],
   "source": [
    "import matplotlib.pyplot as plt\n",
    "%matplotlib inline\n",
    "import seaborn as sns"
   ]
  },
  {
   "cell_type": "code",
   "execution_count": 3,
   "id": "14ad923c",
   "metadata": {},
   "outputs": [],
   "source": [
    "from freq_pd import proc_freq"
   ]
  },
  {
   "cell_type": "code",
   "execution_count": 4,
   "id": "3b820698",
   "metadata": {},
   "outputs": [],
   "source": [
    "final_clusters = pd.read_csv(r'C:\\Users\\dgarb\\OneDrive\\Desktop\\Capstone Data\\liquor_2021\\final_clusters22.csv',dtype={'Item_Number':str}, index_col=0)"
   ]
  },
  {
   "cell_type": "code",
   "execution_count": 5,
   "id": "2b69bb27",
   "metadata": {},
   "outputs": [],
   "source": [
    "tdtypes = {'Store_Number':str,'Vendor_Number':str,'Item_Number':str, 'Category':str}"
   ]
  },
  {
   "cell_type": "code",
   "execution_count": 6,
   "id": "9d0513c0",
   "metadata": {},
   "outputs": [],
   "source": [
    "trans = pd.read_csv(r'C:\\Users\\dgarb\\OneDrive\\Desktop\\Capstone Data\\liquor_2021\\transactions_2021.csv',dtype=tdtypes, index_col=0)"
   ]
  },
  {
   "cell_type": "code",
   "execution_count": 7,
   "id": "d8b460a1",
   "metadata": {},
   "outputs": [],
   "source": [
    "stores = pd.read_csv(r'C:\\Users\\dgarb\\OneDrive\\Desktop\\Capstone Data\\liquor_2021\\stores_2021.csv',index_col=0, dtype={'Zip_Code':str,'Store_Number':str})"
   ]
  },
  {
   "cell_type": "code",
   "execution_count": 8,
   "id": "9d214f00",
   "metadata": {},
   "outputs": [],
   "source": [
    "stdtypes = {'Store_Number':str,'Vendor_Number':str,'Item_Number':str, 'Category':str,\n",
    "            'Zip_Code':str}"
   ]
  },
  {
   "cell_type": "code",
   "execution_count": 9,
   "id": "840013f0",
   "metadata": {},
   "outputs": [],
   "source": [
    "store_trans = stores.merge(trans, how='inner', on=['Store_Number'])"
   ]
  },
  {
   "cell_type": "code",
   "execution_count": 10,
   "id": "69328c98",
   "metadata": {},
   "outputs": [],
   "source": [
    "store_trans_cluster = store_trans[['Store_Number',\n",
    " 'Store_Name',\n",
    " 'Address',\n",
    " 'City',\n",
    " 'Zip_Code',\n",
    " 'Store_Location',\n",
    " 'County_Number',\n",
    " 'County',\n",
    " 'Vendor_Number',\n",
    " 'Item_Number','Category','Sales']].merge(final_clusters, how='inner', on=['Item_Number'])"
   ]
  },
  {
   "cell_type": "code",
   "execution_count": 11,
   "id": "db74d57f",
   "metadata": {},
   "outputs": [],
   "source": [
    "\n",
    "store_trans_cluster = store_trans_cluster.rename(columns={'Sales':'revenue'})"
   ]
  },
  {
   "cell_type": "code",
   "execution_count": 12,
   "id": "41ded200",
   "metadata": {},
   "outputs": [
    {
     "data": {
      "text/plain": [
       "(2473851, 15)"
      ]
     },
     "execution_count": 12,
     "metadata": {},
     "output_type": "execute_result"
    }
   ],
   "source": [
    "store_trans_cluster.shape"
   ]
  },
  {
   "cell_type": "markdown",
   "id": "5979e017",
   "metadata": {},
   "source": [
    "#### format to make commas show in numeric features"
   ]
  },
  {
   "cell_type": "code",
   "execution_count": 13,
   "id": "469e3b0a",
   "metadata": {},
   "outputs": [],
   "source": [
    "pd.set_option('display.float_format', lambda x: '%.2f' % x)\n",
    "pd.options.display.float_format = '{:,}'.format"
   ]
  },
  {
   "cell_type": "code",
   "execution_count": 14,
   "id": "48b7ab81",
   "metadata": {},
   "outputs": [
    {
     "data": {
      "text/html": [
       "<div>\n",
       "<style scoped>\n",
       "    .dataframe tbody tr th:only-of-type {\n",
       "        vertical-align: middle;\n",
       "    }\n",
       "\n",
       "    .dataframe tbody tr th {\n",
       "        vertical-align: top;\n",
       "    }\n",
       "\n",
       "    .dataframe thead th {\n",
       "        text-align: right;\n",
       "    }\n",
       "</style>\n",
       "<table border=\"1\" class=\"dataframe\">\n",
       "  <thead>\n",
       "    <tr style=\"text-align: right;\">\n",
       "      <th></th>\n",
       "      <th>Store_Number</th>\n",
       "      <th>Store_Name</th>\n",
       "      <th>Address</th>\n",
       "      <th>City</th>\n",
       "      <th>Zip_Code</th>\n",
       "      <th>Store_Location</th>\n",
       "      <th>County_Number</th>\n",
       "      <th>County</th>\n",
       "      <th>Vendor_Number</th>\n",
       "      <th>Item_Number</th>\n",
       "      <th>Category</th>\n",
       "      <th>revenue</th>\n",
       "      <th>Item_Description</th>\n",
       "      <th>cluster_name</th>\n",
       "      <th>New_Category_Name</th>\n",
       "    </tr>\n",
       "  </thead>\n",
       "  <tbody>\n",
       "    <tr>\n",
       "      <th>0</th>\n",
       "      <td>3855</td>\n",
       "      <td>Dyno's Wine and Spirits / Storm Lake</td>\n",
       "      <td>1201 1/2 Lakeshore Dr</td>\n",
       "      <td>Storm Lake</td>\n",
       "      <td>50588</td>\n",
       "      <td>NaN</td>\n",
       "      <td>11</td>\n",
       "      <td>BUENA VIST</td>\n",
       "      <td>035</td>\n",
       "      <td>88296</td>\n",
       "      <td>1022200</td>\n",
       "      <td>123.75</td>\n",
       "      <td>Patron Silver</td>\n",
       "      <td>Popular_Bottles</td>\n",
       "      <td>Tequila</td>\n",
       "    </tr>\n",
       "    <tr>\n",
       "      <th>1</th>\n",
       "      <td>4589</td>\n",
       "      <td>Dyno's #53 / Sibley</td>\n",
       "      <td>1026 2nd Ave</td>\n",
       "      <td>Sibley</td>\n",
       "      <td>51249</td>\n",
       "      <td>POINT (-95.752119 43.397431)</td>\n",
       "      <td>72</td>\n",
       "      <td>OSCEOLA</td>\n",
       "      <td>035</td>\n",
       "      <td>88296</td>\n",
       "      <td>1022200</td>\n",
       "      <td>82.5</td>\n",
       "      <td>Patron Silver</td>\n",
       "      <td>Popular_Bottles</td>\n",
       "      <td>Tequila</td>\n",
       "    </tr>\n",
       "    <tr>\n",
       "      <th>2</th>\n",
       "      <td>5566</td>\n",
       "      <td>East End Liquor &amp; Tobacco</td>\n",
       "      <td>3804 Hubbell Ave</td>\n",
       "      <td>Des Moines</td>\n",
       "      <td>50317</td>\n",
       "      <td>POINT (-93.541351 41.630849)</td>\n",
       "      <td>77</td>\n",
       "      <td>POLK</td>\n",
       "      <td>035</td>\n",
       "      <td>88296</td>\n",
       "      <td>1022200</td>\n",
       "      <td>990.0</td>\n",
       "      <td>Patron Silver</td>\n",
       "      <td>Popular_Bottles</td>\n",
       "      <td>Tequila</td>\n",
       "    </tr>\n",
       "    <tr>\n",
       "      <th>3</th>\n",
       "      <td>4755</td>\n",
       "      <td>Walgreens #05941 / Mason City</td>\n",
       "      <td>1251 4th St SW</td>\n",
       "      <td>Mason City</td>\n",
       "      <td>50401</td>\n",
       "      <td>POINT (-93.220422 43.148333)</td>\n",
       "      <td>17</td>\n",
       "      <td>CERRO GORD</td>\n",
       "      <td>035</td>\n",
       "      <td>88296</td>\n",
       "      <td>1022200</td>\n",
       "      <td>495.0</td>\n",
       "      <td>Patron Silver</td>\n",
       "      <td>Popular_Bottles</td>\n",
       "      <td>Tequila</td>\n",
       "    </tr>\n",
       "    <tr>\n",
       "      <th>4</th>\n",
       "      <td>5167</td>\n",
       "      <td>New Star Liquor &amp; Tobacco  / Ft Dodg</td>\n",
       "      <td>1724 5th  Ave S</td>\n",
       "      <td>Fort Dodge</td>\n",
       "      <td>50501</td>\n",
       "      <td>POINT (-94.173816 42.501131)</td>\n",
       "      <td>94</td>\n",
       "      <td>WEBSTER</td>\n",
       "      <td>035</td>\n",
       "      <td>88296</td>\n",
       "      <td>1022200</td>\n",
       "      <td>495.0</td>\n",
       "      <td>Patron Silver</td>\n",
       "      <td>Popular_Bottles</td>\n",
       "      <td>Tequila</td>\n",
       "    </tr>\n",
       "  </tbody>\n",
       "</table>\n",
       "</div>"
      ],
      "text/plain": [
       "  Store_Number                            Store_Name                Address  \\\n",
       "0         3855  Dyno's Wine and Spirits / Storm Lake  1201 1/2 Lakeshore Dr   \n",
       "1         4589                   Dyno's #53 / Sibley           1026 2nd Ave   \n",
       "2         5566             East End Liquor & Tobacco       3804 Hubbell Ave   \n",
       "3         4755         Walgreens #05941 / Mason City         1251 4th St SW   \n",
       "4         5167  New Star Liquor & Tobacco  / Ft Dodg        1724 5th  Ave S   \n",
       "\n",
       "         City Zip_Code                Store_Location  County_Number  \\\n",
       "0  Storm Lake    50588                           NaN             11   \n",
       "1      Sibley    51249  POINT (-95.752119 43.397431)             72   \n",
       "2  Des Moines    50317  POINT (-93.541351 41.630849)             77   \n",
       "3  Mason City    50401  POINT (-93.220422 43.148333)             17   \n",
       "4  Fort Dodge    50501  POINT (-94.173816 42.501131)             94   \n",
       "\n",
       "       County Vendor_Number Item_Number Category  revenue Item_Description  \\\n",
       "0  BUENA VIST           035       88296  1022200   123.75    Patron Silver   \n",
       "1     OSCEOLA           035       88296  1022200     82.5    Patron Silver   \n",
       "2        POLK           035       88296  1022200    990.0    Patron Silver   \n",
       "3  CERRO GORD           035       88296  1022200    495.0    Patron Silver   \n",
       "4     WEBSTER           035       88296  1022200    495.0    Patron Silver   \n",
       "\n",
       "      cluster_name New_Category_Name  \n",
       "0  Popular_Bottles           Tequila  \n",
       "1  Popular_Bottles           Tequila  \n",
       "2  Popular_Bottles           Tequila  \n",
       "3  Popular_Bottles           Tequila  \n",
       "4  Popular_Bottles           Tequila  "
      ]
     },
     "execution_count": 14,
     "metadata": {},
     "output_type": "execute_result"
    }
   ],
   "source": [
    "store_trans_cluster.head()"
   ]
  },
  {
   "cell_type": "code",
   "execution_count": 15,
   "id": "61b303ac",
   "metadata": {},
   "outputs": [
    {
     "data": {
      "text/plain": [
       "Most_Variety         2199\n",
       "Moderately_High       877\n",
       "Volume_For_Dollar     454\n",
       "Quick_Shots           436\n",
       "High_End              157\n",
       "Cheap                 136\n",
       "Popular_Bottles        42\n",
       "Name: cluster_name, dtype: int64"
      ]
     },
     "execution_count": 15,
     "metadata": {},
     "output_type": "execute_result"
    }
   ],
   "source": [
    "final_clusters.cluster_name.value_counts() "
   ]
  },
  {
   "cell_type": "code",
   "execution_count": 16,
   "id": "2d594ef8",
   "metadata": {},
   "outputs": [],
   "source": [
    "# final_clusters.New_Category_Name.value_counts(normalize=True).round(4) *100"
   ]
  },
  {
   "cell_type": "code",
   "execution_count": 17,
   "id": "ff63c024",
   "metadata": {},
   "outputs": [],
   "source": [
    "# ['Temporary & Specialty Packages','Special Order Items',]"
   ]
  },
  {
   "cell_type": "code",
   "execution_count": 18,
   "id": "588e9050",
   "metadata": {},
   "outputs": [],
   "source": [
    "# final_clusters.loc[final_clusters.cluster_name== 'Most_Variety']['New_Category_Name'].value_counts(normalize=True)"
   ]
  },
  {
   "cell_type": "code",
   "execution_count": 19,
   "id": "d77bc3a6",
   "metadata": {},
   "outputs": [],
   "source": [
    "# final_clusters.loc[final_clusters.cluster_name== 'Moderately_High']['New_Category_Name'].value_counts(normalize=True)"
   ]
  },
  {
   "cell_type": "code",
   "execution_count": 20,
   "id": "063b196a",
   "metadata": {},
   "outputs": [],
   "source": [
    "# final_clusters.loc[final_clusters.cluster_name== 'Volume_For_Dollar']['New_Category_Name'].value_counts(normalize=True)"
   ]
  },
  {
   "cell_type": "code",
   "execution_count": 21,
   "id": "c4767d11",
   "metadata": {},
   "outputs": [],
   "source": [
    "# final_clusters.loc[final_clusters.cluster_name== 'Quick_Shots']['New_Category_Name'].value_counts(normalize=True)      "
   ]
  },
  {
   "cell_type": "code",
   "execution_count": 22,
   "id": "5666b2c8",
   "metadata": {},
   "outputs": [],
   "source": [
    "# final_clusters.loc[final_clusters.cluster_name == 'High_End']['New_Category_Name'].value_counts(normalize=True)      "
   ]
  },
  {
   "cell_type": "code",
   "execution_count": 23,
   "id": "80b92bb2",
   "metadata": {},
   "outputs": [],
   "source": [
    "# final_clusters.loc[final_clusters.cluster_name== 'Cheap']['New_Category_Name'].value_counts(normalize=True)"
   ]
  },
  {
   "cell_type": "code",
   "execution_count": 24,
   "id": "af1fb217",
   "metadata": {},
   "outputs": [],
   "source": [
    "# final_clusters.loc[final_clusters.cluster_name== 'Popular_Bottles']['New_Category_Name'].value_counts(normalize=True)"
   ]
  },
  {
   "cell_type": "code",
   "execution_count": 25,
   "id": "e3a96e34",
   "metadata": {},
   "outputs": [
    {
     "data": {
      "text/html": [
       "<div>\n",
       "<style scoped>\n",
       "    .dataframe tbody tr th:only-of-type {\n",
       "        vertical-align: middle;\n",
       "    }\n",
       "\n",
       "    .dataframe tbody tr th {\n",
       "        vertical-align: top;\n",
       "    }\n",
       "\n",
       "    .dataframe thead th {\n",
       "        text-align: right;\n",
       "    }\n",
       "</style>\n",
       "<table border=\"1\" class=\"dataframe\">\n",
       "  <thead>\n",
       "    <tr style=\"text-align: right;\">\n",
       "      <th></th>\n",
       "      <th>Item_Number</th>\n",
       "      <th>Item_Description</th>\n",
       "      <th>cluster_name</th>\n",
       "      <th>New_Category_Name</th>\n",
       "    </tr>\n",
       "  </thead>\n",
       "  <tbody>\n",
       "    <tr>\n",
       "      <th>2772</th>\n",
       "      <td>88296</td>\n",
       "      <td>Patron Silver</td>\n",
       "      <td>Popular_Bottles</td>\n",
       "      <td>Tequila</td>\n",
       "    </tr>\n",
       "  </tbody>\n",
       "</table>\n",
       "</div>"
      ],
      "text/plain": [
       "     Item_Number Item_Description     cluster_name New_Category_Name\n",
       "2772       88296    Patron Silver  Popular_Bottles           Tequila"
      ]
     },
     "execution_count": 25,
     "metadata": {},
     "output_type": "execute_result"
    }
   ],
   "source": [
    "final_clusters.loc[(final_clusters.cluster_name== 'Popular_Bottles') & (final_clusters.New_Category_Name == 'Tequila')]"
   ]
  },
  {
   "cell_type": "markdown",
   "id": "806c5be9",
   "metadata": {},
   "source": [
    "## look at within cluster revenue by category"
   ]
  },
  {
   "cell_type": "code",
   "execution_count": 26,
   "id": "87df4379",
   "metadata": {},
   "outputs": [
    {
     "name": "stdout",
     "output_type": "stream",
     "text": [
      "<class 'pandas.core.frame.DataFrame'>\n",
      "Int64Index: 2473851 entries, 0 to 2473850\n",
      "Data columns (total 15 columns):\n",
      " #   Column             Dtype  \n",
      "---  ------             -----  \n",
      " 0   Store_Number       object \n",
      " 1   Store_Name         object \n",
      " 2   Address            object \n",
      " 3   City               object \n",
      " 4   Zip_Code           object \n",
      " 5   Store_Location     object \n",
      " 6   County_Number      int64  \n",
      " 7   County             object \n",
      " 8   Vendor_Number      object \n",
      " 9   Item_Number        object \n",
      " 10  Category           object \n",
      " 11  revenue            float64\n",
      " 12  Item_Description   object \n",
      " 13  cluster_name       object \n",
      " 14  New_Category_Name  object \n",
      "dtypes: float64(1), int64(1), object(13)\n",
      "memory usage: 302.0+ MB\n"
     ]
    }
   ],
   "source": [
    "store_trans_cluster.info() "
   ]
  },
  {
   "cell_type": "code",
   "execution_count": 27,
   "id": "9288f0b5",
   "metadata": {},
   "outputs": [],
   "source": [
    "# round(store_trans_cluster.groupby(['New_Category_Name'])['revenue'].sum() / store_trans_cluster.revenue.sum()*100,2).to_frame().sort_values(by='revenue', ascending=False)"
   ]
  },
  {
   "cell_type": "code",
   "execution_count": 28,
   "id": "c7c22981",
   "metadata": {},
   "outputs": [
    {
     "data": {
      "text/plain": [
       "(2473851, 15)"
      ]
     },
     "execution_count": 28,
     "metadata": {},
     "output_type": "execute_result"
    }
   ],
   "source": [
    "store_trans_cluster.shape"
   ]
  },
  {
   "cell_type": "code",
   "execution_count": 29,
   "id": "d5e659e9",
   "metadata": {},
   "outputs": [
    {
     "data": {
      "text/plain": [
       "array(['Tequila', 'Whiskies', 'Whiskey Liqueur', 'Scotch', 'Rum',\n",
       "       'Bourbon', 'Liquers', 'Vodkas', 'Gin', 'Brandies',\n",
       "       'Neutral Grain Spirits', 'Schnapps',\n",
       "       'Neutral Grain Spirits Flavored', 'Cocktails',\n",
       "       'Temporary & Specialty Packages', 'Triple Sec',\n",
       "       'American Distilled Spirits Specialty', 'Mezcal',\n",
       "       'Special Order Items', 'Imported Distilled Spirits Specialty',\n",
       "       'Distilled Spirits Specialty'], dtype=object)"
      ]
     },
     "execution_count": 29,
     "metadata": {},
     "output_type": "execute_result"
    }
   ],
   "source": [
    "store_trans_cluster.New_Category_Name.unique()"
   ]
  },
  {
   "cell_type": "code",
   "execution_count": 30,
   "id": "6984af1f",
   "metadata": {},
   "outputs": [],
   "source": [
    "list_other = ['Temporary & Specialty Packages', 'Neutral Grain Spirits Flavored', 'Neutral Grain Spirits', 'American Distilled Spirits Specialty', \n",
    " 'Imported Distilled Spirits Specialty', 'Special Order Items', 'Distilled Spirits Specialty']\n"
   ]
  },
  {
   "cell_type": "code",
   "execution_count": 31,
   "id": "b354d98e",
   "metadata": {},
   "outputs": [],
   "source": [
    "# ['yes' if v == 1 else 'no' if v == 2 else 'idle' for v in l]\n",
    "# len(['Other' if categ in list_other else 'Whiskies' if categ=='Bourbon' else categ for categ in store_trans_cluster.New_Category_Name])"
   ]
  },
  {
   "cell_type": "code",
   "execution_count": 32,
   "id": "68ac2553",
   "metadata": {},
   "outputs": [
    {
     "data": {
      "text/plain": [
       "2473851"
      ]
     },
     "execution_count": 32,
     "metadata": {},
     "output_type": "execute_result"
    }
   ],
   "source": [
    "len(['Other' if categ in list_other else 'Whiskies' if categ in['Bourbon','Scotch'] else 'Liquers' if categ =='Whiskey Liqueur' else categ for categ in store_trans_cluster.New_Category_Name])"
   ]
  },
  {
   "cell_type": "code",
   "execution_count": 33,
   "id": "e4bc0741",
   "metadata": {},
   "outputs": [],
   "source": [
    "# ['Other' if categ in list_other else categ for categ in store_trans_cluster.New_Category_Name]\n",
    "store_trans_cluster['New_Category_Name_2'] = ['Other' if categ in list_other else 'Whiskies' if categ in['Bourbon','Scotch'] else 'Liquers' if categ =='Whiskey Liqueur' else categ for categ in store_trans_cluster.New_Category_Name]"
   ]
  },
  {
   "cell_type": "code",
   "execution_count": 34,
   "id": "081122e6",
   "metadata": {},
   "outputs": [
    {
     "data": {
      "text/plain": [
       "(2473851, 16)"
      ]
     },
     "execution_count": 34,
     "metadata": {},
     "output_type": "execute_result"
    }
   ],
   "source": [
    "store_trans_cluster.shape"
   ]
  },
  {
   "cell_type": "code",
   "execution_count": 35,
   "id": "95720913",
   "metadata": {},
   "outputs": [],
   "source": [
    "df_iowa = store_trans_cluster.groupby(['New_Category_Name_2'])['revenue'].sum().to_frame().sort_values(by='revenue', ascending=False).reset_index()"
   ]
  },
  {
   "cell_type": "code",
   "execution_count": 36,
   "id": "e756c7ff",
   "metadata": {},
   "outputs": [
    {
     "data": {
      "text/html": [
       "<div>\n",
       "<style scoped>\n",
       "    .dataframe tbody tr th:only-of-type {\n",
       "        vertical-align: middle;\n",
       "    }\n",
       "\n",
       "    .dataframe tbody tr th {\n",
       "        vertical-align: top;\n",
       "    }\n",
       "\n",
       "    .dataframe thead th {\n",
       "        text-align: right;\n",
       "    }\n",
       "</style>\n",
       "<table border=\"1\" class=\"dataframe\">\n",
       "  <thead>\n",
       "    <tr style=\"text-align: right;\">\n",
       "      <th></th>\n",
       "      <th>New_Category_Name_2</th>\n",
       "      <th>revenue</th>\n",
       "    </tr>\n",
       "  </thead>\n",
       "  <tbody>\n",
       "    <tr>\n",
       "      <th>0</th>\n",
       "      <td>Whiskies</td>\n",
       "      <td>132,649,399.71</td>\n",
       "    </tr>\n",
       "    <tr>\n",
       "      <th>1</th>\n",
       "      <td>Vodkas</td>\n",
       "      <td>91,382,837.79</td>\n",
       "    </tr>\n",
       "    <tr>\n",
       "      <th>2</th>\n",
       "      <td>Liquers</td>\n",
       "      <td>44,773,688.67</td>\n",
       "    </tr>\n",
       "    <tr>\n",
       "      <th>3</th>\n",
       "      <td>Rum</td>\n",
       "      <td>41,110,701.22</td>\n",
       "    </tr>\n",
       "    <tr>\n",
       "      <th>4</th>\n",
       "      <td>Tequila</td>\n",
       "      <td>34,143,642.03</td>\n",
       "    </tr>\n",
       "    <tr>\n",
       "      <th>5</th>\n",
       "      <td>Brandies</td>\n",
       "      <td>20,968,680.43</td>\n",
       "    </tr>\n",
       "    <tr>\n",
       "      <th>6</th>\n",
       "      <td>Other</td>\n",
       "      <td>17,378,956.34</td>\n",
       "    </tr>\n",
       "    <tr>\n",
       "      <th>7</th>\n",
       "      <td>Schnapps</td>\n",
       "      <td>12,902,411.73</td>\n",
       "    </tr>\n",
       "    <tr>\n",
       "      <th>8</th>\n",
       "      <td>Gin</td>\n",
       "      <td>9,700,133.75</td>\n",
       "    </tr>\n",
       "    <tr>\n",
       "      <th>9</th>\n",
       "      <td>Cocktails</td>\n",
       "      <td>8,699,530.52</td>\n",
       "    </tr>\n",
       "    <tr>\n",
       "      <th>10</th>\n",
       "      <td>Triple Sec</td>\n",
       "      <td>848,208.02</td>\n",
       "    </tr>\n",
       "    <tr>\n",
       "      <th>11</th>\n",
       "      <td>Mezcal</td>\n",
       "      <td>430,727.73</td>\n",
       "    </tr>\n",
       "  </tbody>\n",
       "</table>\n",
       "</div>"
      ],
      "text/plain": [
       "   New_Category_Name_2        revenue\n",
       "0             Whiskies 132,649,399.71\n",
       "1               Vodkas  91,382,837.79\n",
       "2              Liquers  44,773,688.67\n",
       "3                  Rum  41,110,701.22\n",
       "4              Tequila  34,143,642.03\n",
       "5             Brandies  20,968,680.43\n",
       "6                Other  17,378,956.34\n",
       "7             Schnapps  12,902,411.73\n",
       "8                  Gin   9,700,133.75\n",
       "9            Cocktails   8,699,530.52\n",
       "10          Triple Sec     848,208.02\n",
       "11              Mezcal     430,727.73"
      ]
     },
     "execution_count": 36,
     "metadata": {},
     "output_type": "execute_result"
    }
   ],
   "source": [
    "df_iowa"
   ]
  },
  {
   "cell_type": "markdown",
   "id": "9145b4ef",
   "metadata": {},
   "source": [
    "### Graph Sales for the state of Iowa"
   ]
  },
  {
   "cell_type": "code",
   "execution_count": 86,
   "id": "8db77ced",
   "metadata": {},
   "outputs": [
    {
     "data": {
      "text/plain": [
       "[Text(0.5, 1.0, 'Spirts Sales Revenue To The State Of Iowa')]"
      ]
     },
     "execution_count": 86,
     "metadata": {},
     "output_type": "execute_result"
    },
    {
     "data": {
      "image/png": "[encoded data removed]",
      "text/plain": [
       "<Figure size 1080x576 with 1 Axes>"
      ]
     },
     "metadata": {},
     "output_type": "display_data"
    }
   ],
   "source": [
    "sns.set(font_scale=1.5)\n",
    "sns.set(rc = {'figure.figsize':(15,8)},font_scale=1.7)\n",
    "sns.set_color_codes(\"pastel\")\n",
    "bar = sns.barplot(x=\"revenue\", y=\"New_Category_Name_2\", data=df_iowa,\n",
    "            label=\"Total\", color=\"b\")\n",
    "# bar.set(xlim=(0,100),ylabel='Store Type',xlabel='Percent of Cluster')\n",
    "bar.set_xlabel('Revenue',fontsize=15)\n",
    "bar.set_ylabel('',fontsize=15)\n",
    "   \n",
    "# bar.set(xlim=(0,100))\n",
    "bar.set(title='Spirts Sales Revenue To The State Of Iowa')\n"
   ]
  },
  {
   "cell_type": "code",
   "execution_count": 38,
   "id": "170cd499",
   "metadata": {},
   "outputs": [],
   "source": [
    "# ['yes' if v == 1 else 'no' if v == 2 else 'idle' for v in l]\n",
    "\n",
    "# len(['Other' if categ in list_other else categ for categ in store_trans_cluster.New_Category_Name])\n",
    "# store_trans_cluster['New_Category_Name_2'] = ['Other' if categ in list_other else categ for categ in store_trans_cluster.New_Category_Name]"
   ]
  },
  {
   "cell_type": "code",
   "execution_count": 39,
   "id": "9b786a0c",
   "metadata": {},
   "outputs": [],
   "source": [
    "# iowa = round(store_trans_cluster.groupby(['New_Category_Name_2'])['revenue'].sum() / store_trans_cluster.revenue.sum()*100,2).to_frame().sort_values(by='revenue', ascending=False).reset_index()"
   ]
  },
  {
   "cell_type": "code",
   "execution_count": 40,
   "id": "9c93fff4",
   "metadata": {},
   "outputs": [],
   "source": [
    "# ['Vodkas','Whiskies','Rum','Whiskey Liqueur','Tequila']\n",
    "# [Whiskies,Vodkas,Rum,Tequila,Liquers]"
   ]
  },
  {
   "cell_type": "code",
   "execution_count": 41,
   "id": "e701237c",
   "metadata": {},
   "outputs": [],
   "source": [
    "# sns.set(font_scale=1.5)\n",
    "# sns.set(rc = {'figure.figsize':(15,8)},font_scale=1.5)\n",
    "# sns.set_color_codes(\"pastel\")\n",
    "# bar = sns.barplot(x=\"revenue\", y=\"New_Category_Name_2\", data=iowa,\n",
    "#             label=\"Total\", color=\"b\")\n",
    "# # bar.set(xlim=(0,100),ylabel='Store Type',xlabel='Percent of Cluster')\n",
    "# bar.set_xlabel('Percent of Total State Revenue',fontsize=15)\n",
    "# bar.set_ylabel('Category',fontsize=15)\n",
    "   \n",
    "# bar.set(xlim=(0,100))\n",
    "# bar.set(title='Iowa')\n"
   ]
  },
  {
   "cell_type": "code",
   "execution_count": 42,
   "id": "349e63b3",
   "metadata": {},
   "outputs": [
    {
     "data": {
      "text/plain": [
       "(2473851, 16)"
      ]
     },
     "execution_count": 42,
     "metadata": {},
     "output_type": "execute_result"
    }
   ],
   "source": [
    "store_trans_cluster.shape"
   ]
  },
  {
   "cell_type": "code",
   "execution_count": 43,
   "id": "5bf0af7f",
   "metadata": {},
   "outputs": [],
   "source": [
    "clust_dict ={'Cheap':'Moderately Priced', 'High_End':'High End', 'Moderately_High':'Expensive', \n",
    "             'Most_Variety':'Most Variety', 'Popular_Bottles':'Popular Bottles','Quick_Shots':'Quick Shots',\n",
    "            'Volume_For_Dollar':'Volume For Dollar'}\n",
    "\n",
    "\n",
    "store_trans_cluster['New_Cluster_Name'] = store_trans_cluster['cluster_name'].map(clust_dict)"
   ]
  },
  {
   "cell_type": "code",
   "execution_count": 44,
   "id": "8fded458",
   "metadata": {},
   "outputs": [],
   "source": [
    "tot_revenue_clusters = store_trans_cluster.groupby(['New_Cluster_Name']).agg({'revenue':'sum'})"
   ]
  },
  {
   "cell_type": "code",
   "execution_count": 45,
   "id": "c564dfea",
   "metadata": {},
   "outputs": [],
   "source": [
    "tot_revenue_clusters = tot_revenue_clusters.reset_index()"
   ]
  },
  {
   "cell_type": "code",
   "execution_count": 46,
   "id": "452c9bfa",
   "metadata": {},
   "outputs": [
    {
     "data": {
      "text/html": [
       "<div>\n",
       "<style scoped>\n",
       "    .dataframe tbody tr th:only-of-type {\n",
       "        vertical-align: middle;\n",
       "    }\n",
       "\n",
       "    .dataframe tbody tr th {\n",
       "        vertical-align: top;\n",
       "    }\n",
       "\n",
       "    .dataframe thead th {\n",
       "        text-align: right;\n",
       "    }\n",
       "</style>\n",
       "<table border=\"1\" class=\"dataframe\">\n",
       "  <thead>\n",
       "    <tr style=\"text-align: right;\">\n",
       "      <th></th>\n",
       "      <th>cluster_name</th>\n",
       "      <th>cluster_total_revenue</th>\n",
       "    </tr>\n",
       "  </thead>\n",
       "  <tbody>\n",
       "    <tr>\n",
       "      <th>0</th>\n",
       "      <td>Expensive</td>\n",
       "      <td>24,300,662.05</td>\n",
       "    </tr>\n",
       "    <tr>\n",
       "      <th>1</th>\n",
       "      <td>High End</td>\n",
       "      <td>3,388,663.93</td>\n",
       "    </tr>\n",
       "    <tr>\n",
       "      <th>2</th>\n",
       "      <td>Moderately Priced</td>\n",
       "      <td>91,438,354.48</td>\n",
       "    </tr>\n",
       "    <tr>\n",
       "      <th>3</th>\n",
       "      <td>Most Variety</td>\n",
       "      <td>94,427,582.37</td>\n",
       "    </tr>\n",
       "    <tr>\n",
       "      <th>4</th>\n",
       "      <td>Popular Bottles</td>\n",
       "      <td>110,869,602.64</td>\n",
       "    </tr>\n",
       "    <tr>\n",
       "      <th>5</th>\n",
       "      <td>Quick Shots</td>\n",
       "      <td>14,908,410.26</td>\n",
       "    </tr>\n",
       "    <tr>\n",
       "      <th>6</th>\n",
       "      <td>Volume For Dollar</td>\n",
       "      <td>75,655,642.21</td>\n",
       "    </tr>\n",
       "  </tbody>\n",
       "</table>\n",
       "</div>"
      ],
      "text/plain": [
       "        cluster_name  cluster_total_revenue\n",
       "0          Expensive          24,300,662.05\n",
       "1           High End           3,388,663.93\n",
       "2  Moderately Priced          91,438,354.48\n",
       "3       Most Variety          94,427,582.37\n",
       "4    Popular Bottles         110,869,602.64\n",
       "5        Quick Shots          14,908,410.26\n",
       "6  Volume For Dollar          75,655,642.21"
      ]
     },
     "execution_count": 46,
     "metadata": {},
     "output_type": "execute_result"
    }
   ],
   "source": [
    "# rename columns\n",
    "tot_revenue_clusters.columns = ['cluster_name','cluster_total_revenue']\n",
    "tot_revenue_clusters"
   ]
  },
  {
   "cell_type": "code",
   "execution_count": 47,
   "id": "024027e6",
   "metadata": {},
   "outputs": [],
   "source": [
    "clust_dict ={'Cheap':'Moderately Priced', 'High_End':'High End', 'Moderately_High':'Expensive', \n",
    "             'Most_Variety':'Most Variety', 'Popular_Bottles':'Popular Bottles','Quick_Shots':'Quick Shots',\n",
    "            'Volume_For_Dollar':'Volume For Dollar'}\n",
    "\n",
    "\n",
    "store_trans_cluster['New_Cluster_Name'] = store_trans_cluster['cluster_name'].map(clust_dict)"
   ]
  },
  {
   "cell_type": "code",
   "execution_count": 48,
   "id": "3cdb81e7",
   "metadata": {},
   "outputs": [],
   "source": [
    "cluster_revenue_by_New_Category_Name = store_trans_cluster.groupby(['New_Cluster_Name','New_Category_Name_2']).agg({'revenue':'sum','Item_Number':'nunique'})  "
   ]
  },
  {
   "cell_type": "code",
   "execution_count": 49,
   "id": "b1b97f4c",
   "metadata": {},
   "outputs": [],
   "source": [
    "cluster_revenue_by_New_Category_Name = cluster_revenue_by_New_Category_Name.reset_index()"
   ]
  },
  {
   "cell_type": "code",
   "execution_count": 50,
   "id": "e7a11c45",
   "metadata": {},
   "outputs": [
    {
     "data": {
      "text/html": [
       "<div>\n",
       "<style scoped>\n",
       "    .dataframe tbody tr th:only-of-type {\n",
       "        vertical-align: middle;\n",
       "    }\n",
       "\n",
       "    .dataframe tbody tr th {\n",
       "        vertical-align: top;\n",
       "    }\n",
       "\n",
       "    .dataframe thead th {\n",
       "        text-align: right;\n",
       "    }\n",
       "</style>\n",
       "<table border=\"1\" class=\"dataframe\">\n",
       "  <thead>\n",
       "    <tr style=\"text-align: right;\">\n",
       "      <th></th>\n",
       "      <th>New_Cluster_Name</th>\n",
       "      <th>New_Category_Name_2</th>\n",
       "      <th>revenue</th>\n",
       "      <th>Item_Number</th>\n",
       "    </tr>\n",
       "  </thead>\n",
       "  <tbody>\n",
       "    <tr>\n",
       "      <th>0</th>\n",
       "      <td>Expensive</td>\n",
       "      <td>Brandies</td>\n",
       "      <td>1,705,715.32</td>\n",
       "      <td>32</td>\n",
       "    </tr>\n",
       "    <tr>\n",
       "      <th>1</th>\n",
       "      <td>Expensive</td>\n",
       "      <td>Cocktails</td>\n",
       "      <td>42,339.96</td>\n",
       "      <td>2</td>\n",
       "    </tr>\n",
       "    <tr>\n",
       "      <th>2</th>\n",
       "      <td>Expensive</td>\n",
       "      <td>Gin</td>\n",
       "      <td>59,314.7</td>\n",
       "      <td>17</td>\n",
       "    </tr>\n",
       "    <tr>\n",
       "      <th>3</th>\n",
       "      <td>Expensive</td>\n",
       "      <td>Liquers</td>\n",
       "      <td>1,194,593.43</td>\n",
       "      <td>20</td>\n",
       "    </tr>\n",
       "    <tr>\n",
       "      <th>4</th>\n",
       "      <td>Expensive</td>\n",
       "      <td>Mezcal</td>\n",
       "      <td>165,191.14</td>\n",
       "      <td>28</td>\n",
       "    </tr>\n",
       "  </tbody>\n",
       "</table>\n",
       "</div>"
      ],
      "text/plain": [
       "  New_Cluster_Name New_Category_Name_2      revenue  Item_Number\n",
       "0        Expensive            Brandies 1,705,715.32           32\n",
       "1        Expensive           Cocktails    42,339.96            2\n",
       "2        Expensive                 Gin     59,314.7           17\n",
       "3        Expensive             Liquers 1,194,593.43           20\n",
       "4        Expensive              Mezcal   165,191.14           28"
      ]
     },
     "execution_count": 50,
     "metadata": {},
     "output_type": "execute_result"
    }
   ],
   "source": [
    "pd.set_option('display.max_columns', None)\n",
    "\n",
    "pd.set_option('display.max_rows', None)\n",
    "\n",
    "cluster_revenue_by_New_Category_Name.head() #New_Category_Name_2"
   ]
  },
  {
   "cell_type": "code",
   "execution_count": 51,
   "id": "14ba336d",
   "metadata": {},
   "outputs": [
    {
     "data": {
      "text/html": [
       "<div>\n",
       "<style scoped>\n",
       "    .dataframe tbody tr th:only-of-type {\n",
       "        vertical-align: middle;\n",
       "    }\n",
       "\n",
       "    .dataframe tbody tr th {\n",
       "        vertical-align: top;\n",
       "    }\n",
       "\n",
       "    .dataframe thead th {\n",
       "        text-align: right;\n",
       "    }\n",
       "</style>\n",
       "<table border=\"1\" class=\"dataframe\">\n",
       "  <thead>\n",
       "    <tr style=\"text-align: right;\">\n",
       "      <th></th>\n",
       "      <th>cluster_name</th>\n",
       "      <th>New_Category_Name_2</th>\n",
       "      <th>revenue</th>\n",
       "      <th>Item_Number</th>\n",
       "    </tr>\n",
       "  </thead>\n",
       "  <tbody>\n",
       "    <tr>\n",
       "      <th>0</th>\n",
       "      <td>Expensive</td>\n",
       "      <td>Brandies</td>\n",
       "      <td>1,705,715.32</td>\n",
       "      <td>32</td>\n",
       "    </tr>\n",
       "    <tr>\n",
       "      <th>1</th>\n",
       "      <td>Expensive</td>\n",
       "      <td>Cocktails</td>\n",
       "      <td>42,339.96</td>\n",
       "      <td>2</td>\n",
       "    </tr>\n",
       "    <tr>\n",
       "      <th>2</th>\n",
       "      <td>Expensive</td>\n",
       "      <td>Gin</td>\n",
       "      <td>59,314.7</td>\n",
       "      <td>17</td>\n",
       "    </tr>\n",
       "    <tr>\n",
       "      <th>3</th>\n",
       "      <td>Expensive</td>\n",
       "      <td>Liquers</td>\n",
       "      <td>1,194,593.43</td>\n",
       "      <td>20</td>\n",
       "    </tr>\n",
       "    <tr>\n",
       "      <th>4</th>\n",
       "      <td>Expensive</td>\n",
       "      <td>Mezcal</td>\n",
       "      <td>165,191.14</td>\n",
       "      <td>28</td>\n",
       "    </tr>\n",
       "  </tbody>\n",
       "</table>\n",
       "</div>"
      ],
      "text/plain": [
       "  cluster_name New_Category_Name_2      revenue  Item_Number\n",
       "0    Expensive            Brandies 1,705,715.32           32\n",
       "1    Expensive           Cocktails    42,339.96            2\n",
       "2    Expensive                 Gin     59,314.7           17\n",
       "3    Expensive             Liquers 1,194,593.43           20\n",
       "4    Expensive              Mezcal   165,191.14           28"
      ]
     },
     "execution_count": 51,
     "metadata": {},
     "output_type": "execute_result"
    }
   ],
   "source": [
    "# rename columns\n",
    "cluster_revenue_by_New_Category_Name.columns = ['cluster_name','New_Category_Name_2','revenue','Item_Number']\n",
    "cluster_revenue_by_New_Category_Name.head()"
   ]
  },
  {
   "cell_type": "code",
   "execution_count": 52,
   "id": "8a2fc7f4",
   "metadata": {},
   "outputs": [
    {
     "data": {
      "text/html": [
       "<div>\n",
       "<style scoped>\n",
       "    .dataframe tbody tr th:only-of-type {\n",
       "        vertical-align: middle;\n",
       "    }\n",
       "\n",
       "    .dataframe tbody tr th {\n",
       "        vertical-align: top;\n",
       "    }\n",
       "\n",
       "    .dataframe thead th {\n",
       "        text-align: right;\n",
       "    }\n",
       "</style>\n",
       "<table border=\"1\" class=\"dataframe\">\n",
       "  <thead>\n",
       "    <tr style=\"text-align: right;\">\n",
       "      <th></th>\n",
       "      <th>cluster_name</th>\n",
       "      <th>cluster_total_revenue</th>\n",
       "    </tr>\n",
       "  </thead>\n",
       "  <tbody>\n",
       "    <tr>\n",
       "      <th>0</th>\n",
       "      <td>Expensive</td>\n",
       "      <td>24,300,662.05</td>\n",
       "    </tr>\n",
       "    <tr>\n",
       "      <th>1</th>\n",
       "      <td>High End</td>\n",
       "      <td>3,388,663.93</td>\n",
       "    </tr>\n",
       "    <tr>\n",
       "      <th>2</th>\n",
       "      <td>Moderately Priced</td>\n",
       "      <td>91,438,354.48</td>\n",
       "    </tr>\n",
       "    <tr>\n",
       "      <th>3</th>\n",
       "      <td>Most Variety</td>\n",
       "      <td>94,427,582.37</td>\n",
       "    </tr>\n",
       "    <tr>\n",
       "      <th>4</th>\n",
       "      <td>Popular Bottles</td>\n",
       "      <td>110,869,602.64</td>\n",
       "    </tr>\n",
       "  </tbody>\n",
       "</table>\n",
       "</div>"
      ],
      "text/plain": [
       "        cluster_name  cluster_total_revenue\n",
       "0          Expensive          24,300,662.05\n",
       "1           High End           3,388,663.93\n",
       "2  Moderately Priced          91,438,354.48\n",
       "3       Most Variety          94,427,582.37\n",
       "4    Popular Bottles         110,869,602.64"
      ]
     },
     "execution_count": 52,
     "metadata": {},
     "output_type": "execute_result"
    }
   ],
   "source": [
    "tot_revenue_clusters.head()"
   ]
  },
  {
   "cell_type": "code",
   "execution_count": 53,
   "id": "bf512880",
   "metadata": {},
   "outputs": [],
   "source": [
    "# us.merge(census_combined4,how='inner',left_on='ZCTA5CE20', right_on='Zip_Code')\n",
    "cluster_revenue_pct = cluster_revenue_by_New_Category_Name.merge(tot_revenue_clusters, how='inner')"
   ]
  },
  {
   "cell_type": "code",
   "execution_count": 54,
   "id": "560f4dad",
   "metadata": {
    "scrolled": false
   },
   "outputs": [
    {
     "data": {
      "text/html": [
       "<div>\n",
       "<style scoped>\n",
       "    .dataframe tbody tr th:only-of-type {\n",
       "        vertical-align: middle;\n",
       "    }\n",
       "\n",
       "    .dataframe tbody tr th {\n",
       "        vertical-align: top;\n",
       "    }\n",
       "\n",
       "    .dataframe thead th {\n",
       "        text-align: right;\n",
       "    }\n",
       "</style>\n",
       "<table border=\"1\" class=\"dataframe\">\n",
       "  <thead>\n",
       "    <tr style=\"text-align: right;\">\n",
       "      <th></th>\n",
       "      <th>cluster_name</th>\n",
       "      <th>New_Category_Name_2</th>\n",
       "      <th>revenue</th>\n",
       "      <th>Item_Number</th>\n",
       "      <th>cluster_total_revenue</th>\n",
       "    </tr>\n",
       "  </thead>\n",
       "  <tbody>\n",
       "    <tr>\n",
       "      <th>0</th>\n",
       "      <td>Expensive</td>\n",
       "      <td>Brandies</td>\n",
       "      <td>1,705,715.32</td>\n",
       "      <td>32</td>\n",
       "      <td>24,300,662.05</td>\n",
       "    </tr>\n",
       "    <tr>\n",
       "      <th>1</th>\n",
       "      <td>Expensive</td>\n",
       "      <td>Cocktails</td>\n",
       "      <td>42,339.96</td>\n",
       "      <td>2</td>\n",
       "      <td>24,300,662.05</td>\n",
       "    </tr>\n",
       "    <tr>\n",
       "      <th>2</th>\n",
       "      <td>Expensive</td>\n",
       "      <td>Gin</td>\n",
       "      <td>59,314.7</td>\n",
       "      <td>17</td>\n",
       "      <td>24,300,662.05</td>\n",
       "    </tr>\n",
       "    <tr>\n",
       "      <th>3</th>\n",
       "      <td>Expensive</td>\n",
       "      <td>Liquers</td>\n",
       "      <td>1,194,593.43</td>\n",
       "      <td>20</td>\n",
       "      <td>24,300,662.05</td>\n",
       "    </tr>\n",
       "    <tr>\n",
       "      <th>4</th>\n",
       "      <td>Expensive</td>\n",
       "      <td>Mezcal</td>\n",
       "      <td>165,191.14</td>\n",
       "      <td>28</td>\n",
       "      <td>24,300,662.05</td>\n",
       "    </tr>\n",
       "    <tr>\n",
       "      <th>5</th>\n",
       "      <td>Expensive</td>\n",
       "      <td>Other</td>\n",
       "      <td>2,649,229.33</td>\n",
       "      <td>184</td>\n",
       "      <td>24,300,662.05</td>\n",
       "    </tr>\n",
       "    <tr>\n",
       "      <th>6</th>\n",
       "      <td>Expensive</td>\n",
       "      <td>Rum</td>\n",
       "      <td>119,739.84</td>\n",
       "      <td>34</td>\n",
       "      <td>24,300,662.05</td>\n",
       "    </tr>\n",
       "    <tr>\n",
       "      <th>7</th>\n",
       "      <td>Expensive</td>\n",
       "      <td>Tequila</td>\n",
       "      <td>5,803,428.32</td>\n",
       "      <td>111</td>\n",
       "      <td>24,300,662.05</td>\n",
       "    </tr>\n",
       "    <tr>\n",
       "      <th>8</th>\n",
       "      <td>Expensive</td>\n",
       "      <td>Vodkas</td>\n",
       "      <td>169,404.43</td>\n",
       "      <td>11</td>\n",
       "      <td>24,300,662.05</td>\n",
       "    </tr>\n",
       "    <tr>\n",
       "      <th>9</th>\n",
       "      <td>Expensive</td>\n",
       "      <td>Whiskies</td>\n",
       "      <td>12,391,705.58</td>\n",
       "      <td>438</td>\n",
       "      <td>24,300,662.05</td>\n",
       "    </tr>\n",
       "    <tr>\n",
       "      <th>10</th>\n",
       "      <td>High End</td>\n",
       "      <td>Brandies</td>\n",
       "      <td>538,959.3</td>\n",
       "      <td>3</td>\n",
       "      <td>3,388,663.93</td>\n",
       "    </tr>\n",
       "    <tr>\n",
       "      <th>11</th>\n",
       "      <td>High End</td>\n",
       "      <td>Cocktails</td>\n",
       "      <td>6,462.0</td>\n",
       "      <td>4</td>\n",
       "      <td>3,388,663.93</td>\n",
       "    </tr>\n",
       "    <tr>\n",
       "      <th>12</th>\n",
       "      <td>High End</td>\n",
       "      <td>Gin</td>\n",
       "      <td>217.5</td>\n",
       "      <td>1</td>\n",
       "      <td>3,388,663.93</td>\n",
       "    </tr>\n",
       "    <tr>\n",
       "      <th>13</th>\n",
       "      <td>High End</td>\n",
       "      <td>Liquers</td>\n",
       "      <td>40,207.53</td>\n",
       "      <td>4</td>\n",
       "      <td>3,388,663.93</td>\n",
       "    </tr>\n",
       "    <tr>\n",
       "      <th>14</th>\n",
       "      <td>High End</td>\n",
       "      <td>Mezcal</td>\n",
       "      <td>4,504.8</td>\n",
       "      <td>6</td>\n",
       "      <td>3,388,663.93</td>\n",
       "    </tr>\n",
       "    <tr>\n",
       "      <th>15</th>\n",
       "      <td>High End</td>\n",
       "      <td>Other</td>\n",
       "      <td>460,009.35000000003</td>\n",
       "      <td>38</td>\n",
       "      <td>3,388,663.93</td>\n",
       "    </tr>\n",
       "    <tr>\n",
       "      <th>16</th>\n",
       "      <td>High End</td>\n",
       "      <td>Rum</td>\n",
       "      <td>6,023.139999999999</td>\n",
       "      <td>5</td>\n",
       "      <td>3,388,663.93</td>\n",
       "    </tr>\n",
       "    <tr>\n",
       "      <th>17</th>\n",
       "      <td>High End</td>\n",
       "      <td>Tequila</td>\n",
       "      <td>952,842.21</td>\n",
       "      <td>24</td>\n",
       "      <td>3,388,663.93</td>\n",
       "    </tr>\n",
       "    <tr>\n",
       "      <th>18</th>\n",
       "      <td>High End</td>\n",
       "      <td>Vodkas</td>\n",
       "      <td>2,534.9</td>\n",
       "      <td>2</td>\n",
       "      <td>3,388,663.93</td>\n",
       "    </tr>\n",
       "    <tr>\n",
       "      <th>19</th>\n",
       "      <td>High End</td>\n",
       "      <td>Whiskies</td>\n",
       "      <td>1,376,903.2</td>\n",
       "      <td>70</td>\n",
       "      <td>3,388,663.93</td>\n",
       "    </tr>\n",
       "    <tr>\n",
       "      <th>20</th>\n",
       "      <td>Moderately Priced</td>\n",
       "      <td>Brandies</td>\n",
       "      <td>8,004,756.4</td>\n",
       "      <td>11</td>\n",
       "      <td>91,438,354.48</td>\n",
       "    </tr>\n",
       "    <tr>\n",
       "      <th>21</th>\n",
       "      <td>Moderately Priced</td>\n",
       "      <td>Gin</td>\n",
       "      <td>2,015,545.83</td>\n",
       "      <td>5</td>\n",
       "      <td>91,438,354.48</td>\n",
       "    </tr>\n",
       "    <tr>\n",
       "      <th>22</th>\n",
       "      <td>Moderately Priced</td>\n",
       "      <td>Liquers</td>\n",
       "      <td>10,036,487.6</td>\n",
       "      <td>14</td>\n",
       "      <td>91,438,354.48</td>\n",
       "    </tr>\n",
       "    <tr>\n",
       "      <th>23</th>\n",
       "      <td>Moderately Priced</td>\n",
       "      <td>Other</td>\n",
       "      <td>4,114,843.86</td>\n",
       "      <td>4</td>\n",
       "      <td>91,438,354.48</td>\n",
       "    </tr>\n",
       "    <tr>\n",
       "      <th>24</th>\n",
       "      <td>Moderately Priced</td>\n",
       "      <td>Rum</td>\n",
       "      <td>7,406,544.58</td>\n",
       "      <td>13</td>\n",
       "      <td>91,438,354.48</td>\n",
       "    </tr>\n",
       "    <tr>\n",
       "      <th>25</th>\n",
       "      <td>Moderately Priced</td>\n",
       "      <td>Schnapps</td>\n",
       "      <td>5,158,268.02</td>\n",
       "      <td>5</td>\n",
       "      <td>91,438,354.48</td>\n",
       "    </tr>\n",
       "    <tr>\n",
       "      <th>26</th>\n",
       "      <td>Moderately Priced</td>\n",
       "      <td>Tequila</td>\n",
       "      <td>8,406,713.67</td>\n",
       "      <td>11</td>\n",
       "      <td>91,438,354.48</td>\n",
       "    </tr>\n",
       "    <tr>\n",
       "      <th>27</th>\n",
       "      <td>Moderately Priced</td>\n",
       "      <td>Triple Sec</td>\n",
       "      <td>668,085.78</td>\n",
       "      <td>3</td>\n",
       "      <td>91,438,354.48</td>\n",
       "    </tr>\n",
       "    <tr>\n",
       "      <th>28</th>\n",
       "      <td>Moderately Priced</td>\n",
       "      <td>Vodkas</td>\n",
       "      <td>14,241,277.68</td>\n",
       "      <td>34</td>\n",
       "      <td>91,438,354.48</td>\n",
       "    </tr>\n",
       "    <tr>\n",
       "      <th>29</th>\n",
       "      <td>Moderately Priced</td>\n",
       "      <td>Whiskies</td>\n",
       "      <td>31,385,831.06</td>\n",
       "      <td>36</td>\n",
       "      <td>91,438,354.48</td>\n",
       "    </tr>\n",
       "    <tr>\n",
       "      <th>30</th>\n",
       "      <td>Most Variety</td>\n",
       "      <td>Brandies</td>\n",
       "      <td>3,340,463.44</td>\n",
       "      <td>91</td>\n",
       "      <td>94,427,582.37</td>\n",
       "    </tr>\n",
       "    <tr>\n",
       "      <th>31</th>\n",
       "      <td>Most Variety</td>\n",
       "      <td>Cocktails</td>\n",
       "      <td>678,123.05</td>\n",
       "      <td>23</td>\n",
       "      <td>94,427,582.37</td>\n",
       "    </tr>\n",
       "    <tr>\n",
       "      <th>32</th>\n",
       "      <td>Most Variety</td>\n",
       "      <td>Gin</td>\n",
       "      <td>4,702,366.87</td>\n",
       "      <td>115</td>\n",
       "      <td>94,427,582.37</td>\n",
       "    </tr>\n",
       "    <tr>\n",
       "      <th>33</th>\n",
       "      <td>Most Variety</td>\n",
       "      <td>Liquers</td>\n",
       "      <td>13,130,163.81</td>\n",
       "      <td>281</td>\n",
       "      <td>94,427,582.37</td>\n",
       "    </tr>\n",
       "    <tr>\n",
       "      <th>34</th>\n",
       "      <td>Most Variety</td>\n",
       "      <td>Mezcal</td>\n",
       "      <td>261,031.79</td>\n",
       "      <td>16</td>\n",
       "      <td>94,427,582.37</td>\n",
       "    </tr>\n",
       "    <tr>\n",
       "      <th>35</th>\n",
       "      <td>Most Variety</td>\n",
       "      <td>Other</td>\n",
       "      <td>6,794,279.26</td>\n",
       "      <td>407</td>\n",
       "      <td>94,427,582.37</td>\n",
       "    </tr>\n",
       "    <tr>\n",
       "      <th>36</th>\n",
       "      <td>Most Variety</td>\n",
       "      <td>Rum</td>\n",
       "      <td>7,772,329.71</td>\n",
       "      <td>216</td>\n",
       "      <td>94,427,582.37</td>\n",
       "    </tr>\n",
       "    <tr>\n",
       "      <th>37</th>\n",
       "      <td>Most Variety</td>\n",
       "      <td>Schnapps</td>\n",
       "      <td>5,020,745.48</td>\n",
       "      <td>88</td>\n",
       "      <td>94,427,582.37</td>\n",
       "    </tr>\n",
       "    <tr>\n",
       "      <th>38</th>\n",
       "      <td>Most Variety</td>\n",
       "      <td>Tequila</td>\n",
       "      <td>9,681,696.56</td>\n",
       "      <td>124</td>\n",
       "      <td>94,427,582.37</td>\n",
       "    </tr>\n",
       "    <tr>\n",
       "      <th>39</th>\n",
       "      <td>Most Variety</td>\n",
       "      <td>Triple Sec</td>\n",
       "      <td>180,122.24</td>\n",
       "      <td>7</td>\n",
       "      <td>94,427,582.37</td>\n",
       "    </tr>\n",
       "    <tr>\n",
       "      <th>40</th>\n",
       "      <td>Most Variety</td>\n",
       "      <td>Vodkas</td>\n",
       "      <td>17,827,917.27</td>\n",
       "      <td>376</td>\n",
       "      <td>94,427,582.37</td>\n",
       "    </tr>\n",
       "    <tr>\n",
       "      <th>41</th>\n",
       "      <td>Most Variety</td>\n",
       "      <td>Whiskies</td>\n",
       "      <td>25,038,342.89</td>\n",
       "      <td>455</td>\n",
       "      <td>94,427,582.37</td>\n",
       "    </tr>\n",
       "    <tr>\n",
       "      <th>42</th>\n",
       "      <td>Popular Bottles</td>\n",
       "      <td>Brandies</td>\n",
       "      <td>4,557,456.899999999</td>\n",
       "      <td>2</td>\n",
       "      <td>110,869,602.64</td>\n",
       "    </tr>\n",
       "    <tr>\n",
       "      <th>43</th>\n",
       "      <td>Popular Bottles</td>\n",
       "      <td>Liquers</td>\n",
       "      <td>12,067,229.57</td>\n",
       "      <td>6</td>\n",
       "      <td>110,869,602.64</td>\n",
       "    </tr>\n",
       "    <tr>\n",
       "      <th>44</th>\n",
       "      <td>Popular Bottles</td>\n",
       "      <td>Other</td>\n",
       "      <td>992,031.04</td>\n",
       "      <td>1</td>\n",
       "      <td>110,869,602.64</td>\n",
       "    </tr>\n",
       "    <tr>\n",
       "      <th>45</th>\n",
       "      <td>Popular Bottles</td>\n",
       "      <td>Rum</td>\n",
       "      <td>17,382,700.84</td>\n",
       "      <td>6</td>\n",
       "      <td>110,869,602.64</td>\n",
       "    </tr>\n",
       "    <tr>\n",
       "      <th>46</th>\n",
       "      <td>Popular Bottles</td>\n",
       "      <td>Schnapps</td>\n",
       "      <td>142,550.53999999998</td>\n",
       "      <td>1</td>\n",
       "      <td>110,869,602.64</td>\n",
       "    </tr>\n",
       "    <tr>\n",
       "      <th>47</th>\n",
       "      <td>Popular Bottles</td>\n",
       "      <td>Tequila</td>\n",
       "      <td>6,001,266.0</td>\n",
       "      <td>1</td>\n",
       "      <td>110,869,602.64</td>\n",
       "    </tr>\n",
       "    <tr>\n",
       "      <th>48</th>\n",
       "      <td>Popular Bottles</td>\n",
       "      <td>Vodkas</td>\n",
       "      <td>34,852,762.39</td>\n",
       "      <td>13</td>\n",
       "      <td>110,869,602.64</td>\n",
       "    </tr>\n",
       "    <tr>\n",
       "      <th>49</th>\n",
       "      <td>Popular Bottles</td>\n",
       "      <td>Whiskies</td>\n",
       "      <td>34,873,605.36</td>\n",
       "      <td>12</td>\n",
       "      <td>110,869,602.64</td>\n",
       "    </tr>\n",
       "    <tr>\n",
       "      <th>50</th>\n",
       "      <td>Quick Shots</td>\n",
       "      <td>Brandies</td>\n",
       "      <td>1,552,338.9</td>\n",
       "      <td>24</td>\n",
       "      <td>14,908,410.26</td>\n",
       "    </tr>\n",
       "    <tr>\n",
       "      <th>51</th>\n",
       "      <td>Quick Shots</td>\n",
       "      <td>Cocktails</td>\n",
       "      <td>1,189,731.71</td>\n",
       "      <td>52</td>\n",
       "      <td>14,908,410.26</td>\n",
       "    </tr>\n",
       "    <tr>\n",
       "      <th>52</th>\n",
       "      <td>Quick Shots</td>\n",
       "      <td>Gin</td>\n",
       "      <td>259,442.51</td>\n",
       "      <td>8</td>\n",
       "      <td>14,908,410.26</td>\n",
       "    </tr>\n",
       "    <tr>\n",
       "      <th>53</th>\n",
       "      <td>Quick Shots</td>\n",
       "      <td>Liquers</td>\n",
       "      <td>2,569,306.8</td>\n",
       "      <td>57</td>\n",
       "      <td>14,908,410.26</td>\n",
       "    </tr>\n",
       "    <tr>\n",
       "      <th>54</th>\n",
       "      <td>Quick Shots</td>\n",
       "      <td>Other</td>\n",
       "      <td>324,470.87</td>\n",
       "      <td>46</td>\n",
       "      <td>14,908,410.26</td>\n",
       "    </tr>\n",
       "    <tr>\n",
       "      <th>55</th>\n",
       "      <td>Quick Shots</td>\n",
       "      <td>Rum</td>\n",
       "      <td>581,514.07</td>\n",
       "      <td>14</td>\n",
       "      <td>14,908,410.26</td>\n",
       "    </tr>\n",
       "    <tr>\n",
       "      <th>56</th>\n",
       "      <td>Quick Shots</td>\n",
       "      <td>Schnapps</td>\n",
       "      <td>1,398,570.34</td>\n",
       "      <td>26</td>\n",
       "      <td>14,908,410.26</td>\n",
       "    </tr>\n",
       "    <tr>\n",
       "      <th>57</th>\n",
       "      <td>Quick Shots</td>\n",
       "      <td>Tequila</td>\n",
       "      <td>827,548.16</td>\n",
       "      <td>18</td>\n",
       "      <td>14,908,410.26</td>\n",
       "    </tr>\n",
       "    <tr>\n",
       "      <th>58</th>\n",
       "      <td>Quick Shots</td>\n",
       "      <td>Vodkas</td>\n",
       "      <td>2,801,745.79</td>\n",
       "      <td>88</td>\n",
       "      <td>14,908,410.26</td>\n",
       "    </tr>\n",
       "    <tr>\n",
       "      <th>59</th>\n",
       "      <td>Quick Shots</td>\n",
       "      <td>Whiskies</td>\n",
       "      <td>3,403,741.11</td>\n",
       "      <td>103</td>\n",
       "      <td>14,908,410.26</td>\n",
       "    </tr>\n",
       "    <tr>\n",
       "      <th>60</th>\n",
       "      <td>Volume For Dollar</td>\n",
       "      <td>Brandies</td>\n",
       "      <td>1,268,990.17</td>\n",
       "      <td>13</td>\n",
       "      <td>75,655,642.21</td>\n",
       "    </tr>\n",
       "    <tr>\n",
       "      <th>61</th>\n",
       "      <td>Volume For Dollar</td>\n",
       "      <td>Cocktails</td>\n",
       "      <td>6,782,873.8</td>\n",
       "      <td>91</td>\n",
       "      <td>75,655,642.21</td>\n",
       "    </tr>\n",
       "    <tr>\n",
       "      <th>62</th>\n",
       "      <td>Volume For Dollar</td>\n",
       "      <td>Gin</td>\n",
       "      <td>2,663,246.34</td>\n",
       "      <td>25</td>\n",
       "      <td>75,655,642.21</td>\n",
       "    </tr>\n",
       "    <tr>\n",
       "      <th>63</th>\n",
       "      <td>Volume For Dollar</td>\n",
       "      <td>Liquers</td>\n",
       "      <td>5,735,699.93</td>\n",
       "      <td>20</td>\n",
       "      <td>75,655,642.21</td>\n",
       "    </tr>\n",
       "    <tr>\n",
       "      <th>64</th>\n",
       "      <td>Volume For Dollar</td>\n",
       "      <td>Other</td>\n",
       "      <td>2,044,092.6300000001</td>\n",
       "      <td>46</td>\n",
       "      <td>75,655,642.21</td>\n",
       "    </tr>\n",
       "    <tr>\n",
       "      <th>65</th>\n",
       "      <td>Volume For Dollar</td>\n",
       "      <td>Rum</td>\n",
       "      <td>7,841,849.04</td>\n",
       "      <td>54</td>\n",
       "      <td>75,655,642.21</td>\n",
       "    </tr>\n",
       "    <tr>\n",
       "      <th>66</th>\n",
       "      <td>Volume For Dollar</td>\n",
       "      <td>Schnapps</td>\n",
       "      <td>1,182,277.35</td>\n",
       "      <td>9</td>\n",
       "      <td>75,655,642.21</td>\n",
       "    </tr>\n",
       "    <tr>\n",
       "      <th>67</th>\n",
       "      <td>Volume For Dollar</td>\n",
       "      <td>Tequila</td>\n",
       "      <td>2,470,147.11</td>\n",
       "      <td>17</td>\n",
       "      <td>75,655,642.21</td>\n",
       "    </tr>\n",
       "    <tr>\n",
       "      <th>68</th>\n",
       "      <td>Volume For Dollar</td>\n",
       "      <td>Vodkas</td>\n",
       "      <td>21,487,195.33</td>\n",
       "      <td>78</td>\n",
       "      <td>75,655,642.21</td>\n",
       "    </tr>\n",
       "    <tr>\n",
       "      <th>69</th>\n",
       "      <td>Volume For Dollar</td>\n",
       "      <td>Whiskies</td>\n",
       "      <td>24,179,270.51</td>\n",
       "      <td>101</td>\n",
       "      <td>75,655,642.21</td>\n",
       "    </tr>\n",
       "  </tbody>\n",
       "</table>\n",
       "</div>"
      ],
      "text/plain": [
       "         cluster_name New_Category_Name_2              revenue  Item_Number  \\\n",
       "0           Expensive            Brandies         1,705,715.32           32   \n",
       "1           Expensive           Cocktails            42,339.96            2   \n",
       "2           Expensive                 Gin             59,314.7           17   \n",
       "3           Expensive             Liquers         1,194,593.43           20   \n",
       "4           Expensive              Mezcal           165,191.14           28   \n",
       "5           Expensive               Other         2,649,229.33          184   \n",
       "6           Expensive                 Rum           119,739.84           34   \n",
       "7           Expensive             Tequila         5,803,428.32          111   \n",
       "8           Expensive              Vodkas           169,404.43           11   \n",
       "9           Expensive            Whiskies        12,391,705.58          438   \n",
       "10           High End            Brandies            538,959.3            3   \n",
       "11           High End           Cocktails              6,462.0            4   \n",
       "12           High End                 Gin                217.5            1   \n",
       "13           High End             Liquers            40,207.53            4   \n",
       "14           High End              Mezcal              4,504.8            6   \n",
       "15           High End               Other  460,009.35000000003           38   \n",
       "16           High End                 Rum   6,023.139999999999            5   \n",
       "17           High End             Tequila           952,842.21           24   \n",
       "18           High End              Vodkas              2,534.9            2   \n",
       "19           High End            Whiskies          1,376,903.2           70   \n",
       "20  Moderately Priced            Brandies          8,004,756.4           11   \n",
       "21  Moderately Priced                 Gin         2,015,545.83            5   \n",
       "22  Moderately Priced             Liquers         10,036,487.6           14   \n",
       "23  Moderately Priced               Other         4,114,843.86            4   \n",
       "24  Moderately Priced                 Rum         7,406,544.58           13   \n",
       "25  Moderately Priced            Schnapps         5,158,268.02            5   \n",
       "26  Moderately Priced             Tequila         8,406,713.67           11   \n",
       "27  Moderately Priced          Triple Sec           668,085.78            3   \n",
       "28  Moderately Priced              Vodkas        14,241,277.68           34   \n",
       "29  Moderately Priced            Whiskies        31,385,831.06           36   \n",
       "30       Most Variety            Brandies         3,340,463.44           91   \n",
       "31       Most Variety           Cocktails           678,123.05           23   \n",
       "32       Most Variety                 Gin         4,702,366.87          115   \n",
       "33       Most Variety             Liquers        13,130,163.81          281   \n",
       "34       Most Variety              Mezcal           261,031.79           16   \n",
       "35       Most Variety               Other         6,794,279.26          407   \n",
       "36       Most Variety                 Rum         7,772,329.71          216   \n",
       "37       Most Variety            Schnapps         5,020,745.48           88   \n",
       "38       Most Variety             Tequila         9,681,696.56          124   \n",
       "39       Most Variety          Triple Sec           180,122.24            7   \n",
       "40       Most Variety              Vodkas        17,827,917.27          376   \n",
       "41       Most Variety            Whiskies        25,038,342.89          455   \n",
       "42    Popular Bottles            Brandies  4,557,456.899999999            2   \n",
       "43    Popular Bottles             Liquers        12,067,229.57            6   \n",
       "44    Popular Bottles               Other           992,031.04            1   \n",
       "45    Popular Bottles                 Rum        17,382,700.84            6   \n",
       "46    Popular Bottles            Schnapps  142,550.53999999998            1   \n",
       "47    Popular Bottles             Tequila          6,001,266.0            1   \n",
       "48    Popular Bottles              Vodkas        34,852,762.39           13   \n",
       "49    Popular Bottles            Whiskies        34,873,605.36           12   \n",
       "50        Quick Shots            Brandies          1,552,338.9           24   \n",
       "51        Quick Shots           Cocktails         1,189,731.71           52   \n",
       "52        Quick Shots                 Gin           259,442.51            8   \n",
       "53        Quick Shots             Liquers          2,569,306.8           57   \n",
       "54        Quick Shots               Other           324,470.87           46   \n",
       "55        Quick Shots                 Rum           581,514.07           14   \n",
       "56        Quick Shots            Schnapps         1,398,570.34           26   \n",
       "57        Quick Shots             Tequila           827,548.16           18   \n",
       "58        Quick Shots              Vodkas         2,801,745.79           88   \n",
       "59        Quick Shots            Whiskies         3,403,741.11          103   \n",
       "60  Volume For Dollar            Brandies         1,268,990.17           13   \n",
       "61  Volume For Dollar           Cocktails          6,782,873.8           91   \n",
       "62  Volume For Dollar                 Gin         2,663,246.34           25   \n",
       "63  Volume For Dollar             Liquers         5,735,699.93           20   \n",
       "64  Volume For Dollar               Other 2,044,092.6300000001           46   \n",
       "65  Volume For Dollar                 Rum         7,841,849.04           54   \n",
       "66  Volume For Dollar            Schnapps         1,182,277.35            9   \n",
       "67  Volume For Dollar             Tequila         2,470,147.11           17   \n",
       "68  Volume For Dollar              Vodkas        21,487,195.33           78   \n",
       "69  Volume For Dollar            Whiskies        24,179,270.51          101   \n",
       "\n",
       "    cluster_total_revenue  \n",
       "0           24,300,662.05  \n",
       "1           24,300,662.05  \n",
       "2           24,300,662.05  \n",
       "3           24,300,662.05  \n",
       "4           24,300,662.05  \n",
       "5           24,300,662.05  \n",
       "6           24,300,662.05  \n",
       "7           24,300,662.05  \n",
       "8           24,300,662.05  \n",
       "9           24,300,662.05  \n",
       "10           3,388,663.93  \n",
       "11           3,388,663.93  \n",
       "12           3,388,663.93  \n",
       "13           3,388,663.93  \n",
       "14           3,388,663.93  \n",
       "15           3,388,663.93  \n",
       "16           3,388,663.93  \n",
       "17           3,388,663.93  \n",
       "18           3,388,663.93  \n",
       "19           3,388,663.93  \n",
       "20          91,438,354.48  \n",
       "21          91,438,354.48  \n",
       "22          91,438,354.48  \n",
       "23          91,438,354.48  \n",
       "24          91,438,354.48  \n",
       "25          91,438,354.48  \n",
       "26          91,438,354.48  \n",
       "27          91,438,354.48  \n",
       "28          91,438,354.48  \n",
       "29          91,438,354.48  \n",
       "30          94,427,582.37  \n",
       "31          94,427,582.37  \n",
       "32          94,427,582.37  \n",
       "33          94,427,582.37  \n",
       "34          94,427,582.37  \n",
       "35          94,427,582.37  \n",
       "36          94,427,582.37  \n",
       "37          94,427,582.37  \n",
       "38          94,427,582.37  \n",
       "39          94,427,582.37  \n",
       "40          94,427,582.37  \n",
       "41          94,427,582.37  \n",
       "42         110,869,602.64  \n",
       "43         110,869,602.64  \n",
       "44         110,869,602.64  \n",
       "45         110,869,602.64  \n",
       "46         110,869,602.64  \n",
       "47         110,869,602.64  \n",
       "48         110,869,602.64  \n",
       "49         110,869,602.64  \n",
       "50          14,908,410.26  \n",
       "51          14,908,410.26  \n",
       "52          14,908,410.26  \n",
       "53          14,908,410.26  \n",
       "54          14,908,410.26  \n",
       "55          14,908,410.26  \n",
       "56          14,908,410.26  \n",
       "57          14,908,410.26  \n",
       "58          14,908,410.26  \n",
       "59          14,908,410.26  \n",
       "60          75,655,642.21  \n",
       "61          75,655,642.21  \n",
       "62          75,655,642.21  \n",
       "63          75,655,642.21  \n",
       "64          75,655,642.21  \n",
       "65          75,655,642.21  \n",
       "66          75,655,642.21  \n",
       "67          75,655,642.21  \n",
       "68          75,655,642.21  \n",
       "69          75,655,642.21  "
      ]
     },
     "execution_count": 54,
     "metadata": {},
     "output_type": "execute_result"
    }
   ],
   "source": [
    "cluster_revenue_pct.head(200)"
   ]
  },
  {
   "cell_type": "code",
   "execution_count": 55,
   "id": "098da945",
   "metadata": {},
   "outputs": [],
   "source": [
    "cluster_revenue_pct['revenue_pct'] = round(cluster_revenue_pct.revenue / cluster_revenue_pct.cluster_total_revenue *100,2)"
   ]
  },
  {
   "cell_type": "code",
   "execution_count": 56,
   "id": "1872cb5e",
   "metadata": {},
   "outputs": [],
   "source": [
    "cluster_revenue_pct2 = cluster_revenue_pct.copy()"
   ]
  },
  {
   "cell_type": "code",
   "execution_count": 81,
   "id": "a7ec00b5",
   "metadata": {},
   "outputs": [],
   "source": [
    "top5 = ['Whiskies','Vodkas','Liquers','Rum','Tequila']\n",
    "# [Whiskies,Vodkas,Rum,Tequila,Liquers]\n",
    "not_keeps = ['High End', 'Quick Shots']"
   ]
  },
  {
   "cell_type": "code",
   "execution_count": 82,
   "id": "cec3287f",
   "metadata": {},
   "outputs": [],
   "source": [
    "cluster_revenue_pct2 = cluster_revenue_pct2[cluster_revenue_pct2['New_Category_Name_2'].isin(top5)]"
   ]
  },
  {
   "cell_type": "code",
   "execution_count": 83,
   "id": "a6dd3437",
   "metadata": {},
   "outputs": [],
   "source": [
    "# cluster_revenue_pct2 = \n",
    "cluster_revenue_pct2 = cluster_revenue_pct2[~cluster_revenue_pct2['cluster_name'].isin(not_keeps) ]"
   ]
  },
  {
   "cell_type": "markdown",
   "id": "d908ac61",
   "metadata": {},
   "source": [
    "##### create side by side bar graph of top 5 in revenue for state  for clusters used in store clustering"
   ]
  },
  {
   "cell_type": "code",
   "execution_count": 84,
   "id": "63923f67",
   "metadata": {},
   "outputs": [
    {
     "name": "stderr",
     "output_type": "stream",
     "text": [
      "C:\\Users\\dgarb\\anaconda3_reinstall\\lib\\site-packages\\seaborn\\categorical.py:3717: UserWarning: The `factorplot` function has been renamed to `catplot`. The original name will be removed in a future release. Please update your code. Note that the default `kind` in `factorplot` (`'point'`) has changed `'strip'` in `catplot`.\n",
      "  warnings.warn(msg)\n"
     ]
    },
    {
     "data": {
      "image/png": "[encoded data removed]",
      "text/plain": [
       "<Figure size 1800x360 with 5 Axes>"
      ]
     },
     "metadata": {},
     "output_type": "display_data"
    }
   ],
   "source": [
    "# combined= compare_percent('age')\n",
    "# combined['Percent']= round(combined['Percent'])\n",
    "\n",
    "# set style\n",
    "# sns.set_style('darkgrid')\n",
    "\n",
    "# color_order=['Kitten','Young','Adult','Senior']\n",
    "# order=color_order,palette='Blues'\n",
    "sns.set(rc = {'figure.figsize':(15,8)},font_scale=2)\n",
    "# order=['Vodkas','Whiskies','Rum','Whiskey Liqueur','Tequila']\n",
    "order=top5\n",
    "chart = sns.factorplot(y='New_Category_Name_2', x='revenue_pct', col='cluster_name', data=cluster_revenue_pct2, kind='bar', ci=False, \\\n",
    "                       order=order, palette='Blues')#,estimator=x)  #,color='skyblue'\n",
    "\n",
    "\n",
    "# for i in range(len(df)):\n",
    "#     chart.annotate(str(df[i]), xy=(i, df[i]),horizontalalignment = 'center',fontsize=20);\n",
    "\n",
    "\n",
    "chart.set(ylabel=\"\", xlabel = \"Percent of Revenue\")\n",
    "\n",
    "# plt.figure(figsize = (15,8))\n",
    "\n",
    "chart.set_titles(col_template= '{col_name}',fontsize='14');\n",
    "\n",
    "\n",
    "\n",
    "#set font size \n",
    "# sns.set(font_scale=1.5)\n",
    "#sns.set(font_scale=2)\n",
    "#plt.figure(figsize = (15,8))\n",
    "\n",
    "# plt.savefig('Days_On_Site_comparison nodup.png', dpi=300)\n",
    "sns.set(rc = {'figure.figsize':(15,8)})\n",
    "\n",
    "# # for legend text\n",
    "# plt.setp(chart.get_legend().get_texts(), fontsize='13') \n",
    " \n",
    "# # for legend title\n",
    "# plt.setp(chart.get_legend().get_title(), fontsize='14') \n",
    "plt.show()\n",
    "#combined.info()"
   ]
  },
  {
   "cell_type": "code",
   "execution_count": 61,
   "id": "c62e4679",
   "metadata": {},
   "outputs": [
    {
     "name": "stderr",
     "output_type": "stream",
     "text": [
      "C:\\Users\\dgarb\\anaconda3_reinstall\\lib\\site-packages\\seaborn\\categorical.py:3717: UserWarning: The `factorplot` function has been renamed to `catplot`. The original name will be removed in a future release. Please update your code. Note that the default `kind` in `factorplot` (`'point'`) has changed `'strip'` in `catplot`.\n",
      "  warnings.warn(msg)\n"
     ]
    },
    {
     "data": {
      "image/png": "[encoded data removed]",
      "text/plain": [
       "<Figure size 1800x360 with 5 Axes>"
      ]
     },
     "metadata": {},
     "output_type": "display_data"
    }
   ],
   "source": [
    "# combined= compare_percent('sex')\n",
    "# sns.set_style('darkgrid')\n",
    "# order=['Vodkas','Whiskies','Rum','Whiskey Liqueur','Tequila']\n",
    "order = top5\n",
    "chart = sns.factorplot( y='revenue_pct', x='New_Category_Name_2', col='cluster_name', data=cluster_revenue_pct2,\\\n",
    "                       kind='bar',palette='Blues',order=order)\n",
    "chart.set(ylabel = \"Percent Of Cluster Revenue\", xlabel=\"\")\n",
    "\n",
    "chart.set_titles(col_template= '{col_name}');"
   ]
  },
  {
   "cell_type": "code",
   "execution_count": 62,
   "id": "63821357",
   "metadata": {},
   "outputs": [
    {
     "name": "stderr",
     "output_type": "stream",
     "text": [
      "C:\\Users\\dgarb\\anaconda3_reinstall\\lib\\site-packages\\seaborn\\categorical.py:3717: UserWarning: The `factorplot` function has been renamed to `catplot`. The original name will be removed in a future release. Please update your code. Note that the default `kind` in `factorplot` (`'point'`) has changed `'strip'` in `catplot`.\n",
      "  warnings.warn(msg)\n"
     ]
    },
    {
     "data": {
      "image/png": "[encoded data removed]",
      "text/plain": [
       "<Figure size 1800x360 with 5 Axes>"
      ]
     },
     "metadata": {},
     "output_type": "display_data"
    },
    {
     "data": {
      "text/plain": [
       "<Figure size 1080x576 with 0 Axes>"
      ]
     },
     "metadata": {},
     "output_type": "display_data"
    }
   ],
   "source": [
    "# combined= compare_percent('age')\n",
    "# combined['Percent']= round(combined['Percent'])\n",
    "\n",
    "# set style\n",
    "# sns.set_style('darkgrid')\n",
    "\n",
    "# color_order=['Kitten','Young','Adult','Senior']\n",
    "order=['Vodkas','Whiskies','Rum','Whiskey Liqueur','Tequila']\n",
    "# order=color_order,palette='Blues'\n",
    "chart = sns.factorplot(y='New_Category_Name_2', x='revenue', col='cluster_name', data=cluster_revenue_pct2, kind='bar', ci=False, \\\n",
    "                       order=order, palette='Blues')#,estimator=x)  #,color='skyblue'\n",
    "\n",
    "\n",
    "# for i in range(len(df)):\n",
    "#     chart.annotate(str(df[i]), xy=(i, df[i]),horizontalalignment = 'center',fontsize=20);\n",
    "\n",
    "\n",
    "chart.set(ylabel=\"Category\", xlabel = \"Percent of 100\")\n",
    "\n",
    "plt.figure(figsize = (15,8))\n",
    "\n",
    "chart.set_titles(col_template= '{col_name}',fontsize='14');\n",
    "\n",
    "\n",
    "\n",
    "#set font size \n",
    "# sns.set(font_scale=1.5)\n",
    "#sns.set(font_scale=2)\n",
    "#plt.figure(figsize = (15,8))\n",
    "\n",
    "# plt.savefig('Days_On_Site_comparison nodup.png', dpi=300)\n",
    "sns.set(rc = {'figure.figsize':(15,8)})\n",
    "\n",
    "# # for legend text\n",
    "# plt.setp(chart.get_legend().get_texts(), fontsize='13') \n",
    " \n",
    "# # for legend title\n",
    "# plt.setp(chart.get_legend().get_title(), fontsize='14') \n",
    "plt.show()\n",
    "#combined.info()"
   ]
  },
  {
   "cell_type": "markdown",
   "id": "c423239d",
   "metadata": {},
   "source": [
    "### Cheap "
   ]
  },
  {
   "cell_type": "code",
   "execution_count": 63,
   "id": "fa093b6f",
   "metadata": {},
   "outputs": [
    {
     "name": "stdout",
     "output_type": "stream",
     "text": [
      "<class 'pandas.core.frame.DataFrame'>\n",
      "Int64Index: 10 entries, 29 to 27\n",
      "Data columns (total 4 columns):\n",
      " #   Column               Non-Null Count  Dtype  \n",
      "---  ------               --------------  -----  \n",
      " 0   cluster_name         10 non-null     object \n",
      " 1   New_Category_Name_2  10 non-null     object \n",
      " 2   revenue_pct          10 non-null     float64\n",
      " 3   Item_Number          10 non-null     int64  \n",
      "dtypes: float64(1), int64(1), object(2)\n",
      "memory usage: 400.0+ bytes\n"
     ]
    }
   ],
   "source": [
    "# Cheap\n",
    "Moderately_Priced_df = cluster_revenue_pct.loc[cluster_revenue_pct.cluster_name == 'Moderately Priced',['cluster_name','New_Category_Name_2','revenue_pct','Item_Number']].sort_values(by='revenue_pct',ascending=False)\n",
    "Moderately_Priced_df.info()"
   ]
  },
  {
   "cell_type": "code",
   "execution_count": 64,
   "id": "30212d83",
   "metadata": {},
   "outputs": [],
   "source": [
    "# sns.set(font_scale=1.5)\n",
    "# sns.set(rc = {'figure.figsize':(15,8)},font_scale=1.5)\n",
    "# sns.set_color_codes(\"pastel\")\n",
    "# bar = sns.barplot(x=\"revenue_pct\", y=\"New_Category_Name_2\", data=Moderately_Priced_df,\n",
    "#             label=\"Total\", color=\"b\")\n",
    "# # bar.set(xlim=(0,100),ylabel='Store Type',xlabel='Percent of Cluster')\n",
    "# bar.set_xlabel('Percent of 100',fontsize=15)\n",
    "# bar.set_ylabel('Category',fontsize=15)\n",
    "   \n",
    "# bar.set(xlim=(0,100))\n",
    "# bar.set(title='Moderately Priced')\n"
   ]
  },
  {
   "cell_type": "code",
   "execution_count": 65,
   "id": "583cb5a5",
   "metadata": {},
   "outputs": [],
   "source": [
    "def make_bar(df, title=None):    \n",
    "    sns.set(font_scale=1.5)\n",
    "    sns.set(rc = {'figure.figsize':(15,8)},font_scale=1.5)\n",
    "    sns.set_color_codes(\"pastel\")\n",
    "    bar = sns.barplot(x=\"revenue_pct\", y=\"New_Category_Name_2\", data=df,\n",
    "                label=\"Total\", color=\"b\")\n",
    "    # bar.set(xlim=(0,100),ylabel='Store Type',xlabel='Percent of Cluster')\n",
    "    bar.set_xlabel('Percent of Cluster Total Revenue ',fontsize=15)\n",
    "    bar.set_ylabel('Category',fontsize=15)\n",
    "\n",
    "    bar.set(xlim=(0,100))\n",
    "    if title:\n",
    "        bar.axes.set_title(title,fontsize=25)\n"
   ]
  },
  {
   "cell_type": "code",
   "execution_count": 66,
   "id": "c5ec65c7",
   "metadata": {},
   "outputs": [
    {
     "data": {
      "image/png": "[encoded data removed]",
      "text/plain": [
       "<Figure size 1080x576 with 1 Axes>"
      ]
     },
     "metadata": {},
     "output_type": "display_data"
    }
   ],
   "source": [
    "make_bar(Moderately_Priced_df,title='Moderately Priced')"
   ]
  },
  {
   "cell_type": "code",
   "execution_count": 67,
   "id": "c60368d8",
   "metadata": {},
   "outputs": [],
   "source": [
    "# High_End\n",
    "High_End = cluster_revenue_pct.loc[cluster_revenue_pct.cluster_name == 'High End',['cluster_name','New_Category_Name_2','revenue_pct','Item_Number']].sort_values(by='revenue_pct',ascending=False)"
   ]
  },
  {
   "cell_type": "code",
   "execution_count": 68,
   "id": "c7e7ea54",
   "metadata": {},
   "outputs": [
    {
     "data": {
      "image/png": "[encoded data removed]",
      "text/plain": [
       "<Figure size 1080x576 with 1 Axes>"
      ]
     },
     "metadata": {},
     "output_type": "display_data"
    }
   ],
   "source": [
    " make_bar(High_End.loc[High_End.revenue_pct >= 1],title='High End')"
   ]
  },
  {
   "cell_type": "code",
   "execution_count": 69,
   "id": "88fa8884",
   "metadata": {},
   "outputs": [],
   "source": [
    "# Moderately_High\n",
    "Expensive = cluster_revenue_pct.loc[cluster_revenue_pct.cluster_name == 'Expensive',['cluster_name','New_Category_Name_2','revenue_pct','Item_Number']].sort_values(by='revenue_pct',ascending=False)"
   ]
  },
  {
   "cell_type": "code",
   "execution_count": 70,
   "id": "5b436936",
   "metadata": {},
   "outputs": [
    {
     "data": {
      "image/png": "[encoded data removed]",
      "text/plain": [
       "<Figure size 1080x576 with 1 Axes>"
      ]
     },
     "metadata": {},
     "output_type": "display_data"
    }
   ],
   "source": [
    "# bar(Expensive.loc[Expensive.revenue_pct >= 1],title='Expensive')\n",
    "make_bar(Expensive.loc[Expensive.revenue_pct >= 1],title='Expensive')"
   ]
  },
  {
   "cell_type": "code",
   "execution_count": 71,
   "id": "a33b70c3",
   "metadata": {},
   "outputs": [
    {
     "data": {
      "text/plain": [
       "matplotlib.axes._subplots.AxesSubplot"
      ]
     },
     "execution_count": 71,
     "metadata": {},
     "output_type": "execute_result"
    }
   ],
   "source": [
    "type(bar)"
   ]
  },
  {
   "cell_type": "code",
   "execution_count": 72,
   "id": "f242b134",
   "metadata": {},
   "outputs": [],
   "source": [
    "# Most_Variety\n",
    "Most_Variety = cluster_revenue_pct.loc[cluster_revenue_pct.cluster_name == 'Most Variety',['cluster_name','New_Category_Name_2','revenue_pct','Item_Number']].sort_values(by='revenue_pct',ascending=False)"
   ]
  },
  {
   "cell_type": "code",
   "execution_count": 73,
   "id": "5e420006",
   "metadata": {},
   "outputs": [],
   "source": [
    "# make_bar(Most_Variety,title='Most Variety')"
   ]
  },
  {
   "cell_type": "code",
   "execution_count": 74,
   "id": "e1629c5a",
   "metadata": {},
   "outputs": [
    {
     "data": {
      "image/png": "[encoded data removed]",
      "text/plain": [
       "<Figure size 1080x576 with 1 Axes>"
      ]
     },
     "metadata": {},
     "output_type": "display_data"
    }
   ],
   "source": [
    "make_bar(Most_Variety,title='Most Variety')"
   ]
  },
  {
   "cell_type": "code",
   "execution_count": null,
   "id": "c46eb8b5",
   "metadata": {},
   "outputs": [],
   "source": []
  },
  {
   "cell_type": "code",
   "execution_count": 75,
   "id": "9cdac375",
   "metadata": {},
   "outputs": [],
   "source": [
    "# Popular_Bottles\n",
    "Popular_Bottles = cluster_revenue_pct.loc[cluster_revenue_pct.cluster_name == 'Popular Bottles',['cluster_name','New_Category_Name_2','revenue_pct','Item_Number']].sort_values(by='revenue_pct',ascending=False)"
   ]
  },
  {
   "cell_type": "code",
   "execution_count": 76,
   "id": "a0a4481e",
   "metadata": {},
   "outputs": [
    {
     "data": {
      "image/png": "[encoded data removed]",
      "text/plain": [
       "<Figure size 1080x576 with 1 Axes>"
      ]
     },
     "metadata": {},
     "output_type": "display_data"
    }
   ],
   "source": [
    "make_bar(Popular_Bottles.loc[Popular_Bottles.revenue_pct >= 1],title='Popular Bottles')"
   ]
  },
  {
   "cell_type": "code",
   "execution_count": 77,
   "id": "94918a86",
   "metadata": {},
   "outputs": [],
   "source": [
    "# Quick_Shots\n",
    "Quick_Shots = cluster_revenue_pct.loc[cluster_revenue_pct.cluster_name == 'Quick Shots',['cluster_name','New_Category_Name_2','revenue_pct','Item_Number']].sort_values(by='revenue_pct',ascending=False)"
   ]
  },
  {
   "cell_type": "code",
   "execution_count": 78,
   "id": "e11a8a1c",
   "metadata": {},
   "outputs": [
    {
     "data": {
      "image/png": "[encoded data removed]",
      "text/plain": [
       "<Figure size 1080x576 with 1 Axes>"
      ]
     },
     "metadata": {},
     "output_type": "display_data"
    }
   ],
   "source": [
    "make_bar(Quick_Shots.loc[Quick_Shots.revenue_pct >= 0.5],title='Quick Shots')"
   ]
  },
  {
   "cell_type": "code",
   "execution_count": 79,
   "id": "243d5cdf",
   "metadata": {},
   "outputs": [],
   "source": [
    "# Volume_For_Dollar\n",
    "Volume_For_Dollar = cluster_revenue_pct.loc[cluster_revenue_pct.cluster_name == 'Volume For Dollar',['cluster_name','New_Category_Name_2','revenue_pct','Item_Number']].sort_values(by='revenue_pct',ascending=False)"
   ]
  },
  {
   "cell_type": "code",
   "execution_count": 80,
   "id": "c7d50887",
   "metadata": {},
   "outputs": [
    {
     "data": {
      "image/png": "[encoded data removed]",
      "text/plain": [
       "<Figure size 1080x576 with 1 Axes>"
      ]
     },
     "metadata": {},
     "output_type": "display_data"
    }
   ],
   "source": [
    "make_bar(Volume_For_Dollar,title='Volume For Dollar')"
   ]
  }
 ],
 "metadata": {
  "kernelspec": {
   "display_name": "Python 3 (ipykernel)",
   "language": "python",
   "name": "python3"
  },
  "language_info": {
   "codemirror_mode": {
    "name": "ipython",
    "version": 3
   },
   "file_extension": ".py",
   "mimetype": "text/x-python",
   "name": "python",
   "nbconvert_exporter": "python",
   "pygments_lexer": "ipython3",
   "version": "3.9.7"
  }
 },
 "nbformat": 4,
 "nbformat_minor": 5
}

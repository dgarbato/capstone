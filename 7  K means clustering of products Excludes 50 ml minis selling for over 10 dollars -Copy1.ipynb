{
 "cells": [
  {
   "cell_type": "code",
   "execution_count": 1,
   "id": "983f8910",
   "metadata": {},
   "outputs": [],
   "source": [
    "import pandas as pd\n",
    "import numpy as np"
   ]
  },
  {
   "cell_type": "code",
   "execution_count": 2,
   "id": "e49fd89f",
   "metadata": {},
   "outputs": [],
   "source": [
    "import matplotlib.pyplot as plt\n",
    "%matplotlib inline\n",
    "import seaborn as sns"
   ]
  },
  {
   "cell_type": "code",
   "execution_count": 3,
   "id": "b4cf4c56",
   "metadata": {},
   "outputs": [],
   "source": [
    "dict_dtype = {'Item_Number':str,\n",
    "'Bottle_Volume (ml)':int,\n",
    "'Bottles_Sold':int,\n",
    "'Bottle_Retail':float,\n",
    "'Store_Number':int}"
   ]
  },
  {
   "cell_type": "code",
   "execution_count": 4,
   "id": "b1ae2067",
   "metadata": {},
   "outputs": [],
   "source": [
    "from sklearn.preprocessing import StandardScaler\n",
    "from sklearn.cluster import KMeans"
   ]
  },
  {
   "cell_type": "code",
   "execution_count": 5,
   "id": "5abf22b8",
   "metadata": {},
   "outputs": [],
   "source": [
    "pdtypes = {'Item Number':str,'Vendor':str}"
   ]
  },
  {
   "cell_type": "code",
   "execution_count": 6,
   "id": "fba10cc0",
   "metadata": {},
   "outputs": [],
   "source": [
    "# products_iowa = pd.read_csv(r'C:\\Users\\dgarb\\OneDrive\\Desktop\\Capstone Data\\Iowa_Liquor_Products(1).csv',dtype=pdtypes)"
   ]
  },
  {
   "cell_type": "code",
   "execution_count": 7,
   "id": "5bc0befa",
   "metadata": {},
   "outputs": [],
   "source": [
    "products = pd.read_csv(r'C:\\Users\\dgarb\\OneDrive\\Desktop\\Capstone Data\\liquor_2021\\clustering_data_num_unique_stores.csv',dtype=dict_dtype, index_col=0)"
   ]
  },
  {
   "cell_type": "code",
   "execution_count": 8,
   "id": "f5ca9cc5",
   "metadata": {},
   "outputs": [],
   "source": [
    "products.rename({'Store_Number':'Num_Stores_Selling', 'Sales':'revenue'} ,axis=1, inplace=True)\n",
    "              "
   ]
  },
  {
   "cell_type": "code",
   "execution_count": 9,
   "id": "ef7050d2",
   "metadata": {},
   "outputs": [
    {
     "name": "stdout",
     "output_type": "stream",
     "text": [
      "424233229.6\n"
     ]
    }
   ],
   "source": [
    "check = products['revenue'].sum()\n",
    "print(check)"
   ]
  },
  {
   "cell_type": "code",
   "execution_count": 10,
   "id": "9f7bed6d",
   "metadata": {},
   "outputs": [],
   "source": [
    "products2 = products.copy()"
   ]
  },
  {
   "cell_type": "code",
   "execution_count": 11,
   "id": "27b61c88",
   "metadata": {},
   "outputs": [
    {
     "data": {
      "text/plain": [
       "(159, 8)"
      ]
     },
     "execution_count": 11,
     "metadata": {},
     "output_type": "execute_result"
    }
   ],
   "source": [
    "#remove minis seliing for over $10 due to data quality issues see data quality check notebook\n",
    "poor_quality = products2.loc[(products.Bottle_Volume == 50) & (products.Bottle_Retail > 10)]\n",
    "poor_quality.shape"
   ]
  },
  {
   "cell_type": "code",
   "execution_count": 12,
   "id": "7aa9506b",
   "metadata": {},
   "outputs": [
    {
     "data": {
      "text/plain": [
       "0       False\n",
       "1       False\n",
       "2       False\n",
       "3       False\n",
       "4       False\n",
       "        ...  \n",
       "4470    False\n",
       "4471    False\n",
       "4472    False\n",
       "4473    False\n",
       "4474    False\n",
       "Length: 4475, dtype: bool"
      ]
     },
     "execution_count": 12,
     "metadata": {},
     "output_type": "execute_result"
    }
   ],
   "source": [
    "\n",
    "(products.Bottle_Volume == 50) & (products.Bottle_Retail > 10)"
   ]
  },
  {
   "cell_type": "code",
   "execution_count": 13,
   "id": "cb60476b",
   "metadata": {},
   "outputs": [
    {
     "data": {
      "text/plain": [
       "pandas.core.series.Series"
      ]
     },
     "execution_count": 13,
     "metadata": {},
     "output_type": "execute_result"
    }
   ],
   "source": [
    "poor_quality_mask = (products.Bottle_Volume == 50) & (products.Bottle_Retail > 10)\n",
    "type(poor_quality_mask)"
   ]
  },
  {
   "cell_type": "code",
   "execution_count": 14,
   "id": "5658da33",
   "metadata": {},
   "outputs": [],
   "source": [
    "products2 = products2[~poor_quality_mask]"
   ]
  },
  {
   "cell_type": "code",
   "execution_count": 15,
   "id": "fd04b71c",
   "metadata": {},
   "outputs": [
    {
     "name": "stdout",
     "output_type": "stream",
     "text": [
      "<class 'pandas.core.frame.DataFrame'>\n",
      "Int64Index: 4316 entries, 0 to 4474\n",
      "Data columns (total 8 columns):\n",
      " #   Column              Non-Null Count  Dtype  \n",
      "---  ------              --------------  -----  \n",
      " 0   Item_Number         4316 non-null   object \n",
      " 1   Item_Description    4316 non-null   object \n",
      " 2   Bottle_Volume       4316 non-null   int64  \n",
      " 3   New_Category_Name   4316 non-null   object \n",
      " 4   Bottle_Retail       4316 non-null   float64\n",
      " 5   Bottles_Sold        4316 non-null   int32  \n",
      " 6   Num_Stores_Selling  4316 non-null   int32  \n",
      " 7   revenue             4316 non-null   float64\n",
      "dtypes: float64(2), int32(2), int64(1), object(3)\n",
      "memory usage: 269.8+ KB\n"
     ]
    }
   ],
   "source": [
    "products2.info()"
   ]
  },
  {
   "cell_type": "code",
   "execution_count": 16,
   "id": "67548f18",
   "metadata": {},
   "outputs": [
    {
     "data": {
      "text/html": [
       "<div>\n",
       "<style scoped>\n",
       "    .dataframe tbody tr th:only-of-type {\n",
       "        vertical-align: middle;\n",
       "    }\n",
       "\n",
       "    .dataframe tbody tr th {\n",
       "        vertical-align: top;\n",
       "    }\n",
       "\n",
       "    .dataframe thead th {\n",
       "        text-align: right;\n",
       "    }\n",
       "</style>\n",
       "<table border=\"1\" class=\"dataframe\">\n",
       "  <thead>\n",
       "    <tr style=\"text-align: right;\">\n",
       "      <th></th>\n",
       "      <th>Bottle_Volume</th>\n",
       "      <th>Bottle_Retail</th>\n",
       "      <th>Bottles_Sold</th>\n",
       "      <th>Num_Stores_Selling</th>\n",
       "      <th>revenue</th>\n",
       "    </tr>\n",
       "  </thead>\n",
       "  <tbody>\n",
       "    <tr>\n",
       "      <th>count</th>\n",
       "      <td>4475.000000</td>\n",
       "      <td>4475.000000</td>\n",
       "      <td>4.475000e+03</td>\n",
       "      <td>4475.000000</td>\n",
       "      <td>4.475000e+03</td>\n",
       "    </tr>\n",
       "    <tr>\n",
       "      <th>mean</th>\n",
       "      <td>792.361564</td>\n",
       "      <td>31.221806</td>\n",
       "      <td>6.930340e+03</td>\n",
       "      <td>125.248045</td>\n",
       "      <td>9.480072e+04</td>\n",
       "    </tr>\n",
       "    <tr>\n",
       "      <th>std</th>\n",
       "      <td>410.724957</td>\n",
       "      <td>69.350753</td>\n",
       "      <td>3.972229e+04</td>\n",
       "      <td>214.229508</td>\n",
       "      <td>3.889196e+05</td>\n",
       "    </tr>\n",
       "    <tr>\n",
       "      <th>min</th>\n",
       "      <td>20.000000</td>\n",
       "      <td>0.990000</td>\n",
       "      <td>1.000000e+00</td>\n",
       "      <td>1.000000</td>\n",
       "      <td>7.500000e+00</td>\n",
       "    </tr>\n",
       "    <tr>\n",
       "      <th>25%</th>\n",
       "      <td>750.000000</td>\n",
       "      <td>11.799501</td>\n",
       "      <td>5.250000e+01</td>\n",
       "      <td>3.000000</td>\n",
       "      <td>1.395540e+03</td>\n",
       "    </tr>\n",
       "    <tr>\n",
       "      <th>50%</th>\n",
       "      <td>750.000000</td>\n",
       "      <td>20.250000</td>\n",
       "      <td>5.470000e+02</td>\n",
       "      <td>49.000000</td>\n",
       "      <td>1.304100e+04</td>\n",
       "    </tr>\n",
       "    <tr>\n",
       "      <th>75%</th>\n",
       "      <td>750.000000</td>\n",
       "      <td>35.000000</td>\n",
       "      <td>3.622000e+03</td>\n",
       "      <td>154.000000</td>\n",
       "      <td>5.269973e+04</td>\n",
       "    </tr>\n",
       "    <tr>\n",
       "      <th>max</th>\n",
       "      <td>5250.000000</td>\n",
       "      <td>2963.694000</td>\n",
       "      <td>2.105088e+06</td>\n",
       "      <td>1725.000000</td>\n",
       "      <td>1.062280e+07</td>\n",
       "    </tr>\n",
       "  </tbody>\n",
       "</table>\n",
       "</div>"
      ],
      "text/plain": [
       "       Bottle_Volume  Bottle_Retail  Bottles_Sold  Num_Stores_Selling  \\\n",
       "count    4475.000000    4475.000000  4.475000e+03         4475.000000   \n",
       "mean      792.361564      31.221806  6.930340e+03          125.248045   \n",
       "std       410.724957      69.350753  3.972229e+04          214.229508   \n",
       "min        20.000000       0.990000  1.000000e+00            1.000000   \n",
       "25%       750.000000      11.799501  5.250000e+01            3.000000   \n",
       "50%       750.000000      20.250000  5.470000e+02           49.000000   \n",
       "75%       750.000000      35.000000  3.622000e+03          154.000000   \n",
       "max      5250.000000    2963.694000  2.105088e+06         1725.000000   \n",
       "\n",
       "            revenue  \n",
       "count  4.475000e+03  \n",
       "mean   9.480072e+04  \n",
       "std    3.889196e+05  \n",
       "min    7.500000e+00  \n",
       "25%    1.395540e+03  \n",
       "50%    1.304100e+04  \n",
       "75%    5.269973e+04  \n",
       "max    1.062280e+07  "
      ]
     },
     "execution_count": 16,
     "metadata": {},
     "output_type": "execute_result"
    }
   ],
   "source": [
    "products.describe()"
   ]
  },
  {
   "cell_type": "code",
   "execution_count": 17,
   "id": "9bef7d21",
   "metadata": {},
   "outputs": [
    {
     "data": {
      "text/plain": [
       "(4475, 8)"
      ]
     },
     "execution_count": 17,
     "metadata": {},
     "output_type": "execute_result"
    }
   ],
   "source": [
    "products.shape"
   ]
  },
  {
   "cell_type": "code",
   "execution_count": 18,
   "id": "2f60facc",
   "metadata": {},
   "outputs": [
    {
     "data": {
      "text/plain": [
       "<AxesSubplot:xlabel='Bottle_Retail', ylabel='Count'>"
      ]
     },
     "execution_count": 18,
     "metadata": {},
     "output_type": "execute_result"
    },
    {
     "data": {
      "image/png": "[encoded data removed]",
      "text/plain": [
       "<Figure size 1080x576 with 1 Axes>"
      ]
     },
     "metadata": {},
     "output_type": "display_data"
    }
   ],
   "source": [
    "gph = sns.set(rc = {'figure.figsize':(15,8)})\n",
    "sns.histplot(products['Bottle_Retail'], bins=150)\n"
   ]
  },
  {
   "cell_type": "code",
   "execution_count": 19,
   "id": "d5eda8f7",
   "metadata": {},
   "outputs": [
    {
     "data": {
      "image/png": "[encoded data removed]",
      "text/plain": [
       "<Figure size 1080x576 with 1 Axes>"
      ]
     },
     "metadata": {},
     "output_type": "display_data"
    }
   ],
   "source": [
    "# products.plot.scatter(x='Bottle_Volume', y='Bottle_Retail')\n",
    "gph = sns.set(rc = {'figure.figsize':(15,8)})\n",
    "gfg = sns.scatterplot(data=products, x='Bottle_Retail', y='Bottle_Volume')\n",
    "# gfg.set_ylim(0, 80)\n",
    "# gph.set_xlim(0.98,3000)\n",
    "# gph.set_xticks(range(0.98,3000))\n",
    "plt.show()"
   ]
  },
  {
   "cell_type": "code",
   "execution_count": 20,
   "id": "e5bdaa49",
   "metadata": {},
   "outputs": [
    {
     "data": {
      "text/plain": [
       "0.012858551897243728"
      ]
     },
     "execution_count": 20,
     "metadata": {},
     "output_type": "execute_result"
    }
   ],
   "source": [
    "products.Bottle_Retail.corr((products.Bottle_Volume))"
   ]
  },
  {
   "cell_type": "code",
   "execution_count": 21,
   "id": "16554301",
   "metadata": {},
   "outputs": [
    {
     "data": {
      "text/plain": [
       "-0.04408941079679311"
      ]
     },
     "execution_count": 21,
     "metadata": {},
     "output_type": "execute_result"
    }
   ],
   "source": [
    "products.Bottle_Retail.corr((products.Bottles_Sold))"
   ]
  },
  {
   "cell_type": "code",
   "execution_count": 22,
   "id": "6c0eaf24",
   "metadata": {},
   "outputs": [
    {
     "data": {
      "text/plain": [
       "-0.000152168220141047"
      ]
     },
     "execution_count": 22,
     "metadata": {},
     "output_type": "execute_result"
    }
   ],
   "source": [
    "products.Bottles_Sold.corr((products.Bottle_Volume))"
   ]
  },
  {
   "cell_type": "code",
   "execution_count": 23,
   "id": "8f0c52bb",
   "metadata": {},
   "outputs": [
    {
     "data": {
      "text/plain": [
       "0.45378226327407434"
      ]
     },
     "execution_count": 23,
     "metadata": {},
     "output_type": "execute_result"
    }
   ],
   "source": [
    "products.Bottles_Sold.corr((products.Num_Stores_Selling))"
   ]
  },
  {
   "cell_type": "code",
   "execution_count": 24,
   "id": "5aadbed4",
   "metadata": {},
   "outputs": [
    {
     "data": {
      "text/html": [
       "<div>\n",
       "<style scoped>\n",
       "    .dataframe tbody tr th:only-of-type {\n",
       "        vertical-align: middle;\n",
       "    }\n",
       "\n",
       "    .dataframe tbody tr th {\n",
       "        vertical-align: top;\n",
       "    }\n",
       "\n",
       "    .dataframe thead th {\n",
       "        text-align: right;\n",
       "    }\n",
       "</style>\n",
       "<table border=\"1\" class=\"dataframe\">\n",
       "  <thead>\n",
       "    <tr style=\"text-align: right;\">\n",
       "      <th></th>\n",
       "      <th>Item_Number</th>\n",
       "      <th>Item_Description</th>\n",
       "      <th>Bottle_Volume</th>\n",
       "      <th>New_Category_Name</th>\n",
       "      <th>Bottle_Retail</th>\n",
       "      <th>Bottles_Sold</th>\n",
       "      <th>Num_Stores_Selling</th>\n",
       "      <th>revenue</th>\n",
       "    </tr>\n",
       "  </thead>\n",
       "  <tbody>\n",
       "    <tr>\n",
       "      <th>1636</th>\n",
       "      <td>48725</td>\n",
       "      <td>Remy Martin Louis XIII</td>\n",
       "      <td>750</td>\n",
       "      <td>Brandies</td>\n",
       "      <td>2963.694</td>\n",
       "      <td>17</td>\n",
       "      <td>12</td>\n",
       "      <td>50977.11</td>\n",
       "    </tr>\n",
       "    <tr>\n",
       "      <th>3330</th>\n",
       "      <td>917673</td>\n",
       "      <td>HA Double Eagle Very Rare</td>\n",
       "      <td>750</td>\n",
       "      <td>Bourbon</td>\n",
       "      <td>1500.000</td>\n",
       "      <td>2</td>\n",
       "      <td>2</td>\n",
       "      <td>3000.00</td>\n",
       "    </tr>\n",
       "    <tr>\n",
       "      <th>3367</th>\n",
       "      <td>919976</td>\n",
       "      <td>HA OFC Bourbon 1995</td>\n",
       "      <td>750</td>\n",
       "      <td>Bourbon</td>\n",
       "      <td>1875.000</td>\n",
       "      <td>10</td>\n",
       "      <td>10</td>\n",
       "      <td>18750.00</td>\n",
       "    </tr>\n",
       "  </tbody>\n",
       "</table>\n",
       "</div>"
      ],
      "text/plain": [
       "     Item_Number           Item_Description  Bottle_Volume New_Category_Name  \\\n",
       "1636       48725     Remy Martin Louis XIII            750          Brandies   \n",
       "3330      917673  HA Double Eagle Very Rare            750           Bourbon   \n",
       "3367      919976        HA OFC Bourbon 1995            750           Bourbon   \n",
       "\n",
       "      Bottle_Retail  Bottles_Sold  Num_Stores_Selling   revenue  \n",
       "1636       2963.694            17                  12  50977.11  \n",
       "3330       1500.000             2                   2   3000.00  \n",
       "3367       1875.000            10                  10  18750.00  "
      ]
     },
     "execution_count": 24,
     "metadata": {},
     "output_type": "execute_result"
    }
   ],
   "source": [
    "filt = products.Bottle_Retail > 1400\n",
    "products[filt]"
   ]
  },
  {
   "cell_type": "code",
   "execution_count": 25,
   "id": "1d7103fa",
   "metadata": {},
   "outputs": [
    {
     "data": {
      "text/html": [
       "<div>\n",
       "<style scoped>\n",
       "    .dataframe tbody tr th:only-of-type {\n",
       "        vertical-align: middle;\n",
       "    }\n",
       "\n",
       "    .dataframe tbody tr th {\n",
       "        vertical-align: top;\n",
       "    }\n",
       "\n",
       "    .dataframe thead th {\n",
       "        text-align: right;\n",
       "    }\n",
       "</style>\n",
       "<table border=\"1\" class=\"dataframe\">\n",
       "  <thead>\n",
       "    <tr style=\"text-align: right;\">\n",
       "      <th></th>\n",
       "      <th>Item_Number</th>\n",
       "      <th>Item_Description</th>\n",
       "      <th>Bottle_Volume</th>\n",
       "      <th>New_Category_Name</th>\n",
       "      <th>Bottle_Retail</th>\n",
       "      <th>Bottles_Sold</th>\n",
       "      <th>Num_Stores_Selling</th>\n",
       "      <th>revenue</th>\n",
       "    </tr>\n",
       "  </thead>\n",
       "  <tbody>\n",
       "    <tr>\n",
       "      <th>0</th>\n",
       "      <td>100015</td>\n",
       "      <td>Fireball Cinnamon Whiskey Bag in Box</td>\n",
       "      <td>3500</td>\n",
       "      <td>Liquers</td>\n",
       "      <td>45.0</td>\n",
       "      <td>1123</td>\n",
       "      <td>129</td>\n",
       "      <td>50535.0</td>\n",
       "    </tr>\n",
       "    <tr>\n",
       "      <th>139</th>\n",
       "      <td>101515</td>\n",
       "      <td>Fireball Cinnamon Whiskey Keg</td>\n",
       "      <td>5250</td>\n",
       "      <td>Temporary &amp; Specialty Packages</td>\n",
       "      <td>138.0</td>\n",
       "      <td>180</td>\n",
       "      <td>141</td>\n",
       "      <td>24895.5</td>\n",
       "    </tr>\n",
       "    <tr>\n",
       "      <th>155</th>\n",
       "      <td>101665</td>\n",
       "      <td>Stumpys Spirits Cocktail Collection Gift Set</td>\n",
       "      <td>4500</td>\n",
       "      <td>Temporary &amp; Specialty Packages</td>\n",
       "      <td>108.0</td>\n",
       "      <td>115</td>\n",
       "      <td>26</td>\n",
       "      <td>12420.0</td>\n",
       "    </tr>\n",
       "  </tbody>\n",
       "</table>\n",
       "</div>"
      ],
      "text/plain": [
       "    Item_Number                              Item_Description  Bottle_Volume  \\\n",
       "0        100015          Fireball Cinnamon Whiskey Bag in Box           3500   \n",
       "139      101515                 Fireball Cinnamon Whiskey Keg           5250   \n",
       "155      101665  Stumpys Spirits Cocktail Collection Gift Set           4500   \n",
       "\n",
       "                  New_Category_Name  Bottle_Retail  Bottles_Sold  \\\n",
       "0                           Liquers           45.0          1123   \n",
       "139  Temporary & Specialty Packages          138.0           180   \n",
       "155  Temporary & Specialty Packages          108.0           115   \n",
       "\n",
       "     Num_Stores_Selling  revenue  \n",
       "0                   129  50535.0  \n",
       "139                 141  24895.5  \n",
       "155                  26  12420.0  "
      ]
     },
     "execution_count": 25,
     "metadata": {},
     "output_type": "execute_result"
    }
   ],
   "source": [
    "filt2 = products.Bottle_Volume > 3000\n",
    "products[filt2]"
   ]
  },
  {
   "cell_type": "code",
   "execution_count": null,
   "id": "8d9567c0",
   "metadata": {},
   "outputs": [],
   "source": []
  },
  {
   "cell_type": "code",
   "execution_count": 26,
   "id": "bdb4096d",
   "metadata": {},
   "outputs": [
    {
     "data": {
      "text/plain": [
       "31013272"
      ]
     },
     "execution_count": 26,
     "metadata": {},
     "output_type": "execute_result"
    }
   ],
   "source": [
    "np.sum(products.Bottles_Sold)"
   ]
  },
  {
   "cell_type": "code",
   "execution_count": 27,
   "id": "a8c18cf2",
   "metadata": {},
   "outputs": [
    {
     "data": {
      "image/png": "[encoded data removed]",
      "text/plain": [
       "<Figure size 1080x576 with 1 Axes>"
      ]
     },
     "metadata": {},
     "output_type": "display_data"
    }
   ],
   "source": [
    "gph = sns.set(rc = {'figure.figsize':(15,8)})\n",
    "gfg = sns.scatterplot(data=products, x='Bottle_Retail', y='Bottles_Sold')\n",
    "# gfg.set_ylim(0, 80)"
   ]
  },
  {
   "cell_type": "markdown",
   "id": "313e2938",
   "metadata": {},
   "source": [
    "remove outliers"
   ]
  },
  {
   "cell_type": "code",
   "execution_count": 28,
   "id": "e9a87989",
   "metadata": {},
   "outputs": [],
   "source": [
    "# filt = products2.Bottle_Retail > 1400 #drop outliers of Bottle Retail\n",
    "filt = products2.Bottle_Retail > 750 #drop outliers of Bottle Retail"
   ]
  },
  {
   "cell_type": "code",
   "execution_count": 29,
   "id": "712f3553",
   "metadata": {},
   "outputs": [
    {
     "data": {
      "text/html": [
       "<div>\n",
       "<style scoped>\n",
       "    .dataframe tbody tr th:only-of-type {\n",
       "        vertical-align: middle;\n",
       "    }\n",
       "\n",
       "    .dataframe tbody tr th {\n",
       "        vertical-align: top;\n",
       "    }\n",
       "\n",
       "    .dataframe thead th {\n",
       "        text-align: right;\n",
       "    }\n",
       "</style>\n",
       "<table border=\"1\" class=\"dataframe\">\n",
       "  <thead>\n",
       "    <tr style=\"text-align: right;\">\n",
       "      <th></th>\n",
       "      <th>Item_Number</th>\n",
       "      <th>Item_Description</th>\n",
       "      <th>Bottle_Volume</th>\n",
       "      <th>New_Category_Name</th>\n",
       "      <th>Bottle_Retail</th>\n",
       "      <th>Bottles_Sold</th>\n",
       "      <th>Num_Stores_Selling</th>\n",
       "      <th>revenue</th>\n",
       "    </tr>\n",
       "  </thead>\n",
       "  <tbody>\n",
       "    <tr>\n",
       "      <th>1338</th>\n",
       "      <td>4113</td>\n",
       "      <td>Hennessy Paradis</td>\n",
       "      <td>750</td>\n",
       "      <td>Brandies</td>\n",
       "      <td>824.990</td>\n",
       "      <td>27</td>\n",
       "      <td>15</td>\n",
       "      <td>22274.73</td>\n",
       "    </tr>\n",
       "    <tr>\n",
       "      <th>1636</th>\n",
       "      <td>48725</td>\n",
       "      <td>Remy Martin Louis XIII</td>\n",
       "      <td>750</td>\n",
       "      <td>Brandies</td>\n",
       "      <td>2963.694</td>\n",
       "      <td>17</td>\n",
       "      <td>12</td>\n",
       "      <td>50977.11</td>\n",
       "    </tr>\n",
       "    <tr>\n",
       "      <th>3194</th>\n",
       "      <td>906532</td>\n",
       "      <td>Glengoyne 30 YO</td>\n",
       "      <td>750</td>\n",
       "      <td>Scotch</td>\n",
       "      <td>1012.500</td>\n",
       "      <td>1</td>\n",
       "      <td>1</td>\n",
       "      <td>1012.50</td>\n",
       "    </tr>\n",
       "    <tr>\n",
       "      <th>3330</th>\n",
       "      <td>917673</td>\n",
       "      <td>HA Double Eagle Very Rare</td>\n",
       "      <td>750</td>\n",
       "      <td>Bourbon</td>\n",
       "      <td>1500.000</td>\n",
       "      <td>2</td>\n",
       "      <td>2</td>\n",
       "      <td>3000.00</td>\n",
       "    </tr>\n",
       "    <tr>\n",
       "      <th>3367</th>\n",
       "      <td>919976</td>\n",
       "      <td>HA OFC Bourbon 1995</td>\n",
       "      <td>750</td>\n",
       "      <td>Bourbon</td>\n",
       "      <td>1875.000</td>\n",
       "      <td>10</td>\n",
       "      <td>10</td>\n",
       "      <td>18750.00</td>\n",
       "    </tr>\n",
       "  </tbody>\n",
       "</table>\n",
       "</div>"
      ],
      "text/plain": [
       "     Item_Number           Item_Description  Bottle_Volume New_Category_Name  \\\n",
       "1338        4113           Hennessy Paradis            750          Brandies   \n",
       "1636       48725     Remy Martin Louis XIII            750          Brandies   \n",
       "3194      906532            Glengoyne 30 YO            750            Scotch   \n",
       "3330      917673  HA Double Eagle Very Rare            750           Bourbon   \n",
       "3367      919976        HA OFC Bourbon 1995            750           Bourbon   \n",
       "\n",
       "      Bottle_Retail  Bottles_Sold  Num_Stores_Selling   revenue  \n",
       "1338        824.990            27                  15  22274.73  \n",
       "1636       2963.694            17                  12  50977.11  \n",
       "3194       1012.500             1                   1   1012.50  \n",
       "3330       1500.000             2                   2   3000.00  \n",
       "3367       1875.000            10                  10  18750.00  "
      ]
     },
     "execution_count": 29,
     "metadata": {},
     "output_type": "execute_result"
    }
   ],
   "source": [
    "products2[filt]"
   ]
  },
  {
   "cell_type": "code",
   "execution_count": 30,
   "id": "81f89fba",
   "metadata": {},
   "outputs": [],
   "source": [
    "\n",
    "products2 = products2[~filt]"
   ]
  },
  {
   "cell_type": "code",
   "execution_count": 31,
   "id": "4525df3e",
   "metadata": {},
   "outputs": [
    {
     "data": {
      "text/plain": [
       "(4311, 8)"
      ]
     },
     "execution_count": 31,
     "metadata": {},
     "output_type": "execute_result"
    }
   ],
   "source": [
    "products2.shape"
   ]
  },
  {
   "cell_type": "code",
   "execution_count": 32,
   "id": "2551ca8f",
   "metadata": {},
   "outputs": [],
   "source": [
    "filt2 = products2.Bottle_Volume > 3000 #drop outliers of Bottle Volume"
   ]
  },
  {
   "cell_type": "code",
   "execution_count": 33,
   "id": "08280dc1",
   "metadata": {},
   "outputs": [],
   "source": [
    "products2 = products2[~filt2] "
   ]
  },
  {
   "cell_type": "code",
   "execution_count": 34,
   "id": "75283c67",
   "metadata": {},
   "outputs": [
    {
     "data": {
      "text/plain": [
       "(4308, 8)"
      ]
     },
     "execution_count": 34,
     "metadata": {},
     "output_type": "execute_result"
    }
   ],
   "source": [
    "products2.shape"
   ]
  },
  {
   "cell_type": "code",
   "execution_count": 35,
   "id": "07a7dba8",
   "metadata": {},
   "outputs": [],
   "source": [
    "filt3= products2.Item_Number == '64870'  #outlier of bottles sold"
   ]
  },
  {
   "cell_type": "code",
   "execution_count": 36,
   "id": "e0eb4c27",
   "metadata": {},
   "outputs": [
    {
     "data": {
      "text/html": [
       "<div>\n",
       "<style scoped>\n",
       "    .dataframe tbody tr th:only-of-type {\n",
       "        vertical-align: middle;\n",
       "    }\n",
       "\n",
       "    .dataframe tbody tr th {\n",
       "        vertical-align: top;\n",
       "    }\n",
       "\n",
       "    .dataframe thead th {\n",
       "        text-align: right;\n",
       "    }\n",
       "</style>\n",
       "<table border=\"1\" class=\"dataframe\">\n",
       "  <thead>\n",
       "    <tr style=\"text-align: right;\">\n",
       "      <th></th>\n",
       "      <th>Item_Number</th>\n",
       "      <th>Item_Description</th>\n",
       "      <th>Bottle_Volume</th>\n",
       "      <th>New_Category_Name</th>\n",
       "      <th>Bottle_Retail</th>\n",
       "      <th>Bottles_Sold</th>\n",
       "      <th>Num_Stores_Selling</th>\n",
       "      <th>revenue</th>\n",
       "    </tr>\n",
       "  </thead>\n",
       "  <tbody>\n",
       "    <tr>\n",
       "      <th>2035</th>\n",
       "      <td>64870</td>\n",
       "      <td>Fireball Cinnamon Whiskey</td>\n",
       "      <td>100</td>\n",
       "      <td>Liquers</td>\n",
       "      <td>1.35</td>\n",
       "      <td>2105088</td>\n",
       "      <td>893</td>\n",
       "      <td>2841868.8</td>\n",
       "    </tr>\n",
       "  </tbody>\n",
       "</table>\n",
       "</div>"
      ],
      "text/plain": [
       "     Item_Number           Item_Description  Bottle_Volume New_Category_Name  \\\n",
       "2035       64870  Fireball Cinnamon Whiskey            100           Liquers   \n",
       "\n",
       "      Bottle_Retail  Bottles_Sold  Num_Stores_Selling    revenue  \n",
       "2035           1.35       2105088                 893  2841868.8  "
      ]
     },
     "execution_count": 36,
     "metadata": {},
     "output_type": "execute_result"
    }
   ],
   "source": [
    "products2[filt3]"
   ]
  },
  {
   "cell_type": "code",
   "execution_count": 37,
   "id": "3687ceb2",
   "metadata": {},
   "outputs": [],
   "source": [
    "# products2[filt3]\n",
    "\n",
    "\n",
    "products2 = products2[~filt3]"
   ]
  },
  {
   "cell_type": "markdown",
   "id": "31fafb65",
   "metadata": {},
   "source": [
    "## write out products2"
   ]
  },
  {
   "cell_type": "code",
   "execution_count": 38,
   "id": "33ffe25d",
   "metadata": {},
   "outputs": [],
   "source": [
    "products2.to_csv(r'C:\\Users\\dgarb\\OneDrive\\Desktop\\Capstone Data\\liquor_2021\\products2_outliers_removed.csv')"
   ]
  },
  {
   "cell_type": "markdown",
   "id": "287691d5",
   "metadata": {},
   "source": [
    "## scale data for clustering"
   ]
  },
  {
   "cell_type": "code",
   "execution_count": 39,
   "id": "e11d95e1",
   "metadata": {},
   "outputs": [
    {
     "data": {
      "text/plain": [
       "(4307, 8)"
      ]
     },
     "execution_count": 39,
     "metadata": {},
     "output_type": "execute_result"
    }
   ],
   "source": [
    "products2.shape"
   ]
  },
  {
   "cell_type": "code",
   "execution_count": 40,
   "id": "7fa627b6",
   "metadata": {},
   "outputs": [],
   "source": [
    "# cols_to_scale = ['Bottle_Volume', 'Bottle_Retail', 'Bottles_Sold']"
   ]
  },
  {
   "cell_type": "code",
   "execution_count": 41,
   "id": "d8f6ee4a",
   "metadata": {},
   "outputs": [],
   "source": [
    "scaler = StandardScaler()"
   ]
  },
  {
   "cell_type": "code",
   "execution_count": 42,
   "id": "29874bc8",
   "metadata": {},
   "outputs": [
    {
     "data": {
      "text/html": [
       "<div>\n",
       "<style scoped>\n",
       "    .dataframe tbody tr th:only-of-type {\n",
       "        vertical-align: middle;\n",
       "    }\n",
       "\n",
       "    .dataframe tbody tr th {\n",
       "        vertical-align: top;\n",
       "    }\n",
       "\n",
       "    .dataframe thead th {\n",
       "        text-align: right;\n",
       "    }\n",
       "</style>\n",
       "<table border=\"1\" class=\"dataframe\">\n",
       "  <thead>\n",
       "    <tr style=\"text-align: right;\">\n",
       "      <th></th>\n",
       "      <th>Bottle_Volume_scaled</th>\n",
       "      <th>Bottle_Retail_scaled</th>\n",
       "      <th>Bottles_Sold_scaled</th>\n",
       "    </tr>\n",
       "  </thead>\n",
       "  <tbody>\n",
       "    <tr>\n",
       "      <th>count</th>\n",
       "      <td>4.307000e+03</td>\n",
       "      <td>4.307000e+03</td>\n",
       "      <td>4.307000e+03</td>\n",
       "    </tr>\n",
       "    <tr>\n",
       "      <th>mean</th>\n",
       "      <td>2.295406e-15</td>\n",
       "      <td>3.563437e-16</td>\n",
       "      <td>-1.609011e-16</td>\n",
       "    </tr>\n",
       "    <tr>\n",
       "      <th>std</th>\n",
       "      <td>1.000116e+00</td>\n",
       "      <td>1.000116e+00</td>\n",
       "      <td>1.000116e+00</td>\n",
       "    </tr>\n",
       "    <tr>\n",
       "      <th>min</th>\n",
       "      <td>-2.096811e+00</td>\n",
       "      <td>-7.828258e-01</td>\n",
       "      <td>-2.662160e-01</td>\n",
       "    </tr>\n",
       "    <tr>\n",
       "      <th>25%</th>\n",
       "      <td>-1.773588e-01</td>\n",
       "      <td>-4.922694e-01</td>\n",
       "      <td>-2.640761e-01</td>\n",
       "    </tr>\n",
       "    <tr>\n",
       "      <th>50%</th>\n",
       "      <td>-1.773588e-01</td>\n",
       "      <td>-2.451894e-01</td>\n",
       "      <td>-2.430812e-01</td>\n",
       "    </tr>\n",
       "    <tr>\n",
       "      <th>75%</th>\n",
       "      <td>-1.773588e-01</td>\n",
       "      <td>1.474533e-01</td>\n",
       "      <td>-1.158397e-01</td>\n",
       "    </tr>\n",
       "    <tr>\n",
       "      <th>max</th>\n",
       "      <td>4.161130e+00</td>\n",
       "      <td>1.699185e+01</td>\n",
       "      <td>2.247531e+01</td>\n",
       "    </tr>\n",
       "  </tbody>\n",
       "</table>\n",
       "</div>"
      ],
      "text/plain": [
       "       Bottle_Volume_scaled  Bottle_Retail_scaled  Bottles_Sold_scaled\n",
       "count          4.307000e+03          4.307000e+03         4.307000e+03\n",
       "mean           2.295406e-15          3.563437e-16        -1.609011e-16\n",
       "std            1.000116e+00          1.000116e+00         1.000116e+00\n",
       "min           -2.096811e+00         -7.828258e-01        -2.662160e-01\n",
       "25%           -1.773588e-01         -4.922694e-01        -2.640761e-01\n",
       "50%           -1.773588e-01         -2.451894e-01        -2.430812e-01\n",
       "75%           -1.773588e-01          1.474533e-01        -1.158397e-01\n",
       "max            4.161130e+00          1.699185e+01         2.247531e+01"
      ]
     },
     "execution_count": 42,
     "metadata": {},
     "output_type": "execute_result"
    }
   ],
   "source": [
    "\n",
    "\n",
    "products2[['Bottle_Volume_scaled', 'Bottle_Retail_scaled', 'Bottles_Sold_scaled' ]] = scaler.fit_transform\\\n",
    "                                           (products2[['Bottle_Volume', 'Bottle_Retail', 'Bottles_Sold']])\n",
    "                                                   \n",
    "\n",
    "products2[['Bottle_Volume_scaled', 'Bottle_Retail_scaled', 'Bottles_Sold_scaled']].describe()"
   ]
  },
  {
   "cell_type": "code",
   "execution_count": null,
   "id": "95ba61c0",
   "metadata": {},
   "outputs": [],
   "source": []
  },
  {
   "cell_type": "code",
   "execution_count": 43,
   "id": "83f680d9",
   "metadata": {},
   "outputs": [],
   "source": [
    "# model = KMeans(n_clusters=3, random_state=42)\n",
    "\n",
    "cluster_cols = ['Bottle_Volume_scaled', 'Bottle_Retail_scaled', 'Bottles_Sold_scaled' ]\n"
   ]
  },
  {
   "cell_type": "markdown",
   "id": "d7cc6c10",
   "metadata": {},
   "source": [
    "determine optimal number of clusters"
   ]
  },
  {
   "cell_type": "code",
   "execution_count": 44,
   "id": "6ebcee05",
   "metadata": {},
   "outputs": [
    {
     "name": "stdout",
     "output_type": "stream",
     "text": [
      "number of clusters =  2   silhouette score =  0.6402616619432038\n",
      "number of clusters =  3   silhouette score =  0.6293705991614129\n",
      "number of clusters =  4   silhouette score =  0.6578331681724466\n",
      "number of clusters =  5   silhouette score =  0.5818767757961989\n",
      "number of clusters =  6   silhouette score =  0.5937353032583028\n",
      "number of clusters =  7   silhouette score =  0.5688255400179291\n",
      "number of clusters =  8   silhouette score =  0.5342460550903364\n",
      "number of clusters =  9   silhouette score =  0.5524517637234547\n",
      "number of clusters =  10   silhouette score =  0.5103762404785563\n"
     ]
    }
   ],
   "source": [
    "from sklearn.metrics import silhouette_score\n",
    "\n",
    "cluster_cols = ['Bottle_Volume_scaled', 'Bottle_Retail_scaled', 'Bottles_Sold_scaled' ]\n",
    "\n",
    "df_scaled = products2[cluster_cols]\n",
    "\n",
    "\n",
    "for clust in range(2,11):\n",
    "    model = KMeans(n_clusters=clust, random_state=42).fit(df_scaled)\n",
    "    \n",
    "\n",
    "    \n",
    "    silhouette_avg = silhouette_score(df_scaled,model.labels_)\n",
    "    print('number of clusters = ',clust,' ','silhouette score = ',silhouette_avg)"
   ]
  },
  {
   "cell_type": "code",
   "execution_count": 45,
   "id": "5a44b257",
   "metadata": {},
   "outputs": [],
   "source": [
    "inertia_scores = []\n",
    "\n",
    "for clust in range(2,11):\n",
    "    inertia = KMeans(n_clusters=clust, random_state=42)\\\n",
    "              .fit(df_scaled).inertia_\n",
    "    inertia_scores.append(inertia)"
   ]
  },
  {
   "cell_type": "code",
   "execution_count": 46,
   "id": "ac0a81d4",
   "metadata": {},
   "outputs": [
    {
     "data": {
      "image/png": "[encoded data removed]",
      "text/plain": [
       "<Figure size 1080x576 with 1 Axes>"
      ]
     },
     "metadata": {},
     "output_type": "display_data"
    }
   ],
   "source": [
    "\n",
    "plt.plot(range(2,11), inertia_scores)\n",
    "plt.title(\"Inertia vs. number of clusters\")\n",
    "plt.xlabel(\"Number of clusters: K\")\n",
    "plt.ylabel('Inertia')\n",
    "plt.show()"
   ]
  },
  {
   "cell_type": "code",
   "execution_count": 47,
   "id": "b27d721d",
   "metadata": {},
   "outputs": [],
   "source": [
    "# stop"
   ]
  },
  {
   "cell_type": "markdown",
   "id": "e27ce8dc",
   "metadata": {},
   "source": [
    "get four clusters"
   ]
  },
  {
   "cell_type": "code",
   "execution_count": 48,
   "id": "a9a21d4a",
   "metadata": {},
   "outputs": [],
   "source": [
    "\n",
    "\n",
    "cluster_cols = ['Bottle_Volume_scaled', 'Bottle_Retail_scaled', 'Bottles_Sold_scaled' ]\n",
    "\n",
    "\n",
    "model = KMeans(n_clusters=7, random_state=42)\n",
    "\n",
    "model.fit(products2[cluster_cols])\n",
    "\n",
    "products2['product_cluster'] = model.predict(products2[cluster_cols])"
   ]
  },
  {
   "cell_type": "code",
   "execution_count": 49,
   "id": "482daa89",
   "metadata": {},
   "outputs": [
    {
     "data": {
      "text/html": [
       "<div>\n",
       "<style scoped>\n",
       "    .dataframe tbody tr th:only-of-type {\n",
       "        vertical-align: middle;\n",
       "    }\n",
       "\n",
       "    .dataframe tbody tr th {\n",
       "        vertical-align: top;\n",
       "    }\n",
       "\n",
       "    .dataframe thead th {\n",
       "        text-align: right;\n",
       "    }\n",
       "</style>\n",
       "<table border=\"1\" class=\"dataframe\">\n",
       "  <thead>\n",
       "    <tr style=\"text-align: right;\">\n",
       "      <th></th>\n",
       "      <th>Item_Number</th>\n",
       "      <th>Item_Description</th>\n",
       "      <th>Bottle_Volume</th>\n",
       "      <th>New_Category_Name</th>\n",
       "      <th>Bottle_Retail</th>\n",
       "      <th>Bottles_Sold</th>\n",
       "      <th>Num_Stores_Selling</th>\n",
       "      <th>revenue</th>\n",
       "      <th>Bottle_Volume_scaled</th>\n",
       "      <th>Bottle_Retail_scaled</th>\n",
       "      <th>Bottles_Sold_scaled</th>\n",
       "      <th>product_cluster</th>\n",
       "    </tr>\n",
       "  </thead>\n",
       "  <tbody>\n",
       "    <tr>\n",
       "      <th>1</th>\n",
       "      <td>10006</td>\n",
       "      <td>Scoresby Rare Scotch</td>\n",
       "      <td>750</td>\n",
       "      <td>Scotch</td>\n",
       "      <td>7.70</td>\n",
       "      <td>4619</td>\n",
       "      <td>197</td>\n",
       "      <td>35566.30</td>\n",
       "      <td>-0.177359</td>\n",
       "      <td>-0.595421</td>\n",
       "      <td>-0.079765</td>\n",
       "      <td>2</td>\n",
       "    </tr>\n",
       "    <tr>\n",
       "      <th>2</th>\n",
       "      <td>100077</td>\n",
       "      <td>Kraken Rum w/ Tiki Glass</td>\n",
       "      <td>750</td>\n",
       "      <td>Temporary &amp; Specialty Packages</td>\n",
       "      <td>15.68</td>\n",
       "      <td>2679</td>\n",
       "      <td>136</td>\n",
       "      <td>42006.72</td>\n",
       "      <td>-0.177359</td>\n",
       "      <td>-0.372546</td>\n",
       "      <td>-0.158092</td>\n",
       "      <td>2</td>\n",
       "    </tr>\n",
       "    <tr>\n",
       "      <th>3</th>\n",
       "      <td>10008</td>\n",
       "      <td>Scoresby Rare Scotch</td>\n",
       "      <td>1750</td>\n",
       "      <td>Scotch</td>\n",
       "      <td>15.75</td>\n",
       "      <td>12340</td>\n",
       "      <td>287</td>\n",
       "      <td>194355.00</td>\n",
       "      <td>2.452028</td>\n",
       "      <td>-0.370591</td>\n",
       "      <td>0.231970</td>\n",
       "      <td>4</td>\n",
       "    </tr>\n",
       "    <tr>\n",
       "      <th>4</th>\n",
       "      <td>10009</td>\n",
       "      <td>Scoresby Rare Scotch</td>\n",
       "      <td>1000</td>\n",
       "      <td>Scotch</td>\n",
       "      <td>10.11</td>\n",
       "      <td>1722</td>\n",
       "      <td>70</td>\n",
       "      <td>17409.42</td>\n",
       "      <td>0.479988</td>\n",
       "      <td>-0.528112</td>\n",
       "      <td>-0.196731</td>\n",
       "      <td>2</td>\n",
       "    </tr>\n",
       "    <tr>\n",
       "      <th>5</th>\n",
       "      <td>100148</td>\n",
       "      <td>Jack Daniels Single Barrel w/Snifter Glass</td>\n",
       "      <td>750</td>\n",
       "      <td>Temporary &amp; Specialty Packages</td>\n",
       "      <td>41.39</td>\n",
       "      <td>606</td>\n",
       "      <td>120</td>\n",
       "      <td>25082.34</td>\n",
       "      <td>-0.177359</td>\n",
       "      <td>0.345512</td>\n",
       "      <td>-0.241789</td>\n",
       "      <td>2</td>\n",
       "    </tr>\n",
       "  </tbody>\n",
       "</table>\n",
       "</div>"
      ],
      "text/plain": [
       "  Item_Number                            Item_Description  Bottle_Volume  \\\n",
       "1       10006                        Scoresby Rare Scotch            750   \n",
       "2      100077                    Kraken Rum w/ Tiki Glass            750   \n",
       "3       10008                        Scoresby Rare Scotch           1750   \n",
       "4       10009                        Scoresby Rare Scotch           1000   \n",
       "5      100148  Jack Daniels Single Barrel w/Snifter Glass            750   \n",
       "\n",
       "                New_Category_Name  Bottle_Retail  Bottles_Sold  \\\n",
       "1                          Scotch           7.70          4619   \n",
       "2  Temporary & Specialty Packages          15.68          2679   \n",
       "3                          Scotch          15.75         12340   \n",
       "4                          Scotch          10.11          1722   \n",
       "5  Temporary & Specialty Packages          41.39           606   \n",
       "\n",
       "   Num_Stores_Selling    revenue  Bottle_Volume_scaled  Bottle_Retail_scaled  \\\n",
       "1                 197   35566.30             -0.177359             -0.595421   \n",
       "2                 136   42006.72             -0.177359             -0.372546   \n",
       "3                 287  194355.00              2.452028             -0.370591   \n",
       "4                  70   17409.42              0.479988             -0.528112   \n",
       "5                 120   25082.34             -0.177359              0.345512   \n",
       "\n",
       "   Bottles_Sold_scaled  product_cluster  \n",
       "1            -0.079765                2  \n",
       "2            -0.158092                2  \n",
       "3             0.231970                4  \n",
       "4            -0.196731                2  \n",
       "5            -0.241789                2  "
      ]
     },
     "execution_count": 49,
     "metadata": {},
     "output_type": "execute_result"
    }
   ],
   "source": [
    "products2.head()"
   ]
  },
  {
   "cell_type": "code",
   "execution_count": 50,
   "id": "bf67af93",
   "metadata": {},
   "outputs": [
    {
     "name": "stdout",
     "output_type": "stream",
     "text": [
      "<class 'pandas.core.frame.DataFrame'>\n",
      "Int64Index: 4307 entries, 1 to 4474\n",
      "Data columns (total 12 columns):\n",
      " #   Column                Non-Null Count  Dtype  \n",
      "---  ------                --------------  -----  \n",
      " 0   Item_Number           4307 non-null   object \n",
      " 1   Item_Description      4307 non-null   object \n",
      " 2   Bottle_Volume         4307 non-null   int64  \n",
      " 3   New_Category_Name     4307 non-null   object \n",
      " 4   Bottle_Retail         4307 non-null   float64\n",
      " 5   Bottles_Sold          4307 non-null   int32  \n",
      " 6   Num_Stores_Selling    4307 non-null   int32  \n",
      " 7   revenue               4307 non-null   float64\n",
      " 8   Bottle_Volume_scaled  4307 non-null   float64\n",
      " 9   Bottle_Retail_scaled  4307 non-null   float64\n",
      " 10  Bottles_Sold_scaled   4307 non-null   float64\n",
      " 11  product_cluster       4307 non-null   int32  \n",
      "dtypes: float64(5), int32(3), int64(1), object(3)\n",
      "memory usage: 387.0+ KB\n"
     ]
    }
   ],
   "source": [
    "products2.info()"
   ]
  },
  {
   "cell_type": "code",
   "execution_count": 51,
   "id": "60d6078f",
   "metadata": {},
   "outputs": [],
   "source": [
    "products2['Bottle_Volume_liters'] = products2.Bottle_Volume / 1000"
   ]
  },
  {
   "cell_type": "markdown",
   "id": "aa316983",
   "metadata": {},
   "source": [
    "# Name Clusters"
   ]
  },
  {
   "cell_type": "code",
   "execution_count": 52,
   "id": "72debe7f",
   "metadata": {},
   "outputs": [],
   "source": [
    "# prod_dict = {0:'Volume_For_Dollar', 1:'Everything_Else', 2:'Popular_Bottles',3:'High End'}"
   ]
  },
  {
   "cell_type": "code",
   "execution_count": 53,
   "id": "4fe6245e",
   "metadata": {},
   "outputs": [],
   "source": [
    "# products2[['product_cluster']].apply(lambda p: prod_dict[p[0]],axis=1)"
   ]
  },
  {
   "cell_type": "markdown",
   "id": "c598b27f",
   "metadata": {},
   "source": [
    "Name Product Clusters"
   ]
  },
  {
   "cell_type": "code",
   "execution_count": 54,
   "id": "4bd54f6c",
   "metadata": {},
   "outputs": [],
   "source": [
    "# products2['cluster_name'] = products2['product_cluster'].apply(lambda p: prod_dict[p])"
   ]
  },
  {
   "cell_type": "code",
   "execution_count": 55,
   "id": "8109e35a",
   "metadata": {},
   "outputs": [],
   "source": [
    "# products2.cluster_name"
   ]
  },
  {
   "cell_type": "code",
   "execution_count": 56,
   "id": "a4a88fa2",
   "metadata": {},
   "outputs": [
    {
     "name": "stdout",
     "output_type": "stream",
     "text": [
      "<class 'pandas.core.frame.DataFrame'>\n",
      "Int64Index: 4307 entries, 1 to 4474\n",
      "Data columns (total 13 columns):\n",
      " #   Column                Non-Null Count  Dtype  \n",
      "---  ------                --------------  -----  \n",
      " 0   Item_Number           4307 non-null   object \n",
      " 1   Item_Description      4307 non-null   object \n",
      " 2   Bottle_Volume         4307 non-null   int64  \n",
      " 3   New_Category_Name     4307 non-null   object \n",
      " 4   Bottle_Retail         4307 non-null   float64\n",
      " 5   Bottles_Sold          4307 non-null   int32  \n",
      " 6   Num_Stores_Selling    4307 non-null   int32  \n",
      " 7   revenue               4307 non-null   float64\n",
      " 8   Bottle_Volume_scaled  4307 non-null   float64\n",
      " 9   Bottle_Retail_scaled  4307 non-null   float64\n",
      " 10  Bottles_Sold_scaled   4307 non-null   float64\n",
      " 11  product_cluster       4307 non-null   int32  \n",
      " 12  Bottle_Volume_liters  4307 non-null   float64\n",
      "dtypes: float64(6), int32(3), int64(1), object(3)\n",
      "memory usage: 420.6+ KB\n"
     ]
    }
   ],
   "source": [
    "products2.info()"
   ]
  },
  {
   "cell_type": "code",
   "execution_count": 57,
   "id": "ff205b0f",
   "metadata": {},
   "outputs": [
    {
     "data": {
      "text/html": [
       "<div>\n",
       "<style scoped>\n",
       "    .dataframe tbody tr th:only-of-type {\n",
       "        vertical-align: middle;\n",
       "    }\n",
       "\n",
       "    .dataframe tbody tr th {\n",
       "        vertical-align: top;\n",
       "    }\n",
       "\n",
       "    .dataframe thead th {\n",
       "        text-align: right;\n",
       "    }\n",
       "</style>\n",
       "<table border=\"1\" class=\"dataframe\">\n",
       "  <thead>\n",
       "    <tr style=\"text-align: right;\">\n",
       "      <th></th>\n",
       "      <th>revenue</th>\n",
       "      <th>Bottle_Volume</th>\n",
       "      <th>Bottle_Retail</th>\n",
       "      <th>Bottles_Sold</th>\n",
       "    </tr>\n",
       "    <tr>\n",
       "      <th>product_cluster</th>\n",
       "      <th></th>\n",
       "      <th></th>\n",
       "      <th></th>\n",
       "      <th></th>\n",
       "    </tr>\n",
       "  </thead>\n",
       "  <tbody>\n",
       "    <tr>\n",
       "      <th>0</th>\n",
       "      <td>1.265102e+08</td>\n",
       "      <td>849.462366</td>\n",
       "      <td>13.860230</td>\n",
       "      <td>97888.311828</td>\n",
       "    </tr>\n",
       "    <tr>\n",
       "      <th>1</th>\n",
       "      <td>1.339720e+07</td>\n",
       "      <td>746.666667</td>\n",
       "      <td>68.723796</td>\n",
       "      <td>382.618333</td>\n",
       "    </tr>\n",
       "    <tr>\n",
       "      <th>2</th>\n",
       "      <td>1.382151e+08</td>\n",
       "      <td>782.338502</td>\n",
       "      <td>20.920519</td>\n",
       "      <td>3220.302950</td>\n",
       "    </tr>\n",
       "    <tr>\n",
       "      <th>3</th>\n",
       "      <td>4.843325e+07</td>\n",
       "      <td>868.181818</td>\n",
       "      <td>11.920909</td>\n",
       "      <td>353829.818182</td>\n",
       "    </tr>\n",
       "    <tr>\n",
       "      <th>4</th>\n",
       "      <td>6.027459e+07</td>\n",
       "      <td>1754.401806</td>\n",
       "      <td>23.194309</td>\n",
       "      <td>7005.036117</td>\n",
       "    </tr>\n",
       "    <tr>\n",
       "      <th>5</th>\n",
       "      <td>9.499739e+05</td>\n",
       "      <td>808.510638</td>\n",
       "      <td>268.558212</td>\n",
       "      <td>91.978723</td>\n",
       "    </tr>\n",
       "    <tr>\n",
       "      <th>6</th>\n",
       "      <td>2.342551e+07</td>\n",
       "      <td>214.317697</td>\n",
       "      <td>8.782824</td>\n",
       "      <td>7581.245203</td>\n",
       "    </tr>\n",
       "  </tbody>\n",
       "</table>\n",
       "</div>"
      ],
      "text/plain": [
       "                      revenue  Bottle_Volume  Bottle_Retail   Bottles_Sold\n",
       "product_cluster                                                           \n",
       "0                1.265102e+08     849.462366      13.860230   97888.311828\n",
       "1                1.339720e+07     746.666667      68.723796     382.618333\n",
       "2                1.382151e+08     782.338502      20.920519    3220.302950\n",
       "3                4.843325e+07     868.181818      11.920909  353829.818182\n",
       "4                6.027459e+07    1754.401806      23.194309    7005.036117\n",
       "5                9.499739e+05     808.510638     268.558212      91.978723\n",
       "6                2.342551e+07     214.317697       8.782824    7581.245203"
      ]
     },
     "execution_count": 57,
     "metadata": {},
     "output_type": "execute_result"
    }
   ],
   "source": [
    "products2.groupby(['product_cluster']).agg({'revenue':'sum','Bottle_Volume' : 'mean', 'Bottle_Retail':'mean','Bottles_Sold':'mean' })"
   ]
  },
  {
   "cell_type": "code",
   "execution_count": 58,
   "id": "a16d95f8",
   "metadata": {},
   "outputs": [
    {
     "data": {
      "text/html": [
       "<div>\n",
       "<style scoped>\n",
       "    .dataframe tbody tr th:only-of-type {\n",
       "        vertical-align: middle;\n",
       "    }\n",
       "\n",
       "    .dataframe tbody tr th {\n",
       "        vertical-align: top;\n",
       "    }\n",
       "\n",
       "    .dataframe thead tr th {\n",
       "        text-align: left;\n",
       "    }\n",
       "\n",
       "    .dataframe thead tr:last-of-type th {\n",
       "        text-align: right;\n",
       "    }\n",
       "</style>\n",
       "<table border=\"1\" class=\"dataframe\">\n",
       "  <thead>\n",
       "    <tr>\n",
       "      <th></th>\n",
       "      <th>revenue</th>\n",
       "      <th colspan=\"5\" halign=\"left\">Bottle_Volume</th>\n",
       "      <th colspan=\"5\" halign=\"left\">Bottle_Retail</th>\n",
       "      <th colspan=\"5\" halign=\"left\">Bottles_Sold</th>\n",
       "    </tr>\n",
       "    <tr>\n",
       "      <th></th>\n",
       "      <th>sum</th>\n",
       "      <th>min</th>\n",
       "      <th>max</th>\n",
       "      <th>std</th>\n",
       "      <th>median</th>\n",
       "      <th>mean</th>\n",
       "      <th>min</th>\n",
       "      <th>max</th>\n",
       "      <th>std</th>\n",
       "      <th>median</th>\n",
       "      <th>mean</th>\n",
       "      <th>min</th>\n",
       "      <th>max</th>\n",
       "      <th>std</th>\n",
       "      <th>median</th>\n",
       "      <th>mean</th>\n",
       "    </tr>\n",
       "    <tr>\n",
       "      <th>product_cluster</th>\n",
       "      <th></th>\n",
       "      <th></th>\n",
       "      <th></th>\n",
       "      <th></th>\n",
       "      <th></th>\n",
       "      <th></th>\n",
       "      <th></th>\n",
       "      <th></th>\n",
       "      <th></th>\n",
       "      <th></th>\n",
       "      <th></th>\n",
       "      <th></th>\n",
       "      <th></th>\n",
       "      <th></th>\n",
       "      <th></th>\n",
       "      <th></th>\n",
       "    </tr>\n",
       "  </thead>\n",
       "  <tbody>\n",
       "    <tr>\n",
       "      <th>0</th>\n",
       "      <td>1.265102e+08</td>\n",
       "      <td>100</td>\n",
       "      <td>1750</td>\n",
       "      <td>443.414654</td>\n",
       "      <td>750.0</td>\n",
       "      <td>849.462366</td>\n",
       "      <td>1.34</td>\n",
       "      <td>41.522231</td>\n",
       "      <td>8.452538</td>\n",
       "      <td>12.066901</td>\n",
       "      <td>13.860230</td>\n",
       "      <td>51190</td>\n",
       "      <td>215797</td>\n",
       "      <td>36989.120693</td>\n",
       "      <td>88813.0</td>\n",
       "      <td>97888.311828</td>\n",
       "    </tr>\n",
       "    <tr>\n",
       "      <th>1</th>\n",
       "      <td>1.339720e+07</td>\n",
       "      <td>100</td>\n",
       "      <td>1200</td>\n",
       "      <td>70.023647</td>\n",
       "      <td>750.0</td>\n",
       "      <td>746.666667</td>\n",
       "      <td>44.49</td>\n",
       "      <td>167.010000</td>\n",
       "      <td>26.608148</td>\n",
       "      <td>59.725000</td>\n",
       "      <td>68.723796</td>\n",
       "      <td>3</td>\n",
       "      <td>12821</td>\n",
       "      <td>1124.376746</td>\n",
       "      <td>46.5</td>\n",
       "      <td>382.618333</td>\n",
       "    </tr>\n",
       "    <tr>\n",
       "      <th>2</th>\n",
       "      <td>1.382151e+08</td>\n",
       "      <td>600</td>\n",
       "      <td>1000</td>\n",
       "      <td>83.797203</td>\n",
       "      <td>750.0</td>\n",
       "      <td>782.338502</td>\n",
       "      <td>3.20</td>\n",
       "      <td>44.820661</td>\n",
       "      <td>10.252789</td>\n",
       "      <td>19.490000</td>\n",
       "      <td>20.920519</td>\n",
       "      <td>1</td>\n",
       "      <td>50396</td>\n",
       "      <td>6544.795732</td>\n",
       "      <td>567.5</td>\n",
       "      <td>3220.302950</td>\n",
       "    </tr>\n",
       "    <tr>\n",
       "      <th>3</th>\n",
       "      <td>4.843325e+07</td>\n",
       "      <td>50</td>\n",
       "      <td>1750</td>\n",
       "      <td>634.339313</td>\n",
       "      <td>750.0</td>\n",
       "      <td>868.181818</td>\n",
       "      <td>2.70</td>\n",
       "      <td>28.500000</td>\n",
       "      <td>8.061184</td>\n",
       "      <td>10.760000</td>\n",
       "      <td>11.920909</td>\n",
       "      <td>230548</td>\n",
       "      <td>563260</td>\n",
       "      <td>104877.517227</td>\n",
       "      <td>372730.0</td>\n",
       "      <td>353829.818182</td>\n",
       "    </tr>\n",
       "    <tr>\n",
       "      <th>4</th>\n",
       "      <td>6.027459e+07</td>\n",
       "      <td>1750</td>\n",
       "      <td>2400</td>\n",
       "      <td>45.843440</td>\n",
       "      <td>1750.0</td>\n",
       "      <td>1754.401806</td>\n",
       "      <td>7.34</td>\n",
       "      <td>87.247228</td>\n",
       "      <td>15.467342</td>\n",
       "      <td>17.250000</td>\n",
       "      <td>23.194309</td>\n",
       "      <td>3</td>\n",
       "      <td>65865</td>\n",
       "      <td>12113.804140</td>\n",
       "      <td>1879.0</td>\n",
       "      <td>7005.036117</td>\n",
       "    </tr>\n",
       "    <tr>\n",
       "      <th>5</th>\n",
       "      <td>9.499739e+05</td>\n",
       "      <td>750</td>\n",
       "      <td>2250</td>\n",
       "      <td>261.749787</td>\n",
       "      <td>750.0</td>\n",
       "      <td>808.510638</td>\n",
       "      <td>170.00</td>\n",
       "      <td>637.410000</td>\n",
       "      <td>118.112714</td>\n",
       "      <td>224.990000</td>\n",
       "      <td>268.558212</td>\n",
       "      <td>1</td>\n",
       "      <td>1713</td>\n",
       "      <td>257.314939</td>\n",
       "      <td>18.0</td>\n",
       "      <td>91.978723</td>\n",
       "    </tr>\n",
       "    <tr>\n",
       "      <th>6</th>\n",
       "      <td>2.342551e+07</td>\n",
       "      <td>20</td>\n",
       "      <td>400</td>\n",
       "      <td>141.557512</td>\n",
       "      <td>200.0</td>\n",
       "      <td>214.317697</td>\n",
       "      <td>0.99</td>\n",
       "      <td>37.500000</td>\n",
       "      <td>6.050588</td>\n",
       "      <td>7.500000</td>\n",
       "      <td>8.782824</td>\n",
       "      <td>2</td>\n",
       "      <td>60893</td>\n",
       "      <td>12250.440754</td>\n",
       "      <td>2569.0</td>\n",
       "      <td>7581.245203</td>\n",
       "    </tr>\n",
       "  </tbody>\n",
       "</table>\n",
       "</div>"
      ],
      "text/plain": [
       "                      revenue Bottle_Volume                            \\\n",
       "                          sum           min   max         std  median   \n",
       "product_cluster                                                         \n",
       "0                1.265102e+08           100  1750  443.414654   750.0   \n",
       "1                1.339720e+07           100  1200   70.023647   750.0   \n",
       "2                1.382151e+08           600  1000   83.797203   750.0   \n",
       "3                4.843325e+07            50  1750  634.339313   750.0   \n",
       "4                6.027459e+07          1750  2400   45.843440  1750.0   \n",
       "5                9.499739e+05           750  2250  261.749787   750.0   \n",
       "6                2.342551e+07            20   400  141.557512   200.0   \n",
       "\n",
       "                             Bottle_Retail                          \\\n",
       "                        mean           min         max         std   \n",
       "product_cluster                                                      \n",
       "0                 849.462366          1.34   41.522231    8.452538   \n",
       "1                 746.666667         44.49  167.010000   26.608148   \n",
       "2                 782.338502          3.20   44.820661   10.252789   \n",
       "3                 868.181818          2.70   28.500000    8.061184   \n",
       "4                1754.401806          7.34   87.247228   15.467342   \n",
       "5                 808.510638        170.00  637.410000  118.112714   \n",
       "6                 214.317697          0.99   37.500000    6.050588   \n",
       "\n",
       "                                        Bottles_Sold                         \\\n",
       "                     median        mean          min     max            std   \n",
       "product_cluster                                                               \n",
       "0                 12.066901   13.860230        51190  215797   36989.120693   \n",
       "1                 59.725000   68.723796            3   12821    1124.376746   \n",
       "2                 19.490000   20.920519            1   50396    6544.795732   \n",
       "3                 10.760000   11.920909       230548  563260  104877.517227   \n",
       "4                 17.250000   23.194309            3   65865   12113.804140   \n",
       "5                224.990000  268.558212            1    1713     257.314939   \n",
       "6                  7.500000    8.782824            2   60893   12250.440754   \n",
       "\n",
       "                                          \n",
       "                   median           mean  \n",
       "product_cluster                           \n",
       "0                 88813.0   97888.311828  \n",
       "1                    46.5     382.618333  \n",
       "2                   567.5    3220.302950  \n",
       "3                372730.0  353829.818182  \n",
       "4                  1879.0    7005.036117  \n",
       "5                    18.0      91.978723  \n",
       "6                  2569.0    7581.245203  "
      ]
     },
     "execution_count": 58,
     "metadata": {},
     "output_type": "execute_result"
    }
   ],
   "source": [
    "products2.groupby(['product_cluster']).agg({'revenue':'sum','Bottle_Volume' :['min','max','std', 'median', 'mean'], 'Bottle_Retail':['min','max','std', 'median', 'mean'],'Bottles_Sold':['min','max','std', 'median', 'mean'] })"
   ]
  },
  {
   "cell_type": "code",
   "execution_count": 59,
   "id": "7d5968cc",
   "metadata": {},
   "outputs": [
    {
     "data": {
      "text/html": [
       "<div>\n",
       "<style scoped>\n",
       "    .dataframe tbody tr th:only-of-type {\n",
       "        vertical-align: middle;\n",
       "    }\n",
       "\n",
       "    .dataframe tbody tr th {\n",
       "        vertical-align: top;\n",
       "    }\n",
       "\n",
       "    .dataframe thead tr th {\n",
       "        text-align: left;\n",
       "    }\n",
       "\n",
       "    .dataframe thead tr:last-of-type th {\n",
       "        text-align: right;\n",
       "    }\n",
       "</style>\n",
       "<table border=\"1\" class=\"dataframe\">\n",
       "  <thead>\n",
       "    <tr>\n",
       "      <th></th>\n",
       "      <th colspan=\"3\" halign=\"left\">Bottle_Volume_liters</th>\n",
       "      <th colspan=\"3\" halign=\"left\">Bottle_Retail</th>\n",
       "      <th colspan=\"3\" halign=\"left\">Bottles_Sold</th>\n",
       "    </tr>\n",
       "    <tr>\n",
       "      <th></th>\n",
       "      <th>min</th>\n",
       "      <th>max</th>\n",
       "      <th>mean</th>\n",
       "      <th>min</th>\n",
       "      <th>max</th>\n",
       "      <th>mean</th>\n",
       "      <th>min</th>\n",
       "      <th>max</th>\n",
       "      <th>mean</th>\n",
       "    </tr>\n",
       "    <tr>\n",
       "      <th>product_cluster</th>\n",
       "      <th></th>\n",
       "      <th></th>\n",
       "      <th></th>\n",
       "      <th></th>\n",
       "      <th></th>\n",
       "      <th></th>\n",
       "      <th></th>\n",
       "      <th></th>\n",
       "      <th></th>\n",
       "    </tr>\n",
       "  </thead>\n",
       "  <tbody>\n",
       "    <tr>\n",
       "      <th>0</th>\n",
       "      <td>0.10</td>\n",
       "      <td>1.75</td>\n",
       "      <td>0.849462</td>\n",
       "      <td>1.34</td>\n",
       "      <td>41.522231</td>\n",
       "      <td>13.860230</td>\n",
       "      <td>51190</td>\n",
       "      <td>215797</td>\n",
       "      <td>97888.311828</td>\n",
       "    </tr>\n",
       "    <tr>\n",
       "      <th>1</th>\n",
       "      <td>0.10</td>\n",
       "      <td>1.20</td>\n",
       "      <td>0.746667</td>\n",
       "      <td>44.49</td>\n",
       "      <td>167.010000</td>\n",
       "      <td>68.723796</td>\n",
       "      <td>3</td>\n",
       "      <td>12821</td>\n",
       "      <td>382.618333</td>\n",
       "    </tr>\n",
       "    <tr>\n",
       "      <th>2</th>\n",
       "      <td>0.60</td>\n",
       "      <td>1.00</td>\n",
       "      <td>0.782339</td>\n",
       "      <td>3.20</td>\n",
       "      <td>44.820661</td>\n",
       "      <td>20.920519</td>\n",
       "      <td>1</td>\n",
       "      <td>50396</td>\n",
       "      <td>3220.302950</td>\n",
       "    </tr>\n",
       "    <tr>\n",
       "      <th>3</th>\n",
       "      <td>0.05</td>\n",
       "      <td>1.75</td>\n",
       "      <td>0.868182</td>\n",
       "      <td>2.70</td>\n",
       "      <td>28.500000</td>\n",
       "      <td>11.920909</td>\n",
       "      <td>230548</td>\n",
       "      <td>563260</td>\n",
       "      <td>353829.818182</td>\n",
       "    </tr>\n",
       "    <tr>\n",
       "      <th>4</th>\n",
       "      <td>1.75</td>\n",
       "      <td>2.40</td>\n",
       "      <td>1.754402</td>\n",
       "      <td>7.34</td>\n",
       "      <td>87.247228</td>\n",
       "      <td>23.194309</td>\n",
       "      <td>3</td>\n",
       "      <td>65865</td>\n",
       "      <td>7005.036117</td>\n",
       "    </tr>\n",
       "    <tr>\n",
       "      <th>5</th>\n",
       "      <td>0.75</td>\n",
       "      <td>2.25</td>\n",
       "      <td>0.808511</td>\n",
       "      <td>170.00</td>\n",
       "      <td>637.410000</td>\n",
       "      <td>268.558212</td>\n",
       "      <td>1</td>\n",
       "      <td>1713</td>\n",
       "      <td>91.978723</td>\n",
       "    </tr>\n",
       "    <tr>\n",
       "      <th>6</th>\n",
       "      <td>0.02</td>\n",
       "      <td>0.40</td>\n",
       "      <td>0.214318</td>\n",
       "      <td>0.99</td>\n",
       "      <td>37.500000</td>\n",
       "      <td>8.782824</td>\n",
       "      <td>2</td>\n",
       "      <td>60893</td>\n",
       "      <td>7581.245203</td>\n",
       "    </tr>\n",
       "  </tbody>\n",
       "</table>\n",
       "</div>"
      ],
      "text/plain": [
       "                Bottle_Volume_liters                 Bottle_Retail  \\\n",
       "                                 min   max      mean           min   \n",
       "product_cluster                                                      \n",
       "0                               0.10  1.75  0.849462          1.34   \n",
       "1                               0.10  1.20  0.746667         44.49   \n",
       "2                               0.60  1.00  0.782339          3.20   \n",
       "3                               0.05  1.75  0.868182          2.70   \n",
       "4                               1.75  2.40  1.754402          7.34   \n",
       "5                               0.75  2.25  0.808511        170.00   \n",
       "6                               0.02  0.40  0.214318          0.99   \n",
       "\n",
       "                                        Bottles_Sold                         \n",
       "                        max        mean          min     max           mean  \n",
       "product_cluster                                                              \n",
       "0                 41.522231   13.860230        51190  215797   97888.311828  \n",
       "1                167.010000   68.723796            3   12821     382.618333  \n",
       "2                 44.820661   20.920519            1   50396    3220.302950  \n",
       "3                 28.500000   11.920909       230548  563260  353829.818182  \n",
       "4                 87.247228   23.194309            3   65865    7005.036117  \n",
       "5                637.410000  268.558212            1    1713      91.978723  \n",
       "6                 37.500000    8.782824            2   60893    7581.245203  "
      ]
     },
     "execution_count": 59,
     "metadata": {},
     "output_type": "execute_result"
    }
   ],
   "source": [
    "products2.groupby(['product_cluster']).agg({'Bottle_Volume_liters' :['min','max', 'mean'], 'Bottle_Retail':['min','max', 'mean'],'Bottles_Sold':['min','max', 'mean'] })"
   ]
  },
  {
   "cell_type": "code",
   "execution_count": 60,
   "id": "23dd0f4e",
   "metadata": {},
   "outputs": [],
   "source": [
    "products2['price_per_ml'] = products2['Bottle_Retail'] / products2['Bottle_Volume']"
   ]
  },
  {
   "cell_type": "code",
   "execution_count": 61,
   "id": "38c07b36",
   "metadata": {},
   "outputs": [
    {
     "data": {
      "text/html": [
       "<div>\n",
       "<style scoped>\n",
       "    .dataframe tbody tr th:only-of-type {\n",
       "        vertical-align: middle;\n",
       "    }\n",
       "\n",
       "    .dataframe tbody tr th {\n",
       "        vertical-align: top;\n",
       "    }\n",
       "\n",
       "    .dataframe thead th {\n",
       "        text-align: right;\n",
       "    }\n",
       "</style>\n",
       "<table border=\"1\" class=\"dataframe\">\n",
       "  <thead>\n",
       "    <tr style=\"text-align: right;\">\n",
       "      <th></th>\n",
       "      <th>Bottle_Volume</th>\n",
       "    </tr>\n",
       "    <tr>\n",
       "      <th>product_cluster</th>\n",
       "      <th></th>\n",
       "    </tr>\n",
       "  </thead>\n",
       "  <tbody>\n",
       "    <tr>\n",
       "      <th>0</th>\n",
       "      <td>6</td>\n",
       "    </tr>\n",
       "    <tr>\n",
       "      <th>1</th>\n",
       "      <td>9</td>\n",
       "    </tr>\n",
       "    <tr>\n",
       "      <th>2</th>\n",
       "      <td>8</td>\n",
       "    </tr>\n",
       "    <tr>\n",
       "      <th>3</th>\n",
       "      <td>5</td>\n",
       "    </tr>\n",
       "    <tr>\n",
       "      <th>4</th>\n",
       "      <td>4</td>\n",
       "    </tr>\n",
       "    <tr>\n",
       "      <th>5</th>\n",
       "      <td>4</td>\n",
       "    </tr>\n",
       "    <tr>\n",
       "      <th>6</th>\n",
       "      <td>8</td>\n",
       "    </tr>\n",
       "  </tbody>\n",
       "</table>\n",
       "</div>"
      ],
      "text/plain": [
       "                 Bottle_Volume\n",
       "product_cluster               \n",
       "0                            6\n",
       "1                            9\n",
       "2                            8\n",
       "3                            5\n",
       "4                            4\n",
       "5                            4\n",
       "6                            8"
      ]
     },
     "execution_count": 61,
     "metadata": {},
     "output_type": "execute_result"
    }
   ],
   "source": [
    "products2.groupby(['product_cluster']).agg({'Bottle_Volume':'nunique'})"
   ]
  },
  {
   "cell_type": "code",
   "execution_count": 62,
   "id": "8c1b0850",
   "metadata": {},
   "outputs": [
    {
     "data": {
      "text/html": [
       "<div>\n",
       "<style scoped>\n",
       "    .dataframe tbody tr th:only-of-type {\n",
       "        vertical-align: middle;\n",
       "    }\n",
       "\n",
       "    .dataframe tbody tr th {\n",
       "        vertical-align: top;\n",
       "    }\n",
       "\n",
       "    .dataframe thead tr th {\n",
       "        text-align: left;\n",
       "    }\n",
       "\n",
       "    .dataframe thead tr:last-of-type th {\n",
       "        text-align: right;\n",
       "    }\n",
       "</style>\n",
       "<table border=\"1\" class=\"dataframe\">\n",
       "  <thead>\n",
       "    <tr>\n",
       "      <th></th>\n",
       "      <th>Item_Number</th>\n",
       "      <th>revenue</th>\n",
       "      <th colspan=\"5\" halign=\"left\">Bottle_Volume</th>\n",
       "      <th colspan=\"5\" halign=\"left\">Bottle_Retail</th>\n",
       "      <th colspan=\"5\" halign=\"left\">Bottles_Sold</th>\n",
       "    </tr>\n",
       "    <tr>\n",
       "      <th></th>\n",
       "      <th>nunique</th>\n",
       "      <th>sum</th>\n",
       "      <th>min</th>\n",
       "      <th>max</th>\n",
       "      <th>std</th>\n",
       "      <th>median</th>\n",
       "      <th>mean</th>\n",
       "      <th>min</th>\n",
       "      <th>max</th>\n",
       "      <th>std</th>\n",
       "      <th>median</th>\n",
       "      <th>mean</th>\n",
       "      <th>min</th>\n",
       "      <th>max</th>\n",
       "      <th>std</th>\n",
       "      <th>median</th>\n",
       "      <th>mean</th>\n",
       "    </tr>\n",
       "    <tr>\n",
       "      <th>product_cluster</th>\n",
       "      <th></th>\n",
       "      <th></th>\n",
       "      <th></th>\n",
       "      <th></th>\n",
       "      <th></th>\n",
       "      <th></th>\n",
       "      <th></th>\n",
       "      <th></th>\n",
       "      <th></th>\n",
       "      <th></th>\n",
       "      <th></th>\n",
       "      <th></th>\n",
       "      <th></th>\n",
       "      <th></th>\n",
       "      <th></th>\n",
       "      <th></th>\n",
       "      <th></th>\n",
       "    </tr>\n",
       "  </thead>\n",
       "  <tbody>\n",
       "    <tr>\n",
       "      <th>0</th>\n",
       "      <td>93</td>\n",
       "      <td>1.265102e+08</td>\n",
       "      <td>100</td>\n",
       "      <td>1750</td>\n",
       "      <td>443.414654</td>\n",
       "      <td>750.0</td>\n",
       "      <td>849.462366</td>\n",
       "      <td>1.34</td>\n",
       "      <td>41.522231</td>\n",
       "      <td>8.452538</td>\n",
       "      <td>12.066901</td>\n",
       "      <td>13.860230</td>\n",
       "      <td>51190</td>\n",
       "      <td>215797</td>\n",
       "      <td>36989.120693</td>\n",
       "      <td>88813.0</td>\n",
       "      <td>97888.311828</td>\n",
       "    </tr>\n",
       "    <tr>\n",
       "      <th>1</th>\n",
       "      <td>600</td>\n",
       "      <td>1.339720e+07</td>\n",
       "      <td>100</td>\n",
       "      <td>1200</td>\n",
       "      <td>70.023647</td>\n",
       "      <td>750.0</td>\n",
       "      <td>746.666667</td>\n",
       "      <td>44.49</td>\n",
       "      <td>167.010000</td>\n",
       "      <td>26.608148</td>\n",
       "      <td>59.725000</td>\n",
       "      <td>68.723796</td>\n",
       "      <td>3</td>\n",
       "      <td>12821</td>\n",
       "      <td>1124.376746</td>\n",
       "      <td>46.5</td>\n",
       "      <td>382.618333</td>\n",
       "    </tr>\n",
       "    <tr>\n",
       "      <th>2</th>\n",
       "      <td>2643</td>\n",
       "      <td>1.382151e+08</td>\n",
       "      <td>600</td>\n",
       "      <td>1000</td>\n",
       "      <td>83.797203</td>\n",
       "      <td>750.0</td>\n",
       "      <td>782.338502</td>\n",
       "      <td>3.20</td>\n",
       "      <td>44.820661</td>\n",
       "      <td>10.252789</td>\n",
       "      <td>19.490000</td>\n",
       "      <td>20.920519</td>\n",
       "      <td>1</td>\n",
       "      <td>50396</td>\n",
       "      <td>6544.795732</td>\n",
       "      <td>567.5</td>\n",
       "      <td>3220.302950</td>\n",
       "    </tr>\n",
       "    <tr>\n",
       "      <th>3</th>\n",
       "      <td>11</td>\n",
       "      <td>4.843325e+07</td>\n",
       "      <td>50</td>\n",
       "      <td>1750</td>\n",
       "      <td>634.339313</td>\n",
       "      <td>750.0</td>\n",
       "      <td>868.181818</td>\n",
       "      <td>2.70</td>\n",
       "      <td>28.500000</td>\n",
       "      <td>8.061184</td>\n",
       "      <td>10.760000</td>\n",
       "      <td>11.920909</td>\n",
       "      <td>230548</td>\n",
       "      <td>563260</td>\n",
       "      <td>104877.517227</td>\n",
       "      <td>372730.0</td>\n",
       "      <td>353829.818182</td>\n",
       "    </tr>\n",
       "    <tr>\n",
       "      <th>4</th>\n",
       "      <td>443</td>\n",
       "      <td>6.027459e+07</td>\n",
       "      <td>1750</td>\n",
       "      <td>2400</td>\n",
       "      <td>45.843440</td>\n",
       "      <td>1750.0</td>\n",
       "      <td>1754.401806</td>\n",
       "      <td>7.34</td>\n",
       "      <td>87.247228</td>\n",
       "      <td>15.467342</td>\n",
       "      <td>17.250000</td>\n",
       "      <td>23.194309</td>\n",
       "      <td>3</td>\n",
       "      <td>65865</td>\n",
       "      <td>12113.804140</td>\n",
       "      <td>1879.0</td>\n",
       "      <td>7005.036117</td>\n",
       "    </tr>\n",
       "    <tr>\n",
       "      <th>5</th>\n",
       "      <td>47</td>\n",
       "      <td>9.499739e+05</td>\n",
       "      <td>750</td>\n",
       "      <td>2250</td>\n",
       "      <td>261.749787</td>\n",
       "      <td>750.0</td>\n",
       "      <td>808.510638</td>\n",
       "      <td>170.00</td>\n",
       "      <td>637.410000</td>\n",
       "      <td>118.112714</td>\n",
       "      <td>224.990000</td>\n",
       "      <td>268.558212</td>\n",
       "      <td>1</td>\n",
       "      <td>1713</td>\n",
       "      <td>257.314939</td>\n",
       "      <td>18.0</td>\n",
       "      <td>91.978723</td>\n",
       "    </tr>\n",
       "    <tr>\n",
       "      <th>6</th>\n",
       "      <td>469</td>\n",
       "      <td>2.342551e+07</td>\n",
       "      <td>20</td>\n",
       "      <td>400</td>\n",
       "      <td>141.557512</td>\n",
       "      <td>200.0</td>\n",
       "      <td>214.317697</td>\n",
       "      <td>0.99</td>\n",
       "      <td>37.500000</td>\n",
       "      <td>6.050588</td>\n",
       "      <td>7.500000</td>\n",
       "      <td>8.782824</td>\n",
       "      <td>2</td>\n",
       "      <td>60893</td>\n",
       "      <td>12250.440754</td>\n",
       "      <td>2569.0</td>\n",
       "      <td>7581.245203</td>\n",
       "    </tr>\n",
       "  </tbody>\n",
       "</table>\n",
       "</div>"
      ],
      "text/plain": [
       "                Item_Number       revenue Bottle_Volume                    \\\n",
       "                    nunique           sum           min   max         std   \n",
       "product_cluster                                                             \n",
       "0                        93  1.265102e+08           100  1750  443.414654   \n",
       "1                       600  1.339720e+07           100  1200   70.023647   \n",
       "2                      2643  1.382151e+08           600  1000   83.797203   \n",
       "3                        11  4.843325e+07            50  1750  634.339313   \n",
       "4                       443  6.027459e+07          1750  2400   45.843440   \n",
       "5                        47  9.499739e+05           750  2250  261.749787   \n",
       "6                       469  2.342551e+07            20   400  141.557512   \n",
       "\n",
       "                                     Bottle_Retail                          \\\n",
       "                 median         mean           min         max         std   \n",
       "product_cluster                                                              \n",
       "0                 750.0   849.462366          1.34   41.522231    8.452538   \n",
       "1                 750.0   746.666667         44.49  167.010000   26.608148   \n",
       "2                 750.0   782.338502          3.20   44.820661   10.252789   \n",
       "3                 750.0   868.181818          2.70   28.500000    8.061184   \n",
       "4                1750.0  1754.401806          7.34   87.247228   15.467342   \n",
       "5                 750.0   808.510638        170.00  637.410000  118.112714   \n",
       "6                 200.0   214.317697          0.99   37.500000    6.050588   \n",
       "\n",
       "                                        Bottles_Sold                         \\\n",
       "                     median        mean          min     max            std   \n",
       "product_cluster                                                               \n",
       "0                 12.066901   13.860230        51190  215797   36989.120693   \n",
       "1                 59.725000   68.723796            3   12821    1124.376746   \n",
       "2                 19.490000   20.920519            1   50396    6544.795732   \n",
       "3                 10.760000   11.920909       230548  563260  104877.517227   \n",
       "4                 17.250000   23.194309            3   65865   12113.804140   \n",
       "5                224.990000  268.558212            1    1713     257.314939   \n",
       "6                  7.500000    8.782824            2   60893   12250.440754   \n",
       "\n",
       "                                          \n",
       "                   median           mean  \n",
       "product_cluster                           \n",
       "0                 88813.0   97888.311828  \n",
       "1                    46.5     382.618333  \n",
       "2                   567.5    3220.302950  \n",
       "3                372730.0  353829.818182  \n",
       "4                  1879.0    7005.036117  \n",
       "5                    18.0      91.978723  \n",
       "6                  2569.0    7581.245203  "
      ]
     },
     "execution_count": 62,
     "metadata": {},
     "output_type": "execute_result"
    }
   ],
   "source": [
    "products2.groupby(['product_cluster']).agg({'Item_Number':'nunique','revenue':'sum','Bottle_Volume' :['min','max','std', 'median', 'mean'], 'Bottle_Retail':['min','max','std', 'median', 'mean'],'Bottles_Sold':['min','max','std', 'median', 'mean'] })"
   ]
  },
  {
   "cell_type": "code",
   "execution_count": 63,
   "id": "6470a8b8",
   "metadata": {},
   "outputs": [
    {
     "ename": "NameError",
     "evalue": "name 'stop' is not defined",
     "output_type": "error",
     "traceback": [
      "\u001b[1;31m---------------------------------------------------------------------------\u001b[0m",
      "\u001b[1;31mNameError\u001b[0m                                 Traceback (most recent call last)",
      "\u001b[1;32m~\\AppData\\Local\\Temp/ipykernel_14888/989852953.py\u001b[0m in \u001b[0;36m<module>\u001b[1;34m\u001b[0m\n\u001b[0;32m      1\u001b[0m \u001b[1;31m# products2['revenue'] = products2.Bottles_Sold * products2.Bottle_Retail\u001b[0m\u001b[1;33m\u001b[0m\u001b[1;33m\u001b[0m\u001b[0m\n\u001b[1;32m----> 2\u001b[1;33m \u001b[0mstop\u001b[0m\u001b[1;33m\u001b[0m\u001b[1;33m\u001b[0m\u001b[0m\n\u001b[0m",
      "\u001b[1;31mNameError\u001b[0m: name 'stop' is not defined"
     ]
    }
   ],
   "source": [
    "# products2['revenue'] = products2.Bottles_Sold * products2.Bottle_Retail\n",
    "stop"
   ]
  },
  {
   "cell_type": "code",
   "execution_count": null,
   "id": "ba770a08",
   "metadata": {},
   "outputs": [],
   "source": [
    "df = products2.groupby(['cluster_name']).agg({'revenue':'sum'})\n",
    "df.style.format(\"{:.0f}\")\n"
   ]
  },
  {
   "cell_type": "code",
   "execution_count": null,
   "id": "0d1eabdc",
   "metadata": {},
   "outputs": [],
   "source": []
  },
  {
   "cell_type": "code",
   "execution_count": null,
   "id": "ef81a22c",
   "metadata": {},
   "outputs": [],
   "source": [
    "from freq_pd import proc_freq"
   ]
  },
  {
   "cell_type": "code",
   "execution_count": null,
   "id": "811667ad",
   "metadata": {},
   "outputs": [],
   "source": [
    "proc_freq(products2,'cluster_name')"
   ]
  },
  {
   "cell_type": "code",
   "execution_count": null,
   "id": "f652b3c0",
   "metadata": {},
   "outputs": [],
   "source": [
    "products2.groupby(['cluster_name']).agg({'price_per_ml':['min','max','std', 'median', 'mean'],'Bottles_Sold':['min','max','std', 'median', 'mean'],'Num_Stores_Selling':['min','max','std', 'median', 'mean'] })"
   ]
  },
  {
   "cell_type": "code",
   "execution_count": null,
   "id": "39683334",
   "metadata": {},
   "outputs": [],
   "source": [
    "products2.groupby(['cluster_name']).agg({'revenue':['sum'],'Bottle_Volume':['nunique','min','max','median'],'price_per_ml':['min','max','std', 'median', 'mean'],'Bottles_Sold':['min','max','std', 'median', 'mean'],'Num_Stores_Selling':['min','max','std', 'median', 'mean'] })"
   ]
  },
  {
   "cell_type": "code",
   "execution_count": null,
   "id": "458b22e4",
   "metadata": {},
   "outputs": [],
   "source": [
    "products2.groupby(['cluster_name']).agg({'revenue':['sum'],'Bottle_Volume':['nunique','min','max','median'],'price_per_ml':['min','max','std', 'median', 'mean'],'Bottles_Sold':['min','max','std', 'median', 'mean'],'Num_Stores_Selling':['min','max','std', 'median', 'mean'] })"
   ]
  },
  {
   "cell_type": "code",
   "execution_count": null,
   "id": "bb44b604",
   "metadata": {},
   "outputs": [],
   "source": []
  },
  {
   "cell_type": "code",
   "execution_count": null,
   "id": "a93c93ae",
   "metadata": {},
   "outputs": [],
   "source": [
    "pd.set_option('display.max_columns', None)\n",
    "products2.groupby(['cluster_name']).agg({'Item_Number':['nunique'],'revenue':['sum'],'Bottle_Volume':['count','nunique','min','max','median','std'],'Bottle_Retail':['min','max','std', 'median', 'mean'],'price_per_ml':['min','max','std', 'median', 'mean'],'Bottles_Sold':['min','max','std', 'median', 'mean'],'Num_Stores_Selling':['min','max','std', 'median', 'mean'] })"
   ]
  },
  {
   "cell_type": "code",
   "execution_count": null,
   "id": "9c44dd68",
   "metadata": {},
   "outputs": [],
   "source": []
  },
  {
   "cell_type": "code",
   "execution_count": null,
   "id": "0beffd37",
   "metadata": {},
   "outputs": [],
   "source": [
    "products2.cluster_name.value_counts()"
   ]
  },
  {
   "cell_type": "code",
   "execution_count": null,
   "id": "1ab437ad",
   "metadata": {},
   "outputs": [],
   "source": [
    "# df.sort_values(by=['Population'], ascending=False)\n",
    "products2.sort_values(by=['revenue'], ascending=False)\n",
    "products2[['cluster_name','revenue','Item_Description','Bottle_Retail','Bottle_Volume']].sort_values(by=['revenue'], ascending=False)\n",
    "# products2.style.format(\"{:.0f}\")\n"
   ]
  },
  {
   "cell_type": "code",
   "execution_count": null,
   "id": "5bb9487a",
   "metadata": {},
   "outputs": [],
   "source": []
  },
  {
   "cell_type": "code",
   "execution_count": null,
   "id": "1e44f12d",
   "metadata": {},
   "outputs": [],
   "source": [
    "products2.loc[products2.product_cluster==3,:]['Bottle_Retail'].max()"
   ]
  },
  {
   "cell_type": "code",
   "execution_count": null,
   "id": "6f69b8f6",
   "metadata": {},
   "outputs": [],
   "source": [
    "# products2.loc[products2.product_cluster==1,:]"
   ]
  },
  {
   "cell_type": "code",
   "execution_count": null,
   "id": "717a5810",
   "metadata": {},
   "outputs": [],
   "source": [
    "products_out=products2[['Item_Number','Item_Description','Bottle_Volume','Bottle_Retail', 'Bottles_Sold','cluster_name','revenue','Num_Stores_Selling','New_Category_Name']]"
   ]
  },
  {
   "cell_type": "code",
   "execution_count": null,
   "id": "0e6a603f",
   "metadata": {},
   "outputs": [],
   "source": [
    "products['revenue'].sum()"
   ]
  },
  {
   "cell_type": "code",
   "execution_count": null,
   "id": "c516aa7e",
   "metadata": {},
   "outputs": [],
   "source": [
    "check"
   ]
  },
  {
   "cell_type": "code",
   "execution_count": null,
   "id": "a6fc2919",
   "metadata": {},
   "outputs": [],
   "source": [
    "products_out.to_csv(r'C:\\Users\\dgarb\\OneDrive\\Desktop\\Capstone Data\\liquor_2021\\product_clusters.csv')"
   ]
  }
 ],
 "metadata": {
  "kernelspec": {
   "display_name": "Python 3 (ipykernel)",
   "language": "python",
   "name": "python3"
  },
  "language_info": {
   "codemirror_mode": {
    "name": "ipython",
    "version": 3
   },
   "file_extension": ".py",
   "mimetype": "text/x-python",
   "name": "python",
   "nbconvert_exporter": "python",
   "pygments_lexer": "ipython3",
   "version": "3.9.7"
  }
 },
 "nbformat": 4,
 "nbformat_minor": 5
}

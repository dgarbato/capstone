{
 "cells": [
  {
   "cell_type": "code",
   "execution_count": 1,
   "id": "5d9f3da7",
   "metadata": {},
   "outputs": [],
   "source": [
    "import pandas as pd\n",
    "import numpy as np"
   ]
  },
  {
   "cell_type": "code",
   "execution_count": 2,
   "id": "6084dbbb",
   "metadata": {},
   "outputs": [],
   "source": [
    "from sklearn.cluster import AgglomerativeClustering\n",
    "hier = AgglomerativeClustering()"
   ]
  },
  {
   "cell_type": "code",
   "execution_count": 3,
   "id": "4dc5082b",
   "metadata": {},
   "outputs": [],
   "source": [
    "%matplotlib inline\n",
    "import matplotlib.pyplot as plt"
   ]
  },
  {
   "cell_type": "code",
   "execution_count": 4,
   "id": "5bde30b3",
   "metadata": {},
   "outputs": [],
   "source": [
    "stdtypes = {'Store_Number':str,'Vendor_Number':str,'Item_Number':str, 'Category':str,\n",
    "            'Zip_Code':str}"
   ]
  },
  {
   "cell_type": "code",
   "execution_count": 5,
   "id": "2b7f2987",
   "metadata": {},
   "outputs": [],
   "source": [
    "store_trans_cluster = pd.read_csv(r'C:\\Users\\dgarb\\OneDrive\\Desktop\\Capstone Data\\liquor_2021\\store_trans_cluster.csv', dtype=stdtypes,index_col=0 )"
   ]
  },
  {
   "cell_type": "code",
   "execution_count": 6,
   "id": "3396a9b1",
   "metadata": {},
   "outputs": [
    {
     "data": {
      "text/html": [
       "<div>\n",
       "<style scoped>\n",
       "    .dataframe tbody tr th:only-of-type {\n",
       "        vertical-align: middle;\n",
       "    }\n",
       "\n",
       "    .dataframe tbody tr th {\n",
       "        vertical-align: top;\n",
       "    }\n",
       "\n",
       "    .dataframe thead th {\n",
       "        text-align: right;\n",
       "    }\n",
       "</style>\n",
       "<table border=\"1\" class=\"dataframe\">\n",
       "  <thead>\n",
       "    <tr style=\"text-align: right;\">\n",
       "      <th></th>\n",
       "      <th>Store_Number</th>\n",
       "      <th>Store_Name</th>\n",
       "      <th>Address</th>\n",
       "      <th>City</th>\n",
       "      <th>Zip_Code</th>\n",
       "      <th>Store_Location</th>\n",
       "      <th>County_Number</th>\n",
       "      <th>County</th>\n",
       "      <th>Vendor_Number</th>\n",
       "      <th>Item_Number</th>\n",
       "      <th>Category</th>\n",
       "      <th>Item_Description</th>\n",
       "      <th>Bottle_Volume</th>\n",
       "      <th>Bottle_Retail</th>\n",
       "      <th>Bottles_Sold</th>\n",
       "      <th>cluster_name</th>\n",
       "      <th>revenue</th>\n",
       "      <th>Num_Stores_Selling</th>\n",
       "      <th>New_Category_Name</th>\n",
       "    </tr>\n",
       "  </thead>\n",
       "  <tbody>\n",
       "    <tr>\n",
       "      <th>0</th>\n",
       "      <td>3855</td>\n",
       "      <td>Dyno's Wine and Spirits / Storm Lake</td>\n",
       "      <td>1201 1/2 Lakeshore Dr</td>\n",
       "      <td>Storm Lake</td>\n",
       "      <td>50588</td>\n",
       "      <td>NaN</td>\n",
       "      <td>11</td>\n",
       "      <td>BUENA VIST</td>\n",
       "      <td>035</td>\n",
       "      <td>88296</td>\n",
       "      <td>1022200</td>\n",
       "      <td>Patron Silver</td>\n",
       "      <td>750</td>\n",
       "      <td>41.522231</td>\n",
       "      <td>144787</td>\n",
       "      <td>Popular_Bottles</td>\n",
       "      <td>6001266.0</td>\n",
       "      <td>1274</td>\n",
       "      <td>Tequila</td>\n",
       "    </tr>\n",
       "    <tr>\n",
       "      <th>1</th>\n",
       "      <td>4589</td>\n",
       "      <td>Dyno's #53 / Sibley</td>\n",
       "      <td>1026 2nd Ave</td>\n",
       "      <td>Sibley</td>\n",
       "      <td>51249</td>\n",
       "      <td>POINT (-95.752119 43.397431)</td>\n",
       "      <td>72</td>\n",
       "      <td>OSCEOLA</td>\n",
       "      <td>035</td>\n",
       "      <td>88296</td>\n",
       "      <td>1022200</td>\n",
       "      <td>Patron Silver</td>\n",
       "      <td>750</td>\n",
       "      <td>41.522231</td>\n",
       "      <td>144787</td>\n",
       "      <td>Popular_Bottles</td>\n",
       "      <td>6001266.0</td>\n",
       "      <td>1274</td>\n",
       "      <td>Tequila</td>\n",
       "    </tr>\n",
       "    <tr>\n",
       "      <th>2</th>\n",
       "      <td>5566</td>\n",
       "      <td>East End Liquor &amp; Tobacco</td>\n",
       "      <td>3804 Hubbell Ave</td>\n",
       "      <td>Des Moines</td>\n",
       "      <td>50317</td>\n",
       "      <td>POINT (-93.541351 41.630849)</td>\n",
       "      <td>77</td>\n",
       "      <td>POLK</td>\n",
       "      <td>035</td>\n",
       "      <td>88296</td>\n",
       "      <td>1022200</td>\n",
       "      <td>Patron Silver</td>\n",
       "      <td>750</td>\n",
       "      <td>41.522231</td>\n",
       "      <td>144787</td>\n",
       "      <td>Popular_Bottles</td>\n",
       "      <td>6001266.0</td>\n",
       "      <td>1274</td>\n",
       "      <td>Tequila</td>\n",
       "    </tr>\n",
       "    <tr>\n",
       "      <th>3</th>\n",
       "      <td>4755</td>\n",
       "      <td>Walgreens #05941 / Mason City</td>\n",
       "      <td>1251 4th St SW</td>\n",
       "      <td>Mason City</td>\n",
       "      <td>50401</td>\n",
       "      <td>POINT (-93.220422 43.148333)</td>\n",
       "      <td>17</td>\n",
       "      <td>CERRO GORD</td>\n",
       "      <td>035</td>\n",
       "      <td>88296</td>\n",
       "      <td>1022200</td>\n",
       "      <td>Patron Silver</td>\n",
       "      <td>750</td>\n",
       "      <td>41.522231</td>\n",
       "      <td>144787</td>\n",
       "      <td>Popular_Bottles</td>\n",
       "      <td>6001266.0</td>\n",
       "      <td>1274</td>\n",
       "      <td>Tequila</td>\n",
       "    </tr>\n",
       "    <tr>\n",
       "      <th>4</th>\n",
       "      <td>5167</td>\n",
       "      <td>New Star Liquor &amp; Tobacco  / Ft Dodg</td>\n",
       "      <td>1724 5th  Ave S</td>\n",
       "      <td>Fort Dodge</td>\n",
       "      <td>50501</td>\n",
       "      <td>POINT (-94.173816 42.501131)</td>\n",
       "      <td>94</td>\n",
       "      <td>WEBSTER</td>\n",
       "      <td>035</td>\n",
       "      <td>88296</td>\n",
       "      <td>1022200</td>\n",
       "      <td>Patron Silver</td>\n",
       "      <td>750</td>\n",
       "      <td>41.522231</td>\n",
       "      <td>144787</td>\n",
       "      <td>Popular_Bottles</td>\n",
       "      <td>6001266.0</td>\n",
       "      <td>1274</td>\n",
       "      <td>Tequila</td>\n",
       "    </tr>\n",
       "  </tbody>\n",
       "</table>\n",
       "</div>"
      ],
      "text/plain": [
       "  Store_Number                            Store_Name                Address  \\\n",
       "0         3855  Dyno's Wine and Spirits / Storm Lake  1201 1/2 Lakeshore Dr   \n",
       "1         4589                   Dyno's #53 / Sibley           1026 2nd Ave   \n",
       "2         5566             East End Liquor & Tobacco       3804 Hubbell Ave   \n",
       "3         4755         Walgreens #05941 / Mason City         1251 4th St SW   \n",
       "4         5167  New Star Liquor & Tobacco  / Ft Dodg        1724 5th  Ave S   \n",
       "\n",
       "         City Zip_Code                Store_Location  County_Number  \\\n",
       "0  Storm Lake    50588                           NaN             11   \n",
       "1      Sibley    51249  POINT (-95.752119 43.397431)             72   \n",
       "2  Des Moines    50317  POINT (-93.541351 41.630849)             77   \n",
       "3  Mason City    50401  POINT (-93.220422 43.148333)             17   \n",
       "4  Fort Dodge    50501  POINT (-94.173816 42.501131)             94   \n",
       "\n",
       "       County Vendor_Number Item_Number Category Item_Description  \\\n",
       "0  BUENA VIST           035       88296  1022200    Patron Silver   \n",
       "1     OSCEOLA           035       88296  1022200    Patron Silver   \n",
       "2        POLK           035       88296  1022200    Patron Silver   \n",
       "3  CERRO GORD           035       88296  1022200    Patron Silver   \n",
       "4     WEBSTER           035       88296  1022200    Patron Silver   \n",
       "\n",
       "   Bottle_Volume  Bottle_Retail  Bottles_Sold     cluster_name    revenue  \\\n",
       "0            750      41.522231        144787  Popular_Bottles  6001266.0   \n",
       "1            750      41.522231        144787  Popular_Bottles  6001266.0   \n",
       "2            750      41.522231        144787  Popular_Bottles  6001266.0   \n",
       "3            750      41.522231        144787  Popular_Bottles  6001266.0   \n",
       "4            750      41.522231        144787  Popular_Bottles  6001266.0   \n",
       "\n",
       "   Num_Stores_Selling New_Category_Name  \n",
       "0                1274           Tequila  \n",
       "1                1274           Tequila  \n",
       "2                1274           Tequila  \n",
       "3                1274           Tequila  \n",
       "4                1274           Tequila  "
      ]
     },
     "execution_count": 6,
     "metadata": {},
     "output_type": "execute_result"
    }
   ],
   "source": [
    "store_trans_cluster.head()"
   ]
  },
  {
   "cell_type": "code",
   "execution_count": 7,
   "id": "7fd9d719",
   "metadata": {},
   "outputs": [],
   "source": [
    "orders_per_item_df = store_trans_cluster.groupby(['Item_Number']).agg({'Item_Description':'count'}).reset_index()"
   ]
  },
  {
   "cell_type": "code",
   "execution_count": 8,
   "id": "5bb57dbc",
   "metadata": {},
   "outputs": [],
   "source": [
    "orders_per_item_df.columns = ['Item_Number', 'orders']"
   ]
  },
  {
   "cell_type": "code",
   "execution_count": 9,
   "id": "f8ac2937",
   "metadata": {},
   "outputs": [
    {
     "data": {
      "text/html": [
       "<div>\n",
       "<style scoped>\n",
       "    .dataframe tbody tr th:only-of-type {\n",
       "        vertical-align: middle;\n",
       "    }\n",
       "\n",
       "    .dataframe tbody tr th {\n",
       "        vertical-align: top;\n",
       "    }\n",
       "\n",
       "    .dataframe thead th {\n",
       "        text-align: right;\n",
       "    }\n",
       "</style>\n",
       "<table border=\"1\" class=\"dataframe\">\n",
       "  <thead>\n",
       "    <tr style=\"text-align: right;\">\n",
       "      <th></th>\n",
       "      <th>Item_Number</th>\n",
       "      <th>orders</th>\n",
       "    </tr>\n",
       "  </thead>\n",
       "  <tbody>\n",
       "    <tr>\n",
       "      <th>0</th>\n",
       "      <td>10006</td>\n",
       "      <td>735</td>\n",
       "    </tr>\n",
       "    <tr>\n",
       "      <th>1</th>\n",
       "      <td>100077</td>\n",
       "      <td>236</td>\n",
       "    </tr>\n",
       "    <tr>\n",
       "      <th>2</th>\n",
       "      <td>10008</td>\n",
       "      <td>2124</td>\n",
       "    </tr>\n",
       "    <tr>\n",
       "      <th>3</th>\n",
       "      <td>10009</td>\n",
       "      <td>296</td>\n",
       "    </tr>\n",
       "    <tr>\n",
       "      <th>4</th>\n",
       "      <td>100148</td>\n",
       "      <td>158</td>\n",
       "    </tr>\n",
       "  </tbody>\n",
       "</table>\n",
       "</div>"
      ],
      "text/plain": [
       "  Item_Number  orders\n",
       "0       10006     735\n",
       "1      100077     236\n",
       "2       10008    2124\n",
       "3       10009     296\n",
       "4      100148     158"
      ]
     },
     "execution_count": 9,
     "metadata": {},
     "output_type": "execute_result"
    }
   ],
   "source": [
    "orders_per_item_df.head()"
   ]
  },
  {
   "cell_type": "code",
   "execution_count": 10,
   "id": "a179737d",
   "metadata": {},
   "outputs": [],
   "source": [
    "cluster_data = pd.read_csv(r'C:\\Users\\dgarb\\OneDrive\\Desktop\\Capstone Data\\liquor_2021\\final_clusters.csv',dtype={'Item_Number':str}, index_col=0)\n"
   ]
  },
  {
   "cell_type": "code",
   "execution_count": 11,
   "id": "47130746",
   "metadata": {},
   "outputs": [
    {
     "name": "stdout",
     "output_type": "stream",
     "text": [
      "<class 'pandas.core.frame.DataFrame'>\n",
      "Int64Index: 4301 entries, 1 to 4457\n",
      "Data columns (total 9 columns):\n",
      " #   Column              Non-Null Count  Dtype  \n",
      "---  ------              --------------  -----  \n",
      " 0   Item_Number         4301 non-null   object \n",
      " 1   Item_Description    4301 non-null   object \n",
      " 2   Bottle_Volume       4301 non-null   int64  \n",
      " 3   Bottle_Retail       4301 non-null   float64\n",
      " 4   Bottles_Sold        4301 non-null   int64  \n",
      " 5   cluster_name        4301 non-null   object \n",
      " 6   revenue             4301 non-null   float64\n",
      " 7   Num_Stores_Selling  4301 non-null   int64  \n",
      " 8   New_Category_Name   4301 non-null   object \n",
      "dtypes: float64(2), int64(3), object(4)\n",
      "memory usage: 336.0+ KB\n"
     ]
    }
   ],
   "source": [
    "cluster_data.info()"
   ]
  },
  {
   "cell_type": "code",
   "execution_count": 12,
   "id": "8b4e4791",
   "metadata": {},
   "outputs": [],
   "source": [
    "new_cluster_data = cluster_data.merge(orders_per_item_df)"
   ]
  },
  {
   "cell_type": "code",
   "execution_count": 13,
   "id": "81f0df4e",
   "metadata": {},
   "outputs": [
    {
     "data": {
      "text/html": [
       "<div>\n",
       "<style scoped>\n",
       "    .dataframe tbody tr th:only-of-type {\n",
       "        vertical-align: middle;\n",
       "    }\n",
       "\n",
       "    .dataframe tbody tr th {\n",
       "        vertical-align: top;\n",
       "    }\n",
       "\n",
       "    .dataframe thead th {\n",
       "        text-align: right;\n",
       "    }\n",
       "</style>\n",
       "<table border=\"1\" class=\"dataframe\">\n",
       "  <thead>\n",
       "    <tr style=\"text-align: right;\">\n",
       "      <th></th>\n",
       "      <th>Item_Number</th>\n",
       "      <th>Item_Description</th>\n",
       "      <th>Bottle_Volume</th>\n",
       "      <th>Bottle_Retail</th>\n",
       "      <th>Bottles_Sold</th>\n",
       "      <th>cluster_name</th>\n",
       "      <th>revenue</th>\n",
       "      <th>Num_Stores_Selling</th>\n",
       "      <th>New_Category_Name</th>\n",
       "      <th>orders</th>\n",
       "    </tr>\n",
       "  </thead>\n",
       "  <tbody>\n",
       "    <tr>\n",
       "      <th>0</th>\n",
       "      <td>10006</td>\n",
       "      <td>Scoresby Rare Scotch</td>\n",
       "      <td>750</td>\n",
       "      <td>7.70</td>\n",
       "      <td>4619</td>\n",
       "      <td>Most_Variety</td>\n",
       "      <td>35566.30</td>\n",
       "      <td>197</td>\n",
       "      <td>Scotch</td>\n",
       "      <td>735</td>\n",
       "    </tr>\n",
       "    <tr>\n",
       "      <th>1</th>\n",
       "      <td>100077</td>\n",
       "      <td>Kraken Rum w/ Tiki Glass</td>\n",
       "      <td>750</td>\n",
       "      <td>15.68</td>\n",
       "      <td>2679</td>\n",
       "      <td>Most_Variety</td>\n",
       "      <td>42006.72</td>\n",
       "      <td>136</td>\n",
       "      <td>Temporary &amp; Specialty Packages</td>\n",
       "      <td>236</td>\n",
       "    </tr>\n",
       "    <tr>\n",
       "      <th>2</th>\n",
       "      <td>10009</td>\n",
       "      <td>Scoresby Rare Scotch</td>\n",
       "      <td>1000</td>\n",
       "      <td>10.11</td>\n",
       "      <td>1722</td>\n",
       "      <td>Most_Variety</td>\n",
       "      <td>17409.42</td>\n",
       "      <td>70</td>\n",
       "      <td>Scotch</td>\n",
       "      <td>296</td>\n",
       "    </tr>\n",
       "    <tr>\n",
       "      <th>3</th>\n",
       "      <td>100148</td>\n",
       "      <td>Jack Daniels Single Barrel w/Snifter Glass</td>\n",
       "      <td>750</td>\n",
       "      <td>41.39</td>\n",
       "      <td>606</td>\n",
       "      <td>Moderately_High</td>\n",
       "      <td>25082.34</td>\n",
       "      <td>120</td>\n",
       "      <td>Temporary &amp; Specialty Packages</td>\n",
       "      <td>158</td>\n",
       "    </tr>\n",
       "    <tr>\n",
       "      <th>4</th>\n",
       "      <td>100202</td>\n",
       "      <td>Baileys Original Irish Cream w/2 Dessert Bowls</td>\n",
       "      <td>750</td>\n",
       "      <td>24.74</td>\n",
       "      <td>3160</td>\n",
       "      <td>Most_Variety</td>\n",
       "      <td>78178.40</td>\n",
       "      <td>149</td>\n",
       "      <td>Temporary &amp; Specialty Packages</td>\n",
       "      <td>234</td>\n",
       "    </tr>\n",
       "  </tbody>\n",
       "</table>\n",
       "</div>"
      ],
      "text/plain": [
       "  Item_Number                                Item_Description  Bottle_Volume  \\\n",
       "0       10006                            Scoresby Rare Scotch            750   \n",
       "1      100077                        Kraken Rum w/ Tiki Glass            750   \n",
       "2       10009                            Scoresby Rare Scotch           1000   \n",
       "3      100148      Jack Daniels Single Barrel w/Snifter Glass            750   \n",
       "4      100202  Baileys Original Irish Cream w/2 Dessert Bowls            750   \n",
       "\n",
       "   Bottle_Retail  Bottles_Sold     cluster_name   revenue  Num_Stores_Selling  \\\n",
       "0           7.70          4619     Most_Variety  35566.30                 197   \n",
       "1          15.68          2679     Most_Variety  42006.72                 136   \n",
       "2          10.11          1722     Most_Variety  17409.42                  70   \n",
       "3          41.39           606  Moderately_High  25082.34                 120   \n",
       "4          24.74          3160     Most_Variety  78178.40                 149   \n",
       "\n",
       "                New_Category_Name  orders  \n",
       "0                          Scotch     735  \n",
       "1  Temporary & Specialty Packages     236  \n",
       "2                          Scotch     296  \n",
       "3  Temporary & Specialty Packages     158  \n",
       "4  Temporary & Specialty Packages     234  "
      ]
     },
     "execution_count": 13,
     "metadata": {},
     "output_type": "execute_result"
    }
   ],
   "source": [
    "new_cluster_data.head()"
   ]
  },
  {
   "cell_type": "code",
   "execution_count": 14,
   "id": "cac5d0f0",
   "metadata": {},
   "outputs": [
    {
     "data": {
      "text/plain": [
       "Most_Variety         2199\n",
       "Moderately_High       877\n",
       "Volume_For_Dollar     454\n",
       "Quick_Shots           436\n",
       "High_End              157\n",
       "Cheap                 136\n",
       "Popular_Bottles        42\n",
       "Name: cluster_name, dtype: int64"
      ]
     },
     "execution_count": 14,
     "metadata": {},
     "output_type": "execute_result"
    }
   ],
   "source": [
    "new_cluster_data.cluster_name.value_counts()"
   ]
  },
  {
   "cell_type": "code",
   "execution_count": 15,
   "id": "01f9c583",
   "metadata": {},
   "outputs": [
    {
     "data": {
      "text/plain": [
       "0.05078745638821658"
      ]
     },
     "execution_count": 15,
     "metadata": {},
     "output_type": "execute_result"
    }
   ],
   "source": [
    "new_cluster_data.orders.corr(new_cluster_data.Bottle_Volume)"
   ]
  },
  {
   "cell_type": "code",
   "execution_count": 16,
   "id": "6b34a4d1",
   "metadata": {},
   "outputs": [
    {
     "data": {
      "text/plain": [
       "-0.14379666326523008"
      ]
     },
     "execution_count": 16,
     "metadata": {},
     "output_type": "execute_result"
    }
   ],
   "source": [
    "new_cluster_data.orders.corr(new_cluster_data.Bottle_Retail)"
   ]
  },
  {
   "cell_type": "code",
   "execution_count": 17,
   "id": "fb162971",
   "metadata": {},
   "outputs": [
    {
     "data": {
      "text/plain": [
       "0.8675559679618167"
      ]
     },
     "execution_count": 17,
     "metadata": {},
     "output_type": "execute_result"
    }
   ],
   "source": [
    "new_cluster_data.orders.corr(new_cluster_data.Bottles_Sold)"
   ]
  },
  {
   "cell_type": "code",
   "execution_count": 18,
   "id": "dc151af1",
   "metadata": {},
   "outputs": [],
   "source": [
    "most_variety = new_cluster_data.loc[new_cluster_data.cluster_name =='Most_Variety',['Bottle_Volume','Bottle_Retail','orders','Item_Number']]"
   ]
  },
  {
   "cell_type": "code",
   "execution_count": 19,
   "id": "81b52a4d",
   "metadata": {},
   "outputs": [],
   "source": [
    "most_variety = most_variety.set_index('Item_Number')"
   ]
  },
  {
   "cell_type": "code",
   "execution_count": 20,
   "id": "031906d8",
   "metadata": {},
   "outputs": [],
   "source": [
    "from scipy.cluster.hierarchy import dendrogram, linkage\n",
    "from scipy.spatial.distance import pdist, squareform\n",
    "\n",
    "def linkage_frame(data):\n",
    "    row_clusters = linkage(data, method='complete', metric='euclidean')\n",
    "    columns = ['row label 1', 'row label 2', 'distance', 'no. items in clust.']\n",
    "    index = ['cluster %d' % (i + 1) for i in range(row_clusters.shape[0])]\n",
    "    linkage_df = pd.DataFrame(row_clusters, columns=columns, index=index)\n",
    "    return linkage_df"
   ]
  },
  {
   "cell_type": "code",
   "execution_count": 28,
   "id": "32c980a5",
   "metadata": {},
   "outputs": [],
   "source": [
    "from sklearn.preprocessing import StandardScaler"
   ]
  },
  {
   "cell_type": "code",
   "execution_count": 29,
   "id": "40c039be",
   "metadata": {},
   "outputs": [],
   "source": [
    "scaler = StandardScaler()"
   ]
  },
  {
   "cell_type": "code",
   "execution_count": 32,
   "id": "58ced717",
   "metadata": {},
   "outputs": [],
   "source": [
    "most_variety[['Bottle_Volume_scaled', 'Bottle_Retail_scaled', 'orders_scaled' ]] = scaler.fit_transform\\\n",
    "                                           (most_variety[['Bottle_Volume','Bottle_Retail','orders'] ])\n",
    "                                                   \n"
   ]
  },
  {
   "cell_type": "code",
   "execution_count": 33,
   "id": "2bd92401",
   "metadata": {},
   "outputs": [],
   "source": [
    "linkage_df = linkage_frame(most_variety[['Bottle_Volume_scaled', 'Bottle_Retail_scaled', 'orders_scaled' ]])"
   ]
  },
  {
   "cell_type": "code",
   "execution_count": 34,
   "id": "0db6e784",
   "metadata": {},
   "outputs": [
    {
     "data": {
      "image/png": "[encoded data removed]",
      "text/plain": [
       "<Figure size 432x288 with 1 Axes>"
      ]
     },
     "metadata": {
      "needs_background": "light"
     },
     "output_type": "display_data"
    }
   ],
   "source": [
    "row_dendr = dendrogram(linkage_df, leaf_rotation=90, leaf_font_size=8)\n",
    "plt.tight_layout()\n",
    "plt.ylabel('Euclidean distance')\n",
    "plt.show()"
   ]
  },
  {
   "cell_type": "code",
   "execution_count": 36,
   "id": "5b43aca6",
   "metadata": {},
   "outputs": [
    {
     "data": {
      "image/png": "[encoded data removed]",
      "text/plain": [
       "<Figure size 432x288 with 1 Axes>"
      ]
     },
     "metadata": {
      "needs_background": "light"
     },
     "output_type": "display_data"
    }
   ],
   "source": [
    "row_dendr = dendrogram(linkage_df, leaf_rotation=90, truncate_mode='lastp', p = 10, leaf_font_size=8)\n",
    "plt.tight_layout()\n",
    "plt.ylabel('Euclidean distance')\n",
    "plt.show()"
   ]
  },
  {
   "cell_type": "code",
   "execution_count": 24,
   "id": "edffeac2",
   "metadata": {},
   "outputs": [
    {
     "data": {
      "text/html": [
       "<div>\n",
       "<style scoped>\n",
       "    .dataframe tbody tr th:only-of-type {\n",
       "        vertical-align: middle;\n",
       "    }\n",
       "\n",
       "    .dataframe tbody tr th {\n",
       "        vertical-align: top;\n",
       "    }\n",
       "\n",
       "    .dataframe thead th {\n",
       "        text-align: right;\n",
       "    }\n",
       "</style>\n",
       "<table border=\"1\" class=\"dataframe\">\n",
       "  <thead>\n",
       "    <tr style=\"text-align: right;\">\n",
       "      <th></th>\n",
       "      <th>row label 1</th>\n",
       "      <th>row label 2</th>\n",
       "      <th>distance</th>\n",
       "      <th>no. items in clust.</th>\n",
       "    </tr>\n",
       "  </thead>\n",
       "  <tbody>\n",
       "    <tr>\n",
       "      <th>cluster 1</th>\n",
       "      <td>4.0</td>\n",
       "      <td>1622.0</td>\n",
       "      <td>0.000000</td>\n",
       "      <td>2.0</td>\n",
       "    </tr>\n",
       "    <tr>\n",
       "      <th>cluster 2</th>\n",
       "      <td>1353.0</td>\n",
       "      <td>2118.0</td>\n",
       "      <td>0.000000</td>\n",
       "      <td>2.0</td>\n",
       "    </tr>\n",
       "    <tr>\n",
       "      <th>cluster 3</th>\n",
       "      <td>1563.0</td>\n",
       "      <td>1637.0</td>\n",
       "      <td>0.000000</td>\n",
       "      <td>2.0</td>\n",
       "    </tr>\n",
       "    <tr>\n",
       "      <th>cluster 4</th>\n",
       "      <td>2033.0</td>\n",
       "      <td>2035.0</td>\n",
       "      <td>0.000000</td>\n",
       "      <td>2.0</td>\n",
       "    </tr>\n",
       "    <tr>\n",
       "      <th>cluster 5</th>\n",
       "      <td>2042.0</td>\n",
       "      <td>2202.0</td>\n",
       "      <td>0.000000</td>\n",
       "      <td>3.0</td>\n",
       "    </tr>\n",
       "    <tr>\n",
       "      <th>...</th>\n",
       "      <td>...</td>\n",
       "      <td>...</td>\n",
       "      <td>...</td>\n",
       "      <td>...</td>\n",
       "    </tr>\n",
       "    <tr>\n",
       "      <th>cluster 2194</th>\n",
       "      <td>4387.0</td>\n",
       "      <td>4388.0</td>\n",
       "      <td>1180.085273</td>\n",
       "      <td>132.0</td>\n",
       "    </tr>\n",
       "    <tr>\n",
       "      <th>cluster 2195</th>\n",
       "      <td>4389.0</td>\n",
       "      <td>4391.0</td>\n",
       "      <td>1291.621574</td>\n",
       "      <td>2038.0</td>\n",
       "    </tr>\n",
       "    <tr>\n",
       "      <th>cluster 2196</th>\n",
       "      <td>4386.0</td>\n",
       "      <td>4390.0</td>\n",
       "      <td>1356.000207</td>\n",
       "      <td>29.0</td>\n",
       "    </tr>\n",
       "    <tr>\n",
       "      <th>cluster 2197</th>\n",
       "      <td>4392.0</td>\n",
       "      <td>4393.0</td>\n",
       "      <td>2415.045571</td>\n",
       "      <td>2170.0</td>\n",
       "    </tr>\n",
       "    <tr>\n",
       "      <th>cluster 2198</th>\n",
       "      <td>4394.0</td>\n",
       "      <td>4395.0</td>\n",
       "      <td>3836.204407</td>\n",
       "      <td>2199.0</td>\n",
       "    </tr>\n",
       "  </tbody>\n",
       "</table>\n",
       "<p>2198 rows × 4 columns</p>\n",
       "</div>"
      ],
      "text/plain": [
       "              row label 1  row label 2     distance  no. items in clust.\n",
       "cluster 1             4.0       1622.0     0.000000                  2.0\n",
       "cluster 2          1353.0       2118.0     0.000000                  2.0\n",
       "cluster 3          1563.0       1637.0     0.000000                  2.0\n",
       "cluster 4          2033.0       2035.0     0.000000                  2.0\n",
       "cluster 5          2042.0       2202.0     0.000000                  3.0\n",
       "...                   ...          ...          ...                  ...\n",
       "cluster 2194       4387.0       4388.0  1180.085273                132.0\n",
       "cluster 2195       4389.0       4391.0  1291.621574               2038.0\n",
       "cluster 2196       4386.0       4390.0  1356.000207                 29.0\n",
       "cluster 2197       4392.0       4393.0  2415.045571               2170.0\n",
       "cluster 2198       4394.0       4395.0  3836.204407               2199.0\n",
       "\n",
       "[2198 rows x 4 columns]"
      ]
     },
     "execution_count": 24,
     "metadata": {},
     "output_type": "execute_result"
    }
   ],
   "source": [
    "linkage_df"
   ]
  }
 ],
 "metadata": {
  "kernelspec": {
   "display_name": "Python 3 (ipykernel)",
   "language": "python",
   "name": "python3"
  },
  "language_info": {
   "codemirror_mode": {
    "name": "ipython",
    "version": 3
   },
   "file_extension": ".py",
   "mimetype": "text/x-python",
   "name": "python",
   "nbconvert_exporter": "python",
   "pygments_lexer": "ipython3",
   "version": "3.9.7"
  }
 },
 "nbformat": 4,
 "nbformat_minor": 5
}

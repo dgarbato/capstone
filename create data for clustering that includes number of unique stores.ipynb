{
 "cells": [
  {
   "cell_type": "code",
   "execution_count": 1,
   "id": "54d5054b",
   "metadata": {},
   "outputs": [],
   "source": [
    "import pandas as pd\n",
    "import numpy as np"
   ]
  },
  {
   "cell_type": "code",
   "execution_count": 2,
   "id": "df318322",
   "metadata": {},
   "outputs": [],
   "source": [
    "tdtypes = {'Store_Number':str,'Vendor_Number':str,'Item_Number':str, 'Category':str}"
   ]
  },
  {
   "cell_type": "code",
   "execution_count": 3,
   "id": "6a40c952",
   "metadata": {},
   "outputs": [
    {
     "name": "stderr",
     "output_type": "stream",
     "text": [
      "C:\\Users\\dgarb\\anaconda3_reinstall\\lib\\site-packages\\numpy\\lib\\arraysetops.py:583: FutureWarning: elementwise comparison failed; returning scalar instead, but in the future will perform elementwise comparison\n",
      "  mask |= (ar1 == a)\n"
     ]
    }
   ],
   "source": [
    "trans = pd.read_csv(r'C:\\Users\\dgarb\\OneDrive\\Desktop\\Capstone Data\\liquor_2021\\transactions_2021.csv', dtype=tdtypes, index_col=0)"
   ]
  },
  {
   "cell_type": "code",
   "execution_count": 4,
   "id": "0c725c61",
   "metadata": {},
   "outputs": [
    {
     "data": {
      "text/html": [
       "<div>\n",
       "<style scoped>\n",
       "    .dataframe tbody tr th:only-of-type {\n",
       "        vertical-align: middle;\n",
       "    }\n",
       "\n",
       "    .dataframe tbody tr th {\n",
       "        vertical-align: top;\n",
       "    }\n",
       "\n",
       "    .dataframe thead th {\n",
       "        text-align: right;\n",
       "    }\n",
       "</style>\n",
       "<table border=\"1\" class=\"dataframe\">\n",
       "  <thead>\n",
       "    <tr style=\"text-align: right;\">\n",
       "      <th></th>\n",
       "      <th>Vendor_Number</th>\n",
       "      <th>Store_Number</th>\n",
       "      <th>Item_Number</th>\n",
       "      <th>Date</th>\n",
       "      <th>Bottle_Volume</th>\n",
       "      <th>Volume_Sold_Liters</th>\n",
       "      <th>Bottles_Sold</th>\n",
       "      <th>Sales</th>\n",
       "      <th>Bottle_Cost</th>\n",
       "      <th>Bottle_Retail</th>\n",
       "      <th>Category</th>\n",
       "      <th>trans_date</th>\n",
       "    </tr>\n",
       "  </thead>\n",
       "  <tbody>\n",
       "    <tr>\n",
       "      <th>0</th>\n",
       "      <td>434</td>\n",
       "      <td>5417</td>\n",
       "      <td>36308</td>\n",
       "      <td>11/01/2021</td>\n",
       "      <td>1750</td>\n",
       "      <td>10.50</td>\n",
       "      <td>6</td>\n",
       "      <td>64.56</td>\n",
       "      <td>7.17</td>\n",
       "      <td>10.76</td>\n",
       "      <td>1031100</td>\n",
       "      <td>2021-11-01</td>\n",
       "    </tr>\n",
       "    <tr>\n",
       "      <th>1</th>\n",
       "      <td>065</td>\n",
       "      <td>4921</td>\n",
       "      <td>19061</td>\n",
       "      <td>11/01/2021</td>\n",
       "      <td>50</td>\n",
       "      <td>0.05</td>\n",
       "      <td>1</td>\n",
       "      <td>10.50</td>\n",
       "      <td>7.00</td>\n",
       "      <td>10.50</td>\n",
       "      <td>1011200</td>\n",
       "      <td>2021-11-01</td>\n",
       "    </tr>\n",
       "    <tr>\n",
       "      <th>2</th>\n",
       "      <td>260</td>\n",
       "      <td>5687</td>\n",
       "      <td>11296</td>\n",
       "      <td>11/01/2021</td>\n",
       "      <td>750</td>\n",
       "      <td>9.00</td>\n",
       "      <td>12</td>\n",
       "      <td>298.68</td>\n",
       "      <td>16.59</td>\n",
       "      <td>24.89</td>\n",
       "      <td>1012100</td>\n",
       "      <td>2021-11-01</td>\n",
       "    </tr>\n",
       "    <tr>\n",
       "      <th>3</th>\n",
       "      <td>434</td>\n",
       "      <td>2648</td>\n",
       "      <td>86250</td>\n",
       "      <td>11/01/2021</td>\n",
       "      <td>750</td>\n",
       "      <td>9.00</td>\n",
       "      <td>12</td>\n",
       "      <td>48.12</td>\n",
       "      <td>2.67</td>\n",
       "      <td>4.01</td>\n",
       "      <td>1081500</td>\n",
       "      <td>2021-11-01</td>\n",
       "    </tr>\n",
       "    <tr>\n",
       "      <th>4</th>\n",
       "      <td>205</td>\n",
       "      <td>4379</td>\n",
       "      <td>52596</td>\n",
       "      <td>11/01/2021</td>\n",
       "      <td>750</td>\n",
       "      <td>3.75</td>\n",
       "      <td>5</td>\n",
       "      <td>48.75</td>\n",
       "      <td>6.50</td>\n",
       "      <td>9.75</td>\n",
       "      <td>1051100</td>\n",
       "      <td>2021-11-01</td>\n",
       "    </tr>\n",
       "  </tbody>\n",
       "</table>\n",
       "</div>"
      ],
      "text/plain": [
       "  Vendor_Number Store_Number Item_Number        Date  Bottle_Volume  \\\n",
       "0           434         5417       36308  11/01/2021           1750   \n",
       "1           065         4921       19061  11/01/2021             50   \n",
       "2           260         5687       11296  11/01/2021            750   \n",
       "3           434         2648       86250  11/01/2021            750   \n",
       "4           205         4379       52596  11/01/2021            750   \n",
       "\n",
       "   Volume_Sold_Liters  Bottles_Sold   Sales  Bottle_Cost  Bottle_Retail  \\\n",
       "0               10.50             6   64.56         7.17          10.76   \n",
       "1                0.05             1   10.50         7.00          10.50   \n",
       "2                9.00            12  298.68        16.59          24.89   \n",
       "3                9.00            12   48.12         2.67           4.01   \n",
       "4                3.75             5   48.75         6.50           9.75   \n",
       "\n",
       "  Category  trans_date  \n",
       "0  1031100  2021-11-01  \n",
       "1  1011200  2021-11-01  \n",
       "2  1012100  2021-11-01  \n",
       "3  1081500  2021-11-01  \n",
       "4  1051100  2021-11-01  "
      ]
     },
     "execution_count": 4,
     "metadata": {},
     "output_type": "execute_result"
    }
   ],
   "source": [
    "trans.head()"
   ]
  },
  {
   "cell_type": "code",
   "execution_count": 5,
   "id": "730c6d74",
   "metadata": {},
   "outputs": [
    {
     "data": {
      "text/plain": [
       "(2622712, 12)"
      ]
     },
     "execution_count": 5,
     "metadata": {},
     "output_type": "execute_result"
    }
   ],
   "source": [
    "trans.shape"
   ]
  },
  {
   "cell_type": "code",
   "execution_count": 6,
   "id": "e7d175e4",
   "metadata": {},
   "outputs": [
    {
     "name": "stdout",
     "output_type": "stream",
     "text": [
      "<class 'pandas.core.frame.DataFrame'>\n",
      "Int64Index: 2622712 entries, 0 to 2622711\n",
      "Data columns (total 12 columns):\n",
      " #   Column              Dtype  \n",
      "---  ------              -----  \n",
      " 0   Vendor_Number       object \n",
      " 1   Store_Number        object \n",
      " 2   Item_Number         object \n",
      " 3   Date                object \n",
      " 4   Bottle_Volume       int64  \n",
      " 5   Volume_Sold_Liters  float64\n",
      " 6   Bottles_Sold        int64  \n",
      " 7   Sales               float64\n",
      " 8   Bottle_Cost         float64\n",
      " 9   Bottle_Retail       float64\n",
      " 10  Category            object \n",
      " 11  trans_date          object \n",
      "dtypes: float64(4), int64(2), object(6)\n",
      "memory usage: 260.1+ MB\n"
     ]
    }
   ],
   "source": [
    "trans.info()"
   ]
  },
  {
   "cell_type": "code",
   "execution_count": 7,
   "id": "705c9e50",
   "metadata": {},
   "outputs": [
    {
     "data": {
      "text/plain": [
       "0"
      ]
     },
     "execution_count": 7,
     "metadata": {},
     "output_type": "execute_result"
    }
   ],
   "source": [
    "np.sum(trans['Category'].isna())"
   ]
  },
  {
   "cell_type": "code",
   "execution_count": 8,
   "id": "96f727f4",
   "metadata": {},
   "outputs": [],
   "source": [
    "products = pd.read_csv(r'C:\\Users\\dgarb\\OneDrive\\Desktop\\Capstone Data\\liquor_2021\\products_2021.csv',index_col=0,dtype={'Item_Number':str, 'Category':str})"
   ]
  },
  {
   "cell_type": "code",
   "execution_count": 9,
   "id": "27d40f84",
   "metadata": {},
   "outputs": [
    {
     "name": "stdout",
     "output_type": "stream",
     "text": [
      "<class 'pandas.core.frame.DataFrame'>\n",
      "Int64Index: 4472 entries, 237409 to 1094183\n",
      "Data columns (total 3 columns):\n",
      " #   Column            Non-Null Count  Dtype \n",
      "---  ------            --------------  ----- \n",
      " 0   Item_Number       4472 non-null   object\n",
      " 1   Item_Description  4472 non-null   object\n",
      " 2   Category          4472 non-null   object\n",
      "dtypes: object(3)\n",
      "memory usage: 139.8+ KB\n"
     ]
    }
   ],
   "source": [
    "products.info()"
   ]
  },
  {
   "cell_type": "code",
   "execution_count": 10,
   "id": "cb36e5a6",
   "metadata": {},
   "outputs": [],
   "source": [
    "categories = pd.read_csv(r'C:\\Users\\dgarb\\OneDrive\\Desktop\\Capstone Data\\liquor_2021\\categories.csv',index_col=0,dtype={'Category':str})"
   ]
  },
  {
   "cell_type": "code",
   "execution_count": 11,
   "id": "731df9af",
   "metadata": {},
   "outputs": [],
   "source": [
    "categories2 = categories[['Category', 'New_Category_Name']]"
   ]
  },
  {
   "cell_type": "code",
   "execution_count": 12,
   "id": "b012d299",
   "metadata": {},
   "outputs": [
    {
     "name": "stdout",
     "output_type": "stream",
     "text": [
      "<class 'pandas.core.frame.DataFrame'>\n",
      "Int64Index: 57 entries, 390061 to 1094183\n",
      "Data columns (total 2 columns):\n",
      " #   Column             Non-Null Count  Dtype \n",
      "---  ------             --------------  ----- \n",
      " 0   Category           57 non-null     object\n",
      " 1   New_Category_Name  57 non-null     object\n",
      "dtypes: object(2)\n",
      "memory usage: 1.3+ KB\n"
     ]
    }
   ],
   "source": [
    "\n",
    "categories2.info()"
   ]
  },
  {
   "cell_type": "code",
   "execution_count": 13,
   "id": "f8a797da",
   "metadata": {},
   "outputs": [
    {
     "data": {
      "text/html": [
       "<div>\n",
       "<style scoped>\n",
       "    .dataframe tbody tr th:only-of-type {\n",
       "        vertical-align: middle;\n",
       "    }\n",
       "\n",
       "    .dataframe tbody tr th {\n",
       "        vertical-align: top;\n",
       "    }\n",
       "\n",
       "    .dataframe thead th {\n",
       "        text-align: right;\n",
       "    }\n",
       "</style>\n",
       "<table border=\"1\" class=\"dataframe\">\n",
       "  <thead>\n",
       "    <tr style=\"text-align: right;\">\n",
       "      <th></th>\n",
       "      <th>Category</th>\n",
       "      <th>Category_Name</th>\n",
       "      <th>New_Category_Name</th>\n",
       "    </tr>\n",
       "  </thead>\n",
       "  <tbody>\n",
       "    <tr>\n",
       "      <th>390061</th>\n",
       "      <td>1070100</td>\n",
       "      <td>Temporary  &amp; Specialty Packages</td>\n",
       "      <td>Temporary  &amp; Specialty Packages</td>\n",
       "    </tr>\n",
       "    <tr>\n",
       "      <th>2334587</th>\n",
       "      <td>1070000</td>\n",
       "      <td>Cocktails / RTD</td>\n",
       "      <td>Cocktails / RTD</td>\n",
       "    </tr>\n",
       "    <tr>\n",
       "      <th>2362487</th>\n",
       "      <td>1011000</td>\n",
       "      <td>American Whiskies</td>\n",
       "      <td>Whiskies</td>\n",
       "    </tr>\n",
       "  </tbody>\n",
       "</table>\n",
       "</div>"
      ],
      "text/plain": [
       "        Category                    Category_Name  \\\n",
       "390061   1070100  Temporary  & Specialty Packages   \n",
       "2334587  1070000                  Cocktails / RTD   \n",
       "2362487  1011000                American Whiskies   \n",
       "\n",
       "                       New_Category_Name  \n",
       "390061   Temporary  & Specialty Packages  \n",
       "2334587                  Cocktails / RTD  \n",
       "2362487                         Whiskies  "
      ]
     },
     "execution_count": 13,
     "metadata": {},
     "output_type": "execute_result"
    }
   ],
   "source": [
    "categories.head(3)"
   ]
  },
  {
   "cell_type": "code",
   "execution_count": 14,
   "id": "520c3d3c",
   "metadata": {},
   "outputs": [
    {
     "data": {
      "text/plain": [
       "(2622712, 13)"
      ]
     },
     "execution_count": 14,
     "metadata": {},
     "output_type": "execute_result"
    }
   ],
   "source": [
    "item_trans_category = categories2.merge(trans, how='inner', on = ['Category'] )\n",
    "\n",
    "item_trans_category\n",
    "item_trans_category.shape"
   ]
  },
  {
   "cell_type": "code",
   "execution_count": 15,
   "id": "8a259eb6",
   "metadata": {},
   "outputs": [],
   "source": [
    "item_trans_category = item_trans_category.merge(products, how='inner', on=['Item_Number','Category'])"
   ]
  },
  {
   "cell_type": "code",
   "execution_count": 16,
   "id": "34bad764",
   "metadata": {},
   "outputs": [
    {
     "data": {
      "text/plain": [
       "(2604721, 14)"
      ]
     },
     "execution_count": 16,
     "metadata": {},
     "output_type": "execute_result"
    }
   ],
   "source": [
    "item_trans_category.shape"
   ]
  },
  {
   "cell_type": "code",
   "execution_count": 17,
   "id": "8420e864",
   "metadata": {},
   "outputs": [
    {
     "name": "stdout",
     "output_type": "stream",
     "text": [
      "<class 'pandas.core.frame.DataFrame'>\n",
      "Int64Index: 2604721 entries, 0 to 2604720\n",
      "Data columns (total 14 columns):\n",
      " #   Column              Dtype  \n",
      "---  ------              -----  \n",
      " 0   Category            object \n",
      " 1   New_Category_Name   object \n",
      " 2   Vendor_Number       object \n",
      " 3   Store_Number        object \n",
      " 4   Item_Number         object \n",
      " 5   Date                object \n",
      " 6   Bottle_Volume       int64  \n",
      " 7   Volume_Sold_Liters  float64\n",
      " 8   Bottles_Sold        int64  \n",
      " 9   Sales               float64\n",
      " 10  Bottle_Cost         float64\n",
      " 11  Bottle_Retail       float64\n",
      " 12  trans_date          object \n",
      " 13  Item_Description    object \n",
      "dtypes: float64(4), int64(2), object(8)\n",
      "memory usage: 298.1+ MB\n"
     ]
    }
   ],
   "source": [
    "item_trans_category.info()"
   ]
  },
  {
   "cell_type": "code",
   "execution_count": 18,
   "id": "84e86aa3",
   "metadata": {},
   "outputs": [
    {
     "data": {
      "text/html": [
       "<div>\n",
       "<style scoped>\n",
       "    .dataframe tbody tr th:only-of-type {\n",
       "        vertical-align: middle;\n",
       "    }\n",
       "\n",
       "    .dataframe tbody tr th {\n",
       "        vertical-align: top;\n",
       "    }\n",
       "\n",
       "    .dataframe thead th {\n",
       "        text-align: right;\n",
       "    }\n",
       "</style>\n",
       "<table border=\"1\" class=\"dataframe\">\n",
       "  <thead>\n",
       "    <tr style=\"text-align: right;\">\n",
       "      <th></th>\n",
       "      <th>Category</th>\n",
       "      <th>New_Category_Name</th>\n",
       "      <th>Vendor_Number</th>\n",
       "      <th>Store_Number</th>\n",
       "      <th>Item_Number</th>\n",
       "      <th>Date</th>\n",
       "      <th>Bottle_Volume</th>\n",
       "      <th>Volume_Sold_Liters</th>\n",
       "      <th>Bottles_Sold</th>\n",
       "      <th>Sales</th>\n",
       "      <th>Bottle_Cost</th>\n",
       "      <th>Bottle_Retail</th>\n",
       "      <th>trans_date</th>\n",
       "      <th>Item_Description</th>\n",
       "    </tr>\n",
       "  </thead>\n",
       "  <tbody>\n",
       "    <tr>\n",
       "      <th>0</th>\n",
       "      <td>1070100</td>\n",
       "      <td>Temporary  &amp; Specialty Packages</td>\n",
       "      <td>300</td>\n",
       "      <td>2714</td>\n",
       "      <td>63762</td>\n",
       "      <td>01/08/2021</td>\n",
       "      <td>1750</td>\n",
       "      <td>10.50</td>\n",
       "      <td>6</td>\n",
       "      <td>78.66</td>\n",
       "      <td>8.74</td>\n",
       "      <td>13.11</td>\n",
       "      <td>2021-01-08</td>\n",
       "      <td>Tarantula Ready To Drink Blue Margarita</td>\n",
       "    </tr>\n",
       "    <tr>\n",
       "      <th>1</th>\n",
       "      <td>1070100</td>\n",
       "      <td>Temporary  &amp; Specialty Packages</td>\n",
       "      <td>300</td>\n",
       "      <td>2538</td>\n",
       "      <td>63762</td>\n",
       "      <td>01/14/2021</td>\n",
       "      <td>1750</td>\n",
       "      <td>10.50</td>\n",
       "      <td>6</td>\n",
       "      <td>78.66</td>\n",
       "      <td>8.74</td>\n",
       "      <td>13.11</td>\n",
       "      <td>2021-01-14</td>\n",
       "      <td>Tarantula Ready To Drink Blue Margarita</td>\n",
       "    </tr>\n",
       "    <tr>\n",
       "      <th>2</th>\n",
       "      <td>1070100</td>\n",
       "      <td>Temporary  &amp; Specialty Packages</td>\n",
       "      <td>300</td>\n",
       "      <td>5665</td>\n",
       "      <td>63762</td>\n",
       "      <td>01/15/2021</td>\n",
       "      <td>1750</td>\n",
       "      <td>1.75</td>\n",
       "      <td>1</td>\n",
       "      <td>13.11</td>\n",
       "      <td>8.74</td>\n",
       "      <td>13.11</td>\n",
       "      <td>2021-01-15</td>\n",
       "      <td>Tarantula Ready To Drink Blue Margarita</td>\n",
       "    </tr>\n",
       "    <tr>\n",
       "      <th>3</th>\n",
       "      <td>1070100</td>\n",
       "      <td>Temporary  &amp; Specialty Packages</td>\n",
       "      <td>300</td>\n",
       "      <td>2712</td>\n",
       "      <td>63762</td>\n",
       "      <td>01/15/2021</td>\n",
       "      <td>1750</td>\n",
       "      <td>10.50</td>\n",
       "      <td>6</td>\n",
       "      <td>78.66</td>\n",
       "      <td>8.74</td>\n",
       "      <td>13.11</td>\n",
       "      <td>2021-01-15</td>\n",
       "      <td>Tarantula Ready To Drink Blue Margarita</td>\n",
       "    </tr>\n",
       "    <tr>\n",
       "      <th>4</th>\n",
       "      <td>1070100</td>\n",
       "      <td>Temporary  &amp; Specialty Packages</td>\n",
       "      <td>300</td>\n",
       "      <td>3417</td>\n",
       "      <td>63762</td>\n",
       "      <td>01/25/2021</td>\n",
       "      <td>1750</td>\n",
       "      <td>3.50</td>\n",
       "      <td>2</td>\n",
       "      <td>26.22</td>\n",
       "      <td>8.74</td>\n",
       "      <td>13.11</td>\n",
       "      <td>2021-01-25</td>\n",
       "      <td>Tarantula Ready To Drink Blue Margarita</td>\n",
       "    </tr>\n",
       "    <tr>\n",
       "      <th>...</th>\n",
       "      <td>...</td>\n",
       "      <td>...</td>\n",
       "      <td>...</td>\n",
       "      <td>...</td>\n",
       "      <td>...</td>\n",
       "      <td>...</td>\n",
       "      <td>...</td>\n",
       "      <td>...</td>\n",
       "      <td>...</td>\n",
       "      <td>...</td>\n",
       "      <td>...</td>\n",
       "      <td>...</td>\n",
       "      <td>...</td>\n",
       "      <td>...</td>\n",
       "    </tr>\n",
       "    <tr>\n",
       "      <th>2604716</th>\n",
       "      <td>1031100</td>\n",
       "      <td>Vodkas</td>\n",
       "      <td>566</td>\n",
       "      <td>2633</td>\n",
       "      <td>937468</td>\n",
       "      <td>06/24/2021</td>\n",
       "      <td>750</td>\n",
       "      <td>180.00</td>\n",
       "      <td>240</td>\n",
       "      <td>3600.00</td>\n",
       "      <td>10.00</td>\n",
       "      <td>15.00</td>\n",
       "      <td>2021-06-24</td>\n",
       "      <td>Peak Vodka</td>\n",
       "    </tr>\n",
       "    <tr>\n",
       "      <th>2604717</th>\n",
       "      <td>1031100</td>\n",
       "      <td>Vodkas</td>\n",
       "      <td>300</td>\n",
       "      <td>3417</td>\n",
       "      <td>940118</td>\n",
       "      <td>05/03/2021</td>\n",
       "      <td>1750</td>\n",
       "      <td>52.50</td>\n",
       "      <td>30</td>\n",
       "      <td>306.60</td>\n",
       "      <td>6.81</td>\n",
       "      <td>10.22</td>\n",
       "      <td>2021-05-03</td>\n",
       "      <td>Deuces Wild Diluted Vodka</td>\n",
       "    </tr>\n",
       "    <tr>\n",
       "      <th>2604718</th>\n",
       "      <td>1031100</td>\n",
       "      <td>Vodkas</td>\n",
       "      <td>322</td>\n",
       "      <td>2190</td>\n",
       "      <td>937147</td>\n",
       "      <td>05/03/2021</td>\n",
       "      <td>750</td>\n",
       "      <td>27.00</td>\n",
       "      <td>36</td>\n",
       "      <td>459.00</td>\n",
       "      <td>8.50</td>\n",
       "      <td>12.75</td>\n",
       "      <td>2021-05-03</td>\n",
       "      <td>Opulent Vodka</td>\n",
       "    </tr>\n",
       "    <tr>\n",
       "      <th>2604719</th>\n",
       "      <td>1031100</td>\n",
       "      <td>Vodkas</td>\n",
       "      <td>055</td>\n",
       "      <td>6142</td>\n",
       "      <td>936981</td>\n",
       "      <td>06/08/2021</td>\n",
       "      <td>50</td>\n",
       "      <td>0.50</td>\n",
       "      <td>10</td>\n",
       "      <td>90.00</td>\n",
       "      <td>6.00</td>\n",
       "      <td>9.00</td>\n",
       "      <td>2021-06-08</td>\n",
       "      <td>99 Vodka Mini</td>\n",
       "    </tr>\n",
       "    <tr>\n",
       "      <th>2604720</th>\n",
       "      <td>1031100</td>\n",
       "      <td>Vodkas</td>\n",
       "      <td>273</td>\n",
       "      <td>2647</td>\n",
       "      <td>937042</td>\n",
       "      <td>08/02/2021</td>\n",
       "      <td>50</td>\n",
       "      <td>0.05</td>\n",
       "      <td>1</td>\n",
       "      <td>45.00</td>\n",
       "      <td>30.00</td>\n",
       "      <td>45.00</td>\n",
       "      <td>2021-08-02</td>\n",
       "      <td>Ocean Organic Vodka Mini</td>\n",
       "    </tr>\n",
       "  </tbody>\n",
       "</table>\n",
       "<p>2604721 rows × 14 columns</p>\n",
       "</div>"
      ],
      "text/plain": [
       "        Category                New_Category_Name Vendor_Number Store_Number  \\\n",
       "0        1070100  Temporary  & Specialty Packages           300         2714   \n",
       "1        1070100  Temporary  & Specialty Packages           300         2538   \n",
       "2        1070100  Temporary  & Specialty Packages           300         5665   \n",
       "3        1070100  Temporary  & Specialty Packages           300         2712   \n",
       "4        1070100  Temporary  & Specialty Packages           300         3417   \n",
       "...          ...                              ...           ...          ...   \n",
       "2604716  1031100                           Vodkas           566         2633   \n",
       "2604717  1031100                           Vodkas           300         3417   \n",
       "2604718  1031100                           Vodkas           322         2190   \n",
       "2604719  1031100                           Vodkas           055         6142   \n",
       "2604720  1031100                           Vodkas           273         2647   \n",
       "\n",
       "        Item_Number        Date  Bottle_Volume  Volume_Sold_Liters  \\\n",
       "0             63762  01/08/2021           1750               10.50   \n",
       "1             63762  01/14/2021           1750               10.50   \n",
       "2             63762  01/15/2021           1750                1.75   \n",
       "3             63762  01/15/2021           1750               10.50   \n",
       "4             63762  01/25/2021           1750                3.50   \n",
       "...             ...         ...            ...                 ...   \n",
       "2604716      937468  06/24/2021            750              180.00   \n",
       "2604717      940118  05/03/2021           1750               52.50   \n",
       "2604718      937147  05/03/2021            750               27.00   \n",
       "2604719      936981  06/08/2021             50                0.50   \n",
       "2604720      937042  08/02/2021             50                0.05   \n",
       "\n",
       "         Bottles_Sold    Sales  Bottle_Cost  Bottle_Retail  trans_date  \\\n",
       "0                   6    78.66         8.74          13.11  2021-01-08   \n",
       "1                   6    78.66         8.74          13.11  2021-01-14   \n",
       "2                   1    13.11         8.74          13.11  2021-01-15   \n",
       "3                   6    78.66         8.74          13.11  2021-01-15   \n",
       "4                   2    26.22         8.74          13.11  2021-01-25   \n",
       "...               ...      ...          ...            ...         ...   \n",
       "2604716           240  3600.00        10.00          15.00  2021-06-24   \n",
       "2604717            30   306.60         6.81          10.22  2021-05-03   \n",
       "2604718            36   459.00         8.50          12.75  2021-05-03   \n",
       "2604719            10    90.00         6.00           9.00  2021-06-08   \n",
       "2604720             1    45.00        30.00          45.00  2021-08-02   \n",
       "\n",
       "                                Item_Description  \n",
       "0        Tarantula Ready To Drink Blue Margarita  \n",
       "1        Tarantula Ready To Drink Blue Margarita  \n",
       "2        Tarantula Ready To Drink Blue Margarita  \n",
       "3        Tarantula Ready To Drink Blue Margarita  \n",
       "4        Tarantula Ready To Drink Blue Margarita  \n",
       "...                                          ...  \n",
       "2604716                               Peak Vodka  \n",
       "2604717                Deuces Wild Diluted Vodka  \n",
       "2604718                            Opulent Vodka  \n",
       "2604719                            99 Vodka Mini  \n",
       "2604720                 Ocean Organic Vodka Mini  \n",
       "\n",
       "[2604721 rows x 14 columns]"
      ]
     },
     "execution_count": 18,
     "metadata": {},
     "output_type": "execute_result"
    }
   ],
   "source": [
    "item_trans_category"
   ]
  },
  {
   "cell_type": "code",
   "execution_count": 19,
   "id": "69edc503",
   "metadata": {},
   "outputs": [],
   "source": [
    "df_sum = item_trans_category.groupby(['Item_Number','Item_Description','Bottle_Volume','New_Category_Name']).agg({'Bottle_Retail':'mean','Bottles_Sold':'sum','Store_Number':'nunique'}).reset_index()"
   ]
  },
  {
   "cell_type": "code",
   "execution_count": 20,
   "id": "83e7d309",
   "metadata": {},
   "outputs": [
    {
     "data": {
      "text/plain": [
       "(4475, 7)"
      ]
     },
     "execution_count": 20,
     "metadata": {},
     "output_type": "execute_result"
    }
   ],
   "source": [
    "df_sum.shape"
   ]
  },
  {
   "cell_type": "code",
   "execution_count": 21,
   "id": "f56b48d6",
   "metadata": {},
   "outputs": [
    {
     "data": {
      "text/plain": [
       "(4475, 7)"
      ]
     },
     "execution_count": 21,
     "metadata": {},
     "output_type": "execute_result"
    }
   ],
   "source": [
    "df_sum.shape"
   ]
  },
  {
   "cell_type": "code",
   "execution_count": 22,
   "id": "b662d46a",
   "metadata": {},
   "outputs": [
    {
     "data": {
      "text/html": [
       "<div>\n",
       "<style scoped>\n",
       "    .dataframe tbody tr th:only-of-type {\n",
       "        vertical-align: middle;\n",
       "    }\n",
       "\n",
       "    .dataframe tbody tr th {\n",
       "        vertical-align: top;\n",
       "    }\n",
       "\n",
       "    .dataframe thead th {\n",
       "        text-align: right;\n",
       "    }\n",
       "</style>\n",
       "<table border=\"1\" class=\"dataframe\">\n",
       "  <thead>\n",
       "    <tr style=\"text-align: right;\">\n",
       "      <th></th>\n",
       "      <th>Item_Number</th>\n",
       "      <th>Item_Description</th>\n",
       "      <th>Bottle_Volume</th>\n",
       "      <th>New_Category_Name</th>\n",
       "      <th>Bottle_Retail</th>\n",
       "      <th>Bottles_Sold</th>\n",
       "      <th>Store_Number</th>\n",
       "    </tr>\n",
       "  </thead>\n",
       "  <tbody>\n",
       "    <tr>\n",
       "      <th>0</th>\n",
       "      <td>100015</td>\n",
       "      <td>Fireball Cinnamon Whiskey Bag in Box</td>\n",
       "      <td>3500</td>\n",
       "      <td>Liquers</td>\n",
       "      <td>45.00</td>\n",
       "      <td>1123</td>\n",
       "      <td>129</td>\n",
       "    </tr>\n",
       "    <tr>\n",
       "      <th>1</th>\n",
       "      <td>10006</td>\n",
       "      <td>Scoresby Rare Scotch</td>\n",
       "      <td>750</td>\n",
       "      <td>Scotch</td>\n",
       "      <td>7.70</td>\n",
       "      <td>4619</td>\n",
       "      <td>197</td>\n",
       "    </tr>\n",
       "    <tr>\n",
       "      <th>2</th>\n",
       "      <td>100077</td>\n",
       "      <td>Kraken Rum w/ Tiki Glass</td>\n",
       "      <td>750</td>\n",
       "      <td>Temporary &amp; Specialty Packages</td>\n",
       "      <td>15.68</td>\n",
       "      <td>2679</td>\n",
       "      <td>136</td>\n",
       "    </tr>\n",
       "    <tr>\n",
       "      <th>3</th>\n",
       "      <td>10008</td>\n",
       "      <td>Scoresby Rare Scotch</td>\n",
       "      <td>1750</td>\n",
       "      <td>Scotch</td>\n",
       "      <td>15.75</td>\n",
       "      <td>12340</td>\n",
       "      <td>287</td>\n",
       "    </tr>\n",
       "    <tr>\n",
       "      <th>4</th>\n",
       "      <td>10009</td>\n",
       "      <td>Scoresby Rare Scotch</td>\n",
       "      <td>1000</td>\n",
       "      <td>Scotch</td>\n",
       "      <td>10.11</td>\n",
       "      <td>1722</td>\n",
       "      <td>70</td>\n",
       "    </tr>\n",
       "  </tbody>\n",
       "</table>\n",
       "</div>"
      ],
      "text/plain": [
       "  Item_Number                      Item_Description  Bottle_Volume  \\\n",
       "0      100015  Fireball Cinnamon Whiskey Bag in Box           3500   \n",
       "1       10006                  Scoresby Rare Scotch            750   \n",
       "2      100077              Kraken Rum w/ Tiki Glass            750   \n",
       "3       10008                  Scoresby Rare Scotch           1750   \n",
       "4       10009                  Scoresby Rare Scotch           1000   \n",
       "\n",
       "                New_Category_Name  Bottle_Retail  Bottles_Sold  Store_Number  \n",
       "0                         Liquers          45.00          1123           129  \n",
       "1                          Scotch           7.70          4619           197  \n",
       "2  Temporary & Specialty Packages          15.68          2679           136  \n",
       "3                          Scotch          15.75         12340           287  \n",
       "4                          Scotch          10.11          1722            70  "
      ]
     },
     "execution_count": 22,
     "metadata": {},
     "output_type": "execute_result"
    }
   ],
   "source": [
    "df_sum.head()"
   ]
  },
  {
   "cell_type": "code",
   "execution_count": 23,
   "id": "f7e765d2",
   "metadata": {},
   "outputs": [],
   "source": [
    "df_sum.to_csv(r'C:\\Users\\dgarb\\OneDrive\\Desktop\\Capstone Data\\liquor_2021\\clustering_data_num_unique_stores.csv')"
   ]
  },
  {
   "cell_type": "code",
   "execution_count": 24,
   "id": "7ae72ed3",
   "metadata": {},
   "outputs": [],
   "source": [
    "check = pd.read_csv(r'C:\\Users\\dgarb\\OneDrive\\Desktop\\Capstone Data\\liquor_2021\\clustering_data_num_unique_stores.csv')"
   ]
  },
  {
   "cell_type": "code",
   "execution_count": 25,
   "id": "34697f83",
   "metadata": {},
   "outputs": [
    {
     "name": "stdout",
     "output_type": "stream",
     "text": [
      "<class 'pandas.core.frame.DataFrame'>\n",
      "RangeIndex: 4475 entries, 0 to 4474\n",
      "Data columns (total 8 columns):\n",
      " #   Column             Non-Null Count  Dtype  \n",
      "---  ------             --------------  -----  \n",
      " 0   Unnamed: 0         4475 non-null   int64  \n",
      " 1   Item_Number        4475 non-null   int64  \n",
      " 2   Item_Description   4475 non-null   object \n",
      " 3   Bottle_Volume      4475 non-null   int64  \n",
      " 4   New_Category_Name  4475 non-null   object \n",
      " 5   Bottle_Retail      4475 non-null   float64\n",
      " 6   Bottles_Sold       4475 non-null   int64  \n",
      " 7   Store_Number       4475 non-null   int64  \n",
      "dtypes: float64(1), int64(5), object(2)\n",
      "memory usage: 279.8+ KB\n"
     ]
    }
   ],
   "source": [
    "check.info()"
   ]
  }
 ],
 "metadata": {
  "kernelspec": {
   "display_name": "Python 3 (ipykernel)",
   "language": "python",
   "name": "python3"
  },
  "language_info": {
   "codemirror_mode": {
    "name": "ipython",
    "version": 3
   },
   "file_extension": ".py",
   "mimetype": "text/x-python",
   "name": "python",
   "nbconvert_exporter": "python",
   "pygments_lexer": "ipython3",
   "version": "3.9.7"
  }
 },
 "nbformat": 4,
 "nbformat_minor": 5
}

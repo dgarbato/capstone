{
 "cells": [
  {
   "cell_type": "code",
   "execution_count": 1,
   "id": "54d5054b",
   "metadata": {},
   "outputs": [],
   "source": [
    "import pandas as pd\n",
    "import numpy as np"
   ]
  },
  {
   "cell_type": "code",
   "execution_count": 2,
   "id": "df318322",
   "metadata": {},
   "outputs": [],
   "source": [
    "tdtypes = {'Store_Number':str,'Vendor_Number':str,'Item_Number':str, 'Category':str}"
   ]
  },
  {
   "cell_type": "code",
   "execution_count": 4,
   "id": "6a40c952",
   "metadata": {},
   "outputs": [
    {
     "name": "stderr",
     "output_type": "stream",
     "text": [
      "C:\\Users\\dgarb\\anaconda3_reinstall\\lib\\site-packages\\numpy\\lib\\arraysetops.py:583: FutureWarning: elementwise comparison failed; returning scalar instead, but in the future will perform elementwise comparison\n",
      "  mask |= (ar1 == a)\n"
     ]
    }
   ],
   "source": [
    "trans = pd.read_csv(r'C:\\Users\\dgarb\\OneDrive\\Desktop\\Capstone Data\\liquor_2021\\transactions_2021.csv', dtype=tdtypes, index_col=0)"
   ]
  },
  {
   "cell_type": "code",
   "execution_count": 5,
   "id": "96f727f4",
   "metadata": {},
   "outputs": [],
   "source": [
    "products = pd.read_csv(r'C:\\Users\\dgarb\\OneDrive\\Desktop\\Capstone Data\\liquor_2021\\products_2021.csv',index_col=0,dtype={'Item_Number':str, 'Category':str})"
   ]
  },
  {
   "cell_type": "code",
   "execution_count": 7,
   "id": "8a259eb6",
   "metadata": {},
   "outputs": [],
   "source": [
    "item_trans = trans.merge(products, how='inner', on= ['Category','Item_Number'])"
   ]
  },
  {
   "cell_type": "code",
   "execution_count": 8,
   "id": "1fc6323c",
   "metadata": {},
   "outputs": [
    {
     "name": "stdout",
     "output_type": "stream",
     "text": [
      "<class 'pandas.core.frame.DataFrame'>\n",
      "Int64Index: 2604721 entries, 0 to 2604720\n",
      "Data columns (total 13 columns):\n",
      " #   Column              Dtype  \n",
      "---  ------              -----  \n",
      " 0   Vendor_Number       object \n",
      " 1   Store_Number        object \n",
      " 2   Item_Number         object \n",
      " 3   Date                object \n",
      " 4   Bottle_Volume       int64  \n",
      " 5   Volume_Sold_Liters  float64\n",
      " 6   Bottles_Sold        int64  \n",
      " 7   Sales               float64\n",
      " 8   Bottle_Cost         float64\n",
      " 9   Bottle_Retail       float64\n",
      " 10  Category            object \n",
      " 11  trans_date          object \n",
      " 12  Item_Description    object \n",
      "dtypes: float64(4), int64(2), object(7)\n",
      "memory usage: 278.2+ MB\n"
     ]
    }
   ],
   "source": [
    "item_trans.info()"
   ]
  },
  {
   "cell_type": "code",
   "execution_count": 9,
   "id": "69edc503",
   "metadata": {},
   "outputs": [],
   "source": [
    "df_sum = item_trans.groupby(['Item_Number','Item_Description','Bottle_Volume']).agg({'Bottle_Retail':'mean','Bottles_Sold':'sum','Store_Number':'nunique'}).reset_index()"
   ]
  },
  {
   "cell_type": "code",
   "execution_count": 11,
   "id": "b662d46a",
   "metadata": {},
   "outputs": [
    {
     "data": {
      "text/html": [
       "<div>\n",
       "<style scoped>\n",
       "    .dataframe tbody tr th:only-of-type {\n",
       "        vertical-align: middle;\n",
       "    }\n",
       "\n",
       "    .dataframe tbody tr th {\n",
       "        vertical-align: top;\n",
       "    }\n",
       "\n",
       "    .dataframe thead th {\n",
       "        text-align: right;\n",
       "    }\n",
       "</style>\n",
       "<table border=\"1\" class=\"dataframe\">\n",
       "  <thead>\n",
       "    <tr style=\"text-align: right;\">\n",
       "      <th></th>\n",
       "      <th>Item_Number</th>\n",
       "      <th>Item_Description</th>\n",
       "      <th>Bottle_Volume</th>\n",
       "      <th>Bottle_Retail</th>\n",
       "      <th>Bottles_Sold</th>\n",
       "      <th>Store_Number</th>\n",
       "    </tr>\n",
       "  </thead>\n",
       "  <tbody>\n",
       "    <tr>\n",
       "      <th>0</th>\n",
       "      <td>100015</td>\n",
       "      <td>Fireball Cinnamon Whiskey Bag in Box</td>\n",
       "      <td>3500</td>\n",
       "      <td>45.00</td>\n",
       "      <td>1123</td>\n",
       "      <td>129</td>\n",
       "    </tr>\n",
       "    <tr>\n",
       "      <th>1</th>\n",
       "      <td>10006</td>\n",
       "      <td>Scoresby Rare Scotch</td>\n",
       "      <td>750</td>\n",
       "      <td>7.70</td>\n",
       "      <td>4619</td>\n",
       "      <td>197</td>\n",
       "    </tr>\n",
       "    <tr>\n",
       "      <th>2</th>\n",
       "      <td>100077</td>\n",
       "      <td>Kraken Rum w/ Tiki Glass</td>\n",
       "      <td>750</td>\n",
       "      <td>15.68</td>\n",
       "      <td>2679</td>\n",
       "      <td>136</td>\n",
       "    </tr>\n",
       "    <tr>\n",
       "      <th>3</th>\n",
       "      <td>10008</td>\n",
       "      <td>Scoresby Rare Scotch</td>\n",
       "      <td>1750</td>\n",
       "      <td>15.75</td>\n",
       "      <td>12340</td>\n",
       "      <td>287</td>\n",
       "    </tr>\n",
       "    <tr>\n",
       "      <th>4</th>\n",
       "      <td>10009</td>\n",
       "      <td>Scoresby Rare Scotch</td>\n",
       "      <td>1000</td>\n",
       "      <td>10.11</td>\n",
       "      <td>1722</td>\n",
       "      <td>70</td>\n",
       "    </tr>\n",
       "  </tbody>\n",
       "</table>\n",
       "</div>"
      ],
      "text/plain": [
       "  Item_Number                      Item_Description  Bottle_Volume  \\\n",
       "0      100015  Fireball Cinnamon Whiskey Bag in Box           3500   \n",
       "1       10006                  Scoresby Rare Scotch            750   \n",
       "2      100077              Kraken Rum w/ Tiki Glass            750   \n",
       "3       10008                  Scoresby Rare Scotch           1750   \n",
       "4       10009                  Scoresby Rare Scotch           1000   \n",
       "\n",
       "   Bottle_Retail  Bottles_Sold  Store_Number  \n",
       "0          45.00          1123           129  \n",
       "1           7.70          4619           197  \n",
       "2          15.68          2679           136  \n",
       "3          15.75         12340           287  \n",
       "4          10.11          1722            70  "
      ]
     },
     "execution_count": 11,
     "metadata": {},
     "output_type": "execute_result"
    }
   ],
   "source": [
    "df_sum.head()"
   ]
  },
  {
   "cell_type": "code",
   "execution_count": 10,
   "id": "f7e765d2",
   "metadata": {},
   "outputs": [],
   "source": [
    "df_sum.to_csv(r'C:\\Users\\dgarb\\OneDrive\\Desktop\\Capstone Data\\liquor_2021\\clustering_data_num_unique_stores')"
   ]
  }
 ],
 "metadata": {
  "kernelspec": {
   "display_name": "Python 3 (ipykernel)",
   "language": "python",
   "name": "python3"
  },
  "language_info": {
   "codemirror_mode": {
    "name": "ipython",
    "version": 3
   },
   "file_extension": ".py",
   "mimetype": "text/x-python",
   "name": "python",
   "nbconvert_exporter": "python",
   "pygments_lexer": "ipython3",
   "version": "3.9.7"
  }
 },
 "nbformat": 4,
 "nbformat_minor": 5
}

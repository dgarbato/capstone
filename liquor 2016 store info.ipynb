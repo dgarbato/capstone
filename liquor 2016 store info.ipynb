{
 "cells": [
  {
   "cell_type": "code",
   "execution_count": 1,
   "id": "423829a9",
   "metadata": {},
   "outputs": [],
   "source": [
    "import pandas as pd\n",
    "import numpy as np"
   ]
  },
  {
   "cell_type": "code",
   "execution_count": 2,
   "id": "2675de42",
   "metadata": {},
   "outputs": [],
   "source": [
    "dict_dtypes ={'Invoice/Item Number':str,\n",
    " 'Date':str,\n",
    " 'Store Number':str,\n",
    " 'Store Name':str,\n",
    " 'Address':str,\n",
    " 'City':str,\n",
    " 'Zip Code':str,\n",
    " 'Store Location':str,\n",
    " 'County Number':str,\n",
    " 'County':str,\n",
    " 'Category':str,\n",
    " 'Category Name':str,\n",
    " 'Vendor Number':str,\n",
    " 'Vendor Name':str,\n",
    " 'Item Number':str,\n",
    " 'Item Description':str,\n",
    " 'Pack':int,\n",
    " 'Bottle Volume (ml)':int,\n",
    " 'State Bottle Cost':float,\n",
    " 'State Bottle Retail':float,\n",
    " 'Bottles Sold':int,\n",
    " 'Sale (Dollars)':float,\n",
    " 'Volume Sold (Liters)':float,\n",
    " 'Volume Sold (Gallons)':float}"
   ]
  },
  {
   "cell_type": "code",
   "execution_count": 3,
   "id": "2cd15fe6",
   "metadata": {},
   "outputs": [],
   "source": [
    "liquor_2016 = pd.read_csv(r'C:\\Users\\dgarb\\OneDrive\\Desktop\\Capstone Data\\liquor_2016.csv', dtype=dict_dtypes)"
   ]
  },
  {
   "cell_type": "code",
   "execution_count": 4,
   "id": "087dc691",
   "metadata": {},
   "outputs": [],
   "source": [
    "liquor_2016.rename({'Item Number':'Item_Number',  'Store Number':'Store_Number', 'Store Name':'Store_Name',\\\n",
    "                    'Zip Code':'Zip_Code', 'Store Location':'Store_Location', 'County Number':'County_Number',\\\n",
    "                    'Category Name':'Category_Name', 'Vendor Name':'Vendor_Name', 'Item Number':'Item_Number',\\\n",
    "                    'Item Description':'Item_Description','Bottle Volume (ml)':'Bottle_Volume',\\\n",
    "                    'State Bottle Retail': 'Bottle_Retail','Bottles Sold':'Bottles_Sold',\\\n",
    "                   'State Bottle Cost':'Bottle_Cost', 'Sale (Dollars)':'Sales','Vendor Number':'Vendor_Number',\\\n",
    "                    'Volume Sold (Liters)':'Volume_Sold_Liters',\\\n",
    "                    'Volume Sold (Gallons)':'Volume_Sold_Gallons'} ,axis=1, inplace=True)#              \n",
    "                "
   ]
  },
  {
   "cell_type": "code",
   "execution_count": 5,
   "id": "ea48dde2",
   "metadata": {},
   "outputs": [
    {
     "data": {
      "text/html": [
       "<div>\n",
       "<style scoped>\n",
       "    .dataframe tbody tr th:only-of-type {\n",
       "        vertical-align: middle;\n",
       "    }\n",
       "\n",
       "    .dataframe tbody tr th {\n",
       "        vertical-align: top;\n",
       "    }\n",
       "\n",
       "    .dataframe thead th {\n",
       "        text-align: right;\n",
       "    }\n",
       "</style>\n",
       "<table border=\"1\" class=\"dataframe\">\n",
       "  <thead>\n",
       "    <tr style=\"text-align: right;\">\n",
       "      <th></th>\n",
       "      <th>Invoice/Item Number</th>\n",
       "      <th>Date</th>\n",
       "      <th>Store_Number</th>\n",
       "      <th>Store_Name</th>\n",
       "      <th>Address</th>\n",
       "      <th>City</th>\n",
       "      <th>Zip_Code</th>\n",
       "      <th>Store_Location</th>\n",
       "      <th>County_Number</th>\n",
       "      <th>County</th>\n",
       "      <th>Category</th>\n",
       "      <th>Category_Name</th>\n",
       "      <th>Vendor_Number</th>\n",
       "      <th>Vendor_Name</th>\n",
       "      <th>Item_Number</th>\n",
       "      <th>Item_Description</th>\n",
       "      <th>Pack</th>\n",
       "      <th>Bottle_Volume</th>\n",
       "      <th>Bottle_Cost</th>\n",
       "      <th>Bottle_Retail</th>\n",
       "      <th>Bottles_Sold</th>\n",
       "      <th>Sales</th>\n",
       "      <th>Volume_Sold_Liters</th>\n",
       "      <th>Volume_Sold_Gallons</th>\n",
       "    </tr>\n",
       "  </thead>\n",
       "  <tbody>\n",
       "    <tr>\n",
       "      <th>0</th>\n",
       "      <td>S32100500009</td>\n",
       "      <td>05/03/2016</td>\n",
       "      <td>4311</td>\n",
       "      <td>Fareway Stores #508 / Fort Dodge</td>\n",
       "      <td>1231  1st Ave S</td>\n",
       "      <td>Fort Dodge</td>\n",
       "      <td>50501</td>\n",
       "      <td>POINT (-94.18154 42.50513)</td>\n",
       "      <td>94</td>\n",
       "      <td>Webster</td>\n",
       "      <td>1051110</td>\n",
       "      <td>BLACKBERRY BRANDIES</td>\n",
       "      <td>434</td>\n",
       "      <td>Luxco-St Louis</td>\n",
       "      <td>55086</td>\n",
       "      <td>Paramount Blackberry Brandy</td>\n",
       "      <td>12</td>\n",
       "      <td>750</td>\n",
       "      <td>5.48</td>\n",
       "      <td>8.22</td>\n",
       "      <td>12</td>\n",
       "      <td>98.64</td>\n",
       "      <td>9.00</td>\n",
       "      <td>2.38</td>\n",
       "    </tr>\n",
       "    <tr>\n",
       "      <th>1</th>\n",
       "      <td>S32072000024</td>\n",
       "      <td>05/02/2016</td>\n",
       "      <td>4114</td>\n",
       "      <td>After 5 Somewhere</td>\n",
       "      <td>704 W 7th St Po Box 372</td>\n",
       "      <td>Atlantic</td>\n",
       "      <td>50022</td>\n",
       "      <td>POINT (-95.023116 41.40406200000001)</td>\n",
       "      <td>15</td>\n",
       "      <td>Cass</td>\n",
       "      <td>1082900</td>\n",
       "      <td>MISC. IMPORTED CORDIALS &amp; LIQUEURS</td>\n",
       "      <td>192</td>\n",
       "      <td>Sidney Frank Importing Co.</td>\n",
       "      <td>65256</td>\n",
       "      <td>Jagermeister Liqueur</td>\n",
       "      <td>12</td>\n",
       "      <td>750</td>\n",
       "      <td>12.05</td>\n",
       "      <td>18.08</td>\n",
       "      <td>5</td>\n",
       "      <td>90.40</td>\n",
       "      <td>3.75</td>\n",
       "      <td>0.99</td>\n",
       "    </tr>\n",
       "    <tr>\n",
       "      <th>2</th>\n",
       "      <td>S32021800012</td>\n",
       "      <td>04/27/2016</td>\n",
       "      <td>2622</td>\n",
       "      <td>Hy-Vee Food Store / Iowa City</td>\n",
       "      <td>1125 N DODGE ST</td>\n",
       "      <td>IOWA CITY</td>\n",
       "      <td>52240</td>\n",
       "      <td>POINT (-91.518868 41.676095)</td>\n",
       "      <td>52</td>\n",
       "      <td>Johnson</td>\n",
       "      <td>1012100</td>\n",
       "      <td>CANADIAN WHISKIES</td>\n",
       "      <td>260</td>\n",
       "      <td>Diageo Americas</td>\n",
       "      <td>11294</td>\n",
       "      <td>Crown Royal Canadian Whisky</td>\n",
       "      <td>24</td>\n",
       "      <td>375</td>\n",
       "      <td>7.75</td>\n",
       "      <td>11.63</td>\n",
       "      <td>3</td>\n",
       "      <td>34.89</td>\n",
       "      <td>1.12</td>\n",
       "      <td>0.30</td>\n",
       "    </tr>\n",
       "    <tr>\n",
       "      <th>3</th>\n",
       "      <td>S32094100014</td>\n",
       "      <td>05/04/2016</td>\n",
       "      <td>4745</td>\n",
       "      <td>Walgreens #05042 / Cedar Rapids</td>\n",
       "      <td>3325 16th Ave SW</td>\n",
       "      <td>Cedar Rapids</td>\n",
       "      <td>52404</td>\n",
       "      <td>POINT (-91.715363 41.963477)</td>\n",
       "      <td>57</td>\n",
       "      <td>Linn</td>\n",
       "      <td>1062200</td>\n",
       "      <td>PUERTO RICO &amp; VIRGIN ISLANDS RUM</td>\n",
       "      <td>434</td>\n",
       "      <td>Luxco-St Louis</td>\n",
       "      <td>45248</td>\n",
       "      <td>Paramount Gold Rum</td>\n",
       "      <td>6</td>\n",
       "      <td>1750</td>\n",
       "      <td>7.84</td>\n",
       "      <td>11.76</td>\n",
       "      <td>6</td>\n",
       "      <td>70.56</td>\n",
       "      <td>10.50</td>\n",
       "      <td>2.77</td>\n",
       "    </tr>\n",
       "    <tr>\n",
       "      <th>4</th>\n",
       "      <td>S32037400007</td>\n",
       "      <td>04/28/2016</td>\n",
       "      <td>4959</td>\n",
       "      <td>Bani's</td>\n",
       "      <td>2128 COLLEGE ST</td>\n",
       "      <td>CEDAR FALLS</td>\n",
       "      <td>50613</td>\n",
       "      <td>POINT (-92.455801 42.518018000000005)</td>\n",
       "      <td>07</td>\n",
       "      <td>Black Hawk</td>\n",
       "      <td>1071100</td>\n",
       "      <td>AMERICAN COCKTAILS</td>\n",
       "      <td>395</td>\n",
       "      <td>Proximo</td>\n",
       "      <td>58875</td>\n",
       "      <td>Jose Cuervo Golden Margarita</td>\n",
       "      <td>6</td>\n",
       "      <td>1750</td>\n",
       "      <td>10.50</td>\n",
       "      <td>15.75</td>\n",
       "      <td>6</td>\n",
       "      <td>94.50</td>\n",
       "      <td>10.50</td>\n",
       "      <td>2.77</td>\n",
       "    </tr>\n",
       "  </tbody>\n",
       "</table>\n",
       "</div>"
      ],
      "text/plain": [
       "  Invoice/Item Number        Date Store_Number  \\\n",
       "0        S32100500009  05/03/2016         4311   \n",
       "1        S32072000024  05/02/2016         4114   \n",
       "2        S32021800012  04/27/2016         2622   \n",
       "3        S32094100014  05/04/2016         4745   \n",
       "4        S32037400007  04/28/2016         4959   \n",
       "\n",
       "                         Store_Name                  Address          City  \\\n",
       "0  Fareway Stores #508 / Fort Dodge          1231  1st Ave S    Fort Dodge   \n",
       "1                 After 5 Somewhere  704 W 7th St Po Box 372      Atlantic   \n",
       "2     Hy-Vee Food Store / Iowa City          1125 N DODGE ST     IOWA CITY   \n",
       "3   Walgreens #05042 / Cedar Rapids         3325 16th Ave SW  Cedar Rapids   \n",
       "4                            Bani's          2128 COLLEGE ST   CEDAR FALLS   \n",
       "\n",
       "  Zip_Code                         Store_Location County_Number      County  \\\n",
       "0    50501             POINT (-94.18154 42.50513)            94     Webster   \n",
       "1    50022   POINT (-95.023116 41.40406200000001)            15        Cass   \n",
       "2    52240           POINT (-91.518868 41.676095)            52     Johnson   \n",
       "3    52404           POINT (-91.715363 41.963477)            57        Linn   \n",
       "4    50613  POINT (-92.455801 42.518018000000005)            07  Black Hawk   \n",
       "\n",
       "  Category                       Category_Name Vendor_Number  \\\n",
       "0  1051110                 BLACKBERRY BRANDIES           434   \n",
       "1  1082900  MISC. IMPORTED CORDIALS & LIQUEURS           192   \n",
       "2  1012100                   CANADIAN WHISKIES           260   \n",
       "3  1062200    PUERTO RICO & VIRGIN ISLANDS RUM           434   \n",
       "4  1071100                  AMERICAN COCKTAILS           395   \n",
       "\n",
       "                  Vendor_Name Item_Number              Item_Description  Pack  \\\n",
       "0              Luxco-St Louis       55086   Paramount Blackberry Brandy    12   \n",
       "1  Sidney Frank Importing Co.       65256          Jagermeister Liqueur    12   \n",
       "2             Diageo Americas       11294   Crown Royal Canadian Whisky    24   \n",
       "3              Luxco-St Louis       45248            Paramount Gold Rum     6   \n",
       "4                     Proximo       58875  Jose Cuervo Golden Margarita     6   \n",
       "\n",
       "   Bottle_Volume  Bottle_Cost  Bottle_Retail  Bottles_Sold  Sales  \\\n",
       "0            750         5.48           8.22            12  98.64   \n",
       "1            750        12.05          18.08             5  90.40   \n",
       "2            375         7.75          11.63             3  34.89   \n",
       "3           1750         7.84          11.76             6  70.56   \n",
       "4           1750        10.50          15.75             6  94.50   \n",
       "\n",
       "   Volume_Sold_Liters  Volume_Sold_Gallons  \n",
       "0                9.00                 2.38  \n",
       "1                3.75                 0.99  \n",
       "2                1.12                 0.30  \n",
       "3               10.50                 2.77  \n",
       "4               10.50                 2.77  "
      ]
     },
     "execution_count": 5,
     "metadata": {},
     "output_type": "execute_result"
    }
   ],
   "source": [
    "pd.set_option('display.max_columns', None)\n",
    "liquor_2016.head()"
   ]
  },
  {
   "cell_type": "code",
   "execution_count": 6,
   "id": "319a9194",
   "metadata": {},
   "outputs": [],
   "source": [
    "liquor_2016['trans_date'] = pd.to_datetime(liquor_2016['Date'])"
   ]
  },
  {
   "cell_type": "code",
   "execution_count": 16,
   "id": "728e9187",
   "metadata": {},
   "outputs": [
    {
     "data": {
      "text/plain": [
       "0   2016-05-03\n",
       "1   2016-05-02\n",
       "2   2016-04-27\n",
       "3   2016-05-04\n",
       "4   2016-04-28\n",
       "Name: trans_date, dtype: datetime64[ns]"
      ]
     },
     "execution_count": 16,
     "metadata": {},
     "output_type": "execute_result"
    }
   ],
   "source": [
    "liquor_2016['trans_date'].head()"
   ]
  },
  {
   "cell_type": "code",
   "execution_count": 7,
   "id": "3f8c4dd6",
   "metadata": {},
   "outputs": [],
   "source": [
    "df_store1 = liquor_2016.sort_values(by=['trans_date']).drop_duplicates(['Store_Number'],keep='last')"
   ]
  },
  {
   "cell_type": "code",
   "execution_count": 8,
   "id": "e809b98a",
   "metadata": {},
   "outputs": [],
   "source": [
    "stores = df_store1[['Store_Number', 'Store_Name', 'Address', 'City', 'Zip_Code', 'Store_Location', 'County_Number', 'County']]"
   ]
  },
  {
   "cell_type": "code",
   "execution_count": 9,
   "id": "cc26e900",
   "metadata": {},
   "outputs": [],
   "source": [
    "stores.to_csv(r'C:\\Users\\dgarb\\OneDrive\\Desktop\\Capstone Data\\liquor_2016\\stores_2016.csv')"
   ]
  },
  {
   "cell_type": "code",
   "execution_count": 11,
   "id": "533ba6f6",
   "metadata": {},
   "outputs": [],
   "source": [
    "zip_counts = stores.groupby(['Zip_Code']).agg({'Store_Number':'nunique'}).reset_index()"
   ]
  },
  {
   "cell_type": "code",
   "execution_count": 12,
   "id": "1a4bc146",
   "metadata": {},
   "outputs": [
    {
     "data": {
      "text/plain": [
       "Index(['Zip_Code', 'Store_Number'], dtype='object')"
      ]
     },
     "execution_count": 12,
     "metadata": {},
     "output_type": "execute_result"
    }
   ],
   "source": [
    "zip_counts.columns"
   ]
  },
  {
   "cell_type": "code",
   "execution_count": 13,
   "id": "bcd56cce",
   "metadata": {},
   "outputs": [],
   "source": [
    "zip_counts.columns = ['Zip_Code','number_of_2016_stores']"
   ]
  },
  {
   "cell_type": "code",
   "execution_count": 14,
   "id": "82807f4f",
   "metadata": {},
   "outputs": [
    {
     "data": {
      "text/plain": [
       "Index(['Zip_Code', 'number_of_2016_stores'], dtype='object')"
      ]
     },
     "execution_count": 14,
     "metadata": {},
     "output_type": "execute_result"
    }
   ],
   "source": [
    "zip_counts.columns"
   ]
  },
  {
   "cell_type": "code",
   "execution_count": 15,
   "id": "32463e24",
   "metadata": {},
   "outputs": [],
   "source": [
    "zip_counts.to_csv(r'C:\\Users\\dgarb\\OneDrive\\Desktop\\Capstone Data\\liquor_2016\\zip_counts_stores_2016.csv')"
   ]
  },
  {
   "cell_type": "code",
   "execution_count": null,
   "id": "4bab420c",
   "metadata": {},
   "outputs": [],
   "source": []
  }
 ],
 "metadata": {
  "kernelspec": {
   "display_name": "Python 3 (ipykernel)",
   "language": "python",
   "name": "python3"
  },
  "language_info": {
   "codemirror_mode": {
    "name": "ipython",
    "version": 3
   },
   "file_extension": ".py",
   "mimetype": "text/x-python",
   "name": "python",
   "nbconvert_exporter": "python",
   "pygments_lexer": "ipython3",
   "version": "3.9.7"
  }
 },
 "nbformat": 4,
 "nbformat_minor": 5
}

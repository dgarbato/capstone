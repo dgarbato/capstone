{
 "cells": [
  {
   "cell_type": "code",
   "execution_count": 1,
   "id": "89ef1a29",
   "metadata": {},
   "outputs": [],
   "source": [
    "import pandas as pd\n",
    "import numpy as np"
   ]
  },
  {
   "cell_type": "code",
   "execution_count": 2,
   "id": "7ccdcef0",
   "metadata": {},
   "outputs": [],
   "source": [
    "dict_dtypes = {'Item_Number':str,\n",
    "'Bottle_Volume':int,\n",
    "'Bottles_Sold':int,\n",
    "'Bottle_Retail':float}"
   ]
  },
  {
   "cell_type": "code",
   "execution_count": 3,
   "id": "0149bc86",
   "metadata": {},
   "outputs": [],
   "source": [
    "df_product_clusters= pd.read_csv(r'C:\\Users\\dgarb\\OneDrive\\Desktop\\Capstone Data\\liquor_2021\\product_clusters.csv',dtype=dict_dtypes, index_col=0)"
   ]
  },
  {
   "cell_type": "code",
   "execution_count": 4,
   "id": "79d61cef",
   "metadata": {},
   "outputs": [],
   "source": [
    "sdtypes = {'Store_Number':str, 'Store_Name':str, 'Address':str, 'City':str,\n",
    "           'Zip_Code':str, 'Store_Location':str, 'County_Number':str, 'County':str}"
   ]
  },
  {
   "cell_type": "code",
   "execution_count": 5,
   "id": "98cfc691",
   "metadata": {},
   "outputs": [],
   "source": [
    "stores =pd.read_csv(r'C:\\Users\\dgarb\\OneDrive\\Desktop\\Capstone Data\\liquor_2021\\stores_2021.csv',dtype = sdtypes, index_col=0)"
   ]
  },
  {
   "cell_type": "code",
   "execution_count": 6,
   "id": "437fa06c",
   "metadata": {},
   "outputs": [
    {
     "name": "stdout",
     "output_type": "stream",
     "text": [
      "<class 'pandas.core.frame.DataFrame'>\n",
      "Int64Index: 1948 entries, 223124 to 1094183\n",
      "Data columns (total 8 columns):\n",
      " #   Column          Non-Null Count  Dtype \n",
      "---  ------          --------------  ----- \n",
      " 0   Store_Number    1948 non-null   object\n",
      " 1   Store_Name      1948 non-null   object\n",
      " 2   Address         1948 non-null   object\n",
      " 3   City            1948 non-null   object\n",
      " 4   Zip_Code        1948 non-null   object\n",
      " 5   Store_Location  1790 non-null   object\n",
      " 6   County_Number   1948 non-null   object\n",
      " 7   County          1948 non-null   object\n",
      "dtypes: object(8)\n",
      "memory usage: 137.0+ KB\n"
     ]
    }
   ],
   "source": [
    "stores.info()"
   ]
  },
  {
   "cell_type": "code",
   "execution_count": 7,
   "id": "acf71514",
   "metadata": {},
   "outputs": [
    {
     "data": {
      "text/plain": [
       "(1948, 8)"
      ]
     },
     "execution_count": 7,
     "metadata": {},
     "output_type": "execute_result"
    }
   ],
   "source": [
    "stores.shape"
   ]
  },
  {
   "cell_type": "code",
   "execution_count": 8,
   "id": "3d84ea92",
   "metadata": {},
   "outputs": [],
   "source": [
    "tdtypes ={'Vendor_Number':str, 'Store_Number':str, 'Item_Number':str, 'Date':str, 'Bottle_Volume':int,\n",
    "          'Volume_Sold_Liters':float, 'Bottles_Sold':int, 'Sales':float, 'Bottle_Cost':float,\n",
    "          'Bottle_Retail':float, 'Category':str, 'trans_date':str}"
   ]
  },
  {
   "cell_type": "code",
   "execution_count": 9,
   "id": "7f744190",
   "metadata": {},
   "outputs": [
    {
     "name": "stderr",
     "output_type": "stream",
     "text": [
      "C:\\Users\\dgarb\\anaconda3_reinstall\\lib\\site-packages\\numpy\\lib\\arraysetops.py:583: FutureWarning: elementwise comparison failed; returning scalar instead, but in the future will perform elementwise comparison\n",
      "  mask |= (ar1 == a)\n"
     ]
    }
   ],
   "source": [
    "trans = pd.read_csv(r'C:\\Users\\dgarb\\OneDrive\\Desktop\\Capstone Data\\liquor_2021\\transactions_2021.csv',dtype=tdtypes,index_col=0)"
   ]
  },
  {
   "cell_type": "code",
   "execution_count": 10,
   "id": "a7d332f7",
   "metadata": {},
   "outputs": [
    {
     "name": "stdout",
     "output_type": "stream",
     "text": [
      "<class 'pandas.core.frame.DataFrame'>\n",
      "Int64Index: 4468 entries, 1 to 4474\n",
      "Data columns (total 6 columns):\n",
      " #   Column            Non-Null Count  Dtype  \n",
      "---  ------            --------------  -----  \n",
      " 0   Item_Number       4468 non-null   object \n",
      " 1   Item_Description  4468 non-null   object \n",
      " 2   Bottle_Volume     4468 non-null   int32  \n",
      " 3   Bottle_Retail     4468 non-null   float64\n",
      " 4   Bottles_Sold      4468 non-null   int32  \n",
      " 5   product_cluster   4468 non-null   int64  \n",
      "dtypes: float64(1), int32(2), int64(1), object(2)\n",
      "memory usage: 209.4+ KB\n"
     ]
    }
   ],
   "source": [
    "df_product_clusters.info()"
   ]
  },
  {
   "cell_type": "code",
   "execution_count": 11,
   "id": "46378424",
   "metadata": {},
   "outputs": [],
   "source": [
    "# transactions.merge(products, how='inner', on= ['Category','Item Number'])"
   ]
  },
  {
   "cell_type": "code",
   "execution_count": 12,
   "id": "8a7460f5",
   "metadata": {},
   "outputs": [],
   "source": [
    "trans_clust = df_product_clusters[['Item_Number', 'Item_Description','product_cluster']].merge(trans, how='inner', on =['Item_Number'])"
   ]
  },
  {
   "cell_type": "code",
   "execution_count": 13,
   "id": "9d20c5da",
   "metadata": {},
   "outputs": [
    {
     "name": "stdout",
     "output_type": "stream",
     "text": [
      "<class 'pandas.core.frame.DataFrame'>\n",
      "Int64Index: 2605189 entries, 0 to 2605188\n",
      "Data columns (total 14 columns):\n",
      " #   Column              Dtype  \n",
      "---  ------              -----  \n",
      " 0   Item_Number         object \n",
      " 1   Item_Description    object \n",
      " 2   product_cluster     int64  \n",
      " 3   Vendor_Number       object \n",
      " 4   Store_Number        object \n",
      " 5   Date                object \n",
      " 6   Bottle_Volume       int32  \n",
      " 7   Volume_Sold_Liters  float64\n",
      " 8   Bottles_Sold        int32  \n",
      " 9   Sales               float64\n",
      " 10  Bottle_Cost         float64\n",
      " 11  Bottle_Retail       float64\n",
      " 12  Category            object \n",
      " 13  trans_date          object \n",
      "dtypes: float64(4), int32(2), int64(1), object(7)\n",
      "memory usage: 278.3+ MB\n"
     ]
    }
   ],
   "source": [
    "trans_clust.info()"
   ]
  },
  {
   "cell_type": "code",
   "execution_count": 14,
   "id": "bf68d297",
   "metadata": {},
   "outputs": [
    {
     "data": {
      "text/plain": [
       "(2605189, 14)"
      ]
     },
     "execution_count": 14,
     "metadata": {},
     "output_type": "execute_result"
    }
   ],
   "source": [
    "trans_clust.shape"
   ]
  },
  {
   "cell_type": "code",
   "execution_count": 15,
   "id": "deafb384",
   "metadata": {},
   "outputs": [],
   "source": [
    "trans_clust['trans_date'] =  pd.to_datetime(trans_clust['Date'])"
   ]
  },
  {
   "cell_type": "code",
   "execution_count": 16,
   "id": "0441c03a",
   "metadata": {},
   "outputs": [],
   "source": [
    "high_end1 = trans_clust.loc[trans_clust['product_cluster'] == 3,:]"
   ]
  },
  {
   "cell_type": "code",
   "execution_count": 17,
   "id": "4234fa0e",
   "metadata": {},
   "outputs": [],
   "source": [
    "high_end_stores = high_end1.sort_values(by=['trans_date']).drop_duplicates(['Store_Number'],keep='last')"
   ]
  },
  {
   "cell_type": "code",
   "execution_count": 18,
   "id": "aa36bc78",
   "metadata": {},
   "outputs": [],
   "source": [
    " high_end_store_names= high_end_stores.merge(stores, how='inner', on =['Store_Number'])"
   ]
  },
  {
   "cell_type": "code",
   "execution_count": 19,
   "id": "ee2ee0a6",
   "metadata": {},
   "outputs": [],
   "source": [
    "high_end_store_names[['Store_Name', 'Store_Number', 'City','Zip_Code']].to_csv(r'C:\\Users\\dgarb\\OneDrive\\Desktop\\Capstone Data\\liquor_2021\\'high_end_store_check.csv')"
   ]
  },
  {
   "cell_type": "code",
   "execution_count": 20,
   "id": "8a1cdb76",
   "metadata": {},
   "outputs": [
    {
     "data": {
      "text/plain": [
       "(590, 21)"
      ]
     },
     "execution_count": 20,
     "metadata": {},
     "output_type": "execute_result"
    }
   ],
   "source": [
    "high_end_store_names.shape"
   ]
  }
 ],
 "metadata": {
  "kernelspec": {
   "display_name": "Python 3 (ipykernel)",
   "language": "python",
   "name": "python3"
  },
  "language_info": {
   "codemirror_mode": {
    "name": "ipython",
    "version": 3
   },
   "file_extension": ".py",
   "mimetype": "text/x-python",
   "name": "python",
   "nbconvert_exporter": "python",
   "pygments_lexer": "ipython3",
   "version": "3.9.7"
  }
 },
 "nbformat": 4,
 "nbformat_minor": 5
}

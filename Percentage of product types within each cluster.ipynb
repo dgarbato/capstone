{
 "cells": [
  {
   "cell_type": "code",
   "execution_count": 1,
   "id": "9d4b147e",
   "metadata": {},
   "outputs": [],
   "source": [
    "import pandas as pd \n",
    "import numpy as np"
   ]
  },
  {
   "cell_type": "code",
   "execution_count": 14,
   "id": "14ad923c",
   "metadata": {},
   "outputs": [],
   "source": [
    "from freq_pd import proc_freq"
   ]
  },
  {
   "cell_type": "code",
   "execution_count": 2,
   "id": "3b820698",
   "metadata": {},
   "outputs": [],
   "source": [
    "final_clusters = pd.read_csv(r'C:\\Users\\dgarb\\OneDrive\\Desktop\\Capstone Data\\liquor_2021\\final_clusters.csv',dtype={'Item_Number':str}, index_col=0)"
   ]
  },
  {
   "cell_type": "code",
   "execution_count": 3,
   "id": "61b303ac",
   "metadata": {},
   "outputs": [
    {
     "data": {
      "text/plain": [
       "Most_Variety         2199\n",
       "Moderately_High       877\n",
       "Volume_For_Dollar     454\n",
       "Quick_Shots           436\n",
       "High_End              157\n",
       "Cheap                 136\n",
       "Popular_Bottles        42\n",
       "Name: cluster_name, dtype: int64"
      ]
     },
     "execution_count": 3,
     "metadata": {},
     "output_type": "execute_result"
    }
   ],
   "source": [
    "final_clusters.cluster_name.value_counts()"
   ]
  },
  {
   "cell_type": "code",
   "execution_count": 4,
   "id": "2d594ef8",
   "metadata": {},
   "outputs": [
    {
     "data": {
      "text/plain": [
       "Vodkas                                  0.139967\n",
       "Whiskies                                0.139735\n",
       "Bourbon                                 0.088119\n",
       "Liquers                                 0.081609\n",
       "Rum                                     0.079516\n",
       "Temporary & Specialty Packages          0.072076\n",
       "Tequila                                 0.071146\n",
       "Special Order Items                     0.056266\n",
       "Scotch                                  0.054638\n",
       "Brandies                                0.040921\n",
       "Cocktails                               0.039991\n",
       "Gin                                     0.039758\n",
       "Schnapps                                0.029993\n",
       "Imported Distilled Spirits Specialty    0.017205\n",
       "American Distilled Spirits Specialty    0.013950\n",
       "Whiskey Liqueur                         0.011858\n",
       "Mezcal                                  0.011625\n",
       "Neutral Grain Spirits Flavored          0.006045\n",
       "Neutral Grain Spirits                   0.003023\n",
       "Triple Sec                              0.002325\n",
       "Distilled Spirits Specialty             0.000233\n",
       "Name: New_Category_Name, dtype: float64"
      ]
     },
     "execution_count": 4,
     "metadata": {},
     "output_type": "execute_result"
    }
   ],
   "source": [
    "final_clusters.New_Category_Name.value_counts(normalize=True)"
   ]
  },
  {
   "cell_type": "code",
   "execution_count": 13,
   "id": "588e9050",
   "metadata": {},
   "outputs": [
    {
     "data": {
      "text/plain": [
       "Vodkas                                  0.170987\n",
       "Whiskies                                0.122328\n",
       "Liquers                                 0.115962\n",
       "Rum                                     0.098226\n",
       "Temporary & Specialty Packages          0.068668\n",
       "Special Order Items                     0.067303\n",
       "Bourbon                                 0.060482\n",
       "Tequila                                 0.056389\n",
       "Gin                                     0.052296\n",
       "Brandies                                0.041382\n",
       "Schnapps                                0.040018\n",
       "Scotch                                  0.024102\n",
       "American Distilled Spirits Specialty    0.020009\n",
       "Imported Distilled Spirits Specialty    0.013643\n",
       "Whiskey Liqueur                         0.011824\n",
       "Neutral Grain Spirits Flavored          0.011369\n",
       "Cocktails                               0.010459\n",
       "Mezcal                                  0.007276\n",
       "Neutral Grain Spirits                   0.004093\n",
       "Triple Sec                              0.003183\n",
       "Name: New_Category_Name, dtype: float64"
      ]
     },
     "execution_count": 13,
     "metadata": {},
     "output_type": "execute_result"
    }
   ],
   "source": [
    "final_clusters.loc[final_clusters.cluster_name== 'Most_Variety']['New_Category_Name'].value_counts(normalize=True)"
   ]
  },
  {
   "cell_type": "code",
   "execution_count": 6,
   "id": "d77bc3a6",
   "metadata": {},
   "outputs": [
    {
     "data": {
      "text/plain": [
       "Bourbon                                 0.182440\n",
       "Whiskies                                0.175599\n",
       "Scotch                                  0.141391\n",
       "Tequila                                 0.126568\n",
       "Temporary & Specialty Packages          0.096921\n",
       "Special Order Items                     0.067275\n",
       "Rum                                     0.038769\n",
       "Brandies                                0.036488\n",
       "Mezcal                                  0.031927\n",
       "Imported Distilled Spirits Specialty    0.029647\n",
       "Gin                                     0.019384\n",
       "Liquers                                 0.019384\n",
       "American Distilled Spirits Specialty    0.014823\n",
       "Vodkas                                  0.012543\n",
       "Whiskey Liqueur                         0.003421\n",
       "Cocktails                               0.002281\n",
       "Distilled Spirits Specialty             0.001140\n",
       "Name: New_Category_Name, dtype: float64"
      ]
     },
     "execution_count": 6,
     "metadata": {},
     "output_type": "execute_result"
    }
   ],
   "source": [
    "final_clusters.loc[final_clusters.cluster_name== 'Moderately_High']['New_Category_Name'].value_counts(normalize=True)"
   ]
  },
  {
   "cell_type": "code",
   "execution_count": 7,
   "id": "063b196a",
   "metadata": {},
   "outputs": [
    {
     "data": {
      "text/plain": [
       "Cocktails                         0.200441\n",
       "Vodkas                            0.171806\n",
       "Rum                               0.118943\n",
       "Whiskies                          0.112335\n",
       "Bourbon                           0.063877\n",
       "Temporary & Specialty Packages    0.055066\n",
       "Gin                               0.055066\n",
       "Scotch                            0.046256\n",
       "Special Order Items               0.044053\n",
       "Tequila                           0.037445\n",
       "Liquers                           0.035242\n",
       "Brandies                          0.028634\n",
       "Schnapps                          0.019824\n",
       "Whiskey Liqueur                   0.008811\n",
       "Neutral Grain Spirits             0.002203\n",
       "Name: New_Category_Name, dtype: float64"
      ]
     },
     "execution_count": 7,
     "metadata": {},
     "output_type": "execute_result"
    }
   ],
   "source": [
    "final_clusters.loc[final_clusters.cluster_name== 'Volume_For_Dollar']['New_Category_Name'].value_counts(normalize=True)"
   ]
  },
  {
   "cell_type": "code",
   "execution_count": 8,
   "id": "c4767d11",
   "metadata": {},
   "outputs": [
    {
     "data": {
      "text/plain": [
       "Vodkas                                  0.201835\n",
       "Whiskies                                0.158257\n",
       "Cocktails                               0.119266\n",
       "Liquers                                 0.116972\n",
       "Temporary & Specialty Packages          0.071101\n",
       "Bourbon                                 0.068807\n",
       "Schnapps                                0.059633\n",
       "Brandies                                0.055046\n",
       "Tequila                                 0.041284\n",
       "Rum                                     0.032110\n",
       "Imported Distilled Spirits Specialty    0.018349\n",
       "Gin                                     0.018349\n",
       "Whiskey Liqueur                         0.013761\n",
       "Scotch                                  0.009174\n",
       "Special Order Items                     0.009174\n",
       "American Distilled Spirits Specialty    0.004587\n",
       "Neutral Grain Spirits                   0.002294\n",
       "Name: New_Category_Name, dtype: float64"
      ]
     },
     "execution_count": 8,
     "metadata": {},
     "output_type": "execute_result"
    }
   ],
   "source": [
    "final_clusters.loc[final_clusters.cluster_name== 'Quick_Shots']['New_Category_Name'].value_counts(normalize=True)      "
   ]
  },
  {
   "cell_type": "code",
   "execution_count": 9,
   "id": "5666b2c8",
   "metadata": {},
   "outputs": [
    {
     "data": {
      "text/plain": [
       "Scotch                                  0.210191\n",
       "Tequila                                 0.152866\n",
       "Whiskies                                0.152866\n",
       "Temporary & Specialty Packages          0.108280\n",
       "Bourbon                                 0.082803\n",
       "Special Order Items                     0.070064\n",
       "Imported Distilled Spirits Specialty    0.050955\n",
       "Mezcal                                  0.038217\n",
       "Rum                                     0.031847\n",
       "Cocktails                               0.025478\n",
       "Brandies                                0.019108\n",
       "Liquers                                 0.012739\n",
       "Whiskey Liqueur                         0.012739\n",
       "Vodkas                                  0.012739\n",
       "Gin                                     0.006369\n",
       "Neutral Grain Spirits                   0.006369\n",
       "American Distilled Spirits Specialty    0.006369\n",
       "Name: New_Category_Name, dtype: float64"
      ]
     },
     "execution_count": 9,
     "metadata": {},
     "output_type": "execute_result"
    }
   ],
   "source": [
    "final_clusters.loc[final_clusters.cluster_name == 'High_End']['New_Category_Name'].value_counts(normalize=True)      "
   ]
  },
  {
   "cell_type": "code",
   "execution_count": 10,
   "id": "80b92bb2",
   "metadata": {},
   "outputs": [
    {
     "data": {
      "text/plain": [
       "Vodkas                                  0.250000\n",
       "Whiskies                                0.161765\n",
       "Bourbon                                 0.102941\n",
       "Rum                                     0.095588\n",
       "Brandies                                0.080882\n",
       "Tequila                                 0.080882\n",
       "Liquers                                 0.073529\n",
       "Gin                                     0.036765\n",
       "Schnapps                                0.036765\n",
       "Whiskey Liqueur                         0.029412\n",
       "Triple Sec                              0.022059\n",
       "Temporary & Specialty Packages          0.007353\n",
       "Neutral Grain Spirits                   0.007353\n",
       "Imported Distilled Spirits Specialty    0.007353\n",
       "Neutral Grain Spirits Flavored          0.007353\n",
       "Name: New_Category_Name, dtype: float64"
      ]
     },
     "execution_count": 10,
     "metadata": {},
     "output_type": "execute_result"
    }
   ],
   "source": [
    "final_clusters.loc[final_clusters.cluster_name== 'Cheap']['New_Category_Name'].value_counts(normalize=True)"
   ]
  },
  {
   "cell_type": "code",
   "execution_count": 11,
   "id": "af1fb217",
   "metadata": {},
   "outputs": [
    {
     "data": {
      "text/plain": [
       "Vodkas                                  0.309524\n",
       "Whiskies                                0.285714\n",
       "Rum                                     0.142857\n",
       "Whiskey Liqueur                         0.142857\n",
       "Brandies                                0.047619\n",
       "Imported Distilled Spirits Specialty    0.023810\n",
       "Schnapps                                0.023810\n",
       "Tequila                                 0.023810\n",
       "Name: New_Category_Name, dtype: float64"
      ]
     },
     "execution_count": 11,
     "metadata": {},
     "output_type": "execute_result"
    }
   ],
   "source": [
    "final_clusters.loc[final_clusters.cluster_name== 'Popular_Bottles']['New_Category_Name'].value_counts(normalize=True)"
   ]
  }
 ],
 "metadata": {
  "kernelspec": {
   "display_name": "Python 3 (ipykernel)",
   "language": "python",
   "name": "python3"
  },
  "language_info": {
   "codemirror_mode": {
    "name": "ipython",
    "version": 3
   },
   "file_extension": ".py",
   "mimetype": "text/x-python",
   "name": "python",
   "nbconvert_exporter": "python",
   "pygments_lexer": "ipython3",
   "version": "3.9.7"
  }
 },
 "nbformat": 4,
 "nbformat_minor": 5
}

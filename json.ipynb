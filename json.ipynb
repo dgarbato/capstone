{
 "cells": [
  {
   "cell_type": "code",
   "execution_count": null,
   "id": "06a9d3ef",
   "metadata": {},
   "outputs": [],
   "source": [
    "# us-county-boundaries (1).json"
   ]
  },
  {
   "cell_type": "code",
   "execution_count": 1,
   "id": "8847bbca",
   "metadata": {},
   "outputs": [],
   "source": [
    "import json"
   ]
  },
  {
   "cell_type": "code",
   "execution_count": null,
   "id": "fce57454",
   "metadata": {},
   "outputs": [],
   "source": []
  },
  {
   "cell_type": "code",
   "execution_count": 3,
   "id": "507a247a",
   "metadata": {},
   "outputs": [
    {
     "ename": "SyntaxError",
     "evalue": "(unicode error) 'unicodeescape' codec can't decode bytes in position 2-3: truncated \\UXXXXXXXX escape (Temp/ipykernel_15688/1613690410.py, line 1)",
     "output_type": "error",
     "traceback": [
      "\u001b[1;36m  File \u001b[1;32m\"C:\\Users\\dgarb\\AppData\\Local\\Temp/ipykernel_15688/1613690410.py\"\u001b[1;36m, line \u001b[1;32m1\u001b[0m\n\u001b[1;33m    json.loads('C:\\Users\\dgarb\\OneDrive\\Desktop\\Capstone Data\\us-county-boundaries (1).json')\u001b[0m\n\u001b[1;37m                                                                                            ^\u001b[0m\n\u001b[1;31mSyntaxError\u001b[0m\u001b[1;31m:\u001b[0m (unicode error) 'unicodeescape' codec can't decode bytes in position 2-3: truncated \\UXXXXXXXX escape\n"
     ]
    }
   ],
   "source": [
    " json.loads('C:\\Users\\dgarb\\OneDrive\\Desktop\\Capstone Data\\us-county-boundaries (1).json')"
   ]
  }
 ],
 "metadata": {
  "kernelspec": {
   "display_name": "Python 3 (ipykernel)",
   "language": "python",
   "name": "python3"
  },
  "language_info": {
   "codemirror_mode": {
    "name": "ipython",
    "version": 3
   },
   "file_extension": ".py",
   "mimetype": "text/x-python",
   "name": "python",
   "nbconvert_exporter": "python",
   "pygments_lexer": "ipython3",
   "version": "3.9.7"
  }
 },
 "nbformat": 4,
 "nbformat_minor": 5
}

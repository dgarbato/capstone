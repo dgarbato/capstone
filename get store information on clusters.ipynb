{
 "cells": [
  {
   "cell_type": "code",
   "execution_count": 1,
   "id": "4b4ff889",
   "metadata": {},
   "outputs": [],
   "source": [
    "import pandas as pd \n",
    "import numpy as np"
   ]
  },
  {
   "cell_type": "code",
   "execution_count": 2,
   "id": "75344a51",
   "metadata": {},
   "outputs": [],
   "source": [
    "final_clusters = pd.read_csv(r'C:\\Users\\dgarb\\OneDrive\\Desktop\\Capstone Data\\liquor_2021\\final_clusters.csv',dtype={'Item_Number':str}, index_col=0)"
   ]
  },
  {
   "cell_type": "code",
   "execution_count": 8,
   "id": "0af79767",
   "metadata": {},
   "outputs": [
    {
     "name": "stdout",
     "output_type": "stream",
     "text": [
      "<class 'pandas.core.frame.DataFrame'>\n",
      "Int64Index: 4468 entries, 1 to 4449\n",
      "Data columns (total 9 columns):\n",
      " #   Column              Non-Null Count  Dtype  \n",
      "---  ------              --------------  -----  \n",
      " 0   Item_Number         4468 non-null   object \n",
      " 1   Item_Description    4468 non-null   object \n",
      " 2   Bottle_Volume       4468 non-null   int64  \n",
      " 3   Bottle_Retail       4468 non-null   float64\n",
      " 4   Bottles_Sold        4468 non-null   int64  \n",
      " 5   cluster_name        4468 non-null   object \n",
      " 6   revenue             4468 non-null   float64\n",
      " 7   Num_Stores_Selling  4468 non-null   int64  \n",
      " 8   New_Category_Name   4468 non-null   object \n",
      "dtypes: float64(2), int64(3), object(4)\n",
      "memory usage: 349.1+ KB\n"
     ]
    }
   ],
   "source": [
    "final_clusters.info()"
   ]
  },
  {
   "cell_type": "code",
   "execution_count": 3,
   "id": "0da10620",
   "metadata": {},
   "outputs": [],
   "source": [
    "tdtypes = {'Store_Number':str,'Vendor_Number':str,'Item_Number':str, 'Category':str}"
   ]
  },
  {
   "cell_type": "code",
   "execution_count": 4,
   "id": "0d200326",
   "metadata": {},
   "outputs": [
    {
     "name": "stderr",
     "output_type": "stream",
     "text": [
      "C:\\Users\\dgarb\\anaconda3_reinstall\\lib\\site-packages\\numpy\\lib\\arraysetops.py:583: FutureWarning: elementwise comparison failed; returning scalar instead, but in the future will perform elementwise comparison\n",
      "  mask |= (ar1 == a)\n"
     ]
    }
   ],
   "source": [
    "trans = pd.read_csv(r'C:\\Users\\dgarb\\OneDrive\\Desktop\\Capstone Data\\liquor_2021\\transactions_2021.csv',dtype=tdtypes, index_col=0)"
   ]
  },
  {
   "cell_type": "code",
   "execution_count": 6,
   "id": "730d3179",
   "metadata": {},
   "outputs": [],
   "source": [
    "stores = pd.read_csv(r'C:\\Users\\dgarb\\OneDrive\\Desktop\\Capstone Data\\liquor_2021\\stores_2021.csv',index_col=0, dtype={'Store_Number':str})"
   ]
  },
  {
   "cell_type": "code",
   "execution_count": 11,
   "id": "a1a34cd4",
   "metadata": {},
   "outputs": [
    {
     "name": "stdout",
     "output_type": "stream",
     "text": [
      "<class 'pandas.core.frame.DataFrame'>\n",
      "Int64Index: 1948 entries, 223124 to 1094183\n",
      "Data columns (total 8 columns):\n",
      " #   Column          Non-Null Count  Dtype \n",
      "---  ------          --------------  ----- \n",
      " 0   Store_Number    1948 non-null   object\n",
      " 1   Store_Name      1948 non-null   object\n",
      " 2   Address         1948 non-null   object\n",
      " 3   City            1948 non-null   object\n",
      " 4   Zip_Code        1948 non-null   int64 \n",
      " 5   Store_Location  1790 non-null   object\n",
      " 6   County_Number   1948 non-null   int64 \n",
      " 7   County          1948 non-null   object\n",
      "dtypes: int64(2), object(6)\n",
      "memory usage: 137.0+ KB\n"
     ]
    }
   ],
   "source": [
    "stores.info()"
   ]
  },
  {
   "cell_type": "code",
   "execution_count": null,
   "id": "6176ef65",
   "metadata": {},
   "outputs": [],
   "source": [
    "# item_trans_category = item_trans_category.merge(products, how='inner', on=['Item_Number','Category'])"
   ]
  },
  {
   "cell_type": "code",
   "execution_count": 7,
   "id": "0c4b09be",
   "metadata": {},
   "outputs": [],
   "source": [
    "store_trans = stores.merge(trans, how='inner', on=['Store_Number'])"
   ]
  },
  {
   "cell_type": "code",
   "execution_count": 10,
   "id": "c68888a8",
   "metadata": {},
   "outputs": [],
   "source": [
    "store_trans_cluster = store_trans.merge(final_clusters, how='inner', on=['Item_Number'])"
   ]
  },
  {
   "cell_type": "code",
   "execution_count": 12,
   "id": "5e1c09d6",
   "metadata": {},
   "outputs": [
    {
     "data": {
      "text/plain": [
       "Store_Number  Store_Name                       \n",
       "2106          Hillstreet News and Tobacco           639\n",
       "2130          Sycamore Convenience                  547\n",
       "2178          Double D Liquor Store                  39\n",
       "2190          Central City Liquor, Inc.            2070\n",
       "2191          Keokuk Spirits                       1106\n",
       "                                                   ... \n",
       "9042          American Heritage Distillers, LLC      14\n",
       "9046          Rock River Distillation Company         4\n",
       "9047          Revelton Distilling Company            15\n",
       "9048          Artisan Grain Distillery                4\n",
       "9049          TYCOGA Vineyard & Winery                2\n",
       "Name: Item_Number, Length: 1948, dtype: int64"
      ]
     },
     "execution_count": 12,
     "metadata": {},
     "output_type": "execute_result"
    }
   ],
   "source": [
    "store_trans_cluster.groupby(['Store_Number','Store_Name'])['Item_Number'].nunique()  #denominator"
   ]
  },
  {
   "cell_type": "code",
   "execution_count": 14,
   "id": "bddf0be7",
   "metadata": {},
   "outputs": [
    {
     "data": {
      "text/html": [
       "<div>\n",
       "<style scoped>\n",
       "    .dataframe tbody tr th:only-of-type {\n",
       "        vertical-align: middle;\n",
       "    }\n",
       "\n",
       "    .dataframe tbody tr th {\n",
       "        vertical-align: top;\n",
       "    }\n",
       "\n",
       "    .dataframe thead th {\n",
       "        text-align: right;\n",
       "    }\n",
       "</style>\n",
       "<table border=\"1\" class=\"dataframe\">\n",
       "  <thead>\n",
       "    <tr style=\"text-align: right;\">\n",
       "      <th></th>\n",
       "      <th>Store_Number</th>\n",
       "      <th>Store_Name</th>\n",
       "      <th>cluster_name</th>\n",
       "      <th>Item_Number</th>\n",
       "    </tr>\n",
       "  </thead>\n",
       "  <tbody>\n",
       "    <tr>\n",
       "      <th>0</th>\n",
       "      <td>2106</td>\n",
       "      <td>Hillstreet News and Tobacco</td>\n",
       "      <td>High End</td>\n",
       "      <td>2</td>\n",
       "    </tr>\n",
       "    <tr>\n",
       "      <th>1</th>\n",
       "      <td>2106</td>\n",
       "      <td>Hillstreet News and Tobacco</td>\n",
       "      <td>Popular_Bottles</td>\n",
       "      <td>39</td>\n",
       "    </tr>\n",
       "    <tr>\n",
       "      <th>2</th>\n",
       "      <td>2106</td>\n",
       "      <td>Hillstreet News and Tobacco</td>\n",
       "      <td>Volume_For_Dollar</td>\n",
       "      <td>44</td>\n",
       "    </tr>\n",
       "    <tr>\n",
       "      <th>3</th>\n",
       "      <td>2106</td>\n",
       "      <td>Hillstreet News and Tobacco</td>\n",
       "      <td>cheap</td>\n",
       "      <td>78</td>\n",
       "    </tr>\n",
       "    <tr>\n",
       "      <th>4</th>\n",
       "      <td>2106</td>\n",
       "      <td>Hillstreet News and Tobacco</td>\n",
       "      <td>moderately_high</td>\n",
       "      <td>53</td>\n",
       "    </tr>\n",
       "    <tr>\n",
       "      <th>...</th>\n",
       "      <td>...</td>\n",
       "      <td>...</td>\n",
       "      <td>...</td>\n",
       "      <td>...</td>\n",
       "    </tr>\n",
       "    <tr>\n",
       "      <th>11727</th>\n",
       "      <td>9046</td>\n",
       "      <td>Rock River Distillation Company</td>\n",
       "      <td>quick_shots</td>\n",
       "      <td>2</td>\n",
       "    </tr>\n",
       "    <tr>\n",
       "      <th>11728</th>\n",
       "      <td>9047</td>\n",
       "      <td>Revelton Distilling Company</td>\n",
       "      <td>most_variety</td>\n",
       "      <td>8</td>\n",
       "    </tr>\n",
       "    <tr>\n",
       "      <th>11729</th>\n",
       "      <td>9047</td>\n",
       "      <td>Revelton Distilling Company</td>\n",
       "      <td>quick_shots</td>\n",
       "      <td>7</td>\n",
       "    </tr>\n",
       "    <tr>\n",
       "      <th>11730</th>\n",
       "      <td>9048</td>\n",
       "      <td>Artisan Grain Distillery</td>\n",
       "      <td>most_variety</td>\n",
       "      <td>4</td>\n",
       "    </tr>\n",
       "    <tr>\n",
       "      <th>11731</th>\n",
       "      <td>9049</td>\n",
       "      <td>TYCOGA Vineyard &amp; Winery</td>\n",
       "      <td>most_variety</td>\n",
       "      <td>2</td>\n",
       "    </tr>\n",
       "  </tbody>\n",
       "</table>\n",
       "<p>11732 rows × 4 columns</p>\n",
       "</div>"
      ],
      "text/plain": [
       "      Store_Number                       Store_Name       cluster_name  \\\n",
       "0             2106      Hillstreet News and Tobacco           High End   \n",
       "1             2106      Hillstreet News and Tobacco    Popular_Bottles   \n",
       "2             2106      Hillstreet News and Tobacco  Volume_For_Dollar   \n",
       "3             2106      Hillstreet News and Tobacco              cheap   \n",
       "4             2106      Hillstreet News and Tobacco    moderately_high   \n",
       "...            ...                              ...                ...   \n",
       "11727         9046  Rock River Distillation Company        quick_shots   \n",
       "11728         9047      Revelton Distilling Company       most_variety   \n",
       "11729         9047      Revelton Distilling Company        quick_shots   \n",
       "11730         9048         Artisan Grain Distillery       most_variety   \n",
       "11731         9049         TYCOGA Vineyard & Winery       most_variety   \n",
       "\n",
       "       Item_Number  \n",
       "0                2  \n",
       "1               39  \n",
       "2               44  \n",
       "3               78  \n",
       "4               53  \n",
       "...            ...  \n",
       "11727            2  \n",
       "11728            8  \n",
       "11729            7  \n",
       "11730            4  \n",
       "11731            2  \n",
       "\n",
       "[11732 rows x 4 columns]"
      ]
     },
     "execution_count": 14,
     "metadata": {},
     "output_type": "execute_result"
    }
   ],
   "source": [
    "store_trans_cluster.groupby(['Store_Number','Store_Name','cluster_name'])['Item_Number'].nunique().reset_index() #numerator"
   ]
  },
  {
   "cell_type": "code",
   "execution_count": null,
   "id": "186d82da",
   "metadata": {},
   "outputs": [],
   "source": [
    "everything_else.groupby(['sub_cluster']).agg({'Item_Number':['nunique'],'revenue':['sum'],'Bottle_Volume':['min','max','std','median'],'price_per_ml':['min','max','std', 'median', 'mean'],'Bottles_Sold':['min','max','std', 'median', 'mean'],'Num_Stores_Selling':['min','max','std', 'median', 'mean'] })"
   ]
  },
  {
   "cell_type": "markdown",
   "id": "97ab05ec",
   "metadata": {},
   "source": [
    "# "
   ]
  },
  {
   "cell_type": "code",
   "execution_count": 17,
   "id": "9cf3bb10",
   "metadata": {},
   "outputs": [
    {
     "data": {
      "text/html": [
       "<div>\n",
       "<style scoped>\n",
       "    .dataframe tbody tr th:only-of-type {\n",
       "        vertical-align: middle;\n",
       "    }\n",
       "\n",
       "    .dataframe tbody tr th {\n",
       "        vertical-align: top;\n",
       "    }\n",
       "\n",
       "    .dataframe thead tr th {\n",
       "        text-align: left;\n",
       "    }\n",
       "</style>\n",
       "<table border=\"1\" class=\"dataframe\">\n",
       "  <thead>\n",
       "    <tr>\n",
       "      <th></th>\n",
       "      <th>Store_Number</th>\n",
       "      <th>Store_Name</th>\n",
       "      <th>cluster_name</th>\n",
       "      <th colspan=\"2\" halign=\"left\">Item_Number</th>\n",
       "    </tr>\n",
       "    <tr>\n",
       "      <th></th>\n",
       "      <th></th>\n",
       "      <th></th>\n",
       "      <th></th>\n",
       "      <th>nunique</th>\n",
       "      <th>count</th>\n",
       "    </tr>\n",
       "  </thead>\n",
       "  <tbody>\n",
       "    <tr>\n",
       "      <th>0</th>\n",
       "      <td>2106</td>\n",
       "      <td>Hillstreet News and Tobacco</td>\n",
       "      <td>High End</td>\n",
       "      <td>2</td>\n",
       "      <td>2</td>\n",
       "    </tr>\n",
       "    <tr>\n",
       "      <th>1</th>\n",
       "      <td>2106</td>\n",
       "      <td>Hillstreet News and Tobacco</td>\n",
       "      <td>Popular_Bottles</td>\n",
       "      <td>39</td>\n",
       "      <td>769</td>\n",
       "    </tr>\n",
       "    <tr>\n",
       "      <th>2</th>\n",
       "      <td>2106</td>\n",
       "      <td>Hillstreet News and Tobacco</td>\n",
       "      <td>Volume_For_Dollar</td>\n",
       "      <td>44</td>\n",
       "      <td>144</td>\n",
       "    </tr>\n",
       "    <tr>\n",
       "      <th>3</th>\n",
       "      <td>2106</td>\n",
       "      <td>Hillstreet News and Tobacco</td>\n",
       "      <td>cheap</td>\n",
       "      <td>78</td>\n",
       "      <td>947</td>\n",
       "    </tr>\n",
       "    <tr>\n",
       "      <th>4</th>\n",
       "      <td>2106</td>\n",
       "      <td>Hillstreet News and Tobacco</td>\n",
       "      <td>moderately_high</td>\n",
       "      <td>53</td>\n",
       "      <td>74</td>\n",
       "    </tr>\n",
       "    <tr>\n",
       "      <th>...</th>\n",
       "      <td>...</td>\n",
       "      <td>...</td>\n",
       "      <td>...</td>\n",
       "      <td>...</td>\n",
       "      <td>...</td>\n",
       "    </tr>\n",
       "    <tr>\n",
       "      <th>11727</th>\n",
       "      <td>9046</td>\n",
       "      <td>Rock River Distillation Company</td>\n",
       "      <td>quick_shots</td>\n",
       "      <td>2</td>\n",
       "      <td>2</td>\n",
       "    </tr>\n",
       "    <tr>\n",
       "      <th>11728</th>\n",
       "      <td>9047</td>\n",
       "      <td>Revelton Distilling Company</td>\n",
       "      <td>most_variety</td>\n",
       "      <td>8</td>\n",
       "      <td>81</td>\n",
       "    </tr>\n",
       "    <tr>\n",
       "      <th>11729</th>\n",
       "      <td>9047</td>\n",
       "      <td>Revelton Distilling Company</td>\n",
       "      <td>quick_shots</td>\n",
       "      <td>7</td>\n",
       "      <td>40</td>\n",
       "    </tr>\n",
       "    <tr>\n",
       "      <th>11730</th>\n",
       "      <td>9048</td>\n",
       "      <td>Artisan Grain Distillery</td>\n",
       "      <td>most_variety</td>\n",
       "      <td>4</td>\n",
       "      <td>6</td>\n",
       "    </tr>\n",
       "    <tr>\n",
       "      <th>11731</th>\n",
       "      <td>9049</td>\n",
       "      <td>TYCOGA Vineyard &amp; Winery</td>\n",
       "      <td>most_variety</td>\n",
       "      <td>2</td>\n",
       "      <td>3</td>\n",
       "    </tr>\n",
       "  </tbody>\n",
       "</table>\n",
       "<p>11732 rows × 5 columns</p>\n",
       "</div>"
      ],
      "text/plain": [
       "      Store_Number                       Store_Name       cluster_name  \\\n",
       "                                                                         \n",
       "0             2106      Hillstreet News and Tobacco           High End   \n",
       "1             2106      Hillstreet News and Tobacco    Popular_Bottles   \n",
       "2             2106      Hillstreet News and Tobacco  Volume_For_Dollar   \n",
       "3             2106      Hillstreet News and Tobacco              cheap   \n",
       "4             2106      Hillstreet News and Tobacco    moderately_high   \n",
       "...            ...                              ...                ...   \n",
       "11727         9046  Rock River Distillation Company        quick_shots   \n",
       "11728         9047      Revelton Distilling Company       most_variety   \n",
       "11729         9047      Revelton Distilling Company        quick_shots   \n",
       "11730         9048         Artisan Grain Distillery       most_variety   \n",
       "11731         9049         TYCOGA Vineyard & Winery       most_variety   \n",
       "\n",
       "      Item_Number        \n",
       "          nunique count  \n",
       "0               2     2  \n",
       "1              39   769  \n",
       "2              44   144  \n",
       "3              78   947  \n",
       "4              53    74  \n",
       "...           ...   ...  \n",
       "11727           2     2  \n",
       "11728           8    81  \n",
       "11729           7    40  \n",
       "11730           4     6  \n",
       "11731           2     3  \n",
       "\n",
       "[11732 rows x 5 columns]"
      ]
     },
     "execution_count": 17,
     "metadata": {},
     "output_type": "execute_result"
    }
   ],
   "source": [
    "store_trans_cluster.groupby(['Store_Number','Store_Name','cluster_name']).agg({'Item_Number':['nunique','count']}).reset_index()\n",
    "\n",
    "# 'Item_Number':['nunique']  "
   ]
  }
 ],
 "metadata": {
  "kernelspec": {
   "display_name": "Python 3 (ipykernel)",
   "language": "python",
   "name": "python3"
  },
  "language_info": {
   "codemirror_mode": {
    "name": "ipython",
    "version": 3
   },
   "file_extension": ".py",
   "mimetype": "text/x-python",
   "name": "python",
   "nbconvert_exporter": "python",
   "pygments_lexer": "ipython3",
   "version": "3.9.7"
  }
 },
 "nbformat": 4,
 "nbformat_minor": 5
}

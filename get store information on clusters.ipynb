{
 "cells": [
  {
   "cell_type": "code",
   "execution_count": 1,
   "id": "4b4ff889",
   "metadata": {},
   "outputs": [],
   "source": [
    "import pandas as pd \n",
    "import numpy as np"
   ]
  },
  {
   "cell_type": "code",
   "execution_count": 2,
   "id": "eaf07c71",
   "metadata": {},
   "outputs": [],
   "source": [
    "from freq_pd import proc_freq"
   ]
  },
  {
   "cell_type": "code",
   "execution_count": 3,
   "id": "befae68d",
   "metadata": {},
   "outputs": [],
   "source": [
    "from missing_columns_pd import miss_cols"
   ]
  },
  {
   "cell_type": "code",
   "execution_count": 4,
   "id": "75344a51",
   "metadata": {},
   "outputs": [],
   "source": [
    "final_clusters = pd.read_csv(r'C:\\Users\\dgarb\\OneDrive\\Desktop\\Capstone Data\\liquor_2021\\final_clusters.csv',dtype={'Item_Number':str}, index_col=0)"
   ]
  },
  {
   "cell_type": "code",
   "execution_count": 5,
   "id": "0af79767",
   "metadata": {},
   "outputs": [
    {
     "name": "stdout",
     "output_type": "stream",
     "text": [
      "<class 'pandas.core.frame.DataFrame'>\n",
      "Int64Index: 4301 entries, 1 to 4457\n",
      "Data columns (total 9 columns):\n",
      " #   Column              Non-Null Count  Dtype  \n",
      "---  ------              --------------  -----  \n",
      " 0   Item_Number         4301 non-null   object \n",
      " 1   Item_Description    4301 non-null   object \n",
      " 2   Bottle_Volume       4301 non-null   int64  \n",
      " 3   Bottle_Retail       4301 non-null   float64\n",
      " 4   Bottles_Sold        4301 non-null   int64  \n",
      " 5   cluster_name        4301 non-null   object \n",
      " 6   revenue             4301 non-null   float64\n",
      " 7   Num_Stores_Selling  4301 non-null   int64  \n",
      " 8   New_Category_Name   4301 non-null   object \n",
      "dtypes: float64(2), int64(3), object(4)\n",
      "memory usage: 336.0+ KB\n"
     ]
    }
   ],
   "source": [
    "final_clusters.info()"
   ]
  },
  {
   "cell_type": "code",
   "execution_count": null,
   "id": "a5a82e3d",
   "metadata": {},
   "outputs": [],
   "source": []
  },
  {
   "cell_type": "code",
   "execution_count": 6,
   "id": "ef1f0a98",
   "metadata": {},
   "outputs": [
    {
     "data": {
      "text/plain": [
       "4301"
      ]
     },
     "execution_count": 6,
     "metadata": {},
     "output_type": "execute_result"
    }
   ],
   "source": [
    "final_clusters.Item_Number.nunique()"
   ]
  },
  {
   "cell_type": "markdown",
   "id": "f353847d",
   "metadata": {},
   "source": [
    "clean up final clusters"
   ]
  },
  {
   "cell_type": "code",
   "execution_count": 7,
   "id": "c241b94c",
   "metadata": {
    "scrolled": true
   },
   "outputs": [],
   "source": [
    "# correct volumns of items 750,200,1000\n",
    "# final_clusters[final_clusters.duplicated(subset='Item_Number',keep=False)].drop(index=[846,2284,2855])\n",
    "\n"
   ]
  },
  {
   "cell_type": "code",
   "execution_count": 8,
   "id": "c39bacdc",
   "metadata": {},
   "outputs": [],
   "source": [
    "# final_clusters.loc[[846,2284,2855],:]"
   ]
  },
  {
   "cell_type": "code",
   "execution_count": 9,
   "id": "e4a8d763",
   "metadata": {},
   "outputs": [],
   "source": [
    "# final_clusters = final_clusters.drop(index=[846,2284,2855])"
   ]
  },
  {
   "cell_type": "code",
   "execution_count": 10,
   "id": "7e75fd15",
   "metadata": {},
   "outputs": [],
   "source": [
    "# final_clusters.to_csv(r'C:\\Users\\dgarb\\OneDrive\\Desktop\\Capstone Data\\liquor_2021\\final_clusters.csv')"
   ]
  },
  {
   "cell_type": "markdown",
   "id": "18fa582b",
   "metadata": {},
   "source": [
    "End clean up final clusters"
   ]
  },
  {
   "cell_type": "markdown",
   "id": "757189fb",
   "metadata": {},
   "source": [
    "need to exlcude poor data quality items"
   ]
  },
  {
   "cell_type": "code",
   "execution_count": 11,
   "id": "5f8d2ee8",
   "metadata": {},
   "outputs": [],
   "source": [
    "poor_data_quality_items = pd.read_csv(r'C:\\Users\\dgarb\\OneDrive\\Desktop\\Capstone Data\\liquor_2021\\poor_data_quality_items.csv',dtype={'Item_Number':str,'Category':str},index_col=0)"
   ]
  },
  {
   "cell_type": "code",
   "execution_count": 12,
   "id": "ebb13794",
   "metadata": {},
   "outputs": [
    {
     "name": "stdout",
     "output_type": "stream",
     "text": [
      "<class 'pandas.core.frame.DataFrame'>\n",
      "Int64Index: 159 entries, 13 to 4387\n",
      "Data columns (total 10 columns):\n",
      " #   Column              Non-Null Count  Dtype  \n",
      "---  ------              --------------  -----  \n",
      " 0   Item_Number         159 non-null    object \n",
      " 1   Item_Description    159 non-null    object \n",
      " 2   Bottle_Volume       159 non-null    int64  \n",
      " 3   Bottle_Retail       159 non-null    float64\n",
      " 4   Bottles_Sold        159 non-null    int64  \n",
      " 5   Num_Stores_Selling  159 non-null    int64  \n",
      " 6   revenue             159 non-null    float64\n",
      " 7   Category            159 non-null    object \n",
      " 8   Category_Name       159 non-null    object \n",
      " 9   New_Category_Name   159 non-null    object \n",
      "dtypes: float64(2), int64(3), object(5)\n",
      "memory usage: 13.7+ KB\n"
     ]
    }
   ],
   "source": [
    "poor_data_quality_items.info()"
   ]
  },
  {
   "cell_type": "code",
   "execution_count": 13,
   "id": "f74acb48",
   "metadata": {},
   "outputs": [],
   "source": [
    "poor_data_quality_items = poor_data_quality_items['Item_Number']"
   ]
  },
  {
   "cell_type": "markdown",
   "id": "95ab0ff5",
   "metadata": {},
   "source": [
    "need to exclude outliers"
   ]
  },
  {
   "cell_type": "code",
   "execution_count": 14,
   "id": "4da86b2b",
   "metadata": {},
   "outputs": [],
   "source": [
    "outliers = pd.read_csv(r'C:\\Users\\dgarb\\OneDrive\\Desktop\\Capstone Data\\liquor_2021\\kmeans_outliers.csv',dtype={'Item_Number':str}, index_col=0)"
   ]
  },
  {
   "cell_type": "code",
   "execution_count": 15,
   "id": "09d36a83",
   "metadata": {},
   "outputs": [
    {
     "name": "stdout",
     "output_type": "stream",
     "text": [
      "<class 'pandas.core.frame.DataFrame'>\n",
      "Int64Index: 12 entries, 1338 to 2035\n",
      "Data columns (total 10 columns):\n",
      " #   Column              Non-Null Count  Dtype  \n",
      "---  ------              --------------  -----  \n",
      " 0   Item_Number         12 non-null     object \n",
      " 1   Item_Description    12 non-null     object \n",
      " 2   Bottle_Volume       12 non-null     int64  \n",
      " 3   Bottle_Retail       12 non-null     float64\n",
      " 4   Bottles_Sold        12 non-null     int64  \n",
      " 5   Num_Stores_Selling  12 non-null     int64  \n",
      " 6   revenue             12 non-null     float64\n",
      " 7   Category            12 non-null     int64  \n",
      " 8   Category_Name       12 non-null     object \n",
      " 9   New_Category_Name   12 non-null     object \n",
      "dtypes: float64(2), int64(4), object(4)\n",
      "memory usage: 1.0+ KB\n"
     ]
    }
   ],
   "source": [
    "outliers.info()"
   ]
  },
  {
   "cell_type": "code",
   "execution_count": 16,
   "id": "eb2dc21c",
   "metadata": {},
   "outputs": [],
   "source": [
    "outliers = outliers['Item_Number']\n"
   ]
  },
  {
   "cell_type": "code",
   "execution_count": 17,
   "id": "0da10620",
   "metadata": {},
   "outputs": [],
   "source": [
    "tdtypes = {'Store_Number':str,'Vendor_Number':str,'Item_Number':str, 'Category':str}"
   ]
  },
  {
   "cell_type": "code",
   "execution_count": 18,
   "id": "0d200326",
   "metadata": {},
   "outputs": [],
   "source": [
    "trans = pd.read_csv(r'C:\\Users\\dgarb\\OneDrive\\Desktop\\Capstone Data\\liquor_2021\\transactions_2021.csv',dtype=tdtypes, index_col=0)"
   ]
  },
  {
   "cell_type": "code",
   "execution_count": 19,
   "id": "fd38b60c",
   "metadata": {},
   "outputs": [
    {
     "name": "stdout",
     "output_type": "stream",
     "text": [
      "<class 'pandas.core.frame.DataFrame'>\n",
      "Int64Index: 2622712 entries, 0 to 2622711\n",
      "Data columns (total 13 columns):\n",
      " #   Column              Dtype  \n",
      "---  ------              -----  \n",
      " 0   Vendor_Number       object \n",
      " 1   Store_Number        object \n",
      " 2   Item_Number         object \n",
      " 3   Date                object \n",
      " 4   Bottle_Volume       int64  \n",
      " 5   Volume_Sold_Liters  float64\n",
      " 6   Bottles_Sold        int64  \n",
      " 7   Sales               float64\n",
      " 8   Bottle_Cost         float64\n",
      " 9   Bottle_Retail       float64\n",
      " 10  Category            object \n",
      " 11  trans_date          object \n",
      " 12  Pack                int64  \n",
      "dtypes: float64(4), int64(3), object(6)\n",
      "memory usage: 280.1+ MB\n"
     ]
    }
   ],
   "source": [
    "trans.info()"
   ]
  },
  {
   "cell_type": "markdown",
   "id": "fbc5478a",
   "metadata": {},
   "source": [
    "read in stores data"
   ]
  },
  {
   "cell_type": "code",
   "execution_count": 20,
   "id": "730d3179",
   "metadata": {},
   "outputs": [],
   "source": [
    "stores = pd.read_csv(r'C:\\Users\\dgarb\\OneDrive\\Desktop\\Capstone Data\\liquor_2021\\stores_2021.csv',index_col=0, dtype={'Store_Number':str})"
   ]
  },
  {
   "cell_type": "code",
   "execution_count": 21,
   "id": "a1a34cd4",
   "metadata": {},
   "outputs": [
    {
     "name": "stdout",
     "output_type": "stream",
     "text": [
      "<class 'pandas.core.frame.DataFrame'>\n",
      "Int64Index: 1948 entries, 223124 to 1094183\n",
      "Data columns (total 8 columns):\n",
      " #   Column          Non-Null Count  Dtype \n",
      "---  ------          --------------  ----- \n",
      " 0   Store_Number    1948 non-null   object\n",
      " 1   Store_Name      1948 non-null   object\n",
      " 2   Address         1948 non-null   object\n",
      " 3   City            1948 non-null   object\n",
      " 4   Zip_Code        1948 non-null   int64 \n",
      " 5   Store_Location  1790 non-null   object\n",
      " 6   County_Number   1948 non-null   int64 \n",
      " 7   County          1948 non-null   object\n",
      "dtypes: int64(2), object(6)\n",
      "memory usage: 137.0+ KB\n"
     ]
    }
   ],
   "source": [
    "stores.info()"
   ]
  },
  {
   "cell_type": "code",
   "execution_count": 22,
   "id": "6176ef65",
   "metadata": {},
   "outputs": [
    {
     "data": {
      "text/html": [
       "<div>\n",
       "<style scoped>\n",
       "    .dataframe tbody tr th:only-of-type {\n",
       "        vertical-align: middle;\n",
       "    }\n",
       "\n",
       "    .dataframe tbody tr th {\n",
       "        vertical-align: top;\n",
       "    }\n",
       "\n",
       "    .dataframe thead th {\n",
       "        text-align: right;\n",
       "    }\n",
       "</style>\n",
       "<table border=\"1\" class=\"dataframe\">\n",
       "  <thead>\n",
       "    <tr style=\"text-align: right;\">\n",
       "      <th></th>\n",
       "      <th>Store_Number</th>\n",
       "      <th>Store_Name</th>\n",
       "      <th>Address</th>\n",
       "      <th>City</th>\n",
       "      <th>Zip_Code</th>\n",
       "      <th>Store_Location</th>\n",
       "      <th>County_Number</th>\n",
       "      <th>County</th>\n",
       "    </tr>\n",
       "  </thead>\n",
       "  <tbody>\n",
       "    <tr>\n",
       "      <th>223124</th>\n",
       "      <td>3855</td>\n",
       "      <td>Dyno's Wine and Spirits / Storm Lake</td>\n",
       "      <td>1201 1/2 Lakeshore Dr</td>\n",
       "      <td>Storm Lake</td>\n",
       "      <td>50588</td>\n",
       "      <td>NaN</td>\n",
       "      <td>11</td>\n",
       "      <td>BUENA VIST</td>\n",
       "    </tr>\n",
       "    <tr>\n",
       "      <th>231153</th>\n",
       "      <td>4589</td>\n",
       "      <td>Dyno's #53 / Sibley</td>\n",
       "      <td>1026 2nd Ave</td>\n",
       "      <td>Sibley</td>\n",
       "      <td>51249</td>\n",
       "      <td>POINT (-95.752119 43.397431)</td>\n",
       "      <td>72</td>\n",
       "      <td>OSCEOLA</td>\n",
       "    </tr>\n",
       "    <tr>\n",
       "      <th>239961</th>\n",
       "      <td>5688</td>\n",
       "      <td>Dyno's #40 / Spencer</td>\n",
       "      <td>1001 S Grand Ave</td>\n",
       "      <td>Spencer</td>\n",
       "      <td>51301</td>\n",
       "      <td>POINT (-95.143701 43.12759)</td>\n",
       "      <td>21</td>\n",
       "      <td>CLAY</td>\n",
       "    </tr>\n",
       "    <tr>\n",
       "      <th>246141</th>\n",
       "      <td>4592</td>\n",
       "      <td>Dyno's #29 / Emmetsburg</td>\n",
       "      <td>2401, Main</td>\n",
       "      <td>Emmetsburg</td>\n",
       "      <td>50536</td>\n",
       "      <td>POINT (-94.681939 43.111913)</td>\n",
       "      <td>74</td>\n",
       "      <td>PALO ALTO</td>\n",
       "    </tr>\n",
       "    <tr>\n",
       "      <th>262897</th>\n",
       "      <td>5689</td>\n",
       "      <td>Dyno's #41 / Albert City</td>\n",
       "      <td>5101 230th St</td>\n",
       "      <td>Albert City</td>\n",
       "      <td>50510</td>\n",
       "      <td>POINT (-94.953239 42.777449)</td>\n",
       "      <td>11</td>\n",
       "      <td>BUENA VIST</td>\n",
       "    </tr>\n",
       "  </tbody>\n",
       "</table>\n",
       "</div>"
      ],
      "text/plain": [
       "       Store_Number                            Store_Name  \\\n",
       "223124         3855  Dyno's Wine and Spirits / Storm Lake   \n",
       "231153         4589                   Dyno's #53 / Sibley   \n",
       "239961         5688                  Dyno's #40 / Spencer   \n",
       "246141         4592               Dyno's #29 / Emmetsburg   \n",
       "262897         5689              Dyno's #41 / Albert City   \n",
       "\n",
       "                      Address         City  Zip_Code  \\\n",
       "223124  1201 1/2 Lakeshore Dr   Storm Lake     50588   \n",
       "231153           1026 2nd Ave       Sibley     51249   \n",
       "239961       1001 S Grand Ave      Spencer     51301   \n",
       "246141             2401, Main   Emmetsburg     50536   \n",
       "262897          5101 230th St  Albert City     50510   \n",
       "\n",
       "                      Store_Location  County_Number      County  \n",
       "223124                           NaN             11  BUENA VIST  \n",
       "231153  POINT (-95.752119 43.397431)             72     OSCEOLA  \n",
       "239961   POINT (-95.143701 43.12759)             21        CLAY  \n",
       "246141  POINT (-94.681939 43.111913)             74   PALO ALTO  \n",
       "262897  POINT (-94.953239 42.777449)             11  BUENA VIST  "
      ]
     },
     "execution_count": 22,
     "metadata": {},
     "output_type": "execute_result"
    }
   ],
   "source": [
    "# item_trans_category = item_trans_category.merge(products, how='inner', on=['Item_Number','Category'])\n",
    "stores.head()"
   ]
  },
  {
   "cell_type": "markdown",
   "id": "71d369ab",
   "metadata": {},
   "source": [
    "merge stores with trans data"
   ]
  },
  {
   "cell_type": "code",
   "execution_count": 23,
   "id": "0c4b09be",
   "metadata": {},
   "outputs": [],
   "source": [
    "store_trans = stores.merge(trans, how='inner', on=['Store_Number'])"
   ]
  },
  {
   "cell_type": "code",
   "execution_count": 24,
   "id": "3c8bb1ff",
   "metadata": {},
   "outputs": [
    {
     "data": {
      "text/plain": [
       "(2622712, 20)"
      ]
     },
     "execution_count": 24,
     "metadata": {},
     "output_type": "execute_result"
    }
   ],
   "source": [
    "store_trans.shape"
   ]
  },
  {
   "cell_type": "markdown",
   "id": "fe34c5ef",
   "metadata": {},
   "source": [
    "exclude poor data quality items"
   ]
  },
  {
   "cell_type": "code",
   "execution_count": 25,
   "id": "287d016b",
   "metadata": {},
   "outputs": [
    {
     "data": {
      "text/plain": [
       "(2491651, 20)"
      ]
     },
     "execution_count": 25,
     "metadata": {},
     "output_type": "execute_result"
    }
   ],
   "source": [
    "store_trans = store_trans[~store_trans['Item_Number'].isin(poor_data_quality_items)]\n",
    "store_trans.shape"
   ]
  },
  {
   "cell_type": "markdown",
   "id": "fb0d6b2d",
   "metadata": {},
   "source": [
    "exclude outliers"
   ]
  },
  {
   "cell_type": "code",
   "execution_count": 26,
   "id": "596c7059",
   "metadata": {},
   "outputs": [
    {
     "data": {
      "text/plain": [
       "(2473851, 20)"
      ]
     },
     "execution_count": 26,
     "metadata": {},
     "output_type": "execute_result"
    }
   ],
   "source": [
    "store_trans = store_trans[~store_trans['Item_Number'].isin(outliers)]\n",
    "store_trans.shape"
   ]
  },
  {
   "cell_type": "code",
   "execution_count": 27,
   "id": "d99d44c4",
   "metadata": {},
   "outputs": [
    {
     "data": {
      "text/plain": [
       "4301"
      ]
     },
     "execution_count": 27,
     "metadata": {},
     "output_type": "execute_result"
    }
   ],
   "source": [
    "\n",
    "store_trans.Item_Number.nunique()"
   ]
  },
  {
   "cell_type": "code",
   "execution_count": 28,
   "id": "c3db28f7",
   "metadata": {},
   "outputs": [
    {
     "name": "stdout",
     "output_type": "stream",
     "text": [
      "<class 'pandas.core.frame.DataFrame'>\n",
      "Int64Index: 2473851 entries, 0 to 2622711\n",
      "Data columns (total 20 columns):\n",
      " #   Column              Dtype  \n",
      "---  ------              -----  \n",
      " 0   Store_Number        object \n",
      " 1   Store_Name          object \n",
      " 2   Address             object \n",
      " 3   City                object \n",
      " 4   Zip_Code            int64  \n",
      " 5   Store_Location      object \n",
      " 6   County_Number       int64  \n",
      " 7   County              object \n",
      " 8   Vendor_Number       object \n",
      " 9   Item_Number         object \n",
      " 10  Date                object \n",
      " 11  Bottle_Volume       int64  \n",
      " 12  Volume_Sold_Liters  float64\n",
      " 13  Bottles_Sold        int64  \n",
      " 14  Sales               float64\n",
      " 15  Bottle_Cost         float64\n",
      " 16  Bottle_Retail       float64\n",
      " 17  Category            object \n",
      " 18  trans_date          object \n",
      " 19  Pack                int64  \n",
      "dtypes: float64(4), int64(5), object(11)\n",
      "memory usage: 396.4+ MB\n"
     ]
    }
   ],
   "source": [
    "store_trans.info()\n",
    "# list(store_trans.columns)"
   ]
  },
  {
   "cell_type": "code",
   "execution_count": 29,
   "id": "c603fc27",
   "metadata": {},
   "outputs": [],
   "source": [
    "# store_trans.groupby(['Store_Number','Store_Name'])['Item_Number'].unique()"
   ]
  },
  {
   "cell_type": "markdown",
   "id": "e94b90a4",
   "metadata": {},
   "source": [
    "merge store_trans_data with final_clusters to append the cluster information"
   ]
  },
  {
   "cell_type": "code",
   "execution_count": 30,
   "id": "c68888a8",
   "metadata": {},
   "outputs": [],
   "source": [
    "store_trans_cluster = store_trans[['Store_Number',\n",
    " 'Store_Name',\n",
    " 'Address',\n",
    " 'City',\n",
    " 'Zip_Code',\n",
    " 'Store_Location',\n",
    " 'County_Number',\n",
    " 'County',\n",
    " 'Vendor_Number',\n",
    " 'Item_Number','Category','Sales']].merge(final_clusters, how='inner', on=['Item_Number'])"
   ]
  },
  {
   "cell_type": "code",
   "execution_count": 31,
   "id": "49f8965f",
   "metadata": {},
   "outputs": [],
   "source": [
    "store_trans_cluster = store_trans_cluster.drop(columns=['revenue'])\n",
    "\n",
    "store_trans_cluster = store_trans_cluster.rename(columns={'Sales':'revenue'})"
   ]
  },
  {
   "cell_type": "code",
   "execution_count": 32,
   "id": "ca34138d",
   "metadata": {},
   "outputs": [
    {
     "data": {
      "text/plain": [
       "Index(['Store_Number', 'Store_Name', 'Address', 'City', 'Zip_Code',\n",
       "       'Store_Location', 'County_Number', 'County', 'Vendor_Number',\n",
       "       'Item_Number', 'Category', 'revenue', 'Item_Description',\n",
       "       'Bottle_Volume', 'Bottle_Retail', 'Bottles_Sold', 'cluster_name',\n",
       "       'Num_Stores_Selling', 'New_Category_Name'],\n",
       "      dtype='object')"
      ]
     },
     "execution_count": 32,
     "metadata": {},
     "output_type": "execute_result"
    }
   ],
   "source": [
    "store_trans_cluster.columns"
   ]
  },
  {
   "cell_type": "markdown",
   "id": "8d89e6cb",
   "metadata": {},
   "source": [
    "create a DataFrame with the number of unique items and the total revenue in each store"
   ]
  },
  {
   "cell_type": "code",
   "execution_count": 33,
   "id": "0e283d0e",
   "metadata": {
    "scrolled": true
   },
   "outputs": [
    {
     "name": "stdout",
     "output_type": "stream",
     "text": [
      "nunique_per_store_df shape:  (1948, 4)\n"
     ]
    }
   ],
   "source": [
    "nunique_per_store_df = store_trans_cluster.groupby(['Store_Number','Store_Name']).agg({'Item_Number':'nunique','revenue':'sum'}).reset_index()\n",
    "nunique_per_store_df.rename({'Item_Number':'num_unique_items'} ,axis=1, inplace=True)\n",
    "print('nunique_per_store_df shape: ',nunique_per_store_df.shape)"
   ]
  },
  {
   "cell_type": "code",
   "execution_count": 34,
   "id": "faaade3b",
   "metadata": {},
   "outputs": [],
   "source": [
    "# store_trans_cluster.groupby(['New_Category_Name']).agg({'revenue':['sum'],'Item_Number':['count','nunique']}).reset_index()"
   ]
  },
  {
   "cell_type": "markdown",
   "id": "ab72b4c4",
   "metadata": {},
   "source": [
    "#### create a DataFrame with store number, store name, cluster name and the list of items in each cluster for each store."
   ]
  },
  {
   "cell_type": "code",
   "execution_count": 35,
   "id": "b5b39eb6",
   "metadata": {},
   "outputs": [
    {
     "data": {
      "text/html": [
       "<div>\n",
       "<style scoped>\n",
       "    .dataframe tbody tr th:only-of-type {\n",
       "        vertical-align: middle;\n",
       "    }\n",
       "\n",
       "    .dataframe tbody tr th {\n",
       "        vertical-align: top;\n",
       "    }\n",
       "\n",
       "    .dataframe thead th {\n",
       "        text-align: right;\n",
       "    }\n",
       "</style>\n",
       "<table border=\"1\" class=\"dataframe\">\n",
       "  <thead>\n",
       "    <tr style=\"text-align: right;\">\n",
       "      <th></th>\n",
       "      <th>Store_Number</th>\n",
       "      <th>Store_Name</th>\n",
       "      <th>cluster_name</th>\n",
       "      <th>Item_Number</th>\n",
       "    </tr>\n",
       "  </thead>\n",
       "  <tbody>\n",
       "    <tr>\n",
       "      <th>0</th>\n",
       "      <td>2106</td>\n",
       "      <td>Hillstreet News and Tobacco</td>\n",
       "      <td>Cheap</td>\n",
       "      <td>[37997, 73055, 19067, 69657, 89197, 19476, 481...</td>\n",
       "    </tr>\n",
       "    <tr>\n",
       "      <th>1</th>\n",
       "      <td>2106</td>\n",
       "      <td>Hillstreet News and Tobacco</td>\n",
       "      <td>High_End</td>\n",
       "      <td>[903179, 905960, 87078, 916809, 924575]</td>\n",
       "    </tr>\n",
       "    <tr>\n",
       "      <th>2</th>\n",
       "      <td>2106</td>\n",
       "      <td>Hillstreet News and Tobacco</td>\n",
       "      <td>Moderately_High</td>\n",
       "      <td>[26906, 49086, 5036, 87485, 927041, 21540, 478...</td>\n",
       "    </tr>\n",
       "    <tr>\n",
       "      <th>3</th>\n",
       "      <td>2106</td>\n",
       "      <td>Hillstreet News and Tobacco</td>\n",
       "      <td>Most_Variety</td>\n",
       "      <td>[89786, 8826, 65200, 65195, 89836, 77988, 8261...</td>\n",
       "    </tr>\n",
       "    <tr>\n",
       "      <th>4</th>\n",
       "      <td>2106</td>\n",
       "      <td>Hillstreet News and Tobacco</td>\n",
       "      <td>Popular_Bottles</td>\n",
       "      <td>[88296, 15626, 11296, 10550, 43338, 11788, 381...</td>\n",
       "    </tr>\n",
       "    <tr>\n",
       "      <th>...</th>\n",
       "      <td>...</td>\n",
       "      <td>...</td>\n",
       "      <td>...</td>\n",
       "      <td>...</td>\n",
       "    </tr>\n",
       "    <tr>\n",
       "      <th>11458</th>\n",
       "      <td>9046</td>\n",
       "      <td>Rock River Distillation Company</td>\n",
       "      <td>Most_Variety</td>\n",
       "      <td>[17659, 26405]</td>\n",
       "    </tr>\n",
       "    <tr>\n",
       "      <th>11459</th>\n",
       "      <td>9046</td>\n",
       "      <td>Rock River Distillation Company</td>\n",
       "      <td>Quick_Shots</td>\n",
       "      <td>[17658, 26436]</td>\n",
       "    </tr>\n",
       "    <tr>\n",
       "      <th>11460</th>\n",
       "      <td>9047</td>\n",
       "      <td>Revelton Distilling Company</td>\n",
       "      <td>Most_Variety</td>\n",
       "      <td>[37630, 39300, 86420, 33180, 31985, 26291, 262...</td>\n",
       "    </tr>\n",
       "    <tr>\n",
       "      <th>11461</th>\n",
       "      <td>9048</td>\n",
       "      <td>Artisan Grain Distillery</td>\n",
       "      <td>Most_Variety</td>\n",
       "      <td>[946008, 926297, 925514, 937455]</td>\n",
       "    </tr>\n",
       "    <tr>\n",
       "      <th>11462</th>\n",
       "      <td>9049</td>\n",
       "      <td>TYCOGA Vineyard &amp; Winery</td>\n",
       "      <td>Most_Variety</td>\n",
       "      <td>[926093, 938201]</td>\n",
       "    </tr>\n",
       "  </tbody>\n",
       "</table>\n",
       "<p>11463 rows × 4 columns</p>\n",
       "</div>"
      ],
      "text/plain": [
       "      Store_Number                       Store_Name     cluster_name  \\\n",
       "0             2106      Hillstreet News and Tobacco            Cheap   \n",
       "1             2106      Hillstreet News and Tobacco         High_End   \n",
       "2             2106      Hillstreet News and Tobacco  Moderately_High   \n",
       "3             2106      Hillstreet News and Tobacco     Most_Variety   \n",
       "4             2106      Hillstreet News and Tobacco  Popular_Bottles   \n",
       "...            ...                              ...              ...   \n",
       "11458         9046  Rock River Distillation Company     Most_Variety   \n",
       "11459         9046  Rock River Distillation Company      Quick_Shots   \n",
       "11460         9047      Revelton Distilling Company     Most_Variety   \n",
       "11461         9048         Artisan Grain Distillery     Most_Variety   \n",
       "11462         9049         TYCOGA Vineyard & Winery     Most_Variety   \n",
       "\n",
       "                                             Item_Number  \n",
       "0      [37997, 73055, 19067, 69657, 89197, 19476, 481...  \n",
       "1                [903179, 905960, 87078, 916809, 924575]  \n",
       "2      [26906, 49086, 5036, 87485, 927041, 21540, 478...  \n",
       "3      [89786, 8826, 65200, 65195, 89836, 77988, 8261...  \n",
       "4      [88296, 15626, 11296, 10550, 43338, 11788, 381...  \n",
       "...                                                  ...  \n",
       "11458                                     [17659, 26405]  \n",
       "11459                                     [17658, 26436]  \n",
       "11460  [37630, 39300, 86420, 33180, 31985, 26291, 262...  \n",
       "11461                   [946008, 926297, 925514, 937455]  \n",
       "11462                                   [926093, 938201]  \n",
       "\n",
       "[11463 rows x 4 columns]"
      ]
     },
     "execution_count": 35,
     "metadata": {},
     "output_type": "execute_result"
    }
   ],
   "source": [
    "unique_store_item_list_df = store_trans_cluster.groupby(['Store_Number','Store_Name','cluster_name'])['Item_Number'].unique().reset_index()\n",
    "unique_store_item_list_df"
   ]
  },
  {
   "cell_type": "code",
   "execution_count": 36,
   "id": "9c351310",
   "metadata": {},
   "outputs": [],
   "source": [
    "unique_store_item_list_df.rename({'Item_Number':'store_unique_items'} ,axis=1, inplace=True)"
   ]
  },
  {
   "cell_type": "markdown",
   "id": "c1d4c754",
   "metadata": {},
   "source": [
    "#### create DataFrame that will be used to create a cluster dictionary"
   ]
  },
  {
   "cell_type": "code",
   "execution_count": 37,
   "id": "192e9a2a",
   "metadata": {},
   "outputs": [
    {
     "data": {
      "text/html": [
       "<div>\n",
       "<style scoped>\n",
       "    .dataframe tbody tr th:only-of-type {\n",
       "        vertical-align: middle;\n",
       "    }\n",
       "\n",
       "    .dataframe tbody tr th {\n",
       "        vertical-align: top;\n",
       "    }\n",
       "\n",
       "    .dataframe thead th {\n",
       "        text-align: right;\n",
       "    }\n",
       "</style>\n",
       "<table border=\"1\" class=\"dataframe\">\n",
       "  <thead>\n",
       "    <tr style=\"text-align: right;\">\n",
       "      <th></th>\n",
       "      <th>cluster_name</th>\n",
       "      <th>Item_Number</th>\n",
       "    </tr>\n",
       "  </thead>\n",
       "  <tbody>\n",
       "    <tr>\n",
       "      <th>0</th>\n",
       "      <td>Cheap</td>\n",
       "      <td>[100423, 10791, 10802, 10804, 10805, 10808, 11...</td>\n",
       "    </tr>\n",
       "    <tr>\n",
       "      <th>1</th>\n",
       "      <td>High_End</td>\n",
       "      <td>[100572, 100793, 100854, 100941, 101457, 11287...</td>\n",
       "    </tr>\n",
       "    <tr>\n",
       "      <th>2</th>\n",
       "      <td>Moderately_High</td>\n",
       "      <td>[100148, 100306, 100600, 100618, 100619, 10079...</td>\n",
       "    </tr>\n",
       "    <tr>\n",
       "      <th>3</th>\n",
       "      <td>Most_Variety</td>\n",
       "      <td>[10006, 100077, 10009, 100202, 100210, 100215,...</td>\n",
       "    </tr>\n",
       "    <tr>\n",
       "      <th>4</th>\n",
       "      <td>Popular_Bottles</td>\n",
       "      <td>[10550, 10807, 11296, 11297, 11773, 11774, 117...</td>\n",
       "    </tr>\n",
       "    <tr>\n",
       "      <th>5</th>\n",
       "      <td>Quick_Shots</td>\n",
       "      <td>[100280, 100531, 100568, 100636, 100686, 10071...</td>\n",
       "    </tr>\n",
       "    <tr>\n",
       "      <th>6</th>\n",
       "      <td>Volume_For_Dollar</td>\n",
       "      <td>[10008, 100440, 100545, 100605, 100844, 101216...</td>\n",
       "    </tr>\n",
       "  </tbody>\n",
       "</table>\n",
       "</div>"
      ],
      "text/plain": [
       "        cluster_name                                        Item_Number\n",
       "0              Cheap  [100423, 10791, 10802, 10804, 10805, 10808, 11...\n",
       "1           High_End  [100572, 100793, 100854, 100941, 101457, 11287...\n",
       "2    Moderately_High  [100148, 100306, 100600, 100618, 100619, 10079...\n",
       "3       Most_Variety  [10006, 100077, 10009, 100202, 100210, 100215,...\n",
       "4    Popular_Bottles  [10550, 10807, 11296, 11297, 11773, 11774, 117...\n",
       "5        Quick_Shots  [100280, 100531, 100568, 100636, 100686, 10071...\n",
       "6  Volume_For_Dollar  [10008, 100440, 100545, 100605, 100844, 101216..."
      ]
     },
     "execution_count": 37,
     "metadata": {},
     "output_type": "execute_result"
    }
   ],
   "source": [
    "unique_cluster_item_list_df = final_clusters.groupby(['cluster_name'])['Item_Number'].unique().reset_index()\n",
    "unique_cluster_item_list_df"
   ]
  },
  {
   "cell_type": "code",
   "execution_count": 38,
   "id": "dd23027d",
   "metadata": {},
   "outputs": [
    {
     "data": {
      "text/html": [
       "<div>\n",
       "<style scoped>\n",
       "    .dataframe tbody tr th:only-of-type {\n",
       "        vertical-align: middle;\n",
       "    }\n",
       "\n",
       "    .dataframe tbody tr th {\n",
       "        vertical-align: top;\n",
       "    }\n",
       "\n",
       "    .dataframe thead th {\n",
       "        text-align: right;\n",
       "    }\n",
       "</style>\n",
       "<table border=\"1\" class=\"dataframe\">\n",
       "  <thead>\n",
       "    <tr style=\"text-align: right;\">\n",
       "      <th></th>\n",
       "      <th>cluster_name</th>\n",
       "      <th>cluster_unique_items</th>\n",
       "    </tr>\n",
       "  </thead>\n",
       "  <tbody>\n",
       "    <tr>\n",
       "      <th>0</th>\n",
       "      <td>Cheap</td>\n",
       "      <td>[100423, 10791, 10802, 10804, 10805, 10808, 11...</td>\n",
       "    </tr>\n",
       "    <tr>\n",
       "      <th>1</th>\n",
       "      <td>High_End</td>\n",
       "      <td>[100572, 100793, 100854, 100941, 101457, 11287...</td>\n",
       "    </tr>\n",
       "    <tr>\n",
       "      <th>2</th>\n",
       "      <td>Moderately_High</td>\n",
       "      <td>[100148, 100306, 100600, 100618, 100619, 10079...</td>\n",
       "    </tr>\n",
       "    <tr>\n",
       "      <th>3</th>\n",
       "      <td>Most_Variety</td>\n",
       "      <td>[10006, 100077, 10009, 100202, 100210, 100215,...</td>\n",
       "    </tr>\n",
       "    <tr>\n",
       "      <th>4</th>\n",
       "      <td>Popular_Bottles</td>\n",
       "      <td>[10550, 10807, 11296, 11297, 11773, 11774, 117...</td>\n",
       "    </tr>\n",
       "    <tr>\n",
       "      <th>5</th>\n",
       "      <td>Quick_Shots</td>\n",
       "      <td>[100280, 100531, 100568, 100636, 100686, 10071...</td>\n",
       "    </tr>\n",
       "    <tr>\n",
       "      <th>6</th>\n",
       "      <td>Volume_For_Dollar</td>\n",
       "      <td>[10008, 100440, 100545, 100605, 100844, 101216...</td>\n",
       "    </tr>\n",
       "  </tbody>\n",
       "</table>\n",
       "</div>"
      ],
      "text/plain": [
       "        cluster_name                               cluster_unique_items\n",
       "0              Cheap  [100423, 10791, 10802, 10804, 10805, 10808, 11...\n",
       "1           High_End  [100572, 100793, 100854, 100941, 101457, 11287...\n",
       "2    Moderately_High  [100148, 100306, 100600, 100618, 100619, 10079...\n",
       "3       Most_Variety  [10006, 100077, 10009, 100202, 100210, 100215,...\n",
       "4    Popular_Bottles  [10550, 10807, 11296, 11297, 11773, 11774, 117...\n",
       "5        Quick_Shots  [100280, 100531, 100568, 100636, 100686, 10071...\n",
       "6  Volume_For_Dollar  [10008, 100440, 100545, 100605, 100844, 101216..."
      ]
     },
     "execution_count": 38,
     "metadata": {},
     "output_type": "execute_result"
    }
   ],
   "source": [
    "unique_cluster_item_list_df.rename({'Item_Number':'cluster_unique_items'} ,axis=1, inplace=True)\n",
    "unique_cluster_item_list_df"
   ]
  },
  {
   "cell_type": "markdown",
   "id": "8240abf5",
   "metadata": {},
   "source": [
    "#### create a list of the unique items in each cluster"
   ]
  },
  {
   "cell_type": "code",
   "execution_count": 39,
   "id": "238da0fc",
   "metadata": {},
   "outputs": [
    {
     "data": {
      "text/plain": [
       "[array(['100423', '10791', '10802', '10804', '10805', '10808', '11294',\n",
       "        '11299', '11786', '15627', '16676', '17086', '17206', '17916',\n",
       "        '17956', '18006', '19064', '19066', '19067', '19476', '19477',\n",
       "        '22215', '23823', '23824', '23826', '25604', '25606', '25607',\n",
       "        '26820', '26823', '26824', '27102', '27544', '27783', '28279',\n",
       "        '28866', '28867', '32232', '32233', '32234', '34004', '34007',\n",
       "        '34359', '34422', '34433', '34456', '34820', '35314', '35913',\n",
       "        '35914', '35916', '35917', '35926', '36301', '36307', '36873',\n",
       "        '36874', '36886', '36887', '36889', '36968', '36969', '36974',\n",
       "        '36985', '37258', '37347', '37993', '37996', '37997', '38006',\n",
       "        '38179', '39492', '40594', '41693', '41846', '42717', '43024',\n",
       "        '43025', '43026', '43124', '43126', '43127', '43137', '43285',\n",
       "        '43331', '43333', '44217', '45277', '48106', '49185', '49186',\n",
       "        '49189', '52199', '52593', '52594', '52596', '53213', '53214',\n",
       "        '53216', '65254', '65256', '65257', '65426', '66936', '67526',\n",
       "        '68036', '69636', '69637', '69657', '69947', '73055', '75087',\n",
       "        '76487', '82847', '84219', '86112', '86251', '86455', '86507',\n",
       "        '86670', '86843', '86884', '86886', '86887', '87026', '87403',\n",
       "        '87408', '87937', '88294', '89193', '89194', '89196', '89197',\n",
       "        '89199', '89387', '89577'], dtype=object),\n",
       " array(['100572', '100793', '100854', '100941', '101457', '11287', '15320',\n",
       "        '15639', '17186', '17196', '17920', '258', '27145', '3354', '4075',\n",
       "        '4248', '4251', '4357', '4374', '4381', '4610', '47645', '48122',\n",
       "        '49156', '5002', '5040', '5067', '51742', '5329', '5702', '5744',\n",
       "        '57630', '57632', '57634', '57636', '86118', '866', '87078',\n",
       "        '87714', '88163', '88212', '88361', '88741', '88915', '89000',\n",
       "        '89152', '89164', '89820', '902086', '902137', '902180', '902623',\n",
       "        '902813', '902853', '902880', '902912', '903179', '903490',\n",
       "        '903639', '904046', '904486', '904522', '904614', '904829',\n",
       "        '904866', '904940', '905028', '905119', '905215', '905447',\n",
       "        '905613', '905960', '905964', '906019', '906264', '910642',\n",
       "        '914206', '915177', '915198', '915559', '915577', '915634',\n",
       "        '915639', '915708', '915743', '915848', '915978', '915985',\n",
       "        '916093', '916100', '916124', '916126', '916210', '916211',\n",
       "        '916567', '916678', '916809', '917192', '918379', '919320',\n",
       "        '922254', '924575', '926285', '926479', '926497', '926568',\n",
       "        '927506', '928166', '935863', '937252', '938187', '942263',\n",
       "        '942305', '942404', '943634', '943793', '946072', '947869',\n",
       "        '964358', '974834', '985535', '987184', '987187', '987192',\n",
       "        '987212', '987276', '987442', '987545', '987730', '987825',\n",
       "        '987927', '987953', '987955', '988209', '988213', '988281',\n",
       "        '988484', '988644', '988693', '988709', '988739', '988915',\n",
       "        '988917', '988979', '989210', '989328', '989330', '989625',\n",
       "        '991342', '991350', '991592', '994403', '994965', '995243',\n",
       "        '995735', '995932', '999912'], dtype=object),\n",
       " array(['100148', '100306', '100600', '100618', '100619', '100792',\n",
       "        '100855', '100901', '101021', '101025', '101100', '101188',\n",
       "        '101232', '101266', '101432', '101452', '101490', '101522',\n",
       "        '101564', '101583', '101653', '101654', '10826', '10852', '11366',\n",
       "        '1160', '15180', '15187', '15204', '15206', '15606', '15636',\n",
       "        '15856', '15934', '15958', '15991', '15993', '15994', '16026',\n",
       "        '16048', '16050', '16120', '16142', '16182', '16369', '16562',\n",
       "        '16580', '16679', '16685', '16796', '16799', '16814', '16850',\n",
       "        '16906', '16916', '17062', '17090', '17092', '17260', '17334',\n",
       "        '17543', '17544', '17630', '17632', '17913', '17917', '18358',\n",
       "        '18376', '18656', '19006', '19017', '19227', '19235', '19239',\n",
       "        '19250', '19494', '19497', '19880', '20300', '20305', '20318',\n",
       "        '20369', '20375', '21181', '21184', '21186', '21212', '21228',\n",
       "        '21443', '21540', '21589', '217215', '21946', '22172', '22178',\n",
       "        '22199', '22217', '22219', '22228', '22241', '22271', '23536',\n",
       "        '25177', '25418', '25459', '25512', '26096', '26105', '26142',\n",
       "        '26187', '26196', '26350', '26409', '26411', '26413', '26414',\n",
       "        '26416', '26455', '26463', '26474', '26520', '26522', '26556',\n",
       "        '26611', '26613', '26614', '26667', '26697', '26707', '26712',\n",
       "        '26714', '26737', '26780', '26781', '26782', '26789', '26800',\n",
       "        '26906', '26966', '26977', '27060', '27094', '27130', '27138',\n",
       "        '27189', '27369', '27380', '27523', '27560', '27677', '27757',\n",
       "        '2959', '29772', '34122', '34729', '36390', '36531', '37231',\n",
       "        '37240', '37391', '4000', '4084', '4090', '4096', '4111', '4184',\n",
       "        '4246', '42777', '4356', '4367', '43722', '43775', '4457', '4611',\n",
       "        '46148', '4616', '4636', '4656', '4698', '4717', '47646', '47647',\n",
       "        '47649', '47776', '47865', '4810', '48102', '48123', '48146',\n",
       "        '48164', '48206', '4825', '4846', '49086', '4959', '4993', '5006',\n",
       "        '5014', '5036', '5037', '5061', '5103', '5104', '5105', '5136',\n",
       "        '5149', '5157', '5159', '51744', '52078', '5242', '5247', '529',\n",
       "        '5318', '5327', '5350', '5404', '5430', '5446', '5486', '5555',\n",
       "        '5633', '5683', '5696', '5700', '5745', '5747', '5842', '5918',\n",
       "        '5929', '5966', '6016', '61213', '61215', '6206', '64000', '64876',\n",
       "        '65127', '65156', '65232', '65536', '65793', '66056', '66665',\n",
       "        '67219', '68031', '699', '72935', '73135', '74831', '76433',\n",
       "        '76435', '76437', '76439', '76441', '86121', '86125', '86145',\n",
       "        '86272', '86273', '86274', '86275', '86404', '86462', '86468',\n",
       "        '86490', '86492', '86494', '86536', '86990', '87013', '87025',\n",
       "        '87027', '87029', '87030', '87032', '87057', '87102', '87266',\n",
       "        '87270', '87280', '87288', '87369', '87370', '87406', '87481',\n",
       "        '87485', '87625', '87849', '87879', '87901', '87906', '88091',\n",
       "        '88120', '88172', '88363', '88367', '88458', '88482', '88578',\n",
       "        '88633', '88652', '88833', '88922', '88947', '88949', '89006',\n",
       "        '89016', '89029', '89030', '89099', '89136', '89154', '89175',\n",
       "        '89177', '89200', '89230', '89267', '89269', '89320', '89329',\n",
       "        '89339', '89343', '89504', '89590', '89626', '89646', '89665',\n",
       "        '89754', '89757', '900367', '900407', '900598', '901275', '901536',\n",
       "        '901636', '901641', '901702', '901822', '901882', '901886',\n",
       "        '901917', '902133', '902192', '902203', '902207', '902219',\n",
       "        '902419', '902420', '902421', '902495', '902497', '902536',\n",
       "        '902570', '902650', '902667', '902722', '902766', '902793',\n",
       "        '902833', '902877', '902896', '902933', '902975', '902989',\n",
       "        '903089', '903122', '903176', '903330', '903355', '903385',\n",
       "        '903522', '903525', '903550', '903560', '903590', '903592',\n",
       "        '903663', '903701', '903761', '903764', '903770', '903774',\n",
       "        '903803', '903867', '903942', '903957', '903998', '904145',\n",
       "        '904161', '904224', '904247', '904253', '904407', '904552',\n",
       "        '904559', '904586', '904609', '904669', '904670', '904676',\n",
       "        '904848', '904921', '904955', '904970', '905184', '905186',\n",
       "        '905198', '905377', '905434', '905435', '905622', '905648',\n",
       "        '905653', '905734', '905829', '905865', '905868', '905869',\n",
       "        '905874', '906066', '906307', '906315', '906317', '907694',\n",
       "        '907704', '911020', '912900', '914582', '914593', '914947',\n",
       "        '915188', '915469', '915473', '915534', '915550', '915574',\n",
       "        '915607', '915620', '915635', '915654', '915673', '915729',\n",
       "        '915747', '915783', '915797', '915842', '915844', '915847',\n",
       "        '915849', '915862', '915880', '915882', '915907', '915917',\n",
       "        '915918', '915920', '915924', '915926', '915928', '915934',\n",
       "        '915952', '915962', '915995', '915996', '915997', '916007',\n",
       "        '916016', '916018', '916029', '916030', '916032', '916037',\n",
       "        '916092', '916122', '916267', '916373', '916492', '916580',\n",
       "        '916630', '916664', '916670', '916686', '916687', '916690',\n",
       "        '916693', '916697', '916698', '916700', '916839', '916850',\n",
       "        '917062', '917176', '917184', '917190', '917334', '917680',\n",
       "        '917948', '918202', '918286', '918288', '918301', '918376',\n",
       "        '918384', '918411', '918412', '918421', '918606', '918860',\n",
       "        '919000', '919216', '919218', '919236', '919239', '919411',\n",
       "        '919412', '919494', '919564', '920301', '920372', '920374',\n",
       "        '920376', '920380', '920656', '920676', '921102', '921181',\n",
       "        '921186', '921198', '921224', '921227', '921443', '921542',\n",
       "        '921552', '921592', '921674', '922042', '922044', '922075',\n",
       "        '922077', '922079', '922172', '922184', '922260', '922261',\n",
       "        '922262', '922263', '922296', '923058', '924890', '925234',\n",
       "        '925399', '925408', '925475', '925476', '926138', '926192',\n",
       "        '926219', '926222', '926239', '926274', '926350', '926351',\n",
       "        '926352', '926357', '926414', '926435', '926438', '926442',\n",
       "        '926471', '926475', '926476', '926478', '926507', '926508',\n",
       "        '926519', '926556', '926592', '926596', '926610', '926611',\n",
       "        '926669', '926697', '926699', '926713', '926714', '926727',\n",
       "        '926730', '926732', '926751', '926760', '926802', '926804',\n",
       "        '926855', '926875', '926885', '926924', '926929', '926930',\n",
       "        '926931', '926944', '926964', '927017', '927041', '927099',\n",
       "        '927114', '927188', '927197', '927252', '927367', '927461',\n",
       "        '927676', '927786', '927797', '927861', '927940', '927942',\n",
       "        '927944', '927946', '927948', '927952', '928002', '928093',\n",
       "        '928125', '928137', '928193', '928194', '928271', '928289',\n",
       "        '928296', '928440', '928462', '928538', '928616', '928642',\n",
       "        '928691', '928693', '928730', '928739', '928814', '929060',\n",
       "        '929123', '929259', '929828', '932342', '933507', '933530',\n",
       "        '933715', '936762', '942403', '942576', '942606', '942649',\n",
       "        '942776', '942779', '943591', '943624', '943665', '943705',\n",
       "        '943780', '943800', '943835', '943876', '943878', '943891',\n",
       "        '943938', '944015', '944101', '945011', '946014', '946415',\n",
       "        '946682', '946702', '946892', '947406', '947646', '947647',\n",
       "        '947649', '948069', '948086', '948361', '948996', '949000',\n",
       "        '949087', '949187', '951351', '951421', '951549', '951600',\n",
       "        '958875', '961476', '964477', '965108', '965297', '965313',\n",
       "        '965544', '966056', '966390', '966665', '967317', '968882',\n",
       "        '968886', '972661', '974831', '985552', '985553', '985554',\n",
       "        '985555', '985556', '986215', '986305', '986404', '986448',\n",
       "        '986453', '986471', '986476', '986490', '986492', '986494',\n",
       "        '986576', '986593', '986725', '986937', '987102', '987108',\n",
       "        '987133', '987139', '987145', '987160', '987161', '987163',\n",
       "        '987185', '987211', '987217', '987219', '987223', '987277',\n",
       "        '987279', '987283', '987328', '987360', '987369', '987461',\n",
       "        '987506', '987679', '987828', '987860', '987901', '987906',\n",
       "        '987951', '987952', '988007', '988039', '988040', '988046',\n",
       "        '988105', '988164', '988166', '988192', '988257', '988280',\n",
       "        '988374', '988414', '988427', '988449', '988458', '988475',\n",
       "        '988482', '988524', '988526', '988528', '988633', '988668',\n",
       "        '988802', '988803', '988818', '988836', '988839', '988861',\n",
       "        '988957', '988959', '988982', '988984', '988992', '989202',\n",
       "        '989222', '989287', '989293', '989327', '989343', '989346',\n",
       "        '989488', '989503', '989504', '989529', '989554', '989622',\n",
       "        '989653', '989679', '989690', '989861', '989960', '989961',\n",
       "        '990742', '990860', '991175', '991228', '991589', '992000',\n",
       "        '992851', '992900', '993675', '994046', '994187', '994188',\n",
       "        '994205', '994350', '994402', '994404', '994406', '994408',\n",
       "        '994410', '994414', '994449', '994487', '994553', '994682',\n",
       "        '994695', '994697', '994698', '994853', '994876', '994972',\n",
       "        '995185', '995203', '995204', '995231', '995232', '995274',\n",
       "        '995275', '995276', '995513', '995517', '995519', '995643',\n",
       "        '995646', '995647', '995915', '996930', '997096', '997100',\n",
       "        '997101', '997102', '997870', '997871', '997888', '997975',\n",
       "        '997977', '998071', '998074', '998606', '998889', '999440',\n",
       "        '999449', '999918', '999920', '999921', '999922', '999923',\n",
       "        '999924', '999927', '999928', '999930', '999931', '999932',\n",
       "        '999991', '999992'], dtype=object),\n",
       " array(['10006', '100077', '10009', ..., '999919', '999925', '999926'],\n",
       "       dtype=object),\n",
       " array(['10550', '10807', '11296', '11297', '11773', '11774', '11776',\n",
       "        '11777', '11788', '15626', '1799', '26826', '26827', '34006',\n",
       "        '35317', '36304', '36305', '36306', '36308', '36903', '36904',\n",
       "        '37994', '38174', '38176', '38177', '38178', '42716', '43334',\n",
       "        '43336', '43337', '43338', '48099', '48105', '64863', '64864',\n",
       "        '64865', '64866', '64867', '65013', '77487', '84171', '88296'],\n",
       "       dtype=object),\n",
       " array(['100280', '100531', '100568', '100636', '100686', '100719',\n",
       "        '100759', '101018', '101037', '101047', '101088', '101126',\n",
       "        '101180', '101399', '101462', '101471', '101491', '101513',\n",
       "        '101587', '10624', '10789', '10790', '10834', '10932', '11909',\n",
       "        '12404', '1258', '12853', '12861', '12865', '12871', '12881',\n",
       "        '14492', '14505', '14515', '14518', '14521', '14522', '14524',\n",
       "        '14525', '14530', '14531', '15179', '15244', '15557', '15622',\n",
       "        '15641', '15644', '15653', '15779', '15919', '17085', '17658',\n",
       "        '17915', '19061', '19062', '19063', '19475', '21594', '22154',\n",
       "        '22155', '22214', '22783', '22784', '24451', '24453', '24454',\n",
       "        '24860', '25601', '25603', '26160', '26162', '26164', '26172',\n",
       "        '26176', '26373', '26436', '26511', '26585', '26763', '26822',\n",
       "        '26858', '27274', '27408', '27409', '27428', '27453', '27469',\n",
       "        '27680', '27692', '27723', '27780', '27781', '27782', '27913',\n",
       "        '28039', '28275', '28276', '28278', '28624', '28865', '29993',\n",
       "        '29994', '31472', '31474', '32231', '33466', '34003', '34154',\n",
       "        '34164', '34197', '34423', '34454', '35313', '35776', '35944',\n",
       "        '36302', '36482', '36574', '36617', '36690', '36901', '36965',\n",
       "        '36966', '36967', '37305', '37389', '37414', '37495', '37496',\n",
       "        '37497', '37664', '37880', '37881', '37889', '37934', '38089',\n",
       "        '38102', '38110', '38530', '39208', '39245', '39381', '39382',\n",
       "        '39393', '39395', '39397', '39419', '39422', '39430', '39500',\n",
       "        '39555', '39650', '39680', '39704', '39705', '39706', '39770',\n",
       "        '39865', '39916', '39917', '40047', '40070', '40189', '40191',\n",
       "        '40192', '40500', '40528', '40569', '40590', '40592', '40593',\n",
       "        '40597', '40598', '41691', '41703', '41844', '42712', '42714',\n",
       "        '42720', '430', '43022', '43031', '43034', '43121', '43134',\n",
       "        '43831', '4585', '45884', '46290', '47775', '47785', '47790',\n",
       "        '47861', '47863', '48115', '48154', '49083', '49084', '49182',\n",
       "        '52312', '52314', '52580', '52581', '52590', '52591', '5325',\n",
       "        '5345', '53920', '54444', '55084', '557', '56193', '56195',\n",
       "        '56792', '57585', '57593', '57595', '57601', '58200', '58202',\n",
       "        '58204', '58206', '58208', '58210', '58212', '58744', '58902',\n",
       "        '58908', '58909', '58910', '58911', '61212', '61214', '63257',\n",
       "        '63259', '63260', '63261', '63262', '63263', '63277', '63282',\n",
       "        '63283', '63284', '63297', '63299', '63311', '63319', '63321',\n",
       "        '63344', '63345', '63347', '63372', '63373', '63374', '63505',\n",
       "        '64388', '64510', '64511', '64571', '64572', '64634', '64711',\n",
       "        '64722', '64759', '64762', '64774', '64912', '64913', '65111',\n",
       "        '65125', '65194', '65204', '65209', '65253', '65259', '65260',\n",
       "        '65430', '65466', '65792', '66131', '66293', '664', '67264',\n",
       "        '67311', '67522', '67524', '68034', '68339', '69064', '69603',\n",
       "        '69609', '69631', '69634', '69709', '69713', '69945', '71529',\n",
       "        '72434', '72448', '72927', '72933', '72952', '73052', '73058',\n",
       "        '73059', '73737', '73747', '73754', '73811', '74737', '74776',\n",
       "        '74805', '75195', '75208', '75209', '75212', '75213', '75218',\n",
       "        '75224', '75242', '75263', '76681', '77545', '78016', '80443',\n",
       "        '80571', '80573', '80574', '81124', '81204', '84143', '84152',\n",
       "        '84172', '84187', '84197', '84207', '84217', '84222', '84224',\n",
       "        '84226', '84404', '86375', '86379', '86437', '86438', '86463',\n",
       "        '86502', '86531', '86558', '86624', '86669', '86698', '86881',\n",
       "        '86883', '87073', '87075', '87151', '87152', '87282', '87402',\n",
       "        '87484', '87509', '87615', '88185', '88290', '88354', '88369',\n",
       "        '89624', '89644', '89781', '901420', '903376', '903874', '904499',\n",
       "        '904600', '904615', '904692', '910621', '916890', '919485',\n",
       "        '926360', '927274', '928699', '936981', '937332', '940067',\n",
       "        '940190', '940591', '956796', '956797', '958744', '959845',\n",
       "        '961220', '962093', '964746', '965208', '965220', '965266',\n",
       "        '965268', '965283', '965344', '965460', '967757', '968339',\n",
       "        '969617', '969651', '974737', '974776', '975094', '976361',\n",
       "        '976365', '976367', '977872', '977877', '978293', '980018',\n",
       "        '982781', '984161', '984168', '984191', '984398', '984400',\n",
       "        '986463', '986502', '986509', '987407', '987507', '988849',\n",
       "        '989215', '989502', '989532', '994155', '994624', '999911',\n",
       "        '999993'], dtype=object),\n",
       " array(['10008', '100440', '100545', '100605', '100844', '101216',\n",
       "        '101217', '101299', '101346', '101428', '101534', '101561',\n",
       "        '101600', '101622', '10278', '10548', '10628', '10793', '10809',\n",
       "        '10838', '10935', '11298', '11348', '11588', '11912', '12408',\n",
       "        '12478', '12858', '12888', '13038', '13388', '13638', '13928',\n",
       "        '14199', '15248', '15258', '15628', '15832', '15945', '16098',\n",
       "        '16518', '16682', '16988', '17088', '17830', '17919', '17958',\n",
       "        '18103', '18198', '18351', '18408', '18858', '19028', '19068',\n",
       "        '19070', '19228', '19478', '20248', '20368', '21208', '21598',\n",
       "        '22123', '22158', '22207', '2226', '22788', '23268', '23278',\n",
       "        '23708', '23828', '23982', '24158', '24458', '24728', '25608',\n",
       "        '25878', '25992', '26589', '26758', '26828', '27022', '27741',\n",
       "        '27746', '27796', '28088', '28238', '28353', '28628', '28718',\n",
       "        '28868', '29115', '29288', '29423', '29568', '29712', '29728',\n",
       "        '29998', '30058', '30238', '30318', '30528', '31208', '31473',\n",
       "        '31496', '31658', '31718', '32238', '33569', '33660', '33665',\n",
       "        '34008', '34032', '34368', '34425', '34458', '34566', '34578',\n",
       "        '34598', '34748', '34759', '34821', '34919', '35213', '35245',\n",
       "        '35318', '35418', '35628', '35918', '35948', '36124', '36188',\n",
       "        '36356', '36578', '36650', '36668', '36733', '36875', '36900',\n",
       "        '36908', '36971', '36978', '37048', '37178', '37248', '37259',\n",
       "        '37304', '37338', '37348', '37418', '37665', '37888', '37938',\n",
       "        '37988', '37998', '38008', '38033', '38075', '38088', '3836',\n",
       "        '38508', '38519', '38581', '39421', '39753', '39868', '39919',\n",
       "        '40055', '40118', '4030', '40313', '40315', '40329', '41078',\n",
       "        '41625', '41681', '41692', '41848', '42009', '42718', '42984',\n",
       "        '43028', '43038', '43040', '43049', '43078', '43088', '43100',\n",
       "        '43112', '43120', '43128', '43138', '43208', '43318', '43323',\n",
       "        '43388', '43503', '43749', '43799', '43845', '43848', '43986',\n",
       "        '44081', '44259', '44308', '44333', '44340', '44348', '44658',\n",
       "        '45248', '45278', '45418', '45888', '46109', '46142', '46144',\n",
       "        '46350', '46499', '46506', '46528', '47002', '4718', '47788',\n",
       "        '4798', '48108', '4868', '4878', '49188', '5038', '52318', '52598',\n",
       "        '52835', '5288', '53218', '5349', '5360', '54448', '55068',\n",
       "        '55088', '558', '56782', '56783', '56856', '56874', '56942',\n",
       "        '56944', '56958', '57118', '57120', '57121', '57122', '57125',\n",
       "        '57129', '57144', '57146', '57148', '57150', '57157', '57158',\n",
       "        '57161', '57168', '57174', '57179', '57181', '57182', '57184',\n",
       "        '57279', '57303', '5844', '58801', '58838', '58840', '58842',\n",
       "        '58845', '58860', '58865', '58868', '58872', '58873', '58874',\n",
       "        '58875', '58877', '58886', '58895', '58897', '58898', '58899',\n",
       "        '58925', '59085', '59086', '59087', '59088', '59089', '59101',\n",
       "        '59154', '59159', '59161', '59162', '59163', '59173', '59175',\n",
       "        '59182', '59184', '59185', '59192', '59193', '59201', '59231',\n",
       "        '59850', '59852', '59854', '61618', '62061', '62400', '62405',\n",
       "        '62420', '62422', '63530', '63753', '63762', '63765', '63767',\n",
       "        '63959', '64138', '64868', '64904', '65198', '65258', '67037',\n",
       "        '67042', '67075', '67158', '67245', '67528', '68038', '68039',\n",
       "        '68128', '69638', '69658', '6998', '72505', '73054', '73803',\n",
       "        '73809', '75899', '76430', '76432', '76438', '76488', '77318',\n",
       "        '77324', '77779', '77994', '78129', '80058', '80422', '80458',\n",
       "        '80578', '81208', '8208', '82600', '82849', '86456', '86565',\n",
       "        '86673', '86694', '86888', '87410', '87938', '88015', '88118',\n",
       "        '88188', '8828', '88298', '88768', '89123', '89198', '89249',\n",
       "        '89268', '89388', '89470', '89621', '89838', '900138', '901369',\n",
       "        '901610', '902115', '902165', '902291', '902729', '902840',\n",
       "        '903025', '903261', '903464', '903486', '903707', '903776',\n",
       "        '903881', '903995', '904589', '904778', '904827', '904888',\n",
       "        '905339', '905818', '908806', '916098', '916398', '926229',\n",
       "        '927551', '9278', '930746', '931246', '934598', '934643', '935111',\n",
       "        '936076', '936600', '936859', '937276', '937599', '939930',\n",
       "        '940118', '941328', '942243', '9432', '943298', '944492', '944542',\n",
       "        '944559', '944650', '946218', '946574', '948167', '962094',\n",
       "        '962095', '962476', '962477', '964714', '966580', '968848',\n",
       "        '973520', '982618', '985298', '987513', '987514', '988063',\n",
       "        '989288', '989289', '989291', '989292', '994950', '994966',\n",
       "        '996028', '998546'], dtype=object)]"
      ]
     },
     "execution_count": 39,
     "metadata": {},
     "output_type": "execute_result"
    }
   ],
   "source": [
    "cluster_unique_items_list = list(unique_cluster_item_list_df.cluster_unique_items)\n",
    "cluster_unique_items_list"
   ]
  },
  {
   "cell_type": "markdown",
   "id": "c8bffb3d",
   "metadata": {},
   "source": [
    "#### create a list of the cluster names"
   ]
  },
  {
   "cell_type": "code",
   "execution_count": 40,
   "id": "e5adfe76",
   "metadata": {},
   "outputs": [
    {
     "data": {
      "text/plain": [
       "['Cheap',\n",
       " 'High_End',\n",
       " 'Moderately_High',\n",
       " 'Most_Variety',\n",
       " 'Popular_Bottles',\n",
       " 'Quick_Shots',\n",
       " 'Volume_For_Dollar']"
      ]
     },
     "execution_count": 40,
     "metadata": {},
     "output_type": "execute_result"
    }
   ],
   "source": [
    "cluster_list = list(unique_cluster_item_list_df.cluster_name)\n",
    "cluster_list"
   ]
  },
  {
   "cell_type": "markdown",
   "id": "f6f5b506",
   "metadata": {},
   "source": [
    "#### create a dictionary by zipping cluster_list and cluster_unique_items_list"
   ]
  },
  {
   "cell_type": "code",
   "execution_count": 41,
   "id": "03c758e8",
   "metadata": {},
   "outputs": [],
   "source": [
    "cluster_dict = dict(list(zip(cluster_list,cluster_unique_items_list)))"
   ]
  },
  {
   "cell_type": "code",
   "execution_count": 42,
   "id": "4f74582d",
   "metadata": {},
   "outputs": [
    {
     "data": {
      "text/plain": [
       "{'Cheap': 136,\n",
       " 'High_End': 157,\n",
       " 'Moderately_High': 877,\n",
       " 'Most_Variety': 2199,\n",
       " 'Popular_Bottles': 42,\n",
       " 'Quick_Shots': 436,\n",
       " 'Volume_For_Dollar': 454}"
      ]
     },
     "execution_count": 42,
     "metadata": {},
     "output_type": "execute_result"
    }
   ],
   "source": [
    "# use dictionary to get the length of each value which is the number of unique items in each cluster\n",
    "clust_len_dict={}\n",
    "for k,v in cluster_dict.items():\n",
    "    clust_len_dict[k] = len(v)\n",
    "    \n",
    "clust_len_dict  "
   ]
  },
  {
   "cell_type": "markdown",
   "id": "60b05745",
   "metadata": {},
   "source": [
    "#### test out cluster_dict"
   ]
  },
  {
   "cell_type": "code",
   "execution_count": 43,
   "id": "7f8adb73",
   "metadata": {},
   "outputs": [
    {
     "data": {
      "text/html": [
       "<div>\n",
       "<style scoped>\n",
       "    .dataframe tbody tr th:only-of-type {\n",
       "        vertical-align: middle;\n",
       "    }\n",
       "\n",
       "    .dataframe tbody tr th {\n",
       "        vertical-align: top;\n",
       "    }\n",
       "\n",
       "    .dataframe thead th {\n",
       "        text-align: right;\n",
       "    }\n",
       "</style>\n",
       "<table border=\"1\" class=\"dataframe\">\n",
       "  <thead>\n",
       "    <tr style=\"text-align: right;\">\n",
       "      <th></th>\n",
       "      <th>Store_Number</th>\n",
       "      <th>Store_Name</th>\n",
       "      <th>cluster_name</th>\n",
       "      <th>store_unique_items</th>\n",
       "    </tr>\n",
       "  </thead>\n",
       "  <tbody>\n",
       "    <tr>\n",
       "      <th>0</th>\n",
       "      <td>2106</td>\n",
       "      <td>Hillstreet News and Tobacco</td>\n",
       "      <td>Cheap</td>\n",
       "      <td>[37997, 73055, 19067, 69657, 89197, 19476, 481...</td>\n",
       "    </tr>\n",
       "    <tr>\n",
       "      <th>1</th>\n",
       "      <td>2106</td>\n",
       "      <td>Hillstreet News and Tobacco</td>\n",
       "      <td>High_End</td>\n",
       "      <td>[903179, 905960, 87078, 916809, 924575]</td>\n",
       "    </tr>\n",
       "  </tbody>\n",
       "</table>\n",
       "</div>"
      ],
      "text/plain": [
       "  Store_Number                   Store_Name cluster_name  \\\n",
       "0         2106  Hillstreet News and Tobacco        Cheap   \n",
       "1         2106  Hillstreet News and Tobacco     High_End   \n",
       "\n",
       "                                  store_unique_items  \n",
       "0  [37997, 73055, 19067, 69657, 89197, 19476, 481...  \n",
       "1            [903179, 905960, 87078, 916809, 924575]  "
      ]
     },
     "execution_count": 43,
     "metadata": {},
     "output_type": "execute_result"
    }
   ],
   "source": [
    "test_df = unique_store_item_list_df.head()\n",
    "unique_store_item_list_df.head(2)"
   ]
  },
  {
   "cell_type": "code",
   "execution_count": 44,
   "id": "480ce209",
   "metadata": {},
   "outputs": [
    {
     "data": {
      "text/plain": [
       "0    0.544118\n",
       "1    0.031847\n",
       "2    0.095781\n",
       "3    0.174625\n",
       "4    0.714286\n",
       "dtype: float64"
      ]
     },
     "execution_count": 44,
     "metadata": {},
     "output_type": "execute_result"
    }
   ],
   "source": [
    "test_df.apply(lambda x: len(x['store_unique_items'])/clust_len_dict[x['cluster_name']],axis=1)"
   ]
  },
  {
   "cell_type": "code",
   "execution_count": 45,
   "id": "cf0a9d41",
   "metadata": {},
   "outputs": [
    {
     "data": {
      "text/plain": [
       "0        0.544118\n",
       "1        0.031847\n",
       "2        0.095781\n",
       "3        0.174625\n",
       "4        0.714286\n",
       "           ...   \n",
       "11458    0.000910\n",
       "11459    0.004587\n",
       "11460    0.003638\n",
       "11461    0.001819\n",
       "11462    0.000910\n",
       "Length: 11463, dtype: float64"
      ]
     },
     "execution_count": 45,
     "metadata": {},
     "output_type": "execute_result"
    }
   ],
   "source": [
    "unique_store_item_list_df.apply(lambda x: len(x['store_unique_items'])/clust_len_dict[x['cluster_name']],axis=1)"
   ]
  },
  {
   "cell_type": "markdown",
   "id": "fe380347",
   "metadata": {},
   "source": [
    "#### add percent_unique_in_cluster to DataFrame"
   ]
  },
  {
   "cell_type": "code",
   "execution_count": 46,
   "id": "dec7af7c",
   "metadata": {},
   "outputs": [],
   "source": [
    "unique_store_item_list_df['percent_unique_in_cluster'] = unique_store_item_list_df.apply(lambda x: len(x['store_unique_items'])/clust_len_dict[x['cluster_name']],axis=1)"
   ]
  },
  {
   "cell_type": "code",
   "execution_count": 47,
   "id": "33bd39ee",
   "metadata": {},
   "outputs": [],
   "source": [
    "unique_store_item_list_df['percent_unique_in_cluster'] = unique_store_item_list_df['percent_unique_in_cluster']*100"
   ]
  },
  {
   "cell_type": "code",
   "execution_count": 48,
   "id": "7a5c2501",
   "metadata": {},
   "outputs": [
    {
     "data": {
      "text/html": [
       "<div>\n",
       "<style scoped>\n",
       "    .dataframe tbody tr th:only-of-type {\n",
       "        vertical-align: middle;\n",
       "    }\n",
       "\n",
       "    .dataframe tbody tr th {\n",
       "        vertical-align: top;\n",
       "    }\n",
       "\n",
       "    .dataframe thead th {\n",
       "        text-align: right;\n",
       "    }\n",
       "</style>\n",
       "<table border=\"1\" class=\"dataframe\">\n",
       "  <thead>\n",
       "    <tr style=\"text-align: right;\">\n",
       "      <th></th>\n",
       "      <th>Store_Number</th>\n",
       "      <th>Store_Name</th>\n",
       "      <th>cluster_name</th>\n",
       "      <th>store_unique_items</th>\n",
       "      <th>percent_unique_in_cluster</th>\n",
       "    </tr>\n",
       "  </thead>\n",
       "  <tbody>\n",
       "    <tr>\n",
       "      <th>0</th>\n",
       "      <td>2106</td>\n",
       "      <td>Hillstreet News and Tobacco</td>\n",
       "      <td>Cheap</td>\n",
       "      <td>[37997, 73055, 19067, 69657, 89197, 19476, 481...</td>\n",
       "      <td>54.411765</td>\n",
       "    </tr>\n",
       "    <tr>\n",
       "      <th>1</th>\n",
       "      <td>2106</td>\n",
       "      <td>Hillstreet News and Tobacco</td>\n",
       "      <td>High_End</td>\n",
       "      <td>[903179, 905960, 87078, 916809, 924575]</td>\n",
       "      <td>3.184713</td>\n",
       "    </tr>\n",
       "    <tr>\n",
       "      <th>2</th>\n",
       "      <td>2106</td>\n",
       "      <td>Hillstreet News and Tobacco</td>\n",
       "      <td>Moderately_High</td>\n",
       "      <td>[26906, 49086, 5036, 87485, 927041, 21540, 478...</td>\n",
       "      <td>9.578107</td>\n",
       "    </tr>\n",
       "    <tr>\n",
       "      <th>3</th>\n",
       "      <td>2106</td>\n",
       "      <td>Hillstreet News and Tobacco</td>\n",
       "      <td>Most_Variety</td>\n",
       "      <td>[89786, 8826, 65200, 65195, 89836, 77988, 8261...</td>\n",
       "      <td>17.462483</td>\n",
       "    </tr>\n",
       "    <tr>\n",
       "      <th>4</th>\n",
       "      <td>2106</td>\n",
       "      <td>Hillstreet News and Tobacco</td>\n",
       "      <td>Popular_Bottles</td>\n",
       "      <td>[88296, 15626, 11296, 10550, 43338, 11788, 381...</td>\n",
       "      <td>71.428571</td>\n",
       "    </tr>\n",
       "  </tbody>\n",
       "</table>\n",
       "</div>"
      ],
      "text/plain": [
       "  Store_Number                   Store_Name     cluster_name  \\\n",
       "0         2106  Hillstreet News and Tobacco            Cheap   \n",
       "1         2106  Hillstreet News and Tobacco         High_End   \n",
       "2         2106  Hillstreet News and Tobacco  Moderately_High   \n",
       "3         2106  Hillstreet News and Tobacco     Most_Variety   \n",
       "4         2106  Hillstreet News and Tobacco  Popular_Bottles   \n",
       "\n",
       "                                  store_unique_items  \\\n",
       "0  [37997, 73055, 19067, 69657, 89197, 19476, 481...   \n",
       "1            [903179, 905960, 87078, 916809, 924575]   \n",
       "2  [26906, 49086, 5036, 87485, 927041, 21540, 478...   \n",
       "3  [89786, 8826, 65200, 65195, 89836, 77988, 8261...   \n",
       "4  [88296, 15626, 11296, 10550, 43338, 11788, 381...   \n",
       "\n",
       "   percent_unique_in_cluster  \n",
       "0                  54.411765  \n",
       "1                   3.184713  \n",
       "2                   9.578107  \n",
       "3                  17.462483  \n",
       "4                  71.428571  "
      ]
     },
     "execution_count": 48,
     "metadata": {},
     "output_type": "execute_result"
    }
   ],
   "source": [
    "unique_store_item_list_df.head()"
   ]
  },
  {
   "cell_type": "markdown",
   "id": "57e576f2",
   "metadata": {},
   "source": [
    "#### use pivot table so that the values of cluster_name become columns and percent_unique_in_cluster become the values."
   ]
  },
  {
   "cell_type": "code",
   "execution_count": 49,
   "id": "3ef24476",
   "metadata": {},
   "outputs": [
    {
     "data": {
      "text/html": [
       "<div>\n",
       "<style scoped>\n",
       "    .dataframe tbody tr th:only-of-type {\n",
       "        vertical-align: middle;\n",
       "    }\n",
       "\n",
       "    .dataframe tbody tr th {\n",
       "        vertical-align: top;\n",
       "    }\n",
       "\n",
       "    .dataframe thead th {\n",
       "        text-align: right;\n",
       "    }\n",
       "</style>\n",
       "<table border=\"1\" class=\"dataframe\">\n",
       "  <thead>\n",
       "    <tr style=\"text-align: right;\">\n",
       "      <th>cluster_name</th>\n",
       "      <th>Cheap</th>\n",
       "      <th>High_End</th>\n",
       "      <th>Moderately_High</th>\n",
       "      <th>Most_Variety</th>\n",
       "      <th>Popular_Bottles</th>\n",
       "      <th>Quick_Shots</th>\n",
       "      <th>Volume_For_Dollar</th>\n",
       "    </tr>\n",
       "    <tr>\n",
       "      <th>Store_Number</th>\n",
       "      <th></th>\n",
       "      <th></th>\n",
       "      <th></th>\n",
       "      <th></th>\n",
       "      <th></th>\n",
       "      <th></th>\n",
       "      <th></th>\n",
       "    </tr>\n",
       "  </thead>\n",
       "  <tbody>\n",
       "    <tr>\n",
       "      <th>2106</th>\n",
       "      <td>54.411765</td>\n",
       "      <td>3.184713</td>\n",
       "      <td>9.578107</td>\n",
       "      <td>17.462483</td>\n",
       "      <td>71.428571</td>\n",
       "      <td>0.917431</td>\n",
       "      <td>9.691630</td>\n",
       "    </tr>\n",
       "    <tr>\n",
       "      <th>2130</th>\n",
       "      <td>65.441176</td>\n",
       "      <td>2.547771</td>\n",
       "      <td>4.104903</td>\n",
       "      <td>13.642565</td>\n",
       "      <td>90.476190</td>\n",
       "      <td>4.357798</td>\n",
       "      <td>11.453744</td>\n",
       "    </tr>\n",
       "    <tr>\n",
       "      <th>2178</th>\n",
       "      <td>6.617647</td>\n",
       "      <td>NaN</td>\n",
       "      <td>0.228050</td>\n",
       "      <td>0.591178</td>\n",
       "      <td>7.142857</td>\n",
       "      <td>0.458716</td>\n",
       "      <td>2.202643</td>\n",
       "    </tr>\n",
       "    <tr>\n",
       "      <th>2190</th>\n",
       "      <td>85.294118</td>\n",
       "      <td>50.955414</td>\n",
       "      <td>51.197263</td>\n",
       "      <td>46.202819</td>\n",
       "      <td>92.857143</td>\n",
       "      <td>34.174312</td>\n",
       "      <td>38.766520</td>\n",
       "    </tr>\n",
       "    <tr>\n",
       "      <th>2191</th>\n",
       "      <td>72.794118</td>\n",
       "      <td>13.375796</td>\n",
       "      <td>17.445838</td>\n",
       "      <td>27.012278</td>\n",
       "      <td>88.095238</td>\n",
       "      <td>17.660550</td>\n",
       "      <td>23.127753</td>\n",
       "    </tr>\n",
       "    <tr>\n",
       "      <th>2200</th>\n",
       "      <td>59.558824</td>\n",
       "      <td>3.184713</td>\n",
       "      <td>4.675029</td>\n",
       "      <td>17.098681</td>\n",
       "      <td>71.428571</td>\n",
       "      <td>11.467890</td>\n",
       "      <td>23.788546</td>\n",
       "    </tr>\n",
       "    <tr>\n",
       "      <th>2201</th>\n",
       "      <td>2.205882</td>\n",
       "      <td>1.910828</td>\n",
       "      <td>1.710376</td>\n",
       "      <td>0.181901</td>\n",
       "      <td>2.380952</td>\n",
       "      <td>0.458716</td>\n",
       "      <td>NaN</td>\n",
       "    </tr>\n",
       "    <tr>\n",
       "      <th>2228</th>\n",
       "      <td>66.176471</td>\n",
       "      <td>4.458599</td>\n",
       "      <td>6.157355</td>\n",
       "      <td>15.643474</td>\n",
       "      <td>80.952381</td>\n",
       "      <td>7.568807</td>\n",
       "      <td>17.841410</td>\n",
       "    </tr>\n",
       "    <tr>\n",
       "      <th>2233</th>\n",
       "      <td>50.735294</td>\n",
       "      <td>10.828025</td>\n",
       "      <td>12.314709</td>\n",
       "      <td>14.415643</td>\n",
       "      <td>76.190476</td>\n",
       "      <td>6.651376</td>\n",
       "      <td>25.770925</td>\n",
       "    </tr>\n",
       "    <tr>\n",
       "      <th>2238</th>\n",
       "      <td>12.500000</td>\n",
       "      <td>6.369427</td>\n",
       "      <td>5.131129</td>\n",
       "      <td>3.228740</td>\n",
       "      <td>16.666667</td>\n",
       "      <td>0.458716</td>\n",
       "      <td>6.387665</td>\n",
       "    </tr>\n",
       "  </tbody>\n",
       "</table>\n",
       "</div>"
      ],
      "text/plain": [
       "cluster_name      Cheap   High_End  Moderately_High  Most_Variety  \\\n",
       "Store_Number                                                        \n",
       "2106          54.411765   3.184713         9.578107     17.462483   \n",
       "2130          65.441176   2.547771         4.104903     13.642565   \n",
       "2178           6.617647        NaN         0.228050      0.591178   \n",
       "2190          85.294118  50.955414        51.197263     46.202819   \n",
       "2191          72.794118  13.375796        17.445838     27.012278   \n",
       "2200          59.558824   3.184713         4.675029     17.098681   \n",
       "2201           2.205882   1.910828         1.710376      0.181901   \n",
       "2228          66.176471   4.458599         6.157355     15.643474   \n",
       "2233          50.735294  10.828025        12.314709     14.415643   \n",
       "2238          12.500000   6.369427         5.131129      3.228740   \n",
       "\n",
       "cluster_name  Popular_Bottles  Quick_Shots  Volume_For_Dollar  \n",
       "Store_Number                                                   \n",
       "2106                71.428571     0.917431           9.691630  \n",
       "2130                90.476190     4.357798          11.453744  \n",
       "2178                 7.142857     0.458716           2.202643  \n",
       "2190                92.857143    34.174312          38.766520  \n",
       "2191                88.095238    17.660550          23.127753  \n",
       "2200                71.428571    11.467890          23.788546  \n",
       "2201                 2.380952     0.458716                NaN  \n",
       "2228                80.952381     7.568807          17.841410  \n",
       "2233                76.190476     6.651376          25.770925  \n",
       "2238                16.666667     0.458716           6.387665  "
      ]
     },
     "execution_count": 49,
     "metadata": {},
     "output_type": "execute_result"
    }
   ],
   "source": [
    "                      \n",
    "stores_percent_cluster_items = unique_store_item_list_df.pivot_table(index='Store_Number', columns ='cluster_name', values= 'percent_unique_in_cluster')\n",
    "stores_percent_cluster_items.head(10)"
   ]
  },
  {
   "cell_type": "code",
   "execution_count": 50,
   "id": "9a98f06c",
   "metadata": {},
   "outputs": [
    {
     "name": "stdout",
     "output_type": "stream",
     "text": [
      "stores_percent_cluster_items.shape =  (1948, 7)\n"
     ]
    },
    {
     "data": {
      "text/plain": [
       "[('High_End', 1237, 0.635),\n",
       " ('Moderately_High', 716, 0.3676),\n",
       " ('Volume_For_Dollar', 84, 0.0431),\n",
       " ('Quick_Shots', 82, 0.0421),\n",
       " ('Popular_Bottles', 19, 0.0098),\n",
       " ('Most_Variety', 18, 0.0092),\n",
       " ('Cheap', 17, 0.0087)]"
      ]
     },
     "execution_count": 50,
     "metadata": {},
     "output_type": "execute_result"
    }
   ],
   "source": [
    "print('stores_percent_cluster_items.shape = ',stores_percent_cluster_items.shape)\n",
    "miss_cols(stores_percent_cluster_items)"
   ]
  },
  {
   "cell_type": "code",
   "execution_count": 51,
   "id": "5e1c09d6",
   "metadata": {},
   "outputs": [
    {
     "name": "stdout",
     "output_type": "stream",
     "text": [
      "median Popular_Bottles =  59.523809523809526\n",
      "median Cheap =  30.14705882352941\n",
      "median Volume_For_Dollar =  3.1938325991189425\n"
     ]
    },
    {
     "data": {
      "text/html": [
       "<div>\n",
       "<style scoped>\n",
       "    .dataframe tbody tr th:only-of-type {\n",
       "        vertical-align: middle;\n",
       "    }\n",
       "\n",
       "    .dataframe tbody tr th {\n",
       "        vertical-align: top;\n",
       "    }\n",
       "\n",
       "    .dataframe thead th {\n",
       "        text-align: right;\n",
       "    }\n",
       "</style>\n",
       "<table border=\"1\" class=\"dataframe\">\n",
       "  <thead>\n",
       "    <tr style=\"text-align: right;\">\n",
       "      <th>cluster_name</th>\n",
       "      <th>Cheap</th>\n",
       "      <th>High_End</th>\n",
       "      <th>Moderately_High</th>\n",
       "      <th>Most_Variety</th>\n",
       "      <th>Popular_Bottles</th>\n",
       "      <th>Quick_Shots</th>\n",
       "      <th>Volume_For_Dollar</th>\n",
       "    </tr>\n",
       "  </thead>\n",
       "  <tbody>\n",
       "    <tr>\n",
       "      <th>count</th>\n",
       "      <td>1931.000000</td>\n",
       "      <td>711.000000</td>\n",
       "      <td>1232.000000</td>\n",
       "      <td>1930.000000</td>\n",
       "      <td>1929.000000</td>\n",
       "      <td>1866.000000</td>\n",
       "      <td>1864.000000</td>\n",
       "    </tr>\n",
       "    <tr>\n",
       "      <th>mean</th>\n",
       "      <td>33.742042</td>\n",
       "      <td>4.979978</td>\n",
       "      <td>3.796795</td>\n",
       "      <td>5.071712</td>\n",
       "      <td>58.293219</td>\n",
       "      <td>7.828279</td>\n",
       "      <td>8.230606</td>\n",
       "    </tr>\n",
       "    <tr>\n",
       "      <th>std</th>\n",
       "      <td>17.241448</td>\n",
       "      <td>5.927795</td>\n",
       "      <td>5.876391</td>\n",
       "      <td>7.626147</td>\n",
       "      <td>17.230466</td>\n",
       "      <td>8.972465</td>\n",
       "      <td>10.153001</td>\n",
       "    </tr>\n",
       "    <tr>\n",
       "      <th>min</th>\n",
       "      <td>0.735294</td>\n",
       "      <td>0.636943</td>\n",
       "      <td>0.114025</td>\n",
       "      <td>0.045475</td>\n",
       "      <td>2.380952</td>\n",
       "      <td>0.229358</td>\n",
       "      <td>0.220264</td>\n",
       "    </tr>\n",
       "    <tr>\n",
       "      <th>25%</th>\n",
       "      <td>22.794118</td>\n",
       "      <td>1.273885</td>\n",
       "      <td>0.342075</td>\n",
       "      <td>0.727603</td>\n",
       "      <td>47.619048</td>\n",
       "      <td>1.834862</td>\n",
       "      <td>1.321586</td>\n",
       "    </tr>\n",
       "    <tr>\n",
       "      <th>50%</th>\n",
       "      <td>30.147059</td>\n",
       "      <td>2.547771</td>\n",
       "      <td>1.368301</td>\n",
       "      <td>1.546157</td>\n",
       "      <td>59.523810</td>\n",
       "      <td>4.128440</td>\n",
       "      <td>3.193833</td>\n",
       "    </tr>\n",
       "    <tr>\n",
       "      <th>75%</th>\n",
       "      <td>41.911765</td>\n",
       "      <td>7.006369</td>\n",
       "      <td>4.675029</td>\n",
       "      <td>5.957253</td>\n",
       "      <td>69.047619</td>\n",
       "      <td>10.321101</td>\n",
       "      <td>12.334802</td>\n",
       "    </tr>\n",
       "    <tr>\n",
       "      <th>max</th>\n",
       "      <td>94.117647</td>\n",
       "      <td>50.955414</td>\n",
       "      <td>51.197263</td>\n",
       "      <td>49.022283</td>\n",
       "      <td>100.000000</td>\n",
       "      <td>56.422018</td>\n",
       "      <td>62.334802</td>\n",
       "    </tr>\n",
       "  </tbody>\n",
       "</table>\n",
       "</div>"
      ],
      "text/plain": [
       "cluster_name        Cheap    High_End  Moderately_High  Most_Variety  \\\n",
       "count         1931.000000  711.000000      1232.000000   1930.000000   \n",
       "mean            33.742042    4.979978         3.796795      5.071712   \n",
       "std             17.241448    5.927795         5.876391      7.626147   \n",
       "min              0.735294    0.636943         0.114025      0.045475   \n",
       "25%             22.794118    1.273885         0.342075      0.727603   \n",
       "50%             30.147059    2.547771         1.368301      1.546157   \n",
       "75%             41.911765    7.006369         4.675029      5.957253   \n",
       "max             94.117647   50.955414        51.197263     49.022283   \n",
       "\n",
       "cluster_name  Popular_Bottles  Quick_Shots  Volume_For_Dollar  \n",
       "count             1929.000000  1866.000000        1864.000000  \n",
       "mean                58.293219     7.828279           8.230606  \n",
       "std                 17.230466     8.972465          10.153001  \n",
       "min                  2.380952     0.229358           0.220264  \n",
       "25%                 47.619048     1.834862           1.321586  \n",
       "50%                 59.523810     4.128440           3.193833  \n",
       "75%                 69.047619    10.321101          12.334802  \n",
       "max                100.000000    56.422018          62.334802  "
      ]
     },
     "execution_count": 51,
     "metadata": {},
     "output_type": "execute_result"
    }
   ],
   "source": [
    "print('median Popular_Bottles = ',stores_percent_cluster_items.Popular_Bottles.median())\n",
    "print('median Cheap = ',stores_percent_cluster_items.Cheap.median())\n",
    "print('median Volume_For_Dollar = ',stores_percent_cluster_items.Volume_For_Dollar.median())\n",
    "stores_percent_cluster_items.describe()"
   ]
  },
  {
   "cell_type": "code",
   "execution_count": 52,
   "id": "bddf0be7",
   "metadata": {},
   "outputs": [],
   "source": [
    "# store_trans_cluster.groupby(['Store_Number','Store_Name','cluster_name'])['Item_Number'].nunique().reset_index() #numerator"
   ]
  },
  {
   "cell_type": "code",
   "execution_count": 53,
   "id": "186d82da",
   "metadata": {},
   "outputs": [],
   "source": [
    "# store_trans_cluster.groupby(['cluster_name']).agg({'Item_Number':['nunique'],'revenue':['sum'],'Bottle_Volume':['min','max','std','median'],'Bottles_Sold':['min','max','std', 'median', 'mean'],'Num_Stores_Selling':['min','max','std', 'median', 'mean'] })"
   ]
  },
  {
   "cell_type": "code",
   "execution_count": 54,
   "id": "f1e5ea39",
   "metadata": {},
   "outputs": [
    {
     "data": {
      "text/plain": [
       "Index(['Store_Number', 'Store_Name', 'Address', 'City', 'Zip_Code',\n",
       "       'Store_Location', 'County_Number', 'County', 'Vendor_Number',\n",
       "       'Item_Number', 'Category', 'revenue', 'Item_Description',\n",
       "       'Bottle_Volume', 'Bottle_Retail', 'Bottles_Sold', 'cluster_name',\n",
       "       'Num_Stores_Selling', 'New_Category_Name'],\n",
       "      dtype='object')"
      ]
     },
     "execution_count": 54,
     "metadata": {},
     "output_type": "execute_result"
    }
   ],
   "source": [
    "store_trans_cluster.columns"
   ]
  },
  {
   "cell_type": "code",
   "execution_count": null,
   "id": "b5a4eb43",
   "metadata": {},
   "outputs": [],
   "source": []
  },
  {
   "cell_type": "markdown",
   "id": "edf21042",
   "metadata": {},
   "source": [
    "##### create a DataFrame, store_revenue_per_cluster with the number of unique items in each cluster and the sum of revenue for each store"
   ]
  },
  {
   "cell_type": "code",
   "execution_count": 55,
   "id": "9cf3bb10",
   "metadata": {},
   "outputs": [
    {
     "data": {
      "text/html": [
       "<div>\n",
       "<style scoped>\n",
       "    .dataframe tbody tr th:only-of-type {\n",
       "        vertical-align: middle;\n",
       "    }\n",
       "\n",
       "    .dataframe tbody tr th {\n",
       "        vertical-align: top;\n",
       "    }\n",
       "\n",
       "    .dataframe thead th {\n",
       "        text-align: right;\n",
       "    }\n",
       "</style>\n",
       "<table border=\"1\" class=\"dataframe\">\n",
       "  <thead>\n",
       "    <tr style=\"text-align: right;\">\n",
       "      <th></th>\n",
       "      <th>Store_Number</th>\n",
       "      <th>Store_Name</th>\n",
       "      <th>cluster_name</th>\n",
       "      <th>cluster_revenue</th>\n",
       "      <th>Item_Number</th>\n",
       "      <th>item_count</th>\n",
       "    </tr>\n",
       "  </thead>\n",
       "  <tbody>\n",
       "    <tr>\n",
       "      <th>0</th>\n",
       "      <td>2106</td>\n",
       "      <td>Hillstreet News and Tobacco</td>\n",
       "      <td>Cheap</td>\n",
       "      <td>377242.30</td>\n",
       "      <td>74</td>\n",
       "      <td>1061</td>\n",
       "    </tr>\n",
       "    <tr>\n",
       "      <th>1</th>\n",
       "      <td>2106</td>\n",
       "      <td>Hillstreet News and Tobacco</td>\n",
       "      <td>High_End</td>\n",
       "      <td>856.16</td>\n",
       "      <td>5</td>\n",
       "      <td>5</td>\n",
       "    </tr>\n",
       "    <tr>\n",
       "      <th>2</th>\n",
       "      <td>2106</td>\n",
       "      <td>Hillstreet News and Tobacco</td>\n",
       "      <td>Moderately_High</td>\n",
       "      <td>33713.41</td>\n",
       "      <td>84</td>\n",
       "      <td>137</td>\n",
       "    </tr>\n",
       "    <tr>\n",
       "      <th>3</th>\n",
       "      <td>2106</td>\n",
       "      <td>Hillstreet News and Tobacco</td>\n",
       "      <td>Most_Variety</td>\n",
       "      <td>302190.49</td>\n",
       "      <td>384</td>\n",
       "      <td>1704</td>\n",
       "    </tr>\n",
       "    <tr>\n",
       "      <th>4</th>\n",
       "      <td>2106</td>\n",
       "      <td>Hillstreet News and Tobacco</td>\n",
       "      <td>Popular_Bottles</td>\n",
       "      <td>301574.88</td>\n",
       "      <td>30</td>\n",
       "      <td>557</td>\n",
       "    </tr>\n",
       "    <tr>\n",
       "      <th>5</th>\n",
       "      <td>2106</td>\n",
       "      <td>Hillstreet News and Tobacco</td>\n",
       "      <td>Quick_Shots</td>\n",
       "      <td>93.53</td>\n",
       "      <td>4</td>\n",
       "      <td>4</td>\n",
       "    </tr>\n",
       "    <tr>\n",
       "      <th>6</th>\n",
       "      <td>2106</td>\n",
       "      <td>Hillstreet News and Tobacco</td>\n",
       "      <td>Volume_For_Dollar</td>\n",
       "      <td>15653.07</td>\n",
       "      <td>44</td>\n",
       "      <td>144</td>\n",
       "    </tr>\n",
       "    <tr>\n",
       "      <th>7</th>\n",
       "      <td>2130</td>\n",
       "      <td>Sycamore Convenience</td>\n",
       "      <td>Cheap</td>\n",
       "      <td>437798.86</td>\n",
       "      <td>89</td>\n",
       "      <td>1080</td>\n",
       "    </tr>\n",
       "    <tr>\n",
       "      <th>8</th>\n",
       "      <td>2130</td>\n",
       "      <td>Sycamore Convenience</td>\n",
       "      <td>High_End</td>\n",
       "      <td>1246.10</td>\n",
       "      <td>4</td>\n",
       "      <td>4</td>\n",
       "    </tr>\n",
       "    <tr>\n",
       "      <th>9</th>\n",
       "      <td>2130</td>\n",
       "      <td>Sycamore Convenience</td>\n",
       "      <td>Moderately_High</td>\n",
       "      <td>28320.20</td>\n",
       "      <td>36</td>\n",
       "      <td>97</td>\n",
       "    </tr>\n",
       "  </tbody>\n",
       "</table>\n",
       "</div>"
      ],
      "text/plain": [
       "  Store_Number                   Store_Name       cluster_name  \\\n",
       "0         2106  Hillstreet News and Tobacco              Cheap   \n",
       "1         2106  Hillstreet News and Tobacco           High_End   \n",
       "2         2106  Hillstreet News and Tobacco    Moderately_High   \n",
       "3         2106  Hillstreet News and Tobacco       Most_Variety   \n",
       "4         2106  Hillstreet News and Tobacco    Popular_Bottles   \n",
       "5         2106  Hillstreet News and Tobacco        Quick_Shots   \n",
       "6         2106  Hillstreet News and Tobacco  Volume_For_Dollar   \n",
       "7         2130         Sycamore Convenience              Cheap   \n",
       "8         2130         Sycamore Convenience           High_End   \n",
       "9         2130         Sycamore Convenience    Moderately_High   \n",
       "\n",
       "   cluster_revenue  Item_Number  item_count  \n",
       "0        377242.30           74        1061  \n",
       "1           856.16            5           5  \n",
       "2         33713.41           84         137  \n",
       "3        302190.49          384        1704  \n",
       "4        301574.88           30         557  \n",
       "5            93.53            4           4  \n",
       "6         15653.07           44         144  \n",
       "7        437798.86           89        1080  \n",
       "8          1246.10            4           4  \n",
       "9         28320.20           36          97  "
      ]
     },
     "execution_count": 55,
     "metadata": {},
     "output_type": "execute_result"
    }
   ],
   "source": [
    "# pd.options.display.float_format = '{:.2f}'.format\n",
    "\n",
    "\n",
    "\n",
    "store_revenue_per_cluster =store_trans_cluster.groupby(['Store_Number','Store_Name','cluster_name']).agg({'revenue':'sum', 'Item_Number':'nunique','Item_Description':'count'}).reset_index()\n",
    "# store_revenue_per_cluster\n",
    "store_revenue_per_cluster.rename({'revenue':'cluster_revenue','Item_Description':'item_count'} ,axis=1, inplace=True)\n",
    "store_revenue_per_cluster.head(10)"
   ]
  },
  {
   "cell_type": "code",
   "execution_count": 56,
   "id": "bf1b78f3",
   "metadata": {},
   "outputs": [
    {
     "name": "stdout",
     "output_type": "stream",
     "text": [
      "<class 'pandas.core.frame.DataFrame'>\n",
      "RangeIndex: 11463 entries, 0 to 11462\n",
      "Data columns (total 6 columns):\n",
      " #   Column           Non-Null Count  Dtype  \n",
      "---  ------           --------------  -----  \n",
      " 0   Store_Number     11463 non-null  object \n",
      " 1   Store_Name       11463 non-null  object \n",
      " 2   cluster_name     11463 non-null  object \n",
      " 3   cluster_revenue  11463 non-null  float64\n",
      " 4   Item_Number      11463 non-null  int64  \n",
      " 5   item_count       11463 non-null  int64  \n",
      "dtypes: float64(1), int64(2), object(3)\n",
      "memory usage: 537.5+ KB\n"
     ]
    }
   ],
   "source": [
    "store_revenue_per_cluster.info()"
   ]
  },
  {
   "cell_type": "code",
   "execution_count": 57,
   "id": "d1ce5a49",
   "metadata": {},
   "outputs": [
    {
     "data": {
      "text/html": [
       "<div>\n",
       "<style scoped>\n",
       "    .dataframe tbody tr th:only-of-type {\n",
       "        vertical-align: middle;\n",
       "    }\n",
       "\n",
       "    .dataframe tbody tr th {\n",
       "        vertical-align: top;\n",
       "    }\n",
       "\n",
       "    .dataframe thead th {\n",
       "        text-align: right;\n",
       "    }\n",
       "</style>\n",
       "<table border=\"1\" class=\"dataframe\">\n",
       "  <thead>\n",
       "    <tr style=\"text-align: right;\">\n",
       "      <th></th>\n",
       "      <th>Store_Number</th>\n",
       "      <th>Store_Name</th>\n",
       "      <th>revenue</th>\n",
       "      <th>Item_Number</th>\n",
       "      <th>cluster_name</th>\n",
       "    </tr>\n",
       "  </thead>\n",
       "  <tbody>\n",
       "    <tr>\n",
       "      <th>0</th>\n",
       "      <td>2106</td>\n",
       "      <td>Hillstreet News and Tobacco</td>\n",
       "      <td>1031323.84</td>\n",
       "      <td>625</td>\n",
       "      <td>7</td>\n",
       "    </tr>\n",
       "    <tr>\n",
       "      <th>1</th>\n",
       "      <td>2130</td>\n",
       "      <td>Sycamore Convenience</td>\n",
       "      <td>1239675.62</td>\n",
       "      <td>538</td>\n",
       "      <td>7</td>\n",
       "    </tr>\n",
       "    <tr>\n",
       "      <th>2</th>\n",
       "      <td>2178</td>\n",
       "      <td>Double D Liquor Store</td>\n",
       "      <td>2933.14</td>\n",
       "      <td>39</td>\n",
       "      <td>6</td>\n",
       "    </tr>\n",
       "    <tr>\n",
       "      <th>3</th>\n",
       "      <td>2190</td>\n",
       "      <td>Central City Liquor, Inc.</td>\n",
       "      <td>2592131.44</td>\n",
       "      <td>2025</td>\n",
       "      <td>7</td>\n",
       "    </tr>\n",
       "    <tr>\n",
       "      <th>4</th>\n",
       "      <td>2191</td>\n",
       "      <td>Keokuk Spirits</td>\n",
       "      <td>1342435.98</td>\n",
       "      <td>1086</td>\n",
       "      <td>7</td>\n",
       "    </tr>\n",
       "    <tr>\n",
       "      <th>...</th>\n",
       "      <td>...</td>\n",
       "      <td>...</td>\n",
       "      <td>...</td>\n",
       "      <td>...</td>\n",
       "      <td>...</td>\n",
       "    </tr>\n",
       "    <tr>\n",
       "      <th>1943</th>\n",
       "      <td>9042</td>\n",
       "      <td>American Heritage Distillers, LLC</td>\n",
       "      <td>62948.64</td>\n",
       "      <td>14</td>\n",
       "      <td>3</td>\n",
       "    </tr>\n",
       "    <tr>\n",
       "      <th>1944</th>\n",
       "      <td>9046</td>\n",
       "      <td>Rock River Distillation Company</td>\n",
       "      <td>14850.00</td>\n",
       "      <td>4</td>\n",
       "      <td>2</td>\n",
       "    </tr>\n",
       "    <tr>\n",
       "      <th>1945</th>\n",
       "      <td>9047</td>\n",
       "      <td>Revelton Distilling Company</td>\n",
       "      <td>141291.00</td>\n",
       "      <td>8</td>\n",
       "      <td>1</td>\n",
       "    </tr>\n",
       "    <tr>\n",
       "      <th>1946</th>\n",
       "      <td>9048</td>\n",
       "      <td>Artisan Grain Distillery</td>\n",
       "      <td>12437.52</td>\n",
       "      <td>4</td>\n",
       "      <td>1</td>\n",
       "    </tr>\n",
       "    <tr>\n",
       "      <th>1947</th>\n",
       "      <td>9049</td>\n",
       "      <td>TYCOGA Vineyard &amp; Winery</td>\n",
       "      <td>9205.20</td>\n",
       "      <td>2</td>\n",
       "      <td>1</td>\n",
       "    </tr>\n",
       "  </tbody>\n",
       "</table>\n",
       "<p>1948 rows × 5 columns</p>\n",
       "</div>"
      ],
      "text/plain": [
       "     Store_Number                         Store_Name     revenue  Item_Number  \\\n",
       "0            2106        Hillstreet News and Tobacco  1031323.84          625   \n",
       "1            2130               Sycamore Convenience  1239675.62          538   \n",
       "2            2178              Double D Liquor Store     2933.14           39   \n",
       "3            2190          Central City Liquor, Inc.  2592131.44         2025   \n",
       "4            2191                     Keokuk Spirits  1342435.98         1086   \n",
       "...           ...                                ...         ...          ...   \n",
       "1943         9042  American Heritage Distillers, LLC    62948.64           14   \n",
       "1944         9046    Rock River Distillation Company    14850.00            4   \n",
       "1945         9047        Revelton Distilling Company   141291.00            8   \n",
       "1946         9048           Artisan Grain Distillery    12437.52            4   \n",
       "1947         9049           TYCOGA Vineyard & Winery     9205.20            2   \n",
       "\n",
       "      cluster_name  \n",
       "0                7  \n",
       "1                7  \n",
       "2                6  \n",
       "3                7  \n",
       "4                7  \n",
       "...            ...  \n",
       "1943             3  \n",
       "1944             2  \n",
       "1945             1  \n",
       "1946             1  \n",
       "1947             1  \n",
       "\n",
       "[1948 rows x 5 columns]"
      ]
     },
     "execution_count": 57,
     "metadata": {},
     "output_type": "execute_result"
    }
   ],
   "source": [
    "store_trans_cluster.groupby(['Store_Number','Store_Name']).agg({'revenue':'sum', 'Item_Number':'nunique','cluster_name':'nunique'}).reset_index()"
   ]
  },
  {
   "cell_type": "markdown",
   "id": "4a8227a2",
   "metadata": {},
   "source": [
    "##### create a DataFrame stores_revenue  to get the sum of revenue, number of unique items, num_unique_clusters and tot_item_count for each store"
   ]
  },
  {
   "cell_type": "code",
   "execution_count": 58,
   "id": "d3113b8f",
   "metadata": {},
   "outputs": [
    {
     "data": {
      "text/html": [
       "<div>\n",
       "<style scoped>\n",
       "    .dataframe tbody tr th:only-of-type {\n",
       "        vertical-align: middle;\n",
       "    }\n",
       "\n",
       "    .dataframe tbody tr th {\n",
       "        vertical-align: top;\n",
       "    }\n",
       "\n",
       "    .dataframe thead th {\n",
       "        text-align: right;\n",
       "    }\n",
       "</style>\n",
       "<table border=\"1\" class=\"dataframe\">\n",
       "  <thead>\n",
       "    <tr style=\"text-align: right;\">\n",
       "      <th></th>\n",
       "      <th>Store_Name</th>\n",
       "      <th>store_revenue</th>\n",
       "      <th>tot_num_unique_items</th>\n",
       "      <th>num_unique_clusters</th>\n",
       "      <th>tot_item_count</th>\n",
       "    </tr>\n",
       "    <tr>\n",
       "      <th>Store_Number</th>\n",
       "      <th></th>\n",
       "      <th></th>\n",
       "      <th></th>\n",
       "      <th></th>\n",
       "      <th></th>\n",
       "    </tr>\n",
       "  </thead>\n",
       "  <tbody>\n",
       "    <tr>\n",
       "      <th>2106</th>\n",
       "      <td>Hillstreet News and Tobacco</td>\n",
       "      <td>1031323.84</td>\n",
       "      <td>625</td>\n",
       "      <td>7</td>\n",
       "      <td>3612</td>\n",
       "    </tr>\n",
       "    <tr>\n",
       "      <th>2130</th>\n",
       "      <td>Sycamore Convenience</td>\n",
       "      <td>1239675.62</td>\n",
       "      <td>538</td>\n",
       "      <td>7</td>\n",
       "      <td>3273</td>\n",
       "    </tr>\n",
       "    <tr>\n",
       "      <th>2178</th>\n",
       "      <td>Double D Liquor Store</td>\n",
       "      <td>2933.14</td>\n",
       "      <td>39</td>\n",
       "      <td>6</td>\n",
       "      <td>39</td>\n",
       "    </tr>\n",
       "    <tr>\n",
       "      <th>2190</th>\n",
       "      <td>Central City Liquor, Inc.</td>\n",
       "      <td>2592131.44</td>\n",
       "      <td>2025</td>\n",
       "      <td>7</td>\n",
       "      <td>15428</td>\n",
       "    </tr>\n",
       "    <tr>\n",
       "      <th>2191</th>\n",
       "      <td>Keokuk Spirits</td>\n",
       "      <td>1342435.98</td>\n",
       "      <td>1086</td>\n",
       "      <td>7</td>\n",
       "      <td>6445</td>\n",
       "    </tr>\n",
       "  </tbody>\n",
       "</table>\n",
       "</div>"
      ],
      "text/plain": [
       "                               Store_Name  store_revenue  \\\n",
       "Store_Number                                               \n",
       "2106          Hillstreet News and Tobacco     1031323.84   \n",
       "2130                 Sycamore Convenience     1239675.62   \n",
       "2178                Double D Liquor Store        2933.14   \n",
       "2190            Central City Liquor, Inc.     2592131.44   \n",
       "2191                       Keokuk Spirits     1342435.98   \n",
       "\n",
       "              tot_num_unique_items  num_unique_clusters  tot_item_count  \n",
       "Store_Number                                                             \n",
       "2106                           625                    7            3612  \n",
       "2130                           538                    7            3273  \n",
       "2178                            39                    6              39  \n",
       "2190                          2025                    7           15428  \n",
       "2191                          1086                    7            6445  "
      ]
     },
     "execution_count": 58,
     "metadata": {},
     "output_type": "execute_result"
    }
   ],
   "source": [
    "stores_revenue = store_trans_cluster.groupby(['Store_Number','Store_Name']).agg({'revenue':'sum', 'Item_Number':'nunique','cluster_name':'nunique', 'Item_Description':'count'}).reset_index()\n",
    "stores_revenue.rename({'revenue':'store_revenue','cluster_name':'num_unique_clusters','Item_Number':'tot_num_unique_items', 'Item_Description':'tot_item_count'} ,axis=1, inplace=True)\n",
    "stores_revenue = stores_revenue.set_index('Store_Number')\n",
    "stores_revenue.head()"
   ]
  },
  {
   "cell_type": "markdown",
   "id": "61a1537f",
   "metadata": {},
   "source": [
    "frequency distribution of the number of stores that have 1 to 7 clusters in merchandise purchased"
   ]
  },
  {
   "cell_type": "code",
   "execution_count": 59,
   "id": "aa7b5059",
   "metadata": {},
   "outputs": [
    {
     "data": {
      "text/html": [
       "<div>\n",
       "<style scoped>\n",
       "    .dataframe tbody tr th:only-of-type {\n",
       "        vertical-align: middle;\n",
       "    }\n",
       "\n",
       "    .dataframe tbody tr th {\n",
       "        vertical-align: top;\n",
       "    }\n",
       "\n",
       "    .dataframe thead th {\n",
       "        text-align: right;\n",
       "    }\n",
       "</style>\n",
       "<table border=\"1\" class=\"dataframe\">\n",
       "  <thead>\n",
       "    <tr style=\"text-align: right;\">\n",
       "      <th></th>\n",
       "      <th>num_unique_clusters</th>\n",
       "      <th>Frequency</th>\n",
       "      <th>Percent</th>\n",
       "      <th>Cumulative_Frequency</th>\n",
       "      <th>Cumulative_Percent</th>\n",
       "    </tr>\n",
       "  </thead>\n",
       "  <tbody>\n",
       "    <tr>\n",
       "      <th>0</th>\n",
       "      <td>1</td>\n",
       "      <td>5</td>\n",
       "      <td>0.26</td>\n",
       "      <td>5</td>\n",
       "      <td>0.26</td>\n",
       "    </tr>\n",
       "    <tr>\n",
       "      <th>1</th>\n",
       "      <td>2</td>\n",
       "      <td>9</td>\n",
       "      <td>0.46</td>\n",
       "      <td>14</td>\n",
       "      <td>0.72</td>\n",
       "    </tr>\n",
       "    <tr>\n",
       "      <th>2</th>\n",
       "      <td>3</td>\n",
       "      <td>15</td>\n",
       "      <td>0.77</td>\n",
       "      <td>29</td>\n",
       "      <td>1.49</td>\n",
       "    </tr>\n",
       "    <tr>\n",
       "      <th>3</th>\n",
       "      <td>4</td>\n",
       "      <td>74</td>\n",
       "      <td>3.80</td>\n",
       "      <td>103</td>\n",
       "      <td>5.29</td>\n",
       "    </tr>\n",
       "    <tr>\n",
       "      <th>4</th>\n",
       "      <td>5</td>\n",
       "      <td>655</td>\n",
       "      <td>33.62</td>\n",
       "      <td>758</td>\n",
       "      <td>38.91</td>\n",
       "    </tr>\n",
       "    <tr>\n",
       "      <th>5</th>\n",
       "      <td>6</td>\n",
       "      <td>506</td>\n",
       "      <td>25.98</td>\n",
       "      <td>1264</td>\n",
       "      <td>64.89</td>\n",
       "    </tr>\n",
       "    <tr>\n",
       "      <th>6</th>\n",
       "      <td>7</td>\n",
       "      <td>684</td>\n",
       "      <td>35.11</td>\n",
       "      <td>1948</td>\n",
       "      <td>100.00</td>\n",
       "    </tr>\n",
       "  </tbody>\n",
       "</table>\n",
       "</div>"
      ],
      "text/plain": [
       "   num_unique_clusters  Frequency  Percent  Cumulative_Frequency  \\\n",
       "0                    1          5     0.26                     5   \n",
       "1                    2          9     0.46                    14   \n",
       "2                    3         15     0.77                    29   \n",
       "3                    4         74     3.80                   103   \n",
       "4                    5        655    33.62                   758   \n",
       "5                    6        506    25.98                  1264   \n",
       "6                    7        684    35.11                  1948   \n",
       "\n",
       "   Cumulative_Percent  \n",
       "0                0.26  \n",
       "1                0.72  \n",
       "2                1.49  \n",
       "3                5.29  \n",
       "4               38.91  \n",
       "5               64.89  \n",
       "6              100.00  "
      ]
     },
     "execution_count": 59,
     "metadata": {},
     "output_type": "execute_result"
    }
   ],
   "source": [
    "proc_freq(stores_revenue,'num_unique_clusters')"
   ]
  },
  {
   "cell_type": "markdown",
   "id": "097216fd",
   "metadata": {},
   "source": [
    "##### merge DataFrames store_revenue_per_cluster and stores_revenue  so can calculate % revenue from each cluster within each store"
   ]
  },
  {
   "cell_type": "code",
   "execution_count": 60,
   "id": "0bd109f6",
   "metadata": {},
   "outputs": [],
   "source": [
    "# stores.merge(trans, how='inner', on=['Store_Number'])\n",
    "sTores_revenue_combined =  store_revenue_per_cluster.merge(stores_revenue, how='inner', on=['Store_Number','Store_Name'])"
   ]
  },
  {
   "cell_type": "code",
   "execution_count": 61,
   "id": "993fbdaa",
   "metadata": {},
   "outputs": [
    {
     "data": {
      "text/plain": [
       "Index(['Store_Number', 'Store_Name', 'cluster_name', 'cluster_revenue',\n",
       "       'Item_Number', 'item_count', 'store_revenue', 'tot_num_unique_items',\n",
       "       'num_unique_clusters', 'tot_item_count'],\n",
       "      dtype='object')"
      ]
     },
     "execution_count": 61,
     "metadata": {},
     "output_type": "execute_result"
    }
   ],
   "source": [
    "sTores_revenue_combined.columns"
   ]
  },
  {
   "cell_type": "code",
   "execution_count": 62,
   "id": "48d80c51",
   "metadata": {},
   "outputs": [],
   "source": [
    "sTores_revenue_combined['revenue_pct'] = sTores_revenue_combined['cluster_revenue']/sTores_revenue_combined['store_revenue']*100\n",
    "\n",
    "sTores_revenue_combined['item_pct'] =sTores_revenue_combined.Item_Number/sTores_revenue_combined.tot_num_unique_items *100\n",
    "\n",
    "sTores_revenue_combined['prod_count_pct'] = sTores_revenue_combined.item_count / sTores_revenue_combined.tot_item_count *100"
   ]
  },
  {
   "cell_type": "code",
   "execution_count": 63,
   "id": "ed2e95a5",
   "metadata": {
    "scrolled": false
   },
   "outputs": [
    {
     "data": {
      "text/html": [
       "<div>\n",
       "<style scoped>\n",
       "    .dataframe tbody tr th:only-of-type {\n",
       "        vertical-align: middle;\n",
       "    }\n",
       "\n",
       "    .dataframe tbody tr th {\n",
       "        vertical-align: top;\n",
       "    }\n",
       "\n",
       "    .dataframe thead th {\n",
       "        text-align: right;\n",
       "    }\n",
       "</style>\n",
       "<table border=\"1\" class=\"dataframe\">\n",
       "  <thead>\n",
       "    <tr style=\"text-align: right;\">\n",
       "      <th></th>\n",
       "      <th>Store_Number</th>\n",
       "      <th>Store_Name</th>\n",
       "      <th>cluster_name</th>\n",
       "      <th>cluster_revenue</th>\n",
       "      <th>Item_Number</th>\n",
       "      <th>item_count</th>\n",
       "      <th>store_revenue</th>\n",
       "      <th>tot_num_unique_items</th>\n",
       "      <th>num_unique_clusters</th>\n",
       "      <th>tot_item_count</th>\n",
       "      <th>revenue_pct</th>\n",
       "      <th>item_pct</th>\n",
       "      <th>prod_count_pct</th>\n",
       "    </tr>\n",
       "  </thead>\n",
       "  <tbody>\n",
       "    <tr>\n",
       "      <th>0</th>\n",
       "      <td>2106</td>\n",
       "      <td>Hillstreet News and Tobacco</td>\n",
       "      <td>Cheap</td>\n",
       "      <td>377242.30</td>\n",
       "      <td>74</td>\n",
       "      <td>1061</td>\n",
       "      <td>1031323.84</td>\n",
       "      <td>625</td>\n",
       "      <td>7</td>\n",
       "      <td>3612</td>\n",
       "      <td>36.578452</td>\n",
       "      <td>11.84</td>\n",
       "      <td>29.374308</td>\n",
       "    </tr>\n",
       "    <tr>\n",
       "      <th>1</th>\n",
       "      <td>2106</td>\n",
       "      <td>Hillstreet News and Tobacco</td>\n",
       "      <td>High_End</td>\n",
       "      <td>856.16</td>\n",
       "      <td>5</td>\n",
       "      <td>5</td>\n",
       "      <td>1031323.84</td>\n",
       "      <td>625</td>\n",
       "      <td>7</td>\n",
       "      <td>3612</td>\n",
       "      <td>0.083016</td>\n",
       "      <td>0.80</td>\n",
       "      <td>0.138427</td>\n",
       "    </tr>\n",
       "    <tr>\n",
       "      <th>2</th>\n",
       "      <td>2106</td>\n",
       "      <td>Hillstreet News and Tobacco</td>\n",
       "      <td>Moderately_High</td>\n",
       "      <td>33713.41</td>\n",
       "      <td>84</td>\n",
       "      <td>137</td>\n",
       "      <td>1031323.84</td>\n",
       "      <td>625</td>\n",
       "      <td>7</td>\n",
       "      <td>3612</td>\n",
       "      <td>3.268945</td>\n",
       "      <td>13.44</td>\n",
       "      <td>3.792913</td>\n",
       "    </tr>\n",
       "    <tr>\n",
       "      <th>3</th>\n",
       "      <td>2106</td>\n",
       "      <td>Hillstreet News and Tobacco</td>\n",
       "      <td>Most_Variety</td>\n",
       "      <td>302190.49</td>\n",
       "      <td>384</td>\n",
       "      <td>1704</td>\n",
       "      <td>1031323.84</td>\n",
       "      <td>625</td>\n",
       "      <td>7</td>\n",
       "      <td>3612</td>\n",
       "      <td>29.301222</td>\n",
       "      <td>61.44</td>\n",
       "      <td>47.176080</td>\n",
       "    </tr>\n",
       "    <tr>\n",
       "      <th>4</th>\n",
       "      <td>2106</td>\n",
       "      <td>Hillstreet News and Tobacco</td>\n",
       "      <td>Popular_Bottles</td>\n",
       "      <td>301574.88</td>\n",
       "      <td>30</td>\n",
       "      <td>557</td>\n",
       "      <td>1031323.84</td>\n",
       "      <td>625</td>\n",
       "      <td>7</td>\n",
       "      <td>3612</td>\n",
       "      <td>29.241531</td>\n",
       "      <td>4.80</td>\n",
       "      <td>15.420819</td>\n",
       "    </tr>\n",
       "  </tbody>\n",
       "</table>\n",
       "</div>"
      ],
      "text/plain": [
       "  Store_Number                   Store_Name     cluster_name  cluster_revenue  \\\n",
       "0         2106  Hillstreet News and Tobacco            Cheap        377242.30   \n",
       "1         2106  Hillstreet News and Tobacco         High_End           856.16   \n",
       "2         2106  Hillstreet News and Tobacco  Moderately_High         33713.41   \n",
       "3         2106  Hillstreet News and Tobacco     Most_Variety        302190.49   \n",
       "4         2106  Hillstreet News and Tobacco  Popular_Bottles        301574.88   \n",
       "\n",
       "   Item_Number  item_count  store_revenue  tot_num_unique_items  \\\n",
       "0           74        1061     1031323.84                   625   \n",
       "1            5           5     1031323.84                   625   \n",
       "2           84         137     1031323.84                   625   \n",
       "3          384        1704     1031323.84                   625   \n",
       "4           30         557     1031323.84                   625   \n",
       "\n",
       "   num_unique_clusters  tot_item_count  revenue_pct  item_pct  prod_count_pct  \n",
       "0                    7            3612    36.578452     11.84       29.374308  \n",
       "1                    7            3612     0.083016      0.80        0.138427  \n",
       "2                    7            3612     3.268945     13.44        3.792913  \n",
       "3                    7            3612    29.301222     61.44       47.176080  \n",
       "4                    7            3612    29.241531      4.80       15.420819  "
      ]
     },
     "execution_count": 63,
     "metadata": {},
     "output_type": "execute_result"
    }
   ],
   "source": [
    "pd.set_option('display.max_columns', None)\n",
    "# sTores_revenue_combined = sTores_revenue_combined.reset_index()\n",
    "sTores_revenue_combined.head(5)"
   ]
  },
  {
   "cell_type": "markdown",
   "id": "ebbb6a89",
   "metadata": {},
   "source": [
    "##### use pivot_table so the values of cluster_name become the columns and revenue_pct becomes the values"
   ]
  },
  {
   "cell_type": "code",
   "execution_count": 64,
   "id": "a18ea58e",
   "metadata": {},
   "outputs": [
    {
     "name": "stdout",
     "output_type": "stream",
     "text": [
      "['Cheap', 'High_End', 'Moderately_High', 'Most_Variety', 'Popular_Bottles', 'Quick_Shots', 'Volume_For_Dollar']\n"
     ]
    },
    {
     "data": {
      "text/plain": [
       "[('High_End', 1237, 0.635),\n",
       " ('Moderately_High', 716, 0.3676),\n",
       " ('Volume_For_Dollar', 84, 0.0431),\n",
       " ('Quick_Shots', 82, 0.0421),\n",
       " ('Popular_Bottles', 19, 0.0098),\n",
       " ('Most_Variety', 18, 0.0092),\n",
       " ('Cheap', 17, 0.0087)]"
      ]
     },
     "execution_count": 64,
     "metadata": {},
     "output_type": "execute_result"
    }
   ],
   "source": [
    "# df.pivot(columns = 'var', values='val')\n",
    "stores_rev_pct = sTores_revenue_combined.pivot_table(index='Store_Number', columns = 'cluster_name', values = 'revenue_pct')\n",
    "print(list(stores_rev_pct.columns))\n",
    "miss_cols(stores_rev_pct)"
   ]
  },
  {
   "cell_type": "code",
   "execution_count": 65,
   "id": "9c42d3c6",
   "metadata": {},
   "outputs": [],
   "source": [
    "stores_rev_pct.columns = ['rev_Cheap', 'rev_High_End', 'rev_Moderately_High', 'rev_Most_Variety', 'rev_Popular_Bottles', 'rev_Quick_Shots', 'rev_Volume_For_Dollar']"
   ]
  },
  {
   "cell_type": "code",
   "execution_count": 66,
   "id": "4b0b73fb",
   "metadata": {},
   "outputs": [
    {
     "data": {
      "text/html": [
       "<div>\n",
       "<style scoped>\n",
       "    .dataframe tbody tr th:only-of-type {\n",
       "        vertical-align: middle;\n",
       "    }\n",
       "\n",
       "    .dataframe tbody tr th {\n",
       "        vertical-align: top;\n",
       "    }\n",
       "\n",
       "    .dataframe thead th {\n",
       "        text-align: right;\n",
       "    }\n",
       "</style>\n",
       "<table border=\"1\" class=\"dataframe\">\n",
       "  <thead>\n",
       "    <tr style=\"text-align: right;\">\n",
       "      <th></th>\n",
       "      <th>rev_Cheap</th>\n",
       "      <th>rev_High_End</th>\n",
       "      <th>rev_Moderately_High</th>\n",
       "      <th>rev_Most_Variety</th>\n",
       "      <th>rev_Popular_Bottles</th>\n",
       "      <th>rev_Quick_Shots</th>\n",
       "      <th>rev_Volume_For_Dollar</th>\n",
       "    </tr>\n",
       "    <tr>\n",
       "      <th>Store_Number</th>\n",
       "      <th></th>\n",
       "      <th></th>\n",
       "      <th></th>\n",
       "      <th></th>\n",
       "      <th></th>\n",
       "      <th></th>\n",
       "      <th></th>\n",
       "    </tr>\n",
       "  </thead>\n",
       "  <tbody>\n",
       "    <tr>\n",
       "      <th>2106</th>\n",
       "      <td>36.578452</td>\n",
       "      <td>0.083016</td>\n",
       "      <td>3.268945</td>\n",
       "      <td>29.301222</td>\n",
       "      <td>29.241531</td>\n",
       "      <td>0.009069</td>\n",
       "      <td>1.517765</td>\n",
       "    </tr>\n",
       "    <tr>\n",
       "      <th>2130</th>\n",
       "      <td>35.315598</td>\n",
       "      <td>0.100518</td>\n",
       "      <td>2.284485</td>\n",
       "      <td>20.150667</td>\n",
       "      <td>37.694687</td>\n",
       "      <td>0.378443</td>\n",
       "      <td>4.075603</td>\n",
       "    </tr>\n",
       "    <tr>\n",
       "      <th>2178</th>\n",
       "      <td>12.843233</td>\n",
       "      <td>NaN</td>\n",
       "      <td>4.425633</td>\n",
       "      <td>27.919567</td>\n",
       "      <td>19.502649</td>\n",
       "      <td>0.971655</td>\n",
       "      <td>34.337263</td>\n",
       "    </tr>\n",
       "    <tr>\n",
       "      <th>2190</th>\n",
       "      <td>11.467196</td>\n",
       "      <td>9.146496</td>\n",
       "      <td>26.884247</td>\n",
       "      <td>28.372488</td>\n",
       "      <td>9.457966</td>\n",
       "      <td>4.174822</td>\n",
       "      <td>10.496784</td>\n",
       "    </tr>\n",
       "    <tr>\n",
       "      <th>2191</th>\n",
       "      <td>30.703253</td>\n",
       "      <td>0.385297</td>\n",
       "      <td>2.735672</td>\n",
       "      <td>23.660334</td>\n",
       "      <td>27.318011</td>\n",
       "      <td>0.737475</td>\n",
       "      <td>14.459957</td>\n",
       "    </tr>\n",
       "  </tbody>\n",
       "</table>\n",
       "</div>"
      ],
      "text/plain": [
       "              rev_Cheap  rev_High_End  rev_Moderately_High  rev_Most_Variety  \\\n",
       "Store_Number                                                                   \n",
       "2106          36.578452      0.083016             3.268945         29.301222   \n",
       "2130          35.315598      0.100518             2.284485         20.150667   \n",
       "2178          12.843233           NaN             4.425633         27.919567   \n",
       "2190          11.467196      9.146496            26.884247         28.372488   \n",
       "2191          30.703253      0.385297             2.735672         23.660334   \n",
       "\n",
       "              rev_Popular_Bottles  rev_Quick_Shots  rev_Volume_For_Dollar  \n",
       "Store_Number                                                               \n",
       "2106                    29.241531         0.009069               1.517765  \n",
       "2130                    37.694687         0.378443               4.075603  \n",
       "2178                    19.502649         0.971655              34.337263  \n",
       "2190                     9.457966         4.174822              10.496784  \n",
       "2191                    27.318011         0.737475              14.459957  "
      ]
     },
     "execution_count": 66,
     "metadata": {},
     "output_type": "execute_result"
    }
   ],
   "source": [
    "stores_rev_pct.head()"
   ]
  },
  {
   "cell_type": "code",
   "execution_count": 67,
   "id": "b1d53c14",
   "metadata": {},
   "outputs": [
    {
     "name": "stdout",
     "output_type": "stream",
     "text": [
      "median of rev_High_end=  0.596234469284544\n"
     ]
    },
    {
     "data": {
      "text/html": [
       "<div>\n",
       "<style scoped>\n",
       "    .dataframe tbody tr th:only-of-type {\n",
       "        vertical-align: middle;\n",
       "    }\n",
       "\n",
       "    .dataframe tbody tr th {\n",
       "        vertical-align: top;\n",
       "    }\n",
       "\n",
       "    .dataframe thead th {\n",
       "        text-align: right;\n",
       "    }\n",
       "</style>\n",
       "<table border=\"1\" class=\"dataframe\">\n",
       "  <thead>\n",
       "    <tr style=\"text-align: right;\">\n",
       "      <th></th>\n",
       "      <th>rev_Cheap</th>\n",
       "      <th>rev_High_End</th>\n",
       "      <th>rev_Moderately_High</th>\n",
       "      <th>rev_Most_Variety</th>\n",
       "      <th>rev_Popular_Bottles</th>\n",
       "      <th>rev_Quick_Shots</th>\n",
       "      <th>rev_Volume_For_Dollar</th>\n",
       "    </tr>\n",
       "  </thead>\n",
       "  <tbody>\n",
       "    <tr>\n",
       "      <th>count</th>\n",
       "      <td>1931.000000</td>\n",
       "      <td>711.000000</td>\n",
       "      <td>1232.000000</td>\n",
       "      <td>1930.000000</td>\n",
       "      <td>1929.000000</td>\n",
       "      <td>1866.000000</td>\n",
       "      <td>1864.000000</td>\n",
       "    </tr>\n",
       "    <tr>\n",
       "      <th>mean</th>\n",
       "      <td>26.910844</td>\n",
       "      <td>1.414971</td>\n",
       "      <td>4.833503</td>\n",
       "      <td>14.526153</td>\n",
       "      <td>37.928172</td>\n",
       "      <td>5.831475</td>\n",
       "      <td>12.764908</td>\n",
       "    </tr>\n",
       "    <tr>\n",
       "      <th>std</th>\n",
       "      <td>8.788400</td>\n",
       "      <td>3.734416</td>\n",
       "      <td>7.030045</td>\n",
       "      <td>10.782745</td>\n",
       "      <td>14.502786</td>\n",
       "      <td>6.746636</td>\n",
       "      <td>11.087870</td>\n",
       "    </tr>\n",
       "    <tr>\n",
       "      <th>min</th>\n",
       "      <td>2.233107</td>\n",
       "      <td>0.014989</td>\n",
       "      <td>0.028521</td>\n",
       "      <td>0.100513</td>\n",
       "      <td>0.649722</td>\n",
       "      <td>0.005451</td>\n",
       "      <td>0.026738</td>\n",
       "    </tr>\n",
       "    <tr>\n",
       "      <th>25%</th>\n",
       "      <td>20.234347</td>\n",
       "      <td>0.245025</td>\n",
       "      <td>0.905575</td>\n",
       "      <td>6.999195</td>\n",
       "      <td>25.884771</td>\n",
       "      <td>1.520104</td>\n",
       "      <td>3.778289</td>\n",
       "    </tr>\n",
       "    <tr>\n",
       "      <th>50%</th>\n",
       "      <td>27.223083</td>\n",
       "      <td>0.596234</td>\n",
       "      <td>2.786706</td>\n",
       "      <td>11.498679</td>\n",
       "      <td>36.509117</td>\n",
       "      <td>3.367717</td>\n",
       "      <td>8.489179</td>\n",
       "    </tr>\n",
       "    <tr>\n",
       "      <th>75%</th>\n",
       "      <td>33.072235</td>\n",
       "      <td>1.418309</td>\n",
       "      <td>6.177933</td>\n",
       "      <td>20.149079</td>\n",
       "      <td>49.958917</td>\n",
       "      <td>8.169398</td>\n",
       "      <td>20.047598</td>\n",
       "    </tr>\n",
       "    <tr>\n",
       "      <th>max</th>\n",
       "      <td>85.785071</td>\n",
       "      <td>68.212246</td>\n",
       "      <td>91.325768</td>\n",
       "      <td>100.000000</td>\n",
       "      <td>77.351596</td>\n",
       "      <td>100.000000</td>\n",
       "      <td>61.826958</td>\n",
       "    </tr>\n",
       "  </tbody>\n",
       "</table>\n",
       "</div>"
      ],
      "text/plain": [
       "         rev_Cheap  rev_High_End  rev_Moderately_High  rev_Most_Variety  \\\n",
       "count  1931.000000    711.000000          1232.000000       1930.000000   \n",
       "mean     26.910844      1.414971             4.833503         14.526153   \n",
       "std       8.788400      3.734416             7.030045         10.782745   \n",
       "min       2.233107      0.014989             0.028521          0.100513   \n",
       "25%      20.234347      0.245025             0.905575          6.999195   \n",
       "50%      27.223083      0.596234             2.786706         11.498679   \n",
       "75%      33.072235      1.418309             6.177933         20.149079   \n",
       "max      85.785071     68.212246            91.325768        100.000000   \n",
       "\n",
       "       rev_Popular_Bottles  rev_Quick_Shots  rev_Volume_For_Dollar  \n",
       "count          1929.000000      1866.000000            1864.000000  \n",
       "mean             37.928172         5.831475              12.764908  \n",
       "std              14.502786         6.746636              11.087870  \n",
       "min               0.649722         0.005451               0.026738  \n",
       "25%              25.884771         1.520104               3.778289  \n",
       "50%              36.509117         3.367717               8.489179  \n",
       "75%              49.958917         8.169398              20.047598  \n",
       "max              77.351596       100.000000              61.826958  "
      ]
     },
     "execution_count": 67,
     "metadata": {},
     "output_type": "execute_result"
    }
   ],
   "source": [
    "print('median of rev_High_end= ',stores_rev_pct.rev_High_End.median())\n",
    "stores_rev_pct.describe()"
   ]
  },
  {
   "cell_type": "code",
   "execution_count": 68,
   "id": "3f2c58f4",
   "metadata": {},
   "outputs": [
    {
     "name": "stdout",
     "output_type": "stream",
     "text": [
      "['Cheap', 'High_End', 'Moderately_High', 'Most_Variety', 'Popular_Bottles', 'Quick_Shots', 'Volume_For_Dollar']\n"
     ]
    }
   ],
   "source": [
    "print(list(stores_percent_cluster_items.columns)) "
   ]
  },
  {
   "cell_type": "code",
   "execution_count": 69,
   "id": "ca364ba8",
   "metadata": {},
   "outputs": [
    {
     "data": {
      "text/html": [
       "<div>\n",
       "<style scoped>\n",
       "    .dataframe tbody tr th:only-of-type {\n",
       "        vertical-align: middle;\n",
       "    }\n",
       "\n",
       "    .dataframe tbody tr th {\n",
       "        vertical-align: top;\n",
       "    }\n",
       "\n",
       "    .dataframe thead th {\n",
       "        text-align: right;\n",
       "    }\n",
       "</style>\n",
       "<table border=\"1\" class=\"dataframe\">\n",
       "  <thead>\n",
       "    <tr style=\"text-align: right;\">\n",
       "      <th></th>\n",
       "      <th>cl_Cheap</th>\n",
       "      <th>cl_High_End</th>\n",
       "      <th>cl_Moderately_High</th>\n",
       "      <th>cl_Most_Variety</th>\n",
       "      <th>cl_Popular_Bottles</th>\n",
       "      <th>cl_Quick_Shots</th>\n",
       "      <th>cl_Volume_For_Dollar</th>\n",
       "    </tr>\n",
       "  </thead>\n",
       "  <tbody>\n",
       "    <tr>\n",
       "      <th>count</th>\n",
       "      <td>1931.000000</td>\n",
       "      <td>711.000000</td>\n",
       "      <td>1232.000000</td>\n",
       "      <td>1930.000000</td>\n",
       "      <td>1929.000000</td>\n",
       "      <td>1866.000000</td>\n",
       "      <td>1864.000000</td>\n",
       "    </tr>\n",
       "    <tr>\n",
       "      <th>mean</th>\n",
       "      <td>33.742042</td>\n",
       "      <td>4.979978</td>\n",
       "      <td>3.796795</td>\n",
       "      <td>5.071712</td>\n",
       "      <td>58.293219</td>\n",
       "      <td>7.828279</td>\n",
       "      <td>8.230606</td>\n",
       "    </tr>\n",
       "    <tr>\n",
       "      <th>std</th>\n",
       "      <td>17.241448</td>\n",
       "      <td>5.927795</td>\n",
       "      <td>5.876391</td>\n",
       "      <td>7.626147</td>\n",
       "      <td>17.230466</td>\n",
       "      <td>8.972465</td>\n",
       "      <td>10.153001</td>\n",
       "    </tr>\n",
       "    <tr>\n",
       "      <th>min</th>\n",
       "      <td>0.735294</td>\n",
       "      <td>0.636943</td>\n",
       "      <td>0.114025</td>\n",
       "      <td>0.045475</td>\n",
       "      <td>2.380952</td>\n",
       "      <td>0.229358</td>\n",
       "      <td>0.220264</td>\n",
       "    </tr>\n",
       "    <tr>\n",
       "      <th>25%</th>\n",
       "      <td>22.794118</td>\n",
       "      <td>1.273885</td>\n",
       "      <td>0.342075</td>\n",
       "      <td>0.727603</td>\n",
       "      <td>47.619048</td>\n",
       "      <td>1.834862</td>\n",
       "      <td>1.321586</td>\n",
       "    </tr>\n",
       "    <tr>\n",
       "      <th>50%</th>\n",
       "      <td>30.147059</td>\n",
       "      <td>2.547771</td>\n",
       "      <td>1.368301</td>\n",
       "      <td>1.546157</td>\n",
       "      <td>59.523810</td>\n",
       "      <td>4.128440</td>\n",
       "      <td>3.193833</td>\n",
       "    </tr>\n",
       "    <tr>\n",
       "      <th>75%</th>\n",
       "      <td>41.911765</td>\n",
       "      <td>7.006369</td>\n",
       "      <td>4.675029</td>\n",
       "      <td>5.957253</td>\n",
       "      <td>69.047619</td>\n",
       "      <td>10.321101</td>\n",
       "      <td>12.334802</td>\n",
       "    </tr>\n",
       "    <tr>\n",
       "      <th>max</th>\n",
       "      <td>94.117647</td>\n",
       "      <td>50.955414</td>\n",
       "      <td>51.197263</td>\n",
       "      <td>49.022283</td>\n",
       "      <td>100.000000</td>\n",
       "      <td>56.422018</td>\n",
       "      <td>62.334802</td>\n",
       "    </tr>\n",
       "  </tbody>\n",
       "</table>\n",
       "</div>"
      ],
      "text/plain": [
       "          cl_Cheap  cl_High_End  cl_Moderately_High  cl_Most_Variety  \\\n",
       "count  1931.000000   711.000000         1232.000000      1930.000000   \n",
       "mean     33.742042     4.979978            3.796795         5.071712   \n",
       "std      17.241448     5.927795            5.876391         7.626147   \n",
       "min       0.735294     0.636943            0.114025         0.045475   \n",
       "25%      22.794118     1.273885            0.342075         0.727603   \n",
       "50%      30.147059     2.547771            1.368301         1.546157   \n",
       "75%      41.911765     7.006369            4.675029         5.957253   \n",
       "max      94.117647    50.955414           51.197263        49.022283   \n",
       "\n",
       "       cl_Popular_Bottles  cl_Quick_Shots  cl_Volume_For_Dollar  \n",
       "count         1929.000000     1866.000000           1864.000000  \n",
       "mean            58.293219        7.828279              8.230606  \n",
       "std             17.230466        8.972465             10.153001  \n",
       "min              2.380952        0.229358              0.220264  \n",
       "25%             47.619048        1.834862              1.321586  \n",
       "50%             59.523810        4.128440              3.193833  \n",
       "75%             69.047619       10.321101             12.334802  \n",
       "max            100.000000       56.422018             62.334802  "
      ]
     },
     "execution_count": 69,
     "metadata": {},
     "output_type": "execute_result"
    }
   ],
   "source": [
    "stores_percent_cluster_items.columns = ['cl_Cheap', 'cl_High_End', 'cl_Moderately_High', 'cl_Most_Variety', 'cl_Popular_Bottles', 'cl_Quick_Shots', 'cl_Volume_For_Dollar']\n",
    "stores_percent_cluster_items.describe()"
   ]
  },
  {
   "cell_type": "code",
   "execution_count": 70,
   "id": "b8390c8d",
   "metadata": {},
   "outputs": [
    {
     "data": {
      "text/html": [
       "<div>\n",
       "<style scoped>\n",
       "    .dataframe tbody tr th:only-of-type {\n",
       "        vertical-align: middle;\n",
       "    }\n",
       "\n",
       "    .dataframe tbody tr th {\n",
       "        vertical-align: top;\n",
       "    }\n",
       "\n",
       "    .dataframe thead th {\n",
       "        text-align: right;\n",
       "    }\n",
       "</style>\n",
       "<table border=\"1\" class=\"dataframe\">\n",
       "  <thead>\n",
       "    <tr style=\"text-align: right;\">\n",
       "      <th></th>\n",
       "      <th>cl_Cheap</th>\n",
       "      <th>cl_High_End</th>\n",
       "      <th>cl_Moderately_High</th>\n",
       "      <th>cl_Most_Variety</th>\n",
       "      <th>cl_Popular_Bottles</th>\n",
       "      <th>cl_Quick_Shots</th>\n",
       "      <th>cl_Volume_For_Dollar</th>\n",
       "    </tr>\n",
       "    <tr>\n",
       "      <th>Store_Number</th>\n",
       "      <th></th>\n",
       "      <th></th>\n",
       "      <th></th>\n",
       "      <th></th>\n",
       "      <th></th>\n",
       "      <th></th>\n",
       "      <th></th>\n",
       "    </tr>\n",
       "  </thead>\n",
       "  <tbody>\n",
       "    <tr>\n",
       "      <th>2106</th>\n",
       "      <td>54.411765</td>\n",
       "      <td>3.184713</td>\n",
       "      <td>9.578107</td>\n",
       "      <td>17.462483</td>\n",
       "      <td>71.428571</td>\n",
       "      <td>0.917431</td>\n",
       "      <td>9.691630</td>\n",
       "    </tr>\n",
       "    <tr>\n",
       "      <th>2130</th>\n",
       "      <td>65.441176</td>\n",
       "      <td>2.547771</td>\n",
       "      <td>4.104903</td>\n",
       "      <td>13.642565</td>\n",
       "      <td>90.476190</td>\n",
       "      <td>4.357798</td>\n",
       "      <td>11.453744</td>\n",
       "    </tr>\n",
       "  </tbody>\n",
       "</table>\n",
       "</div>"
      ],
      "text/plain": [
       "               cl_Cheap  cl_High_End  cl_Moderately_High  cl_Most_Variety  \\\n",
       "Store_Number                                                                \n",
       "2106          54.411765     3.184713            9.578107        17.462483   \n",
       "2130          65.441176     2.547771            4.104903        13.642565   \n",
       "\n",
       "              cl_Popular_Bottles  cl_Quick_Shots  cl_Volume_For_Dollar  \n",
       "Store_Number                                                            \n",
       "2106                   71.428571        0.917431              9.691630  \n",
       "2130                   90.476190        4.357798             11.453744  "
      ]
     },
     "execution_count": 70,
     "metadata": {},
     "output_type": "execute_result"
    }
   ],
   "source": [
    "stores_percent_cluster_items.head(2)"
   ]
  },
  {
   "cell_type": "markdown",
   "id": "dc611952",
   "metadata": {},
   "source": [
    "##### use pivot table so that the cluster_name becomes the columns and the percent of unique items becomes the values "
   ]
  },
  {
   "cell_type": "code",
   "execution_count": 71,
   "id": "f59d4415",
   "metadata": {},
   "outputs": [],
   "source": [
    "stores_items_pct = sTores_revenue_combined.pivot_table(index='Store_Number', columns = 'cluster_name', values = 'item_pct')"
   ]
  },
  {
   "cell_type": "code",
   "execution_count": 72,
   "id": "78a8ad01",
   "metadata": {},
   "outputs": [
    {
     "data": {
      "text/html": [
       "<div>\n",
       "<style scoped>\n",
       "    .dataframe tbody tr th:only-of-type {\n",
       "        vertical-align: middle;\n",
       "    }\n",
       "\n",
       "    .dataframe tbody tr th {\n",
       "        vertical-align: top;\n",
       "    }\n",
       "\n",
       "    .dataframe thead th {\n",
       "        text-align: right;\n",
       "    }\n",
       "</style>\n",
       "<table border=\"1\" class=\"dataframe\">\n",
       "  <thead>\n",
       "    <tr style=\"text-align: right;\">\n",
       "      <th>cluster_name</th>\n",
       "      <th>Cheap</th>\n",
       "      <th>High_End</th>\n",
       "      <th>Moderately_High</th>\n",
       "      <th>Most_Variety</th>\n",
       "      <th>Popular_Bottles</th>\n",
       "      <th>Quick_Shots</th>\n",
       "      <th>Volume_For_Dollar</th>\n",
       "    </tr>\n",
       "    <tr>\n",
       "      <th>Store_Number</th>\n",
       "      <th></th>\n",
       "      <th></th>\n",
       "      <th></th>\n",
       "      <th></th>\n",
       "      <th></th>\n",
       "      <th></th>\n",
       "      <th></th>\n",
       "    </tr>\n",
       "  </thead>\n",
       "  <tbody>\n",
       "    <tr>\n",
       "      <th>2106</th>\n",
       "      <td>11.840000</td>\n",
       "      <td>0.800000</td>\n",
       "      <td>13.440000</td>\n",
       "      <td>61.440000</td>\n",
       "      <td>4.800000</td>\n",
       "      <td>0.640000</td>\n",
       "      <td>7.040000</td>\n",
       "    </tr>\n",
       "    <tr>\n",
       "      <th>2130</th>\n",
       "      <td>16.542751</td>\n",
       "      <td>0.743494</td>\n",
       "      <td>6.691450</td>\n",
       "      <td>55.762082</td>\n",
       "      <td>7.063197</td>\n",
       "      <td>3.531599</td>\n",
       "      <td>9.665428</td>\n",
       "    </tr>\n",
       "    <tr>\n",
       "      <th>2178</th>\n",
       "      <td>23.076923</td>\n",
       "      <td>NaN</td>\n",
       "      <td>5.128205</td>\n",
       "      <td>33.333333</td>\n",
       "      <td>7.692308</td>\n",
       "      <td>5.128205</td>\n",
       "      <td>25.641026</td>\n",
       "    </tr>\n",
       "    <tr>\n",
       "      <th>2190</th>\n",
       "      <td>5.728395</td>\n",
       "      <td>3.950617</td>\n",
       "      <td>22.172840</td>\n",
       "      <td>50.172840</td>\n",
       "      <td>1.925926</td>\n",
       "      <td>7.358025</td>\n",
       "      <td>8.691358</td>\n",
       "    </tr>\n",
       "    <tr>\n",
       "      <th>2191</th>\n",
       "      <td>9.116022</td>\n",
       "      <td>1.933702</td>\n",
       "      <td>14.088398</td>\n",
       "      <td>54.696133</td>\n",
       "      <td>3.406998</td>\n",
       "      <td>7.090239</td>\n",
       "      <td>9.668508</td>\n",
       "    </tr>\n",
       "  </tbody>\n",
       "</table>\n",
       "</div>"
      ],
      "text/plain": [
       "cluster_name      Cheap  High_End  Moderately_High  Most_Variety  \\\n",
       "Store_Number                                                       \n",
       "2106          11.840000  0.800000        13.440000     61.440000   \n",
       "2130          16.542751  0.743494         6.691450     55.762082   \n",
       "2178          23.076923       NaN         5.128205     33.333333   \n",
       "2190           5.728395  3.950617        22.172840     50.172840   \n",
       "2191           9.116022  1.933702        14.088398     54.696133   \n",
       "\n",
       "cluster_name  Popular_Bottles  Quick_Shots  Volume_For_Dollar  \n",
       "Store_Number                                                   \n",
       "2106                 4.800000     0.640000           7.040000  \n",
       "2130                 7.063197     3.531599           9.665428  \n",
       "2178                 7.692308     5.128205          25.641026  \n",
       "2190                 1.925926     7.358025           8.691358  \n",
       "2191                 3.406998     7.090239           9.668508  "
      ]
     },
     "execution_count": 72,
     "metadata": {},
     "output_type": "execute_result"
    }
   ],
   "source": [
    "stores_items_pct.head()"
   ]
  },
  {
   "cell_type": "code",
   "execution_count": 73,
   "id": "e609e8b9",
   "metadata": {},
   "outputs": [
    {
     "name": "stdout",
     "output_type": "stream",
     "text": [
      "['Cheap', 'High_End', 'Moderately_High', 'Most_Variety', 'Popular_Bottles', 'Quick_Shots', 'Volume_For_Dollar']\n"
     ]
    }
   ],
   "source": [
    "print(list(stores_items_pct.columns))"
   ]
  },
  {
   "cell_type": "code",
   "execution_count": 74,
   "id": "93f05571",
   "metadata": {},
   "outputs": [
    {
     "data": {
      "text/html": [
       "<div>\n",
       "<style scoped>\n",
       "    .dataframe tbody tr th:only-of-type {\n",
       "        vertical-align: middle;\n",
       "    }\n",
       "\n",
       "    .dataframe tbody tr th {\n",
       "        vertical-align: top;\n",
       "    }\n",
       "\n",
       "    .dataframe thead th {\n",
       "        text-align: right;\n",
       "    }\n",
       "</style>\n",
       "<table border=\"1\" class=\"dataframe\">\n",
       "  <thead>\n",
       "    <tr style=\"text-align: right;\">\n",
       "      <th></th>\n",
       "      <th>item_Cheap</th>\n",
       "      <th>item_High_End</th>\n",
       "      <th>item_Moderately_High</th>\n",
       "      <th>item_Most_Variety</th>\n",
       "      <th>item_Popular_Bottles</th>\n",
       "      <th>item_Quick_Shots</th>\n",
       "      <th>item_Volume_For_Dollar</th>\n",
       "    </tr>\n",
       "  </thead>\n",
       "  <tbody>\n",
       "    <tr>\n",
       "      <th>count</th>\n",
       "      <td>1931.000000</td>\n",
       "      <td>711.000000</td>\n",
       "      <td>1232.000000</td>\n",
       "      <td>1930.000000</td>\n",
       "      <td>1929.000000</td>\n",
       "      <td>1866.000000</td>\n",
       "      <td>1864.000000</td>\n",
       "    </tr>\n",
       "    <tr>\n",
       "      <th>mean</th>\n",
       "      <td>25.544506</td>\n",
       "      <td>1.520778</td>\n",
       "      <td>6.615306</td>\n",
       "      <td>29.558502</td>\n",
       "      <td>16.820054</td>\n",
       "      <td>13.554451</td>\n",
       "      <td>11.510638</td>\n",
       "    </tr>\n",
       "    <tr>\n",
       "      <th>std</th>\n",
       "      <td>11.153125</td>\n",
       "      <td>1.911746</td>\n",
       "      <td>6.503378</td>\n",
       "      <td>15.468963</td>\n",
       "      <td>10.553003</td>\n",
       "      <td>10.432255</td>\n",
       "      <td>7.567696</td>\n",
       "    </tr>\n",
       "    <tr>\n",
       "      <th>min</th>\n",
       "      <td>2.678571</td>\n",
       "      <td>0.125313</td>\n",
       "      <td>0.261097</td>\n",
       "      <td>1.190476</td>\n",
       "      <td>1.574803</td>\n",
       "      <td>0.265252</td>\n",
       "      <td>0.632911</td>\n",
       "    </tr>\n",
       "    <tr>\n",
       "      <th>25%</th>\n",
       "      <td>15.817793</td>\n",
       "      <td>0.586797</td>\n",
       "      <td>1.739130</td>\n",
       "      <td>17.191700</td>\n",
       "      <td>7.246377</td>\n",
       "      <td>6.382979</td>\n",
       "      <td>5.714286</td>\n",
       "    </tr>\n",
       "    <tr>\n",
       "      <th>50%</th>\n",
       "      <td>25.000000</td>\n",
       "      <td>1.153846</td>\n",
       "      <td>4.761905</td>\n",
       "      <td>25.191554</td>\n",
       "      <td>15.053763</td>\n",
       "      <td>11.100668</td>\n",
       "      <td>9.431893</td>\n",
       "    </tr>\n",
       "    <tr>\n",
       "      <th>75%</th>\n",
       "      <td>35.849057</td>\n",
       "      <td>2.000000</td>\n",
       "      <td>9.634768</td>\n",
       "      <td>43.133610</td>\n",
       "      <td>25.217391</td>\n",
       "      <td>17.967179</td>\n",
       "      <td>16.219180</td>\n",
       "    </tr>\n",
       "    <tr>\n",
       "      <th>max</th>\n",
       "      <td>77.777778</td>\n",
       "      <td>40.000000</td>\n",
       "      <td>66.666667</td>\n",
       "      <td>100.000000</td>\n",
       "      <td>55.555556</td>\n",
       "      <td>100.000000</td>\n",
       "      <td>50.000000</td>\n",
       "    </tr>\n",
       "  </tbody>\n",
       "</table>\n",
       "</div>"
      ],
      "text/plain": [
       "        item_Cheap  item_High_End  item_Moderately_High  item_Most_Variety  \\\n",
       "count  1931.000000     711.000000           1232.000000        1930.000000   \n",
       "mean     25.544506       1.520778              6.615306          29.558502   \n",
       "std      11.153125       1.911746              6.503378          15.468963   \n",
       "min       2.678571       0.125313              0.261097           1.190476   \n",
       "25%      15.817793       0.586797              1.739130          17.191700   \n",
       "50%      25.000000       1.153846              4.761905          25.191554   \n",
       "75%      35.849057       2.000000              9.634768          43.133610   \n",
       "max      77.777778      40.000000             66.666667         100.000000   \n",
       "\n",
       "       item_Popular_Bottles  item_Quick_Shots  item_Volume_For_Dollar  \n",
       "count           1929.000000       1866.000000             1864.000000  \n",
       "mean              16.820054         13.554451               11.510638  \n",
       "std               10.553003         10.432255                7.567696  \n",
       "min                1.574803          0.265252                0.632911  \n",
       "25%                7.246377          6.382979                5.714286  \n",
       "50%               15.053763         11.100668                9.431893  \n",
       "75%               25.217391         17.967179               16.219180  \n",
       "max               55.555556        100.000000               50.000000  "
      ]
     },
     "execution_count": 74,
     "metadata": {},
     "output_type": "execute_result"
    }
   ],
   "source": [
    "stores_items_pct.columns = ['item_Cheap', 'item_High_End', 'item_Moderately_High', 'item_Most_Variety', 'item_Popular_Bottles', 'item_Quick_Shots', 'item_Volume_For_Dollar']\n",
    "stores_items_pct.describe()\n"
   ]
  },
  {
   "cell_type": "markdown",
   "id": "a2a2c4cd",
   "metadata": {},
   "source": [
    "##### use pivot_table so that the values of cluster_name become the columns and the percent of products (or inventory) become the values"
   ]
  },
  {
   "cell_type": "code",
   "execution_count": 75,
   "id": "74465ddd",
   "metadata": {},
   "outputs": [],
   "source": [
    "# prod_count_pct\n",
    "\n",
    "prod_count_pct = sTores_revenue_combined.pivot_table(index='Store_Number', columns = 'cluster_name', values = 'prod_count_pct')\n",
    "\n",
    "# prod_count_pct.head()"
   ]
  },
  {
   "cell_type": "code",
   "execution_count": 76,
   "id": "38995d7c",
   "metadata": {},
   "outputs": [
    {
     "name": "stdout",
     "output_type": "stream",
     "text": [
      "['Cheap', 'High_End', 'Moderately_High', 'Most_Variety', 'Popular_Bottles', 'Quick_Shots', 'Volume_For_Dollar']\n"
     ]
    }
   ],
   "source": [
    "print(list(prod_count_pct.columns)) #prod_count_pct_"
   ]
  },
  {
   "cell_type": "code",
   "execution_count": 77,
   "id": "bc947576",
   "metadata": {},
   "outputs": [
    {
     "data": {
      "text/html": [
       "<div>\n",
       "<style scoped>\n",
       "    .dataframe tbody tr th:only-of-type {\n",
       "        vertical-align: middle;\n",
       "    }\n",
       "\n",
       "    .dataframe tbody tr th {\n",
       "        vertical-align: top;\n",
       "    }\n",
       "\n",
       "    .dataframe thead th {\n",
       "        text-align: right;\n",
       "    }\n",
       "</style>\n",
       "<table border=\"1\" class=\"dataframe\">\n",
       "  <thead>\n",
       "    <tr style=\"text-align: right;\">\n",
       "      <th></th>\n",
       "      <th>prod_count_pct_Cheap</th>\n",
       "      <th>prod_count_pct_High_End</th>\n",
       "      <th>prod_count_pct_Moderately_High</th>\n",
       "      <th>prod_count_pct_Most_Variety</th>\n",
       "      <th>prod_count_pct_Popular_Bottles</th>\n",
       "      <th>prod_count_pct_Quick_Shots</th>\n",
       "      <th>prod_count_pct_Volume_For_Dollar</th>\n",
       "    </tr>\n",
       "    <tr>\n",
       "      <th>Store_Number</th>\n",
       "      <th></th>\n",
       "      <th></th>\n",
       "      <th></th>\n",
       "      <th></th>\n",
       "      <th></th>\n",
       "      <th></th>\n",
       "      <th></th>\n",
       "    </tr>\n",
       "  </thead>\n",
       "  <tbody>\n",
       "    <tr>\n",
       "      <th>2106</th>\n",
       "      <td>29.374308</td>\n",
       "      <td>0.138427</td>\n",
       "      <td>3.792913</td>\n",
       "      <td>47.176080</td>\n",
       "      <td>15.420819</td>\n",
       "      <td>0.110742</td>\n",
       "      <td>3.986711</td>\n",
       "    </tr>\n",
       "    <tr>\n",
       "      <th>2130</th>\n",
       "      <td>32.997250</td>\n",
       "      <td>0.122212</td>\n",
       "      <td>2.963642</td>\n",
       "      <td>38.374580</td>\n",
       "      <td>16.681943</td>\n",
       "      <td>1.344332</td>\n",
       "      <td>7.516040</td>\n",
       "    </tr>\n",
       "    <tr>\n",
       "      <th>2178</th>\n",
       "      <td>23.076923</td>\n",
       "      <td>NaN</td>\n",
       "      <td>5.128205</td>\n",
       "      <td>33.333333</td>\n",
       "      <td>7.692308</td>\n",
       "      <td>5.128205</td>\n",
       "      <td>25.641026</td>\n",
       "    </tr>\n",
       "    <tr>\n",
       "      <th>2190</th>\n",
       "      <td>11.647654</td>\n",
       "      <td>2.281566</td>\n",
       "      <td>14.551465</td>\n",
       "      <td>44.626653</td>\n",
       "      <td>6.501167</td>\n",
       "      <td>9.197563</td>\n",
       "      <td>11.193933</td>\n",
       "    </tr>\n",
       "    <tr>\n",
       "      <th>2191</th>\n",
       "      <td>21.287820</td>\n",
       "      <td>0.418929</td>\n",
       "      <td>6.159814</td>\n",
       "      <td>48.037238</td>\n",
       "      <td>8.611327</td>\n",
       "      <td>2.839410</td>\n",
       "      <td>12.645462</td>\n",
       "    </tr>\n",
       "  </tbody>\n",
       "</table>\n",
       "</div>"
      ],
      "text/plain": [
       "              prod_count_pct_Cheap  prod_count_pct_High_End  \\\n",
       "Store_Number                                                  \n",
       "2106                     29.374308                 0.138427   \n",
       "2130                     32.997250                 0.122212   \n",
       "2178                     23.076923                      NaN   \n",
       "2190                     11.647654                 2.281566   \n",
       "2191                     21.287820                 0.418929   \n",
       "\n",
       "              prod_count_pct_Moderately_High  prod_count_pct_Most_Variety  \\\n",
       "Store_Number                                                                \n",
       "2106                                3.792913                    47.176080   \n",
       "2130                                2.963642                    38.374580   \n",
       "2178                                5.128205                    33.333333   \n",
       "2190                               14.551465                    44.626653   \n",
       "2191                                6.159814                    48.037238   \n",
       "\n",
       "              prod_count_pct_Popular_Bottles  prod_count_pct_Quick_Shots  \\\n",
       "Store_Number                                                               \n",
       "2106                               15.420819                    0.110742   \n",
       "2130                               16.681943                    1.344332   \n",
       "2178                                7.692308                    5.128205   \n",
       "2190                                6.501167                    9.197563   \n",
       "2191                                8.611327                    2.839410   \n",
       "\n",
       "              prod_count_pct_Volume_For_Dollar  \n",
       "Store_Number                                    \n",
       "2106                                  3.986711  \n",
       "2130                                  7.516040  \n",
       "2178                                 25.641026  \n",
       "2190                                 11.193933  \n",
       "2191                                 12.645462  "
      ]
     },
     "execution_count": 77,
     "metadata": {},
     "output_type": "execute_result"
    }
   ],
   "source": [
    "prod_count_pct.columns = ['prod_count_pct_Cheap', 'prod_count_pct_High_End', 'prod_count_pct_Moderately_High', 'prod_count_pct_Most_Variety', 'prod_count_pct_Popular_Bottles', 'prod_count_pct_Quick_Shots', 'prod_count_pct_Volume_For_Dollar']\n",
    "prod_count_pct.head()"
   ]
  },
  {
   "cell_type": "markdown",
   "id": "020c5c89",
   "metadata": {},
   "source": [
    "##### concatenate the four DataFrames to create clust_info_combined"
   ]
  },
  {
   "cell_type": "code",
   "execution_count": 78,
   "id": "aae59281",
   "metadata": {},
   "outputs": [],
   "source": [
    "clust_info_combined = pd.concat([stores_revenue, stores_rev_pct,prod_count_pct,stores_items_pct,stores_percent_cluster_items],axis=1, join='inner')"
   ]
  },
  {
   "cell_type": "code",
   "execution_count": 79,
   "id": "3316f57f",
   "metadata": {},
   "outputs": [],
   "source": [
    "# clust_info_combined.head()"
   ]
  },
  {
   "cell_type": "code",
   "execution_count": 80,
   "id": "f2d39f48",
   "metadata": {},
   "outputs": [
    {
     "name": "stdout",
     "output_type": "stream",
     "text": [
      "<class 'pandas.core.frame.DataFrame'>\n",
      "Index: 1948 entries, 2106 to 9049\n",
      "Data columns (total 33 columns):\n",
      " #   Column                            Non-Null Count  Dtype  \n",
      "---  ------                            --------------  -----  \n",
      " 0   Store_Name                        1948 non-null   object \n",
      " 1   store_revenue                     1948 non-null   float64\n",
      " 2   tot_num_unique_items              1948 non-null   int64  \n",
      " 3   num_unique_clusters               1948 non-null   int64  \n",
      " 4   tot_item_count                    1948 non-null   int64  \n",
      " 5   rev_Cheap                         1931 non-null   float64\n",
      " 6   rev_High_End                      711 non-null    float64\n",
      " 7   rev_Moderately_High               1232 non-null   float64\n",
      " 8   rev_Most_Variety                  1930 non-null   float64\n",
      " 9   rev_Popular_Bottles               1929 non-null   float64\n",
      " 10  rev_Quick_Shots                   1866 non-null   float64\n",
      " 11  rev_Volume_For_Dollar             1864 non-null   float64\n",
      " 12  prod_count_pct_Cheap              1931 non-null   float64\n",
      " 13  prod_count_pct_High_End           711 non-null    float64\n",
      " 14  prod_count_pct_Moderately_High    1232 non-null   float64\n",
      " 15  prod_count_pct_Most_Variety       1930 non-null   float64\n",
      " 16  prod_count_pct_Popular_Bottles    1929 non-null   float64\n",
      " 17  prod_count_pct_Quick_Shots        1866 non-null   float64\n",
      " 18  prod_count_pct_Volume_For_Dollar  1864 non-null   float64\n",
      " 19  item_Cheap                        1931 non-null   float64\n",
      " 20  item_High_End                     711 non-null    float64\n",
      " 21  item_Moderately_High              1232 non-null   float64\n",
      " 22  item_Most_Variety                 1930 non-null   float64\n",
      " 23  item_Popular_Bottles              1929 non-null   float64\n",
      " 24  item_Quick_Shots                  1866 non-null   float64\n",
      " 25  item_Volume_For_Dollar            1864 non-null   float64\n",
      " 26  cl_Cheap                          1931 non-null   float64\n",
      " 27  cl_High_End                       711 non-null    float64\n",
      " 28  cl_Moderately_High                1232 non-null   float64\n",
      " 29  cl_Most_Variety                   1930 non-null   float64\n",
      " 30  cl_Popular_Bottles                1929 non-null   float64\n",
      " 31  cl_Quick_Shots                    1866 non-null   float64\n",
      " 32  cl_Volume_For_Dollar              1864 non-null   float64\n",
      "dtypes: float64(29), int64(3), object(1)\n",
      "memory usage: 582.0+ KB\n"
     ]
    }
   ],
   "source": [
    "clust_info_combined.info()"
   ]
  },
  {
   "cell_type": "code",
   "execution_count": null,
   "id": "fb302209",
   "metadata": {},
   "outputs": [],
   "source": []
  },
  {
   "cell_type": "code",
   "execution_count": 81,
   "id": "df4e4ad1",
   "metadata": {},
   "outputs": [],
   "source": [
    "clust_info_combined.columns\n",
    "subset = clust_info_combined[['rev_Cheap', 'rev_High_End',\n",
    "       'rev_Moderately_High', 'rev_Most_Variety', 'rev_Popular_Bottles',\n",
    "       'rev_Quick_Shots', 'rev_Volume_For_Dollar']]"
   ]
  },
  {
   "cell_type": "code",
   "execution_count": 82,
   "id": "4f013200",
   "metadata": {},
   "outputs": [
    {
     "data": {
      "text/plain": [
       "[('rev_High_End', 1237, 0.635),\n",
       " ('prod_count_pct_High_End', 1237, 0.635),\n",
       " ('item_High_End', 1237, 0.635),\n",
       " ('cl_High_End', 1237, 0.635),\n",
       " ('rev_Moderately_High', 716, 0.3676),\n",
       " ('prod_count_pct_Moderately_High', 716, 0.3676),\n",
       " ('item_Moderately_High', 716, 0.3676),\n",
       " ('cl_Moderately_High', 716, 0.3676),\n",
       " ('rev_Volume_For_Dollar', 84, 0.0431),\n",
       " ('prod_count_pct_Volume_For_Dollar', 84, 0.0431),\n",
       " ('item_Volume_For_Dollar', 84, 0.0431),\n",
       " ('cl_Volume_For_Dollar', 84, 0.0431),\n",
       " ('rev_Quick_Shots', 82, 0.0421),\n",
       " ('prod_count_pct_Quick_Shots', 82, 0.0421),\n",
       " ('item_Quick_Shots', 82, 0.0421),\n",
       " ('cl_Quick_Shots', 82, 0.0421),\n",
       " ('rev_Popular_Bottles', 19, 0.0098),\n",
       " ('prod_count_pct_Popular_Bottles', 19, 0.0098),\n",
       " ('item_Popular_Bottles', 19, 0.0098),\n",
       " ('cl_Popular_Bottles', 19, 0.0098),\n",
       " ('rev_Most_Variety', 18, 0.0092),\n",
       " ('prod_count_pct_Most_Variety', 18, 0.0092),\n",
       " ('item_Most_Variety', 18, 0.0092),\n",
       " ('cl_Most_Variety', 18, 0.0092),\n",
       " ('rev_Cheap', 17, 0.0087),\n",
       " ('prod_count_pct_Cheap', 17, 0.0087),\n",
       " ('item_Cheap', 17, 0.0087),\n",
       " ('cl_Cheap', 17, 0.0087)]"
      ]
     },
     "execution_count": 82,
     "metadata": {},
     "output_type": "execute_result"
    }
   ],
   "source": [
    "miss_cols(clust_info_combined)"
   ]
  },
  {
   "cell_type": "code",
   "execution_count": 83,
   "id": "c096139d",
   "metadata": {},
   "outputs": [
    {
     "data": {
      "text/html": [
       "<div>\n",
       "<style scoped>\n",
       "    .dataframe tbody tr th:only-of-type {\n",
       "        vertical-align: middle;\n",
       "    }\n",
       "\n",
       "    .dataframe tbody tr th {\n",
       "        vertical-align: top;\n",
       "    }\n",
       "\n",
       "    .dataframe thead th {\n",
       "        text-align: right;\n",
       "    }\n",
       "</style>\n",
       "<table border=\"1\" class=\"dataframe\">\n",
       "  <thead>\n",
       "    <tr style=\"text-align: right;\">\n",
       "      <th></th>\n",
       "      <th>feature</th>\n",
       "      <th>num_null</th>\n",
       "      <th>pct_missing</th>\n",
       "    </tr>\n",
       "  </thead>\n",
       "  <tbody>\n",
       "    <tr>\n",
       "      <th>0</th>\n",
       "      <td>rev_High_End</td>\n",
       "      <td>1237</td>\n",
       "      <td>63.50</td>\n",
       "    </tr>\n",
       "    <tr>\n",
       "      <th>1</th>\n",
       "      <td>rev_Moderately_High</td>\n",
       "      <td>716</td>\n",
       "      <td>36.76</td>\n",
       "    </tr>\n",
       "    <tr>\n",
       "      <th>2</th>\n",
       "      <td>rev_Volume_For_Dollar</td>\n",
       "      <td>84</td>\n",
       "      <td>4.31</td>\n",
       "    </tr>\n",
       "    <tr>\n",
       "      <th>3</th>\n",
       "      <td>rev_Quick_Shots</td>\n",
       "      <td>82</td>\n",
       "      <td>4.21</td>\n",
       "    </tr>\n",
       "    <tr>\n",
       "      <th>4</th>\n",
       "      <td>rev_Popular_Bottles</td>\n",
       "      <td>19</td>\n",
       "      <td>0.98</td>\n",
       "    </tr>\n",
       "    <tr>\n",
       "      <th>5</th>\n",
       "      <td>rev_Most_Variety</td>\n",
       "      <td>18</td>\n",
       "      <td>0.92</td>\n",
       "    </tr>\n",
       "    <tr>\n",
       "      <th>6</th>\n",
       "      <td>rev_Cheap</td>\n",
       "      <td>17</td>\n",
       "      <td>0.87</td>\n",
       "    </tr>\n",
       "  </tbody>\n",
       "</table>\n",
       "</div>"
      ],
      "text/plain": [
       "                 feature  num_null  pct_missing\n",
       "0           rev_High_End      1237        63.50\n",
       "1    rev_Moderately_High       716        36.76\n",
       "2  rev_Volume_For_Dollar        84         4.31\n",
       "3        rev_Quick_Shots        82         4.21\n",
       "4    rev_Popular_Bottles        19         0.98\n",
       "5       rev_Most_Variety        18         0.92\n",
       "6              rev_Cheap        17         0.87"
      ]
     },
     "execution_count": 83,
     "metadata": {},
     "output_type": "execute_result"
    }
   ],
   "source": [
    "miss_cols_List = list(miss_cols(subset))\n",
    "\n",
    "features = [tup[0] for tup in miss_cols_List]\n",
    "\n",
    "num_nulls =  [tup[1] for tup in miss_cols_List]\n",
    "\n",
    "pct_missing = [100 * tup[2]  for tup in miss_cols_List]\n",
    "\n",
    "\n",
    "pd.DataFrame({'feature':features, 'num_null':num_nulls, 'pct_missing':pct_missing})"
   ]
  },
  {
   "cell_type": "code",
   "execution_count": 84,
   "id": "cd598f63",
   "metadata": {},
   "outputs": [
    {
     "data": {
      "text/plain": [
       "['Store_Name',\n",
       " 'store_revenue',\n",
       " 'tot_num_unique_items',\n",
       " 'num_unique_clusters',\n",
       " 'tot_item_count',\n",
       " 'rev_Cheap',\n",
       " 'rev_High_End',\n",
       " 'rev_Moderately_High',\n",
       " 'rev_Most_Variety',\n",
       " 'rev_Popular_Bottles',\n",
       " 'rev_Quick_Shots',\n",
       " 'rev_Volume_For_Dollar',\n",
       " 'prod_count_pct_Cheap',\n",
       " 'prod_count_pct_High_End',\n",
       " 'prod_count_pct_Moderately_High',\n",
       " 'prod_count_pct_Most_Variety',\n",
       " 'prod_count_pct_Popular_Bottles',\n",
       " 'prod_count_pct_Quick_Shots',\n",
       " 'prod_count_pct_Volume_For_Dollar',\n",
       " 'item_Cheap',\n",
       " 'item_High_End',\n",
       " 'item_Moderately_High',\n",
       " 'item_Most_Variety',\n",
       " 'item_Popular_Bottles',\n",
       " 'item_Quick_Shots',\n",
       " 'item_Volume_For_Dollar',\n",
       " 'cl_Cheap',\n",
       " 'cl_High_End',\n",
       " 'cl_Moderately_High',\n",
       " 'cl_Most_Variety',\n",
       " 'cl_Popular_Bottles',\n",
       " 'cl_Quick_Shots',\n",
       " 'cl_Volume_For_Dollar']"
      ]
     },
     "execution_count": 84,
     "metadata": {},
     "output_type": "execute_result"
    }
   ],
   "source": [
    "list(clust_info_combined.columns)"
   ]
  },
  {
   "cell_type": "code",
   "execution_count": 85,
   "id": "5a504cf2",
   "metadata": {},
   "outputs": [],
   "source": [
    "# clust_info_combined2.index"
   ]
  },
  {
   "cell_type": "markdown",
   "id": "baefe8a0",
   "metadata": {},
   "source": [
    "### Data Dictionary for above data set  using High_End_Cluster as an example\n",
    "\n",
    "Store_Name\n",
    "\n",
    "store_revenue = total revenue for store \n",
    "\n",
    "num_unique_clusters = number of clusters in each store\n",
    "\n",
    "tot_num_unique_items = number of unique products in store\n",
    "\n",
    "rev_High_End = percentage of store revenue in High_End_Cluster\n",
    "\n",
    "item_High_End = percentage of unique items in  High_End Cluster\n",
    "\n",
    "prod_count_pct_High_End = percentage of products in High_End Cluster\n",
    "\n",
    "cl_High_End = percentage of unique items in the high_end cluster that are sold in the store that are in the High End cluster for the entire data set\n",
    "\n"
   ]
  },
  {
   "cell_type": "markdown",
   "id": "bd5f8abb",
   "metadata": {},
   "source": [
    "#"
   ]
  },
  {
   "cell_type": "markdown",
   "id": "7b80543a",
   "metadata": {},
   "source": [
    "##### impute missing values of clust_info_combined with zero"
   ]
  },
  {
   "cell_type": "code",
   "execution_count": 86,
   "id": "8cbc4202",
   "metadata": {},
   "outputs": [],
   "source": [
    "clust_info_combined2 = clust_info_combined.fillna(0)"
   ]
  },
  {
   "cell_type": "code",
   "execution_count": 87,
   "id": "9fa6a509",
   "metadata": {},
   "outputs": [
    {
     "data": {
      "text/plain": [
       "[]"
      ]
     },
     "execution_count": 87,
     "metadata": {},
     "output_type": "execute_result"
    }
   ],
   "source": [
    "miss_cols(clust_info_combined2 )"
   ]
  },
  {
   "cell_type": "code",
   "execution_count": 88,
   "id": "cc7b39b9",
   "metadata": {},
   "outputs": [],
   "source": [
    "# clust_info_combined2.describe()"
   ]
  },
  {
   "cell_type": "code",
   "execution_count": 89,
   "id": "467f6082",
   "metadata": {},
   "outputs": [],
   "source": [
    "# stores.head()"
   ]
  },
  {
   "cell_type": "code",
   "execution_count": 90,
   "id": "737172e4",
   "metadata": {},
   "outputs": [],
   "source": [
    "clust_info_combined2 = clust_info_combined2.reset_index()"
   ]
  },
  {
   "cell_type": "code",
   "execution_count": 91,
   "id": "06916fc1",
   "metadata": {},
   "outputs": [],
   "source": [
    "# clust_info_combined2.head()"
   ]
  },
  {
   "cell_type": "markdown",
   "id": "89f20a06",
   "metadata": {},
   "source": [
    "##### join stores file with clust_info_combined2 to get store information "
   ]
  },
  {
   "cell_type": "code",
   "execution_count": 92,
   "id": "c93200ce",
   "metadata": {},
   "outputs": [],
   "source": [
    " \n",
    "# stores_clust_info_combined2= \n",
    "stores_clust_info_combined2 = clust_info_combined2 = clust_info_combined2.merge(stores,how='inner',left_on=['Store_Number','Store_Name'], right_on=['Store_Number','Store_Name'])"
   ]
  },
  {
   "cell_type": "markdown",
   "id": "a043a383",
   "metadata": {},
   "source": [
    "### write out DataFrame:     stores_clust_info_combined2"
   ]
  },
  {
   "cell_type": "code",
   "execution_count": 93,
   "id": "d86015b8",
   "metadata": {},
   "outputs": [],
   "source": [
    "# stores_clust_info_combined2.to_csv(r'C:\\Users\\dgarb\\OneDrive\\Desktop\\Capstone Data\\liquor_2021\\stores_clust_info_combined2.csv')"
   ]
  },
  {
   "cell_type": "code",
   "execution_count": 94,
   "id": "9c5b9f06",
   "metadata": {},
   "outputs": [],
   "source": [
    "# stores_clust_info_combined2.info()"
   ]
  },
  {
   "cell_type": "code",
   "execution_count": 95,
   "id": "b7d6f967",
   "metadata": {},
   "outputs": [],
   "source": [
    "pd.set_option('display.max_columns', None)"
   ]
  },
  {
   "cell_type": "markdown",
   "id": "327fe91b",
   "metadata": {},
   "source": [
    "stores_in_zips is the number of stores in each zip code in the DataFrame:  stores_clust_info_combined2"
   ]
  },
  {
   "cell_type": "code",
   "execution_count": 96,
   "id": "b92dd239",
   "metadata": {},
   "outputs": [],
   "source": [
    "stores_in_zips = stores.groupby(['Zip_Code'])['Store_Number'].nunique().reset_index()\n"
   ]
  },
  {
   "cell_type": "code",
   "execution_count": 97,
   "id": "dff9223c",
   "metadata": {},
   "outputs": [
    {
     "data": {
      "text/html": [
       "<div>\n",
       "<style scoped>\n",
       "    .dataframe tbody tr th:only-of-type {\n",
       "        vertical-align: middle;\n",
       "    }\n",
       "\n",
       "    .dataframe tbody tr th {\n",
       "        vertical-align: top;\n",
       "    }\n",
       "\n",
       "    .dataframe thead th {\n",
       "        text-align: right;\n",
       "    }\n",
       "</style>\n",
       "<table border=\"1\" class=\"dataframe\">\n",
       "  <thead>\n",
       "    <tr style=\"text-align: right;\">\n",
       "      <th></th>\n",
       "      <th>Zip_Code</th>\n",
       "      <th>Store_Number</th>\n",
       "    </tr>\n",
       "  </thead>\n",
       "  <tbody>\n",
       "    <tr>\n",
       "      <th>0</th>\n",
       "      <td>50002</td>\n",
       "      <td>2</td>\n",
       "    </tr>\n",
       "    <tr>\n",
       "      <th>1</th>\n",
       "      <td>50003</td>\n",
       "      <td>5</td>\n",
       "    </tr>\n",
       "    <tr>\n",
       "      <th>2</th>\n",
       "      <td>50005</td>\n",
       "      <td>1</td>\n",
       "    </tr>\n",
       "    <tr>\n",
       "      <th>3</th>\n",
       "      <td>50006</td>\n",
       "      <td>2</td>\n",
       "    </tr>\n",
       "    <tr>\n",
       "      <th>4</th>\n",
       "      <td>50008</td>\n",
       "      <td>1</td>\n",
       "    </tr>\n",
       "  </tbody>\n",
       "</table>\n",
       "</div>"
      ],
      "text/plain": [
       "   Zip_Code  Store_Number\n",
       "0     50002             2\n",
       "1     50003             5\n",
       "2     50005             1\n",
       "3     50006             2\n",
       "4     50008             1"
      ]
     },
     "execution_count": 97,
     "metadata": {},
     "output_type": "execute_result"
    }
   ],
   "source": [
    "stores_in_zips.head()"
   ]
  },
  {
   "cell_type": "code",
   "execution_count": 98,
   "id": "90cc2863",
   "metadata": {},
   "outputs": [],
   "source": [
    "stores_in_zips.columns = ['Zip_Code', 'number_of_stores']"
   ]
  },
  {
   "cell_type": "code",
   "execution_count": 99,
   "id": "b6e7f44c",
   "metadata": {},
   "outputs": [
    {
     "data": {
      "text/html": [
       "<div>\n",
       "<style scoped>\n",
       "    .dataframe tbody tr th:only-of-type {\n",
       "        vertical-align: middle;\n",
       "    }\n",
       "\n",
       "    .dataframe tbody tr th {\n",
       "        vertical-align: top;\n",
       "    }\n",
       "\n",
       "    .dataframe thead th {\n",
       "        text-align: right;\n",
       "    }\n",
       "</style>\n",
       "<table border=\"1\" class=\"dataframe\">\n",
       "  <thead>\n",
       "    <tr style=\"text-align: right;\">\n",
       "      <th></th>\n",
       "      <th>Zip_Code</th>\n",
       "      <th>number_of_stores</th>\n",
       "    </tr>\n",
       "  </thead>\n",
       "  <tbody>\n",
       "    <tr>\n",
       "      <th>0</th>\n",
       "      <td>50002</td>\n",
       "      <td>2</td>\n",
       "    </tr>\n",
       "    <tr>\n",
       "      <th>1</th>\n",
       "      <td>50003</td>\n",
       "      <td>5</td>\n",
       "    </tr>\n",
       "    <tr>\n",
       "      <th>2</th>\n",
       "      <td>50005</td>\n",
       "      <td>1</td>\n",
       "    </tr>\n",
       "    <tr>\n",
       "      <th>3</th>\n",
       "      <td>50006</td>\n",
       "      <td>2</td>\n",
       "    </tr>\n",
       "    <tr>\n",
       "      <th>4</th>\n",
       "      <td>50008</td>\n",
       "      <td>1</td>\n",
       "    </tr>\n",
       "  </tbody>\n",
       "</table>\n",
       "</div>"
      ],
      "text/plain": [
       "   Zip_Code  number_of_stores\n",
       "0     50002                 2\n",
       "1     50003                 5\n",
       "2     50005                 1\n",
       "3     50006                 2\n",
       "4     50008                 1"
      ]
     },
     "execution_count": 99,
     "metadata": {},
     "output_type": "execute_result"
    }
   ],
   "source": [
    "stores_in_zips.head()"
   ]
  },
  {
   "cell_type": "markdown",
   "id": "542c104f",
   "metadata": {},
   "source": [
    "### write out stores_in_zips"
   ]
  },
  {
   "cell_type": "code",
   "execution_count": 100,
   "id": "1a2ce473",
   "metadata": {},
   "outputs": [],
   "source": [
    "# stores_in_zips.to_csv(r'C:\\Users\\dgarb\\OneDrive\\Desktop\\Capstone Data\\liquor_2021\\stores_in_zips.csv')"
   ]
  },
  {
   "cell_type": "raw",
   "id": "8131a733",
   "metadata": {},
   "source": [
    "Note: use this population/num_stores = how_many_people being served by a store so only look at zip codes where this number of high"
   ]
  },
  {
   "cell_type": "code",
   "execution_count": 101,
   "id": "de834617",
   "metadata": {},
   "outputs": [],
   "source": [
    "# population / number of stores that are high end \n",
    "# population / number of stores that are medium end \n",
    "# population / number of stores that are low end "
   ]
  }
 ],
 "metadata": {
  "kernelspec": {
   "display_name": "Python 3 (ipykernel)",
   "language": "python",
   "name": "python3"
  },
  "language_info": {
   "codemirror_mode": {
    "name": "ipython",
    "version": 3
   },
   "file_extension": ".py",
   "mimetype": "text/x-python",
   "name": "python",
   "nbconvert_exporter": "python",
   "pygments_lexer": "ipython3",
   "version": "3.9.7"
  }
 },
 "nbformat": 4,
 "nbformat_minor": 5
}

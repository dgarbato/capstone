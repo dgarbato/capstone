{
 "cells": [
  {
   "cell_type": "markdown",
   "id": "febfaf85",
   "metadata": {},
   "source": [
    "pivot_table"
   ]
  },
  {
   "cell_type": "raw",
   "id": "b9e7ec35",
   "metadata": {},
   "source": [
    "# anger_metric  metric_name angle_value\n",
    "0   71.0991 roll    14.6832\n",
    "1   71.0991 yaw     0.7009\n",
    "2   71.0991 pitch   22.5075\n",
    "3   90.1341 roll    4.8566\n",
    "4   90.1341 yaw     6.4458\n",
    "5   90.1341 pitch   -10.1930\n",
    "\n",
    "\n",
    "result = df.pivot_table(index='anger_metric', \n",
    "                        columns='metric_name', \n",
    "                        values='angle_value')\n",
    "                        \n",
    "                        \n",
    "result\n",
    "                pitch     roll     yaw\n",
    "anger_metric                          \n",
    "71.0991       22.5075  14.6832  0.7009\n",
    "90.1341      -10.1930   4.8566  6.4458\n",
    "                        \n"
   ]
  },
  {
   "cell_type": "code",
   "execution_count": null,
   "id": "698385d4",
   "metadata": {},
   "outputs": [],
   "source": [
    "x"
   ]
  },
  {
   "cell_type": "raw",
   "id": "c17732eb",
   "metadata": {},
   "source": []
  }
 ],
 "metadata": {
  "kernelspec": {
   "display_name": "Python 3 (ipykernel)",
   "language": "python",
   "name": "python3"
  },
  "language_info": {
   "codemirror_mode": {
    "name": "ipython",
    "version": 3
   },
   "file_extension": ".py",
   "mimetype": "text/x-python",
   "name": "python",
   "nbconvert_exporter": "python",
   "pygments_lexer": "ipython3",
   "version": "3.9.7"
  }
 },
 "nbformat": 4,
 "nbformat_minor": 5
}

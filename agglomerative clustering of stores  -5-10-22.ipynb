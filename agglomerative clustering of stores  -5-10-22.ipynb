{
 "cells": [
  {
   "cell_type": "code",
   "execution_count": 1,
   "id": "5d9f3da7",
   "metadata": {},
   "outputs": [],
   "source": [
    "import pandas as pd\n",
    "import numpy as np"
   ]
  },
  {
   "cell_type": "code",
   "execution_count": 2,
   "id": "6084dbbb",
   "metadata": {},
   "outputs": [],
   "source": [
    "from sklearn.cluster import AgglomerativeClustering\n",
    "hier = AgglomerativeClustering()"
   ]
  },
  {
   "cell_type": "code",
   "execution_count": 3,
   "id": "4dc5082b",
   "metadata": {},
   "outputs": [],
   "source": [
    "%matplotlib inline\n",
    "import matplotlib.pyplot as plt"
   ]
  },
  {
   "cell_type": "code",
   "execution_count": 4,
   "id": "5bde30b3",
   "metadata": {},
   "outputs": [],
   "source": [
    "sdtypes ={'Store_Number':str,'Zip_Code':str}"
   ]
  },
  {
   "cell_type": "code",
   "execution_count": 5,
   "id": "2b7f2987",
   "metadata": {},
   "outputs": [],
   "source": [
    "# stores_clust_info_combined3= pd.read_csv(r'C:\\Users\\dgarb\\OneDrive\\Desktop\\Capstone Data\\liquor_2021\\stores_clust_info_combined3.csv',dtype=sdtypes,index_col=0)"
   ]
  },
  {
   "cell_type": "code",
   "execution_count": 6,
   "id": "d16e0ddc",
   "metadata": {},
   "outputs": [],
   "source": [
    "stores_clust_info_combined4= pd.read_csv(r'C:\\Users\\dgarb\\OneDrive\\Desktop\\Capstone Data\\liquor_2021\\stores_clust_info_combined4.csv',dtype=sdtypes,index_col=0)"
   ]
  },
  {
   "cell_type": "code",
   "execution_count": 7,
   "id": "3396a9b1",
   "metadata": {},
   "outputs": [
    {
     "data": {
      "text/html": [
       "<div>\n",
       "<style scoped>\n",
       "    .dataframe tbody tr th:only-of-type {\n",
       "        vertical-align: middle;\n",
       "    }\n",
       "\n",
       "    .dataframe tbody tr th {\n",
       "        vertical-align: top;\n",
       "    }\n",
       "\n",
       "    .dataframe thead th {\n",
       "        text-align: right;\n",
       "    }\n",
       "</style>\n",
       "<table border=\"1\" class=\"dataframe\">\n",
       "  <thead>\n",
       "    <tr style=\"text-align: right;\">\n",
       "      <th></th>\n",
       "      <th>Store_Number</th>\n",
       "      <th>Store_Name</th>\n",
       "      <th>Address</th>\n",
       "      <th>City</th>\n",
       "      <th>Zip_Code</th>\n",
       "      <th>Store_Location</th>\n",
       "      <th>County_Number</th>\n",
       "      <th>County</th>\n",
       "      <th>Store_Name.1</th>\n",
       "      <th>store_revenue</th>\n",
       "      <th>...</th>\n",
       "      <th>cl_Popular_Bottles_scaled</th>\n",
       "      <th>cl_Quick_Shots_scaled</th>\n",
       "      <th>cl_Volume_For_Dollar_scaled</th>\n",
       "      <th>num_unique_clusters_scaled</th>\n",
       "      <th>label_2</th>\n",
       "      <th>Store_Cluster</th>\n",
       "      <th>Convenience</th>\n",
       "      <th>Large</th>\n",
       "      <th>Medium</th>\n",
       "      <th>Smaller</th>\n",
       "    </tr>\n",
       "  </thead>\n",
       "  <tbody>\n",
       "    <tr>\n",
       "      <th>0</th>\n",
       "      <td>3855</td>\n",
       "      <td>Dyno's Wine and Spirits / Storm Lake</td>\n",
       "      <td>1201 1/2 Lakeshore Dr</td>\n",
       "      <td>Storm Lake</td>\n",
       "      <td>50588</td>\n",
       "      <td>NaN</td>\n",
       "      <td>11</td>\n",
       "      <td>BUENA VIST</td>\n",
       "      <td>Dyno's Wine and Spirits / Storm Lake</td>\n",
       "      <td>22050030.17</td>\n",
       "      <td>...</td>\n",
       "      <td>-2.686817</td>\n",
       "      <td>-0.669103</td>\n",
       "      <td>-0.793981</td>\n",
       "      <td>-2.003923</td>\n",
       "      <td>0</td>\n",
       "      <td>Convenience</td>\n",
       "      <td>True</td>\n",
       "      <td>False</td>\n",
       "      <td>False</td>\n",
       "      <td>False</td>\n",
       "    </tr>\n",
       "    <tr>\n",
       "      <th>1</th>\n",
       "      <td>4589</td>\n",
       "      <td>Dyno's #53 / Sibley</td>\n",
       "      <td>1026 2nd Ave</td>\n",
       "      <td>Sibley</td>\n",
       "      <td>51249</td>\n",
       "      <td>POINT (-95.752119 43.397431)</td>\n",
       "      <td>72</td>\n",
       "      <td>OSCEOLA</td>\n",
       "      <td>Dyno's #53 / Sibley</td>\n",
       "      <td>48408685.66</td>\n",
       "      <td>...</td>\n",
       "      <td>-2.548573</td>\n",
       "      <td>-0.773541</td>\n",
       "      <td>-0.660332</td>\n",
       "      <td>-0.956813</td>\n",
       "      <td>2</td>\n",
       "      <td>Medium</td>\n",
       "      <td>False</td>\n",
       "      <td>False</td>\n",
       "      <td>True</td>\n",
       "      <td>False</td>\n",
       "    </tr>\n",
       "    <tr>\n",
       "      <th>2</th>\n",
       "      <td>5688</td>\n",
       "      <td>Dyno's #40 / Spencer</td>\n",
       "      <td>1001 S Grand Ave</td>\n",
       "      <td>Spencer</td>\n",
       "      <td>51301</td>\n",
       "      <td>POINT (-95.143701 43.12759)</td>\n",
       "      <td>21</td>\n",
       "      <td>CLAY</td>\n",
       "      <td>Dyno's #40 / Spencer</td>\n",
       "      <td>24308995.32</td>\n",
       "      <td>...</td>\n",
       "      <td>-2.410329</td>\n",
       "      <td>-0.851869</td>\n",
       "      <td>-0.727157</td>\n",
       "      <td>-2.003923</td>\n",
       "      <td>0</td>\n",
       "      <td>Convenience</td>\n",
       "      <td>True</td>\n",
       "      <td>False</td>\n",
       "      <td>False</td>\n",
       "      <td>False</td>\n",
       "    </tr>\n",
       "    <tr>\n",
       "      <th>3</th>\n",
       "      <td>4592</td>\n",
       "      <td>Dyno's #29 / Emmetsburg</td>\n",
       "      <td>2401, Main</td>\n",
       "      <td>Emmetsburg</td>\n",
       "      <td>50536</td>\n",
       "      <td>POINT (-94.681939 43.111913)</td>\n",
       "      <td>74</td>\n",
       "      <td>PALO ALTO</td>\n",
       "      <td>Dyno's #29 / Emmetsburg</td>\n",
       "      <td>11723322.21</td>\n",
       "      <td>...</td>\n",
       "      <td>-2.963305</td>\n",
       "      <td>-0.616885</td>\n",
       "      <td>-0.660332</td>\n",
       "      <td>-0.956813</td>\n",
       "      <td>2</td>\n",
       "      <td>Medium</td>\n",
       "      <td>False</td>\n",
       "      <td>False</td>\n",
       "      <td>True</td>\n",
       "      <td>False</td>\n",
       "    </tr>\n",
       "    <tr>\n",
       "      <th>4</th>\n",
       "      <td>5689</td>\n",
       "      <td>Dyno's #41 / Albert City</td>\n",
       "      <td>5101 230th St</td>\n",
       "      <td>Albert City</td>\n",
       "      <td>50510</td>\n",
       "      <td>POINT (-94.953239 42.777449)</td>\n",
       "      <td>11</td>\n",
       "      <td>BUENA VIST</td>\n",
       "      <td>Dyno's #41 / Albert City</td>\n",
       "      <td>6766721.37</td>\n",
       "      <td>...</td>\n",
       "      <td>-2.963305</td>\n",
       "      <td>-0.825759</td>\n",
       "      <td>-0.793981</td>\n",
       "      <td>-2.003923</td>\n",
       "      <td>3</td>\n",
       "      <td>Smaller</td>\n",
       "      <td>False</td>\n",
       "      <td>False</td>\n",
       "      <td>False</td>\n",
       "      <td>True</td>\n",
       "    </tr>\n",
       "  </tbody>\n",
       "</table>\n",
       "<p>5 rows × 62 columns</p>\n",
       "</div>"
      ],
      "text/plain": [
       "  Store_Number                            Store_Name                Address  \\\n",
       "0         3855  Dyno's Wine and Spirits / Storm Lake  1201 1/2 Lakeshore Dr   \n",
       "1         4589                   Dyno's #53 / Sibley           1026 2nd Ave   \n",
       "2         5688                  Dyno's #40 / Spencer       1001 S Grand Ave   \n",
       "3         4592               Dyno's #29 / Emmetsburg             2401, Main   \n",
       "4         5689              Dyno's #41 / Albert City          5101 230th St   \n",
       "\n",
       "          City Zip_Code                Store_Location  County_Number  \\\n",
       "0   Storm Lake    50588                           NaN             11   \n",
       "1       Sibley    51249  POINT (-95.752119 43.397431)             72   \n",
       "2      Spencer    51301   POINT (-95.143701 43.12759)             21   \n",
       "3   Emmetsburg    50536  POINT (-94.681939 43.111913)             74   \n",
       "4  Albert City    50510  POINT (-94.953239 42.777449)             11   \n",
       "\n",
       "       County                          Store_Name.1  store_revenue  ...  \\\n",
       "0  BUENA VIST  Dyno's Wine and Spirits / Storm Lake    22050030.17  ...   \n",
       "1     OSCEOLA                   Dyno's #53 / Sibley    48408685.66  ...   \n",
       "2        CLAY                  Dyno's #40 / Spencer    24308995.32  ...   \n",
       "3   PALO ALTO               Dyno's #29 / Emmetsburg    11723322.21  ...   \n",
       "4  BUENA VIST              Dyno's #41 / Albert City     6766721.37  ...   \n",
       "\n",
       "   cl_Popular_Bottles_scaled  cl_Quick_Shots_scaled  \\\n",
       "0                  -2.686817              -0.669103   \n",
       "1                  -2.548573              -0.773541   \n",
       "2                  -2.410329              -0.851869   \n",
       "3                  -2.963305              -0.616885   \n",
       "4                  -2.963305              -0.825759   \n",
       "\n",
       "   cl_Volume_For_Dollar_scaled  num_unique_clusters_scaled  label_2  \\\n",
       "0                    -0.793981                   -2.003923        0   \n",
       "1                    -0.660332                   -0.956813        2   \n",
       "2                    -0.727157                   -2.003923        0   \n",
       "3                    -0.660332                   -0.956813        2   \n",
       "4                    -0.793981                   -2.003923        3   \n",
       "\n",
       "   Store_Cluster  Convenience  Large  Medium  Smaller  \n",
       "0    Convenience         True  False   False    False  \n",
       "1         Medium        False  False    True    False  \n",
       "2    Convenience         True  False   False    False  \n",
       "3         Medium        False  False    True    False  \n",
       "4        Smaller        False  False   False     True  \n",
       "\n",
       "[5 rows x 62 columns]"
      ]
     },
     "execution_count": 7,
     "metadata": {},
     "output_type": "execute_result"
    }
   ],
   "source": [
    "stores_clust_info_combined4.head()"
   ]
  },
  {
   "cell_type": "code",
   "execution_count": 8,
   "id": "81b52a4d",
   "metadata": {},
   "outputs": [
    {
     "name": "stdout",
     "output_type": "stream",
     "text": [
      "<class 'pandas.core.frame.DataFrame'>\n",
      "Int64Index: 1925 entries, 0 to 1924\n",
      "Data columns (total 62 columns):\n",
      " #   Column                            Non-Null Count  Dtype  \n",
      "---  ------                            --------------  -----  \n",
      " 0   Store_Number                      1925 non-null   object \n",
      " 1   Store_Name                        1925 non-null   object \n",
      " 2   Address                           1925 non-null   object \n",
      " 3   City                              1925 non-null   object \n",
      " 4   Zip_Code                          1925 non-null   object \n",
      " 5   Store_Location                    1769 non-null   object \n",
      " 6   County_Number                     1925 non-null   int64  \n",
      " 7   County                            1925 non-null   object \n",
      " 8   Store_Name.1                      1925 non-null   object \n",
      " 9   store_revenue                     1925 non-null   float64\n",
      " 10  tot_num_unique_items              1925 non-null   int64  \n",
      " 11  num_unique_clusters               1925 non-null   int64  \n",
      " 12  tot_item_count                    1925 non-null   int64  \n",
      " 13  rev_Cheap                         1925 non-null   float64\n",
      " 14  rev_High_End                      1925 non-null   float64\n",
      " 15  rev_Moderately_High               1925 non-null   float64\n",
      " 16  rev_Most_Variety                  1925 non-null   float64\n",
      " 17  rev_Popular_Bottles               1925 non-null   float64\n",
      " 18  rev_Quick_Shots                   1925 non-null   float64\n",
      " 19  rev_Volume_For_Dollar             1925 non-null   float64\n",
      " 20  prod_count_pct_Cheap              1925 non-null   float64\n",
      " 21  prod_count_pct_High_End           1925 non-null   float64\n",
      " 22  prod_count_pct_Moderately_High    1925 non-null   float64\n",
      " 23  prod_count_pct_Most_Variety       1925 non-null   float64\n",
      " 24  prod_count_pct_Popular_Bottles    1925 non-null   float64\n",
      " 25  prod_count_pct_Quick_Shots        1925 non-null   float64\n",
      " 26  prod_count_pct_Volume_For_Dollar  1925 non-null   float64\n",
      " 27  item_Cheap                        1925 non-null   float64\n",
      " 28  item_High_End                     1925 non-null   float64\n",
      " 29  item_Moderately_High              1925 non-null   float64\n",
      " 30  item_Most_Variety                 1925 non-null   float64\n",
      " 31  item_Popular_Bottles              1925 non-null   float64\n",
      " 32  item_Quick_Shots                  1925 non-null   float64\n",
      " 33  item_Volume_For_Dollar            1925 non-null   float64\n",
      " 34  cl_Cheap                          1925 non-null   float64\n",
      " 35  cl_High_End                       1925 non-null   float64\n",
      " 36  cl_Moderately_High                1925 non-null   float64\n",
      " 37  cl_Most_Variety                   1925 non-null   float64\n",
      " 38  cl_Popular_Bottles                1925 non-null   float64\n",
      " 39  cl_Quick_Shots                    1925 non-null   float64\n",
      " 40  cl_Volume_For_Dollar              1925 non-null   float64\n",
      " 41  store_revenue_scaled              1925 non-null   float64\n",
      " 42  tot_num_unique_items_scaled       1925 non-null   float64\n",
      " 43  rev_Cheap_scaled                  1925 non-null   float64\n",
      " 44  rev_Moderately_High_scaled        1925 non-null   float64\n",
      " 45  rev_Most_Variety_scaled           1925 non-null   float64\n",
      " 46  rev_Popular_Bottles_scaled        1925 non-null   float64\n",
      " 47  rev_Volume_For_Dollar_scaled      1925 non-null   float64\n",
      " 48  cl_Cheap_scaled                   1925 non-null   float64\n",
      " 49  cl_High_End_scaled                1925 non-null   float64\n",
      " 50  cl_Moderately_High_scaled         1925 non-null   float64\n",
      " 51  cl_Most_Variety_scaled            1925 non-null   float64\n",
      " 52  cl_Popular_Bottles_scaled         1925 non-null   float64\n",
      " 53  cl_Quick_Shots_scaled             1925 non-null   float64\n",
      " 54  cl_Volume_For_Dollar_scaled       1925 non-null   float64\n",
      " 55  num_unique_clusters_scaled        1925 non-null   float64\n",
      " 56  label_2                           1925 non-null   int64  \n",
      " 57  Store_Cluster                     1925 non-null   object \n",
      " 58  Convenience                       1925 non-null   bool   \n",
      " 59  Large                             1925 non-null   bool   \n",
      " 60  Medium                            1925 non-null   bool   \n",
      " 61  Smaller                           1925 non-null   bool   \n",
      "dtypes: bool(4), float64(44), int64(5), object(9)\n",
      "memory usage: 894.8+ KB\n"
     ]
    }
   ],
   "source": [
    "stores_clust_info_combined4.info()"
   ]
  },
  {
   "cell_type": "code",
   "execution_count": 9,
   "id": "7c49ed14",
   "metadata": {},
   "outputs": [
    {
     "data": {
      "text/plain": [
       "Index(['Store_Number', 'Store_Name', 'Address', 'City', 'Zip_Code',\n",
       "       'Store_Location', 'County_Number', 'County', 'Store_Name.1',\n",
       "       'store_revenue', 'tot_num_unique_items', 'num_unique_clusters',\n",
       "       'tot_item_count', 'rev_Cheap', 'rev_High_End', 'rev_Moderately_High',\n",
       "       'rev_Most_Variety', 'rev_Popular_Bottles', 'rev_Quick_Shots',\n",
       "       'rev_Volume_For_Dollar', 'prod_count_pct_Cheap',\n",
       "       'prod_count_pct_High_End', 'prod_count_pct_Moderately_High',\n",
       "       'prod_count_pct_Most_Variety', 'prod_count_pct_Popular_Bottles',\n",
       "       'prod_count_pct_Quick_Shots', 'prod_count_pct_Volume_For_Dollar',\n",
       "       'item_Cheap', 'item_High_End', 'item_Moderately_High',\n",
       "       'item_Most_Variety', 'item_Popular_Bottles', 'item_Quick_Shots',\n",
       "       'item_Volume_For_Dollar', 'cl_Cheap', 'cl_High_End',\n",
       "       'cl_Moderately_High', 'cl_Most_Variety', 'cl_Popular_Bottles',\n",
       "       'cl_Quick_Shots', 'cl_Volume_For_Dollar', 'store_revenue_scaled',\n",
       "       'tot_num_unique_items_scaled', 'rev_Cheap_scaled',\n",
       "       'rev_Moderately_High_scaled', 'rev_Most_Variety_scaled',\n",
       "       'rev_Popular_Bottles_scaled', 'rev_Volume_For_Dollar_scaled',\n",
       "       'cl_Cheap_scaled', 'cl_High_End_scaled', 'cl_Moderately_High_scaled',\n",
       "       'cl_Most_Variety_scaled', 'cl_Popular_Bottles_scaled',\n",
       "       'cl_Quick_Shots_scaled', 'cl_Volume_For_Dollar_scaled',\n",
       "       'num_unique_clusters_scaled', 'label_2', 'Store_Cluster', 'Convenience',\n",
       "       'Large', 'Medium', 'Smaller'],\n",
       "      dtype='object')"
      ]
     },
     "execution_count": 9,
     "metadata": {},
     "output_type": "execute_result"
    }
   ],
   "source": [
    "stores_clust_info_combined4.columns"
   ]
  },
  {
   "cell_type": "code",
   "execution_count": 10,
   "id": "a13152fb",
   "metadata": {},
   "outputs": [],
   "source": [
    "stores_clust_info_combined4 = stores_clust_info_combined4.drop(columns=['cl_Cheap_scaled', 'cl_High_End_scaled', 'cl_Moderately_High_scaled',\n",
    "       'cl_Most_Variety_scaled', 'cl_Popular_Bottles_scaled',\n",
    "       'cl_Quick_Shots_scaled', 'cl_Volume_For_Dollar_scaled',\n",
    "       'num_unique_clusters_scaled', 'label_2', 'Store_Cluster', 'Convenience',\n",
    "       'Large', 'Medium', 'Smaller'])  #.head(2)"
   ]
  },
  {
   "cell_type": "markdown",
   "id": "3539add1",
   "metadata": {},
   "source": [
    "outliers removed and features scaled in notebook -> Kmeans Stores 18 outlier stores removed "
   ]
  },
  {
   "cell_type": "code",
   "execution_count": 11,
   "id": "031906d8",
   "metadata": {},
   "outputs": [],
   "source": [
    "from scipy.cluster.hierarchy import dendrogram, linkage\n",
    "from scipy.spatial.distance import pdist, squareform\n",
    "\n",
    "def linkage_frame(data):\n",
    "    row_clusters = linkage(data, method='complete', metric='euclidean')\n",
    "    columns = ['row label 1', 'row label 2', 'distance', 'no. items in clust.']\n",
    "    index = ['cluster %d' % (i + 1) for i in range(row_clusters.shape[0])]\n",
    "    linkage_df = pd.DataFrame(row_clusters, columns=columns, index=index)\n",
    "    return linkage_df"
   ]
  },
  {
   "cell_type": "code",
   "execution_count": 12,
   "id": "32c980a5",
   "metadata": {},
   "outputs": [],
   "source": [
    "# from sklearn.preprocessing import StandardScaler"
   ]
  },
  {
   "cell_type": "code",
   "execution_count": 13,
   "id": "40c039be",
   "metadata": {},
   "outputs": [],
   "source": [
    "# scaler = StandardScaler()"
   ]
  },
  {
   "cell_type": "code",
   "execution_count": 14,
   "id": "58ced717",
   "metadata": {},
   "outputs": [],
   "source": [
    "# stores_clust_info_combined3[['Bottle_Volume_scaled', 'Bottle_Retail_scaled', 'orders_scaled' ]] = scaler.fit_transform\\\n",
    "#                                            (most_variety[['Bottle_Volume','Bottle_Retail','orders'] ])\n",
    "                                                   \n"
   ]
  },
  {
   "cell_type": "code",
   "execution_count": 15,
   "id": "da00e23d",
   "metadata": {},
   "outputs": [],
   "source": [
    "cluster_cols = ['tot_num_unique_items_scaled',\n",
    " 'rev_Cheap_scaled',\n",
    " 'rev_Moderately_High_scaled',\n",
    " 'rev_Most_Variety_scaled',\n",
    " 'rev_Popular_Bottles_scaled',\n",
    " 'rev_Volume_For_Dollar_scaled']"
   ]
  },
  {
   "cell_type": "markdown",
   "id": "3983e575",
   "metadata": {},
   "source": [
    "make copy of stores_clust_info_combined4_copy"
   ]
  },
  {
   "cell_type": "code",
   "execution_count": 16,
   "id": "cef17789",
   "metadata": {},
   "outputs": [],
   "source": [
    "stores_clust_info_combined4_copy = stores_clust_info_combined4.copy()"
   ]
  },
  {
   "cell_type": "markdown",
   "id": "94e5da30",
   "metadata": {},
   "source": [
    "set index to 'Store_Number'"
   ]
  },
  {
   "cell_type": "code",
   "execution_count": 17,
   "id": "7c56f10a",
   "metadata": {},
   "outputs": [],
   "source": [
    "stores_clust_info_combined4 = stores_clust_info_combined4.set_index('Store_Number')"
   ]
  },
  {
   "cell_type": "code",
   "execution_count": 18,
   "id": "2bd92401",
   "metadata": {},
   "outputs": [],
   "source": [
    "linkage_df = linkage_frame(stores_clust_info_combined4[cluster_cols])"
   ]
  },
  {
   "cell_type": "code",
   "execution_count": 19,
   "id": "0db6e784",
   "metadata": {},
   "outputs": [
    {
     "data": {
      "image/png": "[encoded data removed]",
      "text/plain": [
       "<Figure size 432x288 with 1 Axes>"
      ]
     },
     "metadata": {
      "needs_background": "light"
     },
     "output_type": "display_data"
    }
   ],
   "source": [
    "row_dendr = dendrogram(linkage_df, leaf_rotation=90, leaf_font_size=8)\n",
    "plt.tight_layout()\n",
    "plt.ylabel('Euclidean distance')\n",
    "plt.show()"
   ]
  },
  {
   "cell_type": "code",
   "execution_count": 20,
   "id": "5b43aca6",
   "metadata": {},
   "outputs": [
    {
     "data": {
      "image/png": "[encoded data removed]",
      "text/plain": [
       "<Figure size 432x288 with 1 Axes>"
      ]
     },
     "metadata": {
      "needs_background": "light"
     },
     "output_type": "display_data"
    }
   ],
   "source": [
    "row_dendr = dendrogram(linkage_df, leaf_rotation=90, truncate_mode='lastp', p = 10, leaf_font_size=8)\n",
    "plt.tight_layout()\n",
    "plt.ylabel('Euclidean distance')\n",
    "plt.show()"
   ]
  },
  {
   "cell_type": "code",
   "execution_count": 21,
   "id": "e23dfae4",
   "metadata": {},
   "outputs": [],
   "source": [
    "#dpg 3 clusters"
   ]
  },
  {
   "cell_type": "code",
   "execution_count": 22,
   "id": "edffeac2",
   "metadata": {},
   "outputs": [
    {
     "data": {
      "text/html": [
       "<div>\n",
       "<style scoped>\n",
       "    .dataframe tbody tr th:only-of-type {\n",
       "        vertical-align: middle;\n",
       "    }\n",
       "\n",
       "    .dataframe tbody tr th {\n",
       "        vertical-align: top;\n",
       "    }\n",
       "\n",
       "    .dataframe thead th {\n",
       "        text-align: right;\n",
       "    }\n",
       "</style>\n",
       "<table border=\"1\" class=\"dataframe\">\n",
       "  <thead>\n",
       "    <tr style=\"text-align: right;\">\n",
       "      <th></th>\n",
       "      <th>row label 1</th>\n",
       "      <th>row label 2</th>\n",
       "      <th>distance</th>\n",
       "      <th>no. items in clust.</th>\n",
       "    </tr>\n",
       "  </thead>\n",
       "  <tbody>\n",
       "    <tr>\n",
       "      <th>cluster 1</th>\n",
       "      <td>75.0</td>\n",
       "      <td>402.0</td>\n",
       "      <td>0.027164</td>\n",
       "      <td>2.0</td>\n",
       "    </tr>\n",
       "    <tr>\n",
       "      <th>cluster 2</th>\n",
       "      <td>1561.0</td>\n",
       "      <td>1833.0</td>\n",
       "      <td>0.032167</td>\n",
       "      <td>2.0</td>\n",
       "    </tr>\n",
       "    <tr>\n",
       "      <th>cluster 3</th>\n",
       "      <td>709.0</td>\n",
       "      <td>1737.0</td>\n",
       "      <td>0.038063</td>\n",
       "      <td>2.0</td>\n",
       "    </tr>\n",
       "    <tr>\n",
       "      <th>cluster 4</th>\n",
       "      <td>1258.0</td>\n",
       "      <td>1825.0</td>\n",
       "      <td>0.038565</td>\n",
       "      <td>2.0</td>\n",
       "    </tr>\n",
       "    <tr>\n",
       "      <th>cluster 5</th>\n",
       "      <td>966.0</td>\n",
       "      <td>1498.0</td>\n",
       "      <td>0.038748</td>\n",
       "      <td>2.0</td>\n",
       "    </tr>\n",
       "    <tr>\n",
       "      <th>...</th>\n",
       "      <td>...</td>\n",
       "      <td>...</td>\n",
       "      <td>...</td>\n",
       "      <td>...</td>\n",
       "    </tr>\n",
       "    <tr>\n",
       "      <th>cluster 1920</th>\n",
       "      <td>3840.0</td>\n",
       "      <td>3841.0</td>\n",
       "      <td>8.496260</td>\n",
       "      <td>1696.0</td>\n",
       "    </tr>\n",
       "    <tr>\n",
       "      <th>cluster 1921</th>\n",
       "      <td>3839.0</td>\n",
       "      <td>3843.0</td>\n",
       "      <td>9.254354</td>\n",
       "      <td>188.0</td>\n",
       "    </tr>\n",
       "    <tr>\n",
       "      <th>cluster 1922</th>\n",
       "      <td>3838.0</td>\n",
       "      <td>3844.0</td>\n",
       "      <td>10.523810</td>\n",
       "      <td>1734.0</td>\n",
       "    </tr>\n",
       "    <tr>\n",
       "      <th>cluster 1923</th>\n",
       "      <td>3845.0</td>\n",
       "      <td>3846.0</td>\n",
       "      <td>11.638068</td>\n",
       "      <td>1922.0</td>\n",
       "    </tr>\n",
       "    <tr>\n",
       "      <th>cluster 1924</th>\n",
       "      <td>3842.0</td>\n",
       "      <td>3847.0</td>\n",
       "      <td>18.057795</td>\n",
       "      <td>1925.0</td>\n",
       "    </tr>\n",
       "  </tbody>\n",
       "</table>\n",
       "<p>1924 rows × 4 columns</p>\n",
       "</div>"
      ],
      "text/plain": [
       "              row label 1  row label 2   distance  no. items in clust.\n",
       "cluster 1            75.0        402.0   0.027164                  2.0\n",
       "cluster 2          1561.0       1833.0   0.032167                  2.0\n",
       "cluster 3           709.0       1737.0   0.038063                  2.0\n",
       "cluster 4          1258.0       1825.0   0.038565                  2.0\n",
       "cluster 5           966.0       1498.0   0.038748                  2.0\n",
       "...                   ...          ...        ...                  ...\n",
       "cluster 1920       3840.0       3841.0   8.496260               1696.0\n",
       "cluster 1921       3839.0       3843.0   9.254354                188.0\n",
       "cluster 1922       3838.0       3844.0  10.523810               1734.0\n",
       "cluster 1923       3845.0       3846.0  11.638068               1922.0\n",
       "cluster 1924       3842.0       3847.0  18.057795               1925.0\n",
       "\n",
       "[1924 rows x 4 columns]"
      ]
     },
     "execution_count": 22,
     "metadata": {},
     "output_type": "execute_result"
    }
   ],
   "source": [
    "linkage_df"
   ]
  },
  {
   "cell_type": "code",
   "execution_count": 23,
   "id": "5eb4f517",
   "metadata": {},
   "outputs": [],
   "source": [
    "from sklearn.cluster import AgglomerativeClustering\n",
    "hier = AgglomerativeClustering()"
   ]
  },
  {
   "cell_type": "code",
   "execution_count": 24,
   "id": "c07a1411",
   "metadata": {},
   "outputs": [
    {
     "data": {
      "text/plain": [
       "AgglomerativeClustering(n_clusters=3)"
      ]
     },
     "execution_count": 24,
     "metadata": {},
     "output_type": "execute_result"
    }
   ],
   "source": [
    "hier.set_params(n_clusters=3)\n",
    "hier.fit(stores_clust_info_combined4[cluster_cols])"
   ]
  },
  {
   "cell_type": "code",
   "execution_count": 25,
   "id": "80e7713c",
   "metadata": {},
   "outputs": [
    {
     "data": {
      "text/plain": [
       "{'affinity': 'euclidean',\n",
       " 'compute_distances': False,\n",
       " 'compute_full_tree': 'auto',\n",
       " 'connectivity': None,\n",
       " 'distance_threshold': None,\n",
       " 'linkage': 'ward',\n",
       " 'memory': None,\n",
       " 'n_clusters': 3}"
      ]
     },
     "execution_count": 25,
     "metadata": {},
     "output_type": "execute_result"
    }
   ],
   "source": [
    "hier.get_params()"
   ]
  },
  {
   "cell_type": "code",
   "execution_count": 26,
   "id": "fe036fe1",
   "metadata": {},
   "outputs": [],
   "source": []
  },
  {
   "cell_type": "code",
   "execution_count": null,
   "id": "62f11504",
   "metadata": {},
   "outputs": [],
   "source": []
  },
  {
   "cell_type": "code",
   "execution_count": 27,
   "id": "617953f4",
   "metadata": {},
   "outputs": [],
   "source": [
    "from sklearn import metrics\n",
    "from sklearn.metrics import pairwise_distances"
   ]
  },
  {
   "cell_type": "code",
   "execution_count": 28,
   "id": "c119293a",
   "metadata": {},
   "outputs": [
    {
     "data": {
      "text/plain": [
       "0.4093786231309391"
      ]
     },
     "execution_count": 28,
     "metadata": {},
     "output_type": "execute_result"
    }
   ],
   "source": [
    "hier.set_params(n_clusters=3)\n",
    "hier.fit(stores_clust_info_combined4[cluster_cols])\n",
    "labels = hier.labels_\n",
    "metrics.silhouette_score(stores_clust_info_combined4[cluster_cols], labels, metric='euclidean')"
   ]
  },
  {
   "cell_type": "code",
   "execution_count": 29,
   "id": "cf41e9f3",
   "metadata": {},
   "outputs": [
    {
     "data": {
      "text/plain": [
       "0.4201812008813292"
      ]
     },
     "execution_count": 29,
     "metadata": {},
     "output_type": "execute_result"
    }
   ],
   "source": [
    "hier.set_params(n_clusters=4)\n",
    "hier.fit(stores_clust_info_combined4[cluster_cols])\n",
    "labels = hier.labels_\n",
    "metrics.silhouette_score(stores_clust_info_combined4[cluster_cols], labels, metric='euclidean')"
   ]
  },
  {
   "cell_type": "code",
   "execution_count": 30,
   "id": "b131ec66",
   "metadata": {},
   "outputs": [
    {
     "data": {
      "text/plain": [
       "0.38497481318593446"
      ]
     },
     "execution_count": 30,
     "metadata": {},
     "output_type": "execute_result"
    }
   ],
   "source": [
    "hier.set_params(n_clusters=5)\n",
    "hier.fit(stores_clust_info_combined4[cluster_cols])\n",
    "labels = hier.labels_\n",
    "metrics.silhouette_score(stores_clust_info_combined4[cluster_cols], labels, metric='euclidean')"
   ]
  },
  {
   "cell_type": "code",
   "execution_count": 31,
   "id": "8a5bb51f",
   "metadata": {},
   "outputs": [
    {
     "data": {
      "text/plain": [
       "0.2546005081484034"
      ]
     },
     "execution_count": 31,
     "metadata": {},
     "output_type": "execute_result"
    }
   ],
   "source": [
    "hier.set_params(n_clusters=6)\n",
    "hier.fit(stores_clust_info_combined4[cluster_cols])\n",
    "labels = hier.labels_\n",
    "metrics.silhouette_score(stores_clust_info_combined4[cluster_cols], labels, metric='euclidean')"
   ]
  }
 ],
 "metadata": {
  "kernelspec": {
   "display_name": "Python 3 (ipykernel)",
   "language": "python",
   "name": "python3"
  },
  "language_info": {
   "codemirror_mode": {
    "name": "ipython",
    "version": 3
   },
   "file_extension": ".py",
   "mimetype": "text/x-python",
   "name": "python",
   "nbconvert_exporter": "python",
   "pygments_lexer": "ipython3",
   "version": "3.9.7"
  }
 },
 "nbformat": 4,
 "nbformat_minor": 5
}

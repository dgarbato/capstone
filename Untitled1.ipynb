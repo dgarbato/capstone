{
 "cells": [
  {
   "cell_type": "code",
   "execution_count": null,
   "id": "18d8defe",
   "metadata": {},
   "outputs": [],
   "source": [
    "how to set values equal to a constant\n",
    "how to do iff then else"
   ]
  },
  {
   "cell_type": "code",
   "execution_count": 5,
   "id": "998d1d5a",
   "metadata": {},
   "outputs": [
    {
     "data": {
      "text/plain": [
       "<sqlite3.Connection at 0x1f17d6df8a0>"
      ]
     },
     "execution_count": 5,
     "metadata": {},
     "output_type": "execute_result"
    }
   ],
   "source": [
    "import sqlite3\n",
    "sqlite3.connect('pythonsqlite.db')"
   ]
  },
  {
   "cell_type": "code",
   "execution_count": 2,
   "id": "27fc19c6",
   "metadata": {},
   "outputs": [],
   "source": [
    "import sqlite3\n",
    "\n",
    "conn = sqlite3.connect('test_database') \n",
    "c = conn.cursor()\n",
    "\n",
    "c.execute('''\n",
    "          CREATE TABLE IF NOT EXISTS products\n",
    "          ([product_id] INTEGER PRIMARY KEY, [product_name] TEXT)\n",
    "          ''')\n",
    "          \n",
    "c.execute('''\n",
    "          CREATE TABLE IF NOT EXISTS prices\n",
    "          ([product_id] INTEGER PRIMARY KEY, [price] INTEGER)\n",
    "          ''')\n",
    "                     \n",
    "conn.commit()"
   ]
  },
  {
   "cell_type": "code",
   "execution_count": 3,
   "id": "9e69b050",
   "metadata": {},
   "outputs": [],
   "source": [
    "import sqlite3\n",
    "\n",
    "conn = sqlite3.connect('test_database') \n",
    "c = conn.cursor()\n",
    "                   \n",
    "c.execute('''\n",
    "          INSERT INTO products (product_id, product_name)\n",
    "\n",
    "                VALUES\n",
    "                (1,'Computer'),\n",
    "                (2,'Printer'),\n",
    "                (3,'Tablet'),\n",
    "                (4,'Desk'),\n",
    "                (5,'Chair')\n",
    "          ''')\n",
    "\n",
    "c.execute('''\n",
    "          INSERT INTO prices (product_id, price)\n",
    "\n",
    "                VALUES\n",
    "                (1,800),\n",
    "                (2,200),\n",
    "                (3,300),\n",
    "                (4,450),\n",
    "                (5,150)\n",
    "          ''')\n",
    "\n",
    "conn.commit()"
   ]
  },
  {
   "cell_type": "code",
   "execution_count": 4,
   "id": "2fc82f3f",
   "metadata": {},
   "outputs": [
    {
     "name": "stdout",
     "output_type": "stream",
     "text": [
      "  product_name  price\n",
      "0     Computer    800\n",
      "1      Printer    200\n",
      "2       Tablet    300\n",
      "3         Desk    450\n",
      "4        Chair    150\n"
     ]
    }
   ],
   "source": [
    "import sqlite3\n",
    "import pandas as pd\n",
    "\n",
    "conn = sqlite3.connect('test_database') \n",
    "c = conn.cursor()\n",
    "                   \n",
    "c.execute('''\n",
    "          SELECT\n",
    "          a.product_name,\n",
    "          b.price\n",
    "          FROM products a\n",
    "          LEFT JOIN prices b ON a.product_id = b.product_id\n",
    "          ''')\n",
    "\n",
    "df = pd.DataFrame(c.fetchall(), columns=['product_name','price'])\n",
    "print (df)"
   ]
  }
 ],
 "metadata": {
  "kernelspec": {
   "display_name": "Python 3 (ipykernel)",
   "language": "python",
   "name": "python3"
  },
  "language_info": {
   "codemirror_mode": {
    "name": "ipython",
    "version": 3
   },
   "file_extension": ".py",
   "mimetype": "text/x-python",
   "name": "python",
   "nbconvert_exporter": "python",
   "pygments_lexer": "ipython3",
   "version": "3.9.7"
  }
 },
 "nbformat": 4,
 "nbformat_minor": 5
}

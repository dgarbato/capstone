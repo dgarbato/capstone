{
 "cells": [
  {
   "cell_type": "code",
   "execution_count": 1,
   "id": "0f0bb757",
   "metadata": {},
   "outputs": [],
   "source": [
    "import pandas as pd\n",
    "import numpy as np"
   ]
  },
  {
   "cell_type": "code",
   "execution_count": null,
   "id": "ba8f2b38",
   "metadata": {},
   "outputs": [],
   "source": [
    "# dtype={'Category':str,'Item_Number':str,'Category':str}"
   ]
  },
  {
   "cell_type": "code",
   "execution_count": 3,
   "id": "f7386bec",
   "metadata": {},
   "outputs": [],
   "source": [
    "categories_items = pd.read_csv(r'C:\\Users\\dgarb\\OneDrive\\Desktop\\Capstone Data\\liquor_2021\\categories_items.csv',dtype={'Category':str,'Item_Number':str,'Category':str},index_col=0)"
   ]
  },
  {
   "cell_type": "code",
   "execution_count": 4,
   "id": "060dec32",
   "metadata": {},
   "outputs": [
    {
     "name": "stdout",
     "output_type": "stream",
     "text": [
      "<class 'pandas.core.frame.DataFrame'>\n",
      "Int64Index: 4472 entries, 0 to 4471\n",
      "Data columns (total 5 columns):\n",
      " #   Column             Non-Null Count  Dtype \n",
      "---  ------             --------------  ----- \n",
      " 0   Item_Number        4472 non-null   object\n",
      " 1   Item_Description   4472 non-null   object\n",
      " 2   Category           4472 non-null   object\n",
      " 3   Category_Name      4472 non-null   object\n",
      " 4   New_Category_Name  4472 non-null   object\n",
      "dtypes: object(5)\n",
      "memory usage: 209.6+ KB\n"
     ]
    }
   ],
   "source": [
    "categories_items.info()"
   ]
  },
  {
   "cell_type": "code",
   "execution_count": null,
   "id": "107f80d8",
   "metadata": {},
   "outputs": [],
   "source": [
    "store_trans_cluster =pd.read_csv(r'C:\\Users\\dgarb\\OneDrive\\Desktop\\Capstone Data\\liquor_2021\\store_trans_cluster.csv',index_col=0)"
   ]
  }
 ],
 "metadata": {
  "kernelspec": {
   "display_name": "Python 3 (ipykernel)",
   "language": "python",
   "name": "python3"
  },
  "language_info": {
   "codemirror_mode": {
    "name": "ipython",
    "version": 3
   },
   "file_extension": ".py",
   "mimetype": "text/x-python",
   "name": "python",
   "nbconvert_exporter": "python",
   "pygments_lexer": "ipython3",
   "version": "3.9.7"
  }
 },
 "nbformat": 4,
 "nbformat_minor": 5
}

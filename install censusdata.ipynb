{
 "cells": [
  {
   "cell_type": "code",
   "execution_count": 1,
   "id": "2298e0eb",
   "metadata": {},
   "outputs": [
    {
     "name": "stdout",
     "output_type": "stream",
     "text": [
      "Collecting censusdata\n",
      "  Downloading CensusData-1.15.tar.gz (26.6 MB)\n",
      "Requirement already satisfied: pandas in c:\\users\\dgarb\\anaconda3_reinstall\\lib\\site-packages (from censusdata) (1.3.4)\n",
      "Requirement already satisfied: requests in c:\\users\\dgarb\\anaconda3_reinstall\\lib\\site-packages (from censusdata) (2.26.0)\n",
      "Requirement already satisfied: pytz>=2017.3 in c:\\users\\dgarb\\anaconda3_reinstall\\lib\\site-packages (from pandas->censusdata) (2021.3)\n",
      "Requirement already satisfied: python-dateutil>=2.7.3 in c:\\users\\dgarb\\anaconda3_reinstall\\lib\\site-packages (from pandas->censusdata) (2.8.2)\n",
      "Requirement already satisfied: numpy>=1.17.3 in c:\\users\\dgarb\\anaconda3_reinstall\\lib\\site-packages (from pandas->censusdata) (1.20.3)\n",
      "Requirement already satisfied: six>=1.5 in c:\\users\\dgarb\\anaconda3_reinstall\\lib\\site-packages (from python-dateutil>=2.7.3->pandas->censusdata) (1.16.0)\n",
      "Requirement already satisfied: urllib3<1.27,>=1.21.1 in c:\\users\\dgarb\\anaconda3_reinstall\\lib\\site-packages (from requests->censusdata) (1.26.7)\n",
      "Requirement already satisfied: idna<4,>=2.5 in c:\\users\\dgarb\\anaconda3_reinstall\\lib\\site-packages (from requests->censusdata) (3.2)\n",
      "Requirement already satisfied: charset-normalizer~=2.0.0 in c:\\users\\dgarb\\anaconda3_reinstall\\lib\\site-packages (from requests->censusdata) (2.0.4)\n",
      "Requirement already satisfied: certifi>=2017.4.17 in c:\\users\\dgarb\\anaconda3_reinstall\\lib\\site-packages (from requests->censusdata) (2021.10.8)\n",
      "Building wheels for collected packages: censusdata\n",
      "  Building wheel for censusdata (setup.py): started\n",
      "  Building wheel for censusdata (setup.py): finished with status 'done'\n",
      "  Created wheel for censusdata: filename=CensusData-1.15-py3-none-any.whl size=28205534 sha256=46677e499edb4e6a1867f180322c94d8d0ad329c6e990bfc8f30df5f5e6bd9bc\n",
      "  Stored in directory: c:\\users\\dgarb\\appdata\\local\\pip\\cache\\wheels\\f7\\28\\2d\\3308dceb3ca282b1479585690170f0a00821d9b36cbf835159\n",
      "Successfully built censusdata\n",
      "Installing collected packages: censusdata\n",
      "Successfully installed censusdata-1.15\n",
      "Note: you may need to restart the kernel to use updated packages.\n"
     ]
    }
   ],
   "source": [
    "pip install censusdata"
   ]
  }
 ],
 "metadata": {
  "kernelspec": {
   "display_name": "Python 3 (ipykernel)",
   "language": "python",
   "name": "python3"
  },
  "language_info": {
   "codemirror_mode": {
    "name": "ipython",
    "version": 3
   },
   "file_extension": ".py",
   "mimetype": "text/x-python",
   "name": "python",
   "nbconvert_exporter": "python",
   "pygments_lexer": "ipython3",
   "version": "3.9.7"
  }
 },
 "nbformat": 4,
 "nbformat_minor": 5
}

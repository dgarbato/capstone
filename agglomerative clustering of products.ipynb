{
 "cells": [
  {
   "cell_type": "code",
   "execution_count": 1,
   "id": "5d9f3da7",
   "metadata": {},
   "outputs": [],
   "source": [
    "import pandas as pd\n",
    "import numpy as np"
   ]
  },
  {
   "cell_type": "code",
   "execution_count": 2,
   "id": "6084dbbb",
   "metadata": {},
   "outputs": [],
   "source": [
    "from sklearn.cluster import AgglomerativeClustering\n",
    "hier = AgglomerativeClustering()"
   ]
  },
  {
   "cell_type": "code",
   "execution_count": 3,
   "id": "4dc5082b",
   "metadata": {},
   "outputs": [],
   "source": [
    "%matplotlib inline\n",
    "import matplotlib.pyplot as plt"
   ]
  },
  {
   "cell_type": "code",
   "execution_count": 4,
   "id": "f0669073",
   "metadata": {},
   "outputs": [],
   "source": [
    "from sklearn.preprocessing import StandardScaler"
   ]
  },
  {
   "cell_type": "code",
   "execution_count": 5,
   "id": "b7e2591b",
   "metadata": {},
   "outputs": [],
   "source": [
    "pd.set_option('display.max_columns', None)\n",
    "\n",
    "pd.set_option('display.max_rows', None)"
   ]
  },
  {
   "cell_type": "code",
   "execution_count": 6,
   "id": "5bde30b3",
   "metadata": {},
   "outputs": [],
   "source": [
    "stdtypes = {'Store_Number':str,'Vendor_Number':str,'Item_Number':str, 'Category':str,\n",
    "            'Zip_Code':str}"
   ]
  },
  {
   "cell_type": "code",
   "execution_count": 7,
   "id": "2b7f2987",
   "metadata": {},
   "outputs": [],
   "source": [
    "store_trans_cluster = pd.read_csv(r'C:\\Users\\dgarb\\OneDrive\\Desktop\\Capstone Data\\liquor_2021\\store_trans_cluster.csv', dtype=stdtypes,index_col=0 )"
   ]
  },
  {
   "cell_type": "code",
   "execution_count": 8,
   "id": "3396a9b1",
   "metadata": {},
   "outputs": [
    {
     "data": {
      "text/html": [
       "<div>\n",
       "<style scoped>\n",
       "    .dataframe tbody tr th:only-of-type {\n",
       "        vertical-align: middle;\n",
       "    }\n",
       "\n",
       "    .dataframe tbody tr th {\n",
       "        vertical-align: top;\n",
       "    }\n",
       "\n",
       "    .dataframe thead th {\n",
       "        text-align: right;\n",
       "    }\n",
       "</style>\n",
       "<table border=\"1\" class=\"dataframe\">\n",
       "  <thead>\n",
       "    <tr style=\"text-align: right;\">\n",
       "      <th></th>\n",
       "      <th>Store_Number</th>\n",
       "      <th>Store_Name</th>\n",
       "      <th>Address</th>\n",
       "      <th>City</th>\n",
       "      <th>Zip_Code</th>\n",
       "      <th>Store_Location</th>\n",
       "      <th>County_Number</th>\n",
       "      <th>County</th>\n",
       "      <th>Vendor_Number</th>\n",
       "      <th>Item_Number</th>\n",
       "      <th>Category</th>\n",
       "      <th>Item_Description</th>\n",
       "      <th>Bottle_Volume</th>\n",
       "      <th>Bottle_Retail</th>\n",
       "      <th>Bottles_Sold</th>\n",
       "      <th>cluster_name</th>\n",
       "      <th>revenue</th>\n",
       "      <th>Num_Stores_Selling</th>\n",
       "      <th>New_Category_Name</th>\n",
       "    </tr>\n",
       "  </thead>\n",
       "  <tbody>\n",
       "    <tr>\n",
       "      <th>0</th>\n",
       "      <td>3855</td>\n",
       "      <td>Dyno's Wine and Spirits / Storm Lake</td>\n",
       "      <td>1201 1/2 Lakeshore Dr</td>\n",
       "      <td>Storm Lake</td>\n",
       "      <td>50588</td>\n",
       "      <td>NaN</td>\n",
       "      <td>11</td>\n",
       "      <td>BUENA VIST</td>\n",
       "      <td>035</td>\n",
       "      <td>88296</td>\n",
       "      <td>1022200</td>\n",
       "      <td>Patron Silver</td>\n",
       "      <td>750</td>\n",
       "      <td>41.522231</td>\n",
       "      <td>144787</td>\n",
       "      <td>Popular_Bottles</td>\n",
       "      <td>6001266.0</td>\n",
       "      <td>1274</td>\n",
       "      <td>Tequila</td>\n",
       "    </tr>\n",
       "    <tr>\n",
       "      <th>1</th>\n",
       "      <td>4589</td>\n",
       "      <td>Dyno's #53 / Sibley</td>\n",
       "      <td>1026 2nd Ave</td>\n",
       "      <td>Sibley</td>\n",
       "      <td>51249</td>\n",
       "      <td>POINT (-95.752119 43.397431)</td>\n",
       "      <td>72</td>\n",
       "      <td>OSCEOLA</td>\n",
       "      <td>035</td>\n",
       "      <td>88296</td>\n",
       "      <td>1022200</td>\n",
       "      <td>Patron Silver</td>\n",
       "      <td>750</td>\n",
       "      <td>41.522231</td>\n",
       "      <td>144787</td>\n",
       "      <td>Popular_Bottles</td>\n",
       "      <td>6001266.0</td>\n",
       "      <td>1274</td>\n",
       "      <td>Tequila</td>\n",
       "    </tr>\n",
       "    <tr>\n",
       "      <th>2</th>\n",
       "      <td>5566</td>\n",
       "      <td>East End Liquor &amp; Tobacco</td>\n",
       "      <td>3804 Hubbell Ave</td>\n",
       "      <td>Des Moines</td>\n",
       "      <td>50317</td>\n",
       "      <td>POINT (-93.541351 41.630849)</td>\n",
       "      <td>77</td>\n",
       "      <td>POLK</td>\n",
       "      <td>035</td>\n",
       "      <td>88296</td>\n",
       "      <td>1022200</td>\n",
       "      <td>Patron Silver</td>\n",
       "      <td>750</td>\n",
       "      <td>41.522231</td>\n",
       "      <td>144787</td>\n",
       "      <td>Popular_Bottles</td>\n",
       "      <td>6001266.0</td>\n",
       "      <td>1274</td>\n",
       "      <td>Tequila</td>\n",
       "    </tr>\n",
       "    <tr>\n",
       "      <th>3</th>\n",
       "      <td>4755</td>\n",
       "      <td>Walgreens #05941 / Mason City</td>\n",
       "      <td>1251 4th St SW</td>\n",
       "      <td>Mason City</td>\n",
       "      <td>50401</td>\n",
       "      <td>POINT (-93.220422 43.148333)</td>\n",
       "      <td>17</td>\n",
       "      <td>CERRO GORD</td>\n",
       "      <td>035</td>\n",
       "      <td>88296</td>\n",
       "      <td>1022200</td>\n",
       "      <td>Patron Silver</td>\n",
       "      <td>750</td>\n",
       "      <td>41.522231</td>\n",
       "      <td>144787</td>\n",
       "      <td>Popular_Bottles</td>\n",
       "      <td>6001266.0</td>\n",
       "      <td>1274</td>\n",
       "      <td>Tequila</td>\n",
       "    </tr>\n",
       "    <tr>\n",
       "      <th>4</th>\n",
       "      <td>5167</td>\n",
       "      <td>New Star Liquor &amp; Tobacco  / Ft Dodg</td>\n",
       "      <td>1724 5th  Ave S</td>\n",
       "      <td>Fort Dodge</td>\n",
       "      <td>50501</td>\n",
       "      <td>POINT (-94.173816 42.501131)</td>\n",
       "      <td>94</td>\n",
       "      <td>WEBSTER</td>\n",
       "      <td>035</td>\n",
       "      <td>88296</td>\n",
       "      <td>1022200</td>\n",
       "      <td>Patron Silver</td>\n",
       "      <td>750</td>\n",
       "      <td>41.522231</td>\n",
       "      <td>144787</td>\n",
       "      <td>Popular_Bottles</td>\n",
       "      <td>6001266.0</td>\n",
       "      <td>1274</td>\n",
       "      <td>Tequila</td>\n",
       "    </tr>\n",
       "  </tbody>\n",
       "</table>\n",
       "</div>"
      ],
      "text/plain": [
       "  Store_Number                            Store_Name                Address  \\\n",
       "0         3855  Dyno's Wine and Spirits / Storm Lake  1201 1/2 Lakeshore Dr   \n",
       "1         4589                   Dyno's #53 / Sibley           1026 2nd Ave   \n",
       "2         5566             East End Liquor & Tobacco       3804 Hubbell Ave   \n",
       "3         4755         Walgreens #05941 / Mason City         1251 4th St SW   \n",
       "4         5167  New Star Liquor & Tobacco  / Ft Dodg        1724 5th  Ave S   \n",
       "\n",
       "         City Zip_Code                Store_Location  County_Number  \\\n",
       "0  Storm Lake    50588                           NaN             11   \n",
       "1      Sibley    51249  POINT (-95.752119 43.397431)             72   \n",
       "2  Des Moines    50317  POINT (-93.541351 41.630849)             77   \n",
       "3  Mason City    50401  POINT (-93.220422 43.148333)             17   \n",
       "4  Fort Dodge    50501  POINT (-94.173816 42.501131)             94   \n",
       "\n",
       "       County Vendor_Number Item_Number Category Item_Description  \\\n",
       "0  BUENA VIST           035       88296  1022200    Patron Silver   \n",
       "1     OSCEOLA           035       88296  1022200    Patron Silver   \n",
       "2        POLK           035       88296  1022200    Patron Silver   \n",
       "3  CERRO GORD           035       88296  1022200    Patron Silver   \n",
       "4     WEBSTER           035       88296  1022200    Patron Silver   \n",
       "\n",
       "   Bottle_Volume  Bottle_Retail  Bottles_Sold     cluster_name    revenue  \\\n",
       "0            750      41.522231        144787  Popular_Bottles  6001266.0   \n",
       "1            750      41.522231        144787  Popular_Bottles  6001266.0   \n",
       "2            750      41.522231        144787  Popular_Bottles  6001266.0   \n",
       "3            750      41.522231        144787  Popular_Bottles  6001266.0   \n",
       "4            750      41.522231        144787  Popular_Bottles  6001266.0   \n",
       "\n",
       "   Num_Stores_Selling New_Category_Name  \n",
       "0                1274           Tequila  \n",
       "1                1274           Tequila  \n",
       "2                1274           Tequila  \n",
       "3                1274           Tequila  \n",
       "4                1274           Tequila  "
      ]
     },
     "execution_count": 8,
     "metadata": {},
     "output_type": "execute_result"
    }
   ],
   "source": [
    "store_trans_cluster.head()"
   ]
  },
  {
   "cell_type": "code",
   "execution_count": 9,
   "id": "7fd9d719",
   "metadata": {},
   "outputs": [],
   "source": [
    "# orders_per_item_df = store_trans_cluster.groupby(['Item_Number']).agg({'Item_Description':'count'}).reset_index()"
   ]
  },
  {
   "cell_type": "code",
   "execution_count": 10,
   "id": "5bb57dbc",
   "metadata": {},
   "outputs": [],
   "source": [
    "# orders_per_item_df.columns = ['Item_Number', 'orders']"
   ]
  },
  {
   "cell_type": "code",
   "execution_count": 11,
   "id": "a179737d",
   "metadata": {},
   "outputs": [],
   "source": [
    "# cluster_data = pd.read_csv(r'C:\\Users\\dgarb\\OneDrive\\Desktop\\Capstone Data\\liquor_2021\\final_clusters.csv',dtype={'Item_Number':str}, index_col=0)\n"
   ]
  },
  {
   "cell_type": "code",
   "execution_count": 12,
   "id": "47130746",
   "metadata": {},
   "outputs": [],
   "source": [
    "# cluster_data.info()\n",
    "# store_trans_cluster_copy = store_trans_cluster.copy()"
   ]
  },
  {
   "cell_type": "code",
   "execution_count": 13,
   "id": "4f40f014",
   "metadata": {},
   "outputs": [],
   "source": [
    "scaler = StandardScaler()"
   ]
  },
  {
   "cell_type": "code",
   "execution_count": 14,
   "id": "ddd4aa84",
   "metadata": {},
   "outputs": [
    {
     "data": {
      "text/html": [
       "<div>\n",
       "<style scoped>\n",
       "    .dataframe tbody tr th:only-of-type {\n",
       "        vertical-align: middle;\n",
       "    }\n",
       "\n",
       "    .dataframe tbody tr th {\n",
       "        vertical-align: top;\n",
       "    }\n",
       "\n",
       "    .dataframe thead th {\n",
       "        text-align: right;\n",
       "    }\n",
       "</style>\n",
       "<table border=\"1\" class=\"dataframe\">\n",
       "  <thead>\n",
       "    <tr style=\"text-align: right;\">\n",
       "      <th></th>\n",
       "      <th>Bottle_Volume_scaled</th>\n",
       "      <th>Bottle_Retail_scaled</th>\n",
       "      <th>Bottles_Sold_scaled</th>\n",
       "    </tr>\n",
       "  </thead>\n",
       "  <tbody>\n",
       "    <tr>\n",
       "      <th>count</th>\n",
       "      <td>2.473851e+06</td>\n",
       "      <td>2.473851e+06</td>\n",
       "      <td>2.473851e+06</td>\n",
       "    </tr>\n",
       "    <tr>\n",
       "      <th>mean</th>\n",
       "      <td>3.226876e-13</td>\n",
       "      <td>1.297778e-14</td>\n",
       "      <td>-4.398863e-13</td>\n",
       "    </tr>\n",
       "    <tr>\n",
       "      <th>std</th>\n",
       "      <td>1.000000e+00</td>\n",
       "      <td>1.000000e+00</td>\n",
       "      <td>1.000000e+00</td>\n",
       "    </tr>\n",
       "    <tr>\n",
       "      <th>min</th>\n",
       "      <td>-1.682732e+00</td>\n",
       "      <td>-1.155292e+00</td>\n",
       "      <td>-6.288866e-01</td>\n",
       "    </tr>\n",
       "    <tr>\n",
       "      <th>25%</th>\n",
       "      <td>-2.326559e-01</td>\n",
       "      <td>-5.657351e-01</td>\n",
       "      <td>-5.579825e-01</td>\n",
       "    </tr>\n",
       "    <tr>\n",
       "      <th>50%</th>\n",
       "      <td>-2.326559e-01</td>\n",
       "      <td>-2.598956e-01</td>\n",
       "      <td>-3.862364e-01</td>\n",
       "    </tr>\n",
       "    <tr>\n",
       "      <th>75%</th>\n",
       "      <td>2.639455e-01</td>\n",
       "      <td>3.226006e-01</td>\n",
       "      <td>1.273225e-01</td>\n",
       "    </tr>\n",
       "    <tr>\n",
       "      <th>max</th>\n",
       "      <td>3.044914e+00</td>\n",
       "      <td>3.539637e+01</td>\n",
       "      <td>5.069938e+00</td>\n",
       "    </tr>\n",
       "  </tbody>\n",
       "</table>\n",
       "</div>"
      ],
      "text/plain": [
       "       Bottle_Volume_scaled  Bottle_Retail_scaled  Bottles_Sold_scaled\n",
       "count          2.473851e+06          2.473851e+06         2.473851e+06\n",
       "mean           3.226876e-13          1.297778e-14        -4.398863e-13\n",
       "std            1.000000e+00          1.000000e+00         1.000000e+00\n",
       "min           -1.682732e+00         -1.155292e+00        -6.288866e-01\n",
       "25%           -2.326559e-01         -5.657351e-01        -5.579825e-01\n",
       "50%           -2.326559e-01         -2.598956e-01        -3.862364e-01\n",
       "75%            2.639455e-01          3.226006e-01         1.273225e-01\n",
       "max            3.044914e+00          3.539637e+01         5.069938e+00"
      ]
     },
     "execution_count": 14,
     "metadata": {},
     "output_type": "execute_result"
    }
   ],
   "source": [
    "store_trans_cluster[['Bottle_Volume_scaled', 'Bottle_Retail_scaled', 'Bottles_Sold_scaled' ]] = scaler.fit_transform\\\n",
    "                                           (store_trans_cluster[['Bottle_Volume', 'Bottle_Retail', 'Bottles_Sold']])\n",
    "                                                   \n",
    "\n",
    "store_trans_cluster[['Bottle_Volume_scaled', 'Bottle_Retail_scaled', 'Bottles_Sold_scaled']].describe()"
   ]
  },
  {
   "cell_type": "code",
   "execution_count": 15,
   "id": "95c6fa3c",
   "metadata": {},
   "outputs": [],
   "source": [
    "new_cluster_data = store_trans_cluster[['Bottle_Volume_scaled', 'Bottle_Retail_scaled', 'Bottles_Sold_scaled']]"
   ]
  },
  {
   "cell_type": "code",
   "execution_count": 16,
   "id": "031906d8",
   "metadata": {},
   "outputs": [],
   "source": [
    "from scipy.cluster.hierarchy import dendrogram, linkage\n",
    "from scipy.spatial.distance import pdist, squareform\n",
    "\n",
    "def linkage_frame(data):\n",
    "    row_clusters = linkage(data, method='complete', metric='euclidean')\n",
    "    columns = ['row label 1', 'row label 2', 'distance', 'no. items in clust.']\n",
    "    index = ['cluster %d' % (i + 1) for i in range(row_clusters.shape[0])]\n",
    "    linkage_df = pd.DataFrame(row_clusters, columns=columns, index=index)\n",
    "    return linkage_df"
   ]
  },
  {
   "cell_type": "code",
   "execution_count": 17,
   "id": "2bd92401",
   "metadata": {},
   "outputs": [
    {
     "ename": "MemoryError",
     "evalue": "Unable to allocate 22.3 TiB for an array with shape (3059968148175,) and data type float64",
     "output_type": "error",
     "traceback": [
      "\u001b[1;31m---------------------------------------------------------------------------\u001b[0m",
      "\u001b[1;31mMemoryError\u001b[0m                               Traceback (most recent call last)",
      "\u001b[1;32m~\\AppData\\Local\\Temp/ipykernel_7840/1420651477.py\u001b[0m in \u001b[0;36m<module>\u001b[1;34m\u001b[0m\n\u001b[1;32m----> 1\u001b[1;33m \u001b[0mlinkage_df\u001b[0m \u001b[1;33m=\u001b[0m \u001b[0mlinkage_frame\u001b[0m\u001b[1;33m(\u001b[0m\u001b[0mnew_cluster_data\u001b[0m\u001b[1;33m)\u001b[0m\u001b[1;33m\u001b[0m\u001b[1;33m\u001b[0m\u001b[0m\n\u001b[0m",
      "\u001b[1;32m~\\AppData\\Local\\Temp/ipykernel_7840/3884419805.py\u001b[0m in \u001b[0;36mlinkage_frame\u001b[1;34m(data)\u001b[0m\n\u001b[0;32m      3\u001b[0m \u001b[1;33m\u001b[0m\u001b[0m\n\u001b[0;32m      4\u001b[0m \u001b[1;32mdef\u001b[0m \u001b[0mlinkage_frame\u001b[0m\u001b[1;33m(\u001b[0m\u001b[0mdata\u001b[0m\u001b[1;33m)\u001b[0m\u001b[1;33m:\u001b[0m\u001b[1;33m\u001b[0m\u001b[1;33m\u001b[0m\u001b[0m\n\u001b[1;32m----> 5\u001b[1;33m     \u001b[0mrow_clusters\u001b[0m \u001b[1;33m=\u001b[0m \u001b[0mlinkage\u001b[0m\u001b[1;33m(\u001b[0m\u001b[0mdata\u001b[0m\u001b[1;33m,\u001b[0m \u001b[0mmethod\u001b[0m\u001b[1;33m=\u001b[0m\u001b[1;34m'complete'\u001b[0m\u001b[1;33m,\u001b[0m \u001b[0mmetric\u001b[0m\u001b[1;33m=\u001b[0m\u001b[1;34m'euclidean'\u001b[0m\u001b[1;33m)\u001b[0m\u001b[1;33m\u001b[0m\u001b[1;33m\u001b[0m\u001b[0m\n\u001b[0m\u001b[0;32m      6\u001b[0m     \u001b[0mcolumns\u001b[0m \u001b[1;33m=\u001b[0m \u001b[1;33m[\u001b[0m\u001b[1;34m'row label 1'\u001b[0m\u001b[1;33m,\u001b[0m \u001b[1;34m'row label 2'\u001b[0m\u001b[1;33m,\u001b[0m \u001b[1;34m'distance'\u001b[0m\u001b[1;33m,\u001b[0m \u001b[1;34m'no. items in clust.'\u001b[0m\u001b[1;33m]\u001b[0m\u001b[1;33m\u001b[0m\u001b[1;33m\u001b[0m\u001b[0m\n\u001b[0;32m      7\u001b[0m     \u001b[0mindex\u001b[0m \u001b[1;33m=\u001b[0m \u001b[1;33m[\u001b[0m\u001b[1;34m'cluster %d'\u001b[0m \u001b[1;33m%\u001b[0m \u001b[1;33m(\u001b[0m\u001b[0mi\u001b[0m \u001b[1;33m+\u001b[0m \u001b[1;36m1\u001b[0m\u001b[1;33m)\u001b[0m \u001b[1;32mfor\u001b[0m \u001b[0mi\u001b[0m \u001b[1;32min\u001b[0m \u001b[0mrange\u001b[0m\u001b[1;33m(\u001b[0m\u001b[0mrow_clusters\u001b[0m\u001b[1;33m.\u001b[0m\u001b[0mshape\u001b[0m\u001b[1;33m[\u001b[0m\u001b[1;36m0\u001b[0m\u001b[1;33m]\u001b[0m\u001b[1;33m)\u001b[0m\u001b[1;33m]\u001b[0m\u001b[1;33m\u001b[0m\u001b[1;33m\u001b[0m\u001b[0m\n",
      "\u001b[1;32m~\\anaconda3_reinstall\\lib\\site-packages\\scipy\\cluster\\hierarchy.py\u001b[0m in \u001b[0;36mlinkage\u001b[1;34m(y, method, metric, optimal_ordering)\u001b[0m\n\u001b[0;32m   1058\u001b[0m                          \u001b[1;34m'matrix looks suspiciously like an uncondensed '\u001b[0m\u001b[1;33m\u001b[0m\u001b[1;33m\u001b[0m\u001b[0m\n\u001b[0;32m   1059\u001b[0m                          'distance matrix')\n\u001b[1;32m-> 1060\u001b[1;33m         \u001b[0my\u001b[0m \u001b[1;33m=\u001b[0m \u001b[0mdistance\u001b[0m\u001b[1;33m.\u001b[0m\u001b[0mpdist\u001b[0m\u001b[1;33m(\u001b[0m\u001b[0my\u001b[0m\u001b[1;33m,\u001b[0m \u001b[0mmetric\u001b[0m\u001b[1;33m)\u001b[0m\u001b[1;33m\u001b[0m\u001b[1;33m\u001b[0m\u001b[0m\n\u001b[0m\u001b[0;32m   1061\u001b[0m     \u001b[1;32melse\u001b[0m\u001b[1;33m:\u001b[0m\u001b[1;33m\u001b[0m\u001b[1;33m\u001b[0m\u001b[0m\n\u001b[0;32m   1062\u001b[0m         \u001b[1;32mraise\u001b[0m \u001b[0mValueError\u001b[0m\u001b[1;33m(\u001b[0m\u001b[1;34m\"`y` must be 1 or 2 dimensional.\"\u001b[0m\u001b[1;33m)\u001b[0m\u001b[1;33m\u001b[0m\u001b[1;33m\u001b[0m\u001b[0m\n",
      "\u001b[1;32m~\\anaconda3_reinstall\\lib\\site-packages\\scipy\\spatial\\distance.py\u001b[0m in \u001b[0;36mpdist\u001b[1;34m(X, metric, out, **kwargs)\u001b[0m\n\u001b[0;32m   2248\u001b[0m         \u001b[1;32mif\u001b[0m \u001b[0mmetric_info\u001b[0m \u001b[1;32mis\u001b[0m \u001b[1;32mnot\u001b[0m \u001b[1;32mNone\u001b[0m\u001b[1;33m:\u001b[0m\u001b[1;33m\u001b[0m\u001b[1;33m\u001b[0m\u001b[0m\n\u001b[0;32m   2249\u001b[0m             \u001b[0mpdist_fn\u001b[0m \u001b[1;33m=\u001b[0m \u001b[0mmetric_info\u001b[0m\u001b[1;33m.\u001b[0m\u001b[0mpdist_func\u001b[0m\u001b[1;33m\u001b[0m\u001b[1;33m\u001b[0m\u001b[0m\n\u001b[1;32m-> 2250\u001b[1;33m             \u001b[1;32mreturn\u001b[0m \u001b[0mpdist_fn\u001b[0m\u001b[1;33m(\u001b[0m\u001b[0mX\u001b[0m\u001b[1;33m,\u001b[0m \u001b[0mout\u001b[0m\u001b[1;33m=\u001b[0m\u001b[0mout\u001b[0m\u001b[1;33m,\u001b[0m \u001b[1;33m**\u001b[0m\u001b[0mkwargs\u001b[0m\u001b[1;33m)\u001b[0m\u001b[1;33m\u001b[0m\u001b[1;33m\u001b[0m\u001b[0m\n\u001b[0m\u001b[0;32m   2251\u001b[0m         \u001b[1;32melif\u001b[0m \u001b[0mmstr\u001b[0m\u001b[1;33m.\u001b[0m\u001b[0mstartswith\u001b[0m\u001b[1;33m(\u001b[0m\u001b[1;34m\"test_\"\u001b[0m\u001b[1;33m)\u001b[0m\u001b[1;33m:\u001b[0m\u001b[1;33m\u001b[0m\u001b[1;33m\u001b[0m\u001b[0m\n\u001b[0;32m   2252\u001b[0m             \u001b[0mmetric_info\u001b[0m \u001b[1;33m=\u001b[0m \u001b[0m_TEST_METRICS\u001b[0m\u001b[1;33m.\u001b[0m\u001b[0mget\u001b[0m\u001b[1;33m(\u001b[0m\u001b[0mmstr\u001b[0m\u001b[1;33m,\u001b[0m \u001b[1;32mNone\u001b[0m\u001b[1;33m)\u001b[0m\u001b[1;33m\u001b[0m\u001b[1;33m\u001b[0m\u001b[0m\n",
      "\u001b[1;31mMemoryError\u001b[0m: Unable to allocate 22.3 TiB for an array with shape (3059968148175,) and data type float64"
     ]
    }
   ],
   "source": [
    "linkage_df = linkage_frame(new_cluster_data)"
   ]
  },
  {
   "cell_type": "code",
   "execution_count": null,
   "id": "b44e0a02",
   "metadata": {},
   "outputs": [],
   "source": [
    "stop"
   ]
  },
  {
   "cell_type": "code",
   "execution_count": null,
   "id": "0db6e784",
   "metadata": {},
   "outputs": [],
   "source": [
    "row_dendr = dendrogram(linkage_df, leaf_rotation=90, leaf_font_size=8)\n",
    "plt.tight_layout()\n",
    "plt.ylabel('Euclidean distance')\n",
    "plt.show()"
   ]
  },
  {
   "cell_type": "code",
   "execution_count": null,
   "id": "5b43aca6",
   "metadata": {},
   "outputs": [],
   "source": [
    "row_dendr = dendrogram(linkage_df, leaf_rotation=90, truncate_mode='lastp', p = 10, leaf_font_size=8)\n",
    "plt.tight_layout()\n",
    "plt.ylabel('Euclidean distance')\n",
    "plt.show()"
   ]
  },
  {
   "cell_type": "code",
   "execution_count": null,
   "id": "edffeac2",
   "metadata": {},
   "outputs": [],
   "source": [
    "linkage_df"
   ]
  },
  {
   "cell_type": "code",
   "execution_count": null,
   "id": "baeee2e8",
   "metadata": {},
   "outputs": [],
   "source": [
    "from sklearn import metrics\n",
    "from sklearn.metrics import pairwise_distances"
   ]
  },
  {
   "cell_type": "code",
   "execution_count": null,
   "id": "cd17a0e0",
   "metadata": {},
   "outputs": [],
   "source": [
    "most_variety[['Bottle_Volume_scaled', 'Bottle_Retail_scaled', 'orders_scaled' ]]"
   ]
  },
  {
   "cell_type": "code",
   "execution_count": null,
   "id": "580f638a",
   "metadata": {},
   "outputs": [],
   "source": [
    "hier.set_params(n_clusters=2)\n",
    "hier.fit(most_variety[['Bottle_Volume_scaled', 'Bottle_Retail_scaled', 'orders_scaled' ]])\n",
    "labels = hier.labels_\n",
    "metrics.silhouette_score(most_variety[['Bottle_Volume_scaled', 'Bottle_Retail_scaled', 'orders_scaled' ]], labels, metric='euclidean')"
   ]
  },
  {
   "cell_type": "code",
   "execution_count": null,
   "id": "dd532f54",
   "metadata": {},
   "outputs": [],
   "source": [
    "hier.set_params(n_clusters=3)\n",
    "hier.fit(most_variety[['Bottle_Volume_scaled', 'Bottle_Retail_scaled', 'orders_scaled' ]])\n",
    "labels = hier.labels_\n",
    "metrics.silhouette_score(most_variety[['Bottle_Volume_scaled', 'Bottle_Retail_scaled', 'orders_scaled' ]], labels, metric='euclidean')"
   ]
  },
  {
   "cell_type": "code",
   "execution_count": null,
   "id": "f721c42f",
   "metadata": {},
   "outputs": [],
   "source": []
  },
  {
   "cell_type": "code",
   "execution_count": null,
   "id": "285a4dce",
   "metadata": {},
   "outputs": [],
   "source": [
    "hier.set_params(n_clusters=4)\n",
    "hier.fit(most_variety[['Bottle_Volume_scaled', 'Bottle_Retail_scaled', 'orders_scaled' ]])\n",
    "labels = hier.labels_\n",
    "metrics.silhouette_score(most_variety[['Bottle_Volume_scaled', 'Bottle_Retail_scaled', 'orders_scaled' ]], labels, metric='euclidean')"
   ]
  }
 ],
 "metadata": {
  "kernelspec": {
   "display_name": "Python 3 (ipykernel)",
   "language": "python",
   "name": "python3"
  },
  "language_info": {
   "codemirror_mode": {
    "name": "ipython",
    "version": 3
   },
   "file_extension": ".py",
   "mimetype": "text/x-python",
   "name": "python",
   "nbconvert_exporter": "python",
   "pygments_lexer": "ipython3",
   "version": "3.9.7"
  }
 },
 "nbformat": 4,
 "nbformat_minor": 5
}

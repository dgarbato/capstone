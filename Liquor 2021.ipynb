{
 "cells": [
  {
   "cell_type": "code",
   "execution_count": 1,
   "id": "72f59a95",
   "metadata": {},
   "outputs": [],
   "source": [
    "import pandas as pd\n",
    "import numpy as np"
   ]
  },
  {
   "cell_type": "code",
   "execution_count": 2,
   "id": "b60d44c4",
   "metadata": {},
   "outputs": [],
   "source": [
    "from freq_pd import proc_freq\n",
    "from missing_columns_pd import miss_cols"
   ]
  },
  {
   "cell_type": "code",
   "execution_count": 3,
   "id": "540840e5",
   "metadata": {},
   "outputs": [],
   "source": [
    "dict_dtypes ={'Invoice/Item Number':str,\n",
    " 'Date':str,\n",
    " 'Store Number':str,\n",
    " 'Store Name':str,\n",
    " 'Address':str,\n",
    " 'City':str,\n",
    " 'Zip Code':str,\n",
    " 'Store Location':str,\n",
    " 'County Number':str,\n",
    " 'County':str,\n",
    " 'Category':str,\n",
    " 'Category Name':str,\n",
    " 'Vendor Number':str,\n",
    " 'Vendor Name':str,\n",
    " 'Item Number':str,\n",
    " 'Item Description':str,\n",
    " 'Pack':int,\n",
    " 'Bottle Volume (ml)':int,\n",
    " 'State Bottle Cost':float,\n",
    " 'State Bottle Retail':float,\n",
    " 'Bottles Sold':int,\n",
    " 'Sale (Dollars)':float,\n",
    " 'Volume Sold (Liters)':float,\n",
    " 'Volume Sold (Gallons)':float}"
   ]
  },
  {
   "cell_type": "code",
   "execution_count": 4,
   "id": "9ab24576",
   "metadata": {},
   "outputs": [],
   "source": [
    "liquor_2021 = pd.read_csv(r'C:\\Users\\dgarb\\OneDrive\\Desktop\\Capstone Data\\liquor_2021\\liquor_2021.csv', dtype=dict_dtypes)"
   ]
  },
  {
   "cell_type": "code",
   "execution_count": 5,
   "id": "0a3ad3b5",
   "metadata": {},
   "outputs": [
    {
     "data": {
      "text/plain": [
       "(2622712, 24)"
      ]
     },
     "execution_count": 5,
     "metadata": {},
     "output_type": "execute_result"
    }
   ],
   "source": [
    "liquor_2021.shape"
   ]
  },
  {
   "cell_type": "code",
   "execution_count": 6,
   "id": "eda50a48",
   "metadata": {},
   "outputs": [
    {
     "data": {
      "text/plain": [
       "[('Store Location', 311710, 0.1189),\n",
       " ('Address', 142, 0.0001),\n",
       " ('City', 142, 0.0001),\n",
       " ('Zip Code', 142, 0.0001),\n",
       " ('County Number', 142, 0.0001),\n",
       " ('County', 142, 0.0001),\n",
       " ('Vendor Number', 4, 0.0),\n",
       " ('Vendor Name', 4, 0.0)]"
      ]
     },
     "execution_count": 6,
     "metadata": {},
     "output_type": "execute_result"
    }
   ],
   "source": [
    "miss_cols(liquor_2021)"
   ]
  },
  {
   "cell_type": "code",
   "execution_count": 7,
   "id": "4e3a4b20",
   "metadata": {},
   "outputs": [],
   "source": [
    "# liquor_2022 = "
   ]
  },
  {
   "cell_type": "code",
   "execution_count": 8,
   "id": "3c817a62",
   "metadata": {},
   "outputs": [
    {
     "data": {
      "text/html": [
       "<div>\n",
       "<style scoped>\n",
       "    .dataframe tbody tr th:only-of-type {\n",
       "        vertical-align: middle;\n",
       "    }\n",
       "\n",
       "    .dataframe tbody tr th {\n",
       "        vertical-align: top;\n",
       "    }\n",
       "\n",
       "    .dataframe thead th {\n",
       "        text-align: right;\n",
       "    }\n",
       "</style>\n",
       "<table border=\"1\" class=\"dataframe\">\n",
       "  <thead>\n",
       "    <tr style=\"text-align: right;\">\n",
       "      <th></th>\n",
       "      <th>Invoice/Item Number</th>\n",
       "      <th>Date</th>\n",
       "      <th>Store Number</th>\n",
       "      <th>Store Name</th>\n",
       "      <th>Address</th>\n",
       "      <th>City</th>\n",
       "      <th>Zip Code</th>\n",
       "      <th>Store Location</th>\n",
       "      <th>County Number</th>\n",
       "      <th>County</th>\n",
       "      <th>Category</th>\n",
       "      <th>Category Name</th>\n",
       "      <th>Vendor Number</th>\n",
       "      <th>Vendor Name</th>\n",
       "      <th>Item Number</th>\n",
       "      <th>Item Description</th>\n",
       "      <th>Pack</th>\n",
       "      <th>Bottle Volume (ml)</th>\n",
       "      <th>State Bottle Cost</th>\n",
       "      <th>State Bottle Retail</th>\n",
       "      <th>Bottles Sold</th>\n",
       "      <th>Sale (Dollars)</th>\n",
       "      <th>Volume Sold (Liters)</th>\n",
       "      <th>Volume Sold (Gallons)</th>\n",
       "    </tr>\n",
       "  </thead>\n",
       "  <tbody>\n",
       "    <tr>\n",
       "      <th>0</th>\n",
       "      <td>INV-41517100002</td>\n",
       "      <td>11/01/2021</td>\n",
       "      <td>5417</td>\n",
       "      <td>Casey's General Store # 2792/Cedar Rapids</td>\n",
       "      <td>9001 6th Street SW</td>\n",
       "      <td>Cedar Rapids</td>\n",
       "      <td>52404</td>\n",
       "      <td>NaN</td>\n",
       "      <td>57</td>\n",
       "      <td>LINN</td>\n",
       "      <td>1031100</td>\n",
       "      <td>American Vodkas</td>\n",
       "      <td>434</td>\n",
       "      <td>LUXCO INC</td>\n",
       "      <td>36308</td>\n",
       "      <td>Hawkeye Vodka</td>\n",
       "      <td>6</td>\n",
       "      <td>1750</td>\n",
       "      <td>7.17</td>\n",
       "      <td>10.76</td>\n",
       "      <td>6</td>\n",
       "      <td>64.56</td>\n",
       "      <td>10.50</td>\n",
       "      <td>2.77</td>\n",
       "    </tr>\n",
       "    <tr>\n",
       "      <th>1</th>\n",
       "      <td>INV-41518800037</td>\n",
       "      <td>11/01/2021</td>\n",
       "      <td>4921</td>\n",
       "      <td>Market Express</td>\n",
       "      <td>5340 16th Ave SW</td>\n",
       "      <td>Cedar Rapids</td>\n",
       "      <td>52404</td>\n",
       "      <td>NaN</td>\n",
       "      <td>57</td>\n",
       "      <td>LINN</td>\n",
       "      <td>1011200</td>\n",
       "      <td>Straight Bourbon Whiskies</td>\n",
       "      <td>065</td>\n",
       "      <td>Jim Beam Brands</td>\n",
       "      <td>19061</td>\n",
       "      <td>Jim Beam Mini</td>\n",
       "      <td>12</td>\n",
       "      <td>50</td>\n",
       "      <td>7.00</td>\n",
       "      <td>10.50</td>\n",
       "      <td>1</td>\n",
       "      <td>10.50</td>\n",
       "      <td>0.05</td>\n",
       "      <td>0.01</td>\n",
       "    </tr>\n",
       "    <tr>\n",
       "      <th>2</th>\n",
       "      <td>INV-41518900014</td>\n",
       "      <td>11/01/2021</td>\n",
       "      <td>5687</td>\n",
       "      <td>Casey's General Store #3756 / Cedar Rapids</td>\n",
       "      <td>4560 16th Ave SW</td>\n",
       "      <td>Cedar Rapids</td>\n",
       "      <td>52404</td>\n",
       "      <td>NaN</td>\n",
       "      <td>57</td>\n",
       "      <td>LINN</td>\n",
       "      <td>1012100</td>\n",
       "      <td>Canadian Whiskies</td>\n",
       "      <td>260</td>\n",
       "      <td>DIAGEO AMERICAS</td>\n",
       "      <td>11296</td>\n",
       "      <td>Crown Royal</td>\n",
       "      <td>12</td>\n",
       "      <td>750</td>\n",
       "      <td>16.59</td>\n",
       "      <td>24.89</td>\n",
       "      <td>12</td>\n",
       "      <td>298.68</td>\n",
       "      <td>9.00</td>\n",
       "      <td>2.37</td>\n",
       "    </tr>\n",
       "    <tr>\n",
       "      <th>3</th>\n",
       "      <td>INV-41521200068</td>\n",
       "      <td>11/01/2021</td>\n",
       "      <td>2648</td>\n",
       "      <td>Hy-Vee #4 / WDM</td>\n",
       "      <td>555 S 51st St</td>\n",
       "      <td>West Des Moines</td>\n",
       "      <td>50265</td>\n",
       "      <td>POINT (-93.774728 41.560871)</td>\n",
       "      <td>77</td>\n",
       "      <td>POLK</td>\n",
       "      <td>1081500</td>\n",
       "      <td>Triple Sec</td>\n",
       "      <td>434</td>\n",
       "      <td>LUXCO INC</td>\n",
       "      <td>86250</td>\n",
       "      <td>Juarez Triple Sec</td>\n",
       "      <td>12</td>\n",
       "      <td>750</td>\n",
       "      <td>2.67</td>\n",
       "      <td>4.01</td>\n",
       "      <td>12</td>\n",
       "      <td>48.12</td>\n",
       "      <td>9.00</td>\n",
       "      <td>2.37</td>\n",
       "    </tr>\n",
       "    <tr>\n",
       "      <th>4</th>\n",
       "      <td>INV-41523800012</td>\n",
       "      <td>11/01/2021</td>\n",
       "      <td>4379</td>\n",
       "      <td>Kum &amp; Go #2091 / Ashworth / WDM</td>\n",
       "      <td>5969 Ashworth Rd</td>\n",
       "      <td>West Des Moines</td>\n",
       "      <td>50266</td>\n",
       "      <td>NaN</td>\n",
       "      <td>77</td>\n",
       "      <td>POLK</td>\n",
       "      <td>1051100</td>\n",
       "      <td>American Brandies</td>\n",
       "      <td>205</td>\n",
       "      <td>E &amp; J Gallo Winery</td>\n",
       "      <td>52596</td>\n",
       "      <td>E &amp; J VS</td>\n",
       "      <td>12</td>\n",
       "      <td>750</td>\n",
       "      <td>6.50</td>\n",
       "      <td>9.75</td>\n",
       "      <td>5</td>\n",
       "      <td>48.75</td>\n",
       "      <td>3.75</td>\n",
       "      <td>0.99</td>\n",
       "    </tr>\n",
       "  </tbody>\n",
       "</table>\n",
       "</div>"
      ],
      "text/plain": [
       "  Invoice/Item Number        Date Store Number  \\\n",
       "0     INV-41517100002  11/01/2021         5417   \n",
       "1     INV-41518800037  11/01/2021         4921   \n",
       "2     INV-41518900014  11/01/2021         5687   \n",
       "3     INV-41521200068  11/01/2021         2648   \n",
       "4     INV-41523800012  11/01/2021         4379   \n",
       "\n",
       "                                   Store Name             Address  \\\n",
       "0   Casey's General Store # 2792/Cedar Rapids  9001 6th Street SW   \n",
       "1                              Market Express    5340 16th Ave SW   \n",
       "2  Casey's General Store #3756 / Cedar Rapids    4560 16th Ave SW   \n",
       "3                             Hy-Vee #4 / WDM       555 S 51st St   \n",
       "4             Kum & Go #2091 / Ashworth / WDM    5969 Ashworth Rd   \n",
       "\n",
       "              City Zip Code                Store Location County Number  \\\n",
       "0     Cedar Rapids    52404                           NaN            57   \n",
       "1     Cedar Rapids    52404                           NaN            57   \n",
       "2     Cedar Rapids    52404                           NaN            57   \n",
       "3  West Des Moines    50265  POINT (-93.774728 41.560871)            77   \n",
       "4  West Des Moines    50266                           NaN            77   \n",
       "\n",
       "  County Category              Category Name Vendor Number  \\\n",
       "0   LINN  1031100            American Vodkas           434   \n",
       "1   LINN  1011200  Straight Bourbon Whiskies           065   \n",
       "2   LINN  1012100          Canadian Whiskies           260   \n",
       "3   POLK  1081500                 Triple Sec           434   \n",
       "4   POLK  1051100          American Brandies           205   \n",
       "\n",
       "          Vendor Name Item Number   Item Description  Pack  \\\n",
       "0           LUXCO INC       36308      Hawkeye Vodka     6   \n",
       "1     Jim Beam Brands       19061      Jim Beam Mini    12   \n",
       "2     DIAGEO AMERICAS       11296        Crown Royal    12   \n",
       "3           LUXCO INC       86250  Juarez Triple Sec    12   \n",
       "4  E & J Gallo Winery       52596           E & J VS    12   \n",
       "\n",
       "   Bottle Volume (ml)  State Bottle Cost  State Bottle Retail  Bottles Sold  \\\n",
       "0                1750               7.17                10.76             6   \n",
       "1                  50               7.00                10.50             1   \n",
       "2                 750              16.59                24.89            12   \n",
       "3                 750               2.67                 4.01            12   \n",
       "4                 750               6.50                 9.75             5   \n",
       "\n",
       "   Sale (Dollars)  Volume Sold (Liters)  Volume Sold (Gallons)  \n",
       "0           64.56                 10.50                   2.77  \n",
       "1           10.50                  0.05                   0.01  \n",
       "2          298.68                  9.00                   2.37  \n",
       "3           48.12                  9.00                   2.37  \n",
       "4           48.75                  3.75                   0.99  "
      ]
     },
     "execution_count": 8,
     "metadata": {},
     "output_type": "execute_result"
    }
   ],
   "source": [
    "pd.set_option('display.max_columns', None)\n",
    "liquor_2021.head()"
   ]
  },
  {
   "cell_type": "code",
   "execution_count": 9,
   "id": "79acaf5c",
   "metadata": {},
   "outputs": [],
   "source": [
    "liquor_2021['trans_date'] = pd.to_datetime(liquor_2021['Date'])"
   ]
  },
  {
   "cell_type": "markdown",
   "id": "39d62e42",
   "metadata": {},
   "source": [
    "create transactions DataFrame"
   ]
  },
  {
   "cell_type": "code",
   "execution_count": 10,
   "id": "ad911a70",
   "metadata": {},
   "outputs": [],
   "source": [
    "transactions = liquor_2021[['Vendor Number', 'Store Number','Item Number', 'Date', 'Bottle Volume (ml)', 'Volume Sold (Liters)', 'Bottles Sold','Sale (Dollars)','State Bottle Cost','State Bottle Retail','Category','trans_date']]"
   ]
  },
  {
   "cell_type": "code",
   "execution_count": 11,
   "id": "15108951",
   "metadata": {},
   "outputs": [],
   "source": [
    "df_prod1 = liquor_2021.sort_values(by=['trans_date']).drop_duplicates(['Item Number'],keep='last')"
   ]
  },
  {
   "cell_type": "code",
   "execution_count": 12,
   "id": "7068a1fb",
   "metadata": {},
   "outputs": [],
   "source": [
    "products = df_prod1[['Item Number', 'Item Description',  'Category']]"
   ]
  },
  {
   "cell_type": "markdown",
   "id": "0d8d2b94",
   "metadata": {},
   "source": [
    "create item_trans"
   ]
  },
  {
   "cell_type": "code",
   "execution_count": 13,
   "id": "d41f4d76",
   "metadata": {},
   "outputs": [],
   "source": [
    "item_trans = transactions.merge(products, how='inner', on= ['Category','Item Number'])"
   ]
  },
  {
   "cell_type": "code",
   "execution_count": 14,
   "id": "4c36a26b",
   "metadata": {},
   "outputs": [
    {
     "name": "stdout",
     "output_type": "stream",
     "text": [
      "<class 'pandas.core.frame.DataFrame'>\n",
      "Int64Index: 2604721 entries, 0 to 2604720\n",
      "Data columns (total 13 columns):\n",
      " #   Column                Dtype         \n",
      "---  ------                -----         \n",
      " 0   Vendor Number         object        \n",
      " 1   Store Number          object        \n",
      " 2   Item Number           object        \n",
      " 3   Date                  object        \n",
      " 4   Bottle Volume (ml)    int32         \n",
      " 5   Volume Sold (Liters)  float64       \n",
      " 6   Bottles Sold          int32         \n",
      " 7   Sale (Dollars)        float64       \n",
      " 8   State Bottle Cost     float64       \n",
      " 9   State Bottle Retail   float64       \n",
      " 10  Category              object        \n",
      " 11  trans_date            datetime64[ns]\n",
      " 12  Item Description      object        \n",
      "dtypes: datetime64[ns](1), float64(4), int32(2), object(6)\n",
      "memory usage: 258.3+ MB\n"
     ]
    }
   ],
   "source": [
    "item_trans.info()"
   ]
  },
  {
   "cell_type": "markdown",
   "id": "6d1f62c6",
   "metadata": {},
   "source": [
    "create a dataframe to use for clustering products (item_info_to_cluster.csv)"
   ]
  },
  {
   "cell_type": "code",
   "execution_count": null,
   "id": "83bc6df2",
   "metadata": {},
   "outputs": [],
   "source": []
  },
  {
   "cell_type": "code",
   "execution_count": 15,
   "id": "fcdedc0c",
   "metadata": {},
   "outputs": [],
   "source": [
    "df_bottles = item_trans.groupby(['Item Number','Item Description','Bottle Volume (ml)']).agg({'State Bottle Retail':'mean','Bottles Sold':'sum'}).reset_index()"
   ]
  },
  {
   "cell_type": "code",
   "execution_count": 62,
   "id": "42eb2821",
   "metadata": {},
   "outputs": [],
   "source": [
    "dict_dtypes = {'Item_Number':str,\n",
    "'Bottle_Volume':int,\n",
    "'Bottles_Sold':int,\n",
    "'Bottle_Retail':float}"
   ]
  },
  {
   "cell_type": "code",
   "execution_count": 63,
   "id": "2d1dae91",
   "metadata": {},
   "outputs": [],
   "source": [
    "df_product_clusters= pd.read_csv(r'C:\\Users\\dgarb\\OneDrive\\Desktop\\Capstone Data\\liquor_2021\\product_clusters.csv',dtype=dict_dtypes, index_col=0)"
   ]
  },
  {
   "cell_type": "code",
   "execution_count": 16,
   "id": "a84bb0f2",
   "metadata": {},
   "outputs": [],
   "source": [
    "# df_bottles #= df_bottles.set_index('Item Number') 750 ml is a wine bottle size"
   ]
  },
  {
   "cell_type": "code",
   "execution_count": 17,
   "id": "65c793bd",
   "metadata": {},
   "outputs": [],
   "source": [
    "df_bottles.to_csv(r'C:\\Users\\dgarb\\OneDrive\\Desktop\\Capstone Data\\liquor_2021\\item_info_to_cluster.csv')"
   ]
  },
  {
   "cell_type": "code",
   "execution_count": 56,
   "id": "ab15aa51",
   "metadata": {},
   "outputs": [],
   "source": [
    "df_counties = liquor_2021.groupby(['County']).agg({'Store Number' : 'nunique','Zip Code':'nunique' }).reset_index()"
   ]
  },
  {
   "cell_type": "code",
   "execution_count": 61,
   "id": "d295937e",
   "metadata": {},
   "outputs": [
    {
     "data": {
      "text/html": [
       "<div>\n",
       "<style scoped>\n",
       "    .dataframe tbody tr th:only-of-type {\n",
       "        vertical-align: middle;\n",
       "    }\n",
       "\n",
       "    .dataframe tbody tr th {\n",
       "        vertical-align: top;\n",
       "    }\n",
       "\n",
       "    .dataframe thead th {\n",
       "        text-align: right;\n",
       "    }\n",
       "</style>\n",
       "<table border=\"1\" class=\"dataframe\">\n",
       "  <thead>\n",
       "    <tr style=\"text-align: right;\">\n",
       "      <th></th>\n",
       "      <th>County</th>\n",
       "      <th>Store Number</th>\n",
       "      <th>Zip Code</th>\n",
       "    </tr>\n",
       "  </thead>\n",
       "  <tbody>\n",
       "    <tr>\n",
       "      <th>0</th>\n",
       "      <td>ADAIR</td>\n",
       "      <td>6</td>\n",
       "      <td>4</td>\n",
       "    </tr>\n",
       "    <tr>\n",
       "      <th>1</th>\n",
       "      <td>ADAMS</td>\n",
       "      <td>2</td>\n",
       "      <td>1</td>\n",
       "    </tr>\n",
       "    <tr>\n",
       "      <th>2</th>\n",
       "      <td>ALLAMAKEE</td>\n",
       "      <td>10</td>\n",
       "      <td>4</td>\n",
       "    </tr>\n",
       "    <tr>\n",
       "      <th>3</th>\n",
       "      <td>APPANOOSE</td>\n",
       "      <td>9</td>\n",
       "      <td>2</td>\n",
       "    </tr>\n",
       "    <tr>\n",
       "      <th>4</th>\n",
       "      <td>AUDUBON</td>\n",
       "      <td>4</td>\n",
       "      <td>2</td>\n",
       "    </tr>\n",
       "    <tr>\n",
       "      <th>...</th>\n",
       "      <td>...</td>\n",
       "      <td>...</td>\n",
       "      <td>...</td>\n",
       "    </tr>\n",
       "    <tr>\n",
       "      <th>114</th>\n",
       "      <td>WOODBURY</td>\n",
       "      <td>48</td>\n",
       "      <td>12</td>\n",
       "    </tr>\n",
       "    <tr>\n",
       "      <th>115</th>\n",
       "      <td>WORTH</td>\n",
       "      <td>4</td>\n",
       "      <td>2</td>\n",
       "    </tr>\n",
       "    <tr>\n",
       "      <th>116</th>\n",
       "      <td>WRIGHT</td>\n",
       "      <td>12</td>\n",
       "      <td>5</td>\n",
       "    </tr>\n",
       "    <tr>\n",
       "      <th>117</th>\n",
       "      <td>Wapello</td>\n",
       "      <td>1</td>\n",
       "      <td>1</td>\n",
       "    </tr>\n",
       "    <tr>\n",
       "      <th>118</th>\n",
       "      <td>Webster</td>\n",
       "      <td>1</td>\n",
       "      <td>1</td>\n",
       "    </tr>\n",
       "  </tbody>\n",
       "</table>\n",
       "<p>119 rows × 3 columns</p>\n",
       "</div>"
      ],
      "text/plain": [
       "        County  Store Number  Zip Code\n",
       "0        ADAIR             6         4\n",
       "1        ADAMS             2         1\n",
       "2    ALLAMAKEE            10         4\n",
       "3    APPANOOSE             9         2\n",
       "4      AUDUBON             4         2\n",
       "..         ...           ...       ...\n",
       "114   WOODBURY            48        12\n",
       "115      WORTH             4         2\n",
       "116     WRIGHT            12         5\n",
       "117    Wapello             1         1\n",
       "118    Webster             1         1\n",
       "\n",
       "[119 rows x 3 columns]"
      ]
     },
     "execution_count": 61,
     "metadata": {},
     "output_type": "execute_result"
    }
   ],
   "source": [
    "df_counties"
   ]
  },
  {
   "cell_type": "code",
   "execution_count": 59,
   "id": "3264a2a3",
   "metadata": {},
   "outputs": [],
   "source": [
    "filt = df_counties['County']=='POLK'"
   ]
  },
  {
   "cell_type": "code",
   "execution_count": 60,
   "id": "4845cef7",
   "metadata": {},
   "outputs": [
    {
     "data": {
      "text/html": [
       "<div>\n",
       "<style scoped>\n",
       "    .dataframe tbody tr th:only-of-type {\n",
       "        vertical-align: middle;\n",
       "    }\n",
       "\n",
       "    .dataframe tbody tr th {\n",
       "        vertical-align: top;\n",
       "    }\n",
       "\n",
       "    .dataframe thead th {\n",
       "        text-align: right;\n",
       "    }\n",
       "</style>\n",
       "<table border=\"1\" class=\"dataframe\">\n",
       "  <thead>\n",
       "    <tr style=\"text-align: right;\">\n",
       "      <th></th>\n",
       "      <th>County</th>\n",
       "      <th>Store Number</th>\n",
       "      <th>Zip Code</th>\n",
       "    </tr>\n",
       "  </thead>\n",
       "  <tbody>\n",
       "    <tr>\n",
       "      <th>90</th>\n",
       "      <td>POLK</td>\n",
       "      <td>241</td>\n",
       "      <td>26</td>\n",
       "    </tr>\n",
       "  </tbody>\n",
       "</table>\n",
       "</div>"
      ],
      "text/plain": [
       "   County  Store Number  Zip Code\n",
       "90   POLK           241        26"
      ]
     },
     "execution_count": 60,
     "metadata": {},
     "output_type": "execute_result"
    }
   ],
   "source": [
    "df_counties[filt]"
   ]
  },
  {
   "cell_type": "code",
   "execution_count": 53,
   "id": "3305f5b5",
   "metadata": {},
   "outputs": [
    {
     "data": {
      "text/plain": [
       "241"
      ]
     },
     "execution_count": 53,
     "metadata": {},
     "output_type": "execute_result"
    }
   ],
   "source": [
    "df_counties['Store Number'].max()"
   ]
  },
  {
   "cell_type": "code",
   "execution_count": 54,
   "id": "ea4a4c89",
   "metadata": {},
   "outputs": [
    {
     "data": {
      "text/html": [
       "<div>\n",
       "<style scoped>\n",
       "    .dataframe tbody tr th:only-of-type {\n",
       "        vertical-align: middle;\n",
       "    }\n",
       "\n",
       "    .dataframe tbody tr th {\n",
       "        vertical-align: top;\n",
       "    }\n",
       "\n",
       "    .dataframe thead th {\n",
       "        text-align: right;\n",
       "    }\n",
       "</style>\n",
       "<table border=\"1\" class=\"dataframe\">\n",
       "  <thead>\n",
       "    <tr style=\"text-align: right;\">\n",
       "      <th></th>\n",
       "      <th>County</th>\n",
       "      <th>Store Number</th>\n",
       "    </tr>\n",
       "  </thead>\n",
       "  <tbody>\n",
       "    <tr>\n",
       "      <th>90</th>\n",
       "      <td>POLK</td>\n",
       "      <td>241</td>\n",
       "    </tr>\n",
       "  </tbody>\n",
       "</table>\n",
       "</div>"
      ],
      "text/plain": [
       "   County  Store Number\n",
       "90   POLK           241"
      ]
     },
     "execution_count": 54,
     "metadata": {},
     "output_type": "execute_result"
    }
   ],
   "source": [
    "filt = df_counties['Store Number'] == 241\n",
    "\n",
    "df_counties[filt]"
   ]
  },
  {
   "cell_type": "code",
   "execution_count": 55,
   "id": "941f96f7",
   "metadata": {},
   "outputs": [
    {
     "data": {
      "text/html": [
       "<div>\n",
       "<style scoped>\n",
       "    .dataframe tbody tr th:only-of-type {\n",
       "        vertical-align: middle;\n",
       "    }\n",
       "\n",
       "    .dataframe tbody tr th {\n",
       "        vertical-align: top;\n",
       "    }\n",
       "\n",
       "    .dataframe thead th {\n",
       "        text-align: right;\n",
       "    }\n",
       "</style>\n",
       "<table border=\"1\" class=\"dataframe\">\n",
       "  <thead>\n",
       "    <tr style=\"text-align: right;\">\n",
       "      <th></th>\n",
       "      <th>Invoice/Item Number</th>\n",
       "      <th>Date</th>\n",
       "      <th>Store Number</th>\n",
       "      <th>Store Name</th>\n",
       "      <th>Address</th>\n",
       "      <th>City</th>\n",
       "      <th>Zip Code</th>\n",
       "      <th>Store Location</th>\n",
       "      <th>County Number</th>\n",
       "      <th>County</th>\n",
       "      <th>Category</th>\n",
       "      <th>Category Name</th>\n",
       "      <th>Vendor Number</th>\n",
       "      <th>Vendor Name</th>\n",
       "      <th>Item Number</th>\n",
       "      <th>Item Description</th>\n",
       "      <th>Pack</th>\n",
       "      <th>Bottle Volume (ml)</th>\n",
       "      <th>State Bottle Cost</th>\n",
       "      <th>State Bottle Retail</th>\n",
       "      <th>Bottles Sold</th>\n",
       "      <th>Sale (Dollars)</th>\n",
       "      <th>Volume Sold (Liters)</th>\n",
       "      <th>Volume Sold (Gallons)</th>\n",
       "      <th>trans_date</th>\n",
       "    </tr>\n",
       "  </thead>\n",
       "  <tbody>\n",
       "    <tr>\n",
       "      <th>3</th>\n",
       "      <td>INV-41521200068</td>\n",
       "      <td>11/01/2021</td>\n",
       "      <td>2648</td>\n",
       "      <td>Hy-Vee #4 / WDM</td>\n",
       "      <td>555 S 51st St</td>\n",
       "      <td>West Des Moines</td>\n",
       "      <td>50265</td>\n",
       "      <td>POINT (-93.774728 41.560871)</td>\n",
       "      <td>77</td>\n",
       "      <td>POLK</td>\n",
       "      <td>1081500</td>\n",
       "      <td>Triple Sec</td>\n",
       "      <td>434</td>\n",
       "      <td>LUXCO INC</td>\n",
       "      <td>86250</td>\n",
       "      <td>Juarez Triple Sec</td>\n",
       "      <td>12</td>\n",
       "      <td>750</td>\n",
       "      <td>2.67</td>\n",
       "      <td>4.01</td>\n",
       "      <td>12</td>\n",
       "      <td>48.12</td>\n",
       "      <td>9.00</td>\n",
       "      <td>2.37</td>\n",
       "      <td>2021-11-01</td>\n",
       "    </tr>\n",
       "    <tr>\n",
       "      <th>4</th>\n",
       "      <td>INV-41523800012</td>\n",
       "      <td>11/01/2021</td>\n",
       "      <td>4379</td>\n",
       "      <td>Kum &amp; Go #2091 / Ashworth / WDM</td>\n",
       "      <td>5969 Ashworth Rd</td>\n",
       "      <td>West Des Moines</td>\n",
       "      <td>50266</td>\n",
       "      <td>NaN</td>\n",
       "      <td>77</td>\n",
       "      <td>POLK</td>\n",
       "      <td>1051100</td>\n",
       "      <td>American Brandies</td>\n",
       "      <td>205</td>\n",
       "      <td>E &amp; J Gallo Winery</td>\n",
       "      <td>52596</td>\n",
       "      <td>E &amp; J VS</td>\n",
       "      <td>12</td>\n",
       "      <td>750</td>\n",
       "      <td>6.50</td>\n",
       "      <td>9.75</td>\n",
       "      <td>5</td>\n",
       "      <td>48.75</td>\n",
       "      <td>3.75</td>\n",
       "      <td>0.99</td>\n",
       "      <td>2021-11-01</td>\n",
       "    </tr>\n",
       "    <tr>\n",
       "      <th>18</th>\n",
       "      <td>INV-41556400064</td>\n",
       "      <td>11/02/2021</td>\n",
       "      <td>2535</td>\n",
       "      <td>Hy-Vee Food Store #1 / WDM</td>\n",
       "      <td>1700 Valley West Dr</td>\n",
       "      <td>West Des Moines</td>\n",
       "      <td>50265</td>\n",
       "      <td>NaN</td>\n",
       "      <td>77</td>\n",
       "      <td>POLK</td>\n",
       "      <td>1032100</td>\n",
       "      <td>Imported Vodkas</td>\n",
       "      <td>035</td>\n",
       "      <td>BACARDI USA INC</td>\n",
       "      <td>34433</td>\n",
       "      <td>Grey Goose</td>\n",
       "      <td>12</td>\n",
       "      <td>750</td>\n",
       "      <td>15.00</td>\n",
       "      <td>22.50</td>\n",
       "      <td>12</td>\n",
       "      <td>270.00</td>\n",
       "      <td>9.00</td>\n",
       "      <td>2.37</td>\n",
       "      <td>2021-11-02</td>\n",
       "    </tr>\n",
       "    <tr>\n",
       "      <th>32</th>\n",
       "      <td>INV-41598000062</td>\n",
       "      <td>11/03/2021</td>\n",
       "      <td>2502</td>\n",
       "      <td>Hy-Vee Wine and Spirits / Ankeny</td>\n",
       "      <td>410 North Ankeny Blvd</td>\n",
       "      <td>Ankeny</td>\n",
       "      <td>50021</td>\n",
       "      <td>NaN</td>\n",
       "      <td>77</td>\n",
       "      <td>POLK</td>\n",
       "      <td>1011200</td>\n",
       "      <td>Straight Bourbon Whiskies</td>\n",
       "      <td>259</td>\n",
       "      <td>Heaven Hill Brands</td>\n",
       "      <td>17958</td>\n",
       "      <td>Evan Williams Black</td>\n",
       "      <td>6</td>\n",
       "      <td>1750</td>\n",
       "      <td>16.00</td>\n",
       "      <td>24.00</td>\n",
       "      <td>30</td>\n",
       "      <td>720.00</td>\n",
       "      <td>52.50</td>\n",
       "      <td>13.86</td>\n",
       "      <td>2021-11-03</td>\n",
       "    </tr>\n",
       "    <tr>\n",
       "      <th>33</th>\n",
       "      <td>INV-41598000181</td>\n",
       "      <td>11/03/2021</td>\n",
       "      <td>2502</td>\n",
       "      <td>Hy-Vee Wine and Spirits / Ankeny</td>\n",
       "      <td>410 North Ankeny Blvd</td>\n",
       "      <td>Ankeny</td>\n",
       "      <td>50021</td>\n",
       "      <td>NaN</td>\n",
       "      <td>77</td>\n",
       "      <td>POLK</td>\n",
       "      <td>1062500</td>\n",
       "      <td>Flavored Rum</td>\n",
       "      <td>370</td>\n",
       "      <td>PERNOD RICARD USA</td>\n",
       "      <td>42712</td>\n",
       "      <td>Malibu Coconut Mini</td>\n",
       "      <td>12</td>\n",
       "      <td>50</td>\n",
       "      <td>4.95</td>\n",
       "      <td>7.43</td>\n",
       "      <td>3</td>\n",
       "      <td>22.29</td>\n",
       "      <td>0.15</td>\n",
       "      <td>0.03</td>\n",
       "      <td>2021-11-03</td>\n",
       "    </tr>\n",
       "    <tr>\n",
       "      <th>...</th>\n",
       "      <td>...</td>\n",
       "      <td>...</td>\n",
       "      <td>...</td>\n",
       "      <td>...</td>\n",
       "      <td>...</td>\n",
       "      <td>...</td>\n",
       "      <td>...</td>\n",
       "      <td>...</td>\n",
       "      <td>...</td>\n",
       "      <td>...</td>\n",
       "      <td>...</td>\n",
       "      <td>...</td>\n",
       "      <td>...</td>\n",
       "      <td>...</td>\n",
       "      <td>...</td>\n",
       "      <td>...</td>\n",
       "      <td>...</td>\n",
       "      <td>...</td>\n",
       "      <td>...</td>\n",
       "      <td>...</td>\n",
       "      <td>...</td>\n",
       "      <td>...</td>\n",
       "      <td>...</td>\n",
       "      <td>...</td>\n",
       "      <td>...</td>\n",
       "    </tr>\n",
       "    <tr>\n",
       "      <th>2622423</th>\n",
       "      <td>INV-41504800005</td>\n",
       "      <td>10/31/2021</td>\n",
       "      <td>4301</td>\n",
       "      <td>Sahota Food Mart</td>\n",
       "      <td>1805 SE 14th St</td>\n",
       "      <td>Des Moines</td>\n",
       "      <td>50320</td>\n",
       "      <td>POINT (-93.59684900000002 41.57222)</td>\n",
       "      <td>77</td>\n",
       "      <td>POLK</td>\n",
       "      <td>1071100</td>\n",
       "      <td>Cocktails /RTD</td>\n",
       "      <td>395</td>\n",
       "      <td>PROXIMO</td>\n",
       "      <td>59161</td>\n",
       "      <td>1800 Ultimate Peach Margarita</td>\n",
       "      <td>6</td>\n",
       "      <td>1750</td>\n",
       "      <td>10.04</td>\n",
       "      <td>15.06</td>\n",
       "      <td>6</td>\n",
       "      <td>90.36</td>\n",
       "      <td>10.50</td>\n",
       "      <td>2.77</td>\n",
       "      <td>2021-10-31</td>\n",
       "    </tr>\n",
       "    <tr>\n",
       "      <th>2622439</th>\n",
       "      <td>INV-41504300007</td>\n",
       "      <td>10/31/2021</td>\n",
       "      <td>5098</td>\n",
       "      <td>Best Food Mart 3  LLC</td>\n",
       "      <td>1621 University Ave</td>\n",
       "      <td>Des Moines</td>\n",
       "      <td>50311</td>\n",
       "      <td>NaN</td>\n",
       "      <td>77</td>\n",
       "      <td>POLK</td>\n",
       "      <td>1041100</td>\n",
       "      <td>American Dry Gins</td>\n",
       "      <td>370</td>\n",
       "      <td>PERNOD RICARD USA</td>\n",
       "      <td>32231</td>\n",
       "      <td>Seagrams Extra Dry Gin Mini</td>\n",
       "      <td>12</td>\n",
       "      <td>50</td>\n",
       "      <td>3.30</td>\n",
       "      <td>4.95</td>\n",
       "      <td>12</td>\n",
       "      <td>59.40</td>\n",
       "      <td>0.60</td>\n",
       "      <td>0.15</td>\n",
       "      <td>2021-10-31</td>\n",
       "    </tr>\n",
       "    <tr>\n",
       "      <th>2622589</th>\n",
       "      <td>INV-41504300017</td>\n",
       "      <td>10/31/2021</td>\n",
       "      <td>5098</td>\n",
       "      <td>Best Food Mart 3  LLC</td>\n",
       "      <td>1621 University Ave</td>\n",
       "      <td>Des Moines</td>\n",
       "      <td>50311</td>\n",
       "      <td>NaN</td>\n",
       "      <td>77</td>\n",
       "      <td>POLK</td>\n",
       "      <td>1081600</td>\n",
       "      <td>Whiskey Liqueur</td>\n",
       "      <td>421</td>\n",
       "      <td>SAZERAC COMPANY  INC</td>\n",
       "      <td>64864</td>\n",
       "      <td>Fireball Cinnamon Whiskey</td>\n",
       "      <td>24</td>\n",
       "      <td>375</td>\n",
       "      <td>5.33</td>\n",
       "      <td>8.00</td>\n",
       "      <td>24</td>\n",
       "      <td>192.00</td>\n",
       "      <td>9.00</td>\n",
       "      <td>2.37</td>\n",
       "      <td>2021-10-31</td>\n",
       "    </tr>\n",
       "    <tr>\n",
       "      <th>2622628</th>\n",
       "      <td>INV-41504400005</td>\n",
       "      <td>10/31/2021</td>\n",
       "      <td>5906</td>\n",
       "      <td>Polk City Liquor</td>\n",
       "      <td>201 N 3rd St  STE A and B</td>\n",
       "      <td>Polk City</td>\n",
       "      <td>50226</td>\n",
       "      <td>NaN</td>\n",
       "      <td>77</td>\n",
       "      <td>POLK</td>\n",
       "      <td>1011300</td>\n",
       "      <td>Single Barrel Bourbon Whiskies</td>\n",
       "      <td>306</td>\n",
       "      <td>MISSISSIPPI RIVER DISTIL</td>\n",
       "      <td>27677</td>\n",
       "      <td>Cody Road Single Barrel</td>\n",
       "      <td>6</td>\n",
       "      <td>750</td>\n",
       "      <td>25.00</td>\n",
       "      <td>37.50</td>\n",
       "      <td>2</td>\n",
       "      <td>75.00</td>\n",
       "      <td>1.50</td>\n",
       "      <td>0.39</td>\n",
       "      <td>2021-10-31</td>\n",
       "    </tr>\n",
       "    <tr>\n",
       "      <th>2622711</th>\n",
       "      <td>INV-41508500001</td>\n",
       "      <td>11/01/2021</td>\n",
       "      <td>4084</td>\n",
       "      <td>Fareway Stores #061 / Ankeny</td>\n",
       "      <td>3205 North Ankeny Blvd</td>\n",
       "      <td>Ankeny</td>\n",
       "      <td>50023</td>\n",
       "      <td>NaN</td>\n",
       "      <td>77</td>\n",
       "      <td>POLK</td>\n",
       "      <td>1031100</td>\n",
       "      <td>American Vodkas</td>\n",
       "      <td>260</td>\n",
       "      <td>DIAGEO AMERICAS</td>\n",
       "      <td>37998</td>\n",
       "      <td>Smirnoff 80prf</td>\n",
       "      <td>6</td>\n",
       "      <td>1750</td>\n",
       "      <td>14.75</td>\n",
       "      <td>22.13</td>\n",
       "      <td>120</td>\n",
       "      <td>2655.60</td>\n",
       "      <td>210.00</td>\n",
       "      <td>55.47</td>\n",
       "      <td>2021-11-01</td>\n",
       "    </tr>\n",
       "  </tbody>\n",
       "</table>\n",
       "<p>462408 rows × 25 columns</p>\n",
       "</div>"
      ],
      "text/plain": [
       "        Invoice/Item Number        Date Store Number  \\\n",
       "3           INV-41521200068  11/01/2021         2648   \n",
       "4           INV-41523800012  11/01/2021         4379   \n",
       "18          INV-41556400064  11/02/2021         2535   \n",
       "32          INV-41598000062  11/03/2021         2502   \n",
       "33          INV-41598000181  11/03/2021         2502   \n",
       "...                     ...         ...          ...   \n",
       "2622423     INV-41504800005  10/31/2021         4301   \n",
       "2622439     INV-41504300007  10/31/2021         5098   \n",
       "2622589     INV-41504300017  10/31/2021         5098   \n",
       "2622628     INV-41504400005  10/31/2021         5906   \n",
       "2622711     INV-41508500001  11/01/2021         4084   \n",
       "\n",
       "                               Store Name                    Address  \\\n",
       "3                         Hy-Vee #4 / WDM              555 S 51st St   \n",
       "4         Kum & Go #2091 / Ashworth / WDM           5969 Ashworth Rd   \n",
       "18             Hy-Vee Food Store #1 / WDM        1700 Valley West Dr   \n",
       "32       Hy-Vee Wine and Spirits / Ankeny      410 North Ankeny Blvd   \n",
       "33       Hy-Vee Wine and Spirits / Ankeny      410 North Ankeny Blvd   \n",
       "...                                   ...                        ...   \n",
       "2622423                  Sahota Food Mart            1805 SE 14th St   \n",
       "2622439             Best Food Mart 3  LLC        1621 University Ave   \n",
       "2622589             Best Food Mart 3  LLC        1621 University Ave   \n",
       "2622628                  Polk City Liquor  201 N 3rd St  STE A and B   \n",
       "2622711      Fareway Stores #061 / Ankeny     3205 North Ankeny Blvd   \n",
       "\n",
       "                    City Zip Code                       Store Location  \\\n",
       "3        West Des Moines    50265         POINT (-93.774728 41.560871)   \n",
       "4        West Des Moines    50266                                  NaN   \n",
       "18       West Des Moines    50265                                  NaN   \n",
       "32                Ankeny    50021                                  NaN   \n",
       "33                Ankeny    50021                                  NaN   \n",
       "...                  ...      ...                                  ...   \n",
       "2622423       Des Moines    50320  POINT (-93.59684900000002 41.57222)   \n",
       "2622439       Des Moines    50311                                  NaN   \n",
       "2622589       Des Moines    50311                                  NaN   \n",
       "2622628        Polk City    50226                                  NaN   \n",
       "2622711           Ankeny    50023                                  NaN   \n",
       "\n",
       "        County Number County Category                   Category Name  \\\n",
       "3                  77   POLK  1081500                      Triple Sec   \n",
       "4                  77   POLK  1051100               American Brandies   \n",
       "18                 77   POLK  1032100                 Imported Vodkas   \n",
       "32                 77   POLK  1011200       Straight Bourbon Whiskies   \n",
       "33                 77   POLK  1062500                    Flavored Rum   \n",
       "...               ...    ...      ...                             ...   \n",
       "2622423            77   POLK  1071100                  Cocktails /RTD   \n",
       "2622439            77   POLK  1041100               American Dry Gins   \n",
       "2622589            77   POLK  1081600                 Whiskey Liqueur   \n",
       "2622628            77   POLK  1011300  Single Barrel Bourbon Whiskies   \n",
       "2622711            77   POLK  1031100                 American Vodkas   \n",
       "\n",
       "        Vendor Number               Vendor Name Item Number  \\\n",
       "3                 434                 LUXCO INC       86250   \n",
       "4                 205        E & J Gallo Winery       52596   \n",
       "18                035           BACARDI USA INC       34433   \n",
       "32                259        Heaven Hill Brands       17958   \n",
       "33                370         PERNOD RICARD USA       42712   \n",
       "...               ...                       ...         ...   \n",
       "2622423           395                   PROXIMO       59161   \n",
       "2622439           370         PERNOD RICARD USA       32231   \n",
       "2622589           421      SAZERAC COMPANY  INC       64864   \n",
       "2622628           306  MISSISSIPPI RIVER DISTIL       27677   \n",
       "2622711           260           DIAGEO AMERICAS       37998   \n",
       "\n",
       "                      Item Description  Pack  Bottle Volume (ml)  \\\n",
       "3                    Juarez Triple Sec    12                 750   \n",
       "4                             E & J VS    12                 750   \n",
       "18                          Grey Goose    12                 750   \n",
       "32                 Evan Williams Black     6                1750   \n",
       "33                 Malibu Coconut Mini    12                  50   \n",
       "...                                ...   ...                 ...   \n",
       "2622423  1800 Ultimate Peach Margarita     6                1750   \n",
       "2622439    Seagrams Extra Dry Gin Mini    12                  50   \n",
       "2622589      Fireball Cinnamon Whiskey    24                 375   \n",
       "2622628        Cody Road Single Barrel     6                 750   \n",
       "2622711                 Smirnoff 80prf     6                1750   \n",
       "\n",
       "         State Bottle Cost  State Bottle Retail  Bottles Sold  Sale (Dollars)  \\\n",
       "3                     2.67                 4.01            12           48.12   \n",
       "4                     6.50                 9.75             5           48.75   \n",
       "18                   15.00                22.50            12          270.00   \n",
       "32                   16.00                24.00            30          720.00   \n",
       "33                    4.95                 7.43             3           22.29   \n",
       "...                    ...                  ...           ...             ...   \n",
       "2622423              10.04                15.06             6           90.36   \n",
       "2622439               3.30                 4.95            12           59.40   \n",
       "2622589               5.33                 8.00            24          192.00   \n",
       "2622628              25.00                37.50             2           75.00   \n",
       "2622711              14.75                22.13           120         2655.60   \n",
       "\n",
       "         Volume Sold (Liters)  Volume Sold (Gallons) trans_date  \n",
       "3                        9.00                   2.37 2021-11-01  \n",
       "4                        3.75                   0.99 2021-11-01  \n",
       "18                       9.00                   2.37 2021-11-02  \n",
       "32                      52.50                  13.86 2021-11-03  \n",
       "33                       0.15                   0.03 2021-11-03  \n",
       "...                       ...                    ...        ...  \n",
       "2622423                 10.50                   2.77 2021-10-31  \n",
       "2622439                  0.60                   0.15 2021-10-31  \n",
       "2622589                  9.00                   2.37 2021-10-31  \n",
       "2622628                  1.50                   0.39 2021-10-31  \n",
       "2622711                210.00                  55.47 2021-11-01  \n",
       "\n",
       "[462408 rows x 25 columns]"
      ]
     },
     "execution_count": 55,
     "metadata": {},
     "output_type": "execute_result"
    }
   ],
   "source": [
    "liquor_2021.loc[liquor_2021['County']=='POLK',:]"
   ]
  },
  {
   "cell_type": "markdown",
   "id": "250af2da",
   "metadata": {},
   "source": [
    "create stores DataFrame"
   ]
  },
  {
   "cell_type": "code",
   "execution_count": 18,
   "id": "c5033c8c",
   "metadata": {},
   "outputs": [],
   "source": [
    "df_store1 = liquor_2021.sort_values(by=['trans_date']).drop_duplicates(['Store Number'],keep='last')"
   ]
  },
  {
   "cell_type": "code",
   "execution_count": 19,
   "id": "c0dd076f",
   "metadata": {},
   "outputs": [],
   "source": [
    "stores = df_store1[['Store Number', 'Store Name', 'Address', 'City', 'Zip Code', 'Store Location', 'County Number', 'County']]"
   ]
  },
  {
   "cell_type": "code",
   "execution_count": 20,
   "id": "b0d4bbb9",
   "metadata": {},
   "outputs": [],
   "source": [
    "df_vendor1 =  liquor_2021.sort_values(by=['trans_date']).drop_duplicates(['Vendor Number'],keep='last')"
   ]
  },
  {
   "cell_type": "code",
   "execution_count": 21,
   "id": "18ba2f67",
   "metadata": {},
   "outputs": [],
   "source": [
    "vendors = df_vendor1[['Vendor Number', 'Vendor Name']]"
   ]
  },
  {
   "cell_type": "markdown",
   "id": "331d5575",
   "metadata": {},
   "source": [
    "read in Iowa Liquor Products file"
   ]
  },
  {
   "cell_type": "code",
   "execution_count": 22,
   "id": "ff19e1c3",
   "metadata": {},
   "outputs": [],
   "source": [
    "dytype_dict2 = {'Item Number':str, 'Vendor':str, 'Proof':int, 'Vendor Name':str, 'Age':int}\n",
    "\n",
    "Iowa_Liquor_Products = pd.read_csv(r'C:\\Users\\dgarb\\OneDrive\\Desktop\\Capstone Data\\Iowa_Liquor_Products.csv', dtype=dytype_dict2 )"
   ]
  },
  {
   "cell_type": "code",
   "execution_count": 23,
   "id": "755b1ac2",
   "metadata": {},
   "outputs": [
    {
     "data": {
      "text/html": [
       "<div>\n",
       "<style scoped>\n",
       "    .dataframe tbody tr th:only-of-type {\n",
       "        vertical-align: middle;\n",
       "    }\n",
       "\n",
       "    .dataframe tbody tr th {\n",
       "        vertical-align: top;\n",
       "    }\n",
       "\n",
       "    .dataframe thead th {\n",
       "        text-align: right;\n",
       "    }\n",
       "</style>\n",
       "<table border=\"1\" class=\"dataframe\">\n",
       "  <thead>\n",
       "    <tr style=\"text-align: right;\">\n",
       "      <th></th>\n",
       "      <th>Item Number</th>\n",
       "      <th>Category Name</th>\n",
       "      <th>Item Description</th>\n",
       "      <th>Vendor</th>\n",
       "      <th>Vendor Name</th>\n",
       "      <th>Bottle Volume (ml)</th>\n",
       "      <th>Pack</th>\n",
       "      <th>Inner Pack</th>\n",
       "      <th>Age</th>\n",
       "      <th>Proof</th>\n",
       "      <th>List Date</th>\n",
       "      <th>UPC</th>\n",
       "      <th>SCC</th>\n",
       "      <th>State Bottle Cost</th>\n",
       "      <th>State Case Cost</th>\n",
       "      <th>State Bottle Retail</th>\n",
       "      <th>Report Date</th>\n",
       "    </tr>\n",
       "  </thead>\n",
       "  <tbody>\n",
       "    <tr>\n",
       "      <th>0</th>\n",
       "      <td>901141</td>\n",
       "      <td>Special Order Items</td>\n",
       "      <td>Libertine Absinthe(French Absinthe) Mini</td>\n",
       "      <td>885</td>\n",
       "      <td>YAHARA BAY DISTILLERS INC</td>\n",
       "      <td>50</td>\n",
       "      <td>6</td>\n",
       "      <td>1</td>\n",
       "      <td>0</td>\n",
       "      <td>114</td>\n",
       "      <td>04/20/2012</td>\n",
       "      <td>NaN</td>\n",
       "      <td>10892060104050</td>\n",
       "      <td>4.82</td>\n",
       "      <td>28.9</td>\n",
       "      <td>7.23</td>\n",
       "      <td>03/01/2022</td>\n",
       "    </tr>\n",
       "    <tr>\n",
       "      <th>1</th>\n",
       "      <td>65017</td>\n",
       "      <td>Imported Cordials &amp; Liqueurs</td>\n",
       "      <td>Galliano Liqueur</td>\n",
       "      <td>305</td>\n",
       "      <td>Mhw LTD</td>\n",
       "      <td>375</td>\n",
       "      <td>12</td>\n",
       "      <td>1</td>\n",
       "      <td>0</td>\n",
       "      <td>84</td>\n",
       "      <td>10/01/2012</td>\n",
       "      <td>8.091511e+10</td>\n",
       "      <td>10892060104050</td>\n",
       "      <td>10.75</td>\n",
       "      <td>129.0</td>\n",
       "      <td>16.13</td>\n",
       "      <td>03/01/2022</td>\n",
       "    </tr>\n",
       "  </tbody>\n",
       "</table>\n",
       "</div>"
      ],
      "text/plain": [
       "  Item Number                 Category Name  \\\n",
       "0      901141           Special Order Items   \n",
       "1       65017  Imported Cordials & Liqueurs   \n",
       "\n",
       "                           Item Description Vendor                Vendor Name  \\\n",
       "0  Libertine Absinthe(French Absinthe) Mini    885  YAHARA BAY DISTILLERS INC   \n",
       "1                          Galliano Liqueur    305                    Mhw LTD   \n",
       "\n",
       "   Bottle Volume (ml)  Pack  Inner Pack  Age  Proof   List Date           UPC  \\\n",
       "0                  50     6           1    0    114  04/20/2012           NaN   \n",
       "1                 375    12           1    0     84  10/01/2012  8.091511e+10   \n",
       "\n",
       "              SCC  State Bottle Cost  State Case Cost  State Bottle Retail  \\\n",
       "0  10892060104050               4.82             28.9                 7.23   \n",
       "1  10892060104050              10.75            129.0                16.13   \n",
       "\n",
       "  Report Date  \n",
       "0  03/01/2022  \n",
       "1  03/01/2022  "
      ]
     },
     "execution_count": 23,
     "metadata": {},
     "output_type": "execute_result"
    }
   ],
   "source": [
    "pd.set_option('display.max_columns', None)\n",
    "Iowa_Liquor_Products.head(2)"
   ]
  },
  {
   "cell_type": "code",
   "execution_count": 24,
   "id": "bd757f91",
   "metadata": {},
   "outputs": [],
   "source": [
    "product_proof = Iowa_Liquor_Products[['Item Number','Age','Proof']]"
   ]
  },
  {
   "cell_type": "code",
   "execution_count": 25,
   "id": "0a522fa3",
   "metadata": {},
   "outputs": [],
   "source": [
    "df_categ1 = liquor_2021.sort_values(by=['trans_date']).drop_duplicates(['Category'],keep='last')"
   ]
  },
  {
   "cell_type": "code",
   "execution_count": 26,
   "id": "795bc135",
   "metadata": {},
   "outputs": [],
   "source": [
    "categories = df_categ1[[ 'Category', 'Category Name']]"
   ]
  },
  {
   "cell_type": "code",
   "execution_count": 27,
   "id": "df48e8b1",
   "metadata": {},
   "outputs": [
    {
     "data": {
      "text/plain": [
       "[]"
      ]
     },
     "execution_count": 27,
     "metadata": {},
     "output_type": "execute_result"
    }
   ],
   "source": [
    "miss_cols(categories)"
   ]
  },
  {
   "cell_type": "code",
   "execution_count": 28,
   "id": "7f821012",
   "metadata": {},
   "outputs": [],
   "source": [
    "dict_categ = dict(list(zip(categories['Category'],categories['Category Name'])))\n",
    "\n",
    "dict_list = sorted(dict_categ.items(), key = lambda kv:(kv[1], kv[0]))\n",
    "\n",
    "# dict_categ['1081300']='American Cordials & Liqueurs'\n",
    "\n",
    "# ('1081300', 'American Cordials & Liqueur'),\n",
    "#  ('1081000', 'American Cordials & Liqueurs'),\n",
    "# ('1081400', 'American Schnapps')\n",
    "# ('1081100', 'Coffee Liqueurs')\n",
    "# ('1081200', 'Cream Liqueurs')\n",
    "\n",
    "# ('1082100', 'Imported Cordials & Liqueur'),\n",
    "#  ('1082000', 'Imported Cordials & Liqueurs'),\n",
    "#     ('1082200', 'Imported Schnapps')\n",
    "#     ('1081600', 'Whiskey Liqueur')\n",
    "# dict_list"
   ]
  },
  {
   "cell_type": "code",
   "execution_count": 29,
   "id": "7401d4bf",
   "metadata": {},
   "outputs": [],
   "source": [
    "# proc_freq(categories,'Category Name')"
   ]
  },
  {
   "cell_type": "code",
   "execution_count": null,
   "id": "2b5199db",
   "metadata": {},
   "outputs": [],
   "source": []
  },
  {
   "cell_type": "code",
   "execution_count": 30,
   "id": "a2d1aa16",
   "metadata": {},
   "outputs": [],
   "source": [
    "imp_liquers_trans = transactions.loc[(transactions['Category']== '1082100') | (transactions['Category']=='1082000') | (transactions['Category']=='1082200')]"
   ]
  },
  {
   "cell_type": "code",
   "execution_count": 31,
   "id": "9fd75680",
   "metadata": {},
   "outputs": [
    {
     "data": {
      "text/plain": [
       "(102138, 12)"
      ]
     },
     "execution_count": 31,
     "metadata": {},
     "output_type": "execute_result"
    }
   ],
   "source": [
    "imp_liquers_trans.shape"
   ]
  },
  {
   "cell_type": "code",
   "execution_count": 32,
   "id": "2b2925c7",
   "metadata": {},
   "outputs": [
    {
     "data": {
      "text/plain": [
       "36"
      ]
     },
     "execution_count": 32,
     "metadata": {},
     "output_type": "execute_result"
    }
   ],
   "source": [
    "imp_liquers_trans['Vendor Number'].nunique()"
   ]
  },
  {
   "cell_type": "code",
   "execution_count": 33,
   "id": "d528168b",
   "metadata": {},
   "outputs": [
    {
     "data": {
      "text/plain": [
       "1878"
      ]
     },
     "execution_count": 33,
     "metadata": {},
     "output_type": "execute_result"
    }
   ],
   "source": [
    "imp_liquers_trans['Store Number'].nunique()"
   ]
  },
  {
   "cell_type": "code",
   "execution_count": 34,
   "id": "0f452abf",
   "metadata": {},
   "outputs": [
    {
     "data": {
      "text/plain": [
       "119"
      ]
     },
     "execution_count": 34,
     "metadata": {},
     "output_type": "execute_result"
    }
   ],
   "source": [
    "liquor_2021['County'].nunique()"
   ]
  },
  {
   "cell_type": "code",
   "execution_count": 35,
   "id": "5ab3afd9",
   "metadata": {},
   "outputs": [
    {
     "data": {
      "text/plain": [
       "118"
      ]
     },
     "execution_count": 35,
     "metadata": {},
     "output_type": "execute_result"
    }
   ],
   "source": [
    "imp_liquers_trans.merge(stores, how='inner', on='Store Number')['County'].nunique()"
   ]
  },
  {
   "cell_type": "code",
   "execution_count": 36,
   "id": "508ace4a",
   "metadata": {},
   "outputs": [
    {
     "data": {
      "text/plain": [
       "169"
      ]
     },
     "execution_count": 36,
     "metadata": {},
     "output_type": "execute_result"
    }
   ],
   "source": [
    "imp_liquers_trans['Item Number'].nunique()"
   ]
  },
  {
   "cell_type": "markdown",
   "id": "e7afe57c",
   "metadata": {},
   "source": [
    "Why doesn't this work?"
   ]
  },
  {
   "cell_type": "code",
   "execution_count": 37,
   "id": "76b9f8f3",
   "metadata": {},
   "outputs": [],
   "source": [
    "filt = transactions['Category'].isin(['1081300','1081000','1081400','1081100','1081200'])"
   ]
  },
  {
   "cell_type": "code",
   "execution_count": 38,
   "id": "a260ed57",
   "metadata": {},
   "outputs": [
    {
     "data": {
      "text/plain": [
       "(217973, 12)"
      ]
     },
     "execution_count": 38,
     "metadata": {},
     "output_type": "execute_result"
    }
   ],
   "source": [
    "american_liquers_trans = transactions.loc[filt,:]\n",
    "american_liquers_trans.shape"
   ]
  },
  {
   "cell_type": "code",
   "execution_count": 39,
   "id": "eefce1bf",
   "metadata": {},
   "outputs": [
    {
     "name": "stdout",
     "output_type": "stream",
     "text": [
      "<class 'pandas.core.frame.DataFrame'>\n",
      "RangeIndex: 2622712 entries, 0 to 2622711\n",
      "Data columns (total 12 columns):\n",
      " #   Column                Dtype         \n",
      "---  ------                -----         \n",
      " 0   Vendor Number         object        \n",
      " 1   Store Number          object        \n",
      " 2   Item Number           object        \n",
      " 3   Date                  object        \n",
      " 4   Bottle Volume (ml)    int32         \n",
      " 5   Volume Sold (Liters)  float64       \n",
      " 6   Bottles Sold          int32         \n",
      " 7   Sale (Dollars)        float64       \n",
      " 8   State Bottle Cost     float64       \n",
      " 9   State Bottle Retail   float64       \n",
      " 10  Category              object        \n",
      " 11  trans_date            datetime64[ns]\n",
      "dtypes: datetime64[ns](1), float64(4), int32(2), object(5)\n",
      "memory usage: 220.1+ MB\n"
     ]
    }
   ],
   "source": [
    "transactions.info()"
   ]
  }
 ],
 "metadata": {
  "kernelspec": {
   "display_name": "Python 3 (ipykernel)",
   "language": "python",
   "name": "python3"
  },
  "language_info": {
   "codemirror_mode": {
    "name": "ipython",
    "version": 3
   },
   "file_extension": ".py",
   "mimetype": "text/x-python",
   "name": "python",
   "nbconvert_exporter": "python",
   "pygments_lexer": "ipython3",
   "version": "3.9.7"
  }
 },
 "nbformat": 4,
 "nbformat_minor": 5
}

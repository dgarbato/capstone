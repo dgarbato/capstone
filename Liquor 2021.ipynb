{
 "cells": [
  {
   "cell_type": "code",
   "execution_count": 1,
   "id": "732d68fd",
   "metadata": {},
   "outputs": [],
   "source": [
    "import pandas as pd\n",
    "import numpy as np"
   ]
  },
  {
   "cell_type": "code",
   "execution_count": 2,
   "id": "4274442f",
   "metadata": {},
   "outputs": [],
   "source": [
    "from freq_pd import proc_freq\n",
    "from missing_columns_pd import miss_cols"
   ]
  },
  {
   "cell_type": "code",
   "execution_count": 44,
   "id": "cce7562d",
   "metadata": {},
   "outputs": [],
   "source": [
    "dict_dtypes ={'Invoice/Item Number':str,\n",
    " 'Date':str,\n",
    " 'Store Number':str,\n",
    " 'Store Name':str,\n",
    " 'Address':str,\n",
    " 'City':str,\n",
    " 'Zip Code':str,\n",
    " 'Store Location':str,\n",
    " 'County Number':str,\n",
    " 'County':str,\n",
    " 'Category':str,\n",
    " 'Category Name':str,\n",
    " 'Vendor Number':str,\n",
    " 'Vendor Name':str,\n",
    " 'Item Number':str,\n",
    " 'Item Description':str,\n",
    " 'Pack':int,\n",
    " 'Bottle Volume (ml)':int,\n",
    " 'State Bottle Cost':float,\n",
    " 'State Bottle Retail':float,\n",
    " 'Bottles Sold':int,\n",
    " 'Sale (Dollars)':float,\n",
    " 'Volume Sold (Liters)':float,\n",
    " 'Volume Sold (Gallons)':float}"
   ]
  },
  {
   "cell_type": "code",
   "execution_count": 5,
   "id": "14581d68",
   "metadata": {},
   "outputs": [],
   "source": [
    "liquor_2021 = pd.read_csv(r'C:\\Users\\dgarb\\OneDrive\\Desktop\\Capstone Data\\liquor_2021\\liquor_2021.csv', dtype=dict_dtypes)"
   ]
  },
  {
   "cell_type": "code",
   "execution_count": 6,
   "id": "355ce543",
   "metadata": {},
   "outputs": [
    {
     "data": {
      "text/plain": [
       "(2622712, 24)"
      ]
     },
     "execution_count": 6,
     "metadata": {},
     "output_type": "execute_result"
    }
   ],
   "source": [
    "liquor_2021.shape"
   ]
  },
  {
   "cell_type": "code",
   "execution_count": 59,
   "id": "670ec634",
   "metadata": {},
   "outputs": [
    {
     "data": {
      "text/plain": [
       "[('Store Location', 311710, 0.1189),\n",
       " ('Address', 142, 0.0001),\n",
       " ('City', 142, 0.0001),\n",
       " ('Zip Code', 142, 0.0001),\n",
       " ('County Number', 142, 0.0001),\n",
       " ('County', 142, 0.0001),\n",
       " ('Vendor Number', 4, 0.0),\n",
       " ('Vendor Name', 4, 0.0)]"
      ]
     },
     "execution_count": 59,
     "metadata": {},
     "output_type": "execute_result"
    }
   ],
   "source": [
    "miss_cols(liquor_2021)"
   ]
  },
  {
   "cell_type": "code",
   "execution_count": null,
   "id": "54467664",
   "metadata": {},
   "outputs": [],
   "source": [
    "# liquor_2022 = "
   ]
  },
  {
   "cell_type": "code",
   "execution_count": 7,
   "id": "a8a45cc3",
   "metadata": {},
   "outputs": [
    {
     "data": {
      "text/html": [
       "<div>\n",
       "<style scoped>\n",
       "    .dataframe tbody tr th:only-of-type {\n",
       "        vertical-align: middle;\n",
       "    }\n",
       "\n",
       "    .dataframe tbody tr th {\n",
       "        vertical-align: top;\n",
       "    }\n",
       "\n",
       "    .dataframe thead th {\n",
       "        text-align: right;\n",
       "    }\n",
       "</style>\n",
       "<table border=\"1\" class=\"dataframe\">\n",
       "  <thead>\n",
       "    <tr style=\"text-align: right;\">\n",
       "      <th></th>\n",
       "      <th>Invoice/Item Number</th>\n",
       "      <th>Date</th>\n",
       "      <th>Store Number</th>\n",
       "      <th>Store Name</th>\n",
       "      <th>Address</th>\n",
       "      <th>City</th>\n",
       "      <th>Zip Code</th>\n",
       "      <th>Store Location</th>\n",
       "      <th>County Number</th>\n",
       "      <th>County</th>\n",
       "      <th>Category</th>\n",
       "      <th>Category Name</th>\n",
       "      <th>Vendor Number</th>\n",
       "      <th>Vendor Name</th>\n",
       "      <th>Item Number</th>\n",
       "      <th>Item Description</th>\n",
       "      <th>Pack</th>\n",
       "      <th>Bottle Volume (ml)</th>\n",
       "      <th>State Bottle Cost</th>\n",
       "      <th>State Bottle Retail</th>\n",
       "      <th>Bottles Sold</th>\n",
       "      <th>Sale (Dollars)</th>\n",
       "      <th>Volume Sold (Liters)</th>\n",
       "      <th>Volume Sold (Gallons)</th>\n",
       "    </tr>\n",
       "  </thead>\n",
       "  <tbody>\n",
       "    <tr>\n",
       "      <th>0</th>\n",
       "      <td>INV-41517100002</td>\n",
       "      <td>11/01/2021</td>\n",
       "      <td>5417</td>\n",
       "      <td>Casey's General Store # 2792/Cedar Rapids</td>\n",
       "      <td>9001 6th Street SW</td>\n",
       "      <td>Cedar Rapids</td>\n",
       "      <td>52404</td>\n",
       "      <td>NaN</td>\n",
       "      <td>57</td>\n",
       "      <td>LINN</td>\n",
       "      <td>1031100</td>\n",
       "      <td>American Vodkas</td>\n",
       "      <td>434</td>\n",
       "      <td>LUXCO INC</td>\n",
       "      <td>36308</td>\n",
       "      <td>Hawkeye Vodka</td>\n",
       "      <td>6</td>\n",
       "      <td>1750</td>\n",
       "      <td>7.17</td>\n",
       "      <td>10.76</td>\n",
       "      <td>6</td>\n",
       "      <td>64.56</td>\n",
       "      <td>10.50</td>\n",
       "      <td>2.77</td>\n",
       "    </tr>\n",
       "    <tr>\n",
       "      <th>1</th>\n",
       "      <td>INV-41518800037</td>\n",
       "      <td>11/01/2021</td>\n",
       "      <td>4921</td>\n",
       "      <td>Market Express</td>\n",
       "      <td>5340 16th Ave SW</td>\n",
       "      <td>Cedar Rapids</td>\n",
       "      <td>52404</td>\n",
       "      <td>NaN</td>\n",
       "      <td>57</td>\n",
       "      <td>LINN</td>\n",
       "      <td>1011200</td>\n",
       "      <td>Straight Bourbon Whiskies</td>\n",
       "      <td>065</td>\n",
       "      <td>Jim Beam Brands</td>\n",
       "      <td>19061</td>\n",
       "      <td>Jim Beam Mini</td>\n",
       "      <td>12</td>\n",
       "      <td>50</td>\n",
       "      <td>7.00</td>\n",
       "      <td>10.50</td>\n",
       "      <td>1</td>\n",
       "      <td>10.50</td>\n",
       "      <td>0.05</td>\n",
       "      <td>0.01</td>\n",
       "    </tr>\n",
       "    <tr>\n",
       "      <th>2</th>\n",
       "      <td>INV-41518900014</td>\n",
       "      <td>11/01/2021</td>\n",
       "      <td>5687</td>\n",
       "      <td>Casey's General Store #3756 / Cedar Rapids</td>\n",
       "      <td>4560 16th Ave SW</td>\n",
       "      <td>Cedar Rapids</td>\n",
       "      <td>52404</td>\n",
       "      <td>NaN</td>\n",
       "      <td>57</td>\n",
       "      <td>LINN</td>\n",
       "      <td>1012100</td>\n",
       "      <td>Canadian Whiskies</td>\n",
       "      <td>260</td>\n",
       "      <td>DIAGEO AMERICAS</td>\n",
       "      <td>11296</td>\n",
       "      <td>Crown Royal</td>\n",
       "      <td>12</td>\n",
       "      <td>750</td>\n",
       "      <td>16.59</td>\n",
       "      <td>24.89</td>\n",
       "      <td>12</td>\n",
       "      <td>298.68</td>\n",
       "      <td>9.00</td>\n",
       "      <td>2.37</td>\n",
       "    </tr>\n",
       "    <tr>\n",
       "      <th>3</th>\n",
       "      <td>INV-41521200068</td>\n",
       "      <td>11/01/2021</td>\n",
       "      <td>2648</td>\n",
       "      <td>Hy-Vee #4 / WDM</td>\n",
       "      <td>555 S 51st St</td>\n",
       "      <td>West Des Moines</td>\n",
       "      <td>50265</td>\n",
       "      <td>POINT (-93.774728 41.560871)</td>\n",
       "      <td>77</td>\n",
       "      <td>POLK</td>\n",
       "      <td>1081500</td>\n",
       "      <td>Triple Sec</td>\n",
       "      <td>434</td>\n",
       "      <td>LUXCO INC</td>\n",
       "      <td>86250</td>\n",
       "      <td>Juarez Triple Sec</td>\n",
       "      <td>12</td>\n",
       "      <td>750</td>\n",
       "      <td>2.67</td>\n",
       "      <td>4.01</td>\n",
       "      <td>12</td>\n",
       "      <td>48.12</td>\n",
       "      <td>9.00</td>\n",
       "      <td>2.37</td>\n",
       "    </tr>\n",
       "    <tr>\n",
       "      <th>4</th>\n",
       "      <td>INV-41523800012</td>\n",
       "      <td>11/01/2021</td>\n",
       "      <td>4379</td>\n",
       "      <td>Kum &amp; Go #2091 / Ashworth / WDM</td>\n",
       "      <td>5969 Ashworth Rd</td>\n",
       "      <td>West Des Moines</td>\n",
       "      <td>50266</td>\n",
       "      <td>NaN</td>\n",
       "      <td>77</td>\n",
       "      <td>POLK</td>\n",
       "      <td>1051100</td>\n",
       "      <td>American Brandies</td>\n",
       "      <td>205</td>\n",
       "      <td>E &amp; J Gallo Winery</td>\n",
       "      <td>52596</td>\n",
       "      <td>E &amp; J VS</td>\n",
       "      <td>12</td>\n",
       "      <td>750</td>\n",
       "      <td>6.50</td>\n",
       "      <td>9.75</td>\n",
       "      <td>5</td>\n",
       "      <td>48.75</td>\n",
       "      <td>3.75</td>\n",
       "      <td>0.99</td>\n",
       "    </tr>\n",
       "  </tbody>\n",
       "</table>\n",
       "</div>"
      ],
      "text/plain": [
       "  Invoice/Item Number        Date Store Number  \\\n",
       "0     INV-41517100002  11/01/2021         5417   \n",
       "1     INV-41518800037  11/01/2021         4921   \n",
       "2     INV-41518900014  11/01/2021         5687   \n",
       "3     INV-41521200068  11/01/2021         2648   \n",
       "4     INV-41523800012  11/01/2021         4379   \n",
       "\n",
       "                                   Store Name             Address  \\\n",
       "0   Casey's General Store # 2792/Cedar Rapids  9001 6th Street SW   \n",
       "1                              Market Express    5340 16th Ave SW   \n",
       "2  Casey's General Store #3756 / Cedar Rapids    4560 16th Ave SW   \n",
       "3                             Hy-Vee #4 / WDM       555 S 51st St   \n",
       "4             Kum & Go #2091 / Ashworth / WDM    5969 Ashworth Rd   \n",
       "\n",
       "              City Zip Code                Store Location County Number  \\\n",
       "0     Cedar Rapids    52404                           NaN            57   \n",
       "1     Cedar Rapids    52404                           NaN            57   \n",
       "2     Cedar Rapids    52404                           NaN            57   \n",
       "3  West Des Moines    50265  POINT (-93.774728 41.560871)            77   \n",
       "4  West Des Moines    50266                           NaN            77   \n",
       "\n",
       "  County Category              Category Name Vendor Number  \\\n",
       "0   LINN  1031100            American Vodkas           434   \n",
       "1   LINN  1011200  Straight Bourbon Whiskies           065   \n",
       "2   LINN  1012100          Canadian Whiskies           260   \n",
       "3   POLK  1081500                 Triple Sec           434   \n",
       "4   POLK  1051100          American Brandies           205   \n",
       "\n",
       "          Vendor Name Item Number   Item Description  Pack  \\\n",
       "0           LUXCO INC       36308      Hawkeye Vodka     6   \n",
       "1     Jim Beam Brands       19061      Jim Beam Mini    12   \n",
       "2     DIAGEO AMERICAS       11296        Crown Royal    12   \n",
       "3           LUXCO INC       86250  Juarez Triple Sec    12   \n",
       "4  E & J Gallo Winery       52596           E & J VS    12   \n",
       "\n",
       "   Bottle Volume (ml)  State Bottle Cost  State Bottle Retail  Bottles Sold  \\\n",
       "0                1750               7.17                10.76             6   \n",
       "1                  50               7.00                10.50             1   \n",
       "2                 750              16.59                24.89            12   \n",
       "3                 750               2.67                 4.01            12   \n",
       "4                 750               6.50                 9.75             5   \n",
       "\n",
       "   Sale (Dollars)  Volume Sold (Liters)  Volume Sold (Gallons)  \n",
       "0           64.56                 10.50                   2.77  \n",
       "1           10.50                  0.05                   0.01  \n",
       "2          298.68                  9.00                   2.37  \n",
       "3           48.12                  9.00                   2.37  \n",
       "4           48.75                  3.75                   0.99  "
      ]
     },
     "execution_count": 7,
     "metadata": {},
     "output_type": "execute_result"
    }
   ],
   "source": [
    "pd.set_option('display.max_columns', None)\n",
    "liquor_2021.head()"
   ]
  },
  {
   "cell_type": "code",
   "execution_count": 8,
   "id": "65fd6612",
   "metadata": {},
   "outputs": [],
   "source": [
    "liquor_2021['trans_date'] = pd.to_datetime(liquor_2021['Date'])"
   ]
  },
  {
   "cell_type": "code",
   "execution_count": 10,
   "id": "30f27f81",
   "metadata": {},
   "outputs": [],
   "source": [
    "transactions = liquor_2021[['Vendor Number', 'Store Number','Item Number', 'Date', 'Volume Sold (Liters)', 'Bottles Sold','Sale (Dollars)','State Bottle Cost','State Bottle Retail','Category','trans_date']]"
   ]
  },
  {
   "cell_type": "code",
   "execution_count": 11,
   "id": "507bb8be",
   "metadata": {},
   "outputs": [],
   "source": [
    "df_prod1 = liquor_2021.sort_values(by=['trans_date']).drop_duplicates(['Item Number'],keep='last')"
   ]
  },
  {
   "cell_type": "code",
   "execution_count": 12,
   "id": "97f7670c",
   "metadata": {},
   "outputs": [],
   "source": [
    "products = df_prod1[['Item Number', 'Item Description',  'Category']]"
   ]
  },
  {
   "cell_type": "code",
   "execution_count": 14,
   "id": "f5c04ec2",
   "metadata": {},
   "outputs": [],
   "source": [
    "df_store1 = liquor_2021.sort_values(by=['trans_date']).drop_duplicates(['Store Number'],keep='last')"
   ]
  },
  {
   "cell_type": "code",
   "execution_count": 15,
   "id": "6586cd69",
   "metadata": {},
   "outputs": [],
   "source": [
    "stores = df_store1[['Store Number', 'Store Name', 'Address', 'City', 'Zip Code', 'Store Location', 'County Number', 'County']]"
   ]
  },
  {
   "cell_type": "code",
   "execution_count": 16,
   "id": "397cff1c",
   "metadata": {},
   "outputs": [],
   "source": [
    "df_vendor1 =  liquor_2021.sort_values(by=['trans_date']).drop_duplicates(['Vendor Number'],keep='last')"
   ]
  },
  {
   "cell_type": "code",
   "execution_count": 17,
   "id": "29f82d4b",
   "metadata": {},
   "outputs": [],
   "source": [
    "vendors = df_vendor1[['Vendor Number', 'Vendor Name']]"
   ]
  },
  {
   "cell_type": "code",
   "execution_count": 19,
   "id": "d54d211e",
   "metadata": {},
   "outputs": [],
   "source": [
    "dytype_dict2 = {'Item Number':str, 'Vendor':str, 'Proof':int, 'Vendor Name':str, 'Age':int}\n",
    "\n",
    "Iowa_Liquor_Products = pd.read_csv(r'C:\\Users\\dgarb\\OneDrive\\Desktop\\Capstone Data\\Iowa_Liquor_Products.csv', dtype=dytype_dict2 )"
   ]
  },
  {
   "cell_type": "code",
   "execution_count": 20,
   "id": "44a4f1b3",
   "metadata": {},
   "outputs": [
    {
     "data": {
      "text/html": [
       "<div>\n",
       "<style scoped>\n",
       "    .dataframe tbody tr th:only-of-type {\n",
       "        vertical-align: middle;\n",
       "    }\n",
       "\n",
       "    .dataframe tbody tr th {\n",
       "        vertical-align: top;\n",
       "    }\n",
       "\n",
       "    .dataframe thead th {\n",
       "        text-align: right;\n",
       "    }\n",
       "</style>\n",
       "<table border=\"1\" class=\"dataframe\">\n",
       "  <thead>\n",
       "    <tr style=\"text-align: right;\">\n",
       "      <th></th>\n",
       "      <th>Item Number</th>\n",
       "      <th>Category Name</th>\n",
       "      <th>Item Description</th>\n",
       "      <th>Vendor</th>\n",
       "      <th>Vendor Name</th>\n",
       "      <th>Bottle Volume (ml)</th>\n",
       "      <th>Pack</th>\n",
       "      <th>Inner Pack</th>\n",
       "      <th>Age</th>\n",
       "      <th>Proof</th>\n",
       "      <th>List Date</th>\n",
       "      <th>UPC</th>\n",
       "      <th>SCC</th>\n",
       "      <th>State Bottle Cost</th>\n",
       "      <th>State Case Cost</th>\n",
       "      <th>State Bottle Retail</th>\n",
       "      <th>Report Date</th>\n",
       "    </tr>\n",
       "  </thead>\n",
       "  <tbody>\n",
       "    <tr>\n",
       "      <th>0</th>\n",
       "      <td>901141</td>\n",
       "      <td>Special Order Items</td>\n",
       "      <td>Libertine Absinthe(French Absinthe) Mini</td>\n",
       "      <td>885</td>\n",
       "      <td>YAHARA BAY DISTILLERS INC</td>\n",
       "      <td>50</td>\n",
       "      <td>6</td>\n",
       "      <td>1</td>\n",
       "      <td>0</td>\n",
       "      <td>114</td>\n",
       "      <td>04/20/2012</td>\n",
       "      <td>NaN</td>\n",
       "      <td>10892060104050</td>\n",
       "      <td>4.82</td>\n",
       "      <td>28.90</td>\n",
       "      <td>7.23</td>\n",
       "      <td>03/01/2022</td>\n",
       "    </tr>\n",
       "    <tr>\n",
       "      <th>1</th>\n",
       "      <td>65017</td>\n",
       "      <td>Imported Cordials &amp; Liqueurs</td>\n",
       "      <td>Galliano Liqueur</td>\n",
       "      <td>305</td>\n",
       "      <td>Mhw LTD</td>\n",
       "      <td>375</td>\n",
       "      <td>12</td>\n",
       "      <td>1</td>\n",
       "      <td>0</td>\n",
       "      <td>84</td>\n",
       "      <td>10/01/2012</td>\n",
       "      <td>8.091511e+10</td>\n",
       "      <td>10892060104050</td>\n",
       "      <td>10.75</td>\n",
       "      <td>129.00</td>\n",
       "      <td>16.13</td>\n",
       "      <td>03/01/2022</td>\n",
       "    </tr>\n",
       "    <tr>\n",
       "      <th>2</th>\n",
       "      <td>88152</td>\n",
       "      <td>100% Agave Tequila</td>\n",
       "      <td>Sauza 901 Silver</td>\n",
       "      <td>065</td>\n",
       "      <td>Jim Beam Brands</td>\n",
       "      <td>750</td>\n",
       "      <td>6</td>\n",
       "      <td>1</td>\n",
       "      <td>0</td>\n",
       "      <td>80</td>\n",
       "      <td>06/01/2014</td>\n",
       "      <td>8.068684e+10</td>\n",
       "      <td>10892060104050</td>\n",
       "      <td>13.12</td>\n",
       "      <td>78.72</td>\n",
       "      <td>19.68</td>\n",
       "      <td>03/01/2022</td>\n",
       "    </tr>\n",
       "    <tr>\n",
       "      <th>3</th>\n",
       "      <td>903796</td>\n",
       "      <td>Special Order Items</td>\n",
       "      <td>Bacardi Anejo DISCO</td>\n",
       "      <td>035</td>\n",
       "      <td>BACARDI USA INC</td>\n",
       "      <td>750</td>\n",
       "      <td>12</td>\n",
       "      <td>1</td>\n",
       "      <td>0</td>\n",
       "      <td>80</td>\n",
       "      <td>09/01/1990</td>\n",
       "      <td>8.068684e+10</td>\n",
       "      <td>80480004347</td>\n",
       "      <td>7.75</td>\n",
       "      <td>93.00</td>\n",
       "      <td>11.63</td>\n",
       "      <td>03/01/2022</td>\n",
       "    </tr>\n",
       "    <tr>\n",
       "      <th>4</th>\n",
       "      <td>905846</td>\n",
       "      <td>Scotch Whiskies</td>\n",
       "      <td>Ron Burgundy</td>\n",
       "      <td>305</td>\n",
       "      <td>Mhw LTD</td>\n",
       "      <td>750</td>\n",
       "      <td>12</td>\n",
       "      <td>1</td>\n",
       "      <td>0</td>\n",
       "      <td>80</td>\n",
       "      <td>10/01/2014</td>\n",
       "      <td>8.068684e+10</td>\n",
       "      <td>10626990143885</td>\n",
       "      <td>14.61</td>\n",
       "      <td>175.25</td>\n",
       "      <td>21.92</td>\n",
       "      <td>03/01/2022</td>\n",
       "    </tr>\n",
       "  </tbody>\n",
       "</table>\n",
       "</div>"
      ],
      "text/plain": [
       "  Item Number                 Category Name  \\\n",
       "0      901141           Special Order Items   \n",
       "1       65017  Imported Cordials & Liqueurs   \n",
       "2       88152            100% Agave Tequila   \n",
       "3      903796           Special Order Items   \n",
       "4      905846               Scotch Whiskies   \n",
       "\n",
       "                           Item Description Vendor                Vendor Name  \\\n",
       "0  Libertine Absinthe(French Absinthe) Mini    885  YAHARA BAY DISTILLERS INC   \n",
       "1                          Galliano Liqueur    305                    Mhw LTD   \n",
       "2                          Sauza 901 Silver    065            Jim Beam Brands   \n",
       "3                       Bacardi Anejo DISCO    035            BACARDI USA INC   \n",
       "4                              Ron Burgundy    305                    Mhw LTD   \n",
       "\n",
       "   Bottle Volume (ml)  Pack  Inner Pack  Age  Proof   List Date           UPC  \\\n",
       "0                  50     6           1    0    114  04/20/2012           NaN   \n",
       "1                 375    12           1    0     84  10/01/2012  8.091511e+10   \n",
       "2                 750     6           1    0     80  06/01/2014  8.068684e+10   \n",
       "3                 750    12           1    0     80  09/01/1990  8.068684e+10   \n",
       "4                 750    12           1    0     80  10/01/2014  8.068684e+10   \n",
       "\n",
       "              SCC  State Bottle Cost  State Case Cost  State Bottle Retail  \\\n",
       "0  10892060104050               4.82            28.90                 7.23   \n",
       "1  10892060104050              10.75           129.00                16.13   \n",
       "2  10892060104050              13.12            78.72                19.68   \n",
       "3     80480004347               7.75            93.00                11.63   \n",
       "4  10626990143885              14.61           175.25                21.92   \n",
       "\n",
       "  Report Date  \n",
       "0  03/01/2022  \n",
       "1  03/01/2022  \n",
       "2  03/01/2022  \n",
       "3  03/01/2022  \n",
       "4  03/01/2022  "
      ]
     },
     "execution_count": 20,
     "metadata": {},
     "output_type": "execute_result"
    }
   ],
   "source": [
    "pd.set_option('display.max_columns', None)\n",
    "Iowa_Liquor_Products.head()"
   ]
  },
  {
   "cell_type": "code",
   "execution_count": 21,
   "id": "abad1b2f",
   "metadata": {},
   "outputs": [],
   "source": [
    "product_proof = Iowa_Liquor_Products[['Item Number','Age','Proof']]"
   ]
  },
  {
   "cell_type": "code",
   "execution_count": 22,
   "id": "a88d5765",
   "metadata": {},
   "outputs": [],
   "source": [
    "df_categ1 = liquor_2021.sort_values(by=['trans_date']).drop_duplicates(['Category'],keep='last')"
   ]
  },
  {
   "cell_type": "code",
   "execution_count": 23,
   "id": "af6003e3",
   "metadata": {},
   "outputs": [],
   "source": [
    "categories = df_categ1[[ 'Category', 'Category Name']]"
   ]
  },
  {
   "cell_type": "code",
   "execution_count": 24,
   "id": "a83e08d5",
   "metadata": {},
   "outputs": [
    {
     "data": {
      "text/plain": [
       "[]"
      ]
     },
     "execution_count": 24,
     "metadata": {},
     "output_type": "execute_result"
    }
   ],
   "source": [
    "miss_cols(categories)"
   ]
  },
  {
   "cell_type": "code",
   "execution_count": 41,
   "id": "f9c45528",
   "metadata": {},
   "outputs": [],
   "source": [
    "dict_categ = dict(list(zip(categories['Category'],categories['Category Name'])))\n",
    "\n",
    "dict_list = sorted(dict_categ.items(), key = lambda kv:(kv[1], kv[0]))\n",
    "\n",
    "# dict_categ['1081300']='American Cordials & Liqueurs'\n",
    "\n",
    "# ('1081300', 'American Cordials & Liqueur'),\n",
    "#  ('1081000', 'American Cordials & Liqueurs'),\n",
    "# ('1081400', 'American Schnapps')\n",
    "# ('1081100', 'Coffee Liqueurs')\n",
    "# ('1081200', 'Cream Liqueurs')\n",
    "\n",
    "# ('1082100', 'Imported Cordials & Liqueur'),\n",
    "#  ('1082000', 'Imported Cordials & Liqueurs'),\n",
    "#     ('1082200', 'Imported Schnapps')\n",
    "#     ('1081600', 'Whiskey Liqueur')\n",
    "# dict_list"
   ]
  },
  {
   "cell_type": "code",
   "execution_count": 33,
   "id": "60b2737b",
   "metadata": {},
   "outputs": [],
   "source": [
    "# proc_freq(categories,'Category Name')"
   ]
  },
  {
   "cell_type": "code",
   "execution_count": 36,
   "id": "d951a8d5",
   "metadata": {},
   "outputs": [],
   "source": []
  },
  {
   "cell_type": "code",
   "execution_count": 42,
   "id": "5d548444",
   "metadata": {},
   "outputs": [],
   "source": [
    "imp_liquers_trans = transactions.loc[(transactions['Category']== '1082100') | (transactions['Category']=='1082000') | (transactions['Category']=='1082200')]"
   ]
  },
  {
   "cell_type": "code",
   "execution_count": 53,
   "id": "10de1c8d",
   "metadata": {},
   "outputs": [
    {
     "data": {
      "text/plain": [
       "(102138, 11)"
      ]
     },
     "execution_count": 53,
     "metadata": {},
     "output_type": "execute_result"
    }
   ],
   "source": [
    "imp_liquers_trans.shape"
   ]
  },
  {
   "cell_type": "code",
   "execution_count": 57,
   "id": "43ed60f9",
   "metadata": {},
   "outputs": [
    {
     "data": {
      "text/plain": [
       "36"
      ]
     },
     "execution_count": 57,
     "metadata": {},
     "output_type": "execute_result"
    }
   ],
   "source": [
    "imp_liquers_trans['Vendor Number'].nunique()"
   ]
  },
  {
   "cell_type": "code",
   "execution_count": 58,
   "id": "fd723ba7",
   "metadata": {},
   "outputs": [
    {
     "data": {
      "text/plain": [
       "1878"
      ]
     },
     "execution_count": 58,
     "metadata": {},
     "output_type": "execute_result"
    }
   ],
   "source": [
    "imp_liquers_trans['Store Number'].nunique()"
   ]
  },
  {
   "cell_type": "code",
   "execution_count": 60,
   "id": "7fbdb98e",
   "metadata": {},
   "outputs": [
    {
     "data": {
      "text/plain": [
       "119"
      ]
     },
     "execution_count": 60,
     "metadata": {},
     "output_type": "execute_result"
    }
   ],
   "source": [
    "liquor_2021['County'].nunique()"
   ]
  },
  {
   "cell_type": "code",
   "execution_count": 62,
   "id": "2a128b8c",
   "metadata": {},
   "outputs": [
    {
     "data": {
      "text/plain": [
       "118"
      ]
     },
     "execution_count": 62,
     "metadata": {},
     "output_type": "execute_result"
    }
   ],
   "source": [
    "imp_liquers_trans.merge(stores, how='inner', on='Store Number')['County'].nunique()"
   ]
  },
  {
   "cell_type": "code",
   "execution_count": 63,
   "id": "3a95bea4",
   "metadata": {},
   "outputs": [
    {
     "data": {
      "text/plain": [
       "169"
      ]
     },
     "execution_count": 63,
     "metadata": {},
     "output_type": "execute_result"
    }
   ],
   "source": [
    "imp_liquers_trans['Item Number'].nunique()"
   ]
  },
  {
   "cell_type": "markdown",
   "id": "62e30e57",
   "metadata": {},
   "source": [
    "Why doesn't this work?"
   ]
  },
  {
   "cell_type": "code",
   "execution_count": 65,
   "id": "155e5113",
   "metadata": {},
   "outputs": [],
   "source": [
    "filt = transactions['Category'].isin(['1081300','1081000','1081400','1081100','1081200'])"
   ]
  },
  {
   "cell_type": "code",
   "execution_count": 66,
   "id": "8b87fdae",
   "metadata": {},
   "outputs": [
    {
     "data": {
      "text/plain": [
       "(217973, 11)"
      ]
     },
     "execution_count": 66,
     "metadata": {},
     "output_type": "execute_result"
    }
   ],
   "source": [
    "american_liquers_trans = transactions.loc[filt,:]\n",
    "american_liquers_trans.shape"
   ]
  },
  {
   "cell_type": "code",
   "execution_count": 52,
   "id": "66a41ccc",
   "metadata": {},
   "outputs": [
    {
     "name": "stdout",
     "output_type": "stream",
     "text": [
      "<class 'pandas.core.frame.DataFrame'>\n",
      "RangeIndex: 2622712 entries, 0 to 2622711\n",
      "Data columns (total 11 columns):\n",
      " #   Column                Dtype         \n",
      "---  ------                -----         \n",
      " 0   Vendor Number         object        \n",
      " 1   Store Number          object        \n",
      " 2   Item Number           object        \n",
      " 3   Date                  object        \n",
      " 4   Volume Sold (Liters)  float64       \n",
      " 5   Bottles Sold          int32         \n",
      " 6   Sale (Dollars)        float64       \n",
      " 7   State Bottle Cost     float64       \n",
      " 8   State Bottle Retail   float64       \n",
      " 9   Category              object        \n",
      " 10  trans_date            datetime64[ns]\n",
      "dtypes: datetime64[ns](1), float64(4), int32(1), object(5)\n",
      "memory usage: 210.1+ MB\n"
     ]
    }
   ],
   "source": [
    "transactions.info()"
   ]
  }
 ],
 "metadata": {
  "kernelspec": {
   "display_name": "Python 3 (ipykernel)",
   "language": "python",
   "name": "python3"
  },
  "language_info": {
   "codemirror_mode": {
    "name": "ipython",
    "version": 3
   },
   "file_extension": ".py",
   "mimetype": "text/x-python",
   "name": "python",
   "nbconvert_exporter": "python",
   "pygments_lexer": "ipython3",
   "version": "3.9.7"
  }
 },
 "nbformat": 4,
 "nbformat_minor": 5
}

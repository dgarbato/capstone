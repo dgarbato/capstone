{
 "cells": [
  {
   "cell_type": "code",
   "execution_count": 1,
   "id": "27b03844",
   "metadata": {},
   "outputs": [],
   "source": [
    "import pandas as pd"
   ]
  },
  {
   "cell_type": "code",
   "execution_count": 2,
   "id": "7e975a87",
   "metadata": {},
   "outputs": [],
   "source": [
    "import descartes\n",
    "import geopandas as gpd\n",
    "import numpy as np\n",
    "import matplotlib.pyplot as plt\n",
    "from shapely.geometry import Point, Polygon\n",
    "%matplotlib inline\n",
    "import adjustText as aT\n",
    "import geocoder"
   ]
  },
  {
   "cell_type": "code",
   "execution_count": 3,
   "id": "c3757a4b",
   "metadata": {},
   "outputs": [],
   "source": [
    "# !pip install adjustText"
   ]
  },
  {
   "cell_type": "code",
   "execution_count": 4,
   "id": "da582181",
   "metadata": {},
   "outputs": [],
   "source": [
    "# ! pip install geocoder\n",
    "# https://stackoverflow.com/questions/13686001/python-module-for-getting-latitude-and-longitude-from-the-name-of-a-us-city"
   ]
  },
  {
   "cell_type": "code",
   "execution_count": 5,
   "id": "141b97ac",
   "metadata": {},
   "outputs": [],
   "source": [
    "from missing_columns_pd import miss_cols"
   ]
  },
  {
   "cell_type": "code",
   "execution_count": 6,
   "id": "e317171d",
   "metadata": {},
   "outputs": [],
   "source": [
    "pop_by_county = pd.read_csv(r'C:\\Users\\dgarb\\OneDrive\\Desktop\\Capstone Data\\census data\\Iowa population by county from Iowa demographics.csv')"
   ]
  },
  {
   "cell_type": "code",
   "execution_count": 7,
   "id": "0f0213f6",
   "metadata": {},
   "outputs": [],
   "source": [
    "# pop_by_county[['County','Population']]"
   ]
  },
  {
   "cell_type": "code",
   "execution_count": 8,
   "id": "a6d8e333",
   "metadata": {},
   "outputs": [],
   "source": [
    "# s.replace('is','was')\n",
    "pop_by_county['county2'] = pop_by_county.County.str.replace('County','')\n",
    "pop_by_county['county2'] = pop_by_county['county2'].str.rstrip()\n",
    "pop_by_county['county2'] = pop_by_county['county2'].str.lstrip()\n",
    "pop_by_county['county2'] = pop_by_county['county2'].str.lower()"
   ]
  },
  {
   "cell_type": "code",
   "execution_count": 9,
   "id": "43d8c5b2",
   "metadata": {},
   "outputs": [
    {
     "data": {
      "text/html": [
       "<div>\n",
       "<style scoped>\n",
       "    .dataframe tbody tr th:only-of-type {\n",
       "        vertical-align: middle;\n",
       "    }\n",
       "\n",
       "    .dataframe tbody tr th {\n",
       "        vertical-align: top;\n",
       "    }\n",
       "\n",
       "    .dataframe thead th {\n",
       "        text-align: right;\n",
       "    }\n",
       "</style>\n",
       "<table border=\"1\" class=\"dataframe\">\n",
       "  <thead>\n",
       "    <tr style=\"text-align: right;\">\n",
       "      <th></th>\n",
       "      <th>Rank</th>\n",
       "      <th>County</th>\n",
       "      <th>Population</th>\n",
       "      <th>county2</th>\n",
       "    </tr>\n",
       "  </thead>\n",
       "  <tbody>\n",
       "    <tr>\n",
       "      <th>0</th>\n",
       "      <td>1</td>\n",
       "      <td>Polk County</td>\n",
       "      <td>485418</td>\n",
       "      <td>polk</td>\n",
       "    </tr>\n",
       "    <tr>\n",
       "      <th>1</th>\n",
       "      <td>2</td>\n",
       "      <td>Linn County</td>\n",
       "      <td>225601</td>\n",
       "      <td>linn</td>\n",
       "    </tr>\n",
       "    <tr>\n",
       "      <th>2</th>\n",
       "      <td>3</td>\n",
       "      <td>Scott County</td>\n",
       "      <td>172938</td>\n",
       "      <td>scott</td>\n",
       "    </tr>\n",
       "    <tr>\n",
       "      <th>3</th>\n",
       "      <td>4</td>\n",
       "      <td>Johnson County</td>\n",
       "      <td>150819</td>\n",
       "      <td>johnson</td>\n",
       "    </tr>\n",
       "    <tr>\n",
       "      <th>4</th>\n",
       "      <td>5</td>\n",
       "      <td>Black Hawk County</td>\n",
       "      <td>131813</td>\n",
       "      <td>black hawk</td>\n",
       "    </tr>\n",
       "  </tbody>\n",
       "</table>\n",
       "</div>"
      ],
      "text/plain": [
       "   Rank             County  Population     county2\n",
       "0     1        Polk County      485418        polk\n",
       "1     2        Linn County      225601        linn\n",
       "2     3       Scott County      172938       scott\n",
       "3     4     Johnson County      150819     johnson\n",
       "4     5  Black Hawk County      131813  black hawk"
      ]
     },
     "execution_count": 9,
     "metadata": {},
     "output_type": "execute_result"
    }
   ],
   "source": [
    "# pop_by_county.set_index('county2')\n",
    "pop_by_county.head()"
   ]
  },
  {
   "cell_type": "code",
   "execution_count": 10,
   "id": "c3879e6a",
   "metadata": {},
   "outputs": [],
   "source": [
    "sdtypes = {'Store_Number':str,'Zip_Code':str, 'Store_Location':str, 'County_Number':str}"
   ]
  },
  {
   "cell_type": "code",
   "execution_count": 11,
   "id": "8de74902",
   "metadata": {},
   "outputs": [],
   "source": [
    "stores = pd.read_csv(r'C:\\Users\\dgarb\\OneDrive\\Desktop\\Capstone Data\\liquor_2021\\stores_2021.csv',index_col=0, dtype=sdtypes)"
   ]
  },
  {
   "cell_type": "code",
   "execution_count": 12,
   "id": "40ce4a77",
   "metadata": {},
   "outputs": [
    {
     "name": "stdout",
     "output_type": "stream",
     "text": [
      "<class 'pandas.core.frame.DataFrame'>\n",
      "Int64Index: 1948 entries, 223124 to 1094183\n",
      "Data columns (total 8 columns):\n",
      " #   Column          Non-Null Count  Dtype \n",
      "---  ------          --------------  ----- \n",
      " 0   Store_Number    1948 non-null   object\n",
      " 1   Store_Name      1948 non-null   object\n",
      " 2   Address         1948 non-null   object\n",
      " 3   City            1948 non-null   object\n",
      " 4   Zip_Code        1948 non-null   object\n",
      " 5   Store_Location  1790 non-null   object\n",
      " 6   County_Number   1948 non-null   object\n",
      " 7   County          1948 non-null   object\n",
      "dtypes: object(8)\n",
      "memory usage: 137.0+ KB\n"
     ]
    }
   ],
   "source": [
    "stores.info()"
   ]
  },
  {
   "cell_type": "code",
   "execution_count": 13,
   "id": "04692b2c",
   "metadata": {},
   "outputs": [],
   "source": [
    "stores['county_copy'] = stores.County.str.lower()          "
   ]
  },
  {
   "cell_type": "code",
   "execution_count": 14,
   "id": "2c9d45a2",
   "metadata": {},
   "outputs": [],
   "source": [
    "stores['county2'] = stores.County.str.lower()\n"
   ]
  },
  {
   "cell_type": "code",
   "execution_count": 15,
   "id": "863773d5",
   "metadata": {},
   "outputs": [
    {
     "name": "stdout",
     "output_type": "stream",
     "text": [
      "<class 'pandas.core.frame.DataFrame'>\n",
      "Int64Index: 1948 entries, 223124 to 1094183\n",
      "Data columns (total 10 columns):\n",
      " #   Column          Non-Null Count  Dtype \n",
      "---  ------          --------------  ----- \n",
      " 0   Store_Number    1948 non-null   object\n",
      " 1   Store_Name      1948 non-null   object\n",
      " 2   Address         1948 non-null   object\n",
      " 3   City            1948 non-null   object\n",
      " 4   Zip_Code        1948 non-null   object\n",
      " 5   Store_Location  1790 non-null   object\n",
      " 6   County_Number   1948 non-null   object\n",
      " 7   County          1948 non-null   object\n",
      " 8   county_copy     1948 non-null   object\n",
      " 9   county2         1948 non-null   object\n",
      "dtypes: object(10)\n",
      "memory usage: 167.4+ KB\n"
     ]
    }
   ],
   "source": [
    "stores.info()"
   ]
  },
  {
   "cell_type": "code",
   "execution_count": 16,
   "id": "73120785",
   "metadata": {},
   "outputs": [],
   "source": [
    "# stores.loc[stores.county2.isin(['buena vist', 'cerro gord', 'obrien', 'pottawatta']),['county2'] ]"
   ]
  },
  {
   "cell_type": "code",
   "execution_count": 17,
   "id": "c15734f5",
   "metadata": {},
   "outputs": [],
   "source": [
    "county_dict = {'buena vist':'buena vista','cerro gord':'cerro gordo', 'obrien':\"o'brien\", 'pottawatta':'pottawattamie'}"
   ]
  },
  {
   "cell_type": "code",
   "execution_count": 18,
   "id": "981ab6f7",
   "metadata": {},
   "outputs": [],
   "source": [
    "county_index = stores.county2.isin(['buena vist', 'cerro gord', 'obrien', 'pottawatta'])"
   ]
  },
  {
   "cell_type": "code",
   "execution_count": 19,
   "id": "dc886810",
   "metadata": {},
   "outputs": [],
   "source": [
    "stores.loc[county_index, 'county2'] = stores.loc[county_index].apply(lambda current_row: county_dict[current_row[-1]], axis=1 ) "
   ]
  },
  {
   "cell_type": "code",
   "execution_count": 20,
   "id": "060eb7b1",
   "metadata": {},
   "outputs": [
    {
     "data": {
      "text/html": [
       "<div>\n",
       "<style scoped>\n",
       "    .dataframe tbody tr th:only-of-type {\n",
       "        vertical-align: middle;\n",
       "    }\n",
       "\n",
       "    .dataframe tbody tr th {\n",
       "        vertical-align: top;\n",
       "    }\n",
       "\n",
       "    .dataframe thead th {\n",
       "        text-align: right;\n",
       "    }\n",
       "</style>\n",
       "<table border=\"1\" class=\"dataframe\">\n",
       "  <thead>\n",
       "    <tr style=\"text-align: right;\">\n",
       "      <th></th>\n",
       "      <th>county2</th>\n",
       "      <th>county_copy</th>\n",
       "    </tr>\n",
       "  </thead>\n",
       "  <tbody>\n",
       "    <tr>\n",
       "      <th>223124</th>\n",
       "      <td>buena vista</td>\n",
       "      <td>buena vist</td>\n",
       "    </tr>\n",
       "    <tr>\n",
       "      <th>262897</th>\n",
       "      <td>buena vista</td>\n",
       "      <td>buena vist</td>\n",
       "    </tr>\n",
       "    <tr>\n",
       "      <th>313965</th>\n",
       "      <td>o'brien</td>\n",
       "      <td>obrien</td>\n",
       "    </tr>\n",
       "    <tr>\n",
       "      <th>314123</th>\n",
       "      <td>o'brien</td>\n",
       "      <td>obrien</td>\n",
       "    </tr>\n",
       "    <tr>\n",
       "      <th>373775</th>\n",
       "      <td>buena vista</td>\n",
       "      <td>buena vist</td>\n",
       "    </tr>\n",
       "    <tr>\n",
       "      <th>...</th>\n",
       "      <td>...</td>\n",
       "      <td>...</td>\n",
       "    </tr>\n",
       "    <tr>\n",
       "      <th>1086279</th>\n",
       "      <td>pottawattamie</td>\n",
       "      <td>pottawatta</td>\n",
       "    </tr>\n",
       "    <tr>\n",
       "      <th>1086243</th>\n",
       "      <td>pottawattamie</td>\n",
       "      <td>pottawatta</td>\n",
       "    </tr>\n",
       "    <tr>\n",
       "      <th>1086249</th>\n",
       "      <td>buena vista</td>\n",
       "      <td>buena vist</td>\n",
       "    </tr>\n",
       "    <tr>\n",
       "      <th>1086258</th>\n",
       "      <td>pottawattamie</td>\n",
       "      <td>pottawatta</td>\n",
       "    </tr>\n",
       "    <tr>\n",
       "      <th>1086262</th>\n",
       "      <td>pottawattamie</td>\n",
       "      <td>pottawatta</td>\n",
       "    </tr>\n",
       "  </tbody>\n",
       "</table>\n",
       "<p>130 rows × 2 columns</p>\n",
       "</div>"
      ],
      "text/plain": [
       "               county2 county_copy\n",
       "223124     buena vista  buena vist\n",
       "262897     buena vista  buena vist\n",
       "313965         o'brien      obrien\n",
       "314123         o'brien      obrien\n",
       "373775     buena vista  buena vist\n",
       "...                ...         ...\n",
       "1086279  pottawattamie  pottawatta\n",
       "1086243  pottawattamie  pottawatta\n",
       "1086249    buena vista  buena vist\n",
       "1086258  pottawattamie  pottawatta\n",
       "1086262  pottawattamie  pottawatta\n",
       "\n",
       "[130 rows x 2 columns]"
      ]
     },
     "execution_count": 20,
     "metadata": {},
     "output_type": "execute_result"
    }
   ],
   "source": [
    "# check applied correctly\n",
    "stores.loc[stores.county_copy.isin(['buena vist', 'cerro gord', 'obrien', 'pottawatta']),['county2','county_copy'] ]"
   ]
  },
  {
   "cell_type": "code",
   "execution_count": 21,
   "id": "66d40ccc",
   "metadata": {},
   "outputs": [
    {
     "data": {
      "text/html": [
       "<div>\n",
       "<style scoped>\n",
       "    .dataframe tbody tr th:only-of-type {\n",
       "        vertical-align: middle;\n",
       "    }\n",
       "\n",
       "    .dataframe tbody tr th {\n",
       "        vertical-align: top;\n",
       "    }\n",
       "\n",
       "    .dataframe thead th {\n",
       "        text-align: right;\n",
       "    }\n",
       "</style>\n",
       "<table border=\"1\" class=\"dataframe\">\n",
       "  <thead>\n",
       "    <tr style=\"text-align: right;\">\n",
       "      <th></th>\n",
       "      <th>county2</th>\n",
       "      <th>Store_Number</th>\n",
       "    </tr>\n",
       "  </thead>\n",
       "  <tbody>\n",
       "    <tr>\n",
       "      <th>0</th>\n",
       "      <td>adair</td>\n",
       "      <td>7</td>\n",
       "    </tr>\n",
       "    <tr>\n",
       "      <th>1</th>\n",
       "      <td>adams</td>\n",
       "      <td>2</td>\n",
       "    </tr>\n",
       "    <tr>\n",
       "      <th>2</th>\n",
       "      <td>allamakee</td>\n",
       "      <td>10</td>\n",
       "    </tr>\n",
       "    <tr>\n",
       "      <th>3</th>\n",
       "      <td>appanoose</td>\n",
       "      <td>9</td>\n",
       "    </tr>\n",
       "    <tr>\n",
       "      <th>4</th>\n",
       "      <td>audubon</td>\n",
       "      <td>4</td>\n",
       "    </tr>\n",
       "    <tr>\n",
       "      <th>5</th>\n",
       "      <td>benton</td>\n",
       "      <td>16</td>\n",
       "    </tr>\n",
       "    <tr>\n",
       "      <th>6</th>\n",
       "      <td>black hawk</td>\n",
       "      <td>93</td>\n",
       "    </tr>\n",
       "    <tr>\n",
       "      <th>7</th>\n",
       "      <td>boone</td>\n",
       "      <td>14</td>\n",
       "    </tr>\n",
       "    <tr>\n",
       "      <th>8</th>\n",
       "      <td>bremer</td>\n",
       "      <td>13</td>\n",
       "    </tr>\n",
       "    <tr>\n",
       "      <th>9</th>\n",
       "      <td>buchanan</td>\n",
       "      <td>17</td>\n",
       "    </tr>\n",
       "  </tbody>\n",
       "</table>\n",
       "</div>"
      ],
      "text/plain": [
       "      county2  Store_Number\n",
       "0       adair             7\n",
       "1       adams             2\n",
       "2   allamakee            10\n",
       "3   appanoose             9\n",
       "4     audubon             4\n",
       "5      benton            16\n",
       "6  black hawk            93\n",
       "7       boone            14\n",
       "8      bremer            13\n",
       "9    buchanan            17"
      ]
     },
     "execution_count": 21,
     "metadata": {},
     "output_type": "execute_result"
    }
   ],
   "source": [
    "stores_in_counties = stores.groupby(['county2']).agg({'Store_Number':'nunique'}).reset_index()\n",
    "stores_in_counties.head(10)"
   ]
  },
  {
   "cell_type": "code",
   "execution_count": 22,
   "id": "939fc52f",
   "metadata": {},
   "outputs": [],
   "source": [
    "store_locations = stores[['Store_Name','Store_Location']]"
   ]
  },
  {
   "cell_type": "markdown",
   "id": "e749cae9",
   "metadata": {},
   "source": [
    "#from documentation\n",
    "\n",
    "d = {'col1': ['name1', 'name2'], 'wkt': ['POINT (1 2)', 'POINT (2 1)']}\n",
    "\n",
    "df = pd.DataFrame(d)\n",
    "\n",
    "gs = geopandas.GeoSeries.from_wkt(df['wkt'])\n",
    "\n",
    "gdf = geopandas.GeoDataFrame(df, geometry=gs, crs=\"EPSG:4326\")\n"
   ]
  },
  {
   "cell_type": "markdown",
   "id": "49ac1ec1",
   "metadata": {},
   "source": [
    "### from Sam\n",
    "\n",
    "where locations is your db with the store data, and 'StoreLocation' is the name of the column\n",
    "\n",
    "from shapely import wkt\n",
    "\n",
    "locations['StoreLocation'].apply(wkt.loads)"
   ]
  },
  {
   "cell_type": "code",
   "execution_count": 23,
   "id": "67660a4f",
   "metadata": {},
   "outputs": [],
   "source": [
    "from shapely import wkt\n",
    "\n",
    "# locations['StoreLocation'].apply(wkt.loads)"
   ]
  },
  {
   "cell_type": "code",
   "execution_count": 24,
   "id": "85cf0f6a",
   "metadata": {},
   "outputs": [
    {
     "data": {
      "text/plain": [
       "223124                                      NaN\n",
       "231153             POINT (-95.752119 43.397431)\n",
       "239961              POINT (-95.143701 43.12759)\n",
       "246141             POINT (-94.681939 43.111913)\n",
       "262897             POINT (-94.953239 42.777449)\n",
       "                           ...                 \n",
       "1086261    POINT (-94.73259400000002 40.991872)\n",
       "1086262    POINT (-95.81799900000001 41.280148)\n",
       "1086263            POINT (-91.553462 42.037621)\n",
       "1086241            POINT (-94.173816 42.501131)\n",
       "1094183            POINT (-93.833455 41.614719)\n",
       "Name: Store_Location, Length: 1948, dtype: object"
      ]
     },
     "execution_count": 24,
     "metadata": {},
     "output_type": "execute_result"
    }
   ],
   "source": [
    "stores.Store_Location"
   ]
  },
  {
   "cell_type": "code",
   "execution_count": 25,
   "id": "c3d07118",
   "metadata": {},
   "outputs": [
    {
     "data": {
      "text/plain": [
       "231153             POINT (-95.752119 43.397431)\n",
       "239961              POINT (-95.143701 43.12759)\n",
       "246141             POINT (-94.681939 43.111913)\n",
       "262897             POINT (-94.953239 42.777449)\n",
       "262310             POINT (-91.473634 43.262114)\n",
       "                           ...                 \n",
       "1086261    POINT (-94.73259400000002 40.991872)\n",
       "1086262    POINT (-95.81799900000001 41.280148)\n",
       "1086263            POINT (-91.553462 42.037621)\n",
       "1086241            POINT (-94.173816 42.501131)\n",
       "1094183            POINT (-93.833455 41.614719)\n",
       "Name: Store_Location, Length: 1790, dtype: object"
      ]
     },
     "execution_count": 25,
     "metadata": {},
     "output_type": "execute_result"
    }
   ],
   "source": [
    "locations = stores[['Store_Name','Store_Location']]\n",
    "locations = locations.dropna()\n",
    "# store_locations\n",
    "locations['Store_Location'].apply(wkt.loads)\n",
    "# where locations is your db with the store data, and 'StoreLocation' is the name of the column"
   ]
  },
  {
   "cell_type": "code",
   "execution_count": 26,
   "id": "21f20153",
   "metadata": {},
   "outputs": [
    {
     "data": {
      "text/plain": [
       "list"
      ]
     },
     "execution_count": 26,
     "metadata": {},
     "output_type": "execute_result"
    }
   ],
   "source": [
    "# create lists for dicitionary creation\n",
    "\n",
    "names = list(locations.Store_Name)\n",
    "# print('type(names) = ', type(names))\n",
    "\n",
    "points = list(locations.Store_Location)\n",
    "type(points)"
   ]
  },
  {
   "cell_type": "code",
   "execution_count": 27,
   "id": "522995f5",
   "metadata": {},
   "outputs": [],
   "source": [
    "#create dictionary\n",
    "\n",
    "d = {'col1':names, 'geometry':points }"
   ]
  },
  {
   "cell_type": "code",
   "execution_count": 28,
   "id": "2dc098b2",
   "metadata": {},
   "outputs": [
    {
     "data": {
      "text/plain": [
       "<AxesSubplot:>"
      ]
     },
     "execution_count": 28,
     "metadata": {},
     "output_type": "execute_result"
    },
    {
     "data": {
      "image/png": "[encoded data removed]",
      "text/plain": [
       "<Figure size 432x288 with 1 Axes>"
      ]
     },
     "metadata": {
      "needs_background": "light"
     },
     "output_type": "display_data"
    }
   ],
   "source": [
    "# create GeoDataFrame from dictionary\n",
    "\n",
    "loc_gdf = gpd.GeoDataFrame(d, crs=\"EPSG:4326\")\n",
    "loc_gdf.plot()"
   ]
  },
  {
   "cell_type": "code",
   "execution_count": 29,
   "id": "8c282647",
   "metadata": {},
   "outputs": [
    {
     "data": {
      "text/plain": [
       "geopandas.geodataframe.GeoDataFrame"
      ]
     },
     "execution_count": 29,
     "metadata": {},
     "output_type": "execute_result"
    }
   ],
   "source": [
    "type(loc_gdf)"
   ]
  },
  {
   "cell_type": "code",
   "execution_count": null,
   "id": "244b2cf5",
   "metadata": {},
   "outputs": [],
   "source": []
  },
  {
   "cell_type": "code",
   "execution_count": 30,
   "id": "3e8955e8",
   "metadata": {},
   "outputs": [
    {
     "data": {
      "text/plain": [
       "geopandas.geoseries.GeoSeries"
      ]
     },
     "execution_count": 30,
     "metadata": {},
     "output_type": "execute_result"
    }
   ],
   "source": [
    "type(loc_gdf.geometry)"
   ]
  },
  {
   "cell_type": "markdown",
   "id": "2d9245f8",
   "metadata": {},
   "source": [
    "#from documentaiton\n",
    " \n",
    "d = {'col1': ['name1', 'name2'], 'geometry': [Point(1, 2), Point(2, 1)]}\n",
    "\n",
    "gdf = geopandas.GeoDataFrame(d, crs=\"EPSG:4326\")\n",
    "\n",
    "gdf"
   ]
  },
  {
   "cell_type": "code",
   "execution_count": 31,
   "id": "4f19f2c5",
   "metadata": {},
   "outputs": [],
   "source": [
    "# from geopandas import GeoSeries\n",
    "# store_locations = stores[['Store_Name','Store_Location']]\n",
    "# store_locations = store_locations.dropna()\n",
    "# store_locations.columns = ['name','geometry']\n",
    "# locations_gpd = gpd.GeoDataFrame(store_locations, crs=\"EPSG:4326\")"
   ]
  },
  {
   "cell_type": "code",
   "execution_count": 32,
   "id": "ed045d84",
   "metadata": {},
   "outputs": [],
   "source": [
    "# type(locations_gpd)"
   ]
  },
  {
   "cell_type": "markdown",
   "id": "858eedaa",
   "metadata": {},
   "source": [
    "read in us shape file"
   ]
  },
  {
   "cell_type": "code",
   "execution_count": 33,
   "id": "45ea27cd",
   "metadata": {},
   "outputs": [
    {
     "name": "stderr",
     "output_type": "stream",
     "text": [
      "C:\\Users\\dgarb\\anaconda3_reinstall\\lib\\site-packages\\geopandas\\array.py:85: ShapelyDeprecationWarning: __len__ for multi-part geometries is deprecated and will be removed in Shapely 2.0. Check the length of the `geoms` property instead to get the  number of parts of a multi-part geometry.\n",
      "  aout[:] = out\n"
     ]
    }
   ],
   "source": [
    "\n",
    "us = gpd.read_file(r'C:\\Users\\dgarb\\OneDrive\\Desktop\\Capstone Data\\us-county-boundaries.shp')"
   ]
  },
  {
   "cell_type": "code",
   "execution_count": 34,
   "id": "2fd4a668",
   "metadata": {},
   "outputs": [
    {
     "data": {
      "text/html": [
       "<div>\n",
       "<style scoped>\n",
       "    .dataframe tbody tr th:only-of-type {\n",
       "        vertical-align: middle;\n",
       "    }\n",
       "\n",
       "    .dataframe tbody tr th {\n",
       "        vertical-align: top;\n",
       "    }\n",
       "\n",
       "    .dataframe thead th {\n",
       "        text-align: right;\n",
       "    }\n",
       "</style>\n",
       "<table border=\"1\" class=\"dataframe\">\n",
       "  <thead>\n",
       "    <tr style=\"text-align: right;\">\n",
       "      <th></th>\n",
       "      <th>statefp</th>\n",
       "      <th>countyfp</th>\n",
       "      <th>countyns</th>\n",
       "      <th>geoid</th>\n",
       "      <th>name</th>\n",
       "      <th>namelsad</th>\n",
       "      <th>stusab</th>\n",
       "      <th>lsad</th>\n",
       "      <th>classfp</th>\n",
       "      <th>mtfcc</th>\n",
       "      <th>...</th>\n",
       "      <th>cbsafp</th>\n",
       "      <th>metdivfp</th>\n",
       "      <th>funcstat</th>\n",
       "      <th>aland</th>\n",
       "      <th>awater</th>\n",
       "      <th>intptlat</th>\n",
       "      <th>intptlon</th>\n",
       "      <th>state_name</th>\n",
       "      <th>countyfp_no</th>\n",
       "      <th>geometry</th>\n",
       "    </tr>\n",
       "  </thead>\n",
       "  <tbody>\n",
       "    <tr>\n",
       "      <th>0</th>\n",
       "      <td>39</td>\n",
       "      <td>063</td>\n",
       "      <td>01074044</td>\n",
       "      <td>39063</td>\n",
       "      <td>Hancock</td>\n",
       "      <td>Hancock County</td>\n",
       "      <td>OH</td>\n",
       "      <td>06</td>\n",
       "      <td>H1</td>\n",
       "      <td>G4020</td>\n",
       "      <td>...</td>\n",
       "      <td>22300</td>\n",
       "      <td>None</td>\n",
       "      <td>A</td>\n",
       "      <td>1.376126e+09</td>\n",
       "      <td>6020647.0</td>\n",
       "      <td>+41.0004711</td>\n",
       "      <td>-083.6660335</td>\n",
       "      <td>Ohio</td>\n",
       "      <td>63</td>\n",
       "      <td>POLYGON ((-83.88076 41.08036, -83.88076 41.081...</td>\n",
       "    </tr>\n",
       "    <tr>\n",
       "      <th>1</th>\n",
       "      <td>51</td>\n",
       "      <td>179</td>\n",
       "      <td>01480173</td>\n",
       "      <td>51179</td>\n",
       "      <td>Stafford</td>\n",
       "      <td>Stafford County</td>\n",
       "      <td>VA</td>\n",
       "      <td>06</td>\n",
       "      <td>H1</td>\n",
       "      <td>G4020</td>\n",
       "      <td>...</td>\n",
       "      <td>47900</td>\n",
       "      <td>47894</td>\n",
       "      <td>A</td>\n",
       "      <td>6.972372e+08</td>\n",
       "      <td>28088011.0</td>\n",
       "      <td>+38.4132608</td>\n",
       "      <td>-077.4513342</td>\n",
       "      <td>Virginia</td>\n",
       "      <td>179</td>\n",
       "      <td>POLYGON ((-77.58878 38.50404, -77.58295 38.508...</td>\n",
       "    </tr>\n",
       "  </tbody>\n",
       "</table>\n",
       "<p>2 rows × 21 columns</p>\n",
       "</div>"
      ],
      "text/plain": [
       "  statefp countyfp  countyns  geoid      name         namelsad stusab lsad  \\\n",
       "0      39      063  01074044  39063   Hancock   Hancock County     OH   06   \n",
       "1      51      179  01480173  51179  Stafford  Stafford County     VA   06   \n",
       "\n",
       "  classfp  mtfcc  ... cbsafp metdivfp funcstat         aland      awater  \\\n",
       "0      H1  G4020  ...  22300     None        A  1.376126e+09   6020647.0   \n",
       "1      H1  G4020  ...  47900    47894        A  6.972372e+08  28088011.0   \n",
       "\n",
       "      intptlat      intptlon state_name countyfp_no  \\\n",
       "0  +41.0004711  -083.6660335       Ohio          63   \n",
       "1  +38.4132608  -077.4513342   Virginia         179   \n",
       "\n",
       "                                            geometry  \n",
       "0  POLYGON ((-83.88076 41.08036, -83.88076 41.081...  \n",
       "1  POLYGON ((-77.58878 38.50404, -77.58295 38.508...  \n",
       "\n",
       "[2 rows x 21 columns]"
      ]
     },
     "execution_count": 34,
     "metadata": {},
     "output_type": "execute_result"
    }
   ],
   "source": [
    "us.head(2)"
   ]
  },
  {
   "cell_type": "markdown",
   "id": "9dda640c",
   "metadata": {},
   "source": [
    "create Iowa geodataframe\n"
   ]
  },
  {
   "cell_type": "code",
   "execution_count": 35,
   "id": "2aa2ce9c",
   "metadata": {},
   "outputs": [],
   "source": [
    "iowa = us[us.stusab == \"IA\"]"
   ]
  },
  {
   "cell_type": "code",
   "execution_count": 36,
   "id": "5d12ea2a",
   "metadata": {},
   "outputs": [
    {
     "data": {
      "text/plain": [
       "geopandas.geodataframe.GeoDataFrame"
      ]
     },
     "execution_count": 36,
     "metadata": {},
     "output_type": "execute_result"
    }
   ],
   "source": [
    "type(iowa)"
   ]
  },
  {
   "cell_type": "code",
   "execution_count": 37,
   "id": "2e8a3ecb",
   "metadata": {},
   "outputs": [
    {
     "data": {
      "text/html": [
       "<div>\n",
       "<style scoped>\n",
       "    .dataframe tbody tr th:only-of-type {\n",
       "        vertical-align: middle;\n",
       "    }\n",
       "\n",
       "    .dataframe tbody tr th {\n",
       "        vertical-align: top;\n",
       "    }\n",
       "\n",
       "    .dataframe thead th {\n",
       "        text-align: right;\n",
       "    }\n",
       "</style>\n",
       "<table border=\"1\" class=\"dataframe\">\n",
       "  <thead>\n",
       "    <tr style=\"text-align: right;\">\n",
       "      <th></th>\n",
       "      <th>statefp</th>\n",
       "      <th>countyfp</th>\n",
       "      <th>countyns</th>\n",
       "      <th>geoid</th>\n",
       "      <th>name</th>\n",
       "      <th>namelsad</th>\n",
       "      <th>stusab</th>\n",
       "      <th>lsad</th>\n",
       "      <th>classfp</th>\n",
       "      <th>mtfcc</th>\n",
       "      <th>...</th>\n",
       "      <th>cbsafp</th>\n",
       "      <th>metdivfp</th>\n",
       "      <th>funcstat</th>\n",
       "      <th>aland</th>\n",
       "      <th>awater</th>\n",
       "      <th>intptlat</th>\n",
       "      <th>intptlon</th>\n",
       "      <th>state_name</th>\n",
       "      <th>countyfp_no</th>\n",
       "      <th>geometry</th>\n",
       "    </tr>\n",
       "  </thead>\n",
       "  <tbody>\n",
       "    <tr>\n",
       "      <th>4</th>\n",
       "      <td>19</td>\n",
       "      <td>031</td>\n",
       "      <td>00465205</td>\n",
       "      <td>19031</td>\n",
       "      <td>Cedar</td>\n",
       "      <td>Cedar County</td>\n",
       "      <td>IA</td>\n",
       "      <td>06</td>\n",
       "      <td>H1</td>\n",
       "      <td>G4020</td>\n",
       "      <td>...</td>\n",
       "      <td>None</td>\n",
       "      <td>None</td>\n",
       "      <td>A</td>\n",
       "      <td>1.500799e+09</td>\n",
       "      <td>6385832.0</td>\n",
       "      <td>+41.7723600</td>\n",
       "      <td>-091.1326105</td>\n",
       "      <td>Iowa</td>\n",
       "      <td>31</td>\n",
       "      <td>POLYGON ((-91.36608 41.86007, -91.36620 41.860...</td>\n",
       "    </tr>\n",
       "    <tr>\n",
       "      <th>6</th>\n",
       "      <td>19</td>\n",
       "      <td>089</td>\n",
       "      <td>00465233</td>\n",
       "      <td>19089</td>\n",
       "      <td>Howard</td>\n",
       "      <td>Howard County</td>\n",
       "      <td>IA</td>\n",
       "      <td>06</td>\n",
       "      <td>H1</td>\n",
       "      <td>G4020</td>\n",
       "      <td>...</td>\n",
       "      <td>None</td>\n",
       "      <td>None</td>\n",
       "      <td>A</td>\n",
       "      <td>1.225703e+09</td>\n",
       "      <td>931478.0</td>\n",
       "      <td>+43.3653125</td>\n",
       "      <td>-092.3219084</td>\n",
       "      <td>Iowa</td>\n",
       "      <td>89</td>\n",
       "      <td>POLYGON ((-92.55374 43.42890, -92.55373 43.429...</td>\n",
       "    </tr>\n",
       "    <tr>\n",
       "      <th>25</th>\n",
       "      <td>19</td>\n",
       "      <td>181</td>\n",
       "      <td>00465279</td>\n",
       "      <td>19181</td>\n",
       "      <td>Warren</td>\n",
       "      <td>Warren County</td>\n",
       "      <td>IA</td>\n",
       "      <td>06</td>\n",
       "      <td>H1</td>\n",
       "      <td>G4020</td>\n",
       "      <td>...</td>\n",
       "      <td>19780</td>\n",
       "      <td>None</td>\n",
       "      <td>A</td>\n",
       "      <td>1.475873e+09</td>\n",
       "      <td>9097100.0</td>\n",
       "      <td>+41.3324459</td>\n",
       "      <td>-093.5687512</td>\n",
       "      <td>Iowa</td>\n",
       "      <td>181</td>\n",
       "      <td>POLYGON ((-93.55821 41.51148, -93.55674 41.511...</td>\n",
       "    </tr>\n",
       "    <tr>\n",
       "      <th>126</th>\n",
       "      <td>19</td>\n",
       "      <td>121</td>\n",
       "      <td>00465249</td>\n",
       "      <td>19121</td>\n",
       "      <td>Madison</td>\n",
       "      <td>Madison County</td>\n",
       "      <td>IA</td>\n",
       "      <td>06</td>\n",
       "      <td>H1</td>\n",
       "      <td>G4020</td>\n",
       "      <td>...</td>\n",
       "      <td>19780</td>\n",
       "      <td>None</td>\n",
       "      <td>A</td>\n",
       "      <td>1.452999e+09</td>\n",
       "      <td>2983840.0</td>\n",
       "      <td>+41.3306216</td>\n",
       "      <td>-094.0151842</td>\n",
       "      <td>Iowa</td>\n",
       "      <td>121</td>\n",
       "      <td>POLYGON ((-93.89712 41.50310, -93.89681 41.503...</td>\n",
       "    </tr>\n",
       "    <tr>\n",
       "      <th>148</th>\n",
       "      <td>19</td>\n",
       "      <td>165</td>\n",
       "      <td>00465271</td>\n",
       "      <td>19165</td>\n",
       "      <td>Shelby</td>\n",
       "      <td>Shelby County</td>\n",
       "      <td>IA</td>\n",
       "      <td>06</td>\n",
       "      <td>H1</td>\n",
       "      <td>G4020</td>\n",
       "      <td>...</td>\n",
       "      <td>None</td>\n",
       "      <td>None</td>\n",
       "      <td>A</td>\n",
       "      <td>1.530111e+09</td>\n",
       "      <td>1486125.0</td>\n",
       "      <td>+41.6790143</td>\n",
       "      <td>-095.3089173</td>\n",
       "      <td>Iowa</td>\n",
       "      <td>165</td>\n",
       "      <td>POLYGON ((-95.32481 41.86410, -95.32479 41.864...</td>\n",
       "    </tr>\n",
       "  </tbody>\n",
       "</table>\n",
       "<p>5 rows × 21 columns</p>\n",
       "</div>"
      ],
      "text/plain": [
       "    statefp countyfp  countyns  geoid     name        namelsad stusab lsad  \\\n",
       "4        19      031  00465205  19031    Cedar    Cedar County     IA   06   \n",
       "6        19      089  00465233  19089   Howard   Howard County     IA   06   \n",
       "25       19      181  00465279  19181   Warren   Warren County     IA   06   \n",
       "126      19      121  00465249  19121  Madison  Madison County     IA   06   \n",
       "148      19      165  00465271  19165   Shelby   Shelby County     IA   06   \n",
       "\n",
       "    classfp  mtfcc  ... cbsafp metdivfp funcstat         aland     awater  \\\n",
       "4        H1  G4020  ...   None     None        A  1.500799e+09  6385832.0   \n",
       "6        H1  G4020  ...   None     None        A  1.225703e+09   931478.0   \n",
       "25       H1  G4020  ...  19780     None        A  1.475873e+09  9097100.0   \n",
       "126      H1  G4020  ...  19780     None        A  1.452999e+09  2983840.0   \n",
       "148      H1  G4020  ...   None     None        A  1.530111e+09  1486125.0   \n",
       "\n",
       "        intptlat      intptlon state_name countyfp_no  \\\n",
       "4    +41.7723600  -091.1326105       Iowa          31   \n",
       "6    +43.3653125  -092.3219084       Iowa          89   \n",
       "25   +41.3324459  -093.5687512       Iowa         181   \n",
       "126  +41.3306216  -094.0151842       Iowa         121   \n",
       "148  +41.6790143  -095.3089173       Iowa         165   \n",
       "\n",
       "                                              geometry  \n",
       "4    POLYGON ((-91.36608 41.86007, -91.36620 41.860...  \n",
       "6    POLYGON ((-92.55374 43.42890, -92.55373 43.429...  \n",
       "25   POLYGON ((-93.55821 41.51148, -93.55674 41.511...  \n",
       "126  POLYGON ((-93.89712 41.50310, -93.89681 41.503...  \n",
       "148  POLYGON ((-95.32481 41.86410, -95.32479 41.864...  \n",
       "\n",
       "[5 rows x 21 columns]"
      ]
     },
     "execution_count": 37,
     "metadata": {},
     "output_type": "execute_result"
    }
   ],
   "source": [
    "# metdivfp csafp cbsafp\n",
    "iowa.head()"
   ]
  },
  {
   "cell_type": "markdown",
   "id": "f610f49a",
   "metadata": {},
   "source": [
    "create merge key"
   ]
  },
  {
   "cell_type": "code",
   "execution_count": 38,
   "id": "c6bea77c",
   "metadata": {},
   "outputs": [
    {
     "name": "stderr",
     "output_type": "stream",
     "text": [
      "C:\\Users\\dgarb\\AppData\\Local\\Temp/ipykernel_18020/2015023351.py:1: SettingWithCopyWarning: \n",
      "A value is trying to be set on a copy of a slice from a DataFrame.\n",
      "Try using .loc[row_indexer,col_indexer] = value instead\n",
      "\n",
      "See the caveats in the documentation: https://pandas.pydata.org/pandas-docs/stable/user_guide/indexing.html#returning-a-view-versus-a-copy\n",
      "  iowa['county2'] = iowa.name.str.lower()\n"
     ]
    }
   ],
   "source": [
    "iowa['county2'] = iowa.name.str.lower()"
   ]
  },
  {
   "cell_type": "code",
   "execution_count": 39,
   "id": "6199f435",
   "metadata": {},
   "outputs": [
    {
     "data": {
      "text/plain": [
       "geopandas.geodataframe.GeoDataFrame"
      ]
     },
     "execution_count": 39,
     "metadata": {},
     "output_type": "execute_result"
    }
   ],
   "source": [
    "type(iowa)"
   ]
  },
  {
   "cell_type": "markdown",
   "id": "1525e369",
   "metadata": {},
   "source": [
    "merge iowa shape file with pop_by_county by county2\n",
    "\n",
    "Note to create a geodataframe, the geodataframe must be on the left of the merge"
   ]
  },
  {
   "cell_type": "code",
   "execution_count": 40,
   "id": "d2a3eb45",
   "metadata": {},
   "outputs": [],
   "source": [
    "\n",
    "pop_by_county = pop_by_county[['county2','Population']]\n",
    "\n",
    "iowa_pop_gdf = iowa.merge(pop_by_county,how='inner')"
   ]
  },
  {
   "cell_type": "code",
   "execution_count": 41,
   "id": "72da26be",
   "metadata": {},
   "outputs": [],
   "source": [
    "# iowa_pop_stores_gdf\n",
    "iowa_pop_stores_gdf = iowa_pop_gdf.merge(stores_in_counties,how='inner')\n",
    "# iowa_pop_stores_gdf = iowa_pop_gdf.merge(stores_in_counties,how='left')\n",
    "# iowa_pop_stores_gdf = iowa_pop_gdf.merge(stores_in_counties,how='right')"
   ]
  },
  {
   "cell_type": "code",
   "execution_count": 42,
   "id": "50d5c1cc",
   "metadata": {},
   "outputs": [],
   "source": [
    "za = iowa_pop_stores_gdf[['name','geometry','Population']]"
   ]
  },
  {
   "cell_type": "code",
   "execution_count": 43,
   "id": "e1f6a3d4",
   "metadata": {},
   "outputs": [
    {
     "data": {
      "text/plain": [
       "geopandas.geodataframe.GeoDataFrame"
      ]
     },
     "execution_count": 43,
     "metadata": {},
     "output_type": "execute_result"
    }
   ],
   "source": [
    "type(za)"
   ]
  },
  {
   "cell_type": "code",
   "execution_count": 44,
   "id": "6e2b6a2d",
   "metadata": {},
   "outputs": [
    {
     "name": "stderr",
     "output_type": "stream",
     "text": [
      "C:\\Users\\dgarb\\anaconda3_reinstall\\lib\\site-packages\\geopandas\\array.py:524: ShapelyDeprecationWarning: The array interface is deprecated and will no longer work in Shapely 2.0. Convert the '.coords' to a numpy array instead.\n",
      "  return _unary_geo(\"centroid\", self)\n",
      "C:\\Users\\dgarb\\anaconda3_reinstall\\lib\\site-packages\\geopandas\\geoseries.py:133: ShapelyDeprecationWarning: The array interface is deprecated and will no longer work in Shapely 2.0. Convert the '.coords' to a numpy array instead.\n",
      "  data = from_shapely(s.values)\n",
      "C:\\Users\\dgarb\\AppData\\Local\\Temp/ipykernel_18020/425826404.py:4: SettingWithCopyWarning: \n",
      "A value is trying to be set on a copy of a slice from a DataFrame.\n",
      "Try using .loc[row_indexer,col_indexer] = value instead\n",
      "\n",
      "See the caveats in the documentation: https://pandas.pydata.org/pandas-docs/stable/user_guide/indexing.html#returning-a-view-versus-a-copy\n",
      "  za[\"center\"] = za[\"geometry\"].centroid\n"
     ]
    }
   ],
   "source": [
    "# https://shotlefttodatascience.com/2018/05/16/adding-labels-to-districts-in-geopandas/\n",
    "# https://github.com/shotleft/how-to-python/blob/master/How%20it%20works%20-%20labelling%20districts%20in%20GeoPandas.ipynb\n",
    "\n",
    "za[\"center\"] = za[\"geometry\"].centroid\n",
    "za_points = za.copy()\n",
    "za_points.set_geometry(\"center\", inplace = True)"
   ]
  },
  {
   "cell_type": "code",
   "execution_count": 45,
   "id": "bc12b9e3",
   "metadata": {},
   "outputs": [
    {
     "name": "stderr",
     "output_type": "stream",
     "text": [
      "C:\\Users\\dgarb\\anaconda3_reinstall\\lib\\site-packages\\descartes\\patch.py:63: ShapelyDeprecationWarning: The array interface is deprecated and will no longer work in Shapely 2.0. Convert the '.coords' to a numpy array instead.\n",
      "  concatenate([asarray(t.exterior)[:, :2]] +\n"
     ]
    },
    {
     "data": {
      "text/plain": [
       "1"
      ]
     },
     "execution_count": 45,
     "metadata": {},
     "output_type": "execute_result"
    },
    {
     "data": {
      "image/png": "[encoded data removed]",
      "text/plain": [
       "<Figure size 1080x864 with 1 Axes>"
      ]
     },
     "metadata": {
      "needs_background": "light"
     },
     "output_type": "display_data"
    }
   ],
   "source": [
    "ax = za.plot(figsize = (15, 12), color = \"whitesmoke\", edgecolor = \"lightgrey\", linewidth = 0.5)\n",
    "texts = []\n",
    "\n",
    "for x, y, label in zip(za_points.geometry.x, za_points.geometry.y, za_points[\"name\"]):\n",
    "    texts.append(plt.text(x, y, label, fontsize = 8))\n",
    "\n",
    "aT.adjust_text(texts, force_points=0.3, force_text=0.8, expand_points=(1,1), expand_text=(1,1), \n",
    "               arrowprops=dict(arrowstyle=\"-\", color='grey', lw=0.5))"
   ]
  },
  {
   "cell_type": "code",
   "execution_count": 46,
   "id": "7d85cf20",
   "metadata": {},
   "outputs": [
    {
     "data": {
      "text/plain": [
       "geopandas.geodataframe.GeoDataFrame"
      ]
     },
     "execution_count": 46,
     "metadata": {},
     "output_type": "execute_result"
    }
   ],
   "source": [
    "type(iowa_pop_gdf)\n",
    "type(iowa_pop_stores_gdf)"
   ]
  },
  {
   "cell_type": "code",
   "execution_count": 47,
   "id": "d1c26d2d",
   "metadata": {},
   "outputs": [
    {
     "name": "stderr",
     "output_type": "stream",
     "text": [
      "C:\\Users\\dgarb\\anaconda3_reinstall\\lib\\site-packages\\descartes\\patch.py:63: ShapelyDeprecationWarning: The array interface is deprecated and will no longer work in Shapely 2.0. Convert the '.coords' to a numpy array instead.\n",
      "  concatenate([asarray(t.exterior)[:, :2]] +\n"
     ]
    },
    {
     "data": {
      "image/png": "[encoded data removed]",
      "text/plain": [
       "<Figure size 1080x864 with 2 Axes>"
      ]
     },
     "metadata": {
      "needs_background": "light"
     },
     "output_type": "display_data"
    }
   ],
   "source": [
    "ax = iowa_pop_gdf.plot(column='Population',legend = True, figsize = (15, 12))\n",
    "# aT.adjust_text(texts, force_points=0.3, force_text=0.8, expand_points=(1,1), expand_text=(1,1), \n",
    "#                arrowprops=dict(arrowstyle=\"-\", color='black', lw=0.5))\n",
    "ax.set_axis_off(); # turns off axis labels"
   ]
  },
  {
   "cell_type": "code",
   "execution_count": 54,
   "id": "b40fd24b",
   "metadata": {},
   "outputs": [
    {
     "data": {
      "text/html": [
       "<div>\n",
       "<style scoped>\n",
       "    .dataframe tbody tr th:only-of-type {\n",
       "        vertical-align: middle;\n",
       "    }\n",
       "\n",
       "    .dataframe tbody tr th {\n",
       "        vertical-align: top;\n",
       "    }\n",
       "\n",
       "    .dataframe thead th {\n",
       "        text-align: right;\n",
       "    }\n",
       "</style>\n",
       "<table border=\"1\" class=\"dataframe\">\n",
       "  <thead>\n",
       "    <tr style=\"text-align: right;\">\n",
       "      <th></th>\n",
       "      <th>name</th>\n",
       "      <th>Population</th>\n",
       "    </tr>\n",
       "  </thead>\n",
       "  <tbody>\n",
       "    <tr>\n",
       "      <th>46</th>\n",
       "      <td>Polk</td>\n",
       "      <td>485418</td>\n",
       "    </tr>\n",
       "    <tr>\n",
       "      <th>36</th>\n",
       "      <td>Linn</td>\n",
       "      <td>225601</td>\n",
       "    </tr>\n",
       "    <tr>\n",
       "      <th>34</th>\n",
       "      <td>Scott</td>\n",
       "      <td>172938</td>\n",
       "    </tr>\n",
       "    <tr>\n",
       "      <th>10</th>\n",
       "      <td>Johnson</td>\n",
       "      <td>150819</td>\n",
       "    </tr>\n",
       "    <tr>\n",
       "      <th>16</th>\n",
       "      <td>Black Hawk</td>\n",
       "      <td>131813</td>\n",
       "    </tr>\n",
       "    <tr>\n",
       "      <th>35</th>\n",
       "      <td>Woodbury</td>\n",
       "      <td>102687</td>\n",
       "    </tr>\n",
       "    <tr>\n",
       "      <th>68</th>\n",
       "      <td>Story</td>\n",
       "      <td>97355</td>\n",
       "    </tr>\n",
       "    <tr>\n",
       "      <th>90</th>\n",
       "      <td>Dubuque</td>\n",
       "      <td>97193</td>\n",
       "    </tr>\n",
       "    <tr>\n",
       "      <th>47</th>\n",
       "      <td>Pottawattamie</td>\n",
       "      <td>93478</td>\n",
       "    </tr>\n",
       "    <tr>\n",
       "      <th>9</th>\n",
       "      <td>Dallas</td>\n",
       "      <td>90418</td>\n",
       "    </tr>\n",
       "    <tr>\n",
       "      <th>2</th>\n",
       "      <td>Warren</td>\n",
       "      <td>50867</td>\n",
       "    </tr>\n",
       "    <tr>\n",
       "      <th>70</th>\n",
       "      <td>Clinton</td>\n",
       "      <td>46734</td>\n",
       "    </tr>\n",
       "    <tr>\n",
       "      <th>8</th>\n",
       "      <td>Muscatine</td>\n",
       "      <td>42703</td>\n",
       "    </tr>\n",
       "    <tr>\n",
       "      <th>22</th>\n",
       "      <td>Cerro Gordo</td>\n",
       "      <td>42672</td>\n",
       "    </tr>\n",
       "    <tr>\n",
       "      <th>95</th>\n",
       "      <td>Marshall</td>\n",
       "      <td>39804</td>\n",
       "    </tr>\n",
       "    <tr>\n",
       "      <th>56</th>\n",
       "      <td>Des Moines</td>\n",
       "      <td>39227</td>\n",
       "    </tr>\n",
       "    <tr>\n",
       "      <th>25</th>\n",
       "      <td>Jasper</td>\n",
       "      <td>37032</td>\n",
       "    </tr>\n",
       "    <tr>\n",
       "      <th>45</th>\n",
       "      <td>Webster</td>\n",
       "      <td>36348</td>\n",
       "    </tr>\n",
       "    <tr>\n",
       "      <th>48</th>\n",
       "      <td>Wapello</td>\n",
       "      <td>35102</td>\n",
       "    </tr>\n",
       "    <tr>\n",
       "      <th>59</th>\n",
       "      <td>Sioux</td>\n",
       "      <td>34900</td>\n",
       "    </tr>\n",
       "    <tr>\n",
       "      <th>69</th>\n",
       "      <td>Lee</td>\n",
       "      <td>33946</td>\n",
       "    </tr>\n",
       "    <tr>\n",
       "      <th>85</th>\n",
       "      <td>Marion</td>\n",
       "      <td>33193</td>\n",
       "    </tr>\n",
       "    <tr>\n",
       "      <th>24</th>\n",
       "      <td>Boone</td>\n",
       "      <td>26381</td>\n",
       "    </tr>\n",
       "    <tr>\n",
       "      <th>54</th>\n",
       "      <td>Benton</td>\n",
       "      <td>25558</td>\n",
       "    </tr>\n",
       "    <tr>\n",
       "      <th>74</th>\n",
       "      <td>Plymouth</td>\n",
       "      <td>25141</td>\n",
       "    </tr>\n",
       "    <tr>\n",
       "      <th>66</th>\n",
       "      <td>Bremer</td>\n",
       "      <td>25032</td>\n",
       "    </tr>\n",
       "    <tr>\n",
       "      <th>96</th>\n",
       "      <td>Mahaska</td>\n",
       "      <td>22351</td>\n",
       "    </tr>\n",
       "    <tr>\n",
       "      <th>58</th>\n",
       "      <td>Washington</td>\n",
       "      <td>22100</td>\n",
       "    </tr>\n",
       "    <tr>\n",
       "      <th>26</th>\n",
       "      <td>Buchanan</td>\n",
       "      <td>21141</td>\n",
       "    </tr>\n",
       "    <tr>\n",
       "      <th>7</th>\n",
       "      <td>Jones</td>\n",
       "      <td>20575</td>\n",
       "    </tr>\n",
       "    <tr>\n",
       "      <th>93</th>\n",
       "      <td>Carroll</td>\n",
       "      <td>20150</td>\n",
       "    </tr>\n",
       "    <tr>\n",
       "      <th>86</th>\n",
       "      <td>Winneshiek</td>\n",
       "      <td>20090</td>\n",
       "    </tr>\n",
       "    <tr>\n",
       "      <th>67</th>\n",
       "      <td>Buena Vista</td>\n",
       "      <td>19950</td>\n",
       "    </tr>\n",
       "    <tr>\n",
       "      <th>94</th>\n",
       "      <td>Henry</td>\n",
       "      <td>19889</td>\n",
       "    </tr>\n",
       "    <tr>\n",
       "      <th>49</th>\n",
       "      <td>Fayette</td>\n",
       "      <td>19604</td>\n",
       "    </tr>\n",
       "    <tr>\n",
       "      <th>30</th>\n",
       "      <td>Jackson</td>\n",
       "      <td>19348</td>\n",
       "    </tr>\n",
       "    <tr>\n",
       "      <th>0</th>\n",
       "      <td>Cedar</td>\n",
       "      <td>18475</td>\n",
       "    </tr>\n",
       "    <tr>\n",
       "      <th>72</th>\n",
       "      <td>Poweshiek</td>\n",
       "      <td>18391</td>\n",
       "    </tr>\n",
       "    <tr>\n",
       "      <th>23</th>\n",
       "      <td>Jefferson</td>\n",
       "      <td>18153</td>\n",
       "    </tr>\n",
       "    <tr>\n",
       "      <th>79</th>\n",
       "      <td>Clayton</td>\n",
       "      <td>17527</td>\n",
       "    </tr>\n",
       "    <tr>\n",
       "      <th>20</th>\n",
       "      <td>Dickinson</td>\n",
       "      <td>17260</td>\n",
       "    </tr>\n",
       "    <tr>\n",
       "      <th>80</th>\n",
       "      <td>Delaware</td>\n",
       "      <td>17107</td>\n",
       "    </tr>\n",
       "    <tr>\n",
       "      <th>31</th>\n",
       "      <td>Crawford</td>\n",
       "      <td>16998</td>\n",
       "    </tr>\n",
       "    <tr>\n",
       "      <th>76</th>\n",
       "      <td>Tama</td>\n",
       "      <td>16962</td>\n",
       "    </tr>\n",
       "    <tr>\n",
       "      <th>12</th>\n",
       "      <td>Hardin</td>\n",
       "      <td>16924</td>\n",
       "    </tr>\n",
       "    <tr>\n",
       "      <th>82</th>\n",
       "      <td>Iowa</td>\n",
       "      <td>16155</td>\n",
       "    </tr>\n",
       "    <tr>\n",
       "      <th>3</th>\n",
       "      <td>Madison</td>\n",
       "      <td>16148</td>\n",
       "    </tr>\n",
       "    <tr>\n",
       "      <th>21</th>\n",
       "      <td>Clay</td>\n",
       "      <td>16138</td>\n",
       "    </tr>\n",
       "    <tr>\n",
       "      <th>63</th>\n",
       "      <td>Floyd</td>\n",
       "      <td>15713</td>\n",
       "    </tr>\n",
       "    <tr>\n",
       "      <th>81</th>\n",
       "      <td>Page</td>\n",
       "      <td>15205</td>\n",
       "    </tr>\n",
       "    <tr>\n",
       "      <th>55</th>\n",
       "      <td>Mills</td>\n",
       "      <td>15023</td>\n",
       "    </tr>\n",
       "    <tr>\n",
       "      <th>42</th>\n",
       "      <td>Hamilton</td>\n",
       "      <td>14905</td>\n",
       "    </tr>\n",
       "    <tr>\n",
       "      <th>43</th>\n",
       "      <td>Kossuth</td>\n",
       "      <td>14864</td>\n",
       "    </tr>\n",
       "    <tr>\n",
       "      <th>98</th>\n",
       "      <td>Butler</td>\n",
       "      <td>14508</td>\n",
       "    </tr>\n",
       "    <tr>\n",
       "      <th>44</th>\n",
       "      <td>Harrison</td>\n",
       "      <td>14043</td>\n",
       "    </tr>\n",
       "    <tr>\n",
       "      <th>57</th>\n",
       "      <td>O'Brien</td>\n",
       "      <td>13796</td>\n",
       "    </tr>\n",
       "    <tr>\n",
       "      <th>87</th>\n",
       "      <td>Allamakee</td>\n",
       "      <td>13761</td>\n",
       "    </tr>\n",
       "    <tr>\n",
       "      <th>60</th>\n",
       "      <td>Cass</td>\n",
       "      <td>12990</td>\n",
       "    </tr>\n",
       "    <tr>\n",
       "      <th>91</th>\n",
       "      <td>Wright</td>\n",
       "      <td>12644</td>\n",
       "    </tr>\n",
       "    <tr>\n",
       "      <th>64</th>\n",
       "      <td>Appanoose</td>\n",
       "      <td>12462</td>\n",
       "    </tr>\n",
       "    <tr>\n",
       "      <th>61</th>\n",
       "      <td>Union</td>\n",
       "      <td>12303</td>\n",
       "    </tr>\n",
       "    <tr>\n",
       "      <th>78</th>\n",
       "      <td>Grundy</td>\n",
       "      <td>12262</td>\n",
       "    </tr>\n",
       "    <tr>\n",
       "      <th>88</th>\n",
       "      <td>Chickasaw</td>\n",
       "      <td>11970</td>\n",
       "    </tr>\n",
       "    <tr>\n",
       "      <th>18</th>\n",
       "      <td>Lyon</td>\n",
       "      <td>11800</td>\n",
       "    </tr>\n",
       "    <tr>\n",
       "      <th>4</th>\n",
       "      <td>Shelby</td>\n",
       "      <td>11544</td>\n",
       "    </tr>\n",
       "    <tr>\n",
       "      <th>15</th>\n",
       "      <td>Cherokee</td>\n",
       "      <td>11281</td>\n",
       "    </tr>\n",
       "    <tr>\n",
       "      <th>65</th>\n",
       "      <td>Louisa</td>\n",
       "      <td>11125</td>\n",
       "    </tr>\n",
       "    <tr>\n",
       "      <th>89</th>\n",
       "      <td>Hancock</td>\n",
       "      <td>10709</td>\n",
       "    </tr>\n",
       "    <tr>\n",
       "      <th>38</th>\n",
       "      <td>Guthrie</td>\n",
       "      <td>10702</td>\n",
       "    </tr>\n",
       "    <tr>\n",
       "      <th>29</th>\n",
       "      <td>Mitchell</td>\n",
       "      <td>10588</td>\n",
       "    </tr>\n",
       "    <tr>\n",
       "      <th>13</th>\n",
       "      <td>Winnebago</td>\n",
       "      <td>10474</td>\n",
       "    </tr>\n",
       "    <tr>\n",
       "      <th>73</th>\n",
       "      <td>Keokuk</td>\n",
       "      <td>10163</td>\n",
       "    </tr>\n",
       "    <tr>\n",
       "      <th>52</th>\n",
       "      <td>Franklin</td>\n",
       "      <td>10091</td>\n",
       "    </tr>\n",
       "    <tr>\n",
       "      <th>17</th>\n",
       "      <td>Montgomery</td>\n",
       "      <td>10016</td>\n",
       "    </tr>\n",
       "    <tr>\n",
       "      <th>62</th>\n",
       "      <td>Sac</td>\n",
       "      <td>9711</td>\n",
       "    </tr>\n",
       "    <tr>\n",
       "      <th>39</th>\n",
       "      <td>Calhoun</td>\n",
       "      <td>9656</td>\n",
       "    </tr>\n",
       "    <tr>\n",
       "      <th>50</th>\n",
       "      <td>Humboldt</td>\n",
       "      <td>9518</td>\n",
       "    </tr>\n",
       "    <tr>\n",
       "      <th>77</th>\n",
       "      <td>Clarke</td>\n",
       "      <td>9383</td>\n",
       "    </tr>\n",
       "    <tr>\n",
       "      <th>83</th>\n",
       "      <td>Emmet</td>\n",
       "      <td>9322</td>\n",
       "    </tr>\n",
       "    <tr>\n",
       "      <th>1</th>\n",
       "      <td>Howard</td>\n",
       "      <td>9201</td>\n",
       "    </tr>\n",
       "    <tr>\n",
       "      <th>11</th>\n",
       "      <td>Davis</td>\n",
       "      <td>8977</td>\n",
       "    </tr>\n",
       "    <tr>\n",
       "      <th>32</th>\n",
       "      <td>Palo Alto</td>\n",
       "      <td>8941</td>\n",
       "    </tr>\n",
       "    <tr>\n",
       "      <th>75</th>\n",
       "      <td>Greene</td>\n",
       "      <td>8923</td>\n",
       "    </tr>\n",
       "    <tr>\n",
       "      <th>84</th>\n",
       "      <td>Monona</td>\n",
       "      <td>8675</td>\n",
       "    </tr>\n",
       "    <tr>\n",
       "      <th>51</th>\n",
       "      <td>Lucas</td>\n",
       "      <td>8556</td>\n",
       "    </tr>\n",
       "    <tr>\n",
       "      <th>27</th>\n",
       "      <td>Decatur</td>\n",
       "      <td>7908</td>\n",
       "    </tr>\n",
       "    <tr>\n",
       "      <th>5</th>\n",
       "      <td>Monroe</td>\n",
       "      <td>7761</td>\n",
       "    </tr>\n",
       "    <tr>\n",
       "      <th>19</th>\n",
       "      <td>Worth</td>\n",
       "      <td>7422</td>\n",
       "    </tr>\n",
       "    <tr>\n",
       "      <th>14</th>\n",
       "      <td>Van Buren</td>\n",
       "      <td>7104</td>\n",
       "    </tr>\n",
       "    <tr>\n",
       "      <th>71</th>\n",
       "      <td>Adair</td>\n",
       "      <td>7048</td>\n",
       "    </tr>\n",
       "    <tr>\n",
       "      <th>41</th>\n",
       "      <td>Fremont</td>\n",
       "      <td>6895</td>\n",
       "    </tr>\n",
       "    <tr>\n",
       "      <th>53</th>\n",
       "      <td>Ida</td>\n",
       "      <td>6862</td>\n",
       "    </tr>\n",
       "    <tr>\n",
       "      <th>28</th>\n",
       "      <td>Pocahontas</td>\n",
       "      <td>6725</td>\n",
       "    </tr>\n",
       "    <tr>\n",
       "      <th>40</th>\n",
       "      <td>Wayne</td>\n",
       "      <td>6426</td>\n",
       "    </tr>\n",
       "    <tr>\n",
       "      <th>33</th>\n",
       "      <td>Taylor</td>\n",
       "      <td>6160</td>\n",
       "    </tr>\n",
       "    <tr>\n",
       "      <th>37</th>\n",
       "      <td>Osceola</td>\n",
       "      <td>6016</td>\n",
       "    </tr>\n",
       "    <tr>\n",
       "      <th>97</th>\n",
       "      <td>Audubon</td>\n",
       "      <td>5528</td>\n",
       "    </tr>\n",
       "    <tr>\n",
       "      <th>6</th>\n",
       "      <td>Ringgold</td>\n",
       "      <td>4922</td>\n",
       "    </tr>\n",
       "    <tr>\n",
       "      <th>92</th>\n",
       "      <td>Adams</td>\n",
       "      <td>3633</td>\n",
       "    </tr>\n",
       "  </tbody>\n",
       "</table>\n",
       "</div>"
      ],
      "text/plain": [
       "             name  Population\n",
       "46           Polk      485418\n",
       "36           Linn      225601\n",
       "34          Scott      172938\n",
       "10        Johnson      150819\n",
       "16     Black Hawk      131813\n",
       "35       Woodbury      102687\n",
       "68          Story       97355\n",
       "90        Dubuque       97193\n",
       "47  Pottawattamie       93478\n",
       "9          Dallas       90418\n",
       "2          Warren       50867\n",
       "70        Clinton       46734\n",
       "8       Muscatine       42703\n",
       "22    Cerro Gordo       42672\n",
       "95       Marshall       39804\n",
       "56     Des Moines       39227\n",
       "25         Jasper       37032\n",
       "45        Webster       36348\n",
       "48        Wapello       35102\n",
       "59          Sioux       34900\n",
       "69            Lee       33946\n",
       "85         Marion       33193\n",
       "24          Boone       26381\n",
       "54         Benton       25558\n",
       "74       Plymouth       25141\n",
       "66         Bremer       25032\n",
       "96        Mahaska       22351\n",
       "58     Washington       22100\n",
       "26       Buchanan       21141\n",
       "7           Jones       20575\n",
       "93        Carroll       20150\n",
       "86     Winneshiek       20090\n",
       "67    Buena Vista       19950\n",
       "94          Henry       19889\n",
       "49        Fayette       19604\n",
       "30        Jackson       19348\n",
       "0           Cedar       18475\n",
       "72      Poweshiek       18391\n",
       "23      Jefferson       18153\n",
       "79        Clayton       17527\n",
       "20      Dickinson       17260\n",
       "80       Delaware       17107\n",
       "31       Crawford       16998\n",
       "76           Tama       16962\n",
       "12         Hardin       16924\n",
       "82           Iowa       16155\n",
       "3         Madison       16148\n",
       "21           Clay       16138\n",
       "63          Floyd       15713\n",
       "81           Page       15205\n",
       "55          Mills       15023\n",
       "42       Hamilton       14905\n",
       "43        Kossuth       14864\n",
       "98         Butler       14508\n",
       "44       Harrison       14043\n",
       "57        O'Brien       13796\n",
       "87      Allamakee       13761\n",
       "60           Cass       12990\n",
       "91         Wright       12644\n",
       "64      Appanoose       12462\n",
       "61          Union       12303\n",
       "78         Grundy       12262\n",
       "88      Chickasaw       11970\n",
       "18           Lyon       11800\n",
       "4          Shelby       11544\n",
       "15       Cherokee       11281\n",
       "65         Louisa       11125\n",
       "89        Hancock       10709\n",
       "38        Guthrie       10702\n",
       "29       Mitchell       10588\n",
       "13      Winnebago       10474\n",
       "73         Keokuk       10163\n",
       "52       Franklin       10091\n",
       "17     Montgomery       10016\n",
       "62            Sac        9711\n",
       "39        Calhoun        9656\n",
       "50       Humboldt        9518\n",
       "77         Clarke        9383\n",
       "83          Emmet        9322\n",
       "1          Howard        9201\n",
       "11          Davis        8977\n",
       "32      Palo Alto        8941\n",
       "75         Greene        8923\n",
       "84         Monona        8675\n",
       "51          Lucas        8556\n",
       "27        Decatur        7908\n",
       "5          Monroe        7761\n",
       "19          Worth        7422\n",
       "14      Van Buren        7104\n",
       "71          Adair        7048\n",
       "41        Fremont        6895\n",
       "53            Ida        6862\n",
       "28     Pocahontas        6725\n",
       "40          Wayne        6426\n",
       "33         Taylor        6160\n",
       "37        Osceola        6016\n",
       "97        Audubon        5528\n",
       "6        Ringgold        4922\n",
       "92          Adams        3633"
      ]
     },
     "execution_count": 54,
     "metadata": {},
     "output_type": "execute_result"
    }
   ],
   "source": [
    "pd.set_option('display.max_columns', None)\n",
    "\n",
    "pd.set_option('display.max_rows', None)\n",
    "\n",
    "iowa_pop_gdf[['name','Population']].sort_values(by='Population', ascending=False)\n"
   ]
  },
  {
   "cell_type": "code",
   "execution_count": 49,
   "id": "672dd97c",
   "metadata": {},
   "outputs": [
    {
     "data": {
      "text/plain": [
       "[('metdivfp', 99, 1.0), ('csafp', 74, 0.7475), ('cbsafp', 61, 0.6162)]"
      ]
     },
     "execution_count": 49,
     "metadata": {},
     "output_type": "execute_result"
    }
   ],
   "source": [
    "miss_cols(iowa_pop_stores_gdf) #left"
   ]
  },
  {
   "cell_type": "code",
   "execution_count": 50,
   "id": "9b74ed50",
   "metadata": {},
   "outputs": [
    {
     "data": {
      "text/plain": [
       "[('metdivfp', 99, 1.0), ('csafp', 74, 0.7475), ('cbsafp', 61, 0.6162)]"
      ]
     },
     "execution_count": 50,
     "metadata": {},
     "output_type": "execute_result"
    }
   ],
   "source": [
    "miss_cols(iowa_pop_stores_gdf) #right"
   ]
  },
  {
   "cell_type": "code",
   "execution_count": 51,
   "id": "a7ccf9fa",
   "metadata": {},
   "outputs": [
    {
     "ename": "KeyError",
     "evalue": "'county_check'",
     "output_type": "error",
     "traceback": [
      "\u001b[1;31m---------------------------------------------------------------------------\u001b[0m",
      "\u001b[1;31mKeyError\u001b[0m                                  Traceback (most recent call last)",
      "\u001b[1;32m~\\anaconda3_reinstall\\lib\\site-packages\\pandas\\core\\indexes\\base.py\u001b[0m in \u001b[0;36mget_loc\u001b[1;34m(self, key, method, tolerance)\u001b[0m\n\u001b[0;32m   3620\u001b[0m             \u001b[1;32mtry\u001b[0m\u001b[1;33m:\u001b[0m\u001b[1;33m\u001b[0m\u001b[1;33m\u001b[0m\u001b[0m\n\u001b[1;32m-> 3621\u001b[1;33m                 \u001b[1;32mreturn\u001b[0m \u001b[0mself\u001b[0m\u001b[1;33m.\u001b[0m\u001b[0m_engine\u001b[0m\u001b[1;33m.\u001b[0m\u001b[0mget_loc\u001b[0m\u001b[1;33m(\u001b[0m\u001b[0mcasted_key\u001b[0m\u001b[1;33m)\u001b[0m\u001b[1;33m\u001b[0m\u001b[1;33m\u001b[0m\u001b[0m\n\u001b[0m\u001b[0;32m   3622\u001b[0m             \u001b[1;32mexcept\u001b[0m \u001b[0mKeyError\u001b[0m \u001b[1;32mas\u001b[0m \u001b[0merr\u001b[0m\u001b[1;33m:\u001b[0m\u001b[1;33m\u001b[0m\u001b[1;33m\u001b[0m\u001b[0m\n",
      "\u001b[1;32m~\\anaconda3_reinstall\\lib\\site-packages\\pandas\\_libs\\index.pyx\u001b[0m in \u001b[0;36mpandas._libs.index.IndexEngine.get_loc\u001b[1;34m()\u001b[0m\n",
      "\u001b[1;32m~\\anaconda3_reinstall\\lib\\site-packages\\pandas\\_libs\\index.pyx\u001b[0m in \u001b[0;36mpandas._libs.index.IndexEngine.get_loc\u001b[1;34m()\u001b[0m\n",
      "\u001b[1;32mpandas\\_libs\\hashtable_class_helper.pxi\u001b[0m in \u001b[0;36mpandas._libs.hashtable.PyObjectHashTable.get_item\u001b[1;34m()\u001b[0m\n",
      "\u001b[1;32mpandas\\_libs\\hashtable_class_helper.pxi\u001b[0m in \u001b[0;36mpandas._libs.hashtable.PyObjectHashTable.get_item\u001b[1;34m()\u001b[0m\n",
      "\u001b[1;31mKeyError\u001b[0m: 'county_check'",
      "\nThe above exception was the direct cause of the following exception:\n",
      "\u001b[1;31mKeyError\u001b[0m                                  Traceback (most recent call last)",
      "\u001b[1;32m~\\AppData\\Local\\Temp/ipykernel_18020/1174569438.py\u001b[0m in \u001b[0;36m<module>\u001b[1;34m\u001b[0m\n\u001b[0;32m      1\u001b[0m \u001b[1;31m# right join\u001b[0m\u001b[1;33m\u001b[0m\u001b[1;33m\u001b[0m\u001b[0m\n\u001b[1;32m----> 2\u001b[1;33m \u001b[0miowa_pop_stores_gdf\u001b[0m\u001b[1;33m.\u001b[0m\u001b[0mloc\u001b[0m\u001b[1;33m[\u001b[0m\u001b[0miowa_pop_stores_gdf\u001b[0m\u001b[1;33m.\u001b[0m\u001b[0mname\u001b[0m\u001b[1;33m.\u001b[0m\u001b[0misna\u001b[0m\u001b[1;33m(\u001b[0m\u001b[1;33m)\u001b[0m\u001b[1;33m,\u001b[0m\u001b[1;34m'county_check'\u001b[0m \u001b[1;33m]\u001b[0m\u001b[1;33m\u001b[0m\u001b[1;33m\u001b[0m\u001b[0m\n\u001b[0m",
      "\u001b[1;32m~\\anaconda3_reinstall\\lib\\site-packages\\pandas\\core\\indexing.py\u001b[0m in \u001b[0;36m__getitem__\u001b[1;34m(self, key)\u001b[0m\n\u001b[0;32m    959\u001b[0m             \u001b[1;32mif\u001b[0m \u001b[0mself\u001b[0m\u001b[1;33m.\u001b[0m\u001b[0m_is_scalar_access\u001b[0m\u001b[1;33m(\u001b[0m\u001b[0mkey\u001b[0m\u001b[1;33m)\u001b[0m\u001b[1;33m:\u001b[0m\u001b[1;33m\u001b[0m\u001b[1;33m\u001b[0m\u001b[0m\n\u001b[0;32m    960\u001b[0m                 \u001b[1;32mreturn\u001b[0m \u001b[0mself\u001b[0m\u001b[1;33m.\u001b[0m\u001b[0mobj\u001b[0m\u001b[1;33m.\u001b[0m\u001b[0m_get_value\u001b[0m\u001b[1;33m(\u001b[0m\u001b[1;33m*\u001b[0m\u001b[0mkey\u001b[0m\u001b[1;33m,\u001b[0m \u001b[0mtakeable\u001b[0m\u001b[1;33m=\u001b[0m\u001b[0mself\u001b[0m\u001b[1;33m.\u001b[0m\u001b[0m_takeable\u001b[0m\u001b[1;33m)\u001b[0m\u001b[1;33m\u001b[0m\u001b[1;33m\u001b[0m\u001b[0m\n\u001b[1;32m--> 961\u001b[1;33m             \u001b[1;32mreturn\u001b[0m \u001b[0mself\u001b[0m\u001b[1;33m.\u001b[0m\u001b[0m_getitem_tuple\u001b[0m\u001b[1;33m(\u001b[0m\u001b[0mkey\u001b[0m\u001b[1;33m)\u001b[0m\u001b[1;33m\u001b[0m\u001b[1;33m\u001b[0m\u001b[0m\n\u001b[0m\u001b[0;32m    962\u001b[0m         \u001b[1;32melse\u001b[0m\u001b[1;33m:\u001b[0m\u001b[1;33m\u001b[0m\u001b[1;33m\u001b[0m\u001b[0m\n\u001b[0;32m    963\u001b[0m             \u001b[1;31m# we by definition only have the 0th axis\u001b[0m\u001b[1;33m\u001b[0m\u001b[1;33m\u001b[0m\u001b[0m\n",
      "\u001b[1;32m~\\anaconda3_reinstall\\lib\\site-packages\\pandas\\core\\indexing.py\u001b[0m in \u001b[0;36m_getitem_tuple\u001b[1;34m(self, tup)\u001b[0m\n\u001b[0;32m   1138\u001b[0m         \u001b[1;32mwith\u001b[0m \u001b[0msuppress\u001b[0m\u001b[1;33m(\u001b[0m\u001b[0mIndexingError\u001b[0m\u001b[1;33m)\u001b[0m\u001b[1;33m:\u001b[0m\u001b[1;33m\u001b[0m\u001b[1;33m\u001b[0m\u001b[0m\n\u001b[0;32m   1139\u001b[0m             \u001b[0mtup\u001b[0m \u001b[1;33m=\u001b[0m \u001b[0mself\u001b[0m\u001b[1;33m.\u001b[0m\u001b[0m_expand_ellipsis\u001b[0m\u001b[1;33m(\u001b[0m\u001b[0mtup\u001b[0m\u001b[1;33m)\u001b[0m\u001b[1;33m\u001b[0m\u001b[1;33m\u001b[0m\u001b[0m\n\u001b[1;32m-> 1140\u001b[1;33m             \u001b[1;32mreturn\u001b[0m \u001b[0mself\u001b[0m\u001b[1;33m.\u001b[0m\u001b[0m_getitem_lowerdim\u001b[0m\u001b[1;33m(\u001b[0m\u001b[0mtup\u001b[0m\u001b[1;33m)\u001b[0m\u001b[1;33m\u001b[0m\u001b[1;33m\u001b[0m\u001b[0m\n\u001b[0m\u001b[0;32m   1141\u001b[0m \u001b[1;33m\u001b[0m\u001b[0m\n\u001b[0;32m   1142\u001b[0m         \u001b[1;31m# no multi-index, so validate all of the indexers\u001b[0m\u001b[1;33m\u001b[0m\u001b[1;33m\u001b[0m\u001b[0m\n",
      "\u001b[1;32m~\\anaconda3_reinstall\\lib\\site-packages\\pandas\\core\\indexing.py\u001b[0m in \u001b[0;36m_getitem_lowerdim\u001b[1;34m(self, tup)\u001b[0m\n\u001b[0;32m    865\u001b[0m                 \u001b[1;31m# We don't need to check for tuples here because those are\u001b[0m\u001b[1;33m\u001b[0m\u001b[1;33m\u001b[0m\u001b[0m\n\u001b[0;32m    866\u001b[0m                 \u001b[1;31m#  caught by the _is_nested_tuple_indexer check above.\u001b[0m\u001b[1;33m\u001b[0m\u001b[1;33m\u001b[0m\u001b[0m\n\u001b[1;32m--> 867\u001b[1;33m                 \u001b[0msection\u001b[0m \u001b[1;33m=\u001b[0m \u001b[0mself\u001b[0m\u001b[1;33m.\u001b[0m\u001b[0m_getitem_axis\u001b[0m\u001b[1;33m(\u001b[0m\u001b[0mkey\u001b[0m\u001b[1;33m,\u001b[0m \u001b[0maxis\u001b[0m\u001b[1;33m=\u001b[0m\u001b[0mi\u001b[0m\u001b[1;33m)\u001b[0m\u001b[1;33m\u001b[0m\u001b[1;33m\u001b[0m\u001b[0m\n\u001b[0m\u001b[0;32m    868\u001b[0m \u001b[1;33m\u001b[0m\u001b[0m\n\u001b[0;32m    869\u001b[0m                 \u001b[1;31m# We should never have a scalar section here, because\u001b[0m\u001b[1;33m\u001b[0m\u001b[1;33m\u001b[0m\u001b[0m\n",
      "\u001b[1;32m~\\anaconda3_reinstall\\lib\\site-packages\\pandas\\core\\indexing.py\u001b[0m in \u001b[0;36m_getitem_axis\u001b[1;34m(self, key, axis)\u001b[0m\n\u001b[0;32m   1200\u001b[0m         \u001b[1;31m# fall thru to straight lookup\u001b[0m\u001b[1;33m\u001b[0m\u001b[1;33m\u001b[0m\u001b[0m\n\u001b[0;32m   1201\u001b[0m         \u001b[0mself\u001b[0m\u001b[1;33m.\u001b[0m\u001b[0m_validate_key\u001b[0m\u001b[1;33m(\u001b[0m\u001b[0mkey\u001b[0m\u001b[1;33m,\u001b[0m \u001b[0maxis\u001b[0m\u001b[1;33m)\u001b[0m\u001b[1;33m\u001b[0m\u001b[1;33m\u001b[0m\u001b[0m\n\u001b[1;32m-> 1202\u001b[1;33m         \u001b[1;32mreturn\u001b[0m \u001b[0mself\u001b[0m\u001b[1;33m.\u001b[0m\u001b[0m_get_label\u001b[0m\u001b[1;33m(\u001b[0m\u001b[0mkey\u001b[0m\u001b[1;33m,\u001b[0m \u001b[0maxis\u001b[0m\u001b[1;33m=\u001b[0m\u001b[0maxis\u001b[0m\u001b[1;33m)\u001b[0m\u001b[1;33m\u001b[0m\u001b[1;33m\u001b[0m\u001b[0m\n\u001b[0m\u001b[0;32m   1203\u001b[0m \u001b[1;33m\u001b[0m\u001b[0m\n\u001b[0;32m   1204\u001b[0m     \u001b[1;32mdef\u001b[0m \u001b[0m_get_slice_axis\u001b[0m\u001b[1;33m(\u001b[0m\u001b[0mself\u001b[0m\u001b[1;33m,\u001b[0m \u001b[0mslice_obj\u001b[0m\u001b[1;33m:\u001b[0m \u001b[0mslice\u001b[0m\u001b[1;33m,\u001b[0m \u001b[0maxis\u001b[0m\u001b[1;33m:\u001b[0m \u001b[0mint\u001b[0m\u001b[1;33m)\u001b[0m\u001b[1;33m:\u001b[0m\u001b[1;33m\u001b[0m\u001b[1;33m\u001b[0m\u001b[0m\n",
      "\u001b[1;32m~\\anaconda3_reinstall\\lib\\site-packages\\pandas\\core\\indexing.py\u001b[0m in \u001b[0;36m_get_label\u001b[1;34m(self, label, axis)\u001b[0m\n\u001b[0;32m   1151\u001b[0m     \u001b[1;32mdef\u001b[0m \u001b[0m_get_label\u001b[0m\u001b[1;33m(\u001b[0m\u001b[0mself\u001b[0m\u001b[1;33m,\u001b[0m \u001b[0mlabel\u001b[0m\u001b[1;33m,\u001b[0m \u001b[0maxis\u001b[0m\u001b[1;33m:\u001b[0m \u001b[0mint\u001b[0m\u001b[1;33m)\u001b[0m\u001b[1;33m:\u001b[0m\u001b[1;33m\u001b[0m\u001b[1;33m\u001b[0m\u001b[0m\n\u001b[0;32m   1152\u001b[0m         \u001b[1;31m# GH#5667 this will fail if the label is not present in the axis.\u001b[0m\u001b[1;33m\u001b[0m\u001b[1;33m\u001b[0m\u001b[0m\n\u001b[1;32m-> 1153\u001b[1;33m         \u001b[1;32mreturn\u001b[0m \u001b[0mself\u001b[0m\u001b[1;33m.\u001b[0m\u001b[0mobj\u001b[0m\u001b[1;33m.\u001b[0m\u001b[0mxs\u001b[0m\u001b[1;33m(\u001b[0m\u001b[0mlabel\u001b[0m\u001b[1;33m,\u001b[0m \u001b[0maxis\u001b[0m\u001b[1;33m=\u001b[0m\u001b[0maxis\u001b[0m\u001b[1;33m)\u001b[0m\u001b[1;33m\u001b[0m\u001b[1;33m\u001b[0m\u001b[0m\n\u001b[0m\u001b[0;32m   1154\u001b[0m \u001b[1;33m\u001b[0m\u001b[0m\n\u001b[0;32m   1155\u001b[0m     \u001b[1;32mdef\u001b[0m \u001b[0m_handle_lowerdim_multi_index_axis0\u001b[0m\u001b[1;33m(\u001b[0m\u001b[0mself\u001b[0m\u001b[1;33m,\u001b[0m \u001b[0mtup\u001b[0m\u001b[1;33m:\u001b[0m \u001b[0mtuple\u001b[0m\u001b[1;33m)\u001b[0m\u001b[1;33m:\u001b[0m\u001b[1;33m\u001b[0m\u001b[1;33m\u001b[0m\u001b[0m\n",
      "\u001b[1;32m~\\anaconda3_reinstall\\lib\\site-packages\\pandas\\core\\generic.py\u001b[0m in \u001b[0;36mxs\u001b[1;34m(self, key, axis, level, drop_level)\u001b[0m\n\u001b[0;32m   3847\u001b[0m         \u001b[1;32mif\u001b[0m \u001b[0maxis\u001b[0m \u001b[1;33m==\u001b[0m \u001b[1;36m1\u001b[0m\u001b[1;33m:\u001b[0m\u001b[1;33m\u001b[0m\u001b[1;33m\u001b[0m\u001b[0m\n\u001b[0;32m   3848\u001b[0m             \u001b[1;32mif\u001b[0m \u001b[0mdrop_level\u001b[0m\u001b[1;33m:\u001b[0m\u001b[1;33m\u001b[0m\u001b[1;33m\u001b[0m\u001b[0m\n\u001b[1;32m-> 3849\u001b[1;33m                 \u001b[1;32mreturn\u001b[0m \u001b[0mself\u001b[0m\u001b[1;33m[\u001b[0m\u001b[0mkey\u001b[0m\u001b[1;33m]\u001b[0m\u001b[1;33m\u001b[0m\u001b[1;33m\u001b[0m\u001b[0m\n\u001b[0m\u001b[0;32m   3850\u001b[0m             \u001b[0mindex\u001b[0m \u001b[1;33m=\u001b[0m \u001b[0mself\u001b[0m\u001b[1;33m.\u001b[0m\u001b[0mcolumns\u001b[0m\u001b[1;33m\u001b[0m\u001b[1;33m\u001b[0m\u001b[0m\n\u001b[0;32m   3851\u001b[0m         \u001b[1;32melse\u001b[0m\u001b[1;33m:\u001b[0m\u001b[1;33m\u001b[0m\u001b[1;33m\u001b[0m\u001b[0m\n",
      "\u001b[1;32m~\\anaconda3_reinstall\\lib\\site-packages\\geopandas\\geodataframe.py\u001b[0m in \u001b[0;36m__getitem__\u001b[1;34m(self, key)\u001b[0m\n\u001b[0;32m    555\u001b[0m         \u001b[0mGeoDataFrame\u001b[0m\u001b[1;33m.\u001b[0m\u001b[1;33m\u001b[0m\u001b[1;33m\u001b[0m\u001b[0m\n\u001b[0;32m    556\u001b[0m         \"\"\"\n\u001b[1;32m--> 557\u001b[1;33m         \u001b[0mresult\u001b[0m \u001b[1;33m=\u001b[0m \u001b[0msuper\u001b[0m\u001b[1;33m(\u001b[0m\u001b[0mGeoDataFrame\u001b[0m\u001b[1;33m,\u001b[0m \u001b[0mself\u001b[0m\u001b[1;33m)\u001b[0m\u001b[1;33m.\u001b[0m\u001b[0m__getitem__\u001b[0m\u001b[1;33m(\u001b[0m\u001b[0mkey\u001b[0m\u001b[1;33m)\u001b[0m\u001b[1;33m\u001b[0m\u001b[1;33m\u001b[0m\u001b[0m\n\u001b[0m\u001b[0;32m    558\u001b[0m         \u001b[0mgeo_col\u001b[0m \u001b[1;33m=\u001b[0m \u001b[0mself\u001b[0m\u001b[1;33m.\u001b[0m\u001b[0m_geometry_column_name\u001b[0m\u001b[1;33m\u001b[0m\u001b[1;33m\u001b[0m\u001b[0m\n\u001b[0;32m    559\u001b[0m         \u001b[1;32mif\u001b[0m \u001b[0misinstance\u001b[0m\u001b[1;33m(\u001b[0m\u001b[0mkey\u001b[0m\u001b[1;33m,\u001b[0m \u001b[0mstring_types\u001b[0m\u001b[1;33m)\u001b[0m \u001b[1;32mand\u001b[0m \u001b[0mkey\u001b[0m \u001b[1;33m==\u001b[0m \u001b[0mgeo_col\u001b[0m\u001b[1;33m:\u001b[0m\u001b[1;33m\u001b[0m\u001b[1;33m\u001b[0m\u001b[0m\n",
      "\u001b[1;32m~\\anaconda3_reinstall\\lib\\site-packages\\pandas\\core\\frame.py\u001b[0m in \u001b[0;36m__getitem__\u001b[1;34m(self, key)\u001b[0m\n\u001b[0;32m   3503\u001b[0m             \u001b[1;32mif\u001b[0m \u001b[0mself\u001b[0m\u001b[1;33m.\u001b[0m\u001b[0mcolumns\u001b[0m\u001b[1;33m.\u001b[0m\u001b[0mnlevels\u001b[0m \u001b[1;33m>\u001b[0m \u001b[1;36m1\u001b[0m\u001b[1;33m:\u001b[0m\u001b[1;33m\u001b[0m\u001b[1;33m\u001b[0m\u001b[0m\n\u001b[0;32m   3504\u001b[0m                 \u001b[1;32mreturn\u001b[0m \u001b[0mself\u001b[0m\u001b[1;33m.\u001b[0m\u001b[0m_getitem_multilevel\u001b[0m\u001b[1;33m(\u001b[0m\u001b[0mkey\u001b[0m\u001b[1;33m)\u001b[0m\u001b[1;33m\u001b[0m\u001b[1;33m\u001b[0m\u001b[0m\n\u001b[1;32m-> 3505\u001b[1;33m             \u001b[0mindexer\u001b[0m \u001b[1;33m=\u001b[0m \u001b[0mself\u001b[0m\u001b[1;33m.\u001b[0m\u001b[0mcolumns\u001b[0m\u001b[1;33m.\u001b[0m\u001b[0mget_loc\u001b[0m\u001b[1;33m(\u001b[0m\u001b[0mkey\u001b[0m\u001b[1;33m)\u001b[0m\u001b[1;33m\u001b[0m\u001b[1;33m\u001b[0m\u001b[0m\n\u001b[0m\u001b[0;32m   3506\u001b[0m             \u001b[1;32mif\u001b[0m \u001b[0mis_integer\u001b[0m\u001b[1;33m(\u001b[0m\u001b[0mindexer\u001b[0m\u001b[1;33m)\u001b[0m\u001b[1;33m:\u001b[0m\u001b[1;33m\u001b[0m\u001b[1;33m\u001b[0m\u001b[0m\n\u001b[0;32m   3507\u001b[0m                 \u001b[0mindexer\u001b[0m \u001b[1;33m=\u001b[0m \u001b[1;33m[\u001b[0m\u001b[0mindexer\u001b[0m\u001b[1;33m]\u001b[0m\u001b[1;33m\u001b[0m\u001b[1;33m\u001b[0m\u001b[0m\n",
      "\u001b[1;32m~\\anaconda3_reinstall\\lib\\site-packages\\pandas\\core\\indexes\\base.py\u001b[0m in \u001b[0;36mget_loc\u001b[1;34m(self, key, method, tolerance)\u001b[0m\n\u001b[0;32m   3621\u001b[0m                 \u001b[1;32mreturn\u001b[0m \u001b[0mself\u001b[0m\u001b[1;33m.\u001b[0m\u001b[0m_engine\u001b[0m\u001b[1;33m.\u001b[0m\u001b[0mget_loc\u001b[0m\u001b[1;33m(\u001b[0m\u001b[0mcasted_key\u001b[0m\u001b[1;33m)\u001b[0m\u001b[1;33m\u001b[0m\u001b[1;33m\u001b[0m\u001b[0m\n\u001b[0;32m   3622\u001b[0m             \u001b[1;32mexcept\u001b[0m \u001b[0mKeyError\u001b[0m \u001b[1;32mas\u001b[0m \u001b[0merr\u001b[0m\u001b[1;33m:\u001b[0m\u001b[1;33m\u001b[0m\u001b[1;33m\u001b[0m\u001b[0m\n\u001b[1;32m-> 3623\u001b[1;33m                 \u001b[1;32mraise\u001b[0m \u001b[0mKeyError\u001b[0m\u001b[1;33m(\u001b[0m\u001b[0mkey\u001b[0m\u001b[1;33m)\u001b[0m \u001b[1;32mfrom\u001b[0m \u001b[0merr\u001b[0m\u001b[1;33m\u001b[0m\u001b[1;33m\u001b[0m\u001b[0m\n\u001b[0m\u001b[0;32m   3624\u001b[0m             \u001b[1;32mexcept\u001b[0m \u001b[0mTypeError\u001b[0m\u001b[1;33m:\u001b[0m\u001b[1;33m\u001b[0m\u001b[1;33m\u001b[0m\u001b[0m\n\u001b[0;32m   3625\u001b[0m                 \u001b[1;31m# If we have a listlike key, _check_indexing_error will raise\u001b[0m\u001b[1;33m\u001b[0m\u001b[1;33m\u001b[0m\u001b[0m\n",
      "\u001b[1;31mKeyError\u001b[0m: 'county_check'"
     ]
    }
   ],
   "source": [
    "# right join\n",
    "iowa_pop_stores_gdf.loc[iowa_pop_stores_gdf.name.isna(),'county_check' ]"
   ]
  },
  {
   "cell_type": "code",
   "execution_count": null,
   "id": "eadd24fe",
   "metadata": {},
   "outputs": [],
   "source": [
    "# left join\n",
    "iowa_pop_stores_gdf.loc[iowa_pop_stores_gdf.Store_Number.isna(), 'name' ]"
   ]
  },
  {
   "cell_type": "code",
   "execution_count": null,
   "id": "038f54fe",
   "metadata": {},
   "outputs": [],
   "source": [
    "ax = iowa_pop_stores_gdf.plot(column='Store_Number',legend = True, figsize=(15, 10))\n",
    "ax.set_axis_off(); # turns off axis labels"
   ]
  },
  {
   "cell_type": "code",
   "execution_count": null,
   "id": "d0f48bcc",
   "metadata": {},
   "outputs": [],
   "source": [
    "loc_gdf = gpd.GeoDataFrame(d, crs=iowa_pop_gdf.crs)\n",
    "type(loc_gdf)\n",
    "loc_gdf"
   ]
  },
  {
   "cell_type": "code",
   "execution_count": null,
   "id": "f4e826cd",
   "metadata": {},
   "outputs": [],
   "source": [
    "loc_gdf.plot(marker='*', markersize=5);\n",
    "# locations_gpd.to_crs(iowa_pop_gdf)"
   ]
  },
  {
   "cell_type": "code",
   "execution_count": null,
   "id": "57d4c4ba",
   "metadata": {},
   "outputs": [],
   "source": [
    "# iowa.head(3)\n",
    "# iowa.info()"
   ]
  },
  {
   "cell_type": "code",
   "execution_count": null,
   "id": "4e3b44ad",
   "metadata": {},
   "outputs": [],
   "source": []
  },
  {
   "cell_type": "code",
   "execution_count": null,
   "id": "f1cd5d04",
   "metadata": {},
   "outputs": [],
   "source": [
    "\n",
    "\n"
   ]
  }
 ],
 "metadata": {
  "kernelspec": {
   "display_name": "Python 3 (ipykernel)",
   "language": "python",
   "name": "python3"
  },
  "language_info": {
   "codemirror_mode": {
    "name": "ipython",
    "version": 3
   },
   "file_extension": ".py",
   "mimetype": "text/x-python",
   "name": "python",
   "nbconvert_exporter": "python",
   "pygments_lexer": "ipython3",
   "version": "3.9.7"
  }
 },
 "nbformat": 4,
 "nbformat_minor": 5
}

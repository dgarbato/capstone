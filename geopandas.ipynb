{
 "cells": [
  {
   "cell_type": "code",
   "execution_count": 1,
   "id": "9d1661b1",
   "metadata": {},
   "outputs": [],
   "source": [
    "import pandas as pd"
   ]
  },
  {
   "cell_type": "code",
   "execution_count": 14,
   "id": "1beac9fb",
   "metadata": {},
   "outputs": [],
   "source": [
    "import descartes\n",
    "import geopandas as gpd\n",
    "import numpy as np\n",
    "import matplotlib.pyplot as plt\n",
    "from shapely.geometry import Point, Polygon\n",
    "%matplotlib inline\n"
   ]
  },
  {
   "cell_type": "code",
   "execution_count": 5,
   "id": "b13f6d1c",
   "metadata": {},
   "outputs": [],
   "source": [
    "pop_by_county = pd.read_csv(r'C:\\Users\\dgarb\\OneDrive\\Desktop\\Capstone Data\\census data\\Iowa population by county from Iowa demographics.csv')"
   ]
  },
  {
   "cell_type": "code",
   "execution_count": 18,
   "id": "1044f9a5",
   "metadata": {},
   "outputs": [],
   "source": [
    "# pop_by_county[['County','Population']]"
   ]
  },
  {
   "cell_type": "code",
   "execution_count": 36,
   "id": "f51fae9a",
   "metadata": {},
   "outputs": [],
   "source": [
    "# s.replace('is','was')\n",
    "pop_by_county['county2'] = pop_by_county.County.str.replace(' County','')\n"
   ]
  },
  {
   "cell_type": "code",
   "execution_count": 39,
   "id": "6f3b0ae4",
   "metadata": {},
   "outputs": [
    {
     "data": {
      "text/html": [
       "<div>\n",
       "<style scoped>\n",
       "    .dataframe tbody tr th:only-of-type {\n",
       "        vertical-align: middle;\n",
       "    }\n",
       "\n",
       "    .dataframe tbody tr th {\n",
       "        vertical-align: top;\n",
       "    }\n",
       "\n",
       "    .dataframe thead th {\n",
       "        text-align: right;\n",
       "    }\n",
       "</style>\n",
       "<table border=\"1\" class=\"dataframe\">\n",
       "  <thead>\n",
       "    <tr style=\"text-align: right;\">\n",
       "      <th></th>\n",
       "      <th>Rank</th>\n",
       "      <th>County</th>\n",
       "      <th>Population</th>\n",
       "      <th>county2</th>\n",
       "    </tr>\n",
       "  </thead>\n",
       "  <tbody>\n",
       "    <tr>\n",
       "      <th>0</th>\n",
       "      <td>1</td>\n",
       "      <td>Polk County</td>\n",
       "      <td>485418</td>\n",
       "      <td>Polk</td>\n",
       "    </tr>\n",
       "    <tr>\n",
       "      <th>1</th>\n",
       "      <td>2</td>\n",
       "      <td>Linn County</td>\n",
       "      <td>225601</td>\n",
       "      <td>Linn</td>\n",
       "    </tr>\n",
       "    <tr>\n",
       "      <th>2</th>\n",
       "      <td>3</td>\n",
       "      <td>Scott County</td>\n",
       "      <td>172938</td>\n",
       "      <td>Scott</td>\n",
       "    </tr>\n",
       "    <tr>\n",
       "      <th>3</th>\n",
       "      <td>4</td>\n",
       "      <td>Johnson County</td>\n",
       "      <td>150819</td>\n",
       "      <td>Johnson</td>\n",
       "    </tr>\n",
       "    <tr>\n",
       "      <th>4</th>\n",
       "      <td>5</td>\n",
       "      <td>Black Hawk County</td>\n",
       "      <td>131813</td>\n",
       "      <td>Black Hawk</td>\n",
       "    </tr>\n",
       "  </tbody>\n",
       "</table>\n",
       "</div>"
      ],
      "text/plain": [
       "   Rank             County  Population     county2\n",
       "0     1        Polk County      485418        Polk\n",
       "1     2        Linn County      225601        Linn\n",
       "2     3       Scott County      172938       Scott\n",
       "3     4     Johnson County      150819     Johnson\n",
       "4     5  Black Hawk County      131813  Black Hawk"
      ]
     },
     "execution_count": 39,
     "metadata": {},
     "output_type": "execute_result"
    }
   ],
   "source": [
    "# pop_by_county.set_index('county2')\n",
    "pop_by_county.head()"
   ]
  },
  {
   "cell_type": "code",
   "execution_count": 2,
   "id": "0eefa9ae",
   "metadata": {},
   "outputs": [],
   "source": [
    "sdtypes = {'Store_Number':str,'Zip_Code':str, 'Store_Location':str, 'County_Number':str}"
   ]
  },
  {
   "cell_type": "code",
   "execution_count": 3,
   "id": "6bd746d4",
   "metadata": {},
   "outputs": [],
   "source": [
    "stores = pd.read_csv(r'C:\\Users\\dgarb\\OneDrive\\Desktop\\Capstone Data\\liquor_2021\\stores_2021.csv',index_col=0, dtype=sdtypes)"
   ]
  },
  {
   "cell_type": "code",
   "execution_count": 15,
   "id": "560e6b5a",
   "metadata": {},
   "outputs": [
    {
     "name": "stdout",
     "output_type": "stream",
     "text": [
      "<class 'pandas.core.frame.DataFrame'>\n",
      "Int64Index: 1948 entries, 223124 to 1094183\n",
      "Data columns (total 8 columns):\n",
      " #   Column          Non-Null Count  Dtype \n",
      "---  ------          --------------  ----- \n",
      " 0   Store_Number    1948 non-null   object\n",
      " 1   Store_Name      1948 non-null   object\n",
      " 2   Address         1948 non-null   object\n",
      " 3   City            1948 non-null   object\n",
      " 4   Zip_Code        1948 non-null   object\n",
      " 5   Store_Location  1790 non-null   object\n",
      " 6   County_Number   1948 non-null   object\n",
      " 7   County          1948 non-null   object\n",
      "dtypes: object(8)\n",
      "memory usage: 137.0+ KB\n"
     ]
    }
   ],
   "source": [
    "stores.info()"
   ]
  },
  {
   "cell_type": "code",
   "execution_count": 20,
   "id": "d98cc816",
   "metadata": {},
   "outputs": [
    {
     "data": {
      "text/html": [
       "<div>\n",
       "<style scoped>\n",
       "    .dataframe tbody tr th:only-of-type {\n",
       "        vertical-align: middle;\n",
       "    }\n",
       "\n",
       "    .dataframe tbody tr th {\n",
       "        vertical-align: top;\n",
       "    }\n",
       "\n",
       "    .dataframe thead th {\n",
       "        text-align: right;\n",
       "    }\n",
       "</style>\n",
       "<table border=\"1\" class=\"dataframe\">\n",
       "  <thead>\n",
       "    <tr style=\"text-align: right;\">\n",
       "      <th></th>\n",
       "      <th>Store_Number</th>\n",
       "      <th>Store_Name</th>\n",
       "      <th>Address</th>\n",
       "      <th>City</th>\n",
       "      <th>Zip_Code</th>\n",
       "      <th>Store_Location</th>\n",
       "      <th>County_Number</th>\n",
       "      <th>County</th>\n",
       "    </tr>\n",
       "  </thead>\n",
       "  <tbody>\n",
       "    <tr>\n",
       "      <th>223124</th>\n",
       "      <td>3855</td>\n",
       "      <td>Dyno's Wine and Spirits / Storm Lake</td>\n",
       "      <td>1201 1/2 Lakeshore Dr</td>\n",
       "      <td>Storm Lake</td>\n",
       "      <td>50588</td>\n",
       "      <td>NaN</td>\n",
       "      <td>11</td>\n",
       "      <td>BUENA VIST</td>\n",
       "    </tr>\n",
       "    <tr>\n",
       "      <th>231153</th>\n",
       "      <td>4589</td>\n",
       "      <td>Dyno's #53 / Sibley</td>\n",
       "      <td>1026 2nd Ave</td>\n",
       "      <td>Sibley</td>\n",
       "      <td>51249</td>\n",
       "      <td>POINT (-95.752119 43.397431)</td>\n",
       "      <td>72</td>\n",
       "      <td>OSCEOLA</td>\n",
       "    </tr>\n",
       "    <tr>\n",
       "      <th>239961</th>\n",
       "      <td>5688</td>\n",
       "      <td>Dyno's #40 / Spencer</td>\n",
       "      <td>1001 S Grand Ave</td>\n",
       "      <td>Spencer</td>\n",
       "      <td>51301</td>\n",
       "      <td>POINT (-95.143701 43.12759)</td>\n",
       "      <td>21</td>\n",
       "      <td>CLAY</td>\n",
       "    </tr>\n",
       "    <tr>\n",
       "      <th>246141</th>\n",
       "      <td>4592</td>\n",
       "      <td>Dyno's #29 / Emmetsburg</td>\n",
       "      <td>2401, Main</td>\n",
       "      <td>Emmetsburg</td>\n",
       "      <td>50536</td>\n",
       "      <td>POINT (-94.681939 43.111913)</td>\n",
       "      <td>74</td>\n",
       "      <td>PALO ALTO</td>\n",
       "    </tr>\n",
       "    <tr>\n",
       "      <th>262897</th>\n",
       "      <td>5689</td>\n",
       "      <td>Dyno's #41 / Albert City</td>\n",
       "      <td>5101 230th St</td>\n",
       "      <td>Albert City</td>\n",
       "      <td>50510</td>\n",
       "      <td>POINT (-94.953239 42.777449)</td>\n",
       "      <td>11</td>\n",
       "      <td>BUENA VIST</td>\n",
       "    </tr>\n",
       "  </tbody>\n",
       "</table>\n",
       "</div>"
      ],
      "text/plain": [
       "       Store_Number                            Store_Name  \\\n",
       "223124         3855  Dyno's Wine and Spirits / Storm Lake   \n",
       "231153         4589                   Dyno's #53 / Sibley   \n",
       "239961         5688                  Dyno's #40 / Spencer   \n",
       "246141         4592               Dyno's #29 / Emmetsburg   \n",
       "262897         5689              Dyno's #41 / Albert City   \n",
       "\n",
       "                      Address         City Zip_Code  \\\n",
       "223124  1201 1/2 Lakeshore Dr   Storm Lake    50588   \n",
       "231153           1026 2nd Ave       Sibley    51249   \n",
       "239961       1001 S Grand Ave      Spencer    51301   \n",
       "246141             2401, Main   Emmetsburg    50536   \n",
       "262897          5101 230th St  Albert City    50510   \n",
       "\n",
       "                      Store_Location County_Number      County  \n",
       "223124                           NaN            11  BUENA VIST  \n",
       "231153  POINT (-95.752119 43.397431)            72     OSCEOLA  \n",
       "239961   POINT (-95.143701 43.12759)            21        CLAY  \n",
       "246141  POINT (-94.681939 43.111913)            74   PALO ALTO  \n",
       "262897  POINT (-94.953239 42.777449)            11  BUENA VIST  "
      ]
     },
     "execution_count": 20,
     "metadata": {},
     "output_type": "execute_result"
    }
   ],
   "source": [
    "stores.head()"
   ]
  },
  {
   "cell_type": "code",
   "execution_count": 27,
   "id": "4d78dd61",
   "metadata": {},
   "outputs": [],
   "source": [
    "stores['county_title'] = stores.County.str.title()"
   ]
  },
  {
   "cell_type": "code",
   "execution_count": 29,
   "id": "c343d778",
   "metadata": {},
   "outputs": [],
   "source": [
    "# stores['county_title'] "
   ]
  },
  {
   "cell_type": "code",
   "execution_count": 6,
   "id": "8bdc86e2",
   "metadata": {},
   "outputs": [
    {
     "name": "stderr",
     "output_type": "stream",
     "text": [
      "C:\\Users\\dgarb\\anaconda3_reinstall\\lib\\site-packages\\geopandas\\array.py:85: ShapelyDeprecationWarning: __len__ for multi-part geometries is deprecated and will be removed in Shapely 2.0. Check the length of the `geoms` property instead to get the  number of parts of a multi-part geometry.\n",
      "  aout[:] = out\n"
     ]
    }
   ],
   "source": [
    "# us = gpd.read_file(\"./data/us-county-boundaries/us-county-boundaries.shp\")\n",
    "us = gpd.read_file(r'C:\\Users\\dgarb\\OneDrive\\Desktop\\Capstone Data\\us-county-boundaries.shp')"
   ]
  },
  {
   "cell_type": "code",
   "execution_count": 12,
   "id": "b54e96fc",
   "metadata": {},
   "outputs": [
    {
     "data": {
      "text/html": [
       "<div>\n",
       "<style scoped>\n",
       "    .dataframe tbody tr th:only-of-type {\n",
       "        vertical-align: middle;\n",
       "    }\n",
       "\n",
       "    .dataframe tbody tr th {\n",
       "        vertical-align: top;\n",
       "    }\n",
       "\n",
       "    .dataframe thead th {\n",
       "        text-align: right;\n",
       "    }\n",
       "</style>\n",
       "<table border=\"1\" class=\"dataframe\">\n",
       "  <thead>\n",
       "    <tr style=\"text-align: right;\">\n",
       "      <th></th>\n",
       "      <th>statefp</th>\n",
       "      <th>countyfp</th>\n",
       "      <th>countyns</th>\n",
       "      <th>geoid</th>\n",
       "      <th>name</th>\n",
       "      <th>namelsad</th>\n",
       "      <th>stusab</th>\n",
       "      <th>lsad</th>\n",
       "      <th>classfp</th>\n",
       "      <th>mtfcc</th>\n",
       "      <th>...</th>\n",
       "      <th>cbsafp</th>\n",
       "      <th>metdivfp</th>\n",
       "      <th>funcstat</th>\n",
       "      <th>aland</th>\n",
       "      <th>awater</th>\n",
       "      <th>intptlat</th>\n",
       "      <th>intptlon</th>\n",
       "      <th>state_name</th>\n",
       "      <th>countyfp_no</th>\n",
       "      <th>geometry</th>\n",
       "    </tr>\n",
       "  </thead>\n",
       "  <tbody>\n",
       "    <tr>\n",
       "      <th>0</th>\n",
       "      <td>39</td>\n",
       "      <td>063</td>\n",
       "      <td>01074044</td>\n",
       "      <td>39063</td>\n",
       "      <td>Hancock</td>\n",
       "      <td>Hancock County</td>\n",
       "      <td>OH</td>\n",
       "      <td>06</td>\n",
       "      <td>H1</td>\n",
       "      <td>G4020</td>\n",
       "      <td>...</td>\n",
       "      <td>22300</td>\n",
       "      <td>None</td>\n",
       "      <td>A</td>\n",
       "      <td>1.376126e+09</td>\n",
       "      <td>6020647.0</td>\n",
       "      <td>+41.0004711</td>\n",
       "      <td>-083.6660335</td>\n",
       "      <td>Ohio</td>\n",
       "      <td>63</td>\n",
       "      <td>POLYGON ((-83.88076 41.08036, -83.88076 41.081...</td>\n",
       "    </tr>\n",
       "    <tr>\n",
       "      <th>1</th>\n",
       "      <td>51</td>\n",
       "      <td>179</td>\n",
       "      <td>01480173</td>\n",
       "      <td>51179</td>\n",
       "      <td>Stafford</td>\n",
       "      <td>Stafford County</td>\n",
       "      <td>VA</td>\n",
       "      <td>06</td>\n",
       "      <td>H1</td>\n",
       "      <td>G4020</td>\n",
       "      <td>...</td>\n",
       "      <td>47900</td>\n",
       "      <td>47894</td>\n",
       "      <td>A</td>\n",
       "      <td>6.972372e+08</td>\n",
       "      <td>28088011.0</td>\n",
       "      <td>+38.4132608</td>\n",
       "      <td>-077.4513342</td>\n",
       "      <td>Virginia</td>\n",
       "      <td>179</td>\n",
       "      <td>POLYGON ((-77.58878 38.50404, -77.58295 38.508...</td>\n",
       "    </tr>\n",
       "  </tbody>\n",
       "</table>\n",
       "<p>2 rows × 21 columns</p>\n",
       "</div>"
      ],
      "text/plain": [
       "  statefp countyfp  countyns  geoid      name         namelsad stusab lsad  \\\n",
       "0      39      063  01074044  39063   Hancock   Hancock County     OH   06   \n",
       "1      51      179  01480173  51179  Stafford  Stafford County     VA   06   \n",
       "\n",
       "  classfp  mtfcc  ... cbsafp metdivfp funcstat         aland      awater  \\\n",
       "0      H1  G4020  ...  22300     None        A  1.376126e+09   6020647.0   \n",
       "1      H1  G4020  ...  47900    47894        A  6.972372e+08  28088011.0   \n",
       "\n",
       "      intptlat      intptlon state_name countyfp_no  \\\n",
       "0  +41.0004711  -083.6660335       Ohio          63   \n",
       "1  +38.4132608  -077.4513342   Virginia         179   \n",
       "\n",
       "                                            geometry  \n",
       "0  POLYGON ((-83.88076 41.08036, -83.88076 41.081...  \n",
       "1  POLYGON ((-77.58878 38.50404, -77.58295 38.508...  \n",
       "\n",
       "[2 rows x 21 columns]"
      ]
     },
     "execution_count": 12,
     "metadata": {},
     "output_type": "execute_result"
    }
   ],
   "source": [
    "us.head(2)"
   ]
  },
  {
   "cell_type": "code",
   "execution_count": 9,
   "id": "d2806832",
   "metadata": {},
   "outputs": [
    {
     "data": {
      "text/plain": [
       "name\n",
       "Cedar      0.163206\n",
       "Howard     0.136193\n",
       "Warren     0.159731\n",
       "Madison    0.156604\n",
       "Shelby     0.165628\n",
       "Name: area, dtype: float64"
      ]
     },
     "execution_count": 9,
     "metadata": {},
     "output_type": "execute_result"
    }
   ],
   "source": [
    "iowa = us[us.stusab == \"IA\"]\n",
    "iowa = iowa.set_index('name')\n",
    "\n",
    "iowa['area'] = iowa.area\n",
    "iowa['area'].head()"
   ]
  },
  {
   "cell_type": "code",
   "execution_count": 31,
   "id": "27d174b9",
   "metadata": {},
   "outputs": [
    {
     "data": {
      "text/html": [
       "<div>\n",
       "<style scoped>\n",
       "    .dataframe tbody tr th:only-of-type {\n",
       "        vertical-align: middle;\n",
       "    }\n",
       "\n",
       "    .dataframe tbody tr th {\n",
       "        vertical-align: top;\n",
       "    }\n",
       "\n",
       "    .dataframe thead th {\n",
       "        text-align: right;\n",
       "    }\n",
       "</style>\n",
       "<table border=\"1\" class=\"dataframe\">\n",
       "  <thead>\n",
       "    <tr style=\"text-align: right;\">\n",
       "      <th></th>\n",
       "      <th>statefp</th>\n",
       "      <th>countyfp</th>\n",
       "      <th>countyns</th>\n",
       "      <th>geoid</th>\n",
       "      <th>namelsad</th>\n",
       "      <th>stusab</th>\n",
       "      <th>lsad</th>\n",
       "      <th>classfp</th>\n",
       "      <th>mtfcc</th>\n",
       "      <th>csafp</th>\n",
       "      <th>...</th>\n",
       "      <th>metdivfp</th>\n",
       "      <th>funcstat</th>\n",
       "      <th>aland</th>\n",
       "      <th>awater</th>\n",
       "      <th>intptlat</th>\n",
       "      <th>intptlon</th>\n",
       "      <th>state_name</th>\n",
       "      <th>countyfp_no</th>\n",
       "      <th>geometry</th>\n",
       "      <th>area</th>\n",
       "    </tr>\n",
       "    <tr>\n",
       "      <th>name</th>\n",
       "      <th></th>\n",
       "      <th></th>\n",
       "      <th></th>\n",
       "      <th></th>\n",
       "      <th></th>\n",
       "      <th></th>\n",
       "      <th></th>\n",
       "      <th></th>\n",
       "      <th></th>\n",
       "      <th></th>\n",
       "      <th></th>\n",
       "      <th></th>\n",
       "      <th></th>\n",
       "      <th></th>\n",
       "      <th></th>\n",
       "      <th></th>\n",
       "      <th></th>\n",
       "      <th></th>\n",
       "      <th></th>\n",
       "      <th></th>\n",
       "      <th></th>\n",
       "    </tr>\n",
       "  </thead>\n",
       "  <tbody>\n",
       "    <tr>\n",
       "      <th>Cedar</th>\n",
       "      <td>19</td>\n",
       "      <td>031</td>\n",
       "      <td>00465205</td>\n",
       "      <td>19031</td>\n",
       "      <td>Cedar County</td>\n",
       "      <td>IA</td>\n",
       "      <td>06</td>\n",
       "      <td>H1</td>\n",
       "      <td>G4020</td>\n",
       "      <td>None</td>\n",
       "      <td>...</td>\n",
       "      <td>None</td>\n",
       "      <td>A</td>\n",
       "      <td>1.500799e+09</td>\n",
       "      <td>6385832.0</td>\n",
       "      <td>+41.7723600</td>\n",
       "      <td>-091.1326105</td>\n",
       "      <td>Iowa</td>\n",
       "      <td>31</td>\n",
       "      <td>POLYGON ((-91.36608 41.86007, -91.36620 41.860...</td>\n",
       "      <td>0.163206</td>\n",
       "    </tr>\n",
       "    <tr>\n",
       "      <th>Howard</th>\n",
       "      <td>19</td>\n",
       "      <td>089</td>\n",
       "      <td>00465233</td>\n",
       "      <td>19089</td>\n",
       "      <td>Howard County</td>\n",
       "      <td>IA</td>\n",
       "      <td>06</td>\n",
       "      <td>H1</td>\n",
       "      <td>G4020</td>\n",
       "      <td>None</td>\n",
       "      <td>...</td>\n",
       "      <td>None</td>\n",
       "      <td>A</td>\n",
       "      <td>1.225703e+09</td>\n",
       "      <td>931478.0</td>\n",
       "      <td>+43.3653125</td>\n",
       "      <td>-092.3219084</td>\n",
       "      <td>Iowa</td>\n",
       "      <td>89</td>\n",
       "      <td>POLYGON ((-92.55374 43.42890, -92.55373 43.429...</td>\n",
       "      <td>0.136193</td>\n",
       "    </tr>\n",
       "    <tr>\n",
       "      <th>Warren</th>\n",
       "      <td>19</td>\n",
       "      <td>181</td>\n",
       "      <td>00465279</td>\n",
       "      <td>19181</td>\n",
       "      <td>Warren County</td>\n",
       "      <td>IA</td>\n",
       "      <td>06</td>\n",
       "      <td>H1</td>\n",
       "      <td>G4020</td>\n",
       "      <td>218</td>\n",
       "      <td>...</td>\n",
       "      <td>None</td>\n",
       "      <td>A</td>\n",
       "      <td>1.475873e+09</td>\n",
       "      <td>9097100.0</td>\n",
       "      <td>+41.3324459</td>\n",
       "      <td>-093.5687512</td>\n",
       "      <td>Iowa</td>\n",
       "      <td>181</td>\n",
       "      <td>POLYGON ((-93.55821 41.51148, -93.55674 41.511...</td>\n",
       "      <td>0.159731</td>\n",
       "    </tr>\n",
       "  </tbody>\n",
       "</table>\n",
       "<p>3 rows × 21 columns</p>\n",
       "</div>"
      ],
      "text/plain": [
       "       statefp countyfp  countyns  geoid       namelsad stusab lsad classfp  \\\n",
       "name                                                                          \n",
       "Cedar       19      031  00465205  19031   Cedar County     IA   06      H1   \n",
       "Howard      19      089  00465233  19089  Howard County     IA   06      H1   \n",
       "Warren      19      181  00465279  19181  Warren County     IA   06      H1   \n",
       "\n",
       "        mtfcc csafp  ... metdivfp funcstat         aland     awater  \\\n",
       "name                 ...                                              \n",
       "Cedar   G4020  None  ...     None        A  1.500799e+09  6385832.0   \n",
       "Howard  G4020  None  ...     None        A  1.225703e+09   931478.0   \n",
       "Warren  G4020   218  ...     None        A  1.475873e+09  9097100.0   \n",
       "\n",
       "           intptlat      intptlon state_name countyfp_no  \\\n",
       "name                                                       \n",
       "Cedar   +41.7723600  -091.1326105       Iowa          31   \n",
       "Howard  +43.3653125  -092.3219084       Iowa          89   \n",
       "Warren  +41.3324459  -093.5687512       Iowa         181   \n",
       "\n",
       "                                                 geometry      area  \n",
       "name                                                                 \n",
       "Cedar   POLYGON ((-91.36608 41.86007, -91.36620 41.860...  0.163206  \n",
       "Howard  POLYGON ((-92.55374 43.42890, -92.55373 43.429...  0.136193  \n",
       "Warren  POLYGON ((-93.55821 41.51148, -93.55674 41.511...  0.159731  \n",
       "\n",
       "[3 rows x 21 columns]"
      ]
     },
     "execution_count": 31,
     "metadata": {},
     "output_type": "execute_result"
    }
   ],
   "source": [
    "iowa.head(3)"
   ]
  },
  {
   "cell_type": "code",
   "execution_count": 33,
   "id": "c5200d88",
   "metadata": {},
   "outputs": [
    {
     "ename": "KeyError",
     "evalue": "'County'",
     "output_type": "error",
     "traceback": [
      "\u001b[1;31m---------------------------------------------------------------------------\u001b[0m",
      "\u001b[1;31mKeyError\u001b[0m                                  Traceback (most recent call last)",
      "\u001b[1;32m~\\AppData\\Local\\Temp/ipykernel_31604/1348440837.py\u001b[0m in \u001b[0;36m<module>\u001b[1;34m\u001b[0m\n\u001b[0;32m      1\u001b[0m \u001b[1;31m# stores.merge(trans, how='inner', on=['Store_Number'])\u001b[0m\u001b[1;33m\u001b[0m\u001b[1;33m\u001b[0m\u001b[0m\n\u001b[1;32m----> 2\u001b[1;33m \u001b[0mpop_by_county\u001b[0m\u001b[1;33m[\u001b[0m\u001b[1;33m[\u001b[0m\u001b[1;34m'County'\u001b[0m\u001b[1;33m,\u001b[0m\u001b[1;34m'Population'\u001b[0m\u001b[1;33m]\u001b[0m\u001b[1;33m]\u001b[0m\u001b[1;33m.\u001b[0m\u001b[0mmerge\u001b[0m\u001b[1;33m(\u001b[0m\u001b[0miowa\u001b[0m\u001b[1;33m,\u001b[0m \u001b[0mhow\u001b[0m\u001b[1;33m=\u001b[0m\u001b[1;34m'inner'\u001b[0m\u001b[1;33m,\u001b[0m\u001b[0mright_on\u001b[0m\u001b[1;33m=\u001b[0m\u001b[1;34m'County'\u001b[0m\u001b[1;33m,\u001b[0m \u001b[0mleft_on\u001b[0m\u001b[1;33m=\u001b[0m\u001b[1;34m'namelsad'\u001b[0m\u001b[1;33m)\u001b[0m\u001b[1;33m\u001b[0m\u001b[1;33m\u001b[0m\u001b[0m\n\u001b[0m",
      "\u001b[1;32m~\\anaconda3_reinstall\\lib\\site-packages\\pandas\\core\\frame.py\u001b[0m in \u001b[0;36mmerge\u001b[1;34m(self, right, how, on, left_on, right_on, left_index, right_index, sort, suffixes, copy, indicator, validate)\u001b[0m\n\u001b[0;32m   9343\u001b[0m         \u001b[1;32mfrom\u001b[0m \u001b[0mpandas\u001b[0m\u001b[1;33m.\u001b[0m\u001b[0mcore\u001b[0m\u001b[1;33m.\u001b[0m\u001b[0mreshape\u001b[0m\u001b[1;33m.\u001b[0m\u001b[0mmerge\u001b[0m \u001b[1;32mimport\u001b[0m \u001b[0mmerge\u001b[0m\u001b[1;33m\u001b[0m\u001b[1;33m\u001b[0m\u001b[0m\n\u001b[0;32m   9344\u001b[0m \u001b[1;33m\u001b[0m\u001b[0m\n\u001b[1;32m-> 9345\u001b[1;33m         return merge(\n\u001b[0m\u001b[0;32m   9346\u001b[0m             \u001b[0mself\u001b[0m\u001b[1;33m,\u001b[0m\u001b[1;33m\u001b[0m\u001b[1;33m\u001b[0m\u001b[0m\n\u001b[0;32m   9347\u001b[0m             \u001b[0mright\u001b[0m\u001b[1;33m,\u001b[0m\u001b[1;33m\u001b[0m\u001b[1;33m\u001b[0m\u001b[0m\n",
      "\u001b[1;32m~\\anaconda3_reinstall\\lib\\site-packages\\pandas\\core\\reshape\\merge.py\u001b[0m in \u001b[0;36mmerge\u001b[1;34m(left, right, how, on, left_on, right_on, left_index, right_index, sort, suffixes, copy, indicator, validate)\u001b[0m\n\u001b[0;32m    105\u001b[0m     \u001b[0mvalidate\u001b[0m\u001b[1;33m:\u001b[0m \u001b[0mstr\u001b[0m \u001b[1;33m|\u001b[0m \u001b[1;32mNone\u001b[0m \u001b[1;33m=\u001b[0m \u001b[1;32mNone\u001b[0m\u001b[1;33m,\u001b[0m\u001b[1;33m\u001b[0m\u001b[1;33m\u001b[0m\u001b[0m\n\u001b[0;32m    106\u001b[0m ) -> DataFrame:\n\u001b[1;32m--> 107\u001b[1;33m     op = _MergeOperation(\n\u001b[0m\u001b[0;32m    108\u001b[0m         \u001b[0mleft\u001b[0m\u001b[1;33m,\u001b[0m\u001b[1;33m\u001b[0m\u001b[1;33m\u001b[0m\u001b[0m\n\u001b[0;32m    109\u001b[0m         \u001b[0mright\u001b[0m\u001b[1;33m,\u001b[0m\u001b[1;33m\u001b[0m\u001b[1;33m\u001b[0m\u001b[0m\n",
      "\u001b[1;32m~\\anaconda3_reinstall\\lib\\site-packages\\pandas\\core\\reshape\\merge.py\u001b[0m in \u001b[0;36m__init__\u001b[1;34m(self, left, right, how, on, left_on, right_on, axis, left_index, right_index, sort, suffixes, copy, indicator, validate)\u001b[0m\n\u001b[0;32m    698\u001b[0m             \u001b[0mself\u001b[0m\u001b[1;33m.\u001b[0m\u001b[0mright_join_keys\u001b[0m\u001b[1;33m,\u001b[0m\u001b[1;33m\u001b[0m\u001b[1;33m\u001b[0m\u001b[0m\n\u001b[0;32m    699\u001b[0m             \u001b[0mself\u001b[0m\u001b[1;33m.\u001b[0m\u001b[0mjoin_names\u001b[0m\u001b[1;33m,\u001b[0m\u001b[1;33m\u001b[0m\u001b[1;33m\u001b[0m\u001b[0m\n\u001b[1;32m--> 700\u001b[1;33m         ) = self._get_merge_keys()\n\u001b[0m\u001b[0;32m    701\u001b[0m \u001b[1;33m\u001b[0m\u001b[0m\n\u001b[0;32m    702\u001b[0m         \u001b[1;31m# validate the merge keys dtypes. We may need to coerce\u001b[0m\u001b[1;33m\u001b[0m\u001b[1;33m\u001b[0m\u001b[0m\n",
      "\u001b[1;32m~\\anaconda3_reinstall\\lib\\site-packages\\pandas\\core\\reshape\\merge.py\u001b[0m in \u001b[0;36m_get_merge_keys\u001b[1;34m(self)\u001b[0m\n\u001b[0;32m   1095\u001b[0m                     \u001b[1;32mif\u001b[0m \u001b[1;32mnot\u001b[0m \u001b[0mis_rkey\u001b[0m\u001b[1;33m(\u001b[0m\u001b[0mrk\u001b[0m\u001b[1;33m)\u001b[0m\u001b[1;33m:\u001b[0m\u001b[1;33m\u001b[0m\u001b[1;33m\u001b[0m\u001b[0m\n\u001b[0;32m   1096\u001b[0m                         \u001b[1;32mif\u001b[0m \u001b[0mrk\u001b[0m \u001b[1;32mis\u001b[0m \u001b[1;32mnot\u001b[0m \u001b[1;32mNone\u001b[0m\u001b[1;33m:\u001b[0m\u001b[1;33m\u001b[0m\u001b[1;33m\u001b[0m\u001b[0m\n\u001b[1;32m-> 1097\u001b[1;33m                             \u001b[0mright_keys\u001b[0m\u001b[1;33m.\u001b[0m\u001b[0mappend\u001b[0m\u001b[1;33m(\u001b[0m\u001b[0mright\u001b[0m\u001b[1;33m.\u001b[0m\u001b[0m_get_label_or_level_values\u001b[0m\u001b[1;33m(\u001b[0m\u001b[0mrk\u001b[0m\u001b[1;33m)\u001b[0m\u001b[1;33m)\u001b[0m\u001b[1;33m\u001b[0m\u001b[1;33m\u001b[0m\u001b[0m\n\u001b[0m\u001b[0;32m   1098\u001b[0m                         \u001b[1;32melse\u001b[0m\u001b[1;33m:\u001b[0m\u001b[1;33m\u001b[0m\u001b[1;33m\u001b[0m\u001b[0m\n\u001b[0;32m   1099\u001b[0m                             \u001b[1;31m# work-around for merge_asof(right_index=True)\u001b[0m\u001b[1;33m\u001b[0m\u001b[1;33m\u001b[0m\u001b[0m\n",
      "\u001b[1;32m~\\anaconda3_reinstall\\lib\\site-packages\\pandas\\core\\generic.py\u001b[0m in \u001b[0;36m_get_label_or_level_values\u001b[1;34m(self, key, axis)\u001b[0m\n\u001b[0;32m   1838\u001b[0m             \u001b[0mvalues\u001b[0m \u001b[1;33m=\u001b[0m \u001b[0mself\u001b[0m\u001b[1;33m.\u001b[0m\u001b[0maxes\u001b[0m\u001b[1;33m[\u001b[0m\u001b[0maxis\u001b[0m\u001b[1;33m]\u001b[0m\u001b[1;33m.\u001b[0m\u001b[0mget_level_values\u001b[0m\u001b[1;33m(\u001b[0m\u001b[0mkey\u001b[0m\u001b[1;33m)\u001b[0m\u001b[1;33m.\u001b[0m\u001b[0m_values\u001b[0m\u001b[1;33m\u001b[0m\u001b[1;33m\u001b[0m\u001b[0m\n\u001b[0;32m   1839\u001b[0m         \u001b[1;32melse\u001b[0m\u001b[1;33m:\u001b[0m\u001b[1;33m\u001b[0m\u001b[1;33m\u001b[0m\u001b[0m\n\u001b[1;32m-> 1840\u001b[1;33m             \u001b[1;32mraise\u001b[0m \u001b[0mKeyError\u001b[0m\u001b[1;33m(\u001b[0m\u001b[0mkey\u001b[0m\u001b[1;33m)\u001b[0m\u001b[1;33m\u001b[0m\u001b[1;33m\u001b[0m\u001b[0m\n\u001b[0m\u001b[0;32m   1841\u001b[0m \u001b[1;33m\u001b[0m\u001b[0m\n\u001b[0;32m   1842\u001b[0m         \u001b[1;31m# Check for duplicates\u001b[0m\u001b[1;33m\u001b[0m\u001b[1;33m\u001b[0m\u001b[0m\n",
      "\u001b[1;31mKeyError\u001b[0m: 'County'"
     ]
    }
   ],
   "source": [
    "# stores.merge(trans, how='inner', on=['Store_Number'])\n",
    "pop_by_county[['County','Population']].merge(iowa, how='inner',right_on='County', left_on='namelsad')"
   ]
  },
  {
   "cell_type": "code",
   "execution_count": 7,
   "id": "938659cb",
   "metadata": {},
   "outputs": [
    {
     "name": "stderr",
     "output_type": "stream",
     "text": [
      "C:\\Users\\dgarb\\anaconda3_reinstall\\lib\\site-packages\\descartes\\patch.py:62: ShapelyDeprecationWarning: The array interface is deprecated and will no longer work in Shapely 2.0. Convert the '.coords' to a numpy array instead.\n",
      "  vertices = concatenate([\n"
     ]
    },
    {
     "data": {
      "text/plain": [
       "<AxesSubplot:>"
      ]
     },
     "execution_count": 7,
     "metadata": {},
     "output_type": "execute_result"
    },
    {
     "data": {
      "image/png": "[encoded data removed]",
      "text/plain": [
       "<Figure size 432x288 with 2 Axes>"
      ]
     },
     "metadata": {
      "needs_background": "light"
     },
     "output_type": "display_data"
    }
   ],
   "source": [
    "fig.ax\n",
    "\n",
    "iowa.plot('area', legend = True)"
   ]
  }
 ],
 "metadata": {
  "kernelspec": {
   "display_name": "Python 3 (ipykernel)",
   "language": "python",
   "name": "python3"
  },
  "language_info": {
   "codemirror_mode": {
    "name": "ipython",
    "version": 3
   },
   "file_extension": ".py",
   "mimetype": "text/x-python",
   "name": "python",
   "nbconvert_exporter": "python",
   "pygments_lexer": "ipython3",
   "version": "3.9.7"
  }
 },
 "nbformat": 4,
 "nbformat_minor": 5
}

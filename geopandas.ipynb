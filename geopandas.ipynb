{
 "cells": [
  {
   "cell_type": "code",
   "execution_count": 1,
   "id": "aa902d90",
   "metadata": {},
   "outputs": [],
   "source": [
    "import pandas as pd"
   ]
  },
  {
   "cell_type": "code",
   "execution_count": 2,
   "id": "7e69419c",
   "metadata": {},
   "outputs": [],
   "source": [
    "import descartes\n",
    "import geopandas as gpd\n",
    "import numpy as np\n",
    "import matplotlib.pyplot as plt\n",
    "from shapely.geometry import Point, Polygon\n",
    "%matplotlib inline\n"
   ]
  },
  {
   "cell_type": "code",
   "execution_count": 3,
   "id": "09da8f1b",
   "metadata": {},
   "outputs": [],
   "source": [
    "pop_by_county = pd.read_csv(r'C:\\Users\\dgarb\\OneDrive\\Desktop\\Capstone Data\\census data\\Iowa population by county from Iowa demographics.csv')"
   ]
  },
  {
   "cell_type": "code",
   "execution_count": null,
   "id": "e413caed",
   "metadata": {},
   "outputs": [],
   "source": [
    "# pop_by_county[['County','Population']]"
   ]
  },
  {
   "cell_type": "code",
   "execution_count": 4,
   "id": "120607df",
   "metadata": {},
   "outputs": [],
   "source": [
    "# s.replace('is','was')\n",
    "pop_by_county['county2'] = pop_by_county.County.str.replace('County','')\n",
    "pop_by_county['county2'] = pop_by_county['county2'].str.rstrip()\n",
    "pop_by_county['county2'] = pop_by_county['county2'].str.lstrip()\n",
    "pop_by_county['county2'] = pop_by_county['county2'].str.lower()"
   ]
  },
  {
   "cell_type": "code",
   "execution_count": 5,
   "id": "a84b26e8",
   "metadata": {},
   "outputs": [
    {
     "data": {
      "text/html": [
       "<div>\n",
       "<style scoped>\n",
       "    .dataframe tbody tr th:only-of-type {\n",
       "        vertical-align: middle;\n",
       "    }\n",
       "\n",
       "    .dataframe tbody tr th {\n",
       "        vertical-align: top;\n",
       "    }\n",
       "\n",
       "    .dataframe thead th {\n",
       "        text-align: right;\n",
       "    }\n",
       "</style>\n",
       "<table border=\"1\" class=\"dataframe\">\n",
       "  <thead>\n",
       "    <tr style=\"text-align: right;\">\n",
       "      <th></th>\n",
       "      <th>Rank</th>\n",
       "      <th>County</th>\n",
       "      <th>Population</th>\n",
       "      <th>county2</th>\n",
       "    </tr>\n",
       "  </thead>\n",
       "  <tbody>\n",
       "    <tr>\n",
       "      <th>0</th>\n",
       "      <td>1</td>\n",
       "      <td>Polk County</td>\n",
       "      <td>485418</td>\n",
       "      <td>polk</td>\n",
       "    </tr>\n",
       "    <tr>\n",
       "      <th>1</th>\n",
       "      <td>2</td>\n",
       "      <td>Linn County</td>\n",
       "      <td>225601</td>\n",
       "      <td>linn</td>\n",
       "    </tr>\n",
       "    <tr>\n",
       "      <th>2</th>\n",
       "      <td>3</td>\n",
       "      <td>Scott County</td>\n",
       "      <td>172938</td>\n",
       "      <td>scott</td>\n",
       "    </tr>\n",
       "    <tr>\n",
       "      <th>3</th>\n",
       "      <td>4</td>\n",
       "      <td>Johnson County</td>\n",
       "      <td>150819</td>\n",
       "      <td>johnson</td>\n",
       "    </tr>\n",
       "    <tr>\n",
       "      <th>4</th>\n",
       "      <td>5</td>\n",
       "      <td>Black Hawk County</td>\n",
       "      <td>131813</td>\n",
       "      <td>black hawk</td>\n",
       "    </tr>\n",
       "  </tbody>\n",
       "</table>\n",
       "</div>"
      ],
      "text/plain": [
       "   Rank             County  Population     county2\n",
       "0     1        Polk County      485418        polk\n",
       "1     2        Linn County      225601        linn\n",
       "2     3       Scott County      172938       scott\n",
       "3     4     Johnson County      150819     johnson\n",
       "4     5  Black Hawk County      131813  black hawk"
      ]
     },
     "execution_count": 5,
     "metadata": {},
     "output_type": "execute_result"
    }
   ],
   "source": [
    "# pop_by_county.set_index('county2')\n",
    "pop_by_county.head()"
   ]
  },
  {
   "cell_type": "code",
   "execution_count": 14,
   "id": "a191eeaf",
   "metadata": {},
   "outputs": [],
   "source": [
    "sdtypes = {'Store_Number':str,'Zip_Code':str, 'Store_Location':str, 'County_Number':str}"
   ]
  },
  {
   "cell_type": "code",
   "execution_count": 15,
   "id": "4de81ac5",
   "metadata": {},
   "outputs": [],
   "source": [
    "stores = pd.read_csv(r'C:\\Users\\dgarb\\OneDrive\\Desktop\\Capstone Data\\liquor_2021\\stores_2021.csv',index_col=0, dtype=sdtypes)"
   ]
  },
  {
   "cell_type": "code",
   "execution_count": 8,
   "id": "1c2ca876",
   "metadata": {},
   "outputs": [
    {
     "name": "stdout",
     "output_type": "stream",
     "text": [
      "<class 'pandas.core.frame.DataFrame'>\n",
      "Int64Index: 1948 entries, 223124 to 1094183\n",
      "Data columns (total 8 columns):\n",
      " #   Column          Non-Null Count  Dtype \n",
      "---  ------          --------------  ----- \n",
      " 0   Store_Number    1948 non-null   object\n",
      " 1   Store_Name      1948 non-null   object\n",
      " 2   Address         1948 non-null   object\n",
      " 3   City            1948 non-null   object\n",
      " 4   Zip_Code        1948 non-null   object\n",
      " 5   Store_Location  1790 non-null   object\n",
      " 6   County_Number   1948 non-null   object\n",
      " 7   County          1948 non-null   object\n",
      "dtypes: object(8)\n",
      "memory usage: 137.0+ KB\n"
     ]
    }
   ],
   "source": [
    "stores.info()"
   ]
  },
  {
   "cell_type": "code",
   "execution_count": 50,
   "id": "381f39bc",
   "metadata": {},
   "outputs": [],
   "source": [
    "store_locations = stores[['Store_Name','Store_Location']]"
   ]
  },
  {
   "cell_type": "markdown",
   "id": "49a07a32",
   "metadata": {},
   "source": [
    "#from documentation\n",
    "\n",
    "d = {'col1': ['name1', 'name2'], 'wkt': ['POINT (1 2)', 'POINT (2 1)']}\n",
    "\n",
    "df = pd.DataFrame(d)\n",
    "\n",
    "gs = geopandas.GeoSeries.from_wkt(df['wkt'])\n",
    "\n",
    "gdf = geopandas.GeoDataFrame(df, geometry=gs, crs=\"EPSG:4326\")\n"
   ]
  },
  {
   "cell_type": "markdown",
   "id": "0f295c66",
   "metadata": {},
   "source": [
    "### from Sam\n",
    "\n",
    "where locations is your db with the store data, and 'StoreLocation' is the name of the column\n",
    "\n",
    "from shapely import wkt\n",
    "\n",
    "locations['StoreLocation'].apply(wkt.loads)"
   ]
  },
  {
   "cell_type": "code",
   "execution_count": null,
   "id": "2ac6d080",
   "metadata": {},
   "outputs": [],
   "source": [
    "from shapely import wkt\n",
    "\n",
    "locations['StoreLocation'].apply(wkt.loads)"
   ]
  },
  {
   "cell_type": "code",
   "execution_count": 62,
   "id": "c1df9a1c",
   "metadata": {},
   "outputs": [
    {
     "data": {
      "text/plain": [
       "223124                                      NaN\n",
       "231153             POINT (-95.752119 43.397431)\n",
       "239961              POINT (-95.143701 43.12759)\n",
       "246141             POINT (-94.681939 43.111913)\n",
       "262897             POINT (-94.953239 42.777449)\n",
       "                           ...                 \n",
       "1086261    POINT (-94.73259400000002 40.991872)\n",
       "1086262    POINT (-95.81799900000001 41.280148)\n",
       "1086263            POINT (-91.553462 42.037621)\n",
       "1086241            POINT (-94.173816 42.501131)\n",
       "1094183            POINT (-93.833455 41.614719)\n",
       "Name: Store_Location, Length: 1948, dtype: object"
      ]
     },
     "execution_count": 62,
     "metadata": {},
     "output_type": "execute_result"
    }
   ],
   "source": [
    "stores.Store_Location"
   ]
  },
  {
   "cell_type": "code",
   "execution_count": 52,
   "id": "854f5f8a",
   "metadata": {},
   "outputs": [
    {
     "data": {
      "text/plain": [
       "231153             POINT (-95.752119 43.397431)\n",
       "239961              POINT (-95.143701 43.12759)\n",
       "246141             POINT (-94.681939 43.111913)\n",
       "262897             POINT (-94.953239 42.777449)\n",
       "262310             POINT (-91.473634 43.262114)\n",
       "                           ...                 \n",
       "1086261    POINT (-94.73259400000002 40.991872)\n",
       "1086262    POINT (-95.81799900000001 41.280148)\n",
       "1086263            POINT (-91.553462 42.037621)\n",
       "1086241            POINT (-94.173816 42.501131)\n",
       "1094183            POINT (-93.833455 41.614719)\n",
       "Name: Store_Location, Length: 1790, dtype: object"
      ]
     },
     "execution_count": 52,
     "metadata": {},
     "output_type": "execute_result"
    }
   ],
   "source": [
    "locations = stores[['Store_Name','Store_Location']]\n",
    "locations = locations.dropna()\n",
    "# store_locations\n",
    "locations['Store_Location'].apply(wkt.loads)\n",
    "# where locations is your db with the store data, and 'StoreLocation' is the name of the column"
   ]
  },
  {
   "cell_type": "code",
   "execution_count": 30,
   "id": "a69d84cc",
   "metadata": {},
   "outputs": [
    {
     "name": "stdout",
     "output_type": "stream",
     "text": [
      "type(names) =  <class 'list'>\n"
     ]
    },
    {
     "data": {
      "text/plain": [
       "list"
      ]
     },
     "execution_count": 30,
     "metadata": {},
     "output_type": "execute_result"
    }
   ],
   "source": [
    "# create lists for dicitionary creation\n",
    "\n",
    "names = list(locations.Store_Name)\n",
    "# print('type(names) = ', type(names))\n",
    "\n",
    "points = list(locations.Store_Location)\n",
    "type(points)"
   ]
  },
  {
   "cell_type": "code",
   "execution_count": 31,
   "id": "bc44c879",
   "metadata": {},
   "outputs": [],
   "source": [
    "#create dictionary\n",
    "\n",
    "d = {'col1':names, 'geometry':points }"
   ]
  },
  {
   "cell_type": "code",
   "execution_count": 56,
   "id": "70c72eaf",
   "metadata": {},
   "outputs": [
    {
     "data": {
      "text/plain": [
       "<AxesSubplot:>"
      ]
     },
     "execution_count": 56,
     "metadata": {},
     "output_type": "execute_result"
    },
    {
     "data": {
      "image/png": "[encoded data removed]",
      "text/plain": [
       "<Figure size 432x288 with 1 Axes>"
      ]
     },
     "metadata": {
      "needs_background": "light"
     },
     "output_type": "display_data"
    }
   ],
   "source": [
    "# create GeoDataFrame from dictionary\n",
    "\n",
    "loc_gdf = gpd.GeoDataFrame(d, crs=\"EPSG:4326\")\n",
    "loc_gdf.plot()"
   ]
  },
  {
   "cell_type": "code",
   "execution_count": 35,
   "id": "55b957ec",
   "metadata": {},
   "outputs": [
    {
     "data": {
      "text/plain": [
       "geopandas.geodataframe.GeoDataFrame"
      ]
     },
     "execution_count": 35,
     "metadata": {},
     "output_type": "execute_result"
    }
   ],
   "source": [
    "type(loc_gdf)"
   ]
  },
  {
   "cell_type": "code",
   "execution_count": null,
   "id": "3b9a9f00",
   "metadata": {},
   "outputs": [],
   "source": []
  },
  {
   "cell_type": "code",
   "execution_count": 55,
   "id": "6e83f5f4",
   "metadata": {},
   "outputs": [
    {
     "data": {
      "text/plain": [
       "geopandas.geoseries.GeoSeries"
      ]
     },
     "execution_count": 55,
     "metadata": {},
     "output_type": "execute_result"
    }
   ],
   "source": [
    "type(loc_gdf.geometry)"
   ]
  },
  {
   "cell_type": "markdown",
   "id": "d2c467a5",
   "metadata": {},
   "source": [
    "#from documentaiton\n",
    " \n",
    "d = {'col1': ['name1', 'name2'], 'geometry': [Point(1, 2), Point(2, 1)]}\n",
    "\n",
    "gdf = geopandas.GeoDataFrame(d, crs=\"EPSG:4326\")\n",
    "\n",
    "gdf"
   ]
  },
  {
   "cell_type": "markdown",
   "id": "ab891128",
   "metadata": {},
   "source": []
  },
  {
   "cell_type": "code",
   "execution_count": null,
   "id": "95e516cd",
   "metadata": {},
   "outputs": [],
   "source": [
    "# from geopandas import GeoSeries\n",
    "# store_locations = stores[['Store_Name','Store_Location']]\n",
    "# store_locations = store_locations.dropna()\n",
    "# store_locations.columns = ['name','geometry']\n",
    "# locations_gpd = gpd.GeoDataFrame(store_locations, crs=\"EPSG:4326\")"
   ]
  },
  {
   "cell_type": "code",
   "execution_count": null,
   "id": "5a57a53f",
   "metadata": {},
   "outputs": [],
   "source": [
    "# type(locations_gpd)"
   ]
  },
  {
   "cell_type": "markdown",
   "id": "c0b85437",
   "metadata": {},
   "source": [
    "read in us shape file"
   ]
  },
  {
   "cell_type": "code",
   "execution_count": 36,
   "id": "59dea596",
   "metadata": {},
   "outputs": [
    {
     "name": "stderr",
     "output_type": "stream",
     "text": [
      "C:\\Users\\dgarb\\anaconda3_reinstall\\lib\\site-packages\\geopandas\\array.py:85: ShapelyDeprecationWarning: __len__ for multi-part geometries is deprecated and will be removed in Shapely 2.0. Check the length of the `geoms` property instead to get the  number of parts of a multi-part geometry.\n",
      "  aout[:] = out\n"
     ]
    }
   ],
   "source": [
    "\n",
    "us = gpd.read_file(r'C:\\Users\\dgarb\\OneDrive\\Desktop\\Capstone Data\\us-county-boundaries.shp')"
   ]
  },
  {
   "cell_type": "code",
   "execution_count": 37,
   "id": "018a4d6c",
   "metadata": {},
   "outputs": [
    {
     "data": {
      "text/html": [
       "<div>\n",
       "<style scoped>\n",
       "    .dataframe tbody tr th:only-of-type {\n",
       "        vertical-align: middle;\n",
       "    }\n",
       "\n",
       "    .dataframe tbody tr th {\n",
       "        vertical-align: top;\n",
       "    }\n",
       "\n",
       "    .dataframe thead th {\n",
       "        text-align: right;\n",
       "    }\n",
       "</style>\n",
       "<table border=\"1\" class=\"dataframe\">\n",
       "  <thead>\n",
       "    <tr style=\"text-align: right;\">\n",
       "      <th></th>\n",
       "      <th>statefp</th>\n",
       "      <th>countyfp</th>\n",
       "      <th>countyns</th>\n",
       "      <th>geoid</th>\n",
       "      <th>name</th>\n",
       "      <th>namelsad</th>\n",
       "      <th>stusab</th>\n",
       "      <th>lsad</th>\n",
       "      <th>classfp</th>\n",
       "      <th>mtfcc</th>\n",
       "      <th>...</th>\n",
       "      <th>cbsafp</th>\n",
       "      <th>metdivfp</th>\n",
       "      <th>funcstat</th>\n",
       "      <th>aland</th>\n",
       "      <th>awater</th>\n",
       "      <th>intptlat</th>\n",
       "      <th>intptlon</th>\n",
       "      <th>state_name</th>\n",
       "      <th>countyfp_no</th>\n",
       "      <th>geometry</th>\n",
       "    </tr>\n",
       "  </thead>\n",
       "  <tbody>\n",
       "    <tr>\n",
       "      <th>0</th>\n",
       "      <td>39</td>\n",
       "      <td>063</td>\n",
       "      <td>01074044</td>\n",
       "      <td>39063</td>\n",
       "      <td>Hancock</td>\n",
       "      <td>Hancock County</td>\n",
       "      <td>OH</td>\n",
       "      <td>06</td>\n",
       "      <td>H1</td>\n",
       "      <td>G4020</td>\n",
       "      <td>...</td>\n",
       "      <td>22300</td>\n",
       "      <td>None</td>\n",
       "      <td>A</td>\n",
       "      <td>1.376126e+09</td>\n",
       "      <td>6020647.0</td>\n",
       "      <td>+41.0004711</td>\n",
       "      <td>-083.6660335</td>\n",
       "      <td>Ohio</td>\n",
       "      <td>63</td>\n",
       "      <td>POLYGON ((-83.88076 41.08036, -83.88076 41.081...</td>\n",
       "    </tr>\n",
       "    <tr>\n",
       "      <th>1</th>\n",
       "      <td>51</td>\n",
       "      <td>179</td>\n",
       "      <td>01480173</td>\n",
       "      <td>51179</td>\n",
       "      <td>Stafford</td>\n",
       "      <td>Stafford County</td>\n",
       "      <td>VA</td>\n",
       "      <td>06</td>\n",
       "      <td>H1</td>\n",
       "      <td>G4020</td>\n",
       "      <td>...</td>\n",
       "      <td>47900</td>\n",
       "      <td>47894</td>\n",
       "      <td>A</td>\n",
       "      <td>6.972372e+08</td>\n",
       "      <td>28088011.0</td>\n",
       "      <td>+38.4132608</td>\n",
       "      <td>-077.4513342</td>\n",
       "      <td>Virginia</td>\n",
       "      <td>179</td>\n",
       "      <td>POLYGON ((-77.58878 38.50404, -77.58295 38.508...</td>\n",
       "    </tr>\n",
       "  </tbody>\n",
       "</table>\n",
       "<p>2 rows × 21 columns</p>\n",
       "</div>"
      ],
      "text/plain": [
       "  statefp countyfp  countyns  geoid      name         namelsad stusab lsad  \\\n",
       "0      39      063  01074044  39063   Hancock   Hancock County     OH   06   \n",
       "1      51      179  01480173  51179  Stafford  Stafford County     VA   06   \n",
       "\n",
       "  classfp  mtfcc  ... cbsafp metdivfp funcstat         aland      awater  \\\n",
       "0      H1  G4020  ...  22300     None        A  1.376126e+09   6020647.0   \n",
       "1      H1  G4020  ...  47900    47894        A  6.972372e+08  28088011.0   \n",
       "\n",
       "      intptlat      intptlon state_name countyfp_no  \\\n",
       "0  +41.0004711  -083.6660335       Ohio          63   \n",
       "1  +38.4132608  -077.4513342   Virginia         179   \n",
       "\n",
       "                                            geometry  \n",
       "0  POLYGON ((-83.88076 41.08036, -83.88076 41.081...  \n",
       "1  POLYGON ((-77.58878 38.50404, -77.58295 38.508...  \n",
       "\n",
       "[2 rows x 21 columns]"
      ]
     },
     "execution_count": 37,
     "metadata": {},
     "output_type": "execute_result"
    }
   ],
   "source": [
    "us.head(2)"
   ]
  },
  {
   "cell_type": "markdown",
   "id": "18998148",
   "metadata": {},
   "source": [
    "create Iowa geodataframe\n"
   ]
  },
  {
   "cell_type": "code",
   "execution_count": 38,
   "id": "b2f30f0f",
   "metadata": {},
   "outputs": [],
   "source": [
    "iowa = us[us.stusab == \"IA\"]"
   ]
  },
  {
   "cell_type": "code",
   "execution_count": 39,
   "id": "29442a0a",
   "metadata": {},
   "outputs": [
    {
     "data": {
      "text/plain": [
       "geopandas.geodataframe.GeoDataFrame"
      ]
     },
     "execution_count": 39,
     "metadata": {},
     "output_type": "execute_result"
    }
   ],
   "source": [
    "type(iowa)"
   ]
  },
  {
   "cell_type": "markdown",
   "id": "9e5c7b84",
   "metadata": {},
   "source": [
    "create merge key"
   ]
  },
  {
   "cell_type": "code",
   "execution_count": 40,
   "id": "1a05111b",
   "metadata": {},
   "outputs": [
    {
     "name": "stderr",
     "output_type": "stream",
     "text": [
      "C:\\Users\\dgarb\\AppData\\Local\\Temp/ipykernel_18444/2015023351.py:1: SettingWithCopyWarning: \n",
      "A value is trying to be set on a copy of a slice from a DataFrame.\n",
      "Try using .loc[row_indexer,col_indexer] = value instead\n",
      "\n",
      "See the caveats in the documentation: https://pandas.pydata.org/pandas-docs/stable/user_guide/indexing.html#returning-a-view-versus-a-copy\n",
      "  iowa['county2'] = iowa.name.str.lower()\n"
     ]
    }
   ],
   "source": [
    "iowa['county2'] = iowa.name.str.lower()"
   ]
  },
  {
   "cell_type": "code",
   "execution_count": 41,
   "id": "5eb6cdcd",
   "metadata": {},
   "outputs": [
    {
     "data": {
      "text/plain": [
       "geopandas.geodataframe.GeoDataFrame"
      ]
     },
     "execution_count": 41,
     "metadata": {},
     "output_type": "execute_result"
    }
   ],
   "source": [
    "type(iowa)"
   ]
  },
  {
   "cell_type": "markdown",
   "id": "a82185de",
   "metadata": {},
   "source": [
    "merge iowa shape file with pop_by_county by county2\n",
    "\n",
    "Note to create a geodataframe, the geodataframe must be on the left of the merge"
   ]
  },
  {
   "cell_type": "code",
   "execution_count": 42,
   "id": "49647f95",
   "metadata": {},
   "outputs": [],
   "source": [
    "\n",
    "pop_by_county = pop_by_county[['county2','Population']]\n",
    "\n",
    "iowa_pop_gdf = iowa.merge(pop_by_county,how='inner')"
   ]
  },
  {
   "cell_type": "code",
   "execution_count": null,
   "id": "ae107353",
   "metadata": {},
   "outputs": [],
   "source": []
  },
  {
   "cell_type": "code",
   "execution_count": 43,
   "id": "6784daf7",
   "metadata": {},
   "outputs": [
    {
     "data": {
      "text/plain": [
       "geopandas.geodataframe.GeoDataFrame"
      ]
     },
     "execution_count": 43,
     "metadata": {},
     "output_type": "execute_result"
    }
   ],
   "source": [
    "type(iowa_pop_gdf)"
   ]
  },
  {
   "cell_type": "code",
   "execution_count": 44,
   "id": "ab8ec7a2",
   "metadata": {},
   "outputs": [
    {
     "name": "stderr",
     "output_type": "stream",
     "text": [
      "C:\\Users\\dgarb\\anaconda3_reinstall\\lib\\site-packages\\descartes\\patch.py:62: ShapelyDeprecationWarning: The array interface is deprecated and will no longer work in Shapely 2.0. Convert the '.coords' to a numpy array instead.\n",
      "  vertices = concatenate([\n"
     ]
    },
    {
     "data": {
      "image/png": "[encoded data removed]",
      "text/plain": [
       "<Figure size 1080x720 with 2 Axes>"
      ]
     },
     "metadata": {
      "needs_background": "light"
     },
     "output_type": "display_data"
    }
   ],
   "source": [
    "ax = iowa_pop_gdf.plot(column='Population',legend = True, figsize=(15, 10))\n",
    "ax.set_axis_off(); # turns off axis labels"
   ]
  },
  {
   "cell_type": "code",
   "execution_count": 61,
   "id": "191380ca",
   "metadata": {},
   "outputs": [
    {
     "data": {
      "text/html": [
       "<div>\n",
       "<style scoped>\n",
       "    .dataframe tbody tr th:only-of-type {\n",
       "        vertical-align: middle;\n",
       "    }\n",
       "\n",
       "    .dataframe tbody tr th {\n",
       "        vertical-align: top;\n",
       "    }\n",
       "\n",
       "    .dataframe thead th {\n",
       "        text-align: right;\n",
       "    }\n",
       "</style>\n",
       "<table border=\"1\" class=\"dataframe\">\n",
       "  <thead>\n",
       "    <tr style=\"text-align: right;\">\n",
       "      <th></th>\n",
       "      <th>col1</th>\n",
       "      <th>geometry</th>\n",
       "    </tr>\n",
       "  </thead>\n",
       "  <tbody>\n",
       "    <tr>\n",
       "      <th>0</th>\n",
       "      <td>Dyno's #53 / Sibley</td>\n",
       "      <td>POINT (-95.752119 43.397431)</td>\n",
       "    </tr>\n",
       "    <tr>\n",
       "      <th>1</th>\n",
       "      <td>Dyno's #40 / Spencer</td>\n",
       "      <td>POINT (-95.143701 43.12759)</td>\n",
       "    </tr>\n",
       "    <tr>\n",
       "      <th>2</th>\n",
       "      <td>Dyno's #29 / Emmetsburg</td>\n",
       "      <td>POINT (-94.681939 43.111913)</td>\n",
       "    </tr>\n",
       "    <tr>\n",
       "      <th>3</th>\n",
       "      <td>Dyno's #41 / Albert City</td>\n",
       "      <td>POINT (-94.953239 42.777449)</td>\n",
       "    </tr>\n",
       "    <tr>\n",
       "      <th>4</th>\n",
       "      <td>Double D Liquor Store</td>\n",
       "      <td>POINT (-91.473634 43.262114)</td>\n",
       "    </tr>\n",
       "    <tr>\n",
       "      <th>...</th>\n",
       "      <td>...</td>\n",
       "      <td>...</td>\n",
       "    </tr>\n",
       "    <tr>\n",
       "      <th>1785</th>\n",
       "      <td>Hy-Vee Food Store / Corning</td>\n",
       "      <td>POINT (-94.73259400000002 40.991872)</td>\n",
       "    </tr>\n",
       "    <tr>\n",
       "      <th>1786</th>\n",
       "      <td>Fareway Stores #073 / Council Bluffs</td>\n",
       "      <td>POINT (-95.81799900000001 41.280148)</td>\n",
       "    </tr>\n",
       "    <tr>\n",
       "      <th>1787</th>\n",
       "      <td>Casey's General Store #2924 / Marion</td>\n",
       "      <td>POINT (-91.553462 42.037621)</td>\n",
       "    </tr>\n",
       "    <tr>\n",
       "      <th>1788</th>\n",
       "      <td>Hiway 20 Liquor and Tobacco / Fort Dodge</td>\n",
       "      <td>POINT (-94.173816 42.501131)</td>\n",
       "    </tr>\n",
       "    <tr>\n",
       "      <th>1789</th>\n",
       "      <td>Kum &amp; Go #3156 / Clive</td>\n",
       "      <td>POINT (-93.833455 41.614719)</td>\n",
       "    </tr>\n",
       "  </tbody>\n",
       "</table>\n",
       "<p>1790 rows × 2 columns</p>\n",
       "</div>"
      ],
      "text/plain": [
       "                                          col1  \\\n",
       "0                          Dyno's #53 / Sibley   \n",
       "1                         Dyno's #40 / Spencer   \n",
       "2                      Dyno's #29 / Emmetsburg   \n",
       "3                     Dyno's #41 / Albert City   \n",
       "4                        Double D Liquor Store   \n",
       "...                                        ...   \n",
       "1785               Hy-Vee Food Store / Corning   \n",
       "1786      Fareway Stores #073 / Council Bluffs   \n",
       "1787      Casey's General Store #2924 / Marion   \n",
       "1788  Hiway 20 Liquor and Tobacco / Fort Dodge   \n",
       "1789                    Kum & Go #3156 / Clive   \n",
       "\n",
       "                                  geometry  \n",
       "0             POINT (-95.752119 43.397431)  \n",
       "1              POINT (-95.143701 43.12759)  \n",
       "2             POINT (-94.681939 43.111913)  \n",
       "3             POINT (-94.953239 42.777449)  \n",
       "4             POINT (-91.473634 43.262114)  \n",
       "...                                    ...  \n",
       "1785  POINT (-94.73259400000002 40.991872)  \n",
       "1786  POINT (-95.81799900000001 41.280148)  \n",
       "1787          POINT (-91.553462 42.037621)  \n",
       "1788          POINT (-94.173816 42.501131)  \n",
       "1789          POINT (-93.833455 41.614719)  \n",
       "\n",
       "[1790 rows x 2 columns]"
      ]
     },
     "execution_count": 61,
     "metadata": {},
     "output_type": "execute_result"
    }
   ],
   "source": [
    "loc_gdf = gpd.GeoDataFrame(d, crs=iowa_pop_gdf.crs)\n",
    "type(loc_gdf)\n",
    "loc_gdf"
   ]
  },
  {
   "cell_type": "code",
   "execution_count": 58,
   "id": "966e41d1",
   "metadata": {},
   "outputs": [
    {
     "data": {
      "image/png": "[encoded data removed]",
      "text/plain": [
       "<Figure size 432x288 with 1 Axes>"
      ]
     },
     "metadata": {
      "needs_background": "light"
     },
     "output_type": "display_data"
    }
   ],
   "source": [
    "loc_gdf.plot(marker='*', markersize=5);\n",
    "# locations_gpd.to_crs(iowa_pop_gdf)"
   ]
  },
  {
   "cell_type": "code",
   "execution_count": null,
   "id": "b8cf6ece",
   "metadata": {},
   "outputs": [],
   "source": [
    "iowa = us[us.stusab == \"IA\"]\n",
    "iowa = iowac\n",
    "\n",
    "iowa['area'] = iowa.area\n",
    "iowa['area'].head()"
   ]
  },
  {
   "cell_type": "code",
   "execution_count": null,
   "id": "ce79f53c",
   "metadata": {},
   "outputs": [],
   "source": [
    "# iowa.head(3)\n",
    "# iowa.info()"
   ]
  },
  {
   "cell_type": "code",
   "execution_count": null,
   "id": "4a694994",
   "metadata": {},
   "outputs": [],
   "source": []
  },
  {
   "cell_type": "code",
   "execution_count": null,
   "id": "68877a84",
   "metadata": {},
   "outputs": [],
   "source": [
    "\n",
    "\n"
   ]
  }
 ],
 "metadata": {
  "kernelspec": {
   "display_name": "Python 3 (ipykernel)",
   "language": "python",
   "name": "python3"
  },
  "language_info": {
   "codemirror_mode": {
    "name": "ipython",
    "version": 3
   },
   "file_extension": ".py",
   "mimetype": "text/x-python",
   "name": "python",
   "nbconvert_exporter": "python",
   "pygments_lexer": "ipython3",
   "version": "3.9.7"
  }
 },
 "nbformat": 4,
 "nbformat_minor": 5
}

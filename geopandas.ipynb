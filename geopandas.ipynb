{
 "cells": [
  {
   "cell_type": "code",
   "execution_count": 1,
   "id": "27b03844",
   "metadata": {},
   "outputs": [],
   "source": [
    "import pandas as pd"
   ]
  },
  {
   "cell_type": "code",
   "execution_count": 41,
   "id": "7e975a87",
   "metadata": {},
   "outputs": [],
   "source": [
    "import descartes\n",
    "import geopandas as gpd\n",
    "import numpy as np\n",
    "import matplotlib.pyplot as plt\n",
    "from shapely.geometry import Point, Polygon\n",
    "%matplotlib inline\n",
    "import adjustText as aT\n",
    "import geocoder"
   ]
  },
  {
   "cell_type": "code",
   "execution_count": 42,
   "id": "5da073aa",
   "metadata": {},
   "outputs": [],
   "source": [
    "# !pip install adjustText"
   ]
  },
  {
   "cell_type": "code",
   "execution_count": 44,
   "id": "9c5796e4",
   "metadata": {},
   "outputs": [],
   "source": [
    "# ! pip install geocoder\n",
    "# https://stackoverflow.com/questions/13686001/python-module-for-getting-latitude-and-longitude-from-the-name-of-a-us-city"
   ]
  },
  {
   "cell_type": "code",
   "execution_count": 3,
   "id": "141b97ac",
   "metadata": {},
   "outputs": [],
   "source": [
    "from missing_columns_pd import miss_cols"
   ]
  },
  {
   "cell_type": "code",
   "execution_count": 4,
   "id": "e317171d",
   "metadata": {},
   "outputs": [],
   "source": [
    "pop_by_county = pd.read_csv(r'C:\\Users\\dgarb\\OneDrive\\Desktop\\Capstone Data\\census data\\Iowa population by county from Iowa demographics.csv')"
   ]
  },
  {
   "cell_type": "code",
   "execution_count": 4,
   "id": "0f0213f6",
   "metadata": {},
   "outputs": [],
   "source": [
    "# pop_by_county[['County','Population']]"
   ]
  },
  {
   "cell_type": "code",
   "execution_count": 5,
   "id": "a6d8e333",
   "metadata": {},
   "outputs": [],
   "source": [
    "# s.replace('is','was')\n",
    "pop_by_county['county2'] = pop_by_county.County.str.replace('County','')\n",
    "pop_by_county['county2'] = pop_by_county['county2'].str.rstrip()\n",
    "pop_by_county['county2'] = pop_by_county['county2'].str.lstrip()\n",
    "pop_by_county['county2'] = pop_by_county['county2'].str.lower()"
   ]
  },
  {
   "cell_type": "code",
   "execution_count": 6,
   "id": "43d8c5b2",
   "metadata": {},
   "outputs": [
    {
     "data": {
      "text/html": [
       "<div>\n",
       "<style scoped>\n",
       "    .dataframe tbody tr th:only-of-type {\n",
       "        vertical-align: middle;\n",
       "    }\n",
       "\n",
       "    .dataframe tbody tr th {\n",
       "        vertical-align: top;\n",
       "    }\n",
       "\n",
       "    .dataframe thead th {\n",
       "        text-align: right;\n",
       "    }\n",
       "</style>\n",
       "<table border=\"1\" class=\"dataframe\">\n",
       "  <thead>\n",
       "    <tr style=\"text-align: right;\">\n",
       "      <th></th>\n",
       "      <th>Rank</th>\n",
       "      <th>County</th>\n",
       "      <th>Population</th>\n",
       "      <th>county2</th>\n",
       "    </tr>\n",
       "  </thead>\n",
       "  <tbody>\n",
       "    <tr>\n",
       "      <th>0</th>\n",
       "      <td>1</td>\n",
       "      <td>Polk County</td>\n",
       "      <td>485418</td>\n",
       "      <td>polk</td>\n",
       "    </tr>\n",
       "    <tr>\n",
       "      <th>1</th>\n",
       "      <td>2</td>\n",
       "      <td>Linn County</td>\n",
       "      <td>225601</td>\n",
       "      <td>linn</td>\n",
       "    </tr>\n",
       "    <tr>\n",
       "      <th>2</th>\n",
       "      <td>3</td>\n",
       "      <td>Scott County</td>\n",
       "      <td>172938</td>\n",
       "      <td>scott</td>\n",
       "    </tr>\n",
       "    <tr>\n",
       "      <th>3</th>\n",
       "      <td>4</td>\n",
       "      <td>Johnson County</td>\n",
       "      <td>150819</td>\n",
       "      <td>johnson</td>\n",
       "    </tr>\n",
       "    <tr>\n",
       "      <th>4</th>\n",
       "      <td>5</td>\n",
       "      <td>Black Hawk County</td>\n",
       "      <td>131813</td>\n",
       "      <td>black hawk</td>\n",
       "    </tr>\n",
       "  </tbody>\n",
       "</table>\n",
       "</div>"
      ],
      "text/plain": [
       "   Rank             County  Population     county2\n",
       "0     1        Polk County      485418        polk\n",
       "1     2        Linn County      225601        linn\n",
       "2     3       Scott County      172938       scott\n",
       "3     4     Johnson County      150819     johnson\n",
       "4     5  Black Hawk County      131813  black hawk"
      ]
     },
     "execution_count": 6,
     "metadata": {},
     "output_type": "execute_result"
    }
   ],
   "source": [
    "# pop_by_county.set_index('county2')\n",
    "pop_by_county.head()"
   ]
  },
  {
   "cell_type": "code",
   "execution_count": 7,
   "id": "c3879e6a",
   "metadata": {},
   "outputs": [],
   "source": [
    "sdtypes = {'Store_Number':str,'Zip_Code':str, 'Store_Location':str, 'County_Number':str}"
   ]
  },
  {
   "cell_type": "code",
   "execution_count": 8,
   "id": "8de74902",
   "metadata": {},
   "outputs": [],
   "source": [
    "stores = pd.read_csv(r'C:\\Users\\dgarb\\OneDrive\\Desktop\\Capstone Data\\liquor_2021\\stores_2021.csv',index_col=0, dtype=sdtypes)"
   ]
  },
  {
   "cell_type": "code",
   "execution_count": 9,
   "id": "40ce4a77",
   "metadata": {},
   "outputs": [
    {
     "name": "stdout",
     "output_type": "stream",
     "text": [
      "<class 'pandas.core.frame.DataFrame'>\n",
      "Int64Index: 1948 entries, 223124 to 1094183\n",
      "Data columns (total 8 columns):\n",
      " #   Column          Non-Null Count  Dtype \n",
      "---  ------          --------------  ----- \n",
      " 0   Store_Number    1948 non-null   object\n",
      " 1   Store_Name      1948 non-null   object\n",
      " 2   Address         1948 non-null   object\n",
      " 3   City            1948 non-null   object\n",
      " 4   Zip_Code        1948 non-null   object\n",
      " 5   Store_Location  1790 non-null   object\n",
      " 6   County_Number   1948 non-null   object\n",
      " 7   County          1948 non-null   object\n",
      "dtypes: object(8)\n",
      "memory usage: 137.0+ KB\n"
     ]
    }
   ],
   "source": [
    "stores.info()"
   ]
  },
  {
   "cell_type": "code",
   "execution_count": 10,
   "id": "04692b2c",
   "metadata": {},
   "outputs": [],
   "source": [
    "stores['county_copy'] = stores.County.str.lower()          "
   ]
  },
  {
   "cell_type": "code",
   "execution_count": 11,
   "id": "2c9d45a2",
   "metadata": {},
   "outputs": [],
   "source": [
    "stores['county2'] = stores.County.str.lower()\n"
   ]
  },
  {
   "cell_type": "code",
   "execution_count": 12,
   "id": "863773d5",
   "metadata": {},
   "outputs": [
    {
     "name": "stdout",
     "output_type": "stream",
     "text": [
      "<class 'pandas.core.frame.DataFrame'>\n",
      "Int64Index: 1948 entries, 223124 to 1094183\n",
      "Data columns (total 10 columns):\n",
      " #   Column          Non-Null Count  Dtype \n",
      "---  ------          --------------  ----- \n",
      " 0   Store_Number    1948 non-null   object\n",
      " 1   Store_Name      1948 non-null   object\n",
      " 2   Address         1948 non-null   object\n",
      " 3   City            1948 non-null   object\n",
      " 4   Zip_Code        1948 non-null   object\n",
      " 5   Store_Location  1790 non-null   object\n",
      " 6   County_Number   1948 non-null   object\n",
      " 7   County          1948 non-null   object\n",
      " 8   county_copy     1948 non-null   object\n",
      " 9   county2         1948 non-null   object\n",
      "dtypes: object(10)\n",
      "memory usage: 167.4+ KB\n"
     ]
    }
   ],
   "source": [
    "stores.info()"
   ]
  },
  {
   "cell_type": "code",
   "execution_count": 85,
   "id": "73120785",
   "metadata": {},
   "outputs": [],
   "source": [
    "# stores.loc[stores.county2.isin(['buena vist', 'cerro gord', 'obrien', 'pottawatta']),['county2'] ]"
   ]
  },
  {
   "cell_type": "code",
   "execution_count": 13,
   "id": "c15734f5",
   "metadata": {},
   "outputs": [],
   "source": [
    "county_dict = {'buena vist':'buena vista','cerro gord':'cerro gordo', 'obrien':\"o'brien\", 'pottawatta':'pottawattamie'}"
   ]
  },
  {
   "cell_type": "code",
   "execution_count": 14,
   "id": "981ab6f7",
   "metadata": {},
   "outputs": [],
   "source": [
    "county_index = stores.county2.isin(['buena vist', 'cerro gord', 'obrien', 'pottawatta'])"
   ]
  },
  {
   "cell_type": "code",
   "execution_count": 15,
   "id": "dc886810",
   "metadata": {},
   "outputs": [],
   "source": [
    "stores.loc[county_index, 'county2'] = stores.loc[county_index].apply(lambda current_row: county_dict[current_row[-1]], axis=1 ) "
   ]
  },
  {
   "cell_type": "code",
   "execution_count": 16,
   "id": "060eb7b1",
   "metadata": {},
   "outputs": [
    {
     "data": {
      "text/html": [
       "<div>\n",
       "<style scoped>\n",
       "    .dataframe tbody tr th:only-of-type {\n",
       "        vertical-align: middle;\n",
       "    }\n",
       "\n",
       "    .dataframe tbody tr th {\n",
       "        vertical-align: top;\n",
       "    }\n",
       "\n",
       "    .dataframe thead th {\n",
       "        text-align: right;\n",
       "    }\n",
       "</style>\n",
       "<table border=\"1\" class=\"dataframe\">\n",
       "  <thead>\n",
       "    <tr style=\"text-align: right;\">\n",
       "      <th></th>\n",
       "      <th>county2</th>\n",
       "      <th>county_copy</th>\n",
       "    </tr>\n",
       "  </thead>\n",
       "  <tbody>\n",
       "    <tr>\n",
       "      <th>223124</th>\n",
       "      <td>buena vista</td>\n",
       "      <td>buena vist</td>\n",
       "    </tr>\n",
       "    <tr>\n",
       "      <th>262897</th>\n",
       "      <td>buena vista</td>\n",
       "      <td>buena vist</td>\n",
       "    </tr>\n",
       "    <tr>\n",
       "      <th>313965</th>\n",
       "      <td>o'brien</td>\n",
       "      <td>obrien</td>\n",
       "    </tr>\n",
       "    <tr>\n",
       "      <th>314123</th>\n",
       "      <td>o'brien</td>\n",
       "      <td>obrien</td>\n",
       "    </tr>\n",
       "    <tr>\n",
       "      <th>373775</th>\n",
       "      <td>buena vista</td>\n",
       "      <td>buena vist</td>\n",
       "    </tr>\n",
       "    <tr>\n",
       "      <th>...</th>\n",
       "      <td>...</td>\n",
       "      <td>...</td>\n",
       "    </tr>\n",
       "    <tr>\n",
       "      <th>1086279</th>\n",
       "      <td>pottawattamie</td>\n",
       "      <td>pottawatta</td>\n",
       "    </tr>\n",
       "    <tr>\n",
       "      <th>1086243</th>\n",
       "      <td>pottawattamie</td>\n",
       "      <td>pottawatta</td>\n",
       "    </tr>\n",
       "    <tr>\n",
       "      <th>1086249</th>\n",
       "      <td>buena vista</td>\n",
       "      <td>buena vist</td>\n",
       "    </tr>\n",
       "    <tr>\n",
       "      <th>1086258</th>\n",
       "      <td>pottawattamie</td>\n",
       "      <td>pottawatta</td>\n",
       "    </tr>\n",
       "    <tr>\n",
       "      <th>1086262</th>\n",
       "      <td>pottawattamie</td>\n",
       "      <td>pottawatta</td>\n",
       "    </tr>\n",
       "  </tbody>\n",
       "</table>\n",
       "<p>130 rows × 2 columns</p>\n",
       "</div>"
      ],
      "text/plain": [
       "               county2 county_copy\n",
       "223124     buena vista  buena vist\n",
       "262897     buena vista  buena vist\n",
       "313965         o'brien      obrien\n",
       "314123         o'brien      obrien\n",
       "373775     buena vista  buena vist\n",
       "...                ...         ...\n",
       "1086279  pottawattamie  pottawatta\n",
       "1086243  pottawattamie  pottawatta\n",
       "1086249    buena vista  buena vist\n",
       "1086258  pottawattamie  pottawatta\n",
       "1086262  pottawattamie  pottawatta\n",
       "\n",
       "[130 rows x 2 columns]"
      ]
     },
     "execution_count": 16,
     "metadata": {},
     "output_type": "execute_result"
    }
   ],
   "source": [
    "# check applied correctly\n",
    "stores.loc[stores.county_copy.isin(['buena vist', 'cerro gord', 'obrien', 'pottawatta']),['county2','county_copy'] ]"
   ]
  },
  {
   "cell_type": "code",
   "execution_count": 45,
   "id": "66d40ccc",
   "metadata": {},
   "outputs": [
    {
     "data": {
      "text/html": [
       "<div>\n",
       "<style scoped>\n",
       "    .dataframe tbody tr th:only-of-type {\n",
       "        vertical-align: middle;\n",
       "    }\n",
       "\n",
       "    .dataframe tbody tr th {\n",
       "        vertical-align: top;\n",
       "    }\n",
       "\n",
       "    .dataframe thead th {\n",
       "        text-align: right;\n",
       "    }\n",
       "</style>\n",
       "<table border=\"1\" class=\"dataframe\">\n",
       "  <thead>\n",
       "    <tr style=\"text-align: right;\">\n",
       "      <th></th>\n",
       "      <th>county2</th>\n",
       "      <th>Store_Number</th>\n",
       "    </tr>\n",
       "  </thead>\n",
       "  <tbody>\n",
       "    <tr>\n",
       "      <th>0</th>\n",
       "      <td>adair</td>\n",
       "      <td>7</td>\n",
       "    </tr>\n",
       "    <tr>\n",
       "      <th>1</th>\n",
       "      <td>adams</td>\n",
       "      <td>2</td>\n",
       "    </tr>\n",
       "    <tr>\n",
       "      <th>2</th>\n",
       "      <td>allamakee</td>\n",
       "      <td>10</td>\n",
       "    </tr>\n",
       "    <tr>\n",
       "      <th>3</th>\n",
       "      <td>appanoose</td>\n",
       "      <td>9</td>\n",
       "    </tr>\n",
       "    <tr>\n",
       "      <th>4</th>\n",
       "      <td>audubon</td>\n",
       "      <td>4</td>\n",
       "    </tr>\n",
       "    <tr>\n",
       "      <th>5</th>\n",
       "      <td>benton</td>\n",
       "      <td>16</td>\n",
       "    </tr>\n",
       "    <tr>\n",
       "      <th>6</th>\n",
       "      <td>black hawk</td>\n",
       "      <td>93</td>\n",
       "    </tr>\n",
       "    <tr>\n",
       "      <th>7</th>\n",
       "      <td>boone</td>\n",
       "      <td>14</td>\n",
       "    </tr>\n",
       "    <tr>\n",
       "      <th>8</th>\n",
       "      <td>bremer</td>\n",
       "      <td>13</td>\n",
       "    </tr>\n",
       "    <tr>\n",
       "      <th>9</th>\n",
       "      <td>buchanan</td>\n",
       "      <td>17</td>\n",
       "    </tr>\n",
       "  </tbody>\n",
       "</table>\n",
       "</div>"
      ],
      "text/plain": [
       "      county2  Store_Number\n",
       "0       adair             7\n",
       "1       adams             2\n",
       "2   allamakee            10\n",
       "3   appanoose             9\n",
       "4     audubon             4\n",
       "5      benton            16\n",
       "6  black hawk            93\n",
       "7       boone            14\n",
       "8      bremer            13\n",
       "9    buchanan            17"
      ]
     },
     "execution_count": 45,
     "metadata": {},
     "output_type": "execute_result"
    }
   ],
   "source": [
    "stores_in_counties = stores.groupby(['county2']).agg({'Store_Number':'nunique'}).reset_index()\n",
    "stores_in_counties.head(10)"
   ]
  },
  {
   "cell_type": "code",
   "execution_count": 18,
   "id": "939fc52f",
   "metadata": {},
   "outputs": [],
   "source": [
    "store_locations = stores[['Store_Name','Store_Location']]"
   ]
  },
  {
   "cell_type": "markdown",
   "id": "e749cae9",
   "metadata": {},
   "source": [
    "#from documentation\n",
    "\n",
    "d = {'col1': ['name1', 'name2'], 'wkt': ['POINT (1 2)', 'POINT (2 1)']}\n",
    "\n",
    "df = pd.DataFrame(d)\n",
    "\n",
    "gs = geopandas.GeoSeries.from_wkt(df['wkt'])\n",
    "\n",
    "gdf = geopandas.GeoDataFrame(df, geometry=gs, crs=\"EPSG:4326\")\n"
   ]
  },
  {
   "cell_type": "markdown",
   "id": "49ac1ec1",
   "metadata": {},
   "source": [
    "### from Sam\n",
    "\n",
    "where locations is your db with the store data, and 'StoreLocation' is the name of the column\n",
    "\n",
    "from shapely import wkt\n",
    "\n",
    "locations['StoreLocation'].apply(wkt.loads)"
   ]
  },
  {
   "cell_type": "code",
   "execution_count": 19,
   "id": "67660a4f",
   "metadata": {},
   "outputs": [],
   "source": [
    "from shapely import wkt\n",
    "\n",
    "# locations['StoreLocation'].apply(wkt.loads)"
   ]
  },
  {
   "cell_type": "code",
   "execution_count": 20,
   "id": "85cf0f6a",
   "metadata": {},
   "outputs": [
    {
     "data": {
      "text/plain": [
       "223124                                      NaN\n",
       "231153             POINT (-95.752119 43.397431)\n",
       "239961              POINT (-95.143701 43.12759)\n",
       "246141             POINT (-94.681939 43.111913)\n",
       "262897             POINT (-94.953239 42.777449)\n",
       "                           ...                 \n",
       "1086261    POINT (-94.73259400000002 40.991872)\n",
       "1086262    POINT (-95.81799900000001 41.280148)\n",
       "1086263            POINT (-91.553462 42.037621)\n",
       "1086241            POINT (-94.173816 42.501131)\n",
       "1094183            POINT (-93.833455 41.614719)\n",
       "Name: Store_Location, Length: 1948, dtype: object"
      ]
     },
     "execution_count": 20,
     "metadata": {},
     "output_type": "execute_result"
    }
   ],
   "source": [
    "stores.Store_Location"
   ]
  },
  {
   "cell_type": "code",
   "execution_count": 21,
   "id": "c3d07118",
   "metadata": {},
   "outputs": [
    {
     "data": {
      "text/plain": [
       "231153             POINT (-95.752119 43.397431)\n",
       "239961              POINT (-95.143701 43.12759)\n",
       "246141             POINT (-94.681939 43.111913)\n",
       "262897             POINT (-94.953239 42.777449)\n",
       "262310             POINT (-91.473634 43.262114)\n",
       "                           ...                 \n",
       "1086261    POINT (-94.73259400000002 40.991872)\n",
       "1086262    POINT (-95.81799900000001 41.280148)\n",
       "1086263            POINT (-91.553462 42.037621)\n",
       "1086241            POINT (-94.173816 42.501131)\n",
       "1094183            POINT (-93.833455 41.614719)\n",
       "Name: Store_Location, Length: 1790, dtype: object"
      ]
     },
     "execution_count": 21,
     "metadata": {},
     "output_type": "execute_result"
    }
   ],
   "source": [
    "locations = stores[['Store_Name','Store_Location']]\n",
    "locations = locations.dropna()\n",
    "# store_locations\n",
    "locations['Store_Location'].apply(wkt.loads)\n",
    "# where locations is your db with the store data, and 'StoreLocation' is the name of the column"
   ]
  },
  {
   "cell_type": "code",
   "execution_count": 22,
   "id": "21f20153",
   "metadata": {},
   "outputs": [
    {
     "data": {
      "text/plain": [
       "list"
      ]
     },
     "execution_count": 22,
     "metadata": {},
     "output_type": "execute_result"
    }
   ],
   "source": [
    "# create lists for dicitionary creation\n",
    "\n",
    "names = list(locations.Store_Name)\n",
    "# print('type(names) = ', type(names))\n",
    "\n",
    "points = list(locations.Store_Location)\n",
    "type(points)"
   ]
  },
  {
   "cell_type": "code",
   "execution_count": 23,
   "id": "522995f5",
   "metadata": {},
   "outputs": [],
   "source": [
    "#create dictionary\n",
    "\n",
    "d = {'col1':names, 'geometry':points }"
   ]
  },
  {
   "cell_type": "code",
   "execution_count": 24,
   "id": "2dc098b2",
   "metadata": {},
   "outputs": [
    {
     "data": {
      "text/plain": [
       "<AxesSubplot:>"
      ]
     },
     "execution_count": 24,
     "metadata": {},
     "output_type": "execute_result"
    },
    {
     "data": {
      "image/png": "[encoded data removed]",
      "text/plain": [
       "<Figure size 432x288 with 1 Axes>"
      ]
     },
     "metadata": {
      "needs_background": "light"
     },
     "output_type": "display_data"
    }
   ],
   "source": [
    "# create GeoDataFrame from dictionary\n",
    "\n",
    "loc_gdf = gpd.GeoDataFrame(d, crs=\"EPSG:4326\")\n",
    "loc_gdf.plot()"
   ]
  },
  {
   "cell_type": "code",
   "execution_count": 25,
   "id": "8c282647",
   "metadata": {},
   "outputs": [
    {
     "data": {
      "text/plain": [
       "geopandas.geodataframe.GeoDataFrame"
      ]
     },
     "execution_count": 25,
     "metadata": {},
     "output_type": "execute_result"
    }
   ],
   "source": [
    "type(loc_gdf)"
   ]
  },
  {
   "cell_type": "code",
   "execution_count": null,
   "id": "244b2cf5",
   "metadata": {},
   "outputs": [],
   "source": []
  },
  {
   "cell_type": "code",
   "execution_count": 26,
   "id": "3e8955e8",
   "metadata": {},
   "outputs": [
    {
     "data": {
      "text/plain": [
       "geopandas.geoseries.GeoSeries"
      ]
     },
     "execution_count": 26,
     "metadata": {},
     "output_type": "execute_result"
    }
   ],
   "source": [
    "type(loc_gdf.geometry)"
   ]
  },
  {
   "cell_type": "markdown",
   "id": "2d9245f8",
   "metadata": {},
   "source": [
    "#from documentaiton\n",
    " \n",
    "d = {'col1': ['name1', 'name2'], 'geometry': [Point(1, 2), Point(2, 1)]}\n",
    "\n",
    "gdf = geopandas.GeoDataFrame(d, crs=\"EPSG:4326\")\n",
    "\n",
    "gdf"
   ]
  },
  {
   "cell_type": "code",
   "execution_count": 19,
   "id": "4f19f2c5",
   "metadata": {},
   "outputs": [],
   "source": [
    "# from geopandas import GeoSeries\n",
    "# store_locations = stores[['Store_Name','Store_Location']]\n",
    "# store_locations = store_locations.dropna()\n",
    "# store_locations.columns = ['name','geometry']\n",
    "# locations_gpd = gpd.GeoDataFrame(store_locations, crs=\"EPSG:4326\")"
   ]
  },
  {
   "cell_type": "code",
   "execution_count": 20,
   "id": "ed045d84",
   "metadata": {},
   "outputs": [],
   "source": [
    "# type(locations_gpd)"
   ]
  },
  {
   "cell_type": "markdown",
   "id": "858eedaa",
   "metadata": {},
   "source": [
    "read in us shape file"
   ]
  },
  {
   "cell_type": "code",
   "execution_count": 27,
   "id": "45ea27cd",
   "metadata": {},
   "outputs": [
    {
     "name": "stderr",
     "output_type": "stream",
     "text": [
      "C:\\Users\\dgarb\\anaconda3_reinstall\\lib\\site-packages\\geopandas\\array.py:85: ShapelyDeprecationWarning: __len__ for multi-part geometries is deprecated and will be removed in Shapely 2.0. Check the length of the `geoms` property instead to get the  number of parts of a multi-part geometry.\n",
      "  aout[:] = out\n"
     ]
    }
   ],
   "source": [
    "\n",
    "us = gpd.read_file(r'C:\\Users\\dgarb\\OneDrive\\Desktop\\Capstone Data\\us-county-boundaries.shp')"
   ]
  },
  {
   "cell_type": "code",
   "execution_count": 28,
   "id": "2fd4a668",
   "metadata": {},
   "outputs": [
    {
     "data": {
      "text/html": [
       "<div>\n",
       "<style scoped>\n",
       "    .dataframe tbody tr th:only-of-type {\n",
       "        vertical-align: middle;\n",
       "    }\n",
       "\n",
       "    .dataframe tbody tr th {\n",
       "        vertical-align: top;\n",
       "    }\n",
       "\n",
       "    .dataframe thead th {\n",
       "        text-align: right;\n",
       "    }\n",
       "</style>\n",
       "<table border=\"1\" class=\"dataframe\">\n",
       "  <thead>\n",
       "    <tr style=\"text-align: right;\">\n",
       "      <th></th>\n",
       "      <th>statefp</th>\n",
       "      <th>countyfp</th>\n",
       "      <th>countyns</th>\n",
       "      <th>geoid</th>\n",
       "      <th>name</th>\n",
       "      <th>namelsad</th>\n",
       "      <th>stusab</th>\n",
       "      <th>lsad</th>\n",
       "      <th>classfp</th>\n",
       "      <th>mtfcc</th>\n",
       "      <th>...</th>\n",
       "      <th>cbsafp</th>\n",
       "      <th>metdivfp</th>\n",
       "      <th>funcstat</th>\n",
       "      <th>aland</th>\n",
       "      <th>awater</th>\n",
       "      <th>intptlat</th>\n",
       "      <th>intptlon</th>\n",
       "      <th>state_name</th>\n",
       "      <th>countyfp_no</th>\n",
       "      <th>geometry</th>\n",
       "    </tr>\n",
       "  </thead>\n",
       "  <tbody>\n",
       "    <tr>\n",
       "      <th>0</th>\n",
       "      <td>39</td>\n",
       "      <td>063</td>\n",
       "      <td>01074044</td>\n",
       "      <td>39063</td>\n",
       "      <td>Hancock</td>\n",
       "      <td>Hancock County</td>\n",
       "      <td>OH</td>\n",
       "      <td>06</td>\n",
       "      <td>H1</td>\n",
       "      <td>G4020</td>\n",
       "      <td>...</td>\n",
       "      <td>22300</td>\n",
       "      <td>None</td>\n",
       "      <td>A</td>\n",
       "      <td>1.376126e+09</td>\n",
       "      <td>6020647.0</td>\n",
       "      <td>+41.0004711</td>\n",
       "      <td>-083.6660335</td>\n",
       "      <td>Ohio</td>\n",
       "      <td>63</td>\n",
       "      <td>POLYGON ((-83.88076 41.08036, -83.88076 41.081...</td>\n",
       "    </tr>\n",
       "    <tr>\n",
       "      <th>1</th>\n",
       "      <td>51</td>\n",
       "      <td>179</td>\n",
       "      <td>01480173</td>\n",
       "      <td>51179</td>\n",
       "      <td>Stafford</td>\n",
       "      <td>Stafford County</td>\n",
       "      <td>VA</td>\n",
       "      <td>06</td>\n",
       "      <td>H1</td>\n",
       "      <td>G4020</td>\n",
       "      <td>...</td>\n",
       "      <td>47900</td>\n",
       "      <td>47894</td>\n",
       "      <td>A</td>\n",
       "      <td>6.972372e+08</td>\n",
       "      <td>28088011.0</td>\n",
       "      <td>+38.4132608</td>\n",
       "      <td>-077.4513342</td>\n",
       "      <td>Virginia</td>\n",
       "      <td>179</td>\n",
       "      <td>POLYGON ((-77.58878 38.50404, -77.58295 38.508...</td>\n",
       "    </tr>\n",
       "  </tbody>\n",
       "</table>\n",
       "<p>2 rows × 21 columns</p>\n",
       "</div>"
      ],
      "text/plain": [
       "  statefp countyfp  countyns  geoid      name         namelsad stusab lsad  \\\n",
       "0      39      063  01074044  39063   Hancock   Hancock County     OH   06   \n",
       "1      51      179  01480173  51179  Stafford  Stafford County     VA   06   \n",
       "\n",
       "  classfp  mtfcc  ... cbsafp metdivfp funcstat         aland      awater  \\\n",
       "0      H1  G4020  ...  22300     None        A  1.376126e+09   6020647.0   \n",
       "1      H1  G4020  ...  47900    47894        A  6.972372e+08  28088011.0   \n",
       "\n",
       "      intptlat      intptlon state_name countyfp_no  \\\n",
       "0  +41.0004711  -083.6660335       Ohio          63   \n",
       "1  +38.4132608  -077.4513342   Virginia         179   \n",
       "\n",
       "                                            geometry  \n",
       "0  POLYGON ((-83.88076 41.08036, -83.88076 41.081...  \n",
       "1  POLYGON ((-77.58878 38.50404, -77.58295 38.508...  \n",
       "\n",
       "[2 rows x 21 columns]"
      ]
     },
     "execution_count": 28,
     "metadata": {},
     "output_type": "execute_result"
    }
   ],
   "source": [
    "us.head(2)"
   ]
  },
  {
   "cell_type": "markdown",
   "id": "9dda640c",
   "metadata": {},
   "source": [
    "create Iowa geodataframe\n"
   ]
  },
  {
   "cell_type": "code",
   "execution_count": 30,
   "id": "2aa2ce9c",
   "metadata": {},
   "outputs": [],
   "source": [
    "iowa = us[us.stusab == \"IA\"]"
   ]
  },
  {
   "cell_type": "code",
   "execution_count": 31,
   "id": "5d12ea2a",
   "metadata": {},
   "outputs": [
    {
     "data": {
      "text/plain": [
       "geopandas.geodataframe.GeoDataFrame"
      ]
     },
     "execution_count": 31,
     "metadata": {},
     "output_type": "execute_result"
    }
   ],
   "source": [
    "type(iowa)"
   ]
  },
  {
   "cell_type": "code",
   "execution_count": 32,
   "id": "2e8a3ecb",
   "metadata": {},
   "outputs": [
    {
     "data": {
      "text/html": [
       "<div>\n",
       "<style scoped>\n",
       "    .dataframe tbody tr th:only-of-type {\n",
       "        vertical-align: middle;\n",
       "    }\n",
       "\n",
       "    .dataframe tbody tr th {\n",
       "        vertical-align: top;\n",
       "    }\n",
       "\n",
       "    .dataframe thead th {\n",
       "        text-align: right;\n",
       "    }\n",
       "</style>\n",
       "<table border=\"1\" class=\"dataframe\">\n",
       "  <thead>\n",
       "    <tr style=\"text-align: right;\">\n",
       "      <th></th>\n",
       "      <th>statefp</th>\n",
       "      <th>countyfp</th>\n",
       "      <th>countyns</th>\n",
       "      <th>geoid</th>\n",
       "      <th>name</th>\n",
       "      <th>namelsad</th>\n",
       "      <th>stusab</th>\n",
       "      <th>lsad</th>\n",
       "      <th>classfp</th>\n",
       "      <th>mtfcc</th>\n",
       "      <th>...</th>\n",
       "      <th>cbsafp</th>\n",
       "      <th>metdivfp</th>\n",
       "      <th>funcstat</th>\n",
       "      <th>aland</th>\n",
       "      <th>awater</th>\n",
       "      <th>intptlat</th>\n",
       "      <th>intptlon</th>\n",
       "      <th>state_name</th>\n",
       "      <th>countyfp_no</th>\n",
       "      <th>geometry</th>\n",
       "    </tr>\n",
       "  </thead>\n",
       "  <tbody>\n",
       "    <tr>\n",
       "      <th>4</th>\n",
       "      <td>19</td>\n",
       "      <td>031</td>\n",
       "      <td>00465205</td>\n",
       "      <td>19031</td>\n",
       "      <td>Cedar</td>\n",
       "      <td>Cedar County</td>\n",
       "      <td>IA</td>\n",
       "      <td>06</td>\n",
       "      <td>H1</td>\n",
       "      <td>G4020</td>\n",
       "      <td>...</td>\n",
       "      <td>None</td>\n",
       "      <td>None</td>\n",
       "      <td>A</td>\n",
       "      <td>1.500799e+09</td>\n",
       "      <td>6385832.0</td>\n",
       "      <td>+41.7723600</td>\n",
       "      <td>-091.1326105</td>\n",
       "      <td>Iowa</td>\n",
       "      <td>31</td>\n",
       "      <td>POLYGON ((-91.36608 41.86007, -91.36620 41.860...</td>\n",
       "    </tr>\n",
       "    <tr>\n",
       "      <th>6</th>\n",
       "      <td>19</td>\n",
       "      <td>089</td>\n",
       "      <td>00465233</td>\n",
       "      <td>19089</td>\n",
       "      <td>Howard</td>\n",
       "      <td>Howard County</td>\n",
       "      <td>IA</td>\n",
       "      <td>06</td>\n",
       "      <td>H1</td>\n",
       "      <td>G4020</td>\n",
       "      <td>...</td>\n",
       "      <td>None</td>\n",
       "      <td>None</td>\n",
       "      <td>A</td>\n",
       "      <td>1.225703e+09</td>\n",
       "      <td>931478.0</td>\n",
       "      <td>+43.3653125</td>\n",
       "      <td>-092.3219084</td>\n",
       "      <td>Iowa</td>\n",
       "      <td>89</td>\n",
       "      <td>POLYGON ((-92.55374 43.42890, -92.55373 43.429...</td>\n",
       "    </tr>\n",
       "    <tr>\n",
       "      <th>25</th>\n",
       "      <td>19</td>\n",
       "      <td>181</td>\n",
       "      <td>00465279</td>\n",
       "      <td>19181</td>\n",
       "      <td>Warren</td>\n",
       "      <td>Warren County</td>\n",
       "      <td>IA</td>\n",
       "      <td>06</td>\n",
       "      <td>H1</td>\n",
       "      <td>G4020</td>\n",
       "      <td>...</td>\n",
       "      <td>19780</td>\n",
       "      <td>None</td>\n",
       "      <td>A</td>\n",
       "      <td>1.475873e+09</td>\n",
       "      <td>9097100.0</td>\n",
       "      <td>+41.3324459</td>\n",
       "      <td>-093.5687512</td>\n",
       "      <td>Iowa</td>\n",
       "      <td>181</td>\n",
       "      <td>POLYGON ((-93.55821 41.51148, -93.55674 41.511...</td>\n",
       "    </tr>\n",
       "    <tr>\n",
       "      <th>126</th>\n",
       "      <td>19</td>\n",
       "      <td>121</td>\n",
       "      <td>00465249</td>\n",
       "      <td>19121</td>\n",
       "      <td>Madison</td>\n",
       "      <td>Madison County</td>\n",
       "      <td>IA</td>\n",
       "      <td>06</td>\n",
       "      <td>H1</td>\n",
       "      <td>G4020</td>\n",
       "      <td>...</td>\n",
       "      <td>19780</td>\n",
       "      <td>None</td>\n",
       "      <td>A</td>\n",
       "      <td>1.452999e+09</td>\n",
       "      <td>2983840.0</td>\n",
       "      <td>+41.3306216</td>\n",
       "      <td>-094.0151842</td>\n",
       "      <td>Iowa</td>\n",
       "      <td>121</td>\n",
       "      <td>POLYGON ((-93.89712 41.50310, -93.89681 41.503...</td>\n",
       "    </tr>\n",
       "    <tr>\n",
       "      <th>148</th>\n",
       "      <td>19</td>\n",
       "      <td>165</td>\n",
       "      <td>00465271</td>\n",
       "      <td>19165</td>\n",
       "      <td>Shelby</td>\n",
       "      <td>Shelby County</td>\n",
       "      <td>IA</td>\n",
       "      <td>06</td>\n",
       "      <td>H1</td>\n",
       "      <td>G4020</td>\n",
       "      <td>...</td>\n",
       "      <td>None</td>\n",
       "      <td>None</td>\n",
       "      <td>A</td>\n",
       "      <td>1.530111e+09</td>\n",
       "      <td>1486125.0</td>\n",
       "      <td>+41.6790143</td>\n",
       "      <td>-095.3089173</td>\n",
       "      <td>Iowa</td>\n",
       "      <td>165</td>\n",
       "      <td>POLYGON ((-95.32481 41.86410, -95.32479 41.864...</td>\n",
       "    </tr>\n",
       "  </tbody>\n",
       "</table>\n",
       "<p>5 rows × 21 columns</p>\n",
       "</div>"
      ],
      "text/plain": [
       "    statefp countyfp  countyns  geoid     name        namelsad stusab lsad  \\\n",
       "4        19      031  00465205  19031    Cedar    Cedar County     IA   06   \n",
       "6        19      089  00465233  19089   Howard   Howard County     IA   06   \n",
       "25       19      181  00465279  19181   Warren   Warren County     IA   06   \n",
       "126      19      121  00465249  19121  Madison  Madison County     IA   06   \n",
       "148      19      165  00465271  19165   Shelby   Shelby County     IA   06   \n",
       "\n",
       "    classfp  mtfcc  ... cbsafp metdivfp funcstat         aland     awater  \\\n",
       "4        H1  G4020  ...   None     None        A  1.500799e+09  6385832.0   \n",
       "6        H1  G4020  ...   None     None        A  1.225703e+09   931478.0   \n",
       "25       H1  G4020  ...  19780     None        A  1.475873e+09  9097100.0   \n",
       "126      H1  G4020  ...  19780     None        A  1.452999e+09  2983840.0   \n",
       "148      H1  G4020  ...   None     None        A  1.530111e+09  1486125.0   \n",
       "\n",
       "        intptlat      intptlon state_name countyfp_no  \\\n",
       "4    +41.7723600  -091.1326105       Iowa          31   \n",
       "6    +43.3653125  -092.3219084       Iowa          89   \n",
       "25   +41.3324459  -093.5687512       Iowa         181   \n",
       "126  +41.3306216  -094.0151842       Iowa         121   \n",
       "148  +41.6790143  -095.3089173       Iowa         165   \n",
       "\n",
       "                                              geometry  \n",
       "4    POLYGON ((-91.36608 41.86007, -91.36620 41.860...  \n",
       "6    POLYGON ((-92.55374 43.42890, -92.55373 43.429...  \n",
       "25   POLYGON ((-93.55821 41.51148, -93.55674 41.511...  \n",
       "126  POLYGON ((-93.89712 41.50310, -93.89681 41.503...  \n",
       "148  POLYGON ((-95.32481 41.86410, -95.32479 41.864...  \n",
       "\n",
       "[5 rows x 21 columns]"
      ]
     },
     "execution_count": 32,
     "metadata": {},
     "output_type": "execute_result"
    }
   ],
   "source": [
    "# metdivfp csafp cbsafp\n",
    "iowa.head()"
   ]
  },
  {
   "cell_type": "markdown",
   "id": "f610f49a",
   "metadata": {},
   "source": [
    "create merge key"
   ]
  },
  {
   "cell_type": "code",
   "execution_count": 33,
   "id": "c6bea77c",
   "metadata": {},
   "outputs": [
    {
     "name": "stderr",
     "output_type": "stream",
     "text": [
      "C:\\Users\\dgarb\\AppData\\Local\\Temp/ipykernel_1164/2015023351.py:1: SettingWithCopyWarning: \n",
      "A value is trying to be set on a copy of a slice from a DataFrame.\n",
      "Try using .loc[row_indexer,col_indexer] = value instead\n",
      "\n",
      "See the caveats in the documentation: https://pandas.pydata.org/pandas-docs/stable/user_guide/indexing.html#returning-a-view-versus-a-copy\n",
      "  iowa['county2'] = iowa.name.str.lower()\n"
     ]
    }
   ],
   "source": [
    "iowa['county2'] = iowa.name.str.lower()"
   ]
  },
  {
   "cell_type": "code",
   "execution_count": 34,
   "id": "6199f435",
   "metadata": {},
   "outputs": [
    {
     "data": {
      "text/plain": [
       "geopandas.geodataframe.GeoDataFrame"
      ]
     },
     "execution_count": 34,
     "metadata": {},
     "output_type": "execute_result"
    }
   ],
   "source": [
    "type(iowa)"
   ]
  },
  {
   "cell_type": "markdown",
   "id": "1525e369",
   "metadata": {},
   "source": [
    "merge iowa shape file with pop_by_county by county2\n",
    "\n",
    "Note to create a geodataframe, the geodataframe must be on the left of the merge"
   ]
  },
  {
   "cell_type": "code",
   "execution_count": 35,
   "id": "d2a3eb45",
   "metadata": {},
   "outputs": [],
   "source": [
    "\n",
    "pop_by_county = pop_by_county[['county2','Population']]\n",
    "\n",
    "iowa_pop_gdf = iowa.merge(pop_by_county,how='inner')"
   ]
  },
  {
   "cell_type": "code",
   "execution_count": 36,
   "id": "72da26be",
   "metadata": {},
   "outputs": [],
   "source": [
    "# iowa_pop_stores_gdf\n",
    "iowa_pop_stores_gdf = iowa_pop_gdf.merge(stores_in_counties,how='inner')\n",
    "# iowa_pop_stores_gdf = iowa_pop_gdf.merge(stores_in_counties,how='left')\n",
    "# iowa_pop_stores_gdf = iowa_pop_gdf.merge(stores_in_counties,how='right')"
   ]
  },
  {
   "cell_type": "code",
   "execution_count": 51,
   "id": "50d5c1cc",
   "metadata": {},
   "outputs": [],
   "source": [
    "za = iowa_pop_stores_gdf[['name','geometry','Population']]"
   ]
  },
  {
   "cell_type": "code",
   "execution_count": 52,
   "id": "5d4a5e0b",
   "metadata": {},
   "outputs": [
    {
     "data": {
      "text/plain": [
       "geopandas.geodataframe.GeoDataFrame"
      ]
     },
     "execution_count": 52,
     "metadata": {},
     "output_type": "execute_result"
    }
   ],
   "source": [
    "type(za)"
   ]
  },
  {
   "cell_type": "code",
   "execution_count": 53,
   "id": "e6558415",
   "metadata": {},
   "outputs": [
    {
     "name": "stderr",
     "output_type": "stream",
     "text": [
      "C:\\Users\\dgarb\\anaconda3_reinstall\\lib\\site-packages\\geopandas\\array.py:524: ShapelyDeprecationWarning: The array interface is deprecated and will no longer work in Shapely 2.0. Convert the '.coords' to a numpy array instead.\n",
      "  return _unary_geo(\"centroid\", self)\n",
      "C:\\Users\\dgarb\\anaconda3_reinstall\\lib\\site-packages\\geopandas\\geoseries.py:133: ShapelyDeprecationWarning: The array interface is deprecated and will no longer work in Shapely 2.0. Convert the '.coords' to a numpy array instead.\n",
      "  data = from_shapely(s.values)\n",
      "C:\\Users\\dgarb\\AppData\\Local\\Temp/ipykernel_1164/3242031377.py:3: SettingWithCopyWarning: \n",
      "A value is trying to be set on a copy of a slice from a DataFrame.\n",
      "Try using .loc[row_indexer,col_indexer] = value instead\n",
      "\n",
      "See the caveats in the documentation: https://pandas.pydata.org/pandas-docs/stable/user_guide/indexing.html#returning-a-view-versus-a-copy\n",
      "  za[\"center\"] = za[\"geometry\"].centroid\n"
     ]
    }
   ],
   "source": [
    "# https://shotlefttodatascience.com/2018/05/16/adding-labels-to-districts-in-geopandas/\n",
    "# https://github.com/shotleft/how-to-python/blob/master/How%20it%20works%20-%20labelling%20districts%20in%20GeoPandas.ipynb\n",
    "\n",
    "za[\"center\"] = za[\"geometry\"].centroid\n",
    "za_points = za.copy()\n",
    "za_points.set_geometry(\"center\", inplace = True)"
   ]
  },
  {
   "cell_type": "code",
   "execution_count": 54,
   "id": "daaddd1e",
   "metadata": {},
   "outputs": [
    {
     "name": "stderr",
     "output_type": "stream",
     "text": [
      "C:\\Users\\dgarb\\anaconda3_reinstall\\lib\\site-packages\\descartes\\patch.py:62: ShapelyDeprecationWarning: The array interface is deprecated and will no longer work in Shapely 2.0. Convert the '.coords' to a numpy array instead.\n",
      "  vertices = concatenate([\n"
     ]
    },
    {
     "data": {
      "text/plain": [
       "1"
      ]
     },
     "execution_count": 54,
     "metadata": {},
     "output_type": "execute_result"
    },
    {
     "data": {
      "image/png": "[encoded data removed]",
      "text/plain": [
       "<Figure size 1080x864 with 1 Axes>"
      ]
     },
     "metadata": {
      "needs_background": "light"
     },
     "output_type": "display_data"
    }
   ],
   "source": [
    "ax = za.plot(figsize = (15, 12), color = \"whitesmoke\", edgecolor = \"lightgrey\", linewidth = 0.5)\n",
    "texts = []\n",
    "\n",
    "for x, y, label in zip(za_points.geometry.x, za_points.geometry.y, za_points[\"name\"]):\n",
    "    texts.append(plt.text(x, y, label, fontsize = 8))\n",
    "\n",
    "aT.adjust_text(texts, force_points=0.3, force_text=0.8, expand_points=(1,1), expand_text=(1,1), \n",
    "               arrowprops=dict(arrowstyle=\"-\", color='grey', lw=0.5))"
   ]
  },
  {
   "cell_type": "code",
   "execution_count": 37,
   "id": "7d85cf20",
   "metadata": {},
   "outputs": [
    {
     "data": {
      "text/plain": [
       "geopandas.geodataframe.GeoDataFrame"
      ]
     },
     "execution_count": 37,
     "metadata": {},
     "output_type": "execute_result"
    }
   ],
   "source": [
    "type(iowa_pop_gdf)\n",
    "type(iowa_pop_stores_gdf)"
   ]
  },
  {
   "cell_type": "code",
   "execution_count": 61,
   "id": "d1c26d2d",
   "metadata": {},
   "outputs": [
    {
     "name": "stderr",
     "output_type": "stream",
     "text": [
      "C:\\Users\\dgarb\\anaconda3_reinstall\\lib\\site-packages\\descartes\\patch.py:62: ShapelyDeprecationWarning: The array interface is deprecated and will no longer work in Shapely 2.0. Convert the '.coords' to a numpy array instead.\n",
      "  vertices = concatenate([\n"
     ]
    },
    {
     "data": {
      "image/png": "[encoded data removed]",
      "text/plain": [
       "<Figure size 1080x864 with 2 Axes>"
      ]
     },
     "metadata": {
      "needs_background": "light"
     },
     "output_type": "display_data"
    }
   ],
   "source": [
    "ax = iowa_pop_gdf.plot(column='Population',legend = True, figsize = (15, 12))\n",
    "aT.adjust_text(texts, force_points=0.3, force_text=0.8, expand_points=(1,1), expand_text=(1,1), \n",
    "               arrowprops=dict(arrowstyle=\"-\", color='black', lw=0.5))\n",
    "ax.set_axis_off(); # turns off axis labels"
   ]
  },
  {
   "cell_type": "code",
   "execution_count": null,
   "id": "d6af76d1",
   "metadata": {},
   "outputs": [],
   "source": [
    "# iowa_pop_gdf\n"
   ]
  },
  {
   "cell_type": "code",
   "execution_count": 48,
   "id": "672dd97c",
   "metadata": {},
   "outputs": [
    {
     "data": {
      "text/plain": [
       "[('metdivfp', 99, 1.0),\n",
       " ('csafp', 74, 0.7475),\n",
       " ('cbsafp', 61, 0.6162),\n",
       " ('Store_Number', 4, 0.0404)]"
      ]
     },
     "execution_count": 48,
     "metadata": {},
     "output_type": "execute_result"
    }
   ],
   "source": [
    "miss_cols(iowa_pop_stores_gdf) #left"
   ]
  },
  {
   "cell_type": "code",
   "execution_count": 51,
   "id": "9b74ed50",
   "metadata": {},
   "outputs": [
    {
     "data": {
      "text/plain": [
       "[('metdivfp', 99, 1.0),\n",
       " ('csafp', 75, 0.7576),\n",
       " ('cbsafp', 64, 0.6465),\n",
       " ('statefp', 4, 0.0404),\n",
       " ('countyfp', 4, 0.0404),\n",
       " ('countyns', 4, 0.0404),\n",
       " ('geoid', 4, 0.0404),\n",
       " ('name', 4, 0.0404),\n",
       " ('namelsad', 4, 0.0404),\n",
       " ('stusab', 4, 0.0404),\n",
       " ('lsad', 4, 0.0404),\n",
       " ('classfp', 4, 0.0404),\n",
       " ('mtfcc', 4, 0.0404),\n",
       " ('funcstat', 4, 0.0404),\n",
       " ('aland', 4, 0.0404),\n",
       " ('awater', 4, 0.0404),\n",
       " ('intptlat', 4, 0.0404),\n",
       " ('intptlon', 4, 0.0404),\n",
       " ('state_name', 4, 0.0404),\n",
       " ('countyfp_no', 4, 0.0404),\n",
       " ('geometry', 4, 0.0404),\n",
       " ('Population', 4, 0.0404)]"
      ]
     },
     "execution_count": 51,
     "metadata": {},
     "output_type": "execute_result"
    }
   ],
   "source": [
    "miss_cols(iowa_pop_stores_gdf) #right"
   ]
  },
  {
   "cell_type": "code",
   "execution_count": 63,
   "id": "a7ccf9fa",
   "metadata": {},
   "outputs": [
    {
     "data": {
      "text/plain": [
       "10    buena vist\n",
       "16    cerro gord\n",
       "70        obrien\n",
       "77    pottawatta\n",
       "Name: county_check, dtype: object"
      ]
     },
     "execution_count": 63,
     "metadata": {},
     "output_type": "execute_result"
    }
   ],
   "source": [
    "# right join\n",
    "iowa_pop_stores_gdf.loc[iowa_pop_stores_gdf.name.isna(),'county_check' ]"
   ]
  },
  {
   "cell_type": "code",
   "execution_count": 66,
   "id": "eadd24fe",
   "metadata": {},
   "outputs": [
    {
     "data": {
      "text/plain": [
       "22      Cerro Gordo\n",
       "47    Pottawattamie\n",
       "57          O'Brien\n",
       "67      Buena Vista\n",
       "Name: name, dtype: object"
      ]
     },
     "execution_count": 66,
     "metadata": {},
     "output_type": "execute_result"
    }
   ],
   "source": [
    "# left join\n",
    "iowa_pop_stores_gdf.loc[iowa_pop_stores_gdf.Store_Number.isna(), 'name' ]"
   ]
  },
  {
   "cell_type": "code",
   "execution_count": 91,
   "id": "038f54fe",
   "metadata": {},
   "outputs": [
    {
     "name": "stderr",
     "output_type": "stream",
     "text": [
      "C:\\Users\\dgarb\\anaconda3_reinstall\\lib\\site-packages\\descartes\\patch.py:62: ShapelyDeprecationWarning: The array interface is deprecated and will no longer work in Shapely 2.0. Convert the '.coords' to a numpy array instead.\n",
      "  vertices = concatenate([\n"
     ]
    },
    {
     "data": {
      "image/png": "[encoded data removed]",
      "text/plain": [
       "<Figure size 1080x720 with 2 Axes>"
      ]
     },
     "metadata": {
      "needs_background": "light"
     },
     "output_type": "display_data"
    }
   ],
   "source": [
    "ax = iowa_pop_stores_gdf.plot(column='Store_Number',legend = True, figsize=(15, 10))\n",
    "ax.set_axis_off(); # turns off axis labels"
   ]
  },
  {
   "cell_type": "code",
   "execution_count": 30,
   "id": "d0f48bcc",
   "metadata": {},
   "outputs": [
    {
     "data": {
      "text/html": [
       "<div>\n",
       "<style scoped>\n",
       "    .dataframe tbody tr th:only-of-type {\n",
       "        vertical-align: middle;\n",
       "    }\n",
       "\n",
       "    .dataframe tbody tr th {\n",
       "        vertical-align: top;\n",
       "    }\n",
       "\n",
       "    .dataframe thead th {\n",
       "        text-align: right;\n",
       "    }\n",
       "</style>\n",
       "<table border=\"1\" class=\"dataframe\">\n",
       "  <thead>\n",
       "    <tr style=\"text-align: right;\">\n",
       "      <th></th>\n",
       "      <th>col1</th>\n",
       "      <th>geometry</th>\n",
       "    </tr>\n",
       "  </thead>\n",
       "  <tbody>\n",
       "    <tr>\n",
       "      <th>0</th>\n",
       "      <td>Dyno's #53 / Sibley</td>\n",
       "      <td>POINT (-95.752119 43.397431)</td>\n",
       "    </tr>\n",
       "    <tr>\n",
       "      <th>1</th>\n",
       "      <td>Dyno's #40 / Spencer</td>\n",
       "      <td>POINT (-95.143701 43.12759)</td>\n",
       "    </tr>\n",
       "    <tr>\n",
       "      <th>2</th>\n",
       "      <td>Dyno's #29 / Emmetsburg</td>\n",
       "      <td>POINT (-94.681939 43.111913)</td>\n",
       "    </tr>\n",
       "    <tr>\n",
       "      <th>3</th>\n",
       "      <td>Dyno's #41 / Albert City</td>\n",
       "      <td>POINT (-94.953239 42.777449)</td>\n",
       "    </tr>\n",
       "    <tr>\n",
       "      <th>4</th>\n",
       "      <td>Double D Liquor Store</td>\n",
       "      <td>POINT (-91.473634 43.262114)</td>\n",
       "    </tr>\n",
       "    <tr>\n",
       "      <th>...</th>\n",
       "      <td>...</td>\n",
       "      <td>...</td>\n",
       "    </tr>\n",
       "    <tr>\n",
       "      <th>1785</th>\n",
       "      <td>Hy-Vee Food Store / Corning</td>\n",
       "      <td>POINT (-94.73259400000002 40.991872)</td>\n",
       "    </tr>\n",
       "    <tr>\n",
       "      <th>1786</th>\n",
       "      <td>Fareway Stores #073 / Council Bluffs</td>\n",
       "      <td>POINT (-95.81799900000001 41.280148)</td>\n",
       "    </tr>\n",
       "    <tr>\n",
       "      <th>1787</th>\n",
       "      <td>Casey's General Store #2924 / Marion</td>\n",
       "      <td>POINT (-91.553462 42.037621)</td>\n",
       "    </tr>\n",
       "    <tr>\n",
       "      <th>1788</th>\n",
       "      <td>Hiway 20 Liquor and Tobacco / Fort Dodge</td>\n",
       "      <td>POINT (-94.173816 42.501131)</td>\n",
       "    </tr>\n",
       "    <tr>\n",
       "      <th>1789</th>\n",
       "      <td>Kum &amp; Go #3156 / Clive</td>\n",
       "      <td>POINT (-93.833455 41.614719)</td>\n",
       "    </tr>\n",
       "  </tbody>\n",
       "</table>\n",
       "<p>1790 rows × 2 columns</p>\n",
       "</div>"
      ],
      "text/plain": [
       "                                          col1  \\\n",
       "0                          Dyno's #53 / Sibley   \n",
       "1                         Dyno's #40 / Spencer   \n",
       "2                      Dyno's #29 / Emmetsburg   \n",
       "3                     Dyno's #41 / Albert City   \n",
       "4                        Double D Liquor Store   \n",
       "...                                        ...   \n",
       "1785               Hy-Vee Food Store / Corning   \n",
       "1786      Fareway Stores #073 / Council Bluffs   \n",
       "1787      Casey's General Store #2924 / Marion   \n",
       "1788  Hiway 20 Liquor and Tobacco / Fort Dodge   \n",
       "1789                    Kum & Go #3156 / Clive   \n",
       "\n",
       "                                  geometry  \n",
       "0             POINT (-95.752119 43.397431)  \n",
       "1              POINT (-95.143701 43.12759)  \n",
       "2             POINT (-94.681939 43.111913)  \n",
       "3             POINT (-94.953239 42.777449)  \n",
       "4             POINT (-91.473634 43.262114)  \n",
       "...                                    ...  \n",
       "1785  POINT (-94.73259400000002 40.991872)  \n",
       "1786  POINT (-95.81799900000001 41.280148)  \n",
       "1787          POINT (-91.553462 42.037621)  \n",
       "1788          POINT (-94.173816 42.501131)  \n",
       "1789          POINT (-93.833455 41.614719)  \n",
       "\n",
       "[1790 rows x 2 columns]"
      ]
     },
     "execution_count": 30,
     "metadata": {},
     "output_type": "execute_result"
    }
   ],
   "source": [
    "loc_gdf = gpd.GeoDataFrame(d, crs=iowa_pop_gdf.crs)\n",
    "type(loc_gdf)\n",
    "loc_gdf"
   ]
  },
  {
   "cell_type": "code",
   "execution_count": 31,
   "id": "f4e826cd",
   "metadata": {},
   "outputs": [
    {
     "data": {
      "image/png": "[encoded data removed]",
      "text/plain": [
       "<Figure size 432x288 with 1 Axes>"
      ]
     },
     "metadata": {
      "needs_background": "light"
     },
     "output_type": "display_data"
    }
   ],
   "source": [
    "loc_gdf.plot(marker='*', markersize=5);\n",
    "# locations_gpd.to_crs(iowa_pop_gdf)"
   ]
  },
  {
   "cell_type": "code",
   "execution_count": null,
   "id": "57d4c4ba",
   "metadata": {},
   "outputs": [],
   "source": [
    "# iowa.head(3)\n",
    "# iowa.info()"
   ]
  },
  {
   "cell_type": "code",
   "execution_count": null,
   "id": "4e3b44ad",
   "metadata": {},
   "outputs": [],
   "source": []
  },
  {
   "cell_type": "code",
   "execution_count": null,
   "id": "f1cd5d04",
   "metadata": {},
   "outputs": [],
   "source": [
    "\n",
    "\n"
   ]
  }
 ],
 "metadata": {
  "kernelspec": {
   "display_name": "Python 3 (ipykernel)",
   "language": "python",
   "name": "python3"
  },
  "language_info": {
   "codemirror_mode": {
    "name": "ipython",
    "version": 3
   },
   "file_extension": ".py",
   "mimetype": "text/x-python",
   "name": "python",
   "nbconvert_exporter": "python",
   "pygments_lexer": "ipython3",
   "version": "3.9.7"
  }
 },
 "nbformat": 4,
 "nbformat_minor": 5
}

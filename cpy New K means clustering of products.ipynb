{
 "cells": [
  {
   "cell_type": "code",
   "execution_count": 1,
   "id": "983f8910",
   "metadata": {},
   "outputs": [],
   "source": [
    "import pandas as pd\n",
    "import numpy as np"
   ]
  },
  {
   "cell_type": "code",
   "execution_count": 2,
   "id": "e49fd89f",
   "metadata": {},
   "outputs": [],
   "source": [
    "import matplotlib.pyplot as plt\n",
    "%matplotlib inline\n",
    "import seaborn as sns"
   ]
  },
  {
   "cell_type": "code",
   "execution_count": 3,
   "id": "b4cf4c56",
   "metadata": {},
   "outputs": [],
   "source": [
    "dict_dtype = {'Item_Number':str,\n",
    "'Bottle_Volume (ml)':int,\n",
    "'Bottles_Sold':int,\n",
    "'Bottle_Retail':float,\n",
    "'Store_Number':int}"
   ]
  },
  {
   "cell_type": "code",
   "execution_count": 4,
   "id": "b1ae2067",
   "metadata": {},
   "outputs": [],
   "source": [
    "from sklearn.preprocessing import StandardScaler\n",
    "from sklearn.cluster import KMeans"
   ]
  },
  {
   "cell_type": "code",
   "execution_count": 5,
   "id": "396192df",
   "metadata": {},
   "outputs": [],
   "source": [
    "categories_items_df = pd.read_csv(r'C:\\Users\\dgarb\\OneDrive\\Desktop\\Capstone Data\\liquor_2021\\categories_items.csv',dtype={'Category':str,'Item_Number':str},index_col=0)"
   ]
  },
  {
   "cell_type": "code",
   "execution_count": 6,
   "id": "34170ca6",
   "metadata": {},
   "outputs": [
    {
     "name": "stdout",
     "output_type": "stream",
     "text": [
      "<class 'pandas.core.frame.DataFrame'>\n",
      "Int64Index: 4472 entries, 0 to 4471\n",
      "Data columns (total 5 columns):\n",
      " #   Column             Non-Null Count  Dtype \n",
      "---  ------             --------------  ----- \n",
      " 0   Item_Number        4472 non-null   object\n",
      " 1   Item_Description   4472 non-null   object\n",
      " 2   Category           4472 non-null   object\n",
      " 3   Category_Name      4472 non-null   object\n",
      " 4   New_Category_Name  4472 non-null   object\n",
      "dtypes: object(5)\n",
      "memory usage: 209.6+ KB\n"
     ]
    }
   ],
   "source": [
    "categories_items_df.info()"
   ]
  },
  {
   "cell_type": "code",
   "execution_count": 7,
   "id": "305b735e",
   "metadata": {},
   "outputs": [],
   "source": [
    "categories_items_df = categories_items_df.drop(columns=['Item_Description'])"
   ]
  },
  {
   "cell_type": "code",
   "execution_count": 8,
   "id": "5abf22b8",
   "metadata": {},
   "outputs": [],
   "source": [
    "pdtypes = {'Item Number':str,'Vendor':str}"
   ]
  },
  {
   "cell_type": "code",
   "execution_count": 9,
   "id": "fba10cc0",
   "metadata": {},
   "outputs": [],
   "source": [
    "products_iowa = pd.read_csv(r'C:\\Users\\dgarb\\OneDrive\\Desktop\\Capstone Data\\Iowa_Liquor_Products(1).csv',dtype=pdtypes)"
   ]
  },
  {
   "cell_type": "code",
   "execution_count": 10,
   "id": "f11ba699",
   "metadata": {},
   "outputs": [
    {
     "data": {
      "text/plain": [
       "['Item Number',\n",
       " 'Category Name',\n",
       " 'Item Description',\n",
       " 'Vendor',\n",
       " 'Vendor Name',\n",
       " 'Bottle Volume (ml)',\n",
       " 'Pack',\n",
       " 'Inner Pack',\n",
       " 'Age',\n",
       " 'Proof',\n",
       " 'List Date',\n",
       " 'UPC',\n",
       " 'SCC',\n",
       " 'State Bottle Cost',\n",
       " 'State Case Cost',\n",
       " 'State Bottle Retail',\n",
       " 'Report Date']"
      ]
     },
     "execution_count": 10,
     "metadata": {},
     "output_type": "execute_result"
    }
   ],
   "source": [
    "list(products_iowa.columns)"
   ]
  },
  {
   "cell_type": "code",
   "execution_count": 11,
   "id": "b8f1e4a9",
   "metadata": {},
   "outputs": [],
   "source": [
    "products_iowa = products_iowa.drop(columns=['Item Description'])"
   ]
  },
  {
   "cell_type": "code",
   "execution_count": 12,
   "id": "1a9bf32f",
   "metadata": {},
   "outputs": [],
   "source": [
    "# products_iowa2 = products_iowa[['Item Number','Bottle Volume (ml)','State Bottle Retail','State Bottle Cost']]"
   ]
  },
  {
   "cell_type": "code",
   "execution_count": null,
   "id": "6038528b",
   "metadata": {},
   "outputs": [],
   "source": []
  },
  {
   "cell_type": "code",
   "execution_count": 13,
   "id": "5bc0befa",
   "metadata": {},
   "outputs": [],
   "source": [
    "products = pd.read_csv(r'C:\\Users\\dgarb\\OneDrive\\Desktop\\Capstone Data\\liquor_2021\\clustering_data_num_unique_stores.csv',dtype=dict_dtype, index_col=0)"
   ]
  },
  {
   "cell_type": "code",
   "execution_count": 14,
   "id": "88bea49e",
   "metadata": {},
   "outputs": [
    {
     "data": {
      "text/plain": [
       "72911     1\n",
       "100216    1\n",
       "100433    1\n",
       "100423    1\n",
       "100413    1\n",
       "         ..\n",
       "999918    1\n",
       "999924    1\n",
       "30016     2\n",
       "89320     2\n",
       "73811     2\n",
       "Name: Item_Number, Length: 4472, dtype: int64"
      ]
     },
     "execution_count": 14,
     "metadata": {},
     "output_type": "execute_result"
    }
   ],
   "source": [
    "products.Item_Number.value_counts().sort_values() "
   ]
  },
  {
   "cell_type": "code",
   "execution_count": 15,
   "id": "61201251",
   "metadata": {},
   "outputs": [
    {
     "data": {
      "text/html": [
       "<div>\n",
       "<style scoped>\n",
       "    .dataframe tbody tr th:only-of-type {\n",
       "        vertical-align: middle;\n",
       "    }\n",
       "\n",
       "    .dataframe tbody tr th {\n",
       "        vertical-align: top;\n",
       "    }\n",
       "\n",
       "    .dataframe thead th {\n",
       "        text-align: right;\n",
       "    }\n",
       "</style>\n",
       "<table border=\"1\" class=\"dataframe\">\n",
       "  <thead>\n",
       "    <tr style=\"text-align: right;\">\n",
       "      <th></th>\n",
       "      <th>Item_Number</th>\n",
       "      <th>Item_Description</th>\n",
       "      <th>Bottle_Volume</th>\n",
       "      <th>New_Category_Name</th>\n",
       "      <th>Bottle_Retail</th>\n",
       "      <th>Bottles_Sold</th>\n",
       "      <th>Store_Number</th>\n",
       "      <th>Sales</th>\n",
       "    </tr>\n",
       "  </thead>\n",
       "  <tbody>\n",
       "    <tr>\n",
       "      <th>846</th>\n",
       "      <td>30016</td>\n",
       "      <td>Foundry Gin</td>\n",
       "      <td>375</td>\n",
       "      <td>Gin</td>\n",
       "      <td>9.99</td>\n",
       "      <td>789</td>\n",
       "      <td>41</td>\n",
       "      <td>7882.11</td>\n",
       "    </tr>\n",
       "    <tr>\n",
       "      <th>847</th>\n",
       "      <td>30016</td>\n",
       "      <td>Foundry Gin</td>\n",
       "      <td>750</td>\n",
       "      <td>Gin</td>\n",
       "      <td>9.99</td>\n",
       "      <td>119</td>\n",
       "      <td>10</td>\n",
       "      <td>1188.81</td>\n",
       "    </tr>\n",
       "  </tbody>\n",
       "</table>\n",
       "</div>"
      ],
      "text/plain": [
       "    Item_Number Item_Description  Bottle_Volume New_Category_Name  \\\n",
       "846       30016      Foundry Gin            375               Gin   \n",
       "847       30016      Foundry Gin            750               Gin   \n",
       "\n",
       "     Bottle_Retail  Bottles_Sold  Store_Number    Sales  \n",
       "846           9.99           789            41  7882.11  \n",
       "847           9.99           119            10  1188.81  "
      ]
     },
     "execution_count": 15,
     "metadata": {},
     "output_type": "execute_result"
    }
   ],
   "source": [
    "products.loc[products.Item_Number == '30016']"
   ]
  },
  {
   "cell_type": "code",
   "execution_count": 16,
   "id": "f5ca9cc5",
   "metadata": {},
   "outputs": [],
   "source": [
    "products.rename({'Store_Number':'Num_Stores_Selling', 'Sales':'revenue'} ,axis=1, inplace=True)\n",
    "              "
   ]
  },
  {
   "cell_type": "code",
   "execution_count": 17,
   "id": "6d5364bd",
   "metadata": {},
   "outputs": [],
   "source": [
    "combine_projects = products[['Item_Number', 'Item_Description', 'Bottles_Sold', 'Num_Stores_Selling']].merge(products_iowa, left_on ='Item_Number', right_on = 'Item Number')"
   ]
  },
  {
   "cell_type": "code",
   "execution_count": 18,
   "id": "ee9366d6",
   "metadata": {},
   "outputs": [
    {
     "data": {
      "text/plain": [
       "Index(['Item_Number', 'Item_Description', 'Bottles_Sold', 'Num_Stores_Selling',\n",
       "       'Item Number', 'Category Name', 'Vendor', 'Vendor Name',\n",
       "       'Bottle Volume (ml)', 'Pack', 'Inner Pack', 'Age', 'Proof', 'List Date',\n",
       "       'UPC', 'SCC', 'State Bottle Cost', 'State Case Cost',\n",
       "       'State Bottle Retail', 'Report Date'],\n",
       "      dtype='object')"
      ]
     },
     "execution_count": 18,
     "metadata": {},
     "output_type": "execute_result"
    }
   ],
   "source": [
    "combine_projects.columns"
   ]
  },
  {
   "cell_type": "code",
   "execution_count": 19,
   "id": "63b4bb5c",
   "metadata": {},
   "outputs": [],
   "source": [
    "combine_projects = combine_projects.drop(columns=['Item Number','Vendor','Vendor Name','Pack', 'Inner Pack', 'Age',\n",
    "        'List Date', 'UPC', 'SCC','Report Date'])"
   ]
  },
  {
   "cell_type": "code",
   "execution_count": 20,
   "id": "f89982fc",
   "metadata": {},
   "outputs": [
    {
     "data": {
      "text/plain": [
       "(4474, 10)"
      ]
     },
     "execution_count": 20,
     "metadata": {},
     "output_type": "execute_result"
    }
   ],
   "source": [
    "combine_projects.shape"
   ]
  },
  {
   "cell_type": "markdown",
   "id": "49fddec2",
   "metadata": {},
   "source": [
    "identify and clean duplicates"
   ]
  },
  {
   "cell_type": "code",
   "execution_count": 21,
   "id": "ca6bbe2b",
   "metadata": {},
   "outputs": [
    {
     "data": {
      "text/plain": [
       "72911     1\n",
       "101104    1\n",
       "100216    1\n",
       "100433    1\n",
       "100423    1\n",
       "         ..\n",
       "999918    1\n",
       "999924    1\n",
       "30016     2\n",
       "89320     2\n",
       "73811     2\n",
       "Name: Item_Number, Length: 4471, dtype: int64"
      ]
     },
     "execution_count": 21,
     "metadata": {},
     "output_type": "execute_result"
    }
   ],
   "source": [
    "combine_projects.Item_Number.value_counts().sort_values()"
   ]
  },
  {
   "cell_type": "code",
   "execution_count": 22,
   "id": "aec3d6ad",
   "metadata": {},
   "outputs": [],
   "source": [
    "dupes =['30016','89320','73811']"
   ]
  },
  {
   "cell_type": "markdown",
   "id": "0735c0e6",
   "metadata": {},
   "source": [
    "create DataFrame that excludes duplicated item numbers"
   ]
  },
  {
   "cell_type": "code",
   "execution_count": 23,
   "id": "a3ba5693",
   "metadata": {},
   "outputs": [
    {
     "data": {
      "text/plain": [
       "(4468, 10)"
      ]
     },
     "execution_count": 23,
     "metadata": {},
     "output_type": "execute_result"
    }
   ],
   "source": [
    "# create DataFrame that excludes duplicated item numbers\n",
    "\n",
    "combine_projects_ex = combine_projects.loc[~combine_projects.Item_Number.isin(dupes),:]\n",
    "combine_projects_ex.shape"
   ]
  },
  {
   "cell_type": "markdown",
   "id": "6f247b94",
   "metadata": {},
   "source": [
    "create DataFrame of rows with duplicated item numbers\n"
   ]
  },
  {
   "cell_type": "code",
   "execution_count": 24,
   "id": "9f604915",
   "metadata": {},
   "outputs": [
    {
     "data": {
      "text/plain": [
       "(6, 10)"
      ]
     },
     "execution_count": 24,
     "metadata": {},
     "output_type": "execute_result"
    }
   ],
   "source": [
    "combine_projects_dupes = combine_projects.loc[combine_projects.Item_Number.isin(dupes),:]\n",
    "combine_projects_dupes.shape"
   ]
  },
  {
   "cell_type": "code",
   "execution_count": 25,
   "id": "414bab04",
   "metadata": {},
   "outputs": [
    {
     "data": {
      "text/plain": [
       "['Item_Number',\n",
       " 'Item_Description',\n",
       " 'Bottles_Sold',\n",
       " 'Num_Stores_Selling',\n",
       " 'Category Name',\n",
       " 'Bottle Volume (ml)',\n",
       " 'Proof',\n",
       " 'State Bottle Cost',\n",
       " 'State Case Cost',\n",
       " 'State Bottle Retail']"
      ]
     },
     "execution_count": 25,
     "metadata": {},
     "output_type": "execute_result"
    }
   ],
   "source": [
    "list(combine_projects_dupes.columns)"
   ]
  },
  {
   "cell_type": "code",
   "execution_count": 26,
   "id": "affcde95",
   "metadata": {},
   "outputs": [
    {
     "data": {
      "text/plain": [
       "Index(['Item_Number', 'Item_Description', 'Bottles_Sold', 'Num_Stores_Selling',\n",
       "       'Category Name', 'Bottle Volume (ml)', 'Proof', 'State Bottle Cost',\n",
       "       'State Case Cost', 'State Bottle Retail'],\n",
       "      dtype='object')"
      ]
     },
     "execution_count": 26,
     "metadata": {},
     "output_type": "execute_result"
    }
   ],
   "source": [
    "combine_projects_dupes.columns"
   ]
  },
  {
   "cell_type": "markdown",
   "id": "6df7e9f7",
   "metadata": {},
   "source": [
    "clean up duplicates"
   ]
  },
  {
   "cell_type": "code",
   "execution_count": 27,
   "id": "997687ea",
   "metadata": {},
   "outputs": [],
   "source": [
    "cleaned_dupes_df = combine_projects_dupes.groupby(['Item_Number', 'Item_Description',\n",
    "       'Category Name', 'Bottle Volume (ml)',\n",
    "       'State Bottle Cost', 'State Case Cost', 'State Bottle Retail']).agg({'Bottles_Sold':'sum',\n",
    "                                                                            'Num_Stores_Selling':'sum'}).reset_index()"
   ]
  },
  {
   "cell_type": "markdown",
   "id": "c6962f5f",
   "metadata": {},
   "source": [
    "concatenate combine_projects_ex which excludes duplicates with cleaned_dupes_df"
   ]
  },
  {
   "cell_type": "code",
   "execution_count": 28,
   "id": "7aec4e2d",
   "metadata": {},
   "outputs": [],
   "source": [
    "new_combine_proj_df = pd.concat([combine_projects_ex,cleaned_dupes_df])"
   ]
  },
  {
   "cell_type": "code",
   "execution_count": 29,
   "id": "61fe1e3c",
   "metadata": {},
   "outputs": [
    {
     "data": {
      "text/plain": [
       "(4471, 10)"
      ]
     },
     "execution_count": 29,
     "metadata": {},
     "output_type": "execute_result"
    }
   ],
   "source": [
    "new_combine_proj_df.shape #shape checks out"
   ]
  },
  {
   "cell_type": "code",
   "execution_count": 30,
   "id": "4a6f0c63",
   "metadata": {},
   "outputs": [],
   "source": [
    "# new_combine_proj_df = new_combine_proj_df.drop(columns=['Item Description'])"
   ]
  },
  {
   "cell_type": "code",
   "execution_count": 31,
   "id": "439a3b4d",
   "metadata": {},
   "outputs": [],
   "source": [
    "new_combine_proj_df.rename({'Bottle Volume (ml)':'Bottle_Volume','State Bottle Retail':'Bottle_Retail' } ,axis=1, inplace=True)"
   ]
  },
  {
   "cell_type": "markdown",
   "id": "54482f24",
   "metadata": {},
   "source": [
    "check missing values"
   ]
  },
  {
   "cell_type": "code",
   "execution_count": 32,
   "id": "21424d44",
   "metadata": {},
   "outputs": [],
   "source": [
    "from missing_columns_pd import miss_cols"
   ]
  },
  {
   "cell_type": "code",
   "execution_count": 33,
   "id": "06d7e5f7",
   "metadata": {},
   "outputs": [
    {
     "data": {
      "text/plain": [
       "[('Proof', 3, 0.0007)]"
      ]
     },
     "execution_count": 33,
     "metadata": {},
     "output_type": "execute_result"
    }
   ],
   "source": [
    "miss_cols(new_combine_proj_df)"
   ]
  },
  {
   "cell_type": "code",
   "execution_count": 34,
   "id": "c3ebeb27",
   "metadata": {},
   "outputs": [
    {
     "data": {
      "text/plain": [
       "80.0"
      ]
     },
     "execution_count": 34,
     "metadata": {},
     "output_type": "execute_result"
    }
   ],
   "source": [
    "new_combine_proj_df.Proof.median()"
   ]
  },
  {
   "cell_type": "code",
   "execution_count": 35,
   "id": "598a5acd",
   "metadata": {},
   "outputs": [
    {
     "data": {
      "text/plain": [
       "0       66.0\n",
       "1       80.0\n",
       "2       94.0\n",
       "3       80.0\n",
       "4       80.0\n",
       "        ... \n",
       "4472    90.0\n",
       "4473    90.0\n",
       "0       80.0\n",
       "1       80.0\n",
       "2       80.0\n",
       "Name: Proof, Length: 4471, dtype: float64"
      ]
     },
     "execution_count": 35,
     "metadata": {},
     "output_type": "execute_result"
    }
   ],
   "source": [
    "new_combine_proj_df['Proof'].fillna(new_combine_proj_df.Proof.median())"
   ]
  },
  {
   "cell_type": "code",
   "execution_count": 36,
   "id": "0d042f11",
   "metadata": {},
   "outputs": [],
   "source": [
    "new_combine_proj_df['Proof'] = new_combine_proj_df['Proof'].fillna(new_combine_proj_df.Proof.median())"
   ]
  },
  {
   "cell_type": "code",
   "execution_count": 37,
   "id": "59b730c8",
   "metadata": {},
   "outputs": [
    {
     "data": {
      "text/plain": [
       "(4471, 13)"
      ]
     },
     "execution_count": 37,
     "metadata": {},
     "output_type": "execute_result"
    }
   ],
   "source": [
    "products = new_combine_proj_df.merge(categories_items_df,right_on='Item_Number',left_on='Item_Number')\n",
    "products.shape"
   ]
  },
  {
   "cell_type": "code",
   "execution_count": 38,
   "id": "c99f9ddc",
   "metadata": {},
   "outputs": [
    {
     "data": {
      "image/png": "[encoded data removed]",
      "text/plain": [
       "<Figure size 432x288 with 1 Axes>"
      ]
     },
     "metadata": {
      "needs_background": "light"
     },
     "output_type": "display_data"
    }
   ],
   "source": [
    "import seaborn as sns\n",
    "import matplotlib.pyplot as plt\n",
    "\n",
    "\n",
    "sns.boxplot( y=products[\"Bottle_Retail\"] );\n",
    "plt.show()"
   ]
  },
  {
   "cell_type": "code",
   "execution_count": 39,
   "id": "9f7bed6d",
   "metadata": {},
   "outputs": [],
   "source": [
    "products2 = products.copy()"
   ]
  },
  {
   "cell_type": "code",
   "execution_count": null,
   "id": "0261bd13",
   "metadata": {},
   "outputs": [],
   "source": []
  },
  {
   "cell_type": "code",
   "execution_count": 40,
   "id": "fd04b71c",
   "metadata": {},
   "outputs": [
    {
     "name": "stdout",
     "output_type": "stream",
     "text": [
      "<class 'pandas.core.frame.DataFrame'>\n",
      "Int64Index: 4471 entries, 0 to 4470\n",
      "Data columns (total 13 columns):\n",
      " #   Column              Non-Null Count  Dtype  \n",
      "---  ------              --------------  -----  \n",
      " 0   Item_Number         4471 non-null   object \n",
      " 1   Item_Description    4471 non-null   object \n",
      " 2   Bottles_Sold        4471 non-null   int32  \n",
      " 3   Num_Stores_Selling  4471 non-null   int32  \n",
      " 4   Category Name       4471 non-null   object \n",
      " 5   Bottle_Volume       4471 non-null   int64  \n",
      " 6   Proof               4471 non-null   float64\n",
      " 7   State Bottle Cost   4471 non-null   float64\n",
      " 8   State Case Cost     4471 non-null   float64\n",
      " 9   Bottle_Retail       4471 non-null   float64\n",
      " 10  Category            4471 non-null   object \n",
      " 11  Category_Name       4471 non-null   object \n",
      " 12  New_Category_Name   4471 non-null   object \n",
      "dtypes: float64(4), int32(2), int64(1), object(6)\n",
      "memory usage: 454.1+ KB\n"
     ]
    }
   ],
   "source": [
    "products2.info()"
   ]
  },
  {
   "cell_type": "code",
   "execution_count": 41,
   "id": "67548f18",
   "metadata": {},
   "outputs": [
    {
     "data": {
      "text/html": [
       "<div>\n",
       "<style scoped>\n",
       "    .dataframe tbody tr th:only-of-type {\n",
       "        vertical-align: middle;\n",
       "    }\n",
       "\n",
       "    .dataframe tbody tr th {\n",
       "        vertical-align: top;\n",
       "    }\n",
       "\n",
       "    .dataframe thead th {\n",
       "        text-align: right;\n",
       "    }\n",
       "</style>\n",
       "<table border=\"1\" class=\"dataframe\">\n",
       "  <thead>\n",
       "    <tr style=\"text-align: right;\">\n",
       "      <th></th>\n",
       "      <th>Bottles_Sold</th>\n",
       "      <th>Num_Stores_Selling</th>\n",
       "      <th>Bottle_Volume</th>\n",
       "      <th>Proof</th>\n",
       "      <th>State Bottle Cost</th>\n",
       "      <th>State Case Cost</th>\n",
       "      <th>Bottle_Retail</th>\n",
       "    </tr>\n",
       "  </thead>\n",
       "  <tbody>\n",
       "    <tr>\n",
       "      <th>count</th>\n",
       "      <td>4.471000e+03</td>\n",
       "      <td>4471.000000</td>\n",
       "      <td>4471.000000</td>\n",
       "      <td>4471.000000</td>\n",
       "      <td>4471.000000</td>\n",
       "      <td>4471.000000</td>\n",
       "      <td>4471.000000</td>\n",
       "    </tr>\n",
       "    <tr>\n",
       "      <th>mean</th>\n",
       "      <td>6.936512e+03</td>\n",
       "      <td>125.356072</td>\n",
       "      <td>792.460971</td>\n",
       "      <td>75.147618</td>\n",
       "      <td>21.081058</td>\n",
       "      <td>138.906929</td>\n",
       "      <td>31.628141</td>\n",
       "    </tr>\n",
       "    <tr>\n",
       "      <th>std</th>\n",
       "      <td>3.973952e+04</td>\n",
       "      <td>214.295687</td>\n",
       "      <td>410.860733</td>\n",
       "      <td>21.313410</td>\n",
       "      <td>48.613978</td>\n",
       "      <td>120.611650</td>\n",
       "      <td>72.920898</td>\n",
       "    </tr>\n",
       "    <tr>\n",
       "      <th>min</th>\n",
       "      <td>1.000000e+00</td>\n",
       "      <td>1.000000</td>\n",
       "      <td>20.000000</td>\n",
       "      <td>19.000000</td>\n",
       "      <td>0.660000</td>\n",
       "      <td>18.000000</td>\n",
       "      <td>0.990000</td>\n",
       "    </tr>\n",
       "    <tr>\n",
       "      <th>25%</th>\n",
       "      <td>5.250000e+01</td>\n",
       "      <td>3.000000</td>\n",
       "      <td>750.000000</td>\n",
       "      <td>70.000000</td>\n",
       "      <td>7.875000</td>\n",
       "      <td>75.000000</td>\n",
       "      <td>11.815000</td>\n",
       "    </tr>\n",
       "    <tr>\n",
       "      <th>50%</th>\n",
       "      <td>5.480000e+02</td>\n",
       "      <td>49.000000</td>\n",
       "      <td>750.000000</td>\n",
       "      <td>80.000000</td>\n",
       "      <td>13.520000</td>\n",
       "      <td>108.240000</td>\n",
       "      <td>20.280000</td>\n",
       "    </tr>\n",
       "    <tr>\n",
       "      <th>75%</th>\n",
       "      <td>3.626500e+03</td>\n",
       "      <td>154.500000</td>\n",
       "      <td>750.000000</td>\n",
       "      <td>86.000000</td>\n",
       "      <td>23.500000</td>\n",
       "      <td>165.570000</td>\n",
       "      <td>35.250000</td>\n",
       "    </tr>\n",
       "    <tr>\n",
       "      <th>max</th>\n",
       "      <td>2.105088e+06</td>\n",
       "      <td>1725.000000</td>\n",
       "      <td>5250.000000</td>\n",
       "      <td>190.000000</td>\n",
       "      <td>2198.890000</td>\n",
       "      <td>2198.890000</td>\n",
       "      <td>3298.340000</td>\n",
       "    </tr>\n",
       "  </tbody>\n",
       "</table>\n",
       "</div>"
      ],
      "text/plain": [
       "       Bottles_Sold  Num_Stores_Selling  Bottle_Volume        Proof  \\\n",
       "count  4.471000e+03         4471.000000    4471.000000  4471.000000   \n",
       "mean   6.936512e+03          125.356072     792.460971    75.147618   \n",
       "std    3.973952e+04          214.295687     410.860733    21.313410   \n",
       "min    1.000000e+00            1.000000      20.000000    19.000000   \n",
       "25%    5.250000e+01            3.000000     750.000000    70.000000   \n",
       "50%    5.480000e+02           49.000000     750.000000    80.000000   \n",
       "75%    3.626500e+03          154.500000     750.000000    86.000000   \n",
       "max    2.105088e+06         1725.000000    5250.000000   190.000000   \n",
       "\n",
       "       State Bottle Cost  State Case Cost  Bottle_Retail  \n",
       "count        4471.000000      4471.000000    4471.000000  \n",
       "mean           21.081058       138.906929      31.628141  \n",
       "std            48.613978       120.611650      72.920898  \n",
       "min             0.660000        18.000000       0.990000  \n",
       "25%             7.875000        75.000000      11.815000  \n",
       "50%            13.520000       108.240000      20.280000  \n",
       "75%            23.500000       165.570000      35.250000  \n",
       "max          2198.890000      2198.890000    3298.340000  "
      ]
     },
     "execution_count": 41,
     "metadata": {},
     "output_type": "execute_result"
    }
   ],
   "source": [
    "products.describe()"
   ]
  },
  {
   "cell_type": "code",
   "execution_count": 42,
   "id": "9bef7d21",
   "metadata": {},
   "outputs": [
    {
     "data": {
      "text/plain": [
       "(4471, 13)"
      ]
     },
     "execution_count": 42,
     "metadata": {},
     "output_type": "execute_result"
    }
   ],
   "source": [
    "products.shape"
   ]
  },
  {
   "cell_type": "code",
   "execution_count": 43,
   "id": "2f60facc",
   "metadata": {},
   "outputs": [
    {
     "data": {
      "text/plain": [
       "<AxesSubplot:xlabel='Bottle_Retail', ylabel='Count'>"
      ]
     },
     "execution_count": 43,
     "metadata": {},
     "output_type": "execute_result"
    },
    {
     "data": {
      "image/png": "[encoded data removed]",
      "text/plain": [
       "<Figure size 1080x576 with 1 Axes>"
      ]
     },
     "metadata": {},
     "output_type": "display_data"
    }
   ],
   "source": [
    "gph = sns.set(rc = {'figure.figsize':(15,8)})\n",
    "sns.histplot(products['Bottle_Retail'], bins=150)\n"
   ]
  },
  {
   "cell_type": "code",
   "execution_count": 44,
   "id": "d5eda8f7",
   "metadata": {},
   "outputs": [
    {
     "data": {
      "image/png": "[encoded data removed]",
      "text/plain": [
       "<Figure size 1080x576 with 1 Axes>"
      ]
     },
     "metadata": {},
     "output_type": "display_data"
    }
   ],
   "source": [
    "# products.plot.scatter(x='Bottle_Volume', y='Bottle_Retail')\n",
    "gph = sns.set(rc = {'figure.figsize':(15,8)})\n",
    "gfg = sns.scatterplot(data=products, x='Bottle_Retail', y='Bottle_Volume')\n",
    "# gfg.set_ylim(0, 80)\n",
    "# gph.set_xlim(0.98,3000)\n",
    "# gph.set_xticks(range(0.98,3000))\n",
    "plt.show()"
   ]
  },
  {
   "cell_type": "code",
   "execution_count": 45,
   "id": "e5bdaa49",
   "metadata": {},
   "outputs": [
    {
     "data": {
      "text/plain": [
       "0.012357040712554675"
      ]
     },
     "execution_count": 45,
     "metadata": {},
     "output_type": "execute_result"
    }
   ],
   "source": [
    "products.Bottle_Retail.corr((products.Bottle_Volume))"
   ]
  },
  {
   "cell_type": "code",
   "execution_count": 46,
   "id": "16554301",
   "metadata": {},
   "outputs": [
    {
     "data": {
      "text/plain": [
       "-0.04238487486136195"
      ]
     },
     "execution_count": 46,
     "metadata": {},
     "output_type": "execute_result"
    }
   ],
   "source": [
    "products.Bottle_Retail.corr((products.Bottles_Sold))"
   ]
  },
  {
   "cell_type": "code",
   "execution_count": 47,
   "id": "6c0eaf24",
   "metadata": {},
   "outputs": [
    {
     "data": {
      "text/plain": [
       "-0.00019054319178971472"
      ]
     },
     "execution_count": 47,
     "metadata": {},
     "output_type": "execute_result"
    }
   ],
   "source": [
    "products.Bottles_Sold.corr((products.Bottle_Volume))"
   ]
  },
  {
   "cell_type": "code",
   "execution_count": 48,
   "id": "8f0c52bb",
   "metadata": {},
   "outputs": [
    {
     "data": {
      "text/plain": [
       "0.45376397568801763"
      ]
     },
     "execution_count": 48,
     "metadata": {},
     "output_type": "execute_result"
    }
   ],
   "source": [
    "products.Bottles_Sold.corr((products.Num_Stores_Selling))"
   ]
  },
  {
   "cell_type": "code",
   "execution_count": 49,
   "id": "5aadbed4",
   "metadata": {},
   "outputs": [
    {
     "data": {
      "text/html": [
       "<div>\n",
       "<style scoped>\n",
       "    .dataframe tbody tr th:only-of-type {\n",
       "        vertical-align: middle;\n",
       "    }\n",
       "\n",
       "    .dataframe tbody tr th {\n",
       "        vertical-align: top;\n",
       "    }\n",
       "\n",
       "    .dataframe thead th {\n",
       "        text-align: right;\n",
       "    }\n",
       "</style>\n",
       "<table border=\"1\" class=\"dataframe\">\n",
       "  <thead>\n",
       "    <tr style=\"text-align: right;\">\n",
       "      <th></th>\n",
       "      <th>Item_Number</th>\n",
       "      <th>Item_Description</th>\n",
       "      <th>Bottles_Sold</th>\n",
       "      <th>Num_Stores_Selling</th>\n",
       "      <th>Category Name</th>\n",
       "      <th>Bottle_Volume</th>\n",
       "      <th>Proof</th>\n",
       "      <th>State Bottle Cost</th>\n",
       "      <th>State Case Cost</th>\n",
       "      <th>Bottle_Retail</th>\n",
       "      <th>Category</th>\n",
       "      <th>Category_Name</th>\n",
       "      <th>New_Category_Name</th>\n",
       "    </tr>\n",
       "  </thead>\n",
       "  <tbody>\n",
       "    <tr>\n",
       "      <th>1633</th>\n",
       "      <td>48725</td>\n",
       "      <td>Remy Martin Louis XIII</td>\n",
       "      <td>17</td>\n",
       "      <td>12</td>\n",
       "      <td>Imported Brandies</td>\n",
       "      <td>750</td>\n",
       "      <td>80.0</td>\n",
       "      <td>2198.89</td>\n",
       "      <td>2198.89</td>\n",
       "      <td>3298.34</td>\n",
       "      <td>1052100</td>\n",
       "      <td>Imported Brandies</td>\n",
       "      <td>Brandies</td>\n",
       "    </tr>\n",
       "    <tr>\n",
       "      <th>3323</th>\n",
       "      <td>917673</td>\n",
       "      <td>HA Double Eagle Very Rare</td>\n",
       "      <td>2</td>\n",
       "      <td>2</td>\n",
       "      <td>Straight Bourbon Whiskies</td>\n",
       "      <td>750</td>\n",
       "      <td>101.0</td>\n",
       "      <td>1000.00</td>\n",
       "      <td>1000.00</td>\n",
       "      <td>1500.00</td>\n",
       "      <td>1011200</td>\n",
       "      <td>Straight Bourbon Whiskies</td>\n",
       "      <td>Bourbon</td>\n",
       "    </tr>\n",
       "    <tr>\n",
       "      <th>3360</th>\n",
       "      <td>919976</td>\n",
       "      <td>HA OFC Bourbon 1995</td>\n",
       "      <td>10</td>\n",
       "      <td>10</td>\n",
       "      <td>Straight Bourbon Whiskies</td>\n",
       "      <td>750</td>\n",
       "      <td>90.0</td>\n",
       "      <td>1250.00</td>\n",
       "      <td>1250.00</td>\n",
       "      <td>1875.00</td>\n",
       "      <td>1011200</td>\n",
       "      <td>Straight Bourbon Whiskies</td>\n",
       "      <td>Bourbon</td>\n",
       "    </tr>\n",
       "  </tbody>\n",
       "</table>\n",
       "</div>"
      ],
      "text/plain": [
       "     Item_Number           Item_Description  Bottles_Sold  Num_Stores_Selling  \\\n",
       "1633       48725     Remy Martin Louis XIII            17                  12   \n",
       "3323      917673  HA Double Eagle Very Rare             2                   2   \n",
       "3360      919976        HA OFC Bourbon 1995            10                  10   \n",
       "\n",
       "                  Category Name  Bottle_Volume  Proof  State Bottle Cost  \\\n",
       "1633          Imported Brandies            750   80.0            2198.89   \n",
       "3323  Straight Bourbon Whiskies            750  101.0            1000.00   \n",
       "3360  Straight Bourbon Whiskies            750   90.0            1250.00   \n",
       "\n",
       "      State Case Cost  Bottle_Retail Category              Category_Name  \\\n",
       "1633          2198.89        3298.34  1052100          Imported Brandies   \n",
       "3323          1000.00        1500.00  1011200  Straight Bourbon Whiskies   \n",
       "3360          1250.00        1875.00  1011200  Straight Bourbon Whiskies   \n",
       "\n",
       "     New_Category_Name  \n",
       "1633          Brandies  \n",
       "3323           Bourbon  \n",
       "3360           Bourbon  "
      ]
     },
     "execution_count": 49,
     "metadata": {},
     "output_type": "execute_result"
    }
   ],
   "source": [
    "filt = products.Bottle_Retail > 1400\n",
    "products[filt]"
   ]
  },
  {
   "cell_type": "code",
   "execution_count": 50,
   "id": "1d7103fa",
   "metadata": {},
   "outputs": [
    {
     "data": {
      "text/html": [
       "<div>\n",
       "<style scoped>\n",
       "    .dataframe tbody tr th:only-of-type {\n",
       "        vertical-align: middle;\n",
       "    }\n",
       "\n",
       "    .dataframe tbody tr th {\n",
       "        vertical-align: top;\n",
       "    }\n",
       "\n",
       "    .dataframe thead th {\n",
       "        text-align: right;\n",
       "    }\n",
       "</style>\n",
       "<table border=\"1\" class=\"dataframe\">\n",
       "  <thead>\n",
       "    <tr style=\"text-align: right;\">\n",
       "      <th></th>\n",
       "      <th>Item_Number</th>\n",
       "      <th>Item_Description</th>\n",
       "      <th>Bottles_Sold</th>\n",
       "      <th>Num_Stores_Selling</th>\n",
       "      <th>Category Name</th>\n",
       "      <th>Bottle_Volume</th>\n",
       "      <th>Proof</th>\n",
       "      <th>State Bottle Cost</th>\n",
       "      <th>State Case Cost</th>\n",
       "      <th>Bottle_Retail</th>\n",
       "      <th>Category</th>\n",
       "      <th>Category_Name</th>\n",
       "      <th>New_Category_Name</th>\n",
       "    </tr>\n",
       "  </thead>\n",
       "  <tbody>\n",
       "    <tr>\n",
       "      <th>0</th>\n",
       "      <td>100015</td>\n",
       "      <td>Fireball Cinnamon Whiskey Bag in Box</td>\n",
       "      <td>1123</td>\n",
       "      <td>129</td>\n",
       "      <td>Whiskey Liqueur</td>\n",
       "      <td>3500</td>\n",
       "      <td>66.0</td>\n",
       "      <td>30.0</td>\n",
       "      <td>90.0</td>\n",
       "      <td>45.0</td>\n",
       "      <td>1081600</td>\n",
       "      <td>Whiskey Liqueur</td>\n",
       "      <td>Whiskey Liqueur</td>\n",
       "    </tr>\n",
       "    <tr>\n",
       "      <th>139</th>\n",
       "      <td>101515</td>\n",
       "      <td>Fireball Cinnamon Whiskey Keg</td>\n",
       "      <td>180</td>\n",
       "      <td>141</td>\n",
       "      <td>Temporary &amp; Specialty Packages</td>\n",
       "      <td>5250</td>\n",
       "      <td>66.0</td>\n",
       "      <td>92.0</td>\n",
       "      <td>92.0</td>\n",
       "      <td>138.0</td>\n",
       "      <td>1701100</td>\n",
       "      <td>Temporary &amp; Specialty Packages</td>\n",
       "      <td>Temporary &amp; Specialty Packages</td>\n",
       "    </tr>\n",
       "    <tr>\n",
       "      <th>155</th>\n",
       "      <td>101665</td>\n",
       "      <td>Stumpys Spirits Cocktail Collection Gift Set</td>\n",
       "      <td>115</td>\n",
       "      <td>26</td>\n",
       "      <td>Temporary &amp; Specialty Packages</td>\n",
       "      <td>4500</td>\n",
       "      <td>25.0</td>\n",
       "      <td>72.0</td>\n",
       "      <td>72.0</td>\n",
       "      <td>108.0</td>\n",
       "      <td>1701100</td>\n",
       "      <td>Temporary &amp; Specialty Packages</td>\n",
       "      <td>Temporary &amp; Specialty Packages</td>\n",
       "    </tr>\n",
       "  </tbody>\n",
       "</table>\n",
       "</div>"
      ],
      "text/plain": [
       "    Item_Number                              Item_Description  Bottles_Sold  \\\n",
       "0        100015          Fireball Cinnamon Whiskey Bag in Box          1123   \n",
       "139      101515                 Fireball Cinnamon Whiskey Keg           180   \n",
       "155      101665  Stumpys Spirits Cocktail Collection Gift Set           115   \n",
       "\n",
       "     Num_Stores_Selling                   Category Name  Bottle_Volume  Proof  \\\n",
       "0                   129                 Whiskey Liqueur           3500   66.0   \n",
       "139                 141  Temporary & Specialty Packages           5250   66.0   \n",
       "155                  26  Temporary & Specialty Packages           4500   25.0   \n",
       "\n",
       "     State Bottle Cost  State Case Cost  Bottle_Retail Category  \\\n",
       "0                 30.0             90.0           45.0  1081600   \n",
       "139               92.0             92.0          138.0  1701100   \n",
       "155               72.0             72.0          108.0  1701100   \n",
       "\n",
       "                      Category_Name               New_Category_Name  \n",
       "0                   Whiskey Liqueur                 Whiskey Liqueur  \n",
       "139  Temporary & Specialty Packages  Temporary & Specialty Packages  \n",
       "155  Temporary & Specialty Packages  Temporary & Specialty Packages  "
      ]
     },
     "execution_count": 50,
     "metadata": {},
     "output_type": "execute_result"
    }
   ],
   "source": [
    "filt2 = products.Bottle_Volume > 3000\n",
    "products[filt2]"
   ]
  },
  {
   "cell_type": "code",
   "execution_count": null,
   "id": "8d9567c0",
   "metadata": {},
   "outputs": [],
   "source": []
  },
  {
   "cell_type": "code",
   "execution_count": 51,
   "id": "bdb4096d",
   "metadata": {},
   "outputs": [
    {
     "data": {
      "text/plain": [
       "31013146"
      ]
     },
     "execution_count": 51,
     "metadata": {},
     "output_type": "execute_result"
    }
   ],
   "source": [
    "np.sum(products.Bottles_Sold)"
   ]
  },
  {
   "cell_type": "code",
   "execution_count": 52,
   "id": "a8c18cf2",
   "metadata": {},
   "outputs": [
    {
     "data": {
      "image/png": "[encoded data removed]",
      "text/plain": [
       "<Figure size 1080x576 with 1 Axes>"
      ]
     },
     "metadata": {},
     "output_type": "display_data"
    }
   ],
   "source": [
    "gph = sns.set(rc = {'figure.figsize':(15,8)})\n",
    "gfg = sns.scatterplot(data=products, x='Bottle_Retail', y='Bottles_Sold')\n",
    "# gfg.set_ylim(0, 80)"
   ]
  },
  {
   "cell_type": "code",
   "execution_count": 53,
   "id": "aada9808",
   "metadata": {},
   "outputs": [
    {
     "data": {
      "text/html": [
       "<div>\n",
       "<style scoped>\n",
       "    .dataframe tbody tr th:only-of-type {\n",
       "        vertical-align: middle;\n",
       "    }\n",
       "\n",
       "    .dataframe tbody tr th {\n",
       "        vertical-align: top;\n",
       "    }\n",
       "\n",
       "    .dataframe thead th {\n",
       "        text-align: right;\n",
       "    }\n",
       "</style>\n",
       "<table border=\"1\" class=\"dataframe\">\n",
       "  <thead>\n",
       "    <tr style=\"text-align: right;\">\n",
       "      <th></th>\n",
       "      <th>Item_Number</th>\n",
       "      <th>Item_Description</th>\n",
       "      <th>Bottles_Sold</th>\n",
       "      <th>Num_Stores_Selling</th>\n",
       "      <th>Category Name</th>\n",
       "      <th>Bottle_Volume</th>\n",
       "      <th>Proof</th>\n",
       "      <th>State Bottle Cost</th>\n",
       "      <th>State Case Cost</th>\n",
       "      <th>Bottle_Retail</th>\n",
       "      <th>Category</th>\n",
       "      <th>Category_Name</th>\n",
       "      <th>New_Category_Name</th>\n",
       "    </tr>\n",
       "  </thead>\n",
       "  <tbody>\n",
       "    <tr>\n",
       "      <th>1633</th>\n",
       "      <td>48725</td>\n",
       "      <td>Remy Martin Louis XIII</td>\n",
       "      <td>17</td>\n",
       "      <td>12</td>\n",
       "      <td>Imported Brandies</td>\n",
       "      <td>750</td>\n",
       "      <td>80.0</td>\n",
       "      <td>2198.89</td>\n",
       "      <td>2198.89</td>\n",
       "      <td>3298.34</td>\n",
       "      <td>1052100</td>\n",
       "      <td>Imported Brandies</td>\n",
       "      <td>Brandies</td>\n",
       "    </tr>\n",
       "    <tr>\n",
       "      <th>3323</th>\n",
       "      <td>917673</td>\n",
       "      <td>HA Double Eagle Very Rare</td>\n",
       "      <td>2</td>\n",
       "      <td>2</td>\n",
       "      <td>Straight Bourbon Whiskies</td>\n",
       "      <td>750</td>\n",
       "      <td>101.0</td>\n",
       "      <td>1000.00</td>\n",
       "      <td>1000.00</td>\n",
       "      <td>1500.00</td>\n",
       "      <td>1011200</td>\n",
       "      <td>Straight Bourbon Whiskies</td>\n",
       "      <td>Bourbon</td>\n",
       "    </tr>\n",
       "    <tr>\n",
       "      <th>3360</th>\n",
       "      <td>919976</td>\n",
       "      <td>HA OFC Bourbon 1995</td>\n",
       "      <td>10</td>\n",
       "      <td>10</td>\n",
       "      <td>Straight Bourbon Whiskies</td>\n",
       "      <td>750</td>\n",
       "      <td>90.0</td>\n",
       "      <td>1250.00</td>\n",
       "      <td>1250.00</td>\n",
       "      <td>1875.00</td>\n",
       "      <td>1011200</td>\n",
       "      <td>Straight Bourbon Whiskies</td>\n",
       "      <td>Bourbon</td>\n",
       "    </tr>\n",
       "  </tbody>\n",
       "</table>\n",
       "</div>"
      ],
      "text/plain": [
       "     Item_Number           Item_Description  Bottles_Sold  Num_Stores_Selling  \\\n",
       "1633       48725     Remy Martin Louis XIII            17                  12   \n",
       "3323      917673  HA Double Eagle Very Rare             2                   2   \n",
       "3360      919976        HA OFC Bourbon 1995            10                  10   \n",
       "\n",
       "                  Category Name  Bottle_Volume  Proof  State Bottle Cost  \\\n",
       "1633          Imported Brandies            750   80.0            2198.89   \n",
       "3323  Straight Bourbon Whiskies            750  101.0            1000.00   \n",
       "3360  Straight Bourbon Whiskies            750   90.0            1250.00   \n",
       "\n",
       "      State Case Cost  Bottle_Retail Category              Category_Name  \\\n",
       "1633          2198.89        3298.34  1052100          Imported Brandies   \n",
       "3323          1000.00        1500.00  1011200  Straight Bourbon Whiskies   \n",
       "3360          1250.00        1875.00  1011200  Straight Bourbon Whiskies   \n",
       "\n",
       "     New_Category_Name  \n",
       "1633          Brandies  \n",
       "3323           Bourbon  \n",
       "3360           Bourbon  "
      ]
     },
     "execution_count": 53,
     "metadata": {},
     "output_type": "execute_result"
    }
   ],
   "source": [
    "filt = products.Bottle_Retail > 1400\n",
    "products[filt]"
   ]
  },
  {
   "cell_type": "code",
   "execution_count": 54,
   "id": "ba4b16a4",
   "metadata": {},
   "outputs": [
    {
     "data": {
      "image/png": "[encoded data removed]",
      "text/plain": [
       "<Figure size 1080x576 with 1 Axes>"
      ]
     },
     "metadata": {},
     "output_type": "display_data"
    }
   ],
   "source": [
    "gph = sns.set(rc = {'figure.figsize':(15,8)})\n",
    "gfg = sns.scatterplot(data=products, x='Bottle_Retail', y='Proof')"
   ]
  },
  {
   "cell_type": "markdown",
   "id": "313e2938",
   "metadata": {},
   "source": [
    "remove outliers"
   ]
  },
  {
   "cell_type": "code",
   "execution_count": 55,
   "id": "e9a87989",
   "metadata": {},
   "outputs": [],
   "source": [
    "filt = products2.Bottle_Retail >  1400 #drop outliers of Bottle Retail"
   ]
  },
  {
   "cell_type": "code",
   "execution_count": 56,
   "id": "712f3553",
   "metadata": {},
   "outputs": [
    {
     "data": {
      "text/html": [
       "<div>\n",
       "<style scoped>\n",
       "    .dataframe tbody tr th:only-of-type {\n",
       "        vertical-align: middle;\n",
       "    }\n",
       "\n",
       "    .dataframe tbody tr th {\n",
       "        vertical-align: top;\n",
       "    }\n",
       "\n",
       "    .dataframe thead th {\n",
       "        text-align: right;\n",
       "    }\n",
       "</style>\n",
       "<table border=\"1\" class=\"dataframe\">\n",
       "  <thead>\n",
       "    <tr style=\"text-align: right;\">\n",
       "      <th></th>\n",
       "      <th>Item_Number</th>\n",
       "      <th>Item_Description</th>\n",
       "      <th>Bottles_Sold</th>\n",
       "      <th>Num_Stores_Selling</th>\n",
       "      <th>Category Name</th>\n",
       "      <th>Bottle_Volume</th>\n",
       "      <th>Proof</th>\n",
       "      <th>State Bottle Cost</th>\n",
       "      <th>State Case Cost</th>\n",
       "      <th>Bottle_Retail</th>\n",
       "      <th>Category</th>\n",
       "      <th>Category_Name</th>\n",
       "      <th>New_Category_Name</th>\n",
       "    </tr>\n",
       "  </thead>\n",
       "  <tbody>\n",
       "    <tr>\n",
       "      <th>1633</th>\n",
       "      <td>48725</td>\n",
       "      <td>Remy Martin Louis XIII</td>\n",
       "      <td>17</td>\n",
       "      <td>12</td>\n",
       "      <td>Imported Brandies</td>\n",
       "      <td>750</td>\n",
       "      <td>80.0</td>\n",
       "      <td>2198.89</td>\n",
       "      <td>2198.89</td>\n",
       "      <td>3298.34</td>\n",
       "      <td>1052100</td>\n",
       "      <td>Imported Brandies</td>\n",
       "      <td>Brandies</td>\n",
       "    </tr>\n",
       "    <tr>\n",
       "      <th>3323</th>\n",
       "      <td>917673</td>\n",
       "      <td>HA Double Eagle Very Rare</td>\n",
       "      <td>2</td>\n",
       "      <td>2</td>\n",
       "      <td>Straight Bourbon Whiskies</td>\n",
       "      <td>750</td>\n",
       "      <td>101.0</td>\n",
       "      <td>1000.00</td>\n",
       "      <td>1000.00</td>\n",
       "      <td>1500.00</td>\n",
       "      <td>1011200</td>\n",
       "      <td>Straight Bourbon Whiskies</td>\n",
       "      <td>Bourbon</td>\n",
       "    </tr>\n",
       "    <tr>\n",
       "      <th>3360</th>\n",
       "      <td>919976</td>\n",
       "      <td>HA OFC Bourbon 1995</td>\n",
       "      <td>10</td>\n",
       "      <td>10</td>\n",
       "      <td>Straight Bourbon Whiskies</td>\n",
       "      <td>750</td>\n",
       "      <td>90.0</td>\n",
       "      <td>1250.00</td>\n",
       "      <td>1250.00</td>\n",
       "      <td>1875.00</td>\n",
       "      <td>1011200</td>\n",
       "      <td>Straight Bourbon Whiskies</td>\n",
       "      <td>Bourbon</td>\n",
       "    </tr>\n",
       "  </tbody>\n",
       "</table>\n",
       "</div>"
      ],
      "text/plain": [
       "     Item_Number           Item_Description  Bottles_Sold  Num_Stores_Selling  \\\n",
       "1633       48725     Remy Martin Louis XIII            17                  12   \n",
       "3323      917673  HA Double Eagle Very Rare             2                   2   \n",
       "3360      919976        HA OFC Bourbon 1995            10                  10   \n",
       "\n",
       "                  Category Name  Bottle_Volume  Proof  State Bottle Cost  \\\n",
       "1633          Imported Brandies            750   80.0            2198.89   \n",
       "3323  Straight Bourbon Whiskies            750  101.0            1000.00   \n",
       "3360  Straight Bourbon Whiskies            750   90.0            1250.00   \n",
       "\n",
       "      State Case Cost  Bottle_Retail Category              Category_Name  \\\n",
       "1633          2198.89        3298.34  1052100          Imported Brandies   \n",
       "3323          1000.00        1500.00  1011200  Straight Bourbon Whiskies   \n",
       "3360          1250.00        1875.00  1011200  Straight Bourbon Whiskies   \n",
       "\n",
       "     New_Category_Name  \n",
       "1633          Brandies  \n",
       "3323           Bourbon  \n",
       "3360           Bourbon  "
      ]
     },
     "execution_count": 56,
     "metadata": {},
     "output_type": "execute_result"
    }
   ],
   "source": [
    "products2[filt]"
   ]
  },
  {
   "cell_type": "code",
   "execution_count": 57,
   "id": "81f89fba",
   "metadata": {},
   "outputs": [],
   "source": [
    "\n",
    "products2 = products2[~filt]"
   ]
  },
  {
   "cell_type": "code",
   "execution_count": 58,
   "id": "4525df3e",
   "metadata": {},
   "outputs": [
    {
     "data": {
      "text/plain": [
       "(4468, 13)"
      ]
     },
     "execution_count": 58,
     "metadata": {},
     "output_type": "execute_result"
    }
   ],
   "source": [
    "products2.shape"
   ]
  },
  {
   "cell_type": "code",
   "execution_count": 59,
   "id": "2551ca8f",
   "metadata": {},
   "outputs": [],
   "source": [
    "filt2 = products2.Bottle_Volume > 3000 #drop outliers of Bottle Volume"
   ]
  },
  {
   "cell_type": "code",
   "execution_count": 60,
   "id": "08280dc1",
   "metadata": {},
   "outputs": [],
   "source": [
    "products2 = products2[~filt2] "
   ]
  },
  {
   "cell_type": "code",
   "execution_count": 61,
   "id": "75283c67",
   "metadata": {},
   "outputs": [
    {
     "data": {
      "text/plain": [
       "(4465, 13)"
      ]
     },
     "execution_count": 61,
     "metadata": {},
     "output_type": "execute_result"
    }
   ],
   "source": [
    "products2.shape"
   ]
  },
  {
   "cell_type": "code",
   "execution_count": 62,
   "id": "07a7dba8",
   "metadata": {},
   "outputs": [],
   "source": [
    "filt3= products2.Item_Number == '64870'  #outlier of bottles sold"
   ]
  },
  {
   "cell_type": "code",
   "execution_count": 63,
   "id": "e0eb4c27",
   "metadata": {},
   "outputs": [
    {
     "data": {
      "text/html": [
       "<div>\n",
       "<style scoped>\n",
       "    .dataframe tbody tr th:only-of-type {\n",
       "        vertical-align: middle;\n",
       "    }\n",
       "\n",
       "    .dataframe tbody tr th {\n",
       "        vertical-align: top;\n",
       "    }\n",
       "\n",
       "    .dataframe thead th {\n",
       "        text-align: right;\n",
       "    }\n",
       "</style>\n",
       "<table border=\"1\" class=\"dataframe\">\n",
       "  <thead>\n",
       "    <tr style=\"text-align: right;\">\n",
       "      <th></th>\n",
       "      <th>Item_Number</th>\n",
       "      <th>Item_Description</th>\n",
       "      <th>Bottles_Sold</th>\n",
       "      <th>Num_Stores_Selling</th>\n",
       "      <th>Category Name</th>\n",
       "      <th>Bottle_Volume</th>\n",
       "      <th>Proof</th>\n",
       "      <th>State Bottle Cost</th>\n",
       "      <th>State Case Cost</th>\n",
       "      <th>Bottle_Retail</th>\n",
       "      <th>Category</th>\n",
       "      <th>Category_Name</th>\n",
       "      <th>New_Category_Name</th>\n",
       "    </tr>\n",
       "  </thead>\n",
       "  <tbody>\n",
       "    <tr>\n",
       "      <th>2032</th>\n",
       "      <td>64870</td>\n",
       "      <td>Fireball Cinnamon Whiskey</td>\n",
       "      <td>2105088</td>\n",
       "      <td>893</td>\n",
       "      <td>Whiskey Liqueur</td>\n",
       "      <td>100</td>\n",
       "      <td>66.0</td>\n",
       "      <td>0.9</td>\n",
       "      <td>43.2</td>\n",
       "      <td>1.35</td>\n",
       "      <td>1081600</td>\n",
       "      <td>Whiskey Liqueur</td>\n",
       "      <td>Whiskey Liqueur</td>\n",
       "    </tr>\n",
       "  </tbody>\n",
       "</table>\n",
       "</div>"
      ],
      "text/plain": [
       "     Item_Number           Item_Description  Bottles_Sold  Num_Stores_Selling  \\\n",
       "2032       64870  Fireball Cinnamon Whiskey       2105088                 893   \n",
       "\n",
       "        Category Name  Bottle_Volume  Proof  State Bottle Cost  \\\n",
       "2032  Whiskey Liqueur            100   66.0                0.9   \n",
       "\n",
       "      State Case Cost  Bottle_Retail Category    Category_Name  \\\n",
       "2032             43.2           1.35  1081600  Whiskey Liqueur   \n",
       "\n",
       "     New_Category_Name  \n",
       "2032   Whiskey Liqueur  "
      ]
     },
     "execution_count": 63,
     "metadata": {},
     "output_type": "execute_result"
    }
   ],
   "source": [
    "products2[filt3]"
   ]
  },
  {
   "cell_type": "code",
   "execution_count": 64,
   "id": "3687ceb2",
   "metadata": {},
   "outputs": [],
   "source": [
    "# products2[filt3]\n",
    "\n",
    "\n",
    "products2 = products2[~filt3]"
   ]
  },
  {
   "cell_type": "markdown",
   "id": "31fafb65",
   "metadata": {},
   "source": [
    "## write out products2"
   ]
  },
  {
   "cell_type": "code",
   "execution_count": 65,
   "id": "33ffe25d",
   "metadata": {},
   "outputs": [],
   "source": [
    "products2.to_csv(r'C:\\Users\\dgarb\\OneDrive\\Desktop\\Capstone Data\\liquor_2021\\products2_outliers_removed.csv')"
   ]
  },
  {
   "cell_type": "markdown",
   "id": "287691d5",
   "metadata": {},
   "source": [
    "## scale data for clustering"
   ]
  },
  {
   "cell_type": "code",
   "execution_count": 66,
   "id": "e11d95e1",
   "metadata": {},
   "outputs": [
    {
     "data": {
      "text/plain": [
       "(4464, 13)"
      ]
     },
     "execution_count": 66,
     "metadata": {},
     "output_type": "execute_result"
    }
   ],
   "source": [
    "products2.shape"
   ]
  },
  {
   "cell_type": "code",
   "execution_count": 67,
   "id": "7fa627b6",
   "metadata": {},
   "outputs": [],
   "source": [
    "# cols_to_scale = ['Bottle_Volume', 'Bottle_Retail', 'Bottles_Sold','Proof']"
   ]
  },
  {
   "cell_type": "code",
   "execution_count": 68,
   "id": "d8f6ee4a",
   "metadata": {},
   "outputs": [],
   "source": [
    "scaler = StandardScaler()"
   ]
  },
  {
   "cell_type": "code",
   "execution_count": 69,
   "id": "29874bc8",
   "metadata": {},
   "outputs": [
    {
     "data": {
      "text/html": [
       "<div>\n",
       "<style scoped>\n",
       "    .dataframe tbody tr th:only-of-type {\n",
       "        vertical-align: middle;\n",
       "    }\n",
       "\n",
       "    .dataframe tbody tr th {\n",
       "        vertical-align: top;\n",
       "    }\n",
       "\n",
       "    .dataframe thead th {\n",
       "        text-align: right;\n",
       "    }\n",
       "</style>\n",
       "<table border=\"1\" class=\"dataframe\">\n",
       "  <thead>\n",
       "    <tr style=\"text-align: right;\">\n",
       "      <th></th>\n",
       "      <th>Bottle_Volume_scaled</th>\n",
       "      <th>Bottle_Retail_scaled</th>\n",
       "      <th>Bottles_Sold_scaled</th>\n",
       "      <th>Proof_scaled</th>\n",
       "    </tr>\n",
       "  </thead>\n",
       "  <tbody>\n",
       "    <tr>\n",
       "      <th>count</th>\n",
       "      <td>4.464000e+03</td>\n",
       "      <td>4.464000e+03</td>\n",
       "      <td>4.464000e+03</td>\n",
       "      <td>4.464000e+03</td>\n",
       "    </tr>\n",
       "    <tr>\n",
       "      <th>mean</th>\n",
       "      <td>-1.548915e-15</td>\n",
       "      <td>-3.789034e-16</td>\n",
       "      <td>-7.782629e-16</td>\n",
       "      <td>-4.273414e-15</td>\n",
       "    </tr>\n",
       "    <tr>\n",
       "      <th>std</th>\n",
       "      <td>1.000112e+00</td>\n",
       "      <td>1.000112e+00</td>\n",
       "      <td>1.000112e+00</td>\n",
       "      <td>1.000112e+00</td>\n",
       "    </tr>\n",
       "    <tr>\n",
       "      <th>min</th>\n",
       "      <td>-1.927046e+00</td>\n",
       "      <td>-7.098988e-01</td>\n",
       "      <td>-2.654476e-01</td>\n",
       "      <td>-2.635336e+00</td>\n",
       "    </tr>\n",
       "    <tr>\n",
       "      <th>25%</th>\n",
       "      <td>-1.006020e-01</td>\n",
       "      <td>-4.461909e-01</td>\n",
       "      <td>-2.633156e-01</td>\n",
       "      <td>-2.419137e-01</td>\n",
       "    </tr>\n",
       "    <tr>\n",
       "      <th>50%</th>\n",
       "      <td>-1.006020e-01</td>\n",
       "      <td>-2.404890e-01</td>\n",
       "      <td>-2.429391e-01</td>\n",
       "      <td>2.273848e-01</td>\n",
       "    </tr>\n",
       "    <tr>\n",
       "      <th>75%</th>\n",
       "      <td>-1.006020e-01</td>\n",
       "      <td>1.219266e-01</td>\n",
       "      <td>-1.166213e-01</td>\n",
       "      <td>5.089639e-01</td>\n",
       "    </tr>\n",
       "    <tr>\n",
       "      <th>max</th>\n",
       "      <td>4.027661e+00</td>\n",
       "      <td>2.394289e+01</td>\n",
       "      <td>2.282759e+01</td>\n",
       "      <td>5.389668e+00</td>\n",
       "    </tr>\n",
       "  </tbody>\n",
       "</table>\n",
       "</div>"
      ],
      "text/plain": [
       "       Bottle_Volume_scaled  Bottle_Retail_scaled  Bottles_Sold_scaled  \\\n",
       "count          4.464000e+03          4.464000e+03         4.464000e+03   \n",
       "mean          -1.548915e-15         -3.789034e-16        -7.782629e-16   \n",
       "std            1.000112e+00          1.000112e+00         1.000112e+00   \n",
       "min           -1.927046e+00         -7.098988e-01        -2.654476e-01   \n",
       "25%           -1.006020e-01         -4.461909e-01        -2.633156e-01   \n",
       "50%           -1.006020e-01         -2.404890e-01        -2.429391e-01   \n",
       "75%           -1.006020e-01          1.219266e-01        -1.166213e-01   \n",
       "max            4.027661e+00          2.394289e+01         2.282759e+01   \n",
       "\n",
       "       Proof_scaled  \n",
       "count  4.464000e+03  \n",
       "mean  -4.273414e-15  \n",
       "std    1.000112e+00  \n",
       "min   -2.635336e+00  \n",
       "25%   -2.419137e-01  \n",
       "50%    2.273848e-01  \n",
       "75%    5.089639e-01  \n",
       "max    5.389668e+00  "
      ]
     },
     "execution_count": 69,
     "metadata": {},
     "output_type": "execute_result"
    }
   ],
   "source": [
    "\n",
    "\n",
    "products2[['Bottle_Volume_scaled', 'Bottle_Retail_scaled', 'Bottles_Sold_scaled','Proof_scaled' ]] = scaler.fit_transform\\\n",
    "                                           (products2[['Bottle_Volume', 'Bottle_Retail', 'Bottles_Sold','Proof']])\n",
    "                                                   \n",
    "\n",
    "products2[['Bottle_Volume_scaled', 'Bottle_Retail_scaled', 'Bottles_Sold_scaled','Proof_scaled' ]].describe()"
   ]
  },
  {
   "cell_type": "code",
   "execution_count": null,
   "id": "95ba61c0",
   "metadata": {},
   "outputs": [],
   "source": []
  },
  {
   "cell_type": "code",
   "execution_count": 70,
   "id": "83f680d9",
   "metadata": {},
   "outputs": [],
   "source": [
    "# model = KMeans(n_clusters=3, random_state=42)\n",
    "\n",
    "cluster_cols = ['Bottle_Volume_scaled', 'Bottle_Retail_scaled', 'Bottles_Sold_scaled' ,'Proof_scaled']\n"
   ]
  },
  {
   "cell_type": "markdown",
   "id": "d7cc6c10",
   "metadata": {},
   "source": [
    "determine optimal number of clusters"
   ]
  },
  {
   "cell_type": "code",
   "execution_count": 71,
   "id": "6ebcee05",
   "metadata": {},
   "outputs": [
    {
     "name": "stdout",
     "output_type": "stream",
     "text": [
      "number of clusters =  2   silhouette score =  0.632029669015626\n",
      "number of clusters =  3   silhouette score =  0.618943325566067\n",
      "number of clusters =  4   silhouette score =  0.6452987236286545\n",
      "number of clusters =  5   silhouette score =  0.5884464405702099\n",
      "number of clusters =  6   silhouette score =  0.6016943487205195\n",
      "number of clusters =  7   silhouette score =  0.6175593275965177\n",
      "number of clusters =  8   silhouette score =  0.5346187332335217\n",
      "number of clusters =  9   silhouette score =  0.5447154084779157\n",
      "number of clusters =  10   silhouette score =  0.46801035411401065\n"
     ]
    }
   ],
   "source": [
    "from sklearn.metrics import silhouette_score\n",
    "\n",
    "cluster_cols = ['Bottle_Volume_scaled', 'Bottle_Retail_scaled', 'Bottles_Sold_scaled' ]\n",
    "\n",
    "df_scaled = products2[cluster_cols]\n",
    "\n",
    "\n",
    "for clust in range(2,11):\n",
    "    model = KMeans(n_clusters=clust, random_state=42).fit(df_scaled)\n",
    "    \n",
    "\n",
    "    \n",
    "    silhouette_avg = silhouette_score(df_scaled,model.labels_)\n",
    "    print('number of clusters = ',clust,' ','silhouette score = ',silhouette_avg)"
   ]
  },
  {
   "cell_type": "code",
   "execution_count": 72,
   "id": "5a44b257",
   "metadata": {},
   "outputs": [],
   "source": [
    "inertia_scores = []\n",
    "\n",
    "for clust in range(2,11):\n",
    "    inertia = KMeans(n_clusters=clust, random_state=42)\\\n",
    "              .fit(df_scaled).inertia_\n",
    "    inertia_scores.append(inertia)"
   ]
  },
  {
   "cell_type": "code",
   "execution_count": 73,
   "id": "ac0a81d4",
   "metadata": {},
   "outputs": [
    {
     "data": {
      "image/png": "[encoded data removed]",
      "text/plain": [
       "<Figure size 1080x576 with 1 Axes>"
      ]
     },
     "metadata": {},
     "output_type": "display_data"
    }
   ],
   "source": [
    "\n",
    "plt.plot(range(2,11), inertia_scores)\n",
    "plt.title(\"Inertia vs. number of clusters\")\n",
    "plt.xlabel(\"Number of clusters: K\")\n",
    "plt.ylabel('Inertia')\n",
    "plt.show()"
   ]
  },
  {
   "cell_type": "markdown",
   "id": "e27ce8dc",
   "metadata": {},
   "source": [
    "get four clusters"
   ]
  },
  {
   "cell_type": "code",
   "execution_count": 74,
   "id": "a9a21d4a",
   "metadata": {},
   "outputs": [],
   "source": [
    "\n",
    "\n",
    "cluster_cols = ['Bottle_Volume_scaled', 'Bottle_Retail_scaled', 'Bottles_Sold_scaled' ]\n",
    "\n",
    "\n",
    "model = KMeans(n_clusters=4, random_state=42)\n",
    "\n",
    "model.fit(products2[cluster_cols])\n",
    "\n",
    "products2['product_cluster'] = model.predict(products2[cluster_cols])"
   ]
  },
  {
   "cell_type": "code",
   "execution_count": 75,
   "id": "482daa89",
   "metadata": {},
   "outputs": [
    {
     "data": {
      "text/html": [
       "<div>\n",
       "<style scoped>\n",
       "    .dataframe tbody tr th:only-of-type {\n",
       "        vertical-align: middle;\n",
       "    }\n",
       "\n",
       "    .dataframe tbody tr th {\n",
       "        vertical-align: top;\n",
       "    }\n",
       "\n",
       "    .dataframe thead th {\n",
       "        text-align: right;\n",
       "    }\n",
       "</style>\n",
       "<table border=\"1\" class=\"dataframe\">\n",
       "  <thead>\n",
       "    <tr style=\"text-align: right;\">\n",
       "      <th></th>\n",
       "      <th>Item_Number</th>\n",
       "      <th>Item_Description</th>\n",
       "      <th>Bottles_Sold</th>\n",
       "      <th>Num_Stores_Selling</th>\n",
       "      <th>Category Name</th>\n",
       "      <th>Bottle_Volume</th>\n",
       "      <th>Proof</th>\n",
       "      <th>State Bottle Cost</th>\n",
       "      <th>State Case Cost</th>\n",
       "      <th>Bottle_Retail</th>\n",
       "      <th>Category</th>\n",
       "      <th>Category_Name</th>\n",
       "      <th>New_Category_Name</th>\n",
       "      <th>Bottle_Volume_scaled</th>\n",
       "      <th>Bottle_Retail_scaled</th>\n",
       "      <th>Bottles_Sold_scaled</th>\n",
       "      <th>Proof_scaled</th>\n",
       "      <th>product_cluster</th>\n",
       "    </tr>\n",
       "  </thead>\n",
       "  <tbody>\n",
       "    <tr>\n",
       "      <th>1</th>\n",
       "      <td>10006</td>\n",
       "      <td>Scoresby Rare Scotch</td>\n",
       "      <td>4619</td>\n",
       "      <td>197</td>\n",
       "      <td>Scotch Whiskies</td>\n",
       "      <td>750</td>\n",
       "      <td>80.0</td>\n",
       "      <td>5.13</td>\n",
       "      <td>61.56</td>\n",
       "      <td>7.70</td>\n",
       "      <td>1012200</td>\n",
       "      <td>Scotch Whiskies</td>\n",
       "      <td>Scotch</td>\n",
       "      <td>-0.100602</td>\n",
       "      <td>-0.546361</td>\n",
       "      <td>-0.076114</td>\n",
       "      <td>0.227385</td>\n",
       "      <td>0</td>\n",
       "    </tr>\n",
       "    <tr>\n",
       "      <th>2</th>\n",
       "      <td>100077</td>\n",
       "      <td>Kraken Rum w/ Tiki Glass</td>\n",
       "      <td>2679</td>\n",
       "      <td>136</td>\n",
       "      <td>Temporary &amp; Specialty Packages</td>\n",
       "      <td>750</td>\n",
       "      <td>94.0</td>\n",
       "      <td>10.45</td>\n",
       "      <td>62.70</td>\n",
       "      <td>15.68</td>\n",
       "      <td>1701100</td>\n",
       "      <td>Temporary &amp; Specialty Packages</td>\n",
       "      <td>Temporary &amp; Specialty Packages</td>\n",
       "      <td>-0.100602</td>\n",
       "      <td>-0.351870</td>\n",
       "      <td>-0.155652</td>\n",
       "      <td>0.884403</td>\n",
       "      <td>0</td>\n",
       "    </tr>\n",
       "    <tr>\n",
       "      <th>3</th>\n",
       "      <td>10008</td>\n",
       "      <td>Scoresby Rare Scotch</td>\n",
       "      <td>12340</td>\n",
       "      <td>287</td>\n",
       "      <td>Scotch Whiskies</td>\n",
       "      <td>1750</td>\n",
       "      <td>80.0</td>\n",
       "      <td>10.50</td>\n",
       "      <td>63.00</td>\n",
       "      <td>15.75</td>\n",
       "      <td>1012200</td>\n",
       "      <td>Scotch Whiskies</td>\n",
       "      <td>Scotch</td>\n",
       "      <td>2.401375</td>\n",
       "      <td>-0.350164</td>\n",
       "      <td>0.240439</td>\n",
       "      <td>0.227385</td>\n",
       "      <td>2</td>\n",
       "    </tr>\n",
       "    <tr>\n",
       "      <th>4</th>\n",
       "      <td>10009</td>\n",
       "      <td>Scoresby Rare Scotch</td>\n",
       "      <td>1722</td>\n",
       "      <td>70</td>\n",
       "      <td>Scotch Whiskies</td>\n",
       "      <td>1000</td>\n",
       "      <td>80.0</td>\n",
       "      <td>6.74</td>\n",
       "      <td>80.88</td>\n",
       "      <td>10.11</td>\n",
       "      <td>1012200</td>\n",
       "      <td>Scotch Whiskies</td>\n",
       "      <td>Scotch</td>\n",
       "      <td>0.524892</td>\n",
       "      <td>-0.487624</td>\n",
       "      <td>-0.194888</td>\n",
       "      <td>0.227385</td>\n",
       "      <td>0</td>\n",
       "    </tr>\n",
       "    <tr>\n",
       "      <th>5</th>\n",
       "      <td>100148</td>\n",
       "      <td>Jack Daniels Single Barrel w/Snifter Glass</td>\n",
       "      <td>606</td>\n",
       "      <td>120</td>\n",
       "      <td>Temporary &amp; Specialty Packages</td>\n",
       "      <td>750</td>\n",
       "      <td>94.0</td>\n",
       "      <td>27.59</td>\n",
       "      <td>165.54</td>\n",
       "      <td>41.39</td>\n",
       "      <td>1701100</td>\n",
       "      <td>Temporary &amp; Specialty Packages</td>\n",
       "      <td>Temporary &amp; Specialty Packages</td>\n",
       "      <td>-0.100602</td>\n",
       "      <td>0.274741</td>\n",
       "      <td>-0.240643</td>\n",
       "      <td>0.884403</td>\n",
       "      <td>0</td>\n",
       "    </tr>\n",
       "  </tbody>\n",
       "</table>\n",
       "</div>"
      ],
      "text/plain": [
       "  Item_Number                            Item_Description  Bottles_Sold  \\\n",
       "1       10006                        Scoresby Rare Scotch          4619   \n",
       "2      100077                    Kraken Rum w/ Tiki Glass          2679   \n",
       "3       10008                        Scoresby Rare Scotch         12340   \n",
       "4       10009                        Scoresby Rare Scotch          1722   \n",
       "5      100148  Jack Daniels Single Barrel w/Snifter Glass           606   \n",
       "\n",
       "   Num_Stores_Selling                   Category Name  Bottle_Volume  Proof  \\\n",
       "1                 197                 Scotch Whiskies            750   80.0   \n",
       "2                 136  Temporary & Specialty Packages            750   94.0   \n",
       "3                 287                 Scotch Whiskies           1750   80.0   \n",
       "4                  70                 Scotch Whiskies           1000   80.0   \n",
       "5                 120  Temporary & Specialty Packages            750   94.0   \n",
       "\n",
       "   State Bottle Cost  State Case Cost  Bottle_Retail Category  \\\n",
       "1               5.13            61.56           7.70  1012200   \n",
       "2              10.45            62.70          15.68  1701100   \n",
       "3              10.50            63.00          15.75  1012200   \n",
       "4               6.74            80.88          10.11  1012200   \n",
       "5              27.59           165.54          41.39  1701100   \n",
       "\n",
       "                    Category_Name               New_Category_Name  \\\n",
       "1                 Scotch Whiskies                          Scotch   \n",
       "2  Temporary & Specialty Packages  Temporary & Specialty Packages   \n",
       "3                 Scotch Whiskies                          Scotch   \n",
       "4                 Scotch Whiskies                          Scotch   \n",
       "5  Temporary & Specialty Packages  Temporary & Specialty Packages   \n",
       "\n",
       "   Bottle_Volume_scaled  Bottle_Retail_scaled  Bottles_Sold_scaled  \\\n",
       "1             -0.100602             -0.546361            -0.076114   \n",
       "2             -0.100602             -0.351870            -0.155652   \n",
       "3              2.401375             -0.350164             0.240439   \n",
       "4              0.524892             -0.487624            -0.194888   \n",
       "5             -0.100602              0.274741            -0.240643   \n",
       "\n",
       "   Proof_scaled  product_cluster  \n",
       "1      0.227385                0  \n",
       "2      0.884403                0  \n",
       "3      0.227385                2  \n",
       "4      0.227385                0  \n",
       "5      0.884403                0  "
      ]
     },
     "execution_count": 75,
     "metadata": {},
     "output_type": "execute_result"
    }
   ],
   "source": [
    "products2.head()"
   ]
  },
  {
   "cell_type": "code",
   "execution_count": 76,
   "id": "bf67af93",
   "metadata": {},
   "outputs": [
    {
     "name": "stdout",
     "output_type": "stream",
     "text": [
      "<class 'pandas.core.frame.DataFrame'>\n",
      "Int64Index: 4464 entries, 1 to 4470\n",
      "Data columns (total 18 columns):\n",
      " #   Column                Non-Null Count  Dtype  \n",
      "---  ------                --------------  -----  \n",
      " 0   Item_Number           4464 non-null   object \n",
      " 1   Item_Description      4464 non-null   object \n",
      " 2   Bottles_Sold          4464 non-null   int32  \n",
      " 3   Num_Stores_Selling    4464 non-null   int32  \n",
      " 4   Category Name         4464 non-null   object \n",
      " 5   Bottle_Volume         4464 non-null   int64  \n",
      " 6   Proof                 4464 non-null   float64\n",
      " 7   State Bottle Cost     4464 non-null   float64\n",
      " 8   State Case Cost       4464 non-null   float64\n",
      " 9   Bottle_Retail         4464 non-null   float64\n",
      " 10  Category              4464 non-null   object \n",
      " 11  Category_Name         4464 non-null   object \n",
      " 12  New_Category_Name     4464 non-null   object \n",
      " 13  Bottle_Volume_scaled  4464 non-null   float64\n",
      " 14  Bottle_Retail_scaled  4464 non-null   float64\n",
      " 15  Bottles_Sold_scaled   4464 non-null   float64\n",
      " 16  Proof_scaled          4464 non-null   float64\n",
      " 17  product_cluster       4464 non-null   int32  \n",
      "dtypes: float64(8), int32(3), int64(1), object(6)\n",
      "memory usage: 610.3+ KB\n"
     ]
    }
   ],
   "source": [
    "products2.info()"
   ]
  },
  {
   "cell_type": "code",
   "execution_count": 77,
   "id": "60d6078f",
   "metadata": {},
   "outputs": [],
   "source": [
    "products2['Bottle_Volume_liters'] = products2.Bottle_Volume / 1000"
   ]
  },
  {
   "cell_type": "code",
   "execution_count": 78,
   "id": "72debe7f",
   "metadata": {},
   "outputs": [],
   "source": [
    "# prod_dict = {0:'Volume_For_Dollar', 1:'Everything_Else', 2:'Popular_Bottles',3:'High End'}"
   ]
  },
  {
   "cell_type": "code",
   "execution_count": 79,
   "id": "4fe6245e",
   "metadata": {},
   "outputs": [],
   "source": [
    "# products2[['product_cluster']].apply(lambda p: prod_dict[p[0]],axis=1)"
   ]
  },
  {
   "cell_type": "code",
   "execution_count": 80,
   "id": "4bd54f6c",
   "metadata": {},
   "outputs": [],
   "source": [
    "# products2['cluster_name'] = products2['product_cluster'].apply(lambda p: prod_dict[p])"
   ]
  },
  {
   "cell_type": "code",
   "execution_count": 81,
   "id": "8109e35a",
   "metadata": {},
   "outputs": [],
   "source": [
    "# products2.cluster_name"
   ]
  },
  {
   "cell_type": "code",
   "execution_count": 82,
   "id": "838ba8a9",
   "metadata": {},
   "outputs": [],
   "source": [
    "products2['revenue'] = products2.Bottle_Retail * products2.Bottles_Sold"
   ]
  },
  {
   "cell_type": "code",
   "execution_count": 83,
   "id": "df487d3e",
   "metadata": {},
   "outputs": [],
   "source": [
    "# pd.options.display.float_format = '{:.2f}'.format"
   ]
  },
  {
   "cell_type": "code",
   "execution_count": 84,
   "id": "ff205b0f",
   "metadata": {},
   "outputs": [
    {
     "data": {
      "text/html": [
       "<div>\n",
       "<style scoped>\n",
       "    .dataframe tbody tr th:only-of-type {\n",
       "        vertical-align: middle;\n",
       "    }\n",
       "\n",
       "    .dataframe tbody tr th {\n",
       "        vertical-align: top;\n",
       "    }\n",
       "\n",
       "    .dataframe thead th {\n",
       "        text-align: right;\n",
       "    }\n",
       "</style>\n",
       "<table border=\"1\" class=\"dataframe\">\n",
       "  <thead>\n",
       "    <tr style=\"text-align: right;\">\n",
       "      <th></th>\n",
       "      <th>Bottle_Volume</th>\n",
       "      <th>Bottle_Retail</th>\n",
       "      <th>Bottles_Sold</th>\n",
       "      <th>revenue</th>\n",
       "      <th>Proof</th>\n",
       "    </tr>\n",
       "    <tr>\n",
       "      <th>product_cluster</th>\n",
       "      <th></th>\n",
       "      <th></th>\n",
       "      <th></th>\n",
       "      <th></th>\n",
       "      <th></th>\n",
       "    </tr>\n",
       "  </thead>\n",
       "  <tbody>\n",
       "    <tr>\n",
       "      <th>0</th>\n",
       "      <td>678.604585</td>\n",
       "      <td>26.530033</td>\n",
       "      <td>4268.097115</td>\n",
       "      <td>6.149389e+04</td>\n",
       "      <td>76.141680</td>\n",
       "    </tr>\n",
       "    <tr>\n",
       "      <th>1</th>\n",
       "      <td>752.906977</td>\n",
       "      <td>236.195000</td>\n",
       "      <td>117.046512</td>\n",
       "      <td>2.185462e+04</td>\n",
       "      <td>87.232558</td>\n",
       "    </tr>\n",
       "    <tr>\n",
       "      <th>2</th>\n",
       "      <td>1754.295154</td>\n",
       "      <td>23.249273</td>\n",
       "      <td>8943.638767</td>\n",
       "      <td>1.662277e+05</td>\n",
       "      <td>64.255507</td>\n",
       "    </tr>\n",
       "    <tr>\n",
       "      <th>3</th>\n",
       "      <td>760.714286</td>\n",
       "      <td>13.957143</td>\n",
       "      <td>196842.380952</td>\n",
       "      <td>2.685437e+06</td>\n",
       "      <td>77.023810</td>\n",
       "    </tr>\n",
       "  </tbody>\n",
       "</table>\n",
       "</div>"
      ],
      "text/plain": [
       "                 Bottle_Volume  Bottle_Retail   Bottles_Sold       revenue  \\\n",
       "product_cluster                                                              \n",
       "0                   678.604585      26.530033    4268.097115  6.149389e+04   \n",
       "1                   752.906977     236.195000     117.046512  2.185462e+04   \n",
       "2                  1754.295154      23.249273    8943.638767  1.662277e+05   \n",
       "3                   760.714286      13.957143  196842.380952  2.685437e+06   \n",
       "\n",
       "                     Proof  \n",
       "product_cluster             \n",
       "0                76.141680  \n",
       "1                87.232558  \n",
       "2                64.255507  \n",
       "3                77.023810  "
      ]
     },
     "execution_count": 84,
     "metadata": {},
     "output_type": "execute_result"
    }
   ],
   "source": [
    "products2.groupby(['product_cluster']).agg({'Bottle_Volume' : 'mean', 'Bottle_Retail':'mean','Bottles_Sold':'mean','revenue':'mean','Proof':'mean' })"
   ]
  },
  {
   "cell_type": "code",
   "execution_count": 85,
   "id": "a16d95f8",
   "metadata": {},
   "outputs": [
    {
     "data": {
      "text/html": [
       "<div>\n",
       "<style scoped>\n",
       "    .dataframe tbody tr th:only-of-type {\n",
       "        vertical-align: middle;\n",
       "    }\n",
       "\n",
       "    .dataframe tbody tr th {\n",
       "        vertical-align: top;\n",
       "    }\n",
       "\n",
       "    .dataframe thead tr th {\n",
       "        text-align: left;\n",
       "    }\n",
       "\n",
       "    .dataframe thead tr:last-of-type th {\n",
       "        text-align: right;\n",
       "    }\n",
       "</style>\n",
       "<table border=\"1\" class=\"dataframe\">\n",
       "  <thead>\n",
       "    <tr>\n",
       "      <th></th>\n",
       "      <th colspan=\"6\" halign=\"left\">Bottle_Volume</th>\n",
       "      <th colspan=\"5\" halign=\"left\">Bottle_Retail</th>\n",
       "      <th colspan=\"5\" halign=\"left\">Bottles_Sold</th>\n",
       "      <th>revenue</th>\n",
       "    </tr>\n",
       "    <tr>\n",
       "      <th></th>\n",
       "      <th>count</th>\n",
       "      <th>min</th>\n",
       "      <th>max</th>\n",
       "      <th>std</th>\n",
       "      <th>median</th>\n",
       "      <th>mean</th>\n",
       "      <th>min</th>\n",
       "      <th>max</th>\n",
       "      <th>std</th>\n",
       "      <th>median</th>\n",
       "      <th>mean</th>\n",
       "      <th>min</th>\n",
       "      <th>max</th>\n",
       "      <th>std</th>\n",
       "      <th>median</th>\n",
       "      <th>mean</th>\n",
       "      <th>sum</th>\n",
       "    </tr>\n",
       "    <tr>\n",
       "      <th>product_cluster</th>\n",
       "      <th></th>\n",
       "      <th></th>\n",
       "      <th></th>\n",
       "      <th></th>\n",
       "      <th></th>\n",
       "      <th></th>\n",
       "      <th></th>\n",
       "      <th></th>\n",
       "      <th></th>\n",
       "      <th></th>\n",
       "      <th></th>\n",
       "      <th></th>\n",
       "      <th></th>\n",
       "      <th></th>\n",
       "      <th></th>\n",
       "      <th></th>\n",
       "      <th></th>\n",
       "    </tr>\n",
       "  </thead>\n",
       "  <tbody>\n",
       "    <tr>\n",
       "      <th>0</th>\n",
       "      <td>3882</td>\n",
       "      <td>20</td>\n",
       "      <td>1200</td>\n",
       "      <td>242.213670</td>\n",
       "      <td>750.0</td>\n",
       "      <td>678.604585</td>\n",
       "      <td>0.99</td>\n",
       "      <td>129.24</td>\n",
       "      <td>21.168675</td>\n",
       "      <td>20.28</td>\n",
       "      <td>26.530033</td>\n",
       "      <td>1</td>\n",
       "      <td>97514</td>\n",
       "      <td>11005.105822</td>\n",
       "      <td>467.5</td>\n",
       "      <td>4268.097115</td>\n",
       "      <td>2.387193e+08</td>\n",
       "    </tr>\n",
       "    <tr>\n",
       "      <th>1</th>\n",
       "      <td>86</td>\n",
       "      <td>50</td>\n",
       "      <td>2250</td>\n",
       "      <td>248.921751</td>\n",
       "      <td>750.0</td>\n",
       "      <td>752.906977</td>\n",
       "      <td>131.24</td>\n",
       "      <td>1012.50</td>\n",
       "      <td>150.482581</td>\n",
       "      <td>184.87</td>\n",
       "      <td>236.195000</td>\n",
       "      <td>1</td>\n",
       "      <td>2319</td>\n",
       "      <td>324.151341</td>\n",
       "      <td>22.5</td>\n",
       "      <td>117.046512</td>\n",
       "      <td>1.879498e+06</td>\n",
       "    </tr>\n",
       "    <tr>\n",
       "      <th>2</th>\n",
       "      <td>454</td>\n",
       "      <td>1750</td>\n",
       "      <td>2400</td>\n",
       "      <td>45.288490</td>\n",
       "      <td>1750.0</td>\n",
       "      <td>1754.295154</td>\n",
       "      <td>7.34</td>\n",
       "      <td>89.99</td>\n",
       "      <td>15.762859</td>\n",
       "      <td>17.25</td>\n",
       "      <td>23.249273</td>\n",
       "      <td>3</td>\n",
       "      <td>108712</td>\n",
       "      <td>17253.510529</td>\n",
       "      <td>2039.5</td>\n",
       "      <td>8943.638767</td>\n",
       "      <td>7.546738e+07</td>\n",
       "    </tr>\n",
       "    <tr>\n",
       "      <th>3</th>\n",
       "      <td>42</td>\n",
       "      <td>50</td>\n",
       "      <td>1750</td>\n",
       "      <td>461.774905</td>\n",
       "      <td>750.0</td>\n",
       "      <td>760.714286</td>\n",
       "      <td>1.34</td>\n",
       "      <td>42.00</td>\n",
       "      <td>9.832504</td>\n",
       "      <td>11.99</td>\n",
       "      <td>13.957143</td>\n",
       "      <td>101445</td>\n",
       "      <td>563260</td>\n",
       "      <td>110826.287590</td>\n",
       "      <td>145871.5</td>\n",
       "      <td>196842.380952</td>\n",
       "      <td>1.127884e+08</td>\n",
       "    </tr>\n",
       "  </tbody>\n",
       "</table>\n",
       "</div>"
      ],
      "text/plain": [
       "                Bottle_Volume                                               \\\n",
       "                        count   min   max         std  median         mean   \n",
       "product_cluster                                                              \n",
       "0                        3882    20  1200  242.213670   750.0   678.604585   \n",
       "1                          86    50  2250  248.921751   750.0   752.906977   \n",
       "2                         454  1750  2400   45.288490  1750.0  1754.295154   \n",
       "3                          42    50  1750  461.774905   750.0   760.714286   \n",
       "\n",
       "                Bottle_Retail                                           \\\n",
       "                          min      max         std  median        mean   \n",
       "product_cluster                                                          \n",
       "0                        0.99   129.24   21.168675   20.28   26.530033   \n",
       "1                      131.24  1012.50  150.482581  184.87  236.195000   \n",
       "2                        7.34    89.99   15.762859   17.25   23.249273   \n",
       "3                        1.34    42.00    9.832504   11.99   13.957143   \n",
       "\n",
       "                Bottles_Sold                                                  \\\n",
       "                         min     max            std    median           mean   \n",
       "product_cluster                                                                \n",
       "0                          1   97514   11005.105822     467.5    4268.097115   \n",
       "1                          1    2319     324.151341      22.5     117.046512   \n",
       "2                          3  108712   17253.510529    2039.5    8943.638767   \n",
       "3                     101445  563260  110826.287590  145871.5  196842.380952   \n",
       "\n",
       "                      revenue  \n",
       "                          sum  \n",
       "product_cluster                \n",
       "0                2.387193e+08  \n",
       "1                1.879498e+06  \n",
       "2                7.546738e+07  \n",
       "3                1.127884e+08  "
      ]
     },
     "execution_count": 85,
     "metadata": {},
     "output_type": "execute_result"
    }
   ],
   "source": [
    "products2.groupby(['product_cluster']).agg({'Bottle_Volume' :['count','min','max','std', 'median', 'mean'], 'Bottle_Retail':['min','max','std', 'median', 'mean'],'Bottles_Sold':['min','max','std', 'median', 'mean'],'revenue':['sum']})"
   ]
  },
  {
   "cell_type": "code",
   "execution_count": 86,
   "id": "e62924b5",
   "metadata": {},
   "outputs": [],
   "source": [
    "products2['price_per_ml'] = products2['Bottle_Retail'] / products2['Bottle_Volume']"
   ]
  },
  {
   "cell_type": "code",
   "execution_count": 87,
   "id": "eb3cf062",
   "metadata": {},
   "outputs": [
    {
     "data": {
      "text/html": [
       "<div>\n",
       "<style scoped>\n",
       "    .dataframe tbody tr th:only-of-type {\n",
       "        vertical-align: middle;\n",
       "    }\n",
       "\n",
       "    .dataframe tbody tr th {\n",
       "        vertical-align: top;\n",
       "    }\n",
       "\n",
       "    .dataframe thead tr th {\n",
       "        text-align: left;\n",
       "    }\n",
       "\n",
       "    .dataframe thead tr:last-of-type th {\n",
       "        text-align: right;\n",
       "    }\n",
       "</style>\n",
       "<table border=\"1\" class=\"dataframe\">\n",
       "  <thead>\n",
       "    <tr>\n",
       "      <th></th>\n",
       "      <th colspan=\"4\" halign=\"left\">Proof</th>\n",
       "    </tr>\n",
       "    <tr>\n",
       "      <th></th>\n",
       "      <th>min</th>\n",
       "      <th>max</th>\n",
       "      <th>median</th>\n",
       "      <th>mean</th>\n",
       "    </tr>\n",
       "    <tr>\n",
       "      <th>product_cluster</th>\n",
       "      <th></th>\n",
       "      <th></th>\n",
       "      <th></th>\n",
       "      <th></th>\n",
       "    </tr>\n",
       "  </thead>\n",
       "  <tbody>\n",
       "    <tr>\n",
       "      <th>0</th>\n",
       "      <td>19.0</td>\n",
       "      <td>190.0</td>\n",
       "      <td>80.0</td>\n",
       "      <td>76.141680</td>\n",
       "    </tr>\n",
       "    <tr>\n",
       "      <th>1</th>\n",
       "      <td>28.0</td>\n",
       "      <td>122.0</td>\n",
       "      <td>86.0</td>\n",
       "      <td>87.232558</td>\n",
       "    </tr>\n",
       "    <tr>\n",
       "      <th>2</th>\n",
       "      <td>19.0</td>\n",
       "      <td>190.0</td>\n",
       "      <td>80.0</td>\n",
       "      <td>64.255507</td>\n",
       "    </tr>\n",
       "    <tr>\n",
       "      <th>3</th>\n",
       "      <td>42.0</td>\n",
       "      <td>99.0</td>\n",
       "      <td>80.0</td>\n",
       "      <td>77.023810</td>\n",
       "    </tr>\n",
       "  </tbody>\n",
       "</table>\n",
       "</div>"
      ],
      "text/plain": [
       "                Proof                         \n",
       "                  min    max median       mean\n",
       "product_cluster                               \n",
       "0                19.0  190.0   80.0  76.141680\n",
       "1                28.0  122.0   86.0  87.232558\n",
       "2                19.0  190.0   80.0  64.255507\n",
       "3                42.0   99.0   80.0  77.023810"
      ]
     },
     "execution_count": 87,
     "metadata": {},
     "output_type": "execute_result"
    }
   ],
   "source": [
    "products2.groupby(['product_cluster']).agg({'Proof':['min','max', 'median', 'mean']})"
   ]
  },
  {
   "cell_type": "code",
   "execution_count": 92,
   "id": "e81b36c1",
   "metadata": {},
   "outputs": [
    {
     "data": {
      "text/html": [
       "<div>\n",
       "<style scoped>\n",
       "    .dataframe tbody tr th:only-of-type {\n",
       "        vertical-align: middle;\n",
       "    }\n",
       "\n",
       "    .dataframe tbody tr th {\n",
       "        vertical-align: top;\n",
       "    }\n",
       "\n",
       "    .dataframe thead tr th {\n",
       "        text-align: left;\n",
       "    }\n",
       "\n",
       "    .dataframe thead tr:last-of-type th {\n",
       "        text-align: right;\n",
       "    }\n",
       "</style>\n",
       "<table border=\"1\" class=\"dataframe\">\n",
       "  <thead>\n",
       "    <tr>\n",
       "      <th></th>\n",
       "      <th>revenue</th>\n",
       "      <th colspan=\"5\" halign=\"left\">price_per_ml</th>\n",
       "      <th colspan=\"4\" halign=\"left\">Bottle_Volume</th>\n",
       "      <th>...</th>\n",
       "      <th colspan=\"5\" halign=\"left\">Bottle_Retail</th>\n",
       "      <th colspan=\"5\" halign=\"left\">Bottles_Sold</th>\n",
       "    </tr>\n",
       "    <tr>\n",
       "      <th></th>\n",
       "      <th>sum</th>\n",
       "      <th>min</th>\n",
       "      <th>max</th>\n",
       "      <th>std</th>\n",
       "      <th>median</th>\n",
       "      <th>mean</th>\n",
       "      <th>count</th>\n",
       "      <th>min</th>\n",
       "      <th>max</th>\n",
       "      <th>std</th>\n",
       "      <th>...</th>\n",
       "      <th>min</th>\n",
       "      <th>max</th>\n",
       "      <th>std</th>\n",
       "      <th>median</th>\n",
       "      <th>mean</th>\n",
       "      <th>min</th>\n",
       "      <th>max</th>\n",
       "      <th>median</th>\n",
       "      <th>mean</th>\n",
       "      <th>sum</th>\n",
       "    </tr>\n",
       "    <tr>\n",
       "      <th>product_cluster</th>\n",
       "      <th></th>\n",
       "      <th></th>\n",
       "      <th></th>\n",
       "      <th></th>\n",
       "      <th></th>\n",
       "      <th></th>\n",
       "      <th></th>\n",
       "      <th></th>\n",
       "      <th></th>\n",
       "      <th></th>\n",
       "      <th></th>\n",
       "      <th></th>\n",
       "      <th></th>\n",
       "      <th></th>\n",
       "      <th></th>\n",
       "      <th></th>\n",
       "      <th></th>\n",
       "      <th></th>\n",
       "      <th></th>\n",
       "      <th></th>\n",
       "      <th></th>\n",
       "    </tr>\n",
       "  </thead>\n",
       "  <tbody>\n",
       "    <tr>\n",
       "      <th>0</th>\n",
       "      <td>2.387193e+08</td>\n",
       "      <td>0.003200</td>\n",
       "      <td>2.433600</td>\n",
       "      <td>0.183456</td>\n",
       "      <td>0.032000</td>\n",
       "      <td>0.070611</td>\n",
       "      <td>3882</td>\n",
       "      <td>20</td>\n",
       "      <td>1200</td>\n",
       "      <td>242.213670</td>\n",
       "      <td>...</td>\n",
       "      <td>0.99</td>\n",
       "      <td>129.24</td>\n",
       "      <td>21.168675</td>\n",
       "      <td>20.28</td>\n",
       "      <td>26.530033</td>\n",
       "      <td>1</td>\n",
       "      <td>97514</td>\n",
       "      <td>467.5</td>\n",
       "      <td>4268.097115</td>\n",
       "      <td>16568753</td>\n",
       "    </tr>\n",
       "    <tr>\n",
       "      <th>1</th>\n",
       "      <td>1.879498e+06</td>\n",
       "      <td>0.137137</td>\n",
       "      <td>4.314600</td>\n",
       "      <td>0.683224</td>\n",
       "      <td>0.249993</td>\n",
       "      <td>0.443467</td>\n",
       "      <td>86</td>\n",
       "      <td>50</td>\n",
       "      <td>2250</td>\n",
       "      <td>248.921751</td>\n",
       "      <td>...</td>\n",
       "      <td>131.24</td>\n",
       "      <td>1012.50</td>\n",
       "      <td>150.482581</td>\n",
       "      <td>184.87</td>\n",
       "      <td>236.195000</td>\n",
       "      <td>1</td>\n",
       "      <td>2319</td>\n",
       "      <td>22.5</td>\n",
       "      <td>117.046512</td>\n",
       "      <td>10066</td>\n",
       "    </tr>\n",
       "    <tr>\n",
       "      <th>2</th>\n",
       "      <td>7.546738e+07</td>\n",
       "      <td>0.004194</td>\n",
       "      <td>0.051423</td>\n",
       "      <td>0.008757</td>\n",
       "      <td>0.009857</td>\n",
       "      <td>0.013202</td>\n",
       "      <td>454</td>\n",
       "      <td>1750</td>\n",
       "      <td>2400</td>\n",
       "      <td>45.288490</td>\n",
       "      <td>...</td>\n",
       "      <td>7.34</td>\n",
       "      <td>89.99</td>\n",
       "      <td>15.762859</td>\n",
       "      <td>17.25</td>\n",
       "      <td>23.249273</td>\n",
       "      <td>3</td>\n",
       "      <td>108712</td>\n",
       "      <td>2039.5</td>\n",
       "      <td>8943.638767</td>\n",
       "      <td>4060412</td>\n",
       "    </tr>\n",
       "    <tr>\n",
       "      <th>3</th>\n",
       "      <td>1.127884e+08</td>\n",
       "      <td>0.005960</td>\n",
       "      <td>0.129000</td>\n",
       "      <td>0.021071</td>\n",
       "      <td>0.017795</td>\n",
       "      <td>0.022235</td>\n",
       "      <td>42</td>\n",
       "      <td>50</td>\n",
       "      <td>1750</td>\n",
       "      <td>461.774905</td>\n",
       "      <td>...</td>\n",
       "      <td>1.34</td>\n",
       "      <td>42.00</td>\n",
       "      <td>9.832504</td>\n",
       "      <td>11.99</td>\n",
       "      <td>13.957143</td>\n",
       "      <td>101445</td>\n",
       "      <td>563260</td>\n",
       "      <td>145871.5</td>\n",
       "      <td>196842.380952</td>\n",
       "      <td>8267380</td>\n",
       "    </tr>\n",
       "  </tbody>\n",
       "</table>\n",
       "<p>4 rows × 22 columns</p>\n",
       "</div>"
      ],
      "text/plain": [
       "                      revenue price_per_ml                                \\\n",
       "                          sum          min       max       std    median   \n",
       "product_cluster                                                            \n",
       "0                2.387193e+08     0.003200  2.433600  0.183456  0.032000   \n",
       "1                1.879498e+06     0.137137  4.314600  0.683224  0.249993   \n",
       "2                7.546738e+07     0.004194  0.051423  0.008757  0.009857   \n",
       "3                1.127884e+08     0.005960  0.129000  0.021071  0.017795   \n",
       "\n",
       "                          Bottle_Volume                          ...  \\\n",
       "                     mean         count   min   max         std  ...   \n",
       "product_cluster                                                  ...   \n",
       "0                0.070611          3882    20  1200  242.213670  ...   \n",
       "1                0.443467            86    50  2250  248.921751  ...   \n",
       "2                0.013202           454  1750  2400   45.288490  ...   \n",
       "3                0.022235            42    50  1750  461.774905  ...   \n",
       "\n",
       "                Bottle_Retail                                           \\\n",
       "                          min      max         std  median        mean   \n",
       "product_cluster                                                          \n",
       "0                        0.99   129.24   21.168675   20.28   26.530033   \n",
       "1                      131.24  1012.50  150.482581  184.87  236.195000   \n",
       "2                        7.34    89.99   15.762859   17.25   23.249273   \n",
       "3                        1.34    42.00    9.832504   11.99   13.957143   \n",
       "\n",
       "                Bottles_Sold                                             \n",
       "                         min     max    median           mean       sum  \n",
       "product_cluster                                                          \n",
       "0                          1   97514     467.5    4268.097115  16568753  \n",
       "1                          1    2319      22.5     117.046512     10066  \n",
       "2                          3  108712    2039.5    8943.638767   4060412  \n",
       "3                     101445  563260  145871.5  196842.380952   8267380  \n",
       "\n",
       "[4 rows x 22 columns]"
      ]
     },
     "execution_count": 92,
     "metadata": {},
     "output_type": "execute_result"
    }
   ],
   "source": [
    "products2.groupby(['product_cluster']).agg({'revenue':['sum'],'price_per_ml':['min','max','std', 'median', 'mean'], 'Bottle_Volume' :['count','min','max','std', 'median', 'mean'], 'Bottle_Retail':['min','max','std', 'median', 'mean'],'Bottles_Sold':['min','max', 'median', 'mean','sum']})"
   ]
  },
  {
   "cell_type": "code",
   "execution_count": 94,
   "id": "ab4f437f",
   "metadata": {},
   "outputs": [
    {
     "data": {
      "text/plain": [
       "Index(['Item_Number', 'Item_Description', 'Bottles_Sold', 'Num_Stores_Selling',\n",
       "       'Category Name', 'Bottle_Volume', 'Proof', 'State Bottle Cost',\n",
       "       'State Case Cost', 'Bottle_Retail', 'Category', 'Category_Name',\n",
       "       'New_Category_Name', 'Bottle_Volume_scaled', 'Bottle_Retail_scaled',\n",
       "       'Bottles_Sold_scaled', 'Proof_scaled', 'product_cluster',\n",
       "       'Bottle_Volume_liters', 'revenue', 'price_per_ml'],\n",
       "      dtype='object')"
      ]
     },
     "execution_count": 94,
     "metadata": {},
     "output_type": "execute_result"
    }
   ],
   "source": [
    "products2.columns"
   ]
  },
  {
   "cell_type": "code",
   "execution_count": 98,
   "id": "0f6a6c4c",
   "metadata": {},
   "outputs": [
    {
     "data": {
      "text/html": [
       "<div>\n",
       "<style scoped>\n",
       "    .dataframe tbody tr th:only-of-type {\n",
       "        vertical-align: middle;\n",
       "    }\n",
       "\n",
       "    .dataframe tbody tr th {\n",
       "        vertical-align: top;\n",
       "    }\n",
       "\n",
       "    .dataframe thead th {\n",
       "        text-align: right;\n",
       "    }\n",
       "</style>\n",
       "<table border=\"1\" class=\"dataframe\">\n",
       "  <thead>\n",
       "    <tr style=\"text-align: right;\">\n",
       "      <th></th>\n",
       "      <th>Item_Number</th>\n",
       "      <th>Item_Description</th>\n",
       "      <th>Bottle_Volume</th>\n",
       "      <th>Bottle_Retail</th>\n",
       "      <th>Bottles_Sold</th>\n",
       "      <th>Num_Stores_Selling</th>\n",
       "    </tr>\n",
       "  </thead>\n",
       "  <tbody>\n",
       "    <tr>\n",
       "      <th>274</th>\n",
       "      <td>15178</td>\n",
       "      <td>WhistlePig 10YR Mini</td>\n",
       "      <td>50</td>\n",
       "      <td>215.73</td>\n",
       "      <td>47</td>\n",
       "      <td>39</td>\n",
       "    </tr>\n",
       "    <tr>\n",
       "      <th>587</th>\n",
       "      <td>258</td>\n",
       "      <td>RumChata GoChatas</td>\n",
       "      <td>100</td>\n",
       "      <td>150.00</td>\n",
       "      <td>250</td>\n",
       "      <td>75</td>\n",
       "    </tr>\n",
       "    <tr>\n",
       "      <th>815</th>\n",
       "      <td>28894</td>\n",
       "      <td>Bombay Bramble Mini</td>\n",
       "      <td>50</td>\n",
       "      <td>180.00</td>\n",
       "      <td>37</td>\n",
       "      <td>35</td>\n",
       "    </tr>\n",
       "    <tr>\n",
       "      <th>1127</th>\n",
       "      <td>37273</td>\n",
       "      <td>E.T. 51 Premium Vodka Mini</td>\n",
       "      <td>50</td>\n",
       "      <td>171.36</td>\n",
       "      <td>48</td>\n",
       "      <td>37</td>\n",
       "    </tr>\n",
       "  </tbody>\n",
       "</table>\n",
       "</div>"
      ],
      "text/plain": [
       "     Item_Number            Item_Description  Bottle_Volume  Bottle_Retail  \\\n",
       "274        15178        WhistlePig 10YR Mini             50         215.73   \n",
       "587          258           RumChata GoChatas            100         150.00   \n",
       "815        28894         Bombay Bramble Mini             50         180.00   \n",
       "1127       37273  E.T. 51 Premium Vodka Mini             50         171.36   \n",
       "\n",
       "      Bottles_Sold  Num_Stores_Selling  \n",
       "274             47                  39  \n",
       "587            250                  75  \n",
       "815             37                  35  \n",
       "1127            48                  37  "
      ]
     },
     "execution_count": 98,
     "metadata": {},
     "output_type": "execute_result"
    }
   ],
   "source": [
    "products2.loc[(products2.product_cluster == 1) & (products2.Bottle_Volume < 750),['Item_Number', 'Item_Description', 'Bottle_Volume','Bottle_Retail','Bottles_Sold', 'Num_Stores_Selling']]\n",
    "            "
   ]
  },
  {
   "cell_type": "code",
   "execution_count": 89,
   "id": "884c973e",
   "metadata": {},
   "outputs": [
    {
     "data": {
      "text/html": [
       "<div>\n",
       "<style scoped>\n",
       "    .dataframe tbody tr th:only-of-type {\n",
       "        vertical-align: middle;\n",
       "    }\n",
       "\n",
       "    .dataframe tbody tr th {\n",
       "        vertical-align: top;\n",
       "    }\n",
       "\n",
       "    .dataframe thead tr th {\n",
       "        text-align: left;\n",
       "    }\n",
       "\n",
       "    .dataframe thead tr:last-of-type th {\n",
       "        text-align: right;\n",
       "    }\n",
       "</style>\n",
       "<table border=\"1\" class=\"dataframe\">\n",
       "  <thead>\n",
       "    <tr>\n",
       "      <th></th>\n",
       "      <th colspan=\"5\" halign=\"left\">price_per_ml</th>\n",
       "    </tr>\n",
       "    <tr>\n",
       "      <th></th>\n",
       "      <th>min</th>\n",
       "      <th>max</th>\n",
       "      <th>std</th>\n",
       "      <th>median</th>\n",
       "      <th>mean</th>\n",
       "    </tr>\n",
       "    <tr>\n",
       "      <th>product_cluster</th>\n",
       "      <th></th>\n",
       "      <th></th>\n",
       "      <th></th>\n",
       "      <th></th>\n",
       "      <th></th>\n",
       "    </tr>\n",
       "  </thead>\n",
       "  <tbody>\n",
       "    <tr>\n",
       "      <th>0</th>\n",
       "      <td>0.003200</td>\n",
       "      <td>2.433600</td>\n",
       "      <td>0.183456</td>\n",
       "      <td>0.032000</td>\n",
       "      <td>0.070611</td>\n",
       "    </tr>\n",
       "    <tr>\n",
       "      <th>1</th>\n",
       "      <td>0.137137</td>\n",
       "      <td>4.314600</td>\n",
       "      <td>0.683224</td>\n",
       "      <td>0.249993</td>\n",
       "      <td>0.443467</td>\n",
       "    </tr>\n",
       "    <tr>\n",
       "      <th>2</th>\n",
       "      <td>0.004194</td>\n",
       "      <td>0.051423</td>\n",
       "      <td>0.008757</td>\n",
       "      <td>0.009857</td>\n",
       "      <td>0.013202</td>\n",
       "    </tr>\n",
       "    <tr>\n",
       "      <th>3</th>\n",
       "      <td>0.005960</td>\n",
       "      <td>0.129000</td>\n",
       "      <td>0.021071</td>\n",
       "      <td>0.017795</td>\n",
       "      <td>0.022235</td>\n",
       "    </tr>\n",
       "  </tbody>\n",
       "</table>\n",
       "</div>"
      ],
      "text/plain": [
       "                price_per_ml                                        \n",
       "                         min       max       std    median      mean\n",
       "product_cluster                                                     \n",
       "0                   0.003200  2.433600  0.183456  0.032000  0.070611\n",
       "1                   0.137137  4.314600  0.683224  0.249993  0.443467\n",
       "2                   0.004194  0.051423  0.008757  0.009857  0.013202\n",
       "3                   0.005960  0.129000  0.021071  0.017795  0.022235"
      ]
     },
     "execution_count": 89,
     "metadata": {},
     "output_type": "execute_result"
    }
   ],
   "source": [
    "products2.groupby(['product_cluster']).agg({'price_per_ml':['min','max','std', 'median', 'mean']})"
   ]
  },
  {
   "cell_type": "markdown",
   "id": "8093a401",
   "metadata": {},
   "source": [
    "### Name clusters"
   ]
  },
  {
   "cell_type": "code",
   "execution_count": 90,
   "id": "7d448ca8",
   "metadata": {},
   "outputs": [
    {
     "ename": "NameError",
     "evalue": "name 'stop' is not defined",
     "output_type": "error",
     "traceback": [
      "\u001b[1;31m---------------------------------------------------------------------------\u001b[0m",
      "\u001b[1;31mNameError\u001b[0m                                 Traceback (most recent call last)",
      "\u001b[1;32m~\\AppData\\Local\\Temp/ipykernel_26888/3957423419.py\u001b[0m in \u001b[0;36m<module>\u001b[1;34m\u001b[0m\n\u001b[1;32m----> 1\u001b[1;33m \u001b[0mstop\u001b[0m\u001b[1;33m\u001b[0m\u001b[1;33m\u001b[0m\u001b[0m\n\u001b[0m",
      "\u001b[1;31mNameError\u001b[0m: name 'stop' is not defined"
     ]
    }
   ],
   "source": [
    "stop"
   ]
  },
  {
   "cell_type": "code",
   "execution_count": 99,
   "id": "35f337c8",
   "metadata": {},
   "outputs": [],
   "source": [
    "prod_dict = {0:'Everything_Else', 1:'High_End', 3:'Popular_Bottles', 2:'Volume_For_Dollar'}"
   ]
  },
  {
   "cell_type": "code",
   "execution_count": 100,
   "id": "e94a6567",
   "metadata": {},
   "outputs": [
    {
     "data": {
      "text/plain": [
       "1         Everything_Else\n",
       "2         Everything_Else\n",
       "3       Volume_For_Dollar\n",
       "4         Everything_Else\n",
       "5         Everything_Else\n",
       "              ...        \n",
       "4466      Everything_Else\n",
       "4467      Everything_Else\n",
       "4468      Everything_Else\n",
       "4469      Everything_Else\n",
       "4470      Everything_Else\n",
       "Length: 4464, dtype: object"
      ]
     },
     "execution_count": 100,
     "metadata": {},
     "output_type": "execute_result"
    }
   ],
   "source": [
    "products2[['product_cluster']].apply(lambda p: prod_dict[p[0]],axis=1)"
   ]
  },
  {
   "cell_type": "code",
   "execution_count": 101,
   "id": "d74da4bd",
   "metadata": {},
   "outputs": [],
   "source": [
    "products2['cluster_name'] = products2[['product_cluster']].apply(lambda p: prod_dict[p[0]],axis=1)"
   ]
  },
  {
   "cell_type": "code",
   "execution_count": 102,
   "id": "7d5968cc",
   "metadata": {},
   "outputs": [
    {
     "data": {
      "text/html": [
       "<div>\n",
       "<style scoped>\n",
       "    .dataframe tbody tr th:only-of-type {\n",
       "        vertical-align: middle;\n",
       "    }\n",
       "\n",
       "    .dataframe tbody tr th {\n",
       "        vertical-align: top;\n",
       "    }\n",
       "\n",
       "    .dataframe thead tr th {\n",
       "        text-align: left;\n",
       "    }\n",
       "\n",
       "    .dataframe thead tr:last-of-type th {\n",
       "        text-align: right;\n",
       "    }\n",
       "</style>\n",
       "<table border=\"1\" class=\"dataframe\">\n",
       "  <thead>\n",
       "    <tr>\n",
       "      <th></th>\n",
       "      <th colspan=\"3\" halign=\"left\">Bottle_Volume_liters</th>\n",
       "      <th colspan=\"3\" halign=\"left\">Bottle_Retail</th>\n",
       "      <th colspan=\"3\" halign=\"left\">Bottles_Sold</th>\n",
       "    </tr>\n",
       "    <tr>\n",
       "      <th></th>\n",
       "      <th>min</th>\n",
       "      <th>max</th>\n",
       "      <th>mean</th>\n",
       "      <th>min</th>\n",
       "      <th>max</th>\n",
       "      <th>mean</th>\n",
       "      <th>min</th>\n",
       "      <th>max</th>\n",
       "      <th>mean</th>\n",
       "    </tr>\n",
       "    <tr>\n",
       "      <th>cluster_name</th>\n",
       "      <th></th>\n",
       "      <th></th>\n",
       "      <th></th>\n",
       "      <th></th>\n",
       "      <th></th>\n",
       "      <th></th>\n",
       "      <th></th>\n",
       "      <th></th>\n",
       "      <th></th>\n",
       "    </tr>\n",
       "  </thead>\n",
       "  <tbody>\n",
       "    <tr>\n",
       "      <th>Everything_Else</th>\n",
       "      <td>0.02</td>\n",
       "      <td>1.20</td>\n",
       "      <td>0.678605</td>\n",
       "      <td>0.99</td>\n",
       "      <td>129.24</td>\n",
       "      <td>26.530033</td>\n",
       "      <td>1</td>\n",
       "      <td>97514</td>\n",
       "      <td>4268.097115</td>\n",
       "    </tr>\n",
       "    <tr>\n",
       "      <th>High_End</th>\n",
       "      <td>0.05</td>\n",
       "      <td>2.25</td>\n",
       "      <td>0.752907</td>\n",
       "      <td>131.24</td>\n",
       "      <td>1012.50</td>\n",
       "      <td>236.195000</td>\n",
       "      <td>1</td>\n",
       "      <td>2319</td>\n",
       "      <td>117.046512</td>\n",
       "    </tr>\n",
       "    <tr>\n",
       "      <th>Popular_Bottles</th>\n",
       "      <td>0.05</td>\n",
       "      <td>1.75</td>\n",
       "      <td>0.760714</td>\n",
       "      <td>1.34</td>\n",
       "      <td>42.00</td>\n",
       "      <td>13.957143</td>\n",
       "      <td>101445</td>\n",
       "      <td>563260</td>\n",
       "      <td>196842.380952</td>\n",
       "    </tr>\n",
       "    <tr>\n",
       "      <th>Volume_For_Dollar</th>\n",
       "      <td>1.75</td>\n",
       "      <td>2.40</td>\n",
       "      <td>1.754295</td>\n",
       "      <td>7.34</td>\n",
       "      <td>89.99</td>\n",
       "      <td>23.249273</td>\n",
       "      <td>3</td>\n",
       "      <td>108712</td>\n",
       "      <td>8943.638767</td>\n",
       "    </tr>\n",
       "  </tbody>\n",
       "</table>\n",
       "</div>"
      ],
      "text/plain": [
       "                  Bottle_Volume_liters                 Bottle_Retail           \\\n",
       "                                   min   max      mean           min      max   \n",
       "cluster_name                                                                    \n",
       "Everything_Else                   0.02  1.20  0.678605          0.99   129.24   \n",
       "High_End                          0.05  2.25  0.752907        131.24  1012.50   \n",
       "Popular_Bottles                   0.05  1.75  0.760714          1.34    42.00   \n",
       "Volume_For_Dollar                 1.75  2.40  1.754295          7.34    89.99   \n",
       "\n",
       "                              Bottles_Sold                         \n",
       "                         mean          min     max           mean  \n",
       "cluster_name                                                       \n",
       "Everything_Else     26.530033            1   97514    4268.097115  \n",
       "High_End           236.195000            1    2319     117.046512  \n",
       "Popular_Bottles     13.957143       101445  563260  196842.380952  \n",
       "Volume_For_Dollar   23.249273            3  108712    8943.638767  "
      ]
     },
     "execution_count": 102,
     "metadata": {},
     "output_type": "execute_result"
    }
   ],
   "source": [
    "products2.groupby(['cluster_name']).agg({'Bottle_Volume_liters' :['min','max', 'mean'], 'Bottle_Retail':['min','max', 'mean'],'Bottles_Sold':['min','max', 'mean'] })"
   ]
  },
  {
   "cell_type": "code",
   "execution_count": null,
   "id": "23dd0f4e",
   "metadata": {},
   "outputs": [],
   "source": [
    "# products2['price_per_ml'] = products2['Bottle_Retail'] / products2['Bottle_Volume']"
   ]
  },
  {
   "cell_type": "code",
   "execution_count": 103,
   "id": "38c07b36",
   "metadata": {},
   "outputs": [
    {
     "data": {
      "text/html": [
       "<div>\n",
       "<style scoped>\n",
       "    .dataframe tbody tr th:only-of-type {\n",
       "        vertical-align: middle;\n",
       "    }\n",
       "\n",
       "    .dataframe tbody tr th {\n",
       "        vertical-align: top;\n",
       "    }\n",
       "\n",
       "    .dataframe thead th {\n",
       "        text-align: right;\n",
       "    }\n",
       "</style>\n",
       "<table border=\"1\" class=\"dataframe\">\n",
       "  <thead>\n",
       "    <tr style=\"text-align: right;\">\n",
       "      <th></th>\n",
       "      <th>Bottle_Volume</th>\n",
       "    </tr>\n",
       "    <tr>\n",
       "      <th>cluster_name</th>\n",
       "      <th></th>\n",
       "    </tr>\n",
       "  </thead>\n",
       "  <tbody>\n",
       "    <tr>\n",
       "      <th>Everything_Else</th>\n",
       "      <td>17</td>\n",
       "    </tr>\n",
       "    <tr>\n",
       "      <th>High_End</th>\n",
       "      <td>6</td>\n",
       "    </tr>\n",
       "    <tr>\n",
       "      <th>Popular_Bottles</th>\n",
       "      <td>7</td>\n",
       "    </tr>\n",
       "    <tr>\n",
       "      <th>Volume_For_Dollar</th>\n",
       "      <td>4</td>\n",
       "    </tr>\n",
       "  </tbody>\n",
       "</table>\n",
       "</div>"
      ],
      "text/plain": [
       "                   Bottle_Volume\n",
       "cluster_name                    \n",
       "Everything_Else               17\n",
       "High_End                       6\n",
       "Popular_Bottles                7\n",
       "Volume_For_Dollar              4"
      ]
     },
     "execution_count": 103,
     "metadata": {},
     "output_type": "execute_result"
    }
   ],
   "source": [
    "products2.groupby(['cluster_name']).agg({'Bottle_Volume':'nunique'})"
   ]
  },
  {
   "cell_type": "code",
   "execution_count": null,
   "id": "6470a8b8",
   "metadata": {},
   "outputs": [],
   "source": [
    "# products2['revenue'] = products2.Bottles_Sold * products2.Bottle_Retail\n"
   ]
  },
  {
   "cell_type": "code",
   "execution_count": null,
   "id": "ba770a08",
   "metadata": {},
   "outputs": [],
   "source": [
    "df = products2.groupby(['cluster_name']).agg({'revenue':'sum'})\n",
    "df.style.format(\"{:.0f}\")\n"
   ]
  },
  {
   "cell_type": "code",
   "execution_count": null,
   "id": "0d1eabdc",
   "metadata": {},
   "outputs": [],
   "source": []
  },
  {
   "cell_type": "code",
   "execution_count": 104,
   "id": "ef81a22c",
   "metadata": {},
   "outputs": [],
   "source": [
    "from freq_pd import proc_freq"
   ]
  },
  {
   "cell_type": "code",
   "execution_count": 105,
   "id": "811667ad",
   "metadata": {},
   "outputs": [
    {
     "data": {
      "text/html": [
       "<div>\n",
       "<style scoped>\n",
       "    .dataframe tbody tr th:only-of-type {\n",
       "        vertical-align: middle;\n",
       "    }\n",
       "\n",
       "    .dataframe tbody tr th {\n",
       "        vertical-align: top;\n",
       "    }\n",
       "\n",
       "    .dataframe thead th {\n",
       "        text-align: right;\n",
       "    }\n",
       "</style>\n",
       "<table border=\"1\" class=\"dataframe\">\n",
       "  <thead>\n",
       "    <tr style=\"text-align: right;\">\n",
       "      <th></th>\n",
       "      <th>cluster_name</th>\n",
       "      <th>Frequency</th>\n",
       "      <th>Percent</th>\n",
       "      <th>Cumulative_Frequency</th>\n",
       "      <th>Cumulative_Percent</th>\n",
       "    </tr>\n",
       "  </thead>\n",
       "  <tbody>\n",
       "    <tr>\n",
       "      <th>0</th>\n",
       "      <td>Everything_Else</td>\n",
       "      <td>3882</td>\n",
       "      <td>86.96</td>\n",
       "      <td>3882</td>\n",
       "      <td>86.96</td>\n",
       "    </tr>\n",
       "    <tr>\n",
       "      <th>1</th>\n",
       "      <td>High_End</td>\n",
       "      <td>86</td>\n",
       "      <td>1.93</td>\n",
       "      <td>3968</td>\n",
       "      <td>88.89</td>\n",
       "    </tr>\n",
       "    <tr>\n",
       "      <th>2</th>\n",
       "      <td>Popular_Bottles</td>\n",
       "      <td>42</td>\n",
       "      <td>0.94</td>\n",
       "      <td>4010</td>\n",
       "      <td>89.83</td>\n",
       "    </tr>\n",
       "    <tr>\n",
       "      <th>3</th>\n",
       "      <td>Volume_For_Dollar</td>\n",
       "      <td>454</td>\n",
       "      <td>10.17</td>\n",
       "      <td>4464</td>\n",
       "      <td>100.00</td>\n",
       "    </tr>\n",
       "  </tbody>\n",
       "</table>\n",
       "</div>"
      ],
      "text/plain": [
       "        cluster_name  Frequency  Percent  Cumulative_Frequency  \\\n",
       "0    Everything_Else       3882    86.96                  3882   \n",
       "1           High_End         86     1.93                  3968   \n",
       "2    Popular_Bottles         42     0.94                  4010   \n",
       "3  Volume_For_Dollar        454    10.17                  4464   \n",
       "\n",
       "   Cumulative_Percent  \n",
       "0               86.96  \n",
       "1               88.89  \n",
       "2               89.83  \n",
       "3              100.00  "
      ]
     },
     "execution_count": 105,
     "metadata": {},
     "output_type": "execute_result"
    }
   ],
   "source": [
    "proc_freq(products2,'cluster_name')"
   ]
  },
  {
   "cell_type": "code",
   "execution_count": 106,
   "id": "f652b3c0",
   "metadata": {},
   "outputs": [
    {
     "data": {
      "text/html": [
       "<div>\n",
       "<style scoped>\n",
       "    .dataframe tbody tr th:only-of-type {\n",
       "        vertical-align: middle;\n",
       "    }\n",
       "\n",
       "    .dataframe tbody tr th {\n",
       "        vertical-align: top;\n",
       "    }\n",
       "\n",
       "    .dataframe thead tr th {\n",
       "        text-align: left;\n",
       "    }\n",
       "\n",
       "    .dataframe thead tr:last-of-type th {\n",
       "        text-align: right;\n",
       "    }\n",
       "</style>\n",
       "<table border=\"1\" class=\"dataframe\">\n",
       "  <thead>\n",
       "    <tr>\n",
       "      <th></th>\n",
       "      <th colspan=\"5\" halign=\"left\">price_per_ml</th>\n",
       "      <th colspan=\"5\" halign=\"left\">Bottles_Sold</th>\n",
       "      <th colspan=\"5\" halign=\"left\">Num_Stores_Selling</th>\n",
       "    </tr>\n",
       "    <tr>\n",
       "      <th></th>\n",
       "      <th>min</th>\n",
       "      <th>max</th>\n",
       "      <th>std</th>\n",
       "      <th>median</th>\n",
       "      <th>mean</th>\n",
       "      <th>min</th>\n",
       "      <th>max</th>\n",
       "      <th>std</th>\n",
       "      <th>median</th>\n",
       "      <th>mean</th>\n",
       "      <th>min</th>\n",
       "      <th>max</th>\n",
       "      <th>std</th>\n",
       "      <th>median</th>\n",
       "      <th>mean</th>\n",
       "    </tr>\n",
       "    <tr>\n",
       "      <th>cluster_name</th>\n",
       "      <th></th>\n",
       "      <th></th>\n",
       "      <th></th>\n",
       "      <th></th>\n",
       "      <th></th>\n",
       "      <th></th>\n",
       "      <th></th>\n",
       "      <th></th>\n",
       "      <th></th>\n",
       "      <th></th>\n",
       "      <th></th>\n",
       "      <th></th>\n",
       "      <th></th>\n",
       "      <th></th>\n",
       "      <th></th>\n",
       "    </tr>\n",
       "  </thead>\n",
       "  <tbody>\n",
       "    <tr>\n",
       "      <th>Everything_Else</th>\n",
       "      <td>0.003200</td>\n",
       "      <td>2.433600</td>\n",
       "      <td>0.183456</td>\n",
       "      <td>0.032000</td>\n",
       "      <td>0.070611</td>\n",
       "      <td>1</td>\n",
       "      <td>97514</td>\n",
       "      <td>11005.105822</td>\n",
       "      <td>467.5</td>\n",
       "      <td>4268.097115</td>\n",
       "      <td>1</td>\n",
       "      <td>1551</td>\n",
       "      <td>186.072416</td>\n",
       "      <td>45.0</td>\n",
       "      <td>113.366564</td>\n",
       "    </tr>\n",
       "    <tr>\n",
       "      <th>High_End</th>\n",
       "      <td>0.137137</td>\n",
       "      <td>4.314600</td>\n",
       "      <td>0.683224</td>\n",
       "      <td>0.249993</td>\n",
       "      <td>0.443467</td>\n",
       "      <td>1</td>\n",
       "      <td>2319</td>\n",
       "      <td>324.151341</td>\n",
       "      <td>22.5</td>\n",
       "      <td>117.046512</td>\n",
       "      <td>1</td>\n",
       "      <td>212</td>\n",
       "      <td>42.383423</td>\n",
       "      <td>5.0</td>\n",
       "      <td>29.302326</td>\n",
       "    </tr>\n",
       "    <tr>\n",
       "      <th>Popular_Bottles</th>\n",
       "      <td>0.005960</td>\n",
       "      <td>0.129000</td>\n",
       "      <td>0.021071</td>\n",
       "      <td>0.017795</td>\n",
       "      <td>0.022235</td>\n",
       "      <td>101445</td>\n",
       "      <td>563260</td>\n",
       "      <td>110826.287590</td>\n",
       "      <td>145871.5</td>\n",
       "      <td>196842.380952</td>\n",
       "      <td>73</td>\n",
       "      <td>1725</td>\n",
       "      <td>486.579562</td>\n",
       "      <td>1285.5</td>\n",
       "      <td>1124.476190</td>\n",
       "    </tr>\n",
       "    <tr>\n",
       "      <th>Volume_For_Dollar</th>\n",
       "      <td>0.004194</td>\n",
       "      <td>0.051423</td>\n",
       "      <td>0.008757</td>\n",
       "      <td>0.009857</td>\n",
       "      <td>0.013202</td>\n",
       "      <td>3</td>\n",
       "      <td>108712</td>\n",
       "      <td>17253.510529</td>\n",
       "      <td>2039.5</td>\n",
       "      <td>8943.638767</td>\n",
       "      <td>1</td>\n",
       "      <td>1199</td>\n",
       "      <td>192.462092</td>\n",
       "      <td>79.0</td>\n",
       "      <td>152.900881</td>\n",
       "    </tr>\n",
       "  </tbody>\n",
       "</table>\n",
       "</div>"
      ],
      "text/plain": [
       "                  price_per_ml                                          \\\n",
       "                           min       max       std    median      mean   \n",
       "cluster_name                                                             \n",
       "Everything_Else       0.003200  2.433600  0.183456  0.032000  0.070611   \n",
       "High_End              0.137137  4.314600  0.683224  0.249993  0.443467   \n",
       "Popular_Bottles       0.005960  0.129000  0.021071  0.017795  0.022235   \n",
       "Volume_For_Dollar     0.004194  0.051423  0.008757  0.009857  0.013202   \n",
       "\n",
       "                  Bottles_Sold                                   \\\n",
       "                           min     max            std    median   \n",
       "cluster_name                                                      \n",
       "Everything_Else              1   97514   11005.105822     467.5   \n",
       "High_End                     1    2319     324.151341      22.5   \n",
       "Popular_Bottles         101445  563260  110826.287590  145871.5   \n",
       "Volume_For_Dollar            3  108712   17253.510529    2039.5   \n",
       "\n",
       "                                 Num_Stores_Selling                            \\\n",
       "                            mean                min   max         std  median   \n",
       "cluster_name                                                                    \n",
       "Everything_Else      4268.097115                  1  1551  186.072416    45.0   \n",
       "High_End              117.046512                  1   212   42.383423     5.0   \n",
       "Popular_Bottles    196842.380952                 73  1725  486.579562  1285.5   \n",
       "Volume_For_Dollar    8943.638767                  1  1199  192.462092    79.0   \n",
       "\n",
       "                                \n",
       "                          mean  \n",
       "cluster_name                    \n",
       "Everything_Else     113.366564  \n",
       "High_End             29.302326  \n",
       "Popular_Bottles    1124.476190  \n",
       "Volume_For_Dollar   152.900881  "
      ]
     },
     "execution_count": 106,
     "metadata": {},
     "output_type": "execute_result"
    }
   ],
   "source": [
    "products2.groupby(['cluster_name']).agg({'price_per_ml':['min','max','std', 'median', 'mean'],'Bottles_Sold':['min','max','std', 'median', 'mean'],'Num_Stores_Selling':['min','max','std', 'median', 'mean'] })"
   ]
  },
  {
   "cell_type": "code",
   "execution_count": null,
   "id": "39683334",
   "metadata": {},
   "outputs": [],
   "source": [
    "products2.groupby(['cluster_name']).agg({'revenue':['sum'],'Bottle_Volume':['nunique','min','max','median'],'price_per_ml':['min','max','std', 'median', 'mean'],'Bottles_Sold':['min','max','std', 'median', 'mean'],'Num_Stores_Selling':['min','max','std', 'median', 'mean'] })"
   ]
  },
  {
   "cell_type": "code",
   "execution_count": 107,
   "id": "458b22e4",
   "metadata": {},
   "outputs": [
    {
     "data": {
      "text/html": [
       "<div>\n",
       "<style scoped>\n",
       "    .dataframe tbody tr th:only-of-type {\n",
       "        vertical-align: middle;\n",
       "    }\n",
       "\n",
       "    .dataframe tbody tr th {\n",
       "        vertical-align: top;\n",
       "    }\n",
       "\n",
       "    .dataframe thead tr th {\n",
       "        text-align: left;\n",
       "    }\n",
       "\n",
       "    .dataframe thead tr:last-of-type th {\n",
       "        text-align: right;\n",
       "    }\n",
       "</style>\n",
       "<table border=\"1\" class=\"dataframe\">\n",
       "  <thead>\n",
       "    <tr>\n",
       "      <th></th>\n",
       "      <th>revenue</th>\n",
       "      <th colspan=\"4\" halign=\"left\">Bottle_Volume</th>\n",
       "      <th colspan=\"5\" halign=\"left\">price_per_ml</th>\n",
       "      <th colspan=\"5\" halign=\"left\">Bottles_Sold</th>\n",
       "      <th colspan=\"5\" halign=\"left\">Num_Stores_Selling</th>\n",
       "    </tr>\n",
       "    <tr>\n",
       "      <th></th>\n",
       "      <th>sum</th>\n",
       "      <th>nunique</th>\n",
       "      <th>min</th>\n",
       "      <th>max</th>\n",
       "      <th>median</th>\n",
       "      <th>min</th>\n",
       "      <th>max</th>\n",
       "      <th>std</th>\n",
       "      <th>median</th>\n",
       "      <th>mean</th>\n",
       "      <th>min</th>\n",
       "      <th>max</th>\n",
       "      <th>std</th>\n",
       "      <th>median</th>\n",
       "      <th>mean</th>\n",
       "      <th>min</th>\n",
       "      <th>max</th>\n",
       "      <th>std</th>\n",
       "      <th>median</th>\n",
       "      <th>mean</th>\n",
       "    </tr>\n",
       "    <tr>\n",
       "      <th>cluster_name</th>\n",
       "      <th></th>\n",
       "      <th></th>\n",
       "      <th></th>\n",
       "      <th></th>\n",
       "      <th></th>\n",
       "      <th></th>\n",
       "      <th></th>\n",
       "      <th></th>\n",
       "      <th></th>\n",
       "      <th></th>\n",
       "      <th></th>\n",
       "      <th></th>\n",
       "      <th></th>\n",
       "      <th></th>\n",
       "      <th></th>\n",
       "      <th></th>\n",
       "      <th></th>\n",
       "      <th></th>\n",
       "      <th></th>\n",
       "      <th></th>\n",
       "    </tr>\n",
       "  </thead>\n",
       "  <tbody>\n",
       "    <tr>\n",
       "      <th>Everything_Else</th>\n",
       "      <td>2.387193e+08</td>\n",
       "      <td>17</td>\n",
       "      <td>20</td>\n",
       "      <td>1200</td>\n",
       "      <td>750.0</td>\n",
       "      <td>0.003200</td>\n",
       "      <td>2.433600</td>\n",
       "      <td>0.183456</td>\n",
       "      <td>0.032000</td>\n",
       "      <td>0.070611</td>\n",
       "      <td>1</td>\n",
       "      <td>97514</td>\n",
       "      <td>11005.105822</td>\n",
       "      <td>467.5</td>\n",
       "      <td>4268.097115</td>\n",
       "      <td>1</td>\n",
       "      <td>1551</td>\n",
       "      <td>186.072416</td>\n",
       "      <td>45.0</td>\n",
       "      <td>113.366564</td>\n",
       "    </tr>\n",
       "    <tr>\n",
       "      <th>High_End</th>\n",
       "      <td>1.879498e+06</td>\n",
       "      <td>6</td>\n",
       "      <td>50</td>\n",
       "      <td>2250</td>\n",
       "      <td>750.0</td>\n",
       "      <td>0.137137</td>\n",
       "      <td>4.314600</td>\n",
       "      <td>0.683224</td>\n",
       "      <td>0.249993</td>\n",
       "      <td>0.443467</td>\n",
       "      <td>1</td>\n",
       "      <td>2319</td>\n",
       "      <td>324.151341</td>\n",
       "      <td>22.5</td>\n",
       "      <td>117.046512</td>\n",
       "      <td>1</td>\n",
       "      <td>212</td>\n",
       "      <td>42.383423</td>\n",
       "      <td>5.0</td>\n",
       "      <td>29.302326</td>\n",
       "    </tr>\n",
       "    <tr>\n",
       "      <th>Popular_Bottles</th>\n",
       "      <td>1.127884e+08</td>\n",
       "      <td>7</td>\n",
       "      <td>50</td>\n",
       "      <td>1750</td>\n",
       "      <td>750.0</td>\n",
       "      <td>0.005960</td>\n",
       "      <td>0.129000</td>\n",
       "      <td>0.021071</td>\n",
       "      <td>0.017795</td>\n",
       "      <td>0.022235</td>\n",
       "      <td>101445</td>\n",
       "      <td>563260</td>\n",
       "      <td>110826.287590</td>\n",
       "      <td>145871.5</td>\n",
       "      <td>196842.380952</td>\n",
       "      <td>73</td>\n",
       "      <td>1725</td>\n",
       "      <td>486.579562</td>\n",
       "      <td>1285.5</td>\n",
       "      <td>1124.476190</td>\n",
       "    </tr>\n",
       "    <tr>\n",
       "      <th>Volume_For_Dollar</th>\n",
       "      <td>7.546738e+07</td>\n",
       "      <td>4</td>\n",
       "      <td>1750</td>\n",
       "      <td>2400</td>\n",
       "      <td>1750.0</td>\n",
       "      <td>0.004194</td>\n",
       "      <td>0.051423</td>\n",
       "      <td>0.008757</td>\n",
       "      <td>0.009857</td>\n",
       "      <td>0.013202</td>\n",
       "      <td>3</td>\n",
       "      <td>108712</td>\n",
       "      <td>17253.510529</td>\n",
       "      <td>2039.5</td>\n",
       "      <td>8943.638767</td>\n",
       "      <td>1</td>\n",
       "      <td>1199</td>\n",
       "      <td>192.462092</td>\n",
       "      <td>79.0</td>\n",
       "      <td>152.900881</td>\n",
       "    </tr>\n",
       "  </tbody>\n",
       "</table>\n",
       "</div>"
      ],
      "text/plain": [
       "                        revenue Bottle_Volume                      \\\n",
       "                            sum       nunique   min   max  median   \n",
       "cluster_name                                                        \n",
       "Everything_Else    2.387193e+08            17    20  1200   750.0   \n",
       "High_End           1.879498e+06             6    50  2250   750.0   \n",
       "Popular_Bottles    1.127884e+08             7    50  1750   750.0   \n",
       "Volume_For_Dollar  7.546738e+07             4  1750  2400  1750.0   \n",
       "\n",
       "                  price_per_ml                                          \\\n",
       "                           min       max       std    median      mean   \n",
       "cluster_name                                                             \n",
       "Everything_Else       0.003200  2.433600  0.183456  0.032000  0.070611   \n",
       "High_End              0.137137  4.314600  0.683224  0.249993  0.443467   \n",
       "Popular_Bottles       0.005960  0.129000  0.021071  0.017795  0.022235   \n",
       "Volume_For_Dollar     0.004194  0.051423  0.008757  0.009857  0.013202   \n",
       "\n",
       "                  Bottles_Sold                                   \\\n",
       "                           min     max            std    median   \n",
       "cluster_name                                                      \n",
       "Everything_Else              1   97514   11005.105822     467.5   \n",
       "High_End                     1    2319     324.151341      22.5   \n",
       "Popular_Bottles         101445  563260  110826.287590  145871.5   \n",
       "Volume_For_Dollar            3  108712   17253.510529    2039.5   \n",
       "\n",
       "                                 Num_Stores_Selling                            \\\n",
       "                            mean                min   max         std  median   \n",
       "cluster_name                                                                    \n",
       "Everything_Else      4268.097115                  1  1551  186.072416    45.0   \n",
       "High_End              117.046512                  1   212   42.383423     5.0   \n",
       "Popular_Bottles    196842.380952                 73  1725  486.579562  1285.5   \n",
       "Volume_For_Dollar    8943.638767                  1  1199  192.462092    79.0   \n",
       "\n",
       "                                \n",
       "                          mean  \n",
       "cluster_name                    \n",
       "Everything_Else     113.366564  \n",
       "High_End             29.302326  \n",
       "Popular_Bottles    1124.476190  \n",
       "Volume_For_Dollar   152.900881  "
      ]
     },
     "execution_count": 107,
     "metadata": {},
     "output_type": "execute_result"
    }
   ],
   "source": [
    "products2.groupby(['cluster_name']).agg({'revenue':['sum'],'Bottle_Volume':['nunique','min','max','median'],'price_per_ml':['min','max','std', 'median', 'mean'],'Bottles_Sold':['min','max','std', 'median', 'mean'],'Num_Stores_Selling':['min','max','std', 'median', 'mean'] })"
   ]
  },
  {
   "cell_type": "code",
   "execution_count": null,
   "id": "bb44b604",
   "metadata": {},
   "outputs": [],
   "source": []
  },
  {
   "cell_type": "code",
   "execution_count": 108,
   "id": "a93c93ae",
   "metadata": {},
   "outputs": [
    {
     "data": {
      "text/html": [
       "<div>\n",
       "<style scoped>\n",
       "    .dataframe tbody tr th:only-of-type {\n",
       "        vertical-align: middle;\n",
       "    }\n",
       "\n",
       "    .dataframe tbody tr th {\n",
       "        vertical-align: top;\n",
       "    }\n",
       "\n",
       "    .dataframe thead tr th {\n",
       "        text-align: left;\n",
       "    }\n",
       "\n",
       "    .dataframe thead tr:last-of-type th {\n",
       "        text-align: right;\n",
       "    }\n",
       "</style>\n",
       "<table border=\"1\" class=\"dataframe\">\n",
       "  <thead>\n",
       "    <tr>\n",
       "      <th></th>\n",
       "      <th>Item_Number</th>\n",
       "      <th>revenue</th>\n",
       "      <th colspan=\"6\" halign=\"left\">Bottle_Volume</th>\n",
       "      <th colspan=\"5\" halign=\"left\">Bottle_Retail</th>\n",
       "      <th colspan=\"5\" halign=\"left\">price_per_ml</th>\n",
       "      <th colspan=\"5\" halign=\"left\">Bottles_Sold</th>\n",
       "      <th colspan=\"5\" halign=\"left\">Num_Stores_Selling</th>\n",
       "    </tr>\n",
       "    <tr>\n",
       "      <th></th>\n",
       "      <th>nunique</th>\n",
       "      <th>sum</th>\n",
       "      <th>count</th>\n",
       "      <th>nunique</th>\n",
       "      <th>min</th>\n",
       "      <th>max</th>\n",
       "      <th>median</th>\n",
       "      <th>std</th>\n",
       "      <th>min</th>\n",
       "      <th>max</th>\n",
       "      <th>std</th>\n",
       "      <th>median</th>\n",
       "      <th>mean</th>\n",
       "      <th>min</th>\n",
       "      <th>max</th>\n",
       "      <th>std</th>\n",
       "      <th>median</th>\n",
       "      <th>mean</th>\n",
       "      <th>min</th>\n",
       "      <th>max</th>\n",
       "      <th>std</th>\n",
       "      <th>median</th>\n",
       "      <th>mean</th>\n",
       "      <th>min</th>\n",
       "      <th>max</th>\n",
       "      <th>std</th>\n",
       "      <th>median</th>\n",
       "      <th>mean</th>\n",
       "    </tr>\n",
       "    <tr>\n",
       "      <th>cluster_name</th>\n",
       "      <th></th>\n",
       "      <th></th>\n",
       "      <th></th>\n",
       "      <th></th>\n",
       "      <th></th>\n",
       "      <th></th>\n",
       "      <th></th>\n",
       "      <th></th>\n",
       "      <th></th>\n",
       "      <th></th>\n",
       "      <th></th>\n",
       "      <th></th>\n",
       "      <th></th>\n",
       "      <th></th>\n",
       "      <th></th>\n",
       "      <th></th>\n",
       "      <th></th>\n",
       "      <th></th>\n",
       "      <th></th>\n",
       "      <th></th>\n",
       "      <th></th>\n",
       "      <th></th>\n",
       "      <th></th>\n",
       "      <th></th>\n",
       "      <th></th>\n",
       "      <th></th>\n",
       "      <th></th>\n",
       "      <th></th>\n",
       "    </tr>\n",
       "  </thead>\n",
       "  <tbody>\n",
       "    <tr>\n",
       "      <th>Everything_Else</th>\n",
       "      <td>3882</td>\n",
       "      <td>2.387193e+08</td>\n",
       "      <td>3882</td>\n",
       "      <td>17</td>\n",
       "      <td>20</td>\n",
       "      <td>1200</td>\n",
       "      <td>750.0</td>\n",
       "      <td>242.213670</td>\n",
       "      <td>0.99</td>\n",
       "      <td>129.24</td>\n",
       "      <td>21.168675</td>\n",
       "      <td>20.28</td>\n",
       "      <td>26.530033</td>\n",
       "      <td>0.003200</td>\n",
       "      <td>2.433600</td>\n",
       "      <td>0.183456</td>\n",
       "      <td>0.032000</td>\n",
       "      <td>0.070611</td>\n",
       "      <td>1</td>\n",
       "      <td>97514</td>\n",
       "      <td>11005.105822</td>\n",
       "      <td>467.5</td>\n",
       "      <td>4268.097115</td>\n",
       "      <td>1</td>\n",
       "      <td>1551</td>\n",
       "      <td>186.072416</td>\n",
       "      <td>45.0</td>\n",
       "      <td>113.366564</td>\n",
       "    </tr>\n",
       "    <tr>\n",
       "      <th>High_End</th>\n",
       "      <td>86</td>\n",
       "      <td>1.879498e+06</td>\n",
       "      <td>86</td>\n",
       "      <td>6</td>\n",
       "      <td>50</td>\n",
       "      <td>2250</td>\n",
       "      <td>750.0</td>\n",
       "      <td>248.921751</td>\n",
       "      <td>131.24</td>\n",
       "      <td>1012.50</td>\n",
       "      <td>150.482581</td>\n",
       "      <td>184.87</td>\n",
       "      <td>236.195000</td>\n",
       "      <td>0.137137</td>\n",
       "      <td>4.314600</td>\n",
       "      <td>0.683224</td>\n",
       "      <td>0.249993</td>\n",
       "      <td>0.443467</td>\n",
       "      <td>1</td>\n",
       "      <td>2319</td>\n",
       "      <td>324.151341</td>\n",
       "      <td>22.5</td>\n",
       "      <td>117.046512</td>\n",
       "      <td>1</td>\n",
       "      <td>212</td>\n",
       "      <td>42.383423</td>\n",
       "      <td>5.0</td>\n",
       "      <td>29.302326</td>\n",
       "    </tr>\n",
       "    <tr>\n",
       "      <th>Popular_Bottles</th>\n",
       "      <td>42</td>\n",
       "      <td>1.127884e+08</td>\n",
       "      <td>42</td>\n",
       "      <td>7</td>\n",
       "      <td>50</td>\n",
       "      <td>1750</td>\n",
       "      <td>750.0</td>\n",
       "      <td>461.774905</td>\n",
       "      <td>1.34</td>\n",
       "      <td>42.00</td>\n",
       "      <td>9.832504</td>\n",
       "      <td>11.99</td>\n",
       "      <td>13.957143</td>\n",
       "      <td>0.005960</td>\n",
       "      <td>0.129000</td>\n",
       "      <td>0.021071</td>\n",
       "      <td>0.017795</td>\n",
       "      <td>0.022235</td>\n",
       "      <td>101445</td>\n",
       "      <td>563260</td>\n",
       "      <td>110826.287590</td>\n",
       "      <td>145871.5</td>\n",
       "      <td>196842.380952</td>\n",
       "      <td>73</td>\n",
       "      <td>1725</td>\n",
       "      <td>486.579562</td>\n",
       "      <td>1285.5</td>\n",
       "      <td>1124.476190</td>\n",
       "    </tr>\n",
       "    <tr>\n",
       "      <th>Volume_For_Dollar</th>\n",
       "      <td>454</td>\n",
       "      <td>7.546738e+07</td>\n",
       "      <td>454</td>\n",
       "      <td>4</td>\n",
       "      <td>1750</td>\n",
       "      <td>2400</td>\n",
       "      <td>1750.0</td>\n",
       "      <td>45.288490</td>\n",
       "      <td>7.34</td>\n",
       "      <td>89.99</td>\n",
       "      <td>15.762859</td>\n",
       "      <td>17.25</td>\n",
       "      <td>23.249273</td>\n",
       "      <td>0.004194</td>\n",
       "      <td>0.051423</td>\n",
       "      <td>0.008757</td>\n",
       "      <td>0.009857</td>\n",
       "      <td>0.013202</td>\n",
       "      <td>3</td>\n",
       "      <td>108712</td>\n",
       "      <td>17253.510529</td>\n",
       "      <td>2039.5</td>\n",
       "      <td>8943.638767</td>\n",
       "      <td>1</td>\n",
       "      <td>1199</td>\n",
       "      <td>192.462092</td>\n",
       "      <td>79.0</td>\n",
       "      <td>152.900881</td>\n",
       "    </tr>\n",
       "  </tbody>\n",
       "</table>\n",
       "</div>"
      ],
      "text/plain": [
       "                  Item_Number       revenue Bottle_Volume                      \\\n",
       "                      nunique           sum         count nunique   min   max   \n",
       "cluster_name                                                                    \n",
       "Everything_Else          3882  2.387193e+08          3882      17    20  1200   \n",
       "High_End                   86  1.879498e+06            86       6    50  2250   \n",
       "Popular_Bottles            42  1.127884e+08            42       7    50  1750   \n",
       "Volume_For_Dollar         454  7.546738e+07           454       4  1750  2400   \n",
       "\n",
       "                                      Bottle_Retail                       \\\n",
       "                   median         std           min      max         std   \n",
       "cluster_name                                                               \n",
       "Everything_Else     750.0  242.213670          0.99   129.24   21.168675   \n",
       "High_End            750.0  248.921751        131.24  1012.50  150.482581   \n",
       "Popular_Bottles     750.0  461.774905          1.34    42.00    9.832504   \n",
       "Volume_For_Dollar  1750.0   45.288490          7.34    89.99   15.762859   \n",
       "\n",
       "                                      price_per_ml                      \\\n",
       "                   median        mean          min       max       std   \n",
       "cluster_name                                                             \n",
       "Everything_Else     20.28   26.530033     0.003200  2.433600  0.183456   \n",
       "High_End           184.87  236.195000     0.137137  4.314600  0.683224   \n",
       "Popular_Bottles     11.99   13.957143     0.005960  0.129000  0.021071   \n",
       "Volume_For_Dollar   17.25   23.249273     0.004194  0.051423  0.008757   \n",
       "\n",
       "                                      Bottles_Sold                         \\\n",
       "                     median      mean          min     max            std   \n",
       "cluster_name                                                                \n",
       "Everything_Else    0.032000  0.070611            1   97514   11005.105822   \n",
       "High_End           0.249993  0.443467            1    2319     324.151341   \n",
       "Popular_Bottles    0.017795  0.022235       101445  563260  110826.287590   \n",
       "Volume_For_Dollar  0.009857  0.013202            3  108712   17253.510529   \n",
       "\n",
       "                                           Num_Stores_Selling        \\\n",
       "                     median           mean                min   max   \n",
       "cluster_name                                                          \n",
       "Everything_Else       467.5    4268.097115                  1  1551   \n",
       "High_End               22.5     117.046512                  1   212   \n",
       "Popular_Bottles    145871.5  196842.380952                 73  1725   \n",
       "Volume_For_Dollar    2039.5    8943.638767                  1  1199   \n",
       "\n",
       "                                                    \n",
       "                          std  median         mean  \n",
       "cluster_name                                        \n",
       "Everything_Else    186.072416    45.0   113.366564  \n",
       "High_End            42.383423     5.0    29.302326  \n",
       "Popular_Bottles    486.579562  1285.5  1124.476190  \n",
       "Volume_For_Dollar  192.462092    79.0   152.900881  "
      ]
     },
     "execution_count": 108,
     "metadata": {},
     "output_type": "execute_result"
    }
   ],
   "source": [
    "pd.set_option('display.max_columns', None)\n",
    "products2.groupby(['cluster_name']).agg({'Item_Number':['nunique'],'revenue':['sum'],'Bottle_Volume':['count','nunique','min','max','median','std'],'Bottle_Retail':['min','max','std', 'median', 'mean'],'price_per_ml':['min','max','std', 'median', 'mean'],'Bottles_Sold':['min','max','std', 'median', 'mean'],'Num_Stores_Selling':['min','max','std', 'median', 'mean'] })"
   ]
  },
  {
   "cell_type": "code",
   "execution_count": null,
   "id": "9c44dd68",
   "metadata": {},
   "outputs": [],
   "source": []
  },
  {
   "cell_type": "code",
   "execution_count": null,
   "id": "0beffd37",
   "metadata": {},
   "outputs": [],
   "source": [
    "products2.cluster_name.value_counts()"
   ]
  },
  {
   "cell_type": "code",
   "execution_count": null,
   "id": "5702a646",
   "metadata": {},
   "outputs": [],
   "source": [
    "# proc_freq(products2.loc[products2.cluster_name == 'Everything_Else'],'New_Category_Name')\n",
    "products2.loc[products2.cluster_name == 'Everything_Else']['New_Category_Name'].value_counts()/3833*100"
   ]
  },
  {
   "cell_type": "code",
   "execution_count": null,
   "id": "dabc6df3",
   "metadata": {},
   "outputs": [],
   "source": [
    "# proc_freq(products2.loc[products2.cluster_name == 'Volume_For_Dollar']'New_Category_Name')\n",
    "products2.loc[products2.cluster_name == 'Volume_For_Dollar']['New_Category_Name'].value_counts()/454*100"
   ]
  },
  {
   "cell_type": "code",
   "execution_count": null,
   "id": "2160d89f",
   "metadata": {},
   "outputs": [],
   "source": [
    "products2.loc[products2.cluster_name == 'High End']['New_Category_Name'].value_counts()/133*100"
   ]
  },
  {
   "cell_type": "code",
   "execution_count": null,
   "id": "023256f6",
   "metadata": {},
   "outputs": [],
   "source": [
    "products2.loc[products2.cluster_name == 'Popular_Bottles']['New_Category_Name'].value_counts()/ 42*100"
   ]
  },
  {
   "cell_type": "code",
   "execution_count": null,
   "id": "1ab437ad",
   "metadata": {},
   "outputs": [],
   "source": [
    "# df.sort_values(by=['Population'], ascending=False)\n",
    "products2.sort_values(by=['revenue'], ascending=False)\n",
    "products2[['cluster_name','revenue','Item_Description','Bottle_Retail','Bottle_Volume']].sort_values(by=['revenue'], ascending=False)\n",
    "# products2.style.format(\"{:.0f}\")\n"
   ]
  },
  {
   "cell_type": "code",
   "execution_count": null,
   "id": "5bb9487a",
   "metadata": {},
   "outputs": [],
   "source": []
  },
  {
   "cell_type": "code",
   "execution_count": null,
   "id": "1e44f12d",
   "metadata": {},
   "outputs": [],
   "source": [
    "products2.loc[products2.product_cluster==3,:]['Bottle_Retail'].max()"
   ]
  },
  {
   "cell_type": "code",
   "execution_count": null,
   "id": "6f69b8f6",
   "metadata": {},
   "outputs": [],
   "source": [
    "# products2.loc[products2.product_cluster==1,:]"
   ]
  },
  {
   "cell_type": "code",
   "execution_count": 109,
   "id": "717a5810",
   "metadata": {},
   "outputs": [],
   "source": [
    "products_out=products2[['Category','New_Category_Name','Item_Number','Item_Description','Bottle_Volume','Bottle_Retail', 'Bottles_Sold','cluster_name','revenue','Num_Stores_Selling']]"
   ]
  },
  {
   "cell_type": "code",
   "execution_count": null,
   "id": "c516aa7e",
   "metadata": {},
   "outputs": [],
   "source": [
    "# check"
   ]
  },
  {
   "cell_type": "code",
   "execution_count": 110,
   "id": "a6fc2919",
   "metadata": {},
   "outputs": [],
   "source": [
    "products_out.to_csv(r'C:\\Users\\dgarb\\OneDrive\\Desktop\\Capstone Data\\liquor_2021\\product_clusters.csv')"
   ]
  }
 ],
 "metadata": {
  "kernelspec": {
   "display_name": "Python 3 (ipykernel)",
   "language": "python",
   "name": "python3"
  },
  "language_info": {
   "codemirror_mode": {
    "name": "ipython",
    "version": 3
   },
   "file_extension": ".py",
   "mimetype": "text/x-python",
   "name": "python",
   "nbconvert_exporter": "python",
   "pygments_lexer": "ipython3",
   "version": "3.9.7"
  }
 },
 "nbformat": 4,
 "nbformat_minor": 5
}

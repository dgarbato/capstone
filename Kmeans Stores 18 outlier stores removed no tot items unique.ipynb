{
 "cells": [
  {
   "cell_type": "code",
   "execution_count": 1,
   "id": "215baa62",
   "metadata": {},
   "outputs": [],
   "source": [
    "import pandas as pd\n",
    "import numpy as np"
   ]
  },
  {
   "cell_type": "code",
   "execution_count": 2,
   "id": "6ad16abe",
   "metadata": {},
   "outputs": [],
   "source": [
    "import matplotlib.pyplot as plt\n",
    "%matplotlib inline\n",
    "import seaborn as sns"
   ]
  },
  {
   "cell_type": "code",
   "execution_count": 3,
   "id": "9b654c63",
   "metadata": {},
   "outputs": [],
   "source": [
    "from sklearn.preprocessing import StandardScaler\n",
    "from sklearn.cluster import KMeans"
   ]
  },
  {
   "cell_type": "code",
   "execution_count": 4,
   "id": "3074f143",
   "metadata": {},
   "outputs": [],
   "source": [
    "sdtypes ={'Store_Number':str,'Zip_Code':str}"
   ]
  },
  {
   "cell_type": "code",
   "execution_count": 5,
   "id": "08a6234b",
   "metadata": {},
   "outputs": [],
   "source": [
    "stores_clust_info_combined3 = pd.read_csv(r'C:\\Users\\dgarb\\OneDrive\\Desktop\\Capstone Data\\liquor_2021\\stores_clust_info_combined3.csv',index_col=0, dtype=sdtypes,)"
   ]
  },
  {
   "cell_type": "code",
   "execution_count": 6,
   "id": "985542a1",
   "metadata": {},
   "outputs": [
    {
     "name": "stdout",
     "output_type": "stream",
     "text": [
      "<class 'pandas.core.frame.DataFrame'>\n",
      "Int64Index: 1948 entries, 0 to 1947\n",
      "Data columns (total 57 columns):\n",
      " #   Column                            Non-Null Count  Dtype  \n",
      "---  ------                            --------------  -----  \n",
      " 0   Store_Number                      1948 non-null   object \n",
      " 1   Store_Name                        1948 non-null   object \n",
      " 2   Address                           1948 non-null   object \n",
      " 3   City                              1948 non-null   object \n",
      " 4   Zip_Code                          1948 non-null   object \n",
      " 5   Store_Location                    1790 non-null   object \n",
      " 6   County_Number                     1948 non-null   int64  \n",
      " 7   County                            1948 non-null   object \n",
      " 8   Store_Name.1                      1948 non-null   object \n",
      " 9   store_revenue                     1948 non-null   float64\n",
      " 10  tot_num_unique_items              1948 non-null   int64  \n",
      " 11  num_unique_clusters               1948 non-null   int64  \n",
      " 12  tot_item_count                    1948 non-null   int64  \n",
      " 13  rev_Cheap                         1948 non-null   float64\n",
      " 14  rev_High_End                      1948 non-null   float64\n",
      " 15  rev_Moderately_High               1948 non-null   float64\n",
      " 16  rev_Most_Variety                  1948 non-null   float64\n",
      " 17  rev_Popular_Bottles               1948 non-null   float64\n",
      " 18  rev_Quick_Shots                   1948 non-null   float64\n",
      " 19  rev_Volume_For_Dollar             1948 non-null   float64\n",
      " 20  prod_count_pct_Cheap              1948 non-null   float64\n",
      " 21  prod_count_pct_High_End           1948 non-null   float64\n",
      " 22  prod_count_pct_Moderately_High    1948 non-null   float64\n",
      " 23  prod_count_pct_Most_Variety       1948 non-null   float64\n",
      " 24  prod_count_pct_Popular_Bottles    1948 non-null   float64\n",
      " 25  prod_count_pct_Quick_Shots        1948 non-null   float64\n",
      " 26  prod_count_pct_Volume_For_Dollar  1948 non-null   float64\n",
      " 27  item_Cheap                        1948 non-null   float64\n",
      " 28  item_High_End                     1948 non-null   float64\n",
      " 29  item_Moderately_High              1948 non-null   float64\n",
      " 30  item_Most_Variety                 1948 non-null   float64\n",
      " 31  item_Popular_Bottles              1948 non-null   float64\n",
      " 32  item_Quick_Shots                  1948 non-null   float64\n",
      " 33  item_Volume_For_Dollar            1948 non-null   float64\n",
      " 34  cl_Cheap                          1948 non-null   float64\n",
      " 35  cl_High_End                       1948 non-null   float64\n",
      " 36  cl_Moderately_High                1948 non-null   float64\n",
      " 37  cl_Most_Variety                   1948 non-null   float64\n",
      " 38  cl_Popular_Bottles                1948 non-null   float64\n",
      " 39  cl_Quick_Shots                    1948 non-null   float64\n",
      " 40  cl_Volume_For_Dollar              1948 non-null   float64\n",
      " 41  tot_num_unique_items_scaled       1948 non-null   float64\n",
      " 42  rev_Cheap_scaled                  1948 non-null   float64\n",
      " 43  rev_Moderately_High_scaled        1948 non-null   float64\n",
      " 44  rev_Most_Variety_scaled           1948 non-null   float64\n",
      " 45  rev_Popular_Bottles_scaled        1948 non-null   float64\n",
      " 46  rev_Volume_For_Dollar_scaled      1948 non-null   float64\n",
      " 47  cl_Cheap_scaled                   1948 non-null   float64\n",
      " 48  cl_High_End_scaled                1948 non-null   float64\n",
      " 49  cl_Moderately_High_scaled         1948 non-null   float64\n",
      " 50  cl_Most_Variety_scaled            1948 non-null   float64\n",
      " 51  cl_Popular_Bottles_scaled         1948 non-null   float64\n",
      " 52  cl_Quick_Shots_scaled             1948 non-null   float64\n",
      " 53  cl_Volume_For_Dollar_scaled       1948 non-null   float64\n",
      " 54  num_unique_clusters_scaled        1948 non-null   float64\n",
      " 55  n_clusters_2                      1948 non-null   int64  \n",
      " 56  n_clusters_4                      1948 non-null   int64  \n",
      "dtypes: float64(43), int64(6), object(8)\n",
      "memory usage: 882.7+ KB\n"
     ]
    }
   ],
   "source": [
    "stores_clust_info_combined3.info()"
   ]
  },
  {
   "cell_type": "markdown",
   "id": "4d279f10",
   "metadata": {},
   "source": [
    "drop 18 outlier stores"
   ]
  },
  {
   "cell_type": "code",
   "execution_count": 9,
   "id": "7673e9bf",
   "metadata": {},
   "outputs": [
    {
     "data": {
      "text/plain": [
       "(1930, 57)"
      ]
     },
     "execution_count": 9,
     "metadata": {},
     "output_type": "execute_result"
    }
   ],
   "source": [
    "stores_clust_info_combined4 = stores_clust_info_combined3.loc[stores_clust_info_combined3.n_clusters_4 != 2]\n",
    "stores_clust_info_combined4.shape"
   ]
  },
  {
   "cell_type": "code",
   "execution_count": 8,
   "id": "b5be2d13",
   "metadata": {},
   "outputs": [
    {
     "data": {
      "text/plain": [
       "(1948, 57)"
      ]
     },
     "execution_count": 8,
     "metadata": {},
     "output_type": "execute_result"
    }
   ],
   "source": [
    "stores_clust_info_combined3.shape"
   ]
  },
  {
   "cell_type": "code",
   "execution_count": 10,
   "id": "7dea4b78",
   "metadata": {},
   "outputs": [],
   "source": [
    "# stores_clust_info_combined4.columns"
   ]
  },
  {
   "cell_type": "markdown",
   "id": "b3dc01a3",
   "metadata": {},
   "source": [
    "### drop scaled features"
   ]
  },
  {
   "cell_type": "code",
   "execution_count": 11,
   "id": "ecd2e434",
   "metadata": {},
   "outputs": [],
   "source": [
    "# stores_clust_info_combined4 = \n",
    "# stores_clust_info_combined4 = \n",
    "stores_clust_info_combined4 = stores_clust_info_combined4.drop(columns = ['tot_num_unique_items_scaled',\n",
    "       'rev_Cheap_scaled', 'rev_Moderately_High_scaled',\n",
    "       'rev_Most_Variety_scaled', 'rev_Popular_Bottles_scaled',\n",
    "       'rev_Volume_For_Dollar_scaled', 'cl_Cheap_scaled', 'cl_High_End_scaled',\n",
    "       'cl_Moderately_High_scaled', 'cl_Most_Variety_scaled',\n",
    "       'cl_Popular_Bottles_scaled', 'cl_Quick_Shots_scaled',\n",
    "       'cl_Volume_For_Dollar_scaled', 'num_unique_clusters_scaled',\n",
    "       'n_clusters_2', 'n_clusters_4'])"
   ]
  },
  {
   "cell_type": "code",
   "execution_count": 12,
   "id": "e81adc12",
   "metadata": {},
   "outputs": [
    {
     "data": {
      "text/plain": [
       "(1930, 41)"
      ]
     },
     "execution_count": 12,
     "metadata": {},
     "output_type": "execute_result"
    }
   ],
   "source": [
    "stores_clust_info_combined4.shape"
   ]
  },
  {
   "cell_type": "markdown",
   "id": "84267a11",
   "metadata": {},
   "source": [
    "### make a copy of stores_clust_info_combined4"
   ]
  },
  {
   "cell_type": "code",
   "execution_count": 14,
   "id": "128abdf5",
   "metadata": {},
   "outputs": [],
   "source": [
    "stores_clust_info_combined4_copy = stores_clust_info_combined4.copy()"
   ]
  },
  {
   "cell_type": "code",
   "execution_count": 16,
   "id": "d756df1c",
   "metadata": {},
   "outputs": [
    {
     "data": {
      "image/png": "[encoded data removed]",
      "text/plain": [
       "<Figure size 1080x576 with 1 Axes>"
      ]
     },
     "metadata": {},
     "output_type": "display_data"
    }
   ],
   "source": [
    "sns.scatterplot(x = 'tot_num_unique_items',y = 'store_revenue',data = stores_clust_info_combined4) #hue='label'\n",
    "sns.set(rc = {'figure.figsize':(15,8)})"
   ]
  },
  {
   "cell_type": "code",
   "execution_count": 18,
   "id": "4048ef07",
   "metadata": {},
   "outputs": [
    {
     "data": {
      "text/html": [
       "<div>\n",
       "<style scoped>\n",
       "    .dataframe tbody tr th:only-of-type {\n",
       "        vertical-align: middle;\n",
       "    }\n",
       "\n",
       "    .dataframe tbody tr th {\n",
       "        vertical-align: top;\n",
       "    }\n",
       "\n",
       "    .dataframe thead th {\n",
       "        text-align: right;\n",
       "    }\n",
       "</style>\n",
       "<table border=\"1\" class=\"dataframe\">\n",
       "  <thead>\n",
       "    <tr style=\"text-align: right;\">\n",
       "      <th></th>\n",
       "      <th>Store_Number</th>\n",
       "      <th>Store_Name</th>\n",
       "      <th>Address</th>\n",
       "      <th>City</th>\n",
       "      <th>Zip_Code</th>\n",
       "      <th>Store_Location</th>\n",
       "      <th>County_Number</th>\n",
       "      <th>County</th>\n",
       "      <th>Store_Name.1</th>\n",
       "      <th>store_revenue</th>\n",
       "      <th>...</th>\n",
       "      <th>item_Popular_Bottles</th>\n",
       "      <th>item_Quick_Shots</th>\n",
       "      <th>item_Volume_For_Dollar</th>\n",
       "      <th>cl_Cheap</th>\n",
       "      <th>cl_High_End</th>\n",
       "      <th>cl_Moderately_High</th>\n",
       "      <th>cl_Most_Variety</th>\n",
       "      <th>cl_Popular_Bottles</th>\n",
       "      <th>cl_Quick_Shots</th>\n",
       "      <th>cl_Volume_For_Dollar</th>\n",
       "    </tr>\n",
       "  </thead>\n",
       "  <tbody>\n",
       "    <tr>\n",
       "      <th>1166</th>\n",
       "      <td>6132</td>\n",
       "      <td>Dubuque Wine &amp; Spirits</td>\n",
       "      <td>3305 Asbury Rd</td>\n",
       "      <td>Dubuque</td>\n",
       "      <td>52002</td>\n",
       "      <td>POINT (-90.72104 42.51242500000001)</td>\n",
       "      <td>31</td>\n",
       "      <td>DUBUQUE</td>\n",
       "      <td>Dubuque Wine &amp; Spirits</td>\n",
       "      <td>1.285899e+09</td>\n",
       "      <td>...</td>\n",
       "      <td>2.085453</td>\n",
       "      <td>11.902340</td>\n",
       "      <td>14.394710</td>\n",
       "      <td>94.117647</td>\n",
       "      <td>15.923567</td>\n",
       "      <td>25.313569</td>\n",
       "      <td>46.975898</td>\n",
       "      <td>97.619048</td>\n",
       "      <td>53.669725</td>\n",
       "      <td>62.334802</td>\n",
       "    </tr>\n",
       "    <tr>\n",
       "      <th>1320</th>\n",
       "      <td>2614</td>\n",
       "      <td>Hy-Vee #3 Food &amp; Drugstore / Davenport</td>\n",
       "      <td>1823 E Kimberly Rd</td>\n",
       "      <td>Davenport</td>\n",
       "      <td>52807</td>\n",
       "      <td>POINT (-90.548919 41.55678100000001)</td>\n",
       "      <td>82</td>\n",
       "      <td>SCOTT</td>\n",
       "      <td>Hy-Vee #3 Food &amp; Drugstore / Davenport</td>\n",
       "      <td>4.694030e+09</td>\n",
       "      <td>...</td>\n",
       "      <td>2.060222</td>\n",
       "      <td>9.825674</td>\n",
       "      <td>14.527205</td>\n",
       "      <td>82.352941</td>\n",
       "      <td>24.203822</td>\n",
       "      <td>25.997719</td>\n",
       "      <td>46.157344</td>\n",
       "      <td>92.857143</td>\n",
       "      <td>42.660550</td>\n",
       "      <td>60.572687</td>\n",
       "    </tr>\n",
       "    <tr>\n",
       "      <th>1401</th>\n",
       "      <td>4129</td>\n",
       "      <td>Cyclone Liquors</td>\n",
       "      <td>626 Lincoln Way</td>\n",
       "      <td>Ames</td>\n",
       "      <td>50010</td>\n",
       "      <td>POINT (-93.618289 42.022865)</td>\n",
       "      <td>85</td>\n",
       "      <td>STORY</td>\n",
       "      <td>Cyclone Liquors</td>\n",
       "      <td>4.028390e+09</td>\n",
       "      <td>...</td>\n",
       "      <td>1.966717</td>\n",
       "      <td>7.261725</td>\n",
       "      <td>9.884014</td>\n",
       "      <td>88.970588</td>\n",
       "      <td>31.210191</td>\n",
       "      <td>40.592930</td>\n",
       "      <td>49.022283</td>\n",
       "      <td>92.857143</td>\n",
       "      <td>33.027523</td>\n",
       "      <td>43.171806</td>\n",
       "    </tr>\n",
       "    <tr>\n",
       "      <th>1405</th>\n",
       "      <td>3773</td>\n",
       "      <td>Benz Distributing</td>\n",
       "      <td>501 7th Ave SE</td>\n",
       "      <td>Cedar Rapids</td>\n",
       "      <td>52401</td>\n",
       "      <td>POINT (-91.659875 41.97574)</td>\n",
       "      <td>57</td>\n",
       "      <td>LINN</td>\n",
       "      <td>Benz Distributing</td>\n",
       "      <td>8.451654e+09</td>\n",
       "      <td>...</td>\n",
       "      <td>1.645639</td>\n",
       "      <td>8.228195</td>\n",
       "      <td>5.595173</td>\n",
       "      <td>63.235294</td>\n",
       "      <td>38.216561</td>\n",
       "      <td>43.443558</td>\n",
       "      <td>46.111869</td>\n",
       "      <td>71.428571</td>\n",
       "      <td>34.403670</td>\n",
       "      <td>22.466960</td>\n",
       "    </tr>\n",
       "    <tr>\n",
       "      <th>1856</th>\n",
       "      <td>2190</td>\n",
       "      <td>Central City Liquor, Inc.</td>\n",
       "      <td>1460 2ND AVE</td>\n",
       "      <td>Des Moines</td>\n",
       "      <td>50314</td>\n",
       "      <td>POINT (-93.619788 41.605706)</td>\n",
       "      <td>77</td>\n",
       "      <td>POLK</td>\n",
       "      <td>Central City Liquor, Inc.</td>\n",
       "      <td>7.370231e+09</td>\n",
       "      <td>...</td>\n",
       "      <td>1.925926</td>\n",
       "      <td>7.358025</td>\n",
       "      <td>8.691358</td>\n",
       "      <td>85.294118</td>\n",
       "      <td>50.955414</td>\n",
       "      <td>51.197263</td>\n",
       "      <td>46.202819</td>\n",
       "      <td>92.857143</td>\n",
       "      <td>34.174312</td>\n",
       "      <td>38.766520</td>\n",
       "    </tr>\n",
       "  </tbody>\n",
       "</table>\n",
       "<p>5 rows × 41 columns</p>\n",
       "</div>"
      ],
      "text/plain": [
       "     Store_Number                              Store_Name             Address  \\\n",
       "1166         6132                  Dubuque Wine & Spirits      3305 Asbury Rd   \n",
       "1320         2614  Hy-Vee #3 Food & Drugstore / Davenport  1823 E Kimberly Rd   \n",
       "1401         4129                         Cyclone Liquors     626 Lincoln Way   \n",
       "1405         3773                       Benz Distributing      501 7th Ave SE   \n",
       "1856         2190               Central City Liquor, Inc.        1460 2ND AVE   \n",
       "\n",
       "              City Zip_Code                        Store_Location  \\\n",
       "1166       Dubuque    52002   POINT (-90.72104 42.51242500000001)   \n",
       "1320     Davenport    52807  POINT (-90.548919 41.55678100000001)   \n",
       "1401          Ames    50010          POINT (-93.618289 42.022865)   \n",
       "1405  Cedar Rapids    52401           POINT (-91.659875 41.97574)   \n",
       "1856    Des Moines    50314          POINT (-93.619788 41.605706)   \n",
       "\n",
       "      County_Number   County                            Store_Name.1  \\\n",
       "1166             31  DUBUQUE                  Dubuque Wine & Spirits   \n",
       "1320             82    SCOTT  Hy-Vee #3 Food & Drugstore / Davenport   \n",
       "1401             85    STORY                         Cyclone Liquors   \n",
       "1405             57     LINN                       Benz Distributing   \n",
       "1856             77     POLK               Central City Liquor, Inc.   \n",
       "\n",
       "      store_revenue  ...  item_Popular_Bottles  item_Quick_Shots  \\\n",
       "1166   1.285899e+09  ...              2.085453         11.902340   \n",
       "1320   4.694030e+09  ...              2.060222          9.825674   \n",
       "1401   4.028390e+09  ...              1.966717          7.261725   \n",
       "1405   8.451654e+09  ...              1.645639          8.228195   \n",
       "1856   7.370231e+09  ...              1.925926          7.358025   \n",
       "\n",
       "      item_Volume_For_Dollar   cl_Cheap  cl_High_End  cl_Moderately_High  \\\n",
       "1166               14.394710  94.117647    15.923567           25.313569   \n",
       "1320               14.527205  82.352941    24.203822           25.997719   \n",
       "1401                9.884014  88.970588    31.210191           40.592930   \n",
       "1405                5.595173  63.235294    38.216561           43.443558   \n",
       "1856                8.691358  85.294118    50.955414           51.197263   \n",
       "\n",
       "      cl_Most_Variety  cl_Popular_Bottles  cl_Quick_Shots  \\\n",
       "1166        46.975898           97.619048       53.669725   \n",
       "1320        46.157344           92.857143       42.660550   \n",
       "1401        49.022283           92.857143       33.027523   \n",
       "1405        46.111869           71.428571       34.403670   \n",
       "1856        46.202819           92.857143       34.174312   \n",
       "\n",
       "      cl_Volume_For_Dollar  \n",
       "1166             62.334802  \n",
       "1320             60.572687  \n",
       "1401             43.171806  \n",
       "1405             22.466960  \n",
       "1856             38.766520  \n",
       "\n",
       "[5 rows x 41 columns]"
      ]
     },
     "execution_count": 18,
     "metadata": {},
     "output_type": "execute_result"
    }
   ],
   "source": [
    "stores_clust_info_combined4[stores_clust_info_combined4.tot_num_unique_items > 1750]"
   ]
  },
  {
   "cell_type": "markdown",
   "id": "b08128b6",
   "metadata": {},
   "source": [
    "create outlier data frame"
   ]
  },
  {
   "cell_type": "code",
   "execution_count": 19,
   "id": "a3d935a1",
   "metadata": {},
   "outputs": [],
   "source": [
    "outliers_df = stores_clust_info_combined4[stores_clust_info_combined4.tot_num_unique_items > 1750]"
   ]
  },
  {
   "cell_type": "markdown",
   "id": "fa228a71",
   "metadata": {},
   "source": [
    "### remove 5 out liers"
   ]
  },
  {
   "cell_type": "code",
   "execution_count": 23,
   "id": "e0f44611",
   "metadata": {},
   "outputs": [],
   "source": [
    "filt = stores_clust_info_combined4.tot_num_unique_items > 1750"
   ]
  },
  {
   "cell_type": "code",
   "execution_count": 24,
   "id": "ab3b6e56",
   "metadata": {},
   "outputs": [],
   "source": [
    "stores_clust_info_combined4 = stores_clust_info_combined4[~filt]"
   ]
  },
  {
   "cell_type": "code",
   "execution_count": null,
   "id": "d7598678",
   "metadata": {},
   "outputs": [],
   "source": [
    "#      'tot_num_unique_items',\n",
    "#      'num_unique_clusters',\n",
    "#      'tot_item_count',\n",
    "#      'rev_Cheap',\n",
    "     \n",
    "#      'rev_Moderately_High',\n",
    "#      'rev_Most_Variety',\n",
    "#      'rev_Popular_Bottles',\n",
    "#      'rev_Quick_Shots',\n",
    "#      'rev_Volume_For_Dollar',\n",
    "#      'item_Cheap',\n",
    "     \n",
    "#      'item_Moderately_High',\n",
    "#      'item_Most_Variety',\n",
    "#      'item_Popular_Bottles',\n",
    "#      'item_Quick_Shots',\n",
    "#      'item_Volume_For_Dollar',\n",
    "#      'cl_Cheap',\n",
    "#      'cl_High_End',\n",
    "#      'cl_Moderately_High',\n",
    "#      'cl_Most_Variety',\n",
    "#      'cl_Popular_Bottles',\n",
    "#      'cl_Quick_Shots',\n",
    "#      'cl_Volume_For_Dollar'"
   ]
  },
  {
   "cell_type": "code",
   "execution_count": 25,
   "id": "7392968e",
   "metadata": {},
   "outputs": [],
   "source": [
    "features = ['store_revenue','tot_num_unique_items',\n",
    " 'rev_Cheap',\n",
    " 'rev_Moderately_High',\n",
    " 'rev_Most_Variety',\n",
    " 'rev_Popular_Bottles',\n",
    " 'rev_Volume_For_Dollar', \n",
    " 'cl_Cheap',\n",
    " 'cl_High_End',\n",
    " 'cl_Moderately_High',\n",
    " 'cl_Most_Variety',\n",
    " 'cl_Popular_Bottles',\n",
    " 'cl_Quick_Shots',\n",
    " 'cl_Volume_For_Dollar',\n",
    "  'num_unique_clusters'         ]"
   ]
  },
  {
   "cell_type": "code",
   "execution_count": 26,
   "id": "f88f2265",
   "metadata": {},
   "outputs": [],
   "source": [
    "scaled_features = ['store_revenue_scaled','tot_num_unique_items_scaled',\n",
    " 'rev_Cheap_scaled',\n",
    " 'rev_Moderately_High_scaled',\n",
    " 'rev_Most_Variety_scaled',\n",
    " 'rev_Popular_Bottles_scaled',\n",
    " 'rev_Volume_For_Dollar_scaled', \n",
    " 'cl_Cheap_scaled',\n",
    " 'cl_High_End_scaled',\n",
    " 'cl_Moderately_High_scaled',\n",
    " 'cl_Most_Variety_scaled',\n",
    " 'cl_Popular_Bottles_scaled',\n",
    " 'cl_Quick_Shots_scaled',\n",
    " 'cl_Volume_For_Dollar_scaled', 'num_unique_clusters_scaled']"
   ]
  },
  {
   "cell_type": "code",
   "execution_count": 27,
   "id": "4feccf29",
   "metadata": {},
   "outputs": [],
   "source": [
    "stores_clust_info_combined4 = stores_clust_info_combined4.reset_index()\n"
   ]
  },
  {
   "cell_type": "code",
   "execution_count": 28,
   "id": "2287b232",
   "metadata": {},
   "outputs": [
    {
     "data": {
      "text/html": [
       "<div>\n",
       "<style scoped>\n",
       "    .dataframe tbody tr th:only-of-type {\n",
       "        vertical-align: middle;\n",
       "    }\n",
       "\n",
       "    .dataframe tbody tr th {\n",
       "        vertical-align: top;\n",
       "    }\n",
       "\n",
       "    .dataframe thead th {\n",
       "        text-align: right;\n",
       "    }\n",
       "</style>\n",
       "<table border=\"1\" class=\"dataframe\">\n",
       "  <thead>\n",
       "    <tr style=\"text-align: right;\">\n",
       "      <th></th>\n",
       "      <th>index</th>\n",
       "      <th>Store_Number</th>\n",
       "      <th>Store_Name</th>\n",
       "      <th>Address</th>\n",
       "      <th>City</th>\n",
       "      <th>Zip_Code</th>\n",
       "      <th>Store_Location</th>\n",
       "      <th>County_Number</th>\n",
       "      <th>County</th>\n",
       "      <th>Store_Name.1</th>\n",
       "      <th>...</th>\n",
       "      <th>item_Popular_Bottles</th>\n",
       "      <th>item_Quick_Shots</th>\n",
       "      <th>item_Volume_For_Dollar</th>\n",
       "      <th>cl_Cheap</th>\n",
       "      <th>cl_High_End</th>\n",
       "      <th>cl_Moderately_High</th>\n",
       "      <th>cl_Most_Variety</th>\n",
       "      <th>cl_Popular_Bottles</th>\n",
       "      <th>cl_Quick_Shots</th>\n",
       "      <th>cl_Volume_For_Dollar</th>\n",
       "    </tr>\n",
       "  </thead>\n",
       "  <tbody>\n",
       "    <tr>\n",
       "      <th>0</th>\n",
       "      <td>0</td>\n",
       "      <td>3855</td>\n",
       "      <td>Dyno's Wine and Spirits / Storm Lake</td>\n",
       "      <td>1201 1/2 Lakeshore Dr</td>\n",
       "      <td>Storm Lake</td>\n",
       "      <td>50588</td>\n",
       "      <td>NaN</td>\n",
       "      <td>11</td>\n",
       "      <td>BUENA VIST</td>\n",
       "      <td>Dyno's Wine and Spirits / Storm Lake</td>\n",
       "      <td>...</td>\n",
       "      <td>16.666667</td>\n",
       "      <td>23.333333</td>\n",
       "      <td>0.000000</td>\n",
       "      <td>5.147059</td>\n",
       "      <td>0.0</td>\n",
       "      <td>0.0</td>\n",
       "      <td>0.500227</td>\n",
       "      <td>11.904762</td>\n",
       "      <td>1.605505</td>\n",
       "      <td>0.000000</td>\n",
       "    </tr>\n",
       "    <tr>\n",
       "      <th>1</th>\n",
       "      <td>1</td>\n",
       "      <td>4589</td>\n",
       "      <td>Dyno's #53 / Sibley</td>\n",
       "      <td>1026 2nd Ave</td>\n",
       "      <td>Sibley</td>\n",
       "      <td>51249</td>\n",
       "      <td>POINT (-95.752119 43.397431)</td>\n",
       "      <td>72</td>\n",
       "      <td>OSCEOLA</td>\n",
       "      <td>Dyno's #53 / Sibley</td>\n",
       "      <td>...</td>\n",
       "      <td>16.666667</td>\n",
       "      <td>8.333333</td>\n",
       "      <td>16.666667</td>\n",
       "      <td>6.617647</td>\n",
       "      <td>0.0</td>\n",
       "      <td>0.0</td>\n",
       "      <td>0.545703</td>\n",
       "      <td>14.285714</td>\n",
       "      <td>0.688073</td>\n",
       "      <td>1.321586</td>\n",
       "    </tr>\n",
       "    <tr>\n",
       "      <th>2</th>\n",
       "      <td>2</td>\n",
       "      <td>5688</td>\n",
       "      <td>Dyno's #40 / Spencer</td>\n",
       "      <td>1001 S Grand Ave</td>\n",
       "      <td>Spencer</td>\n",
       "      <td>51301</td>\n",
       "      <td>POINT (-95.143701 43.12759)</td>\n",
       "      <td>21</td>\n",
       "      <td>CLAY</td>\n",
       "      <td>Dyno's #40 / Spencer</td>\n",
       "      <td>...</td>\n",
       "      <td>50.000000</td>\n",
       "      <td>0.000000</td>\n",
       "      <td>21.428571</td>\n",
       "      <td>2.205882</td>\n",
       "      <td>0.0</td>\n",
       "      <td>0.0</td>\n",
       "      <td>0.045475</td>\n",
       "      <td>16.666667</td>\n",
       "      <td>0.000000</td>\n",
       "      <td>0.660793</td>\n",
       "    </tr>\n",
       "    <tr>\n",
       "      <th>3</th>\n",
       "      <td>3</td>\n",
       "      <td>4592</td>\n",
       "      <td>Dyno's #29 / Emmetsburg</td>\n",
       "      <td>2401, Main</td>\n",
       "      <td>Emmetsburg</td>\n",
       "      <td>50536</td>\n",
       "      <td>POINT (-94.681939 43.111913)</td>\n",
       "      <td>74</td>\n",
       "      <td>PALO ALTO</td>\n",
       "      <td>Dyno's #29 / Emmetsburg</td>\n",
       "      <td>...</td>\n",
       "      <td>9.090909</td>\n",
       "      <td>27.272727</td>\n",
       "      <td>18.181818</td>\n",
       "      <td>3.676471</td>\n",
       "      <td>0.0</td>\n",
       "      <td>0.0</td>\n",
       "      <td>0.454752</td>\n",
       "      <td>7.142857</td>\n",
       "      <td>2.064220</td>\n",
       "      <td>1.321586</td>\n",
       "    </tr>\n",
       "    <tr>\n",
       "      <th>4</th>\n",
       "      <td>4</td>\n",
       "      <td>5689</td>\n",
       "      <td>Dyno's #41 / Albert City</td>\n",
       "      <td>5101 230th St</td>\n",
       "      <td>Albert City</td>\n",
       "      <td>50510</td>\n",
       "      <td>POINT (-94.953239 42.777449)</td>\n",
       "      <td>11</td>\n",
       "      <td>BUENA VIST</td>\n",
       "      <td>Dyno's #41 / Albert City</td>\n",
       "      <td>...</td>\n",
       "      <td>23.076923</td>\n",
       "      <td>7.692308</td>\n",
       "      <td>0.000000</td>\n",
       "      <td>3.676471</td>\n",
       "      <td>0.0</td>\n",
       "      <td>0.0</td>\n",
       "      <td>0.181901</td>\n",
       "      <td>7.142857</td>\n",
       "      <td>0.229358</td>\n",
       "      <td>0.000000</td>\n",
       "    </tr>\n",
       "  </tbody>\n",
       "</table>\n",
       "<p>5 rows × 42 columns</p>\n",
       "</div>"
      ],
      "text/plain": [
       "   index Store_Number                            Store_Name  \\\n",
       "0      0         3855  Dyno's Wine and Spirits / Storm Lake   \n",
       "1      1         4589                   Dyno's #53 / Sibley   \n",
       "2      2         5688                  Dyno's #40 / Spencer   \n",
       "3      3         4592               Dyno's #29 / Emmetsburg   \n",
       "4      4         5689              Dyno's #41 / Albert City   \n",
       "\n",
       "                 Address         City Zip_Code                Store_Location  \\\n",
       "0  1201 1/2 Lakeshore Dr   Storm Lake    50588                           NaN   \n",
       "1           1026 2nd Ave       Sibley    51249  POINT (-95.752119 43.397431)   \n",
       "2       1001 S Grand Ave      Spencer    51301   POINT (-95.143701 43.12759)   \n",
       "3             2401, Main   Emmetsburg    50536  POINT (-94.681939 43.111913)   \n",
       "4          5101 230th St  Albert City    50510  POINT (-94.953239 42.777449)   \n",
       "\n",
       "   County_Number      County                          Store_Name.1  ...  \\\n",
       "0             11  BUENA VIST  Dyno's Wine and Spirits / Storm Lake  ...   \n",
       "1             72     OSCEOLA                   Dyno's #53 / Sibley  ...   \n",
       "2             21        CLAY                  Dyno's #40 / Spencer  ...   \n",
       "3             74   PALO ALTO               Dyno's #29 / Emmetsburg  ...   \n",
       "4             11  BUENA VIST              Dyno's #41 / Albert City  ...   \n",
       "\n",
       "   item_Popular_Bottles  item_Quick_Shots  item_Volume_For_Dollar  cl_Cheap  \\\n",
       "0             16.666667         23.333333                0.000000  5.147059   \n",
       "1             16.666667          8.333333               16.666667  6.617647   \n",
       "2             50.000000          0.000000               21.428571  2.205882   \n",
       "3              9.090909         27.272727               18.181818  3.676471   \n",
       "4             23.076923          7.692308                0.000000  3.676471   \n",
       "\n",
       "   cl_High_End  cl_Moderately_High  cl_Most_Variety  cl_Popular_Bottles  \\\n",
       "0          0.0                 0.0         0.500227           11.904762   \n",
       "1          0.0                 0.0         0.545703           14.285714   \n",
       "2          0.0                 0.0         0.045475           16.666667   \n",
       "3          0.0                 0.0         0.454752            7.142857   \n",
       "4          0.0                 0.0         0.181901            7.142857   \n",
       "\n",
       "   cl_Quick_Shots  cl_Volume_For_Dollar  \n",
       "0        1.605505              0.000000  \n",
       "1        0.688073              1.321586  \n",
       "2        0.000000              0.660793  \n",
       "3        2.064220              1.321586  \n",
       "4        0.229358              0.000000  \n",
       "\n",
       "[5 rows x 42 columns]"
      ]
     },
     "execution_count": 28,
     "metadata": {},
     "output_type": "execute_result"
    }
   ],
   "source": [
    "stores_clust_info_combined4.head()"
   ]
  },
  {
   "cell_type": "code",
   "execution_count": 29,
   "id": "7b62de1d",
   "metadata": {},
   "outputs": [],
   "source": [
    "stores_clust_info_combined4 = stores_clust_info_combined4.drop(columns=['index'])"
   ]
  },
  {
   "cell_type": "code",
   "execution_count": 30,
   "id": "e08f610e",
   "metadata": {},
   "outputs": [],
   "source": [
    "scaler = StandardScaler()"
   ]
  },
  {
   "cell_type": "code",
   "execution_count": 31,
   "id": "63dadc7c",
   "metadata": {},
   "outputs": [
    {
     "data": {
      "text/plain": [
       "pandas.core.frame.DataFrame"
      ]
     },
     "execution_count": 31,
     "metadata": {},
     "output_type": "execute_result"
    }
   ],
   "source": [
    "type(stores_clust_info_combined4)"
   ]
  },
  {
   "cell_type": "markdown",
   "id": "3aceecfc",
   "metadata": {},
   "source": [
    "scale features"
   ]
  },
  {
   "cell_type": "code",
   "execution_count": 33,
   "id": "d893d88c",
   "metadata": {},
   "outputs": [],
   "source": [
    "stores_clust_info_combined4[scaled_features] = scaler.fit_transform\\\n",
    "                                           (stores_clust_info_combined4[features])\n"
   ]
  },
  {
   "cell_type": "code",
   "execution_count": 34,
   "id": "e8d1236c",
   "metadata": {},
   "outputs": [
    {
     "data": {
      "text/html": [
       "<div>\n",
       "<style scoped>\n",
       "    .dataframe tbody tr th:only-of-type {\n",
       "        vertical-align: middle;\n",
       "    }\n",
       "\n",
       "    .dataframe tbody tr th {\n",
       "        vertical-align: top;\n",
       "    }\n",
       "\n",
       "    .dataframe thead th {\n",
       "        text-align: right;\n",
       "    }\n",
       "</style>\n",
       "<table border=\"1\" class=\"dataframe\">\n",
       "  <thead>\n",
       "    <tr style=\"text-align: right;\">\n",
       "      <th></th>\n",
       "      <th>store_revenue_scaled</th>\n",
       "      <th>tot_num_unique_items_scaled</th>\n",
       "      <th>rev_Cheap_scaled</th>\n",
       "      <th>rev_Moderately_High_scaled</th>\n",
       "      <th>rev_Most_Variety_scaled</th>\n",
       "      <th>rev_Popular_Bottles_scaled</th>\n",
       "      <th>rev_Volume_For_Dollar_scaled</th>\n",
       "      <th>cl_Cheap_scaled</th>\n",
       "      <th>cl_High_End_scaled</th>\n",
       "      <th>cl_Moderately_High_scaled</th>\n",
       "      <th>cl_Most_Variety_scaled</th>\n",
       "      <th>cl_Popular_Bottles_scaled</th>\n",
       "      <th>cl_Quick_Shots_scaled</th>\n",
       "      <th>cl_Volume_For_Dollar_scaled</th>\n",
       "      <th>num_unique_clusters_scaled</th>\n",
       "    </tr>\n",
       "  </thead>\n",
       "  <tbody>\n",
       "    <tr>\n",
       "      <th>count</th>\n",
       "      <td>1.925000e+03</td>\n",
       "      <td>1.925000e+03</td>\n",
       "      <td>1.925000e+03</td>\n",
       "      <td>1.925000e+03</td>\n",
       "      <td>1.925000e+03</td>\n",
       "      <td>1.925000e+03</td>\n",
       "      <td>1.925000e+03</td>\n",
       "      <td>1.925000e+03</td>\n",
       "      <td>1.925000e+03</td>\n",
       "      <td>1.925000e+03</td>\n",
       "      <td>1.925000e+03</td>\n",
       "      <td>1.925000e+03</td>\n",
       "      <td>1.925000e+03</td>\n",
       "      <td>1.925000e+03</td>\n",
       "      <td>1.925000e+03</td>\n",
       "    </tr>\n",
       "    <tr>\n",
       "      <th>mean</th>\n",
       "      <td>-3.041723e-16</td>\n",
       "      <td>4.559124e-16</td>\n",
       "      <td>-3.837334e-16</td>\n",
       "      <td>1.085827e-15</td>\n",
       "      <td>9.458523e-18</td>\n",
       "      <td>9.654326e-16</td>\n",
       "      <td>-8.679925e-17</td>\n",
       "      <td>-3.535700e-16</td>\n",
       "      <td>4.664523e-15</td>\n",
       "      <td>-2.375272e-15</td>\n",
       "      <td>9.902613e-17</td>\n",
       "      <td>2.361170e-16</td>\n",
       "      <td>2.168540e-16</td>\n",
       "      <td>1.313812e-15</td>\n",
       "      <td>-3.031947e-15</td>\n",
       "    </tr>\n",
       "    <tr>\n",
       "      <th>std</th>\n",
       "      <td>1.000260e+00</td>\n",
       "      <td>1.000260e+00</td>\n",
       "      <td>1.000260e+00</td>\n",
       "      <td>1.000260e+00</td>\n",
       "      <td>1.000260e+00</td>\n",
       "      <td>1.000260e+00</td>\n",
       "      <td>1.000260e+00</td>\n",
       "      <td>1.000260e+00</td>\n",
       "      <td>1.000260e+00</td>\n",
       "      <td>1.000260e+00</td>\n",
       "      <td>1.000260e+00</td>\n",
       "      <td>1.000260e+00</td>\n",
       "      <td>1.000260e+00</td>\n",
       "      <td>1.000260e+00</td>\n",
       "      <td>1.000260e+00</td>\n",
       "    </tr>\n",
       "    <tr>\n",
       "      <th>min</th>\n",
       "      <td>-1.020902e+00</td>\n",
       "      <td>-8.831768e-01</td>\n",
       "      <td>-2.708895e+00</td>\n",
       "      <td>-5.567705e-01</td>\n",
       "      <td>-1.042762e+00</td>\n",
       "      <td>-5.183858e+00</td>\n",
       "      <td>-1.154418e+00</td>\n",
       "      <td>-1.970671e+00</td>\n",
       "      <td>-4.381004e-01</td>\n",
       "      <td>-4.962549e-01</td>\n",
       "      <td>-6.762061e-01</td>\n",
       "      <td>-3.378037e+00</td>\n",
       "      <td>-8.518686e-01</td>\n",
       "      <td>-7.939812e-01</td>\n",
       "      <td>-5.145251e+00</td>\n",
       "    </tr>\n",
       "    <tr>\n",
       "      <th>25%</th>\n",
       "      <td>-6.592579e-01</td>\n",
       "      <td>-6.029907e-01</td>\n",
       "      <td>-6.883176e-01</td>\n",
       "      <td>-5.567705e-01</td>\n",
       "      <td>-7.215954e-01</td>\n",
       "      <td>-7.089685e-01</td>\n",
       "      <td>-8.022215e-01</td>\n",
       "      <td>-6.348712e-01</td>\n",
       "      <td>-4.381004e-01</td>\n",
       "      <td>-4.962549e-01</td>\n",
       "      <td>-5.769715e-01</td>\n",
       "      <td>-6.131570e-01</td>\n",
       "      <td>-6.691035e-01</td>\n",
       "      <td>-6.603319e-01</td>\n",
       "      <td>-9.568132e-01</td>\n",
       "    </tr>\n",
       "    <tr>\n",
       "      <th>50%</th>\n",
       "      <td>-3.198050e-01</td>\n",
       "      <td>-4.510825e-01</td>\n",
       "      <td>-1.112155e-01</td>\n",
       "      <td>-5.022023e-01</td>\n",
       "      <td>-3.918256e-01</td>\n",
       "      <td>1.117443e-01</td>\n",
       "      <td>-3.605455e-01</td>\n",
       "      <td>-2.039682e-01</td>\n",
       "      <td>-4.381004e-01</td>\n",
       "      <td>-4.476198e-01</td>\n",
       "      <td>-4.715348e-01</td>\n",
       "      <td>7.806298e-02</td>\n",
       "      <td>-4.080104e-01</td>\n",
       "      <td>-5.044077e-01</td>\n",
       "      <td>9.029618e-02</td>\n",
       "    </tr>\n",
       "    <tr>\n",
       "      <th>75%</th>\n",
       "      <td>3.027486e-01</td>\n",
       "      <td>2.071860e-01</td>\n",
       "      <td>5.278121e-01</td>\n",
       "      <td>1.610449e-01</td>\n",
       "      <td>3.975995e-01</td>\n",
       "      <td>8.228840e-01</td>\n",
       "      <td>6.788762e-01</td>\n",
       "      <td>4.854766e-01</td>\n",
       "      <td>-1.194368e-01</td>\n",
       "      <td>-5.853897e-02</td>\n",
       "      <td>1.300746e-01</td>\n",
       "      <td>6.310390e-01</td>\n",
       "      <td>2.447222e-01</td>\n",
       "      <td>3.865879e-01</td>\n",
       "      <td>1.137406e+00</td>\n",
       "    </tr>\n",
       "    <tr>\n",
       "      <th>max</th>\n",
       "      <td>8.727601e+00</td>\n",
       "      <td>4.855575e+00</td>\n",
       "      <td>8.849417e+00</td>\n",
       "      <td>1.071925e+01</td>\n",
       "      <td>6.130693e+00</td>\n",
       "      <td>2.029725e+00</td>\n",
       "      <td>4.158417e+00</td>\n",
       "      <td>3.286346e+00</td>\n",
       "      <td>1.039646e+01</td>\n",
       "      <td>8.695779e+00</td>\n",
       "      <td>5.116610e+00</td>\n",
       "      <td>2.428211e+00</td>\n",
       "      <td>5.571020e+00</td>\n",
       "      <td>5.019765e+00</td>\n",
       "      <td>1.137406e+00</td>\n",
       "    </tr>\n",
       "  </tbody>\n",
       "</table>\n",
       "</div>"
      ],
      "text/plain": [
       "       store_revenue_scaled  tot_num_unique_items_scaled  rev_Cheap_scaled  \\\n",
       "count          1.925000e+03                 1.925000e+03      1.925000e+03   \n",
       "mean          -3.041723e-16                 4.559124e-16     -3.837334e-16   \n",
       "std            1.000260e+00                 1.000260e+00      1.000260e+00   \n",
       "min           -1.020902e+00                -8.831768e-01     -2.708895e+00   \n",
       "25%           -6.592579e-01                -6.029907e-01     -6.883176e-01   \n",
       "50%           -3.198050e-01                -4.510825e-01     -1.112155e-01   \n",
       "75%            3.027486e-01                 2.071860e-01      5.278121e-01   \n",
       "max            8.727601e+00                 4.855575e+00      8.849417e+00   \n",
       "\n",
       "       rev_Moderately_High_scaled  rev_Most_Variety_scaled  \\\n",
       "count                1.925000e+03             1.925000e+03   \n",
       "mean                 1.085827e-15             9.458523e-18   \n",
       "std                  1.000260e+00             1.000260e+00   \n",
       "min                 -5.567705e-01            -1.042762e+00   \n",
       "25%                 -5.567705e-01            -7.215954e-01   \n",
       "50%                 -5.022023e-01            -3.918256e-01   \n",
       "75%                  1.610449e-01             3.975995e-01   \n",
       "max                  1.071925e+01             6.130693e+00   \n",
       "\n",
       "       rev_Popular_Bottles_scaled  rev_Volume_For_Dollar_scaled  \\\n",
       "count                1.925000e+03                  1.925000e+03   \n",
       "mean                 9.654326e-16                 -8.679925e-17   \n",
       "std                  1.000260e+00                  1.000260e+00   \n",
       "min                 -5.183858e+00                 -1.154418e+00   \n",
       "25%                 -7.089685e-01                 -8.022215e-01   \n",
       "50%                  1.117443e-01                 -3.605455e-01   \n",
       "75%                  8.228840e-01                  6.788762e-01   \n",
       "max                  2.029725e+00                  4.158417e+00   \n",
       "\n",
       "       cl_Cheap_scaled  cl_High_End_scaled  cl_Moderately_High_scaled  \\\n",
       "count     1.925000e+03        1.925000e+03               1.925000e+03   \n",
       "mean     -3.535700e-16        4.664523e-15              -2.375272e-15   \n",
       "std       1.000260e+00        1.000260e+00               1.000260e+00   \n",
       "min      -1.970671e+00       -4.381004e-01              -4.962549e-01   \n",
       "25%      -6.348712e-01       -4.381004e-01              -4.962549e-01   \n",
       "50%      -2.039682e-01       -4.381004e-01              -4.476198e-01   \n",
       "75%       4.854766e-01       -1.194368e-01              -5.853897e-02   \n",
       "max       3.286346e+00        1.039646e+01               8.695779e+00   \n",
       "\n",
       "       cl_Most_Variety_scaled  cl_Popular_Bottles_scaled  \\\n",
       "count            1.925000e+03               1.925000e+03   \n",
       "mean             9.902613e-17               2.361170e-16   \n",
       "std              1.000260e+00               1.000260e+00   \n",
       "min             -6.762061e-01              -3.378037e+00   \n",
       "25%             -5.769715e-01              -6.131570e-01   \n",
       "50%             -4.715348e-01               7.806298e-02   \n",
       "75%              1.300746e-01               6.310390e-01   \n",
       "max              5.116610e+00               2.428211e+00   \n",
       "\n",
       "       cl_Quick_Shots_scaled  cl_Volume_For_Dollar_scaled  \\\n",
       "count           1.925000e+03                 1.925000e+03   \n",
       "mean            2.168540e-16                 1.313812e-15   \n",
       "std             1.000260e+00                 1.000260e+00   \n",
       "min            -8.518686e-01                -7.939812e-01   \n",
       "25%            -6.691035e-01                -6.603319e-01   \n",
       "50%            -4.080104e-01                -5.044077e-01   \n",
       "75%             2.447222e-01                 3.865879e-01   \n",
       "max             5.571020e+00                 5.019765e+00   \n",
       "\n",
       "       num_unique_clusters_scaled  \n",
       "count                1.925000e+03  \n",
       "mean                -3.031947e-15  \n",
       "std                  1.000260e+00  \n",
       "min                 -5.145251e+00  \n",
       "25%                 -9.568132e-01  \n",
       "50%                  9.029618e-02  \n",
       "75%                  1.137406e+00  \n",
       "max                  1.137406e+00  "
      ]
     },
     "execution_count": 34,
     "metadata": {},
     "output_type": "execute_result"
    }
   ],
   "source": [
    "stores_clust_info_combined4[scaled_features].describe()"
   ]
  },
  {
   "cell_type": "code",
   "execution_count": 35,
   "id": "4dfb6c86",
   "metadata": {},
   "outputs": [
    {
     "data": {
      "text/plain": [
       "0.7279811881545474"
      ]
     },
     "execution_count": 35,
     "metadata": {},
     "output_type": "execute_result"
    }
   ],
   "source": [
    "stores_clust_info_combined4.store_revenue.corr(stores_clust_info_combined4.tot_num_unique_items)"
   ]
  },
  {
   "cell_type": "code",
   "execution_count": 36,
   "id": "4ad36891",
   "metadata": {},
   "outputs": [
    {
     "data": {
      "text/plain": [
       "(1925, 56)"
      ]
     },
     "execution_count": 36,
     "metadata": {},
     "output_type": "execute_result"
    }
   ],
   "source": [
    "stores_clust_info_combined4.shape"
   ]
  },
  {
   "cell_type": "code",
   "execution_count": 37,
   "id": "5c36c86c",
   "metadata": {},
   "outputs": [
    {
     "name": "stdout",
     "output_type": "stream",
     "text": [
      "<class 'pandas.core.frame.DataFrame'>\n",
      "RangeIndex: 1925 entries, 0 to 1924\n",
      "Data columns (total 56 columns):\n",
      " #   Column                            Non-Null Count  Dtype  \n",
      "---  ------                            --------------  -----  \n",
      " 0   Store_Number                      1925 non-null   object \n",
      " 1   Store_Name                        1925 non-null   object \n",
      " 2   Address                           1925 non-null   object \n",
      " 3   City                              1925 non-null   object \n",
      " 4   Zip_Code                          1925 non-null   object \n",
      " 5   Store_Location                    1769 non-null   object \n",
      " 6   County_Number                     1925 non-null   int64  \n",
      " 7   County                            1925 non-null   object \n",
      " 8   Store_Name.1                      1925 non-null   object \n",
      " 9   store_revenue                     1925 non-null   float64\n",
      " 10  tot_num_unique_items              1925 non-null   int64  \n",
      " 11  num_unique_clusters               1925 non-null   int64  \n",
      " 12  tot_item_count                    1925 non-null   int64  \n",
      " 13  rev_Cheap                         1925 non-null   float64\n",
      " 14  rev_High_End                      1925 non-null   float64\n",
      " 15  rev_Moderately_High               1925 non-null   float64\n",
      " 16  rev_Most_Variety                  1925 non-null   float64\n",
      " 17  rev_Popular_Bottles               1925 non-null   float64\n",
      " 18  rev_Quick_Shots                   1925 non-null   float64\n",
      " 19  rev_Volume_For_Dollar             1925 non-null   float64\n",
      " 20  prod_count_pct_Cheap              1925 non-null   float64\n",
      " 21  prod_count_pct_High_End           1925 non-null   float64\n",
      " 22  prod_count_pct_Moderately_High    1925 non-null   float64\n",
      " 23  prod_count_pct_Most_Variety       1925 non-null   float64\n",
      " 24  prod_count_pct_Popular_Bottles    1925 non-null   float64\n",
      " 25  prod_count_pct_Quick_Shots        1925 non-null   float64\n",
      " 26  prod_count_pct_Volume_For_Dollar  1925 non-null   float64\n",
      " 27  item_Cheap                        1925 non-null   float64\n",
      " 28  item_High_End                     1925 non-null   float64\n",
      " 29  item_Moderately_High              1925 non-null   float64\n",
      " 30  item_Most_Variety                 1925 non-null   float64\n",
      " 31  item_Popular_Bottles              1925 non-null   float64\n",
      " 32  item_Quick_Shots                  1925 non-null   float64\n",
      " 33  item_Volume_For_Dollar            1925 non-null   float64\n",
      " 34  cl_Cheap                          1925 non-null   float64\n",
      " 35  cl_High_End                       1925 non-null   float64\n",
      " 36  cl_Moderately_High                1925 non-null   float64\n",
      " 37  cl_Most_Variety                   1925 non-null   float64\n",
      " 38  cl_Popular_Bottles                1925 non-null   float64\n",
      " 39  cl_Quick_Shots                    1925 non-null   float64\n",
      " 40  cl_Volume_For_Dollar              1925 non-null   float64\n",
      " 41  store_revenue_scaled              1925 non-null   float64\n",
      " 42  tot_num_unique_items_scaled       1925 non-null   float64\n",
      " 43  rev_Cheap_scaled                  1925 non-null   float64\n",
      " 44  rev_Moderately_High_scaled        1925 non-null   float64\n",
      " 45  rev_Most_Variety_scaled           1925 non-null   float64\n",
      " 46  rev_Popular_Bottles_scaled        1925 non-null   float64\n",
      " 47  rev_Volume_For_Dollar_scaled      1925 non-null   float64\n",
      " 48  cl_Cheap_scaled                   1925 non-null   float64\n",
      " 49  cl_High_End_scaled                1925 non-null   float64\n",
      " 50  cl_Moderately_High_scaled         1925 non-null   float64\n",
      " 51  cl_Most_Variety_scaled            1925 non-null   float64\n",
      " 52  cl_Popular_Bottles_scaled         1925 non-null   float64\n",
      " 53  cl_Quick_Shots_scaled             1925 non-null   float64\n",
      " 54  cl_Volume_For_Dollar_scaled       1925 non-null   float64\n",
      " 55  num_unique_clusters_scaled        1925 non-null   float64\n",
      "dtypes: float64(44), int64(4), object(8)\n",
      "memory usage: 842.3+ KB\n"
     ]
    }
   ],
   "source": [
    "stores_clust_info_combined4.info()"
   ]
  },
  {
   "cell_type": "code",
   "execution_count": 54,
   "id": "b46565bf",
   "metadata": {},
   "outputs": [
    {
     "name": "stdout",
     "output_type": "stream",
     "text": [
      "number of clusters =  2   silhouette score =  0.45807343703409104\n",
      "number of clusters =  3   silhouette score =  0.36503364720014525\n",
      "number of clusters =  4   silhouette score =  0.3786468051172379\n",
      "number of clusters =  5   silhouette score =  0.2981394052237185\n",
      "number of clusters =  6   silhouette score =  0.2907625270229206\n",
      "number of clusters =  7   silhouette score =  0.2947988747243796\n",
      "number of clusters =  8   silhouette score =  0.2916058068579459\n",
      "number of clusters =  9   silhouette score =  0.24789811872727135\n",
      "number of clusters =  10   silhouette score =  0.2396685711927571\n"
     ]
    }
   ],
   "source": [
    "from sklearn.metrics import silhouette_score\n",
    "\n",
    "cluster_cols = [       \n",
    " 'rev_Cheap_scaled',\n",
    " 'rev_Moderately_High_scaled',\n",
    " 'rev_Most_Variety_scaled',\n",
    " 'rev_Popular_Bottles_scaled',\n",
    " 'rev_Volume_For_Dollar_scaled', \n",
    " 'cl_Cheap_scaled',\n",
    " 'cl_High_End_scaled',\n",
    " 'cl_Moderately_High_scaled',\n",
    " 'cl_Most_Variety_scaled',\n",
    " 'cl_Popular_Bottles_scaled',\n",
    " \n",
    " 'cl_Volume_For_Dollar_scaled']\n",
    "\n",
    "df_scaled = stores_clust_info_combined4[cluster_cols]\n",
    "\n",
    "\n",
    "for clust in range(2,11):\n",
    "    model = KMeans(n_clusters=clust, random_state=42).fit(df_scaled)\n",
    "    \n",
    "\n",
    "    \n",
    "    silhouette_avg = silhouette_score(df_scaled,model.labels_)\n",
    "    print('number of clusters = ',clust,' ','silhouette score = ',silhouette_avg)"
   ]
  },
  {
   "cell_type": "code",
   "execution_count": 38,
   "id": "b8e6c23c",
   "metadata": {},
   "outputs": [
    {
     "name": "stdout",
     "output_type": "stream",
     "text": [
      "number of clusters =  2   silhouette score =  0.4475062643557119\n",
      "number of clusters =  3   silhouette score =  0.3835062078437221\n",
      "number of clusters =  4   silhouette score =  0.4223344841413703\n",
      "number of clusters =  5   silhouette score =  0.34369039286063285\n"
     ]
    }
   ],
   "source": [
    "from sklearn.metrics import silhouette_score\n",
    "\n",
    "cluster_cols = ['tot_num_unique_items_scaled',       \n",
    " 'rev_Cheap_scaled',\n",
    " 'rev_Moderately_High_scaled',\n",
    " 'rev_Most_Variety_scaled',\n",
    " 'rev_Popular_Bottles_scaled',\n",
    " 'rev_Volume_For_Dollar_scaled']\n",
    "#  'cl_Cheap_scaled',\n",
    "#  'cl_High_End_scaled',\n",
    "#  'cl_Moderately_High_scaled',\n",
    "#  'cl_Most_Variety_scaled',\n",
    "#  'cl_Popular_Bottles_scaled',\n",
    " \n",
    "#  'cl_Volume_For_Dollar_scaled']\n",
    "\n",
    "df_scaled = stores_clust_info_combined4[cluster_cols]\n",
    "\n",
    "\n",
    "for clust in range(2,6):\n",
    "    model = KMeans(n_clusters=clust, random_state=42).fit(df_scaled)\n",
    "    \n",
    "\n",
    "    \n",
    "    silhouette_avg = silhouette_score(df_scaled,model.labels_)\n",
    "    print('number of clusters = ',clust,' ','silhouette score = ',silhouette_avg)"
   ]
  },
  {
   "cell_type": "code",
   "execution_count": 47,
   "id": "5a44ab10",
   "metadata": {},
   "outputs": [
    {
     "data": {
      "image/png": "[encoded data removed]",
      "text/plain": [
       "<Figure size 1080x576 with 1 Axes>"
      ]
     },
     "metadata": {},
     "output_type": "display_data"
    }
   ],
   "source": [
    "cluster_cols = ['tot_num_unique_items_scaled',\n",
    " 'rev_Cheap_scaled',\n",
    " 'rev_Moderately_High_scaled',\n",
    " 'rev_Most_Variety_scaled',\n",
    " 'rev_Popular_Bottles_scaled',\n",
    " 'rev_Volume_For_Dollar_scaled']\n",
    "\n",
    "df_scaled = stores_clust_info_combined4[cluster_cols]\n",
    "\n",
    "inertia_scores = []\n",
    "\n",
    "for clust in range(2,11):\n",
    "    inertia = KMeans(n_clusters=clust, random_state=42)\\\n",
    "              .fit(df_scaled).inertia_\n",
    "    inertia_scores.append(inertia)\n",
    "\n",
    "plt.plot(range(2,11), inertia_scores)\n",
    "plt.title(\"Inertia vs. number of clusters\")\n",
    "plt.xlabel(\"Number of clusters: K\")\n",
    "plt.ylabel('Inertia')\n",
    "plt.show()\n"
   ]
  },
  {
   "cell_type": "code",
   "execution_count": 48,
   "id": "607425dd",
   "metadata": {},
   "outputs": [],
   "source": [
    "cols1 = ['tot_num_unique_items',\n",
    " 'rev_Cheap',\n",
    " 'rev_Moderately_High',\n",
    " 'rev_Most_Variety',\n",
    " 'rev_Popular_Bottles',\n",
    " 'rev_Volume_For_Dollar']"
   ]
  },
  {
   "cell_type": "code",
   "execution_count": null,
   "id": "c5f0e550",
   "metadata": {},
   "outputs": [],
   "source": [
    "# !pip install plotly \n"
   ]
  },
  {
   "cell_type": "code",
   "execution_count": 49,
   "id": "420b156d",
   "metadata": {},
   "outputs": [],
   "source": [
    "\n",
    "# THEN:\n",
    "\n",
    "import pandas as pd\n",
    "import plotly.graph_objects as go\n",
    "import plotly.express as px \n",
    "from sklearn.cluster import KMeans\n",
    "from sklearn.preprocessing import MinMaxScaler, StandardScaler\n",
    "\n",
    "def scale(df, cols, **kwargs):\n",
    "    df = df.loc[:, cols]\n",
    "    df = df.to_numpy()\n",
    "    if 'scaletype' in kwargs and kwargs['scaletype'] == 'minmax':\n",
    "        scaler = MinMaxScaler()\n",
    "    else:\n",
    "        scaler = StandardScaler()\n",
    "    scaler.fit(df)\n",
    "    X = scaler.transform(df)\n",
    "    dff = pd.DataFrame(X, columns = cols)\n",
    "    return dff, scaler\n",
    "\n",
    "def get_kmeans(data, cols, n_clusters = 3, random_state = 42, **kwargs):\n",
    "    data, scaler = scale(df = data, cols = cols, **kwargs)\n",
    "    kmeans = KMeans(n_clusters=n_clusters, init='k-means++', n_init = 10, tol = 1e-04, random_state = random_state)\n",
    "    kmeans.fit(data)\n",
    "    clusters = pd.DataFrame(data, columns = cols)\n",
    "    clusters['label'] = kmeans.labels_\n",
    "    polars = clusters.groupby('label').mean().reset_index()\n",
    "    polars = pd.melt(polars, id_vars = ['label'])\n",
    "    fig = px.line_polar(polars, r='value', theta = 'variable', color = 'label', line_close = True, height = 800, width = 1400)\n",
    "    return fig, polars, clusters, scaler\n",
    "\n",
    "def get_clusters(data, cols, cluster_labels):\n",
    "    data = data[cols]\n",
    "    clusters = pd.DataFrame(data, columns = cols)\n",
    "    clusters['label'] = cluster_labels\n",
    "    polar = clusters.groupby('label').mean().reset_index()\n",
    "    polar = pd.melt(polar, id_vars = ['label'])\n",
    "    fig = px.line_polar(polar, r = 'value', theta = 'variable', color = 'label', line_close = True, height = 800, width = 1400)\n",
    "    return fig, polar, clusters, scaler\n",
    "\n",
    "\n",
    "\n",
    "\n",
    "\n",
    "    \n",
    "    \n",
    " \n"
   ]
  },
  {
   "cell_type": "code",
   "execution_count": 50,
   "id": "7a3d0e64",
   "metadata": {},
   "outputs": [],
   "source": [
    "cols1 = ['tot_num_unique_items',\n",
    " 'rev_Cheap',\n",
    " 'rev_Moderately_High',\n",
    " 'rev_Most_Variety',\n",
    " 'rev_Popular_Bottles',\n",
    " 'rev_Volume_For_Dollar']"
   ]
  },
  {
   "cell_type": "code",
   "execution_count": 51,
   "id": "bd524a69",
   "metadata": {},
   "outputs": [
    {
     "name": "stderr",
     "output_type": "stream",
     "text": [
      "C:\\Users\\dgarb\\anaconda3_reinstall\\lib\\site-packages\\plotly\\express\\_core.py:271: FutureWarning:\n",
      "\n",
      "The frame.append method is deprecated and will be removed from pandas in a future version. Use pandas.concat instead.\n",
      "\n",
      "C:\\Users\\dgarb\\anaconda3_reinstall\\lib\\site-packages\\plotly\\express\\_core.py:271: FutureWarning:\n",
      "\n",
      "The frame.append method is deprecated and will be removed from pandas in a future version. Use pandas.concat instead.\n",
      "\n",
      "C:\\Users\\dgarb\\anaconda3_reinstall\\lib\\site-packages\\plotly\\express\\_core.py:271: FutureWarning:\n",
      "\n",
      "The frame.append method is deprecated and will be removed from pandas in a future version. Use pandas.concat instead.\n",
      "\n",
      "C:\\Users\\dgarb\\anaconda3_reinstall\\lib\\site-packages\\plotly\\express\\_core.py:271: FutureWarning:\n",
      "\n",
      "The frame.append method is deprecated and will be removed from pandas in a future version. Use pandas.concat instead.\n",
      "\n",
      "C:\\Users\\dgarb\\anaconda3_reinstall\\lib\\site-packages\\plotly\\express\\_core.py:271: FutureWarning:\n",
      "\n",
      "The frame.append method is deprecated and will be removed from pandas in a future version. Use pandas.concat instead.\n",
      "\n",
      "C:\\Users\\dgarb\\anaconda3_reinstall\\lib\\site-packages\\plotly\\express\\_core.py:271: FutureWarning:\n",
      "\n",
      "The frame.append method is deprecated and will be removed from pandas in a future version. Use pandas.concat instead.\n",
      "\n",
      "C:\\Users\\dgarb\\anaconda3_reinstall\\lib\\site-packages\\plotly\\express\\_core.py:271: FutureWarning:\n",
      "\n",
      "The frame.append method is deprecated and will be removed from pandas in a future version. Use pandas.concat instead.\n",
      "\n",
      "C:\\Users\\dgarb\\anaconda3_reinstall\\lib\\site-packages\\plotly\\express\\_core.py:271: FutureWarning:\n",
      "\n",
      "The frame.append method is deprecated and will be removed from pandas in a future version. Use pandas.concat instead.\n",
      "\n"
     ]
    },
    {
     "data": {
      "application/vnd.plotly.v1+json": {
       "config": {
        "plotlyServerURL": "https://plot.ly"
       },
       "data": [
        {
         "hovertemplate": "label=0<br>value=%{r}<br>variable=%{theta}<extra></extra>",
         "legendgroup": "0",
         "line": {
          "color": "#636efa",
          "dash": "solid"
         },
         "marker": {
          "symbol": "circle"
         },
         "mode": "lines",
         "name": "0",
         "r": [
          -0.5568611853588501,
          -0.43854985526472484,
          -0.5000679981884092,
          -0.6343712724056,
          0.7877844624594577,
          -0.6249741534439596,
          -0.5568611853588501
         ],
         "showlegend": true,
         "subplot": "polar",
         "theta": [
          "tot_num_unique_items",
          "rev_Cheap",
          "rev_Moderately_High",
          "rev_Most_Variety",
          "rev_Popular_Bottles",
          "rev_Volume_For_Dollar",
          "tot_num_unique_items"
         ],
         "type": "scatterpolar"
        },
        {
         "hovertemplate": "label=1<br>value=%{r}<br>variable=%{theta}<extra></extra>",
         "legendgroup": "1",
         "line": {
          "color": "#EF553B",
          "dash": "solid"
         },
         "marker": {
          "symbol": "circle"
         },
         "mode": "lines",
         "name": "1",
         "r": [
          2.2644682130538523,
          0.6724024468302507,
          1.266214338006177,
          2.1327547613050233,
          -1.5491047805316531,
          1.0370072215607424,
          2.2644682130538523
         ],
         "showlegend": true,
         "subplot": "polar",
         "theta": [
          "tot_num_unique_items",
          "rev_Cheap",
          "rev_Moderately_High",
          "rev_Most_Variety",
          "rev_Popular_Bottles",
          "rev_Volume_For_Dollar",
          "tot_num_unique_items"
         ],
         "type": "scatterpolar"
        },
        {
         "hovertemplate": "label=2<br>value=%{r}<br>variable=%{theta}<extra></extra>",
         "legendgroup": "2",
         "line": {
          "color": "#00cc96",
          "dash": "solid"
         },
         "marker": {
          "symbol": "circle"
         },
         "mode": "lines",
         "name": "2",
         "r": [
          0.21219721244419731,
          -0.15746337413174624,
          -0.09573886987246821,
          0.4315722104271266,
          -0.6361490512835609,
          1.1346561090327454,
          0.21219721244419731
         ],
         "showlegend": true,
         "subplot": "polar",
         "theta": [
          "tot_num_unique_items",
          "rev_Cheap",
          "rev_Moderately_High",
          "rev_Most_Variety",
          "rev_Popular_Bottles",
          "rev_Volume_For_Dollar",
          "tot_num_unique_items"
         ],
         "type": "scatterpolar"
        },
        {
         "hovertemplate": "label=3<br>value=%{r}<br>variable=%{theta}<extra></extra>",
         "legendgroup": "3",
         "line": {
          "color": "#ab63fa",
          "dash": "solid"
         },
         "marker": {
          "symbol": "circle"
         },
         "mode": "lines",
         "name": "3",
         "r": [
          0.029881537817465238,
          1.6178391442309104,
          1.2545722660873944,
          0.022404746430513954,
          -0.7467482115546579,
          -0.5302925712606757,
          0.029881537817465238
         ],
         "showlegend": true,
         "subplot": "polar",
         "theta": [
          "tot_num_unique_items",
          "rev_Cheap",
          "rev_Moderately_High",
          "rev_Most_Variety",
          "rev_Popular_Bottles",
          "rev_Volume_For_Dollar",
          "tot_num_unique_items"
         ],
         "type": "scatterpolar"
        }
       ],
       "layout": {
        "autosize": false,
        "height": 400,
        "legend": {
         "title": {
          "text": "label"
         },
         "tracegroupgap": 0
        },
        "margin": {
         "t": 60
        },
        "polar": {
         "angularaxis": {
          "direction": "clockwise",
          "rotation": 90
         },
         "domain": {
          "x": [
           0,
           1
          ],
          "y": [
           0,
           1
          ]
         }
        },
        "template": {
         "data": {
          "bar": [
           {
            "error_x": {
             "color": "#2a3f5f"
            },
            "error_y": {
             "color": "#2a3f5f"
            },
            "marker": {
             "line": {
              "color": "#E5ECF6",
              "width": 0.5
             },
             "pattern": {
              "fillmode": "overlay",
              "size": 10,
              "solidity": 0.2
             }
            },
            "type": "bar"
           }
          ],
          "barpolar": [
           {
            "marker": {
             "line": {
              "color": "#E5ECF6",
              "width": 0.5
             },
             "pattern": {
              "fillmode": "overlay",
              "size": 10,
              "solidity": 0.2
             }
            },
            "type": "barpolar"
           }
          ],
          "carpet": [
           {
            "aaxis": {
             "endlinecolor": "#2a3f5f",
             "gridcolor": "white",
             "linecolor": "white",
             "minorgridcolor": "white",
             "startlinecolor": "#2a3f5f"
            },
            "baxis": {
             "endlinecolor": "#2a3f5f",
             "gridcolor": "white",
             "linecolor": "white",
             "minorgridcolor": "white",
             "startlinecolor": "#2a3f5f"
            },
            "type": "carpet"
           }
          ],
          "choropleth": [
           {
            "colorbar": {
             "outlinewidth": 0,
             "ticks": ""
            },
            "type": "choropleth"
           }
          ],
          "contour": [
           {
            "colorbar": {
             "outlinewidth": 0,
             "ticks": ""
            },
            "colorscale": [
             [
              0,
              "#0d0887"
             ],
             [
              0.1111111111111111,
              "#46039f"
             ],
             [
              0.2222222222222222,
              "#7201a8"
             ],
             [
              0.3333333333333333,
              "#9c179e"
             ],
             [
              0.4444444444444444,
              "#bd3786"
             ],
             [
              0.5555555555555556,
              "#d8576b"
             ],
             [
              0.6666666666666666,
              "#ed7953"
             ],
             [
              0.7777777777777778,
              "#fb9f3a"
             ],
             [
              0.8888888888888888,
              "#fdca26"
             ],
             [
              1,
              "#f0f921"
             ]
            ],
            "type": "contour"
           }
          ],
          "contourcarpet": [
           {
            "colorbar": {
             "outlinewidth": 0,
             "ticks": ""
            },
            "type": "contourcarpet"
           }
          ],
          "heatmap": [
           {
            "colorbar": {
             "outlinewidth": 0,
             "ticks": ""
            },
            "colorscale": [
             [
              0,
              "#0d0887"
             ],
             [
              0.1111111111111111,
              "#46039f"
             ],
             [
              0.2222222222222222,
              "#7201a8"
             ],
             [
              0.3333333333333333,
              "#9c179e"
             ],
             [
              0.4444444444444444,
              "#bd3786"
             ],
             [
              0.5555555555555556,
              "#d8576b"
             ],
             [
              0.6666666666666666,
              "#ed7953"
             ],
             [
              0.7777777777777778,
              "#fb9f3a"
             ],
             [
              0.8888888888888888,
              "#fdca26"
             ],
             [
              1,
              "#f0f921"
             ]
            ],
            "type": "heatmap"
           }
          ],
          "heatmapgl": [
           {
            "colorbar": {
             "outlinewidth": 0,
             "ticks": ""
            },
            "colorscale": [
             [
              0,
              "#0d0887"
             ],
             [
              0.1111111111111111,
              "#46039f"
             ],
             [
              0.2222222222222222,
              "#7201a8"
             ],
             [
              0.3333333333333333,
              "#9c179e"
             ],
             [
              0.4444444444444444,
              "#bd3786"
             ],
             [
              0.5555555555555556,
              "#d8576b"
             ],
             [
              0.6666666666666666,
              "#ed7953"
             ],
             [
              0.7777777777777778,
              "#fb9f3a"
             ],
             [
              0.8888888888888888,
              "#fdca26"
             ],
             [
              1,
              "#f0f921"
             ]
            ],
            "type": "heatmapgl"
           }
          ],
          "histogram": [
           {
            "marker": {
             "pattern": {
              "fillmode": "overlay",
              "size": 10,
              "solidity": 0.2
             }
            },
            "type": "histogram"
           }
          ],
          "histogram2d": [
           {
            "colorbar": {
             "outlinewidth": 0,
             "ticks": ""
            },
            "colorscale": [
             [
              0,
              "#0d0887"
             ],
             [
              0.1111111111111111,
              "#46039f"
             ],
             [
              0.2222222222222222,
              "#7201a8"
             ],
             [
              0.3333333333333333,
              "#9c179e"
             ],
             [
              0.4444444444444444,
              "#bd3786"
             ],
             [
              0.5555555555555556,
              "#d8576b"
             ],
             [
              0.6666666666666666,
              "#ed7953"
             ],
             [
              0.7777777777777778,
              "#fb9f3a"
             ],
             [
              0.8888888888888888,
              "#fdca26"
             ],
             [
              1,
              "#f0f921"
             ]
            ],
            "type": "histogram2d"
           }
          ],
          "histogram2dcontour": [
           {
            "colorbar": {
             "outlinewidth": 0,
             "ticks": ""
            },
            "colorscale": [
             [
              0,
              "#0d0887"
             ],
             [
              0.1111111111111111,
              "#46039f"
             ],
             [
              0.2222222222222222,
              "#7201a8"
             ],
             [
              0.3333333333333333,
              "#9c179e"
             ],
             [
              0.4444444444444444,
              "#bd3786"
             ],
             [
              0.5555555555555556,
              "#d8576b"
             ],
             [
              0.6666666666666666,
              "#ed7953"
             ],
             [
              0.7777777777777778,
              "#fb9f3a"
             ],
             [
              0.8888888888888888,
              "#fdca26"
             ],
             [
              1,
              "#f0f921"
             ]
            ],
            "type": "histogram2dcontour"
           }
          ],
          "mesh3d": [
           {
            "colorbar": {
             "outlinewidth": 0,
             "ticks": ""
            },
            "type": "mesh3d"
           }
          ],
          "parcoords": [
           {
            "line": {
             "colorbar": {
              "outlinewidth": 0,
              "ticks": ""
             }
            },
            "type": "parcoords"
           }
          ],
          "pie": [
           {
            "automargin": true,
            "type": "pie"
           }
          ],
          "scatter": [
           {
            "marker": {
             "colorbar": {
              "outlinewidth": 0,
              "ticks": ""
             }
            },
            "type": "scatter"
           }
          ],
          "scatter3d": [
           {
            "line": {
             "colorbar": {
              "outlinewidth": 0,
              "ticks": ""
             }
            },
            "marker": {
             "colorbar": {
              "outlinewidth": 0,
              "ticks": ""
             }
            },
            "type": "scatter3d"
           }
          ],
          "scattercarpet": [
           {
            "marker": {
             "colorbar": {
              "outlinewidth": 0,
              "ticks": ""
             }
            },
            "type": "scattercarpet"
           }
          ],
          "scattergeo": [
           {
            "marker": {
             "colorbar": {
              "outlinewidth": 0,
              "ticks": ""
             }
            },
            "type": "scattergeo"
           }
          ],
          "scattergl": [
           {
            "marker": {
             "colorbar": {
              "outlinewidth": 0,
              "ticks": ""
             }
            },
            "type": "scattergl"
           }
          ],
          "scattermapbox": [
           {
            "marker": {
             "colorbar": {
              "outlinewidth": 0,
              "ticks": ""
             }
            },
            "type": "scattermapbox"
           }
          ],
          "scatterpolar": [
           {
            "marker": {
             "colorbar": {
              "outlinewidth": 0,
              "ticks": ""
             }
            },
            "type": "scatterpolar"
           }
          ],
          "scatterpolargl": [
           {
            "marker": {
             "colorbar": {
              "outlinewidth": 0,
              "ticks": ""
             }
            },
            "type": "scatterpolargl"
           }
          ],
          "scatterternary": [
           {
            "marker": {
             "colorbar": {
              "outlinewidth": 0,
              "ticks": ""
             }
            },
            "type": "scatterternary"
           }
          ],
          "surface": [
           {
            "colorbar": {
             "outlinewidth": 0,
             "ticks": ""
            },
            "colorscale": [
             [
              0,
              "#0d0887"
             ],
             [
              0.1111111111111111,
              "#46039f"
             ],
             [
              0.2222222222222222,
              "#7201a8"
             ],
             [
              0.3333333333333333,
              "#9c179e"
             ],
             [
              0.4444444444444444,
              "#bd3786"
             ],
             [
              0.5555555555555556,
              "#d8576b"
             ],
             [
              0.6666666666666666,
              "#ed7953"
             ],
             [
              0.7777777777777778,
              "#fb9f3a"
             ],
             [
              0.8888888888888888,
              "#fdca26"
             ],
             [
              1,
              "#f0f921"
             ]
            ],
            "type": "surface"
           }
          ],
          "table": [
           {
            "cells": {
             "fill": {
              "color": "#EBF0F8"
             },
             "line": {
              "color": "white"
             }
            },
            "header": {
             "fill": {
              "color": "#C8D4E3"
             },
             "line": {
              "color": "white"
             }
            },
            "type": "table"
           }
          ]
         },
         "layout": {
          "annotationdefaults": {
           "arrowcolor": "#2a3f5f",
           "arrowhead": 0,
           "arrowwidth": 1
          },
          "autotypenumbers": "strict",
          "coloraxis": {
           "colorbar": {
            "outlinewidth": 0,
            "ticks": ""
           }
          },
          "colorscale": {
           "diverging": [
            [
             0,
             "#8e0152"
            ],
            [
             0.1,
             "#c51b7d"
            ],
            [
             0.2,
             "#de77ae"
            ],
            [
             0.3,
             "#f1b6da"
            ],
            [
             0.4,
             "#fde0ef"
            ],
            [
             0.5,
             "#f7f7f7"
            ],
            [
             0.6,
             "#e6f5d0"
            ],
            [
             0.7,
             "#b8e186"
            ],
            [
             0.8,
             "#7fbc41"
            ],
            [
             0.9,
             "#4d9221"
            ],
            [
             1,
             "#276419"
            ]
           ],
           "sequential": [
            [
             0,
             "#0d0887"
            ],
            [
             0.1111111111111111,
             "#46039f"
            ],
            [
             0.2222222222222222,
             "#7201a8"
            ],
            [
             0.3333333333333333,
             "#9c179e"
            ],
            [
             0.4444444444444444,
             "#bd3786"
            ],
            [
             0.5555555555555556,
             "#d8576b"
            ],
            [
             0.6666666666666666,
             "#ed7953"
            ],
            [
             0.7777777777777778,
             "#fb9f3a"
            ],
            [
             0.8888888888888888,
             "#fdca26"
            ],
            [
             1,
             "#f0f921"
            ]
           ],
           "sequentialminus": [
            [
             0,
             "#0d0887"
            ],
            [
             0.1111111111111111,
             "#46039f"
            ],
            [
             0.2222222222222222,
             "#7201a8"
            ],
            [
             0.3333333333333333,
             "#9c179e"
            ],
            [
             0.4444444444444444,
             "#bd3786"
            ],
            [
             0.5555555555555556,
             "#d8576b"
            ],
            [
             0.6666666666666666,
             "#ed7953"
            ],
            [
             0.7777777777777778,
             "#fb9f3a"
            ],
            [
             0.8888888888888888,
             "#fdca26"
            ],
            [
             1,
             "#f0f921"
            ]
           ]
          },
          "colorway": [
           "#636efa",
           "#EF553B",
           "#00cc96",
           "#ab63fa",
           "#FFA15A",
           "#19d3f3",
           "#FF6692",
           "#B6E880",
           "#FF97FF",
           "#FECB52"
          ],
          "font": {
           "color": "#2a3f5f"
          },
          "geo": {
           "bgcolor": "white",
           "lakecolor": "white",
           "landcolor": "#E5ECF6",
           "showlakes": true,
           "showland": true,
           "subunitcolor": "white"
          },
          "hoverlabel": {
           "align": "left"
          },
          "hovermode": "closest",
          "mapbox": {
           "style": "light"
          },
          "paper_bgcolor": "white",
          "plot_bgcolor": "#E5ECF6",
          "polar": {
           "angularaxis": {
            "gridcolor": "white",
            "linecolor": "white",
            "ticks": ""
           },
           "bgcolor": "#E5ECF6",
           "radialaxis": {
            "gridcolor": "white",
            "linecolor": "white",
            "ticks": ""
           }
          },
          "scene": {
           "xaxis": {
            "backgroundcolor": "#E5ECF6",
            "gridcolor": "white",
            "gridwidth": 2,
            "linecolor": "white",
            "showbackground": true,
            "ticks": "",
            "zerolinecolor": "white"
           },
           "yaxis": {
            "backgroundcolor": "#E5ECF6",
            "gridcolor": "white",
            "gridwidth": 2,
            "linecolor": "white",
            "showbackground": true,
            "ticks": "",
            "zerolinecolor": "white"
           },
           "zaxis": {
            "backgroundcolor": "#E5ECF6",
            "gridcolor": "white",
            "gridwidth": 2,
            "linecolor": "white",
            "showbackground": true,
            "ticks": "",
            "zerolinecolor": "white"
           }
          },
          "shapedefaults": {
           "line": {
            "color": "#2a3f5f"
           }
          },
          "ternary": {
           "aaxis": {
            "gridcolor": "white",
            "linecolor": "white",
            "ticks": ""
           },
           "baxis": {
            "gridcolor": "white",
            "linecolor": "white",
            "ticks": ""
           },
           "bgcolor": "#E5ECF6",
           "caxis": {
            "gridcolor": "white",
            "linecolor": "white",
            "ticks": ""
           }
          },
          "title": {
           "x": 0.05
          },
          "xaxis": {
           "automargin": true,
           "gridcolor": "white",
           "linecolor": "white",
           "ticks": "",
           "title": {
            "standoff": 15
           },
           "zerolinecolor": "white",
           "zerolinewidth": 2
          },
          "yaxis": {
           "automargin": true,
           "gridcolor": "white",
           "linecolor": "white",
           "ticks": "",
           "title": {
            "standoff": 15
           },
           "zerolinecolor": "white",
           "zerolinewidth": 2
          }
         }
        },
        "width": 400
       }
      },
      "text/html": [
       "<div>                            <div id=\"0ef64816-9427-4f17-bd2b-244a0fbbfaef\" class=\"plotly-graph-div\" style=\"height:400px; width:400px;\"></div>            <script type=\"text/javascript\">                require([\"plotly\"], function(Plotly) {                    window.PLOTLYENV=window.PLOTLYENV || {};                                    if (document.getElementById(\"0ef64816-9427-4f17-bd2b-244a0fbbfaef\")) {                    Plotly.newPlot(                        \"0ef64816-9427-4f17-bd2b-244a0fbbfaef\",                        [{\"hovertemplate\":\"label=0<br>value=%{r}<br>variable=%{theta}<extra></extra>\",\"legendgroup\":\"0\",\"line\":{\"color\":\"#636efa\",\"dash\":\"solid\"},\"marker\":{\"symbol\":\"circle\"},\"mode\":\"lines\",\"name\":\"0\",\"r\":[-0.5568611853588501,-0.43854985526472484,-0.5000679981884092,-0.6343712724056,0.7877844624594577,-0.6249741534439596,-0.5568611853588501],\"showlegend\":true,\"subplot\":\"polar\",\"theta\":[\"tot_num_unique_items\",\"rev_Cheap\",\"rev_Moderately_High\",\"rev_Most_Variety\",\"rev_Popular_Bottles\",\"rev_Volume_For_Dollar\",\"tot_num_unique_items\"],\"type\":\"scatterpolar\"},{\"hovertemplate\":\"label=1<br>value=%{r}<br>variable=%{theta}<extra></extra>\",\"legendgroup\":\"1\",\"line\":{\"color\":\"#EF553B\",\"dash\":\"solid\"},\"marker\":{\"symbol\":\"circle\"},\"mode\":\"lines\",\"name\":\"1\",\"r\":[2.2644682130538523,0.6724024468302507,1.266214338006177,2.1327547613050233,-1.5491047805316531,1.0370072215607424,2.2644682130538523],\"showlegend\":true,\"subplot\":\"polar\",\"theta\":[\"tot_num_unique_items\",\"rev_Cheap\",\"rev_Moderately_High\",\"rev_Most_Variety\",\"rev_Popular_Bottles\",\"rev_Volume_For_Dollar\",\"tot_num_unique_items\"],\"type\":\"scatterpolar\"},{\"hovertemplate\":\"label=2<br>value=%{r}<br>variable=%{theta}<extra></extra>\",\"legendgroup\":\"2\",\"line\":{\"color\":\"#00cc96\",\"dash\":\"solid\"},\"marker\":{\"symbol\":\"circle\"},\"mode\":\"lines\",\"name\":\"2\",\"r\":[0.21219721244419731,-0.15746337413174624,-0.09573886987246821,0.4315722104271266,-0.6361490512835609,1.1346561090327454,0.21219721244419731],\"showlegend\":true,\"subplot\":\"polar\",\"theta\":[\"tot_num_unique_items\",\"rev_Cheap\",\"rev_Moderately_High\",\"rev_Most_Variety\",\"rev_Popular_Bottles\",\"rev_Volume_For_Dollar\",\"tot_num_unique_items\"],\"type\":\"scatterpolar\"},{\"hovertemplate\":\"label=3<br>value=%{r}<br>variable=%{theta}<extra></extra>\",\"legendgroup\":\"3\",\"line\":{\"color\":\"#ab63fa\",\"dash\":\"solid\"},\"marker\":{\"symbol\":\"circle\"},\"mode\":\"lines\",\"name\":\"3\",\"r\":[0.029881537817465238,1.6178391442309104,1.2545722660873944,0.022404746430513954,-0.7467482115546579,-0.5302925712606757,0.029881537817465238],\"showlegend\":true,\"subplot\":\"polar\",\"theta\":[\"tot_num_unique_items\",\"rev_Cheap\",\"rev_Moderately_High\",\"rev_Most_Variety\",\"rev_Popular_Bottles\",\"rev_Volume_For_Dollar\",\"tot_num_unique_items\"],\"type\":\"scatterpolar\"}],                        {\"template\":{\"data\":{\"bar\":[{\"error_x\":{\"color\":\"#2a3f5f\"},\"error_y\":{\"color\":\"#2a3f5f\"},\"marker\":{\"line\":{\"color\":\"#E5ECF6\",\"width\":0.5},\"pattern\":{\"fillmode\":\"overlay\",\"size\":10,\"solidity\":0.2}},\"type\":\"bar\"}],\"barpolar\":[{\"marker\":{\"line\":{\"color\":\"#E5ECF6\",\"width\":0.5},\"pattern\":{\"fillmode\":\"overlay\",\"size\":10,\"solidity\":0.2}},\"type\":\"barpolar\"}],\"carpet\":[{\"aaxis\":{\"endlinecolor\":\"#2a3f5f\",\"gridcolor\":\"white\",\"linecolor\":\"white\",\"minorgridcolor\":\"white\",\"startlinecolor\":\"#2a3f5f\"},\"baxis\":{\"endlinecolor\":\"#2a3f5f\",\"gridcolor\":\"white\",\"linecolor\":\"white\",\"minorgridcolor\":\"white\",\"startlinecolor\":\"#2a3f5f\"},\"type\":\"carpet\"}],\"choropleth\":[{\"colorbar\":{\"outlinewidth\":0,\"ticks\":\"\"},\"type\":\"choropleth\"}],\"contour\":[{\"colorbar\":{\"outlinewidth\":0,\"ticks\":\"\"},\"colorscale\":[[0.0,\"#0d0887\"],[0.1111111111111111,\"#46039f\"],[0.2222222222222222,\"#7201a8\"],[0.3333333333333333,\"#9c179e\"],[0.4444444444444444,\"#bd3786\"],[0.5555555555555556,\"#d8576b\"],[0.6666666666666666,\"#ed7953\"],[0.7777777777777778,\"#fb9f3a\"],[0.8888888888888888,\"#fdca26\"],[1.0,\"#f0f921\"]],\"type\":\"contour\"}],\"contourcarpet\":[{\"colorbar\":{\"outlinewidth\":0,\"ticks\":\"\"},\"type\":\"contourcarpet\"}],\"heatmap\":[{\"colorbar\":{\"outlinewidth\":0,\"ticks\":\"\"},\"colorscale\":[[0.0,\"#0d0887\"],[0.1111111111111111,\"#46039f\"],[0.2222222222222222,\"#7201a8\"],[0.3333333333333333,\"#9c179e\"],[0.4444444444444444,\"#bd3786\"],[0.5555555555555556,\"#d8576b\"],[0.6666666666666666,\"#ed7953\"],[0.7777777777777778,\"#fb9f3a\"],[0.8888888888888888,\"#fdca26\"],[1.0,\"#f0f921\"]],\"type\":\"heatmap\"}],\"heatmapgl\":[{\"colorbar\":{\"outlinewidth\":0,\"ticks\":\"\"},\"colorscale\":[[0.0,\"#0d0887\"],[0.1111111111111111,\"#46039f\"],[0.2222222222222222,\"#7201a8\"],[0.3333333333333333,\"#9c179e\"],[0.4444444444444444,\"#bd3786\"],[0.5555555555555556,\"#d8576b\"],[0.6666666666666666,\"#ed7953\"],[0.7777777777777778,\"#fb9f3a\"],[0.8888888888888888,\"#fdca26\"],[1.0,\"#f0f921\"]],\"type\":\"heatmapgl\"}],\"histogram\":[{\"marker\":{\"pattern\":{\"fillmode\":\"overlay\",\"size\":10,\"solidity\":0.2}},\"type\":\"histogram\"}],\"histogram2d\":[{\"colorbar\":{\"outlinewidth\":0,\"ticks\":\"\"},\"colorscale\":[[0.0,\"#0d0887\"],[0.1111111111111111,\"#46039f\"],[0.2222222222222222,\"#7201a8\"],[0.3333333333333333,\"#9c179e\"],[0.4444444444444444,\"#bd3786\"],[0.5555555555555556,\"#d8576b\"],[0.6666666666666666,\"#ed7953\"],[0.7777777777777778,\"#fb9f3a\"],[0.8888888888888888,\"#fdca26\"],[1.0,\"#f0f921\"]],\"type\":\"histogram2d\"}],\"histogram2dcontour\":[{\"colorbar\":{\"outlinewidth\":0,\"ticks\":\"\"},\"colorscale\":[[0.0,\"#0d0887\"],[0.1111111111111111,\"#46039f\"],[0.2222222222222222,\"#7201a8\"],[0.3333333333333333,\"#9c179e\"],[0.4444444444444444,\"#bd3786\"],[0.5555555555555556,\"#d8576b\"],[0.6666666666666666,\"#ed7953\"],[0.7777777777777778,\"#fb9f3a\"],[0.8888888888888888,\"#fdca26\"],[1.0,\"#f0f921\"]],\"type\":\"histogram2dcontour\"}],\"mesh3d\":[{\"colorbar\":{\"outlinewidth\":0,\"ticks\":\"\"},\"type\":\"mesh3d\"}],\"parcoords\":[{\"line\":{\"colorbar\":{\"outlinewidth\":0,\"ticks\":\"\"}},\"type\":\"parcoords\"}],\"pie\":[{\"automargin\":true,\"type\":\"pie\"}],\"scatter\":[{\"marker\":{\"colorbar\":{\"outlinewidth\":0,\"ticks\":\"\"}},\"type\":\"scatter\"}],\"scatter3d\":[{\"line\":{\"colorbar\":{\"outlinewidth\":0,\"ticks\":\"\"}},\"marker\":{\"colorbar\":{\"outlinewidth\":0,\"ticks\":\"\"}},\"type\":\"scatter3d\"}],\"scattercarpet\":[{\"marker\":{\"colorbar\":{\"outlinewidth\":0,\"ticks\":\"\"}},\"type\":\"scattercarpet\"}],\"scattergeo\":[{\"marker\":{\"colorbar\":{\"outlinewidth\":0,\"ticks\":\"\"}},\"type\":\"scattergeo\"}],\"scattergl\":[{\"marker\":{\"colorbar\":{\"outlinewidth\":0,\"ticks\":\"\"}},\"type\":\"scattergl\"}],\"scattermapbox\":[{\"marker\":{\"colorbar\":{\"outlinewidth\":0,\"ticks\":\"\"}},\"type\":\"scattermapbox\"}],\"scatterpolar\":[{\"marker\":{\"colorbar\":{\"outlinewidth\":0,\"ticks\":\"\"}},\"type\":\"scatterpolar\"}],\"scatterpolargl\":[{\"marker\":{\"colorbar\":{\"outlinewidth\":0,\"ticks\":\"\"}},\"type\":\"scatterpolargl\"}],\"scatterternary\":[{\"marker\":{\"colorbar\":{\"outlinewidth\":0,\"ticks\":\"\"}},\"type\":\"scatterternary\"}],\"surface\":[{\"colorbar\":{\"outlinewidth\":0,\"ticks\":\"\"},\"colorscale\":[[0.0,\"#0d0887\"],[0.1111111111111111,\"#46039f\"],[0.2222222222222222,\"#7201a8\"],[0.3333333333333333,\"#9c179e\"],[0.4444444444444444,\"#bd3786\"],[0.5555555555555556,\"#d8576b\"],[0.6666666666666666,\"#ed7953\"],[0.7777777777777778,\"#fb9f3a\"],[0.8888888888888888,\"#fdca26\"],[1.0,\"#f0f921\"]],\"type\":\"surface\"}],\"table\":[{\"cells\":{\"fill\":{\"color\":\"#EBF0F8\"},\"line\":{\"color\":\"white\"}},\"header\":{\"fill\":{\"color\":\"#C8D4E3\"},\"line\":{\"color\":\"white\"}},\"type\":\"table\"}]},\"layout\":{\"annotationdefaults\":{\"arrowcolor\":\"#2a3f5f\",\"arrowhead\":0,\"arrowwidth\":1},\"autotypenumbers\":\"strict\",\"coloraxis\":{\"colorbar\":{\"outlinewidth\":0,\"ticks\":\"\"}},\"colorscale\":{\"diverging\":[[0,\"#8e0152\"],[0.1,\"#c51b7d\"],[0.2,\"#de77ae\"],[0.3,\"#f1b6da\"],[0.4,\"#fde0ef\"],[0.5,\"#f7f7f7\"],[0.6,\"#e6f5d0\"],[0.7,\"#b8e186\"],[0.8,\"#7fbc41\"],[0.9,\"#4d9221\"],[1,\"#276419\"]],\"sequential\":[[0.0,\"#0d0887\"],[0.1111111111111111,\"#46039f\"],[0.2222222222222222,\"#7201a8\"],[0.3333333333333333,\"#9c179e\"],[0.4444444444444444,\"#bd3786\"],[0.5555555555555556,\"#d8576b\"],[0.6666666666666666,\"#ed7953\"],[0.7777777777777778,\"#fb9f3a\"],[0.8888888888888888,\"#fdca26\"],[1.0,\"#f0f921\"]],\"sequentialminus\":[[0.0,\"#0d0887\"],[0.1111111111111111,\"#46039f\"],[0.2222222222222222,\"#7201a8\"],[0.3333333333333333,\"#9c179e\"],[0.4444444444444444,\"#bd3786\"],[0.5555555555555556,\"#d8576b\"],[0.6666666666666666,\"#ed7953\"],[0.7777777777777778,\"#fb9f3a\"],[0.8888888888888888,\"#fdca26\"],[1.0,\"#f0f921\"]]},\"colorway\":[\"#636efa\",\"#EF553B\",\"#00cc96\",\"#ab63fa\",\"#FFA15A\",\"#19d3f3\",\"#FF6692\",\"#B6E880\",\"#FF97FF\",\"#FECB52\"],\"font\":{\"color\":\"#2a3f5f\"},\"geo\":{\"bgcolor\":\"white\",\"lakecolor\":\"white\",\"landcolor\":\"#E5ECF6\",\"showlakes\":true,\"showland\":true,\"subunitcolor\":\"white\"},\"hoverlabel\":{\"align\":\"left\"},\"hovermode\":\"closest\",\"mapbox\":{\"style\":\"light\"},\"paper_bgcolor\":\"white\",\"plot_bgcolor\":\"#E5ECF6\",\"polar\":{\"angularaxis\":{\"gridcolor\":\"white\",\"linecolor\":\"white\",\"ticks\":\"\"},\"bgcolor\":\"#E5ECF6\",\"radialaxis\":{\"gridcolor\":\"white\",\"linecolor\":\"white\",\"ticks\":\"\"}},\"scene\":{\"xaxis\":{\"backgroundcolor\":\"#E5ECF6\",\"gridcolor\":\"white\",\"gridwidth\":2,\"linecolor\":\"white\",\"showbackground\":true,\"ticks\":\"\",\"zerolinecolor\":\"white\"},\"yaxis\":{\"backgroundcolor\":\"#E5ECF6\",\"gridcolor\":\"white\",\"gridwidth\":2,\"linecolor\":\"white\",\"showbackground\":true,\"ticks\":\"\",\"zerolinecolor\":\"white\"},\"zaxis\":{\"backgroundcolor\":\"#E5ECF6\",\"gridcolor\":\"white\",\"gridwidth\":2,\"linecolor\":\"white\",\"showbackground\":true,\"ticks\":\"\",\"zerolinecolor\":\"white\"}},\"shapedefaults\":{\"line\":{\"color\":\"#2a3f5f\"}},\"ternary\":{\"aaxis\":{\"gridcolor\":\"white\",\"linecolor\":\"white\",\"ticks\":\"\"},\"baxis\":{\"gridcolor\":\"white\",\"linecolor\":\"white\",\"ticks\":\"\"},\"bgcolor\":\"#E5ECF6\",\"caxis\":{\"gridcolor\":\"white\",\"linecolor\":\"white\",\"ticks\":\"\"}},\"title\":{\"x\":0.05},\"xaxis\":{\"automargin\":true,\"gridcolor\":\"white\",\"linecolor\":\"white\",\"ticks\":\"\",\"title\":{\"standoff\":15},\"zerolinecolor\":\"white\",\"zerolinewidth\":2},\"yaxis\":{\"automargin\":true,\"gridcolor\":\"white\",\"linecolor\":\"white\",\"ticks\":\"\",\"title\":{\"standoff\":15},\"zerolinecolor\":\"white\",\"zerolinewidth\":2}}},\"polar\":{\"domain\":{\"x\":[0.0,1.0],\"y\":[0.0,1.0]},\"angularaxis\":{\"direction\":\"clockwise\",\"rotation\":90}},\"legend\":{\"title\":{\"text\":\"label\"},\"tracegroupgap\":0},\"margin\":{\"t\":60},\"height\":400,\"width\":400,\"autosize\":false},                        {\"responsive\": true}                    ).then(function(){\n",
       "                            \n",
       "var gd = document.getElementById('0ef64816-9427-4f17-bd2b-244a0fbbfaef');\n",
       "var x = new MutationObserver(function (mutations, observer) {{\n",
       "        var display = window.getComputedStyle(gd).display;\n",
       "        if (!display || display === 'none') {{\n",
       "            console.log([gd, 'removed!']);\n",
       "            Plotly.purge(gd);\n",
       "            observer.disconnect();\n",
       "        }}\n",
       "}});\n",
       "\n",
       "// Listen for the removal of the full notebook cells\n",
       "var notebookContainer = gd.closest('#notebook-container');\n",
       "if (notebookContainer) {{\n",
       "    x.observe(notebookContainer, {childList: true});\n",
       "}}\n",
       "\n",
       "// Listen for the clearing of the current output cell\n",
       "var outputEl = gd.closest('.output');\n",
       "if (outputEl) {{\n",
       "    x.observe(outputEl, {childList: true});\n",
       "}}\n",
       "\n",
       "                        })                };                });            </script>        </div>"
      ]
     },
     "metadata": {},
     "output_type": "display_data"
    }
   ],
   "source": [
    "\n",
    "df_scaled = scale(stores_clust_info_combined4, cols1)\n",
    "fig, polars, clusters, scaler = get_kmeans(stores_clust_info_combined4, cols = cols1,n_clusters=4)\n",
    "fig, polars, clusters, scaler = get_clusters(clusters, cols1, clusters['label'])\n",
    "# plt.figure(figsize = (12,10))\n",
    "fig.update_layout(\n",
    "    autosize=False,\n",
    "    width=400,\n",
    "    height=400,)\n",
    "fig.show()\n",
    "\n",
    "# fig.update_layout(\n",
    "#     autosize=False,\n",
    "#     width=600,\n",
    "#     height=600,)\n",
    "# fig.show()\n",
    "\n"
   ]
  },
  {
   "cell_type": "markdown",
   "id": "661685be",
   "metadata": {},
   "source": [
    "Red is large supermarkets and large liquor stores\n",
    "Blue is convenience stores\n",
    "green is in the middle so that is smaller liquor stores and grocery stores"
   ]
  },
  {
   "cell_type": "code",
   "execution_count": null,
   "id": "ff123878",
   "metadata": {},
   "outputs": [],
   "source": []
  },
  {
   "cell_type": "markdown",
   "id": "fdbf0dff",
   "metadata": {},
   "source": [
    "Philippe Heitzmann4:24 PM\n",
    "\n",
    "1. Red = Supermarkets with lots of alcohol variety\n",
    "1. Blue = Smaller bodegas with lower variety that focus much more than other store types on selling popular bottles \n",
    "1. Green = Medium-sized mom and pop stores that carry some but not a ton of variety and exist in the middle between two other groups "
   ]
  },
  {
   "cell_type": "code",
   "execution_count": 52,
   "id": "8bc382c7",
   "metadata": {},
   "outputs": [
    {
     "name": "stderr",
     "output_type": "stream",
     "text": [
      "C:\\Users\\dgarb\\anaconda3_reinstall\\lib\\site-packages\\plotly\\express\\_core.py:271: FutureWarning:\n",
      "\n",
      "The frame.append method is deprecated and will be removed from pandas in a future version. Use pandas.concat instead.\n",
      "\n",
      "C:\\Users\\dgarb\\anaconda3_reinstall\\lib\\site-packages\\plotly\\express\\_core.py:271: FutureWarning:\n",
      "\n",
      "The frame.append method is deprecated and will be removed from pandas in a future version. Use pandas.concat instead.\n",
      "\n",
      "C:\\Users\\dgarb\\anaconda3_reinstall\\lib\\site-packages\\plotly\\express\\_core.py:271: FutureWarning:\n",
      "\n",
      "The frame.append method is deprecated and will be removed from pandas in a future version. Use pandas.concat instead.\n",
      "\n",
      "C:\\Users\\dgarb\\anaconda3_reinstall\\lib\\site-packages\\plotly\\express\\_core.py:271: FutureWarning:\n",
      "\n",
      "The frame.append method is deprecated and will be removed from pandas in a future version. Use pandas.concat instead.\n",
      "\n",
      "C:\\Users\\dgarb\\anaconda3_reinstall\\lib\\site-packages\\plotly\\express\\_core.py:271: FutureWarning:\n",
      "\n",
      "The frame.append method is deprecated and will be removed from pandas in a future version. Use pandas.concat instead.\n",
      "\n",
      "C:\\Users\\dgarb\\anaconda3_reinstall\\lib\\site-packages\\plotly\\express\\_core.py:271: FutureWarning:\n",
      "\n",
      "The frame.append method is deprecated and will be removed from pandas in a future version. Use pandas.concat instead.\n",
      "\n",
      "C:\\Users\\dgarb\\anaconda3_reinstall\\lib\\site-packages\\plotly\\express\\_core.py:271: FutureWarning:\n",
      "\n",
      "The frame.append method is deprecated and will be removed from pandas in a future version. Use pandas.concat instead.\n",
      "\n",
      "C:\\Users\\dgarb\\anaconda3_reinstall\\lib\\site-packages\\plotly\\express\\_core.py:271: FutureWarning:\n",
      "\n",
      "The frame.append method is deprecated and will be removed from pandas in a future version. Use pandas.concat instead.\n",
      "\n"
     ]
    },
    {
     "data": {
      "application/vnd.plotly.v1+json": {
       "config": {
        "plotlyServerURL": "https://plot.ly"
       },
       "data": [
        {
         "hovertemplate": "label=0<br>value=%{r}<br>variable=%{theta}<extra></extra>",
         "legendgroup": "0",
         "line": {
          "color": "#636efa",
          "dash": "solid"
         },
         "marker": {
          "symbol": "circle"
         },
         "mode": "lines",
         "name": "0",
         "r": [
          -0.5568611853588501,
          -0.43854985526472484,
          -0.5000679981884092,
          -0.6343712724056,
          0.7877844624594577,
          -0.6249741534439596,
          -0.5568611853588501
         ],
         "showlegend": true,
         "subplot": "polar",
         "theta": [
          "tot_num_unique_items",
          "rev_Cheap",
          "rev_Moderately_High",
          "rev_Most_Variety",
          "rev_Popular_Bottles",
          "rev_Volume_For_Dollar",
          "tot_num_unique_items"
         ],
         "type": "scatterpolar"
        },
        {
         "hovertemplate": "label=1<br>value=%{r}<br>variable=%{theta}<extra></extra>",
         "legendgroup": "1",
         "line": {
          "color": "#EF553B",
          "dash": "solid"
         },
         "marker": {
          "symbol": "circle"
         },
         "mode": "lines",
         "name": "1",
         "r": [
          2.2644682130538523,
          0.6724024468302507,
          1.266214338006177,
          2.1327547613050233,
          -1.5491047805316531,
          1.0370072215607424,
          2.2644682130538523
         ],
         "showlegend": true,
         "subplot": "polar",
         "theta": [
          "tot_num_unique_items",
          "rev_Cheap",
          "rev_Moderately_High",
          "rev_Most_Variety",
          "rev_Popular_Bottles",
          "rev_Volume_For_Dollar",
          "tot_num_unique_items"
         ],
         "type": "scatterpolar"
        },
        {
         "hovertemplate": "label=2<br>value=%{r}<br>variable=%{theta}<extra></extra>",
         "legendgroup": "2",
         "line": {
          "color": "#00cc96",
          "dash": "solid"
         },
         "marker": {
          "symbol": "circle"
         },
         "mode": "lines",
         "name": "2",
         "r": [
          0.21219721244419731,
          -0.15746337413174624,
          -0.09573886987246821,
          0.4315722104271266,
          -0.6361490512835609,
          1.1346561090327454,
          0.21219721244419731
         ],
         "showlegend": true,
         "subplot": "polar",
         "theta": [
          "tot_num_unique_items",
          "rev_Cheap",
          "rev_Moderately_High",
          "rev_Most_Variety",
          "rev_Popular_Bottles",
          "rev_Volume_For_Dollar",
          "tot_num_unique_items"
         ],
         "type": "scatterpolar"
        },
        {
         "hovertemplate": "label=3<br>value=%{r}<br>variable=%{theta}<extra></extra>",
         "legendgroup": "3",
         "line": {
          "color": "#ab63fa",
          "dash": "solid"
         },
         "marker": {
          "symbol": "circle"
         },
         "mode": "lines",
         "name": "3",
         "r": [
          0.029881537817465238,
          1.6178391442309104,
          1.2545722660873944,
          0.022404746430513954,
          -0.7467482115546579,
          -0.5302925712606757,
          0.029881537817465238
         ],
         "showlegend": true,
         "subplot": "polar",
         "theta": [
          "tot_num_unique_items",
          "rev_Cheap",
          "rev_Moderately_High",
          "rev_Most_Variety",
          "rev_Popular_Bottles",
          "rev_Volume_For_Dollar",
          "tot_num_unique_items"
         ],
         "type": "scatterpolar"
        }
       ],
       "layout": {
        "autosize": false,
        "height": 800,
        "legend": {
         "title": {
          "text": "label"
         },
         "tracegroupgap": 0
        },
        "margin": {
         "t": 60
        },
        "polar": {
         "angularaxis": {
          "direction": "clockwise",
          "rotation": 90
         },
         "domain": {
          "x": [
           0,
           1
          ],
          "y": [
           0,
           1
          ]
         }
        },
        "template": {
         "data": {
          "bar": [
           {
            "error_x": {
             "color": "#2a3f5f"
            },
            "error_y": {
             "color": "#2a3f5f"
            },
            "marker": {
             "line": {
              "color": "#E5ECF6",
              "width": 0.5
             },
             "pattern": {
              "fillmode": "overlay",
              "size": 10,
              "solidity": 0.2
             }
            },
            "type": "bar"
           }
          ],
          "barpolar": [
           {
            "marker": {
             "line": {
              "color": "#E5ECF6",
              "width": 0.5
             },
             "pattern": {
              "fillmode": "overlay",
              "size": 10,
              "solidity": 0.2
             }
            },
            "type": "barpolar"
           }
          ],
          "carpet": [
           {
            "aaxis": {
             "endlinecolor": "#2a3f5f",
             "gridcolor": "white",
             "linecolor": "white",
             "minorgridcolor": "white",
             "startlinecolor": "#2a3f5f"
            },
            "baxis": {
             "endlinecolor": "#2a3f5f",
             "gridcolor": "white",
             "linecolor": "white",
             "minorgridcolor": "white",
             "startlinecolor": "#2a3f5f"
            },
            "type": "carpet"
           }
          ],
          "choropleth": [
           {
            "colorbar": {
             "outlinewidth": 0,
             "ticks": ""
            },
            "type": "choropleth"
           }
          ],
          "contour": [
           {
            "colorbar": {
             "outlinewidth": 0,
             "ticks": ""
            },
            "colorscale": [
             [
              0,
              "#0d0887"
             ],
             [
              0.1111111111111111,
              "#46039f"
             ],
             [
              0.2222222222222222,
              "#7201a8"
             ],
             [
              0.3333333333333333,
              "#9c179e"
             ],
             [
              0.4444444444444444,
              "#bd3786"
             ],
             [
              0.5555555555555556,
              "#d8576b"
             ],
             [
              0.6666666666666666,
              "#ed7953"
             ],
             [
              0.7777777777777778,
              "#fb9f3a"
             ],
             [
              0.8888888888888888,
              "#fdca26"
             ],
             [
              1,
              "#f0f921"
             ]
            ],
            "type": "contour"
           }
          ],
          "contourcarpet": [
           {
            "colorbar": {
             "outlinewidth": 0,
             "ticks": ""
            },
            "type": "contourcarpet"
           }
          ],
          "heatmap": [
           {
            "colorbar": {
             "outlinewidth": 0,
             "ticks": ""
            },
            "colorscale": [
             [
              0,
              "#0d0887"
             ],
             [
              0.1111111111111111,
              "#46039f"
             ],
             [
              0.2222222222222222,
              "#7201a8"
             ],
             [
              0.3333333333333333,
              "#9c179e"
             ],
             [
              0.4444444444444444,
              "#bd3786"
             ],
             [
              0.5555555555555556,
              "#d8576b"
             ],
             [
              0.6666666666666666,
              "#ed7953"
             ],
             [
              0.7777777777777778,
              "#fb9f3a"
             ],
             [
              0.8888888888888888,
              "#fdca26"
             ],
             [
              1,
              "#f0f921"
             ]
            ],
            "type": "heatmap"
           }
          ],
          "heatmapgl": [
           {
            "colorbar": {
             "outlinewidth": 0,
             "ticks": ""
            },
            "colorscale": [
             [
              0,
              "#0d0887"
             ],
             [
              0.1111111111111111,
              "#46039f"
             ],
             [
              0.2222222222222222,
              "#7201a8"
             ],
             [
              0.3333333333333333,
              "#9c179e"
             ],
             [
              0.4444444444444444,
              "#bd3786"
             ],
             [
              0.5555555555555556,
              "#d8576b"
             ],
             [
              0.6666666666666666,
              "#ed7953"
             ],
             [
              0.7777777777777778,
              "#fb9f3a"
             ],
             [
              0.8888888888888888,
              "#fdca26"
             ],
             [
              1,
              "#f0f921"
             ]
            ],
            "type": "heatmapgl"
           }
          ],
          "histogram": [
           {
            "marker": {
             "pattern": {
              "fillmode": "overlay",
              "size": 10,
              "solidity": 0.2
             }
            },
            "type": "histogram"
           }
          ],
          "histogram2d": [
           {
            "colorbar": {
             "outlinewidth": 0,
             "ticks": ""
            },
            "colorscale": [
             [
              0,
              "#0d0887"
             ],
             [
              0.1111111111111111,
              "#46039f"
             ],
             [
              0.2222222222222222,
              "#7201a8"
             ],
             [
              0.3333333333333333,
              "#9c179e"
             ],
             [
              0.4444444444444444,
              "#bd3786"
             ],
             [
              0.5555555555555556,
              "#d8576b"
             ],
             [
              0.6666666666666666,
              "#ed7953"
             ],
             [
              0.7777777777777778,
              "#fb9f3a"
             ],
             [
              0.8888888888888888,
              "#fdca26"
             ],
             [
              1,
              "#f0f921"
             ]
            ],
            "type": "histogram2d"
           }
          ],
          "histogram2dcontour": [
           {
            "colorbar": {
             "outlinewidth": 0,
             "ticks": ""
            },
            "colorscale": [
             [
              0,
              "#0d0887"
             ],
             [
              0.1111111111111111,
              "#46039f"
             ],
             [
              0.2222222222222222,
              "#7201a8"
             ],
             [
              0.3333333333333333,
              "#9c179e"
             ],
             [
              0.4444444444444444,
              "#bd3786"
             ],
             [
              0.5555555555555556,
              "#d8576b"
             ],
             [
              0.6666666666666666,
              "#ed7953"
             ],
             [
              0.7777777777777778,
              "#fb9f3a"
             ],
             [
              0.8888888888888888,
              "#fdca26"
             ],
             [
              1,
              "#f0f921"
             ]
            ],
            "type": "histogram2dcontour"
           }
          ],
          "mesh3d": [
           {
            "colorbar": {
             "outlinewidth": 0,
             "ticks": ""
            },
            "type": "mesh3d"
           }
          ],
          "parcoords": [
           {
            "line": {
             "colorbar": {
              "outlinewidth": 0,
              "ticks": ""
             }
            },
            "type": "parcoords"
           }
          ],
          "pie": [
           {
            "automargin": true,
            "type": "pie"
           }
          ],
          "scatter": [
           {
            "marker": {
             "colorbar": {
              "outlinewidth": 0,
              "ticks": ""
             }
            },
            "type": "scatter"
           }
          ],
          "scatter3d": [
           {
            "line": {
             "colorbar": {
              "outlinewidth": 0,
              "ticks": ""
             }
            },
            "marker": {
             "colorbar": {
              "outlinewidth": 0,
              "ticks": ""
             }
            },
            "type": "scatter3d"
           }
          ],
          "scattercarpet": [
           {
            "marker": {
             "colorbar": {
              "outlinewidth": 0,
              "ticks": ""
             }
            },
            "type": "scattercarpet"
           }
          ],
          "scattergeo": [
           {
            "marker": {
             "colorbar": {
              "outlinewidth": 0,
              "ticks": ""
             }
            },
            "type": "scattergeo"
           }
          ],
          "scattergl": [
           {
            "marker": {
             "colorbar": {
              "outlinewidth": 0,
              "ticks": ""
             }
            },
            "type": "scattergl"
           }
          ],
          "scattermapbox": [
           {
            "marker": {
             "colorbar": {
              "outlinewidth": 0,
              "ticks": ""
             }
            },
            "type": "scattermapbox"
           }
          ],
          "scatterpolar": [
           {
            "marker": {
             "colorbar": {
              "outlinewidth": 0,
              "ticks": ""
             }
            },
            "type": "scatterpolar"
           }
          ],
          "scatterpolargl": [
           {
            "marker": {
             "colorbar": {
              "outlinewidth": 0,
              "ticks": ""
             }
            },
            "type": "scatterpolargl"
           }
          ],
          "scatterternary": [
           {
            "marker": {
             "colorbar": {
              "outlinewidth": 0,
              "ticks": ""
             }
            },
            "type": "scatterternary"
           }
          ],
          "surface": [
           {
            "colorbar": {
             "outlinewidth": 0,
             "ticks": ""
            },
            "colorscale": [
             [
              0,
              "#0d0887"
             ],
             [
              0.1111111111111111,
              "#46039f"
             ],
             [
              0.2222222222222222,
              "#7201a8"
             ],
             [
              0.3333333333333333,
              "#9c179e"
             ],
             [
              0.4444444444444444,
              "#bd3786"
             ],
             [
              0.5555555555555556,
              "#d8576b"
             ],
             [
              0.6666666666666666,
              "#ed7953"
             ],
             [
              0.7777777777777778,
              "#fb9f3a"
             ],
             [
              0.8888888888888888,
              "#fdca26"
             ],
             [
              1,
              "#f0f921"
             ]
            ],
            "type": "surface"
           }
          ],
          "table": [
           {
            "cells": {
             "fill": {
              "color": "#EBF0F8"
             },
             "line": {
              "color": "white"
             }
            },
            "header": {
             "fill": {
              "color": "#C8D4E3"
             },
             "line": {
              "color": "white"
             }
            },
            "type": "table"
           }
          ]
         },
         "layout": {
          "annotationdefaults": {
           "arrowcolor": "#2a3f5f",
           "arrowhead": 0,
           "arrowwidth": 1
          },
          "autotypenumbers": "strict",
          "coloraxis": {
           "colorbar": {
            "outlinewidth": 0,
            "ticks": ""
           }
          },
          "colorscale": {
           "diverging": [
            [
             0,
             "#8e0152"
            ],
            [
             0.1,
             "#c51b7d"
            ],
            [
             0.2,
             "#de77ae"
            ],
            [
             0.3,
             "#f1b6da"
            ],
            [
             0.4,
             "#fde0ef"
            ],
            [
             0.5,
             "#f7f7f7"
            ],
            [
             0.6,
             "#e6f5d0"
            ],
            [
             0.7,
             "#b8e186"
            ],
            [
             0.8,
             "#7fbc41"
            ],
            [
             0.9,
             "#4d9221"
            ],
            [
             1,
             "#276419"
            ]
           ],
           "sequential": [
            [
             0,
             "#0d0887"
            ],
            [
             0.1111111111111111,
             "#46039f"
            ],
            [
             0.2222222222222222,
             "#7201a8"
            ],
            [
             0.3333333333333333,
             "#9c179e"
            ],
            [
             0.4444444444444444,
             "#bd3786"
            ],
            [
             0.5555555555555556,
             "#d8576b"
            ],
            [
             0.6666666666666666,
             "#ed7953"
            ],
            [
             0.7777777777777778,
             "#fb9f3a"
            ],
            [
             0.8888888888888888,
             "#fdca26"
            ],
            [
             1,
             "#f0f921"
            ]
           ],
           "sequentialminus": [
            [
             0,
             "#0d0887"
            ],
            [
             0.1111111111111111,
             "#46039f"
            ],
            [
             0.2222222222222222,
             "#7201a8"
            ],
            [
             0.3333333333333333,
             "#9c179e"
            ],
            [
             0.4444444444444444,
             "#bd3786"
            ],
            [
             0.5555555555555556,
             "#d8576b"
            ],
            [
             0.6666666666666666,
             "#ed7953"
            ],
            [
             0.7777777777777778,
             "#fb9f3a"
            ],
            [
             0.8888888888888888,
             "#fdca26"
            ],
            [
             1,
             "#f0f921"
            ]
           ]
          },
          "colorway": [
           "#636efa",
           "#EF553B",
           "#00cc96",
           "#ab63fa",
           "#FFA15A",
           "#19d3f3",
           "#FF6692",
           "#B6E880",
           "#FF97FF",
           "#FECB52"
          ],
          "font": {
           "color": "#2a3f5f"
          },
          "geo": {
           "bgcolor": "white",
           "lakecolor": "white",
           "landcolor": "#E5ECF6",
           "showlakes": true,
           "showland": true,
           "subunitcolor": "white"
          },
          "hoverlabel": {
           "align": "left"
          },
          "hovermode": "closest",
          "mapbox": {
           "style": "light"
          },
          "paper_bgcolor": "white",
          "plot_bgcolor": "#E5ECF6",
          "polar": {
           "angularaxis": {
            "gridcolor": "white",
            "linecolor": "white",
            "ticks": ""
           },
           "bgcolor": "#E5ECF6",
           "radialaxis": {
            "gridcolor": "white",
            "linecolor": "white",
            "ticks": ""
           }
          },
          "scene": {
           "xaxis": {
            "backgroundcolor": "#E5ECF6",
            "gridcolor": "white",
            "gridwidth": 2,
            "linecolor": "white",
            "showbackground": true,
            "ticks": "",
            "zerolinecolor": "white"
           },
           "yaxis": {
            "backgroundcolor": "#E5ECF6",
            "gridcolor": "white",
            "gridwidth": 2,
            "linecolor": "white",
            "showbackground": true,
            "ticks": "",
            "zerolinecolor": "white"
           },
           "zaxis": {
            "backgroundcolor": "#E5ECF6",
            "gridcolor": "white",
            "gridwidth": 2,
            "linecolor": "white",
            "showbackground": true,
            "ticks": "",
            "zerolinecolor": "white"
           }
          },
          "shapedefaults": {
           "line": {
            "color": "#2a3f5f"
           }
          },
          "ternary": {
           "aaxis": {
            "gridcolor": "white",
            "linecolor": "white",
            "ticks": ""
           },
           "baxis": {
            "gridcolor": "white",
            "linecolor": "white",
            "ticks": ""
           },
           "bgcolor": "#E5ECF6",
           "caxis": {
            "gridcolor": "white",
            "linecolor": "white",
            "ticks": ""
           }
          },
          "title": {
           "x": 0.05
          },
          "xaxis": {
           "automargin": true,
           "gridcolor": "white",
           "linecolor": "white",
           "ticks": "",
           "title": {
            "standoff": 15
           },
           "zerolinecolor": "white",
           "zerolinewidth": 2
          },
          "yaxis": {
           "automargin": true,
           "gridcolor": "white",
           "linecolor": "white",
           "ticks": "",
           "title": {
            "standoff": 15
           },
           "zerolinecolor": "white",
           "zerolinewidth": 2
          }
         }
        },
        "width": 800
       }
      },
      "text/html": [
       "<div>                            <div id=\"8fe47c95-a601-42bc-b2dd-0f2d077b8cf1\" class=\"plotly-graph-div\" style=\"height:800px; width:800px;\"></div>            <script type=\"text/javascript\">                require([\"plotly\"], function(Plotly) {                    window.PLOTLYENV=window.PLOTLYENV || {};                                    if (document.getElementById(\"8fe47c95-a601-42bc-b2dd-0f2d077b8cf1\")) {                    Plotly.newPlot(                        \"8fe47c95-a601-42bc-b2dd-0f2d077b8cf1\",                        [{\"hovertemplate\":\"label=0<br>value=%{r}<br>variable=%{theta}<extra></extra>\",\"legendgroup\":\"0\",\"line\":{\"color\":\"#636efa\",\"dash\":\"solid\"},\"marker\":{\"symbol\":\"circle\"},\"mode\":\"lines\",\"name\":\"0\",\"r\":[-0.5568611853588501,-0.43854985526472484,-0.5000679981884092,-0.6343712724056,0.7877844624594577,-0.6249741534439596,-0.5568611853588501],\"showlegend\":true,\"subplot\":\"polar\",\"theta\":[\"tot_num_unique_items\",\"rev_Cheap\",\"rev_Moderately_High\",\"rev_Most_Variety\",\"rev_Popular_Bottles\",\"rev_Volume_For_Dollar\",\"tot_num_unique_items\"],\"type\":\"scatterpolar\"},{\"hovertemplate\":\"label=1<br>value=%{r}<br>variable=%{theta}<extra></extra>\",\"legendgroup\":\"1\",\"line\":{\"color\":\"#EF553B\",\"dash\":\"solid\"},\"marker\":{\"symbol\":\"circle\"},\"mode\":\"lines\",\"name\":\"1\",\"r\":[2.2644682130538523,0.6724024468302507,1.266214338006177,2.1327547613050233,-1.5491047805316531,1.0370072215607424,2.2644682130538523],\"showlegend\":true,\"subplot\":\"polar\",\"theta\":[\"tot_num_unique_items\",\"rev_Cheap\",\"rev_Moderately_High\",\"rev_Most_Variety\",\"rev_Popular_Bottles\",\"rev_Volume_For_Dollar\",\"tot_num_unique_items\"],\"type\":\"scatterpolar\"},{\"hovertemplate\":\"label=2<br>value=%{r}<br>variable=%{theta}<extra></extra>\",\"legendgroup\":\"2\",\"line\":{\"color\":\"#00cc96\",\"dash\":\"solid\"},\"marker\":{\"symbol\":\"circle\"},\"mode\":\"lines\",\"name\":\"2\",\"r\":[0.21219721244419731,-0.15746337413174624,-0.09573886987246821,0.4315722104271266,-0.6361490512835609,1.1346561090327454,0.21219721244419731],\"showlegend\":true,\"subplot\":\"polar\",\"theta\":[\"tot_num_unique_items\",\"rev_Cheap\",\"rev_Moderately_High\",\"rev_Most_Variety\",\"rev_Popular_Bottles\",\"rev_Volume_For_Dollar\",\"tot_num_unique_items\"],\"type\":\"scatterpolar\"},{\"hovertemplate\":\"label=3<br>value=%{r}<br>variable=%{theta}<extra></extra>\",\"legendgroup\":\"3\",\"line\":{\"color\":\"#ab63fa\",\"dash\":\"solid\"},\"marker\":{\"symbol\":\"circle\"},\"mode\":\"lines\",\"name\":\"3\",\"r\":[0.029881537817465238,1.6178391442309104,1.2545722660873944,0.022404746430513954,-0.7467482115546579,-0.5302925712606757,0.029881537817465238],\"showlegend\":true,\"subplot\":\"polar\",\"theta\":[\"tot_num_unique_items\",\"rev_Cheap\",\"rev_Moderately_High\",\"rev_Most_Variety\",\"rev_Popular_Bottles\",\"rev_Volume_For_Dollar\",\"tot_num_unique_items\"],\"type\":\"scatterpolar\"}],                        {\"template\":{\"data\":{\"bar\":[{\"error_x\":{\"color\":\"#2a3f5f\"},\"error_y\":{\"color\":\"#2a3f5f\"},\"marker\":{\"line\":{\"color\":\"#E5ECF6\",\"width\":0.5},\"pattern\":{\"fillmode\":\"overlay\",\"size\":10,\"solidity\":0.2}},\"type\":\"bar\"}],\"barpolar\":[{\"marker\":{\"line\":{\"color\":\"#E5ECF6\",\"width\":0.5},\"pattern\":{\"fillmode\":\"overlay\",\"size\":10,\"solidity\":0.2}},\"type\":\"barpolar\"}],\"carpet\":[{\"aaxis\":{\"endlinecolor\":\"#2a3f5f\",\"gridcolor\":\"white\",\"linecolor\":\"white\",\"minorgridcolor\":\"white\",\"startlinecolor\":\"#2a3f5f\"},\"baxis\":{\"endlinecolor\":\"#2a3f5f\",\"gridcolor\":\"white\",\"linecolor\":\"white\",\"minorgridcolor\":\"white\",\"startlinecolor\":\"#2a3f5f\"},\"type\":\"carpet\"}],\"choropleth\":[{\"colorbar\":{\"outlinewidth\":0,\"ticks\":\"\"},\"type\":\"choropleth\"}],\"contour\":[{\"colorbar\":{\"outlinewidth\":0,\"ticks\":\"\"},\"colorscale\":[[0.0,\"#0d0887\"],[0.1111111111111111,\"#46039f\"],[0.2222222222222222,\"#7201a8\"],[0.3333333333333333,\"#9c179e\"],[0.4444444444444444,\"#bd3786\"],[0.5555555555555556,\"#d8576b\"],[0.6666666666666666,\"#ed7953\"],[0.7777777777777778,\"#fb9f3a\"],[0.8888888888888888,\"#fdca26\"],[1.0,\"#f0f921\"]],\"type\":\"contour\"}],\"contourcarpet\":[{\"colorbar\":{\"outlinewidth\":0,\"ticks\":\"\"},\"type\":\"contourcarpet\"}],\"heatmap\":[{\"colorbar\":{\"outlinewidth\":0,\"ticks\":\"\"},\"colorscale\":[[0.0,\"#0d0887\"],[0.1111111111111111,\"#46039f\"],[0.2222222222222222,\"#7201a8\"],[0.3333333333333333,\"#9c179e\"],[0.4444444444444444,\"#bd3786\"],[0.5555555555555556,\"#d8576b\"],[0.6666666666666666,\"#ed7953\"],[0.7777777777777778,\"#fb9f3a\"],[0.8888888888888888,\"#fdca26\"],[1.0,\"#f0f921\"]],\"type\":\"heatmap\"}],\"heatmapgl\":[{\"colorbar\":{\"outlinewidth\":0,\"ticks\":\"\"},\"colorscale\":[[0.0,\"#0d0887\"],[0.1111111111111111,\"#46039f\"],[0.2222222222222222,\"#7201a8\"],[0.3333333333333333,\"#9c179e\"],[0.4444444444444444,\"#bd3786\"],[0.5555555555555556,\"#d8576b\"],[0.6666666666666666,\"#ed7953\"],[0.7777777777777778,\"#fb9f3a\"],[0.8888888888888888,\"#fdca26\"],[1.0,\"#f0f921\"]],\"type\":\"heatmapgl\"}],\"histogram\":[{\"marker\":{\"pattern\":{\"fillmode\":\"overlay\",\"size\":10,\"solidity\":0.2}},\"type\":\"histogram\"}],\"histogram2d\":[{\"colorbar\":{\"outlinewidth\":0,\"ticks\":\"\"},\"colorscale\":[[0.0,\"#0d0887\"],[0.1111111111111111,\"#46039f\"],[0.2222222222222222,\"#7201a8\"],[0.3333333333333333,\"#9c179e\"],[0.4444444444444444,\"#bd3786\"],[0.5555555555555556,\"#d8576b\"],[0.6666666666666666,\"#ed7953\"],[0.7777777777777778,\"#fb9f3a\"],[0.8888888888888888,\"#fdca26\"],[1.0,\"#f0f921\"]],\"type\":\"histogram2d\"}],\"histogram2dcontour\":[{\"colorbar\":{\"outlinewidth\":0,\"ticks\":\"\"},\"colorscale\":[[0.0,\"#0d0887\"],[0.1111111111111111,\"#46039f\"],[0.2222222222222222,\"#7201a8\"],[0.3333333333333333,\"#9c179e\"],[0.4444444444444444,\"#bd3786\"],[0.5555555555555556,\"#d8576b\"],[0.6666666666666666,\"#ed7953\"],[0.7777777777777778,\"#fb9f3a\"],[0.8888888888888888,\"#fdca26\"],[1.0,\"#f0f921\"]],\"type\":\"histogram2dcontour\"}],\"mesh3d\":[{\"colorbar\":{\"outlinewidth\":0,\"ticks\":\"\"},\"type\":\"mesh3d\"}],\"parcoords\":[{\"line\":{\"colorbar\":{\"outlinewidth\":0,\"ticks\":\"\"}},\"type\":\"parcoords\"}],\"pie\":[{\"automargin\":true,\"type\":\"pie\"}],\"scatter\":[{\"marker\":{\"colorbar\":{\"outlinewidth\":0,\"ticks\":\"\"}},\"type\":\"scatter\"}],\"scatter3d\":[{\"line\":{\"colorbar\":{\"outlinewidth\":0,\"ticks\":\"\"}},\"marker\":{\"colorbar\":{\"outlinewidth\":0,\"ticks\":\"\"}},\"type\":\"scatter3d\"}],\"scattercarpet\":[{\"marker\":{\"colorbar\":{\"outlinewidth\":0,\"ticks\":\"\"}},\"type\":\"scattercarpet\"}],\"scattergeo\":[{\"marker\":{\"colorbar\":{\"outlinewidth\":0,\"ticks\":\"\"}},\"type\":\"scattergeo\"}],\"scattergl\":[{\"marker\":{\"colorbar\":{\"outlinewidth\":0,\"ticks\":\"\"}},\"type\":\"scattergl\"}],\"scattermapbox\":[{\"marker\":{\"colorbar\":{\"outlinewidth\":0,\"ticks\":\"\"}},\"type\":\"scattermapbox\"}],\"scatterpolar\":[{\"marker\":{\"colorbar\":{\"outlinewidth\":0,\"ticks\":\"\"}},\"type\":\"scatterpolar\"}],\"scatterpolargl\":[{\"marker\":{\"colorbar\":{\"outlinewidth\":0,\"ticks\":\"\"}},\"type\":\"scatterpolargl\"}],\"scatterternary\":[{\"marker\":{\"colorbar\":{\"outlinewidth\":0,\"ticks\":\"\"}},\"type\":\"scatterternary\"}],\"surface\":[{\"colorbar\":{\"outlinewidth\":0,\"ticks\":\"\"},\"colorscale\":[[0.0,\"#0d0887\"],[0.1111111111111111,\"#46039f\"],[0.2222222222222222,\"#7201a8\"],[0.3333333333333333,\"#9c179e\"],[0.4444444444444444,\"#bd3786\"],[0.5555555555555556,\"#d8576b\"],[0.6666666666666666,\"#ed7953\"],[0.7777777777777778,\"#fb9f3a\"],[0.8888888888888888,\"#fdca26\"],[1.0,\"#f0f921\"]],\"type\":\"surface\"}],\"table\":[{\"cells\":{\"fill\":{\"color\":\"#EBF0F8\"},\"line\":{\"color\":\"white\"}},\"header\":{\"fill\":{\"color\":\"#C8D4E3\"},\"line\":{\"color\":\"white\"}},\"type\":\"table\"}]},\"layout\":{\"annotationdefaults\":{\"arrowcolor\":\"#2a3f5f\",\"arrowhead\":0,\"arrowwidth\":1},\"autotypenumbers\":\"strict\",\"coloraxis\":{\"colorbar\":{\"outlinewidth\":0,\"ticks\":\"\"}},\"colorscale\":{\"diverging\":[[0,\"#8e0152\"],[0.1,\"#c51b7d\"],[0.2,\"#de77ae\"],[0.3,\"#f1b6da\"],[0.4,\"#fde0ef\"],[0.5,\"#f7f7f7\"],[0.6,\"#e6f5d0\"],[0.7,\"#b8e186\"],[0.8,\"#7fbc41\"],[0.9,\"#4d9221\"],[1,\"#276419\"]],\"sequential\":[[0.0,\"#0d0887\"],[0.1111111111111111,\"#46039f\"],[0.2222222222222222,\"#7201a8\"],[0.3333333333333333,\"#9c179e\"],[0.4444444444444444,\"#bd3786\"],[0.5555555555555556,\"#d8576b\"],[0.6666666666666666,\"#ed7953\"],[0.7777777777777778,\"#fb9f3a\"],[0.8888888888888888,\"#fdca26\"],[1.0,\"#f0f921\"]],\"sequentialminus\":[[0.0,\"#0d0887\"],[0.1111111111111111,\"#46039f\"],[0.2222222222222222,\"#7201a8\"],[0.3333333333333333,\"#9c179e\"],[0.4444444444444444,\"#bd3786\"],[0.5555555555555556,\"#d8576b\"],[0.6666666666666666,\"#ed7953\"],[0.7777777777777778,\"#fb9f3a\"],[0.8888888888888888,\"#fdca26\"],[1.0,\"#f0f921\"]]},\"colorway\":[\"#636efa\",\"#EF553B\",\"#00cc96\",\"#ab63fa\",\"#FFA15A\",\"#19d3f3\",\"#FF6692\",\"#B6E880\",\"#FF97FF\",\"#FECB52\"],\"font\":{\"color\":\"#2a3f5f\"},\"geo\":{\"bgcolor\":\"white\",\"lakecolor\":\"white\",\"landcolor\":\"#E5ECF6\",\"showlakes\":true,\"showland\":true,\"subunitcolor\":\"white\"},\"hoverlabel\":{\"align\":\"left\"},\"hovermode\":\"closest\",\"mapbox\":{\"style\":\"light\"},\"paper_bgcolor\":\"white\",\"plot_bgcolor\":\"#E5ECF6\",\"polar\":{\"angularaxis\":{\"gridcolor\":\"white\",\"linecolor\":\"white\",\"ticks\":\"\"},\"bgcolor\":\"#E5ECF6\",\"radialaxis\":{\"gridcolor\":\"white\",\"linecolor\":\"white\",\"ticks\":\"\"}},\"scene\":{\"xaxis\":{\"backgroundcolor\":\"#E5ECF6\",\"gridcolor\":\"white\",\"gridwidth\":2,\"linecolor\":\"white\",\"showbackground\":true,\"ticks\":\"\",\"zerolinecolor\":\"white\"},\"yaxis\":{\"backgroundcolor\":\"#E5ECF6\",\"gridcolor\":\"white\",\"gridwidth\":2,\"linecolor\":\"white\",\"showbackground\":true,\"ticks\":\"\",\"zerolinecolor\":\"white\"},\"zaxis\":{\"backgroundcolor\":\"#E5ECF6\",\"gridcolor\":\"white\",\"gridwidth\":2,\"linecolor\":\"white\",\"showbackground\":true,\"ticks\":\"\",\"zerolinecolor\":\"white\"}},\"shapedefaults\":{\"line\":{\"color\":\"#2a3f5f\"}},\"ternary\":{\"aaxis\":{\"gridcolor\":\"white\",\"linecolor\":\"white\",\"ticks\":\"\"},\"baxis\":{\"gridcolor\":\"white\",\"linecolor\":\"white\",\"ticks\":\"\"},\"bgcolor\":\"#E5ECF6\",\"caxis\":{\"gridcolor\":\"white\",\"linecolor\":\"white\",\"ticks\":\"\"}},\"title\":{\"x\":0.05},\"xaxis\":{\"automargin\":true,\"gridcolor\":\"white\",\"linecolor\":\"white\",\"ticks\":\"\",\"title\":{\"standoff\":15},\"zerolinecolor\":\"white\",\"zerolinewidth\":2},\"yaxis\":{\"automargin\":true,\"gridcolor\":\"white\",\"linecolor\":\"white\",\"ticks\":\"\",\"title\":{\"standoff\":15},\"zerolinecolor\":\"white\",\"zerolinewidth\":2}}},\"polar\":{\"domain\":{\"x\":[0.0,1.0],\"y\":[0.0,1.0]},\"angularaxis\":{\"direction\":\"clockwise\",\"rotation\":90}},\"legend\":{\"title\":{\"text\":\"label\"},\"tracegroupgap\":0},\"margin\":{\"t\":60},\"height\":800,\"width\":800,\"autosize\":false},                        {\"responsive\": true}                    ).then(function(){\n",
       "                            \n",
       "var gd = document.getElementById('8fe47c95-a601-42bc-b2dd-0f2d077b8cf1');\n",
       "var x = new MutationObserver(function (mutations, observer) {{\n",
       "        var display = window.getComputedStyle(gd).display;\n",
       "        if (!display || display === 'none') {{\n",
       "            console.log([gd, 'removed!']);\n",
       "            Plotly.purge(gd);\n",
       "            observer.disconnect();\n",
       "        }}\n",
       "}});\n",
       "\n",
       "// Listen for the removal of the full notebook cells\n",
       "var notebookContainer = gd.closest('#notebook-container');\n",
       "if (notebookContainer) {{\n",
       "    x.observe(notebookContainer, {childList: true});\n",
       "}}\n",
       "\n",
       "// Listen for the clearing of the current output cell\n",
       "var outputEl = gd.closest('.output');\n",
       "if (outputEl) {{\n",
       "    x.observe(outputEl, {childList: true});\n",
       "}}\n",
       "\n",
       "                        })                };                });            </script>        </div>"
      ]
     },
     "metadata": {},
     "output_type": "display_data"
    }
   ],
   "source": [
    "cols1 = ['tot_num_unique_items',\n",
    " 'rev_Cheap',\n",
    " 'rev_Moderately_High',\n",
    " 'rev_Most_Variety',\n",
    " 'rev_Popular_Bottles',\n",
    " 'rev_Volume_For_Dollar']\n",
    "\n",
    "\n",
    "df_scaled = scale(stores_clust_info_combined4, cols1)\n",
    "fig, polars, clusters, scaler = get_kmeans(stores_clust_info_combined4, cols = cols1,n_clusters=4)\n",
    "fig, polars, clusters, scaler = get_clusters(clusters, cols1, clusters['label'])\n",
    "# plt.figure(figsize = (12,10))\n",
    "fig.update_layout(\n",
    "    autosize=False,\n",
    "    width=800,\n",
    "    height=800,)\n",
    "fig.show()\n",
    "\n",
    "# fig.update_layout(\n",
    "#     autosize=False,\n",
    "#     width=600,\n",
    "#     height=600,)\n",
    "# fig.show()"
   ]
  },
  {
   "cell_type": "markdown",
   "id": "49aa5857",
   "metadata": {},
   "source": [
    "1. Red supermarkets and liquor stores with a larger variety "
   ]
  },
  {
   "cell_type": "code",
   "execution_count": null,
   "id": "7e6109cd",
   "metadata": {},
   "outputs": [],
   "source": [
    "\n",
    "\n",
    "\n",
    "cluster_cols = ['tot_num_unique_items_scaled',\n",
    " 'rev_Cheap_scaled',\n",
    " 'rev_Moderately_High_scaled',\n",
    " 'rev_Most_Variety_scaled',\n",
    " 'rev_Popular_Bottles_scaled',\n",
    " 'rev_Volume_For_Dollar_scaled']\n",
    "\n",
    "model = KMeans(n_clusters=4, random_state=42)\n",
    "\n",
    "model.fit(stores_clust_info_combined4[cluster_cols])\n",
    "\n",
    "stores_clust_info_combined4['label'] = model.predict(stores_clust_info_combined4[cluster_cols])"
   ]
  },
  {
   "cell_type": "code",
   "execution_count": null,
   "id": "766c4e2c",
   "metadata": {},
   "outputs": [],
   "source": [
    "stores_clust_info_combined4.groupby(['label']).agg({'Store_Number':'count','store_revenue_scaled':['mean','median','std'],\n",
    "                                                    'tot_num_unique_items_scaled':['mean','median','std'],\n",
    " 'rev_Cheap_scaled':['mean','median','std'],\n",
    " 'rev_Moderately_High_scaled':['mean','median','std'],\n",
    " 'rev_Most_Variety_scaled':['mean','median','std'],\n",
    " 'rev_Popular_Bottles_scaled':['mean','median','std'],\n",
    " 'rev_Volume_For_Dollar_scaled':['mean','median','std'],})"
   ]
  },
  {
   "cell_type": "code",
   "execution_count": null,
   "id": "43cf18ee",
   "metadata": {},
   "outputs": [],
   "source": [
    "stores_clust_info_combined4.groupby(['label']).agg({'Store_Number':'count','store_revenue':['mean','median','std'],\n",
    "                                                    'tot_num_unique_items':['mean','median','std'],\n",
    " 'rev_Cheap':['mean','median','std'],\n",
    " 'rev_Moderately_High':['mean','median','std'],\n",
    " 'rev_Most_Variety':['mean','median','std'],\n",
    " 'rev_Popular_Bottles':['mean','median','std'],\n",
    " 'rev_Volume_For_Dollar':['mean','median','std'],})"
   ]
  },
  {
   "cell_type": "code",
   "execution_count": null,
   "id": "860225c4",
   "metadata": {},
   "outputs": [],
   "source": [
    "df = pd.DataFrame(np.random.randint(0,100,size=(100, 4)), columns=list('ABCD'))\n",
    "cols1 = ['A','B','C','D']\n",
    "df_scaled = scale(df, cols1)\n",
    "fig, polars, clusters, scaler = get_kmeans(df, cols = cols1)\n",
    "fig, polars, clusters, scaler = get_clusters(clusters, cols1, clusters['label'])\n",
    "plt.figure(figsize = (12,10))\n",
    "fig.show()"
   ]
  },
  {
   "cell_type": "code",
   "execution_count": null,
   "id": "cdd2772d",
   "metadata": {},
   "outputs": [],
   "source": []
  },
  {
   "cell_type": "code",
   "execution_count": null,
   "id": "c18dcb6d",
   "metadata": {},
   "outputs": [],
   "source": [
    "cluster_cols = ['tot_num_unique_items_scaled',       \n",
    " 'rev_Cheap_scaled',\n",
    " 'rev_Moderately_High_scaled',\n",
    " 'rev_Most_Variety_scaled',\n",
    " 'rev_Popular_Bottles_scaled',\n",
    " 'rev_Volume_For_Dollar_scaled']\n",
    "\n",
    "df_scaled = stores_clust_info_combined4[cluster_cols]\n",
    "\n",
    "inertia_scores = []\n",
    "\n",
    "for clust in range(2,6):\n",
    "    inertia = KMeans(n_clusters=clust, random_state=42)\\\n",
    "              .fit(df_scaled).inertia_\n",
    "    inertia_scores.append(inertia)"
   ]
  },
  {
   "cell_type": "code",
   "execution_count": null,
   "id": "04fc19eb",
   "metadata": {},
   "outputs": [],
   "source": [
    "plt.plot(range(2,6), inertia_scores)\n",
    "plt.title(\"Inertia vs. number of clusters\")\n",
    "plt.xlabel(\"Number of clusters: K\")\n",
    "plt.ylabel('Inertia')\n",
    "plt.show()"
   ]
  },
  {
   "cell_type": "code",
   "execution_count": null,
   "id": "44b1d8e8",
   "metadata": {},
   "outputs": [],
   "source": [
    "inertia_scores = []\n",
    "\n",
    "for clust in range(2,11):\n",
    "    inertia = KMeans(n_clusters=clust, random_state=42)\\\n",
    "              .fit(df_scaled).inertia_\n",
    "    inertia_scores.append(inertia)"
   ]
  },
  {
   "cell_type": "code",
   "execution_count": null,
   "id": "a324e502",
   "metadata": {},
   "outputs": [],
   "source": []
  },
  {
   "cell_type": "code",
   "execution_count": null,
   "id": "b12b8ef8",
   "metadata": {},
   "outputs": [],
   "source": [
    "plt.plot(range(2,11), inertia_scores)\n",
    "plt.title(\"Inertia vs. number of clusters\")\n",
    "plt.xlabel(\"Number of clusters: K\")\n",
    "plt.ylabel('Inertia')\n",
    "plt.show()"
   ]
  },
  {
   "cell_type": "code",
   "execution_count": null,
   "id": "a2735706",
   "metadata": {},
   "outputs": [],
   "source": [
    "stop"
   ]
  },
  {
   "cell_type": "code",
   "execution_count": null,
   "id": "00fbe3f7",
   "metadata": {},
   "outputs": [],
   "source": [
    "cluster_cols = ['tot_num_unique_items_scaled',\n",
    " 'rev_Cheap_scaled',\n",
    " 'rev_Moderately_High_scaled',\n",
    " 'rev_Most_Variety_scaled',\n",
    " 'rev_Popular_Bottles_scaled',\n",
    " 'rev_Volume_For_Dollar_scaled', \n",
    " 'cl_Cheap_scaled',\n",
    " 'cl_High_End_scaled',\n",
    " 'cl_Moderately_High_scaled',\n",
    " 'cl_Most_Variety_scaled',\n",
    " 'cl_Popular_Bottles_scaled',\n",
    " \n",
    " 'cl_Volume_For_Dollar_scaled']\n",
    "\n",
    "model = KMeans(n_clusters=2, random_state=42)\n",
    "\n",
    "model.fit(stores_clust_info_combined4[cluster_cols])\n",
    "\n",
    "stores_clust_info_combined4['n_clusters_2'] = model.predict(stores_clust_info_combined4[cluster_cols])"
   ]
  },
  {
   "cell_type": "code",
   "execution_count": null,
   "id": "13215bde",
   "metadata": {},
   "outputs": [],
   "source": [
    "pd.set_option('display.max_columns', None)\n",
    "\n",
    "pd.set_option('display.max_rows', None)"
   ]
  },
  {
   "cell_type": "code",
   "execution_count": null,
   "id": "bf2710c6",
   "metadata": {},
   "outputs": [],
   "source": [
    "stores_clust_info_combined4.groupby(['n_clusters_2']).agg({'tot_num_unique_items':['mean','median'],\n",
    "                                                         'rev_Cheap':['mean','median'],\n",
    "                                                          'rev_Moderately_High':['mean','median'],\n",
    "                                                          'rev_Most_Variety':['mean','median'],\n",
    "                                                          'rev_Popular_Bottles':['mean','median'],\n",
    "                                                          'rev_Volume_For_Dollar':['mean','median'],\n",
    "                                                          'cl_Cheap':['mean','median'],\n",
    "                                                          'cl_High_End':['mean','median'],\n",
    "                                                          'cl_Moderately_High':['mean','median'],\n",
    "                                                          'cl_Most_Variety':['mean','median'],\n",
    "                                                          'cl_Popular_Bottles':['mean','median'],\n",
    "                                                          \n",
    "                                                          'cl_Volume_For_Dollar':['mean','median']})"
   ]
  },
  {
   "cell_type": "code",
   "execution_count": null,
   "id": "cc0416c7",
   "metadata": {},
   "outputs": [],
   "source": [
    "# cluster_cols = ['tot_num_unique_items_scaled',\n",
    "#  'rev_Cheap_scaled',\n",
    "#  'rev_Moderately_High_scaled',\n",
    "#  'rev_Most_Variety_scaled',\n",
    "#  'rev_Popular_Bottles_scaled',\n",
    "#  'rev_Volume_For_Dollar_scaled', \n",
    "#  'cl_Cheap_scaled',\n",
    "#  'cl_High_End_scaled',\n",
    "#  'cl_Moderately_High_scaled',\n",
    "#  'cl_Most_Variety_scaled',\n",
    "#  'cl_Popular_Bottles_scaled',\n",
    " \n",
    "#  'cl_Volume_For_Dollar_scaled']\n",
    "\n",
    "# model = KMeans(n_clusters=4, random_state=42)\n",
    "\n",
    "# model.fit(stores_clust_info_combined2[cluster_cols])\n",
    "\n",
    "# stores_clust_info_combined2['n_clusters_4'] = model.predict(stores_clust_info_combined2[cluster_cols])"
   ]
  },
  {
   "cell_type": "code",
   "execution_count": null,
   "id": "ad5aa9ef",
   "metadata": {},
   "outputs": [],
   "source": [
    "stores_clust_info_combined4.groupby(['n_clusters_2']).agg({'Store_Number':'count','num_unique_clusters':['mean','median','std'],'tot_num_unique_items':['mean','median','std'],\n",
    "                                                         'rev_Cheap':['mean','median','std'],\n",
    "                                                           'rev_High_End':['mean','median','std'],\n",
    "                                                          'rev_Moderately_High':['mean','median','std'],\n",
    "                                                          'rev_Most_Variety':['mean','median','std'],\n",
    "                                                          'rev_Popular_Bottles':['mean','median','std'],\n",
    "                                                          'rev_Volume_For_Dollar':['mean','median','std'],\n",
    "                                                          'cl_Cheap':['mean','median','std'],\n",
    "                                                         'cl_High_End':['mean','median','std'],\n",
    "                                                          'cl_Moderately_High':['mean','median','std'],\n",
    "                                                          'cl_Most_Variety':['mean','median','std'],\n",
    "                                                          'cl_Popular_Bottles':['mean','median','std'],\n",
    "                                                          \n",
    "                                                          'cl_Volume_For_Dollar':['mean','median','std']})"
   ]
  },
  {
   "cell_type": "code",
   "execution_count": null,
   "id": "06e9a477",
   "metadata": {},
   "outputs": [],
   "source": [
    "cols = ['Store_Name',  'City', 'Zip_Code',\n",
    "        'County', \n",
    "       'store_revenue', 'tot_num_unique_items', 'num_unique_clusters',\n",
    "       'tot_item_count', 'rev_Cheap', 'rev_High_End', 'rev_Moderately_High',\n",
    "       'rev_Most_Variety', 'rev_Popular_Bottles', \n",
    "       'rev_Volume_For_Dollar', 'cl_Cheap', 'cl_High_End',\n",
    "       'cl_Moderately_High', 'cl_Most_Variety', 'cl_Popular_Bottles',\n",
    "       'cl_Quick_Shots', 'cl_Volume_For_Dollar']"
   ]
  },
  {
   "cell_type": "code",
   "execution_count": null,
   "id": "99304b43",
   "metadata": {},
   "outputs": [],
   "source": [
    "stores_clust_info_combined4.loc[stores_clust_info_combined4.n_clusters_2==1,cols]"
   ]
  },
  {
   "cell_type": "code",
   "execution_count": null,
   "id": "80ccfb99",
   "metadata": {},
   "outputs": [],
   "source": [
    "clust1_of_2_no_outlier_stores = stores_clust_info_combined4.loc[stores_clust_info_combined4.n_clusters_2==1,cols]"
   ]
  },
  {
   "cell_type": "code",
   "execution_count": null,
   "id": "06739976",
   "metadata": {},
   "outputs": [],
   "source": [
    "clust1_of_2_no_outlier_stores.to_csv(r'C:\\Users\\dgarb\\OneDrive\\Desktop\\Capstone Data\\liquor_2021\\clust1_of_2_no_outlier_stores.csv')"
   ]
  },
  {
   "cell_type": "code",
   "execution_count": null,
   "id": "d29ff61a",
   "metadata": {},
   "outputs": [],
   "source": [
    "# stores_clust_info_combined3 = stores_clust_info_combined2.copy()"
   ]
  },
  {
   "cell_type": "code",
   "execution_count": null,
   "id": "1f47066b",
   "metadata": {},
   "outputs": [],
   "source": [
    "# stores_clust_info_combined3.to_csv(r'C:\\Users\\dgarb\\OneDrive\\Desktop\\Capstone Data\\liquor_2021\\stores_clust_info_combined3.csv')"
   ]
  }
 ],
 "metadata": {
  "kernelspec": {
   "display_name": "Python 3 (ipykernel)",
   "language": "python",
   "name": "python3"
  },
  "language_info": {
   "codemirror_mode": {
    "name": "ipython",
    "version": 3
   },
   "file_extension": ".py",
   "mimetype": "text/x-python",
   "name": "python",
   "nbconvert_exporter": "python",
   "pygments_lexer": "ipython3",
   "version": "3.9.7"
  }
 },
 "nbformat": 4,
 "nbformat_minor": 5
}

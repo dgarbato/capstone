{
 "cells": [
  {
   "cell_type": "code",
   "execution_count": 1,
   "id": "ea92d26f",
   "metadata": {},
   "outputs": [],
   "source": [
    "import pandas as pd\n",
    "import numpy as np"
   ]
  },
  {
   "cell_type": "code",
   "execution_count": 2,
   "id": "2fa45e0f",
   "metadata": {},
   "outputs": [],
   "source": [
    "import matplotlib.pyplot as plt\n",
    "%matplotlib inline\n",
    "import seaborn as sns"
   ]
  },
  {
   "cell_type": "code",
   "execution_count": 3,
   "id": "f4ed9874",
   "metadata": {},
   "outputs": [],
   "source": [
    "from sklearn.preprocessing import StandardScaler\n",
    "from sklearn.cluster import KMeans"
   ]
  },
  {
   "cell_type": "code",
   "execution_count": 4,
   "id": "d3137375",
   "metadata": {},
   "outputs": [],
   "source": [
    "from freq_pd import proc_freq"
   ]
  },
  {
   "cell_type": "code",
   "execution_count": 5,
   "id": "8a110ce5",
   "metadata": {},
   "outputs": [],
   "source": [
    "prod_clusters = pd.read_csv(r'C:\\Users\\dgarb\\OneDrive\\Desktop\\Capstone Data\\liquor_2021\\product_clusters.csv',dtype={'Item_Number':str}, index_col=0)"
   ]
  },
  {
   "cell_type": "code",
   "execution_count": 6,
   "id": "ede17eee",
   "metadata": {},
   "outputs": [],
   "source": [
    "pdtypes = {'Item Number':str,'Vendor':str}"
   ]
  },
  {
   "cell_type": "code",
   "execution_count": 7,
   "id": "0d11efb0",
   "metadata": {},
   "outputs": [],
   "source": [
    "# products_iowa = pd.read_csv(r'C:\\Users\\dgarb\\OneDrive\\Desktop\\Capstone Data\\Iowa_Liquor_Products(1).csv',dtype=pdtypes)"
   ]
  },
  {
   "cell_type": "code",
   "execution_count": 8,
   "id": "bacd21f7",
   "metadata": {},
   "outputs": [],
   "source": [
    "# products_iowa.rename({'Item Description':'Item_Description'} ,axis=1, inplace=True)"
   ]
  },
  {
   "cell_type": "code",
   "execution_count": 9,
   "id": "1d3cfc5e",
   "metadata": {},
   "outputs": [],
   "source": [
    "# products_iowa.info()"
   ]
  },
  {
   "cell_type": "code",
   "execution_count": 10,
   "id": "e97acab4",
   "metadata": {},
   "outputs": [],
   "source": [
    "# products_iowa.head()"
   ]
  },
  {
   "cell_type": "code",
   "execution_count": 11,
   "id": "9b98a9f6",
   "metadata": {},
   "outputs": [],
   "source": [
    "# products_iowa.drop(columns=['UPC','SCC',])"
   ]
  },
  {
   "cell_type": "code",
   "execution_count": 12,
   "id": "e742433d",
   "metadata": {},
   "outputs": [],
   "source": [
    "# proc_freq(products_iowa,'Age') 96% have age zero"
   ]
  },
  {
   "cell_type": "code",
   "execution_count": 13,
   "id": "22e04652",
   "metadata": {},
   "outputs": [],
   "source": [
    "# item_trans_category = item_trans_category.merge(products, how='inner', on=['Item_Number','Category'])"
   ]
  },
  {
   "cell_type": "code",
   "execution_count": 14,
   "id": "734da387",
   "metadata": {},
   "outputs": [],
   "source": [
    "# prod_clusters_iowa = prod_clusters.merge(products_iowa, how='inner',on=['Item Description'])"
   ]
  },
  {
   "cell_type": "code",
   "execution_count": 15,
   "id": "c753bfee",
   "metadata": {},
   "outputs": [
    {
     "name": "stdout",
     "output_type": "stream",
     "text": [
      "<class 'pandas.core.frame.DataFrame'>\n",
      "Int64Index: 4464 entries, 1 to 4470\n",
      "Data columns (total 10 columns):\n",
      " #   Column              Non-Null Count  Dtype  \n",
      "---  ------              --------------  -----  \n",
      " 0   Category            4464 non-null   int64  \n",
      " 1   New_Category_Name   4464 non-null   object \n",
      " 2   Item_Number         4464 non-null   object \n",
      " 3   Item_Description    4464 non-null   object \n",
      " 4   Bottle_Volume       4464 non-null   int64  \n",
      " 5   Bottle_Retail       4464 non-null   float64\n",
      " 6   Bottles_Sold        4464 non-null   int64  \n",
      " 7   cluster_name        4464 non-null   object \n",
      " 8   revenue             4464 non-null   float64\n",
      " 9   Num_Stores_Selling  4464 non-null   int64  \n",
      "dtypes: float64(2), int64(4), object(4)\n",
      "memory usage: 383.6+ KB\n"
     ]
    }
   ],
   "source": [
    "prod_clusters.info()"
   ]
  },
  {
   "cell_type": "code",
   "execution_count": 16,
   "id": "d7279daf",
   "metadata": {},
   "outputs": [
    {
     "data": {
      "text/html": [
       "<div>\n",
       "<style scoped>\n",
       "    .dataframe tbody tr th:only-of-type {\n",
       "        vertical-align: middle;\n",
       "    }\n",
       "\n",
       "    .dataframe tbody tr th {\n",
       "        vertical-align: top;\n",
       "    }\n",
       "\n",
       "    .dataframe thead th {\n",
       "        text-align: right;\n",
       "    }\n",
       "</style>\n",
       "<table border=\"1\" class=\"dataframe\">\n",
       "  <thead>\n",
       "    <tr style=\"text-align: right;\">\n",
       "      <th></th>\n",
       "      <th>Category</th>\n",
       "      <th>Bottle_Volume</th>\n",
       "      <th>Bottle_Retail</th>\n",
       "      <th>Bottles_Sold</th>\n",
       "      <th>revenue</th>\n",
       "      <th>Num_Stores_Selling</th>\n",
       "    </tr>\n",
       "  </thead>\n",
       "  <tbody>\n",
       "    <tr>\n",
       "      <th>count</th>\n",
       "      <td>4.464000e+03</td>\n",
       "      <td>4464.000000</td>\n",
       "      <td>4464.000000</td>\n",
       "      <td>4464.000000</td>\n",
       "      <td>4.464000e+03</td>\n",
       "      <td>4464.000000</td>\n",
       "    </tr>\n",
       "    <tr>\n",
       "      <th>mean</th>\n",
       "      <td>1.136631e+06</td>\n",
       "      <td>790.209005</td>\n",
       "      <td>30.117323</td>\n",
       "      <td>6475.495296</td>\n",
       "      <td>9.606956e+04</td>\n",
       "      <td>125.280914</td>\n",
       "    </tr>\n",
       "    <tr>\n",
       "      <th>std</th>\n",
       "      <td>2.541399e+05</td>\n",
       "      <td>399.728629</td>\n",
       "      <td>41.034842</td>\n",
       "      <td>24393.595460</td>\n",
       "      <td>3.939312e+05</td>\n",
       "      <td>214.128669</td>\n",
       "    </tr>\n",
       "    <tr>\n",
       "      <th>min</th>\n",
       "      <td>1.011000e+06</td>\n",
       "      <td>20.000000</td>\n",
       "      <td>0.990000</td>\n",
       "      <td>1.000000</td>\n",
       "      <td>7.500000e+00</td>\n",
       "      <td>1.000000</td>\n",
       "    </tr>\n",
       "    <tr>\n",
       "      <th>25%</th>\n",
       "      <td>1.012300e+06</td>\n",
       "      <td>750.000000</td>\n",
       "      <td>11.810000</td>\n",
       "      <td>53.000000</td>\n",
       "      <td>1.402020e+03</td>\n",
       "      <td>3.000000</td>\n",
       "    </tr>\n",
       "    <tr>\n",
       "      <th>50%</th>\n",
       "      <td>1.032200e+06</td>\n",
       "      <td>750.000000</td>\n",
       "      <td>20.250000</td>\n",
       "      <td>550.000000</td>\n",
       "      <td>1.312312e+04</td>\n",
       "      <td>49.000000</td>\n",
       "    </tr>\n",
       "    <tr>\n",
       "      <th>75%</th>\n",
       "      <td>1.081300e+06</td>\n",
       "      <td>750.000000</td>\n",
       "      <td>35.120000</td>\n",
       "      <td>3631.000000</td>\n",
       "      <td>5.382562e+04</td>\n",
       "      <td>155.000000</td>\n",
       "    </tr>\n",
       "    <tr>\n",
       "      <th>max</th>\n",
       "      <td>1.901200e+06</td>\n",
       "      <td>2400.000000</td>\n",
       "      <td>1012.500000</td>\n",
       "      <td>563260.000000</td>\n",
       "      <td>1.062280e+07</td>\n",
       "      <td>1725.000000</td>\n",
       "    </tr>\n",
       "  </tbody>\n",
       "</table>\n",
       "</div>"
      ],
      "text/plain": [
       "           Category  Bottle_Volume  Bottle_Retail   Bottles_Sold  \\\n",
       "count  4.464000e+03    4464.000000    4464.000000    4464.000000   \n",
       "mean   1.136631e+06     790.209005      30.117323    6475.495296   \n",
       "std    2.541399e+05     399.728629      41.034842   24393.595460   \n",
       "min    1.011000e+06      20.000000       0.990000       1.000000   \n",
       "25%    1.012300e+06     750.000000      11.810000      53.000000   \n",
       "50%    1.032200e+06     750.000000      20.250000     550.000000   \n",
       "75%    1.081300e+06     750.000000      35.120000    3631.000000   \n",
       "max    1.901200e+06    2400.000000    1012.500000  563260.000000   \n",
       "\n",
       "            revenue  Num_Stores_Selling  \n",
       "count  4.464000e+03         4464.000000  \n",
       "mean   9.606956e+04          125.280914  \n",
       "std    3.939312e+05          214.128669  \n",
       "min    7.500000e+00            1.000000  \n",
       "25%    1.402020e+03            3.000000  \n",
       "50%    1.312312e+04           49.000000  \n",
       "75%    5.382562e+04          155.000000  \n",
       "max    1.062280e+07         1725.000000  "
      ]
     },
     "execution_count": 16,
     "metadata": {},
     "output_type": "execute_result"
    }
   ],
   "source": [
    "prod_clusters.describe()"
   ]
  },
  {
   "cell_type": "code",
   "execution_count": 17,
   "id": "1fff245d",
   "metadata": {},
   "outputs": [],
   "source": [
    "\n",
    "everything_else = prod_clusters.loc[prod_clusters['cluster_name']=='Everything_Else',:]"
   ]
  },
  {
   "cell_type": "code",
   "execution_count": 18,
   "id": "1ad44a1d",
   "metadata": {},
   "outputs": [
    {
     "data": {
      "text/html": [
       "<div>\n",
       "<style scoped>\n",
       "    .dataframe tbody tr th:only-of-type {\n",
       "        vertical-align: middle;\n",
       "    }\n",
       "\n",
       "    .dataframe tbody tr th {\n",
       "        vertical-align: top;\n",
       "    }\n",
       "\n",
       "    .dataframe thead th {\n",
       "        text-align: right;\n",
       "    }\n",
       "</style>\n",
       "<table border=\"1\" class=\"dataframe\">\n",
       "  <thead>\n",
       "    <tr style=\"text-align: right;\">\n",
       "      <th></th>\n",
       "      <th>Category</th>\n",
       "      <th>New_Category_Name</th>\n",
       "      <th>Item_Number</th>\n",
       "      <th>Item_Description</th>\n",
       "      <th>Bottle_Volume</th>\n",
       "      <th>Bottle_Retail</th>\n",
       "      <th>Bottles_Sold</th>\n",
       "      <th>cluster_name</th>\n",
       "      <th>revenue</th>\n",
       "      <th>Num_Stores_Selling</th>\n",
       "    </tr>\n",
       "  </thead>\n",
       "  <tbody>\n",
       "    <tr>\n",
       "      <th>1</th>\n",
       "      <td>1012200</td>\n",
       "      <td>Scotch</td>\n",
       "      <td>10006</td>\n",
       "      <td>Scoresby Rare Scotch</td>\n",
       "      <td>750</td>\n",
       "      <td>7.70</td>\n",
       "      <td>4619</td>\n",
       "      <td>Everything_Else</td>\n",
       "      <td>35566.30</td>\n",
       "      <td>197</td>\n",
       "    </tr>\n",
       "    <tr>\n",
       "      <th>2</th>\n",
       "      <td>1701100</td>\n",
       "      <td>Temporary &amp; Specialty Packages</td>\n",
       "      <td>100077</td>\n",
       "      <td>Kraken Rum w/ Tiki Glass</td>\n",
       "      <td>750</td>\n",
       "      <td>15.68</td>\n",
       "      <td>2679</td>\n",
       "      <td>Everything_Else</td>\n",
       "      <td>42006.72</td>\n",
       "      <td>136</td>\n",
       "    </tr>\n",
       "    <tr>\n",
       "      <th>4</th>\n",
       "      <td>1012200</td>\n",
       "      <td>Scotch</td>\n",
       "      <td>10009</td>\n",
       "      <td>Scoresby Rare Scotch</td>\n",
       "      <td>1000</td>\n",
       "      <td>10.11</td>\n",
       "      <td>1722</td>\n",
       "      <td>Everything_Else</td>\n",
       "      <td>17409.42</td>\n",
       "      <td>70</td>\n",
       "    </tr>\n",
       "    <tr>\n",
       "      <th>5</th>\n",
       "      <td>1701100</td>\n",
       "      <td>Temporary &amp; Specialty Packages</td>\n",
       "      <td>100148</td>\n",
       "      <td>Jack Daniels Single Barrel w/Snifter Glass</td>\n",
       "      <td>750</td>\n",
       "      <td>41.39</td>\n",
       "      <td>606</td>\n",
       "      <td>Everything_Else</td>\n",
       "      <td>25082.34</td>\n",
       "      <td>120</td>\n",
       "    </tr>\n",
       "    <tr>\n",
       "      <th>6</th>\n",
       "      <td>1701100</td>\n",
       "      <td>Temporary &amp; Specialty Packages</td>\n",
       "      <td>100202</td>\n",
       "      <td>Baileys Original Irish Cream w/2 Dessert Bowls</td>\n",
       "      <td>750</td>\n",
       "      <td>24.74</td>\n",
       "      <td>3160</td>\n",
       "      <td>Everything_Else</td>\n",
       "      <td>78178.40</td>\n",
       "      <td>149</td>\n",
       "    </tr>\n",
       "    <tr>\n",
       "      <th>7</th>\n",
       "      <td>1700000</td>\n",
       "      <td>Temporary &amp; Specialty Packages</td>\n",
       "      <td>100210</td>\n",
       "      <td>Clyde Mays Dualpack</td>\n",
       "      <td>750</td>\n",
       "      <td>30.00</td>\n",
       "      <td>66</td>\n",
       "      <td>Everything_Else</td>\n",
       "      <td>1980.00</td>\n",
       "      <td>1</td>\n",
       "    </tr>\n",
       "    <tr>\n",
       "      <th>8</th>\n",
       "      <td>1701100</td>\n",
       "      <td>Temporary &amp; Specialty Packages</td>\n",
       "      <td>100215</td>\n",
       "      <td>Tequila Rose Liqueur w/2 Shot Glasses</td>\n",
       "      <td>750</td>\n",
       "      <td>17.25</td>\n",
       "      <td>1191</td>\n",
       "      <td>Everything_Else</td>\n",
       "      <td>20544.75</td>\n",
       "      <td>161</td>\n",
       "    </tr>\n",
       "    <tr>\n",
       "      <th>9</th>\n",
       "      <td>1701100</td>\n",
       "      <td>Temporary &amp; Specialty Packages</td>\n",
       "      <td>100216</td>\n",
       "      <td>Tarantula Azul Holiday w/2 Shot Glasses</td>\n",
       "      <td>750</td>\n",
       "      <td>13.49</td>\n",
       "      <td>133</td>\n",
       "      <td>Everything_Else</td>\n",
       "      <td>1794.17</td>\n",
       "      <td>24</td>\n",
       "    </tr>\n",
       "    <tr>\n",
       "      <th>10</th>\n",
       "      <td>1701100</td>\n",
       "      <td>Temporary &amp; Specialty Packages</td>\n",
       "      <td>100248</td>\n",
       "      <td>Martell Blue Swift w/ 2 Glasses</td>\n",
       "      <td>750</td>\n",
       "      <td>31.47</td>\n",
       "      <td>47</td>\n",
       "      <td>Everything_Else</td>\n",
       "      <td>1479.09</td>\n",
       "      <td>8</td>\n",
       "    </tr>\n",
       "    <tr>\n",
       "      <th>11</th>\n",
       "      <td>1071100</td>\n",
       "      <td>Cocktails</td>\n",
       "      <td>100280</td>\n",
       "      <td>The Bitter Truth Cocktail Bar Pack</td>\n",
       "      <td>20</td>\n",
       "      <td>14.25</td>\n",
       "      <td>180</td>\n",
       "      <td>Everything_Else</td>\n",
       "      <td>2565.00</td>\n",
       "      <td>38</td>\n",
       "    </tr>\n",
       "  </tbody>\n",
       "</table>\n",
       "</div>"
      ],
      "text/plain": [
       "    Category               New_Category_Name Item_Number  \\\n",
       "1    1012200                          Scotch       10006   \n",
       "2    1701100  Temporary & Specialty Packages      100077   \n",
       "4    1012200                          Scotch       10009   \n",
       "5    1701100  Temporary & Specialty Packages      100148   \n",
       "6    1701100  Temporary & Specialty Packages      100202   \n",
       "7    1700000  Temporary & Specialty Packages      100210   \n",
       "8    1701100  Temporary & Specialty Packages      100215   \n",
       "9    1701100  Temporary & Specialty Packages      100216   \n",
       "10   1701100  Temporary & Specialty Packages      100248   \n",
       "11   1071100                       Cocktails      100280   \n",
       "\n",
       "                                  Item_Description  Bottle_Volume  \\\n",
       "1                             Scoresby Rare Scotch            750   \n",
       "2                         Kraken Rum w/ Tiki Glass            750   \n",
       "4                             Scoresby Rare Scotch           1000   \n",
       "5       Jack Daniels Single Barrel w/Snifter Glass            750   \n",
       "6   Baileys Original Irish Cream w/2 Dessert Bowls            750   \n",
       "7                              Clyde Mays Dualpack            750   \n",
       "8            Tequila Rose Liqueur w/2 Shot Glasses            750   \n",
       "9          Tarantula Azul Holiday w/2 Shot Glasses            750   \n",
       "10                 Martell Blue Swift w/ 2 Glasses            750   \n",
       "11              The Bitter Truth Cocktail Bar Pack             20   \n",
       "\n",
       "    Bottle_Retail  Bottles_Sold     cluster_name   revenue  Num_Stores_Selling  \n",
       "1            7.70          4619  Everything_Else  35566.30                 197  \n",
       "2           15.68          2679  Everything_Else  42006.72                 136  \n",
       "4           10.11          1722  Everything_Else  17409.42                  70  \n",
       "5           41.39           606  Everything_Else  25082.34                 120  \n",
       "6           24.74          3160  Everything_Else  78178.40                 149  \n",
       "7           30.00            66  Everything_Else   1980.00                   1  \n",
       "8           17.25          1191  Everything_Else  20544.75                 161  \n",
       "9           13.49           133  Everything_Else   1794.17                  24  \n",
       "10          31.47            47  Everything_Else   1479.09                   8  \n",
       "11          14.25           180  Everything_Else   2565.00                  38  "
      ]
     },
     "execution_count": 18,
     "metadata": {},
     "output_type": "execute_result"
    }
   ],
   "source": [
    "everything_else.head(10)"
   ]
  },
  {
   "cell_type": "code",
   "execution_count": 19,
   "id": "58e8a0ad",
   "metadata": {},
   "outputs": [],
   "source": [
    "scaler = StandardScaler()"
   ]
  },
  {
   "cell_type": "code",
   "execution_count": 20,
   "id": "8123c3af",
   "metadata": {},
   "outputs": [
    {
     "name": "stderr",
     "output_type": "stream",
     "text": [
      "C:\\Users\\dgarb\\anaconda3_reinstall\\lib\\site-packages\\pandas\\core\\frame.py:3678: SettingWithCopyWarning: \n",
      "A value is trying to be set on a copy of a slice from a DataFrame.\n",
      "Try using .loc[row_indexer,col_indexer] = value instead\n",
      "\n",
      "See the caveats in the documentation: https://pandas.pydata.org/pandas-docs/stable/user_guide/indexing.html#returning-a-view-versus-a-copy\n",
      "  self[col] = igetitem(value, i)\n"
     ]
    },
    {
     "data": {
      "text/html": [
       "<div>\n",
       "<style scoped>\n",
       "    .dataframe tbody tr th:only-of-type {\n",
       "        vertical-align: middle;\n",
       "    }\n",
       "\n",
       "    .dataframe tbody tr th {\n",
       "        vertical-align: top;\n",
       "    }\n",
       "\n",
       "    .dataframe thead th {\n",
       "        text-align: right;\n",
       "    }\n",
       "</style>\n",
       "<table border=\"1\" class=\"dataframe\">\n",
       "  <thead>\n",
       "    <tr style=\"text-align: right;\">\n",
       "      <th></th>\n",
       "      <th>Bottle_Volume_scaled</th>\n",
       "      <th>Bottle_Retail_scaled</th>\n",
       "      <th>Bottles_Sold_scaled</th>\n",
       "    </tr>\n",
       "  </thead>\n",
       "  <tbody>\n",
       "    <tr>\n",
       "      <th>count</th>\n",
       "      <td>3.882000e+03</td>\n",
       "      <td>3.882000e+03</td>\n",
       "      <td>3.882000e+03</td>\n",
       "    </tr>\n",
       "    <tr>\n",
       "      <th>mean</th>\n",
       "      <td>-1.703486e-15</td>\n",
       "      <td>3.785397e-16</td>\n",
       "      <td>-2.719074e-16</td>\n",
       "    </tr>\n",
       "    <tr>\n",
       "      <th>std</th>\n",
       "      <td>1.000129e+00</td>\n",
       "      <td>1.000129e+00</td>\n",
       "      <td>1.000129e+00</td>\n",
       "    </tr>\n",
       "    <tr>\n",
       "      <th>min</th>\n",
       "      <td>-2.719456e+00</td>\n",
       "      <td>-1.206657e+00</td>\n",
       "      <td>-3.877879e-01</td>\n",
       "    </tr>\n",
       "    <tr>\n",
       "      <th>25%</th>\n",
       "      <td>2.948001e-01</td>\n",
       "      <td>-7.219158e-01</td>\n",
       "      <td>-3.835166e-01</td>\n",
       "    </tr>\n",
       "    <tr>\n",
       "      <th>50%</th>\n",
       "      <td>2.948001e-01</td>\n",
       "      <td>-2.952872e-01</td>\n",
       "      <td>-3.453930e-01</td>\n",
       "    </tr>\n",
       "    <tr>\n",
       "      <th>75%</th>\n",
       "      <td>2.948001e-01</td>\n",
       "      <td>3.885943e-01</td>\n",
       "      <td>-9.343205e-02</td>\n",
       "    </tr>\n",
       "    <tr>\n",
       "      <th>max</th>\n",
       "      <td>2.152903e+00</td>\n",
       "      <td>4.852604e+00</td>\n",
       "      <td>8.474059e+00</td>\n",
       "    </tr>\n",
       "  </tbody>\n",
       "</table>\n",
       "</div>"
      ],
      "text/plain": [
       "       Bottle_Volume_scaled  Bottle_Retail_scaled  Bottles_Sold_scaled\n",
       "count          3.882000e+03          3.882000e+03         3.882000e+03\n",
       "mean          -1.703486e-15          3.785397e-16        -2.719074e-16\n",
       "std            1.000129e+00          1.000129e+00         1.000129e+00\n",
       "min           -2.719456e+00         -1.206657e+00        -3.877879e-01\n",
       "25%            2.948001e-01         -7.219158e-01        -3.835166e-01\n",
       "50%            2.948001e-01         -2.952872e-01        -3.453930e-01\n",
       "75%            2.948001e-01          3.885943e-01        -9.343205e-02\n",
       "max            2.152903e+00          4.852604e+00         8.474059e+00"
      ]
     },
     "execution_count": 20,
     "metadata": {},
     "output_type": "execute_result"
    }
   ],
   "source": [
    "everything_else[['Bottle_Volume_scaled', 'Bottle_Retail_scaled', 'Bottles_Sold_scaled' ]] = scaler.fit_transform\\\n",
    "                                           (everything_else[['Bottle_Volume', 'Bottle_Retail', 'Bottles_Sold']])\n",
    "                                                   \n",
    "\n",
    "everything_else[['Bottle_Volume_scaled', 'Bottle_Retail_scaled', 'Bottles_Sold_scaled']].describe()"
   ]
  },
  {
   "cell_type": "markdown",
   "id": "30c90fba",
   "metadata": {},
   "source": [
    "determine optimal number of clusters"
   ]
  },
  {
   "cell_type": "code",
   "execution_count": 21,
   "id": "616f5dd0",
   "metadata": {},
   "outputs": [
    {
     "name": "stdout",
     "output_type": "stream",
     "text": [
      "number of clusters =  2   silhouette score =  0.5560706659150982\n",
      "number of clusters =  3   silhouette score =  0.5648823220214009\n",
      "number of clusters =  4   silhouette score =  0.5413721085078343\n",
      "number of clusters =  5   silhouette score =  0.44572014033196417\n",
      "number of clusters =  6   silhouette score =  0.4581252353423698\n",
      "number of clusters =  7   silhouette score =  0.46653063493914165\n",
      "number of clusters =  8   silhouette score =  0.4660734570099379\n",
      "number of clusters =  9   silhouette score =  0.4936322220081167\n",
      "number of clusters =  10   silhouette score =  0.4863224283045359\n"
     ]
    }
   ],
   "source": [
    "from sklearn.metrics import silhouette_score\n",
    "\n",
    "cluster_cols = ['Bottle_Volume_scaled', 'Bottle_Retail_scaled', 'Bottles_Sold_scaled' ]\n",
    "\n",
    "df_scaled = everything_else[cluster_cols]\n",
    "\n",
    "\n",
    "for clust in range(2,11):\n",
    "    model = KMeans(n_clusters=clust, random_state=42).fit(df_scaled)\n",
    "    \n",
    "\n",
    "    \n",
    "    silhouette_avg = silhouette_score(df_scaled,model.labels_)\n",
    "    print('number of clusters = ',clust,' ','silhouette score = ',silhouette_avg)"
   ]
  },
  {
   "cell_type": "code",
   "execution_count": 22,
   "id": "199ce5a3",
   "metadata": {},
   "outputs": [],
   "source": [
    "inertia_scores = []\n",
    "\n",
    "for clust in range(2,11):\n",
    "    inertia = KMeans(n_clusters=clust, random_state=42)\\\n",
    "              .fit(df_scaled).inertia_\n",
    "    inertia_scores.append(inertia)"
   ]
  },
  {
   "cell_type": "code",
   "execution_count": 23,
   "id": "1d7b01ac",
   "metadata": {},
   "outputs": [
    {
     "data": {
      "image/png": "[encoded data removed]",
      "text/plain": [
       "<Figure size 432x288 with 1 Axes>"
      ]
     },
     "metadata": {
      "needs_background": "light"
     },
     "output_type": "display_data"
    }
   ],
   "source": [
    "plt.plot(range(2,11), inertia_scores)\n",
    "plt.title(\"Inertia vs. number of clusters\")\n",
    "plt.xlabel(\"Number of clusters: K\")\n",
    "plt.ylabel('Inertia')\n",
    "plt.show()"
   ]
  },
  {
   "cell_type": "markdown",
   "id": "a4f1f23a",
   "metadata": {},
   "source": [
    "get three sub-clusters from everything_else"
   ]
  },
  {
   "cell_type": "code",
   "execution_count": 24,
   "id": "73aa940e",
   "metadata": {},
   "outputs": [
    {
     "name": "stderr",
     "output_type": "stream",
     "text": [
      "C:\\Users\\dgarb\\AppData\\Local\\Temp/ipykernel_7920/2650404986.py:8: SettingWithCopyWarning: \n",
      "A value is trying to be set on a copy of a slice from a DataFrame.\n",
      "Try using .loc[row_indexer,col_indexer] = value instead\n",
      "\n",
      "See the caveats in the documentation: https://pandas.pydata.org/pandas-docs/stable/user_guide/indexing.html#returning-a-view-versus-a-copy\n",
      "  everything_else['sub_cluster'] = model.predict(everything_else[cluster_cols])\n"
     ]
    }
   ],
   "source": [
    "cluster_cols = ['Bottle_Volume_scaled', 'Bottle_Retail_scaled', 'Bottles_Sold_scaled' ]\n",
    "\n",
    "\n",
    "model = KMeans(n_clusters=3, random_state=42)\n",
    "\n",
    "model.fit(everything_else[cluster_cols])\n",
    "\n",
    "everything_else['sub_cluster'] = model.predict(everything_else[cluster_cols])"
   ]
  },
  {
   "cell_type": "code",
   "execution_count": 25,
   "id": "153bbc5a",
   "metadata": {},
   "outputs": [
    {
     "data": {
      "text/html": [
       "<div>\n",
       "<style scoped>\n",
       "    .dataframe tbody tr th:only-of-type {\n",
       "        vertical-align: middle;\n",
       "    }\n",
       "\n",
       "    .dataframe tbody tr th {\n",
       "        vertical-align: top;\n",
       "    }\n",
       "\n",
       "    .dataframe thead th {\n",
       "        text-align: right;\n",
       "    }\n",
       "</style>\n",
       "<table border=\"1\" class=\"dataframe\">\n",
       "  <thead>\n",
       "    <tr style=\"text-align: right;\">\n",
       "      <th></th>\n",
       "      <th>Category</th>\n",
       "      <th>New_Category_Name</th>\n",
       "      <th>Item_Number</th>\n",
       "      <th>Item_Description</th>\n",
       "      <th>Bottle_Volume</th>\n",
       "      <th>Bottle_Retail</th>\n",
       "      <th>Bottles_Sold</th>\n",
       "      <th>cluster_name</th>\n",
       "      <th>revenue</th>\n",
       "      <th>Num_Stores_Selling</th>\n",
       "      <th>Bottle_Volume_scaled</th>\n",
       "      <th>Bottle_Retail_scaled</th>\n",
       "      <th>Bottles_Sold_scaled</th>\n",
       "      <th>sub_cluster</th>\n",
       "    </tr>\n",
       "  </thead>\n",
       "  <tbody>\n",
       "    <tr>\n",
       "      <th>1</th>\n",
       "      <td>1012200</td>\n",
       "      <td>Scotch</td>\n",
       "      <td>10006</td>\n",
       "      <td>Scoresby Rare Scotch</td>\n",
       "      <td>750</td>\n",
       "      <td>7.70</td>\n",
       "      <td>4619</td>\n",
       "      <td>Everything_Else</td>\n",
       "      <td>35566.30</td>\n",
       "      <td>197</td>\n",
       "      <td>0.29480</td>\n",
       "      <td>-0.889638</td>\n",
       "      <td>0.031890</td>\n",
       "      <td>0</td>\n",
       "    </tr>\n",
       "    <tr>\n",
       "      <th>2</th>\n",
       "      <td>1701100</td>\n",
       "      <td>Temporary &amp; Specialty Packages</td>\n",
       "      <td>100077</td>\n",
       "      <td>Kraken Rum w/ Tiki Glass</td>\n",
       "      <td>750</td>\n",
       "      <td>15.68</td>\n",
       "      <td>2679</td>\n",
       "      <td>Everything_Else</td>\n",
       "      <td>42006.72</td>\n",
       "      <td>136</td>\n",
       "      <td>0.29480</td>\n",
       "      <td>-0.512617</td>\n",
       "      <td>-0.144415</td>\n",
       "      <td>0</td>\n",
       "    </tr>\n",
       "    <tr>\n",
       "      <th>4</th>\n",
       "      <td>1012200</td>\n",
       "      <td>Scotch</td>\n",
       "      <td>10009</td>\n",
       "      <td>Scoresby Rare Scotch</td>\n",
       "      <td>1000</td>\n",
       "      <td>10.11</td>\n",
       "      <td>1722</td>\n",
       "      <td>Everything_Else</td>\n",
       "      <td>17409.42</td>\n",
       "      <td>70</td>\n",
       "      <td>1.32708</td>\n",
       "      <td>-0.775776</td>\n",
       "      <td>-0.231386</td>\n",
       "      <td>0</td>\n",
       "    </tr>\n",
       "    <tr>\n",
       "      <th>5</th>\n",
       "      <td>1701100</td>\n",
       "      <td>Temporary &amp; Specialty Packages</td>\n",
       "      <td>100148</td>\n",
       "      <td>Jack Daniels Single Barrel w/Snifter Glass</td>\n",
       "      <td>750</td>\n",
       "      <td>41.39</td>\n",
       "      <td>606</td>\n",
       "      <td>Everything_Else</td>\n",
       "      <td>25082.34</td>\n",
       "      <td>120</td>\n",
       "      <td>0.29480</td>\n",
       "      <td>0.702069</td>\n",
       "      <td>-0.332806</td>\n",
       "      <td>0</td>\n",
       "    </tr>\n",
       "    <tr>\n",
       "      <th>6</th>\n",
       "      <td>1701100</td>\n",
       "      <td>Temporary &amp; Specialty Packages</td>\n",
       "      <td>100202</td>\n",
       "      <td>Baileys Original Irish Cream w/2 Dessert Bowls</td>\n",
       "      <td>750</td>\n",
       "      <td>24.74</td>\n",
       "      <td>3160</td>\n",
       "      <td>Everything_Else</td>\n",
       "      <td>78178.40</td>\n",
       "      <td>149</td>\n",
       "      <td>0.29480</td>\n",
       "      <td>-0.084571</td>\n",
       "      <td>-0.100702</td>\n",
       "      <td>0</td>\n",
       "    </tr>\n",
       "  </tbody>\n",
       "</table>\n",
       "</div>"
      ],
      "text/plain": [
       "   Category               New_Category_Name Item_Number  \\\n",
       "1   1012200                          Scotch       10006   \n",
       "2   1701100  Temporary & Specialty Packages      100077   \n",
       "4   1012200                          Scotch       10009   \n",
       "5   1701100  Temporary & Specialty Packages      100148   \n",
       "6   1701100  Temporary & Specialty Packages      100202   \n",
       "\n",
       "                                 Item_Description  Bottle_Volume  \\\n",
       "1                            Scoresby Rare Scotch            750   \n",
       "2                        Kraken Rum w/ Tiki Glass            750   \n",
       "4                            Scoresby Rare Scotch           1000   \n",
       "5      Jack Daniels Single Barrel w/Snifter Glass            750   \n",
       "6  Baileys Original Irish Cream w/2 Dessert Bowls            750   \n",
       "\n",
       "   Bottle_Retail  Bottles_Sold     cluster_name   revenue  Num_Stores_Selling  \\\n",
       "1           7.70          4619  Everything_Else  35566.30                 197   \n",
       "2          15.68          2679  Everything_Else  42006.72                 136   \n",
       "4          10.11          1722  Everything_Else  17409.42                  70   \n",
       "5          41.39           606  Everything_Else  25082.34                 120   \n",
       "6          24.74          3160  Everything_Else  78178.40                 149   \n",
       "\n",
       "   Bottle_Volume_scaled  Bottle_Retail_scaled  Bottles_Sold_scaled  \\\n",
       "1               0.29480             -0.889638             0.031890   \n",
       "2               0.29480             -0.512617            -0.144415   \n",
       "4               1.32708             -0.775776            -0.231386   \n",
       "5               0.29480              0.702069            -0.332806   \n",
       "6               0.29480             -0.084571            -0.100702   \n",
       "\n",
       "   sub_cluster  \n",
       "1            0  \n",
       "2            0  \n",
       "4            0  \n",
       "5            0  \n",
       "6            0  "
      ]
     },
     "execution_count": 25,
     "metadata": {},
     "output_type": "execute_result"
    }
   ],
   "source": [
    "everything_else.head()"
   ]
  },
  {
   "cell_type": "code",
   "execution_count": 26,
   "id": "9314cc40",
   "metadata": {},
   "outputs": [
    {
     "name": "stderr",
     "output_type": "stream",
     "text": [
      "C:\\Users\\dgarb\\AppData\\Local\\Temp/ipykernel_7920/2100188245.py:1: SettingWithCopyWarning: \n",
      "A value is trying to be set on a copy of a slice from a DataFrame.\n",
      "Try using .loc[row_indexer,col_indexer] = value instead\n",
      "\n",
      "See the caveats in the documentation: https://pandas.pydata.org/pandas-docs/stable/user_guide/indexing.html#returning-a-view-versus-a-copy\n",
      "  everything_else['Bottle_Volume_liters'] = everything_else['Bottle_Volume']/1000\n"
     ]
    }
   ],
   "source": [
    "everything_else['Bottle_Volume_liters'] = everything_else['Bottle_Volume']/1000"
   ]
  },
  {
   "cell_type": "markdown",
   "id": "07dedc8a",
   "metadata": {},
   "source": [
    "# create price per milliliter"
   ]
  },
  {
   "cell_type": "code",
   "execution_count": 27,
   "id": "e42b91fd",
   "metadata": {},
   "outputs": [
    {
     "name": "stderr",
     "output_type": "stream",
     "text": [
      "C:\\Users\\dgarb\\AppData\\Local\\Temp/ipykernel_7920/1856010719.py:2: SettingWithCopyWarning: \n",
      "A value is trying to be set on a copy of a slice from a DataFrame.\n",
      "Try using .loc[row_indexer,col_indexer] = value instead\n",
      "\n",
      "See the caveats in the documentation: https://pandas.pydata.org/pandas-docs/stable/user_guide/indexing.html#returning-a-view-versus-a-copy\n",
      "  everything_else['price_per_ml'] = everything_else['Bottle_Retail'] / everything_else['Bottle_Volume']\n"
     ]
    }
   ],
   "source": [
    "# price/volume\n",
    "everything_else['price_per_ml'] = everything_else['Bottle_Retail'] / everything_else['Bottle_Volume']"
   ]
  },
  {
   "cell_type": "code",
   "execution_count": 28,
   "id": "b791238f",
   "metadata": {},
   "outputs": [
    {
     "data": {
      "text/html": [
       "<div>\n",
       "<style scoped>\n",
       "    .dataframe tbody tr th:only-of-type {\n",
       "        vertical-align: middle;\n",
       "    }\n",
       "\n",
       "    .dataframe tbody tr th {\n",
       "        vertical-align: top;\n",
       "    }\n",
       "\n",
       "    .dataframe thead th {\n",
       "        text-align: right;\n",
       "    }\n",
       "</style>\n",
       "<table border=\"1\" class=\"dataframe\">\n",
       "  <thead>\n",
       "    <tr style=\"text-align: right;\">\n",
       "      <th></th>\n",
       "      <th>Bottle_Volume_liters</th>\n",
       "      <th>price_per_ml</th>\n",
       "      <th>Bottle_Retail</th>\n",
       "      <th>Bottles_Sold</th>\n",
       "    </tr>\n",
       "    <tr>\n",
       "      <th>sub_cluster</th>\n",
       "      <th></th>\n",
       "      <th></th>\n",
       "      <th></th>\n",
       "      <th></th>\n",
       "    </tr>\n",
       "  </thead>\n",
       "  <tbody>\n",
       "    <tr>\n",
       "      <th>0</th>\n",
       "      <td>0.775065</td>\n",
       "      <td>0.038797</td>\n",
       "      <td>29.031637</td>\n",
       "      <td>2101.876669</td>\n",
       "    </tr>\n",
       "    <tr>\n",
       "      <th>1</th>\n",
       "      <td>0.641225</td>\n",
       "      <td>0.034183</td>\n",
       "      <td>12.918742</td>\n",
       "      <td>50759.973510</td>\n",
       "    </tr>\n",
       "    <tr>\n",
       "      <th>2</th>\n",
       "      <td>0.169513</td>\n",
       "      <td>0.251106</td>\n",
       "      <td>16.590308</td>\n",
       "      <td>3917.082051</td>\n",
       "    </tr>\n",
       "  </tbody>\n",
       "</table>\n",
       "</div>"
      ],
      "text/plain": [
       "             Bottle_Volume_liters  price_per_ml  Bottle_Retail  Bottles_Sold\n",
       "sub_cluster                                                                 \n",
       "0                        0.775065      0.038797      29.031637   2101.876669\n",
       "1                        0.641225      0.034183      12.918742  50759.973510\n",
       "2                        0.169513      0.251106      16.590308   3917.082051"
      ]
     },
     "execution_count": 28,
     "metadata": {},
     "output_type": "execute_result"
    }
   ],
   "source": [
    "everything_else.groupby(['sub_cluster']).agg({'Bottle_Volume_liters' : 'mean', 'price_per_ml':'mean', 'Bottle_Retail':'mean','Bottles_Sold':'mean' })"
   ]
  },
  {
   "cell_type": "code",
   "execution_count": 29,
   "id": "c701bf3c",
   "metadata": {},
   "outputs": [
    {
     "data": {
      "text/html": [
       "<div>\n",
       "<style scoped>\n",
       "    .dataframe tbody tr th:only-of-type {\n",
       "        vertical-align: middle;\n",
       "    }\n",
       "\n",
       "    .dataframe tbody tr th {\n",
       "        vertical-align: top;\n",
       "    }\n",
       "\n",
       "    .dataframe thead tr th {\n",
       "        text-align: left;\n",
       "    }\n",
       "\n",
       "    .dataframe thead tr:last-of-type th {\n",
       "        text-align: right;\n",
       "    }\n",
       "</style>\n",
       "<table border=\"1\" class=\"dataframe\">\n",
       "  <thead>\n",
       "    <tr>\n",
       "      <th></th>\n",
       "      <th>Item_Number</th>\n",
       "      <th colspan=\"5\" halign=\"left\">Bottle_Volume</th>\n",
       "      <th colspan=\"4\" halign=\"left\">price_per_ml</th>\n",
       "      <th>...</th>\n",
       "      <th colspan=\"5\" halign=\"left\">Bottle_Retail</th>\n",
       "      <th colspan=\"5\" halign=\"left\">Bottles_Sold</th>\n",
       "    </tr>\n",
       "    <tr>\n",
       "      <th></th>\n",
       "      <th>nunique</th>\n",
       "      <th>min</th>\n",
       "      <th>max</th>\n",
       "      <th>std</th>\n",
       "      <th>median</th>\n",
       "      <th>mean</th>\n",
       "      <th>min</th>\n",
       "      <th>max</th>\n",
       "      <th>std</th>\n",
       "      <th>median</th>\n",
       "      <th>...</th>\n",
       "      <th>min</th>\n",
       "      <th>max</th>\n",
       "      <th>std</th>\n",
       "      <th>median</th>\n",
       "      <th>mean</th>\n",
       "      <th>min</th>\n",
       "      <th>max</th>\n",
       "      <th>std</th>\n",
       "      <th>median</th>\n",
       "      <th>mean</th>\n",
       "    </tr>\n",
       "    <tr>\n",
       "      <th>sub_cluster</th>\n",
       "      <th></th>\n",
       "      <th></th>\n",
       "      <th></th>\n",
       "      <th></th>\n",
       "      <th></th>\n",
       "      <th></th>\n",
       "      <th></th>\n",
       "      <th></th>\n",
       "      <th></th>\n",
       "      <th></th>\n",
       "      <th></th>\n",
       "      <th></th>\n",
       "      <th></th>\n",
       "      <th></th>\n",
       "      <th></th>\n",
       "      <th></th>\n",
       "      <th></th>\n",
       "      <th></th>\n",
       "      <th></th>\n",
       "      <th></th>\n",
       "      <th></th>\n",
       "    </tr>\n",
       "  </thead>\n",
       "  <tbody>\n",
       "    <tr>\n",
       "      <th>0</th>\n",
       "      <td>3146</td>\n",
       "      <td>200</td>\n",
       "      <td>1200</td>\n",
       "      <td>79.991943</td>\n",
       "      <td>750.0</td>\n",
       "      <td>775.064526</td>\n",
       "      <td>0.00320</td>\n",
       "      <td>0.6462</td>\n",
       "      <td>0.035424</td>\n",
       "      <td>0.0300</td>\n",
       "      <td>...</td>\n",
       "      <td>3.20</td>\n",
       "      <td>129.24</td>\n",
       "      <td>20.962398</td>\n",
       "      <td>23.25</td>\n",
       "      <td>29.031637</td>\n",
       "      <td>1</td>\n",
       "      <td>26065</td>\n",
       "      <td>3991.855875</td>\n",
       "      <td>294.5</td>\n",
       "      <td>2101.876669</td>\n",
       "    </tr>\n",
       "    <tr>\n",
       "      <th>1</th>\n",
       "      <td>151</td>\n",
       "      <td>50</td>\n",
       "      <td>1000</td>\n",
       "      <td>313.384730</td>\n",
       "      <td>750.0</td>\n",
       "      <td>641.225166</td>\n",
       "      <td>0.00320</td>\n",
       "      <td>0.7740</td>\n",
       "      <td>0.077078</td>\n",
       "      <td>0.0180</td>\n",
       "      <td>...</td>\n",
       "      <td>1.43</td>\n",
       "      <td>40.47</td>\n",
       "      <td>8.740369</td>\n",
       "      <td>11.52</td>\n",
       "      <td>12.918742</td>\n",
       "      <td>26450</td>\n",
       "      <td>97514</td>\n",
       "      <td>19597.861508</td>\n",
       "      <td>44522.0</td>\n",
       "      <td>50759.973510</td>\n",
       "    </tr>\n",
       "    <tr>\n",
       "      <th>2</th>\n",
       "      <td>585</td>\n",
       "      <td>20</td>\n",
       "      <td>400</td>\n",
       "      <td>141.741469</td>\n",
       "      <td>50.0</td>\n",
       "      <td>169.512821</td>\n",
       "      <td>0.00688</td>\n",
       "      <td>2.4336</td>\n",
       "      <td>0.420653</td>\n",
       "      <td>0.1275</td>\n",
       "      <td>...</td>\n",
       "      <td>0.99</td>\n",
       "      <td>121.68</td>\n",
       "      <td>20.281583</td>\n",
       "      <td>9.26</td>\n",
       "      <td>16.590308</td>\n",
       "      <td>1</td>\n",
       "      <td>32385</td>\n",
       "      <td>6009.398898</td>\n",
       "      <td>1110.0</td>\n",
       "      <td>3917.082051</td>\n",
       "    </tr>\n",
       "  </tbody>\n",
       "</table>\n",
       "<p>3 rows × 21 columns</p>\n",
       "</div>"
      ],
      "text/plain": [
       "            Item_Number Bottle_Volume                                       \\\n",
       "                nunique           min   max         std median        mean   \n",
       "sub_cluster                                                                  \n",
       "0                  3146           200  1200   79.991943  750.0  775.064526   \n",
       "1                   151            50  1000  313.384730  750.0  641.225166   \n",
       "2                   585            20   400  141.741469   50.0  169.512821   \n",
       "\n",
       "            price_per_ml                            ... Bottle_Retail          \\\n",
       "                     min     max       std  median  ...           min     max   \n",
       "sub_cluster                                         ...                         \n",
       "0                0.00320  0.6462  0.035424  0.0300  ...          3.20  129.24   \n",
       "1                0.00320  0.7740  0.077078  0.0180  ...          1.43   40.47   \n",
       "2                0.00688  2.4336  0.420653  0.1275  ...          0.99  121.68   \n",
       "\n",
       "                                         Bottles_Sold                       \\\n",
       "                   std median       mean          min    max           std   \n",
       "sub_cluster                                                                  \n",
       "0            20.962398  23.25  29.031637            1  26065   3991.855875   \n",
       "1             8.740369  11.52  12.918742        26450  97514  19597.861508   \n",
       "2            20.281583   9.26  16.590308            1  32385   6009.398898   \n",
       "\n",
       "                                    \n",
       "              median          mean  \n",
       "sub_cluster                         \n",
       "0              294.5   2101.876669  \n",
       "1            44522.0  50759.973510  \n",
       "2             1110.0   3917.082051  \n",
       "\n",
       "[3 rows x 21 columns]"
      ]
     },
     "execution_count": 29,
     "metadata": {},
     "output_type": "execute_result"
    }
   ],
   "source": [
    "everything_else.groupby(['sub_cluster']).agg({'Item_Number':['nunique'],'Bottle_Volume' :['min','max','std', 'median', 'mean'], 'price_per_ml':['min','max','std', 'median', 'mean'], 'Bottle_Retail':['min','max','std', 'median', 'mean'],'Bottles_Sold':['min','max','std', 'median', 'mean'] })"
   ]
  },
  {
   "cell_type": "code",
   "execution_count": 30,
   "id": "425b5f5b",
   "metadata": {},
   "outputs": [],
   "source": [
    "from freq_pd import proc_freq"
   ]
  },
  {
   "cell_type": "code",
   "execution_count": 31,
   "id": "e0f86de1",
   "metadata": {},
   "outputs": [
    {
     "data": {
      "text/html": [
       "<div>\n",
       "<style scoped>\n",
       "    .dataframe tbody tr th:only-of-type {\n",
       "        vertical-align: middle;\n",
       "    }\n",
       "\n",
       "    .dataframe tbody tr th {\n",
       "        vertical-align: top;\n",
       "    }\n",
       "\n",
       "    .dataframe thead th {\n",
       "        text-align: right;\n",
       "    }\n",
       "</style>\n",
       "<table border=\"1\" class=\"dataframe\">\n",
       "  <thead>\n",
       "    <tr style=\"text-align: right;\">\n",
       "      <th></th>\n",
       "      <th>sub_cluster</th>\n",
       "      <th>Frequency</th>\n",
       "      <th>Percent</th>\n",
       "      <th>Cumulative_Frequency</th>\n",
       "      <th>Cumulative_Percent</th>\n",
       "    </tr>\n",
       "  </thead>\n",
       "  <tbody>\n",
       "    <tr>\n",
       "      <th>0</th>\n",
       "      <td>0</td>\n",
       "      <td>3146</td>\n",
       "      <td>81.04</td>\n",
       "      <td>3146</td>\n",
       "      <td>81.04</td>\n",
       "    </tr>\n",
       "    <tr>\n",
       "      <th>1</th>\n",
       "      <td>1</td>\n",
       "      <td>151</td>\n",
       "      <td>3.89</td>\n",
       "      <td>3297</td>\n",
       "      <td>84.93</td>\n",
       "    </tr>\n",
       "    <tr>\n",
       "      <th>2</th>\n",
       "      <td>2</td>\n",
       "      <td>585</td>\n",
       "      <td>15.07</td>\n",
       "      <td>3882</td>\n",
       "      <td>100.00</td>\n",
       "    </tr>\n",
       "  </tbody>\n",
       "</table>\n",
       "</div>"
      ],
      "text/plain": [
       "   sub_cluster  Frequency  Percent  Cumulative_Frequency  Cumulative_Percent\n",
       "0            0       3146    81.04                  3146               81.04\n",
       "1            1        151     3.89                  3297               84.93\n",
       "2            2        585    15.07                  3882              100.00"
      ]
     },
     "execution_count": 31,
     "metadata": {},
     "output_type": "execute_result"
    }
   ],
   "source": [
    "proc_freq(everything_else,'sub_cluster')"
   ]
  },
  {
   "cell_type": "code",
   "execution_count": 32,
   "id": "f9d36f6c",
   "metadata": {},
   "outputs": [
    {
     "name": "stderr",
     "output_type": "stream",
     "text": [
      "C:\\Users\\dgarb\\AppData\\Local\\Temp/ipykernel_7920/1745242950.py:1: SettingWithCopyWarning: \n",
      "A value is trying to be set on a copy of a slice from a DataFrame.\n",
      "Try using .loc[row_indexer,col_indexer] = value instead\n",
      "\n",
      "See the caveats in the documentation: https://pandas.pydata.org/pandas-docs/stable/user_guide/indexing.html#returning-a-view-versus-a-copy\n",
      "  everything_else['str_volume'] = str(everything_else.Bottle_Volume)\n"
     ]
    }
   ],
   "source": [
    "everything_else['str_volume'] = str(everything_else.Bottle_Volume)"
   ]
  },
  {
   "cell_type": "code",
   "execution_count": 33,
   "id": "ac3ce6f7",
   "metadata": {},
   "outputs": [
    {
     "ename": "NameError",
     "evalue": "name 'stop' is not defined",
     "output_type": "error",
     "traceback": [
      "\u001b[1;31m---------------------------------------------------------------------------\u001b[0m",
      "\u001b[1;31mNameError\u001b[0m                                 Traceback (most recent call last)",
      "\u001b[1;32m~\\AppData\\Local\\Temp/ipykernel_7920/1316908375.py\u001b[0m in \u001b[0;36m<module>\u001b[1;34m\u001b[0m\n\u001b[1;32m----> 1\u001b[1;33m \u001b[0mstop\u001b[0m\u001b[1;33m\u001b[0m\u001b[1;33m\u001b[0m\u001b[0m\n\u001b[0m\u001b[0;32m      2\u001b[0m \u001b[1;31m# proc_freq(everything_else,'sub_cluster')\u001b[0m\u001b[1;33m\u001b[0m\u001b[1;33m\u001b[0m\u001b[0m\n",
      "\u001b[1;31mNameError\u001b[0m: name 'stop' is not defined"
     ]
    }
   ],
   "source": [
    "stop\n",
    "# proc_freq(everything_else,'sub_cluster')"
   ]
  },
  {
   "cell_type": "code",
   "execution_count": 34,
   "id": "b2fabb9f",
   "metadata": {},
   "outputs": [
    {
     "data": {
      "text/html": [
       "<style type=\"text/css\">\n",
       "</style>\n",
       "<table id=\"T_efee0_\">\n",
       "  <thead>\n",
       "    <tr>\n",
       "      <th class=\"blank level0\" >&nbsp;</th>\n",
       "      <th class=\"col_heading level0 col0\" >revenue</th>\n",
       "    </tr>\n",
       "    <tr>\n",
       "      <th class=\"index_name level0\" >sub_cluster</th>\n",
       "      <th class=\"blank col0\" >&nbsp;</th>\n",
       "    </tr>\n",
       "  </thead>\n",
       "  <tbody>\n",
       "    <tr>\n",
       "      <th id=\"T_efee0_level0_row0\" class=\"row_heading level0 row0\" >0</th>\n",
       "      <td id=\"T_efee0_row0_col0\" class=\"data row0 col0\" >118837498</td>\n",
       "    </tr>\n",
       "    <tr>\n",
       "      <th id=\"T_efee0_level0_row1\" class=\"row_heading level0 row1\" >1</th>\n",
       "      <td id=\"T_efee0_row1_col0\" class=\"data row1 col0\" >98467531</td>\n",
       "    </tr>\n",
       "    <tr>\n",
       "      <th id=\"T_efee0_level0_row2\" class=\"row_heading level0 row2\" >2</th>\n",
       "      <td id=\"T_efee0_row2_col0\" class=\"data row2 col0\" >21414240</td>\n",
       "    </tr>\n",
       "  </tbody>\n",
       "</table>\n"
      ],
      "text/plain": [
       "<pandas.io.formats.style.Styler at 0x24062f32c40>"
      ]
     },
     "execution_count": 34,
     "metadata": {},
     "output_type": "execute_result"
    }
   ],
   "source": [
    "df = everything_else.groupby(['sub_cluster']).agg({'revenue':'sum'})\n",
    "df.style.format(\"{:.0f}\")\n"
   ]
  },
  {
   "cell_type": "code",
   "execution_count": null,
   "id": "73cf0cb5",
   "metadata": {},
   "outputs": [],
   "source": [
    "everything_else.groupby(['sub_cluster']).agg({'Bottle_Volume':'nunique'})"
   ]
  },
  {
   "cell_type": "code",
   "execution_count": null,
   "id": "09e6c40b",
   "metadata": {},
   "outputs": [],
   "source": [
    "\n",
    "\n",
    "everything_else.groupby(['sub_cluster']).agg({'revenue':['sum'],'Bottle_Volume':['count','min','max','std', 'median', 'mean'],'Bottle_Retail':['min','max','std', 'median', 'mean'], 'price_per_ml':['min','max','std', 'median', 'mean'],'Bottles_Sold':['min','max','std', 'median', 'mean'] })"
   ]
  },
  {
   "cell_type": "code",
   "execution_count": null,
   "id": "58a62217",
   "metadata": {},
   "outputs": [],
   "source": [
    "everything_else.groupby(['sub_cluster']).agg({'Num_Stores_Selling':['min','max','std', 'median', 'mean']})"
   ]
  },
  {
   "cell_type": "code",
   "execution_count": null,
   "id": "6c829359",
   "metadata": {},
   "outputs": [],
   "source": [
    "pd.set_option('display.max_columns', None)\n",
    "everything_else.groupby(['sub_cluster']).agg({'Item_Number':['nunique'],'revenue':['sum'],'Bottle_Volume':['min','max','std','median'],'price_per_ml':['min','max','std', 'median', 'mean'],'Bottles_Sold':['min','max','std', 'median', 'mean'],'Num_Stores_Selling':['min','max','std', 'median', 'mean'] })"
   ]
  },
  {
   "cell_type": "code",
   "execution_count": null,
   "id": "9f7467a8",
   "metadata": {},
   "outputs": [],
   "source": [
    "everything_else['str_volume'] = [str(prod) for prod in everything_else.Bottle_Volume ]\n",
    "# [str(prod) for prod in everything_else.Bottle_Volume ]"
   ]
  },
  {
   "cell_type": "markdown",
   "id": "9d9b30c4",
   "metadata": {},
   "source": [
    "# Name sub-clusters"
   ]
  },
  {
   "cell_type": "code",
   "execution_count": null,
   "id": "7914b467",
   "metadata": {},
   "outputs": [],
   "source": [
    "sub_clust_dict = {0:'most_variety', 1:'moderately_high', 2:'quick_shots', 3:'cheap'}\n",
    "# everything_else['sub_cluster'].map(sub_clust_dict)\n",
    "everything_else['sub_cluster_name'] = everything_else['sub_cluster'].map(sub_clust_dict)"
   ]
  },
  {
   "cell_type": "code",
   "execution_count": null,
   "id": "10f3c0f8",
   "metadata": {},
   "outputs": [],
   "source": [
    "# df_categ = everything_else.groupby(['sub_cluster','New_Category_Name']).agg({'price_per_ml':['min','max','std', 'median', 'mean']}).reset_index()"
   ]
  },
  {
   "cell_type": "code",
   "execution_count": null,
   "id": "003f4266",
   "metadata": {},
   "outputs": [],
   "source": [
    "# df_categ.loc[df_categ.sub_cluster==2,:]"
   ]
  },
  {
   "cell_type": "code",
   "execution_count": null,
   "id": "ae737666",
   "metadata": {},
   "outputs": [],
   "source": [
    "moderately_high = everything_else.loc[everything_else['sub_cluster_name']== 'moderately_high',['Item_Number', 'Item_Description','revenue','Bottle_Retail','Bottle_Volume','Bottles_Sold']]"
   ]
  },
  {
   "cell_type": "code",
   "execution_count": null,
   "id": "8186934d",
   "metadata": {},
   "outputs": [],
   "source": [
    "moderately_high"
   ]
  },
  {
   "cell_type": "code",
   "execution_count": null,
   "id": "c5632552",
   "metadata": {},
   "outputs": [],
   "source": [
    "mask1 = moderately_high.Bottle_Volume < 750\n",
    "moderately_high[mask1]"
   ]
  },
  {
   "cell_type": "code",
   "execution_count": null,
   "id": "28159295",
   "metadata": {},
   "outputs": [],
   "source": [
    "moderately_high[mask1].shape"
   ]
  },
  {
   "cell_type": "code",
   "execution_count": null,
   "id": "4a0b84ab",
   "metadata": {},
   "outputs": [],
   "source": [
    "mask2 = moderately_high.Bottle_Volume > 750\n",
    "moderately_high[mask2]"
   ]
  },
  {
   "cell_type": "code",
   "execution_count": null,
   "id": "54c4f60f",
   "metadata": {},
   "outputs": [],
   "source": []
  },
  {
   "cell_type": "code",
   "execution_count": null,
   "id": "0475f392",
   "metadata": {},
   "outputs": [],
   "source": [
    "sub_most_variety = everything_else.loc[everything_else.sub_cluster_name== 'most_variety']\n",
    "proc_freq(sub_most_variety,'str_volume')\n",
    "sub_most_variety.str_volume.value_counts()"
   ]
  },
  {
   "cell_type": "code",
   "execution_count": null,
   "id": "5bab174f",
   "metadata": {},
   "outputs": [],
   "source": [
    "sub_moderately_high = everything_else.loc[everything_else.sub_cluster_name =='moderately_high']\n",
    "proc_freq(sub_moderately_high,'str_volume')\n",
    "sub_moderately_high.str_volume.value_counts()"
   ]
  },
  {
   "cell_type": "code",
   "execution_count": null,
   "id": "e9aa668a",
   "metadata": {},
   "outputs": [],
   "source": [
    "sub_quick_shots = everything_else.loc[everything_else.sub_cluster_name=='quick_shots']\n",
    "proc_freq(sub_quick_shots,'str_volume')\n",
    "sub_quick_shots.str_volume.value_counts()"
   ]
  },
  {
   "cell_type": "code",
   "execution_count": null,
   "id": "ae6b3330",
   "metadata": {},
   "outputs": [],
   "source": [
    "sub_cheap = everything_else.loc[everything_else.sub_cluster_name== 'cheap']\n",
    "proc_freq(sub_cheap,'str_volume')\n",
    "sub_cheap.str_volume.value_counts()"
   ]
  },
  {
   "cell_type": "code",
   "execution_count": null,
   "id": "2c27a89c",
   "metadata": {},
   "outputs": [],
   "source": [
    "everything_else.info()"
   ]
  },
  {
   "cell_type": "code",
   "execution_count": null,
   "id": "cb453c19",
   "metadata": {},
   "outputs": [],
   "source": [
    "everything_else2 = everything_else.copy()"
   ]
  },
  {
   "cell_type": "code",
   "execution_count": null,
   "id": "867cdf82",
   "metadata": {},
   "outputs": [],
   "source": [
    "sub_clust_dict = {0:'most_variety', 1:'moderately_high', 2:'quick_shots', 3:'cheap'}\n",
    "everything_else2['cluster_name'] = everything_else2[['sub_cluster']].apply(lambda p: sub_clust_dict[p[0]],axis=1)"
   ]
  },
  {
   "cell_type": "code",
   "execution_count": null,
   "id": "c294d976",
   "metadata": {},
   "outputs": [],
   "source": [
    "everything_else2['cluster_name'].head()"
   ]
  },
  {
   "cell_type": "code",
   "execution_count": null,
   "id": "404910cf",
   "metadata": {},
   "outputs": [],
   "source": [
    "keeps = ['Item_Number','Item_Description','Bottle_Volume','Bottle_Retail', 'Bottles_Sold', 'cluster_name',\n",
    "         'revenue', 'Num_Stores_Selling', 'New_Category_Name']\n",
    "\n",
    "\n",
    "everything_else_keep = everything_else2[keeps]\n",
    "everything_else_keep.info()"
   ]
  },
  {
   "cell_type": "code",
   "execution_count": null,
   "id": "3e65acb2",
   "metadata": {},
   "outputs": [],
   "source": [
    "prod_clusters.info()"
   ]
  },
  {
   "cell_type": "code",
   "execution_count": null,
   "id": "575d8b82",
   "metadata": {},
   "outputs": [],
   "source": [
    "other_original_clusters = prod_clusters.loc[prod_clusters['cluster_name'] != 'Everything_Else',:]"
   ]
  },
  {
   "cell_type": "code",
   "execution_count": null,
   "id": "1b0bbf2a",
   "metadata": {},
   "outputs": [],
   "source": [
    "everything_else_keep.shape"
   ]
  },
  {
   "cell_type": "code",
   "execution_count": null,
   "id": "f33e17bb",
   "metadata": {},
   "outputs": [],
   "source": [
    "other_original_clusters.shape"
   ]
  },
  {
   "cell_type": "code",
   "execution_count": null,
   "id": "c66c90e3",
   "metadata": {},
   "outputs": [],
   "source": [
    "prod_clusters.shape"
   ]
  },
  {
   "cell_type": "code",
   "execution_count": null,
   "id": "ca63f0d2",
   "metadata": {},
   "outputs": [],
   "source": [
    "3865 + 603"
   ]
  },
  {
   "cell_type": "code",
   "execution_count": null,
   "id": "366b6035",
   "metadata": {},
   "outputs": [],
   "source": [
    "final_clusters = pd.concat([everything_else_keep,other_original_clusters], axis=0)"
   ]
  },
  {
   "cell_type": "code",
   "execution_count": null,
   "id": "94d71563",
   "metadata": {},
   "outputs": [],
   "source": [
    "final_clusters.info()"
   ]
  },
  {
   "cell_type": "code",
   "execution_count": null,
   "id": "042af5ff",
   "metadata": {},
   "outputs": [],
   "source": [
    "final_clusters.groupby(['cluster_name']).agg({'Num_Stores_Selling':'nunique'})"
   ]
  },
  {
   "cell_type": "code",
   "execution_count": null,
   "id": "0fc14b96",
   "metadata": {},
   "outputs": [],
   "source": [
    "final_clusters.to_csv(r'C:\\Users\\dgarb\\OneDrive\\Desktop\\Capstone Data\\liquor_2021\\final_clusters.csv')"
   ]
  }
 ],
 "metadata": {
  "kernelspec": {
   "display_name": "Python 3 (ipykernel)",
   "language": "python",
   "name": "python3"
  },
  "language_info": {
   "codemirror_mode": {
    "name": "ipython",
    "version": 3
   },
   "file_extension": ".py",
   "mimetype": "text/x-python",
   "name": "python",
   "nbconvert_exporter": "python",
   "pygments_lexer": "ipython3",
   "version": "3.9.7"
  }
 },
 "nbformat": 4,
 "nbformat_minor": 5
}

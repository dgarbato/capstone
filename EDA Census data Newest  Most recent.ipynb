{
 "cells": [
  {
   "cell_type": "code",
   "execution_count": 1,
   "id": "2094c02f",
   "metadata": {},
   "outputs": [],
   "source": [
    "import pandas as pd\n",
    "import numpy as np"
   ]
  },
  {
   "cell_type": "code",
   "execution_count": 2,
   "id": "3bfd4239",
   "metadata": {},
   "outputs": [],
   "source": [
    "from missing_columns_pd  import miss_cols"
   ]
  },
  {
   "cell_type": "code",
   "execution_count": 147,
   "id": "b042440b",
   "metadata": {},
   "outputs": [],
   "source": [
    "pd.set_option('display.float_format', lambda x: '%.2f' % x)\n",
    "pd.options.display.float_format = '{:,}'.format\n",
    "\n",
    "pd.set_option('display.max_columns', None)\n",
    "\n",
    "pd.set_option('display.max_rows', None)\n"
   ]
  },
  {
   "cell_type": "code",
   "execution_count": 4,
   "id": "5cebdc44",
   "metadata": {},
   "outputs": [],
   "source": [
    "cdtype ={'Zip_Code':str}"
   ]
  },
  {
   "cell_type": "code",
   "execution_count": 5,
   "id": "9a694700",
   "metadata": {},
   "outputs": [],
   "source": [
    "census_combined4 = pd.read_csv(r'C:\\Users\\dgarb\\OneDrive\\Desktop\\Capstone Data\\census data\\census_combined4.csv',dtype={'Zip_Code':str},index_col=0)"
   ]
  },
  {
   "cell_type": "code",
   "execution_count": 6,
   "id": "946f26a7",
   "metadata": {},
   "outputs": [],
   "source": [
    "hy_vee_liquor_or_spirit_df = pd.read_csv(r'C:\\Users\\dgarb\\OneDrive\\Desktop\\Capstone Data\\liquor_2021\\hy_vee_liquor_or_spirit_df.csv',dtype={'Zip_Code':str},index_col=0)"
   ]
  },
  {
   "cell_type": "code",
   "execution_count": null,
   "id": "2b41e1a0",
   "metadata": {},
   "outputs": [],
   "source": [
    "list(hy_vee_liquor_or_spirit_df.columns)"
   ]
  },
  {
   "cell_type": "code",
   "execution_count": null,
   "id": "8e76e532",
   "metadata": {},
   "outputs": [],
   "source": [
    "hy_vee_liquor_or_spirit_df.columns = ['Zip_Code', 'hy_vee_num_stores', 'liquor_or_spirit_num_stores']"
   ]
  },
  {
   "cell_type": "code",
   "execution_count": null,
   "id": "2b4683b1",
   "metadata": {},
   "outputs": [],
   "source": [
    "# store counts contains counts by zip code of each of the four store types determined by the K-means clustering of the stores"
   ]
  },
  {
   "cell_type": "code",
   "execution_count": 7,
   "id": "2554530f",
   "metadata": {},
   "outputs": [],
   "source": [
    "store_counts_df = pd.read_csv(r'C:\\Users\\dgarb\\OneDrive\\Desktop\\Capstone Data\\liquor_2021\\store_counts_df.csv',dtype={'Zip_Code':str},index_col=0)"
   ]
  },
  {
   "cell_type": "code",
   "execution_count": 10,
   "id": "b506e3f3",
   "metadata": {},
   "outputs": [],
   "source": [
    "census_combined4_copy = census_combined4.copy()"
   ]
  },
  {
   "cell_type": "code",
   "execution_count": 11,
   "id": "dff383d4",
   "metadata": {},
   "outputs": [
    {
     "data": {
      "text/plain": [
       "(934, 80)"
      ]
     },
     "execution_count": 11,
     "metadata": {},
     "output_type": "execute_result"
    }
   ],
   "source": [
    "census_combined4_copy.shape"
   ]
  },
  {
   "cell_type": "markdown",
   "id": "9698aaca",
   "metadata": {},
   "source": [
    " merge stores counts from kmeans clustering to just get zip code and inpute with zero"
   ]
  },
  {
   "cell_type": "code",
   "execution_count": 13,
   "id": "af946a37",
   "metadata": {},
   "outputs": [],
   "source": [
    "# merge stores counts from kmeans clustering to just get zip code\n",
    "store_counts_df2 = census_combined4[['Zip_Code']].merge(store_counts_df, how='left').fillna(0)"
   ]
  },
  {
   "cell_type": "code",
   "execution_count": 149,
   "id": "3e41b091",
   "metadata": {},
   "outputs": [
    {
     "data": {
      "text/plain": [
       "Zip_Code       0\n",
       "outlier        0\n",
       "Convenience    0\n",
       "Large          0\n",
       "Medium         0\n",
       "Smaller        0\n",
       "dtype: int64"
      ]
     },
     "execution_count": 149,
     "metadata": {},
     "output_type": "execute_result"
    }
   ],
   "source": [
    "np.sum(store_counts_df2.isna())"
   ]
  },
  {
   "cell_type": "code",
   "execution_count": 16,
   "id": "dd4f3370",
   "metadata": {},
   "outputs": [
    {
     "data": {
      "text/plain": [
       "(934, 6)"
      ]
     },
     "execution_count": 16,
     "metadata": {},
     "output_type": "execute_result"
    }
   ],
   "source": [
    "store_counts_df2.shape"
   ]
  },
  {
   "cell_type": "markdown",
   "id": "a31a0a2c",
   "metadata": {},
   "source": [
    "merge liquor or hy-vee or spirit count"
   ]
  },
  {
   "cell_type": "code",
   "execution_count": 145,
   "id": "1b524e90",
   "metadata": {},
   "outputs": [],
   "source": [
    "#merge liquor or hy-vee or spirit counts\n",
    "census_combined4 = census_combined4.merge(hy_vee_liquor_or_spirit_df, how='left')\n"
   ]
  },
  {
   "cell_type": "code",
   "execution_count": 146,
   "id": "77992c63",
   "metadata": {},
   "outputs": [
    {
     "data": {
      "text/plain": [
       "(934, 111)"
      ]
     },
     "execution_count": 146,
     "metadata": {},
     "output_type": "execute_result"
    }
   ],
   "source": [
    "census_combined4.shape"
   ]
  },
  {
   "cell_type": "markdown",
   "id": "f0ff8de3",
   "metadata": {},
   "source": [
    "merge store_counts_df2 with Census data to pick up store count columns"
   ]
  },
  {
   "cell_type": "code",
   "execution_count": 20,
   "id": "44bfe4de",
   "metadata": {},
   "outputs": [],
   "source": [
    "# census_combined4.merge(store_counts_df, how='left').head()\n",
    "census_combined4 =census_combined4.merge(store_counts_df2, how='left') "
   ]
  },
  {
   "cell_type": "code",
   "execution_count": 21,
   "id": "571147f1",
   "metadata": {},
   "outputs": [
    {
     "data": {
      "text/html": [
       "<div>\n",
       "<style scoped>\n",
       "    .dataframe tbody tr th:only-of-type {\n",
       "        vertical-align: middle;\n",
       "    }\n",
       "\n",
       "    .dataframe tbody tr th {\n",
       "        vertical-align: top;\n",
       "    }\n",
       "\n",
       "    .dataframe thead th {\n",
       "        text-align: right;\n",
       "    }\n",
       "</style>\n",
       "<table border=\"1\" class=\"dataframe\">\n",
       "  <thead>\n",
       "    <tr style=\"text-align: right;\">\n",
       "      <th></th>\n",
       "      <th>Zip_Code</th>\n",
       "      <th>pct_Married-couple_household</th>\n",
       "      <th>pct_High_school_graduate_or_higher</th>\n",
       "      <th>pct_Bachelors_degree_or_higher</th>\n",
       "      <th>Total_population</th>\n",
       "      <th>Male</th>\n",
       "      <th>Female</th>\n",
       "      <th>Sex_ratio_(males_per_100_females)</th>\n",
       "      <th>Under_5_years</th>\n",
       "      <th>5_to_9_years</th>\n",
       "      <th>10_to_14_years</th>\n",
       "      <th>15_to_19_years</th>\n",
       "      <th>20_to_24_years</th>\n",
       "      <th>25_to_34_years</th>\n",
       "      <th>35_to_44_years</th>\n",
       "      <th>45_to_54_years</th>\n",
       "      <th>55_to_59_years</th>\n",
       "      <th>60_to_64_years</th>\n",
       "      <th>65_to_74_years</th>\n",
       "      <th>75_to_84_years</th>\n",
       "      <th>85_years_and_over</th>\n",
       "      <th>Median_age_(years)</th>\n",
       "      <th>Under_18_years</th>\n",
       "      <th>16_years_and_over</th>\n",
       "      <th>18_years_and_over</th>\n",
       "      <th>21_years_and_over</th>\n",
       "      <th>62_years_and_over</th>\n",
       "      <th>65_years_and_over</th>\n",
       "      <th>Total_population_2015</th>\n",
       "      <th>Median_age_2015</th>\n",
       "      <th>18_years_and_over_2015</th>\n",
       "      <th>21_years_and_over_2015</th>\n",
       "      <th>OCCUPATION</th>\n",
       "      <th>Civilian_employed_population_16_years_and_over</th>\n",
       "      <th>Management,_business,_science,_and_arts_occupations</th>\n",
       "      <th>Service_occupations</th>\n",
       "      <th>Sales_and_office_occupations</th>\n",
       "      <th>Natural_resources,_construction,_and_maintenance_occupations</th>\n",
       "      <th>Production,_transportation,_and_material_moving_occupations</th>\n",
       "      <th>INCOME_AND_BENEFITS_(IN_2020_INFLATION-ADJUSTED_DOLLARS)</th>\n",
       "      <th>Total_households</th>\n",
       "      <th>Less_than_$10,000</th>\n",
       "      <th>$10,000_to_$14,999</th>\n",
       "      <th>$15,000_to_$24,999</th>\n",
       "      <th>$25,000_to_$34,999</th>\n",
       "      <th>$35,000_to_$49,999</th>\n",
       "      <th>$50,000_to_$74,999</th>\n",
       "      <th>$75,000_to_$99,999</th>\n",
       "      <th>$100,000_to_$149,999</th>\n",
       "      <th>$150,000_to_$199,999</th>\n",
       "      <th>$200,000_or_more</th>\n",
       "      <th>Median_household_income_(dollars)</th>\n",
       "      <th>HOUSING_TENURE</th>\n",
       "      <th>Occupied_housing_units</th>\n",
       "      <th>Owner-occupied</th>\n",
       "      <th>Renter-occupied</th>\n",
       "      <th>Average_household_size_of_owner-occupied_unit</th>\n",
       "      <th>Average_household_size_of_renter-occupied_unit</th>\n",
       "      <th>VALUE</th>\n",
       "      <th>Owner-occupied_units</th>\n",
       "      <th>Less_than_$50,000</th>\n",
       "      <th>$50,000_to_$99,999</th>\n",
       "      <th>$100,000_to_$149,999.1</th>\n",
       "      <th>$150,000_to_$199,999.1</th>\n",
       "      <th>$200,000_to_$299,999</th>\n",
       "      <th>$300,000_to_$499,999</th>\n",
       "      <th>$500,000_to_$999,999</th>\n",
       "      <th>$1,000,000_or_more</th>\n",
       "      <th>Median_Home_Market_Value</th>\n",
       "      <th>ALAND20</th>\n",
       "      <th>land_area_sq_kilometers</th>\n",
       "      <th>land_area_sq_miles</th>\n",
       "      <th>number_of_stores</th>\n",
       "      <th>population_growth</th>\n",
       "      <th>population_per_store_None</th>\n",
       "      <th>primary_city</th>\n",
       "      <th>state</th>\n",
       "      <th>county</th>\n",
       "      <th>pct_mgmnt_sc_bs_art</th>\n",
       "      <th>population_density</th>\n",
       "      <th>hy_vee_num_stores</th>\n",
       "      <th>liquor_or_spirit_num_stores</th>\n",
       "      <th>outlier</th>\n",
       "      <th>Convenience</th>\n",
       "      <th>Large</th>\n",
       "      <th>Medium</th>\n",
       "      <th>Smaller</th>\n",
       "    </tr>\n",
       "  </thead>\n",
       "  <tbody>\n",
       "    <tr>\n",
       "      <th>0</th>\n",
       "      <td>50001</td>\n",
       "      <td>68.8</td>\n",
       "      <td>94.2</td>\n",
       "      <td>31.8</td>\n",
       "      <td>749.0</td>\n",
       "      <td>331.0</td>\n",
       "      <td>418.0</td>\n",
       "      <td>79.2</td>\n",
       "      <td>85.0</td>\n",
       "      <td>48.0</td>\n",
       "      <td>55.0</td>\n",
       "      <td>57.0</td>\n",
       "      <td>39.0</td>\n",
       "      <td>43.0</td>\n",
       "      <td>120.0</td>\n",
       "      <td>77.0</td>\n",
       "      <td>66.0</td>\n",
       "      <td>68.0</td>\n",
       "      <td>57.0</td>\n",
       "      <td>34.0</td>\n",
       "      <td>0.0</td>\n",
       "      <td>39.3</td>\n",
       "      <td>227.0</td>\n",
       "      <td>544.0</td>\n",
       "      <td>522.0</td>\n",
       "      <td>500.0</td>\n",
       "      <td>145.0</td>\n",
       "      <td>91.0</td>\n",
       "      <td>734.0</td>\n",
       "      <td>33.8</td>\n",
       "      <td>495.0</td>\n",
       "      <td>480.0</td>\n",
       "      <td>OCCUPATION</td>\n",
       "      <td>357.0</td>\n",
       "      <td>207.0</td>\n",
       "      <td>24.0</td>\n",
       "      <td>64.0</td>\n",
       "      <td>20.0</td>\n",
       "      <td>42.0</td>\n",
       "      <td>INCOME</td>\n",
       "      <td>266.0</td>\n",
       "      <td>0.0</td>\n",
       "      <td>29.0</td>\n",
       "      <td>3.0</td>\n",
       "      <td>5.0</td>\n",
       "      <td>30.0</td>\n",
       "      <td>44.0</td>\n",
       "      <td>37.0</td>\n",
       "      <td>75.0</td>\n",
       "      <td>21.0</td>\n",
       "      <td>22.0</td>\n",
       "      <td>89,773.0</td>\n",
       "      <td>HOUSING_TENURE</td>\n",
       "      <td>266.0</td>\n",
       "      <td>233.0</td>\n",
       "      <td>33.0</td>\n",
       "      <td>2.73</td>\n",
       "      <td>3.42</td>\n",
       "      <td>VALUE</td>\n",
       "      <td>233.0</td>\n",
       "      <td>5.0</td>\n",
       "      <td>23.0</td>\n",
       "      <td>35.0</td>\n",
       "      <td>32.0</td>\n",
       "      <td>49.0</td>\n",
       "      <td>73.0</td>\n",
       "      <td>16.0</td>\n",
       "      <td>0.0</td>\n",
       "      <td>252,600.0</td>\n",
       "      <td>61103508</td>\n",
       "      <td>61.103508</td>\n",
       "      <td>23.59219633331561</td>\n",
       "      <td>0.0</td>\n",
       "      <td>1.0204359673024523</td>\n",
       "      <td>NaN</td>\n",
       "      <td>Ackworth</td>\n",
       "      <td>IA</td>\n",
       "      <td>Warren County</td>\n",
       "      <td>57.98319327731093</td>\n",
       "      <td>31.747785980498275</td>\n",
       "      <td>NaN</td>\n",
       "      <td>NaN</td>\n",
       "      <td>0.0</td>\n",
       "      <td>0.0</td>\n",
       "      <td>0.0</td>\n",
       "      <td>0.0</td>\n",
       "      <td>0.0</td>\n",
       "    </tr>\n",
       "    <tr>\n",
       "      <th>1</th>\n",
       "      <td>50002</td>\n",
       "      <td>64.4</td>\n",
       "      <td>99.3</td>\n",
       "      <td>18.0</td>\n",
       "      <td>1,359.0</td>\n",
       "      <td>687.0</td>\n",
       "      <td>672.0</td>\n",
       "      <td>102.2</td>\n",
       "      <td>101.0</td>\n",
       "      <td>101.0</td>\n",
       "      <td>61.0</td>\n",
       "      <td>50.0</td>\n",
       "      <td>43.0</td>\n",
       "      <td>172.0</td>\n",
       "      <td>119.0</td>\n",
       "      <td>210.0</td>\n",
       "      <td>139.0</td>\n",
       "      <td>124.0</td>\n",
       "      <td>117.0</td>\n",
       "      <td>93.0</td>\n",
       "      <td>29.0</td>\n",
       "      <td>47.7</td>\n",
       "      <td>288.0</td>\n",
       "      <td>1,087.0</td>\n",
       "      <td>1,071.0</td>\n",
       "      <td>1,046.0</td>\n",
       "      <td>295.0</td>\n",
       "      <td>239.0</td>\n",
       "      <td>1,442.0</td>\n",
       "      <td>42.0</td>\n",
       "      <td>1,094.0</td>\n",
       "      <td>1,070.0</td>\n",
       "      <td>OCCUPATION</td>\n",
       "      <td>724.0</td>\n",
       "      <td>245.0</td>\n",
       "      <td>77.0</td>\n",
       "      <td>196.0</td>\n",
       "      <td>83.0</td>\n",
       "      <td>123.0</td>\n",
       "      <td>INCOME</td>\n",
       "      <td>595.0</td>\n",
       "      <td>31.0</td>\n",
       "      <td>3.0</td>\n",
       "      <td>39.0</td>\n",
       "      <td>82.0</td>\n",
       "      <td>110.0</td>\n",
       "      <td>78.0</td>\n",
       "      <td>72.0</td>\n",
       "      <td>113.0</td>\n",
       "      <td>18.0</td>\n",
       "      <td>49.0</td>\n",
       "      <td>64,531.0</td>\n",
       "      <td>HOUSING_TENURE</td>\n",
       "      <td>595.0</td>\n",
       "      <td>438.0</td>\n",
       "      <td>157.0</td>\n",
       "      <td>2.38</td>\n",
       "      <td>1.96</td>\n",
       "      <td>VALUE</td>\n",
       "      <td>438.0</td>\n",
       "      <td>36.0</td>\n",
       "      <td>78.0</td>\n",
       "      <td>131.0</td>\n",
       "      <td>71.0</td>\n",
       "      <td>46.0</td>\n",
       "      <td>9.0</td>\n",
       "      <td>62.0</td>\n",
       "      <td>5.0</td>\n",
       "      <td>124,800.0</td>\n",
       "      <td>286400425</td>\n",
       "      <td>286.400425</td>\n",
       "      <td>110.57982229997388</td>\n",
       "      <td>2.0</td>\n",
       "      <td>0.9424410540915396</td>\n",
       "      <td>679.5</td>\n",
       "      <td>Adair</td>\n",
       "      <td>IA</td>\n",
       "      <td>Adair County</td>\n",
       "      <td>33.83977900552486</td>\n",
       "      <td>12.289764730435104</td>\n",
       "      <td>0.0</td>\n",
       "      <td>0.0</td>\n",
       "      <td>0.0</td>\n",
       "      <td>2.0</td>\n",
       "      <td>0.0</td>\n",
       "      <td>0.0</td>\n",
       "      <td>0.0</td>\n",
       "    </tr>\n",
       "    <tr>\n",
       "      <th>2</th>\n",
       "      <td>50003</td>\n",
       "      <td>60.7</td>\n",
       "      <td>95.0</td>\n",
       "      <td>44.9</td>\n",
       "      <td>7,872.0</td>\n",
       "      <td>3,929.0</td>\n",
       "      <td>3,943.0</td>\n",
       "      <td>99.6</td>\n",
       "      <td>473.0</td>\n",
       "      <td>661.0</td>\n",
       "      <td>608.0</td>\n",
       "      <td>371.0</td>\n",
       "      <td>385.0</td>\n",
       "      <td>608.0</td>\n",
       "      <td>1,596.0</td>\n",
       "      <td>997.0</td>\n",
       "      <td>440.0</td>\n",
       "      <td>580.0</td>\n",
       "      <td>663.0</td>\n",
       "      <td>376.0</td>\n",
       "      <td>114.0</td>\n",
       "      <td>39.6</td>\n",
       "      <td>1,992.0</td>\n",
       "      <td>6,027.0</td>\n",
       "      <td>5,880.0</td>\n",
       "      <td>5,624.0</td>\n",
       "      <td>1,482.0</td>\n",
       "      <td>1,153.0</td>\n",
       "      <td>7,109.0</td>\n",
       "      <td>42.5</td>\n",
       "      <td>5,242.0</td>\n",
       "      <td>5,115.0</td>\n",
       "      <td>OCCUPATION</td>\n",
       "      <td>4,232.0</td>\n",
       "      <td>2,073.0</td>\n",
       "      <td>553.0</td>\n",
       "      <td>951.0</td>\n",
       "      <td>429.0</td>\n",
       "      <td>226.0</td>\n",
       "      <td>INCOME</td>\n",
       "      <td>3,075.0</td>\n",
       "      <td>125.0</td>\n",
       "      <td>72.0</td>\n",
       "      <td>187.0</td>\n",
       "      <td>146.0</td>\n",
       "      <td>269.0</td>\n",
       "      <td>513.0</td>\n",
       "      <td>406.0</td>\n",
       "      <td>691.0</td>\n",
       "      <td>258.0</td>\n",
       "      <td>408.0</td>\n",
       "      <td>88,875.0</td>\n",
       "      <td>HOUSING_TENURE</td>\n",
       "      <td>3,075.0</td>\n",
       "      <td>2,429.0</td>\n",
       "      <td>646.0</td>\n",
       "      <td>2.66</td>\n",
       "      <td>1.9</td>\n",
       "      <td>VALUE</td>\n",
       "      <td>2,429.0</td>\n",
       "      <td>113.0</td>\n",
       "      <td>134.0</td>\n",
       "      <td>248.0</td>\n",
       "      <td>265.0</td>\n",
       "      <td>502.0</td>\n",
       "      <td>730.0</td>\n",
       "      <td>382.0</td>\n",
       "      <td>55.0</td>\n",
       "      <td>292,500.0</td>\n",
       "      <td>297841727</td>\n",
       "      <td>297.841727</td>\n",
       "      <td>114.99733369870988</td>\n",
       "      <td>5.0</td>\n",
       "      <td>1.1073287382191588</td>\n",
       "      <td>1,574.4</td>\n",
       "      <td>Adel</td>\n",
       "      <td>IA</td>\n",
       "      <td>Dallas County</td>\n",
       "      <td>48.98393194706994</td>\n",
       "      <td>68.45376102914214</td>\n",
       "      <td>0.0</td>\n",
       "      <td>1.0</td>\n",
       "      <td>0.0</td>\n",
       "      <td>3.0</td>\n",
       "      <td>1.0</td>\n",
       "      <td>1.0</td>\n",
       "      <td>0.0</td>\n",
       "    </tr>\n",
       "    <tr>\n",
       "      <th>3</th>\n",
       "      <td>50005</td>\n",
       "      <td>64.5</td>\n",
       "      <td>93.5</td>\n",
       "      <td>11.6</td>\n",
       "      <td>1,060.0</td>\n",
       "      <td>462.0</td>\n",
       "      <td>598.0</td>\n",
       "      <td>77.3</td>\n",
       "      <td>44.0</td>\n",
       "      <td>98.0</td>\n",
       "      <td>39.0</td>\n",
       "      <td>66.0</td>\n",
       "      <td>18.0</td>\n",
       "      <td>54.0</td>\n",
       "      <td>238.0</td>\n",
       "      <td>149.0</td>\n",
       "      <td>37.0</td>\n",
       "      <td>41.0</td>\n",
       "      <td>55.0</td>\n",
       "      <td>76.0</td>\n",
       "      <td>145.0</td>\n",
       "      <td>42.9</td>\n",
       "      <td>212.0</td>\n",
       "      <td>864.0</td>\n",
       "      <td>848.0</td>\n",
       "      <td>806.0</td>\n",
       "      <td>299.0</td>\n",
       "      <td>276.0</td>\n",
       "      <td>861.0</td>\n",
       "      <td>44.9</td>\n",
       "      <td>641.0</td>\n",
       "      <td>618.0</td>\n",
       "      <td>OCCUPATION</td>\n",
       "      <td>474.0</td>\n",
       "      <td>59.0</td>\n",
       "      <td>210.0</td>\n",
       "      <td>72.0</td>\n",
       "      <td>22.0</td>\n",
       "      <td>111.0</td>\n",
       "      <td>INCOME</td>\n",
       "      <td>380.0</td>\n",
       "      <td>1.0</td>\n",
       "      <td>0.0</td>\n",
       "      <td>26.0</td>\n",
       "      <td>98.0</td>\n",
       "      <td>49.0</td>\n",
       "      <td>92.0</td>\n",
       "      <td>73.0</td>\n",
       "      <td>39.0</td>\n",
       "      <td>2.0</td>\n",
       "      <td>0.0</td>\n",
       "      <td>56,250.0</td>\n",
       "      <td>HOUSING_TENURE</td>\n",
       "      <td>380.0</td>\n",
       "      <td>307.0</td>\n",
       "      <td>73.0</td>\n",
       "      <td>2.93</td>\n",
       "      <td>2.18</td>\n",
       "      <td>VALUE</td>\n",
       "      <td>307.0</td>\n",
       "      <td>36.0</td>\n",
       "      <td>122.0</td>\n",
       "      <td>90.0</td>\n",
       "      <td>12.0</td>\n",
       "      <td>41.0</td>\n",
       "      <td>6.0</td>\n",
       "      <td>0.0</td>\n",
       "      <td>0.0</td>\n",
       "      <td>99,300.0</td>\n",
       "      <td>70334544</td>\n",
       "      <td>70.334544</td>\n",
       "      <td>27.156319258498637</td>\n",
       "      <td>1.0</td>\n",
       "      <td>1.2311265969802556</td>\n",
       "      <td>1,060.0</td>\n",
       "      <td>Albion</td>\n",
       "      <td>IA</td>\n",
       "      <td>Marshall County</td>\n",
       "      <td>12.447257383966246</td>\n",
       "      <td>39.03327214229412</td>\n",
       "      <td>0.0</td>\n",
       "      <td>0.0</td>\n",
       "      <td>0.0</td>\n",
       "      <td>1.0</td>\n",
       "      <td>0.0</td>\n",
       "      <td>0.0</td>\n",
       "      <td>0.0</td>\n",
       "    </tr>\n",
       "    <tr>\n",
       "      <th>4</th>\n",
       "      <td>50006</td>\n",
       "      <td>54.9</td>\n",
       "      <td>91.6</td>\n",
       "      <td>18.0</td>\n",
       "      <td>1,596.0</td>\n",
       "      <td>821.0</td>\n",
       "      <td>775.0</td>\n",
       "      <td>105.9</td>\n",
       "      <td>99.0</td>\n",
       "      <td>92.0</td>\n",
       "      <td>130.0</td>\n",
       "      <td>60.0</td>\n",
       "      <td>43.0</td>\n",
       "      <td>219.0</td>\n",
       "      <td>235.0</td>\n",
       "      <td>195.0</td>\n",
       "      <td>140.0</td>\n",
       "      <td>132.0</td>\n",
       "      <td>127.0</td>\n",
       "      <td>94.0</td>\n",
       "      <td>30.0</td>\n",
       "      <td>41.4</td>\n",
       "      <td>362.0</td>\n",
       "      <td>1,268.0</td>\n",
       "      <td>1,234.0</td>\n",
       "      <td>1,201.0</td>\n",
       "      <td>334.0</td>\n",
       "      <td>251.0</td>\n",
       "      <td>1,556.0</td>\n",
       "      <td>44.8</td>\n",
       "      <td>1,234.0</td>\n",
       "      <td>1,192.0</td>\n",
       "      <td>OCCUPATION</td>\n",
       "      <td>859.0</td>\n",
       "      <td>268.0</td>\n",
       "      <td>118.0</td>\n",
       "      <td>168.0</td>\n",
       "      <td>153.0</td>\n",
       "      <td>152.0</td>\n",
       "      <td>INCOME</td>\n",
       "      <td>687.0</td>\n",
       "      <td>32.0</td>\n",
       "      <td>22.0</td>\n",
       "      <td>66.0</td>\n",
       "      <td>57.0</td>\n",
       "      <td>129.0</td>\n",
       "      <td>133.0</td>\n",
       "      <td>103.0</td>\n",
       "      <td>114.0</td>\n",
       "      <td>15.0</td>\n",
       "      <td>16.0</td>\n",
       "      <td>56,528.0</td>\n",
       "      <td>HOUSING_TENURE</td>\n",
       "      <td>687.0</td>\n",
       "      <td>470.0</td>\n",
       "      <td>217.0</td>\n",
       "      <td>2.27</td>\n",
       "      <td>2.45</td>\n",
       "      <td>VALUE</td>\n",
       "      <td>470.0</td>\n",
       "      <td>89.0</td>\n",
       "      <td>142.0</td>\n",
       "      <td>110.0</td>\n",
       "      <td>44.0</td>\n",
       "      <td>81.0</td>\n",
       "      <td>2.0</td>\n",
       "      <td>0.0</td>\n",
       "      <td>2.0</td>\n",
       "      <td>101,000.0</td>\n",
       "      <td>321718732</td>\n",
       "      <td>321.718732</td>\n",
       "      <td>124.21629686873864</td>\n",
       "      <td>2.0</td>\n",
       "      <td>1.025706940874036</td>\n",
       "      <td>798.0</td>\n",
       "      <td>Alden</td>\n",
       "      <td>IA</td>\n",
       "      <td>Hardin County</td>\n",
       "      <td>31.19906868451688</td>\n",
       "      <td>12.848555626211583</td>\n",
       "      <td>0.0</td>\n",
       "      <td>1.0</td>\n",
       "      <td>0.0</td>\n",
       "      <td>1.0</td>\n",
       "      <td>0.0</td>\n",
       "      <td>1.0</td>\n",
       "      <td>0.0</td>\n",
       "    </tr>\n",
       "  </tbody>\n",
       "</table>\n",
       "</div>"
      ],
      "text/plain": [
       "  Zip_Code  pct_Married-couple_household  pct_High_school_graduate_or_higher  \\\n",
       "0    50001                          68.8                                94.2   \n",
       "1    50002                          64.4                                99.3   \n",
       "2    50003                          60.7                                95.0   \n",
       "3    50005                          64.5                                93.5   \n",
       "4    50006                          54.9                                91.6   \n",
       "\n",
       "   pct_Bachelors_degree_or_higher  Total_population    Male  Female  \\\n",
       "0                            31.8             749.0   331.0   418.0   \n",
       "1                            18.0           1,359.0   687.0   672.0   \n",
       "2                            44.9           7,872.0 3,929.0 3,943.0   \n",
       "3                            11.6           1,060.0   462.0   598.0   \n",
       "4                            18.0           1,596.0   821.0   775.0   \n",
       "\n",
       "   Sex_ratio_(males_per_100_females)  Under_5_years  5_to_9_years  \\\n",
       "0                               79.2           85.0          48.0   \n",
       "1                              102.2          101.0         101.0   \n",
       "2                               99.6          473.0         661.0   \n",
       "3                               77.3           44.0          98.0   \n",
       "4                              105.9           99.0          92.0   \n",
       "\n",
       "   10_to_14_years  15_to_19_years  20_to_24_years  25_to_34_years  \\\n",
       "0            55.0            57.0            39.0            43.0   \n",
       "1            61.0            50.0            43.0           172.0   \n",
       "2           608.0           371.0           385.0           608.0   \n",
       "3            39.0            66.0            18.0            54.0   \n",
       "4           130.0            60.0            43.0           219.0   \n",
       "\n",
       "   35_to_44_years  45_to_54_years  55_to_59_years  60_to_64_years  \\\n",
       "0           120.0            77.0            66.0            68.0   \n",
       "1           119.0           210.0           139.0           124.0   \n",
       "2         1,596.0           997.0           440.0           580.0   \n",
       "3           238.0           149.0            37.0            41.0   \n",
       "4           235.0           195.0           140.0           132.0   \n",
       "\n",
       "   65_to_74_years  75_to_84_years  85_years_and_over  Median_age_(years)  \\\n",
       "0            57.0            34.0                0.0                39.3   \n",
       "1           117.0            93.0               29.0                47.7   \n",
       "2           663.0           376.0              114.0                39.6   \n",
       "3            55.0            76.0              145.0                42.9   \n",
       "4           127.0            94.0               30.0                41.4   \n",
       "\n",
       "   Under_18_years  16_years_and_over  18_years_and_over  21_years_and_over  \\\n",
       "0           227.0              544.0              522.0              500.0   \n",
       "1           288.0            1,087.0            1,071.0            1,046.0   \n",
       "2         1,992.0            6,027.0            5,880.0            5,624.0   \n",
       "3           212.0              864.0              848.0              806.0   \n",
       "4           362.0            1,268.0            1,234.0            1,201.0   \n",
       "\n",
       "   62_years_and_over  65_years_and_over  Total_population_2015  \\\n",
       "0              145.0               91.0                  734.0   \n",
       "1              295.0              239.0                1,442.0   \n",
       "2            1,482.0            1,153.0                7,109.0   \n",
       "3              299.0              276.0                  861.0   \n",
       "4              334.0              251.0                1,556.0   \n",
       "\n",
       "   Median_age_2015  18_years_and_over_2015  21_years_and_over_2015  \\\n",
       "0             33.8                   495.0                   480.0   \n",
       "1             42.0                 1,094.0                 1,070.0   \n",
       "2             42.5                 5,242.0                 5,115.0   \n",
       "3             44.9                   641.0                   618.0   \n",
       "4             44.8                 1,234.0                 1,192.0   \n",
       "\n",
       "   OCCUPATION  Civilian_employed_population_16_years_and_over  \\\n",
       "0  OCCUPATION                                           357.0   \n",
       "1  OCCUPATION                                           724.0   \n",
       "2  OCCUPATION                                         4,232.0   \n",
       "3  OCCUPATION                                           474.0   \n",
       "4  OCCUPATION                                           859.0   \n",
       "\n",
       "   Management,_business,_science,_and_arts_occupations  Service_occupations  \\\n",
       "0                                              207.0                   24.0   \n",
       "1                                              245.0                   77.0   \n",
       "2                                            2,073.0                  553.0   \n",
       "3                                               59.0                  210.0   \n",
       "4                                              268.0                  118.0   \n",
       "\n",
       "   Sales_and_office_occupations  \\\n",
       "0                          64.0   \n",
       "1                         196.0   \n",
       "2                         951.0   \n",
       "3                          72.0   \n",
       "4                         168.0   \n",
       "\n",
       "   Natural_resources,_construction,_and_maintenance_occupations  \\\n",
       "0                                               20.0              \n",
       "1                                               83.0              \n",
       "2                                              429.0              \n",
       "3                                               22.0              \n",
       "4                                              153.0              \n",
       "\n",
       "   Production,_transportation,_and_material_moving_occupations  \\\n",
       "0                                               42.0             \n",
       "1                                              123.0             \n",
       "2                                              226.0             \n",
       "3                                              111.0             \n",
       "4                                              152.0             \n",
       "\n",
       "  INCOME_AND_BENEFITS_(IN_2020_INFLATION-ADJUSTED_DOLLARS)  Total_households  \\\n",
       "0                                             INCOME                   266.0   \n",
       "1                                             INCOME                   595.0   \n",
       "2                                             INCOME                 3,075.0   \n",
       "3                                             INCOME                   380.0   \n",
       "4                                             INCOME                   687.0   \n",
       "\n",
       "   Less_than_$10,000  $10,000_to_$14,999  $15,000_to_$24,999  \\\n",
       "0                0.0                29.0                 3.0   \n",
       "1               31.0                 3.0                39.0   \n",
       "2              125.0                72.0               187.0   \n",
       "3                1.0                 0.0                26.0   \n",
       "4               32.0                22.0                66.0   \n",
       "\n",
       "   $25,000_to_$34,999  $35,000_to_$49,999  $50,000_to_$74,999  \\\n",
       "0                 5.0                30.0                44.0   \n",
       "1                82.0               110.0                78.0   \n",
       "2               146.0               269.0               513.0   \n",
       "3                98.0                49.0                92.0   \n",
       "4                57.0               129.0               133.0   \n",
       "\n",
       "   $75,000_to_$99,999  $100,000_to_$149,999  $150,000_to_$199,999  \\\n",
       "0                37.0                  75.0                  21.0   \n",
       "1                72.0                 113.0                  18.0   \n",
       "2               406.0                 691.0                 258.0   \n",
       "3                73.0                  39.0                   2.0   \n",
       "4               103.0                 114.0                  15.0   \n",
       "\n",
       "   $200,000_or_more  Median_household_income_(dollars)  HOUSING_TENURE  \\\n",
       "0              22.0                           89,773.0  HOUSING_TENURE   \n",
       "1              49.0                           64,531.0  HOUSING_TENURE   \n",
       "2             408.0                           88,875.0  HOUSING_TENURE   \n",
       "3               0.0                           56,250.0  HOUSING_TENURE   \n",
       "4              16.0                           56,528.0  HOUSING_TENURE   \n",
       "\n",
       "   Occupied_housing_units  Owner-occupied  Renter-occupied  \\\n",
       "0                   266.0           233.0             33.0   \n",
       "1                   595.0           438.0            157.0   \n",
       "2                 3,075.0         2,429.0            646.0   \n",
       "3                   380.0           307.0             73.0   \n",
       "4                   687.0           470.0            217.0   \n",
       "\n",
       "   Average_household_size_of_owner-occupied_unit  \\\n",
       "0                                           2.73   \n",
       "1                                           2.38   \n",
       "2                                           2.66   \n",
       "3                                           2.93   \n",
       "4                                           2.27   \n",
       "\n",
       "   Average_household_size_of_renter-occupied_unit  VALUE  \\\n",
       "0                                            3.42  VALUE   \n",
       "1                                            1.96  VALUE   \n",
       "2                                             1.9  VALUE   \n",
       "3                                            2.18  VALUE   \n",
       "4                                            2.45  VALUE   \n",
       "\n",
       "   Owner-occupied_units  Less_than_$50,000  $50,000_to_$99,999  \\\n",
       "0                 233.0                5.0                23.0   \n",
       "1                 438.0               36.0                78.0   \n",
       "2               2,429.0              113.0               134.0   \n",
       "3                 307.0               36.0               122.0   \n",
       "4                 470.0               89.0               142.0   \n",
       "\n",
       "   $100,000_to_$149,999.1  $150,000_to_$199,999.1  $200,000_to_$299,999  \\\n",
       "0                    35.0                    32.0                  49.0   \n",
       "1                   131.0                    71.0                  46.0   \n",
       "2                   248.0                   265.0                 502.0   \n",
       "3                    90.0                    12.0                  41.0   \n",
       "4                   110.0                    44.0                  81.0   \n",
       "\n",
       "   $300,000_to_$499,999  $500,000_to_$999,999  $1,000,000_or_more  \\\n",
       "0                  73.0                  16.0                 0.0   \n",
       "1                   9.0                  62.0                 5.0   \n",
       "2                 730.0                 382.0                55.0   \n",
       "3                   6.0                   0.0                 0.0   \n",
       "4                   2.0                   0.0                 2.0   \n",
       "\n",
       "   Median_Home_Market_Value    ALAND20  land_area_sq_kilometers  \\\n",
       "0                 252,600.0   61103508                61.103508   \n",
       "1                 124,800.0  286400425               286.400425   \n",
       "2                 292,500.0  297841727               297.841727   \n",
       "3                  99,300.0   70334544                70.334544   \n",
       "4                 101,000.0  321718732               321.718732   \n",
       "\n",
       "   land_area_sq_miles  number_of_stores  population_growth  \\\n",
       "0   23.59219633331561               0.0 1.0204359673024523   \n",
       "1  110.57982229997388               2.0 0.9424410540915396   \n",
       "2  114.99733369870988               5.0 1.1073287382191588   \n",
       "3  27.156319258498637               1.0 1.2311265969802556   \n",
       "4  124.21629686873864               2.0  1.025706940874036   \n",
       "\n",
       "   population_per_store_None primary_city state           county  \\\n",
       "0                        NaN     Ackworth    IA    Warren County   \n",
       "1                      679.5        Adair    IA     Adair County   \n",
       "2                    1,574.4         Adel    IA    Dallas County   \n",
       "3                    1,060.0       Albion    IA  Marshall County   \n",
       "4                      798.0        Alden    IA    Hardin County   \n",
       "\n",
       "   pct_mgmnt_sc_bs_art  population_density  hy_vee_num_stores  \\\n",
       "0    57.98319327731093  31.747785980498275                NaN   \n",
       "1    33.83977900552486  12.289764730435104                0.0   \n",
       "2    48.98393194706994   68.45376102914214                0.0   \n",
       "3   12.447257383966246   39.03327214229412                0.0   \n",
       "4    31.19906868451688  12.848555626211583                0.0   \n",
       "\n",
       "   liquor_or_spirit_num_stores  outlier  Convenience  Large  Medium  Smaller  \n",
       "0                          NaN      0.0          0.0    0.0     0.0      0.0  \n",
       "1                          0.0      0.0          2.0    0.0     0.0      0.0  \n",
       "2                          1.0      0.0          3.0    1.0     1.0      0.0  \n",
       "3                          0.0      0.0          1.0    0.0     0.0      0.0  \n",
       "4                          1.0      0.0          1.0    0.0     1.0      0.0  "
      ]
     },
     "execution_count": 21,
     "metadata": {},
     "output_type": "execute_result"
    }
   ],
   "source": [
    "census_combined4.head()"
   ]
  },
  {
   "cell_type": "code",
   "execution_count": 22,
   "id": "162dd63c",
   "metadata": {},
   "outputs": [],
   "source": [
    "census_combined4['liquor_or_spirit_num_stores'] = census_combined4.liquor_or_spirit_num_stores.fillna(0)\n",
    "# census_combined4.liquor_or_spirit_num_stores.fillna(0)"
   ]
  },
  {
   "cell_type": "code",
   "execution_count": 23,
   "id": "04715dfe",
   "metadata": {},
   "outputs": [
    {
     "data": {
      "text/plain": [
       "0   0.0\n",
       "1   0.0\n",
       "2   1.0\n",
       "3   0.0\n",
       "4   1.0\n",
       "Name: liquor_or_spirit_num_stores, dtype: float64"
      ]
     },
     "execution_count": 23,
     "metadata": {},
     "output_type": "execute_result"
    }
   ],
   "source": [
    "census_combined4.liquor_or_spirit_num_stores.head()"
   ]
  },
  {
   "cell_type": "code",
   "execution_count": 24,
   "id": "ed3a9646",
   "metadata": {},
   "outputs": [],
   "source": [
    "census_combined4['hy_vee_num_stores'] = census_combined4.hy_vee_num_stores.fillna(0)"
   ]
  },
  {
   "cell_type": "code",
   "execution_count": 25,
   "id": "94f7b735",
   "metadata": {},
   "outputs": [
    {
     "data": {
      "text/plain": [
       "0   0.0\n",
       "1   0.0\n",
       "2   0.0\n",
       "3   0.0\n",
       "4   0.0\n",
       "Name: hy_vee_num_stores, dtype: float64"
      ]
     },
     "execution_count": 25,
     "metadata": {},
     "output_type": "execute_result"
    }
   ],
   "source": [
    "census_combined4.hy_vee_num_stores.head()"
   ]
  },
  {
   "cell_type": "code",
   "execution_count": 26,
   "id": "21fcb396",
   "metadata": {},
   "outputs": [
    {
     "data": {
      "text/plain": [
       "[('population_per_store_None', 464, 0.4968),\n",
       " ('pct_mgmnt_sc_bs_art', 3, 0.0032),\n",
       " ('population_growth', 1, 0.0011)]"
      ]
     },
     "execution_count": 26,
     "metadata": {},
     "output_type": "execute_result"
    }
   ],
   "source": [
    "miss_cols(census_combined4)"
   ]
  },
  {
   "cell_type": "code",
   "execution_count": 28,
   "id": "c928445d",
   "metadata": {},
   "outputs": [],
   "source": [
    "census_combined4['liquor_or_spirit_or_hy_vee'] = (census_combined4.hy_vee_num_stores > 0) | (census_combined4.liquor_or_spirit_num_stores > 0)"
   ]
  },
  {
   "cell_type": "code",
   "execution_count": 29,
   "id": "403fbef2",
   "metadata": {},
   "outputs": [
    {
     "data": {
      "text/html": [
       "<div>\n",
       "<style scoped>\n",
       "    .dataframe tbody tr th:only-of-type {\n",
       "        vertical-align: middle;\n",
       "    }\n",
       "\n",
       "    .dataframe tbody tr th {\n",
       "        vertical-align: top;\n",
       "    }\n",
       "\n",
       "    .dataframe thead th {\n",
       "        text-align: right;\n",
       "    }\n",
       "</style>\n",
       "<table border=\"1\" class=\"dataframe\">\n",
       "  <thead>\n",
       "    <tr style=\"text-align: right;\">\n",
       "      <th></th>\n",
       "      <th>Zip_Code</th>\n",
       "      <th>liquor_or_spirit_or_hy_vee</th>\n",
       "      <th>hy_vee_num_stores</th>\n",
       "      <th>liquor_or_spirit_num_stores</th>\n",
       "    </tr>\n",
       "  </thead>\n",
       "  <tbody>\n",
       "    <tr>\n",
       "      <th>0</th>\n",
       "      <td>50001</td>\n",
       "      <td>False</td>\n",
       "      <td>0.0</td>\n",
       "      <td>0.0</td>\n",
       "    </tr>\n",
       "    <tr>\n",
       "      <th>1</th>\n",
       "      <td>50002</td>\n",
       "      <td>False</td>\n",
       "      <td>0.0</td>\n",
       "      <td>0.0</td>\n",
       "    </tr>\n",
       "    <tr>\n",
       "      <th>2</th>\n",
       "      <td>50003</td>\n",
       "      <td>True</td>\n",
       "      <td>0.0</td>\n",
       "      <td>1.0</td>\n",
       "    </tr>\n",
       "    <tr>\n",
       "      <th>3</th>\n",
       "      <td>50005</td>\n",
       "      <td>False</td>\n",
       "      <td>0.0</td>\n",
       "      <td>0.0</td>\n",
       "    </tr>\n",
       "    <tr>\n",
       "      <th>4</th>\n",
       "      <td>50006</td>\n",
       "      <td>True</td>\n",
       "      <td>0.0</td>\n",
       "      <td>1.0</td>\n",
       "    </tr>\n",
       "  </tbody>\n",
       "</table>\n",
       "</div>"
      ],
      "text/plain": [
       "  Zip_Code  liquor_or_spirit_or_hy_vee  hy_vee_num_stores  \\\n",
       "0    50001                       False                0.0   \n",
       "1    50002                       False                0.0   \n",
       "2    50003                        True                0.0   \n",
       "3    50005                       False                0.0   \n",
       "4    50006                        True                0.0   \n",
       "\n",
       "   liquor_or_spirit_num_stores  \n",
       "0                          0.0  \n",
       "1                          0.0  \n",
       "2                          1.0  \n",
       "3                          0.0  \n",
       "4                          1.0  "
      ]
     },
     "execution_count": 29,
     "metadata": {},
     "output_type": "execute_result"
    }
   ],
   "source": [
    "census_combined4[['Zip_Code','liquor_or_spirit_or_hy_vee','hy_vee_num_stores','liquor_or_spirit_num_stores']].head()"
   ]
  },
  {
   "cell_type": "code",
   "execution_count": 151,
   "id": "57435f48",
   "metadata": {},
   "outputs": [
    {
     "data": {
      "text/plain": [
       "count      470.0\n",
       "mean     1,448.0\n",
       "std        933.0\n",
       "min         20.0\n",
       "25%        893.0\n",
       "50%      1,266.0\n",
       "75%      1,735.0\n",
       "max     12,832.0\n",
       "Name: population_per_store_None, dtype: float64"
      ]
     },
     "execution_count": 151,
     "metadata": {},
     "output_type": "execute_result"
    }
   ],
   "source": [
    "\n",
    "census_combined4['population_per_store_None'].describe().round()"
   ]
  },
  {
   "cell_type": "code",
   "execution_count": 38,
   "id": "b6f62658",
   "metadata": {},
   "outputs": [],
   "source": [
    "# Owner-occupied/Occupied_housing_units\n",
    "# Renter-occupied/Occupied_housing_units  \n",
    "census_combined4['pct_owner_occup_hous'] = census_combined4['Owner-occupied']/census_combined4['Occupied_housing_units']\n",
    "census_combined4['pct_rent_occup_hous'] = census_combined4['Renter-occupied']/census_combined4['Occupied_housing_units']"
   ]
  },
  {
   "cell_type": "code",
   "execution_count": 39,
   "id": "a283c083",
   "metadata": {},
   "outputs": [],
   "source": [
    "\n",
    "\n",
    "census_combined4['pop_25_to_44']  = census_combined4['25_to_34_years'] + census_combined4['35_to_44_years']\n",
    "\n",
    "census_combined4['pop_25_to_54'] = census_combined4['25_to_34_years'] + census_combined4['35_to_44_years'] + census_combined4['45_to_54_years']\n",
    "\n",
    "# census_combined4['pop_25_to_44'].describe()"
   ]
  },
  {
   "cell_type": "code",
   "execution_count": 40,
   "id": "1c779317",
   "metadata": {},
   "outputs": [
    {
     "data": {
      "text/plain": [
       "778218.0"
      ]
     },
     "execution_count": 40,
     "metadata": {},
     "output_type": "execute_result"
    }
   ],
   "source": [
    "census_combined4['pop_25_to_44'].sum() # 778,218"
   ]
  },
  {
   "cell_type": "code",
   "execution_count": 41,
   "id": "d4e7f6d7",
   "metadata": {},
   "outputs": [],
   "source": [
    "census_combined4['pct_25_to_44'] = round(census_combined4['pop_25_to_44']/census_combined4['Total_population']*100,2)"
   ]
  },
  {
   "cell_type": "code",
   "execution_count": 42,
   "id": "94c6408f",
   "metadata": {},
   "outputs": [
    {
     "data": {
      "text/plain": [
       "count   932.0\n",
       "mean    21.83\n",
       "std      6.02\n",
       "min       0.0\n",
       "25%     18.48\n",
       "50%     22.01\n",
       "75%     25.08\n",
       "max     52.27\n",
       "Name: pct_25_to_44, dtype: float64"
      ]
     },
     "execution_count": 42,
     "metadata": {},
     "output_type": "execute_result"
    }
   ],
   "source": [
    "census_combined4['pct_25_to_44'].describe().round(2)"
   ]
  },
  {
   "cell_type": "code",
   "execution_count": 43,
   "id": "972ca082",
   "metadata": {},
   "outputs": [],
   "source": [
    "# 21_years_and_over/Total_population\n",
    "\n",
    "census_combined4['pct_21_years_and_over'] = round(100 * census_combined4['21_years_and_over']/census_combined4['Total_population'],2)"
   ]
  },
  {
   "cell_type": "code",
   "execution_count": 44,
   "id": "1ca87eaf",
   "metadata": {},
   "outputs": [
    {
     "data": {
      "text/plain": [
       "count   932.0\n",
       "mean     74.2\n",
       "std      7.64\n",
       "min       5.5\n",
       "25%     70.37\n",
       "50%     74.07\n",
       "75%     77.83\n",
       "max     100.0\n",
       "Name: pct_21_years_and_over, dtype: float64"
      ]
     },
     "execution_count": 44,
     "metadata": {},
     "output_type": "execute_result"
    }
   ],
   "source": [
    "census_combined4['pct_21_years_and_over'].describe().round(2)"
   ]
  },
  {
   "cell_type": "code",
   "execution_count": 168,
   "id": "539053ea",
   "metadata": {},
   "outputs": [
    {
     "data": {
      "text/plain": [
       "count                 934.0\n",
       "mean     1,232.389721627409\n",
       "std     2,609.8509622519746\n",
       "min                     0.0\n",
       "25%                  144.25\n",
       "50%                   336.5\n",
       "75%                   865.0\n",
       "max                18,350.0\n",
       "Name: pop_25_to_54, dtype: float64"
      ]
     },
     "execution_count": 168,
     "metadata": {},
     "output_type": "execute_result"
    }
   ],
   "source": [
    "census_combined4['pop_25_to_54'].describe()"
   ]
  },
  {
   "cell_type": "code",
   "execution_count": 46,
   "id": "7499e5fe",
   "metadata": {},
   "outputs": [
    {
     "data": {
      "text/plain": [
       "1151052.0"
      ]
     },
     "execution_count": 46,
     "metadata": {},
     "output_type": "execute_result"
    }
   ],
   "source": [
    "census_combined4.pop_25_to_54.sum() # 1,151,052"
   ]
  },
  {
   "cell_type": "code",
   "execution_count": 47,
   "id": "46b73b5b",
   "metadata": {},
   "outputs": [],
   "source": [
    "census_combined4['pct_25_to_54_years'] = round(census_combined4['pop_25_to_54']/census_combined4['Total_population']*100,2)"
   ]
  },
  {
   "cell_type": "code",
   "execution_count": 169,
   "id": "b42e31d6",
   "metadata": {},
   "outputs": [],
   "source": [
    "# census_combined4['pct_25_to_54_years'].head()"
   ]
  },
  {
   "cell_type": "code",
   "execution_count": 49,
   "id": "a64fb25e",
   "metadata": {},
   "outputs": [],
   "source": [
    "# 25_to_34_years, Total_population \n",
    "census_combined4['pct_25_to_34_years'] = round(census_combined4['25_to_34_years']/census_combined4['Total_population']*100,2)"
   ]
  },
  {
   "cell_type": "code",
   "execution_count": 170,
   "id": "4d38fd6f",
   "metadata": {},
   "outputs": [],
   "source": [
    "# census_combined4['pct_25_to_34_years'].head()"
   ]
  },
  {
   "cell_type": "code",
   "execution_count": 51,
   "id": "a1f2101f",
   "metadata": {},
   "outputs": [
    {
     "data": {
      "text/plain": [
       "count       934.0\n",
       "mean     60,836.0\n",
       "std      18,857.0\n",
       "min           0.0\n",
       "25%      51,447.0\n",
       "50%      59,750.0\n",
       "75%      69,393.0\n",
       "max     162,059.0\n",
       "Name: Median_household_income_(dollars), dtype: float64"
      ]
     },
     "execution_count": 51,
     "metadata": {},
     "output_type": "execute_result"
    }
   ],
   "source": [
    "census_combined4['Median_household_income_(dollars)'].describe().round()"
   ]
  },
  {
   "cell_type": "code",
   "execution_count": 152,
   "id": "3f32218d",
   "metadata": {},
   "outputs": [],
   "source": [
    "census_combined4['population_density'] = census_combined4['population_density'].round()"
   ]
  },
  {
   "cell_type": "code",
   "execution_count": 54,
   "id": "5f4de8f9",
   "metadata": {},
   "outputs": [
    {
     "data": {
      "text/plain": [
       "<AxesSubplot:xlabel='population_density', ylabel='Count'>"
      ]
     },
     "execution_count": 54,
     "metadata": {},
     "output_type": "execute_result"
    },
    {
     "data": {
      "image/png": "[encoded data removed]",
      "text/plain": [
       "<Figure size 1080x576 with 1 Axes>"
      ]
     },
     "metadata": {},
     "output_type": "display_data"
    }
   ],
   "source": [
    "import seaborn as sns\n",
    "sns.set(rc = {'figure.figsize':(15,8)})\n",
    "sns.histplot(census_combined4[['population_density']]['population_density'], bins=50)"
   ]
  },
  {
   "cell_type": "code",
   "execution_count": 55,
   "id": "1a603acf",
   "metadata": {},
   "outputs": [
    {
     "data": {
      "text/plain": [
       "<AxesSubplot:xlabel='pct_21_years_and_over', ylabel='Count'>"
      ]
     },
     "execution_count": 55,
     "metadata": {},
     "output_type": "execute_result"
    },
    {
     "data": {
      "image/png": "[encoded data removed]",
      "text/plain": [
       "<Figure size 1080x576 with 1 Axes>"
      ]
     },
     "metadata": {},
     "output_type": "display_data"
    }
   ],
   "source": [
    "import seaborn as sns\n",
    "sns.set(rc = {'figure.figsize':(15,8)})\n",
    "sns.histplot(census_combined4[['pct_21_years_and_over']]['pct_21_years_and_over'], bins=50)"
   ]
  },
  {
   "cell_type": "code",
   "execution_count": 56,
   "id": "fd364802",
   "metadata": {},
   "outputs": [
    {
     "data": {
      "text/plain": [
       "<AxesSubplot:xlabel='Total_population', ylabel='Count'>"
      ]
     },
     "execution_count": 56,
     "metadata": {},
     "output_type": "execute_result"
    },
    {
     "data": {
      "image/png": "[encoded data removed]",
      "text/plain": [
       "<Figure size 1080x576 with 1 Axes>"
      ]
     },
     "metadata": {},
     "output_type": "display_data"
    }
   ],
   "source": [
    "\n",
    "# Total_population\n",
    "sns.set(rc = {'figure.figsize':(15,8)})\n",
    "sns.histplot(census_combined4[['Total_population']]['Total_population'], bins=50)"
   ]
  },
  {
   "cell_type": "code",
   "execution_count": 57,
   "id": "ff4754d6",
   "metadata": {},
   "outputs": [],
   "source": [
    "census_combined4['population_per_store_None'] = census_combined4['population_per_store_None'].round()"
   ]
  },
  {
   "cell_type": "code",
   "execution_count": 58,
   "id": "c5405805",
   "metadata": {},
   "outputs": [],
   "source": [
    "# number_of_stores\n",
    "census_combined4['no_stores'] = census_combined4['number_of_stores'] == 0"
   ]
  },
  {
   "cell_type": "code",
   "execution_count": 59,
   "id": "05ab048e",
   "metadata": {},
   "outputs": [
    {
     "data": {
      "text/plain": [
       "False    470\n",
       "True     464\n",
       "Name: no_stores, dtype: int64"
      ]
     },
     "execution_count": 59,
     "metadata": {},
     "output_type": "execute_result"
    }
   ],
   "source": [
    "census_combined4['no_stores'].value_counts()"
   ]
  },
  {
   "cell_type": "code",
   "execution_count": 60,
   "id": "b9c8a89e",
   "metadata": {},
   "outputs": [],
   "source": [
    "# list(census_combined4.columns)"
   ]
  },
  {
   "cell_type": "code",
   "execution_count": 61,
   "id": "627591f4",
   "metadata": {},
   "outputs": [],
   "source": [
    "census_combined4['land_area_sq_miles'] = round(census_combined4['land_area_sq_miles'])"
   ]
  },
  {
   "cell_type": "code",
   "execution_count": 62,
   "id": "14826a48",
   "metadata": {},
   "outputs": [],
   "source": [
    "# census_combined4.loc[(census_combined4['number_of_stores'] == 0) & (census_combined4['pct_Bachelors_degree_or_higher'] > 30),['population_per_store_None','Total_population','population_density','Median_age_(years)','land_area_sq_miles']].sort_values(by='population_per_store_None',ascending=False)"
   ]
  },
  {
   "cell_type": "code",
   "execution_count": 63,
   "id": "f94f7f4a",
   "metadata": {},
   "outputs": [
    {
     "name": "stdout",
     "output_type": "stream",
     "text": [
      "zips_med_income_gt_75K =  163\n"
     ]
    }
   ],
   "source": [
    "# (163, 9)\n",
    "print('zips_med_income_gt_75K = ',census_combined4.loc[census_combined4['Median_household_income_(dollars)'] > 75000,['Zip_Code','Median_household_income_(dollars)','population_density', 'population_per_store_None','pct_25_to_54_years', 'pct_25_to_44','Median_age_(years)','primary_city','county']].shape[0])"
   ]
  },
  {
   "cell_type": "code",
   "execution_count": 64,
   "id": "e8ce2d94",
   "metadata": {},
   "outputs": [
    {
     "data": {
      "text/plain": [
       "(163, 9)"
      ]
     },
     "execution_count": 64,
     "metadata": {},
     "output_type": "execute_result"
    }
   ],
   "source": [
    "census_combined4.loc[census_combined4['Median_household_income_(dollars)'] > 75000,['Zip_Code','Median_household_income_(dollars)','population_density', 'population_per_store_None','pct_25_to_54_years', 'pct_25_to_44','Median_age_(years)','primary_city','county']].shape"
   ]
  },
  {
   "cell_type": "code",
   "execution_count": 67,
   "id": "5662d11d",
   "metadata": {},
   "outputs": [
    {
     "data": {
      "text/plain": [
       "count   934.0\n",
       "mean     60.0\n",
       "std      47.0\n",
       "min       0.0\n",
       "25%      28.0\n",
       "50%      49.0\n",
       "75%      83.0\n",
       "max     338.0\n",
       "Name: land_area_sq_miles, dtype: float64"
      ]
     },
     "execution_count": 67,
     "metadata": {},
     "output_type": "execute_result"
    }
   ],
   "source": [
    "census_combined4['land_area_sq_miles'].describe().round()"
   ]
  },
  {
   "cell_type": "code",
   "execution_count": 68,
   "id": "c46f6ded",
   "metadata": {},
   "outputs": [
    {
     "data": {
      "text/plain": [
       "count      470.0\n",
       "mean     1,448.0\n",
       "std        933.0\n",
       "min         20.0\n",
       "25%        893.0\n",
       "50%      1,266.0\n",
       "75%      1,735.0\n",
       "max     12,832.0\n",
       "Name: population_per_store_None, dtype: float64"
      ]
     },
     "execution_count": 68,
     "metadata": {},
     "output_type": "execute_result"
    }
   ],
   "source": [
    "census_combined4.population_per_store_None.describe().round()"
   ]
  },
  {
   "cell_type": "code",
   "execution_count": 69,
   "id": "ab632418",
   "metadata": {},
   "outputs": [
    {
     "data": {
      "text/plain": [
       "count   934.0\n",
       "mean     21.0\n",
       "std      11.0\n",
       "min       0.0\n",
       "25%      14.0\n",
       "50%      19.0\n",
       "75%      25.0\n",
       "max      78.0\n",
       "Name: pct_Bachelors_degree_or_higher, dtype: float64"
      ]
     },
     "execution_count": 69,
     "metadata": {},
     "output_type": "execute_result"
    }
   ],
   "source": [
    "census_combined4.pct_Bachelors_degree_or_higher.describe().round()"
   ]
  },
  {
   "cell_type": "code",
   "execution_count": 70,
   "id": "7929c35c",
   "metadata": {},
   "outputs": [
    {
     "name": "stdout",
     "output_type": "stream",
     "text": [
      "The number of zips with pct Bach degree plus_gt_30 =  119\n"
     ]
    }
   ],
   "source": [
    "print('The number of zips with pct Bach degree plus_gt_30 = ',np.sum(census_combined4['pct_Bachelors_degree_or_higher'] > 30))\n",
    "\n",
    "# \n",
    "# census_combined4['Bach_degree_plus_gt_30_pct'] = census_combined4['pct_Bachelors_degree_or_higher'] > 30"
   ]
  },
  {
   "cell_type": "code",
   "execution_count": 75,
   "id": "62e0f1b5",
   "metadata": {},
   "outputs": [],
   "source": [
    "census_combined4['pop_25_to_54_yr_to_stores'] = census_combined4['pop_25_to_54'].div(census_combined4['number_of_stores']).replace(np.inf,None)"
   ]
  },
  {
   "cell_type": "code",
   "execution_count": 171,
   "id": "3be94f29",
   "metadata": {},
   "outputs": [],
   "source": [
    "# census_combined4['pop_25_to_54_yr_to_stores'].head() "
   ]
  },
  {
   "cell_type": "code",
   "execution_count": 77,
   "id": "34b67eae",
   "metadata": {},
   "outputs": [
    {
     "data": {
      "text/plain": [
       "count      934.0\n",
       "mean       195.0\n",
       "std        699.0\n",
       "min          0.0\n",
       "25%         13.0\n",
       "50%         21.0\n",
       "75%         51.0\n",
       "max     13,327.0\n",
       "Name: population_density, dtype: float64"
      ]
     },
     "execution_count": 77,
     "metadata": {},
     "output_type": "execute_result"
    }
   ],
   "source": [
    "census_combined4.population_density.describe().round()"
   ]
  },
  {
   "cell_type": "code",
   "execution_count": 80,
   "id": "d50fd2ae",
   "metadata": {},
   "outputs": [],
   "source": [
    "census_combined4['pct_change_population'] = round(100 *  (census_combined4.Total_population - census_combined4.Total_population_2015)/census_combined4.Total_population_2015,2)"
   ]
  },
  {
   "cell_type": "code",
   "execution_count": 81,
   "id": "e5e120f8",
   "metadata": {},
   "outputs": [
    {
     "data": {
      "text/plain": [
       "0    2.04\n",
       "1   -5.76\n",
       "2   10.73\n",
       "3   23.11\n",
       "4    2.57\n",
       "Name: pct_change_population, dtype: float64"
      ]
     },
     "execution_count": 81,
     "metadata": {},
     "output_type": "execute_result"
    }
   ],
   "source": [
    "census_combined4['pct_change_population'].head()"
   ]
  },
  {
   "cell_type": "code",
   "execution_count": 82,
   "id": "aef0fefb",
   "metadata": {},
   "outputs": [
    {
     "data": {
      "text/plain": [
       "1.83"
      ]
     },
     "execution_count": 82,
     "metadata": {},
     "output_type": "execute_result"
    }
   ],
   "source": [
    "# iowa_pct_change_population = round(100 *  (3,150,011 - 3,093,526)/3,093,526\n",
    "iowa_pct_change_population = round(100 *  (3150011 - 3093526)/3093526,2)\n",
    "iowa_pct_change_population"
   ]
  },
  {
   "cell_type": "code",
   "execution_count": 154,
   "id": "1db82784",
   "metadata": {},
   "outputs": [],
   "source": [
    "census_combined4['pct_change_population_index'] = round(census_combined4['pct_change_population']/iowa_pct_change_population *100,2)"
   ]
  },
  {
   "cell_type": "code",
   "execution_count": 84,
   "id": "abbcecab",
   "metadata": {},
   "outputs": [
    {
     "data": {
      "text/plain": [
       "0   108.53\n",
       "1    61.43\n",
       "Name: bachelor_degree_index, dtype: float64"
      ]
     },
     "execution_count": 84,
     "metadata": {},
     "output_type": "execute_result"
    }
   ],
   "source": [
    "# 29.3%\n",
    "iowa_pct_Bachelors_degree_or_higher = 29.3\n",
    "\n",
    "census_combined4['bachelor_degree_index'] = round(census_combined4['pct_Bachelors_degree_or_higher']/iowa_pct_Bachelors_degree_or_higher *100,2)\n",
    "census_combined4['bachelor_degree_index'].head(2)"
   ]
  },
  {
   "cell_type": "code",
   "execution_count": 85,
   "id": "c258f376",
   "metadata": {},
   "outputs": [
    {
     "data": {
      "text/plain": [
       "0   145.18\n",
       "1   104.36\n",
       "2   143.73\n",
       "3    90.97\n",
       "4    91.42\n",
       "Name: median_hh_income_index, dtype: float64"
      ]
     },
     "execution_count": 85,
     "metadata": {},
     "output_type": "execute_result"
    }
   ],
   "source": [
    "# iowa_median_hh_income = \t61,836\n",
    "iowa_median_hh_income = 61836\n",
    "# median_hh_income\n",
    "census_combined4['median_hh_income_index'] = round(census_combined4['Median_household_income_(dollars)']/iowa_median_hh_income *100,2)\n",
    "census_combined4['median_hh_income_index'].head()"
   ]
  },
  {
   "cell_type": "code",
   "execution_count": 86,
   "id": "2cb9af47",
   "metadata": {},
   "outputs": [],
   "source": [
    "# iowa land_area_sq_miles = 55,857.13\n",
    "iowa_pop_density = 54.5"
   ]
  },
  {
   "cell_type": "code",
   "execution_count": 87,
   "id": "c99fad3c",
   "metadata": {},
   "outputs": [
    {
     "data": {
      "text/plain": [
       "0    58.72\n",
       "1    22.02\n",
       "2   124.77\n",
       "3    71.56\n",
       "4    23.85\n",
       "Name: pop_density_index, dtype: float64"
      ]
     },
     "execution_count": 87,
     "metadata": {},
     "output_type": "execute_result"
    }
   ],
   "source": [
    "census_combined4['pop_density_index'] = round(census_combined4['population_density']/iowa_pop_density *100,2)\n",
    "census_combined4['pop_density_index'].head()"
   ]
  },
  {
   "cell_type": "code",
   "execution_count": 89,
   "id": "610a118b",
   "metadata": {},
   "outputs": [],
   "source": [
    "# sort_by_pop_per_store_df = census_combined4.loc[census_combined4.pct_Bachelors_degree_or_higher > 30, ['Zip_Code','population_per_store_None','Total_population','pct_change_population','population_density','land_area_sq_miles','Median_age_(years)','pct_25_to_44','Median_household_income_(dollars)', 'number_of_stores','hy_vee_num_stores',\n",
    "#                                                                              'liquor_or_spirit_num_stores','primary_city','county']].sort_values(by='population_per_store_None', ascending=False)"
   ]
  },
  {
   "cell_type": "code",
   "execution_count": 90,
   "id": "7e7b7185",
   "metadata": {},
   "outputs": [],
   "source": [
    "# sort_by_pop_per_store_df.to_csv(r'C:\\Users\\dgarb\\OneDrive\\Desktop\\Capstone Data\\liquor_2021\\sort_by_pop_per_store_df.csv')"
   ]
  },
  {
   "cell_type": "code",
   "execution_count": 91,
   "id": "413142a6",
   "metadata": {},
   "outputs": [],
   "source": [
    "# sort_by_pop_per_store_df"
   ]
  },
  {
   "cell_type": "code",
   "execution_count": 92,
   "id": "0ce69f10",
   "metadata": {},
   "outputs": [
    {
     "data": {
      "text/html": [
       "<div>\n",
       "<style scoped>\n",
       "    .dataframe tbody tr th:only-of-type {\n",
       "        vertical-align: middle;\n",
       "    }\n",
       "\n",
       "    .dataframe tbody tr th {\n",
       "        vertical-align: top;\n",
       "    }\n",
       "\n",
       "    .dataframe thead th {\n",
       "        text-align: right;\n",
       "    }\n",
       "</style>\n",
       "<table border=\"1\" class=\"dataframe\">\n",
       "  <thead>\n",
       "    <tr style=\"text-align: right;\">\n",
       "      <th></th>\n",
       "      <th>Zip_Code</th>\n",
       "      <th>population_per_store_None</th>\n",
       "      <th>21_years_and_over</th>\n",
       "      <th>Total_population</th>\n",
       "      <th>pct_change_population</th>\n",
       "      <th>population_density</th>\n",
       "      <th>land_area_sq_miles</th>\n",
       "      <th>Median_age_(years)</th>\n",
       "      <th>pct_25_to_44</th>\n",
       "      <th>Median_household_income_(dollars)</th>\n",
       "      <th>number_of_stores</th>\n",
       "      <th>hy_vee_num_stores</th>\n",
       "      <th>liquor_or_spirit_num_stores</th>\n",
       "      <th>primary_city</th>\n",
       "      <th>county</th>\n",
       "    </tr>\n",
       "  </thead>\n",
       "  <tbody>\n",
       "    <tr>\n",
       "      <th>200</th>\n",
       "      <td>50323</td>\n",
       "      <td>3,718.0</td>\n",
       "      <td>9,359.0</td>\n",
       "      <td>14,870.0</td>\n",
       "      <td>22.2</td>\n",
       "      <td>1,468.0</td>\n",
       "      <td>10.0</td>\n",
       "      <td>35.5</td>\n",
       "      <td>25.8</td>\n",
       "      <td>144,180.0</td>\n",
       "      <td>4.0</td>\n",
       "      <td>0.0</td>\n",
       "      <td>0.0</td>\n",
       "      <td>Urbandale</td>\n",
       "      <td>Dallas County</td>\n",
       "    </tr>\n",
       "    <tr>\n",
       "      <th>199</th>\n",
       "      <td>50322</td>\n",
       "      <td>1,408.0</td>\n",
       "      <td>23,424.0</td>\n",
       "      <td>30,980.0</td>\n",
       "      <td>-3.05</td>\n",
       "      <td>2,862.0</td>\n",
       "      <td>11.0</td>\n",
       "      <td>40.3</td>\n",
       "      <td>27.59</td>\n",
       "      <td>74,205.0</td>\n",
       "      <td>22.0</td>\n",
       "      <td>5.0</td>\n",
       "      <td>1.0</td>\n",
       "      <td>Urbandale</td>\n",
       "      <td>Polk County</td>\n",
       "    </tr>\n",
       "  </tbody>\n",
       "</table>\n",
       "</div>"
      ],
      "text/plain": [
       "    Zip_Code  population_per_store_None  21_years_and_over  Total_population  \\\n",
       "200    50323                    3,718.0            9,359.0          14,870.0   \n",
       "199    50322                    1,408.0           23,424.0          30,980.0   \n",
       "\n",
       "     pct_change_population  population_density  land_area_sq_miles  \\\n",
       "200                   22.2             1,468.0                10.0   \n",
       "199                  -3.05             2,862.0                11.0   \n",
       "\n",
       "     Median_age_(years)  pct_25_to_44  Median_household_income_(dollars)  \\\n",
       "200                35.5          25.8                          144,180.0   \n",
       "199                40.3         27.59                           74,205.0   \n",
       "\n",
       "     number_of_stores  hy_vee_num_stores  liquor_or_spirit_num_stores  \\\n",
       "200               4.0                0.0                          0.0   \n",
       "199              22.0                5.0                          1.0   \n",
       "\n",
       "    primary_city         county  \n",
       "200    Urbandale  Dallas County  \n",
       "199    Urbandale    Polk County  "
      ]
     },
     "execution_count": 92,
     "metadata": {},
     "output_type": "execute_result"
    }
   ],
   "source": [
    "# Urbandale\n",
    "census_combined4.loc[census_combined4.primary_city == 'Urbandale', ['Zip_Code','population_per_store_None','21_years_and_over','Total_population','pct_change_population','population_density','land_area_sq_miles','Median_age_(years)','pct_25_to_44','Median_household_income_(dollars)', 'number_of_stores','hy_vee_num_stores',\n",
    "                                                                             'liquor_or_spirit_num_stores','primary_city','county']].sort_values(by='population_per_store_None', ascending=False)\n"
   ]
  },
  {
   "cell_type": "markdown",
   "id": "af450f2f",
   "metadata": {},
   "source": [
    "IOWA\n",
    "\n",
    "Total households\t1,273,941\n",
    "\n",
    "Number HH Income 75k+ = 518,919\n",
    "\n",
    "\n",
    "\n",
    "iowa_pct_75K_plus = 40.73%"
   ]
  },
  {
   "cell_type": "code",
   "execution_count": 93,
   "id": "c46661ab",
   "metadata": {},
   "outputs": [],
   "source": [
    "# '$75,000_to_$99,999', '$100,000_to_$149,999',\n",
    "#        '$150,000_to_$199,999', '$200,000_or_more'\n",
    "\n",
    "# 'Total_households'\n",
    "\n",
    "census_combined4['num_HH_income_75k_plus'] = census_combined4['$75,000_to_$99,999']  + census_combined4['$100,000_to_$149,999'] + \\\n",
    "census_combined4['$150,000_to_$199,999'] + census_combined4['$200,000_or_more']\n",
    "\n",
    "census_combined4['pct_HH_income_75k_plus'] = round(census_combined4['num_HH_income_75k_plus']/census_combined4['Total_households']*100,2)"
   ]
  },
  {
   "cell_type": "code",
   "execution_count": 94,
   "id": "efcfeab5",
   "metadata": {},
   "outputs": [],
   "source": [
    "iowa_num_HH_income_75k_plus = 518919\n",
    "\n",
    "iowa_pct_HH_income_75k_plus = 40.73"
   ]
  },
  {
   "cell_type": "code",
   "execution_count": 95,
   "id": "a47e6aa9",
   "metadata": {},
   "outputs": [
    {
     "data": {
      "text/plain": [
       "0   143.06\n",
       "1   103.98\n",
       "2   140.76\n",
       "3    73.66\n",
       "4    88.63\n",
       "Name: iowa_pct_HH_income_75k_plus_index, dtype: float64"
      ]
     },
     "execution_count": 95,
     "metadata": {},
     "output_type": "execute_result"
    }
   ],
   "source": [
    "census_combined4['iowa_pct_HH_income_75k_plus_index'] = round(census_combined4['pct_HH_income_75k_plus']/iowa_pct_HH_income_75k_plus *100,2)\n",
    "census_combined4['iowa_pct_HH_income_75k_plus_index'].head()"
   ]
  },
  {
   "cell_type": "raw",
   "id": "60698a8f",
   "metadata": {},
   "source": [
    "According to bedfordresearch.com based o Pew Research and US Census Bureau\n",
    "\n",
    "Gen Z - 10 - 25\n",
    "Millenials 26 - 41 Census data 'pct_25_to_44',\n",
    "Gen X 42 - 57\n",
    "Boomders II 58 -7"
   ]
  },
  {
   "cell_type": "code",
   "execution_count": 96,
   "id": "b8966d0e",
   "metadata": {},
   "outputs": [],
   "source": [
    "# list(census_combined4.columns)"
   ]
  },
  {
   "cell_type": "code",
   "execution_count": 97,
   "id": "e4d8e03a",
   "metadata": {},
   "outputs": [],
   "source": [
    "    \n",
    "census_combined4['pop_45_to_59'] = census_combined4['45_to_54_years'] + census_combined4['55_to_59_years']\n",
    "census_combined4['pct_45_to_59'] = round(census_combined4['pop_45_to_59']/census_combined4.Total_population *100, 2)"
   ]
  },
  {
   "cell_type": "code",
   "execution_count": 98,
   "id": "c950ea0a",
   "metadata": {},
   "outputs": [],
   "source": [
    "sort_by_pop_per_store_df2 = census_combined4.loc[census_combined4.pct_Bachelors_degree_or_higher > 30, ['Zip_Code','pct_Bachelors_degree_or_higher','population_per_store_None','Total_population','pct_change_population','population_density','land_area_sq_miles','Median_age_(years)','pop_25_to_44','pct_25_to_44','pop_45_to_59','pct_45_to_59','Total_households','num_HH_income_75k_plus','pct_HH_income_75k_plus','Median_household_income_(dollars)', 'number_of_stores','hy_vee_num_stores',\n",
    "                                                                             'liquor_or_spirit_num_stores','primary_city','county']].sort_values(by='population_per_store_None', ascending=False)"
   ]
  },
  {
   "cell_type": "code",
   "execution_count": 101,
   "id": "23d8f5f9",
   "metadata": {},
   "outputs": [],
   "source": [
    "# census_combined4['density_HH_income_75k_plus']= round( census_combined4['num_HH_income_75k_plus']/census_combined4['land_area_sq_miles'],2)"
   ]
  },
  {
   "cell_type": "code",
   "execution_count": 103,
   "id": "3c718838",
   "metadata": {},
   "outputs": [
    {
     "data": {
      "text/html": [
       "<div>\n",
       "<style scoped>\n",
       "    .dataframe tbody tr th:only-of-type {\n",
       "        vertical-align: middle;\n",
       "    }\n",
       "\n",
       "    .dataframe tbody tr th {\n",
       "        vertical-align: top;\n",
       "    }\n",
       "\n",
       "    .dataframe thead th {\n",
       "        text-align: right;\n",
       "    }\n",
       "</style>\n",
       "<table border=\"1\" class=\"dataframe\">\n",
       "  <thead>\n",
       "    <tr style=\"text-align: right;\">\n",
       "      <th></th>\n",
       "      <th>pop_density_index</th>\n",
       "      <th>median_hh_income_index</th>\n",
       "      <th>iowa_pct_HH_income_75k_plus_index</th>\n",
       "    </tr>\n",
       "  </thead>\n",
       "  <tbody>\n",
       "    <tr>\n",
       "      <th>count</th>\n",
       "      <td>934.0</td>\n",
       "      <td>934.0</td>\n",
       "      <td>930.0</td>\n",
       "    </tr>\n",
       "    <tr>\n",
       "      <th>mean</th>\n",
       "      <td>358.16</td>\n",
       "      <td>98.38</td>\n",
       "      <td>95.81</td>\n",
       "    </tr>\n",
       "    <tr>\n",
       "      <th>std</th>\n",
       "      <td>1,283.19</td>\n",
       "      <td>30.49</td>\n",
       "      <td>31.84</td>\n",
       "    </tr>\n",
       "    <tr>\n",
       "      <th>min</th>\n",
       "      <td>0.0</td>\n",
       "      <td>0.0</td>\n",
       "      <td>0.0</td>\n",
       "    </tr>\n",
       "    <tr>\n",
       "      <th>25%</th>\n",
       "      <td>23.85</td>\n",
       "      <td>83.2</td>\n",
       "      <td>75.12</td>\n",
       "    </tr>\n",
       "    <tr>\n",
       "      <th>50%</th>\n",
       "      <td>38.53</td>\n",
       "      <td>96.63</td>\n",
       "      <td>94.39</td>\n",
       "    </tr>\n",
       "    <tr>\n",
       "      <th>75%</th>\n",
       "      <td>93.58</td>\n",
       "      <td>112.22</td>\n",
       "      <td>113.24</td>\n",
       "    </tr>\n",
       "    <tr>\n",
       "      <th>max</th>\n",
       "      <td>24,453.21</td>\n",
       "      <td>262.08</td>\n",
       "      <td>245.52</td>\n",
       "    </tr>\n",
       "  </tbody>\n",
       "</table>\n",
       "</div>"
      ],
      "text/plain": [
       "       pop_density_index  median_hh_income_index  \\\n",
       "count              934.0                   934.0   \n",
       "mean              358.16                   98.38   \n",
       "std             1,283.19                   30.49   \n",
       "min                  0.0                     0.0   \n",
       "25%                23.85                    83.2   \n",
       "50%                38.53                   96.63   \n",
       "75%                93.58                  112.22   \n",
       "max            24,453.21                  262.08   \n",
       "\n",
       "       iowa_pct_HH_income_75k_plus_index  \n",
       "count                              930.0  \n",
       "mean                               95.81  \n",
       "std                                31.84  \n",
       "min                                  0.0  \n",
       "25%                                75.12  \n",
       "50%                                94.39  \n",
       "75%                               113.24  \n",
       "max                               245.52  "
      ]
     },
     "execution_count": 103,
     "metadata": {},
     "output_type": "execute_result"
    }
   ],
   "source": [
    "census_combined4[[ 'pop_density_index','median_hh_income_index', 'iowa_pct_HH_income_75k_plus_index']].describe().round(2)"
   ]
  },
  {
   "cell_type": "code",
   "execution_count": 104,
   "id": "c61e22a6",
   "metadata": {},
   "outputs": [],
   "source": [
    "# census_combined4.loc[census_combined4.pct_Bachelors_degree_or_higher > 30, ['Zip_Code','population_per_store_None','Total_population','pct_change_population','population_density','land_area_sq_miles','Median_age_(years)','pct_25_to_44','Median_household_income_(dollars)', 'number_of_stores','hy_vee_num_stores',\n",
    "#                                                                              'liquor_or_spirit_num_stores','primary_city','county']].sort_values(by='population_per_store_None', ascending=False)"
   ]
  },
  {
   "cell_type": "code",
   "execution_count": 105,
   "id": "d80eac49",
   "metadata": {},
   "outputs": [],
   "source": [
    "census_combined4['large_out'] = census_combined4['Large'] + census_combined4['outlier']"
   ]
  },
  {
   "cell_type": "code",
   "execution_count": 106,
   "id": "ff5d91d1",
   "metadata": {},
   "outputs": [],
   "source": [
    "census_combined4['large_out'] = census_combined4['large_out'].fillna(0)"
   ]
  },
  {
   "cell_type": "code",
   "execution_count": 107,
   "id": "6b043462",
   "metadata": {},
   "outputs": [],
   "source": [
    "# # here\n",
    "# Iowa_median_income = 61,836\n"
   ]
  },
  {
   "cell_type": "code",
   "execution_count": 174,
   "id": "cb99a8b4",
   "metadata": {},
   "outputs": [],
   "source": [
    "import seaborn as sns\n",
    "# sns.set(rc = {'figure.figsize':(15,8)})\n",
    "# sns.histplot(census_combined4[['Median_household_income_(dollars)']]['Median_household_income_(dollars)'], bins=50)"
   ]
  },
  {
   "cell_type": "code",
   "execution_count": 172,
   "id": "bd6059d3",
   "metadata": {
    "scrolled": true
   },
   "outputs": [],
   "source": [
    "# list(census_combined4.columns) #'Median_household_income_(dollars)',"
   ]
  },
  {
   "cell_type": "code",
   "execution_count": 110,
   "id": "5bfe9934",
   "metadata": {
    "scrolled": false
   },
   "outputs": [],
   "source": [
    "# census_combined4.sort_values(by='pop_25_to_44',ascending=False)"
   ]
  },
  {
   "cell_type": "code",
   "execution_count": 111,
   "id": "9c7e0f06",
   "metadata": {},
   "outputs": [
    {
     "data": {
      "text/plain": [
       "0   164.0\n",
       "1    81.0\n",
       "2   190.0\n",
       "Name: Median_home_mkt_value_imdex, dtype: float64"
      ]
     },
     "execution_count": 111,
     "metadata": {},
     "output_type": "execute_result"
    }
   ],
   "source": [
    "Median_home_mkt_value_iowa = 153900\n",
    "census_combined4['Median_home_mkt_value_imdex'] = round(100 * census_combined4.Median_Home_Market_Value/Median_home_mkt_value_iowa)\n",
    "census_combined4['Median_home_mkt_value_imdex'].head(3)"
   ]
  },
  {
   "cell_type": "code",
   "execution_count": 112,
   "id": "cf6942c7",
   "metadata": {},
   "outputs": [
    {
     "data": {
      "text/plain": [
       "0"
      ]
     },
     "execution_count": 112,
     "metadata": {},
     "output_type": "execute_result"
    }
   ],
   "source": [
    "np.sum(census_combined4['large_out'].isna() )"
   ]
  },
  {
   "cell_type": "markdown",
   "id": "0a280455",
   "metadata": {},
   "source": [
    "# Selection Criteria\n",
    "\n",
    "DataFrame = higher_than_Iowa_df2"
   ]
  },
  {
   "cell_type": "code",
   "execution_count": 114,
   "id": "f953d7ad",
   "metadata": {},
   "outputs": [],
   "source": [
    "higher_than_Iowa_df2 = census_combined4.loc[(census_combined4.population_growth > 1) &  (census_combined4.iowa_pct_HH_income_75k_plus_index > 100)\n",
    "                                           &(census_combined4.Median_home_mkt_value_imdex > 100) & (census_combined4.Total_population >= 10000) ]"
   ]
  },
  {
   "cell_type": "code",
   "execution_count": 158,
   "id": "0dd86046",
   "metadata": {},
   "outputs": [],
   "source": [
    "census_combined4['selected_area'] = (census_combined4.population_growth > 1) &  (census_combined4.iowa_pct_HH_income_75k_plus_index > 100) \\\n",
    "                                           &(census_combined4.Median_home_mkt_value_imdex > 100) & (census_combined4.Total_population >= 10000)"
   ]
  },
  {
   "cell_type": "code",
   "execution_count": 159,
   "id": "3301fc7c",
   "metadata": {},
   "outputs": [
    {
     "data": {
      "text/plain": [
       "False    908\n",
       "True      26\n",
       "Name: selected_area, dtype: int64"
      ]
     },
     "execution_count": 159,
     "metadata": {},
     "output_type": "execute_result"
    }
   ],
   "source": [
    "census_combined4['selected_area'].value_counts()"
   ]
  },
  {
   "cell_type": "code",
   "execution_count": 164,
   "id": "6a1f15e7",
   "metadata": {},
   "outputs": [
    {
     "data": {
      "text/plain": [
       "False    931\n",
       "True       3\n",
       "Name: selected_zips, dtype: int64"
      ]
     },
     "execution_count": 164,
     "metadata": {},
     "output_type": "execute_result"
    }
   ],
   "source": [
    "census_combined4['selected_zips'] = census_combined4.Zip_Code.isin(['52245', '50323', '50023'])\n",
    "census_combined4['selected_zips'].value_counts()"
   ]
  },
  {
   "cell_type": "code",
   "execution_count": 115,
   "id": "5516d145",
   "metadata": {
    "scrolled": false
   },
   "outputs": [
    {
     "data": {
      "text/plain": [
       "(26, 110)"
      ]
     },
     "execution_count": 115,
     "metadata": {},
     "output_type": "execute_result"
    }
   ],
   "source": [
    "higher_than_Iowa_df2.shape"
   ]
  },
  {
   "cell_type": "code",
   "execution_count": 173,
   "id": "5fd41f47",
   "metadata": {},
   "outputs": [],
   "source": [
    "# higher_than_Iowa_df2[['population_per_store_None','Zip_Code','Total_population','pct_change_population','pct_25_to_44','Median_age_(years)','pct_HH_income_75k_plus','Median_home_mkt_value_imdex','pct_Bachelors_degree_or_higher','Median_household_income_(dollars)','Convenience',\n",
    "#  'Large',\n",
    "#  'Medium','Smaller','outlier','land_area_sq_miles','primary_city','county','pop_25_to_44','pct_21_years_and_over']].sort_values(by='population_per_store_None', ascending=False)"
   ]
  },
  {
   "cell_type": "code",
   "execution_count": 136,
   "id": "816c5eab",
   "metadata": {},
   "outputs": [
    {
     "data": {
      "text/html": [
       "<div>\n",
       "<style scoped>\n",
       "    .dataframe tbody tr th:only-of-type {\n",
       "        vertical-align: middle;\n",
       "    }\n",
       "\n",
       "    .dataframe tbody tr th {\n",
       "        vertical-align: top;\n",
       "    }\n",
       "\n",
       "    .dataframe thead th {\n",
       "        text-align: right;\n",
       "    }\n",
       "</style>\n",
       "<table border=\"1\" class=\"dataframe\">\n",
       "  <thead>\n",
       "    <tr style=\"text-align: right;\">\n",
       "      <th></th>\n",
       "      <th>population_per_store_None</th>\n",
       "      <th>Zip_Code</th>\n",
       "      <th>Total_population</th>\n",
       "      <th>pct_change_population</th>\n",
       "      <th>pct_25_to_44</th>\n",
       "      <th>Median_age_(years)</th>\n",
       "      <th>pct_HH_income_75k_plus</th>\n",
       "      <th>Median_home_mkt_value_imdex</th>\n",
       "      <th>pct_Bachelors_degree_or_higher</th>\n",
       "      <th>Median_household_income_(dollars)</th>\n",
       "      <th>Convenience</th>\n",
       "      <th>Large</th>\n",
       "      <th>Medium</th>\n",
       "      <th>Smaller</th>\n",
       "      <th>outlier</th>\n",
       "      <th>land_area_sq_miles</th>\n",
       "      <th>primary_city</th>\n",
       "      <th>county</th>\n",
       "      <th>pop_25_to_44</th>\n",
       "      <th>Median_home_mkt_value_imdex</th>\n",
       "      <th>iowa_pct_HH_income_75k_plus_index</th>\n",
       "      <th>bachelor_degree_index</th>\n",
       "      <th>median_hh_income_index</th>\n",
       "      <th>pop_density_index</th>\n",
       "      <th>pct_25_to_54_years</th>\n",
       "      <th>pct_21_years_and_over</th>\n",
       "    </tr>\n",
       "  </thead>\n",
       "  <tbody>\n",
       "    <tr>\n",
       "      <th>737</th>\n",
       "      <td>12,832.0</td>\n",
       "      <td>52245</td>\n",
       "      <td>25,664.0</td>\n",
       "      <td>6.93</td>\n",
       "      <td>24.17</td>\n",
       "      <td>27.5</td>\n",
       "      <td>43.12</td>\n",
       "      <td>156.0</td>\n",
       "      <td>64.9</td>\n",
       "      <td>62,847.0</td>\n",
       "      <td>1.0</td>\n",
       "      <td>1.0</td>\n",
       "      <td>0.0</td>\n",
       "      <td>0.0</td>\n",
       "      <td>0.0</td>\n",
       "      <td>8.0</td>\n",
       "      <td>Iowa City</td>\n",
       "      <td>Johnson County</td>\n",
       "      <td>6,203.0</td>\n",
       "      <td>156.0</td>\n",
       "      <td>105.87</td>\n",
       "      <td>221.5</td>\n",
       "      <td>101.63</td>\n",
       "      <td>5,607.34</td>\n",
       "      <td>32.13</td>\n",
       "      <td>66.37</td>\n",
       "    </tr>\n",
       "    <tr>\n",
       "      <th>188</th>\n",
       "      <td>3,996.0</td>\n",
       "      <td>50310</td>\n",
       "      <td>31,965.0</td>\n",
       "      <td>2.68</td>\n",
       "      <td>32.29</td>\n",
       "      <td>35.4</td>\n",
       "      <td>41.03</td>\n",
       "      <td>104.0</td>\n",
       "      <td>34.3</td>\n",
       "      <td>64,213.0</td>\n",
       "      <td>1.0</td>\n",
       "      <td>1.0</td>\n",
       "      <td>4.0</td>\n",
       "      <td>2.0</td>\n",
       "      <td>0.0</td>\n",
       "      <td>8.0</td>\n",
       "      <td>Des Moines</td>\n",
       "      <td>Polk County</td>\n",
       "      <td>10,320.0</td>\n",
       "      <td>104.0</td>\n",
       "      <td>100.74</td>\n",
       "      <td>117.06</td>\n",
       "      <td>103.84</td>\n",
       "      <td>7,299.08</td>\n",
       "      <td>43.56</td>\n",
       "      <td>74.48</td>\n",
       "    </tr>\n",
       "    <tr>\n",
       "      <th>200</th>\n",
       "      <td>3,718.0</td>\n",
       "      <td>50323</td>\n",
       "      <td>14,870.0</td>\n",
       "      <td>22.2</td>\n",
       "      <td>25.8</td>\n",
       "      <td>35.5</td>\n",
       "      <td>81.61</td>\n",
       "      <td>223.0</td>\n",
       "      <td>62.9</td>\n",
       "      <td>144,180.0</td>\n",
       "      <td>3.0</td>\n",
       "      <td>0.0</td>\n",
       "      <td>1.0</td>\n",
       "      <td>0.0</td>\n",
       "      <td>0.0</td>\n",
       "      <td>10.0</td>\n",
       "      <td>Urbandale</td>\n",
       "      <td>Dallas County</td>\n",
       "      <td>3,837.0</td>\n",
       "      <td>223.0</td>\n",
       "      <td>200.37</td>\n",
       "      <td>214.68</td>\n",
       "      <td>233.17</td>\n",
       "      <td>2,693.58</td>\n",
       "      <td>41.54</td>\n",
       "      <td>62.94</td>\n",
       "    </tr>\n",
       "    <tr>\n",
       "      <th>190</th>\n",
       "      <td>3,146.0</td>\n",
       "      <td>50312</td>\n",
       "      <td>15,732.0</td>\n",
       "      <td>3.84</td>\n",
       "      <td>29.1</td>\n",
       "      <td>41.5</td>\n",
       "      <td>46.09</td>\n",
       "      <td>142.0</td>\n",
       "      <td>60.0</td>\n",
       "      <td>66,194.0</td>\n",
       "      <td>2.0</td>\n",
       "      <td>1.0</td>\n",
       "      <td>1.0</td>\n",
       "      <td>1.0</td>\n",
       "      <td>0.0</td>\n",
       "      <td>6.0</td>\n",
       "      <td>Des Moines</td>\n",
       "      <td>Polk County</td>\n",
       "      <td>4,578.0</td>\n",
       "      <td>142.0</td>\n",
       "      <td>113.16</td>\n",
       "      <td>204.78</td>\n",
       "      <td>107.05</td>\n",
       "      <td>5,126.61</td>\n",
       "      <td>41.5</td>\n",
       "      <td>80.5</td>\n",
       "    </tr>\n",
       "    <tr>\n",
       "      <th>203</th>\n",
       "      <td>3,006.0</td>\n",
       "      <td>50327</td>\n",
       "      <td>12,025.0</td>\n",
       "      <td>9.41</td>\n",
       "      <td>24.61</td>\n",
       "      <td>39.3</td>\n",
       "      <td>53.79</td>\n",
       "      <td>153.0</td>\n",
       "      <td>34.9</td>\n",
       "      <td>81,677.0</td>\n",
       "      <td>3.0</td>\n",
       "      <td>1.0</td>\n",
       "      <td>0.0</td>\n",
       "      <td>0.0</td>\n",
       "      <td>0.0</td>\n",
       "      <td>16.0</td>\n",
       "      <td>Pleasant Hill</td>\n",
       "      <td>Polk County</td>\n",
       "      <td>2,959.0</td>\n",
       "      <td>153.0</td>\n",
       "      <td>132.06</td>\n",
       "      <td>119.11</td>\n",
       "      <td>132.09</td>\n",
       "      <td>1,400.0</td>\n",
       "      <td>37.34</td>\n",
       "      <td>67.86</td>\n",
       "    </tr>\n",
       "    <tr>\n",
       "      <th>197</th>\n",
       "      <td>2,966.0</td>\n",
       "      <td>50320</td>\n",
       "      <td>23,724.0</td>\n",
       "      <td>11.77</td>\n",
       "      <td>24.24</td>\n",
       "      <td>32.5</td>\n",
       "      <td>43.45</td>\n",
       "      <td>108.0</td>\n",
       "      <td>22.0</td>\n",
       "      <td>65,137.0</td>\n",
       "      <td>2.0</td>\n",
       "      <td>1.0</td>\n",
       "      <td>3.0</td>\n",
       "      <td>2.0</td>\n",
       "      <td>0.0</td>\n",
       "      <td>17.0</td>\n",
       "      <td>Des Moines</td>\n",
       "      <td>Polk County</td>\n",
       "      <td>5,750.0</td>\n",
       "      <td>108.0</td>\n",
       "      <td>106.68</td>\n",
       "      <td>75.09</td>\n",
       "      <td>105.34</td>\n",
       "      <td>2,588.99</td>\n",
       "      <td>38.91</td>\n",
       "      <td>67.46</td>\n",
       "    </tr>\n",
       "    <tr>\n",
       "      <th>888</th>\n",
       "      <td>2,910.0</td>\n",
       "      <td>52722</td>\n",
       "      <td>37,835.0</td>\n",
       "      <td>4.78</td>\n",
       "      <td>24.84</td>\n",
       "      <td>40.3</td>\n",
       "      <td>56.55</td>\n",
       "      <td>154.0</td>\n",
       "      <td>50.8</td>\n",
       "      <td>86,202.0</td>\n",
       "      <td>5.0</td>\n",
       "      <td>2.0</td>\n",
       "      <td>4.0</td>\n",
       "      <td>1.0</td>\n",
       "      <td>0.0</td>\n",
       "      <td>26.0</td>\n",
       "      <td>Bettendorf</td>\n",
       "      <td>Scott County</td>\n",
       "      <td>9,399.0</td>\n",
       "      <td>154.0</td>\n",
       "      <td>138.84</td>\n",
       "      <td>173.38</td>\n",
       "      <td>139.4</td>\n",
       "      <td>2,638.53</td>\n",
       "      <td>37.91</td>\n",
       "      <td>71.1</td>\n",
       "    </tr>\n",
       "    <tr>\n",
       "      <th>14</th>\n",
       "      <td>2,894.0</td>\n",
       "      <td>50023</td>\n",
       "      <td>40,518.0</td>\n",
       "      <td>31.98</td>\n",
       "      <td>33.79</td>\n",
       "      <td>32.3</td>\n",
       "      <td>58.41</td>\n",
       "      <td>160.0</td>\n",
       "      <td>54.0</td>\n",
       "      <td>91,974.0</td>\n",
       "      <td>11.0</td>\n",
       "      <td>1.0</td>\n",
       "      <td>2.0</td>\n",
       "      <td>0.0</td>\n",
       "      <td>0.0</td>\n",
       "      <td>21.0</td>\n",
       "      <td>Ankeny</td>\n",
       "      <td>Polk County</td>\n",
       "      <td>13,693.0</td>\n",
       "      <td>160.0</td>\n",
       "      <td>143.41</td>\n",
       "      <td>184.3</td>\n",
       "      <td>148.74</td>\n",
       "      <td>3,544.95</td>\n",
       "      <td>45.29</td>\n",
       "      <td>66.32</td>\n",
       "    </tr>\n",
       "    <tr>\n",
       "      <th>130</th>\n",
       "      <td>2,234.0</td>\n",
       "      <td>50211</td>\n",
       "      <td>13,404.0</td>\n",
       "      <td>9.72</td>\n",
       "      <td>28.07</td>\n",
       "      <td>37.8</td>\n",
       "      <td>58.06</td>\n",
       "      <td>150.0</td>\n",
       "      <td>38.4</td>\n",
       "      <td>84,357.0</td>\n",
       "      <td>4.0</td>\n",
       "      <td>1.0</td>\n",
       "      <td>0.0</td>\n",
       "      <td>0.0</td>\n",
       "      <td>0.0</td>\n",
       "      <td>59.0</td>\n",
       "      <td>Norwalk</td>\n",
       "      <td>Warren County</td>\n",
       "      <td>3,763.0</td>\n",
       "      <td>150.0</td>\n",
       "      <td>142.55</td>\n",
       "      <td>131.06</td>\n",
       "      <td>136.42</td>\n",
       "      <td>420.18</td>\n",
       "      <td>40.08</td>\n",
       "      <td>71.7</td>\n",
       "    </tr>\n",
       "    <tr>\n",
       "      <th>748</th>\n",
       "      <td>2,087.0</td>\n",
       "      <td>52302</td>\n",
       "      <td>41,745.0</td>\n",
       "      <td>7.89</td>\n",
       "      <td>27.6</td>\n",
       "      <td>38.8</td>\n",
       "      <td>49.87</td>\n",
       "      <td>117.0</td>\n",
       "      <td>36.5</td>\n",
       "      <td>74,630.0</td>\n",
       "      <td>9.0</td>\n",
       "      <td>2.0</td>\n",
       "      <td>5.0</td>\n",
       "      <td>4.0</td>\n",
       "      <td>0.0</td>\n",
       "      <td>74.0</td>\n",
       "      <td>Marion</td>\n",
       "      <td>Linn County</td>\n",
       "      <td>11,522.0</td>\n",
       "      <td>117.0</td>\n",
       "      <td>122.44</td>\n",
       "      <td>124.57</td>\n",
       "      <td>120.69</td>\n",
       "      <td>1,031.19</td>\n",
       "      <td>40.92</td>\n",
       "      <td>73.25</td>\n",
       "    </tr>\n",
       "    <tr>\n",
       "      <th>86</th>\n",
       "      <td>1,992.0</td>\n",
       "      <td>50131</td>\n",
       "      <td>21,907.0</td>\n",
       "      <td>11.23</td>\n",
       "      <td>26.5</td>\n",
       "      <td>38.5</td>\n",
       "      <td>62.58</td>\n",
       "      <td>174.0</td>\n",
       "      <td>53.3</td>\n",
       "      <td>89,625.0</td>\n",
       "      <td>9.0</td>\n",
       "      <td>2.0</td>\n",
       "      <td>0.0</td>\n",
       "      <td>0.0</td>\n",
       "      <td>0.0</td>\n",
       "      <td>24.0</td>\n",
       "      <td>Johnston</td>\n",
       "      <td>Polk County</td>\n",
       "      <td>5,805.0</td>\n",
       "      <td>174.0</td>\n",
       "      <td>153.65</td>\n",
       "      <td>181.91</td>\n",
       "      <td>144.94</td>\n",
       "      <td>1,697.25</td>\n",
       "      <td>40.67</td>\n",
       "      <td>71.1</td>\n",
       "    </tr>\n",
       "    <tr>\n",
       "      <th>630</th>\n",
       "      <td>1,943.0</td>\n",
       "      <td>52002</td>\n",
       "      <td>17,484.0</td>\n",
       "      <td>11.93</td>\n",
       "      <td>25.41</td>\n",
       "      <td>38.3</td>\n",
       "      <td>52.01</td>\n",
       "      <td>143.0</td>\n",
       "      <td>42.6</td>\n",
       "      <td>77,120.0</td>\n",
       "      <td>6.0</td>\n",
       "      <td>1.0</td>\n",
       "      <td>1.0</td>\n",
       "      <td>0.0</td>\n",
       "      <td>1.0</td>\n",
       "      <td>29.0</td>\n",
       "      <td>Dubuque</td>\n",
       "      <td>Dubuque County</td>\n",
       "      <td>4,442.0</td>\n",
       "      <td>143.0</td>\n",
       "      <td>127.69</td>\n",
       "      <td>145.39</td>\n",
       "      <td>124.72</td>\n",
       "      <td>1,099.08</td>\n",
       "      <td>36.25</td>\n",
       "      <td>70.59</td>\n",
       "    </tr>\n",
       "    <tr>\n",
       "      <th>631</th>\n",
       "      <td>1,930.0</td>\n",
       "      <td>52003</td>\n",
       "      <td>13,507.0</td>\n",
       "      <td>1.58</td>\n",
       "      <td>22.63</td>\n",
       "      <td>42.3</td>\n",
       "      <td>54.61</td>\n",
       "      <td>138.0</td>\n",
       "      <td>41.4</td>\n",
       "      <td>81,383.0</td>\n",
       "      <td>3.0</td>\n",
       "      <td>1.0</td>\n",
       "      <td>2.0</td>\n",
       "      <td>1.0</td>\n",
       "      <td>0.0</td>\n",
       "      <td>56.0</td>\n",
       "      <td>Dubuque</td>\n",
       "      <td>Dubuque County</td>\n",
       "      <td>3,057.0</td>\n",
       "      <td>138.0</td>\n",
       "      <td>134.08</td>\n",
       "      <td>141.3</td>\n",
       "      <td>131.61</td>\n",
       "      <td>440.37</td>\n",
       "      <td>36.03</td>\n",
       "      <td>74.11</td>\n",
       "    </tr>\n",
       "    <tr>\n",
       "      <th>174</th>\n",
       "      <td>1,917.0</td>\n",
       "      <td>50263</td>\n",
       "      <td>26,838.0</td>\n",
       "      <td>34.67</td>\n",
       "      <td>34.56</td>\n",
       "      <td>33.8</td>\n",
       "      <td>63.03</td>\n",
       "      <td>168.0</td>\n",
       "      <td>57.5</td>\n",
       "      <td>98,546.0</td>\n",
       "      <td>9.0</td>\n",
       "      <td>3.0</td>\n",
       "      <td>1.0</td>\n",
       "      <td>1.0</td>\n",
       "      <td>0.0</td>\n",
       "      <td>27.0</td>\n",
       "      <td>Waukee</td>\n",
       "      <td>Dallas County</td>\n",
       "      <td>9,276.0</td>\n",
       "      <td>168.0</td>\n",
       "      <td>154.75</td>\n",
       "      <td>196.25</td>\n",
       "      <td>159.37</td>\n",
       "      <td>1,792.66</td>\n",
       "      <td>46.64</td>\n",
       "      <td>68.25</td>\n",
       "    </tr>\n",
       "    <tr>\n",
       "      <th>760</th>\n",
       "      <td>1,898.0</td>\n",
       "      <td>52317</td>\n",
       "      <td>20,874.0</td>\n",
       "      <td>25.48</td>\n",
       "      <td>37.29</td>\n",
       "      <td>31.3</td>\n",
       "      <td>61.94</td>\n",
       "      <td>159.0</td>\n",
       "      <td>57.5</td>\n",
       "      <td>89,233.0</td>\n",
       "      <td>5.0</td>\n",
       "      <td>3.0</td>\n",
       "      <td>2.0</td>\n",
       "      <td>1.0</td>\n",
       "      <td>0.0</td>\n",
       "      <td>34.0</td>\n",
       "      <td>North Liberty</td>\n",
       "      <td>Johnson County</td>\n",
       "      <td>7,784.0</td>\n",
       "      <td>159.0</td>\n",
       "      <td>152.07</td>\n",
       "      <td>196.25</td>\n",
       "      <td>144.31</td>\n",
       "      <td>1,113.76</td>\n",
       "      <td>47.37</td>\n",
       "      <td>67.45</td>\n",
       "    </tr>\n",
       "    <tr>\n",
       "      <th>389</th>\n",
       "      <td>1,775.0</td>\n",
       "      <td>50677</td>\n",
       "      <td>12,428.0</td>\n",
       "      <td>2.78</td>\n",
       "      <td>20.98</td>\n",
       "      <td>36.7</td>\n",
       "      <td>46.48</td>\n",
       "      <td>121.0</td>\n",
       "      <td>39.7</td>\n",
       "      <td>70,554.0</td>\n",
       "      <td>3.0</td>\n",
       "      <td>1.0</td>\n",
       "      <td>3.0</td>\n",
       "      <td>0.0</td>\n",
       "      <td>0.0</td>\n",
       "      <td>129.0</td>\n",
       "      <td>Waverly</td>\n",
       "      <td>Bremer County</td>\n",
       "      <td>2,608.0</td>\n",
       "      <td>121.0</td>\n",
       "      <td>114.12</td>\n",
       "      <td>135.49</td>\n",
       "      <td>114.1</td>\n",
       "      <td>177.98</td>\n",
       "      <td>30.84</td>\n",
       "      <td>69.16</td>\n",
       "    </tr>\n",
       "    <tr>\n",
       "      <th>903</th>\n",
       "      <td>1,737.0</td>\n",
       "      <td>52748</td>\n",
       "      <td>10,421.0</td>\n",
       "      <td>5.27</td>\n",
       "      <td>25.72</td>\n",
       "      <td>36.8</td>\n",
       "      <td>53.6</td>\n",
       "      <td>158.0</td>\n",
       "      <td>34.7</td>\n",
       "      <td>80,200.0</td>\n",
       "      <td>2.0</td>\n",
       "      <td>1.0</td>\n",
       "      <td>2.0</td>\n",
       "      <td>1.0</td>\n",
       "      <td>0.0</td>\n",
       "      <td>40.0</td>\n",
       "      <td>Eldridge</td>\n",
       "      <td>Scott County</td>\n",
       "      <td>2,680.0</td>\n",
       "      <td>158.0</td>\n",
       "      <td>131.6</td>\n",
       "      <td>118.43</td>\n",
       "      <td>129.7</td>\n",
       "      <td>475.23</td>\n",
       "      <td>39.83</td>\n",
       "      <td>64.45</td>\n",
       "    </tr>\n",
       "    <tr>\n",
       "      <th>202</th>\n",
       "      <td>1,728.0</td>\n",
       "      <td>50325</td>\n",
       "      <td>17,278.0</td>\n",
       "      <td>4.65</td>\n",
       "      <td>27.23</td>\n",
       "      <td>38.4</td>\n",
       "      <td>65.33</td>\n",
       "      <td>185.0</td>\n",
       "      <td>58.3</td>\n",
       "      <td>106,985.0</td>\n",
       "      <td>7.0</td>\n",
       "      <td>2.0</td>\n",
       "      <td>1.0</td>\n",
       "      <td>0.0</td>\n",
       "      <td>0.0</td>\n",
       "      <td>8.0</td>\n",
       "      <td>Clive</td>\n",
       "      <td>Polk County</td>\n",
       "      <td>4,705.0</td>\n",
       "      <td>185.0</td>\n",
       "      <td>160.4</td>\n",
       "      <td>198.98</td>\n",
       "      <td>173.01</td>\n",
       "      <td>4,104.59</td>\n",
       "      <td>41.41</td>\n",
       "      <td>70.96</td>\n",
       "    </tr>\n",
       "    <tr>\n",
       "      <th>340</th>\n",
       "      <td>1,628.0</td>\n",
       "      <td>50613</td>\n",
       "      <td>43,945.0</td>\n",
       "      <td>0.76</td>\n",
       "      <td>22.14</td>\n",
       "      <td>28.0</td>\n",
       "      <td>44.41</td>\n",
       "      <td>137.0</td>\n",
       "      <td>47.3</td>\n",
       "      <td>66,839.0</td>\n",
       "      <td>8.0</td>\n",
       "      <td>3.0</td>\n",
       "      <td>12.0</td>\n",
       "      <td>4.0</td>\n",
       "      <td>0.0</td>\n",
       "      <td>128.0</td>\n",
       "      <td>Cedar Falls</td>\n",
       "      <td>Black Hawk County</td>\n",
       "      <td>9,730.0</td>\n",
       "      <td>137.0</td>\n",
       "      <td>109.04</td>\n",
       "      <td>161.43</td>\n",
       "      <td>108.09</td>\n",
       "      <td>631.19</td>\n",
       "      <td>30.3</td>\n",
       "      <td>68.54</td>\n",
       "    </tr>\n",
       "    <tr>\n",
       "      <th>12</th>\n",
       "      <td>1,622.0</td>\n",
       "      <td>50021</td>\n",
       "      <td>27,566.0</td>\n",
       "      <td>10.55</td>\n",
       "      <td>29.17</td>\n",
       "      <td>34.6</td>\n",
       "      <td>57.84</td>\n",
       "      <td>154.0</td>\n",
       "      <td>49.2</td>\n",
       "      <td>87,938.0</td>\n",
       "      <td>10.0</td>\n",
       "      <td>3.0</td>\n",
       "      <td>3.0</td>\n",
       "      <td>1.0</td>\n",
       "      <td>0.0</td>\n",
       "      <td>24.0</td>\n",
       "      <td>Ankeny</td>\n",
       "      <td>Polk County</td>\n",
       "      <td>8,041.0</td>\n",
       "      <td>154.0</td>\n",
       "      <td>142.01</td>\n",
       "      <td>167.92</td>\n",
       "      <td>142.21</td>\n",
       "      <td>2,100.92</td>\n",
       "      <td>41.99</td>\n",
       "      <td>72.03</td>\n",
       "    </tr>\n",
       "    <tr>\n",
       "      <th>932</th>\n",
       "      <td>1,487.0</td>\n",
       "      <td>52807</td>\n",
       "      <td>16,357.0</td>\n",
       "      <td>10.74</td>\n",
       "      <td>26.61</td>\n",
       "      <td>37.5</td>\n",
       "      <td>44.47</td>\n",
       "      <td>177.0</td>\n",
       "      <td>42.5</td>\n",
       "      <td>65,984.0</td>\n",
       "      <td>2.0</td>\n",
       "      <td>2.0</td>\n",
       "      <td>3.0</td>\n",
       "      <td>3.0</td>\n",
       "      <td>1.0</td>\n",
       "      <td>29.0</td>\n",
       "      <td>Davenport</td>\n",
       "      <td>Scott County</td>\n",
       "      <td>4,352.0</td>\n",
       "      <td>177.0</td>\n",
       "      <td>109.18</td>\n",
       "      <td>145.05</td>\n",
       "      <td>106.71</td>\n",
       "      <td>1,049.54</td>\n",
       "      <td>37.76</td>\n",
       "      <td>74.37</td>\n",
       "    </tr>\n",
       "    <tr>\n",
       "      <th>80</th>\n",
       "      <td>1,463.0</td>\n",
       "      <td>50125</td>\n",
       "      <td>20,476.0</td>\n",
       "      <td>4.42</td>\n",
       "      <td>22.52</td>\n",
       "      <td>38.0</td>\n",
       "      <td>48.33</td>\n",
       "      <td>127.0</td>\n",
       "      <td>30.7</td>\n",
       "      <td>71,395.0</td>\n",
       "      <td>7.0</td>\n",
       "      <td>2.0</td>\n",
       "      <td>5.0</td>\n",
       "      <td>0.0</td>\n",
       "      <td>0.0</td>\n",
       "      <td>162.0</td>\n",
       "      <td>Indianola</td>\n",
       "      <td>Warren County</td>\n",
       "      <td>4,611.0</td>\n",
       "      <td>127.0</td>\n",
       "      <td>118.66</td>\n",
       "      <td>104.78</td>\n",
       "      <td>115.46</td>\n",
       "      <td>231.19</td>\n",
       "      <td>34.03</td>\n",
       "      <td>68.61</td>\n",
       "    </tr>\n",
       "    <tr>\n",
       "      <th>69</th>\n",
       "      <td>1,292.0</td>\n",
       "      <td>50111</td>\n",
       "      <td>15,510.0</td>\n",
       "      <td>39.73</td>\n",
       "      <td>35.26</td>\n",
       "      <td>35.9</td>\n",
       "      <td>62.75</td>\n",
       "      <td>152.0</td>\n",
       "      <td>44.6</td>\n",
       "      <td>100,589.0</td>\n",
       "      <td>8.0</td>\n",
       "      <td>3.0</td>\n",
       "      <td>1.0</td>\n",
       "      <td>0.0</td>\n",
       "      <td>0.0</td>\n",
       "      <td>25.0</td>\n",
       "      <td>Grimes</td>\n",
       "      <td>Polk County</td>\n",
       "      <td>5,469.0</td>\n",
       "      <td>152.0</td>\n",
       "      <td>154.06</td>\n",
       "      <td>152.22</td>\n",
       "      <td>162.67</td>\n",
       "      <td>1,133.94</td>\n",
       "      <td>50.5</td>\n",
       "      <td>68.25</td>\n",
       "    </tr>\n",
       "    <tr>\n",
       "      <th>177</th>\n",
       "      <td>1,271.0</td>\n",
       "      <td>50266</td>\n",
       "      <td>30,515.0</td>\n",
       "      <td>21.76</td>\n",
       "      <td>35.7</td>\n",
       "      <td>32.9</td>\n",
       "      <td>49.26</td>\n",
       "      <td>172.0</td>\n",
       "      <td>59.2</td>\n",
       "      <td>74,435.0</td>\n",
       "      <td>11.0</td>\n",
       "      <td>5.0</td>\n",
       "      <td>5.0</td>\n",
       "      <td>2.0</td>\n",
       "      <td>0.0</td>\n",
       "      <td>22.0</td>\n",
       "      <td>West Des Moines</td>\n",
       "      <td>Polk County</td>\n",
       "      <td>10,893.0</td>\n",
       "      <td>172.0</td>\n",
       "      <td>120.94</td>\n",
       "      <td>202.05</td>\n",
       "      <td>120.37</td>\n",
       "      <td>2,510.09</td>\n",
       "      <td>46.96</td>\n",
       "      <td>77.35</td>\n",
       "    </tr>\n",
       "    <tr>\n",
       "      <th>7</th>\n",
       "      <td>1,252.0</td>\n",
       "      <td>50009</td>\n",
       "      <td>20,033.0</td>\n",
       "      <td>14.08</td>\n",
       "      <td>28.76</td>\n",
       "      <td>37.5</td>\n",
       "      <td>54.59</td>\n",
       "      <td>134.0</td>\n",
       "      <td>29.5</td>\n",
       "      <td>80,740.0</td>\n",
       "      <td>9.0</td>\n",
       "      <td>1.0</td>\n",
       "      <td>6.0</td>\n",
       "      <td>0.0</td>\n",
       "      <td>0.0</td>\n",
       "      <td>28.0</td>\n",
       "      <td>Altoona</td>\n",
       "      <td>Polk County</td>\n",
       "      <td>5,762.0</td>\n",
       "      <td>134.0</td>\n",
       "      <td>134.03</td>\n",
       "      <td>100.68</td>\n",
       "      <td>130.57</td>\n",
       "      <td>1,317.43</td>\n",
       "      <td>40.89</td>\n",
       "      <td>71.06</td>\n",
       "    </tr>\n",
       "    <tr>\n",
       "      <th>735</th>\n",
       "      <td>1,193.0</td>\n",
       "      <td>52241</td>\n",
       "      <td>21,473.0</td>\n",
       "      <td>7.0</td>\n",
       "      <td>34.7</td>\n",
       "      <td>32.8</td>\n",
       "      <td>43.42</td>\n",
       "      <td>156.0</td>\n",
       "      <td>59.9</td>\n",
       "      <td>68,038.0</td>\n",
       "      <td>7.0</td>\n",
       "      <td>4.0</td>\n",
       "      <td>3.0</td>\n",
       "      <td>4.0</td>\n",
       "      <td>0.0</td>\n",
       "      <td>14.0</td>\n",
       "      <td>Coralville</td>\n",
       "      <td>Johnson County</td>\n",
       "      <td>7,451.0</td>\n",
       "      <td>156.0</td>\n",
       "      <td>106.6</td>\n",
       "      <td>204.44</td>\n",
       "      <td>110.03</td>\n",
       "      <td>2,917.43</td>\n",
       "      <td>44.84</td>\n",
       "      <td>74.37</td>\n",
       "    </tr>\n",
       "  </tbody>\n",
       "</table>\n",
       "</div>"
      ],
      "text/plain": [
       "     population_per_store_None Zip_Code  Total_population  \\\n",
       "737                   12,832.0    52245          25,664.0   \n",
       "188                    3,996.0    50310          31,965.0   \n",
       "200                    3,718.0    50323          14,870.0   \n",
       "190                    3,146.0    50312          15,732.0   \n",
       "203                    3,006.0    50327          12,025.0   \n",
       "197                    2,966.0    50320          23,724.0   \n",
       "888                    2,910.0    52722          37,835.0   \n",
       "14                     2,894.0    50023          40,518.0   \n",
       "130                    2,234.0    50211          13,404.0   \n",
       "748                    2,087.0    52302          41,745.0   \n",
       "86                     1,992.0    50131          21,907.0   \n",
       "630                    1,943.0    52002          17,484.0   \n",
       "631                    1,930.0    52003          13,507.0   \n",
       "174                    1,917.0    50263          26,838.0   \n",
       "760                    1,898.0    52317          20,874.0   \n",
       "389                    1,775.0    50677          12,428.0   \n",
       "903                    1,737.0    52748          10,421.0   \n",
       "202                    1,728.0    50325          17,278.0   \n",
       "340                    1,628.0    50613          43,945.0   \n",
       "12                     1,622.0    50021          27,566.0   \n",
       "932                    1,487.0    52807          16,357.0   \n",
       "80                     1,463.0    50125          20,476.0   \n",
       "69                     1,292.0    50111          15,510.0   \n",
       "177                    1,271.0    50266          30,515.0   \n",
       "7                      1,252.0    50009          20,033.0   \n",
       "735                    1,193.0    52241          21,473.0   \n",
       "\n",
       "     pct_change_population  pct_25_to_44  Median_age_(years)  \\\n",
       "737                   6.93         24.17                27.5   \n",
       "188                   2.68         32.29                35.4   \n",
       "200                   22.2          25.8                35.5   \n",
       "190                   3.84          29.1                41.5   \n",
       "203                   9.41         24.61                39.3   \n",
       "197                  11.77         24.24                32.5   \n",
       "888                   4.78         24.84                40.3   \n",
       "14                   31.98         33.79                32.3   \n",
       "130                   9.72         28.07                37.8   \n",
       "748                   7.89          27.6                38.8   \n",
       "86                   11.23          26.5                38.5   \n",
       "630                  11.93         25.41                38.3   \n",
       "631                   1.58         22.63                42.3   \n",
       "174                  34.67         34.56                33.8   \n",
       "760                  25.48         37.29                31.3   \n",
       "389                   2.78         20.98                36.7   \n",
       "903                   5.27         25.72                36.8   \n",
       "202                   4.65         27.23                38.4   \n",
       "340                   0.76         22.14                28.0   \n",
       "12                   10.55         29.17                34.6   \n",
       "932                  10.74         26.61                37.5   \n",
       "80                    4.42         22.52                38.0   \n",
       "69                   39.73         35.26                35.9   \n",
       "177                  21.76          35.7                32.9   \n",
       "7                    14.08         28.76                37.5   \n",
       "735                    7.0          34.7                32.8   \n",
       "\n",
       "     pct_HH_income_75k_plus  Median_home_mkt_value_imdex  \\\n",
       "737                   43.12                        156.0   \n",
       "188                   41.03                        104.0   \n",
       "200                   81.61                        223.0   \n",
       "190                   46.09                        142.0   \n",
       "203                   53.79                        153.0   \n",
       "197                   43.45                        108.0   \n",
       "888                   56.55                        154.0   \n",
       "14                    58.41                        160.0   \n",
       "130                   58.06                        150.0   \n",
       "748                   49.87                        117.0   \n",
       "86                    62.58                        174.0   \n",
       "630                   52.01                        143.0   \n",
       "631                   54.61                        138.0   \n",
       "174                   63.03                        168.0   \n",
       "760                   61.94                        159.0   \n",
       "389                   46.48                        121.0   \n",
       "903                    53.6                        158.0   \n",
       "202                   65.33                        185.0   \n",
       "340                   44.41                        137.0   \n",
       "12                    57.84                        154.0   \n",
       "932                   44.47                        177.0   \n",
       "80                    48.33                        127.0   \n",
       "69                    62.75                        152.0   \n",
       "177                   49.26                        172.0   \n",
       "7                     54.59                        134.0   \n",
       "735                   43.42                        156.0   \n",
       "\n",
       "     pct_Bachelors_degree_or_higher  Median_household_income_(dollars)  \\\n",
       "737                            64.9                           62,847.0   \n",
       "188                            34.3                           64,213.0   \n",
       "200                            62.9                          144,180.0   \n",
       "190                            60.0                           66,194.0   \n",
       "203                            34.9                           81,677.0   \n",
       "197                            22.0                           65,137.0   \n",
       "888                            50.8                           86,202.0   \n",
       "14                             54.0                           91,974.0   \n",
       "130                            38.4                           84,357.0   \n",
       "748                            36.5                           74,630.0   \n",
       "86                             53.3                           89,625.0   \n",
       "630                            42.6                           77,120.0   \n",
       "631                            41.4                           81,383.0   \n",
       "174                            57.5                           98,546.0   \n",
       "760                            57.5                           89,233.0   \n",
       "389                            39.7                           70,554.0   \n",
       "903                            34.7                           80,200.0   \n",
       "202                            58.3                          106,985.0   \n",
       "340                            47.3                           66,839.0   \n",
       "12                             49.2                           87,938.0   \n",
       "932                            42.5                           65,984.0   \n",
       "80                             30.7                           71,395.0   \n",
       "69                             44.6                          100,589.0   \n",
       "177                            59.2                           74,435.0   \n",
       "7                              29.5                           80,740.0   \n",
       "735                            59.9                           68,038.0   \n",
       "\n",
       "     Convenience  Large  Medium  Smaller  outlier  land_area_sq_miles  \\\n",
       "737          1.0    1.0     0.0      0.0      0.0                 8.0   \n",
       "188          1.0    1.0     4.0      2.0      0.0                 8.0   \n",
       "200          3.0    0.0     1.0      0.0      0.0                10.0   \n",
       "190          2.0    1.0     1.0      1.0      0.0                 6.0   \n",
       "203          3.0    1.0     0.0      0.0      0.0                16.0   \n",
       "197          2.0    1.0     3.0      2.0      0.0                17.0   \n",
       "888          5.0    2.0     4.0      1.0      0.0                26.0   \n",
       "14          11.0    1.0     2.0      0.0      0.0                21.0   \n",
       "130          4.0    1.0     0.0      0.0      0.0                59.0   \n",
       "748          9.0    2.0     5.0      4.0      0.0                74.0   \n",
       "86           9.0    2.0     0.0      0.0      0.0                24.0   \n",
       "630          6.0    1.0     1.0      0.0      1.0                29.0   \n",
       "631          3.0    1.0     2.0      1.0      0.0                56.0   \n",
       "174          9.0    3.0     1.0      1.0      0.0                27.0   \n",
       "760          5.0    3.0     2.0      1.0      0.0                34.0   \n",
       "389          3.0    1.0     3.0      0.0      0.0               129.0   \n",
       "903          2.0    1.0     2.0      1.0      0.0                40.0   \n",
       "202          7.0    2.0     1.0      0.0      0.0                 8.0   \n",
       "340          8.0    3.0    12.0      4.0      0.0               128.0   \n",
       "12          10.0    3.0     3.0      1.0      0.0                24.0   \n",
       "932          2.0    2.0     3.0      3.0      1.0                29.0   \n",
       "80           7.0    2.0     5.0      0.0      0.0               162.0   \n",
       "69           8.0    3.0     1.0      0.0      0.0                25.0   \n",
       "177         11.0    5.0     5.0      2.0      0.0                22.0   \n",
       "7            9.0    1.0     6.0      0.0      0.0                28.0   \n",
       "735          7.0    4.0     3.0      4.0      0.0                14.0   \n",
       "\n",
       "        primary_city             county  pop_25_to_44  \\\n",
       "737        Iowa City     Johnson County       6,203.0   \n",
       "188       Des Moines        Polk County      10,320.0   \n",
       "200        Urbandale      Dallas County       3,837.0   \n",
       "190       Des Moines        Polk County       4,578.0   \n",
       "203    Pleasant Hill        Polk County       2,959.0   \n",
       "197       Des Moines        Polk County       5,750.0   \n",
       "888       Bettendorf       Scott County       9,399.0   \n",
       "14            Ankeny        Polk County      13,693.0   \n",
       "130          Norwalk      Warren County       3,763.0   \n",
       "748           Marion        Linn County      11,522.0   \n",
       "86          Johnston        Polk County       5,805.0   \n",
       "630          Dubuque     Dubuque County       4,442.0   \n",
       "631          Dubuque     Dubuque County       3,057.0   \n",
       "174           Waukee      Dallas County       9,276.0   \n",
       "760    North Liberty     Johnson County       7,784.0   \n",
       "389          Waverly      Bremer County       2,608.0   \n",
       "903         Eldridge       Scott County       2,680.0   \n",
       "202            Clive        Polk County       4,705.0   \n",
       "340      Cedar Falls  Black Hawk County       9,730.0   \n",
       "12            Ankeny        Polk County       8,041.0   \n",
       "932        Davenport       Scott County       4,352.0   \n",
       "80         Indianola      Warren County       4,611.0   \n",
       "69            Grimes        Polk County       5,469.0   \n",
       "177  West Des Moines        Polk County      10,893.0   \n",
       "7            Altoona        Polk County       5,762.0   \n",
       "735       Coralville     Johnson County       7,451.0   \n",
       "\n",
       "     Median_home_mkt_value_imdex  iowa_pct_HH_income_75k_plus_index  \\\n",
       "737                        156.0                             105.87   \n",
       "188                        104.0                             100.74   \n",
       "200                        223.0                             200.37   \n",
       "190                        142.0                             113.16   \n",
       "203                        153.0                             132.06   \n",
       "197                        108.0                             106.68   \n",
       "888                        154.0                             138.84   \n",
       "14                         160.0                             143.41   \n",
       "130                        150.0                             142.55   \n",
       "748                        117.0                             122.44   \n",
       "86                         174.0                             153.65   \n",
       "630                        143.0                             127.69   \n",
       "631                        138.0                             134.08   \n",
       "174                        168.0                             154.75   \n",
       "760                        159.0                             152.07   \n",
       "389                        121.0                             114.12   \n",
       "903                        158.0                              131.6   \n",
       "202                        185.0                              160.4   \n",
       "340                        137.0                             109.04   \n",
       "12                         154.0                             142.01   \n",
       "932                        177.0                             109.18   \n",
       "80                         127.0                             118.66   \n",
       "69                         152.0                             154.06   \n",
       "177                        172.0                             120.94   \n",
       "7                          134.0                             134.03   \n",
       "735                        156.0                              106.6   \n",
       "\n",
       "     bachelor_degree_index  median_hh_income_index  pop_density_index  \\\n",
       "737                  221.5                  101.63           5,607.34   \n",
       "188                 117.06                  103.84           7,299.08   \n",
       "200                 214.68                  233.17           2,693.58   \n",
       "190                 204.78                  107.05           5,126.61   \n",
       "203                 119.11                  132.09            1,400.0   \n",
       "197                  75.09                  105.34           2,588.99   \n",
       "888                 173.38                   139.4           2,638.53   \n",
       "14                   184.3                  148.74           3,544.95   \n",
       "130                 131.06                  136.42             420.18   \n",
       "748                 124.57                  120.69           1,031.19   \n",
       "86                  181.91                  144.94           1,697.25   \n",
       "630                 145.39                  124.72           1,099.08   \n",
       "631                  141.3                  131.61             440.37   \n",
       "174                 196.25                  159.37           1,792.66   \n",
       "760                 196.25                  144.31           1,113.76   \n",
       "389                 135.49                   114.1             177.98   \n",
       "903                 118.43                   129.7             475.23   \n",
       "202                 198.98                  173.01           4,104.59   \n",
       "340                 161.43                  108.09             631.19   \n",
       "12                  167.92                  142.21           2,100.92   \n",
       "932                 145.05                  106.71           1,049.54   \n",
       "80                  104.78                  115.46             231.19   \n",
       "69                  152.22                  162.67           1,133.94   \n",
       "177                 202.05                  120.37           2,510.09   \n",
       "7                   100.68                  130.57           1,317.43   \n",
       "735                 204.44                  110.03           2,917.43   \n",
       "\n",
       "     pct_25_to_54_years  pct_21_years_and_over  \n",
       "737               32.13                  66.37  \n",
       "188               43.56                  74.48  \n",
       "200               41.54                  62.94  \n",
       "190                41.5                   80.5  \n",
       "203               37.34                  67.86  \n",
       "197               38.91                  67.46  \n",
       "888               37.91                   71.1  \n",
       "14                45.29                  66.32  \n",
       "130               40.08                   71.7  \n",
       "748               40.92                  73.25  \n",
       "86                40.67                   71.1  \n",
       "630               36.25                  70.59  \n",
       "631               36.03                  74.11  \n",
       "174               46.64                  68.25  \n",
       "760               47.37                  67.45  \n",
       "389               30.84                  69.16  \n",
       "903               39.83                  64.45  \n",
       "202               41.41                  70.96  \n",
       "340                30.3                  68.54  \n",
       "12                41.99                  72.03  \n",
       "932               37.76                  74.37  \n",
       "80                34.03                  68.61  \n",
       "69                 50.5                  68.25  \n",
       "177               46.96                  77.35  \n",
       "7                 40.89                  71.06  \n",
       "735               44.84                  74.37  "
      ]
     },
     "execution_count": 136,
     "metadata": {},
     "output_type": "execute_result"
    }
   ],
   "source": [
    "higher_than_Iowa_df2[['population_per_store_None','Zip_Code','Total_population','pct_change_population','pct_25_to_44','Median_age_(years)','pct_HH_income_75k_plus','Median_home_mkt_value_imdex','pct_Bachelors_degree_or_higher','Median_household_income_(dollars)','Convenience',\n",
    " 'Large',\n",
    " 'Medium','Smaller','outlier','land_area_sq_miles','primary_city','county','pop_25_to_44','Median_home_mkt_value_imdex','iowa_pct_HH_income_75k_plus_index','bachelor_degree_index',\n",
    " 'median_hh_income_index',\n",
    " 'pop_density_index','pct_25_to_54_years','pct_21_years_and_over']].sort_values(by='population_per_store_None', ascending=False)"
   ]
  },
  {
   "cell_type": "markdown",
   "id": "fa714492",
   "metadata": {},
   "source": [
    "###### send to csv to compare in Excel"
   ]
  },
  {
   "cell_type": "code",
   "execution_count": 140,
   "id": "1f84a880",
   "metadata": {},
   "outputs": [],
   "source": [
    "higher_than_Iowa_df2[['population_per_store_None','Zip_Code','Total_population','pct_change_population','pct_25_to_44','Median_age_(years)','pct_HH_income_75k_plus','Median_home_mkt_value_imdex','pct_Bachelors_degree_or_higher','Median_household_income_(dollars)','Convenience',\n",
    " 'Large',\n",
    " 'Medium','Smaller','outlier','land_area_sq_miles','primary_city','county','pop_25_to_44','Median_home_mkt_value_imdex','iowa_pct_HH_income_75k_plus_index','bachelor_degree_index',\n",
    " 'median_hh_income_index',\n",
    " 'pop_density_index','pct_25_to_54_years','pct_21_years_and_over']].sort_values(by='population_per_store_None', ascending=False).to_csv(r'C:\\Users\\dgarb\\OneDrive\\Desktop\\Capstone Data\\liquor_2021\\higher_than_Iowa_df2.csv')"
   ]
  },
  {
   "cell_type": "code",
   "execution_count": 120,
   "id": "b82abad8",
   "metadata": {},
   "outputs": [
    {
     "data": {
      "text/plain": [
       "count   933.0\n",
       "mean     1.03\n",
       "std      0.61\n",
       "min       0.0\n",
       "25%      0.88\n",
       "50%      0.99\n",
       "75%       1.1\n",
       "max     17.59\n",
       "Name: population_growth, dtype: float64"
      ]
     },
     "execution_count": 120,
     "metadata": {},
     "output_type": "execute_result"
    }
   ],
   "source": [
    "census_combined4.population_growth.describe().round(2)"
   ]
  },
  {
   "cell_type": "code",
   "execution_count": 127,
   "id": "63f05431",
   "metadata": {},
   "outputs": [],
   "source": [
    "census_combined4['pop_21_plus_per_store'] = round(census_combined4['21_years_and_over'].div(census_combined4['number_of_stores']).replace(np.inf,0))"
   ]
  },
  {
   "cell_type": "code",
   "execution_count": 128,
   "id": "ba8787d2",
   "metadata": {},
   "outputs": [
    {
     "data": {
      "text/plain": [
       "0       0.0\n",
       "1     523.0\n",
       "2   1,125.0\n",
       "3     806.0\n",
       "4     600.0\n",
       "Name: pop_21_plus_per_store, dtype: float64"
      ]
     },
     "execution_count": 128,
     "metadata": {},
     "output_type": "execute_result"
    }
   ],
   "source": [
    "census_combined4['pop_21_plus_per_store'].head()"
   ]
  },
  {
   "cell_type": "code",
   "execution_count": null,
   "id": "4b782c59",
   "metadata": {},
   "outputs": [],
   "source": []
  },
  {
   "cell_type": "code",
   "execution_count": 129,
   "id": "fc7816b4",
   "metadata": {},
   "outputs": [
    {
     "data": {
      "text/html": [
       "<div>\n",
       "<style scoped>\n",
       "    .dataframe tbody tr th:only-of-type {\n",
       "        vertical-align: middle;\n",
       "    }\n",
       "\n",
       "    .dataframe tbody tr th {\n",
       "        vertical-align: top;\n",
       "    }\n",
       "\n",
       "    .dataframe thead th {\n",
       "        text-align: right;\n",
       "    }\n",
       "</style>\n",
       "<table border=\"1\" class=\"dataframe\">\n",
       "  <thead>\n",
       "    <tr style=\"text-align: right;\">\n",
       "      <th></th>\n",
       "      <th>primary_city</th>\n",
       "      <th>population_density</th>\n",
       "      <th>land_area_sq_miles</th>\n",
       "      <th>Zip_Code</th>\n",
       "      <th>county</th>\n",
       "      <th>21_years_and_over</th>\n",
       "    </tr>\n",
       "  </thead>\n",
       "  <tbody>\n",
       "    <tr>\n",
       "      <th>199</th>\n",
       "      <td>Urbandale</td>\n",
       "      <td>2,862.0</td>\n",
       "      <td>11.0</td>\n",
       "      <td>50322</td>\n",
       "      <td>Polk County</td>\n",
       "      <td>23,424.0</td>\n",
       "    </tr>\n",
       "    <tr>\n",
       "      <th>200</th>\n",
       "      <td>Urbandale</td>\n",
       "      <td>1,468.0</td>\n",
       "      <td>10.0</td>\n",
       "      <td>50323</td>\n",
       "      <td>Dallas County</td>\n",
       "      <td>9,359.0</td>\n",
       "    </tr>\n",
       "  </tbody>\n",
       "</table>\n",
       "</div>"
      ],
      "text/plain": [
       "    primary_city  population_density  land_area_sq_miles Zip_Code  \\\n",
       "199    Urbandale             2,862.0                11.0    50322   \n",
       "200    Urbandale             1,468.0                10.0    50323   \n",
       "\n",
       "            county  21_years_and_over  \n",
       "199    Polk County           23,424.0  \n",
       "200  Dallas County            9,359.0  "
      ]
     },
     "execution_count": 129,
     "metadata": {},
     "output_type": "execute_result"
    }
   ],
   "source": [
    "census_combined4.loc[census_combined4.primary_city=='Urbandale',['primary_city','population_density','land_area_sq_miles','Zip_Code','county','21_years_and_over']]"
   ]
  },
  {
   "cell_type": "code",
   "execution_count": 130,
   "id": "ff1bcb7b",
   "metadata": {},
   "outputs": [
    {
     "data": {
      "text/html": [
       "<div>\n",
       "<style scoped>\n",
       "    .dataframe tbody tr th:only-of-type {\n",
       "        vertical-align: middle;\n",
       "    }\n",
       "\n",
       "    .dataframe tbody tr th {\n",
       "        vertical-align: top;\n",
       "    }\n",
       "\n",
       "    .dataframe thead th {\n",
       "        text-align: right;\n",
       "    }\n",
       "</style>\n",
       "<table border=\"1\" class=\"dataframe\">\n",
       "  <thead>\n",
       "    <tr style=\"text-align: right;\">\n",
       "      <th></th>\n",
       "      <th>pct_change_population</th>\n",
       "      <th>primary_city</th>\n",
       "      <th>population_density</th>\n",
       "      <th>land_area_sq_miles</th>\n",
       "      <th>Zip_Code</th>\n",
       "      <th>county</th>\n",
       "      <th>21_years_and_over</th>\n",
       "      <th>number_of_stores</th>\n",
       "    </tr>\n",
       "  </thead>\n",
       "  <tbody>\n",
       "    <tr>\n",
       "      <th>734</th>\n",
       "      <td>6.79</td>\n",
       "      <td>Iowa City</td>\n",
       "      <td>253.0</td>\n",
       "      <td>142.0</td>\n",
       "      <td>52240</td>\n",
       "      <td>Johnson County</td>\n",
       "      <td>26,322.0</td>\n",
       "      <td>28.0</td>\n",
       "    </tr>\n",
       "    <tr>\n",
       "      <th>736</th>\n",
       "      <td>-16.65</td>\n",
       "      <td>Iowa City</td>\n",
       "      <td>1,980.0</td>\n",
       "      <td>1.0</td>\n",
       "      <td>52242</td>\n",
       "      <td>Johnson County</td>\n",
       "      <td>78.0</td>\n",
       "      <td>0.0</td>\n",
       "    </tr>\n",
       "    <tr>\n",
       "      <th>737</th>\n",
       "      <td>6.93</td>\n",
       "      <td>Iowa City</td>\n",
       "      <td>3,056.0</td>\n",
       "      <td>8.0</td>\n",
       "      <td>52245</td>\n",
       "      <td>Johnson County</td>\n",
       "      <td>17,033.0</td>\n",
       "      <td>2.0</td>\n",
       "    </tr>\n",
       "    <tr>\n",
       "      <th>738</th>\n",
       "      <td>3.84</td>\n",
       "      <td>Iowa City</td>\n",
       "      <td>1,390.0</td>\n",
       "      <td>17.0</td>\n",
       "      <td>52246</td>\n",
       "      <td>Johnson County</td>\n",
       "      <td>17,507.0</td>\n",
       "      <td>7.0</td>\n",
       "    </tr>\n",
       "  </tbody>\n",
       "</table>\n",
       "</div>"
      ],
      "text/plain": [
       "     pct_change_population primary_city  population_density  \\\n",
       "734                   6.79    Iowa City               253.0   \n",
       "736                 -16.65    Iowa City             1,980.0   \n",
       "737                   6.93    Iowa City             3,056.0   \n",
       "738                   3.84    Iowa City             1,390.0   \n",
       "\n",
       "     land_area_sq_miles Zip_Code          county  21_years_and_over  \\\n",
       "734               142.0    52240  Johnson County           26,322.0   \n",
       "736                 1.0    52242  Johnson County               78.0   \n",
       "737                 8.0    52245  Johnson County           17,033.0   \n",
       "738                17.0    52246  Johnson County           17,507.0   \n",
       "\n",
       "     number_of_stores  \n",
       "734              28.0  \n",
       "736               0.0  \n",
       "737               2.0  \n",
       "738               7.0  "
      ]
     },
     "execution_count": 130,
     "metadata": {},
     "output_type": "execute_result"
    }
   ],
   "source": [
    "# Iowa City\n",
    "\n",
    "census_combined4.loc[census_combined4.primary_city=='Iowa City',['pct_change_population','primary_city','population_density','land_area_sq_miles','Zip_Code','county','21_years_and_over','number_of_stores']]"
   ]
  },
  {
   "cell_type": "code",
   "execution_count": 133,
   "id": "12e130f6",
   "metadata": {},
   "outputs": [
    {
     "name": "stdout",
     "output_type": "stream",
     "text": [
      "0.3745132213634614\n"
     ]
    }
   ],
   "source": [
    "# correlation between column 1 and column3\n",
    "print(census_combined4['population_per_store_None'].corr(census_combined4['pct_Bachelors_degree_or_higher']))"
   ]
  },
  {
   "cell_type": "code",
   "execution_count": 134,
   "id": "0b4435b0",
   "metadata": {},
   "outputs": [
    {
     "name": "stdout",
     "output_type": "stream",
     "text": [
      "0.43413177672555664\n"
     ]
    }
   ],
   "source": [
    "print(census_combined4['Median_household_income_(dollars)'].corr(census_combined4['pct_Bachelors_degree_or_higher']))"
   ]
  },
  {
   "cell_type": "markdown",
   "id": "09fb111d",
   "metadata": {},
   "source": [
    "# write out census_combined5"
   ]
  },
  {
   "cell_type": "code",
   "execution_count": 165,
   "id": "59d0b68c",
   "metadata": {},
   "outputs": [],
   "source": [
    "census_combined5 = census_combined4.copy()"
   ]
  },
  {
   "cell_type": "code",
   "execution_count": 166,
   "id": "e2c2d22a",
   "metadata": {},
   "outputs": [],
   "source": [
    "census_combined5.to_csv(r'C:\\Users\\dgarb\\OneDrive\\Desktop\\Capstone Data\\census data\\census_combined5.csv')"
   ]
  }
 ],
 "metadata": {
  "kernelspec": {
   "display_name": "Python 3 (ipykernel)",
   "language": "python",
   "name": "python3"
  },
  "language_info": {
   "codemirror_mode": {
    "name": "ipython",
    "version": 3
   },
   "file_extension": ".py",
   "mimetype": "text/x-python",
   "name": "python",
   "nbconvert_exporter": "python",
   "pygments_lexer": "ipython3",
   "version": "3.9.7"
  }
 },
 "nbformat": 4,
 "nbformat_minor": 5
}

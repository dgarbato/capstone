{
 "cells": [
  {
   "cell_type": "code",
   "execution_count": 1,
   "id": "983f8910",
   "metadata": {},
   "outputs": [],
   "source": [
    "import pandas as pd\n",
    "import numpy as np"
   ]
  },
  {
   "cell_type": "code",
   "execution_count": 2,
   "id": "e49fd89f",
   "metadata": {},
   "outputs": [],
   "source": [
    "import matplotlib.pyplot as plt\n",
    "%matplotlib inline\n",
    "import seaborn as sns"
   ]
  },
  {
   "cell_type": "code",
   "execution_count": 3,
   "id": "b4cf4c56",
   "metadata": {},
   "outputs": [],
   "source": [
    "from freq_pd import proc_freq"
   ]
  },
  {
   "cell_type": "code",
   "execution_count": null,
   "id": "ff45c2dd",
   "metadata": {},
   "outputs": [],
   "source": []
  },
  {
   "cell_type": "code",
   "execution_count": 4,
   "id": "b1ae2067",
   "metadata": {},
   "outputs": [],
   "source": [
    "from sklearn.preprocessing import StandardScaler\n",
    "from sklearn.cluster import KMeans"
   ]
  },
  {
   "cell_type": "code",
   "execution_count": 5,
   "id": "5abf22b8",
   "metadata": {},
   "outputs": [],
   "source": [
    "cdtypes = {'Item_Number':str,'Category':str}"
   ]
  },
  {
   "cell_type": "code",
   "execution_count": 6,
   "id": "fba10cc0",
   "metadata": {},
   "outputs": [],
   "source": [
    "# products_iowa = pd.read_csv(r'C:\\Users\\dgarb\\OneDrive\\Desktop\\Capstone Data\\Iowa_Liquor_Products(1).csv',dtype=pdtypes)"
   ]
  },
  {
   "cell_type": "code",
   "execution_count": 7,
   "id": "70dc79ac",
   "metadata": {},
   "outputs": [],
   "source": [
    "df_categories_items =pd.read_csv(r'C:\\Users\\dgarb\\OneDrive\\Desktop\\Capstone Data\\liquor_2021\\categories_items.csv',dtype=cdtypes, index_col=0)"
   ]
  },
  {
   "cell_type": "code",
   "execution_count": 8,
   "id": "d4b14dd9",
   "metadata": {},
   "outputs": [
    {
     "name": "stdout",
     "output_type": "stream",
     "text": [
      "<class 'pandas.core.frame.DataFrame'>\n",
      "Int64Index: 4472 entries, 0 to 4471\n",
      "Data columns (total 5 columns):\n",
      " #   Column             Non-Null Count  Dtype \n",
      "---  ------             --------------  ----- \n",
      " 0   Item_Number        4472 non-null   object\n",
      " 1   Item_Description   4472 non-null   object\n",
      " 2   Category           4472 non-null   object\n",
      " 3   Category_Name      4472 non-null   object\n",
      " 4   New_Category_Name  4472 non-null   object\n",
      "dtypes: object(5)\n",
      "memory usage: 209.6+ KB\n"
     ]
    }
   ],
   "source": [
    "df_categories_items.info()"
   ]
  },
  {
   "cell_type": "code",
   "execution_count": 9,
   "id": "da0d863d",
   "metadata": {},
   "outputs": [],
   "source": [
    "df_categories_items = df_categories_items.drop(columns=['Item_Description'])"
   ]
  },
  {
   "cell_type": "code",
   "execution_count": 10,
   "id": "edde6c14",
   "metadata": {},
   "outputs": [],
   "source": [
    "dict_dtype = {'Item_Number':str,\n",
    "'Bottle_Volume (ml)':int,\n",
    "'Bottles_Sold':int,\n",
    "'Bottle_Retail':float,\n",
    "'Store_Number':int}"
   ]
  },
  {
   "cell_type": "code",
   "execution_count": null,
   "id": "7808282a",
   "metadata": {},
   "outputs": [],
   "source": []
  },
  {
   "cell_type": "code",
   "execution_count": 11,
   "id": "5bc0befa",
   "metadata": {},
   "outputs": [],
   "source": [
    "products = pd.read_csv(r'C:\\Users\\dgarb\\OneDrive\\Desktop\\Capstone Data\\liquor_2021\\clustering_data_num_unique_stores.csv',dtype=dict_dtype, index_col=0)"
   ]
  },
  {
   "cell_type": "code",
   "execution_count": 12,
   "id": "f5ca9cc5",
   "metadata": {},
   "outputs": [],
   "source": [
    "products.rename({'Store_Number':'Num_Stores_Selling', 'Sales':'revenue'} ,axis=1, inplace=True)\n",
    "              "
   ]
  },
  {
   "cell_type": "code",
   "execution_count": 13,
   "id": "523d6870",
   "metadata": {},
   "outputs": [],
   "source": [
    "products = products.drop(columns=['New_Category_Name'])"
   ]
  },
  {
   "cell_type": "code",
   "execution_count": 14,
   "id": "429684ad",
   "metadata": {},
   "outputs": [],
   "source": [
    "products = products.merge(df_categories_items,how='left',right_on='Item_Number', left_on='Item_Number')"
   ]
  },
  {
   "cell_type": "code",
   "execution_count": 15,
   "id": "572a56a2",
   "metadata": {},
   "outputs": [
    {
     "name": "stdout",
     "output_type": "stream",
     "text": [
      "<class 'pandas.core.frame.DataFrame'>\n",
      "Int64Index: 4475 entries, 0 to 4474\n",
      "Data columns (total 10 columns):\n",
      " #   Column              Non-Null Count  Dtype  \n",
      "---  ------              --------------  -----  \n",
      " 0   Item_Number         4475 non-null   object \n",
      " 1   Item_Description    4475 non-null   object \n",
      " 2   Bottle_Volume       4475 non-null   int64  \n",
      " 3   Bottle_Retail       4475 non-null   float64\n",
      " 4   Bottles_Sold        4475 non-null   int32  \n",
      " 5   Num_Stores_Selling  4475 non-null   int32  \n",
      " 6   revenue             4475 non-null   float64\n",
      " 7   Category            4475 non-null   object \n",
      " 8   Category_Name       4475 non-null   object \n",
      " 9   New_Category_Name   4475 non-null   object \n",
      "dtypes: float64(2), int32(2), int64(1), object(5)\n",
      "memory usage: 349.6+ KB\n"
     ]
    }
   ],
   "source": [
    "products.info()"
   ]
  },
  {
   "cell_type": "code",
   "execution_count": 16,
   "id": "ef7050d2",
   "metadata": {},
   "outputs": [
    {
     "name": "stdout",
     "output_type": "stream",
     "text": [
      "424233229.6\n"
     ]
    }
   ],
   "source": [
    "check = products['revenue'].sum()\n",
    "print(check)"
   ]
  },
  {
   "cell_type": "code",
   "execution_count": 17,
   "id": "9f7bed6d",
   "metadata": {},
   "outputs": [],
   "source": [
    "products2 = products.copy()"
   ]
  },
  {
   "cell_type": "code",
   "execution_count": 18,
   "id": "55723faa",
   "metadata": {},
   "outputs": [
    {
     "data": {
      "text/plain": [
       "(159, 10)"
      ]
     },
     "execution_count": 18,
     "metadata": {},
     "output_type": "execute_result"
    }
   ],
   "source": [
    "#remove minis seliing for over $10 due to data quality issues see data quality check notebook\n",
    "poor_quality = products2.loc[(products.Bottle_Volume == 50) & (products.Bottle_Retail > 10)]\n",
    "poor_quality.shape"
   ]
  },
  {
   "cell_type": "code",
   "execution_count": 19,
   "id": "58108fe8",
   "metadata": {},
   "outputs": [],
   "source": [
    "poor_quality.to_csv(r'C:\\Users\\dgarb\\OneDrive\\Desktop\\Capstone Data\\liquor_2021\\poor_data_quality_items.csv')"
   ]
  },
  {
   "cell_type": "code",
   "execution_count": 20,
   "id": "72612710",
   "metadata": {},
   "outputs": [
    {
     "data": {
      "text/plain": [
       "0       False\n",
       "1       False\n",
       "2       False\n",
       "3       False\n",
       "4       False\n",
       "        ...  \n",
       "4470    False\n",
       "4471    False\n",
       "4472    False\n",
       "4473    False\n",
       "4474    False\n",
       "Length: 4475, dtype: bool"
      ]
     },
     "execution_count": 20,
     "metadata": {},
     "output_type": "execute_result"
    }
   ],
   "source": [
    "\n",
    "(products.Bottle_Volume == 50) & (products.Bottle_Retail > 10)"
   ]
  },
  {
   "cell_type": "code",
   "execution_count": 21,
   "id": "8c72b193",
   "metadata": {},
   "outputs": [
    {
     "data": {
      "text/plain": [
       "pandas.core.series.Series"
      ]
     },
     "execution_count": 21,
     "metadata": {},
     "output_type": "execute_result"
    }
   ],
   "source": [
    "poor_quality_mask = (products.Bottle_Volume == 50) & (products.Bottle_Retail > 10)\n",
    "type(poor_quality_mask)"
   ]
  },
  {
   "cell_type": "code",
   "execution_count": 22,
   "id": "051ece16",
   "metadata": {},
   "outputs": [],
   "source": [
    "products2 = products2[~poor_quality_mask]"
   ]
  },
  {
   "cell_type": "code",
   "execution_count": 23,
   "id": "fd04b71c",
   "metadata": {},
   "outputs": [
    {
     "name": "stdout",
     "output_type": "stream",
     "text": [
      "<class 'pandas.core.frame.DataFrame'>\n",
      "Int64Index: 4316 entries, 0 to 4474\n",
      "Data columns (total 10 columns):\n",
      " #   Column              Non-Null Count  Dtype  \n",
      "---  ------              --------------  -----  \n",
      " 0   Item_Number         4316 non-null   object \n",
      " 1   Item_Description    4316 non-null   object \n",
      " 2   Bottle_Volume       4316 non-null   int64  \n",
      " 3   Bottle_Retail       4316 non-null   float64\n",
      " 4   Bottles_Sold        4316 non-null   int32  \n",
      " 5   Num_Stores_Selling  4316 non-null   int32  \n",
      " 6   revenue             4316 non-null   float64\n",
      " 7   Category            4316 non-null   object \n",
      " 8   Category_Name       4316 non-null   object \n",
      " 9   New_Category_Name   4316 non-null   object \n",
      "dtypes: float64(2), int32(2), int64(1), object(5)\n",
      "memory usage: 337.2+ KB\n"
     ]
    }
   ],
   "source": [
    "products2.info()"
   ]
  },
  {
   "cell_type": "code",
   "execution_count": 24,
   "id": "67548f18",
   "metadata": {},
   "outputs": [
    {
     "data": {
      "text/html": [
       "<div>\n",
       "<style scoped>\n",
       "    .dataframe tbody tr th:only-of-type {\n",
       "        vertical-align: middle;\n",
       "    }\n",
       "\n",
       "    .dataframe tbody tr th {\n",
       "        vertical-align: top;\n",
       "    }\n",
       "\n",
       "    .dataframe thead th {\n",
       "        text-align: right;\n",
       "    }\n",
       "</style>\n",
       "<table border=\"1\" class=\"dataframe\">\n",
       "  <thead>\n",
       "    <tr style=\"text-align: right;\">\n",
       "      <th></th>\n",
       "      <th>Bottle_Volume</th>\n",
       "      <th>Bottle_Retail</th>\n",
       "      <th>Bottles_Sold</th>\n",
       "      <th>Num_Stores_Selling</th>\n",
       "      <th>revenue</th>\n",
       "    </tr>\n",
       "  </thead>\n",
       "  <tbody>\n",
       "    <tr>\n",
       "      <th>count</th>\n",
       "      <td>4475.000000</td>\n",
       "      <td>4475.000000</td>\n",
       "      <td>4.475000e+03</td>\n",
       "      <td>4475.000000</td>\n",
       "      <td>4.475000e+03</td>\n",
       "    </tr>\n",
       "    <tr>\n",
       "      <th>mean</th>\n",
       "      <td>792.361564</td>\n",
       "      <td>31.221806</td>\n",
       "      <td>6.930340e+03</td>\n",
       "      <td>125.248045</td>\n",
       "      <td>9.480072e+04</td>\n",
       "    </tr>\n",
       "    <tr>\n",
       "      <th>std</th>\n",
       "      <td>410.724957</td>\n",
       "      <td>69.350753</td>\n",
       "      <td>3.972229e+04</td>\n",
       "      <td>214.229508</td>\n",
       "      <td>3.889196e+05</td>\n",
       "    </tr>\n",
       "    <tr>\n",
       "      <th>min</th>\n",
       "      <td>20.000000</td>\n",
       "      <td>0.990000</td>\n",
       "      <td>1.000000e+00</td>\n",
       "      <td>1.000000</td>\n",
       "      <td>7.500000e+00</td>\n",
       "    </tr>\n",
       "    <tr>\n",
       "      <th>25%</th>\n",
       "      <td>750.000000</td>\n",
       "      <td>11.799501</td>\n",
       "      <td>5.250000e+01</td>\n",
       "      <td>3.000000</td>\n",
       "      <td>1.395540e+03</td>\n",
       "    </tr>\n",
       "    <tr>\n",
       "      <th>50%</th>\n",
       "      <td>750.000000</td>\n",
       "      <td>20.250000</td>\n",
       "      <td>5.470000e+02</td>\n",
       "      <td>49.000000</td>\n",
       "      <td>1.304100e+04</td>\n",
       "    </tr>\n",
       "    <tr>\n",
       "      <th>75%</th>\n",
       "      <td>750.000000</td>\n",
       "      <td>35.000000</td>\n",
       "      <td>3.622000e+03</td>\n",
       "      <td>154.000000</td>\n",
       "      <td>5.269973e+04</td>\n",
       "    </tr>\n",
       "    <tr>\n",
       "      <th>max</th>\n",
       "      <td>5250.000000</td>\n",
       "      <td>2963.694000</td>\n",
       "      <td>2.105088e+06</td>\n",
       "      <td>1725.000000</td>\n",
       "      <td>1.062280e+07</td>\n",
       "    </tr>\n",
       "  </tbody>\n",
       "</table>\n",
       "</div>"
      ],
      "text/plain": [
       "       Bottle_Volume  Bottle_Retail  Bottles_Sold  Num_Stores_Selling  \\\n",
       "count    4475.000000    4475.000000  4.475000e+03         4475.000000   \n",
       "mean      792.361564      31.221806  6.930340e+03          125.248045   \n",
       "std       410.724957      69.350753  3.972229e+04          214.229508   \n",
       "min        20.000000       0.990000  1.000000e+00            1.000000   \n",
       "25%       750.000000      11.799501  5.250000e+01            3.000000   \n",
       "50%       750.000000      20.250000  5.470000e+02           49.000000   \n",
       "75%       750.000000      35.000000  3.622000e+03          154.000000   \n",
       "max      5250.000000    2963.694000  2.105088e+06         1725.000000   \n",
       "\n",
       "            revenue  \n",
       "count  4.475000e+03  \n",
       "mean   9.480072e+04  \n",
       "std    3.889196e+05  \n",
       "min    7.500000e+00  \n",
       "25%    1.395540e+03  \n",
       "50%    1.304100e+04  \n",
       "75%    5.269973e+04  \n",
       "max    1.062280e+07  "
      ]
     },
     "execution_count": 24,
     "metadata": {},
     "output_type": "execute_result"
    }
   ],
   "source": [
    "products.describe()"
   ]
  },
  {
   "cell_type": "code",
   "execution_count": 25,
   "id": "9bef7d21",
   "metadata": {},
   "outputs": [
    {
     "data": {
      "text/plain": [
       "(4475, 10)"
      ]
     },
     "execution_count": 25,
     "metadata": {},
     "output_type": "execute_result"
    }
   ],
   "source": [
    "products.shape"
   ]
  },
  {
   "cell_type": "code",
   "execution_count": 26,
   "id": "2f60facc",
   "metadata": {},
   "outputs": [
    {
     "data": {
      "text/plain": [
       "<AxesSubplot:xlabel='Bottle_Retail', ylabel='Count'>"
      ]
     },
     "execution_count": 26,
     "metadata": {},
     "output_type": "execute_result"
    },
    {
     "data": {
      "image/png": "[encoded data removed]",
      "text/plain": [
       "<Figure size 1080x576 with 1 Axes>"
      ]
     },
     "metadata": {},
     "output_type": "display_data"
    }
   ],
   "source": [
    "gph = sns.set(rc = {'figure.figsize':(15,8)})\n",
    "sns.histplot(products['Bottle_Retail'], bins=150)\n"
   ]
  },
  {
   "cell_type": "code",
   "execution_count": 27,
   "id": "d5eda8f7",
   "metadata": {},
   "outputs": [
    {
     "data": {
      "image/png": "[encoded data removed]",
      "text/plain": [
       "<Figure size 1080x576 with 1 Axes>"
      ]
     },
     "metadata": {},
     "output_type": "display_data"
    }
   ],
   "source": [
    "# products.plot.scatter(x='Bottle_Volume', y='Bottle_Retail')\n",
    "gph = sns.set(rc = {'figure.figsize':(15,8)})\n",
    "gfg = sns.scatterplot(data=products, x='Bottle_Retail', y='Bottle_Volume')\n",
    "# gfg.set_ylim(0, 80)\n",
    "# gph.set_xlim(0.98,3000)\n",
    "# gph.set_xticks(range(0.98,3000))\n",
    "plt.show()"
   ]
  },
  {
   "cell_type": "code",
   "execution_count": 28,
   "id": "e5bdaa49",
   "metadata": {},
   "outputs": [
    {
     "data": {
      "text/plain": [
       "0.012858551897243728"
      ]
     },
     "execution_count": 28,
     "metadata": {},
     "output_type": "execute_result"
    }
   ],
   "source": [
    "products.Bottle_Retail.corr((products.Bottle_Volume))"
   ]
  },
  {
   "cell_type": "code",
   "execution_count": 29,
   "id": "16554301",
   "metadata": {},
   "outputs": [
    {
     "data": {
      "text/plain": [
       "-0.04408941079679311"
      ]
     },
     "execution_count": 29,
     "metadata": {},
     "output_type": "execute_result"
    }
   ],
   "source": [
    "products.Bottle_Retail.corr((products.Bottles_Sold))"
   ]
  },
  {
   "cell_type": "code",
   "execution_count": 30,
   "id": "6c0eaf24",
   "metadata": {},
   "outputs": [
    {
     "data": {
      "text/plain": [
       "-0.000152168220141047"
      ]
     },
     "execution_count": 30,
     "metadata": {},
     "output_type": "execute_result"
    }
   ],
   "source": [
    "products.Bottles_Sold.corr((products.Bottle_Volume))"
   ]
  },
  {
   "cell_type": "code",
   "execution_count": 31,
   "id": "8f0c52bb",
   "metadata": {},
   "outputs": [
    {
     "data": {
      "text/plain": [
       "0.45378226327407434"
      ]
     },
     "execution_count": 31,
     "metadata": {},
     "output_type": "execute_result"
    }
   ],
   "source": [
    "products.Bottles_Sold.corr((products.Num_Stores_Selling))"
   ]
  },
  {
   "cell_type": "code",
   "execution_count": 32,
   "id": "5aadbed4",
   "metadata": {},
   "outputs": [
    {
     "data": {
      "text/html": [
       "<div>\n",
       "<style scoped>\n",
       "    .dataframe tbody tr th:only-of-type {\n",
       "        vertical-align: middle;\n",
       "    }\n",
       "\n",
       "    .dataframe tbody tr th {\n",
       "        vertical-align: top;\n",
       "    }\n",
       "\n",
       "    .dataframe thead th {\n",
       "        text-align: right;\n",
       "    }\n",
       "</style>\n",
       "<table border=\"1\" class=\"dataframe\">\n",
       "  <thead>\n",
       "    <tr style=\"text-align: right;\">\n",
       "      <th></th>\n",
       "      <th>Item_Number</th>\n",
       "      <th>Item_Description</th>\n",
       "      <th>Bottle_Volume</th>\n",
       "      <th>Bottle_Retail</th>\n",
       "      <th>Bottles_Sold</th>\n",
       "      <th>Num_Stores_Selling</th>\n",
       "      <th>revenue</th>\n",
       "      <th>Category</th>\n",
       "      <th>Category_Name</th>\n",
       "      <th>New_Category_Name</th>\n",
       "    </tr>\n",
       "  </thead>\n",
       "  <tbody>\n",
       "    <tr>\n",
       "      <th>1338</th>\n",
       "      <td>4113</td>\n",
       "      <td>Hennessy Paradis</td>\n",
       "      <td>750</td>\n",
       "      <td>824.990</td>\n",
       "      <td>27</td>\n",
       "      <td>15</td>\n",
       "      <td>22274.73</td>\n",
       "      <td>1052100</td>\n",
       "      <td>Imported Brandies</td>\n",
       "      <td>Brandies</td>\n",
       "    </tr>\n",
       "    <tr>\n",
       "      <th>1636</th>\n",
       "      <td>48725</td>\n",
       "      <td>Remy Martin Louis XIII</td>\n",
       "      <td>750</td>\n",
       "      <td>2963.694</td>\n",
       "      <td>17</td>\n",
       "      <td>12</td>\n",
       "      <td>50977.11</td>\n",
       "      <td>1052100</td>\n",
       "      <td>Imported Brandies</td>\n",
       "      <td>Brandies</td>\n",
       "    </tr>\n",
       "    <tr>\n",
       "      <th>1919</th>\n",
       "      <td>6051</td>\n",
       "      <td>Glenmorangie Grand Vintage 1997 Limited Edition</td>\n",
       "      <td>750</td>\n",
       "      <td>637.410</td>\n",
       "      <td>8</td>\n",
       "      <td>4</td>\n",
       "      <td>5099.28</td>\n",
       "      <td>1701100</td>\n",
       "      <td>Temporary &amp; Specialty Packages</td>\n",
       "      <td>Temporary &amp; Specialty Packages</td>\n",
       "    </tr>\n",
       "    <tr>\n",
       "      <th>2914</th>\n",
       "      <td>901559</td>\n",
       "      <td>HA Blood Oath Trilogy II 3 Pack</td>\n",
       "      <td>2250</td>\n",
       "      <td>600.000</td>\n",
       "      <td>35</td>\n",
       "      <td>35</td>\n",
       "      <td>21000.00</td>\n",
       "      <td>1011200</td>\n",
       "      <td>Straight Bourbon Whiskies</td>\n",
       "      <td>Bourbon</td>\n",
       "    </tr>\n",
       "    <tr>\n",
       "      <th>3183</th>\n",
       "      <td>905953</td>\n",
       "      <td>Glenmorangie Grand Vintage 1996</td>\n",
       "      <td>750</td>\n",
       "      <td>618.740</td>\n",
       "      <td>2</td>\n",
       "      <td>2</td>\n",
       "      <td>1237.48</td>\n",
       "      <td>1012300</td>\n",
       "      <td>Single Malt Scotch</td>\n",
       "      <td>Scotch</td>\n",
       "    </tr>\n",
       "    <tr>\n",
       "      <th>3194</th>\n",
       "      <td>906532</td>\n",
       "      <td>Glengoyne 30 YO</td>\n",
       "      <td>750</td>\n",
       "      <td>1012.500</td>\n",
       "      <td>1</td>\n",
       "      <td>1</td>\n",
       "      <td>1012.50</td>\n",
       "      <td>1012200</td>\n",
       "      <td>Scotch Whiskies</td>\n",
       "      <td>Scotch</td>\n",
       "    </tr>\n",
       "    <tr>\n",
       "      <th>3330</th>\n",
       "      <td>917673</td>\n",
       "      <td>HA Double Eagle Very Rare</td>\n",
       "      <td>750</td>\n",
       "      <td>1500.000</td>\n",
       "      <td>2</td>\n",
       "      <td>2</td>\n",
       "      <td>3000.00</td>\n",
       "      <td>1011200</td>\n",
       "      <td>Straight Bourbon Whiskies</td>\n",
       "      <td>Bourbon</td>\n",
       "    </tr>\n",
       "    <tr>\n",
       "      <th>3367</th>\n",
       "      <td>919976</td>\n",
       "      <td>HA OFC Bourbon 1995</td>\n",
       "      <td>750</td>\n",
       "      <td>1875.000</td>\n",
       "      <td>10</td>\n",
       "      <td>10</td>\n",
       "      <td>18750.00</td>\n",
       "      <td>1011200</td>\n",
       "      <td>Straight Bourbon Whiskies</td>\n",
       "      <td>Bourbon</td>\n",
       "    </tr>\n",
       "  </tbody>\n",
       "</table>\n",
       "</div>"
      ],
      "text/plain": [
       "     Item_Number                                 Item_Description  \\\n",
       "1338        4113                                 Hennessy Paradis   \n",
       "1636       48725                           Remy Martin Louis XIII   \n",
       "1919        6051  Glenmorangie Grand Vintage 1997 Limited Edition   \n",
       "2914      901559                  HA Blood Oath Trilogy II 3 Pack   \n",
       "3183      905953                  Glenmorangie Grand Vintage 1996   \n",
       "3194      906532                                  Glengoyne 30 YO   \n",
       "3330      917673                        HA Double Eagle Very Rare   \n",
       "3367      919976                              HA OFC Bourbon 1995   \n",
       "\n",
       "      Bottle_Volume  Bottle_Retail  Bottles_Sold  Num_Stores_Selling  \\\n",
       "1338            750        824.990            27                  15   \n",
       "1636            750       2963.694            17                  12   \n",
       "1919            750        637.410             8                   4   \n",
       "2914           2250        600.000            35                  35   \n",
       "3183            750        618.740             2                   2   \n",
       "3194            750       1012.500             1                   1   \n",
       "3330            750       1500.000             2                   2   \n",
       "3367            750       1875.000            10                  10   \n",
       "\n",
       "       revenue Category                   Category_Name  \\\n",
       "1338  22274.73  1052100               Imported Brandies   \n",
       "1636  50977.11  1052100               Imported Brandies   \n",
       "1919   5099.28  1701100  Temporary & Specialty Packages   \n",
       "2914  21000.00  1011200       Straight Bourbon Whiskies   \n",
       "3183   1237.48  1012300              Single Malt Scotch   \n",
       "3194   1012.50  1012200                 Scotch Whiskies   \n",
       "3330   3000.00  1011200       Straight Bourbon Whiskies   \n",
       "3367  18750.00  1011200       Straight Bourbon Whiskies   \n",
       "\n",
       "                   New_Category_Name  \n",
       "1338                        Brandies  \n",
       "1636                        Brandies  \n",
       "1919  Temporary & Specialty Packages  \n",
       "2914                         Bourbon  \n",
       "3183                          Scotch  \n",
       "3194                          Scotch  \n",
       "3330                         Bourbon  \n",
       "3367                         Bourbon  "
      ]
     },
     "execution_count": 32,
     "metadata": {},
     "output_type": "execute_result"
    }
   ],
   "source": [
    "# filt = products.Bottle_Retail > 1400\n",
    "xfilt = products.Bottle_Retail > 500\n",
    "products[xfilt]"
   ]
  },
  {
   "cell_type": "code",
   "execution_count": 33,
   "id": "1d7103fa",
   "metadata": {},
   "outputs": [
    {
     "data": {
      "text/html": [
       "<div>\n",
       "<style scoped>\n",
       "    .dataframe tbody tr th:only-of-type {\n",
       "        vertical-align: middle;\n",
       "    }\n",
       "\n",
       "    .dataframe tbody tr th {\n",
       "        vertical-align: top;\n",
       "    }\n",
       "\n",
       "    .dataframe thead th {\n",
       "        text-align: right;\n",
       "    }\n",
       "</style>\n",
       "<table border=\"1\" class=\"dataframe\">\n",
       "  <thead>\n",
       "    <tr style=\"text-align: right;\">\n",
       "      <th></th>\n",
       "      <th>Item_Number</th>\n",
       "      <th>Item_Description</th>\n",
       "      <th>Bottle_Volume</th>\n",
       "      <th>Bottle_Retail</th>\n",
       "      <th>Bottles_Sold</th>\n",
       "      <th>Num_Stores_Selling</th>\n",
       "      <th>revenue</th>\n",
       "      <th>Category</th>\n",
       "      <th>Category_Name</th>\n",
       "      <th>New_Category_Name</th>\n",
       "    </tr>\n",
       "  </thead>\n",
       "  <tbody>\n",
       "    <tr>\n",
       "      <th>0</th>\n",
       "      <td>100015</td>\n",
       "      <td>Fireball Cinnamon Whiskey Bag in Box</td>\n",
       "      <td>3500</td>\n",
       "      <td>45.0</td>\n",
       "      <td>1123</td>\n",
       "      <td>129</td>\n",
       "      <td>50535.0</td>\n",
       "      <td>1081600</td>\n",
       "      <td>Whiskey Liqueur</td>\n",
       "      <td>Whiskey Liqueur</td>\n",
       "    </tr>\n",
       "    <tr>\n",
       "      <th>139</th>\n",
       "      <td>101515</td>\n",
       "      <td>Fireball Cinnamon Whiskey Keg</td>\n",
       "      <td>5250</td>\n",
       "      <td>138.0</td>\n",
       "      <td>180</td>\n",
       "      <td>141</td>\n",
       "      <td>24895.5</td>\n",
       "      <td>1701100</td>\n",
       "      <td>Temporary &amp; Specialty Packages</td>\n",
       "      <td>Temporary &amp; Specialty Packages</td>\n",
       "    </tr>\n",
       "    <tr>\n",
       "      <th>155</th>\n",
       "      <td>101665</td>\n",
       "      <td>Stumpys Spirits Cocktail Collection Gift Set</td>\n",
       "      <td>4500</td>\n",
       "      <td>108.0</td>\n",
       "      <td>115</td>\n",
       "      <td>26</td>\n",
       "      <td>12420.0</td>\n",
       "      <td>1701100</td>\n",
       "      <td>Temporary &amp; Specialty Packages</td>\n",
       "      <td>Temporary &amp; Specialty Packages</td>\n",
       "    </tr>\n",
       "  </tbody>\n",
       "</table>\n",
       "</div>"
      ],
      "text/plain": [
       "    Item_Number                              Item_Description  Bottle_Volume  \\\n",
       "0        100015          Fireball Cinnamon Whiskey Bag in Box           3500   \n",
       "139      101515                 Fireball Cinnamon Whiskey Keg           5250   \n",
       "155      101665  Stumpys Spirits Cocktail Collection Gift Set           4500   \n",
       "\n",
       "     Bottle_Retail  Bottles_Sold  Num_Stores_Selling  revenue Category  \\\n",
       "0             45.0          1123                 129  50535.0  1081600   \n",
       "139          138.0           180                 141  24895.5  1701100   \n",
       "155          108.0           115                  26  12420.0  1701100   \n",
       "\n",
       "                      Category_Name               New_Category_Name  \n",
       "0                   Whiskey Liqueur                 Whiskey Liqueur  \n",
       "139  Temporary & Specialty Packages  Temporary & Specialty Packages  \n",
       "155  Temporary & Specialty Packages  Temporary & Specialty Packages  "
      ]
     },
     "execution_count": 33,
     "metadata": {},
     "output_type": "execute_result"
    }
   ],
   "source": [
    "xfilt2 = products.Bottle_Volume > 3000\n",
    "products[xfilt2]"
   ]
  },
  {
   "cell_type": "code",
   "execution_count": null,
   "id": "8d9567c0",
   "metadata": {},
   "outputs": [],
   "source": []
  },
  {
   "cell_type": "code",
   "execution_count": 34,
   "id": "bdb4096d",
   "metadata": {},
   "outputs": [
    {
     "data": {
      "text/plain": [
       "31013272"
      ]
     },
     "execution_count": 34,
     "metadata": {},
     "output_type": "execute_result"
    }
   ],
   "source": [
    "np.sum(products.Bottles_Sold)"
   ]
  },
  {
   "cell_type": "code",
   "execution_count": 35,
   "id": "a8c18cf2",
   "metadata": {},
   "outputs": [
    {
     "data": {
      "image/png": "[encoded data removed]",
      "text/plain": [
       "<Figure size 1080x576 with 1 Axes>"
      ]
     },
     "metadata": {},
     "output_type": "display_data"
    }
   ],
   "source": [
    "gph = sns.set(rc = {'figure.figsize':(15,8)})\n",
    "gfg = sns.scatterplot(data=products, x='Bottle_Retail', y='Bottles_Sold')\n",
    "# gfg.set_ylim(0, 80)"
   ]
  },
  {
   "cell_type": "code",
   "execution_count": 36,
   "id": "84d72ea2",
   "metadata": {},
   "outputs": [
    {
     "data": {
      "text/html": [
       "<div>\n",
       "<style scoped>\n",
       "    .dataframe tbody tr th:only-of-type {\n",
       "        vertical-align: middle;\n",
       "    }\n",
       "\n",
       "    .dataframe tbody tr th {\n",
       "        vertical-align: top;\n",
       "    }\n",
       "\n",
       "    .dataframe thead th {\n",
       "        text-align: right;\n",
       "    }\n",
       "</style>\n",
       "<table border=\"1\" class=\"dataframe\">\n",
       "  <thead>\n",
       "    <tr style=\"text-align: right;\">\n",
       "      <th></th>\n",
       "      <th>Item_Number</th>\n",
       "      <th>Item_Description</th>\n",
       "      <th>Bottle_Volume</th>\n",
       "      <th>Bottle_Retail</th>\n",
       "      <th>Bottles_Sold</th>\n",
       "      <th>Num_Stores_Selling</th>\n",
       "      <th>revenue</th>\n",
       "      <th>Category</th>\n",
       "      <th>Category_Name</th>\n",
       "      <th>New_Category_Name</th>\n",
       "    </tr>\n",
       "  </thead>\n",
       "  <tbody>\n",
       "    <tr>\n",
       "      <th>2035</th>\n",
       "      <td>64870</td>\n",
       "      <td>Fireball Cinnamon Whiskey</td>\n",
       "      <td>100</td>\n",
       "      <td>1.35</td>\n",
       "      <td>2105088</td>\n",
       "      <td>893</td>\n",
       "      <td>2841868.8</td>\n",
       "      <td>1081600</td>\n",
       "      <td>Whiskey Liqueur</td>\n",
       "      <td>Whiskey Liqueur</td>\n",
       "    </tr>\n",
       "  </tbody>\n",
       "</table>\n",
       "</div>"
      ],
      "text/plain": [
       "     Item_Number           Item_Description  Bottle_Volume  Bottle_Retail  \\\n",
       "2035       64870  Fireball Cinnamon Whiskey            100           1.35   \n",
       "\n",
       "      Bottles_Sold  Num_Stores_Selling    revenue Category    Category_Name  \\\n",
       "2035       2105088                 893  2841868.8  1081600  Whiskey Liqueur   \n",
       "\n",
       "     New_Category_Name  \n",
       "2035   Whiskey Liqueur  "
      ]
     },
     "execution_count": 36,
     "metadata": {},
     "output_type": "execute_result"
    }
   ],
   "source": [
    "xfilt3= products.Item_Number == '64870'  #outlier of bottles sold\n",
    "products[xfilt3]"
   ]
  },
  {
   "cell_type": "markdown",
   "id": "0628ea1f",
   "metadata": {},
   "source": [
    "### create outlier DataFrame to export"
   ]
  },
  {
   "cell_type": "code",
   "execution_count": 37,
   "id": "be9ee346",
   "metadata": {},
   "outputs": [],
   "source": [
    "df1 = products[xfilt]\n",
    "df2 = products[xfilt2]\n",
    "df3 = products[xfilt3]\n",
    "\n",
    "outliers_df = pd.concat([df1,df2,df3])\n",
    "\n",
    "outliers_df.to_csv(r'C:\\Users\\dgarb\\OneDrive\\Desktop\\Capstone Data\\liquor_2021\\kmeans_outliers.csv')"
   ]
  },
  {
   "cell_type": "code",
   "execution_count": null,
   "id": "54ac5c0f",
   "metadata": {},
   "outputs": [],
   "source": []
  },
  {
   "cell_type": "markdown",
   "id": "313e2938",
   "metadata": {},
   "source": [
    "remove outliers"
   ]
  },
  {
   "cell_type": "code",
   "execution_count": 38,
   "id": "e9a87989",
   "metadata": {},
   "outputs": [],
   "source": [
    "# filt = products2.Bottle_Retail > 1400 #drop outliers of Bottle Retail\n",
    "filt = products2.Bottle_Retail > 500 #drop outliers of Bottle Retail\n"
   ]
  },
  {
   "cell_type": "code",
   "execution_count": 39,
   "id": "712f3553",
   "metadata": {},
   "outputs": [
    {
     "data": {
      "text/html": [
       "<div>\n",
       "<style scoped>\n",
       "    .dataframe tbody tr th:only-of-type {\n",
       "        vertical-align: middle;\n",
       "    }\n",
       "\n",
       "    .dataframe tbody tr th {\n",
       "        vertical-align: top;\n",
       "    }\n",
       "\n",
       "    .dataframe thead th {\n",
       "        text-align: right;\n",
       "    }\n",
       "</style>\n",
       "<table border=\"1\" class=\"dataframe\">\n",
       "  <thead>\n",
       "    <tr style=\"text-align: right;\">\n",
       "      <th></th>\n",
       "      <th>Item_Number</th>\n",
       "      <th>Item_Description</th>\n",
       "      <th>Bottle_Volume</th>\n",
       "      <th>Bottle_Retail</th>\n",
       "      <th>Bottles_Sold</th>\n",
       "      <th>Num_Stores_Selling</th>\n",
       "      <th>revenue</th>\n",
       "      <th>Category</th>\n",
       "      <th>Category_Name</th>\n",
       "      <th>New_Category_Name</th>\n",
       "    </tr>\n",
       "  </thead>\n",
       "  <tbody>\n",
       "    <tr>\n",
       "      <th>1338</th>\n",
       "      <td>4113</td>\n",
       "      <td>Hennessy Paradis</td>\n",
       "      <td>750</td>\n",
       "      <td>824.990</td>\n",
       "      <td>27</td>\n",
       "      <td>15</td>\n",
       "      <td>22274.73</td>\n",
       "      <td>1052100</td>\n",
       "      <td>Imported Brandies</td>\n",
       "      <td>Brandies</td>\n",
       "    </tr>\n",
       "    <tr>\n",
       "      <th>1636</th>\n",
       "      <td>48725</td>\n",
       "      <td>Remy Martin Louis XIII</td>\n",
       "      <td>750</td>\n",
       "      <td>2963.694</td>\n",
       "      <td>17</td>\n",
       "      <td>12</td>\n",
       "      <td>50977.11</td>\n",
       "      <td>1052100</td>\n",
       "      <td>Imported Brandies</td>\n",
       "      <td>Brandies</td>\n",
       "    </tr>\n",
       "    <tr>\n",
       "      <th>1919</th>\n",
       "      <td>6051</td>\n",
       "      <td>Glenmorangie Grand Vintage 1997 Limited Edition</td>\n",
       "      <td>750</td>\n",
       "      <td>637.410</td>\n",
       "      <td>8</td>\n",
       "      <td>4</td>\n",
       "      <td>5099.28</td>\n",
       "      <td>1701100</td>\n",
       "      <td>Temporary &amp; Specialty Packages</td>\n",
       "      <td>Temporary &amp; Specialty Packages</td>\n",
       "    </tr>\n",
       "    <tr>\n",
       "      <th>2914</th>\n",
       "      <td>901559</td>\n",
       "      <td>HA Blood Oath Trilogy II 3 Pack</td>\n",
       "      <td>2250</td>\n",
       "      <td>600.000</td>\n",
       "      <td>35</td>\n",
       "      <td>35</td>\n",
       "      <td>21000.00</td>\n",
       "      <td>1011200</td>\n",
       "      <td>Straight Bourbon Whiskies</td>\n",
       "      <td>Bourbon</td>\n",
       "    </tr>\n",
       "    <tr>\n",
       "      <th>3183</th>\n",
       "      <td>905953</td>\n",
       "      <td>Glenmorangie Grand Vintage 1996</td>\n",
       "      <td>750</td>\n",
       "      <td>618.740</td>\n",
       "      <td>2</td>\n",
       "      <td>2</td>\n",
       "      <td>1237.48</td>\n",
       "      <td>1012300</td>\n",
       "      <td>Single Malt Scotch</td>\n",
       "      <td>Scotch</td>\n",
       "    </tr>\n",
       "    <tr>\n",
       "      <th>3194</th>\n",
       "      <td>906532</td>\n",
       "      <td>Glengoyne 30 YO</td>\n",
       "      <td>750</td>\n",
       "      <td>1012.500</td>\n",
       "      <td>1</td>\n",
       "      <td>1</td>\n",
       "      <td>1012.50</td>\n",
       "      <td>1012200</td>\n",
       "      <td>Scotch Whiskies</td>\n",
       "      <td>Scotch</td>\n",
       "    </tr>\n",
       "    <tr>\n",
       "      <th>3330</th>\n",
       "      <td>917673</td>\n",
       "      <td>HA Double Eagle Very Rare</td>\n",
       "      <td>750</td>\n",
       "      <td>1500.000</td>\n",
       "      <td>2</td>\n",
       "      <td>2</td>\n",
       "      <td>3000.00</td>\n",
       "      <td>1011200</td>\n",
       "      <td>Straight Bourbon Whiskies</td>\n",
       "      <td>Bourbon</td>\n",
       "    </tr>\n",
       "    <tr>\n",
       "      <th>3367</th>\n",
       "      <td>919976</td>\n",
       "      <td>HA OFC Bourbon 1995</td>\n",
       "      <td>750</td>\n",
       "      <td>1875.000</td>\n",
       "      <td>10</td>\n",
       "      <td>10</td>\n",
       "      <td>18750.00</td>\n",
       "      <td>1011200</td>\n",
       "      <td>Straight Bourbon Whiskies</td>\n",
       "      <td>Bourbon</td>\n",
       "    </tr>\n",
       "  </tbody>\n",
       "</table>\n",
       "</div>"
      ],
      "text/plain": [
       "     Item_Number                                 Item_Description  \\\n",
       "1338        4113                                 Hennessy Paradis   \n",
       "1636       48725                           Remy Martin Louis XIII   \n",
       "1919        6051  Glenmorangie Grand Vintage 1997 Limited Edition   \n",
       "2914      901559                  HA Blood Oath Trilogy II 3 Pack   \n",
       "3183      905953                  Glenmorangie Grand Vintage 1996   \n",
       "3194      906532                                  Glengoyne 30 YO   \n",
       "3330      917673                        HA Double Eagle Very Rare   \n",
       "3367      919976                              HA OFC Bourbon 1995   \n",
       "\n",
       "      Bottle_Volume  Bottle_Retail  Bottles_Sold  Num_Stores_Selling  \\\n",
       "1338            750        824.990            27                  15   \n",
       "1636            750       2963.694            17                  12   \n",
       "1919            750        637.410             8                   4   \n",
       "2914           2250        600.000            35                  35   \n",
       "3183            750        618.740             2                   2   \n",
       "3194            750       1012.500             1                   1   \n",
       "3330            750       1500.000             2                   2   \n",
       "3367            750       1875.000            10                  10   \n",
       "\n",
       "       revenue Category                   Category_Name  \\\n",
       "1338  22274.73  1052100               Imported Brandies   \n",
       "1636  50977.11  1052100               Imported Brandies   \n",
       "1919   5099.28  1701100  Temporary & Specialty Packages   \n",
       "2914  21000.00  1011200       Straight Bourbon Whiskies   \n",
       "3183   1237.48  1012300              Single Malt Scotch   \n",
       "3194   1012.50  1012200                 Scotch Whiskies   \n",
       "3330   3000.00  1011200       Straight Bourbon Whiskies   \n",
       "3367  18750.00  1011200       Straight Bourbon Whiskies   \n",
       "\n",
       "                   New_Category_Name  \n",
       "1338                        Brandies  \n",
       "1636                        Brandies  \n",
       "1919  Temporary & Specialty Packages  \n",
       "2914                         Bourbon  \n",
       "3183                          Scotch  \n",
       "3194                          Scotch  \n",
       "3330                         Bourbon  \n",
       "3367                         Bourbon  "
      ]
     },
     "execution_count": 39,
     "metadata": {},
     "output_type": "execute_result"
    }
   ],
   "source": [
    "products2[filt]"
   ]
  },
  {
   "cell_type": "code",
   "execution_count": 40,
   "id": "81f89fba",
   "metadata": {},
   "outputs": [],
   "source": [
    "\n",
    "products2 = products2[~filt]"
   ]
  },
  {
   "cell_type": "code",
   "execution_count": 41,
   "id": "4525df3e",
   "metadata": {},
   "outputs": [
    {
     "data": {
      "text/plain": [
       "(4308, 10)"
      ]
     },
     "execution_count": 41,
     "metadata": {},
     "output_type": "execute_result"
    }
   ],
   "source": [
    "products2.shape"
   ]
  },
  {
   "cell_type": "code",
   "execution_count": 42,
   "id": "2551ca8f",
   "metadata": {},
   "outputs": [],
   "source": [
    "filt2 = products2.Bottle_Volume > 3000 #drop outliers of Bottle Volume"
   ]
  },
  {
   "cell_type": "code",
   "execution_count": 43,
   "id": "08280dc1",
   "metadata": {},
   "outputs": [],
   "source": [
    "products2 = products2[~filt2] "
   ]
  },
  {
   "cell_type": "code",
   "execution_count": 44,
   "id": "75283c67",
   "metadata": {},
   "outputs": [
    {
     "data": {
      "text/plain": [
       "(4305, 10)"
      ]
     },
     "execution_count": 44,
     "metadata": {},
     "output_type": "execute_result"
    }
   ],
   "source": [
    "products2.shape"
   ]
  },
  {
   "cell_type": "code",
   "execution_count": 45,
   "id": "07a7dba8",
   "metadata": {},
   "outputs": [],
   "source": [
    "filt3= products2.Item_Number == '64870'  #outlier of bottles sold"
   ]
  },
  {
   "cell_type": "code",
   "execution_count": 46,
   "id": "e0eb4c27",
   "metadata": {},
   "outputs": [
    {
     "data": {
      "text/html": [
       "<div>\n",
       "<style scoped>\n",
       "    .dataframe tbody tr th:only-of-type {\n",
       "        vertical-align: middle;\n",
       "    }\n",
       "\n",
       "    .dataframe tbody tr th {\n",
       "        vertical-align: top;\n",
       "    }\n",
       "\n",
       "    .dataframe thead th {\n",
       "        text-align: right;\n",
       "    }\n",
       "</style>\n",
       "<table border=\"1\" class=\"dataframe\">\n",
       "  <thead>\n",
       "    <tr style=\"text-align: right;\">\n",
       "      <th></th>\n",
       "      <th>Item_Number</th>\n",
       "      <th>Item_Description</th>\n",
       "      <th>Bottle_Volume</th>\n",
       "      <th>Bottle_Retail</th>\n",
       "      <th>Bottles_Sold</th>\n",
       "      <th>Num_Stores_Selling</th>\n",
       "      <th>revenue</th>\n",
       "      <th>Category</th>\n",
       "      <th>Category_Name</th>\n",
       "      <th>New_Category_Name</th>\n",
       "    </tr>\n",
       "  </thead>\n",
       "  <tbody>\n",
       "    <tr>\n",
       "      <th>2035</th>\n",
       "      <td>64870</td>\n",
       "      <td>Fireball Cinnamon Whiskey</td>\n",
       "      <td>100</td>\n",
       "      <td>1.35</td>\n",
       "      <td>2105088</td>\n",
       "      <td>893</td>\n",
       "      <td>2841868.8</td>\n",
       "      <td>1081600</td>\n",
       "      <td>Whiskey Liqueur</td>\n",
       "      <td>Whiskey Liqueur</td>\n",
       "    </tr>\n",
       "  </tbody>\n",
       "</table>\n",
       "</div>"
      ],
      "text/plain": [
       "     Item_Number           Item_Description  Bottle_Volume  Bottle_Retail  \\\n",
       "2035       64870  Fireball Cinnamon Whiskey            100           1.35   \n",
       "\n",
       "      Bottles_Sold  Num_Stores_Selling    revenue Category    Category_Name  \\\n",
       "2035       2105088                 893  2841868.8  1081600  Whiskey Liqueur   \n",
       "\n",
       "     New_Category_Name  \n",
       "2035   Whiskey Liqueur  "
      ]
     },
     "execution_count": 46,
     "metadata": {},
     "output_type": "execute_result"
    }
   ],
   "source": [
    "products2[filt3]"
   ]
  },
  {
   "cell_type": "code",
   "execution_count": 47,
   "id": "3687ceb2",
   "metadata": {},
   "outputs": [],
   "source": [
    "# products2[filt3]\n",
    "\n",
    "\n",
    "products2 = products2[~filt3]"
   ]
  },
  {
   "cell_type": "markdown",
   "id": "31fafb65",
   "metadata": {},
   "source": [
    "## write out products2"
   ]
  },
  {
   "cell_type": "code",
   "execution_count": 48,
   "id": "33ffe25d",
   "metadata": {},
   "outputs": [],
   "source": [
    "products2.to_csv(r'C:\\Users\\dgarb\\OneDrive\\Desktop\\Capstone Data\\liquor_2021\\products2_outliers_removed.csv')"
   ]
  },
  {
   "cell_type": "markdown",
   "id": "287691d5",
   "metadata": {},
   "source": [
    "## scale data for clustering"
   ]
  },
  {
   "cell_type": "code",
   "execution_count": 49,
   "id": "e11d95e1",
   "metadata": {},
   "outputs": [
    {
     "data": {
      "text/plain": [
       "(4304, 10)"
      ]
     },
     "execution_count": 49,
     "metadata": {},
     "output_type": "execute_result"
    }
   ],
   "source": [
    "products2.shape"
   ]
  },
  {
   "cell_type": "code",
   "execution_count": 50,
   "id": "7fa627b6",
   "metadata": {},
   "outputs": [],
   "source": [
    "# cols_to_scale = ['Bottle_Volume', 'Bottle_Retail', 'Bottles_Sold']"
   ]
  },
  {
   "cell_type": "code",
   "execution_count": 51,
   "id": "d8f6ee4a",
   "metadata": {},
   "outputs": [],
   "source": [
    "scaler = StandardScaler()"
   ]
  },
  {
   "cell_type": "code",
   "execution_count": 52,
   "id": "29874bc8",
   "metadata": {},
   "outputs": [
    {
     "data": {
      "text/html": [
       "<div>\n",
       "<style scoped>\n",
       "    .dataframe tbody tr th:only-of-type {\n",
       "        vertical-align: middle;\n",
       "    }\n",
       "\n",
       "    .dataframe tbody tr th {\n",
       "        vertical-align: top;\n",
       "    }\n",
       "\n",
       "    .dataframe thead th {\n",
       "        text-align: right;\n",
       "    }\n",
       "</style>\n",
       "<table border=\"1\" class=\"dataframe\">\n",
       "  <thead>\n",
       "    <tr style=\"text-align: right;\">\n",
       "      <th></th>\n",
       "      <th>Bottle_Volume_scaled</th>\n",
       "      <th>Bottle_Retail_scaled</th>\n",
       "      <th>Bottles_Sold_scaled</th>\n",
       "    </tr>\n",
       "  </thead>\n",
       "  <tbody>\n",
       "    <tr>\n",
       "      <th>count</th>\n",
       "      <td>4.304000e+03</td>\n",
       "      <td>4.304000e+03</td>\n",
       "      <td>4.304000e+03</td>\n",
       "    </tr>\n",
       "    <tr>\n",
       "      <th>mean</th>\n",
       "      <td>2.005779e-15</td>\n",
       "      <td>2.815766e-16</td>\n",
       "      <td>-6.461297e-16</td>\n",
       "    </tr>\n",
       "    <tr>\n",
       "      <th>std</th>\n",
       "      <td>1.000116e+00</td>\n",
       "      <td>1.000116e+00</td>\n",
       "      <td>1.000116e+00</td>\n",
       "    </tr>\n",
       "    <tr>\n",
       "      <th>min</th>\n",
       "      <td>-2.098764e+00</td>\n",
       "      <td>-8.563283e-01</td>\n",
       "      <td>-2.663149e-01</td>\n",
       "    </tr>\n",
       "    <tr>\n",
       "      <th>25%</th>\n",
       "      <td>-1.767973e-01</td>\n",
       "      <td>-5.338854e-01</td>\n",
       "      <td>-2.641354e-01</td>\n",
       "    </tr>\n",
       "    <tr>\n",
       "      <th>50%</th>\n",
       "      <td>-1.767973e-01</td>\n",
       "      <td>-2.611585e-01</td>\n",
       "      <td>-2.431472e-01</td>\n",
       "    </tr>\n",
       "    <tr>\n",
       "      <th>75%</th>\n",
       "      <td>-1.767973e-01</td>\n",
       "      <td>1.715524e-01</td>\n",
       "      <td>-1.158258e-01</td>\n",
       "    </tr>\n",
       "    <tr>\n",
       "      <th>max</th>\n",
       "      <td>4.167375e+00</td>\n",
       "      <td>1.448432e+01</td>\n",
       "      <td>2.246784e+01</td>\n",
       "    </tr>\n",
       "  </tbody>\n",
       "</table>\n",
       "</div>"
      ],
      "text/plain": [
       "       Bottle_Volume_scaled  Bottle_Retail_scaled  Bottles_Sold_scaled\n",
       "count          4.304000e+03          4.304000e+03         4.304000e+03\n",
       "mean           2.005779e-15          2.815766e-16        -6.461297e-16\n",
       "std            1.000116e+00          1.000116e+00         1.000116e+00\n",
       "min           -2.098764e+00         -8.563283e-01        -2.663149e-01\n",
       "25%           -1.767973e-01         -5.338854e-01        -2.641354e-01\n",
       "50%           -1.767973e-01         -2.611585e-01        -2.431472e-01\n",
       "75%           -1.767973e-01          1.715524e-01        -1.158258e-01\n",
       "max            4.167375e+00          1.448432e+01         2.246784e+01"
      ]
     },
     "execution_count": 52,
     "metadata": {},
     "output_type": "execute_result"
    }
   ],
   "source": [
    "\n",
    "\n",
    "products2[['Bottle_Volume_scaled', 'Bottle_Retail_scaled', 'Bottles_Sold_scaled' ]] = scaler.fit_transform\\\n",
    "                                           (products2[['Bottle_Volume', 'Bottle_Retail', 'Bottles_Sold']])\n",
    "                                                   \n",
    "\n",
    "products2[['Bottle_Volume_scaled', 'Bottle_Retail_scaled', 'Bottles_Sold_scaled']].describe()"
   ]
  },
  {
   "cell_type": "code",
   "execution_count": null,
   "id": "95ba61c0",
   "metadata": {},
   "outputs": [],
   "source": []
  },
  {
   "cell_type": "code",
   "execution_count": 53,
   "id": "83f680d9",
   "metadata": {},
   "outputs": [],
   "source": [
    "# model = KMeans(n_clusters=3, random_state=42)\n",
    "\n",
    "cluster_cols = ['Bottle_Volume_scaled', 'Bottle_Retail_scaled', 'Bottles_Sold_scaled' ]\n"
   ]
  },
  {
   "cell_type": "markdown",
   "id": "d7cc6c10",
   "metadata": {},
   "source": [
    "determine optimal number of clusters"
   ]
  },
  {
   "cell_type": "code",
   "execution_count": 54,
   "id": "6ebcee05",
   "metadata": {},
   "outputs": [
    {
     "name": "stdout",
     "output_type": "stream",
     "text": [
      "number of clusters =  2   silhouette score =  0.8305290647057751\n",
      "number of clusters =  3   silhouette score =  0.6556281494992297\n",
      "number of clusters =  4   silhouette score =  0.618823990940676\n",
      "number of clusters =  5   silhouette score =  0.6115702259478357\n",
      "number of clusters =  6   silhouette score =  0.5812453542857744\n",
      "number of clusters =  7   silhouette score =  0.5838381871128744\n",
      "number of clusters =  8   silhouette score =  0.5658575545329779\n",
      "number of clusters =  9   silhouette score =  0.5568634216999832\n",
      "number of clusters =  10   silhouette score =  0.5525960618976855\n"
     ]
    }
   ],
   "source": [
    "from sklearn.metrics import silhouette_score\n",
    "\n",
    "cluster_cols = [ 'Bottle_Retail_scaled' ]\n",
    "\n",
    "df_scaled = products2[cluster_cols]\n",
    "\n",
    "\n",
    "for clust in range(2,11):\n",
    "    model = KMeans(n_clusters=clust, random_state=42).fit(df_scaled)\n",
    "    \n",
    "\n",
    "    \n",
    "    silhouette_avg = silhouette_score(df_scaled,model.labels_)\n",
    "    print('number of clusters = ',clust,' ','silhouette score = ',silhouette_avg)"
   ]
  },
  {
   "cell_type": "code",
   "execution_count": 55,
   "id": "5a44b257",
   "metadata": {},
   "outputs": [],
   "source": [
    "inertia_scores = []\n",
    "\n",
    "for clust in range(2,11):\n",
    "    inertia = KMeans(n_clusters=clust, random_state=42)\\\n",
    "              .fit(df_scaled).inertia_\n",
    "    inertia_scores.append(inertia)"
   ]
  },
  {
   "cell_type": "code",
   "execution_count": 56,
   "id": "ac0a81d4",
   "metadata": {},
   "outputs": [
    {
     "data": {
      "image/png": "[encoded data removed]",
      "text/plain": [
       "<Figure size 1080x576 with 1 Axes>"
      ]
     },
     "metadata": {},
     "output_type": "display_data"
    }
   ],
   "source": [
    "\n",
    "plt.plot(range(2,11), inertia_scores)\n",
    "plt.title(\"Inertia vs. number of clusters\")\n",
    "plt.xlabel(\"Number of clusters: K\")\n",
    "plt.ylabel('Inertia')\n",
    "plt.show()"
   ]
  },
  {
   "cell_type": "code",
   "execution_count": 57,
   "id": "18d0c967",
   "metadata": {},
   "outputs": [
    {
     "ename": "NameError",
     "evalue": "name 'stop' is not defined",
     "output_type": "error",
     "traceback": [
      "\u001b[1;31m---------------------------------------------------------------------------\u001b[0m",
      "\u001b[1;31mNameError\u001b[0m                                 Traceback (most recent call last)",
      "\u001b[1;32m~\\AppData\\Local\\Temp/ipykernel_10756/3957423419.py\u001b[0m in \u001b[0;36m<module>\u001b[1;34m\u001b[0m\n\u001b[1;32m----> 1\u001b[1;33m \u001b[0mstop\u001b[0m\u001b[1;33m\u001b[0m\u001b[1;33m\u001b[0m\u001b[0m\n\u001b[0m",
      "\u001b[1;31mNameError\u001b[0m: name 'stop' is not defined"
     ]
    }
   ],
   "source": [
    "stop"
   ]
  },
  {
   "cell_type": "markdown",
   "id": "e27ce8dc",
   "metadata": {},
   "source": [
    "get four clusters"
   ]
  },
  {
   "cell_type": "code",
   "execution_count": 62,
   "id": "a9a21d4a",
   "metadata": {},
   "outputs": [],
   "source": [
    "\n",
    "\n",
    "cluster_cols = [ 'Bottle_Retail_scaled' ]\n",
    "\n",
    "\n",
    "model = KMeans(n_clusters=3, random_state=42)\n",
    "\n",
    "model.fit(products2[cluster_cols])\n",
    "\n",
    "products2['product_cluster'] = model.predict(products2[cluster_cols])"
   ]
  },
  {
   "cell_type": "code",
   "execution_count": 63,
   "id": "482daa89",
   "metadata": {},
   "outputs": [
    {
     "data": {
      "text/html": [
       "<div>\n",
       "<style scoped>\n",
       "    .dataframe tbody tr th:only-of-type {\n",
       "        vertical-align: middle;\n",
       "    }\n",
       "\n",
       "    .dataframe tbody tr th {\n",
       "        vertical-align: top;\n",
       "    }\n",
       "\n",
       "    .dataframe thead th {\n",
       "        text-align: right;\n",
       "    }\n",
       "</style>\n",
       "<table border=\"1\" class=\"dataframe\">\n",
       "  <thead>\n",
       "    <tr style=\"text-align: right;\">\n",
       "      <th></th>\n",
       "      <th>Item_Number</th>\n",
       "      <th>Item_Description</th>\n",
       "      <th>Bottle_Volume</th>\n",
       "      <th>Bottle_Retail</th>\n",
       "      <th>Bottles_Sold</th>\n",
       "      <th>Num_Stores_Selling</th>\n",
       "      <th>revenue</th>\n",
       "      <th>Category</th>\n",
       "      <th>Category_Name</th>\n",
       "      <th>New_Category_Name</th>\n",
       "      <th>Bottle_Volume_scaled</th>\n",
       "      <th>Bottle_Retail_scaled</th>\n",
       "      <th>Bottles_Sold_scaled</th>\n",
       "      <th>product_cluster</th>\n",
       "    </tr>\n",
       "  </thead>\n",
       "  <tbody>\n",
       "    <tr>\n",
       "      <th>1</th>\n",
       "      <td>10006</td>\n",
       "      <td>Scoresby Rare Scotch</td>\n",
       "      <td>750</td>\n",
       "      <td>7.70</td>\n",
       "      <td>4619</td>\n",
       "      <td>197</td>\n",
       "      <td>35566.30</td>\n",
       "      <td>1012200</td>\n",
       "      <td>Scotch Whiskies</td>\n",
       "      <td>Scotch</td>\n",
       "      <td>-0.176797</td>\n",
       "      <td>-0.648276</td>\n",
       "      <td>-0.079924</td>\n",
       "      <td>0</td>\n",
       "    </tr>\n",
       "    <tr>\n",
       "      <th>2</th>\n",
       "      <td>100077</td>\n",
       "      <td>Kraken Rum w/ Tiki Glass</td>\n",
       "      <td>750</td>\n",
       "      <td>15.68</td>\n",
       "      <td>2679</td>\n",
       "      <td>136</td>\n",
       "      <td>42006.72</td>\n",
       "      <td>1701100</td>\n",
       "      <td>Temporary &amp; Specialty Packages</td>\n",
       "      <td>Temporary &amp; Specialty Packages</td>\n",
       "      <td>-0.176797</td>\n",
       "      <td>-0.400847</td>\n",
       "      <td>-0.158226</td>\n",
       "      <td>0</td>\n",
       "    </tr>\n",
       "    <tr>\n",
       "      <th>3</th>\n",
       "      <td>10008</td>\n",
       "      <td>Scoresby Rare Scotch</td>\n",
       "      <td>1750</td>\n",
       "      <td>15.75</td>\n",
       "      <td>12340</td>\n",
       "      <td>287</td>\n",
       "      <td>194355.00</td>\n",
       "      <td>1012200</td>\n",
       "      <td>Scotch Whiskies</td>\n",
       "      <td>Scotch</td>\n",
       "      <td>2.456034</td>\n",
       "      <td>-0.398676</td>\n",
       "      <td>0.231710</td>\n",
       "      <td>0</td>\n",
       "    </tr>\n",
       "    <tr>\n",
       "      <th>4</th>\n",
       "      <td>10009</td>\n",
       "      <td>Scoresby Rare Scotch</td>\n",
       "      <td>1000</td>\n",
       "      <td>10.11</td>\n",
       "      <td>1722</td>\n",
       "      <td>70</td>\n",
       "      <td>17409.42</td>\n",
       "      <td>1012200</td>\n",
       "      <td>Scotch Whiskies</td>\n",
       "      <td>Scotch</td>\n",
       "      <td>0.481411</td>\n",
       "      <td>-0.573551</td>\n",
       "      <td>-0.196852</td>\n",
       "      <td>0</td>\n",
       "    </tr>\n",
       "    <tr>\n",
       "      <th>5</th>\n",
       "      <td>100148</td>\n",
       "      <td>Jack Daniels Single Barrel w/Snifter Glass</td>\n",
       "      <td>750</td>\n",
       "      <td>41.39</td>\n",
       "      <td>606</td>\n",
       "      <td>120</td>\n",
       "      <td>25082.34</td>\n",
       "      <td>1701100</td>\n",
       "      <td>Temporary &amp; Specialty Packages</td>\n",
       "      <td>Temporary &amp; Specialty Packages</td>\n",
       "      <td>-0.176797</td>\n",
       "      <td>0.396324</td>\n",
       "      <td>-0.241896</td>\n",
       "      <td>1</td>\n",
       "    </tr>\n",
       "  </tbody>\n",
       "</table>\n",
       "</div>"
      ],
      "text/plain": [
       "  Item_Number                            Item_Description  Bottle_Volume  \\\n",
       "1       10006                        Scoresby Rare Scotch            750   \n",
       "2      100077                    Kraken Rum w/ Tiki Glass            750   \n",
       "3       10008                        Scoresby Rare Scotch           1750   \n",
       "4       10009                        Scoresby Rare Scotch           1000   \n",
       "5      100148  Jack Daniels Single Barrel w/Snifter Glass            750   \n",
       "\n",
       "   Bottle_Retail  Bottles_Sold  Num_Stores_Selling    revenue Category  \\\n",
       "1           7.70          4619                 197   35566.30  1012200   \n",
       "2          15.68          2679                 136   42006.72  1701100   \n",
       "3          15.75         12340                 287  194355.00  1012200   \n",
       "4          10.11          1722                  70   17409.42  1012200   \n",
       "5          41.39           606                 120   25082.34  1701100   \n",
       "\n",
       "                    Category_Name               New_Category_Name  \\\n",
       "1                 Scotch Whiskies                          Scotch   \n",
       "2  Temporary & Specialty Packages  Temporary & Specialty Packages   \n",
       "3                 Scotch Whiskies                          Scotch   \n",
       "4                 Scotch Whiskies                          Scotch   \n",
       "5  Temporary & Specialty Packages  Temporary & Specialty Packages   \n",
       "\n",
       "   Bottle_Volume_scaled  Bottle_Retail_scaled  Bottles_Sold_scaled  \\\n",
       "1             -0.176797             -0.648276            -0.079924   \n",
       "2             -0.176797             -0.400847            -0.158226   \n",
       "3              2.456034             -0.398676             0.231710   \n",
       "4              0.481411             -0.573551            -0.196852   \n",
       "5             -0.176797              0.396324            -0.241896   \n",
       "\n",
       "   product_cluster  \n",
       "1                0  \n",
       "2                0  \n",
       "3                0  \n",
       "4                0  \n",
       "5                1  "
      ]
     },
     "execution_count": 63,
     "metadata": {},
     "output_type": "execute_result"
    }
   ],
   "source": [
    "products2.head()"
   ]
  },
  {
   "cell_type": "code",
   "execution_count": 60,
   "id": "bf67af93",
   "metadata": {},
   "outputs": [
    {
     "name": "stdout",
     "output_type": "stream",
     "text": [
      "<class 'pandas.core.frame.DataFrame'>\n",
      "Int64Index: 4304 entries, 1 to 4474\n",
      "Data columns (total 14 columns):\n",
      " #   Column                Non-Null Count  Dtype  \n",
      "---  ------                --------------  -----  \n",
      " 0   Item_Number           4304 non-null   object \n",
      " 1   Item_Description      4304 non-null   object \n",
      " 2   Bottle_Volume         4304 non-null   int64  \n",
      " 3   Bottle_Retail         4304 non-null   float64\n",
      " 4   Bottles_Sold          4304 non-null   int32  \n",
      " 5   Num_Stores_Selling    4304 non-null   int32  \n",
      " 6   revenue               4304 non-null   float64\n",
      " 7   Category              4304 non-null   object \n",
      " 8   Category_Name         4304 non-null   object \n",
      " 9   New_Category_Name     4304 non-null   object \n",
      " 10  Bottle_Volume_scaled  4304 non-null   float64\n",
      " 11  Bottle_Retail_scaled  4304 non-null   float64\n",
      " 12  Bottles_Sold_scaled   4304 non-null   float64\n",
      " 13  product_cluster       4304 non-null   int32  \n",
      "dtypes: float64(5), int32(3), int64(1), object(5)\n",
      "memory usage: 453.9+ KB\n"
     ]
    }
   ],
   "source": [
    "products2.info()"
   ]
  },
  {
   "cell_type": "code",
   "execution_count": 64,
   "id": "3f92eb52",
   "metadata": {},
   "outputs": [
    {
     "data": {
      "text/html": [
       "<div>\n",
       "<style scoped>\n",
       "    .dataframe tbody tr th:only-of-type {\n",
       "        vertical-align: middle;\n",
       "    }\n",
       "\n",
       "    .dataframe tbody tr th {\n",
       "        vertical-align: top;\n",
       "    }\n",
       "\n",
       "    .dataframe thead th {\n",
       "        text-align: right;\n",
       "    }\n",
       "</style>\n",
       "<table border=\"1\" class=\"dataframe\">\n",
       "  <thead>\n",
       "    <tr style=\"text-align: right;\">\n",
       "      <th></th>\n",
       "      <th>Item_Number</th>\n",
       "      <th>revenue</th>\n",
       "      <th>Bottle_Volume</th>\n",
       "      <th>Bottle_Retail</th>\n",
       "      <th>Bottles_Sold</th>\n",
       "    </tr>\n",
       "    <tr>\n",
       "      <th>product_cluster</th>\n",
       "      <th></th>\n",
       "      <th></th>\n",
       "      <th></th>\n",
       "      <th></th>\n",
       "      <th></th>\n",
       "    </tr>\n",
       "  </thead>\n",
       "  <tbody>\n",
       "    <tr>\n",
       "      <th>0</th>\n",
       "      <td>3304</td>\n",
       "      <td>3.629301e+08</td>\n",
       "      <td>814.720206</td>\n",
       "      <td>16.981832</td>\n",
       "      <td>8283.280097</td>\n",
       "    </tr>\n",
       "    <tr>\n",
       "      <th>1</th>\n",
       "      <td>915</td>\n",
       "      <td>4.649078e+07</td>\n",
       "      <td>833.409389</td>\n",
       "      <td>55.405826</td>\n",
       "      <td>1100.814410</td>\n",
       "    </tr>\n",
       "    <tr>\n",
       "      <th>2</th>\n",
       "      <td>82</td>\n",
       "      <td>1.757619e+06</td>\n",
       "      <td>733.536585</td>\n",
       "      <td>197.986551</td>\n",
       "      <td>122.390244</td>\n",
       "    </tr>\n",
       "  </tbody>\n",
       "</table>\n",
       "</div>"
      ],
      "text/plain": [
       "                 Item_Number       revenue  Bottle_Volume  Bottle_Retail  \\\n",
       "product_cluster                                                            \n",
       "0                       3304  3.629301e+08     814.720206      16.981832   \n",
       "1                        915  4.649078e+07     833.409389      55.405826   \n",
       "2                         82  1.757619e+06     733.536585     197.986551   \n",
       "\n",
       "                 Bottles_Sold  \n",
       "product_cluster                \n",
       "0                 8283.280097  \n",
       "1                 1100.814410  \n",
       "2                  122.390244  "
      ]
     },
     "execution_count": 64,
     "metadata": {},
     "output_type": "execute_result"
    }
   ],
   "source": [
    "products2.groupby(['product_cluster']).agg({'Item_Number':'nunique','revenue':'sum','Bottle_Volume' : 'mean', 'Bottle_Retail':'mean','Bottles_Sold':'mean' })"
   ]
  },
  {
   "cell_type": "code",
   "execution_count": null,
   "id": "60d6078f",
   "metadata": {},
   "outputs": [],
   "source": [
    "products2['Bottle_Volume_liters'] = products2.Bottle_Volume / 1000"
   ]
  },
  {
   "cell_type": "markdown",
   "id": "aa316983",
   "metadata": {},
   "source": [
    "# Name Clusters"
   ]
  },
  {
   "cell_type": "code",
   "execution_count": null,
   "id": "72debe7f",
   "metadata": {},
   "outputs": [],
   "source": [
    "prod_dict = {0:'Volume_For_Dollar', 1:'Everything_Else', 2:'Popular_Bottles',3:'High_End'}\n"
   ]
  },
  {
   "cell_type": "code",
   "execution_count": null,
   "id": "4fe6245e",
   "metadata": {},
   "outputs": [],
   "source": [
    "products2[['product_cluster']].apply(lambda p: prod_dict[p[0]],axis=1)"
   ]
  },
  {
   "cell_type": "markdown",
   "id": "c598b27f",
   "metadata": {},
   "source": [
    "Name Product Clusters"
   ]
  },
  {
   "cell_type": "code",
   "execution_count": null,
   "id": "4bd54f6c",
   "metadata": {},
   "outputs": [],
   "source": [
    "products2['cluster_name'] = products2['product_cluster'].apply(lambda p: prod_dict[p])"
   ]
  },
  {
   "cell_type": "code",
   "execution_count": null,
   "id": "8109e35a",
   "metadata": {},
   "outputs": [],
   "source": [
    "products2.cluster_name"
   ]
  },
  {
   "cell_type": "code",
   "execution_count": null,
   "id": "e77297e2",
   "metadata": {},
   "outputs": [],
   "source": [
    "products2.info()"
   ]
  },
  {
   "cell_type": "code",
   "execution_count": 72,
   "id": "92ed88f8",
   "metadata": {},
   "outputs": [],
   "source": [
    "products2['price_per_ml'] =products2.Bottle_Retail/products2.Bottle_Volume"
   ]
  },
  {
   "cell_type": "code",
   "execution_count": 66,
   "id": "ff205b0f",
   "metadata": {},
   "outputs": [
    {
     "data": {
      "text/html": [
       "<div>\n",
       "<style scoped>\n",
       "    .dataframe tbody tr th:only-of-type {\n",
       "        vertical-align: middle;\n",
       "    }\n",
       "\n",
       "    .dataframe tbody tr th {\n",
       "        vertical-align: top;\n",
       "    }\n",
       "\n",
       "    .dataframe thead th {\n",
       "        text-align: right;\n",
       "    }\n",
       "</style>\n",
       "<table border=\"1\" class=\"dataframe\">\n",
       "  <thead>\n",
       "    <tr style=\"text-align: right;\">\n",
       "      <th></th>\n",
       "      <th>Item_Number</th>\n",
       "      <th>revenue</th>\n",
       "      <th>Bottle_Volume</th>\n",
       "      <th>Bottle_Retail</th>\n",
       "      <th>Bottles_Sold</th>\n",
       "    </tr>\n",
       "    <tr>\n",
       "      <th>product_cluster</th>\n",
       "      <th></th>\n",
       "      <th></th>\n",
       "      <th></th>\n",
       "      <th></th>\n",
       "      <th></th>\n",
       "    </tr>\n",
       "  </thead>\n",
       "  <tbody>\n",
       "    <tr>\n",
       "      <th>0</th>\n",
       "      <td>3304</td>\n",
       "      <td>3.629301e+08</td>\n",
       "      <td>814.720206</td>\n",
       "      <td>16.981832</td>\n",
       "      <td>8283.280097</td>\n",
       "    </tr>\n",
       "    <tr>\n",
       "      <th>1</th>\n",
       "      <td>915</td>\n",
       "      <td>4.649078e+07</td>\n",
       "      <td>833.409389</td>\n",
       "      <td>55.405826</td>\n",
       "      <td>1100.814410</td>\n",
       "    </tr>\n",
       "    <tr>\n",
       "      <th>2</th>\n",
       "      <td>82</td>\n",
       "      <td>1.757619e+06</td>\n",
       "      <td>733.536585</td>\n",
       "      <td>197.986551</td>\n",
       "      <td>122.390244</td>\n",
       "    </tr>\n",
       "  </tbody>\n",
       "</table>\n",
       "</div>"
      ],
      "text/plain": [
       "                 Item_Number       revenue  Bottle_Volume  Bottle_Retail  \\\n",
       "product_cluster                                                            \n",
       "0                       3304  3.629301e+08     814.720206      16.981832   \n",
       "1                        915  4.649078e+07     833.409389      55.405826   \n",
       "2                         82  1.757619e+06     733.536585     197.986551   \n",
       "\n",
       "                 Bottles_Sold  \n",
       "product_cluster                \n",
       "0                 8283.280097  \n",
       "1                 1100.814410  \n",
       "2                  122.390244  "
      ]
     },
     "execution_count": 66,
     "metadata": {},
     "output_type": "execute_result"
    }
   ],
   "source": [
    "pd.set_option('display.max_columns', None)\n",
    "products2.groupby(['product_cluster']).agg({'Item_Number':'nunique','revenue':'sum','Bottle_Volume' : 'mean', 'Bottle_Retail':'mean','Bottles_Sold':'mean' })"
   ]
  },
  {
   "cell_type": "code",
   "execution_count": 73,
   "id": "691cda8a",
   "metadata": {},
   "outputs": [
    {
     "data": {
      "text/html": [
       "<div>\n",
       "<style scoped>\n",
       "    .dataframe tbody tr th:only-of-type {\n",
       "        vertical-align: middle;\n",
       "    }\n",
       "\n",
       "    .dataframe tbody tr th {\n",
       "        vertical-align: top;\n",
       "    }\n",
       "\n",
       "    .dataframe thead tr th {\n",
       "        text-align: left;\n",
       "    }\n",
       "\n",
       "    .dataframe thead tr:last-of-type th {\n",
       "        text-align: right;\n",
       "    }\n",
       "</style>\n",
       "<table border=\"1\" class=\"dataframe\">\n",
       "  <thead>\n",
       "    <tr>\n",
       "      <th></th>\n",
       "      <th colspan=\"3\" halign=\"left\">Bottle_Volume</th>\n",
       "      <th colspan=\"3\" halign=\"left\">Bottle_Retail</th>\n",
       "      <th colspan=\"5\" halign=\"left\">price_per_ml</th>\n",
       "      <th colspan=\"3\" halign=\"left\">Bottles_Sold</th>\n",
       "    </tr>\n",
       "    <tr>\n",
       "      <th></th>\n",
       "      <th>min</th>\n",
       "      <th>max</th>\n",
       "      <th>mean</th>\n",
       "      <th>min</th>\n",
       "      <th>max</th>\n",
       "      <th>mean</th>\n",
       "      <th>min</th>\n",
       "      <th>max</th>\n",
       "      <th>std</th>\n",
       "      <th>median</th>\n",
       "      <th>mean</th>\n",
       "      <th>min</th>\n",
       "      <th>max</th>\n",
       "      <th>mean</th>\n",
       "    </tr>\n",
       "    <tr>\n",
       "      <th>product_cluster</th>\n",
       "      <th></th>\n",
       "      <th></th>\n",
       "      <th></th>\n",
       "      <th></th>\n",
       "      <th></th>\n",
       "      <th></th>\n",
       "      <th></th>\n",
       "      <th></th>\n",
       "      <th></th>\n",
       "      <th></th>\n",
       "      <th></th>\n",
       "      <th></th>\n",
       "      <th></th>\n",
       "      <th></th>\n",
       "    </tr>\n",
       "  </thead>\n",
       "  <tbody>\n",
       "    <tr>\n",
       "      <th>0</th>\n",
       "      <td>20</td>\n",
       "      <td>1800</td>\n",
       "      <td>814.720206</td>\n",
       "      <td>0.9900</td>\n",
       "      <td>36.171141</td>\n",
       "      <td>16.981832</td>\n",
       "      <td>0.003200</td>\n",
       "      <td>0.71250</td>\n",
       "      <td>0.033824</td>\n",
       "      <td>0.021368</td>\n",
       "      <td>0.029342</td>\n",
       "      <td>1</td>\n",
       "      <td>563260</td>\n",
       "      <td>8283.280097</td>\n",
       "    </tr>\n",
       "    <tr>\n",
       "      <th>1</th>\n",
       "      <td>200</td>\n",
       "      <td>2400</td>\n",
       "      <td>833.409389</td>\n",
       "      <td>36.2600</td>\n",
       "      <td>124.500000</td>\n",
       "      <td>55.405826</td>\n",
       "      <td>0.021000</td>\n",
       "      <td>0.52425</td>\n",
       "      <td>0.031538</td>\n",
       "      <td>0.063453</td>\n",
       "      <td>0.071118</td>\n",
       "      <td>1</td>\n",
       "      <td>144787</td>\n",
       "      <td>1100.814410</td>\n",
       "    </tr>\n",
       "    <tr>\n",
       "      <th>2</th>\n",
       "      <td>100</td>\n",
       "      <td>1750</td>\n",
       "      <td>733.536585</td>\n",
       "      <td>126.8225</td>\n",
       "      <td>495.750000</td>\n",
       "      <td>197.986551</td>\n",
       "      <td>0.128566</td>\n",
       "      <td>1.50000</td>\n",
       "      <td>0.186571</td>\n",
       "      <td>0.242580</td>\n",
       "      <td>0.299459</td>\n",
       "      <td>1</td>\n",
       "      <td>2319</td>\n",
       "      <td>122.390244</td>\n",
       "    </tr>\n",
       "  </tbody>\n",
       "</table>\n",
       "</div>"
      ],
      "text/plain": [
       "                Bottle_Volume                   Bottle_Retail              \\\n",
       "                          min   max        mean           min         max   \n",
       "product_cluster                                                             \n",
       "0                          20  1800  814.720206        0.9900   36.171141   \n",
       "1                         200  2400  833.409389       36.2600  124.500000   \n",
       "2                         100  1750  733.536585      126.8225  495.750000   \n",
       "\n",
       "                            price_per_ml                               \\\n",
       "                       mean          min      max       std    median   \n",
       "product_cluster                                                         \n",
       "0                 16.981832     0.003200  0.71250  0.033824  0.021368   \n",
       "1                 55.405826     0.021000  0.52425  0.031538  0.063453   \n",
       "2                197.986551     0.128566  1.50000  0.186571  0.242580   \n",
       "\n",
       "                          Bottles_Sold                       \n",
       "                     mean          min     max         mean  \n",
       "product_cluster                                              \n",
       "0                0.029342            1  563260  8283.280097  \n",
       "1                0.071118            1  144787  1100.814410  \n",
       "2                0.299459            1    2319   122.390244  "
      ]
     },
     "execution_count": 73,
     "metadata": {},
     "output_type": "execute_result"
    }
   ],
   "source": [
    "pd.set_option('display.max_columns', None)\n",
    "products2.groupby(['product_cluster']).agg({'Bottle_Volume' :['min','max', 'mean'], 'Bottle_Retail':['min','max', 'mean'],'price_per_ml':['min','max','std', 'median', 'mean'],'Bottles_Sold':['min','max', 'mean'] })"
   ]
  },
  {
   "cell_type": "code",
   "execution_count": null,
   "id": "8dd145f9",
   "metadata": {},
   "outputs": [],
   "source": [
    "# stop"
   ]
  },
  {
   "cell_type": "code",
   "execution_count": null,
   "id": "a16d95f8",
   "metadata": {},
   "outputs": [],
   "source": [
    "products2.groupby(['product_cluster']).agg({'Item_Number':'nunique','revenue':'sum','Bottle_Volume' :['min','max','std', 'median', 'mean'], 'Bottle_Retail':['min','max','std', 'median', 'mean'],'Bottles_Sold':['min','max','std', 'median', 'mean'] })"
   ]
  },
  {
   "cell_type": "code",
   "execution_count": null,
   "id": "7d5968cc",
   "metadata": {},
   "outputs": [],
   "source": [
    "products2.groupby(['product_cluster']).agg({'Bottle_Volume_liters' :['min','max', 'mean'], 'Bottle_Retail':['min','max', 'mean'],'price_per_ml':['min','max','std', 'median', 'mean'],'Bottles_Sold':['min','max', 'mean'] })"
   ]
  },
  {
   "cell_type": "code",
   "execution_count": null,
   "id": "23dd0f4e",
   "metadata": {},
   "outputs": [],
   "source": [
    "products2['price_per_ml'] = products2['Bottle_Retail'] / products2['Bottle_Volume']"
   ]
  },
  {
   "cell_type": "code",
   "execution_count": 74,
   "id": "38c07b36",
   "metadata": {},
   "outputs": [
    {
     "data": {
      "text/html": [
       "<div>\n",
       "<style scoped>\n",
       "    .dataframe tbody tr th:only-of-type {\n",
       "        vertical-align: middle;\n",
       "    }\n",
       "\n",
       "    .dataframe tbody tr th {\n",
       "        vertical-align: top;\n",
       "    }\n",
       "\n",
       "    .dataframe thead tr th {\n",
       "        text-align: left;\n",
       "    }\n",
       "\n",
       "    .dataframe thead tr:last-of-type th {\n",
       "        text-align: right;\n",
       "    }\n",
       "</style>\n",
       "<table border=\"1\" class=\"dataframe\">\n",
       "  <thead>\n",
       "    <tr>\n",
       "      <th></th>\n",
       "      <th>Item_Number</th>\n",
       "      <th>Bottle_Volume</th>\n",
       "      <th>revenue</th>\n",
       "      <th colspan=\"5\" halign=\"left\">price_per_ml</th>\n",
       "    </tr>\n",
       "    <tr>\n",
       "      <th></th>\n",
       "      <th>nunique</th>\n",
       "      <th>nunique</th>\n",
       "      <th>sum</th>\n",
       "      <th>min</th>\n",
       "      <th>max</th>\n",
       "      <th>std</th>\n",
       "      <th>median</th>\n",
       "      <th>mean</th>\n",
       "    </tr>\n",
       "    <tr>\n",
       "      <th>product_cluster</th>\n",
       "      <th></th>\n",
       "      <th></th>\n",
       "      <th></th>\n",
       "      <th></th>\n",
       "      <th></th>\n",
       "      <th></th>\n",
       "      <th></th>\n",
       "      <th></th>\n",
       "    </tr>\n",
       "  </thead>\n",
       "  <tbody>\n",
       "    <tr>\n",
       "      <th>0</th>\n",
       "      <td>3304</td>\n",
       "      <td>16</td>\n",
       "      <td>3.629301e+08</td>\n",
       "      <td>0.003200</td>\n",
       "      <td>0.71250</td>\n",
       "      <td>0.033824</td>\n",
       "      <td>0.021368</td>\n",
       "      <td>0.029342</td>\n",
       "    </tr>\n",
       "    <tr>\n",
       "      <th>1</th>\n",
       "      <td>915</td>\n",
       "      <td>14</td>\n",
       "      <td>4.649078e+07</td>\n",
       "      <td>0.021000</td>\n",
       "      <td>0.52425</td>\n",
       "      <td>0.031538</td>\n",
       "      <td>0.063453</td>\n",
       "      <td>0.071118</td>\n",
       "    </tr>\n",
       "    <tr>\n",
       "      <th>2</th>\n",
       "      <td>82</td>\n",
       "      <td>5</td>\n",
       "      <td>1.757619e+06</td>\n",
       "      <td>0.128566</td>\n",
       "      <td>1.50000</td>\n",
       "      <td>0.186571</td>\n",
       "      <td>0.242580</td>\n",
       "      <td>0.299459</td>\n",
       "    </tr>\n",
       "  </tbody>\n",
       "</table>\n",
       "</div>"
      ],
      "text/plain": [
       "                Item_Number Bottle_Volume       revenue price_per_ml           \\\n",
       "                    nunique       nunique           sum          min      max   \n",
       "product_cluster                                                                 \n",
       "0                      3304            16  3.629301e+08     0.003200  0.71250   \n",
       "1                       915            14  4.649078e+07     0.021000  0.52425   \n",
       "2                        82             5  1.757619e+06     0.128566  1.50000   \n",
       "\n",
       "                                               \n",
       "                      std    median      mean  \n",
       "product_cluster                                \n",
       "0                0.033824  0.021368  0.029342  \n",
       "1                0.031538  0.063453  0.071118  \n",
       "2                0.186571  0.242580  0.299459  "
      ]
     },
     "execution_count": 74,
     "metadata": {},
     "output_type": "execute_result"
    }
   ],
   "source": [
    "products2.groupby(['product_cluster']).agg({'Item_Number':'nunique','Bottle_Volume':'nunique','revenue':'sum','price_per_ml':['min','max','std', 'median', 'mean']})"
   ]
  },
  {
   "cell_type": "code",
   "execution_count": null,
   "id": "d8038777",
   "metadata": {},
   "outputs": [],
   "source": []
  },
  {
   "cell_type": "code",
   "execution_count": null,
   "id": "9501a7f7",
   "metadata": {},
   "outputs": [],
   "source": [
    "products2.groupby(['product_cluster']).agg({'Item_Number':'nunique','revenue':'sum','Bottle_Volume' :['min','max','std', 'median', 'mean'], 'Bottle_Retail':['min','max','std', 'median', 'mean'],'Bottles_Sold':['min','max','std', 'median', 'mean'] })"
   ]
  },
  {
   "cell_type": "code",
   "execution_count": null,
   "id": "6470a8b8",
   "metadata": {},
   "outputs": [],
   "source": [
    "# stop\n"
   ]
  },
  {
   "cell_type": "code",
   "execution_count": null,
   "id": "ba770a08",
   "metadata": {},
   "outputs": [],
   "source": [
    "products2.groupby(['cluster_name']).agg({'Item_Number':'nunique','revenue':'sum','Bottle_Volume' :['min','max','std', 'median', 'mean'], 'Bottle_Retail':['min','max','std', 'median', 'mean'],'Bottles_Sold':['min','max','std', 'median', 'mean'] })"
   ]
  },
  {
   "cell_type": "code",
   "execution_count": null,
   "id": "0d1eabdc",
   "metadata": {},
   "outputs": [],
   "source": [
    "# proc_freq(products2.loc[products2.cluster_name == 'Everything_Else'],'New_Category_Name')\n",
    "    "
   ]
  },
  {
   "cell_type": "code",
   "execution_count": null,
   "id": "fd2c6a1d",
   "metadata": {},
   "outputs": [],
   "source": [
    "products2.loc[products2.cluster_name == 'Everything_Else']['New_Category_Name'].value_counts()/3648*100"
   ]
  },
  {
   "cell_type": "code",
   "execution_count": null,
   "id": "ef81a22c",
   "metadata": {},
   "outputs": [],
   "source": [
    "# proc_freq(products2.loc[products2.cluster_name == 'High_End'],'New_Category_Name')\n",
    "products2.loc[products2.cluster_name == 'High_End']['New_Category_Name'].value_counts()/157*100"
   ]
  },
  {
   "cell_type": "code",
   "execution_count": null,
   "id": "bcb04724",
   "metadata": {},
   "outputs": [],
   "source": [
    "# proc_freq(products2.loc[products2.cluster_name == 'Popular_Bottles'],'New_Category_Name')\n",
    "products2.loc[products2.cluster_name == 'Popular_Bottles']['New_Category_Name'].value_counts()/42*100"
   ]
  },
  {
   "cell_type": "code",
   "execution_count": null,
   "id": "0ad4bb44",
   "metadata": {},
   "outputs": [],
   "source": [
    "# proc_freq(products2.loc[products2.cluster_name == 'Volume_For_Dollar'],'New_Category_Name')\n",
    "products2.loc[products2.cluster_name == 'Volume_For_Dollar']['New_Category_Name'].value_counts()/454"
   ]
  },
  {
   "cell_type": "code",
   "execution_count": null,
   "id": "811667ad",
   "metadata": {},
   "outputs": [],
   "source": [
    "proc_freq(products2,'cluster_name')"
   ]
  },
  {
   "cell_type": "code",
   "execution_count": null,
   "id": "f652b3c0",
   "metadata": {},
   "outputs": [],
   "source": [
    "products2.groupby(['cluster_name']).agg({'price_per_ml':['min','max','std', 'median', 'mean'],'Bottles_Sold':['min','max','std', 'median', 'mean'],'Num_Stores_Selling':['min','max','std', 'median', 'mean'] })"
   ]
  },
  {
   "cell_type": "code",
   "execution_count": null,
   "id": "39683334",
   "metadata": {},
   "outputs": [],
   "source": [
    "products2.groupby(['cluster_name']).agg({'revenue':['sum'],'Bottle_Volume':['nunique','min','max','median'],'price_per_ml':['min','max','std', 'median', 'mean'],'Bottles_Sold':['min','max','std', 'median', 'mean'],'Num_Stores_Selling':['min','max','std', 'median', 'mean'] })"
   ]
  },
  {
   "cell_type": "code",
   "execution_count": null,
   "id": "458b22e4",
   "metadata": {},
   "outputs": [],
   "source": [
    "products2.groupby(['cluster_name']).agg({'revenue':['sum'],'Bottle_Volume':['nunique','min','max','median'],'price_per_ml':['min','max','std', 'median', 'mean'],'Bottles_Sold':['min','max','std', 'median', 'mean'],'Num_Stores_Selling':['min','max','std', 'median', 'mean'] })"
   ]
  },
  {
   "cell_type": "code",
   "execution_count": null,
   "id": "bb44b604",
   "metadata": {},
   "outputs": [],
   "source": []
  },
  {
   "cell_type": "code",
   "execution_count": null,
   "id": "a93c93ae",
   "metadata": {},
   "outputs": [],
   "source": [
    "pd.set_option('display.max_columns', None)\n",
    "products2.groupby(['cluster_name']).agg({'Item_Number':['nunique'],'revenue':['sum'],'Bottle_Volume':['count','nunique','min','max','median','std'],'Bottle_Retail':['min','max','std', 'median', 'mean'],'price_per_ml':['min','max','std', 'median', 'mean'],'Bottles_Sold':['min','max','std', 'median', 'mean'],'Num_Stores_Selling':['min','max','std', 'median', 'mean'] })"
   ]
  },
  {
   "cell_type": "code",
   "execution_count": null,
   "id": "9c44dd68",
   "metadata": {},
   "outputs": [],
   "source": []
  },
  {
   "cell_type": "code",
   "execution_count": null,
   "id": "0beffd37",
   "metadata": {},
   "outputs": [],
   "source": [
    "products2.cluster_name.value_counts()"
   ]
  },
  {
   "cell_type": "code",
   "execution_count": null,
   "id": "1ab437ad",
   "metadata": {},
   "outputs": [],
   "source": [
    "# df.sort_values(by=['Population'], ascending=False)\n",
    "products2.sort_values(by=['revenue'], ascending=False)\n",
    "products2[['cluster_name','revenue','Item_Description','Bottle_Retail','Bottle_Volume']].sort_values(by=['revenue'], ascending=False)\n",
    "# products2.style.format(\"{:.0f}\")\n"
   ]
  },
  {
   "cell_type": "code",
   "execution_count": null,
   "id": "5bb9487a",
   "metadata": {},
   "outputs": [],
   "source": []
  },
  {
   "cell_type": "code",
   "execution_count": null,
   "id": "1e44f12d",
   "metadata": {},
   "outputs": [],
   "source": [
    "products2.loc[products2.product_cluster==3,:]['Bottle_Retail'].max()"
   ]
  },
  {
   "cell_type": "code",
   "execution_count": null,
   "id": "6f69b8f6",
   "metadata": {},
   "outputs": [],
   "source": [
    "# products2.loc[products2.product_cluster==1,:]"
   ]
  },
  {
   "cell_type": "code",
   "execution_count": null,
   "id": "717a5810",
   "metadata": {},
   "outputs": [],
   "source": [
    "products_out=products2[['Item_Number','Item_Description','Bottle_Volume','Bottle_Retail', 'Bottles_Sold','cluster_name','revenue','Num_Stores_Selling','New_Category_Name']]"
   ]
  },
  {
   "cell_type": "code",
   "execution_count": null,
   "id": "0e6a603f",
   "metadata": {},
   "outputs": [],
   "source": [
    "products['revenue'].sum()"
   ]
  },
  {
   "cell_type": "code",
   "execution_count": null,
   "id": "c516aa7e",
   "metadata": {},
   "outputs": [],
   "source": [
    "check"
   ]
  },
  {
   "cell_type": "code",
   "execution_count": null,
   "id": "a6fc2919",
   "metadata": {},
   "outputs": [],
   "source": [
    "# products_out.to_csv(r'C:\\Users\\dgarb\\OneDrive\\Desktop\\Capstone Data\\liquor_2021\\product_clusters.csv')"
   ]
  }
 ],
 "metadata": {
  "kernelspec": {
   "display_name": "Python 3 (ipykernel)",
   "language": "python",
   "name": "python3"
  },
  "language_info": {
   "codemirror_mode": {
    "name": "ipython",
    "version": 3
   },
   "file_extension": ".py",
   "mimetype": "text/x-python",
   "name": "python",
   "nbconvert_exporter": "python",
   "pygments_lexer": "ipython3",
   "version": "3.9.7"
  }
 },
 "nbformat": 4,
 "nbformat_minor": 5
}

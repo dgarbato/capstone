{
 "cells": [
  {
   "cell_type": "code",
   "execution_count": null,
   "id": "6ae9abb3",
   "metadata": {},
   "outputs": [],
   "source": [
    "# C:\\Users\\dgarb\\OneDrive\\Documents\\Data Science Bootcamp August\\Capstone - Copy\\sqlite\\db"
   ]
  },
  {
   "cell_type": "code",
   "execution_count": 3,
   "id": "fb5ff11e",
   "metadata": {},
   "outputs": [],
   "source": [
    "import sqlite3\n",
    "from sqlite3 import Error"
   ]
  },
  {
   "cell_type": "markdown",
   "id": "263f9c98",
   "metadata": {},
   "source": [
    "create database in \"C:\\Users\\dgarb\\OneDrive\\Documents\\Data Science Bootcamp August\\Capstone - Copy\\sqlite\\db\\\""
   ]
  },
  {
   "cell_type": "code",
   "execution_count": 4,
   "id": "7dd2884f",
   "metadata": {},
   "outputs": [
    {
     "name": "stdout",
     "output_type": "stream",
     "text": [
      "2.6.0\n"
     ]
    }
   ],
   "source": [
    "def create_connection(db_file):\n",
    "    \"\"\" create a database connection to a SQLite database \"\"\"\n",
    "    conn = None\n",
    "    try:\n",
    "        conn = sqlite3.connect(db_file)\n",
    "        print(sqlite3.version)\n",
    "    except Error as e:\n",
    "        print(e)\n",
    "    finally:\n",
    "        if conn:\n",
    "            conn.close()\n",
    "\n",
    "\n",
    "if __name__ == '__main__':\n",
    "    create_connection(r\"C:\\Users\\dgarb\\OneDrive\\Documents\\Data Science Bootcamp August\\Capstone - Copy\\sqlite\\db\\pythonsqlite.db\")"
   ]
  },
  {
   "cell_type": "markdown",
   "id": "146fdc58",
   "metadata": {},
   "source": [
    "develop a function called create_connection() that returns a Connection object which represents an SQLite database specified by the database file parameter db_file."
   ]
  },
  {
   "cell_type": "code",
   "execution_count": 5,
   "id": "6ebd18b0",
   "metadata": {},
   "outputs": [],
   "source": [
    "def create_connection(db_file):\n",
    "    \"\"\" create a database connection to the SQLite database\n",
    "        specified by db_file\n",
    "    :param db_file: database file\n",
    "    :return: Connection object or None\n",
    "    \"\"\"\n",
    "    conn = None\n",
    "    try:\n",
    "        conn = sqlite3.connect(db_file)\n",
    "        return conn\n",
    "    except Error as e:\n",
    "        print(e)\n",
    "\n",
    "    return conn"
   ]
  },
  {
   "cell_type": "code",
   "execution_count": 7,
   "id": "ca65239c",
   "metadata": {},
   "outputs": [
    {
     "ename": "SyntaxError",
     "evalue": "(unicode error) 'unicodeescape' codec can't decode bytes in position 2-3: truncated \\UXXXXXXXX escape (Temp/ipykernel_15692/1336005533.py, line 1)",
     "output_type": "error",
     "traceback": [
      "\u001b[1;36m  File \u001b[1;32m\"C:\\Users\\dgarb\\AppData\\Local\\Temp/ipykernel_15692/1336005533.py\"\u001b[1;36m, line \u001b[1;32m1\u001b[0m\n\u001b[1;33m    create_connection('C:\\Users\\dgarb\\OneDrive\\Desktop\\Capstone Data\\categories_clean.csv')\u001b[0m\n\u001b[1;37m                                                                                          ^\u001b[0m\n\u001b[1;31mSyntaxError\u001b[0m\u001b[1;31m:\u001b[0m (unicode error) 'unicodeescape' codec can't decode bytes in position 2-3: truncated \\UXXXXXXXX escape\n"
     ]
    }
   ],
   "source": [
    "create_connection('C:\\Users\\dgarb\\OneDrive\\Desktop\\Capstone Data\\categories_clean.csv')"
   ]
  },
  {
   "cell_type": "markdown",
   "id": "f6f2d7e8",
   "metadata": {},
   "source": [
    "develop a function named create_table() that accepts a Connection object and an SQL statement. Inside the function, we call the execute() method of the Cursor object to execute the CREATE TABLE statement."
   ]
  },
  {
   "cell_type": "code",
   "execution_count": 6,
   "id": "97d3617a",
   "metadata": {},
   "outputs": [],
   "source": [
    "def create_table(conn, create_table_sql):\n",
    "    \"\"\" create a table from the create_table_sql statement\n",
    "    :param conn: Connection object\n",
    "    :param create_table_sql: a CREATE TABLE statement\n",
    "    :return:\n",
    "    \"\"\"\n",
    "    try:\n",
    "        c = conn.cursor()\n",
    "        c.execute(create_table_sql)\n",
    "    except Error as e:\n",
    "        print(e)"
   ]
  },
  {
   "cell_type": "code",
   "execution_count": 8,
   "id": "06b0d1ae",
   "metadata": {},
   "outputs": [
    {
     "ename": "SyntaxError",
     "evalue": "(unicode error) 'unicodeescape' codec can't decode bytes in position 2-3: truncated \\UXXXXXXXX escape (Temp/ipykernel_15692/181696726.py, line 5)",
     "output_type": "error",
     "traceback": [
      "\u001b[1;36m  File \u001b[1;32m\"C:\\Users\\dgarb\\AppData\\Local\\Temp/ipykernel_15692/181696726.py\"\u001b[1;36m, line \u001b[1;32m5\u001b[0m\n\u001b[1;33m    c.create_table(\"my_data\", \"C:\\Users\\dgarb\\OneDrive\\Desktop\\Capstone Data\\categories_clean.csv\")\u001b[0m\n\u001b[1;37m                                                                                                  ^\u001b[0m\n\u001b[1;31mSyntaxError\u001b[0m\u001b[1;31m:\u001b[0m (unicode error) 'unicodeescape' codec can't decode bytes in position 2-3: truncated \\UXXXXXXXX escape\n"
     ]
    }
   ],
   "source": [
    "from dask_sql import Context\n",
    "# categories_clean.csv\n",
    "c = Context()\n",
    "\n",
    "c.create_table(\"my_data\", \"C:\\Users\\dgarb\\OneDrive\\Desktop\\Capstone Data\\categories_clean.csv\")"
   ]
  },
  {
   "cell_type": "markdown",
   "id": "5404b7b5",
   "metadata": {},
   "source": [
    "create a main() function to create the tables"
   ]
  },
  {
   "cell_type": "code",
   "execution_count": null,
   "id": "53460964",
   "metadata": {},
   "outputs": [],
   "source": [
    "def main():\n",
    "    database = r\"C:\\Users\\dgarb\\OneDrive\\Documents\\Data Science Bootcamp August\\Capstone - Copy\\sqlite\\db\\pythonsqlite.db\"\n",
    "\n",
    "    sql_create_projects_table = \"\"\" CREATE TABLE IF NOT EXISTS projects (\n",
    "                                        id integer PRIMARY KEY,\n",
    "                                        name text NOT NULL,\n",
    "                                        begin_date text,\n",
    "                                        end_date text\n",
    "                                    ); \"\"\"\n",
    "\n",
    "    sql_create_tasks_table = \"\"\"CREATE TABLE IF NOT EXISTS tasks (\n",
    "                                    id integer PRIMARY KEY,\n",
    "                                    name text NOT NULL,\n",
    "                                    priority integer,\n",
    "                                    status_id integer NOT NULL,\n",
    "                                    project_id integer NOT NULL,\n",
    "                                    begin_date text NOT NULL,\n",
    "                                    end_date text NOT NULL,\n",
    "                                    FOREIGN KEY (project_id) REFERENCES projects (id)\n",
    "                                );\"\"\"\n",
    "\n",
    "    # create a database connection\n",
    "    conn = create_connection(database)\n",
    "\n",
    "    # create tables\n",
    "    if conn is not None:\n",
    "        # create projects table\n",
    "        create_table(conn, sql_create_projects_table)\n",
    "\n",
    "        # create tasks table\n",
    "        create_table(conn, sql_create_tasks_table)\n",
    "    else:\n",
    "        print(\"Error! cannot create the database connection.\")"
   ]
  }
 ],
 "metadata": {
  "kernelspec": {
   "display_name": "Python 3 (ipykernel)",
   "language": "python",
   "name": "python3"
  },
  "language_info": {
   "codemirror_mode": {
    "name": "ipython",
    "version": 3
   },
   "file_extension": ".py",
   "mimetype": "text/x-python",
   "name": "python",
   "nbconvert_exporter": "python",
   "pygments_lexer": "ipython3",
   "version": "3.9.7"
  }
 },
 "nbformat": 4,
 "nbformat_minor": 5
}

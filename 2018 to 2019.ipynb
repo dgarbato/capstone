{
 "cells": [
  {
   "cell_type": "code",
   "execution_count": 1,
   "id": "6e25298f",
   "metadata": {},
   "outputs": [],
   "source": [
    "import pandas as pd\n",
    "import numpy as np"
   ]
  },
  {
   "cell_type": "code",
   "execution_count": 2,
   "id": "98fdea59",
   "metadata": {},
   "outputs": [],
   "source": [
    "from freq_pd import proc_freq\n",
    "from missing_columns_pd import miss_cols"
   ]
  },
  {
   "cell_type": "code",
   "execution_count": 3,
   "id": "e6d70fb6",
   "metadata": {},
   "outputs": [],
   "source": [
    "dict_dtypes ={'Invoice/Item Number':str,\n",
    " 'Date':str,\n",
    " 'Store Number':str,\n",
    " 'Store Name':str,\n",
    " 'Address':str,\n",
    " 'City':str,\n",
    " 'Zip Code':str,\n",
    " 'Store Location':str,\n",
    " 'County Number':str,\n",
    " 'County':str,\n",
    " 'Category':str,\n",
    " 'Category Name':str,\n",
    " 'Vendor Number':str,\n",
    " 'Vendor Name':str,\n",
    " 'Item Number':str,\n",
    " 'Item Description':str,\n",
    " 'Pack':int,\n",
    " 'Bottle Volume (ml)':int,\n",
    " 'State Bottle Cost':float,\n",
    " 'State Bottle Retail':float,\n",
    " 'Bottles Sold':int,\n",
    " 'Sale (Dollars)':float,\n",
    " 'Volume Sold (Liters)':float,\n",
    " 'Volume Sold (Gallons)':float}"
   ]
  },
  {
   "cell_type": "code",
   "execution_count": 4,
   "id": "1bc81a91",
   "metadata": {},
   "outputs": [],
   "source": [
    "df_2018_to_2019 = pd.read_csv(r'C:\\Users\\dgarb\\OneDrive\\Desktop\\Capstone Data\\liquor_2018_2019.csv', dtype= dict_dtypes)"
   ]
  },
  {
   "cell_type": "code",
   "execution_count": 5,
   "id": "b7755f1a",
   "metadata": {},
   "outputs": [
    {
     "data": {
      "text/plain": [
       "(4735903, 24)"
      ]
     },
     "execution_count": 5,
     "metadata": {},
     "output_type": "execute_result"
    }
   ],
   "source": [
    "df_2018_to_2019.shape"
   ]
  },
  {
   "cell_type": "code",
   "execution_count": 6,
   "id": "fafcbd58",
   "metadata": {},
   "outputs": [
    {
     "data": {
      "text/plain": [
       "[('Store Location', 444003, 0.0938),\n",
       " ('Address', 6457, 0.0014),\n",
       " ('City', 6457, 0.0014),\n",
       " ('Zip Code', 6457, 0.0014),\n",
       " ('County Number', 6459, 0.0014),\n",
       " ('County', 6457, 0.0014),\n",
       " ('Category', 4939, 0.001),\n",
       " ('Category Name', 4939, 0.001),\n",
       " ('Vendor Number', 3, 0.0),\n",
       " ('Vendor Name', 3, 0.0)]"
      ]
     },
     "execution_count": 6,
     "metadata": {},
     "output_type": "execute_result"
    }
   ],
   "source": [
    "miss_cols(df_2018_to_2019)"
   ]
  }
 ],
 "metadata": {
  "kernelspec": {
   "display_name": "Python 3 (ipykernel)",
   "language": "python",
   "name": "python3"
  },
  "language_info": {
   "codemirror_mode": {
    "name": "ipython",
    "version": 3
   },
   "file_extension": ".py",
   "mimetype": "text/x-python",
   "name": "python",
   "nbconvert_exporter": "python",
   "pygments_lexer": "ipython3",
   "version": "3.9.7"
  }
 },
 "nbformat": 4,
 "nbformat_minor": 5
}

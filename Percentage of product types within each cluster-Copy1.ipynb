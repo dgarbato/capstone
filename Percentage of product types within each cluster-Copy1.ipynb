{
 "cells": [
  {
   "cell_type": "code",
   "execution_count": 1,
   "id": "9d4b147e",
   "metadata": {},
   "outputs": [],
   "source": [
    "import pandas as pd \n",
    "import numpy as np"
   ]
  },
  {
   "cell_type": "code",
   "execution_count": 2,
   "id": "32180dfc",
   "metadata": {},
   "outputs": [],
   "source": [
    "import matplotlib.pyplot as plt\n",
    "%matplotlib inline\n",
    "import seaborn as sns"
   ]
  },
  {
   "cell_type": "code",
   "execution_count": 3,
   "id": "14ad923c",
   "metadata": {},
   "outputs": [],
   "source": [
    "from freq_pd import proc_freq"
   ]
  },
  {
   "cell_type": "code",
   "execution_count": 4,
   "id": "3b820698",
   "metadata": {},
   "outputs": [],
   "source": [
    "final_clusters = pd.read_csv(r'C:\\Users\\dgarb\\OneDrive\\Desktop\\Capstone Data\\liquor_2021\\final_clusters.csv',dtype={'Item_Number':str}, index_col=0)"
   ]
  },
  {
   "cell_type": "code",
   "execution_count": 5,
   "id": "2b69bb27",
   "metadata": {},
   "outputs": [],
   "source": [
    "stdtypes = {'Store_Number':str,'Vendor_Number':str,'Item_Number':str, 'Category':str,\n",
    "            'Zip_Code':str}"
   ]
  },
  {
   "cell_type": "code",
   "execution_count": 6,
   "id": "b6fd30dd",
   "metadata": {},
   "outputs": [],
   "source": [
    "store_trans_cluster = pd.read_csv(r'C:\\Users\\dgarb\\OneDrive\\Desktop\\Capstone Data\\liquor_2021\\store_trans_cluster.csv', dtype=stdtypes,index_col=0 )"
   ]
  },
  {
   "cell_type": "code",
   "execution_count": 7,
   "id": "f42c61e8",
   "metadata": {},
   "outputs": [
    {
     "name": "stdout",
     "output_type": "stream",
     "text": [
      "<class 'pandas.core.frame.DataFrame'>\n",
      "Int64Index: 4301 entries, 1 to 4457\n",
      "Data columns (total 9 columns):\n",
      " #   Column              Non-Null Count  Dtype  \n",
      "---  ------              --------------  -----  \n",
      " 0   Item_Number         4301 non-null   object \n",
      " 1   Item_Description    4301 non-null   object \n",
      " 2   Bottle_Volume       4301 non-null   int64  \n",
      " 3   Bottle_Retail       4301 non-null   float64\n",
      " 4   Bottles_Sold        4301 non-null   int64  \n",
      " 5   cluster_name        4301 non-null   object \n",
      " 6   revenue             4301 non-null   float64\n",
      " 7   Num_Stores_Selling  4301 non-null   int64  \n",
      " 8   New_Category_Name   4301 non-null   object \n",
      "dtypes: float64(2), int64(3), object(4)\n",
      "memory usage: 336.0+ KB\n"
     ]
    }
   ],
   "source": [
    "final_clusters.info()"
   ]
  },
  {
   "cell_type": "code",
   "execution_count": 8,
   "id": "469e3b0a",
   "metadata": {},
   "outputs": [],
   "source": [
    "pd.set_option('display.float_format', lambda x: '%.2f' % x)\n",
    "pd.options.display.float_format = '{:,}'.format"
   ]
  },
  {
   "cell_type": "code",
   "execution_count": 9,
   "id": "791c87c5",
   "metadata": {},
   "outputs": [],
   "source": [
    "std_retail_price_df = store_trans_cluster.groupby(['Item_Number']).agg({'Bottle_Retail':'std'}).reset_index()\n"
   ]
  },
  {
   "cell_type": "code",
   "execution_count": 10,
   "id": "919e2f04",
   "metadata": {},
   "outputs": [
    {
     "data": {
      "text/plain": [
       "0.0"
      ]
     },
     "execution_count": 10,
     "metadata": {},
     "output_type": "execute_result"
    }
   ],
   "source": [
    "std_retail_price_df.head() \n",
    "std_retail_price_df.Bottle_Retail.mean()"
   ]
  },
  {
   "cell_type": "code",
   "execution_count": 11,
   "id": "61b303ac",
   "metadata": {},
   "outputs": [
    {
     "data": {
      "text/plain": [
       "Most_Variety         2199\n",
       "Moderately_High       877\n",
       "Volume_For_Dollar     454\n",
       "Quick_Shots           436\n",
       "High_End              157\n",
       "Cheap                 136\n",
       "Popular_Bottles        42\n",
       "Name: cluster_name, dtype: int64"
      ]
     },
     "execution_count": 11,
     "metadata": {},
     "output_type": "execute_result"
    }
   ],
   "source": [
    "final_clusters.cluster_name.value_counts() "
   ]
  },
  {
   "cell_type": "code",
   "execution_count": 12,
   "id": "2d594ef8",
   "metadata": {},
   "outputs": [
    {
     "data": {
      "text/plain": [
       "Vodkas                                  14.000000000000002\n",
       "Whiskies                                13.969999999999999\n",
       "Bourbon                                               8.81\n",
       "Liquers                                               8.16\n",
       "Rum                                                   7.95\n",
       "Temporary & Specialty Packages                        7.21\n",
       "Tequila                                  7.109999999999999\n",
       "Special Order Items                                   5.63\n",
       "Scotch                                                5.46\n",
       "Brandies                                              4.09\n",
       "Cocktails                                              4.0\n",
       "Gin                                     3.9800000000000004\n",
       "Schnapps                                               3.0\n",
       "Imported Distilled Spirits Specialty                  1.72\n",
       "American Distilled Spirits Specialty    1.4000000000000001\n",
       "Whiskey Liqueur                         1.1900000000000002\n",
       "Mezcal                                                1.16\n",
       "Neutral Grain Spirits Flavored                         0.6\n",
       "Neutral Grain Spirits                                  0.3\n",
       "Triple Sec                             0.22999999999999998\n",
       "Distilled Spirits Specialty                           0.02\n",
       "Name: New_Category_Name, dtype: float64"
      ]
     },
     "execution_count": 12,
     "metadata": {},
     "output_type": "execute_result"
    }
   ],
   "source": [
    "final_clusters.New_Category_Name.value_counts(normalize=True).round(4) *100"
   ]
  },
  {
   "cell_type": "code",
   "execution_count": 13,
   "id": "ff63c024",
   "metadata": {},
   "outputs": [],
   "source": [
    "# ['Temporary & Specialty Packages','Special Order Items',]"
   ]
  },
  {
   "cell_type": "code",
   "execution_count": 14,
   "id": "588e9050",
   "metadata": {},
   "outputs": [
    {
     "data": {
      "text/plain": [
       "Vodkas                                    0.1709868121873579\n",
       "Whiskies                                 0.12232833105957254\n",
       "Liquers                                  0.11596180081855388\n",
       "Rum                                      0.09822646657571624\n",
       "Temporary & Specialty Packages           0.06866757617098682\n",
       "Special Order Items                      0.06730331969076853\n",
       "Bourbon                                 0.060482037289677125\n",
       "Tequila                                  0.05638926784902228\n",
       "Gin                                      0.05229649840836744\n",
       "Brandies                                 0.04138244656662119\n",
       "Schnapps                                 0.04001819008640291\n",
       "Scotch                                    0.0241018644838563\n",
       "American Distilled Spirits Specialty    0.020009095043201454\n",
       "Imported Distilled Spirits Specialty    0.013642564802182811\n",
       "Whiskey Liqueur                          0.01182355616189177\n",
       "Neutral Grain Spirits Flavored          0.011368804001819008\n",
       "Cocktails                               0.010459299681673489\n",
       "Mezcal                                  0.007276034561164165\n",
       "Neutral Grain Spirits                   0.004092769440654843\n",
       "Triple Sec                             0.0031832651205093224\n",
       "Name: New_Category_Name, dtype: float64"
      ]
     },
     "execution_count": 14,
     "metadata": {},
     "output_type": "execute_result"
    }
   ],
   "source": [
    "final_clusters.loc[final_clusters.cluster_name== 'Most_Variety']['New_Category_Name'].value_counts(normalize=True)"
   ]
  },
  {
   "cell_type": "code",
   "execution_count": null,
   "id": "85cac3e3",
   "metadata": {},
   "outputs": [],
   "source": []
  },
  {
   "cell_type": "code",
   "execution_count": 15,
   "id": "d77bc3a6",
   "metadata": {},
   "outputs": [
    {
     "data": {
      "text/plain": [
       "Bourbon                                  0.18244013683010263\n",
       "Whiskies                                 0.17559863169897377\n",
       "Scotch                                   0.14139110604332952\n",
       "Tequila                                   0.1265678449258837\n",
       "Temporary & Specialty Packages           0.09692132269099202\n",
       "Special Order Items                      0.06727480045610035\n",
       "Rum                                      0.03876852907639681\n",
       "Brandies                                0.036488027366020526\n",
       "Mezcal                                   0.03192702394526796\n",
       "Imported Distilled Spirits Specialty    0.029646522234891677\n",
       "Gin                                     0.019384264538198404\n",
       "Liquers                                 0.019384264538198404\n",
       "American Distilled Spirits Specialty    0.014823261117445839\n",
       "Vodkas                                  0.012542759407069556\n",
       "Whiskey Liqueur                        0.0034207525655644243\n",
       "Cocktails                               0.002280501710376283\n",
       "Distilled Spirits Specialty            0.0011402508551881414\n",
       "Name: New_Category_Name, dtype: float64"
      ]
     },
     "execution_count": 15,
     "metadata": {},
     "output_type": "execute_result"
    }
   ],
   "source": [
    "final_clusters.loc[final_clusters.cluster_name== 'Moderately_High']['New_Category_Name'].value_counts(normalize=True)"
   ]
  },
  {
   "cell_type": "code",
   "execution_count": 16,
   "id": "063b196a",
   "metadata": {},
   "outputs": [
    {
     "data": {
      "text/plain": [
       "Cocktails                          0.20044052863436124\n",
       "Vodkas                             0.17180616740088106\n",
       "Rum                                0.11894273127753303\n",
       "Whiskies                           0.11233480176211454\n",
       "Bourbon                            0.06387665198237885\n",
       "Temporary & Specialty Packages     0.05506607929515418\n",
       "Gin                                0.05506607929515418\n",
       "Scotch                            0.046255506607929514\n",
       "Special Order Items                0.04405286343612335\n",
       "Tequila                           0.037444933920704845\n",
       "Liquers                            0.03524229074889868\n",
       "Brandies                          0.028634361233480177\n",
       "Schnapps                          0.019823788546255508\n",
       "Whiskey Liqueur                    0.00881057268722467\n",
       "Neutral Grain Spirits            0.0022026431718061676\n",
       "Name: New_Category_Name, dtype: float64"
      ]
     },
     "execution_count": 16,
     "metadata": {},
     "output_type": "execute_result"
    }
   ],
   "source": [
    "final_clusters.loc[final_clusters.cluster_name== 'Volume_For_Dollar']['New_Category_Name'].value_counts(normalize=True)"
   ]
  },
  {
   "cell_type": "code",
   "execution_count": 17,
   "id": "c4767d11",
   "metadata": {},
   "outputs": [
    {
     "data": {
      "text/plain": [
       "Vodkas                                    0.2018348623853211\n",
       "Whiskies                                 0.15825688073394495\n",
       "Cocktails                                0.11926605504587157\n",
       "Liquers                                  0.11697247706422019\n",
       "Temporary & Specialty Packages           0.07110091743119266\n",
       "Bourbon                                  0.06880733944954129\n",
       "Schnapps                                 0.05963302752293578\n",
       "Brandies                                 0.05504587155963303\n",
       "Tequila                                  0.04128440366972477\n",
       "Rum                                      0.03211009174311927\n",
       "Imported Distilled Spirits Specialty     0.01834862385321101\n",
       "Gin                                      0.01834862385321101\n",
       "Whiskey Liqueur                         0.013761467889908258\n",
       "Scotch                                  0.009174311926605505\n",
       "Special Order Items                     0.009174311926605505\n",
       "American Distilled Spirits Specialty   0.0045871559633027525\n",
       "Neutral Grain Spirits                  0.0022935779816513763\n",
       "Name: New_Category_Name, dtype: float64"
      ]
     },
     "execution_count": 17,
     "metadata": {},
     "output_type": "execute_result"
    }
   ],
   "source": [
    "final_clusters.loc[final_clusters.cluster_name== 'Quick_Shots']['New_Category_Name'].value_counts(normalize=True)      "
   ]
  },
  {
   "cell_type": "code",
   "execution_count": 18,
   "id": "5666b2c8",
   "metadata": {},
   "outputs": [
    {
     "data": {
      "text/plain": [
       "Scotch                                  0.21019108280254778\n",
       "Tequila                                 0.15286624203821655\n",
       "Whiskies                                0.15286624203821655\n",
       "Temporary & Specialty Packages          0.10828025477707007\n",
       "Bourbon                                 0.08280254777070063\n",
       "Special Order Items                     0.07006369426751592\n",
       "Imported Distilled Spirits Specialty   0.050955414012738856\n",
       "Mezcal                                  0.03821656050955414\n",
       "Rum                                     0.03184713375796178\n",
       "Cocktails                              0.025477707006369428\n",
       "Brandies                                0.01910828025477707\n",
       "Liquers                                0.012738853503184714\n",
       "Whiskey Liqueur                        0.012738853503184714\n",
       "Vodkas                                 0.012738853503184714\n",
       "Gin                                    0.006369426751592357\n",
       "Neutral Grain Spirits                  0.006369426751592357\n",
       "American Distilled Spirits Specialty   0.006369426751592357\n",
       "Name: New_Category_Name, dtype: float64"
      ]
     },
     "execution_count": 18,
     "metadata": {},
     "output_type": "execute_result"
    }
   ],
   "source": [
    "final_clusters.loc[final_clusters.cluster_name == 'High_End']['New_Category_Name'].value_counts(normalize=True)      "
   ]
  },
  {
   "cell_type": "code",
   "execution_count": 19,
   "id": "80b92bb2",
   "metadata": {},
   "outputs": [
    {
     "data": {
      "text/plain": [
       "Vodkas                                                 0.25\n",
       "Whiskies                                0.16176470588235295\n",
       "Bourbon                                 0.10294117647058823\n",
       "Rum                                     0.09558823529411764\n",
       "Brandies                                0.08088235294117647\n",
       "Tequila                                 0.08088235294117647\n",
       "Liquers                                 0.07352941176470588\n",
       "Gin                                     0.03676470588235294\n",
       "Schnapps                                0.03676470588235294\n",
       "Whiskey Liqueur                        0.029411764705882353\n",
       "Triple Sec                             0.022058823529411766\n",
       "Temporary & Specialty Packages         0.007352941176470588\n",
       "Neutral Grain Spirits                  0.007352941176470588\n",
       "Imported Distilled Spirits Specialty   0.007352941176470588\n",
       "Neutral Grain Spirits Flavored         0.007352941176470588\n",
       "Name: New_Category_Name, dtype: float64"
      ]
     },
     "execution_count": 19,
     "metadata": {},
     "output_type": "execute_result"
    }
   ],
   "source": [
    "final_clusters.loc[final_clusters.cluster_name== 'Cheap']['New_Category_Name'].value_counts(normalize=True)"
   ]
  },
  {
   "cell_type": "code",
   "execution_count": 20,
   "id": "af1fb217",
   "metadata": {},
   "outputs": [
    {
     "data": {
      "text/plain": [
       "Vodkas                                  0.30952380952380953\n",
       "Whiskies                                 0.2857142857142857\n",
       "Rum                                     0.14285714285714285\n",
       "Whiskey Liqueur                         0.14285714285714285\n",
       "Brandies                               0.047619047619047616\n",
       "Imported Distilled Spirits Specialty   0.023809523809523808\n",
       "Schnapps                               0.023809523809523808\n",
       "Tequila                                0.023809523809523808\n",
       "Name: New_Category_Name, dtype: float64"
      ]
     },
     "execution_count": 20,
     "metadata": {},
     "output_type": "execute_result"
    }
   ],
   "source": [
    "final_clusters.loc[final_clusters.cluster_name== 'Popular_Bottles']['New_Category_Name'].value_counts(normalize=True)"
   ]
  },
  {
   "cell_type": "code",
   "execution_count": 21,
   "id": "e3a96e34",
   "metadata": {},
   "outputs": [
    {
     "data": {
      "text/html": [
       "<div>\n",
       "<style scoped>\n",
       "    .dataframe tbody tr th:only-of-type {\n",
       "        vertical-align: middle;\n",
       "    }\n",
       "\n",
       "    .dataframe tbody tr th {\n",
       "        vertical-align: top;\n",
       "    }\n",
       "\n",
       "    .dataframe thead th {\n",
       "        text-align: right;\n",
       "    }\n",
       "</style>\n",
       "<table border=\"1\" class=\"dataframe\">\n",
       "  <thead>\n",
       "    <tr style=\"text-align: right;\">\n",
       "      <th></th>\n",
       "      <th>Item_Number</th>\n",
       "      <th>Item_Description</th>\n",
       "      <th>Bottle_Volume</th>\n",
       "      <th>Bottle_Retail</th>\n",
       "      <th>Bottles_Sold</th>\n",
       "      <th>cluster_name</th>\n",
       "      <th>revenue</th>\n",
       "      <th>Num_Stores_Selling</th>\n",
       "      <th>New_Category_Name</th>\n",
       "    </tr>\n",
       "  </thead>\n",
       "  <tbody>\n",
       "    <tr>\n",
       "      <th>2772</th>\n",
       "      <td>88296</td>\n",
       "      <td>Patron Silver</td>\n",
       "      <td>750</td>\n",
       "      <td>41.5222314936226</td>\n",
       "      <td>144787</td>\n",
       "      <td>Popular_Bottles</td>\n",
       "      <td>6,001,266.0</td>\n",
       "      <td>1274</td>\n",
       "      <td>Tequila</td>\n",
       "    </tr>\n",
       "  </tbody>\n",
       "</table>\n",
       "</div>"
      ],
      "text/plain": [
       "     Item_Number Item_Description  Bottle_Volume    Bottle_Retail  \\\n",
       "2772       88296    Patron Silver            750 41.5222314936226   \n",
       "\n",
       "      Bottles_Sold     cluster_name     revenue  Num_Stores_Selling  \\\n",
       "2772        144787  Popular_Bottles 6,001,266.0                1274   \n",
       "\n",
       "     New_Category_Name  \n",
       "2772           Tequila  "
      ]
     },
     "execution_count": 21,
     "metadata": {},
     "output_type": "execute_result"
    }
   ],
   "source": [
    "final_clusters.loc[(final_clusters.cluster_name== 'Popular_Bottles') & (final_clusters.New_Category_Name == 'Tequila')]"
   ]
  },
  {
   "cell_type": "markdown",
   "id": "806c5be9",
   "metadata": {},
   "source": [
    "look at within cluster revenue by product type"
   ]
  },
  {
   "cell_type": "code",
   "execution_count": 22,
   "id": "87df4379",
   "metadata": {},
   "outputs": [
    {
     "name": "stdout",
     "output_type": "stream",
     "text": [
      "<class 'pandas.core.frame.DataFrame'>\n",
      "Int64Index: 2473851 entries, 0 to 2473850\n",
      "Data columns (total 19 columns):\n",
      " #   Column              Dtype  \n",
      "---  ------              -----  \n",
      " 0   Store_Number        object \n",
      " 1   Store_Name          object \n",
      " 2   Address             object \n",
      " 3   City                object \n",
      " 4   Zip_Code            object \n",
      " 5   Store_Location      object \n",
      " 6   County_Number       int64  \n",
      " 7   County              object \n",
      " 8   Vendor_Number       object \n",
      " 9   Item_Number         object \n",
      " 10  Category            object \n",
      " 11  Item_Description    object \n",
      " 12  Bottle_Volume       int64  \n",
      " 13  Bottle_Retail       float64\n",
      " 14  Bottles_Sold        int64  \n",
      " 15  cluster_name        object \n",
      " 16  revenue             float64\n",
      " 17  Num_Stores_Selling  int64  \n",
      " 18  New_Category_Name   object \n",
      "dtypes: float64(2), int64(4), object(13)\n",
      "memory usage: 377.5+ MB\n"
     ]
    }
   ],
   "source": [
    "store_trans_cluster.info() "
   ]
  },
  {
   "cell_type": "code",
   "execution_count": 23,
   "id": "9288f0b5",
   "metadata": {},
   "outputs": [
    {
     "data": {
      "text/html": [
       "<div>\n",
       "<style scoped>\n",
       "    .dataframe tbody tr th:only-of-type {\n",
       "        vertical-align: middle;\n",
       "    }\n",
       "\n",
       "    .dataframe tbody tr th {\n",
       "        vertical-align: top;\n",
       "    }\n",
       "\n",
       "    .dataframe thead th {\n",
       "        text-align: right;\n",
       "    }\n",
       "</style>\n",
       "<table border=\"1\" class=\"dataframe\">\n",
       "  <thead>\n",
       "    <tr style=\"text-align: right;\">\n",
       "      <th></th>\n",
       "      <th>revenue</th>\n",
       "    </tr>\n",
       "    <tr>\n",
       "      <th>New_Category_Name</th>\n",
       "      <th></th>\n",
       "    </tr>\n",
       "  </thead>\n",
       "  <tbody>\n",
       "    <tr>\n",
       "      <th>Vodkas</th>\n",
       "      <td>31.27</td>\n",
       "    </tr>\n",
       "    <tr>\n",
       "      <th>Whiskies</th>\n",
       "      <td>30.19</td>\n",
       "    </tr>\n",
       "    <tr>\n",
       "      <th>Rum</th>\n",
       "      <td>10.43</td>\n",
       "    </tr>\n",
       "    <tr>\n",
       "      <th>Whiskey Liqueur</th>\n",
       "      <td>7.2</td>\n",
       "    </tr>\n",
       "    <tr>\n",
       "      <th>Tequila</th>\n",
       "      <td>5.08</td>\n",
       "    </tr>\n",
       "    <tr>\n",
       "      <th>Bourbon</th>\n",
       "      <td>4.63</td>\n",
       "    </tr>\n",
       "    <tr>\n",
       "      <th>Brandies</th>\n",
       "      <td>4.0</td>\n",
       "    </tr>\n",
       "    <tr>\n",
       "      <th>Liquers</th>\n",
       "      <td>2.7</td>\n",
       "    </tr>\n",
       "    <tr>\n",
       "      <th>Schnapps</th>\n",
       "      <td>1.52</td>\n",
       "    </tr>\n",
       "    <tr>\n",
       "      <th>Cocktails</th>\n",
       "      <td>0.92</td>\n",
       "    </tr>\n",
       "    <tr>\n",
       "      <th>Gin</th>\n",
       "      <td>0.75</td>\n",
       "    </tr>\n",
       "    <tr>\n",
       "      <th>Temporary &amp; Specialty Packages</th>\n",
       "      <td>0.49</td>\n",
       "    </tr>\n",
       "    <tr>\n",
       "      <th>Scotch</th>\n",
       "      <td>0.4</td>\n",
       "    </tr>\n",
       "    <tr>\n",
       "      <th>Neutral Grain Spirits Flavored</th>\n",
       "      <td>0.12</td>\n",
       "    </tr>\n",
       "    <tr>\n",
       "      <th>Neutral Grain Spirits</th>\n",
       "      <td>0.08</td>\n",
       "    </tr>\n",
       "    <tr>\n",
       "      <th>American Distilled Spirits Specialty</th>\n",
       "      <td>0.08</td>\n",
       "    </tr>\n",
       "    <tr>\n",
       "      <th>Triple Sec</th>\n",
       "      <td>0.07</td>\n",
       "    </tr>\n",
       "    <tr>\n",
       "      <th>Imported Distilled Spirits Specialty</th>\n",
       "      <td>0.07</td>\n",
       "    </tr>\n",
       "    <tr>\n",
       "      <th>Mezcal</th>\n",
       "      <td>0.01</td>\n",
       "    </tr>\n",
       "    <tr>\n",
       "      <th>Special Order Items</th>\n",
       "      <td>0.0</td>\n",
       "    </tr>\n",
       "    <tr>\n",
       "      <th>Distilled Spirits Specialty</th>\n",
       "      <td>0.0</td>\n",
       "    </tr>\n",
       "  </tbody>\n",
       "</table>\n",
       "</div>"
      ],
      "text/plain": [
       "                                      revenue\n",
       "New_Category_Name                            \n",
       "Vodkas                                  31.27\n",
       "Whiskies                                30.19\n",
       "Rum                                     10.43\n",
       "Whiskey Liqueur                           7.2\n",
       "Tequila                                  5.08\n",
       "Bourbon                                  4.63\n",
       "Brandies                                  4.0\n",
       "Liquers                                   2.7\n",
       "Schnapps                                 1.52\n",
       "Cocktails                                0.92\n",
       "Gin                                      0.75\n",
       "Temporary & Specialty Packages           0.49\n",
       "Scotch                                    0.4\n",
       "Neutral Grain Spirits Flavored           0.12\n",
       "Neutral Grain Spirits                    0.08\n",
       "American Distilled Spirits Specialty     0.08\n",
       "Triple Sec                               0.07\n",
       "Imported Distilled Spirits Specialty     0.07\n",
       "Mezcal                                   0.01\n",
       "Special Order Items                       0.0\n",
       "Distilled Spirits Specialty               0.0"
      ]
     },
     "execution_count": 23,
     "metadata": {},
     "output_type": "execute_result"
    }
   ],
   "source": [
    "round(store_trans_cluster.groupby(['New_Category_Name'])['revenue'].sum() / store_trans_cluster.revenue.sum()*100,2).to_frame().sort_values(by='revenue', ascending=False)"
   ]
  },
  {
   "cell_type": "code",
   "execution_count": 28,
   "id": "c7c22981",
   "metadata": {},
   "outputs": [
    {
     "data": {
      "text/plain": [
       "(2473851, 19)"
      ]
     },
     "execution_count": 28,
     "metadata": {},
     "output_type": "execute_result"
    }
   ],
   "source": [
    "store_trans_cluster.shape"
   ]
  },
  {
   "cell_type": "code",
   "execution_count": 24,
   "id": "6984af1f",
   "metadata": {},
   "outputs": [],
   "source": [
    "list_other = ['Temporary & Specialty Packages', 'Neutral Grain Spirits Flavored', 'Neutral Grain Spirits', 'American Distilled Spirits Specialty', \n",
    " 'Imported Distilled Spirits Specialty', 'Special Order Items', 'Distilled Spirits Specialty']\n"
   ]
  },
  {
   "cell_type": "code",
   "execution_count": 29,
   "id": "e4bc0741",
   "metadata": {},
   "outputs": [],
   "source": [
    "\n",
    "store_trans_cluster['New_Category_Name_2'] = ['Other' if categ in list_other else categ for categ in store_trans_cluster.New_Category_Name]"
   ]
  },
  {
   "cell_type": "code",
   "execution_count": 30,
   "id": "95720913",
   "metadata": {},
   "outputs": [],
   "source": [
    "df_iowa = store_trans_cluster.groupby(['New_Category_Name_2'])['revenue'].sum().to_frame().sort_values(by='revenue', ascending=False).reset_index()"
   ]
  },
  {
   "cell_type": "code",
   "execution_count": 31,
   "id": "e756c7ff",
   "metadata": {},
   "outputs": [
    {
     "data": {
      "text/html": [
       "<div>\n",
       "<style scoped>\n",
       "    .dataframe tbody tr th:only-of-type {\n",
       "        vertical-align: middle;\n",
       "    }\n",
       "\n",
       "    .dataframe tbody tr th {\n",
       "        vertical-align: top;\n",
       "    }\n",
       "\n",
       "    .dataframe thead th {\n",
       "        text-align: right;\n",
       "    }\n",
       "</style>\n",
       "<table border=\"1\" class=\"dataframe\">\n",
       "  <thead>\n",
       "    <tr style=\"text-align: right;\">\n",
       "      <th></th>\n",
       "      <th>New_Category_Name_2</th>\n",
       "      <th>revenue</th>\n",
       "    </tr>\n",
       "  </thead>\n",
       "  <tbody>\n",
       "    <tr>\n",
       "      <th>0</th>\n",
       "      <td>Vodkas</td>\n",
       "      <td>679,048,945,260.32</td>\n",
       "    </tr>\n",
       "    <tr>\n",
       "      <th>1</th>\n",
       "      <td>Whiskies</td>\n",
       "      <td>655,550,727,496.9401</td>\n",
       "    </tr>\n",
       "    <tr>\n",
       "      <th>2</th>\n",
       "      <td>Rum</td>\n",
       "      <td>226,561,712,602.22998</td>\n",
       "    </tr>\n",
       "    <tr>\n",
       "      <th>3</th>\n",
       "      <td>Whiskey Liqueur</td>\n",
       "      <td>156,406,585,877.89</td>\n",
       "    </tr>\n",
       "    <tr>\n",
       "      <th>4</th>\n",
       "      <td>Tequila</td>\n",
       "      <td>110,284,389,217.95999</td>\n",
       "    </tr>\n",
       "    <tr>\n",
       "      <th>5</th>\n",
       "      <td>Bourbon</td>\n",
       "      <td>100,653,385,579.09</td>\n",
       "    </tr>\n",
       "    <tr>\n",
       "      <th>6</th>\n",
       "      <td>Brandies</td>\n",
       "      <td>86,769,172,664.43</td>\n",
       "    </tr>\n",
       "    <tr>\n",
       "      <th>7</th>\n",
       "      <td>Liquers</td>\n",
       "      <td>58,582,575,617.28</td>\n",
       "    </tr>\n",
       "    <tr>\n",
       "      <th>8</th>\n",
       "      <td>Schnapps</td>\n",
       "      <td>33,077,461,227.68</td>\n",
       "    </tr>\n",
       "    <tr>\n",
       "      <th>9</th>\n",
       "      <td>Cocktails</td>\n",
       "      <td>19,881,629,548.04</td>\n",
       "    </tr>\n",
       "    <tr>\n",
       "      <th>10</th>\n",
       "      <td>Other</td>\n",
       "      <td>18,210,503,137.7</td>\n",
       "    </tr>\n",
       "    <tr>\n",
       "      <th>11</th>\n",
       "      <td>Gin</td>\n",
       "      <td>16,294,162,779.12</td>\n",
       "    </tr>\n",
       "    <tr>\n",
       "      <th>12</th>\n",
       "      <td>Scotch</td>\n",
       "      <td>8,694,272,118.74</td>\n",
       "    </tr>\n",
       "    <tr>\n",
       "      <th>13</th>\n",
       "      <td>Triple Sec</td>\n",
       "      <td>1,508,109,134.93</td>\n",
       "    </tr>\n",
       "    <tr>\n",
       "      <th>14</th>\n",
       "      <td>Mezcal</td>\n",
       "      <td>118,807,635.14</td>\n",
       "    </tr>\n",
       "  </tbody>\n",
       "</table>\n",
       "</div>"
      ],
      "text/plain": [
       "   New_Category_Name_2               revenue\n",
       "0               Vodkas    679,048,945,260.32\n",
       "1             Whiskies  655,550,727,496.9401\n",
       "2                  Rum 226,561,712,602.22998\n",
       "3      Whiskey Liqueur    156,406,585,877.89\n",
       "4              Tequila 110,284,389,217.95999\n",
       "5              Bourbon    100,653,385,579.09\n",
       "6             Brandies     86,769,172,664.43\n",
       "7              Liquers     58,582,575,617.28\n",
       "8             Schnapps     33,077,461,227.68\n",
       "9            Cocktails     19,881,629,548.04\n",
       "10               Other      18,210,503,137.7\n",
       "11                 Gin     16,294,162,779.12\n",
       "12              Scotch      8,694,272,118.74\n",
       "13          Triple Sec      1,508,109,134.93\n",
       "14              Mezcal        118,807,635.14"
      ]
     },
     "execution_count": 31,
     "metadata": {},
     "output_type": "execute_result"
    }
   ],
   "source": [
    "df_iowa"
   ]
  },
  {
   "cell_type": "code",
   "execution_count": 32,
   "id": "8db77ced",
   "metadata": {},
   "outputs": [
    {
     "data": {
      "text/plain": [
       "[Text(0.5, 1.0, 'Iowa: State Revenue')]"
      ]
     },
     "execution_count": 32,
     "metadata": {},
     "output_type": "execute_result"
    },
    {
     "data": {
      "image/png": "[encoded data removed]",
      "text/plain": [
       "<Figure size 1080x576 with 1 Axes>"
      ]
     },
     "metadata": {},
     "output_type": "display_data"
    }
   ],
   "source": [
    "sns.set(font_scale=1.5)\n",
    "sns.set(rc = {'figure.figsize':(15,8)},font_scale=1.5)\n",
    "sns.set_color_codes(\"pastel\")\n",
    "bar = sns.barplot(x=\"revenue\", y=\"New_Category_Name_2\", data=df_iowa,\n",
    "            label=\"Total\", color=\"b\")\n",
    "# bar.set(xlim=(0,100),ylabel='Store Type',xlabel='Percent of Cluster')\n",
    "bar.set_xlabel('Revenue',fontsize=15)\n",
    "bar.set_ylabel('',fontsize=15)\n",
    "   \n",
    "# bar.set(xlim=(0,100))\n",
    "bar.set(title='Iowa: State Revenue')\n"
   ]
  },
  {
   "cell_type": "code",
   "execution_count": 33,
   "id": "170cd499",
   "metadata": {},
   "outputs": [],
   "source": [
    "# ['yes' if v == 1 else 'no' if v == 2 else 'idle' for v in l]\n",
    "\n",
    "# len(['Other' if categ in list_other else categ for categ in store_trans_cluster.New_Category_Name])\n",
    "store_trans_cluster['New_Category_Name_2'] = ['Other' if categ in list_other else categ for categ in store_trans_cluster.New_Category_Name]"
   ]
  },
  {
   "cell_type": "code",
   "execution_count": 34,
   "id": "9b786a0c",
   "metadata": {},
   "outputs": [],
   "source": [
    "iowa = round(store_trans_cluster.groupby(['New_Category_Name_2'])['revenue'].sum() / store_trans_cluster.revenue.sum()*100,2).to_frame().sort_values(by='revenue', ascending=False).reset_index()"
   ]
  },
  {
   "cell_type": "code",
   "execution_count": 35,
   "id": "e701237c",
   "metadata": {},
   "outputs": [
    {
     "data": {
      "text/plain": [
       "[Text(0.5, 1.0, 'Iowa')]"
      ]
     },
     "execution_count": 35,
     "metadata": {},
     "output_type": "execute_result"
    },
    {
     "data": {
      "image/png": "[encoded data removed]",
      "text/plain": [
       "<Figure size 1080x576 with 1 Axes>"
      ]
     },
     "metadata": {},
     "output_type": "display_data"
    }
   ],
   "source": [
    "sns.set(font_scale=1.5)\n",
    "sns.set(rc = {'figure.figsize':(15,8)},font_scale=1.5)\n",
    "sns.set_color_codes(\"pastel\")\n",
    "bar = sns.barplot(x=\"revenue\", y=\"New_Category_Name_2\", data=iowa,\n",
    "            label=\"Total\", color=\"b\")\n",
    "# bar.set(xlim=(0,100),ylabel='Store Type',xlabel='Percent of Cluster')\n",
    "bar.set_xlabel('Percent of Total State Revenue',fontsize=15)\n",
    "bar.set_ylabel('Category',fontsize=15)\n",
    "   \n",
    "bar.set(xlim=(0,100))\n",
    "bar.set(title='Iowa')\n"
   ]
  },
  {
   "cell_type": "code",
   "execution_count": 36,
   "id": "349e63b3",
   "metadata": {},
   "outputs": [
    {
     "data": {
      "text/plain": [
       "(2473851, 20)"
      ]
     },
     "execution_count": 36,
     "metadata": {},
     "output_type": "execute_result"
    }
   ],
   "source": [
    "store_trans_cluster.shape"
   ]
  },
  {
   "cell_type": "code",
   "execution_count": 37,
   "id": "5bf0af7f",
   "metadata": {},
   "outputs": [],
   "source": [
    "clust_dict ={'Cheap':'Moderately Priced', 'High_End':'High End', 'Moderately_High':'Expensive', \n",
    "             'Most_Variety':'Most Variety', 'Popular_Bottles':'Popular Bottles','Quick_Shots':'Quick Shots',\n",
    "            'Volume_For_Dollar':'Volume For Dollar'}\n",
    "\n",
    "\n",
    "store_trans_cluster['New_Cluster_Name'] = store_trans_cluster['cluster_name'].map(clust_dict)"
   ]
  },
  {
   "cell_type": "code",
   "execution_count": 38,
   "id": "8fded458",
   "metadata": {},
   "outputs": [],
   "source": [
    "tot_revenue_clusters = store_trans_cluster.groupby(['New_Cluster_Name']).agg({'revenue':'sum'})"
   ]
  },
  {
   "cell_type": "code",
   "execution_count": 39,
   "id": "c564dfea",
   "metadata": {},
   "outputs": [],
   "source": [
    "tot_revenue_clusters = tot_revenue_clusters.reset_index()"
   ]
  },
  {
   "cell_type": "code",
   "execution_count": 40,
   "id": "452c9bfa",
   "metadata": {},
   "outputs": [
    {
     "data": {
      "text/html": [
       "<div>\n",
       "<style scoped>\n",
       "    .dataframe tbody tr th:only-of-type {\n",
       "        vertical-align: middle;\n",
       "    }\n",
       "\n",
       "    .dataframe tbody tr th {\n",
       "        vertical-align: top;\n",
       "    }\n",
       "\n",
       "    .dataframe thead th {\n",
       "        text-align: right;\n",
       "    }\n",
       "</style>\n",
       "<table border=\"1\" class=\"dataframe\">\n",
       "  <thead>\n",
       "    <tr style=\"text-align: right;\">\n",
       "      <th></th>\n",
       "      <th>cluster_name</th>\n",
       "      <th>cluster_total_revenue</th>\n",
       "    </tr>\n",
       "  </thead>\n",
       "  <tbody>\n",
       "    <tr>\n",
       "      <th>0</th>\n",
       "      <td>Expensive</td>\n",
       "      <td>19,697,935,241.34</td>\n",
       "    </tr>\n",
       "    <tr>\n",
       "      <th>1</th>\n",
       "      <td>High End</td>\n",
       "      <td>1,063,769,105.46</td>\n",
       "    </tr>\n",
       "    <tr>\n",
       "      <th>2</th>\n",
       "      <td>Moderately Priced</td>\n",
       "      <td>398,775,088,141.05</td>\n",
       "    </tr>\n",
       "    <tr>\n",
       "      <th>3</th>\n",
       "      <td>Most Variety</td>\n",
       "      <td>108,699,996,632.98</td>\n",
       "    </tr>\n",
       "    <tr>\n",
       "      <th>4</th>\n",
       "      <td>Popular Bottles</td>\n",
       "      <td>1,361,968,771,503.28</td>\n",
       "    </tr>\n",
       "    <tr>\n",
       "      <th>5</th>\n",
       "      <td>Quick Shots</td>\n",
       "      <td>23,198,511,203.05</td>\n",
       "    </tr>\n",
       "    <tr>\n",
       "      <th>6</th>\n",
       "      <td>Volume For Dollar</td>\n",
       "      <td>258,238,368,070.33002</td>\n",
       "    </tr>\n",
       "  </tbody>\n",
       "</table>\n",
       "</div>"
      ],
      "text/plain": [
       "        cluster_name  cluster_total_revenue\n",
       "0          Expensive      19,697,935,241.34\n",
       "1           High End       1,063,769,105.46\n",
       "2  Moderately Priced     398,775,088,141.05\n",
       "3       Most Variety     108,699,996,632.98\n",
       "4    Popular Bottles   1,361,968,771,503.28\n",
       "5        Quick Shots      23,198,511,203.05\n",
       "6  Volume For Dollar  258,238,368,070.33002"
      ]
     },
     "execution_count": 40,
     "metadata": {},
     "output_type": "execute_result"
    }
   ],
   "source": [
    "# rename columns\n",
    "tot_revenue_clusters.columns = ['cluster_name','cluster_total_revenue']\n",
    "tot_revenue_clusters"
   ]
  },
  {
   "cell_type": "code",
   "execution_count": 41,
   "id": "024027e6",
   "metadata": {},
   "outputs": [],
   "source": [
    "clust_dict ={'Cheap':'Moderately Priced', 'High_End':'High End', 'Moderately_High':'Expensive', \n",
    "             'Most_Variety':'Most Variety', 'Popular_Bottles':'Popular Bottles','Quick_Shots':'Quick Shots',\n",
    "            'Volume_For_Dollar':'Volume For Dollar'}\n",
    "\n",
    "\n",
    "store_trans_cluster['New_Cluster_Name'] = store_trans_cluster['cluster_name'].map(clust_dict)"
   ]
  },
  {
   "cell_type": "code",
   "execution_count": 42,
   "id": "3cdb81e7",
   "metadata": {},
   "outputs": [],
   "source": [
    "cluster_revenue_by_New_Category_Name = store_trans_cluster.groupby(['New_Cluster_Name','New_Category_Name_2']).agg({'revenue':'sum','Item_Number':'nunique'})  "
   ]
  },
  {
   "cell_type": "code",
   "execution_count": 43,
   "id": "b1b97f4c",
   "metadata": {},
   "outputs": [],
   "source": [
    "cluster_revenue_by_New_Category_Name = cluster_revenue_by_New_Category_Name.reset_index()"
   ]
  },
  {
   "cell_type": "code",
   "execution_count": 44,
   "id": "e7a11c45",
   "metadata": {},
   "outputs": [
    {
     "data": {
      "text/html": [
       "<div>\n",
       "<style scoped>\n",
       "    .dataframe tbody tr th:only-of-type {\n",
       "        vertical-align: middle;\n",
       "    }\n",
       "\n",
       "    .dataframe tbody tr th {\n",
       "        vertical-align: top;\n",
       "    }\n",
       "\n",
       "    .dataframe thead th {\n",
       "        text-align: right;\n",
       "    }\n",
       "</style>\n",
       "<table border=\"1\" class=\"dataframe\">\n",
       "  <thead>\n",
       "    <tr style=\"text-align: right;\">\n",
       "      <th></th>\n",
       "      <th>New_Cluster_Name</th>\n",
       "      <th>New_Category_Name_2</th>\n",
       "      <th>revenue</th>\n",
       "      <th>Item_Number</th>\n",
       "    </tr>\n",
       "  </thead>\n",
       "  <tbody>\n",
       "    <tr>\n",
       "      <th>0</th>\n",
       "      <td>Expensive</td>\n",
       "      <td>Bourbon</td>\n",
       "      <td>2,981,859,161.62</td>\n",
       "      <td>160</td>\n",
       "    </tr>\n",
       "    <tr>\n",
       "      <th>1</th>\n",
       "      <td>Expensive</td>\n",
       "      <td>Brandies</td>\n",
       "      <td>1,911,292,023.31</td>\n",
       "      <td>32</td>\n",
       "    </tr>\n",
       "    <tr>\n",
       "      <th>2</th>\n",
       "      <td>Expensive</td>\n",
       "      <td>Cocktails</td>\n",
       "      <td>4,009,543.2</td>\n",
       "      <td>2</td>\n",
       "    </tr>\n",
       "    <tr>\n",
       "      <th>3</th>\n",
       "      <td>Expensive</td>\n",
       "      <td>Gin</td>\n",
       "      <td>7,589,214.640000001</td>\n",
       "      <td>17</td>\n",
       "    </tr>\n",
       "    <tr>\n",
       "      <th>4</th>\n",
       "      <td>Expensive</td>\n",
       "      <td>Liquers</td>\n",
       "      <td>1,382,734,328.64</td>\n",
       "      <td>17</td>\n",
       "    </tr>\n",
       "  </tbody>\n",
       "</table>\n",
       "</div>"
      ],
      "text/plain": [
       "  New_Cluster_Name New_Category_Name_2             revenue  Item_Number\n",
       "0        Expensive             Bourbon    2,981,859,161.62          160\n",
       "1        Expensive            Brandies    1,911,292,023.31           32\n",
       "2        Expensive           Cocktails         4,009,543.2            2\n",
       "3        Expensive                 Gin 7,589,214.640000001           17\n",
       "4        Expensive             Liquers    1,382,734,328.64           17"
      ]
     },
     "execution_count": 44,
     "metadata": {},
     "output_type": "execute_result"
    }
   ],
   "source": [
    "pd.set_option('display.max_columns', None)\n",
    "\n",
    "pd.set_option('display.max_rows', None)\n",
    "\n",
    "cluster_revenue_by_New_Category_Name.head() #New_Category_Name_2"
   ]
  },
  {
   "cell_type": "code",
   "execution_count": 52,
   "id": "14ba336d",
   "metadata": {},
   "outputs": [
    {
     "data": {
      "text/html": [
       "<div>\n",
       "<style scoped>\n",
       "    .dataframe tbody tr th:only-of-type {\n",
       "        vertical-align: middle;\n",
       "    }\n",
       "\n",
       "    .dataframe tbody tr th {\n",
       "        vertical-align: top;\n",
       "    }\n",
       "\n",
       "    .dataframe thead th {\n",
       "        text-align: right;\n",
       "    }\n",
       "</style>\n",
       "<table border=\"1\" class=\"dataframe\">\n",
       "  <thead>\n",
       "    <tr style=\"text-align: right;\">\n",
       "      <th></th>\n",
       "      <th>cluster_name</th>\n",
       "      <th>New_Category_Name_2</th>\n",
       "      <th>revenue</th>\n",
       "      <th>Item_Number</th>\n",
       "    </tr>\n",
       "  </thead>\n",
       "  <tbody>\n",
       "    <tr>\n",
       "      <th>0</th>\n",
       "      <td>Expensive</td>\n",
       "      <td>Bourbon</td>\n",
       "      <td>2,981,859,161.62</td>\n",
       "      <td>160</td>\n",
       "    </tr>\n",
       "    <tr>\n",
       "      <th>1</th>\n",
       "      <td>Expensive</td>\n",
       "      <td>Brandies</td>\n",
       "      <td>1,911,292,023.31</td>\n",
       "      <td>32</td>\n",
       "    </tr>\n",
       "    <tr>\n",
       "      <th>2</th>\n",
       "      <td>Expensive</td>\n",
       "      <td>Cocktails</td>\n",
       "      <td>4,009,543.2</td>\n",
       "      <td>2</td>\n",
       "    </tr>\n",
       "    <tr>\n",
       "      <th>3</th>\n",
       "      <td>Expensive</td>\n",
       "      <td>Gin</td>\n",
       "      <td>7,589,214.640000001</td>\n",
       "      <td>17</td>\n",
       "    </tr>\n",
       "    <tr>\n",
       "      <th>4</th>\n",
       "      <td>Expensive</td>\n",
       "      <td>Liquers</td>\n",
       "      <td>1,382,734,328.64</td>\n",
       "      <td>17</td>\n",
       "    </tr>\n",
       "  </tbody>\n",
       "</table>\n",
       "</div>"
      ],
      "text/plain": [
       "  cluster_name New_Category_Name_2             revenue  Item_Number\n",
       "0    Expensive             Bourbon    2,981,859,161.62          160\n",
       "1    Expensive            Brandies    1,911,292,023.31           32\n",
       "2    Expensive           Cocktails         4,009,543.2            2\n",
       "3    Expensive                 Gin 7,589,214.640000001           17\n",
       "4    Expensive             Liquers    1,382,734,328.64           17"
      ]
     },
     "execution_count": 52,
     "metadata": {},
     "output_type": "execute_result"
    }
   ],
   "source": [
    "# rename columns\n",
    "cluster_revenue_by_New_Category_Name.columns = ['cluster_name','New_Category_Name_2','revenue','Item_Number']\n",
    "cluster_revenue_by_New_Category_Name.head()"
   ]
  },
  {
   "cell_type": "code",
   "execution_count": 53,
   "id": "8a2fc7f4",
   "metadata": {},
   "outputs": [
    {
     "data": {
      "text/html": [
       "<div>\n",
       "<style scoped>\n",
       "    .dataframe tbody tr th:only-of-type {\n",
       "        vertical-align: middle;\n",
       "    }\n",
       "\n",
       "    .dataframe tbody tr th {\n",
       "        vertical-align: top;\n",
       "    }\n",
       "\n",
       "    .dataframe thead th {\n",
       "        text-align: right;\n",
       "    }\n",
       "</style>\n",
       "<table border=\"1\" class=\"dataframe\">\n",
       "  <thead>\n",
       "    <tr style=\"text-align: right;\">\n",
       "      <th></th>\n",
       "      <th>cluster_name</th>\n",
       "      <th>cluster_total_revenue</th>\n",
       "    </tr>\n",
       "  </thead>\n",
       "  <tbody>\n",
       "    <tr>\n",
       "      <th>0</th>\n",
       "      <td>Expensive</td>\n",
       "      <td>19,697,935,241.34</td>\n",
       "    </tr>\n",
       "    <tr>\n",
       "      <th>1</th>\n",
       "      <td>High End</td>\n",
       "      <td>1,063,769,105.46</td>\n",
       "    </tr>\n",
       "    <tr>\n",
       "      <th>2</th>\n",
       "      <td>Moderately Priced</td>\n",
       "      <td>398,775,088,141.05</td>\n",
       "    </tr>\n",
       "    <tr>\n",
       "      <th>3</th>\n",
       "      <td>Most Variety</td>\n",
       "      <td>108,699,996,632.98</td>\n",
       "    </tr>\n",
       "    <tr>\n",
       "      <th>4</th>\n",
       "      <td>Popular Bottles</td>\n",
       "      <td>1,361,968,771,503.28</td>\n",
       "    </tr>\n",
       "  </tbody>\n",
       "</table>\n",
       "</div>"
      ],
      "text/plain": [
       "        cluster_name  cluster_total_revenue\n",
       "0          Expensive      19,697,935,241.34\n",
       "1           High End       1,063,769,105.46\n",
       "2  Moderately Priced     398,775,088,141.05\n",
       "3       Most Variety     108,699,996,632.98\n",
       "4    Popular Bottles   1,361,968,771,503.28"
      ]
     },
     "execution_count": 53,
     "metadata": {},
     "output_type": "execute_result"
    }
   ],
   "source": [
    "tot_revenue_clusters.head()"
   ]
  },
  {
   "cell_type": "code",
   "execution_count": 54,
   "id": "bf512880",
   "metadata": {},
   "outputs": [],
   "source": [
    "# us.merge(census_combined4,how='inner',left_on='ZCTA5CE20', right_on='Zip_Code')\n",
    "cluster_revenue_pct = cluster_revenue_by_New_Category_Name.merge(tot_revenue_clusters, how='inner')"
   ]
  },
  {
   "cell_type": "code",
   "execution_count": 55,
   "id": "560f4dad",
   "metadata": {},
   "outputs": [
    {
     "data": {
      "text/html": [
       "<div>\n",
       "<style scoped>\n",
       "    .dataframe tbody tr th:only-of-type {\n",
       "        vertical-align: middle;\n",
       "    }\n",
       "\n",
       "    .dataframe tbody tr th {\n",
       "        vertical-align: top;\n",
       "    }\n",
       "\n",
       "    .dataframe thead th {\n",
       "        text-align: right;\n",
       "    }\n",
       "</style>\n",
       "<table border=\"1\" class=\"dataframe\">\n",
       "  <thead>\n",
       "    <tr style=\"text-align: right;\">\n",
       "      <th></th>\n",
       "      <th>cluster_name</th>\n",
       "      <th>New_Category_Name_2</th>\n",
       "      <th>revenue</th>\n",
       "      <th>Item_Number</th>\n",
       "      <th>cluster_total_revenue</th>\n",
       "    </tr>\n",
       "  </thead>\n",
       "  <tbody>\n",
       "    <tr>\n",
       "      <th>0</th>\n",
       "      <td>Expensive</td>\n",
       "      <td>Bourbon</td>\n",
       "      <td>2,981,859,161.62</td>\n",
       "      <td>160</td>\n",
       "      <td>19,697,935,241.34</td>\n",
       "    </tr>\n",
       "    <tr>\n",
       "      <th>1</th>\n",
       "      <td>Expensive</td>\n",
       "      <td>Brandies</td>\n",
       "      <td>1,911,292,023.31</td>\n",
       "      <td>32</td>\n",
       "      <td>19,697,935,241.34</td>\n",
       "    </tr>\n",
       "    <tr>\n",
       "      <th>2</th>\n",
       "      <td>Expensive</td>\n",
       "      <td>Cocktails</td>\n",
       "      <td>4,009,543.2</td>\n",
       "      <td>2</td>\n",
       "      <td>19,697,935,241.34</td>\n",
       "    </tr>\n",
       "    <tr>\n",
       "      <th>3</th>\n",
       "      <td>Expensive</td>\n",
       "      <td>Gin</td>\n",
       "      <td>7,589,214.640000001</td>\n",
       "      <td>17</td>\n",
       "      <td>19,697,935,241.34</td>\n",
       "    </tr>\n",
       "    <tr>\n",
       "      <th>4</th>\n",
       "      <td>Expensive</td>\n",
       "      <td>Liquers</td>\n",
       "      <td>1,382,734,328.64</td>\n",
       "      <td>17</td>\n",
       "      <td>19,697,935,241.34</td>\n",
       "    </tr>\n",
       "    <tr>\n",
       "      <th>5</th>\n",
       "      <td>Expensive</td>\n",
       "      <td>Mezcal</td>\n",
       "      <td>51,877,505.0</td>\n",
       "      <td>28</td>\n",
       "      <td>19,697,935,241.34</td>\n",
       "    </tr>\n",
       "    <tr>\n",
       "      <th>6</th>\n",
       "      <td>Expensive</td>\n",
       "      <td>Other</td>\n",
       "      <td>673,919,932.47</td>\n",
       "      <td>184</td>\n",
       "      <td>19,697,935,241.34</td>\n",
       "    </tr>\n",
       "    <tr>\n",
       "      <th>7</th>\n",
       "      <td>Expensive</td>\n",
       "      <td>Rum</td>\n",
       "      <td>27,361,626.06</td>\n",
       "      <td>34</td>\n",
       "      <td>19,697,935,241.34</td>\n",
       "    </tr>\n",
       "    <tr>\n",
       "      <th>8</th>\n",
       "      <td>Expensive</td>\n",
       "      <td>Scotch</td>\n",
       "      <td>2,829,671,262.01</td>\n",
       "      <td>124</td>\n",
       "      <td>19,697,935,241.34</td>\n",
       "    </tr>\n",
       "    <tr>\n",
       "      <th>9</th>\n",
       "      <td>Expensive</td>\n",
       "      <td>Tequila</td>\n",
       "      <td>8,792,029,003.92</td>\n",
       "      <td>111</td>\n",
       "      <td>19,697,935,241.34</td>\n",
       "    </tr>\n",
       "    <tr>\n",
       "      <th>10</th>\n",
       "      <td>Expensive</td>\n",
       "      <td>Vodkas</td>\n",
       "      <td>51,485,459.129999995</td>\n",
       "      <td>11</td>\n",
       "      <td>19,697,935,241.34</td>\n",
       "    </tr>\n",
       "    <tr>\n",
       "      <th>11</th>\n",
       "      <td>Expensive</td>\n",
       "      <td>Whiskey Liqueur</td>\n",
       "      <td>1,914,629.46</td>\n",
       "      <td>3</td>\n",
       "      <td>19,697,935,241.34</td>\n",
       "    </tr>\n",
       "    <tr>\n",
       "      <th>12</th>\n",
       "      <td>Expensive</td>\n",
       "      <td>Whiskies</td>\n",
       "      <td>982,191,551.88</td>\n",
       "      <td>154</td>\n",
       "      <td>19,697,935,241.34</td>\n",
       "    </tr>\n",
       "    <tr>\n",
       "      <th>13</th>\n",
       "      <td>High End</td>\n",
       "      <td>Bourbon</td>\n",
       "      <td>31,133,330.64</td>\n",
       "      <td>13</td>\n",
       "      <td>1,063,769,105.46</td>\n",
       "    </tr>\n",
       "    <tr>\n",
       "      <th>14</th>\n",
       "      <td>High End</td>\n",
       "      <td>Brandies</td>\n",
       "      <td>205,084,172.67</td>\n",
       "      <td>3</td>\n",
       "      <td>1,063,769,105.46</td>\n",
       "    </tr>\n",
       "    <tr>\n",
       "      <th>15</th>\n",
       "      <td>High End</td>\n",
       "      <td>Cocktails</td>\n",
       "      <td>98,222.40000000001</td>\n",
       "      <td>4</td>\n",
       "      <td>1,063,769,105.46</td>\n",
       "    </tr>\n",
       "    <tr>\n",
       "      <th>16</th>\n",
       "      <td>High End</td>\n",
       "      <td>Gin</td>\n",
       "      <td>217.5</td>\n",
       "      <td>1</td>\n",
       "      <td>1,063,769,105.46</td>\n",
       "    </tr>\n",
       "    <tr>\n",
       "      <th>17</th>\n",
       "      <td>High End</td>\n",
       "      <td>Liquers</td>\n",
       "      <td>8,216,100.0</td>\n",
       "      <td>2</td>\n",
       "      <td>1,063,769,105.46</td>\n",
       "    </tr>\n",
       "    <tr>\n",
       "      <th>18</th>\n",
       "      <td>High End</td>\n",
       "      <td>Mezcal</td>\n",
       "      <td>7,878.360000000001</td>\n",
       "      <td>6</td>\n",
       "      <td>1,063,769,105.46</td>\n",
       "    </tr>\n",
       "    <tr>\n",
       "      <th>19</th>\n",
       "      <td>High End</td>\n",
       "      <td>Other</td>\n",
       "      <td>54,487,013.27</td>\n",
       "      <td>38</td>\n",
       "      <td>1,063,769,105.46</td>\n",
       "    </tr>\n",
       "    <tr>\n",
       "      <th>20</th>\n",
       "      <td>High End</td>\n",
       "      <td>Rum</td>\n",
       "      <td>15,199.22</td>\n",
       "      <td>5</td>\n",
       "      <td>1,063,769,105.46</td>\n",
       "    </tr>\n",
       "    <tr>\n",
       "      <th>21</th>\n",
       "      <td>High End</td>\n",
       "      <td>Scotch</td>\n",
       "      <td>237,291,122.39000002</td>\n",
       "      <td>33</td>\n",
       "      <td>1,063,769,105.46</td>\n",
       "    </tr>\n",
       "    <tr>\n",
       "      <th>22</th>\n",
       "      <td>High End</td>\n",
       "      <td>Tequila</td>\n",
       "      <td>462,104,322.58000004</td>\n",
       "      <td>24</td>\n",
       "      <td>1,063,769,105.46</td>\n",
       "    </tr>\n",
       "    <tr>\n",
       "      <th>23</th>\n",
       "      <td>High End</td>\n",
       "      <td>Vodkas</td>\n",
       "      <td>8,540.66</td>\n",
       "      <td>2</td>\n",
       "      <td>1,063,769,105.46</td>\n",
       "    </tr>\n",
       "    <tr>\n",
       "      <th>24</th>\n",
       "      <td>High End</td>\n",
       "      <td>Whiskey Liqueur</td>\n",
       "      <td>907.53</td>\n",
       "      <td>2</td>\n",
       "      <td>1,063,769,105.46</td>\n",
       "    </tr>\n",
       "    <tr>\n",
       "      <th>25</th>\n",
       "      <td>High End</td>\n",
       "      <td>Whiskies</td>\n",
       "      <td>65,322,078.24</td>\n",
       "      <td>24</td>\n",
       "      <td>1,063,769,105.46</td>\n",
       "    </tr>\n",
       "    <tr>\n",
       "      <th>26</th>\n",
       "      <td>Moderately Priced</td>\n",
       "      <td>Bourbon</td>\n",
       "      <td>66,614,259,808.74</td>\n",
       "      <td>14</td>\n",
       "      <td>398,775,088,141.05</td>\n",
       "    </tr>\n",
       "    <tr>\n",
       "      <th>27</th>\n",
       "      <td>Moderately Priced</td>\n",
       "      <td>Brandies</td>\n",
       "      <td>39,855,678,524.59</td>\n",
       "      <td>11</td>\n",
       "      <td>398,775,088,141.05</td>\n",
       "    </tr>\n",
       "    <tr>\n",
       "      <th>28</th>\n",
       "      <td>Moderately Priced</td>\n",
       "      <td>Gin</td>\n",
       "      <td>6,583,933,052.59</td>\n",
       "      <td>5</td>\n",
       "      <td>398,775,088,141.05</td>\n",
       "    </tr>\n",
       "    <tr>\n",
       "      <th>29</th>\n",
       "      <td>Moderately Priced</td>\n",
       "      <td>Liquers</td>\n",
       "      <td>34,647,074,330.19</td>\n",
       "      <td>10</td>\n",
       "      <td>398,775,088,141.05</td>\n",
       "    </tr>\n",
       "    <tr>\n",
       "      <th>30</th>\n",
       "      <td>Moderately Priced</td>\n",
       "      <td>Other</td>\n",
       "      <td>11,949,980,366.49</td>\n",
       "      <td>4</td>\n",
       "      <td>398,775,088,141.05</td>\n",
       "    </tr>\n",
       "    <tr>\n",
       "      <th>31</th>\n",
       "      <td>Moderately Priced</td>\n",
       "      <td>Rum</td>\n",
       "      <td>36,636,054,735.98</td>\n",
       "      <td>13</td>\n",
       "      <td>398,775,088,141.05</td>\n",
       "    </tr>\n",
       "    <tr>\n",
       "      <th>32</th>\n",
       "      <td>Moderately Priced</td>\n",
       "      <td>Schnapps</td>\n",
       "      <td>20,305,948,837.899998</td>\n",
       "      <td>5</td>\n",
       "      <td>398,775,088,141.05</td>\n",
       "    </tr>\n",
       "    <tr>\n",
       "      <th>33</th>\n",
       "      <td>Moderately Priced</td>\n",
       "      <td>Tequila</td>\n",
       "      <td>36,194,298,150.409996</td>\n",
       "      <td>11</td>\n",
       "      <td>398,775,088,141.05</td>\n",
       "    </tr>\n",
       "    <tr>\n",
       "      <th>34</th>\n",
       "      <td>Moderately Priced</td>\n",
       "      <td>Triple Sec</td>\n",
       "      <td>1,346,709,763.02</td>\n",
       "      <td>3</td>\n",
       "      <td>398,775,088,141.05</td>\n",
       "    </tr>\n",
       "    <tr>\n",
       "      <th>35</th>\n",
       "      <td>Moderately Priced</td>\n",
       "      <td>Vodkas</td>\n",
       "      <td>60,483,854,888.42</td>\n",
       "      <td>34</td>\n",
       "      <td>398,775,088,141.05</td>\n",
       "    </tr>\n",
       "    <tr>\n",
       "      <th>36</th>\n",
       "      <td>Moderately Priced</td>\n",
       "      <td>Whiskey Liqueur</td>\n",
       "      <td>7,356,740,264.45</td>\n",
       "      <td>4</td>\n",
       "      <td>398,775,088,141.05</td>\n",
       "    </tr>\n",
       "    <tr>\n",
       "      <th>37</th>\n",
       "      <td>Moderately Priced</td>\n",
       "      <td>Whiskies</td>\n",
       "      <td>76,800,555,418.27</td>\n",
       "      <td>22</td>\n",
       "      <td>398,775,088,141.05</td>\n",
       "    </tr>\n",
       "    <tr>\n",
       "      <th>38</th>\n",
       "      <td>Most Variety</td>\n",
       "      <td>Bourbon</td>\n",
       "      <td>11,754,627,483.1</td>\n",
       "      <td>133</td>\n",
       "      <td>108,699,996,632.98</td>\n",
       "    </tr>\n",
       "    <tr>\n",
       "      <th>39</th>\n",
       "      <td>Most Variety</td>\n",
       "      <td>Brandies</td>\n",
       "      <td>4,202,716,975.7</td>\n",
       "      <td>91</td>\n",
       "      <td>108,699,996,632.98</td>\n",
       "    </tr>\n",
       "    <tr>\n",
       "      <th>40</th>\n",
       "      <td>Most Variety</td>\n",
       "      <td>Cocktails</td>\n",
       "      <td>481,513,919.86</td>\n",
       "      <td>23</td>\n",
       "      <td>108,699,996,632.98</td>\n",
       "    </tr>\n",
       "    <tr>\n",
       "      <th>41</th>\n",
       "      <td>Most Variety</td>\n",
       "      <td>Gin</td>\n",
       "      <td>5,590,357,406.17</td>\n",
       "      <td>115</td>\n",
       "      <td>108,699,996,632.98</td>\n",
       "    </tr>\n",
       "    <tr>\n",
       "      <th>42</th>\n",
       "      <td>Most Variety</td>\n",
       "      <td>Liquers</td>\n",
       "      <td>17,377,124,792.23</td>\n",
       "      <td>255</td>\n",
       "      <td>108,699,996,632.98</td>\n",
       "    </tr>\n",
       "    <tr>\n",
       "      <th>43</th>\n",
       "      <td>Most Variety</td>\n",
       "      <td>Mezcal</td>\n",
       "      <td>66,922,251.78</td>\n",
       "      <td>16</td>\n",
       "      <td>108,699,996,632.98</td>\n",
       "    </tr>\n",
       "    <tr>\n",
       "      <th>44</th>\n",
       "      <td>Most Variety</td>\n",
       "      <td>Other</td>\n",
       "      <td>4,207,877,307.69</td>\n",
       "      <td>407</td>\n",
       "      <td>108,699,996,632.98</td>\n",
       "    </tr>\n",
       "    <tr>\n",
       "      <th>45</th>\n",
       "      <td>Most Variety</td>\n",
       "      <td>Rum</td>\n",
       "      <td>10,305,356,026.62</td>\n",
       "      <td>216</td>\n",
       "      <td>108,699,996,632.98</td>\n",
       "    </tr>\n",
       "    <tr>\n",
       "      <th>46</th>\n",
       "      <td>Most Variety</td>\n",
       "      <td>Schnapps</td>\n",
       "      <td>6,041,009,519.74</td>\n",
       "      <td>88</td>\n",
       "      <td>108,699,996,632.98</td>\n",
       "    </tr>\n",
       "    <tr>\n",
       "      <th>47</th>\n",
       "      <td>Most Variety</td>\n",
       "      <td>Scotch</td>\n",
       "      <td>3,859,568,089.35</td>\n",
       "      <td>53</td>\n",
       "      <td>108,699,996,632.98</td>\n",
       "    </tr>\n",
       "    <tr>\n",
       "      <th>48</th>\n",
       "      <td>Most Variety</td>\n",
       "      <td>Tequila</td>\n",
       "      <td>11,001,355,443.1</td>\n",
       "      <td>124</td>\n",
       "      <td>108,699,996,632.98</td>\n",
       "    </tr>\n",
       "    <tr>\n",
       "      <th>49</th>\n",
       "      <td>Most Variety</td>\n",
       "      <td>Triple Sec</td>\n",
       "      <td>161,399,371.91</td>\n",
       "      <td>7</td>\n",
       "      <td>108,699,996,632.98</td>\n",
       "    </tr>\n",
       "  </tbody>\n",
       "</table>\n",
       "</div>"
      ],
      "text/plain": [
       "         cluster_name New_Category_Name_2               revenue  Item_Number  \\\n",
       "0           Expensive             Bourbon      2,981,859,161.62          160   \n",
       "1           Expensive            Brandies      1,911,292,023.31           32   \n",
       "2           Expensive           Cocktails           4,009,543.2            2   \n",
       "3           Expensive                 Gin   7,589,214.640000001           17   \n",
       "4           Expensive             Liquers      1,382,734,328.64           17   \n",
       "5           Expensive              Mezcal          51,877,505.0           28   \n",
       "6           Expensive               Other        673,919,932.47          184   \n",
       "7           Expensive                 Rum         27,361,626.06           34   \n",
       "8           Expensive              Scotch      2,829,671,262.01          124   \n",
       "9           Expensive             Tequila      8,792,029,003.92          111   \n",
       "10          Expensive              Vodkas  51,485,459.129999995           11   \n",
       "11          Expensive     Whiskey Liqueur          1,914,629.46            3   \n",
       "12          Expensive            Whiskies        982,191,551.88          154   \n",
       "13           High End             Bourbon         31,133,330.64           13   \n",
       "14           High End            Brandies        205,084,172.67            3   \n",
       "15           High End           Cocktails    98,222.40000000001            4   \n",
       "16           High End                 Gin                 217.5            1   \n",
       "17           High End             Liquers           8,216,100.0            2   \n",
       "18           High End              Mezcal    7,878.360000000001            6   \n",
       "19           High End               Other         54,487,013.27           38   \n",
       "20           High End                 Rum             15,199.22            5   \n",
       "21           High End              Scotch  237,291,122.39000002           33   \n",
       "22           High End             Tequila  462,104,322.58000004           24   \n",
       "23           High End              Vodkas              8,540.66            2   \n",
       "24           High End     Whiskey Liqueur                907.53            2   \n",
       "25           High End            Whiskies         65,322,078.24           24   \n",
       "26  Moderately Priced             Bourbon     66,614,259,808.74           14   \n",
       "27  Moderately Priced            Brandies     39,855,678,524.59           11   \n",
       "28  Moderately Priced                 Gin      6,583,933,052.59            5   \n",
       "29  Moderately Priced             Liquers     34,647,074,330.19           10   \n",
       "30  Moderately Priced               Other     11,949,980,366.49            4   \n",
       "31  Moderately Priced                 Rum     36,636,054,735.98           13   \n",
       "32  Moderately Priced            Schnapps 20,305,948,837.899998            5   \n",
       "33  Moderately Priced             Tequila 36,194,298,150.409996           11   \n",
       "34  Moderately Priced          Triple Sec      1,346,709,763.02            3   \n",
       "35  Moderately Priced              Vodkas     60,483,854,888.42           34   \n",
       "36  Moderately Priced     Whiskey Liqueur      7,356,740,264.45            4   \n",
       "37  Moderately Priced            Whiskies     76,800,555,418.27           22   \n",
       "38       Most Variety             Bourbon      11,754,627,483.1          133   \n",
       "39       Most Variety            Brandies       4,202,716,975.7           91   \n",
       "40       Most Variety           Cocktails        481,513,919.86           23   \n",
       "41       Most Variety                 Gin      5,590,357,406.17          115   \n",
       "42       Most Variety             Liquers     17,377,124,792.23          255   \n",
       "43       Most Variety              Mezcal         66,922,251.78           16   \n",
       "44       Most Variety               Other      4,207,877,307.69          407   \n",
       "45       Most Variety                 Rum     10,305,356,026.62          216   \n",
       "46       Most Variety            Schnapps      6,041,009,519.74           88   \n",
       "47       Most Variety              Scotch      3,859,568,089.35           53   \n",
       "48       Most Variety             Tequila      11,001,355,443.1          124   \n",
       "49       Most Variety          Triple Sec        161,399,371.91            7   \n",
       "\n",
       "    cluster_total_revenue  \n",
       "0       19,697,935,241.34  \n",
       "1       19,697,935,241.34  \n",
       "2       19,697,935,241.34  \n",
       "3       19,697,935,241.34  \n",
       "4       19,697,935,241.34  \n",
       "5       19,697,935,241.34  \n",
       "6       19,697,935,241.34  \n",
       "7       19,697,935,241.34  \n",
       "8       19,697,935,241.34  \n",
       "9       19,697,935,241.34  \n",
       "10      19,697,935,241.34  \n",
       "11      19,697,935,241.34  \n",
       "12      19,697,935,241.34  \n",
       "13       1,063,769,105.46  \n",
       "14       1,063,769,105.46  \n",
       "15       1,063,769,105.46  \n",
       "16       1,063,769,105.46  \n",
       "17       1,063,769,105.46  \n",
       "18       1,063,769,105.46  \n",
       "19       1,063,769,105.46  \n",
       "20       1,063,769,105.46  \n",
       "21       1,063,769,105.46  \n",
       "22       1,063,769,105.46  \n",
       "23       1,063,769,105.46  \n",
       "24       1,063,769,105.46  \n",
       "25       1,063,769,105.46  \n",
       "26     398,775,088,141.05  \n",
       "27     398,775,088,141.05  \n",
       "28     398,775,088,141.05  \n",
       "29     398,775,088,141.05  \n",
       "30     398,775,088,141.05  \n",
       "31     398,775,088,141.05  \n",
       "32     398,775,088,141.05  \n",
       "33     398,775,088,141.05  \n",
       "34     398,775,088,141.05  \n",
       "35     398,775,088,141.05  \n",
       "36     398,775,088,141.05  \n",
       "37     398,775,088,141.05  \n",
       "38     108,699,996,632.98  \n",
       "39     108,699,996,632.98  \n",
       "40     108,699,996,632.98  \n",
       "41     108,699,996,632.98  \n",
       "42     108,699,996,632.98  \n",
       "43     108,699,996,632.98  \n",
       "44     108,699,996,632.98  \n",
       "45     108,699,996,632.98  \n",
       "46     108,699,996,632.98  \n",
       "47     108,699,996,632.98  \n",
       "48     108,699,996,632.98  \n",
       "49     108,699,996,632.98  "
      ]
     },
     "execution_count": 55,
     "metadata": {},
     "output_type": "execute_result"
    }
   ],
   "source": [
    "cluster_revenue_pct.head(50)"
   ]
  },
  {
   "cell_type": "code",
   "execution_count": 56,
   "id": "098da945",
   "metadata": {},
   "outputs": [],
   "source": [
    "cluster_revenue_pct['revenue_pct'] = round(cluster_revenue_pct.revenue / cluster_revenue_pct.cluster_total_revenue *100,2)"
   ]
  },
  {
   "cell_type": "code",
   "execution_count": null,
   "id": "63923f67",
   "metadata": {},
   "outputs": [],
   "source": [
    "combined= compare_percent('age')\n",
    "combined['Percent']= round(combined['Percent'])\n",
    "\n",
    "# set style\n",
    "sns.set_style('darkgrid')\n",
    "\n",
    "color_order=['Kitten','Young','Adult','Senior']\n",
    "chart = sns.factorplot(y='age', x='Percent', col='Days_On_Site', data=combined, kind='bar', ci=False, \\\n",
    "                       order=color_order,palette='Blues')#,estimator=x)  #,color='skyblue'\n",
    "\n",
    "\n",
    "# for i in range(len(df)):\n",
    "#     chart.annotate(str(df[i]), xy=(i, df[i]),horizontalalignment = 'center',fontsize=20);\n",
    "\n",
    "\n",
    "chart.set(ylabel=\"Age\", xlabel = \"Percent of 100\")\n",
    "\n",
    "plt.figure(figsize = (15,8))\n",
    "\n",
    "chart.set_titles(col_template= '{col_name}',fontsize='14');\n",
    "\n",
    "\n",
    "\n",
    "#set font size \n",
    "# sns.set(font_scale=1.5)\n",
    "#sns.set(font_scale=2)\n",
    "#plt.figure(figsize = (15,8))\n",
    "\n",
    "plt.savefig('Days_On_Site_comparison nodup.png', dpi=300)\n",
    "sns.set(rc = {'figure.figsize':(15,8)})\n",
    "\n",
    "# # for legend text\n",
    "# plt.setp(chart.get_legend().get_texts(), fontsize='13') \n",
    " \n",
    "# # for legend title\n",
    "# plt.setp(chart.get_legend().get_title(), fontsize='14') \n",
    "plt.show()\n",
    "#combined.info()"
   ]
  },
  {
   "cell_type": "markdown",
   "id": "c423239d",
   "metadata": {},
   "source": [
    "### Cheap "
   ]
  },
  {
   "cell_type": "code",
   "execution_count": 57,
   "id": "fa093b6f",
   "metadata": {},
   "outputs": [
    {
     "name": "stdout",
     "output_type": "stream",
     "text": [
      "<class 'pandas.core.frame.DataFrame'>\n",
      "Int64Index: 12 entries, 37 to 34\n",
      "Data columns (total 4 columns):\n",
      " #   Column               Non-Null Count  Dtype  \n",
      "---  ------               --------------  -----  \n",
      " 0   cluster_name         12 non-null     object \n",
      " 1   New_Category_Name_2  12 non-null     object \n",
      " 2   revenue_pct          12 non-null     float64\n",
      " 3   Item_Number          12 non-null     int64  \n",
      "dtypes: float64(1), int64(1), object(2)\n",
      "memory usage: 480.0+ bytes\n"
     ]
    }
   ],
   "source": [
    "# Cheap\n",
    "Moderately_Priced_df = cluster_revenue_pct.loc[cluster_revenue_pct.cluster_name == 'Moderately Priced',['cluster_name','New_Category_Name_2','revenue_pct','Item_Number']].sort_values(by='revenue_pct',ascending=False)\n",
    "Moderately_Priced_df.info()"
   ]
  },
  {
   "cell_type": "code",
   "execution_count": null,
   "id": "30212d83",
   "metadata": {},
   "outputs": [],
   "source": [
    "# sns.set(font_scale=1.5)\n",
    "# sns.set(rc = {'figure.figsize':(15,8)},font_scale=1.5)\n",
    "# sns.set_color_codes(\"pastel\")\n",
    "# bar = sns.barplot(x=\"revenue_pct\", y=\"New_Category_Name_2\", data=Moderately_Priced_df,\n",
    "#             label=\"Total\", color=\"b\")\n",
    "# # bar.set(xlim=(0,100),ylabel='Store Type',xlabel='Percent of Cluster')\n",
    "# bar.set_xlabel('Percent of 100',fontsize=15)\n",
    "# bar.set_ylabel('Category',fontsize=15)\n",
    "   \n",
    "# bar.set(xlim=(0,100))\n",
    "# bar.set(title='Moderately Priced')\n"
   ]
  },
  {
   "cell_type": "code",
   "execution_count": 58,
   "id": "583cb5a5",
   "metadata": {},
   "outputs": [],
   "source": [
    "def make_bar(df, title=None):    \n",
    "    sns.set(font_scale=1.5)\n",
    "    sns.set(rc = {'figure.figsize':(15,8)},font_scale=1.5)\n",
    "    sns.set_color_codes(\"pastel\")\n",
    "    bar = sns.barplot(x=\"revenue_pct\", y=\"New_Category_Name_2\", data=df,\n",
    "                label=\"Total\", color=\"b\")\n",
    "    # bar.set(xlim=(0,100),ylabel='Store Type',xlabel='Percent of Cluster')\n",
    "    bar.set_xlabel('Percent of Cluster Total Revenue ',fontsize=15)\n",
    "    bar.set_ylabel('Category',fontsize=15)\n",
    "\n",
    "    bar.set(xlim=(0,100))\n",
    "    if title:\n",
    "        bar.axes.set_title(title,fontsize=25)\n"
   ]
  },
  {
   "cell_type": "code",
   "execution_count": 59,
   "id": "c5ec65c7",
   "metadata": {},
   "outputs": [
    {
     "data": {
      "image/png": "[encoded data removed]",
      "text/plain": [
       "<Figure size 1080x576 with 1 Axes>"
      ]
     },
     "metadata": {},
     "output_type": "display_data"
    }
   ],
   "source": [
    "make_bar(Moderately_Priced_df,title='Moderately Priced')"
   ]
  },
  {
   "cell_type": "code",
   "execution_count": 60,
   "id": "c60368d8",
   "metadata": {},
   "outputs": [],
   "source": [
    "# High_End\n",
    "High_End = cluster_revenue_pct.loc[cluster_revenue_pct.cluster_name == 'High_End',['cluster_name','New_Category_Name_2','revenue_pct','Item_Number']].sort_values(by='revenue_pct',ascending=False)"
   ]
  },
  {
   "cell_type": "code",
   "execution_count": 62,
   "id": "c7e7ea54",
   "metadata": {},
   "outputs": [],
   "source": [
    "# make_bar(High_End.loc[High_End.revenue_pct >= 1],title='High End')"
   ]
  },
  {
   "cell_type": "code",
   "execution_count": 64,
   "id": "88fa8884",
   "metadata": {},
   "outputs": [],
   "source": [
    "# Moderately_High\n",
    "Expensive = cluster_revenue_pct.loc[cluster_revenue_pct.cluster_name == 'Expensive',['cluster_name','New_Category_Name_2','revenue_pct','Item_Number']].sort_values(by='revenue_pct',ascending=False)"
   ]
  },
  {
   "cell_type": "code",
   "execution_count": 65,
   "id": "5b436936",
   "metadata": {},
   "outputs": [
    {
     "data": {
      "image/png": "[encoded data removed]",
      "text/plain": [
       "<Figure size 1080x576 with 1 Axes>"
      ]
     },
     "metadata": {},
     "output_type": "display_data"
    }
   ],
   "source": [
    "# bar(Expensive.loc[Expensive.revenue_pct >= 1],title='Expensive')\n",
    "make_bar(Expensive.loc[Expensive.revenue_pct >= 1],title='Expensive')"
   ]
  },
  {
   "cell_type": "code",
   "execution_count": null,
   "id": "a33b70c3",
   "metadata": {},
   "outputs": [],
   "source": [
    "type(bar)"
   ]
  },
  {
   "cell_type": "code",
   "execution_count": 66,
   "id": "f242b134",
   "metadata": {},
   "outputs": [],
   "source": [
    "# Most_Variety\n",
    "Most_Variety = cluster_revenue_pct.loc[cluster_revenue_pct.cluster_name == 'Most_Variety',['cluster_name','New_Category_Name_2','revenue_pct','Item_Number']].sort_values(by='revenue_pct',ascending=False)"
   ]
  },
  {
   "cell_type": "code",
   "execution_count": 68,
   "id": "5e420006",
   "metadata": {},
   "outputs": [],
   "source": [
    "# make_bar(Most_Variety,title='Most Variety')"
   ]
  },
  {
   "cell_type": "code",
   "execution_count": null,
   "id": "e1629c5a",
   "metadata": {},
   "outputs": [],
   "source": [
    "make_bar(Most_Variety,title='Most Variety')"
   ]
  },
  {
   "cell_type": "code",
   "execution_count": null,
   "id": "84858ac3",
   "metadata": {},
   "outputs": [],
   "source": [
    "make_bar(Most_Variety,title='Most Variety')"
   ]
  },
  {
   "cell_type": "code",
   "execution_count": null,
   "id": "c46eb8b5",
   "metadata": {},
   "outputs": [],
   "source": []
  },
  {
   "cell_type": "code",
   "execution_count": null,
   "id": "9cdac375",
   "metadata": {},
   "outputs": [],
   "source": [
    "# Popular_Bottles\n",
    "Popular_Bottles = cluster_revenue_pct.loc[cluster_revenue_pct.cluster_name == 'Popular_Bottles',['cluster_name','New_Category_Name_2','revenue_pct','Item_Number']].sort_values(by='revenue_pct',ascending=False)"
   ]
  },
  {
   "cell_type": "code",
   "execution_count": null,
   "id": "a0a4481e",
   "metadata": {},
   "outputs": [],
   "source": [
    "make_bar(Popular_Bottles.loc[Popular_Bottles.revenue_pct >= 1],title='Popular Bottles')"
   ]
  },
  {
   "cell_type": "code",
   "execution_count": null,
   "id": "94918a86",
   "metadata": {},
   "outputs": [],
   "source": [
    "# Quick_Shots\n",
    "Quick_Shots = cluster_revenue_pct.loc[cluster_revenue_pct.cluster_name == 'Quick_Shots',['cluster_name','New_Category_Name_2','revenue_pct','Item_Number']].sort_values(by='revenue_pct',ascending=False)"
   ]
  },
  {
   "cell_type": "code",
   "execution_count": null,
   "id": "e11a8a1c",
   "metadata": {},
   "outputs": [],
   "source": [
    "make_bar(Quick_Shots.loc[Quick_Shots.revenue_pct >= 0.5],title='Quick Shots')"
   ]
  },
  {
   "cell_type": "code",
   "execution_count": null,
   "id": "243d5cdf",
   "metadata": {},
   "outputs": [],
   "source": [
    "# Volume_For_Dollar\n",
    "Volume_For_Dollar = cluster_revenue_pct.loc[cluster_revenue_pct.cluster_name == 'Volume_For_Dollar',['cluster_name','New_Category_Name_2','revenue_pct','Item_Number']].sort_values(by='revenue_pct',ascending=False)"
   ]
  },
  {
   "cell_type": "code",
   "execution_count": null,
   "id": "c7d50887",
   "metadata": {},
   "outputs": [],
   "source": [
    "make_bar(Volume_For_Dollar,title='Volume For Dollar')"
   ]
  }
 ],
 "metadata": {
  "kernelspec": {
   "display_name": "Python 3 (ipykernel)",
   "language": "python",
   "name": "python3"
  },
  "language_info": {
   "codemirror_mode": {
    "name": "ipython",
    "version": 3
   },
   "file_extension": ".py",
   "mimetype": "text/x-python",
   "name": "python",
   "nbconvert_exporter": "python",
   "pygments_lexer": "ipython3",
   "version": "3.9.7"
  }
 },
 "nbformat": 4,
 "nbformat_minor": 5
}
